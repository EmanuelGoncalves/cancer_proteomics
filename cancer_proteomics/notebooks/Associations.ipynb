{
 "cells": [
  {
   "cell_type": "code",
   "execution_count": null,
   "metadata": {},
   "outputs": [],
   "source": [
    "%matplotlib inline\n",
    "%autosave 0\n",
    "%load_ext autoreload\n",
    "%autoreload 2"
   ]
  },
  {
   "cell_type": "code",
   "execution_count": null,
   "metadata": {
    "lines_to_next_cell": 2
   },
   "outputs": [],
   "source": [
    "import logging\n",
    "import pandas as pd\n",
    "import pkg_resources\n",
    "from scipy.stats import skew\n",
    "from crispy.DataImporter import PPI\n",
    "from sklearn.decomposition import PCA\n",
    "from crispy.LMModels import LMModels, LModel\n",
    "from cancer_proteomics.notebooks import DataImport"
   ]
  },
  {
   "cell_type": "code",
   "execution_count": null,
   "metadata": {
    "lines_to_next_cell": 2
   },
   "outputs": [],
   "source": [
    "LOG = logging.getLogger(\"cancer_proteomics\")\n",
    "DPATH = pkg_resources.resource_filename(\"data\", \"/\")\n",
    "PPIPATH = pkg_resources.resource_filename(\"data\", \"ppi/\")\n",
    "TPATH = pkg_resources.resource_filename(\"tables\", \"/\")\n",
    "RPATH = pkg_resources.resource_filename(\"cancer_proteomics\", \"plots/\")"
   ]
  },
  {
   "cell_type": "markdown",
   "metadata": {},
   "source": [
    "### Imports"
   ]
  },
  {
   "cell_type": "code",
   "execution_count": null,
   "metadata": {},
   "outputs": [],
   "source": [
    "# PPI\n",
    "ppi = PPI(ddir=PPIPATH).build_string_ppi(score_thres=900)"
   ]
  },
  {
   "cell_type": "code",
   "execution_count": null,
   "metadata": {},
   "outputs": [],
   "source": [
    "# Read samplesheet\n",
    "ss = DataImport.read_samplesheet()"
   ]
  },
  {
   "cell_type": "code",
   "execution_count": null,
   "metadata": {},
   "outputs": [],
   "source": [
    "# Read proteomics (Proteins x Cell lines)\n",
    "prot = DataImport.read_protein_matrix(map_protein=True, min_measurements=300)"
   ]
  },
  {
   "cell_type": "code",
   "execution_count": null,
   "metadata": {},
   "outputs": [],
   "source": [
    "# Read Transcriptomics\n",
    "gexp = DataImport.read_gene_matrix()"
   ]
  },
  {
   "cell_type": "code",
   "execution_count": null,
   "metadata": {},
   "outputs": [],
   "source": [
    "# Read CRISPR\n",
    "crispr = DataImport.read_crispr_matrix()\n",
    "crispr_institute = DataImport.read_crispr_institute()\n",
    "crispr_skew = crispr.apply(skew, axis=1, nan_policy=\"omit\").astype(float)"
   ]
  },
  {
   "cell_type": "code",
   "execution_count": null,
   "metadata": {
    "lines_to_next_cell": 2
   },
   "outputs": [],
   "source": [
    "# Read Drug-response\n",
    "drespo = DataImport.read_drug_response(min_measurements=300)\n",
    "dtargets = DataImport.read_drug_target()\n",
    "drespo_skew = drespo.apply(skew, axis=1, nan_policy=\"omit\").astype(float)"
   ]
  },
  {
   "cell_type": "markdown",
   "metadata": {},
   "source": [
    "### Gene expression dimension reduction"
   ]
  },
  {
   "cell_type": "code",
   "execution_count": null,
   "metadata": {
    "lines_to_next_cell": 2
   },
   "outputs": [],
   "source": [
    "gexp_pca = pd.DataFrame(\n",
    "    PCA(n_components=10).fit_transform(gexp.T), index=gexp.columns\n",
    ").add_prefix(\"PC\")"
   ]
  },
  {
   "cell_type": "markdown",
   "metadata": {},
   "source": [
    "### Linear regressions"
   ]
  },
  {
   "cell_type": "code",
   "execution_count": null,
   "metadata": {},
   "outputs": [],
   "source": [
    "X = LMModels.transform_matrix(prot, t_type=\"None\", fillna_func=None).T\n",
    "M2 = LMModels.transform_matrix(gexp, t_type=\"None\").T\n",
    "features = set.intersection(set(X), set(M2))"
   ]
  },
  {
   "cell_type": "code",
   "execution_count": null,
   "metadata": {},
   "outputs": [],
   "source": [
    "# ## Drug response\n",
    "Y = LMModels.transform_matrix(drespo, t_type=\"None\").T"
   ]
  },
  {
   "cell_type": "code",
   "execution_count": null,
   "metadata": {},
   "outputs": [],
   "source": [
    "# Covariates with and without gene expression (transcript and PCA) as covariates\n",
    "covs_drug = (\n",
    "    pd.concat(\n",
    "        [\n",
    "            ss[\"media\"].str.get_dummies(),\n",
    "            drespo.mean().rename(\"MeanIC50\"),\n",
    "            ss[\"growth_properties\"].str.get_dummies(),\n",
    "            ss[[\"replicates_correlation\", \"growth\", \"ploidy\"]],\n",
    "            ss[\"tissue\"].str.get_dummies()[\"Haematopoietic and Lymphoid\"],\n",
    "        ],\n",
    "        axis=1,\n",
    "    )\n",
    "    .reindex(index=prot.columns)\n",
    "    .dropna()\n",
    ")"
   ]
  },
  {
   "cell_type": "code",
   "execution_count": null,
   "metadata": {},
   "outputs": [],
   "source": [
    "M_without_gexp = pd.concat([covs_drug], axis=1).dropna()\n",
    "M_with_gexp = pd.concat([covs_drug, gexp_pca], axis=1).dropna()"
   ]
  },
  {
   "cell_type": "code",
   "execution_count": null,
   "metadata": {},
   "outputs": [],
   "source": [
    "# Overlapping samples\n",
    "samples = set.intersection(\n",
    "    set(Y.index), set(X.index), set(M_with_gexp.index), set(M2.index)\n",
    ")"
   ]
  },
  {
   "cell_type": "code",
   "execution_count": null,
   "metadata": {},
   "outputs": [],
   "source": [
    "# Associations without gene expression as covaraites\n",
    "lm_prot_drug = LModel(\n",
    "    Y=Y.loc[samples], X=X.loc[samples, features], M=M_without_gexp.loc[samples]\n",
    ").fit_matrix()\n",
    "lm_prot_drug = LMModels.multipletests(lm_prot_drug).sort_values(\"fdr\")"
   ]
  },
  {
   "cell_type": "code",
   "execution_count": null,
   "metadata": {},
   "outputs": [],
   "source": [
    "# Associations with gene expression as covariate\n",
    "lm_prot_drug_gexp = LModel(\n",
    "    Y=Y.loc[samples],\n",
    "    X=X.loc[samples, features],\n",
    "    M=M_with_gexp.loc[samples],\n",
    "    M2=M2.loc[samples, features],\n",
    ").fit_matrix()\n",
    "lm_prot_drug_gexp = LMModels.multipletests(lm_prot_drug_gexp).sort_values(\"fdr\")"
   ]
  },
  {
   "cell_type": "code",
   "execution_count": null,
   "metadata": {},
   "outputs": [],
   "source": [
    "# Merge associations\n",
    "lm_drug = pd.concat(\n",
    "    [\n",
    "        lm_prot_drug_gexp.set_index([\"y_id\", \"x_id\"]),\n",
    "        lm_prot_drug.set_index([\"y_id\", \"x_id\"])[\n",
    "            [\"beta\", \"lr\", \"pval\", \"fdr\"]\n",
    "        ].add_prefix(\"nc_\"),\n",
    "    ],\n",
    "    axis=1,\n",
    ").reset_index()"
   ]
  },
  {
   "cell_type": "code",
   "execution_count": null,
   "metadata": {},
   "outputs": [],
   "source": [
    "# Annotate merged table\n",
    "lm_drug = DataImport.lm_ppi_annotate_table(\n",
    "    lm_drug, ppi, drespo_skew, drug_targets=dtargets\n",
    ")\n",
    "lm_drug = lm_drug.sort_values(\"fdr\")\n",
    "lm_drug.to_csv(\n",
    "    f\"{RPATH}/lm_sklearn_degr_drug_annotated.csv.gz\", compression=\"gzip\", index=False\n",
    ")"
   ]
  },
  {
   "cell_type": "code",
   "execution_count": null,
   "metadata": {},
   "outputs": [],
   "source": [
    "# ## CRISPR\n",
    "Y = LMModels.transform_matrix(crispr, t_type=\"None\").T"
   ]
  },
  {
   "cell_type": "code",
   "execution_count": null,
   "metadata": {},
   "outputs": [],
   "source": [
    "# Covariates with and without gene expression (transcript and PCA) as covariates\n",
    "covs_crispr = (\n",
    "    pd.concat(\n",
    "        [\n",
    "            ss[\"media\"].str.get_dummies(),\n",
    "            crispr_institute.str.get_dummies(),\n",
    "            ss[\"growth_properties\"].str.get_dummies(),\n",
    "            ss[[\"replicates_correlation\", \"growth\", \"ploidy\"]],\n",
    "            ss[\"tissue\"].str.get_dummies()[\"Haematopoietic and Lymphoid\"],\n",
    "        ],\n",
    "        axis=1,\n",
    "    )\n",
    "    .reindex(index=prot.columns)\n",
    "    .dropna()\n",
    ")"
   ]
  },
  {
   "cell_type": "code",
   "execution_count": null,
   "metadata": {},
   "outputs": [],
   "source": [
    "M_without_gexp = pd.concat([covs_crispr], axis=1).dropna()\n",
    "M_with_gexp = pd.concat([covs_crispr, gexp_pca], axis=1).dropna()"
   ]
  },
  {
   "cell_type": "code",
   "execution_count": null,
   "metadata": {},
   "outputs": [],
   "source": [
    "# Overlapping samples\n",
    "samples = set.intersection(\n",
    "    set(Y.index), set(X.index), set(M_with_gexp.index), set(M2.index)\n",
    ")"
   ]
  },
  {
   "cell_type": "code",
   "execution_count": null,
   "metadata": {},
   "outputs": [],
   "source": [
    "# Associations without gene expression\n",
    "lm_prot_crispr = LModel(\n",
    "    Y=Y.loc[samples], X=X.loc[samples, features], M=M_without_gexp.loc[samples]\n",
    ").fit_matrix()"
   ]
  },
  {
   "cell_type": "code",
   "execution_count": null,
   "metadata": {},
   "outputs": [],
   "source": [
    "# Associations with gene expression as covariate\n",
    "lm_prot_crispr_gexp = LModel(\n",
    "    Y=Y.loc[samples],\n",
    "    X=X.loc[samples, features],\n",
    "    M=M_with_gexp.loc[samples],\n",
    "    M2=M2.loc[samples, features],\n",
    ").fit_matrix()"
   ]
  },
  {
   "cell_type": "code",
   "execution_count": null,
   "metadata": {},
   "outputs": [],
   "source": [
    "# Merge associations\n",
    "lm_crispr = pd.concat(\n",
    "    [\n",
    "        lm_prot_crispr_gexp.set_index([\"y_id\", \"x_id\"]),\n",
    "        lm_prot_crispr.set_index([\"y_id\", \"x_id\"])[\n",
    "            [\"beta\", \"lr\", \"pval\", \"fdr\"]\n",
    "        ].add_prefix(\"nc_\"),\n",
    "    ],\n",
    "    axis=1,\n",
    ").reset_index()"
   ]
  },
  {
   "cell_type": "code",
   "execution_count": null,
   "metadata": {},
   "outputs": [],
   "source": [
    "# Annotate merged table\n",
    "lm_crispr = DataImport.lm_ppi_annotate_table(lm_crispr, ppi, crispr_skew)\n",
    "lm_crispr = lm_crispr.sort_values(\"fdr\")\n",
    "lm_crispr.to_csv(\n",
    "    f\"{RPATH}/lm_sklearn_degr_crispr_annotated.csv.gz\", compression=\"gzip\", index=False\n",
    ")"
   ]
  }
 ],
 "metadata": {
  "jupytext": {
   "formats": "ipynb,py:light"
  },
  "kernelspec": {
   "display_name": "Python 3",
   "language": "python",
   "name": "python3"
  }
 },
 "nbformat": 4,
 "nbformat_minor": 4
}
