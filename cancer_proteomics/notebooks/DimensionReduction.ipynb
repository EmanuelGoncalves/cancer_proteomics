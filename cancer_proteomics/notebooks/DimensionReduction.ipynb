{
 "cells": [
  {
   "cell_type": "code",
   "execution_count": null,
   "metadata": {},
   "outputs": [],
   "source": [
    "%matplotlib inline\n",
    "%autosave 0\n",
    "%load_ext autoreload\n",
    "%autoreload 2"
   ]
  },
  {
   "cell_type": "code",
   "execution_count": null,
   "metadata": {
    "lines_to_next_cell": 2
   },
   "outputs": [],
   "source": [
    "import logging\n",
    "import numpy as np\n",
    "import pandas as pd\n",
    "import pkg_resources\n",
    "import seaborn as sns\n",
    "import matplotlib.pyplot as plt\n",
    "from crispy.CrispyPlot import CrispyPlot\n",
    "from cancer_proteomics.notebooks import DataImport, DimReduction, two_vars_correlation"
   ]
  },
  {
   "cell_type": "code",
   "execution_count": null,
   "metadata": {
    "lines_to_next_cell": 2
   },
   "outputs": [],
   "source": [
    "LOG = logging.getLogger(\"cancer_proteomics\")\n",
    "DPATH = pkg_resources.resource_filename(\"data\", \"/\")\n",
    "TPATH = pkg_resources.resource_filename(\"tables\", \"/\")\n",
    "RPATH = pkg_resources.resource_filename(\"cancer_proteomics\", \"plots/\")"
   ]
  },
  {
   "cell_type": "markdown",
   "metadata": {},
   "source": [
    "### Imports"
   ]
  },
  {
   "cell_type": "code",
   "execution_count": null,
   "metadata": {},
   "outputs": [],
   "source": [
    "# Read samplesheet\n",
    "ss = DataImport.read_samplesheet()"
   ]
  },
  {
   "cell_type": "code",
   "execution_count": null,
   "metadata": {},
   "outputs": [],
   "source": [
    "# Read proteomics (Proteins x Cell lines)\n",
    "prot = DataImport.read_protein_matrix()"
   ]
  },
  {
   "cell_type": "code",
   "execution_count": null,
   "metadata": {
    "lines_to_next_cell": 2
   },
   "outputs": [],
   "source": [
    "# Read Transcriptomics\n",
    "gexp = DataImport.read_gene_matrix()"
   ]
  },
  {
   "cell_type": "markdown",
   "metadata": {},
   "source": [
    "### Dimension reduction"
   ]
  },
  {
   "cell_type": "code",
   "execution_count": null,
   "metadata": {},
   "outputs": [],
   "source": [
    "# Run PCA and tSNE\n",
    "prot_dimred = DimReduction.dim_reduction(prot)"
   ]
  },
  {
   "cell_type": "code",
   "execution_count": null,
   "metadata": {},
   "outputs": [],
   "source": [
    "# Plot cell lines in 2D coloured by tissue type\n",
    "fig, ax = plt.subplots(figsize=(3.0, 3.0), dpi=600)"
   ]
  },
  {
   "cell_type": "code",
   "execution_count": null,
   "metadata": {},
   "outputs": [],
   "source": [
    "DimReduction.plot_dim_reduction(\n",
    "    prot_dimred, ctype=\"tsne\", hue_by=ss[\"tissue\"], palette=CrispyPlot.PAL_TISSUE, ax=ax\n",
    ")"
   ]
  },
  {
   "cell_type": "code",
   "execution_count": null,
   "metadata": {
    "lines_to_next_cell": 2
   },
   "outputs": [],
   "source": [
    "plt.savefig(f\"{RPATH}/DimensionReduction_Proteomics_tSNE.pdf\", bbox_inches=\"tight\")\n",
    "plt.savefig(f\"{RPATH}/DimensionReduction_Proteomics_tSNE.png\", bbox_inches=\"tight\")\n",
    "plt.close(\"all\")"
   ]
  },
  {
   "cell_type": "markdown",
   "metadata": {},
   "source": [
    "### Covariates"
   ]
  },
  {
   "cell_type": "code",
   "execution_count": null,
   "metadata": {},
   "outputs": [],
   "source": [
    "covariates = pd.concat(\n",
    "    [\n",
    "        ss[\"CopyNumberAttenuation\"],\n",
    "        ss[\"GeneExpressionAttenuation\"],\n",
    "        ss[\"EMT\"],\n",
    "        ss[\"Proteasome\"],\n",
    "        ss[\"TranslationInitiation\"],\n",
    "        ss[\"CopyNumberInstability\"],\n",
    "        prot.loc[[\"CADH1_HUMAN\", \"VIME_HUMAN\"]].T.add_suffix(\"_prot\"),\n",
    "        gexp.loc[[\"CDH1\", \"VIM\"]].T.add_suffix(\"_gexp\"),\n",
    "        pd.get_dummies(ss[\"media\"]),\n",
    "        pd.get_dummies(ss[\"growth_properties\"]),\n",
    "        pd.get_dummies(ss[\"tissue\"])[[\"Haematopoietic and Lymphoid\", \"Lung\"]],\n",
    "        ss[[\"ploidy\", \"mutational_burden\", \"growth\", \"size\"]],\n",
    "        ss[\"replicates_correlation\"].rename(\"RepsCorrelation\"),\n",
    "    ],\n",
    "    axis=1,\n",
    ")"
   ]
  },
  {
   "cell_type": "code",
   "execution_count": null,
   "metadata": {},
   "outputs": [],
   "source": [
    "# Plot\n",
    "n_pcs = 30\n",
    "pcs_order = DimReduction.pc_labels(n_pcs)"
   ]
  },
  {
   "cell_type": "code",
   "execution_count": null,
   "metadata": {},
   "outputs": [],
   "source": [
    "# Covariates correlation\n",
    "covs_corr = (\n",
    "    pd.DataFrame(\n",
    "        [\n",
    "            {\n",
    "                **two_vars_correlation(prot_dimred[\"pcs\"][pc], covariates[c]),\n",
    "                **dict(pc=pc, covariate=c),\n",
    "            }\n",
    "            for pc in pcs_order\n",
    "            for c in covariates\n",
    "        ]\n",
    "    )\n",
    "    .sort_values(\"pval\")\n",
    "    .dropna()\n",
    ")"
   ]
  },
  {
   "cell_type": "code",
   "execution_count": null,
   "metadata": {},
   "outputs": [],
   "source": [
    "# Plot\n",
    "df_vexp = prot_dimred[\"vexp\"][pcs_order]\n",
    "df_corr = pd.pivot_table(covs_corr, index=\"covariate\", columns=\"pc\", values=\"corr\").loc[\n",
    "    covariates.columns, pcs_order\n",
    "]"
   ]
  },
  {
   "cell_type": "code",
   "execution_count": null,
   "metadata": {},
   "outputs": [],
   "source": [
    "f, (axb, axh) = plt.subplots(\n",
    "    2,\n",
    "    1,\n",
    "    sharex=\"col\",\n",
    "    sharey=\"row\",\n",
    "    figsize=(n_pcs * 0.225, df_corr.shape[0] * 0.225 + 0.5),\n",
    "    gridspec_kw=dict(height_ratios=[1, 4]),\n",
    "    dpi=600,\n",
    ")"
   ]
  },
  {
   "cell_type": "code",
   "execution_count": null,
   "metadata": {},
   "outputs": [],
   "source": [
    "axb.bar(np.arange(n_pcs) + 0.5, df_vexp, color=CrispyPlot.PAL_DTRACE[2], linewidth=0)\n",
    "axb.set_yticks(np.arange(0, df_vexp.max() + 0.05, 0.05))\n",
    "axb.set_title(f\"Principal component analysis\")\n",
    "axb.set_ylabel(\"Total variance\")"
   ]
  },
  {
   "cell_type": "code",
   "execution_count": null,
   "metadata": {},
   "outputs": [],
   "source": [
    "axb_twin = axb.twinx()\n",
    "axb_twin.scatter(\n",
    "    np.arange(n_pcs) + 0.5, df_vexp.cumsum(), c=CrispyPlot.PAL_DTRACE[1], s=6\n",
    ")\n",
    "axb_twin.plot(\n",
    "    np.arange(n_pcs) + 0.5,\n",
    "    df_vexp.cumsum(),\n",
    "    lw=0.5,\n",
    "    ls=\"--\",\n",
    "    c=CrispyPlot.PAL_DTRACE[1],\n",
    ")\n",
    "axb_twin.set_yticks(np.arange(0, df_vexp.cumsum().max() + 0.1, 0.1))\n",
    "axb_twin.set_ylabel(\"Cumulative variance\")"
   ]
  },
  {
   "cell_type": "code",
   "execution_count": null,
   "metadata": {},
   "outputs": [],
   "source": [
    "g = sns.heatmap(\n",
    "    df_corr,\n",
    "    cmap=\"Spectral\",\n",
    "    annot=True,\n",
    "    cbar=False,\n",
    "    fmt=\".2f\",\n",
    "    linewidths=0.3,\n",
    "    ax=axh,\n",
    "    center=0,\n",
    "    annot_kws={\"fontsize\": 5},\n",
    ")\n",
    "axh.set_xlabel(\"Principal components\")\n",
    "axh.set_ylabel(\"\")"
   ]
  },
  {
   "cell_type": "code",
   "execution_count": null,
   "metadata": {},
   "outputs": [],
   "source": [
    "plt.subplots_adjust(hspace=0.01)\n",
    "plt.savefig(\n",
    "    f\"{RPATH}/DimensionReduction_Proteomics_PCA_heatmap.pdf\", bbox_inches=\"tight\"\n",
    ")\n",
    "plt.savefig(\n",
    "    f\"{RPATH}/DimensionReduction_Proteomics_PCA_heatmap.png\", bbox_inches=\"tight\"\n",
    ")\n",
    "plt.close(\"all\")"
   ]
  }
 ],
 "metadata": {
  "jupytext": {
   "formats": "ipynb,py:light"
  },
  "kernelspec": {
   "display_name": "Python 3",
   "language": "python",
   "name": "python3"
  }
 },
 "nbformat": 4,
 "nbformat_minor": 4
}
