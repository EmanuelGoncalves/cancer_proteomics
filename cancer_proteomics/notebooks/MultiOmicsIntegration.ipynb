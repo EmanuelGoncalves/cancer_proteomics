{
 "cells": [
  {
   "cell_type": "code",
   "execution_count": null,
   "metadata": {},
   "outputs": [],
   "source": [
    "%matplotlib inline\n",
    "%autosave 0\n",
    "%load_ext autoreload\n",
    "%autoreload 2"
   ]
  },
  {
   "cell_type": "code",
   "execution_count": null,
   "metadata": {
    "lines_to_next_cell": 2
   },
   "outputs": [],
   "source": [
    "import logging\n",
    "import numpy as np\n",
    "import pandas as pd\n",
    "import pkg_resources\n",
    "import seaborn as sns\n",
    "import numpy.ma as ma\n",
    "import itertools as it\n",
    "import matplotlib.pyplot as plt\n",
    "from natsort import natsorted\n",
    "from crispy.GIPlot import GIPlot\n",
    "from adjustText import adjust_text\n",
    "from crispy.MOFA import MOFA, MOFAPlot\n",
    "from sklearn.metrics.ranking import auc\n",
    "from crispy.Enrichment import Enrichment\n",
    "from crispy.CrispyPlot import CrispyPlot\n",
    "from scipy.stats import pearsonr, spearmanr\n",
    "from sklearn.mixture import GaussianMixture\n",
    "from statsmodels.stats.multitest import multipletests\n",
    "from mpl_toolkits.axes_grid1.inset_locator import inset_axes\n",
    "from cancer_proteomics.notebooks import DataImport, two_vars_correlation\n",
    "from crispy.DataImporter import (\n",
    "    CORUM,\n",
    "    BioGRID,\n",
    "    PPI,\n",
    "    HuRI,\n",
    ")"
   ]
  },
  {
   "cell_type": "code",
   "execution_count": null,
   "metadata": {
    "lines_to_next_cell": 2
   },
   "outputs": [],
   "source": [
    "LOG = logging.getLogger(\"cancer_proteomics\")\n",
    "DPATH = pkg_resources.resource_filename(\"data\", \"/\")\n",
    "PPIPATH = pkg_resources.resource_filename(\"data\", \"ppi/\")\n",
    "TPATH = pkg_resources.resource_filename(\"tables\", \"/\")\n",
    "RPATH = pkg_resources.resource_filename(\"cancer_proteomics\", \"plots/\")"
   ]
  },
  {
   "cell_type": "markdown",
   "metadata": {},
   "source": [
    "### Imports"
   ]
  },
  {
   "cell_type": "code",
   "execution_count": null,
   "metadata": {},
   "outputs": [],
   "source": [
    "# Read samplesheet\n",
    "ss = DataImport.read_samplesheet()"
   ]
  },
  {
   "cell_type": "code",
   "execution_count": null,
   "metadata": {},
   "outputs": [],
   "source": [
    "# Read proteomics (Proteins x Cell lines)\n",
    "prot = DataImport.read_protein_matrix(map_protein=True)"
   ]
  },
  {
   "cell_type": "code",
   "execution_count": null,
   "metadata": {},
   "outputs": [],
   "source": [
    "# Read Transcriptomics\n",
    "gexp = DataImport.read_gene_matrix()"
   ]
  },
  {
   "cell_type": "code",
   "execution_count": null,
   "metadata": {},
   "outputs": [],
   "source": [
    "# Read CRISPR\n",
    "crispr = DataImport.read_crispr_matrix()"
   ]
  },
  {
   "cell_type": "code",
   "execution_count": null,
   "metadata": {},
   "outputs": [],
   "source": [
    "# Read Methylation\n",
    "methy = DataImport.read_methylation_matrix()"
   ]
  },
  {
   "cell_type": "code",
   "execution_count": null,
   "metadata": {},
   "outputs": [],
   "source": [
    "# Read Drug-response\n",
    "drespo = DataImport.read_drug_response()\n",
    "drespo = drespo.set_index(pd.Series([\";\".join(map(str, i)) for i in drespo.index]))"
   ]
  },
  {
   "cell_type": "code",
   "execution_count": null,
   "metadata": {
    "lines_to_next_cell": 2
   },
   "outputs": [],
   "source": [
    "dmaxc = DataImport.read_drug_max_concentration()\n",
    "dmaxc.index = [\";\".join(map(str, i)) for i in dmaxc.index]\n",
    "dmaxc = dmaxc.reindex(drespo.index)"
   ]
  },
  {
   "cell_type": "markdown",
   "metadata": {},
   "source": [
    "### Covariates"
   ]
  },
  {
   "cell_type": "code",
   "execution_count": null,
   "metadata": {},
   "outputs": [],
   "source": [
    "covariates = pd.concat(\n",
    "    [\n",
    "        ss[\"CopyNumberAttenuation\"],\n",
    "        ss[\"GeneExpressionAttenuation\"],\n",
    "        ss[\"EMT\"],\n",
    "        ss[\"Proteasome\"],\n",
    "        ss[\"TranslationInitiation\"],\n",
    "        ss[\"CopyNumberInstability\"],\n",
    "        prot.loc[[\"CDH1\", \"VIM\"]].T.add_suffix(\"_prot\"),\n",
    "        gexp.loc[[\"CDH1\", \"VIM\"]].T.add_suffix(\"_gexp\"),\n",
    "        pd.get_dummies(ss[\"media\"]),\n",
    "        pd.get_dummies(ss[\"growth_properties\"]),\n",
    "        pd.get_dummies(ss[\"tissue\"])[[\"Haematopoietic and Lymphoid\", \"Lung\"]],\n",
    "        ss[[\"ploidy\", \"mutational_burden\", \"growth\", \"size\"]],\n",
    "        ss[\"replicates_correlation\"].rename(\"RepsCorrelation\"),\n",
    "    ],\n",
    "    axis=1,\n",
    ")"
   ]
  },
  {
   "cell_type": "code",
   "execution_count": null,
   "metadata": {},
   "outputs": [],
   "source": [
    "# ### MOFA\n",
    "#\n",
    "groupby = ss.loc[prot.columns, \"tissue\"].apply(lambda v: \"Haem\" if v == \"Haematopoietic and Lymphoid\" else \"Other\")"
   ]
  },
  {
   "cell_type": "code",
   "execution_count": null,
   "metadata": {
    "lines_to_next_cell": 2
   },
   "outputs": [],
   "source": [
    "mofa = MOFA(\n",
    "    views=dict(\n",
    "        proteomics=prot,\n",
    "        transcriptomics=gexp,\n",
    "        methylation=methy,\n",
    "        drespo=drespo,\n",
    "    ),\n",
    "    groupby=groupby,\n",
    "    iterations=2000,\n",
    "    use_overlap=False,\n",
    "    convergence_mode=\"fast\",\n",
    "    factors_n=20,\n",
    "    from_file=f\"{TPATH}/MultiOmics.hdf5\",\n",
    "    verbose=2,\n",
    ")"
   ]
  },
  {
   "cell_type": "code",
   "execution_count": null,
   "metadata": {},
   "outputs": [],
   "source": [
    "# ### Factors integrated with other measurements\n",
    "#\n",
    "n_factors_corr = {}\n",
    "for f in mofa.factors:\n",
    "    n_factors_corr[f] = {}\n",
    "\n",
    "    for c in covariates:\n",
    "        fc_samples = list(covariates.reindex(mofa.factors[f].index)[c].dropna().index)\n",
    "        n_factors_corr[f][c] = pearsonr(mofa.factors[f][fc_samples], covariates[c][fc_samples])[0]\n",
    "n_factors_corr = pd.DataFrame(n_factors_corr)"
   ]
  },
  {
   "cell_type": "code",
   "execution_count": null,
   "metadata": {},
   "outputs": [],
   "source": [
    "# Factor clustermap\n",
    "MOFAPlot.factors_corr_clustermap(mofa)\n",
    "plt.savefig(\n",
    "    f\"{RPATH}/MultiOmics_factors_corr_clustermap.pdf\", bbox_inches=\"tight\",\n",
    ")\n",
    "plt.savefig(\n",
    "    f\"{RPATH}/MultiOmics_factors_corr_clustermap.png\", bbox_inches=\"tight\", dpi=600,\n",
    ")\n",
    "plt.close(\"all\")"
   ]
  },
  {
   "cell_type": "code",
   "execution_count": null,
   "metadata": {},
   "outputs": [],
   "source": [
    "# Variance explained across data-sets\n",
    "MOFAPlot.variance_explained_heatmap(mofa)\n",
    "plt.savefig(\n",
    "    f\"{RPATH}/MultiOmics_factors_corr_clustermap.pdf\", bbox_inches=\"tight\",\n",
    ")\n",
    "plt.savefig(\n",
    "    f\"{RPATH}/MultiOmics_factors_corr_clustermap.png\", bbox_inches=\"tight\", dpi=600,\n",
    ")\n",
    "plt.close(\"all\")"
   ]
  },
  {
   "cell_type": "code",
   "execution_count": null,
   "metadata": {},
   "outputs": [],
   "source": [
    "# Covairates correlation heatmap\n",
    "MOFAPlot.covariates_heatmap(n_factors_corr, mofa, ss[\"tissue\"])\n",
    "plt.savefig(\n",
    "    f\"{RPATH}/MultiOmics_factors_covariates_clustermap.pdf\",\n",
    "    bbox_inches=\"tight\",\n",
    ")\n",
    "plt.savefig(\n",
    "    f\"{RPATH}/MultiOmics_factors_covariates_clustermap.png\",\n",
    "    bbox_inches=\"tight\",\n",
    "    dpi=600,\n",
    ")\n",
    "plt.close(\"all\")"
   ]
  }
 ],
 "metadata": {
  "jupytext": {
   "formats": "ipynb,py:light"
  },
  "kernelspec": {
   "display_name": "Python 3",
   "language": "python",
   "name": "python3"
  }
 },
 "nbformat": 4,
 "nbformat_minor": 4
}
