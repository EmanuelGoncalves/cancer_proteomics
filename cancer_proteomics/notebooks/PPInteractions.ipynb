{
 "cells": [
  {
   "cell_type": "code",
   "execution_count": null,
   "metadata": {},
   "outputs": [],
   "source": [
    "%matplotlib inline\n",
    "%autosave 0\n",
    "%load_ext autoreload\n",
    "%autoreload 2"
   ]
  },
  {
   "cell_type": "code",
   "execution_count": null,
   "metadata": {
    "lines_to_next_cell": 2
   },
   "outputs": [],
   "source": [
    "import logging\n",
    "import numpy as np\n",
    "import pandas as pd\n",
    "import pkg_resources\n",
    "import seaborn as sns\n",
    "import numpy.ma as ma\n",
    "import itertools as it\n",
    "import matplotlib.pyplot as plt\n",
    "from natsort import natsorted\n",
    "from crispy.GIPlot import GIPlot\n",
    "from scipy.stats import pearsonr, spearmanr\n",
    "from adjustText import adjust_text\n",
    "from sklearn.metrics.ranking import auc\n",
    "from crispy.Enrichment import Enrichment\n",
    "from crispy.CrispyPlot import CrispyPlot\n",
    "from sklearn.mixture import GaussianMixture\n",
    "from statsmodels.stats.multitest import multipletests\n",
    "from mpl_toolkits.axes_grid1.inset_locator import inset_axes\n",
    "from cancer_proteomics.notebooks import DataImport, two_vars_correlation\n",
    "from crispy.DataImporter import (\n",
    "    CORUM,\n",
    "    BioGRID,\n",
    "    PPI,\n",
    "    HuRI,\n",
    ")"
   ]
  },
  {
   "cell_type": "code",
   "execution_count": null,
   "metadata": {
    "lines_to_next_cell": 2
   },
   "outputs": [],
   "source": [
    "LOG = logging.getLogger(\"cancer_proteomics\")\n",
    "DPATH = pkg_resources.resource_filename(\"data\", \"/\")\n",
    "PPIPATH = pkg_resources.resource_filename(\"data\", \"ppi/\")\n",
    "TPATH = pkg_resources.resource_filename(\"tables\", \"/\")\n",
    "RPATH = pkg_resources.resource_filename(\"cancer_proteomics\", \"plots/\")"
   ]
  },
  {
   "cell_type": "markdown",
   "metadata": {},
   "source": [
    "### Imports"
   ]
  },
  {
   "cell_type": "code",
   "execution_count": null,
   "metadata": {},
   "outputs": [],
   "source": [
    "# Read samplesheet\n",
    "ss = DataImport.read_samplesheet()"
   ]
  },
  {
   "cell_type": "code",
   "execution_count": null,
   "metadata": {},
   "outputs": [],
   "source": [
    "# Read proteomics (Proteins x Cell lines)\n",
    "prot = DataImport.read_protein_matrix(map_protein=True)\n",
    "peptide_raw_mean = DataImport.read_peptide_raw_mean()"
   ]
  },
  {
   "cell_type": "code",
   "execution_count": null,
   "metadata": {},
   "outputs": [],
   "source": [
    "# Read Transcriptomics\n",
    "gexp = DataImport.read_gene_matrix()"
   ]
  },
  {
   "cell_type": "code",
   "execution_count": null,
   "metadata": {
    "lines_to_next_cell": 2
   },
   "outputs": [],
   "source": [
    "# Read CRISPR\n",
    "crispr = DataImport.read_crispr_matrix()"
   ]
  },
  {
   "cell_type": "markdown",
   "metadata": {},
   "source": [
    "### Protein-Protein interactions\n"
   ]
  },
  {
   "cell_type": "code",
   "execution_count": null,
   "metadata": {
    "lines_to_next_cell": 2
   },
   "outputs": [],
   "source": [
    "corum_db = CORUM(ddir=PPIPATH)\n",
    "biogrid_db = BioGRID(ddir=PPIPATH)\n",
    "huri_db = HuRI(ddir=PPIPATH)"
   ]
  },
  {
   "cell_type": "code",
   "execution_count": null,
   "metadata": {},
   "outputs": [],
   "source": [
    "# ###\n",
    "# Gene lists\n",
    "cgenes = pd.read_csv(f\"{DPATH}/cancer_genes_latest.csv.gz\", index_col=0).iloc[:, 0]"
   ]
  },
  {
   "cell_type": "code",
   "execution_count": null,
   "metadata": {},
   "outputs": [],
   "source": [
    "genes = natsorted(\n",
    "    list(set.intersection(set(prot.index), set(gexp.index), set(crispr.index)))\n",
    ")\n",
    "LOG.info(f\"Genes: {len(genes)}\")"
   ]
  },
  {
   "cell_type": "code",
   "execution_count": null,
   "metadata": {},
   "outputs": [],
   "source": [
    "# Paralog information\n",
    "pinfo = pd.read_excel(\n",
    "    f\"{DPATH}/msb198871-sup-0004-datasetev1.xlsx\", sheet_name=\"gene annotations\"\n",
    ")\n",
    "pinfo = pinfo.groupby(\"gene name\")[\n",
    "    [\"paralog or singleton\", \"homomer or not (all PPI)\"]\n",
    "].first()"
   ]
  },
  {
   "cell_type": "code",
   "execution_count": null,
   "metadata": {},
   "outputs": [],
   "source": [
    "paralog_ds = pd.read_excel(\n",
    "    f\"{DPATH}/msb198871-sup-0004-datasetev1.xlsx\", sheet_name=\"paralog annotations\"\n",
    ")"
   ]
  },
  {
   "cell_type": "markdown",
   "metadata": {},
   "source": [
    "### Protien-Protein correlations"
   ]
  },
  {
   "cell_type": "code",
   "execution_count": null,
   "metadata": {},
   "outputs": [],
   "source": [
    "def df_correlation(df_matrix, min_obs=15):\n",
    "    LOG.info(df_matrix.shape)\n",
    "\n",
    "    x = ma.masked_invalid(df_matrix.values)\n",
    "    n_vars = x.shape[1]\n",
    "\n",
    "    rs = np.full((n_vars, n_vars), np.nan, dtype=float)\n",
    "    prob = np.full((n_vars, n_vars), np.nan, dtype=float)\n",
    "\n",
    "    for var1 in range(n_vars - 1):\n",
    "        for var2 in range(var1 + 1, n_vars):\n",
    "            xy = ma.mask_rowcols(x[:, [var1, var2]], axis=0)\n",
    "            xy = xy[~xy.mask.any(axis=1), :]\n",
    "\n",
    "            if xy.shape[0] > min_obs:\n",
    "                rs[var1, var2], prob[var1, var2] = pearsonr(xy[:, 0], xy[:, 1])\n",
    "\n",
    "    df = pd.DataFrame(dict(corr=rs.ravel(), pvalue=prob.ravel()))\n",
    "    df[\"protein1\"], df[\"protein2\"] = zip(\n",
    "        *(it.product(df_matrix.columns, df_matrix.columns))\n",
    "    )\n",
    "    df = df.dropna().set_index([\"protein1\", \"protein2\"])\n",
    "    df[\"fdr\"] = multipletests(df[\"pvalue\"], method=\"fdr_bh\")[1]\n",
    "\n",
    "    return df"
   ]
  },
  {
   "cell_type": "code",
   "execution_count": null,
   "metadata": {},
   "outputs": [],
   "source": [
    "df_corr = (\n",
    "    pd.concat(\n",
    "        [\n",
    "            df_correlation(prot.reindex(genes).T).add_prefix(\"prot_\"),\n",
    "            df_correlation(gexp.reindex(genes).T).add_prefix(\"gexp_\"),\n",
    "            df_correlation(crispr.reindex(genes).T).add_prefix(\"crispr_\"),\n",
    "        ],\n",
    "        axis=1,\n",
    "    )\n",
    "        .sort_values(\"prot_pvalue\")\n",
    "        .reset_index()\n",
    ").dropna()"
   ]
  },
  {
   "cell_type": "code",
   "execution_count": null,
   "metadata": {},
   "outputs": [],
   "source": [
    "# CORUM\n",
    "df_corr[\"corum\"] = [\n",
    "    int((p1, p2) in corum_db.db_melt_symbol)\n",
    "    for p1, p2 in df_corr[[\"protein1\", \"protein2\"]].values\n",
    "]"
   ]
  },
  {
   "cell_type": "code",
   "execution_count": null,
   "metadata": {},
   "outputs": [],
   "source": [
    "# BioGRID\n",
    "df_corr[\"biogrid\"] = [\n",
    "    int((p1, p2) in biogrid_db.biogrid)\n",
    "    for p1, p2 in df_corr[[\"protein1\", \"protein2\"]].values\n",
    "]"
   ]
  },
  {
   "cell_type": "code",
   "execution_count": null,
   "metadata": {},
   "outputs": [],
   "source": [
    "# HuRI\n",
    "df_corr[\"huri\"] = [\n",
    "    int((p1, p2) in huri_db.huri)\n",
    "    for p1, p2 in df_corr[[\"protein1\", \"protein2\"]].values\n",
    "]"
   ]
  },
  {
   "cell_type": "code",
   "execution_count": null,
   "metadata": {},
   "outputs": [],
   "source": [
    "# String distance\n",
    "ppi = PPI().build_string_ppi(score_thres=900)\n",
    "df_corr = PPI.ppi_annotation(\n",
    "    df_corr, ppi, x_var=\"protein1\", y_var=\"protein2\", ppi_var=\"string_dist\"\n",
    ")\n",
    "df_corr = df_corr.assign(string=(df_corr[\"string_dist\"] == \"1\").astype(int))"
   ]
  },
  {
   "cell_type": "code",
   "execution_count": null,
   "metadata": {},
   "outputs": [],
   "source": [
    "# Number of observations\n",
    "p_obs = {p: set(v.dropna().index) for p, v in prot.reindex(genes).iterrows()}\n",
    "df_corr[\"nobs\"] = [\n",
    "    len(set.intersection(p_obs[p1], p_obs[p2]))\n",
    "    for p1, p2 in df_corr[[\"protein1\", \"protein2\"]].values\n",
    "]"
   ]
  },
  {
   "cell_type": "code",
   "execution_count": null,
   "metadata": {},
   "outputs": [],
   "source": [
    "# Cancer genes\n",
    "df_corr[\"protein1_cgene\"] = df_corr[\"protein1\"].isin(set(cgenes.index)).astype(int)\n",
    "df_corr[\"protein1_cgene_type\"] = cgenes.reindex(df_corr[\"protein1\"]).values"
   ]
  },
  {
   "cell_type": "code",
   "execution_count": null,
   "metadata": {},
   "outputs": [],
   "source": [
    "df_corr[\"protein2_cgene\"] = df_corr[\"protein2\"].isin(set(cgenes.index)).astype(int)\n",
    "df_corr[\"protein2_cgene_type\"] = cgenes.reindex(df_corr[\"protein2\"]).values"
   ]
  },
  {
   "cell_type": "code",
   "execution_count": null,
   "metadata": {
    "lines_to_next_cell": 2
   },
   "outputs": [],
   "source": [
    "# Export\n",
    "df_corr.to_csv(f\"{TPATH}/PPInteractions.csv.gz\", compression=\"gzip\", index=False)"
   ]
  },
  {
   "cell_type": "markdown",
   "metadata": {},
   "source": [
    "### Define novel PPIs"
   ]
  },
  {
   "cell_type": "code",
   "execution_count": null,
   "metadata": {},
   "outputs": [],
   "source": [
    "df_corr[\"merged_pvalue\"] = df_corr[\n",
    "    [\"prot_pvalue\", \"gexp_pvalue\", \"crispr_pvalue\"]\n",
    "].prod(1)\n",
    "novel_ppis = df_corr.query(f\"(prot_fdr < .05) & (prot_corr > 0.5)\")"
   ]
  },
  {
   "cell_type": "code",
   "execution_count": null,
   "metadata": {
    "lines_to_next_cell": 2
   },
   "outputs": [],
   "source": [
    "# Export\n",
    "ppis = df_corr[\n",
    "    (df_corr[\"prot_corr\"].abs() > .5) | (df_corr[\"gexp_corr\"].abs() > .5) | (df_corr[\"crispr_corr\"].abs() > .5)\n",
    "    ]\n",
    "ppis.round(4).to_csv(f\"{TPATH}/PPInteractions_filtered.csv\", index=False)"
   ]
  },
  {
   "cell_type": "code",
   "execution_count": null,
   "metadata": {},
   "outputs": [],
   "source": [
    "#\n",
    "rc_dict = dict()\n",
    "for y in [\"corum\", \"biogrid\", \"string\", \"huri\"]:\n",
    "    rc_dict[y] = dict()\n",
    "    for x in [\"prot\", \"gexp\", \"crispr\", \"merged\"]:\n",
    "        rc_df = df_corr.sort_values(f\"{x}_pvalue\")[y].reset_index(drop=True).copy()\n",
    "\n",
    "        rc_df_y = np.cumsum(rc_df) / np.sum(rc_df)\n",
    "        rc_df_x = np.array(rc_df.index) / rc_df.shape[0]\n",
    "        rc_df_auc = auc(rc_df_x, rc_df_y)\n",
    "\n",
    "        rc_dict[y][x] = dict(x=list(rc_df_x), y=list(rc_df_y), auc=rc_df_auc)"
   ]
  },
  {
   "cell_type": "code",
   "execution_count": null,
   "metadata": {},
   "outputs": [],
   "source": [
    "rc_pal = dict(\n",
    "    biogrid=sns.color_palette(\"tab20c\").as_hex()[0:4],\n",
    "    corum=sns.color_palette(\"tab20c\").as_hex()[4:8],\n",
    "    string=sns.color_palette(\"tab20c\").as_hex()[8:12],\n",
    "    huri=sns.color_palette(\"tab20c\").as_hex()[12:16],\n",
    ")"
   ]
  },
  {
   "cell_type": "code",
   "execution_count": null,
   "metadata": {},
   "outputs": [],
   "source": [
    "# Recall curves\n",
    "_, ax = plt.subplots(1, 1, figsize=(3, 3), dpi=600)"
   ]
  },
  {
   "cell_type": "code",
   "execution_count": null,
   "metadata": {},
   "outputs": [],
   "source": [
    "for db in rc_dict:\n",
    "    for i, ds in enumerate(rc_dict[db]):\n",
    "        ax.plot(\n",
    "            rc_dict[db][ds][\"x\"],\n",
    "            rc_dict[db][ds][\"y\"],\n",
    "            label=f\"{db} {ds} (AUC {rc_dict[db][ds]['auc']:.2f})\",\n",
    "            c=rc_pal[db][i],\n",
    "        )"
   ]
  },
  {
   "cell_type": "code",
   "execution_count": null,
   "metadata": {},
   "outputs": [],
   "source": [
    "ax.plot([0, 1], [0, 1], \"k--\", lw=0.3)\n",
    "ax.legend(loc=\"lower right\", frameon=False)"
   ]
  },
  {
   "cell_type": "code",
   "execution_count": null,
   "metadata": {},
   "outputs": [],
   "source": [
    "ax.set_ylabel(\"Cumulative sum\")\n",
    "ax.set_xlabel(\"Ranked correlation\")\n",
    "ax.grid(True, axis=\"both\", ls=\"-\", lw=0.1, alpha=1.0, zorder=0)"
   ]
  },
  {
   "cell_type": "code",
   "execution_count": null,
   "metadata": {},
   "outputs": [],
   "source": [
    "plt.savefig(\n",
    "    f\"{RPATH}/PPInteractions_roc_curves.pdf\", bbox_inches=\"tight\"\n",
    ")\n",
    "plt.savefig(\n",
    "    f\"{RPATH}/PPInteractions_roc_curves.png\", bbox_inches=\"tight\"\n",
    ")\n",
    "plt.close(\"all\")"
   ]
  },
  {
   "cell_type": "code",
   "execution_count": null,
   "metadata": {},
   "outputs": [],
   "source": [
    "# Recall barplot\n",
    "plot_df = pd.DataFrame(\n",
    "    [\n",
    "        dict(ppi=db, dtype=ds, auc=rc_dict[db][ds][\"auc\"])\n",
    "        for db in rc_dict\n",
    "        for ds in rc_dict[db]\n",
    "    ]\n",
    ")"
   ]
  },
  {
   "cell_type": "code",
   "execution_count": null,
   "metadata": {},
   "outputs": [],
   "source": [
    "hue_order = [\"corum\", \"biogrid\", \"string\", \"huri\"]"
   ]
  },
  {
   "cell_type": "code",
   "execution_count": null,
   "metadata": {},
   "outputs": [],
   "source": [
    "_, ax = plt.subplots(1, 1, figsize=(3, 1.5), dpi=600)"
   ]
  },
  {
   "cell_type": "code",
   "execution_count": null,
   "metadata": {},
   "outputs": [],
   "source": [
    "sns.barplot(\n",
    "    \"auc\",\n",
    "    \"ppi\",\n",
    "    \"dtype\",\n",
    "    data=plot_df,\n",
    "    orient=\"h\",\n",
    "    linewidth=0.0,\n",
    "    saturation=1.0,\n",
    "    palette=\"Blues_d\",\n",
    "    ax=ax,\n",
    ")"
   ]
  },
  {
   "cell_type": "code",
   "execution_count": null,
   "metadata": {},
   "outputs": [],
   "source": [
    "ax.set_ylabel(\"\")\n",
    "ax.set_xlabel(\"Recall curve AUC\")\n",
    "ax.grid(True, ls=\"-\", lw=0.1, alpha=1.0, zorder=0, axis=\"x\")"
   ]
  },
  {
   "cell_type": "code",
   "execution_count": null,
   "metadata": {},
   "outputs": [],
   "source": [
    "ax.legend(\n",
    "    loc=\"center left\",\n",
    "    bbox_to_anchor=(1, 0.5),\n",
    "    prop={\"size\": 4},\n",
    "    frameon=False,\n",
    "    title=\"Data-set\",\n",
    ").get_title().set_fontsize(\"5\")"
   ]
  },
  {
   "cell_type": "code",
   "execution_count": null,
   "metadata": {},
   "outputs": [],
   "source": [
    "plt.savefig(\n",
    "    f\"{RPATH}/PPInteractions_roc_barplot.pdf\", bbox_inches=\"tight\"\n",
    ")\n",
    "plt.savefig(\n",
    "    f\"{RPATH}/PPInteractions_roc_barplot.png\", bbox_inches=\"tight\"\n",
    ")\n",
    "plt.close(\"all\")"
   ]
  },
  {
   "cell_type": "code",
   "execution_count": null,
   "metadata": {},
   "outputs": [],
   "source": [
    "# PPI types\n",
    "#\n",
    "df_corr_ppi = df_corr.query(f\"(prot_fdr < .05) & (prot_corr > 0.5)\")\n",
    "df_corr_ppi = pd.concat(\n",
    "    [df_corr_ppi[\"protein1\"], df_corr_ppi[\"protein2\"]], ignore_index=True\n",
    ").value_counts()\n",
    "df_corr_ppi = pd.concat(\n",
    "    [\n",
    "        pd.qcut(df_corr_ppi, np.arange(0, 1.1, 0.1), duplicates=\"drop\")\n",
    "            .apply(lambda v: f\"{round(v.left):.0f}-{round(v.right):.0f}\")\n",
    "            .rename(\"n_ppi\"),\n",
    "        df_corr_ppi.pipe(np.log2).rename(\"ppi\"),\n",
    "        gexp.loc[df_corr_ppi.index].mean(1).rename(\"gexp\"),\n",
    "        crispr.loc[df_corr_ppi.index].mean(1).rename(\"crispr\"),\n",
    "        peptide_raw_mean.reindex(df_corr_ppi.index).rename(\"prot\"),\n",
    "        pinfo.reindex(df_corr_ppi.index),\n",
    "    ],\n",
    "    axis=1,\n",
    ").sort_values(\"crispr\", ascending=False)"
   ]
  },
  {
   "cell_type": "code",
   "execution_count": null,
   "metadata": {},
   "outputs": [],
   "source": [
    "for dt in [\"gexp\", \"prot\"]:\n",
    "    fig, ax = plt.subplots(1, 1, figsize=(2, 2), dpi=600)\n",
    "\n",
    "    hb = ax.hexbin(\n",
    "        x=df_corr_ppi[dt],\n",
    "        y=df_corr_ppi[\"ppi\"],\n",
    "        C=df_corr_ppi[\"crispr\"],\n",
    "        reduce_C_function=np.mean,\n",
    "        cmap=\"Spectral\",\n",
    "        gridsize=50,\n",
    "        lw=0,\n",
    "    )\n",
    "\n",
    "    cor, pval = spearmanr(df_corr_ppi[dt], df_corr_ppi[\"ppi\"])\n",
    "    annot_text = f\"R={cor:.2g}, p={pval:.1e}\"\n",
    "    ax.text(0.95, 0.05, annot_text, fontsize=6, transform=ax.transAxes, ha=\"right\")\n",
    "\n",
    "    axins1 = inset_axes(ax, width=\"30%\", height=\"5%\", loc=\"upper left\")\n",
    "    cb = fig.colorbar(hb, cax=axins1, orientation=\"horizontal\")\n",
    "    cb.ax.tick_params(labelsize=4)\n",
    "    cb.ax.set_title(\"CRISPR\\n(mean scaled FC)\", fontsize=4)\n",
    "\n",
    "    ax.set_xlabel(\n",
    "        \"Gene expression (mean voom)\"\n",
    "        if dt == \"gexp\"\n",
    "        else \"Protein abundance (mean intensities)\"\n",
    "    )\n",
    "    ax.set_ylabel(\"PPI interactions (log2)\")\n",
    "\n",
    "    plt.savefig(\n",
    "        f\"{RPATH}/PPInteractions_robustness_landscape_{dt}.pdf\",\n",
    "        bbox_inches=\"tight\",\n",
    "    )\n",
    "    plt.savefig(\n",
    "        f\"{RPATH}/PPInteractions_robustness_landscape_{dt}.png\",\n",
    "        bbox_inches=\"tight\",\n",
    "    )\n",
    "    plt.close(\"all\")"
   ]
  },
  {
   "cell_type": "code",
   "execution_count": null,
   "metadata": {},
   "outputs": [],
   "source": [
    "#\n",
    "dsets = [\"crispr\", \"gexp\", \"prot\"]"
   ]
  },
  {
   "cell_type": "code",
   "execution_count": null,
   "metadata": {},
   "outputs": [],
   "source": [
    "order = natsorted(set(df_corr_ppi[\"n_ppi\"]))\n",
    "pal = pd.Series(\n",
    "    sns.color_palette(\"Blues_d\", n_colors=len(order)).as_hex(), index=order\n",
    ")"
   ]
  },
  {
   "cell_type": "code",
   "execution_count": null,
   "metadata": {},
   "outputs": [],
   "source": [
    "_, axs = plt.subplots(1, len(dsets), figsize=(2 * len(dsets), 2), dpi=600)"
   ]
  },
  {
   "cell_type": "code",
   "execution_count": null,
   "metadata": {},
   "outputs": [],
   "source": [
    "for i, dt in enumerate(dsets):\n",
    "    ax = axs[i]\n",
    "\n",
    "    ax = GIPlot.gi_classification(\n",
    "        dt,\n",
    "        \"n_ppi\",\n",
    "        df_corr_ppi,\n",
    "        orient=\"h\",\n",
    "        palette=pal.to_dict(),\n",
    "        order=order,\n",
    "        ax=ax,\n",
    "    )\n",
    "\n",
    "    if dt == \"crispr\":\n",
    "        xlabel, title = \"Gene essentiality\\n(mean scaled FC)\", \"CRISPR-Cas9\"\n",
    "    elif dt == \"gexp\":\n",
    "        xlabel, title = \"Gene expression\\n(mean voom)\", \"RNA-Seq\"\n",
    "    else:\n",
    "        xlabel, title = \"Protein abundance\\n(mean intensities)\", \"SWATH-MS\"\n",
    "\n",
    "    ax.set_xlabel(xlabel)\n",
    "    ax.set_ylabel(\"Number of protein interactions\" if i == 0 else None)\n",
    "    ax.set_title(title)\n",
    "\n",
    "    if i != 0:\n",
    "        ax.axes.yaxis.set_ticklabels([])"
   ]
  },
  {
   "cell_type": "code",
   "execution_count": null,
   "metadata": {},
   "outputs": [],
   "source": [
    "plt.subplots_adjust(hspace=0, wspace=0.05)\n",
    "plt.savefig(\n",
    "    f\"{RPATH}/PPInteractions_ppi_regression.pdf\",\n",
    "    bbox_inches=\"tight\",\n",
    ")\n",
    "plt.savefig(\n",
    "    f\"{RPATH}/PPInteractions_ppi_regression.png\",\n",
    "    bbox_inches=\"tight\",\n",
    ")\n",
    "plt.close(\"all\")"
   ]
  },
  {
   "cell_type": "code",
   "execution_count": null,
   "metadata": {},
   "outputs": [],
   "source": [
    "#\n",
    "order = natsorted(set(df_corr_ppi[\"n_ppi\"]))"
   ]
  },
  {
   "cell_type": "code",
   "execution_count": null,
   "metadata": {},
   "outputs": [],
   "source": [
    "pals = {\n",
    "    \"paralog or singleton\": {\n",
    "        \"unclassified\": GIPlot.PAL_DTRACE[0],\n",
    "        \"paralog\": GIPlot.PAL_DTRACE[1],\n",
    "        \"singleton\": GIPlot.PAL_DTRACE[2],\n",
    "    },\n",
    "    \"homomer or not (all PPI)\": {\n",
    "        \"not-homomer\": GIPlot.PAL_DTRACE[2],\n",
    "        \"homomer\": GIPlot.PAL_DTRACE[1],\n",
    "    },\n",
    "}"
   ]
  },
  {
   "cell_type": "code",
   "execution_count": null,
   "metadata": {},
   "outputs": [],
   "source": [
    "hue_orders = {\n",
    "    \"paralog or singleton\": [\"paralog\", \"singleton\", \"unclassified\"],\n",
    "    \"homomer or not (all PPI)\": [\"homomer\", \"not-homomer\"],\n",
    "}"
   ]
  },
  {
   "cell_type": "code",
   "execution_count": null,
   "metadata": {},
   "outputs": [],
   "source": [
    "for ft in [\"paralog or singleton\", \"homomer or not (all PPI)\"]:\n",
    "    _, axs = plt.subplots(1, len(dsets), figsize=(2 * len(dsets), 2), dpi=600)\n",
    "\n",
    "    for i, dt in enumerate(dsets):\n",
    "        ax = axs[i]\n",
    "\n",
    "        ax = GIPlot.gi_classification(\n",
    "            dt,\n",
    "            \"n_ppi\",\n",
    "            df_corr_ppi,\n",
    "            hue=ft,\n",
    "            hue_order=hue_orders[ft],\n",
    "            orient=\"h\",\n",
    "            palette=pals[ft],\n",
    "            order=order,\n",
    "            plot_legend=(i == (len(dsets) - 1)),\n",
    "            legend_kws=dict(\n",
    "                loc=\"center left\", bbox_to_anchor=(1, 0.5), prop={\"size\": 6}\n",
    "            ),\n",
    "            ax=ax,\n",
    "        )\n",
    "\n",
    "        if dt == \"crispr\":\n",
    "            xlabel, title = \"Gene essentiality\\n(mean scaled FC)\", \"CRISPR-Cas9\"\n",
    "        elif dt == \"gexp\":\n",
    "            xlabel, title = \"Gene expression\\n(mean voom)\", \"RNA-Seq\"\n",
    "        else:\n",
    "            xlabel, title = \"Protein abundance\\n(mean log2 intensities)\", \"SWATH-MS\"\n",
    "\n",
    "        ax.set_xlabel(xlabel)\n",
    "        ax.set_ylabel(\"Number of protein interactions\" if i == 0 else None)\n",
    "        ax.set_title(title)\n",
    "\n",
    "        if i != 0:\n",
    "            ax.axes.yaxis.set_ticklabels([])\n",
    "\n",
    "    plt.subplots_adjust(hspace=0, wspace=0.05)\n",
    "    plt.savefig(\n",
    "        f\"{RPATH}/PPInteractions_ppi_regression_{ft}.pdf\",\n",
    "        bbox_inches=\"tight\",\n",
    "    )\n",
    "    plt.savefig(\n",
    "        f\"{RPATH}/PPInteractions_ppi_regression_{ft}.png\",\n",
    "        bbox_inches=\"tight\",\n",
    "    )\n",
    "    plt.close(\"all\")"
   ]
  }
 ],
 "metadata": {
  "jupytext": {
   "formats": "ipynb,py:light"
  },
  "kernelspec": {
   "display_name": "Python 3",
   "language": "python",
   "name": "python3"
  }
 },
 "nbformat": 4,
 "nbformat_minor": 4
}
