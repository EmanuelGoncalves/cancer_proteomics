{
 "cells": [
  {
   "cell_type": "code",
   "execution_count": null,
   "metadata": {},
   "outputs": [],
   "source": [
    "%matplotlib inline\n",
    "%autosave 0\n",
    "%load_ext autoreload\n",
    "%autoreload 2"
   ]
  },
  {
   "cell_type": "code",
   "execution_count": null,
   "metadata": {
    "lines_to_next_cell": 2
   },
   "outputs": [],
   "source": [
    "import logging\n",
    "import numpy as np\n",
    "import pandas as pd\n",
    "import pkg_resources\n",
    "import seaborn as sns\n",
    "import matplotlib.pyplot as plt\n",
    "from crispy.GIPlot import GIPlot\n",
    "from adjustText import adjust_text\n",
    "from crispy.Enrichment import Enrichment\n",
    "from crispy.CrispyPlot import CrispyPlot\n",
    "from sklearn.mixture import GaussianMixture\n",
    "from statsmodels.stats.multitest import multipletests\n",
    "from cancer_proteomics.notebooks import DataImport, two_vars_correlation"
   ]
  },
  {
   "cell_type": "code",
   "execution_count": null,
   "metadata": {
    "lines_to_next_cell": 2
   },
   "outputs": [],
   "source": [
    "LOG = logging.getLogger(\"cancer_proteomics\")\n",
    "DPATH = pkg_resources.resource_filename(\"data\", \"/\")\n",
    "TPATH = pkg_resources.resource_filename(\"tables\", \"/\")\n",
    "RPATH = pkg_resources.resource_filename(\"cancer_proteomics\", \"plots/\")"
   ]
  },
  {
   "cell_type": "markdown",
   "metadata": {},
   "source": [
    "### Imports"
   ]
  },
  {
   "cell_type": "code",
   "execution_count": null,
   "metadata": {},
   "outputs": [],
   "source": [
    "# Read samplesheet\n",
    "ss = DataImport.read_samplesheet()"
   ]
  },
  {
   "cell_type": "code",
   "execution_count": null,
   "metadata": {},
   "outputs": [],
   "source": [
    "# Read proteomics (Proteins x Cell lines)\n",
    "prot = DataImport.read_protein_matrix(map_protein=True)"
   ]
  },
  {
   "cell_type": "code",
   "execution_count": null,
   "metadata": {},
   "outputs": [],
   "source": [
    "# Read Transcriptomics\n",
    "gexp = DataImport.read_gene_matrix()"
   ]
  },
  {
   "cell_type": "code",
   "execution_count": null,
   "metadata": {
    "lines_to_next_cell": 2
   },
   "outputs": [],
   "source": [
    "# Read copy number\n",
    "cnv = DataImport.read_copy_number()"
   ]
  },
  {
   "cell_type": "code",
   "execution_count": null,
   "metadata": {
    "lines_to_next_cell": 2
   },
   "outputs": [],
   "source": [
    "# ### Overlaps\n",
    "samples = list(set.intersection(set(prot), set(gexp), set(cnv)))\n",
    "genes = list(set.intersection(set(prot.index), set(gexp.index), set(cnv.index)))\n",
    "LOG.info(f\"Genes: {len(genes)}; Samples: {len(samples)}\")"
   ]
  },
  {
   "cell_type": "code",
   "execution_count": null,
   "metadata": {},
   "outputs": [],
   "source": [
    "# ### Protein/Gene correlation\n",
    "# Spearman's rho\n",
    "pg_corr = pd.DataFrame(\n",
    "    [two_vars_correlation(prot.loc[g], gexp.loc[g], method=\"spearman\") for g in genes]\n",
    ").sort_values(\"pval\")\n",
    "pg_corr[\"fdr\"] = multipletests(pg_corr[\"pval\"], method=\"fdr_bh\")[1]\n",
    "pg_corr.to_csv(\n",
    "    f\"{TPATH}/ProteinAttenuation_correlations.csv.gz\", index=False, compression=\"gzip\"\n",
    ")"
   ]
  },
  {
   "cell_type": "code",
   "execution_count": null,
   "metadata": {
    "lines_to_next_cell": 2
   },
   "outputs": [],
   "source": [
    "# Histogram\n",
    "_, ax = plt.subplots(1, 1, figsize=(2.0, 1.5), dpi=600)\n",
    "sns.distplot(\n",
    "    pg_corr[\"corr\"].values,\n",
    "    hist_kws=dict(alpha=0.4, zorder=1, linewidth=0),\n",
    "    bins=30,\n",
    "    kde_kws=dict(cut=0, lw=1, zorder=1, alpha=0.8),\n",
    "    color=CrispyPlot.PAL_DTRACE[2],\n",
    "    ax=ax,\n",
    ")\n",
    "ax.grid(True, ls=\"-\", lw=0.1, alpha=1.0, zorder=0, axis=\"x\")\n",
    "ax.set_xlabel(\"Pearson's R\")\n",
    "ax.set_ylabel(\"Density\")\n",
    "ax.set_title(f\"Protein ~ Transcript (mean R={pg_corr['corr'].mean():.2f})\")\n",
    "plt.savefig(f\"{RPATH}/ProteinAttenuation_histogram.pdf\", bbox_inches=\"tight\")\n",
    "plt.savefig(f\"{RPATH}/ProteinAttenuation_histogram.png\", bbox_inches=\"tight\")\n",
    "plt.close(\"all\")"
   ]
  },
  {
   "cell_type": "code",
   "execution_count": null,
   "metadata": {},
   "outputs": [],
   "source": [
    "# ### Protein/Gene correlation per tissue\n",
    "# spearman's rho\n",
    "pg_corr_tissue = pd.DataFrame(\n",
    "    [\n",
    "        {\n",
    "            **two_vars_correlation(\n",
    "                prot.loc[g], gexp.loc[g], idx_set=t_samples, method=\"spearman\"\n",
    "            ),\n",
    "            **dict(tissue=t),\n",
    "        }\n",
    "        for t, t_samples in ss.reindex(samples)\n",
    "        .reset_index()\n",
    "        .groupby(\"tissue\")[\"model_id\"]\n",
    "        if len(t_samples) > 15\n",
    "        for g in genes\n",
    "    ]\n",
    ")\n",
    "pg_corr_tissue = pg_corr_tissue.query(\"len > 15\")\n",
    "pg_corr_tissue[\"fdr\"] = multipletests(pg_corr_tissue[\"pval\"], method=\"fdr_bh\")[1]\n",
    "pg_corr_tissue.to_csv(\n",
    "    f\"{TPATH}/ProteinAttenuation_correlations_tissue.csv.gz\",\n",
    "    index=False,\n",
    "    compression=\"gzip\",\n",
    ")"
   ]
  },
  {
   "cell_type": "code",
   "execution_count": null,
   "metadata": {},
   "outputs": [],
   "source": [
    "# Boxplot\n",
    "order = pg_corr_tissue.groupby(\"tissue\")[\"corr\"].median().sort_values()"
   ]
  },
  {
   "cell_type": "code",
   "execution_count": null,
   "metadata": {
    "lines_to_next_cell": 2
   },
   "outputs": [],
   "source": [
    "_, ax = plt.subplots(1, 1, figsize=(1.0, 0.125 * len(order)), dpi=600)\n",
    "sns.boxplot(\n",
    "    x=\"corr\",\n",
    "    y=\"tissue\",\n",
    "    data=pg_corr_tissue,\n",
    "    notch=True,\n",
    "    order=order.index,\n",
    "    boxprops=dict(linewidth=0.3),\n",
    "    whiskerprops=dict(linewidth=0.3),\n",
    "    medianprops=CrispyPlot.MEDIANPROPS,\n",
    "    flierprops=CrispyPlot.FLIERPROPS,\n",
    "    color=CrispyPlot.PAL_DTRACE[2],\n",
    "    showcaps=False,\n",
    "    saturation=1,\n",
    "    orient=\"h\",\n",
    "    ax=ax,\n",
    ")\n",
    "ax.set_xlabel(\"Transcript ~ Protein\")\n",
    "ax.set_ylabel(\"\")\n",
    "ax.grid(axis=\"x\", lw=0.1, color=\"#e1e1e1\", zorder=0)\n",
    "plt.savefig(f\"{RPATH}/ProteinAttenuation_tissue_boxplot.pdf\", bbox_inches=\"tight\")\n",
    "plt.savefig(f\"{RPATH}/ProteinAttenuation_tissue_boxplot.png\", bbox_inches=\"tight\")\n",
    "plt.close(\"all\")"
   ]
  },
  {
   "cell_type": "code",
   "execution_count": null,
   "metadata": {},
   "outputs": [],
   "source": [
    "# ### Protein/Gene correlation with CopyNumber - Attenuation\n",
    "#\n",
    "patt_corr = pd.DataFrame(\n",
    "    {\n",
    "        g: pd.concat(\n",
    "            [\n",
    "                pd.Series(two_vars_correlation(cnv.loc[g], prot.loc[g])).add_prefix(\n",
    "                    \"prot_\"\n",
    "                ),\n",
    "                pd.Series(two_vars_correlation(cnv.loc[g], gexp.loc[g])).add_prefix(\n",
    "                    \"gexp_\"\n",
    "                ),\n",
    "            ]\n",
    "        )\n",
    "        for g in genes\n",
    "    }\n",
    ").T.sort_values(\"gexp_pval\")\n",
    "patt_corr = patt_corr.query(\"(prot_len > 15) & (gexp_len > 15)\")\n",
    "patt_corr[\"attenuation\"] = patt_corr[\"gexp_corr\"] - patt_corr[\"prot_corr\"]"
   ]
  },
  {
   "cell_type": "code",
   "execution_count": null,
   "metadata": {},
   "outputs": [],
   "source": [
    "gmm = GaussianMixture(n_components=2).fit(patt_corr[[\"attenuation\"]])\n",
    "s_type, clusters = (\n",
    "    pd.Series(gmm.predict(patt_corr[[\"attenuation\"]]), index=patt_corr.index),\n",
    "    pd.Series(gmm.means_[:, 0], index=range(2)),\n",
    ")\n",
    "patt_corr[\"cluster\"] = [\n",
    "    \"High\" if s_type[p] == clusters.argmax() else \"Low\" for p in patt_corr.index\n",
    "]"
   ]
  },
  {
   "cell_type": "code",
   "execution_count": null,
   "metadata": {},
   "outputs": [],
   "source": [
    "patt_corr.to_csv(f\"{TPATH}/ProteinAttenuation_attenuation.csv.gz\", compression=\"gzip\")"
   ]
  },
  {
   "cell_type": "code",
   "execution_count": null,
   "metadata": {},
   "outputs": [],
   "source": [
    "# Scatter\n",
    "g = CrispyPlot.attenuation_scatter(\"gexp_corr\", \"prot_corr\", patt_corr)"
   ]
  },
  {
   "cell_type": "code",
   "execution_count": null,
   "metadata": {},
   "outputs": [],
   "source": [
    "g.set_axis_labels(\n",
    "    \"Transcriptomics ~ Copy number\\n(Pearson's R)\",\n",
    "    \"Protein ~ Copy number\\n(Pearson's R)\",\n",
    ")"
   ]
  },
  {
   "cell_type": "code",
   "execution_count": null,
   "metadata": {
    "lines_to_next_cell": 2
   },
   "outputs": [],
   "source": [
    "plt.savefig(f\"{RPATH}/ProteinAttenuation_attenuation_scatter.pdf\", bbox_inches=\"tight\")\n",
    "plt.savefig(f\"{RPATH}/ProteinAttenuation_attenuation_scatter.png\", bbox_inches=\"tight\")\n",
    "plt.close(\"all\")"
   ]
  },
  {
   "cell_type": "code",
   "execution_count": null,
   "metadata": {},
   "outputs": [],
   "source": [
    "# ### Pathway enrichement analysis of attenuated proteins\n",
    "background = set(patt_corr.index)\n",
    "sublist = set(patt_corr.query(\"cluster == 'High'\").index)"
   ]
  },
  {
   "cell_type": "code",
   "execution_count": null,
   "metadata": {},
   "outputs": [],
   "source": [
    "enr_obj = Enrichment(\n",
    "    gmts=[\"c5.all.v7.1.symbols.gmt\"], sig_min_len=15, padj_method=\"fdr_bh\"\n",
    ")"
   ]
  },
  {
   "cell_type": "code",
   "execution_count": null,
   "metadata": {},
   "outputs": [],
   "source": [
    "enr = enr_obj.hypergeom_enrichments(sublist, background, \"c5.all.v7.1.symbols.gmt\")\n",
    "enr = enr[enr[\"adj.p_value\"] < 0.01].head(30).reset_index()\n",
    "enr[\"name\"] = [i[3:].lower().replace(\"_\", \" \") for i in enr[\"gset\"]]"
   ]
  },
  {
   "cell_type": "code",
   "execution_count": null,
   "metadata": {},
   "outputs": [],
   "source": [
    "_, ax = plt.subplots(1, 1, figsize=(2.0, 5.0), dpi=600)"
   ]
  },
  {
   "cell_type": "code",
   "execution_count": null,
   "metadata": {},
   "outputs": [],
   "source": [
    "sns.barplot(\n",
    "    -np.log10(enr[\"adj.p_value\"]),\n",
    "    enr[\"name\"],\n",
    "    orient=\"h\",\n",
    "    color=CrispyPlot.PAL_DTRACE[2],\n",
    "    ax=ax,\n",
    ")"
   ]
  },
  {
   "cell_type": "code",
   "execution_count": null,
   "metadata": {},
   "outputs": [],
   "source": [
    "for i, (_, row) in enumerate(enr.iterrows()):\n",
    "    plt.text(\n",
    "        -np.log10(row[\"adj.p_value\"]),\n",
    "        i,\n",
    "        f\"{row['len_intersection']}/{row['len_sig']}\",\n",
    "        va=\"center\",\n",
    "        ha=\"left\",\n",
    "        fontsize=5,\n",
    "        zorder=10,\n",
    "        color=CrispyPlot.PAL_DTRACE[2],\n",
    "    )"
   ]
  },
  {
   "cell_type": "code",
   "execution_count": null,
   "metadata": {},
   "outputs": [],
   "source": [
    "ax.grid(True, ls=\"-\", lw=0.1, alpha=1.0, zorder=0, axis=\"x\")\n",
    "ax.set_xlabel(\"Hypergeometric test (-log10 FDR)\")\n",
    "ax.set_ylabel(\"\")\n",
    "ax.set_title(f\"GO celluar component enrichment - attenuated proteins\")"
   ]
  },
  {
   "cell_type": "code",
   "execution_count": null,
   "metadata": {},
   "outputs": [],
   "source": [
    "plt.savefig(f\"{RPATH}/ProteinAttenuation_enrichment.pdf\", bbox_inches=\"tight\")\n",
    "plt.savefig(f\"{RPATH}/ProteinAttenuation_enrichment.png\", bbox_inches=\"tight\")\n",
    "plt.close(\"all\")"
   ]
  },
  {
   "cell_type": "code",
   "execution_count": null,
   "metadata": {},
   "outputs": [],
   "source": [
    "# Attenuation scatter gene highlights\n",
    "signatures = [\n",
    "    \"GO_PROTEIN_MODIFICATION_BY_SMALL_PROTEIN_CONJUGATION\",\n",
    "    \"GO_TRANSLATIONAL_INITIATION\",\n",
    "    \"GO_RIBOSOMAL_SUBUNIT\",\n",
    "]\n",
    "signatures = {\n",
    "    s: set(enr_obj.get_signature(\"c5.all.v7.1.symbols.gmt\", s)).intersection(\n",
    "        patt_corr.index\n",
    "    )\n",
    "    for s in signatures\n",
    "}"
   ]
  },
  {
   "cell_type": "code",
   "execution_count": null,
   "metadata": {},
   "outputs": [],
   "source": [
    "plot_df = patt_corr.copy()\n",
    "plot_df = plot_df.assign(\n",
    "    signature=[[s for s in signatures if g in signatures[s]] for g in plot_df.index]\n",
    ")\n",
    "plot_df = plot_df.assign(\n",
    "    signature=[i[0] if len(i) > 0 else \"All\" for i in plot_df[\"signature\"]]\n",
    ")"
   ]
  },
  {
   "cell_type": "code",
   "execution_count": null,
   "metadata": {},
   "outputs": [],
   "source": [
    "ax_min = plot_df[[\"gexp_corr\", \"prot_corr\"]].min().min() * 1.1\n",
    "ax_max = plot_df[[\"gexp_corr\", \"prot_corr\"]].max().max() * 1.1"
   ]
  },
  {
   "cell_type": "code",
   "execution_count": null,
   "metadata": {},
   "outputs": [],
   "source": [
    "discrete_pal = pd.Series(\n",
    "    sns.color_palette(\"tab10\").as_hex()[: len(signatures)], index=signatures\n",
    ")\n",
    "discrete_pal[\"All\"] = CrispyPlot.PAL_DTRACE[0]"
   ]
  },
  {
   "cell_type": "code",
   "execution_count": null,
   "metadata": {},
   "outputs": [],
   "source": [
    "grid = GIPlot.gi_regression_marginal(\n",
    "    \"gexp_corr\",\n",
    "    \"prot_corr\",\n",
    "    \"signature\",\n",
    "    plot_df,\n",
    "    plot_reg=False,\n",
    "    plot_annot=False,\n",
    "    scatter_kws=dict(edgecolor=\"w\", lw=0.1, s=8),\n",
    "    discrete_pal=discrete_pal,\n",
    ")"
   ]
  },
  {
   "cell_type": "code",
   "execution_count": null,
   "metadata": {},
   "outputs": [],
   "source": [
    "grid.ax_joint.plot([ax_min, ax_max], [ax_min, ax_max], \"k--\", lw=0.3)\n",
    "grid.ax_joint.set_xlim(ax_min, ax_max)\n",
    "grid.ax_joint.set_ylim(ax_min, ax_max)"
   ]
  },
  {
   "cell_type": "code",
   "execution_count": null,
   "metadata": {},
   "outputs": [],
   "source": [
    "labels = [\n",
    "    grid.ax_joint.text(row[\"gexp_corr\"], row[\"prot_corr\"], i, color=\"k\", fontsize=4)\n",
    "    for i, row in plot_df.query(\"signature != 'All'\")\n",
    "    .sort_values(\"attenuation\", ascending=False)\n",
    "    .head(15)\n",
    "    .iterrows()\n",
    "]\n",
    "adjust_text(\n",
    "    labels,\n",
    "    arrowprops=dict(arrowstyle=\"-\", color=\"k\", alpha=0.75, lw=0.3),\n",
    "    ax=grid.ax_joint,\n",
    ")"
   ]
  },
  {
   "cell_type": "code",
   "execution_count": null,
   "metadata": {},
   "outputs": [],
   "source": [
    "plt.gcf().set_size_inches(2.5, 2.5)"
   ]
  },
  {
   "cell_type": "code",
   "execution_count": null,
   "metadata": {},
   "outputs": [],
   "source": [
    "plt.savefig(\n",
    "    f\"{RPATH}/ProteinTranscript_attenuation_scatter_signatures.pdf\", bbox_inches=\"tight\"\n",
    ")\n",
    "plt.savefig(\n",
    "    f\"{RPATH}/ProteinTranscript_attenuation_scatter_signatures.png\", bbox_inches=\"tight\"\n",
    ")\n",
    "plt.close(\"all\")"
   ]
  }
 ],
 "metadata": {
  "jupytext": {
   "formats": "ipynb,py:light"
  },
  "kernelspec": {
   "display_name": "Python 3",
   "language": "python",
   "name": "python3"
  }
 },
 "nbformat": 4,
 "nbformat_minor": 4
}
