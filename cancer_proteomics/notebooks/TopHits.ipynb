{
 "cells": [
  {
   "cell_type": "code",
   "execution_count": null,
   "metadata": {},
   "outputs": [],
   "source": [
    "%matplotlib inline\n",
    "%autosave 0\n",
    "%load_ext autoreload\n",
    "%autoreload 2"
   ]
  },
  {
   "cell_type": "code",
   "execution_count": null,
   "metadata": {
    "lines_to_next_cell": 2
   },
   "outputs": [],
   "source": [
    "import logging\n",
    "import numpy as np\n",
    "import pandas as pd\n",
    "import pkg_resources\n",
    "import seaborn as sns\n",
    "import numpy.ma as ma\n",
    "import itertools as it\n",
    "import matplotlib.pyplot as plt\n",
    "from natsort import natsorted\n",
    "from crispy.GIPlot import GIPlot\n",
    "from scipy.stats import pearsonr, spearmanr\n",
    "from adjustText import adjust_text\n",
    "from matplotlib_venn import venn2, venn2_circles\n",
    "from sklearn.metrics.ranking import auc\n",
    "from crispy.Enrichment import Enrichment\n",
    "from crispy.CrispyPlot import CrispyPlot\n",
    "from sklearn.mixture import GaussianMixture\n",
    "from statsmodels.stats.multitest import multipletests\n",
    "from mpl_toolkits.axes_grid1.inset_locator import inset_axes\n",
    "from cancer_proteomics.notebooks import DataImport, two_vars_correlation\n",
    "from crispy.DataImporter import CORUM, BioGRID, PPI, HuRI"
   ]
  },
  {
   "cell_type": "code",
   "execution_count": null,
   "metadata": {
    "lines_to_next_cell": 2
   },
   "outputs": [],
   "source": [
    "LOG = logging.getLogger(\"cancer_proteomics\")\n",
    "DPATH = pkg_resources.resource_filename(\"data\", \"/\")\n",
    "PPIPATH = pkg_resources.resource_filename(\"data\", \"ppi/\")\n",
    "TPATH = pkg_resources.resource_filename(\"tables\", \"/\")\n",
    "RPATH = pkg_resources.resource_filename(\"cancer_proteomics\", \"plots/\")"
   ]
  },
  {
   "cell_type": "markdown",
   "metadata": {},
   "source": [
    "### Imports"
   ]
  },
  {
   "cell_type": "code",
   "execution_count": null,
   "metadata": {},
   "outputs": [],
   "source": [
    "# Read samplesheet\n",
    "ss = DataImport.read_samplesheet()"
   ]
  },
  {
   "cell_type": "code",
   "execution_count": null,
   "metadata": {},
   "outputs": [],
   "source": [
    "# Read proteomics (Proteins x Cell lines)\n",
    "prot = DataImport.read_protein_matrix(map_protein=True)\n",
    "peptide_raw_mean = DataImport.read_peptide_raw_mean()"
   ]
  },
  {
   "cell_type": "code",
   "execution_count": null,
   "metadata": {},
   "outputs": [],
   "source": [
    "# Read Transcriptomics\n",
    "gexp = DataImport.read_gene_matrix()"
   ]
  },
  {
   "cell_type": "code",
   "execution_count": null,
   "metadata": {},
   "outputs": [],
   "source": [
    "# Read CRISPR\n",
    "crispr = DataImport.read_crispr_matrix()"
   ]
  },
  {
   "cell_type": "code",
   "execution_count": null,
   "metadata": {},
   "outputs": [],
   "source": [
    "# Read Drug-response\n",
    "drespo = DataImport.read_drug_response()\n",
    "drespo = drespo.set_index(pd.Series([\";\".join(map(str, i)) for i in drespo.index]))"
   ]
  },
  {
   "cell_type": "code",
   "execution_count": null,
   "metadata": {},
   "outputs": [],
   "source": [
    "dmaxc = DataImport.read_drug_max_concentration()\n",
    "dmaxc.index = [\";\".join(map(str, i)) for i in dmaxc.index]\n",
    "dmaxc = dmaxc.reindex(drespo.index)"
   ]
  },
  {
   "cell_type": "code",
   "execution_count": null,
   "metadata": {
    "lines_to_next_cell": 2
   },
   "outputs": [],
   "source": [
    "# LM associations\n",
    "#\n",
    "lm_drug = pd.read_csv(f\"{TPATH}/lm_sklearn_degr_drug_annotated.csv.gz\")\n",
    "lm_crispr = pd.read_csv(f\"{TPATH}/lm_sklearn_degr_crispr_annotated.csv.gz\")"
   ]
  },
  {
   "cell_type": "code",
   "execution_count": null,
   "metadata": {},
   "outputs": [],
   "source": [
    "#\n",
    "#\n",
    "GIPlot.gi_manhattan(lm_drug)\n",
    "plt.savefig(f\"{RPATH}/TopHits_drug_manhattan_plot.png\", bbox_inches=\"tight\")\n",
    "plt.close(\"all\")"
   ]
  },
  {
   "cell_type": "code",
   "execution_count": null,
   "metadata": {},
   "outputs": [],
   "source": [
    "GIPlot.gi_manhattan(lm_crispr)\n",
    "plt.savefig(f\"{RPATH}/TopHits_crispr_manhattan_plot.png\", bbox_inches=\"tight\")\n",
    "plt.close(\"all\")"
   ]
  },
  {
   "cell_type": "code",
   "execution_count": null,
   "metadata": {},
   "outputs": [],
   "source": [
    "# Selective and predictive dependencies\n",
    "#\n",
    "R2_THRES = 0.2\n",
    "SKEW_THRES = -2\n",
    "FDR_THRES = 0.01"
   ]
  },
  {
   "cell_type": "code",
   "execution_count": null,
   "metadata": {},
   "outputs": [],
   "source": [
    "dep_df = pd.concat(\n",
    "    [\n",
    "        lm_drug.groupby(\"y_id\")[[\"r2\", \"skew\"]]\n",
    "        .first()\n",
    "        .reset_index()\n",
    "        .assign(dtype=\"drug\"),\n",
    "        lm_crispr.groupby(\"y_id\")[[\"r2\", \"skew\"]]\n",
    "        .first()\n",
    "        .reset_index()\n",
    "        .assign(dtype=\"crispr\"),\n",
    "    ]\n",
    ").dropna()"
   ]
  },
  {
   "cell_type": "code",
   "execution_count": null,
   "metadata": {},
   "outputs": [],
   "source": [
    "# Selectivity plot\n",
    "#\n",
    "_, ax = plt.subplots(1, 1, figsize=(3, 3), dpi=600)"
   ]
  },
  {
   "cell_type": "code",
   "execution_count": null,
   "metadata": {},
   "outputs": [],
   "source": [
    "plot_info = [(\"crispr\", \"o\", \"#009EAC\"), (\"drug\", \"X\", \"#FEC041\")]\n",
    "for i, (n, m, c) in enumerate(plot_info):\n",
    "    n_df = dep_df.query(f\"dtype == '{n}'\")\n",
    "\n",
    "    n_ax = ax if n == \"crispr\" else ax.twiny()\n",
    "\n",
    "    n_ax.scatter(\n",
    "        n_df[\"skew\"], n_df[\"r2\"], marker=m, s=3, c=c, zorder=(i + 1), alpha=0.8, lw=0\n",
    "    )\n",
    "\n",
    "    n_ax.set_xlabel(f\"{n} skewness\", color=c)\n",
    "    n_ax.set_ylabel(\"R2\")\n",
    "\n",
    "    labels = n_df.query(f\"r2 > {R2_THRES}\").sort_values(\"skew\").head(20)\n",
    "    labels = [\n",
    "        n_ax.text(\n",
    "            row[\"skew\"],\n",
    "            row[\"r2\"],\n",
    "            row[\"y_id\"] if n == \"crispr\" else row[\"y_id\"].split(\";\")[1],\n",
    "            color=\"k\",\n",
    "            fontsize=4,\n",
    "            zorder=3,\n",
    "        )\n",
    "        for _, row in labels.iterrows()\n",
    "    ]\n",
    "    adjust_text(\n",
    "        labels, arrowprops=dict(arrowstyle=\"-\", color=\"k\", alpha=0.75, lw=0.3), ax=n_ax\n",
    "    )"
   ]
  },
  {
   "cell_type": "code",
   "execution_count": null,
   "metadata": {},
   "outputs": [],
   "source": [
    "ax.grid(axis=\"y\", lw=0.1, color=\"#e1e1e1\", zorder=0)\n",
    "ax.axhline(R2_THRES, c=\"#E3213D\", lw=0.3, ls=\"--\")"
   ]
  },
  {
   "cell_type": "code",
   "execution_count": null,
   "metadata": {
    "lines_to_next_cell": 2
   },
   "outputs": [],
   "source": [
    "plt.savefig(f\"{RPATH}/TopHits_selectivity_predictive_scatter.pdf\", bbox_inches=\"tight\")\n",
    "plt.savefig(f\"{RPATH}/TopHits_selectivity_predictive_scatter.png\", bbox_inches=\"tight\")\n",
    "plt.close(\"all\")"
   ]
  },
  {
   "cell_type": "code",
   "execution_count": null,
   "metadata": {},
   "outputs": [],
   "source": [
    "# Predictive features of selective and predictive dependencies\n",
    "#\n",
    "tophits = dep_df.query(f\"(r2 > {R2_THRES}) & (skew < {SKEW_THRES})\")"
   ]
  },
  {
   "cell_type": "code",
   "execution_count": null,
   "metadata": {},
   "outputs": [],
   "source": [
    "tophits_feat_drug = set(lm_drug.query(f\"fdr < {FDR_THRES}\")[\"x_id\"])\n",
    "tophits_feat_crispr = set(lm_crispr.query(f\"fdr < {FDR_THRES}\")[\"x_id\"])\n",
    "tophits_feat_union = set.union(tophits_feat_drug, tophits_feat_crispr)"
   ]
  },
  {
   "cell_type": "code",
   "execution_count": null,
   "metadata": {},
   "outputs": [],
   "source": [
    "_, ax = plt.subplots(1, 1, figsize=(1.5, 1.5), dpi=600)\n",
    "venn_groups = [tophits_feat_drug, tophits_feat_crispr]\n",
    "venn2(\n",
    "    venn_groups, set_labels=[\"Drug\", \"CRISPR\"], set_colors=[\"#FEC041\", \"#009EAC\"], ax=ax\n",
    ")\n",
    "venn2_circles(venn_groups, linewidth=0.5, ax=ax)\n",
    "plt.title(f\"Top protein features (FDR < {FDR_THRES * 100:.0f}%)\")\n",
    "plt.savefig(f\"{RPATH}/TopHits_features_venn.pdf\", bbox_inches=\"tight\")\n",
    "plt.savefig(f\"{RPATH}/TopHits_features_venn.png\", bbox_inches=\"tight\")\n",
    "plt.close(\"all\")"
   ]
  },
  {
   "cell_type": "code",
   "execution_count": null,
   "metadata": {},
   "outputs": [],
   "source": [
    "tophits_feat = pd.concat(\n",
    "    [\n",
    "        lm_drug[lm_drug[\"x_id\"].isin(tophits_feat_union)].assign(dtype=\"drug\"),\n",
    "        lm_crispr[lm_crispr[\"x_id\"].isin(tophits_feat_union)].assign(dtype=\"crispr\"),\n",
    "    ]\n",
    ")\n",
    "tophits_feat = tophits_feat[tophits_feat[\"y_id\"].isin(tophits[\"y_id\"])]\n",
    "tophits_feat = tophits_feat.query(f\"fdr < {FDR_THRES}\")"
   ]
  },
  {
   "cell_type": "code",
   "execution_count": null,
   "metadata": {},
   "outputs": [],
   "source": [
    "def calculate_score(pval, beta):\n",
    "    s = np.log10(pval)\n",
    "    if beta > 0:\n",
    "        s *= -1\n",
    "    return s"
   ]
  },
  {
   "cell_type": "code",
   "execution_count": null,
   "metadata": {},
   "outputs": [],
   "source": [
    "tophits_feat[\"score\"] = [\n",
    "    calculate_score(p, b) for p, b in tophits_feat[[\"pval\", \"beta\"]].values\n",
    "]"
   ]
  },
  {
   "cell_type": "markdown",
   "metadata": {},
   "source": [
    "Top dependencies\n"
   ]
  },
  {
   "cell_type": "code",
   "execution_count": null,
   "metadata": {},
   "outputs": [],
   "source": [
    "topdep = [\"WRN\", \"STAG1\", \"1403;AZD6094;GDSC1\"]"
   ]
  },
  {
   "cell_type": "code",
   "execution_count": null,
   "metadata": {},
   "outputs": [],
   "source": [
    "# Top associations\n",
    "for y_id in topdep:\n",
    "    # y_id = \"TP63\"\n",
    "    plot_df = (\n",
    "        tophits_feat.query(f\"y_id == '{y_id}'\")\n",
    "        .head(10)\n",
    "        .reset_index(drop=True)\n",
    "        .reset_index()\n",
    "    )\n",
    "    plot_df = plot_df.assign(logpval=-np.log10(plot_df[\"pval\"]).values)\n",
    "    plot_df = plot_df.fillna(\"X\")\n",
    "\n",
    "    fig, ax = plt.subplots(1, 1, figsize=(plot_df.shape[0] * 0.2, 1.5))\n",
    "\n",
    "    for t, df in plot_df.groupby(\"ppi\"):\n",
    "        ax.bar(\n",
    "            df[\"index\"].values,\n",
    "            df[\"logpval\"].values,\n",
    "            color=GIPlot.PPI_PAL[t],\n",
    "            align=\"center\",\n",
    "            zorder=5,\n",
    "            linewidth=0,\n",
    "        )\n",
    "\n",
    "    for g, p in plot_df[[\"x_id\", \"index\"]].values:\n",
    "        ax.text(\n",
    "            p,\n",
    "            0.1,\n",
    "            g,\n",
    "            ha=\"center\",\n",
    "            va=\"bottom\",\n",
    "            fontsize=6,\n",
    "            zorder=10,\n",
    "            rotation=\"vertical\",\n",
    "            color=\"white\",\n",
    "        )\n",
    "\n",
    "    for x, y, t, b in plot_df[[\"index\", \"logpval\", \"ppi\", \"beta\"]].values:\n",
    "        if str(t) != \"nan\":\n",
    "            c = GIPlot.PAL_DTRACE[1] if t == \"T\" else GIPlot.PAL_DTRACE[2]\n",
    "\n",
    "            ax.text(x, y + 0.25, t, color=c, ha=\"center\", fontsize=6, zorder=10)\n",
    "            ax.text(\n",
    "                x,\n",
    "                -0.5,\n",
    "                f\"{b:.1f}\",\n",
    "                color=c,\n",
    "                ha=\"center\",\n",
    "                va=\"top\",\n",
    "                fontsize=6,\n",
    "                rotation=\"vertical\",\n",
    "                zorder=10,\n",
    "            )\n",
    "\n",
    "    ax.set_title(f\"{y_id} (R-squared={plot_df['r2'].max():.2f})\")\n",
    "    plt.ylabel(f\"Linear regressions\\n(p-value log10)\")\n",
    "\n",
    "    ax.grid(True, ls=\"-\", lw=0.1, alpha=1.0, zorder=0, axis=\"y\")\n",
    "    ax.axes.get_xaxis().set_ticks([])\n",
    "\n",
    "    plt.savefig(f\"{RPATH}/TopHits_top_associations_{y_id}.pdf\", bbox_inches=\"tight\")\n",
    "    plt.savefig(f\"{RPATH}/TopHits_top_associations_{y_id}.png\", bbox_inches=\"tight\")\n",
    "    plt.close(\"all\")"
   ]
  },
  {
   "cell_type": "code",
   "execution_count": null,
   "metadata": {},
   "outputs": [],
   "source": [
    "#\n",
    "#\n",
    "gi_pairs = [\n",
    "    # (\n",
    "    #     \"RPL22\",\n",
    "    #     \"WRN\",\n",
    "    #     \"crispr\",\n",
    "    #     [\"Large Intestine\", \"Endometrium\", \"Stomach\", \"Ovary\"],\n",
    "    # ),\n",
    "    # (\"RAD21\", \"STAG1\", \"crispr\", [\"Bone\", \"Central Nervous System\", \"Breast\"]),\n",
    "    # (\"MET\", \"1403;AZD6094;GDSC1\", \"drug\", [\"Stomach\", \"Esophagus\", \"Lung\"]),\n",
    "    # (\"ACIN1\", \"BRAF\", \"crispr\", [\"Skin\", \"Breast\", \"Large Intestine\", \"Ovary\"]),\n",
    "    (\"BSG\", \"FOXA1\", \"crispr\", [\"Breast\"]),\n",
    "    (\"PRKAR1A\", \"PRKAR1A\", \"crispr\", None),\n",
    "    (\"HNRNPH1\", \"HNRNPH1\", \"crispr\", None),\n",
    "]"
   ]
  },
  {
   "cell_type": "code",
   "execution_count": null,
   "metadata": {},
   "outputs": [],
   "source": [
    "for p, c, dtype, ctissues in gi_pairs:\n",
    "    # p, c, dtype, ctissues = (\"UBFD1\", \"TP63\", \"crispr\", [\"Lung\"])\n",
    "\n",
    "    plot_df = pd.concat(\n",
    "        [\n",
    "            drespo.loc[[c]].T.add_suffix(\"_y\")\n",
    "            if dtype == \"drug\"\n",
    "            else crispr.loc[[c]].T.add_suffix(\"_y\"),\n",
    "            prot.loc[[p]].T.add_suffix(\"_prot\"),\n",
    "            gexp.loc[[p]].T.add_suffix(\"_gexp\"),\n",
    "            ss[\"tissue\"],\n",
    "        ],\n",
    "        axis=1,\n",
    "        sort=False,\n",
    "    ).dropna(subset=[f\"{c}_y\", f\"{p}_prot\"])\n",
    "\n",
    "    # Protein\n",
    "    ax = GIPlot.gi_tissue_plot(f\"{p}_prot\", f\"{c}_y\", plot_df)\n",
    "\n",
    "    if dtype == \"drug\":\n",
    "        ax.axhline(np.log(dmaxc[c]), ls=\"--\", lw=0.3, color=CrispyPlot.PAL_DTRACE[1])\n",
    "\n",
    "    ax.set_xlabel(f\"{p}\\nProtein intensities\")\n",
    "    ax.set_ylabel(\n",
    "        f\"{c}\\n{'Drug response IC50' if dtype == 'drug' else 'CRISPR-Cas9 (log2 FC)'}\"\n",
    "    )\n",
    "    plt.savefig(\n",
    "        f\"{RPATH}/TopHits_{p}_{c}_{dtype}_regression_tissue_plot.pdf\",\n",
    "        bbox_inches=\"tight\",\n",
    "    )\n",
    "    plt.savefig(\n",
    "        f\"{RPATH}/TopHits_{p}_{c}_{dtype}_regression_tissue_plot.png\",\n",
    "        bbox_inches=\"tight\",\n",
    "    )\n",
    "    plt.close(\"all\")\n",
    "\n",
    "    # Protein\n",
    "    if ctissues is not None:\n",
    "        ax = GIPlot.gi_tissue_plot(\n",
    "            f\"{p}_prot\", f\"{c}_y\", plot_df[plot_df[\"tissue\"].isin(ctissues)]\n",
    "        )\n",
    "\n",
    "        if dtype == \"drug\":\n",
    "            ax.axhline(\n",
    "                np.log(dmaxc[c]), ls=\"--\", lw=0.3, color=CrispyPlot.PAL_DTRACE[1]\n",
    "            )\n",
    "\n",
    "        ax.set_xlabel(f\"{p}\\nProtein intensities\")\n",
    "        ax.set_ylabel(\n",
    "            f\"{c}\\n{'Drug response IC50' if dtype == 'drug' else 'CRISPR-Cas9 (log2 FC)'}\"\n",
    "        )\n",
    "        plt.savefig(\n",
    "            f\"{RPATH}/TopHits_{p}_{c}_{dtype}_regression_tissue_plot_selected.pdf\",\n",
    "            bbox_inches=\"tight\",\n",
    "        )\n",
    "        plt.savefig(\n",
    "            f\"{RPATH}/TopHits_{p}_{c}_{dtype}_regression_tissue_plot_selected.png\",\n",
    "            bbox_inches=\"tight\",\n",
    "        )\n",
    "        plt.close(\"all\")\n",
    "\n",
    "    # Gene expression\n",
    "    ax = GIPlot.gi_tissue_plot(f\"{p}_gexp\", f\"{c}_y\", plot_df)\n",
    "\n",
    "    if dtype == \"drug\":\n",
    "        ax.axhline(np.log(dmaxc[c]), ls=\"--\", lw=0.3, color=CrispyPlot.PAL_DTRACE[1])\n",
    "\n",
    "    ax.set_xlabel(f\"{p}\\nGene expression (RNA-Seq voom)\")\n",
    "    ax.set_ylabel(\n",
    "        f\"{c}\\n{'Drug response IC50' if dtype == 'drug' else 'CRISPR-Cas9 (log2 FC)'}\"\n",
    "    )\n",
    "    plt.savefig(\n",
    "        f\"{RPATH}/TopHits_{p}_{c}_{dtype}_regression_tissue_plot_gexp.pdf\",\n",
    "        bbox_inches=\"tight\",\n",
    "    )\n",
    "    plt.savefig(\n",
    "        f\"{RPATH}/TopHits_{p}_{c}_{dtype}_regression_tissue_plot_gexp.png\",\n",
    "        bbox_inches=\"tight\",\n",
    "    )\n",
    "    plt.close(\"all\")\n",
    "\n",
    "    #\n",
    "    breast_subtypes = pd.read_csv(f\"{DPATH}/breast_subtypes.txt\", sep=\"\\t\", index_col=0)\n",
    "\n",
    "    corder = [\"FOXA1\", \"BSG\"]\n",
    "\n",
    "    plot_df = pd.concat(\n",
    "        [crispr.loc[\"FOXA1\"], prot.loc[\"BSG\"], breast_subtypes], axis=1\n",
    "    ).dropna(subset=[\"pam50\"])\n",
    "\n",
    "    plot_df = pd.melt(plot_df, value_vars=[\"FOXA1\", \"BSG\"], id_vars=[\"pam50\"]).dropna()\n",
    "\n",
    "    g = sns.catplot(\n",
    "        \"pam50\",\n",
    "        \"value\",\n",
    "        data=plot_df,\n",
    "        col=\"variable\",\n",
    "        facet_kws=dict(despine=False),\n",
    "        sharex=\"row\",\n",
    "        sharey=\"col\",\n",
    "        height=2.5,\n",
    "        kind=\"swarm\",\n",
    "        col_order=corder,\n",
    "    )\n",
    "\n",
    "    g.set_axis_labels(\"Breast cancer PAM50 subtypes\", \"\")\n",
    "\n",
    "    titles = [\"FOXA1\\nCRISPR-Cas9 (log2 FC)\", \"BSG\\nProtein intensities\"]\n",
    "    for i, ax in enumerate(g.axes[0]):\n",
    "        ax.set_title(titles[i])\n",
    "        sns.boxplot(\n",
    "            \"pam50\",\n",
    "            \"value\",\n",
    "            data=plot_df.query(f\"variable == '{corder[i]}'\"),\n",
    "            sym=\"\",\n",
    "            boxprops=dict(facecolor=(0, 0, 0, 0)),\n",
    "            zorder=2,\n",
    "            ax=ax,\n",
    "        )\n",
    "        ax.grid(True, ls=\"-\", lw=0.1, alpha=1.0, zorder=0, axis=\"both\")\n",
    "        ax.set_ylabel(\"\")\n",
    "\n",
    "    plt.savefig(f\"{RPATH}/TopHits_FOXA1_BSG_Breast_Subtypes.pdf\", bbox_inches=\"tight\")\n",
    "    plt.savefig(\n",
    "        f\"{RPATH}/TopHits_FOXA1_BSG_Breast_Subtypes.png\", bbox_inches=\"tight\", dpi=600\n",
    "    )\n",
    "    plt.close(\"all\")"
   ]
  }
 ],
 "metadata": {
  "jupytext": {
   "formats": "ipynb,py:light"
  },
  "kernelspec": {
   "display_name": "Python 3",
   "language": "python",
   "name": "python3"
  }
 },
 "nbformat": 4,
 "nbformat_minor": 4
}
