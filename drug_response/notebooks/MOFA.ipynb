{
 "cells": [
  {
   "cell_type": "code",
   "execution_count": 1,
   "metadata": {
    "ExecuteTime": {
     "end_time": "2020-06-16T04:09:42.134699Z",
     "start_time": "2020-06-16T04:09:40.218800Z"
    }
   },
   "outputs": [],
   "source": [
    "from mofapy2.run.entry_point import entry_point\n",
    "import pandas as pd\n",
    "import numpy as np\n",
    "import seaborn as sns\n",
    "import matplotlib.pyplot as plt"
   ]
  },
  {
   "cell_type": "markdown",
   "metadata": {},
   "source": [
    "# data preparation"
   ]
  },
  {
   "cell_type": "code",
   "execution_count": 51,
   "metadata": {
    "ExecuteTime": {
     "end_time": "2020-06-16T04:20:43.149464Z",
     "start_time": "2020-06-16T04:20:42.420322Z"
    }
   },
   "outputs": [],
   "source": [
    "protein_sample = pd.read_csv(\"../data/protein/E0022_P06_Protein_Matrix_ProNorM_no_control_update.txt\", sep='\\t')"
   ]
  },
  {
   "cell_type": "code",
   "execution_count": 52,
   "metadata": {
    "ExecuteTime": {
     "end_time": "2020-06-16T04:20:44.126117Z",
     "start_time": "2020-06-16T04:20:44.115053Z"
    }
   },
   "outputs": [],
   "source": [
    "drug_score = pd.read_csv(\"../data/drug/final_drug_scores.tsv\", sep=\"\\t\")\n",
    "drug_list = drug_score[\n",
    "    (drug_score['MultiDrug_correlation'] > 0.4) & (drug_score['sensitive_count'] > 20)][\n",
    "    'drug_id'].values"
   ]
  },
  {
   "cell_type": "code",
   "execution_count": 53,
   "metadata": {
    "ExecuteTime": {
     "end_time": "2020-06-16T04:20:44.966428Z",
     "start_time": "2020-06-16T04:20:44.393242Z"
    }
   },
   "outputs": [],
   "source": [
    "protein_mofa = protein_sample.melt(id_vars='Cell_line',\n",
    "                                   value_name='value',\n",
    "                                   var_name='feature')\n",
    "protein_mofa['view'] = 'protein'\n",
    "protein_mofa['group'] = 'group_0'\n",
    "protein_mofa = protein_mofa.rename(columns={'Cell_line': 'sample'})\n",
    "protein_mofa = protein_mofa[['sample', 'group', 'feature', 'view', 'value']]"
   ]
  },
  {
   "cell_type": "code",
   "execution_count": 54,
   "metadata": {
    "ExecuteTime": {
     "end_time": "2020-06-16T04:20:48.597798Z",
     "start_time": "2020-06-16T04:20:45.130207Z"
    }
   },
   "outputs": [],
   "source": [
    "ic50 = pd.read_csv(\"../data/drug/drug_final_processed_growth_corrected.csv.gz\")"
   ]
  },
  {
   "cell_type": "code",
   "execution_count": 55,
   "metadata": {
    "ExecuteTime": {
     "end_time": "2020-06-16T04:20:49.186024Z",
     "start_time": "2020-06-16T04:20:48.599635Z"
    }
   },
   "outputs": [],
   "source": [
    "ic50_mofa = ic50[ic50['cell_line_name'].isin(protein_mofa['sample'].unique())]\n",
    "ic50_mofa = ic50_mofa.rename(columns={'cell_line_name':'sample', 'drug_id':'feature', 'ln_IC50':'value'})\n",
    "ic50_mofa['view'] = 'drug'\n",
    "ic50_mofa['group'] = 'group_0'\n",
    "ic50_mofa = ic50_mofa[['sample', 'group', 'feature', 'view', 'value']]"
   ]
  },
  {
   "cell_type": "code",
   "execution_count": 56,
   "metadata": {
    "ExecuteTime": {
     "end_time": "2020-06-16T04:20:49.211668Z",
     "start_time": "2020-06-16T04:20:49.188419Z"
    }
   },
   "outputs": [],
   "source": [
    "ic50_mofa = ic50_mofa[ic50_mofa['feature'].isin(drug_list)]"
   ]
  },
  {
   "cell_type": "code",
   "execution_count": 57,
   "metadata": {
    "ExecuteTime": {
     "end_time": "2020-06-16T04:20:49.372880Z",
     "start_time": "2020-06-16T04:20:49.213779Z"
    }
   },
   "outputs": [],
   "source": [
    "combined_mofa = pd.concat([protein_mofa, ic50_mofa])"
   ]
  },
  {
   "cell_type": "code",
   "execution_count": 58,
   "metadata": {
    "ExecuteTime": {
     "end_time": "2020-06-16T04:20:49.378008Z",
     "start_time": "2020-06-16T04:20:49.374825Z"
    }
   },
   "outputs": [
    {
     "data": {
      "text/plain": [
       "(3710307, 5)"
      ]
     },
     "execution_count": 58,
     "metadata": {},
     "output_type": "execute_result"
    }
   ],
   "source": [
    "combined_mofa.shape"
   ]
  },
  {
   "cell_type": "markdown",
   "metadata": {},
   "source": [
    "# train model"
   ]
  },
  {
   "cell_type": "code",
   "execution_count": 59,
   "metadata": {
    "ExecuteTime": {
     "end_time": "2020-06-16T04:20:50.791090Z",
     "start_time": "2020-06-16T04:20:50.786736Z"
    }
   },
   "outputs": [
    {
     "name": "stdout",
     "output_type": "stream",
     "text": [
      "\n",
      "        #########################################################\n",
      "        ###           __  __  ____  ______                    ### \n",
      "        ###          |  \\/  |/ __ \\|  ____/\\    _             ### \n",
      "        ###          | \\  / | |  | | |__ /  \\ _| |_           ### \n",
      "        ###          | |\\/| | |  | |  __/ /\\ \\_   _|          ###\n",
      "        ###          | |  | | |__| | | / ____ \\|_|            ###\n",
      "        ###          |_|  |_|\\____/|_|/_/    \\_\\              ###\n",
      "        ###                                                   ### \n",
      "        ######################################################### \n",
      "       \n",
      " \n",
      "        \n",
      "Scaling views to unit variance...\n",
      "\n"
     ]
    }
   ],
   "source": [
    "ent = entry_point()\n",
    "ent.set_data_options(\n",
    "    scale_groups = False, \n",
    "    scale_views = True\n",
    ")"
   ]
  },
  {
   "cell_type": "code",
   "execution_count": 60,
   "metadata": {
    "ExecuteTime": {
     "end_time": "2020-06-16T04:20:58.035674Z",
     "start_time": "2020-06-16T04:20:51.244636Z"
    }
   },
   "outputs": [
    {
     "name": "stdout",
     "output_type": "stream",
     "text": [
      "Loaded group='group_0' view='drug' with N=976 samples and D=435 features...\n",
      "Loaded group='group_0' view='protein' with N=979 samples and D=3425 features...\n",
      "\n",
      "\n"
     ]
    }
   ],
   "source": [
    "ent.set_data_df(combined_mofa, likelihoods = [\"gaussian\",\"gaussian\"])"
   ]
  },
  {
   "cell_type": "code",
   "execution_count": 61,
   "metadata": {
    "ExecuteTime": {
     "end_time": "2020-06-16T04:20:58.039870Z",
     "start_time": "2020-06-16T04:20:58.037437Z"
    }
   },
   "outputs": [
    {
     "name": "stdout",
     "output_type": "stream",
     "text": [
      "Model options:\n",
      "- Automatic Relevance Determination prior on the factors: True\n",
      "- Automatic Relevance Determination prior on the weights: True\n",
      "- Spike-and-slab prior on the factors: False\n",
      "- Spike-and-slab prior on the weights: True \n",
      "\n",
      "Likelihoods:\n",
      "- View 0 (drug): gaussian\n",
      "- View 1 (protein): gaussian\n"
     ]
    }
   ],
   "source": [
    "ent.set_model_options(\n",
    "    factors = 10, \n",
    "    spikeslab_weights = True, \n",
    "    ard_factors = True,\n",
    "    ard_weights = True\n",
    ")"
   ]
  },
  {
   "cell_type": "code",
   "execution_count": 62,
   "metadata": {
    "ExecuteTime": {
     "end_time": "2020-06-16T04:20:58.044920Z",
     "start_time": "2020-06-16T04:20:58.042367Z"
    }
   },
   "outputs": [],
   "source": [
    "ent.set_train_options(\n",
    "    iter = 1000, \n",
    "    convergence_mode = \"fast\", \n",
    "    startELBO = 1, \n",
    "    freqELBO = 1, \n",
    "    dropR2 = 0.001, \n",
    "    gpu_mode = False, \n",
    "    verbose = False, \n",
    "    seed = 1\n",
    ")"
   ]
  },
  {
   "cell_type": "code",
   "execution_count": 63,
   "metadata": {
    "ExecuteTime": {
     "end_time": "2020-06-16T04:21:43.067156Z",
     "start_time": "2020-06-16T04:21:00.561633Z"
    }
   },
   "outputs": [
    {
     "name": "stdout",
     "output_type": "stream",
     "text": [
      "\n",
      "\n",
      "######################################\n",
      "## Training the model with seed 1 ##\n",
      "######################################\n",
      "\n",
      "\n",
      "ELBO before training: -37899833.43 \n",
      "\n",
      "Iteration 1: time=0.69, ELBO=-3440647.19, deltaELBO=34459186.237 (90.92173533%), Factors=9\n",
      "Iteration 2: time=0.69, ELBO=-3086703.79, deltaELBO=353943.398 (0.93389170%), Factors=9\n",
      "Iteration 3: time=0.70, ELBO=-3056062.70, deltaELBO=30641.089 (0.08084756%), Factors=9\n",
      "Iteration 4: time=0.70, ELBO=-3039597.87, deltaELBO=16464.830 (0.04344301%), Factors=9\n",
      "Iteration 5: time=0.69, ELBO=-3023075.17, deltaELBO=16522.703 (0.04359571%), Factors=9\n",
      "Iteration 6: time=0.69, ELBO=-3007975.76, deltaELBO=15099.410 (0.03984031%), Factors=9\n",
      "Iteration 7: time=0.70, ELBO=-2996976.28, deltaELBO=10999.478 (0.02902250%), Factors=9\n",
      "Iteration 8: time=0.68, ELBO=-2990026.67, deltaELBO=6949.615 (0.01833680%), Factors=9\n",
      "Iteration 9: time=0.63, ELBO=-2985743.73, deltaELBO=4282.939 (0.01130068%), Factors=9\n",
      "Iteration 10: time=0.64, ELBO=-2983026.52, deltaELBO=2717.205 (0.00716944%), Factors=9\n",
      "Iteration 11: time=0.64, ELBO=-2981273.38, deltaELBO=1753.147 (0.00462574%), Factors=9\n",
      "Iteration 12: time=0.66, ELBO=-2980128.41, deltaELBO=1144.963 (0.00302102%), Factors=9\n",
      "Iteration 13: time=0.69, ELBO=-2979366.64, deltaELBO=761.773 (0.00200996%), Factors=9\n",
      "Iteration 14: time=0.66, ELBO=-2978850.76, deltaELBO=515.879 (0.00136116%), Factors=9\n",
      "Iteration 15: time=0.65, ELBO=-2978495.17, deltaELBO=355.589 (0.00093823%), Factors=9\n",
      "Iteration 16: time=0.71, ELBO=-2978244.45, deltaELBO=250.723 (0.00066154%), Factors=9\n",
      "Iteration 17: time=0.65, ELBO=-2978063.07, deltaELBO=181.384 (0.00047859%), Factors=9\n",
      "Iteration 18: time=0.65, ELBO=-2977927.77, deltaELBO=135.290 (0.00035697%), Factors=9\n",
      "Iteration 19: time=0.65, ELBO=-2977823.91, deltaELBO=103.864 (0.00027405%), Factors=9\n",
      "Iteration 20: time=0.64, ELBO=-2977741.61, deltaELBO=82.303 (0.00021716%), Factors=9\n",
      "Iteration 21: time=0.64, ELBO=-2977673.82, deltaELBO=67.791 (0.00017887%), Factors=9\n",
      "Iteration 22: time=0.65, ELBO=-2977615.80, deltaELBO=58.013 (0.00015307%), Factors=9\n",
      "Iteration 23: time=0.63, ELBO=-2977564.53, deltaELBO=51.275 (0.00013529%), Factors=9\n",
      "Iteration 24: time=0.66, ELBO=-2977518.08, deltaELBO=46.447 (0.00012255%), Factors=9\n",
      "Iteration 25: time=0.64, ELBO=-2977475.24, deltaELBO=42.838 (0.00011303%), Factors=9\n",
      "Iteration 26: time=0.65, ELBO=-2977435.20, deltaELBO=40.044 (0.00010566%), Factors=9\n",
      "Iteration 27: time=0.65, ELBO=-2977397.38, deltaELBO=37.821 (0.00009979%), Factors=9\n",
      "Iteration 28: time=0.73, ELBO=-2977361.36, deltaELBO=36.016 (0.00009503%), Factors=9\n",
      "Iteration 29: time=0.68, ELBO=-2977326.84, deltaELBO=34.523 (0.00009109%), Factors=9\n",
      "Iteration 30: time=0.67, ELBO=-2977293.58, deltaELBO=33.259 (0.00008775%), Factors=9\n",
      "Iteration 31: time=0.64, ELBO=-2977261.43, deltaELBO=32.154 (0.00008484%), Factors=9\n",
      "Iteration 32: time=0.72, ELBO=-2977230.26, deltaELBO=31.171 (0.00008225%), Factors=9\n",
      "Iteration 33: time=0.67, ELBO=-2977199.95, deltaELBO=30.301 (0.00007995%), Factors=9\n",
      "Iteration 34: time=0.68, ELBO=-2977170.41, deltaELBO=29.540 (0.00007794%), Factors=9\n",
      "Iteration 35: time=0.69, ELBO=-2977141.54, deltaELBO=28.878 (0.00007620%), Factors=9\n",
      "Iteration 36: time=0.68, ELBO=-2977113.24, deltaELBO=28.300 (0.00007467%), Factors=9\n",
      "Iteration 37: time=0.66, ELBO=-2977085.45, deltaELBO=27.791 (0.00007333%), Factors=9\n",
      "Iteration 38: time=0.64, ELBO=-2977058.11, deltaELBO=27.339 (0.00007213%), Factors=9\n",
      "Iteration 39: time=0.65, ELBO=-2977031.17, deltaELBO=26.934 (0.00007107%), Factors=9\n",
      "Iteration 40: time=0.66, ELBO=-2977004.61, deltaELBO=26.566 (0.00007009%), Factors=9\n",
      "Iteration 41: time=0.70, ELBO=-2976978.38, deltaELBO=26.224 (0.00006919%), Factors=9\n",
      "Iteration 42: time=0.70, ELBO=-2976952.49, deltaELBO=25.897 (0.00006833%), Factors=9\n",
      "Iteration 43: time=0.70, ELBO=-2976926.92, deltaELBO=25.571 (0.00006747%), Factors=9\n",
      "Iteration 44: time=0.69, ELBO=-2976901.68, deltaELBO=25.234 (0.00006658%), Factors=9\n",
      "Iteration 45: time=0.66, ELBO=-2976876.80, deltaELBO=24.882 (0.00006565%), Factors=9\n",
      "Iteration 46: time=0.67, ELBO=-2976852.28, deltaELBO=24.516 (0.00006469%), Factors=9\n",
      "Iteration 47: time=0.67, ELBO=-2976828.14, deltaELBO=24.138 (0.00006369%), Factors=9\n",
      "Iteration 48: time=0.67, ELBO=-2976804.40, deltaELBO=23.748 (0.00006266%), Factors=9\n",
      "Iteration 49: time=0.67, ELBO=-2976781.06, deltaELBO=23.341 (0.00006159%), Factors=9\n",
      "Iteration 50: time=0.68, ELBO=-2976758.14, deltaELBO=22.914 (0.00006046%), Factors=9\n",
      "Iteration 51: time=0.66, ELBO=-2976735.67, deltaELBO=22.469 (0.00005929%), Factors=9\n",
      "Iteration 52: time=0.66, ELBO=-2976713.66, deltaELBO=22.014 (0.00005809%), Factors=9\n",
      "Iteration 53: time=0.65, ELBO=-2976692.10, deltaELBO=21.560 (0.00005689%), Factors=9\n",
      "Iteration 54: time=0.70, ELBO=-2976670.98, deltaELBO=21.117 (0.00005572%), Factors=9\n",
      "Iteration 55: time=0.69, ELBO=-2976650.29, deltaELBO=20.693 (0.00005460%), Factors=9\n",
      "Iteration 56: time=0.66, ELBO=-2976629.99, deltaELBO=20.297 (0.00005355%), Factors=9\n",
      "Iteration 57: time=0.69, ELBO=-2976610.06, deltaELBO=19.932 (0.00005259%), Factors=9\n",
      "Iteration 58: time=0.65, ELBO=-2976590.45, deltaELBO=19.608 (0.00005174%), Factors=9\n",
      "Iteration 59: time=0.64, ELBO=-2976571.10, deltaELBO=19.353 (0.00005106%), Factors=9\n",
      "Iteration 60: time=0.67, ELBO=-2976551.82, deltaELBO=19.279 (0.00005087%), Factors=9\n",
      "Iteration 61: time=0.66, ELBO=-2976532.43, deltaELBO=19.394 (0.00005117%), Factors=9\n",
      "Iteration 62: time=0.66, ELBO=-2976513.80, deltaELBO=18.631 (0.00004916%), Factors=9\n",
      "Iteration 63: time=0.65, ELBO=-2976495.89, deltaELBO=17.902 (0.00004723%), Factors=9\n",
      "\n",
      "Converged!\n",
      "\n",
      "\n",
      "\n",
      "#######################\n",
      "## Training finished ##\n",
      "#######################\n",
      "\n",
      "\n"
     ]
    }
   ],
   "source": [
    "ent.build()\n",
    "\n",
    "ent.run()"
   ]
  },
  {
   "cell_type": "code",
   "execution_count": 64,
   "metadata": {
    "ExecuteTime": {
     "end_time": "2020-06-16T04:21:56.558087Z",
     "start_time": "2020-06-16T04:21:53.863760Z"
    }
   },
   "outputs": [
    {
     "name": "stdout",
     "output_type": "stream",
     "text": [
      "Saving model in ../data/MOFA/protein_selected_drug_growth_corrected.hdf5...\n",
      "\n"
     ]
    }
   ],
   "source": [
    "ent.save(\"../data/MOFA/protein_selected_drug_growth_corrected.hdf5\")"
   ]
  },
  {
   "cell_type": "code",
   "execution_count": 65,
   "metadata": {
    "ExecuteTime": {
     "end_time": "2020-05-01T05:26:55.138926Z",
     "start_time": "2020-05-01T05:26:54.978130Z"
    }
   },
   "outputs": [
    {
     "data": {
      "text/plain": [
       "{'E': array([[-3.06389580e-01,  5.25482266e-02,  2.33203503e-01, ...,\n",
       "          1.09986094e-01, -2.71649546e-02, -4.27469905e-02],\n",
       "        [-3.53686433e-01, -8.70295027e-03,  1.47282077e-01, ...,\n",
       "          6.45156060e-02,  5.66297400e-04, -8.12869509e-02],\n",
       "        [-2.90927964e-01, -2.59971912e-04,  9.25504069e-02, ...,\n",
       "          6.68480944e-02, -2.92659145e-02, -1.13559825e-01],\n",
       "        ...,\n",
       "        [-1.89652516e-01,  5.21884208e-06,  1.39756152e-03, ...,\n",
       "         -2.63526404e-02,  6.44759674e-02, -8.63174987e-02],\n",
       "        [-1.14409190e-01,  7.23494697e-02,  3.49479564e-02, ...,\n",
       "         -8.10892368e-03,  1.97184220e-02, -1.05258269e-02],\n",
       "        [-3.13979705e-01,  2.35639294e-01,  6.30433274e-02, ...,\n",
       "          5.19892555e-02,  5.88159787e-04,  9.29303260e-02]]),\n",
       " 'EB': array([[1.        , 1.        , 1.        , ..., 1.        , 0.9891599 ,\n",
       "         0.9999996 ],\n",
       "        [1.        , 0.60564061, 1.        , ..., 0.99999997, 0.15281801,\n",
       "         1.        ],\n",
       "        [1.        , 0.06272991, 1.        , ..., 1.        , 0.98602166,\n",
       "         1.        ],\n",
       "        ...,\n",
       "        [1.        , 0.03674456, 0.17153082, ..., 0.98018298, 1.        ,\n",
       "         1.        ],\n",
       "        [1.        , 1.        , 0.99994723, ..., 0.41882696, 0.80566385,\n",
       "         0.52834485],\n",
       "        [1.        , 1.        , 0.99973363, ..., 0.91512741, 0.24658353,\n",
       "         0.99996798]]),\n",
       " 'EN': array([[-3.06389580e-01,  5.25482266e-02,  2.33203503e-01, ...,\n",
       "          1.09986094e-01, -2.74626525e-02, -4.27470075e-02],\n",
       "        [-3.53686433e-01, -1.43698261e-02,  1.47282077e-01, ...,\n",
       "          6.45156079e-02,  3.70569804e-03, -8.12869509e-02],\n",
       "        [-2.90927964e-01, -4.14430548e-03,  9.25504069e-02, ...,\n",
       "          6.68480944e-02, -2.96808027e-02, -1.13559825e-01],\n",
       "        ...,\n",
       "        [-1.89652516e-01,  1.42030349e-04,  8.14758247e-03, ...,\n",
       "         -2.68854295e-02,  6.44759674e-02, -8.63174987e-02],\n",
       "        [-1.14409190e-01,  7.23494697e-02,  3.49498009e-02, ...,\n",
       "         -1.93610354e-02,  2.44747508e-02, -1.99222663e-02],\n",
       "        [-3.13979705e-01,  2.35639294e-01,  6.30601248e-02, ...,\n",
       "          5.68109480e-02,  2.38523551e-03,  9.29333015e-02]]),\n",
       " 'E2': array([[9.39046699e-02, 2.78076142e-03, 5.44143343e-02, ...,\n",
       "         1.21655817e-02, 8.03187576e-04, 1.88062275e-03],\n",
       "        [1.25141536e-01, 1.43615335e-04, 2.17399470e-02, ...,\n",
       "         4.26985705e-03, 1.58854181e-05, 6.69126149e-03],\n",
       "        [8.46781080e-02, 2.59355334e-06, 8.60381814e-03, ...,\n",
       "         4.55505171e-03, 9.39127449e-04, 1.29627031e-02],\n",
       "        ...,\n",
       "        [3.59938600e-02, 5.87165815e-07, 1.57701641e-05, ...,\n",
       "         7.65140874e-04, 4.20452672e-03, 7.49450364e-03],\n",
       "        [1.31394660e-02, 5.26547369e-03, 1.27069577e-03, ...,\n",
       "         2.03067105e-04, 5.58221180e-04, 2.56000586e-04],\n",
       "        [9.87976725e-02, 5.56549365e-02, 4.17267354e-03, ...,\n",
       "         3.35013152e-03, 8.52634187e-05, 9.00273889e-03]]),\n",
       " 'ENN': array([[0.09390467, 0.00278076, 0.05441433, ..., 0.01216558, 0.00083818,\n",
       "         0.00188063],\n",
       "        [0.12514154, 0.00447431, 0.02173995, ..., 0.00426986, 0.00275101,\n",
       "         0.00669126],\n",
       "        [0.08467811, 0.01029531, 0.00860382, ..., 0.00455505, 0.00098426,\n",
       "         0.0129627 ],\n",
       "        ...,\n",
       "        [0.03599386, 0.01057866, 0.00664979, ..., 0.00089189, 0.00420453,\n",
       "         0.0074945 ],\n",
       "        [0.01313947, 0.00526547, 0.00127112, ..., 0.00392029, 0.00118564,\n",
       "         0.00330811],\n",
       "        [0.09879767, 0.05565494, 0.00417481, ..., 0.00389298, 0.00251767,\n",
       "         0.00900295]])}"
      ]
     },
     "execution_count": 65,
     "metadata": {},
     "output_type": "execute_result"
    }
   ],
   "source": [
    "ent.model.getExpectations()['W'][1]"
   ]
  },
  {
   "cell_type": "code",
   "execution_count": 64,
   "metadata": {
    "ExecuteTime": {
     "end_time": "2020-05-01T05:26:44.533465Z",
     "start_time": "2020-05-01T05:26:44.383295Z"
    }
   },
   "outputs": [
    {
     "data": {
      "text/plain": [
       "{'E': array([[-5.89142176e-02, -1.62332995e-03, -4.44567325e-03, ...,\n",
       "          5.10156557e-05,  1.63016731e-02,  4.46569126e-02],\n",
       "        [-4.25091455e-03,  4.25256788e-02, -2.05447048e-02, ...,\n",
       "          5.20456156e-04, -1.87950818e-02,  2.53352736e-02],\n",
       "        [-6.58992481e-02,  3.42068408e-03, -4.73004881e-02, ...,\n",
       "         -2.96164425e-03, -1.65514579e-02,  9.40613850e-02],\n",
       "        ...,\n",
       "        [ 4.42667765e-02,  9.83416306e-02,  1.06673249e-03, ...,\n",
       "          5.84138008e-03,  9.83028069e-04, -3.35706973e-02],\n",
       "        [ 9.85783333e-02,  1.53912883e-01,  5.90176224e-03, ...,\n",
       "          1.34594656e-02, -4.00593602e-03, -5.45793633e-02],\n",
       "        [ 8.65896041e-02,  8.73822137e-02,  4.37233490e-03, ...,\n",
       "          2.72492946e-03, -1.19277253e-02, -6.77066748e-02]]),\n",
       " 'EB': array([[0.99951741, 0.14511979, 0.33287473, ..., 0.30840132, 0.60621148,\n",
       "         0.95182174],\n",
       "        [0.25866503, 0.98750645, 0.68260118, ..., 0.35179966, 0.61487055,\n",
       "         0.66459437],\n",
       "        [0.97474816, 0.20090873, 0.9311337 , ..., 0.39696033, 0.56299281,\n",
       "         0.99823939],\n",
       "        ...,\n",
       "        [0.99999672, 1.        , 0.18910957, ..., 0.39553797, 0.23131919,\n",
       "         0.95551876],\n",
       "        [1.        , 1.        , 0.40574147, ..., 0.58528106, 0.33422722,\n",
       "         0.99852636],\n",
       "        [1.        , 1.        , 0.33135603, ..., 0.32595077, 0.52430546,\n",
       "         0.99866707]]),\n",
       " 'EN': array([[-0.05894266, -0.01118614, -0.01335539, ...,  0.00016542,\n",
       "          0.02689107,  0.04691731],\n",
       "        [-0.01643405,  0.0430637 , -0.03009767, ...,  0.00147941,\n",
       "         -0.03056754,  0.03812141],\n",
       "        [-0.06760643,  0.01702606, -0.05079881, ..., -0.00746081,\n",
       "         -0.02939906,  0.09422728],\n",
       "        ...,\n",
       "        [ 0.04426692,  0.09834163,  0.00564082, ...,  0.01476819,\n",
       "          0.00424966, -0.03513348],\n",
       "        [ 0.09857833,  0.15391288,  0.01454562, ...,  0.02299658,\n",
       "         -0.01198567, -0.05465991],\n",
       "        [ 0.0865896 ,  0.08738221,  0.01319528, ...,  0.00835994,\n",
       "         -0.02274957, -0.06779704]]),\n",
       " 'E2': array([[3.65765938e-03, 3.03061553e-05, 1.13001299e-04, ...,\n",
       "         9.62252895e-05, 6.07669971e-04, 2.33801586e-03],\n",
       "        [1.47734206e-04, 1.96932737e-03, 7.91231736e-04, ...,\n",
       "         1.62596687e-04, 8.26771579e-04, 1.23724606e-03],\n",
       "        [4.90615058e-03, 1.02950483e-04, 2.75318849e-03, ...,\n",
       "         2.68877791e-04, 8.05451573e-04, 9.47593218e-03],\n",
       "        ...,\n",
       "        [2.02535409e-03, 9.71447177e-03, 1.84082162e-05, ...,\n",
       "         1.40628284e-04, 3.25599519e-05, 1.30404512e-03],\n",
       "        [9.81076842e-03, 2.37507372e-02, 1.23320006e-04, ...,\n",
       "         4.19688334e-04, 1.04677068e-04, 3.16963187e-03],\n",
       "        [7.64924177e-03, 7.73653373e-03, 1.06242473e-04, ...,\n",
       "         1.16593415e-04, 4.07391051e-04, 4.88146961e-03]]),\n",
       " 'ENN': array([[0.00366059, 0.01110251, 0.00141916, ..., 0.00118141, 0.00122582,\n",
       "         0.00251393],\n",
       "        [0.0046437 , 0.00213114, 0.00141267, ..., 0.00117968, 0.00143133,\n",
       "         0.00246194],\n",
       "        [0.0050593 , 0.01045259, 0.00288802, ..., 0.0012151 , 0.00149144,\n",
       "         0.00948236],\n",
       "        ...,\n",
       "        [0.00202537, 0.00971447, 0.00160605, ..., 0.00108909, 0.00123919,\n",
       "         0.00146646],\n",
       "        [0.00981077, 0.02375074, 0.00128682, ..., 0.00107042, 0.00114977,\n",
       "         0.00317501],\n",
       "        [0.00764924, 0.00773653, 0.00141538, ..., 0.00117424, 0.00115411,\n",
       "         0.00488634]])}"
      ]
     },
     "execution_count": 64,
     "metadata": {},
     "output_type": "execute_result"
    }
   ],
   "source": [
    "ent.model.getExpectations()['W'][0]"
   ]
  }
 ],
 "metadata": {
  "kernelspec": {
   "display_name": "Python 3",
   "language": "python",
   "name": "python3"
  },
  "language_info": {
   "codemirror_mode": {
    "name": "ipython",
    "version": 3
   },
   "file_extension": ".py",
   "mimetype": "text/x-python",
   "name": "python",
   "nbconvert_exporter": "python",
   "pygments_lexer": "ipython3",
   "version": "3.8.2"
  },
  "toc": {
   "base_numbering": 1,
   "nav_menu": {},
   "number_sections": true,
   "sideBar": true,
   "skip_h1_title": false,
   "title_cell": "Table of Contents",
   "title_sidebar": "Contents",
   "toc_cell": false,
   "toc_position": {},
   "toc_section_display": true,
   "toc_window_display": false
  }
 },
 "nbformat": 4,
 "nbformat_minor": 4
}
