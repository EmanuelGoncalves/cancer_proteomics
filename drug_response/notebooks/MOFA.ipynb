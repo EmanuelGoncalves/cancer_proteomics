{
 "cells": [
  {
   "cell_type": "code",
   "execution_count": 1,
   "metadata": {
    "ExecuteTime": {
     "end_time": "2020-06-20T15:29:26.948554Z",
     "start_time": "2020-06-20T15:29:26.029305Z"
    }
   },
   "outputs": [],
   "source": [
    "from mofapy2.run.entry_point import entry_point\n",
    "import pandas as pd\n",
    "import numpy as np\n",
    "import seaborn as sns\n",
    "import matplotlib.pyplot as plt"
   ]
  },
  {
   "cell_type": "markdown",
   "metadata": {},
   "source": [
    "# data preparation"
   ]
  },
  {
   "cell_type": "code",
   "execution_count": 2,
   "metadata": {
    "ExecuteTime": {
     "end_time": "2020-06-20T15:29:28.182236Z",
     "start_time": "2020-06-20T15:29:27.473072Z"
    }
   },
   "outputs": [],
   "source": [
    "protein_sample = pd.read_csv(\"../data/protein/E0022_P06_Protein_Matrix_ProNorM_no_control_update.txt\", sep='\\t')"
   ]
  },
  {
   "cell_type": "code",
   "execution_count": 3,
   "metadata": {
    "ExecuteTime": {
     "end_time": "2020-06-20T15:29:32.811564Z",
     "start_time": "2020-06-20T15:29:32.801336Z"
    }
   },
   "outputs": [],
   "source": [
    "drug_score = pd.read_csv(\"../data/drug/final_drug_scores_eg_id.tsv\", sep=\"\\t\")\n",
    "drug_list = drug_score[\n",
    "    (drug_score['MultiDrug_correlation'] > 0.4) & (drug_score['sensitive_count'] > 20)][\n",
    "    'drug_id'].values"
   ]
  },
  {
   "cell_type": "code",
   "execution_count": 4,
   "metadata": {
    "ExecuteTime": {
     "end_time": "2020-06-20T15:29:34.212175Z",
     "start_time": "2020-06-20T15:29:33.642031Z"
    }
   },
   "outputs": [],
   "source": [
    "protein_mofa = protein_sample.melt(id_vars='Cell_line',\n",
    "                                   value_name='value',\n",
    "                                   var_name='feature')\n",
    "protein_mofa['view'] = 'protein'\n",
    "protein_mofa['group'] = 'group_0'\n",
    "protein_mofa = protein_mofa.rename(columns={'Cell_line': 'sample'})\n",
    "protein_mofa = protein_mofa[['sample', 'group', 'feature', 'view', 'value']]"
   ]
  },
  {
   "cell_type": "code",
   "execution_count": 6,
   "metadata": {
    "ExecuteTime": {
     "end_time": "2020-06-20T15:30:00.366576Z",
     "start_time": "2020-06-20T15:29:56.887941Z"
    }
   },
   "outputs": [],
   "source": [
    "ic50 = pd.read_csv(\"../data/drug/drug_final_processed_eg_id.csv.gz\")"
   ]
  },
  {
   "cell_type": "code",
   "execution_count": 7,
   "metadata": {
    "ExecuteTime": {
     "end_time": "2020-06-20T15:30:03.347572Z",
     "start_time": "2020-06-20T15:30:02.608470Z"
    }
   },
   "outputs": [],
   "source": [
    "ic50_mofa = ic50[ic50['cell_line_name'].isin(protein_mofa['sample'].unique())]\n",
    "ic50_mofa = ic50_mofa.rename(columns={'cell_line_name':'sample', 'drug_id':'feature', 'ln_IC50':'value'})\n",
    "ic50_mofa['view'] = 'drug'\n",
    "ic50_mofa['group'] = 'group_0'\n",
    "ic50_mofa = ic50_mofa[['sample', 'group', 'feature', 'view', 'value']]"
   ]
  },
  {
   "cell_type": "code",
   "execution_count": 8,
   "metadata": {
    "ExecuteTime": {
     "end_time": "2020-06-20T15:30:03.394612Z",
     "start_time": "2020-06-20T15:30:03.349623Z"
    }
   },
   "outputs": [],
   "source": [
    "ic50_mofa = ic50_mofa[ic50_mofa['feature'].isin(drug_list)]"
   ]
  },
  {
   "cell_type": "code",
   "execution_count": 9,
   "metadata": {
    "ExecuteTime": {
     "end_time": "2020-06-20T15:30:03.819394Z",
     "start_time": "2020-06-20T15:30:03.758631Z"
    }
   },
   "outputs": [],
   "source": [
    "combined_mofa = pd.concat([protein_mofa, ic50_mofa])"
   ]
  },
  {
   "cell_type": "code",
   "execution_count": 10,
   "metadata": {
    "ExecuteTime": {
     "end_time": "2020-06-20T15:30:04.122547Z",
     "start_time": "2020-06-20T15:30:04.118995Z"
    }
   },
   "outputs": [
    {
     "data": {
      "text/plain": [
       "(3698406, 5)"
      ]
     },
     "execution_count": 10,
     "metadata": {},
     "output_type": "execute_result"
    }
   ],
   "source": [
    "combined_mofa.shape"
   ]
  },
  {
   "cell_type": "markdown",
   "metadata": {},
   "source": [
    "# train model"
   ]
  },
  {
   "cell_type": "code",
   "execution_count": 16,
   "metadata": {
    "ExecuteTime": {
     "end_time": "2020-06-20T15:31:26.396900Z",
     "start_time": "2020-06-20T15:31:26.393767Z"
    }
   },
   "outputs": [
    {
     "name": "stdout",
     "output_type": "stream",
     "text": [
      "\n",
      "        #########################################################\n",
      "        ###           __  __  ____  ______                    ### \n",
      "        ###          |  \\/  |/ __ \\|  ____/\\    _             ### \n",
      "        ###          | \\  / | |  | | |__ /  \\ _| |_           ### \n",
      "        ###          | |\\/| | |  | |  __/ /\\ \\_   _|          ###\n",
      "        ###          | |  | | |__| | | / ____ \\|_|            ###\n",
      "        ###          |_|  |_|\\____/|_|/_/    \\_\\              ###\n",
      "        ###                                                   ### \n",
      "        ######################################################### \n",
      "       \n",
      " \n",
      "        \n",
      "Scaling views to unit variance...\n",
      "\n"
     ]
    }
   ],
   "source": [
    "ent = entry_point()\n",
    "ent.set_data_options(\n",
    "    scale_groups = False, \n",
    "    scale_views = True\n",
    ")"
   ]
  },
  {
   "cell_type": "code",
   "execution_count": 17,
   "metadata": {
    "ExecuteTime": {
     "end_time": "2020-06-20T15:31:33.391071Z",
     "start_time": "2020-06-20T15:31:27.345080Z"
    }
   },
   "outputs": [
    {
     "name": "stdout",
     "output_type": "stream",
     "text": [
      "Loaded group='group_0' view='drug' with N=976 samples and D=426 features...\n",
      "Loaded group='group_0' view='protein' with N=979 samples and D=3425 features...\n",
      "\n",
      "\n"
     ]
    }
   ],
   "source": [
    "ent.set_data_df(combined_mofa, likelihoods = [\"gaussian\",\"gaussian\"])"
   ]
  },
  {
   "cell_type": "code",
   "execution_count": 18,
   "metadata": {
    "ExecuteTime": {
     "end_time": "2020-06-20T15:31:34.181574Z",
     "start_time": "2020-06-20T15:31:34.178409Z"
    }
   },
   "outputs": [
    {
     "name": "stdout",
     "output_type": "stream",
     "text": [
      "Model options:\n",
      "- Automatic Relevance Determination prior on the factors: True\n",
      "- Automatic Relevance Determination prior on the weights: True\n",
      "- Spike-and-slab prior on the factors: False\n",
      "- Spike-and-slab prior on the weights: True \n",
      "\n",
      "Likelihoods:\n",
      "- View 0 (drug): gaussian\n",
      "- View 1 (protein): gaussian\n"
     ]
    }
   ],
   "source": [
    "ent.set_model_options(\n",
    "    factors = 10, \n",
    "    spikeslab_weights = True, \n",
    "    ard_factors = True,\n",
    "    ard_weights = True\n",
    ")"
   ]
  },
  {
   "cell_type": "code",
   "execution_count": 19,
   "metadata": {
    "ExecuteTime": {
     "end_time": "2020-06-20T15:31:35.493197Z",
     "start_time": "2020-06-20T15:31:35.490511Z"
    }
   },
   "outputs": [],
   "source": [
    "ent.set_train_options(\n",
    "    iter = 1000, \n",
    "    convergence_mode = \"fast\", \n",
    "    startELBO = 1, \n",
    "    freqELBO = 1, \n",
    "    dropR2 = 0.001, \n",
    "    gpu_mode = False, \n",
    "    verbose = False, \n",
    "    seed = 1\n",
    ")"
   ]
  },
  {
   "cell_type": "code",
   "execution_count": 20,
   "metadata": {
    "ExecuteTime": {
     "end_time": "2020-06-20T15:32:38.970193Z",
     "start_time": "2020-06-20T15:31:37.017367Z"
    },
    "scrolled": false
   },
   "outputs": [
    {
     "name": "stdout",
     "output_type": "stream",
     "text": [
      "\n",
      "\n",
      "######################################\n",
      "## Training the model with seed 1 ##\n",
      "######################################\n",
      "\n",
      "\n",
      "ELBO before training: -37722351.59 \n",
      "\n",
      "Iteration 1: time=0.57, ELBO=-3393154.18, deltaELBO=34329197.414 (91.00492405%), Factors=9\n",
      "Iteration 2: time=0.55, ELBO=-3059707.18, deltaELBO=333447.001 (0.88395073%), Factors=9\n",
      "Iteration 3: time=0.58, ELBO=-3025359.63, deltaELBO=34347.549 (0.09105357%), Factors=9\n",
      "Iteration 4: time=0.57, ELBO=-2992865.90, deltaELBO=32493.729 (0.08613919%), Factors=9\n",
      "Iteration 5: time=0.55, ELBO=-2976095.01, deltaELBO=16770.889 (0.04445876%), Factors=9\n",
      "Iteration 6: time=0.52, ELBO=-2968047.57, deltaELBO=8047.441 (0.02133335%), Factors=9\n",
      "Iteration 7: time=0.54, ELBO=-2962886.03, deltaELBO=5161.542 (0.01368298%), Factors=9\n",
      "Iteration 8: time=0.53, ELBO=-2959424.30, deltaELBO=3461.726 (0.00917686%), Factors=9\n",
      "Iteration 9: time=0.54, ELBO=-2957323.55, deltaELBO=2100.747 (0.00556897%), Factors=9\n",
      "Iteration 10: time=0.56, ELBO=-2956160.25, deltaELBO=1163.302 (0.00308385%), Factors=9\n",
      "Iteration 11: time=0.51, ELBO=-2955525.97, deltaELBO=634.284 (0.00168145%), Factors=9\n",
      "Iteration 12: time=0.51, ELBO=-2955160.21, deltaELBO=365.755 (0.00096960%), Factors=9\n",
      "Iteration 13: time=0.52, ELBO=-2954929.01, deltaELBO=231.206 (0.00061292%), Factors=9\n",
      "Iteration 14: time=0.51, ELBO=-2954767.63, deltaELBO=161.376 (0.00042780%), Factors=9\n",
      "Iteration 15: time=0.52, ELBO=-2954643.71, deltaELBO=123.917 (0.00032850%), Factors=9\n",
      "Iteration 16: time=0.53, ELBO=-2954540.79, deltaELBO=102.922 (0.00027284%), Factors=9\n",
      "Iteration 17: time=0.54, ELBO=-2954450.60, deltaELBO=90.194 (0.00023910%), Factors=9\n",
      "Iteration 18: time=0.53, ELBO=-2954368.85, deltaELBO=81.747 (0.00021671%), Factors=9\n",
      "Iteration 19: time=0.52, ELBO=-2954293.20, deltaELBO=75.647 (0.00020054%), Factors=9\n",
      "Iteration 20: time=0.52, ELBO=-2954222.40, deltaELBO=70.807 (0.00018771%), Factors=9\n",
      "Iteration 21: time=0.50, ELBO=-2954155.72, deltaELBO=66.676 (0.00017675%), Factors=9\n",
      "Iteration 22: time=0.53, ELBO=-2954092.66, deltaELBO=63.058 (0.00016716%), Factors=9\n",
      "Iteration 23: time=0.52, ELBO=-2954032.82, deltaELBO=59.838 (0.00015863%), Factors=9\n",
      "Iteration 24: time=0.50, ELBO=-2953975.93, deltaELBO=56.893 (0.00015082%), Factors=9\n",
      "Iteration 25: time=0.51, ELBO=-2953921.84, deltaELBO=54.091 (0.00014339%), Factors=9\n",
      "Iteration 26: time=0.52, ELBO=-2953870.52, deltaELBO=51.324 (0.00013606%), Factors=9\n",
      "Iteration 27: time=0.57, ELBO=-2953822.00, deltaELBO=48.520 (0.00012862%), Factors=9\n",
      "Iteration 28: time=0.58, ELBO=-2953776.30, deltaELBO=45.700 (0.00012115%), Factors=9\n",
      "Iteration 29: time=0.56, ELBO=-2953733.32, deltaELBO=42.977 (0.00011393%), Factors=9\n",
      "Iteration 30: time=0.54, ELBO=-2953692.85, deltaELBO=40.470 (0.00010728%), Factors=9\n",
      "Iteration 31: time=0.54, ELBO=-2953654.62, deltaELBO=38.230 (0.00010135%), Factors=9\n",
      "Iteration 32: time=0.53, ELBO=-2953618.37, deltaELBO=36.248 (0.00009609%), Factors=9\n",
      "Iteration 33: time=0.53, ELBO=-2953583.87, deltaELBO=34.498 (0.00009145%), Factors=9\n",
      "Iteration 34: time=0.53, ELBO=-2953550.91, deltaELBO=32.960 (0.00008738%), Factors=9\n",
      "Iteration 35: time=0.54, ELBO=-2953519.30, deltaELBO=31.617 (0.00008381%), Factors=9\n",
      "Iteration 36: time=0.54, ELBO=-2953488.85, deltaELBO=30.449 (0.00008072%), Factors=9\n",
      "Iteration 37: time=0.55, ELBO=-2953459.41, deltaELBO=29.437 (0.00007804%), Factors=9\n",
      "Iteration 38: time=0.56, ELBO=-2953430.85, deltaELBO=28.561 (0.00007571%), Factors=9\n",
      "Iteration 39: time=0.55, ELBO=-2953403.04, deltaELBO=27.806 (0.00007371%), Factors=9\n",
      "Iteration 40: time=0.56, ELBO=-2953375.89, deltaELBO=27.152 (0.00007198%), Factors=9\n",
      "Iteration 41: time=0.56, ELBO=-2953349.31, deltaELBO=26.577 (0.00007045%), Factors=9\n",
      "Iteration 42: time=0.54, ELBO=-2953323.24, deltaELBO=26.069 (0.00006911%), Factors=9\n",
      "Iteration 43: time=0.59, ELBO=-2953297.62, deltaELBO=25.624 (0.00006793%), Factors=9\n",
      "Iteration 44: time=0.58, ELBO=-2953272.38, deltaELBO=25.240 (0.00006691%), Factors=9\n",
      "Iteration 45: time=0.56, ELBO=-2953247.47, deltaELBO=24.912 (0.00006604%), Factors=9\n",
      "Iteration 46: time=0.58, ELBO=-2953222.84, deltaELBO=24.632 (0.00006530%), Factors=9\n",
      "Iteration 47: time=0.57, ELBO=-2953198.44, deltaELBO=24.398 (0.00006468%), Factors=9\n",
      "Iteration 48: time=0.57, ELBO=-2953174.22, deltaELBO=24.214 (0.00006419%), Factors=9\n",
      "Iteration 49: time=0.59, ELBO=-2953150.13, deltaELBO=24.089 (0.00006386%), Factors=9\n",
      "Iteration 50: time=0.57, ELBO=-2953126.09, deltaELBO=24.040 (0.00006373%), Factors=9\n",
      "Iteration 51: time=0.55, ELBO=-2953102.01, deltaELBO=24.079 (0.00006383%), Factors=9\n",
      "Iteration 52: time=0.54, ELBO=-2953077.81, deltaELBO=24.207 (0.00006417%), Factors=9\n",
      "Iteration 53: time=0.54, ELBO=-2953053.39, deltaELBO=24.416 (0.00006473%), Factors=9\n",
      "Iteration 54: time=0.57, ELBO=-2953028.70, deltaELBO=24.696 (0.00006547%), Factors=9\n",
      "Iteration 55: time=0.55, ELBO=-2953003.66, deltaELBO=25.031 (0.00006636%), Factors=9\n",
      "Iteration 56: time=0.55, ELBO=-2952978.27, deltaELBO=25.399 (0.00006733%), Factors=9\n",
      "Iteration 57: time=0.55, ELBO=-2952952.47, deltaELBO=25.795 (0.00006838%), Factors=9\n",
      "Iteration 58: time=0.55, ELBO=-2952926.22, deltaELBO=26.249 (0.00006958%), Factors=9\n",
      "Iteration 59: time=0.56, ELBO=-2952899.43, deltaELBO=26.786 (0.00007101%), Factors=9\n",
      "Iteration 60: time=0.56, ELBO=-2952872.02, deltaELBO=27.411 (0.00007266%), Factors=9\n",
      "Iteration 61: time=0.57, ELBO=-2952843.91, deltaELBO=28.119 (0.00007454%), Factors=9\n",
      "Iteration 62: time=0.55, ELBO=-2952815.00, deltaELBO=28.909 (0.00007664%), Factors=9\n",
      "Iteration 63: time=0.53, ELBO=-2952785.22, deltaELBO=29.774 (0.00007893%), Factors=9\n",
      "Iteration 64: time=0.55, ELBO=-2952754.53, deltaELBO=30.695 (0.00008137%), Factors=9\n",
      "Iteration 65: time=0.56, ELBO=-2952722.89, deltaELBO=31.633 (0.00008386%), Factors=9\n",
      "Iteration 66: time=0.55, ELBO=-2952690.36, deltaELBO=32.536 (0.00008625%), Factors=9\n",
      "Iteration 67: time=0.55, ELBO=-2952656.99, deltaELBO=33.366 (0.00008845%), Factors=9\n",
      "Iteration 68: time=0.58, ELBO=-2952622.87, deltaELBO=34.121 (0.00009045%), Factors=9\n",
      "Iteration 69: time=0.60, ELBO=-2952588.06, deltaELBO=34.813 (0.00009229%), Factors=9\n",
      "Iteration 70: time=0.55, ELBO=-2952552.60, deltaELBO=35.453 (0.00009399%), Factors=9\n",
      "Iteration 71: time=0.55, ELBO=-2952516.55, deltaELBO=36.049 (0.00009556%), Factors=9\n",
      "Iteration 72: time=0.56, ELBO=-2952479.92, deltaELBO=36.637 (0.00009712%), Factors=9\n",
      "Iteration 73: time=0.56, ELBO=-2952442.65, deltaELBO=37.272 (0.00009881%), Factors=9\n",
      "Iteration 74: time=0.54, ELBO=-2952404.65, deltaELBO=37.992 (0.00010072%), Factors=9\n",
      "Iteration 75: time=0.53, ELBO=-2952365.84, deltaELBO=38.812 (0.00010289%), Factors=9\n",
      "Iteration 76: time=0.52, ELBO=-2952326.12, deltaELBO=39.725 (0.00010531%), Factors=9\n",
      "Iteration 77: time=0.55, ELBO=-2952285.42, deltaELBO=40.702 (0.00010790%), Factors=9\n",
      "Iteration 78: time=0.53, ELBO=-2952243.75, deltaELBO=41.666 (0.00011045%), Factors=9\n",
      "Iteration 79: time=0.54, ELBO=-2952201.28, deltaELBO=42.473 (0.00011259%), Factors=9\n",
      "Iteration 80: time=0.54, ELBO=-2952158.25, deltaELBO=43.027 (0.00011406%), Factors=9\n",
      "Iteration 81: time=0.54, ELBO=-2952114.86, deltaELBO=43.387 (0.00011502%), Factors=9\n",
      "Iteration 82: time=0.55, ELBO=-2952071.19, deltaELBO=43.674 (0.00011578%), Factors=9\n",
      "Iteration 83: time=0.53, ELBO=-2952027.16, deltaELBO=44.028 (0.00011672%), Factors=9\n",
      "Iteration 84: time=0.56, ELBO=-2951982.77, deltaELBO=44.394 (0.00011768%), Factors=9\n",
      "Iteration 85: time=0.54, ELBO=-2951938.39, deltaELBO=44.373 (0.00011763%), Factors=9\n",
      "Iteration 86: time=0.56, ELBO=-2951894.08, deltaELBO=44.312 (0.00011747%), Factors=9\n",
      "Iteration 87: time=0.57, ELBO=-2951849.83, deltaELBO=44.253 (0.00011731%), Factors=9\n",
      "Iteration 88: time=0.55, ELBO=-2951805.72, deltaELBO=44.106 (0.00011692%), Factors=9\n",
      "Iteration 89: time=0.55, ELBO=-2951761.68, deltaELBO=44.045 (0.00011676%), Factors=9\n",
      "Iteration 90: time=0.55, ELBO=-2951717.21, deltaELBO=44.466 (0.00011788%), Factors=9\n",
      "Iteration 91: time=0.56, ELBO=-2951672.10, deltaELBO=45.113 (0.00011959%), Factors=9\n",
      "Iteration 92: time=0.55, ELBO=-2951627.18, deltaELBO=44.918 (0.00011907%), Factors=9\n",
      "Iteration 93: time=0.55, ELBO=-2951583.68, deltaELBO=43.502 (0.00011532%), Factors=9\n",
      "Iteration 94: time=0.55, ELBO=-2951542.32, deltaELBO=41.360 (0.00010964%), Factors=9\n",
      "Iteration 95: time=0.60, ELBO=-2951503.51, deltaELBO=38.809 (0.00010288%), Factors=9\n"
     ]
    },
    {
     "name": "stdout",
     "output_type": "stream",
     "text": [
      "Iteration 96: time=0.57, ELBO=-2951467.49, deltaELBO=36.023 (0.00009550%), Factors=9\n",
      "Iteration 97: time=0.58, ELBO=-2951434.19, deltaELBO=33.294 (0.00008826%), Factors=9\n",
      "Iteration 98: time=0.57, ELBO=-2951403.45, deltaELBO=30.746 (0.00008151%), Factors=9\n",
      "Iteration 99: time=0.56, ELBO=-2951375.03, deltaELBO=28.411 (0.00007532%), Factors=9\n",
      "Iteration 100: time=0.54, ELBO=-2936769.99, deltaELBO=14605.042 (0.03871721%), Factors=9\n",
      "Iteration 101: time=0.56, ELBO=-2935251.21, deltaELBO=1518.779 (0.00402620%), Factors=9\n",
      "Iteration 102: time=0.57, ELBO=-2934684.85, deltaELBO=566.363 (0.00150140%), Factors=9\n",
      "Iteration 103: time=0.56, ELBO=-2934413.47, deltaELBO=271.385 (0.00071943%), Factors=9\n",
      "Iteration 104: time=0.57, ELBO=-2934266.22, deltaELBO=147.249 (0.00039035%), Factors=9\n",
      "Iteration 105: time=0.57, ELBO=-2934176.78, deltaELBO=89.438 (0.00023710%), Factors=9\n",
      "Iteration 106: time=0.55, ELBO=-2934116.88, deltaELBO=59.897 (0.00015878%), Factors=9\n",
      "Iteration 107: time=0.54, ELBO=-2934073.51, deltaELBO=43.374 (0.00011498%), Factors=9\n",
      "Iteration 108: time=0.57, ELBO=-2934040.17, deltaELBO=33.338 (0.00008838%), Factors=9\n",
      "Iteration 109: time=0.56, ELBO=-2934013.39, deltaELBO=26.775 (0.00007098%), Factors=9\n",
      "Iteration 110: time=0.55, ELBO=-2933991.20, deltaELBO=22.199 (0.00005885%), Factors=9\n",
      "Iteration 111: time=0.56, ELBO=-2933972.36, deltaELBO=18.831 (0.00004992%), Factors=9\n",
      "Iteration 112: time=0.56, ELBO=-2933956.12, deltaELBO=16.244 (0.00004306%), Factors=9\n",
      "\n",
      "Converged!\n",
      "\n",
      "\n",
      "\n",
      "#######################\n",
      "## Training finished ##\n",
      "#######################\n",
      "\n",
      "\n"
     ]
    }
   ],
   "source": [
    "ent.build()\n",
    "\n",
    "ent.run()"
   ]
  },
  {
   "cell_type": "code",
   "execution_count": 21,
   "metadata": {
    "ExecuteTime": {
     "end_time": "2020-06-20T15:33:02.123302Z",
     "start_time": "2020-06-20T15:32:59.446296Z"
    }
   },
   "outputs": [
    {
     "name": "stdout",
     "output_type": "stream",
     "text": [
      "Saving model in ../data/MOFA/protein_selected_drug_eg_id.hdf5...\n",
      "\n"
     ]
    }
   ],
   "source": [
    "ent.save(\"../data/MOFA/protein_selected_drug_eg_id.hdf5\")"
   ]
  },
  {
   "cell_type": "code",
   "execution_count": 65,
   "metadata": {
    "ExecuteTime": {
     "end_time": "2020-05-01T05:26:55.138926Z",
     "start_time": "2020-05-01T05:26:54.978130Z"
    }
   },
   "outputs": [
    {
     "data": {
      "text/plain": [
       "{'E': array([[-3.06389580e-01,  5.25482266e-02,  2.33203503e-01, ...,\n",
       "          1.09986094e-01, -2.71649546e-02, -4.27469905e-02],\n",
       "        [-3.53686433e-01, -8.70295027e-03,  1.47282077e-01, ...,\n",
       "          6.45156060e-02,  5.66297400e-04, -8.12869509e-02],\n",
       "        [-2.90927964e-01, -2.59971912e-04,  9.25504069e-02, ...,\n",
       "          6.68480944e-02, -2.92659145e-02, -1.13559825e-01],\n",
       "        ...,\n",
       "        [-1.89652516e-01,  5.21884208e-06,  1.39756152e-03, ...,\n",
       "         -2.63526404e-02,  6.44759674e-02, -8.63174987e-02],\n",
       "        [-1.14409190e-01,  7.23494697e-02,  3.49479564e-02, ...,\n",
       "         -8.10892368e-03,  1.97184220e-02, -1.05258269e-02],\n",
       "        [-3.13979705e-01,  2.35639294e-01,  6.30433274e-02, ...,\n",
       "          5.19892555e-02,  5.88159787e-04,  9.29303260e-02]]),\n",
       " 'EB': array([[1.        , 1.        , 1.        , ..., 1.        , 0.9891599 ,\n",
       "         0.9999996 ],\n",
       "        [1.        , 0.60564061, 1.        , ..., 0.99999997, 0.15281801,\n",
       "         1.        ],\n",
       "        [1.        , 0.06272991, 1.        , ..., 1.        , 0.98602166,\n",
       "         1.        ],\n",
       "        ...,\n",
       "        [1.        , 0.03674456, 0.17153082, ..., 0.98018298, 1.        ,\n",
       "         1.        ],\n",
       "        [1.        , 1.        , 0.99994723, ..., 0.41882696, 0.80566385,\n",
       "         0.52834485],\n",
       "        [1.        , 1.        , 0.99973363, ..., 0.91512741, 0.24658353,\n",
       "         0.99996798]]),\n",
       " 'EN': array([[-3.06389580e-01,  5.25482266e-02,  2.33203503e-01, ...,\n",
       "          1.09986094e-01, -2.74626525e-02, -4.27470075e-02],\n",
       "        [-3.53686433e-01, -1.43698261e-02,  1.47282077e-01, ...,\n",
       "          6.45156079e-02,  3.70569804e-03, -8.12869509e-02],\n",
       "        [-2.90927964e-01, -4.14430548e-03,  9.25504069e-02, ...,\n",
       "          6.68480944e-02, -2.96808027e-02, -1.13559825e-01],\n",
       "        ...,\n",
       "        [-1.89652516e-01,  1.42030349e-04,  8.14758247e-03, ...,\n",
       "         -2.68854295e-02,  6.44759674e-02, -8.63174987e-02],\n",
       "        [-1.14409190e-01,  7.23494697e-02,  3.49498009e-02, ...,\n",
       "         -1.93610354e-02,  2.44747508e-02, -1.99222663e-02],\n",
       "        [-3.13979705e-01,  2.35639294e-01,  6.30601248e-02, ...,\n",
       "          5.68109480e-02,  2.38523551e-03,  9.29333015e-02]]),\n",
       " 'E2': array([[9.39046699e-02, 2.78076142e-03, 5.44143343e-02, ...,\n",
       "         1.21655817e-02, 8.03187576e-04, 1.88062275e-03],\n",
       "        [1.25141536e-01, 1.43615335e-04, 2.17399470e-02, ...,\n",
       "         4.26985705e-03, 1.58854181e-05, 6.69126149e-03],\n",
       "        [8.46781080e-02, 2.59355334e-06, 8.60381814e-03, ...,\n",
       "         4.55505171e-03, 9.39127449e-04, 1.29627031e-02],\n",
       "        ...,\n",
       "        [3.59938600e-02, 5.87165815e-07, 1.57701641e-05, ...,\n",
       "         7.65140874e-04, 4.20452672e-03, 7.49450364e-03],\n",
       "        [1.31394660e-02, 5.26547369e-03, 1.27069577e-03, ...,\n",
       "         2.03067105e-04, 5.58221180e-04, 2.56000586e-04],\n",
       "        [9.87976725e-02, 5.56549365e-02, 4.17267354e-03, ...,\n",
       "         3.35013152e-03, 8.52634187e-05, 9.00273889e-03]]),\n",
       " 'ENN': array([[0.09390467, 0.00278076, 0.05441433, ..., 0.01216558, 0.00083818,\n",
       "         0.00188063],\n",
       "        [0.12514154, 0.00447431, 0.02173995, ..., 0.00426986, 0.00275101,\n",
       "         0.00669126],\n",
       "        [0.08467811, 0.01029531, 0.00860382, ..., 0.00455505, 0.00098426,\n",
       "         0.0129627 ],\n",
       "        ...,\n",
       "        [0.03599386, 0.01057866, 0.00664979, ..., 0.00089189, 0.00420453,\n",
       "         0.0074945 ],\n",
       "        [0.01313947, 0.00526547, 0.00127112, ..., 0.00392029, 0.00118564,\n",
       "         0.00330811],\n",
       "        [0.09879767, 0.05565494, 0.00417481, ..., 0.00389298, 0.00251767,\n",
       "         0.00900295]])}"
      ]
     },
     "execution_count": 65,
     "metadata": {},
     "output_type": "execute_result"
    }
   ],
   "source": [
    "ent.model.getExpectations()['W'][1]"
   ]
  },
  {
   "cell_type": "code",
   "execution_count": 64,
   "metadata": {
    "ExecuteTime": {
     "end_time": "2020-05-01T05:26:44.533465Z",
     "start_time": "2020-05-01T05:26:44.383295Z"
    }
   },
   "outputs": [
    {
     "data": {
      "text/plain": [
       "{'E': array([[-5.89142176e-02, -1.62332995e-03, -4.44567325e-03, ...,\n",
       "          5.10156557e-05,  1.63016731e-02,  4.46569126e-02],\n",
       "        [-4.25091455e-03,  4.25256788e-02, -2.05447048e-02, ...,\n",
       "          5.20456156e-04, -1.87950818e-02,  2.53352736e-02],\n",
       "        [-6.58992481e-02,  3.42068408e-03, -4.73004881e-02, ...,\n",
       "         -2.96164425e-03, -1.65514579e-02,  9.40613850e-02],\n",
       "        ...,\n",
       "        [ 4.42667765e-02,  9.83416306e-02,  1.06673249e-03, ...,\n",
       "          5.84138008e-03,  9.83028069e-04, -3.35706973e-02],\n",
       "        [ 9.85783333e-02,  1.53912883e-01,  5.90176224e-03, ...,\n",
       "          1.34594656e-02, -4.00593602e-03, -5.45793633e-02],\n",
       "        [ 8.65896041e-02,  8.73822137e-02,  4.37233490e-03, ...,\n",
       "          2.72492946e-03, -1.19277253e-02, -6.77066748e-02]]),\n",
       " 'EB': array([[0.99951741, 0.14511979, 0.33287473, ..., 0.30840132, 0.60621148,\n",
       "         0.95182174],\n",
       "        [0.25866503, 0.98750645, 0.68260118, ..., 0.35179966, 0.61487055,\n",
       "         0.66459437],\n",
       "        [0.97474816, 0.20090873, 0.9311337 , ..., 0.39696033, 0.56299281,\n",
       "         0.99823939],\n",
       "        ...,\n",
       "        [0.99999672, 1.        , 0.18910957, ..., 0.39553797, 0.23131919,\n",
       "         0.95551876],\n",
       "        [1.        , 1.        , 0.40574147, ..., 0.58528106, 0.33422722,\n",
       "         0.99852636],\n",
       "        [1.        , 1.        , 0.33135603, ..., 0.32595077, 0.52430546,\n",
       "         0.99866707]]),\n",
       " 'EN': array([[-0.05894266, -0.01118614, -0.01335539, ...,  0.00016542,\n",
       "          0.02689107,  0.04691731],\n",
       "        [-0.01643405,  0.0430637 , -0.03009767, ...,  0.00147941,\n",
       "         -0.03056754,  0.03812141],\n",
       "        [-0.06760643,  0.01702606, -0.05079881, ..., -0.00746081,\n",
       "         -0.02939906,  0.09422728],\n",
       "        ...,\n",
       "        [ 0.04426692,  0.09834163,  0.00564082, ...,  0.01476819,\n",
       "          0.00424966, -0.03513348],\n",
       "        [ 0.09857833,  0.15391288,  0.01454562, ...,  0.02299658,\n",
       "         -0.01198567, -0.05465991],\n",
       "        [ 0.0865896 ,  0.08738221,  0.01319528, ...,  0.00835994,\n",
       "         -0.02274957, -0.06779704]]),\n",
       " 'E2': array([[3.65765938e-03, 3.03061553e-05, 1.13001299e-04, ...,\n",
       "         9.62252895e-05, 6.07669971e-04, 2.33801586e-03],\n",
       "        [1.47734206e-04, 1.96932737e-03, 7.91231736e-04, ...,\n",
       "         1.62596687e-04, 8.26771579e-04, 1.23724606e-03],\n",
       "        [4.90615058e-03, 1.02950483e-04, 2.75318849e-03, ...,\n",
       "         2.68877791e-04, 8.05451573e-04, 9.47593218e-03],\n",
       "        ...,\n",
       "        [2.02535409e-03, 9.71447177e-03, 1.84082162e-05, ...,\n",
       "         1.40628284e-04, 3.25599519e-05, 1.30404512e-03],\n",
       "        [9.81076842e-03, 2.37507372e-02, 1.23320006e-04, ...,\n",
       "         4.19688334e-04, 1.04677068e-04, 3.16963187e-03],\n",
       "        [7.64924177e-03, 7.73653373e-03, 1.06242473e-04, ...,\n",
       "         1.16593415e-04, 4.07391051e-04, 4.88146961e-03]]),\n",
       " 'ENN': array([[0.00366059, 0.01110251, 0.00141916, ..., 0.00118141, 0.00122582,\n",
       "         0.00251393],\n",
       "        [0.0046437 , 0.00213114, 0.00141267, ..., 0.00117968, 0.00143133,\n",
       "         0.00246194],\n",
       "        [0.0050593 , 0.01045259, 0.00288802, ..., 0.0012151 , 0.00149144,\n",
       "         0.00948236],\n",
       "        ...,\n",
       "        [0.00202537, 0.00971447, 0.00160605, ..., 0.00108909, 0.00123919,\n",
       "         0.00146646],\n",
       "        [0.00981077, 0.02375074, 0.00128682, ..., 0.00107042, 0.00114977,\n",
       "         0.00317501],\n",
       "        [0.00764924, 0.00773653, 0.00141538, ..., 0.00117424, 0.00115411,\n",
       "         0.00488634]])}"
      ]
     },
     "execution_count": 64,
     "metadata": {},
     "output_type": "execute_result"
    }
   ],
   "source": [
    "ent.model.getExpectations()['W'][0]"
   ]
  }
 ],
 "metadata": {
  "kernelspec": {
   "display_name": "Python 3",
   "language": "python",
   "name": "python3"
  },
  "language_info": {
   "codemirror_mode": {
    "name": "ipython",
    "version": 3
   },
   "file_extension": ".py",
   "mimetype": "text/x-python",
   "name": "python",
   "nbconvert_exporter": "python",
   "pygments_lexer": "ipython3",
   "version": "3.8.2"
  },
  "toc": {
   "base_numbering": 1,
   "nav_menu": {},
   "number_sections": true,
   "sideBar": true,
   "skip_h1_title": false,
   "title_cell": "Table of Contents",
   "title_sidebar": "Contents",
   "toc_cell": false,
   "toc_position": {},
   "toc_section_display": true,
   "toc_window_display": false
  }
 },
 "nbformat": 4,
 "nbformat_minor": 4
}
