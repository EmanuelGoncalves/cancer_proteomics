{
 "cells": [
  {
   "cell_type": "code",
   "execution_count": 2,
   "metadata": {
    "ExecuteTime": {
     "end_time": "2020-04-12T01:54:20.780745Z",
     "start_time": "2020-04-12T01:54:18.525545Z"
    }
   },
   "outputs": [],
   "source": [
    "import pandas as pd\n",
    "import numpy as np\n",
    "import seaborn as sns\n",
    "import matplotlib.pyplot as plt\n",
    "from scipy.stats import ttest_ind\n",
    "from sklearn.metrics import r2_score\n",
    "from scipy.stats import pearsonr\n",
    "import plotly.express as px\n",
    "import plotly.graph_objects as go\n"
   ]
  },
  {
   "cell_type": "code",
   "execution_count": 3,
   "metadata": {
    "ExecuteTime": {
     "end_time": "2020-04-12T01:54:21.767624Z",
     "start_time": "2020-04-12T01:54:20.782735Z"
    }
   },
   "outputs": [],
   "source": [
    "ic50 = pd.read_csv(\"../data/drug/ic50_processed.csv\")"
   ]
  },
  {
   "cell_type": "markdown",
   "metadata": {},
   "source": [
    "# CRP"
   ]
  },
  {
   "cell_type": "markdown",
   "metadata": {},
   "source": [
    "## RF"
   ]
  },
  {
   "cell_type": "markdown",
   "metadata": {},
   "source": [
    "### 900"
   ]
  },
  {
   "cell_type": "code",
   "execution_count": 41,
   "metadata": {
    "ExecuteTime": {
     "end_time": "2020-04-09T06:46:07.091237Z",
     "start_time": "2020-04-09T06:46:07.025197Z"
    }
   },
   "outputs": [],
   "source": [
    "scores_rf_crp = pd.read_csv(\"../work_dirs/multiomic/RandomForest/scores_202004082113_ruv_zero_900.csv\")\n",
    "scores_rf_common_crp = pd.read_csv(\"../work_dirs/multiomic/RandomForest/scores_202004091237_ruv_zero_900_common.csv\")\n"
   ]
  },
  {
   "cell_type": "code",
   "execution_count": 42,
   "metadata": {
    "ExecuteTime": {
     "end_time": "2020-04-09T06:46:07.733731Z",
     "start_time": "2020-04-09T06:46:07.728343Z"
    }
   },
   "outputs": [
    {
     "name": "stdout",
     "output_type": "stream",
     "text": [
      "0.5247404173766321\n",
      "0.5243213705024844\n"
     ]
    }
   ],
   "source": [
    "print(scores_rf_crp['test_corr'].median())\n",
    "print(scores_rf_common_crp['test_corr'].median())"
   ]
  },
  {
   "cell_type": "markdown",
   "metadata": {},
   "source": [
    "### 300"
   ]
  },
  {
   "cell_type": "code",
   "execution_count": 43,
   "metadata": {
    "ExecuteTime": {
     "end_time": "2020-04-09T08:50:39.757453Z",
     "start_time": "2020-04-09T08:50:39.707526Z"
    }
   },
   "outputs": [
    {
     "name": "stdout",
     "output_type": "stream",
     "text": [
      "0.5084565225360479\n",
      "0.5035296941794865\n"
     ]
    }
   ],
   "source": [
    "scores_rf_crp = pd.read_csv(\"../work_dirs/multiomic/RandomForest/scores_202004082112_ruv_zero_300.csv\")\n",
    "scores_rf_common_crp = pd.read_csv(\"../work_dirs/multiomic/RandomForest/scores_202004091238_ruv_zero_300_common.csv\")\n",
    "\n",
    "print(scores_rf_crp['test_corr'].median())\n",
    "print(scores_rf_common_crp['test_corr'].median())"
   ]
  },
  {
   "cell_type": "code",
   "execution_count": 8,
   "metadata": {
    "ExecuteTime": {
     "end_time": "2020-04-12T01:55:00.423762Z",
     "start_time": "2020-04-12T01:54:59.560900Z"
    }
   },
   "outputs": [],
   "source": [
    "feature = pd.read_csv(\"../work_dirs/multiomic/RandomForest/feature_importance_202004091238_ruv_zero_300_common.csv\")"
   ]
  },
  {
   "cell_type": "code",
   "execution_count": 9,
   "metadata": {
    "ExecuteTime": {
     "end_time": "2020-04-12T01:55:00.455273Z",
     "start_time": "2020-04-12T01:55:00.425682Z"
    }
   },
   "outputs": [],
   "source": [
    "feature=feature.set_index(['protein'])\n",
    "feature.index.name = 'feature'"
   ]
  },
  {
   "cell_type": "code",
   "execution_count": 10,
   "metadata": {
    "ExecuteTime": {
     "end_time": "2020-04-12T01:55:00.497520Z",
     "start_time": "2020-04-12T01:55:00.457668Z"
    }
   },
   "outputs": [
    {
     "data": {
      "text/plain": [
       "feature\n",
       "RNA_RNA_TJP1            0.634663\n",
       "RNA_RNA_WASL            0.556842\n",
       "RNA_RNA_WAS             0.554992\n",
       "RNA_RNA_CTTN            0.537166\n",
       "RNA_RNA_GMFG            0.517689\n",
       "PROTEIN_PROTEIN_LMNA    0.489868\n",
       "RNA_RNA_ITGA3           0.485781\n",
       "RNA_RNA_GNG12           0.470203\n",
       "RNA_RNA_SDC4            0.458760\n",
       "RNA_RNA_FAM114A1        0.454085\n",
       "RNA_RNA_EPHA2           0.439865\n",
       "RNA_RNA_GPRC5A          0.434907\n",
       "RNA_RNA_PPIC            0.422582\n",
       "RNA_RNA_FKBP9           0.414894\n",
       "RNA_RNA_RCSD1           0.411706\n",
       "RNA_RNA_MYOF            0.411094\n",
       "RNA_RNA_EGFR            0.410519\n",
       "RNA_RNA_DAG1            0.407217\n",
       "RNA_RNA_LRMP            0.405371\n",
       "RNA_RNA_MET             0.402190\n",
       "RNA_RNA_CD48            0.390639\n",
       "RNA_RNA_ELMO1           0.382072\n",
       "RNA_RNA_CD276           0.381276\n",
       "RNA_RNA_LAMB2           0.376807\n",
       "RNA_RNA_YAP1            0.371220\n",
       "PROTEIN_PROTEIN_VAPB    0.364105\n",
       "RNA_RNA_PXN             0.361247\n",
       "dtype: float64"
      ]
     },
     "execution_count": 10,
     "metadata": {},
     "output_type": "execute_result"
    }
   ],
   "source": [
    "feature.sum(axis=1).sort_values(ascending=False).head(27)"
   ]
  },
  {
   "cell_type": "code",
   "execution_count": 11,
   "metadata": {
    "ExecuteTime": {
     "end_time": "2020-04-12T01:55:05.641811Z",
     "start_time": "2020-04-12T01:55:05.635106Z"
    }
   },
   "outputs": [
    {
     "data": {
      "text/plain": [
       "feature\n",
       "RNA_RNA_EGFR              0.003284\n",
       "PROTEIN_PROTEIN_EGFR      0.002861\n",
       "RNA_RNA_HTATIP2           0.002820\n",
       "RNA_RNA_SLC7A5            0.002642\n",
       "RNA_RNA_LCN2              0.002332\n",
       "PROTEIN_PROTEIN_ANXA4     0.002114\n",
       "RNA_RNA_KRT6A             0.001927\n",
       "PROTEIN_PROTEIN_EPS8      0.001686\n",
       "PROTEIN_PROTEIN_PTER      0.001628\n",
       "RNA_RNA_MYO1B             0.001596\n",
       "PROTEIN_PROTEIN_SLC7A5    0.001591\n",
       "RNA_RNA_KRT80             0.001572\n",
       "RNA_RNA_GDA               0.001569\n",
       "PROTEIN_PROTEIN_RPL13A    0.001556\n",
       "RNA_RNA_SNCG              0.001466\n",
       "RNA_RNA_SSH3              0.001446\n",
       "RNA_RNA_P3H1              0.001367\n",
       "RNA_RNA_PTPRK             0.001366\n",
       "RNA_RNA_MYO5A             0.001362\n",
       "RNA_RNA_PTGFRN            0.001293\n",
       "Name: importance_1114, dtype: float64"
      ]
     },
     "execution_count": 11,
     "metadata": {},
     "output_type": "execute_result"
    }
   ],
   "source": [
    "feature['importance_1114'].sort_values(ascending=False).head(20)"
   ]
  },
  {
   "cell_type": "markdown",
   "metadata": {},
   "source": [
    "## MultiDrugV2"
   ]
  },
  {
   "cell_type": "code",
   "execution_count": 15,
   "metadata": {
    "ExecuteTime": {
     "end_time": "2020-04-12T01:58:32.043649Z",
     "start_time": "2020-04-12T01:58:31.953205Z"
    }
   },
   "outputs": [
    {
     "name": "stdout",
     "output_type": "stream",
     "text": [
      "     epoch      corr\n",
      "497    498  0.536257\n"
     ]
    },
    {
     "data": {
      "text/plain": [
       "0.47947914751314163"
      ]
     },
     "execution_count": 15,
     "metadata": {},
     "output_type": "execute_result"
    }
   ],
   "source": [
    "scores_multi_protein = pd.read_csv(\n",
    "    \"../work_dirs/multiomic/MultiDrugV2/sc\"\n",
    ")\n",
    "\n",
    "\n",
    "scores_multi_protein_norm_test = scores_multi_protein[\n",
    "    scores_multi_protein['run'] == 'test'].reset_index(drop=True)\n",
    "\n",
    "max_epoch = scores_multi_protein_norm_test.groupby(['epoch']).median()['corr'].reset_index()\n",
    "\n",
    "print(max_epoch[max_epoch['corr']==max_epoch['corr'].max()])\n",
    "scores_multi_protein_norm_test[scores_multi_protein_norm_test['epoch']==130]['corr'].median()"
   ]
  },
  {
   "cell_type": "code",
   "execution_count": null,
   "metadata": {},
   "outputs": [],
   "source": [
    "scores_multi_protein = pd.read_csv(\n",
    "    \"../work_dirs/multiomic/MultiDrugV2/sc\"\n",
    ")\n",
    "\n",
    "\n",
    "scores_multi_protein_norm_test = scores_multi_protein[\n",
    "    scores_multi_protein['run'] == 'test'].reset_index(drop=True)\n",
    "\n",
    "max_epoch = scores_multi_protein_norm_test.groupby(['epoch']).median()['corr'].reset_index()\n",
    "\n",
    "print(max_epoch[max_epoch['corr']==max_epoch['corr'].max()])\n",
    "scores_multi_protein_norm_test[scores_multi_protein_norm_test['epoch']==130]['corr'].median()"
   ]
  }
 ],
 "metadata": {
  "kernelspec": {
   "display_name": "Python 3",
   "language": "python",
   "name": "python3"
  },
  "language_info": {
   "codemirror_mode": {
    "name": "ipython",
    "version": 3
   },
   "file_extension": ".py",
   "mimetype": "text/x-python",
   "name": "python",
   "nbconvert_exporter": "python",
   "pygments_lexer": "ipython3",
   "version": "3.6.10"
  },
  "toc": {
   "base_numbering": 1,
   "nav_menu": {},
   "number_sections": true,
   "sideBar": true,
   "skip_h1_title": false,
   "title_cell": "Table of Contents",
   "title_sidebar": "Contents",
   "toc_cell": false,
   "toc_position": {},
   "toc_section_display": true,
   "toc_window_display": true
  }
 },
 "nbformat": 4,
 "nbformat_minor": 4
}
