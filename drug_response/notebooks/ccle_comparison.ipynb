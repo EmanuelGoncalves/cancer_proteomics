{
 "cells": [
  {
   "cell_type": "code",
   "execution_count": 151,
   "metadata": {
    "ExecuteTime": {
     "end_time": "2020-03-16T12:07:55.617785Z",
     "start_time": "2020-03-16T12:07:55.614400Z"
    }
   },
   "outputs": [],
   "source": [
    "import pandas as pd\n",
    "import numpy as np\n",
    "pd.options.display.max_columns = 100\n",
    "import re\n",
    "from venn import venn\n",
    "from scipy.stats import pearsonr, spearmanr\n",
    "import seaborn as sns\n",
    "import matplotlib.pyplot as plt"
   ]
  },
  {
   "cell_type": "markdown",
   "metadata": {},
   "source": [
    "# load CCLE data"
   ]
  },
  {
   "cell_type": "code",
   "execution_count": 38,
   "metadata": {
    "ExecuteTime": {
     "end_time": "2020-03-16T11:05:38.742366Z",
     "start_time": "2020-03-16T11:05:38.669475Z"
    }
   },
   "outputs": [],
   "source": [
    "ccle_sample = pd.read_excel(\"../data/ccle/Table_S1_Sample_Information.xlsx\",\n",
    "                            sheet_name='Sample_Information')"
   ]
  },
  {
   "cell_type": "code",
   "execution_count": 61,
   "metadata": {
    "ExecuteTime": {
     "end_time": "2020-03-16T11:11:04.264450Z",
     "start_time": "2020-03-16T11:11:03.171998Z"
    }
   },
   "outputs": [],
   "source": [
    "ccle_protein = pd.read_csv(\"../data/ccle/protein_quant_current_normalized.csv\")\n",
    "ccle_protein = pd.concat([ccle_protein.iloc[:,4],ccle_protein.iloc[:,48:]],axis=1)\n",
    "ccle_protein = ccle_protein.set_index(\"Uniprot\").T\n",
    "ccle_protein.index.name = 'CCLE Code'\n",
    "ccle_protein = ccle_protein.reset_index()\n",
    "ccle_protein['CCLE Code'] = ccle_protein['CCLE Code'].map(lambda x:\"_\".join(x.split('_')[:-1]))"
   ]
  },
  {
   "cell_type": "code",
   "execution_count": 63,
   "metadata": {
    "ExecuteTime": {
     "end_time": "2020-03-16T11:11:05.743654Z",
     "start_time": "2020-03-16T11:11:05.739763Z"
    }
   },
   "outputs": [
    {
     "data": {
      "text/plain": [
       "(378, 12757)"
      ]
     },
     "execution_count": 63,
     "metadata": {},
     "output_type": "execute_result"
    }
   ],
   "source": [
    "ccle_protein.shape"
   ]
  },
  {
   "cell_type": "code",
   "execution_count": 62,
   "metadata": {
    "ExecuteTime": {
     "end_time": "2020-03-16T11:11:04.867454Z",
     "start_time": "2020-03-16T11:11:04.839990Z"
    }
   },
   "outputs": [],
   "source": [
    "ccle_protein = pd.merge(ccle_protein, ccle_sample[['CCLE Code', 'Cell Line']].drop_duplicates())"
   ]
  },
  {
   "cell_type": "code",
   "execution_count": 79,
   "metadata": {
    "ExecuteTime": {
     "end_time": "2020-03-16T11:22:45.784818Z",
     "start_time": "2020-03-16T11:22:45.711849Z"
    }
   },
   "outputs": [
    {
     "data": {
      "text/html": [
       "<div>\n",
       "<style scoped>\n",
       "    .dataframe tbody tr th:only-of-type {\n",
       "        vertical-align: middle;\n",
       "    }\n",
       "\n",
       "    .dataframe tbody tr th {\n",
       "        vertical-align: top;\n",
       "    }\n",
       "\n",
       "    .dataframe thead th {\n",
       "        text-align: right;\n",
       "    }\n",
       "</style>\n",
       "<table border=\"1\" class=\"dataframe\">\n",
       "  <thead>\n",
       "    <tr style=\"text-align: right;\">\n",
       "      <th></th>\n",
       "      <th>CCLE Code</th>\n",
       "      <th>S12A2_HUMAN</th>\n",
       "      <th>HXD13_HUMAN</th>\n",
       "      <th>KDM1A_HUMAN</th>\n",
       "      <th>SOX1_HUMAN</th>\n",
       "      <th>SOX2_HUMAN</th>\n",
       "      <th>SOX3_HUMAN</th>\n",
       "      <th>SOX15_HUMAN</th>\n",
       "      <th>PHX2B_HUMAN</th>\n",
       "      <th>ALX4_HUMAN</th>\n",
       "      <th>ALX1_HUMAN</th>\n",
       "      <th>PRRX1_HUMAN</th>\n",
       "      <th>ARX_HUMAN</th>\n",
       "      <th>SHOX2_HUMAN</th>\n",
       "      <th>PRRX2_HUMAN</th>\n",
       "      <th>SRP14_HUMAN</th>\n",
       "      <th>S15A4_HUMAN</th>\n",
       "      <th>SOGA3_HUMAN</th>\n",
       "      <th>SOGA1_HUMAN</th>\n",
       "      <th>NU133_HUMAN</th>\n",
       "      <th>SOGA2_HUMAN</th>\n",
       "      <th>IRS2_HUMAN</th>\n",
       "      <th>RL4_HUMAN</th>\n",
       "      <th>FUBP2_HUMAN</th>\n",
       "      <th>FUBP3_HUMAN</th>\n",
       "      <th>FUBP1_HUMAN</th>\n",
       "      <th>FUBP1_HUMAN</th>\n",
       "      <th>MMP24_HUMAN</th>\n",
       "      <th>MMP14_HUMAN</th>\n",
       "      <th>MMP15_HUMAN</th>\n",
       "      <th>SH3R3_HUMAN</th>\n",
       "      <th>SH3R1_HUMAN</th>\n",
       "      <th>SH3R2_HUMAN</th>\n",
       "      <th>MTMRE_HUMAN</th>\n",
       "      <th>SAMD1_HUMAN</th>\n",
       "      <th>S19A2_HUMAN</th>\n",
       "      <th>CLPX_HUMAN</th>\n",
       "      <th>ATX7_HUMAN</th>\n",
       "      <th>CATIN_HUMAN</th>\n",
       "      <th>NUCL_HUMAN</th>\n",
       "      <th>H7BY16_HUMAN</th>\n",
       "      <th>U119B_HUMAN</th>\n",
       "      <th>U119A_HUMAN</th>\n",
       "      <th>RBM42_HUMAN</th>\n",
       "      <th>RCC2_HUMAN</th>\n",
       "      <th>CHPF2_HUMAN</th>\n",
       "      <th>TAL1_HUMAN</th>\n",
       "      <th>LYL1_HUMAN</th>\n",
       "      <th>RNBP6_HUMAN</th>\n",
       "      <th>IPO5_HUMAN</th>\n",
       "      <th>...</th>\n",
       "      <th>SCNNG_HUMAN</th>\n",
       "      <th>MOT5_HUMAN</th>\n",
       "      <th>F168A_HUMAN</th>\n",
       "      <th>TMPS2_HUMAN</th>\n",
       "      <th>H0Y572_HUMAN</th>\n",
       "      <th>ECP_HUMAN</th>\n",
       "      <th>CCD37_HUMAN</th>\n",
       "      <th>TM2D1_HUMAN</th>\n",
       "      <th>RM42_HUMAN</th>\n",
       "      <th>CNIH1_HUMAN</th>\n",
       "      <th>PEMT_HUMAN</th>\n",
       "      <th>VCC1_HUMAN</th>\n",
       "      <th>SLX1_HUMAN</th>\n",
       "      <th>TM127_HUMAN</th>\n",
       "      <th>CATE_HUMAN</th>\n",
       "      <th>KISS1_HUMAN</th>\n",
       "      <th>COX14_HUMAN</th>\n",
       "      <th>GNT2A_HUMAN</th>\n",
       "      <th>LUR1L_HUMAN</th>\n",
       "      <th>ELOV4_HUMAN</th>\n",
       "      <th>EPT1_HUMAN</th>\n",
       "      <th>GCSAM_HUMAN</th>\n",
       "      <th>AHSP_HUMAN</th>\n",
       "      <th>S35D1_HUMAN</th>\n",
       "      <th>SHSA3_HUMAN</th>\n",
       "      <th>CRUM3_HUMAN</th>\n",
       "      <th>BODG_HUMAN</th>\n",
       "      <th>YIPF5_HUMAN</th>\n",
       "      <th>FANCF_HUMAN</th>\n",
       "      <th>MASP2_HUMAN</th>\n",
       "      <th>COX7B_HUMAN</th>\n",
       "      <th>SFT2A_HUMAN</th>\n",
       "      <th>NEPR1_HUMAN</th>\n",
       "      <th>ERD21_HUMAN</th>\n",
       "      <th>MTURN_HUMAN</th>\n",
       "      <th>PRDM6_HUMAN</th>\n",
       "      <th>KISHA_HUMAN</th>\n",
       "      <th>AQP1_HUMAN</th>\n",
       "      <th>NEK8_HUMAN</th>\n",
       "      <th>S46A3_HUMAN</th>\n",
       "      <th>NU2M_HUMAN</th>\n",
       "      <th>NU3M_HUMAN</th>\n",
       "      <th>BMP6_HUMAN</th>\n",
       "      <th>MET20_HUMAN</th>\n",
       "      <th>CCL26_HUMAN</th>\n",
       "      <th>AL5AP_HUMAN</th>\n",
       "      <th>CYTM1_HUMAN</th>\n",
       "      <th>MGST2_HUMAN</th>\n",
       "      <th>CNIH4_HUMAN</th>\n",
       "      <th>Cell_line</th>\n",
       "    </tr>\n",
       "  </thead>\n",
       "  <tbody>\n",
       "    <tr>\n",
       "      <th>0</th>\n",
       "      <td>MDAMB468_BREAST</td>\n",
       "      <td>2.111348</td>\n",
       "      <td>NaN</td>\n",
       "      <td>0.379683</td>\n",
       "      <td>NaN</td>\n",
       "      <td>-0.246367</td>\n",
       "      <td>NaN</td>\n",
       "      <td>NaN</td>\n",
       "      <td>NaN</td>\n",
       "      <td>NaN</td>\n",
       "      <td>NaN</td>\n",
       "      <td>0.322445</td>\n",
       "      <td>NaN</td>\n",
       "      <td>NaN</td>\n",
       "      <td>-0.246657</td>\n",
       "      <td>-0.186838</td>\n",
       "      <td>-0.217472</td>\n",
       "      <td>NaN</td>\n",
       "      <td>0.059854</td>\n",
       "      <td>-0.146176</td>\n",
       "      <td>0.292069</td>\n",
       "      <td>-0.320256</td>\n",
       "      <td>0.135232</td>\n",
       "      <td>-0.190885</td>\n",
       "      <td>-0.063952</td>\n",
       "      <td>0.711772</td>\n",
       "      <td>NaN</td>\n",
       "      <td>NaN</td>\n",
       "      <td>-1.328042</td>\n",
       "      <td>-0.031855</td>\n",
       "      <td>0.561392</td>\n",
       "      <td>0.219267</td>\n",
       "      <td>NaN</td>\n",
       "      <td>-0.162658</td>\n",
       "      <td>0.322164</td>\n",
       "      <td>-0.629849</td>\n",
       "      <td>-0.060760</td>\n",
       "      <td>-0.164675</td>\n",
       "      <td>-0.338273</td>\n",
       "      <td>-0.283991</td>\n",
       "      <td>NaN</td>\n",
       "      <td>-0.159331</td>\n",
       "      <td>0.478893</td>\n",
       "      <td>0.524820</td>\n",
       "      <td>0.259292</td>\n",
       "      <td>-0.301207</td>\n",
       "      <td>NaN</td>\n",
       "      <td>NaN</td>\n",
       "      <td>-0.543366</td>\n",
       "      <td>-0.000458</td>\n",
       "      <td>...</td>\n",
       "      <td>NaN</td>\n",
       "      <td>NaN</td>\n",
       "      <td>-0.175808</td>\n",
       "      <td>NaN</td>\n",
       "      <td>NaN</td>\n",
       "      <td>NaN</td>\n",
       "      <td>-0.146056</td>\n",
       "      <td>NaN</td>\n",
       "      <td>-0.343869</td>\n",
       "      <td>NaN</td>\n",
       "      <td>NaN</td>\n",
       "      <td>NaN</td>\n",
       "      <td>NaN</td>\n",
       "      <td>NaN</td>\n",
       "      <td>NaN</td>\n",
       "      <td>NaN</td>\n",
       "      <td>-0.293156</td>\n",
       "      <td>NaN</td>\n",
       "      <td>NaN</td>\n",
       "      <td>0.197697</td>\n",
       "      <td>NaN</td>\n",
       "      <td>NaN</td>\n",
       "      <td>NaN</td>\n",
       "      <td>-0.112885</td>\n",
       "      <td>NaN</td>\n",
       "      <td>NaN</td>\n",
       "      <td>NaN</td>\n",
       "      <td>NaN</td>\n",
       "      <td>NaN</td>\n",
       "      <td>NaN</td>\n",
       "      <td>0.452627</td>\n",
       "      <td>NaN</td>\n",
       "      <td>0.038436</td>\n",
       "      <td>-0.088332</td>\n",
       "      <td>NaN</td>\n",
       "      <td>NaN</td>\n",
       "      <td>-0.018582</td>\n",
       "      <td>NaN</td>\n",
       "      <td>NaN</td>\n",
       "      <td>1.040703</td>\n",
       "      <td>NaN</td>\n",
       "      <td>0.433789</td>\n",
       "      <td>NaN</td>\n",
       "      <td>NaN</td>\n",
       "      <td>NaN</td>\n",
       "      <td>NaN</td>\n",
       "      <td>-0.313512</td>\n",
       "      <td>NaN</td>\n",
       "      <td>0.138191</td>\n",
       "      <td>MDA-MB-468</td>\n",
       "    </tr>\n",
       "    <tr>\n",
       "      <th>1</th>\n",
       "      <td>SH4_SKIN</td>\n",
       "      <td>0.070468</td>\n",
       "      <td>NaN</td>\n",
       "      <td>-0.283538</td>\n",
       "      <td>NaN</td>\n",
       "      <td>-0.572753</td>\n",
       "      <td>NaN</td>\n",
       "      <td>NaN</td>\n",
       "      <td>NaN</td>\n",
       "      <td>NaN</td>\n",
       "      <td>NaN</td>\n",
       "      <td>-0.426498</td>\n",
       "      <td>NaN</td>\n",
       "      <td>NaN</td>\n",
       "      <td>0.127711</td>\n",
       "      <td>0.197277</td>\n",
       "      <td>0.095354</td>\n",
       "      <td>NaN</td>\n",
       "      <td>0.042464</td>\n",
       "      <td>-0.183708</td>\n",
       "      <td>-0.393201</td>\n",
       "      <td>-0.073219</td>\n",
       "      <td>0.111615</td>\n",
       "      <td>0.109827</td>\n",
       "      <td>-0.155310</td>\n",
       "      <td>-0.283882</td>\n",
       "      <td>NaN</td>\n",
       "      <td>NaN</td>\n",
       "      <td>0.943085</td>\n",
       "      <td>-0.073467</td>\n",
       "      <td>0.161597</td>\n",
       "      <td>-0.426068</td>\n",
       "      <td>NaN</td>\n",
       "      <td>0.456433</td>\n",
       "      <td>-0.425599</td>\n",
       "      <td>1.150899</td>\n",
       "      <td>-0.018176</td>\n",
       "      <td>-0.111845</td>\n",
       "      <td>-0.418083</td>\n",
       "      <td>0.314874</td>\n",
       "      <td>NaN</td>\n",
       "      <td>0.302820</td>\n",
       "      <td>-0.233315</td>\n",
       "      <td>-0.392828</td>\n",
       "      <td>-0.207505</td>\n",
       "      <td>-0.173793</td>\n",
       "      <td>NaN</td>\n",
       "      <td>NaN</td>\n",
       "      <td>-0.130530</td>\n",
       "      <td>-0.474000</td>\n",
       "      <td>...</td>\n",
       "      <td>NaN</td>\n",
       "      <td>NaN</td>\n",
       "      <td>0.003005</td>\n",
       "      <td>NaN</td>\n",
       "      <td>NaN</td>\n",
       "      <td>NaN</td>\n",
       "      <td>-0.296976</td>\n",
       "      <td>NaN</td>\n",
       "      <td>-0.017864</td>\n",
       "      <td>NaN</td>\n",
       "      <td>NaN</td>\n",
       "      <td>NaN</td>\n",
       "      <td>NaN</td>\n",
       "      <td>NaN</td>\n",
       "      <td>NaN</td>\n",
       "      <td>NaN</td>\n",
       "      <td>0.494815</td>\n",
       "      <td>NaN</td>\n",
       "      <td>NaN</td>\n",
       "      <td>-0.246025</td>\n",
       "      <td>NaN</td>\n",
       "      <td>NaN</td>\n",
       "      <td>NaN</td>\n",
       "      <td>-0.442163</td>\n",
       "      <td>NaN</td>\n",
       "      <td>NaN</td>\n",
       "      <td>NaN</td>\n",
       "      <td>NaN</td>\n",
       "      <td>NaN</td>\n",
       "      <td>NaN</td>\n",
       "      <td>-0.097151</td>\n",
       "      <td>NaN</td>\n",
       "      <td>-0.006573</td>\n",
       "      <td>-0.043085</td>\n",
       "      <td>NaN</td>\n",
       "      <td>NaN</td>\n",
       "      <td>0.287234</td>\n",
       "      <td>NaN</td>\n",
       "      <td>NaN</td>\n",
       "      <td>-0.949250</td>\n",
       "      <td>NaN</td>\n",
       "      <td>-0.149629</td>\n",
       "      <td>NaN</td>\n",
       "      <td>NaN</td>\n",
       "      <td>NaN</td>\n",
       "      <td>NaN</td>\n",
       "      <td>0.105086</td>\n",
       "      <td>NaN</td>\n",
       "      <td>0.355856</td>\n",
       "      <td>SH-4</td>\n",
       "    </tr>\n",
       "    <tr>\n",
       "      <th>2</th>\n",
       "      <td>AU565_BREAST</td>\n",
       "      <td>-0.463928</td>\n",
       "      <td>NaN</td>\n",
       "      <td>0.191211</td>\n",
       "      <td>NaN</td>\n",
       "      <td>-0.341305</td>\n",
       "      <td>NaN</td>\n",
       "      <td>NaN</td>\n",
       "      <td>NaN</td>\n",
       "      <td>NaN</td>\n",
       "      <td>NaN</td>\n",
       "      <td>0.104672</td>\n",
       "      <td>NaN</td>\n",
       "      <td>NaN</td>\n",
       "      <td>-1.086605</td>\n",
       "      <td>-0.409423</td>\n",
       "      <td>-0.121464</td>\n",
       "      <td>NaN</td>\n",
       "      <td>0.035922</td>\n",
       "      <td>-0.080056</td>\n",
       "      <td>-0.408459</td>\n",
       "      <td>-0.242054</td>\n",
       "      <td>-0.054070</td>\n",
       "      <td>-0.487110</td>\n",
       "      <td>-0.357357</td>\n",
       "      <td>0.237767</td>\n",
       "      <td>NaN</td>\n",
       "      <td>NaN</td>\n",
       "      <td>-1.516565</td>\n",
       "      <td>0.343505</td>\n",
       "      <td>-1.094500</td>\n",
       "      <td>0.054349</td>\n",
       "      <td>NaN</td>\n",
       "      <td>-0.227969</td>\n",
       "      <td>-0.712884</td>\n",
       "      <td>-1.194285</td>\n",
       "      <td>0.315895</td>\n",
       "      <td>0.191896</td>\n",
       "      <td>-0.435897</td>\n",
       "      <td>-0.001159</td>\n",
       "      <td>NaN</td>\n",
       "      <td>-0.323900</td>\n",
       "      <td>0.489542</td>\n",
       "      <td>-0.221535</td>\n",
       "      <td>-0.031614</td>\n",
       "      <td>-0.336909</td>\n",
       "      <td>NaN</td>\n",
       "      <td>NaN</td>\n",
       "      <td>-0.353102</td>\n",
       "      <td>-0.256261</td>\n",
       "      <td>...</td>\n",
       "      <td>NaN</td>\n",
       "      <td>NaN</td>\n",
       "      <td>-0.256515</td>\n",
       "      <td>NaN</td>\n",
       "      <td>NaN</td>\n",
       "      <td>NaN</td>\n",
       "      <td>0.021500</td>\n",
       "      <td>NaN</td>\n",
       "      <td>0.226371</td>\n",
       "      <td>NaN</td>\n",
       "      <td>NaN</td>\n",
       "      <td>NaN</td>\n",
       "      <td>NaN</td>\n",
       "      <td>NaN</td>\n",
       "      <td>NaN</td>\n",
       "      <td>NaN</td>\n",
       "      <td>0.628869</td>\n",
       "      <td>NaN</td>\n",
       "      <td>NaN</td>\n",
       "      <td>0.704127</td>\n",
       "      <td>NaN</td>\n",
       "      <td>NaN</td>\n",
       "      <td>NaN</td>\n",
       "      <td>0.070168</td>\n",
       "      <td>NaN</td>\n",
       "      <td>NaN</td>\n",
       "      <td>NaN</td>\n",
       "      <td>NaN</td>\n",
       "      <td>NaN</td>\n",
       "      <td>NaN</td>\n",
       "      <td>-0.103263</td>\n",
       "      <td>NaN</td>\n",
       "      <td>-0.187915</td>\n",
       "      <td>-0.346276</td>\n",
       "      <td>NaN</td>\n",
       "      <td>NaN</td>\n",
       "      <td>-0.231386</td>\n",
       "      <td>NaN</td>\n",
       "      <td>NaN</td>\n",
       "      <td>0.242156</td>\n",
       "      <td>NaN</td>\n",
       "      <td>-0.376248</td>\n",
       "      <td>NaN</td>\n",
       "      <td>NaN</td>\n",
       "      <td>NaN</td>\n",
       "      <td>NaN</td>\n",
       "      <td>-0.586815</td>\n",
       "      <td>NaN</td>\n",
       "      <td>0.001459</td>\n",
       "      <td>AU565</td>\n",
       "    </tr>\n",
       "    <tr>\n",
       "      <th>3</th>\n",
       "      <td>KMRC1_KIDNEY</td>\n",
       "      <td>-0.883645</td>\n",
       "      <td>NaN</td>\n",
       "      <td>-0.595606</td>\n",
       "      <td>NaN</td>\n",
       "      <td>-0.335211</td>\n",
       "      <td>NaN</td>\n",
       "      <td>NaN</td>\n",
       "      <td>NaN</td>\n",
       "      <td>NaN</td>\n",
       "      <td>NaN</td>\n",
       "      <td>-0.467788</td>\n",
       "      <td>NaN</td>\n",
       "      <td>NaN</td>\n",
       "      <td>-0.251596</td>\n",
       "      <td>-0.070153</td>\n",
       "      <td>0.740597</td>\n",
       "      <td>NaN</td>\n",
       "      <td>-0.064167</td>\n",
       "      <td>-0.195807</td>\n",
       "      <td>0.268465</td>\n",
       "      <td>1.719238</td>\n",
       "      <td>0.315089</td>\n",
       "      <td>-0.256803</td>\n",
       "      <td>-0.296321</td>\n",
       "      <td>-0.426623</td>\n",
       "      <td>NaN</td>\n",
       "      <td>NaN</td>\n",
       "      <td>0.600797</td>\n",
       "      <td>-0.429754</td>\n",
       "      <td>0.161900</td>\n",
       "      <td>-0.197031</td>\n",
       "      <td>NaN</td>\n",
       "      <td>-0.185477</td>\n",
       "      <td>-0.621804</td>\n",
       "      <td>-0.060800</td>\n",
       "      <td>-0.786810</td>\n",
       "      <td>-0.580778</td>\n",
       "      <td>-0.065402</td>\n",
       "      <td>-0.258906</td>\n",
       "      <td>NaN</td>\n",
       "      <td>-0.322701</td>\n",
       "      <td>0.059178</td>\n",
       "      <td>-0.413732</td>\n",
       "      <td>-0.315824</td>\n",
       "      <td>0.044447</td>\n",
       "      <td>NaN</td>\n",
       "      <td>NaN</td>\n",
       "      <td>0.039788</td>\n",
       "      <td>0.553425</td>\n",
       "      <td>...</td>\n",
       "      <td>NaN</td>\n",
       "      <td>NaN</td>\n",
       "      <td>-0.121839</td>\n",
       "      <td>NaN</td>\n",
       "      <td>NaN</td>\n",
       "      <td>NaN</td>\n",
       "      <td>1.314970</td>\n",
       "      <td>NaN</td>\n",
       "      <td>-0.576579</td>\n",
       "      <td>NaN</td>\n",
       "      <td>NaN</td>\n",
       "      <td>NaN</td>\n",
       "      <td>NaN</td>\n",
       "      <td>NaN</td>\n",
       "      <td>NaN</td>\n",
       "      <td>NaN</td>\n",
       "      <td>-0.375718</td>\n",
       "      <td>NaN</td>\n",
       "      <td>NaN</td>\n",
       "      <td>-0.522867</td>\n",
       "      <td>NaN</td>\n",
       "      <td>NaN</td>\n",
       "      <td>NaN</td>\n",
       "      <td>0.000895</td>\n",
       "      <td>NaN</td>\n",
       "      <td>NaN</td>\n",
       "      <td>NaN</td>\n",
       "      <td>NaN</td>\n",
       "      <td>NaN</td>\n",
       "      <td>NaN</td>\n",
       "      <td>-0.179860</td>\n",
       "      <td>NaN</td>\n",
       "      <td>-0.069769</td>\n",
       "      <td>0.542126</td>\n",
       "      <td>NaN</td>\n",
       "      <td>NaN</td>\n",
       "      <td>0.010742</td>\n",
       "      <td>NaN</td>\n",
       "      <td>NaN</td>\n",
       "      <td>1.222895</td>\n",
       "      <td>NaN</td>\n",
       "      <td>-0.915686</td>\n",
       "      <td>NaN</td>\n",
       "      <td>NaN</td>\n",
       "      <td>NaN</td>\n",
       "      <td>NaN</td>\n",
       "      <td>-0.132940</td>\n",
       "      <td>NaN</td>\n",
       "      <td>0.172501</td>\n",
       "      <td>KMRC-1</td>\n",
       "    </tr>\n",
       "    <tr>\n",
       "      <th>4</th>\n",
       "      <td>CAL51_BREAST</td>\n",
       "      <td>0.788565</td>\n",
       "      <td>NaN</td>\n",
       "      <td>0.391243</td>\n",
       "      <td>NaN</td>\n",
       "      <td>-0.124474</td>\n",
       "      <td>NaN</td>\n",
       "      <td>NaN</td>\n",
       "      <td>NaN</td>\n",
       "      <td>NaN</td>\n",
       "      <td>NaN</td>\n",
       "      <td>0.388876</td>\n",
       "      <td>NaN</td>\n",
       "      <td>NaN</td>\n",
       "      <td>1.485636</td>\n",
       "      <td>0.766739</td>\n",
       "      <td>0.035343</td>\n",
       "      <td>NaN</td>\n",
       "      <td>-0.250695</td>\n",
       "      <td>0.513984</td>\n",
       "      <td>-0.113836</td>\n",
       "      <td>-0.437105</td>\n",
       "      <td>-0.140021</td>\n",
       "      <td>0.194832</td>\n",
       "      <td>0.185674</td>\n",
       "      <td>0.125512</td>\n",
       "      <td>NaN</td>\n",
       "      <td>NaN</td>\n",
       "      <td>0.142254</td>\n",
       "      <td>0.359065</td>\n",
       "      <td>0.411399</td>\n",
       "      <td>-0.319590</td>\n",
       "      <td>NaN</td>\n",
       "      <td>-0.456039</td>\n",
       "      <td>0.677025</td>\n",
       "      <td>-0.228615</td>\n",
       "      <td>0.162808</td>\n",
       "      <td>0.078742</td>\n",
       "      <td>0.069130</td>\n",
       "      <td>-0.097099</td>\n",
       "      <td>NaN</td>\n",
       "      <td>0.014327</td>\n",
       "      <td>0.267861</td>\n",
       "      <td>0.371286</td>\n",
       "      <td>0.261686</td>\n",
       "      <td>0.232195</td>\n",
       "      <td>NaN</td>\n",
       "      <td>NaN</td>\n",
       "      <td>0.332960</td>\n",
       "      <td>0.128881</td>\n",
       "      <td>...</td>\n",
       "      <td>NaN</td>\n",
       "      <td>NaN</td>\n",
       "      <td>0.087430</td>\n",
       "      <td>NaN</td>\n",
       "      <td>NaN</td>\n",
       "      <td>NaN</td>\n",
       "      <td>1.772602</td>\n",
       "      <td>NaN</td>\n",
       "      <td>-0.123126</td>\n",
       "      <td>NaN</td>\n",
       "      <td>NaN</td>\n",
       "      <td>NaN</td>\n",
       "      <td>NaN</td>\n",
       "      <td>NaN</td>\n",
       "      <td>NaN</td>\n",
       "      <td>NaN</td>\n",
       "      <td>-0.038731</td>\n",
       "      <td>NaN</td>\n",
       "      <td>NaN</td>\n",
       "      <td>-1.096018</td>\n",
       "      <td>NaN</td>\n",
       "      <td>NaN</td>\n",
       "      <td>NaN</td>\n",
       "      <td>-0.051616</td>\n",
       "      <td>NaN</td>\n",
       "      <td>NaN</td>\n",
       "      <td>NaN</td>\n",
       "      <td>NaN</td>\n",
       "      <td>NaN</td>\n",
       "      <td>NaN</td>\n",
       "      <td>0.386142</td>\n",
       "      <td>NaN</td>\n",
       "      <td>0.036885</td>\n",
       "      <td>0.393496</td>\n",
       "      <td>NaN</td>\n",
       "      <td>NaN</td>\n",
       "      <td>0.353924</td>\n",
       "      <td>NaN</td>\n",
       "      <td>NaN</td>\n",
       "      <td>-0.212603</td>\n",
       "      <td>NaN</td>\n",
       "      <td>0.793730</td>\n",
       "      <td>NaN</td>\n",
       "      <td>NaN</td>\n",
       "      <td>NaN</td>\n",
       "      <td>NaN</td>\n",
       "      <td>0.452423</td>\n",
       "      <td>NaN</td>\n",
       "      <td>0.200756</td>\n",
       "      <td>CAL-51</td>\n",
       "    </tr>\n",
       "  </tbody>\n",
       "</table>\n",
       "<p>5 rows × 12757 columns</p>\n",
       "</div>"
      ],
      "text/plain": [
       "         CCLE Code  S12A2_HUMAN  HXD13_HUMAN  KDM1A_HUMAN  SOX1_HUMAN  \\\n",
       "0  MDAMB468_BREAST     2.111348          NaN     0.379683         NaN   \n",
       "1         SH4_SKIN     0.070468          NaN    -0.283538         NaN   \n",
       "2     AU565_BREAST    -0.463928          NaN     0.191211         NaN   \n",
       "3     KMRC1_KIDNEY    -0.883645          NaN    -0.595606         NaN   \n",
       "4     CAL51_BREAST     0.788565          NaN     0.391243         NaN   \n",
       "\n",
       "   SOX2_HUMAN  SOX3_HUMAN  SOX15_HUMAN  PHX2B_HUMAN  ALX4_HUMAN  ALX1_HUMAN  \\\n",
       "0   -0.246367         NaN          NaN          NaN         NaN         NaN   \n",
       "1   -0.572753         NaN          NaN          NaN         NaN         NaN   \n",
       "2   -0.341305         NaN          NaN          NaN         NaN         NaN   \n",
       "3   -0.335211         NaN          NaN          NaN         NaN         NaN   \n",
       "4   -0.124474         NaN          NaN          NaN         NaN         NaN   \n",
       "\n",
       "   PRRX1_HUMAN  ARX_HUMAN  SHOX2_HUMAN  PRRX2_HUMAN  SRP14_HUMAN  S15A4_HUMAN  \\\n",
       "0     0.322445        NaN          NaN    -0.246657    -0.186838    -0.217472   \n",
       "1    -0.426498        NaN          NaN     0.127711     0.197277     0.095354   \n",
       "2     0.104672        NaN          NaN    -1.086605    -0.409423    -0.121464   \n",
       "3    -0.467788        NaN          NaN    -0.251596    -0.070153     0.740597   \n",
       "4     0.388876        NaN          NaN     1.485636     0.766739     0.035343   \n",
       "\n",
       "   SOGA3_HUMAN  SOGA1_HUMAN  NU133_HUMAN  SOGA2_HUMAN  IRS2_HUMAN  RL4_HUMAN  \\\n",
       "0          NaN     0.059854    -0.146176     0.292069   -0.320256   0.135232   \n",
       "1          NaN     0.042464    -0.183708    -0.393201   -0.073219   0.111615   \n",
       "2          NaN     0.035922    -0.080056    -0.408459   -0.242054  -0.054070   \n",
       "3          NaN    -0.064167    -0.195807     0.268465    1.719238   0.315089   \n",
       "4          NaN    -0.250695     0.513984    -0.113836   -0.437105  -0.140021   \n",
       "\n",
       "   FUBP2_HUMAN  FUBP3_HUMAN  FUBP1_HUMAN  FUBP1_HUMAN  MMP24_HUMAN  \\\n",
       "0    -0.190885    -0.063952     0.711772          NaN          NaN   \n",
       "1     0.109827    -0.155310    -0.283882          NaN          NaN   \n",
       "2    -0.487110    -0.357357     0.237767          NaN          NaN   \n",
       "3    -0.256803    -0.296321    -0.426623          NaN          NaN   \n",
       "4     0.194832     0.185674     0.125512          NaN          NaN   \n",
       "\n",
       "   MMP14_HUMAN  MMP15_HUMAN  SH3R3_HUMAN  SH3R1_HUMAN  SH3R2_HUMAN  \\\n",
       "0    -1.328042    -0.031855     0.561392     0.219267          NaN   \n",
       "1     0.943085    -0.073467     0.161597    -0.426068          NaN   \n",
       "2    -1.516565     0.343505    -1.094500     0.054349          NaN   \n",
       "3     0.600797    -0.429754     0.161900    -0.197031          NaN   \n",
       "4     0.142254     0.359065     0.411399    -0.319590          NaN   \n",
       "\n",
       "   MTMRE_HUMAN  SAMD1_HUMAN  S19A2_HUMAN  CLPX_HUMAN  ATX7_HUMAN  CATIN_HUMAN  \\\n",
       "0    -0.162658     0.322164    -0.629849   -0.060760   -0.164675    -0.338273   \n",
       "1     0.456433    -0.425599     1.150899   -0.018176   -0.111845    -0.418083   \n",
       "2    -0.227969    -0.712884    -1.194285    0.315895    0.191896    -0.435897   \n",
       "3    -0.185477    -0.621804    -0.060800   -0.786810   -0.580778    -0.065402   \n",
       "4    -0.456039     0.677025    -0.228615    0.162808    0.078742     0.069130   \n",
       "\n",
       "   NUCL_HUMAN  H7BY16_HUMAN  U119B_HUMAN  U119A_HUMAN  RBM42_HUMAN  \\\n",
       "0   -0.283991           NaN    -0.159331     0.478893     0.524820   \n",
       "1    0.314874           NaN     0.302820    -0.233315    -0.392828   \n",
       "2   -0.001159           NaN    -0.323900     0.489542    -0.221535   \n",
       "3   -0.258906           NaN    -0.322701     0.059178    -0.413732   \n",
       "4   -0.097099           NaN     0.014327     0.267861     0.371286   \n",
       "\n",
       "   RCC2_HUMAN  CHPF2_HUMAN  TAL1_HUMAN  LYL1_HUMAN  RNBP6_HUMAN  IPO5_HUMAN  \\\n",
       "0    0.259292    -0.301207         NaN         NaN    -0.543366   -0.000458   \n",
       "1   -0.207505    -0.173793         NaN         NaN    -0.130530   -0.474000   \n",
       "2   -0.031614    -0.336909         NaN         NaN    -0.353102   -0.256261   \n",
       "3   -0.315824     0.044447         NaN         NaN     0.039788    0.553425   \n",
       "4    0.261686     0.232195         NaN         NaN     0.332960    0.128881   \n",
       "\n",
       "   ...  SCNNG_HUMAN  MOT5_HUMAN  F168A_HUMAN  TMPS2_HUMAN  H0Y572_HUMAN  \\\n",
       "0  ...          NaN         NaN    -0.175808          NaN           NaN   \n",
       "1  ...          NaN         NaN     0.003005          NaN           NaN   \n",
       "2  ...          NaN         NaN    -0.256515          NaN           NaN   \n",
       "3  ...          NaN         NaN    -0.121839          NaN           NaN   \n",
       "4  ...          NaN         NaN     0.087430          NaN           NaN   \n",
       "\n",
       "   ECP_HUMAN  CCD37_HUMAN  TM2D1_HUMAN  RM42_HUMAN  CNIH1_HUMAN  PEMT_HUMAN  \\\n",
       "0        NaN    -0.146056          NaN   -0.343869          NaN         NaN   \n",
       "1        NaN    -0.296976          NaN   -0.017864          NaN         NaN   \n",
       "2        NaN     0.021500          NaN    0.226371          NaN         NaN   \n",
       "3        NaN     1.314970          NaN   -0.576579          NaN         NaN   \n",
       "4        NaN     1.772602          NaN   -0.123126          NaN         NaN   \n",
       "\n",
       "   VCC1_HUMAN  SLX1_HUMAN  TM127_HUMAN  CATE_HUMAN  KISS1_HUMAN  COX14_HUMAN  \\\n",
       "0         NaN         NaN          NaN         NaN          NaN    -0.293156   \n",
       "1         NaN         NaN          NaN         NaN          NaN     0.494815   \n",
       "2         NaN         NaN          NaN         NaN          NaN     0.628869   \n",
       "3         NaN         NaN          NaN         NaN          NaN    -0.375718   \n",
       "4         NaN         NaN          NaN         NaN          NaN    -0.038731   \n",
       "\n",
       "   GNT2A_HUMAN  LUR1L_HUMAN  ELOV4_HUMAN  EPT1_HUMAN  GCSAM_HUMAN  AHSP_HUMAN  \\\n",
       "0          NaN          NaN     0.197697         NaN          NaN         NaN   \n",
       "1          NaN          NaN    -0.246025         NaN          NaN         NaN   \n",
       "2          NaN          NaN     0.704127         NaN          NaN         NaN   \n",
       "3          NaN          NaN    -0.522867         NaN          NaN         NaN   \n",
       "4          NaN          NaN    -1.096018         NaN          NaN         NaN   \n",
       "\n",
       "   S35D1_HUMAN  SHSA3_HUMAN  CRUM3_HUMAN  BODG_HUMAN  YIPF5_HUMAN  \\\n",
       "0    -0.112885          NaN          NaN         NaN          NaN   \n",
       "1    -0.442163          NaN          NaN         NaN          NaN   \n",
       "2     0.070168          NaN          NaN         NaN          NaN   \n",
       "3     0.000895          NaN          NaN         NaN          NaN   \n",
       "4    -0.051616          NaN          NaN         NaN          NaN   \n",
       "\n",
       "   FANCF_HUMAN  MASP2_HUMAN  COX7B_HUMAN  SFT2A_HUMAN  NEPR1_HUMAN  \\\n",
       "0          NaN          NaN     0.452627          NaN     0.038436   \n",
       "1          NaN          NaN    -0.097151          NaN    -0.006573   \n",
       "2          NaN          NaN    -0.103263          NaN    -0.187915   \n",
       "3          NaN          NaN    -0.179860          NaN    -0.069769   \n",
       "4          NaN          NaN     0.386142          NaN     0.036885   \n",
       "\n",
       "   ERD21_HUMAN  MTURN_HUMAN  PRDM6_HUMAN  KISHA_HUMAN  AQP1_HUMAN  NEK8_HUMAN  \\\n",
       "0    -0.088332          NaN          NaN    -0.018582         NaN         NaN   \n",
       "1    -0.043085          NaN          NaN     0.287234         NaN         NaN   \n",
       "2    -0.346276          NaN          NaN    -0.231386         NaN         NaN   \n",
       "3     0.542126          NaN          NaN     0.010742         NaN         NaN   \n",
       "4     0.393496          NaN          NaN     0.353924         NaN         NaN   \n",
       "\n",
       "   S46A3_HUMAN  NU2M_HUMAN  NU3M_HUMAN  BMP6_HUMAN  MET20_HUMAN  CCL26_HUMAN  \\\n",
       "0     1.040703         NaN    0.433789         NaN          NaN          NaN   \n",
       "1    -0.949250         NaN   -0.149629         NaN          NaN          NaN   \n",
       "2     0.242156         NaN   -0.376248         NaN          NaN          NaN   \n",
       "3     1.222895         NaN   -0.915686         NaN          NaN          NaN   \n",
       "4    -0.212603         NaN    0.793730         NaN          NaN          NaN   \n",
       "\n",
       "   AL5AP_HUMAN  CYTM1_HUMAN  MGST2_HUMAN  CNIH4_HUMAN   Cell_line  \n",
       "0          NaN    -0.313512          NaN     0.138191  MDA-MB-468  \n",
       "1          NaN     0.105086          NaN     0.355856        SH-4  \n",
       "2          NaN    -0.586815          NaN     0.001459       AU565  \n",
       "3          NaN    -0.132940          NaN     0.172501      KMRC-1  \n",
       "4          NaN     0.452423          NaN     0.200756      CAL-51  \n",
       "\n",
       "[5 rows x 12757 columns]"
      ]
     },
     "execution_count": 79,
     "metadata": {},
     "output_type": "execute_result"
    }
   ],
   "source": [
    "ccle_protein.head()"
   ]
  },
  {
   "cell_type": "code",
   "execution_count": 78,
   "metadata": {
    "ExecuteTime": {
     "end_time": "2020-03-16T11:22:42.919738Z",
     "start_time": "2020-03-16T11:22:42.870511Z"
    }
   },
   "outputs": [],
   "source": [
    "ccle_protein = ccle_protein.rename(columns={'Cell Line':'Cell_line'})"
   ]
  },
  {
   "cell_type": "code",
   "execution_count": 80,
   "metadata": {
    "ExecuteTime": {
     "end_time": "2020-03-16T11:23:10.578386Z",
     "start_time": "2020-03-16T11:23:10.561331Z"
    }
   },
   "outputs": [],
   "source": [
    "ccle_protein = ccle_protein.drop(['CCLE Code'],axis=1)"
   ]
  },
  {
   "cell_type": "code",
   "execution_count": 126,
   "metadata": {
    "ExecuteTime": {
     "end_time": "2020-03-16T12:01:04.277311Z",
     "start_time": "2020-03-16T12:01:02.915068Z"
    }
   },
   "outputs": [],
   "source": [
    "ccle_protein = ccle_protein.astype({'Cell_line': str})"
   ]
  },
  {
   "cell_type": "code",
   "execution_count": 127,
   "metadata": {
    "ExecuteTime": {
     "end_time": "2020-03-16T12:01:05.171096Z",
     "start_time": "2020-03-16T12:01:05.136398Z"
    }
   },
   "outputs": [],
   "source": [
    "ccle_protein = ccle_protein.sort_values(by=['Cell_line'])"
   ]
  },
  {
   "cell_type": "code",
   "execution_count": 226,
   "metadata": {
    "ExecuteTime": {
     "end_time": "2020-03-16T23:57:21.608944Z",
     "start_time": "2020-03-16T23:57:21.560740Z"
    }
   },
   "outputs": [],
   "source": [
    "ccle_protein = pd.concat(\n",
    "    [ccle_protein['Cell_line'],\n",
    "     ccle_protein.drop(['Cell_line'], axis=1)],\n",
    "    axis=1)"
   ]
  },
  {
   "cell_type": "code",
   "execution_count": 231,
   "metadata": {
    "ExecuteTime": {
     "end_time": "2020-03-16T23:58:55.754524Z",
     "start_time": "2020-03-16T23:58:55.740553Z"
    }
   },
   "outputs": [],
   "source": [
    "ccle_protein = ccle_protein.loc[:,~ccle_protein.columns.duplicated()]"
   ]
  },
  {
   "cell_type": "code",
   "execution_count": 236,
   "metadata": {
    "ExecuteTime": {
     "end_time": "2020-03-17T00:48:20.335645Z",
     "start_time": "2020-03-17T00:48:13.155764Z"
    }
   },
   "outputs": [],
   "source": [
    "ccle_protein.to_csv(\"../data/ccle/protein_matrix.tsv\", sep='\\t', index=False)"
   ]
  },
  {
   "cell_type": "markdown",
   "metadata": {},
   "source": [
    "# load sanger data"
   ]
  },
  {
   "cell_type": "code",
   "execution_count": 298,
   "metadata": {
    "ExecuteTime": {
     "end_time": "2020-03-18T12:50:41.470975Z",
     "start_time": "2020-03-18T12:50:40.325859Z"
    }
   },
   "outputs": [],
   "source": [
    "ic50 = pd.read_csv(\n",
    "    \"../data/drug/ic50_processed_median.csv\")"
   ]
  },
  {
   "cell_type": "code",
   "execution_count": 299,
   "metadata": {
    "ExecuteTime": {
     "end_time": "2020-03-18T12:50:41.544395Z",
     "start_time": "2020-03-18T12:50:41.473516Z"
    }
   },
   "outputs": [],
   "source": [
    "meta = pd.read_csv(\"../data/E0022_P06_final_sample_map.txt\", sep='\\t')"
   ]
  },
  {
   "cell_type": "code",
   "execution_count": 300,
   "metadata": {
    "ExecuteTime": {
     "end_time": "2020-03-18T12:50:49.828137Z",
     "start_time": "2020-03-18T12:50:41.547744Z"
    }
   },
   "outputs": [],
   "source": [
    "# protein_raw = pd.read_csv(\"../data/protein/E0022_P06_log_transformed.tsv\", sep='\\t')\n",
    "protein_raw = pd.read_csv(\"../data/protein/E0022_P06_log_transformed_median.tsv\", sep='\\t')"
   ]
  },
  {
   "cell_type": "code",
   "execution_count": 301,
   "metadata": {
    "ExecuteTime": {
     "end_time": "2020-03-18T12:50:50.888174Z",
     "start_time": "2020-03-18T12:50:49.830638Z"
    }
   },
   "outputs": [],
   "source": [
    "protein_raw = protein_raw.rename(columns={'Unnamed: 0': 'Automatic_MS_filename'})\n",
    "protein_raw_merge = pd.merge(protein_raw, meta[['Automatic_MS_filename', 'Cell_line']])\n",
    "\n",
    "protein_sample_avg = protein_raw_merge.drop(['Automatic_MS_filename'],\n",
    "                                            axis=1).groupby(['Cell_line']).agg(np.nanmean).reset_index()"
   ]
  },
  {
   "cell_type": "code",
   "execution_count": 302,
   "metadata": {
    "ExecuteTime": {
     "end_time": "2020-03-18T12:50:50.907387Z",
     "start_time": "2020-03-18T12:50:50.890449Z"
    }
   },
   "outputs": [],
   "source": [
    "protein_sample_avg = protein_sample_avg.sort_values(by=['Cell_line'])"
   ]
  },
  {
   "cell_type": "code",
   "execution_count": 208,
   "metadata": {
    "ExecuteTime": {
     "end_time": "2020-03-16T23:52:24.884392Z",
     "start_time": "2020-03-16T23:52:24.878579Z"
    },
    "code_folding": []
   },
   "outputs": [],
   "source": [
    "cell_line_dict = {\"Sanger\":set(protein_sample_avg['Cell_line'].unique()),\n",
    "                 \"CCLE\":set(ccle_protein['Cell_line'].unique())}"
   ]
  },
  {
   "cell_type": "code",
   "execution_count": 209,
   "metadata": {
    "ExecuteTime": {
     "end_time": "2020-03-16T23:52:25.469736Z",
     "start_time": "2020-03-16T23:52:25.315606Z"
    }
   },
   "outputs": [],
   "source": [
    "common_cell_lines = list(\n",
    "    set(protein_sample_avg['Cell_line'].unique()).intersection(\n",
    "        set(ccle_protein['Cell_line'].unique())))\n",
    "\n",
    "common_proteins = list(\n",
    "    set(protein_sample_avg.drop(['Cell_line'], axis=1).columns).intersection(\n",
    "        set(ccle_protein.drop(['Cell_line'], axis=1).columns)))"
   ]
  },
  {
   "cell_type": "code",
   "execution_count": 210,
   "metadata": {
    "ExecuteTime": {
     "end_time": "2020-03-16T23:52:25.736562Z",
     "start_time": "2020-03-16T23:52:25.733022Z"
    }
   },
   "outputs": [
    {
     "data": {
      "text/plain": [
       "3787"
      ]
     },
     "execution_count": 210,
     "metadata": {},
     "output_type": "execute_result"
    }
   ],
   "source": [
    "len(common_proteins)"
   ]
  },
  {
   "cell_type": "code",
   "execution_count": 211,
   "metadata": {
    "ExecuteTime": {
     "end_time": "2020-03-16T23:52:26.672598Z",
     "start_time": "2020-03-16T23:52:26.575215Z"
    }
   },
   "outputs": [
    {
     "data": {
      "text/plain": [
       "<matplotlib.axes._subplots.AxesSubplot at 0x1aae4eac18>"
      ]
     },
     "execution_count": 211,
     "metadata": {},
     "output_type": "execute_result"
    },
    {
     "data": {
      "image/png": "[encoded data removed]",
      "text/plain": [
       "<Figure size 576x576 with 1 Axes>"
      ]
     },
     "metadata": {},
     "output_type": "display_data"
    }
   ],
   "source": [
    "venn(cell_line_dict)"
   ]
  },
  {
   "cell_type": "markdown",
   "metadata": {},
   "source": [
    "# correlation"
   ]
  },
  {
   "cell_type": "markdown",
   "metadata": {},
   "source": [
    "## by every protein in each sample"
   ]
  },
  {
   "cell_type": "code",
   "execution_count": 303,
   "metadata": {
    "ExecuteTime": {
     "end_time": "2020-03-18T12:50:51.351289Z",
     "start_time": "2020-03-18T12:50:50.909597Z"
    }
   },
   "outputs": [],
   "source": [
    "ccle_protein_melt = pd.melt(ccle_protein, id_vars='Cell_line', value_name='CCLE_protein', var_name='protein')"
   ]
  },
  {
   "cell_type": "code",
   "execution_count": 304,
   "metadata": {
    "ExecuteTime": {
     "end_time": "2020-03-18T12:50:51.783254Z",
     "start_time": "2020-03-18T12:50:51.355548Z"
    }
   },
   "outputs": [],
   "source": [
    "sanger_protein_melt = pd.melt(protein_sample_avg,\n",
    "                              id_vars='Cell_line',\n",
    "                              value_name='Sanger_protein',\n",
    "                              var_name='protein')"
   ]
  },
  {
   "cell_type": "code",
   "execution_count": 305,
   "metadata": {
    "ExecuteTime": {
     "end_time": "2020-03-18T12:50:54.263707Z",
     "start_time": "2020-03-18T12:50:51.785597Z"
    }
   },
   "outputs": [],
   "source": [
    "combined = pd.merge(ccle_protein_melt, sanger_protein_melt, on=['Cell_line', 'protein'])"
   ]
  },
  {
   "cell_type": "code",
   "execution_count": 306,
   "metadata": {
    "ExecuteTime": {
     "end_time": "2020-03-18T12:50:54.461771Z",
     "start_time": "2020-03-18T12:50:54.265888Z"
    }
   },
   "outputs": [],
   "source": [
    "combined = combined.dropna()"
   ]
  },
  {
   "cell_type": "code",
   "execution_count": 307,
   "metadata": {
    "ExecuteTime": {
     "end_time": "2020-03-18T12:50:54.814111Z",
     "start_time": "2020-03-18T12:50:54.464952Z"
    }
   },
   "outputs": [
    {
     "data": {
      "text/plain": [
       "SpearmanrResult(correlation=0.3924127733391362, pvalue=0.0)"
      ]
     },
     "execution_count": 307,
     "metadata": {},
     "output_type": "execute_result"
    }
   ],
   "source": [
    "spearmanr(combined['CCLE_protein'], combined['Sanger_protein'])"
   ]
  },
  {
   "cell_type": "code",
   "execution_count": 241,
   "metadata": {
    "ExecuteTime": {
     "end_time": "2020-03-17T01:19:21.901889Z",
     "start_time": "2020-03-17T01:19:14.633614Z"
    }
   },
   "outputs": [
    {
     "data": {
      "text/plain": [
       "<seaborn.axisgrid.JointGrid at 0x1addf7a0f0>"
      ]
     },
     "execution_count": 241,
     "metadata": {},
     "output_type": "execute_result"
    },
    {
     "data": {
      "image/png": "[encoded data removed]",
      "text/plain": [
       "<Figure size 576x576 with 3 Axes>"
      ]
     },
     "metadata": {
      "needs_background": "light"
     },
     "output_type": "display_data"
    }
   ],
   "source": [
    "# plt.figure(figsize=(12, 8))\n",
    "sns.jointplot('CCLE_protein', 'Sanger_protein', combined, kind='scatter', height=8)"
   ]
  },
  {
   "cell_type": "code",
   "execution_count": 242,
   "metadata": {
    "ExecuteTime": {
     "end_time": "2020-03-17T01:20:38.285840Z",
     "start_time": "2020-03-17T01:19:34.874578Z"
    }
   },
   "outputs": [
    {
     "data": {
      "text/plain": [
       "<matplotlib.axes._subplots.AxesSubplot at 0x1aa4d42588>"
      ]
     },
     "execution_count": 242,
     "metadata": {},
     "output_type": "execute_result"
    },
    {
     "data": {
      "image/png": "[encoded data removed]",
      "text/plain": [
       "<Figure size 720x720 with 1 Axes>"
      ]
     },
     "metadata": {
      "needs_background": "light"
     },
     "output_type": "display_data"
    }
   ],
   "source": [
    "plt.figure(figsize=(10, 10))\n",
    "sns.regplot('CCLE_protein', 'Sanger_protein', combined,\n",
    "            line_kws={'color': 'red'})"
   ]
  },
  {
   "cell_type": "code",
   "execution_count": 218,
   "metadata": {
    "ExecuteTime": {
     "end_time": "2020-03-16T23:54:32.920368Z",
     "start_time": "2020-03-16T23:54:32.728515Z"
    }
   },
   "outputs": [],
   "source": [
    "combined = pd.merge(combined,\n",
    "                    ic50[['Cell line name', 'Tissue']].drop_duplicates(),\n",
    "                    left_on=['Cell_line'],\n",
    "                    right_on=['Cell line name'])"
   ]
  },
  {
   "cell_type": "markdown",
   "metadata": {},
   "source": [
    "## overall protein"
   ]
  },
  {
   "cell_type": "code",
   "execution_count": 251,
   "metadata": {
    "ExecuteTime": {
     "end_time": "2020-03-17T04:21:50.118539Z",
     "start_time": "2020-03-17T04:21:48.557020Z"
    }
   },
   "outputs": [],
   "source": [
    "ccle_protein_common = ccle_protein[ccle_protein['Cell_line'].isin(common_cell_lines)]\n",
    "ccle_protein_common = pd.concat([ccle_protein_common['Cell_line'], ccle_protein_common[common_proteins]], axis=1)\n",
    "ccle_protein_common = ccle_protein_common.drop_duplicates(['Cell_line'])\n",
    "ccle_protein_common.to_csv(\"../data/ccle/protein_matrix_common.tsv\", index=False, sep='\\t')"
   ]
  },
  {
   "cell_type": "code",
   "execution_count": 271,
   "metadata": {
    "ExecuteTime": {
     "end_time": "2020-03-17T05:00:13.697805Z",
     "start_time": "2020-03-17T05:00:09.178101Z"
    }
   },
   "outputs": [],
   "source": [
    "ccle_protein_common = ccle_protein[ccle_protein['Cell_line'].isin(common_cell_lines)]\n",
    "ccle_protein_common = ccle_protein_common.drop_duplicates(['Cell_line'])\n",
    "ccle_protein_common.to_csv(\"../data/ccle/protein_matrix_common_all_proteins.tsv\", index=False, sep='\\t')"
   ]
  },
  {
   "cell_type": "code",
   "execution_count": 248,
   "metadata": {
    "ExecuteTime": {
     "end_time": "2020-03-17T04:20:56.469500Z",
     "start_time": "2020-03-17T04:20:55.126488Z"
    }
   },
   "outputs": [],
   "source": [
    "protein_sample_avg_common = protein_sample_avg[\n",
    "    protein_sample_avg['Cell_line'].isin(common_cell_lines)]\n",
    "protein_sample_avg_common = pd.concat([\n",
    "    protein_sample_avg_common['Cell_line'],\n",
    "    protein_sample_avg_common[common_proteins]\n",
    "],\n",
    "                                      axis=1)\n",
    "\n",
    "protein_sample_avg_common.to_csv(\"../data/protein/P06_matrix_common.tsv\",\n",
    "                                 index=False,\n",
    "                                 sep='\\t')"
   ]
  },
  {
   "cell_type": "code",
   "execution_count": 219,
   "metadata": {
    "ExecuteTime": {
     "end_time": "2020-03-16T23:54:41.096062Z",
     "start_time": "2020-03-16T23:54:40.768469Z"
    }
   },
   "outputs": [],
   "source": [
    "ccle_protein_common = ccle_protein[ccle_protein['Cell_line'].isin(\n",
    "    common_cell_lines)].drop_duplicates('Cell_line')\n",
    "sanger_protein_common = protein_sample_avg[\n",
    "    protein_sample_avg['Cell_line'].isin(common_cell_lines)]"
   ]
  },
  {
   "cell_type": "code",
   "execution_count": 220,
   "metadata": {
    "ExecuteTime": {
     "end_time": "2020-03-16T23:54:41.307641Z",
     "start_time": "2020-03-16T23:54:41.234691Z"
    }
   },
   "outputs": [
    {
     "data": {
      "text/html": [
       "<div>\n",
       "<style scoped>\n",
       "    .dataframe tbody tr th:only-of-type {\n",
       "        vertical-align: middle;\n",
       "    }\n",
       "\n",
       "    .dataframe tbody tr th {\n",
       "        vertical-align: top;\n",
       "    }\n",
       "\n",
       "    .dataframe thead th {\n",
       "        text-align: right;\n",
       "    }\n",
       "</style>\n",
       "<table border=\"1\" class=\"dataframe\">\n",
       "  <thead>\n",
       "    <tr style=\"text-align: right;\">\n",
       "      <th></th>\n",
       "      <th>Cell_line</th>\n",
       "      <th>1433B_HUMAN</th>\n",
       "      <th>1433E_HUMAN</th>\n",
       "      <th>1433F_HUMAN</th>\n",
       "      <th>1433G_HUMAN</th>\n",
       "      <th>1433S_HUMAN</th>\n",
       "      <th>1433T_HUMAN</th>\n",
       "      <th>1433Z_HUMAN</th>\n",
       "      <th>1A03_HUMAN</th>\n",
       "      <th>1A24_HUMAN</th>\n",
       "      <th>2A5D_HUMAN</th>\n",
       "      <th>2A5E_HUMAN</th>\n",
       "      <th>2AAA_HUMAN</th>\n",
       "      <th>2AAB_HUMAN</th>\n",
       "      <th>2ABA_HUMAN</th>\n",
       "      <th>2B19_HUMAN</th>\n",
       "      <th>3HIDH_HUMAN</th>\n",
       "      <th>3MG_HUMAN</th>\n",
       "      <th>41_HUMAN</th>\n",
       "      <th>4ET_HUMAN</th>\n",
       "      <th>4F2_HUMAN</th>\n",
       "      <th>5NT3A_HUMAN</th>\n",
       "      <th>5NTD_HUMAN</th>\n",
       "      <th>6PGD_HUMAN</th>\n",
       "      <th>6PGL_HUMAN</th>\n",
       "      <th>7B2_HUMAN</th>\n",
       "      <th>8ODP_HUMAN</th>\n",
       "      <th>A16A1_HUMAN</th>\n",
       "      <th>A2MG_HUMAN</th>\n",
       "      <th>A4_HUMAN</th>\n",
       "      <th>AAAS_HUMAN</th>\n",
       "      <th>AAAT_HUMAN</th>\n",
       "      <th>AAGAB_HUMAN</th>\n",
       "      <th>AAK1_HUMAN</th>\n",
       "      <th>AAMDC_HUMAN</th>\n",
       "      <th>AAPK1_HUMAN</th>\n",
       "      <th>AASD1_HUMAN</th>\n",
       "      <th>AASS_HUMAN</th>\n",
       "      <th>AATC_HUMAN</th>\n",
       "      <th>AATF_HUMAN</th>\n",
       "      <th>AATM_HUMAN</th>\n",
       "      <th>AB1IP_HUMAN</th>\n",
       "      <th>ABCB6_HUMAN</th>\n",
       "      <th>ABCBA_HUMAN</th>\n",
       "      <th>ABCD1_HUMAN</th>\n",
       "      <th>ABCD3_HUMAN</th>\n",
       "      <th>ABCE1_HUMAN</th>\n",
       "      <th>ABCF1_HUMAN</th>\n",
       "      <th>ABCF2_HUMAN</th>\n",
       "      <th>ABCF3_HUMAN</th>\n",
       "      <th>...</th>\n",
       "      <th>YRDC_HUMAN</th>\n",
       "      <th>YTHD2_HUMAN</th>\n",
       "      <th>YTHD3_HUMAN</th>\n",
       "      <th>Z280C_HUMAN</th>\n",
       "      <th>ZA2G_HUMAN</th>\n",
       "      <th>ZC11A_HUMAN</th>\n",
       "      <th>ZC3H4_HUMAN</th>\n",
       "      <th>ZC3HD_HUMAN</th>\n",
       "      <th>ZC3HE_HUMAN</th>\n",
       "      <th>ZC3HF_HUMAN</th>\n",
       "      <th>ZCCHL_HUMAN</th>\n",
       "      <th>ZCCHV_HUMAN</th>\n",
       "      <th>ZCH18_HUMAN</th>\n",
       "      <th>ZCHC8_HUMAN</th>\n",
       "      <th>ZDHC5_HUMAN</th>\n",
       "      <th>ZEB2_HUMAN</th>\n",
       "      <th>ZFAN6_HUMAN</th>\n",
       "      <th>ZFHX3_HUMAN</th>\n",
       "      <th>ZFPL1_HUMAN</th>\n",
       "      <th>ZFR_HUMAN</th>\n",
       "      <th>ZFY16_HUMAN</th>\n",
       "      <th>ZHX2_HUMAN</th>\n",
       "      <th>ZN185_HUMAN</th>\n",
       "      <th>ZN207_HUMAN</th>\n",
       "      <th>ZN318_HUMAN</th>\n",
       "      <th>ZN326_HUMAN</th>\n",
       "      <th>ZN384_HUMAN</th>\n",
       "      <th>ZN428_HUMAN</th>\n",
       "      <th>ZN512_HUMAN</th>\n",
       "      <th>ZN593_HUMAN</th>\n",
       "      <th>ZN598_HUMAN</th>\n",
       "      <th>ZN622_HUMAN</th>\n",
       "      <th>ZN638_HUMAN</th>\n",
       "      <th>ZN687_HUMAN</th>\n",
       "      <th>ZN706_HUMAN</th>\n",
       "      <th>ZN768_HUMAN</th>\n",
       "      <th>ZNF22_HUMAN</th>\n",
       "      <th>ZNF24_HUMAN</th>\n",
       "      <th>ZNT9_HUMAN</th>\n",
       "      <th>ZO1_HUMAN</th>\n",
       "      <th>ZO2_HUMAN</th>\n",
       "      <th>ZPR1_HUMAN</th>\n",
       "      <th>ZRAB2_HUMAN</th>\n",
       "      <th>ZW10_HUMAN</th>\n",
       "      <th>ZYX_HUMAN</th>\n",
       "      <th>sp|P49327|FAS_HUMAN</th>\n",
       "      <th>sp|P78527|PRKDC_HUMAN</th>\n",
       "      <th>sp|Q00610|CLH1_HUMAN</th>\n",
       "      <th>sp|Q13813|SPTN1_HUMAN</th>\n",
       "      <th>sp|Q14204|DYHC1_HUMAN</th>\n",
       "    </tr>\n",
       "  </thead>\n",
       "  <tbody>\n",
       "    <tr>\n",
       "      <th>8</th>\n",
       "      <td>697</td>\n",
       "      <td>-0.012778</td>\n",
       "      <td>0.159762</td>\n",
       "      <td>0.048246</td>\n",
       "      <td>0.327131</td>\n",
       "      <td>0.063071</td>\n",
       "      <td>0.528702</td>\n",
       "      <td>0.258052</td>\n",
       "      <td>NaN</td>\n",
       "      <td>NaN</td>\n",
       "      <td>0.227486</td>\n",
       "      <td>0.411906</td>\n",
       "      <td>0.371670</td>\n",
       "      <td>-0.241474</td>\n",
       "      <td>-0.106116</td>\n",
       "      <td>NaN</td>\n",
       "      <td>-0.149692</td>\n",
       "      <td>0.307886</td>\n",
       "      <td>-0.067738</td>\n",
       "      <td>0.212020</td>\n",
       "      <td>-0.680828</td>\n",
       "      <td>-1.138322</td>\n",
       "      <td>-0.648124</td>\n",
       "      <td>0.971858</td>\n",
       "      <td>0.949152</td>\n",
       "      <td>NaN</td>\n",
       "      <td>0.490889</td>\n",
       "      <td>0.380162</td>\n",
       "      <td>1.767660</td>\n",
       "      <td>-0.407201</td>\n",
       "      <td>0.091474</td>\n",
       "      <td>-0.852206</td>\n",
       "      <td>-0.376494</td>\n",
       "      <td>0.068607</td>\n",
       "      <td>-0.604392</td>\n",
       "      <td>-0.399751</td>\n",
       "      <td>0.686858</td>\n",
       "      <td>0.234138</td>\n",
       "      <td>-0.095202</td>\n",
       "      <td>0.048480</td>\n",
       "      <td>-0.905115</td>\n",
       "      <td>1.159026</td>\n",
       "      <td>NaN</td>\n",
       "      <td>0.536978</td>\n",
       "      <td>NaN</td>\n",
       "      <td>-1.066933</td>\n",
       "      <td>0.195571</td>\n",
       "      <td>0.006639</td>\n",
       "      <td>-0.179209</td>\n",
       "      <td>-0.158149</td>\n",
       "      <td>...</td>\n",
       "      <td>-0.445221</td>\n",
       "      <td>0.443169</td>\n",
       "      <td>-0.191352</td>\n",
       "      <td>0.225131</td>\n",
       "      <td>NaN</td>\n",
       "      <td>0.168298</td>\n",
       "      <td>0.643507</td>\n",
       "      <td>0.253736</td>\n",
       "      <td>-0.009822</td>\n",
       "      <td>0.357548</td>\n",
       "      <td>-0.203960</td>\n",
       "      <td>0.031060</td>\n",
       "      <td>-0.187292</td>\n",
       "      <td>0.004399</td>\n",
       "      <td>-0.178895</td>\n",
       "      <td>0.430404</td>\n",
       "      <td>-0.299727</td>\n",
       "      <td>1.889076</td>\n",
       "      <td>-0.567871</td>\n",
       "      <td>0.030200</td>\n",
       "      <td>1.009462</td>\n",
       "      <td>1.427045</td>\n",
       "      <td>0.399929</td>\n",
       "      <td>0.527411</td>\n",
       "      <td>0.701600</td>\n",
       "      <td>-0.324233</td>\n",
       "      <td>-0.083370</td>\n",
       "      <td>0.846396</td>\n",
       "      <td>-0.270021</td>\n",
       "      <td>-0.051548</td>\n",
       "      <td>0.083240</td>\n",
       "      <td>NaN</td>\n",
       "      <td>-0.150849</td>\n",
       "      <td>0.499081</td>\n",
       "      <td>0.723587</td>\n",
       "      <td>NaN</td>\n",
       "      <td>0.881114</td>\n",
       "      <td>-0.057979</td>\n",
       "      <td>-0.895801</td>\n",
       "      <td>-0.953393</td>\n",
       "      <td>-0.676603</td>\n",
       "      <td>-0.021120</td>\n",
       "      <td>0.193618</td>\n",
       "      <td>0.081453</td>\n",
       "      <td>-1.379753</td>\n",
       "      <td>0.262772</td>\n",
       "      <td>-0.199734</td>\n",
       "      <td>-0.101727</td>\n",
       "      <td>0.287671</td>\n",
       "      <td>0.222237</td>\n",
       "    </tr>\n",
       "    <tr>\n",
       "      <th>9</th>\n",
       "      <td>769-P</td>\n",
       "      <td>-0.180015</td>\n",
       "      <td>-0.224150</td>\n",
       "      <td>0.553788</td>\n",
       "      <td>0.165320</td>\n",
       "      <td>0.051575</td>\n",
       "      <td>0.108861</td>\n",
       "      <td>1.171087</td>\n",
       "      <td>-2.261661</td>\n",
       "      <td>0.163124</td>\n",
       "      <td>-0.601304</td>\n",
       "      <td>-0.842795</td>\n",
       "      <td>0.208992</td>\n",
       "      <td>-2.507792</td>\n",
       "      <td>-0.265437</td>\n",
       "      <td>NaN</td>\n",
       "      <td>-0.104355</td>\n",
       "      <td>0.217221</td>\n",
       "      <td>-0.558452</td>\n",
       "      <td>0.551174</td>\n",
       "      <td>-0.290908</td>\n",
       "      <td>-0.030351</td>\n",
       "      <td>-0.429102</td>\n",
       "      <td>-0.909720</td>\n",
       "      <td>0.372485</td>\n",
       "      <td>NaN</td>\n",
       "      <td>NaN</td>\n",
       "      <td>0.351702</td>\n",
       "      <td>NaN</td>\n",
       "      <td>0.806720</td>\n",
       "      <td>-0.124112</td>\n",
       "      <td>0.187267</td>\n",
       "      <td>0.370772</td>\n",
       "      <td>0.401824</td>\n",
       "      <td>-0.943892</td>\n",
       "      <td>-0.140334</td>\n",
       "      <td>0.120542</td>\n",
       "      <td>0.388030</td>\n",
       "      <td>0.547744</td>\n",
       "      <td>-0.050130</td>\n",
       "      <td>-0.102095</td>\n",
       "      <td>0.291860</td>\n",
       "      <td>NaN</td>\n",
       "      <td>0.278759</td>\n",
       "      <td>NaN</td>\n",
       "      <td>-0.230887</td>\n",
       "      <td>-0.103277</td>\n",
       "      <td>-0.167649</td>\n",
       "      <td>-0.131454</td>\n",
       "      <td>0.384096</td>\n",
       "      <td>...</td>\n",
       "      <td>-0.094523</td>\n",
       "      <td>0.322290</td>\n",
       "      <td>0.845521</td>\n",
       "      <td>-0.674975</td>\n",
       "      <td>NaN</td>\n",
       "      <td>0.059018</td>\n",
       "      <td>0.433709</td>\n",
       "      <td>-0.624513</td>\n",
       "      <td>-0.822983</td>\n",
       "      <td>0.573266</td>\n",
       "      <td>-1.229991</td>\n",
       "      <td>0.401050</td>\n",
       "      <td>-0.073692</td>\n",
       "      <td>0.142697</td>\n",
       "      <td>0.496830</td>\n",
       "      <td>1.405671</td>\n",
       "      <td>0.564720</td>\n",
       "      <td>1.388573</td>\n",
       "      <td>-0.237866</td>\n",
       "      <td>-0.057755</td>\n",
       "      <td>0.024125</td>\n",
       "      <td>-0.325974</td>\n",
       "      <td>0.213556</td>\n",
       "      <td>0.119313</td>\n",
       "      <td>-0.235171</td>\n",
       "      <td>-0.536889</td>\n",
       "      <td>-0.202948</td>\n",
       "      <td>-0.477299</td>\n",
       "      <td>-1.104015</td>\n",
       "      <td>0.214152</td>\n",
       "      <td>0.036475</td>\n",
       "      <td>-0.203214</td>\n",
       "      <td>-0.176078</td>\n",
       "      <td>-0.593225</td>\n",
       "      <td>0.775802</td>\n",
       "      <td>NaN</td>\n",
       "      <td>0.868701</td>\n",
       "      <td>-0.380619</td>\n",
       "      <td>0.063003</td>\n",
       "      <td>0.458159</td>\n",
       "      <td>1.196235</td>\n",
       "      <td>-0.500589</td>\n",
       "      <td>-0.119426</td>\n",
       "      <td>-0.871397</td>\n",
       "      <td>1.465776</td>\n",
       "      <td>-0.049945</td>\n",
       "      <td>-0.391131</td>\n",
       "      <td>0.604612</td>\n",
       "      <td>0.886561</td>\n",
       "      <td>-0.363771</td>\n",
       "    </tr>\n",
       "    <tr>\n",
       "      <th>12</th>\n",
       "      <td>8305C</td>\n",
       "      <td>0.580144</td>\n",
       "      <td>-0.684909</td>\n",
       "      <td>0.020876</td>\n",
       "      <td>-0.620807</td>\n",
       "      <td>-0.507017</td>\n",
       "      <td>-0.279862</td>\n",
       "      <td>0.226353</td>\n",
       "      <td>NaN</td>\n",
       "      <td>NaN</td>\n",
       "      <td>-0.059338</td>\n",
       "      <td>0.493561</td>\n",
       "      <td>-0.018222</td>\n",
       "      <td>0.220922</td>\n",
       "      <td>NaN</td>\n",
       "      <td>NaN</td>\n",
       "      <td>-1.002906</td>\n",
       "      <td>0.939910</td>\n",
       "      <td>-1.611817</td>\n",
       "      <td>-2.278304</td>\n",
       "      <td>-0.680283</td>\n",
       "      <td>-1.727213</td>\n",
       "      <td>-0.227176</td>\n",
       "      <td>-0.900029</td>\n",
       "      <td>0.439236</td>\n",
       "      <td>-0.221220</td>\n",
       "      <td>NaN</td>\n",
       "      <td>-0.966481</td>\n",
       "      <td>-0.501822</td>\n",
       "      <td>0.168274</td>\n",
       "      <td>0.253837</td>\n",
       "      <td>-0.736578</td>\n",
       "      <td>-0.921845</td>\n",
       "      <td>-0.615714</td>\n",
       "      <td>-0.339152</td>\n",
       "      <td>0.460460</td>\n",
       "      <td>-0.373074</td>\n",
       "      <td>0.900572</td>\n",
       "      <td>-0.760684</td>\n",
       "      <td>-0.459661</td>\n",
       "      <td>0.333771</td>\n",
       "      <td>-0.612313</td>\n",
       "      <td>1.070726</td>\n",
       "      <td>NaN</td>\n",
       "      <td>NaN</td>\n",
       "      <td>-0.402932</td>\n",
       "      <td>-0.620299</td>\n",
       "      <td>-0.129098</td>\n",
       "      <td>0.988354</td>\n",
       "      <td>0.437329</td>\n",
       "      <td>...</td>\n",
       "      <td>0.371827</td>\n",
       "      <td>-0.689529</td>\n",
       "      <td>0.550223</td>\n",
       "      <td>-0.490517</td>\n",
       "      <td>0.263275</td>\n",
       "      <td>0.004073</td>\n",
       "      <td>-0.325112</td>\n",
       "      <td>-0.092621</td>\n",
       "      <td>-0.197710</td>\n",
       "      <td>0.143544</td>\n",
       "      <td>0.375311</td>\n",
       "      <td>-0.391479</td>\n",
       "      <td>0.068774</td>\n",
       "      <td>-0.072763</td>\n",
       "      <td>0.357901</td>\n",
       "      <td>1.143226</td>\n",
       "      <td>-0.080803</td>\n",
       "      <td>-0.004114</td>\n",
       "      <td>0.863641</td>\n",
       "      <td>-0.034740</td>\n",
       "      <td>NaN</td>\n",
       "      <td>-0.119072</td>\n",
       "      <td>-0.284558</td>\n",
       "      <td>-0.493417</td>\n",
       "      <td>NaN</td>\n",
       "      <td>0.230847</td>\n",
       "      <td>0.375747</td>\n",
       "      <td>-2.001813</td>\n",
       "      <td>-0.604259</td>\n",
       "      <td>-0.368904</td>\n",
       "      <td>0.414102</td>\n",
       "      <td>-0.665310</td>\n",
       "      <td>-0.318735</td>\n",
       "      <td>-0.849026</td>\n",
       "      <td>-0.129397</td>\n",
       "      <td>0.685892</td>\n",
       "      <td>NaN</td>\n",
       "      <td>0.272784</td>\n",
       "      <td>-0.186701</td>\n",
       "      <td>0.303426</td>\n",
       "      <td>0.658809</td>\n",
       "      <td>-0.067633</td>\n",
       "      <td>-0.006781</td>\n",
       "      <td>0.277701</td>\n",
       "      <td>-0.218604</td>\n",
       "      <td>-0.919226</td>\n",
       "      <td>-0.101327</td>\n",
       "      <td>0.358541</td>\n",
       "      <td>-0.104576</td>\n",
       "      <td>0.849423</td>\n",
       "    </tr>\n",
       "    <tr>\n",
       "      <th>13</th>\n",
       "      <td>8505C</td>\n",
       "      <td>0.996489</td>\n",
       "      <td>0.194122</td>\n",
       "      <td>-0.191444</td>\n",
       "      <td>-0.628574</td>\n",
       "      <td>0.317567</td>\n",
       "      <td>-0.234740</td>\n",
       "      <td>0.660082</td>\n",
       "      <td>NaN</td>\n",
       "      <td>NaN</td>\n",
       "      <td>-0.002832</td>\n",
       "      <td>0.293603</td>\n",
       "      <td>0.277626</td>\n",
       "      <td>-0.318503</td>\n",
       "      <td>-0.479674</td>\n",
       "      <td>NaN</td>\n",
       "      <td>-0.596322</td>\n",
       "      <td>0.244586</td>\n",
       "      <td>-1.242795</td>\n",
       "      <td>-0.657111</td>\n",
       "      <td>-0.542868</td>\n",
       "      <td>0.330894</td>\n",
       "      <td>1.556099</td>\n",
       "      <td>-0.638992</td>\n",
       "      <td>0.542607</td>\n",
       "      <td>NaN</td>\n",
       "      <td>-0.803829</td>\n",
       "      <td>0.333640</td>\n",
       "      <td>-0.774703</td>\n",
       "      <td>0.744125</td>\n",
       "      <td>-0.134522</td>\n",
       "      <td>0.037696</td>\n",
       "      <td>-0.082590</td>\n",
       "      <td>-0.292912</td>\n",
       "      <td>-0.927876</td>\n",
       "      <td>0.474426</td>\n",
       "      <td>-0.522554</td>\n",
       "      <td>-0.482207</td>\n",
       "      <td>-0.578566</td>\n",
       "      <td>-0.333277</td>\n",
       "      <td>0.317928</td>\n",
       "      <td>-0.851479</td>\n",
       "      <td>NaN</td>\n",
       "      <td>-0.760807</td>\n",
       "      <td>-0.314141</td>\n",
       "      <td>-0.382931</td>\n",
       "      <td>0.019446</td>\n",
       "      <td>-0.378062</td>\n",
       "      <td>0.037994</td>\n",
       "      <td>0.394969</td>\n",
       "      <td>...</td>\n",
       "      <td>0.459436</td>\n",
       "      <td>-0.331045</td>\n",
       "      <td>0.079014</td>\n",
       "      <td>NaN</td>\n",
       "      <td>-2.042494</td>\n",
       "      <td>-0.785476</td>\n",
       "      <td>-0.638403</td>\n",
       "      <td>-0.437518</td>\n",
       "      <td>-0.093885</td>\n",
       "      <td>0.085803</td>\n",
       "      <td>-0.407997</td>\n",
       "      <td>-0.478821</td>\n",
       "      <td>-0.114401</td>\n",
       "      <td>-0.427710</td>\n",
       "      <td>0.207462</td>\n",
       "      <td>1.179437</td>\n",
       "      <td>-0.604812</td>\n",
       "      <td>-1.340189</td>\n",
       "      <td>0.303565</td>\n",
       "      <td>0.098606</td>\n",
       "      <td>-0.671150</td>\n",
       "      <td>-0.102531</td>\n",
       "      <td>0.489955</td>\n",
       "      <td>-0.116092</td>\n",
       "      <td>-0.160450</td>\n",
       "      <td>0.171443</td>\n",
       "      <td>-0.431326</td>\n",
       "      <td>-1.275356</td>\n",
       "      <td>NaN</td>\n",
       "      <td>0.506211</td>\n",
       "      <td>-0.304846</td>\n",
       "      <td>0.224086</td>\n",
       "      <td>-0.738698</td>\n",
       "      <td>-0.763767</td>\n",
       "      <td>-0.154180</td>\n",
       "      <td>NaN</td>\n",
       "      <td>NaN</td>\n",
       "      <td>0.370382</td>\n",
       "      <td>-0.291546</td>\n",
       "      <td>0.036874</td>\n",
       "      <td>1.475963</td>\n",
       "      <td>-0.173431</td>\n",
       "      <td>-0.047449</td>\n",
       "      <td>0.046473</td>\n",
       "      <td>0.421678</td>\n",
       "      <td>-0.259153</td>\n",
       "      <td>0.061227</td>\n",
       "      <td>0.715365</td>\n",
       "      <td>0.022924</td>\n",
       "      <td>0.675021</td>\n",
       "    </tr>\n",
       "    <tr>\n",
       "      <th>14</th>\n",
       "      <td>A172</td>\n",
       "      <td>-0.655471</td>\n",
       "      <td>-0.124955</td>\n",
       "      <td>-0.478866</td>\n",
       "      <td>0.593396</td>\n",
       "      <td>-1.150882</td>\n",
       "      <td>0.060020</td>\n",
       "      <td>-0.218437</td>\n",
       "      <td>-0.850837</td>\n",
       "      <td>-0.133150</td>\n",
       "      <td>-0.024309</td>\n",
       "      <td>-0.001297</td>\n",
       "      <td>0.123332</td>\n",
       "      <td>-1.174401</td>\n",
       "      <td>0.146381</td>\n",
       "      <td>-0.180264</td>\n",
       "      <td>0.774194</td>\n",
       "      <td>0.869882</td>\n",
       "      <td>-2.014161</td>\n",
       "      <td>0.816254</td>\n",
       "      <td>-0.107248</td>\n",
       "      <td>0.138739</td>\n",
       "      <td>0.884630</td>\n",
       "      <td>-0.497137</td>\n",
       "      <td>-0.068088</td>\n",
       "      <td>-0.602434</td>\n",
       "      <td>-0.644617</td>\n",
       "      <td>0.743017</td>\n",
       "      <td>-0.686056</td>\n",
       "      <td>0.602875</td>\n",
       "      <td>0.017212</td>\n",
       "      <td>-1.057713</td>\n",
       "      <td>-0.216779</td>\n",
       "      <td>0.798967</td>\n",
       "      <td>-0.527504</td>\n",
       "      <td>0.276740</td>\n",
       "      <td>-0.466430</td>\n",
       "      <td>0.743199</td>\n",
       "      <td>-0.563328</td>\n",
       "      <td>0.387444</td>\n",
       "      <td>-0.210876</td>\n",
       "      <td>-1.362977</td>\n",
       "      <td>-0.155287</td>\n",
       "      <td>0.647416</td>\n",
       "      <td>1.445594</td>\n",
       "      <td>0.041047</td>\n",
       "      <td>-0.257023</td>\n",
       "      <td>-0.659878</td>\n",
       "      <td>-0.533889</td>\n",
       "      <td>0.475869</td>\n",
       "      <td>...</td>\n",
       "      <td>0.634506</td>\n",
       "      <td>-0.462193</td>\n",
       "      <td>-0.951633</td>\n",
       "      <td>-1.046294</td>\n",
       "      <td>NaN</td>\n",
       "      <td>0.194470</td>\n",
       "      <td>-0.243230</td>\n",
       "      <td>0.125735</td>\n",
       "      <td>-0.227628</td>\n",
       "      <td>-0.082459</td>\n",
       "      <td>NaN</td>\n",
       "      <td>-0.219766</td>\n",
       "      <td>0.288491</td>\n",
       "      <td>-0.173511</td>\n",
       "      <td>-0.513980</td>\n",
       "      <td>NaN</td>\n",
       "      <td>-0.456932</td>\n",
       "      <td>-1.924336</td>\n",
       "      <td>0.807207</td>\n",
       "      <td>0.070399</td>\n",
       "      <td>NaN</td>\n",
       "      <td>-1.396999</td>\n",
       "      <td>NaN</td>\n",
       "      <td>-0.051997</td>\n",
       "      <td>NaN</td>\n",
       "      <td>-1.449310</td>\n",
       "      <td>NaN</td>\n",
       "      <td>-0.241300</td>\n",
       "      <td>NaN</td>\n",
       "      <td>-0.172163</td>\n",
       "      <td>0.378710</td>\n",
       "      <td>NaN</td>\n",
       "      <td>0.041663</td>\n",
       "      <td>0.458133</td>\n",
       "      <td>-0.417844</td>\n",
       "      <td>-0.371099</td>\n",
       "      <td>0.996873</td>\n",
       "      <td>1.048854</td>\n",
       "      <td>-0.149722</td>\n",
       "      <td>-0.221290</td>\n",
       "      <td>-0.069088</td>\n",
       "      <td>-1.432727</td>\n",
       "      <td>-0.472813</td>\n",
       "      <td>-0.198226</td>\n",
       "      <td>0.380314</td>\n",
       "      <td>0.637607</td>\n",
       "      <td>-0.077722</td>\n",
       "      <td>1.018395</td>\n",
       "      <td>1.115886</td>\n",
       "      <td>0.828193</td>\n",
       "    </tr>\n",
       "  </tbody>\n",
       "</table>\n",
       "<p>5 rows × 4021 columns</p>\n",
       "</div>"
      ],
      "text/plain": [
       "   Cell_line  1433B_HUMAN  1433E_HUMAN  1433F_HUMAN  1433G_HUMAN  1433S_HUMAN  \\\n",
       "8        697    -0.012778     0.159762     0.048246     0.327131     0.063071   \n",
       "9      769-P    -0.180015    -0.224150     0.553788     0.165320     0.051575   \n",
       "12     8305C     0.580144    -0.684909     0.020876    -0.620807    -0.507017   \n",
       "13     8505C     0.996489     0.194122    -0.191444    -0.628574     0.317567   \n",
       "14      A172    -0.655471    -0.124955    -0.478866     0.593396    -1.150882   \n",
       "\n",
       "    1433T_HUMAN  1433Z_HUMAN  1A03_HUMAN  1A24_HUMAN  2A5D_HUMAN  2A5E_HUMAN  \\\n",
       "8      0.528702     0.258052         NaN         NaN    0.227486    0.411906   \n",
       "9      0.108861     1.171087   -2.261661    0.163124   -0.601304   -0.842795   \n",
       "12    -0.279862     0.226353         NaN         NaN   -0.059338    0.493561   \n",
       "13    -0.234740     0.660082         NaN         NaN   -0.002832    0.293603   \n",
       "14     0.060020    -0.218437   -0.850837   -0.133150   -0.024309   -0.001297   \n",
       "\n",
       "    2AAA_HUMAN  2AAB_HUMAN  2ABA_HUMAN  2B19_HUMAN  3HIDH_HUMAN  3MG_HUMAN  \\\n",
       "8     0.371670   -0.241474   -0.106116         NaN    -0.149692   0.307886   \n",
       "9     0.208992   -2.507792   -0.265437         NaN    -0.104355   0.217221   \n",
       "12   -0.018222    0.220922         NaN         NaN    -1.002906   0.939910   \n",
       "13    0.277626   -0.318503   -0.479674         NaN    -0.596322   0.244586   \n",
       "14    0.123332   -1.174401    0.146381   -0.180264     0.774194   0.869882   \n",
       "\n",
       "    41_HUMAN  4ET_HUMAN  4F2_HUMAN  5NT3A_HUMAN  5NTD_HUMAN  6PGD_HUMAN  \\\n",
       "8  -0.067738   0.212020  -0.680828    -1.138322   -0.648124    0.971858   \n",
       "9  -0.558452   0.551174  -0.290908    -0.030351   -0.429102   -0.909720   \n",
       "12 -1.611817  -2.278304  -0.680283    -1.727213   -0.227176   -0.900029   \n",
       "13 -1.242795  -0.657111  -0.542868     0.330894    1.556099   -0.638992   \n",
       "14 -2.014161   0.816254  -0.107248     0.138739    0.884630   -0.497137   \n",
       "\n",
       "    6PGL_HUMAN  7B2_HUMAN  8ODP_HUMAN  A16A1_HUMAN  A2MG_HUMAN  A4_HUMAN  \\\n",
       "8     0.949152        NaN    0.490889     0.380162    1.767660 -0.407201   \n",
       "9     0.372485        NaN         NaN     0.351702         NaN  0.806720   \n",
       "12    0.439236  -0.221220         NaN    -0.966481   -0.501822  0.168274   \n",
       "13    0.542607        NaN   -0.803829     0.333640   -0.774703  0.744125   \n",
       "14   -0.068088  -0.602434   -0.644617     0.743017   -0.686056  0.602875   \n",
       "\n",
       "    AAAS_HUMAN  AAAT_HUMAN  AAGAB_HUMAN  AAK1_HUMAN  AAMDC_HUMAN  AAPK1_HUMAN  \\\n",
       "8     0.091474   -0.852206    -0.376494    0.068607    -0.604392    -0.399751   \n",
       "9    -0.124112    0.187267     0.370772    0.401824    -0.943892    -0.140334   \n",
       "12    0.253837   -0.736578    -0.921845   -0.615714    -0.339152     0.460460   \n",
       "13   -0.134522    0.037696    -0.082590   -0.292912    -0.927876     0.474426   \n",
       "14    0.017212   -1.057713    -0.216779    0.798967    -0.527504     0.276740   \n",
       "\n",
       "    AASD1_HUMAN  AASS_HUMAN  AATC_HUMAN  AATF_HUMAN  AATM_HUMAN  AB1IP_HUMAN  \\\n",
       "8      0.686858    0.234138   -0.095202    0.048480   -0.905115     1.159026   \n",
       "9      0.120542    0.388030    0.547744   -0.050130   -0.102095     0.291860   \n",
       "12    -0.373074    0.900572   -0.760684   -0.459661    0.333771    -0.612313   \n",
       "13    -0.522554   -0.482207   -0.578566   -0.333277    0.317928    -0.851479   \n",
       "14    -0.466430    0.743199   -0.563328    0.387444   -0.210876    -1.362977   \n",
       "\n",
       "    ABCB6_HUMAN  ABCBA_HUMAN  ABCD1_HUMAN  ABCD3_HUMAN  ABCE1_HUMAN  \\\n",
       "8           NaN     0.536978          NaN    -1.066933     0.195571   \n",
       "9           NaN     0.278759          NaN    -0.230887    -0.103277   \n",
       "12     1.070726          NaN          NaN    -0.402932    -0.620299   \n",
       "13          NaN    -0.760807    -0.314141    -0.382931     0.019446   \n",
       "14    -0.155287     0.647416     1.445594     0.041047    -0.257023   \n",
       "\n",
       "    ABCF1_HUMAN  ABCF2_HUMAN  ABCF3_HUMAN  ...  YRDC_HUMAN  YTHD2_HUMAN  \\\n",
       "8      0.006639    -0.179209    -0.158149  ...   -0.445221     0.443169   \n",
       "9     -0.167649    -0.131454     0.384096  ...   -0.094523     0.322290   \n",
       "12    -0.129098     0.988354     0.437329  ...    0.371827    -0.689529   \n",
       "13    -0.378062     0.037994     0.394969  ...    0.459436    -0.331045   \n",
       "14    -0.659878    -0.533889     0.475869  ...    0.634506    -0.462193   \n",
       "\n",
       "    YTHD3_HUMAN  Z280C_HUMAN  ZA2G_HUMAN  ZC11A_HUMAN  ZC3H4_HUMAN  \\\n",
       "8     -0.191352     0.225131         NaN     0.168298     0.643507   \n",
       "9      0.845521    -0.674975         NaN     0.059018     0.433709   \n",
       "12     0.550223    -0.490517    0.263275     0.004073    -0.325112   \n",
       "13     0.079014          NaN   -2.042494    -0.785476    -0.638403   \n",
       "14    -0.951633    -1.046294         NaN     0.194470    -0.243230   \n",
       "\n",
       "    ZC3HD_HUMAN  ZC3HE_HUMAN  ZC3HF_HUMAN  ZCCHL_HUMAN  ZCCHV_HUMAN  \\\n",
       "8      0.253736    -0.009822     0.357548    -0.203960     0.031060   \n",
       "9     -0.624513    -0.822983     0.573266    -1.229991     0.401050   \n",
       "12    -0.092621    -0.197710     0.143544     0.375311    -0.391479   \n",
       "13    -0.437518    -0.093885     0.085803    -0.407997    -0.478821   \n",
       "14     0.125735    -0.227628    -0.082459          NaN    -0.219766   \n",
       "\n",
       "    ZCH18_HUMAN  ZCHC8_HUMAN  ZDHC5_HUMAN  ZEB2_HUMAN  ZFAN6_HUMAN  \\\n",
       "8     -0.187292     0.004399    -0.178895    0.430404    -0.299727   \n",
       "9     -0.073692     0.142697     0.496830    1.405671     0.564720   \n",
       "12     0.068774    -0.072763     0.357901    1.143226    -0.080803   \n",
       "13    -0.114401    -0.427710     0.207462    1.179437    -0.604812   \n",
       "14     0.288491    -0.173511    -0.513980         NaN    -0.456932   \n",
       "\n",
       "    ZFHX3_HUMAN  ZFPL1_HUMAN  ZFR_HUMAN  ZFY16_HUMAN  ZHX2_HUMAN  ZN185_HUMAN  \\\n",
       "8      1.889076    -0.567871   0.030200     1.009462    1.427045     0.399929   \n",
       "9      1.388573    -0.237866  -0.057755     0.024125   -0.325974     0.213556   \n",
       "12    -0.004114     0.863641  -0.034740          NaN   -0.119072    -0.284558   \n",
       "13    -1.340189     0.303565   0.098606    -0.671150   -0.102531     0.489955   \n",
       "14    -1.924336     0.807207   0.070399          NaN   -1.396999          NaN   \n",
       "\n",
       "    ZN207_HUMAN  ZN318_HUMAN  ZN326_HUMAN  ZN384_HUMAN  ZN428_HUMAN  \\\n",
       "8      0.527411     0.701600    -0.324233    -0.083370     0.846396   \n",
       "9      0.119313    -0.235171    -0.536889    -0.202948    -0.477299   \n",
       "12    -0.493417          NaN     0.230847     0.375747    -2.001813   \n",
       "13    -0.116092    -0.160450     0.171443    -0.431326    -1.275356   \n",
       "14    -0.051997          NaN    -1.449310          NaN    -0.241300   \n",
       "\n",
       "    ZN512_HUMAN  ZN593_HUMAN  ZN598_HUMAN  ZN622_HUMAN  ZN638_HUMAN  \\\n",
       "8     -0.270021    -0.051548     0.083240          NaN    -0.150849   \n",
       "9     -1.104015     0.214152     0.036475    -0.203214    -0.176078   \n",
       "12    -0.604259    -0.368904     0.414102    -0.665310    -0.318735   \n",
       "13          NaN     0.506211    -0.304846     0.224086    -0.738698   \n",
       "14          NaN    -0.172163     0.378710          NaN     0.041663   \n",
       "\n",
       "    ZN687_HUMAN  ZN706_HUMAN  ZN768_HUMAN  ZNF22_HUMAN  ZNF24_HUMAN  \\\n",
       "8      0.499081     0.723587          NaN     0.881114    -0.057979   \n",
       "9     -0.593225     0.775802          NaN     0.868701    -0.380619   \n",
       "12    -0.849026    -0.129397     0.685892          NaN     0.272784   \n",
       "13    -0.763767    -0.154180          NaN          NaN     0.370382   \n",
       "14     0.458133    -0.417844    -0.371099     0.996873     1.048854   \n",
       "\n",
       "    ZNT9_HUMAN  ZO1_HUMAN  ZO2_HUMAN  ZPR1_HUMAN  ZRAB2_HUMAN  ZW10_HUMAN  \\\n",
       "8    -0.895801  -0.953393  -0.676603   -0.021120     0.193618    0.081453   \n",
       "9     0.063003   0.458159   1.196235   -0.500589    -0.119426   -0.871397   \n",
       "12   -0.186701   0.303426   0.658809   -0.067633    -0.006781    0.277701   \n",
       "13   -0.291546   0.036874   1.475963   -0.173431    -0.047449    0.046473   \n",
       "14   -0.149722  -0.221290  -0.069088   -1.432727    -0.472813   -0.198226   \n",
       "\n",
       "    ZYX_HUMAN  sp|P49327|FAS_HUMAN  sp|P78527|PRKDC_HUMAN  \\\n",
       "8   -1.379753             0.262772              -0.199734   \n",
       "9    1.465776            -0.049945              -0.391131   \n",
       "12  -0.218604            -0.919226              -0.101327   \n",
       "13   0.421678            -0.259153               0.061227   \n",
       "14   0.380314             0.637607              -0.077722   \n",
       "\n",
       "    sp|Q00610|CLH1_HUMAN  sp|Q13813|SPTN1_HUMAN  sp|Q14204|DYHC1_HUMAN  \n",
       "8              -0.101727               0.287671               0.222237  \n",
       "9               0.604612               0.886561              -0.363771  \n",
       "12              0.358541              -0.104576               0.849423  \n",
       "13              0.715365               0.022924               0.675021  \n",
       "14              1.018395               1.115886               0.828193  \n",
       "\n",
       "[5 rows x 4021 columns]"
      ]
     },
     "execution_count": 220,
     "metadata": {},
     "output_type": "execute_result"
    }
   ],
   "source": [
    "sanger_protein_common.head()"
   ]
  },
  {
   "cell_type": "code",
   "execution_count": 221,
   "metadata": {
    "ExecuteTime": {
     "end_time": "2020-03-16T23:54:41.707209Z",
     "start_time": "2020-03-16T23:54:41.638541Z"
    }
   },
   "outputs": [
    {
     "data": {
      "text/html": [
       "<div>\n",
       "<style scoped>\n",
       "    .dataframe tbody tr th:only-of-type {\n",
       "        vertical-align: middle;\n",
       "    }\n",
       "\n",
       "    .dataframe tbody tr th {\n",
       "        vertical-align: top;\n",
       "    }\n",
       "\n",
       "    .dataframe thead th {\n",
       "        text-align: right;\n",
       "    }\n",
       "</style>\n",
       "<table border=\"1\" class=\"dataframe\">\n",
       "  <thead>\n",
       "    <tr style=\"text-align: right;\">\n",
       "      <th></th>\n",
       "      <th>S12A2_HUMAN</th>\n",
       "      <th>HXD13_HUMAN</th>\n",
       "      <th>KDM1A_HUMAN</th>\n",
       "      <th>SOX1_HUMAN</th>\n",
       "      <th>SOX2_HUMAN</th>\n",
       "      <th>SOX3_HUMAN</th>\n",
       "      <th>SOX15_HUMAN</th>\n",
       "      <th>PHX2B_HUMAN</th>\n",
       "      <th>ALX4_HUMAN</th>\n",
       "      <th>ALX1_HUMAN</th>\n",
       "      <th>PRRX1_HUMAN</th>\n",
       "      <th>ARX_HUMAN</th>\n",
       "      <th>SHOX2_HUMAN</th>\n",
       "      <th>PRRX2_HUMAN</th>\n",
       "      <th>SRP14_HUMAN</th>\n",
       "      <th>S15A4_HUMAN</th>\n",
       "      <th>SOGA3_HUMAN</th>\n",
       "      <th>SOGA1_HUMAN</th>\n",
       "      <th>NU133_HUMAN</th>\n",
       "      <th>SOGA2_HUMAN</th>\n",
       "      <th>IRS2_HUMAN</th>\n",
       "      <th>RL4_HUMAN</th>\n",
       "      <th>FUBP2_HUMAN</th>\n",
       "      <th>FUBP3_HUMAN</th>\n",
       "      <th>FUBP1_HUMAN</th>\n",
       "      <th>FUBP1_HUMAN</th>\n",
       "      <th>MMP24_HUMAN</th>\n",
       "      <th>MMP14_HUMAN</th>\n",
       "      <th>MMP15_HUMAN</th>\n",
       "      <th>SH3R3_HUMAN</th>\n",
       "      <th>SH3R1_HUMAN</th>\n",
       "      <th>SH3R2_HUMAN</th>\n",
       "      <th>MTMRE_HUMAN</th>\n",
       "      <th>SAMD1_HUMAN</th>\n",
       "      <th>S19A2_HUMAN</th>\n",
       "      <th>CLPX_HUMAN</th>\n",
       "      <th>ATX7_HUMAN</th>\n",
       "      <th>CATIN_HUMAN</th>\n",
       "      <th>NUCL_HUMAN</th>\n",
       "      <th>H7BY16_HUMAN</th>\n",
       "      <th>U119B_HUMAN</th>\n",
       "      <th>U119A_HUMAN</th>\n",
       "      <th>RBM42_HUMAN</th>\n",
       "      <th>RCC2_HUMAN</th>\n",
       "      <th>CHPF2_HUMAN</th>\n",
       "      <th>TAL1_HUMAN</th>\n",
       "      <th>LYL1_HUMAN</th>\n",
       "      <th>RNBP6_HUMAN</th>\n",
       "      <th>IPO5_HUMAN</th>\n",
       "      <th>SORT_HUMAN</th>\n",
       "      <th>...</th>\n",
       "      <th>SCNNG_HUMAN</th>\n",
       "      <th>MOT5_HUMAN</th>\n",
       "      <th>F168A_HUMAN</th>\n",
       "      <th>TMPS2_HUMAN</th>\n",
       "      <th>H0Y572_HUMAN</th>\n",
       "      <th>ECP_HUMAN</th>\n",
       "      <th>CCD37_HUMAN</th>\n",
       "      <th>TM2D1_HUMAN</th>\n",
       "      <th>RM42_HUMAN</th>\n",
       "      <th>CNIH1_HUMAN</th>\n",
       "      <th>PEMT_HUMAN</th>\n",
       "      <th>VCC1_HUMAN</th>\n",
       "      <th>SLX1_HUMAN</th>\n",
       "      <th>TM127_HUMAN</th>\n",
       "      <th>CATE_HUMAN</th>\n",
       "      <th>KISS1_HUMAN</th>\n",
       "      <th>COX14_HUMAN</th>\n",
       "      <th>GNT2A_HUMAN</th>\n",
       "      <th>LUR1L_HUMAN</th>\n",
       "      <th>ELOV4_HUMAN</th>\n",
       "      <th>EPT1_HUMAN</th>\n",
       "      <th>GCSAM_HUMAN</th>\n",
       "      <th>AHSP_HUMAN</th>\n",
       "      <th>S35D1_HUMAN</th>\n",
       "      <th>SHSA3_HUMAN</th>\n",
       "      <th>CRUM3_HUMAN</th>\n",
       "      <th>BODG_HUMAN</th>\n",
       "      <th>YIPF5_HUMAN</th>\n",
       "      <th>FANCF_HUMAN</th>\n",
       "      <th>MASP2_HUMAN</th>\n",
       "      <th>COX7B_HUMAN</th>\n",
       "      <th>SFT2A_HUMAN</th>\n",
       "      <th>NEPR1_HUMAN</th>\n",
       "      <th>ERD21_HUMAN</th>\n",
       "      <th>MTURN_HUMAN</th>\n",
       "      <th>PRDM6_HUMAN</th>\n",
       "      <th>KISHA_HUMAN</th>\n",
       "      <th>AQP1_HUMAN</th>\n",
       "      <th>NEK8_HUMAN</th>\n",
       "      <th>S46A3_HUMAN</th>\n",
       "      <th>NU2M_HUMAN</th>\n",
       "      <th>NU3M_HUMAN</th>\n",
       "      <th>BMP6_HUMAN</th>\n",
       "      <th>MET20_HUMAN</th>\n",
       "      <th>CCL26_HUMAN</th>\n",
       "      <th>AL5AP_HUMAN</th>\n",
       "      <th>CYTM1_HUMAN</th>\n",
       "      <th>MGST2_HUMAN</th>\n",
       "      <th>CNIH4_HUMAN</th>\n",
       "      <th>Cell_line</th>\n",
       "    </tr>\n",
       "  </thead>\n",
       "  <tbody>\n",
       "    <tr>\n",
       "      <th>288</th>\n",
       "      <td>-0.014830</td>\n",
       "      <td>NaN</td>\n",
       "      <td>0.371214</td>\n",
       "      <td>NaN</td>\n",
       "      <td>NaN</td>\n",
       "      <td>NaN</td>\n",
       "      <td>NaN</td>\n",
       "      <td>-0.484939</td>\n",
       "      <td>NaN</td>\n",
       "      <td>NaN</td>\n",
       "      <td>NaN</td>\n",
       "      <td>NaN</td>\n",
       "      <td>NaN</td>\n",
       "      <td>NaN</td>\n",
       "      <td>0.211802</td>\n",
       "      <td>0.676623</td>\n",
       "      <td>NaN</td>\n",
       "      <td>0.035083</td>\n",
       "      <td>0.352218</td>\n",
       "      <td>2.131164</td>\n",
       "      <td>-0.199350</td>\n",
       "      <td>0.829473</td>\n",
       "      <td>0.563890</td>\n",
       "      <td>-0.120887</td>\n",
       "      <td>0.676403</td>\n",
       "      <td>1.042547</td>\n",
       "      <td>NaN</td>\n",
       "      <td>-1.846649</td>\n",
       "      <td>-0.471961</td>\n",
       "      <td>NaN</td>\n",
       "      <td>0.383590</td>\n",
       "      <td>NaN</td>\n",
       "      <td>0.519716</td>\n",
       "      <td>0.497957</td>\n",
       "      <td>NaN</td>\n",
       "      <td>-0.147127</td>\n",
       "      <td>-0.405337</td>\n",
       "      <td>-0.039539</td>\n",
       "      <td>0.080190</td>\n",
       "      <td>NaN</td>\n",
       "      <td>1.407439</td>\n",
       "      <td>0.662219</td>\n",
       "      <td>0.763936</td>\n",
       "      <td>1.595446</td>\n",
       "      <td>-1.689044</td>\n",
       "      <td>NaN</td>\n",
       "      <td>NaN</td>\n",
       "      <td>-0.413137</td>\n",
       "      <td>0.519802</td>\n",
       "      <td>-0.392556</td>\n",
       "      <td>...</td>\n",
       "      <td>NaN</td>\n",
       "      <td>NaN</td>\n",
       "      <td>1.591769</td>\n",
       "      <td>-2.334204</td>\n",
       "      <td>-0.841525</td>\n",
       "      <td>NaN</td>\n",
       "      <td>NaN</td>\n",
       "      <td>NaN</td>\n",
       "      <td>-0.445477</td>\n",
       "      <td>NaN</td>\n",
       "      <td>NaN</td>\n",
       "      <td>NaN</td>\n",
       "      <td>NaN</td>\n",
       "      <td>-0.991583</td>\n",
       "      <td>NaN</td>\n",
       "      <td>NaN</td>\n",
       "      <td>-1.568372</td>\n",
       "      <td>NaN</td>\n",
       "      <td>-1.077891</td>\n",
       "      <td>NaN</td>\n",
       "      <td>NaN</td>\n",
       "      <td>NaN</td>\n",
       "      <td>NaN</td>\n",
       "      <td>NaN</td>\n",
       "      <td>NaN</td>\n",
       "      <td>NaN</td>\n",
       "      <td>NaN</td>\n",
       "      <td>-1.343008</td>\n",
       "      <td>NaN</td>\n",
       "      <td>NaN</td>\n",
       "      <td>-0.515774</td>\n",
       "      <td>-0.648173</td>\n",
       "      <td>NaN</td>\n",
       "      <td>NaN</td>\n",
       "      <td>NaN</td>\n",
       "      <td>NaN</td>\n",
       "      <td>-0.876812</td>\n",
       "      <td>NaN</td>\n",
       "      <td>NaN</td>\n",
       "      <td>NaN</td>\n",
       "      <td>-0.044232</td>\n",
       "      <td>-0.321381</td>\n",
       "      <td>NaN</td>\n",
       "      <td>NaN</td>\n",
       "      <td>NaN</td>\n",
       "      <td>NaN</td>\n",
       "      <td>-5.366966</td>\n",
       "      <td>-1.770107</td>\n",
       "      <td>-0.819195</td>\n",
       "      <td>697</td>\n",
       "    </tr>\n",
       "    <tr>\n",
       "      <th>352</th>\n",
       "      <td>-0.565860</td>\n",
       "      <td>-2.543331</td>\n",
       "      <td>-0.817089</td>\n",
       "      <td>NaN</td>\n",
       "      <td>NaN</td>\n",
       "      <td>NaN</td>\n",
       "      <td>NaN</td>\n",
       "      <td>-0.632625</td>\n",
       "      <td>-1.040727</td>\n",
       "      <td>NaN</td>\n",
       "      <td>-1.059384</td>\n",
       "      <td>-0.302098</td>\n",
       "      <td>NaN</td>\n",
       "      <td>NaN</td>\n",
       "      <td>0.059223</td>\n",
       "      <td>0.777897</td>\n",
       "      <td>0.617254</td>\n",
       "      <td>-0.501662</td>\n",
       "      <td>-0.115651</td>\n",
       "      <td>1.607432</td>\n",
       "      <td>1.261613</td>\n",
       "      <td>0.549408</td>\n",
       "      <td>-0.642000</td>\n",
       "      <td>-0.057591</td>\n",
       "      <td>-0.163262</td>\n",
       "      <td>-0.562537</td>\n",
       "      <td>NaN</td>\n",
       "      <td>-0.107116</td>\n",
       "      <td>NaN</td>\n",
       "      <td>0.065212</td>\n",
       "      <td>2.028946</td>\n",
       "      <td>NaN</td>\n",
       "      <td>-0.458419</td>\n",
       "      <td>-0.718867</td>\n",
       "      <td>-1.147</td>\n",
       "      <td>0.381360</td>\n",
       "      <td>-0.379858</td>\n",
       "      <td>-0.356591</td>\n",
       "      <td>-0.061006</td>\n",
       "      <td>0.882533</td>\n",
       "      <td>-0.003419</td>\n",
       "      <td>-0.080128</td>\n",
       "      <td>-0.375126</td>\n",
       "      <td>-1.182134</td>\n",
       "      <td>-0.196006</td>\n",
       "      <td>-0.846265</td>\n",
       "      <td>NaN</td>\n",
       "      <td>0.140418</td>\n",
       "      <td>0.030299</td>\n",
       "      <td>-1.973374</td>\n",
       "      <td>...</td>\n",
       "      <td>NaN</td>\n",
       "      <td>3.363354</td>\n",
       "      <td>-0.253025</td>\n",
       "      <td>-1.024221</td>\n",
       "      <td>0.161150</td>\n",
       "      <td>NaN</td>\n",
       "      <td>0.061543</td>\n",
       "      <td>NaN</td>\n",
       "      <td>0.025353</td>\n",
       "      <td>-0.934827</td>\n",
       "      <td>NaN</td>\n",
       "      <td>NaN</td>\n",
       "      <td>NaN</td>\n",
       "      <td>NaN</td>\n",
       "      <td>NaN</td>\n",
       "      <td>-0.487086</td>\n",
       "      <td>0.830884</td>\n",
       "      <td>NaN</td>\n",
       "      <td>NaN</td>\n",
       "      <td>-1.58357</td>\n",
       "      <td>0.255767</td>\n",
       "      <td>NaN</td>\n",
       "      <td>NaN</td>\n",
       "      <td>NaN</td>\n",
       "      <td>NaN</td>\n",
       "      <td>NaN</td>\n",
       "      <td>NaN</td>\n",
       "      <td>0.325366</td>\n",
       "      <td>NaN</td>\n",
       "      <td>NaN</td>\n",
       "      <td>0.697488</td>\n",
       "      <td>NaN</td>\n",
       "      <td>0.49772</td>\n",
       "      <td>0.502232</td>\n",
       "      <td>-0.656198</td>\n",
       "      <td>-0.356282</td>\n",
       "      <td>0.646515</td>\n",
       "      <td>NaN</td>\n",
       "      <td>NaN</td>\n",
       "      <td>NaN</td>\n",
       "      <td>NaN</td>\n",
       "      <td>NaN</td>\n",
       "      <td>NaN</td>\n",
       "      <td>NaN</td>\n",
       "      <td>NaN</td>\n",
       "      <td>NaN</td>\n",
       "      <td>NaN</td>\n",
       "      <td>NaN</td>\n",
       "      <td>1.144409</td>\n",
       "      <td>769-P</td>\n",
       "    </tr>\n",
       "    <tr>\n",
       "      <th>289</th>\n",
       "      <td>-0.171374</td>\n",
       "      <td>NaN</td>\n",
       "      <td>0.114119</td>\n",
       "      <td>NaN</td>\n",
       "      <td>NaN</td>\n",
       "      <td>NaN</td>\n",
       "      <td>NaN</td>\n",
       "      <td>0.012005</td>\n",
       "      <td>NaN</td>\n",
       "      <td>NaN</td>\n",
       "      <td>NaN</td>\n",
       "      <td>NaN</td>\n",
       "      <td>NaN</td>\n",
       "      <td>NaN</td>\n",
       "      <td>-0.302972</td>\n",
       "      <td>0.164879</td>\n",
       "      <td>NaN</td>\n",
       "      <td>-0.112063</td>\n",
       "      <td>0.481013</td>\n",
       "      <td>0.077932</td>\n",
       "      <td>-1.002229</td>\n",
       "      <td>0.981709</td>\n",
       "      <td>-0.848187</td>\n",
       "      <td>-0.066940</td>\n",
       "      <td>-0.760553</td>\n",
       "      <td>-1.141908</td>\n",
       "      <td>NaN</td>\n",
       "      <td>1.659393</td>\n",
       "      <td>-1.863262</td>\n",
       "      <td>NaN</td>\n",
       "      <td>-0.587157</td>\n",
       "      <td>NaN</td>\n",
       "      <td>-0.688748</td>\n",
       "      <td>-1.861318</td>\n",
       "      <td>NaN</td>\n",
       "      <td>-0.399332</td>\n",
       "      <td>-0.952061</td>\n",
       "      <td>0.274519</td>\n",
       "      <td>-0.194083</td>\n",
       "      <td>NaN</td>\n",
       "      <td>-1.984570</td>\n",
       "      <td>-0.303098</td>\n",
       "      <td>-1.142661</td>\n",
       "      <td>-0.432320</td>\n",
       "      <td>1.224125</td>\n",
       "      <td>NaN</td>\n",
       "      <td>NaN</td>\n",
       "      <td>0.759160</td>\n",
       "      <td>0.299032</td>\n",
       "      <td>-1.577326</td>\n",
       "      <td>...</td>\n",
       "      <td>NaN</td>\n",
       "      <td>NaN</td>\n",
       "      <td>-2.254048</td>\n",
       "      <td>-1.119689</td>\n",
       "      <td>0.821083</td>\n",
       "      <td>NaN</td>\n",
       "      <td>NaN</td>\n",
       "      <td>NaN</td>\n",
       "      <td>-1.061156</td>\n",
       "      <td>NaN</td>\n",
       "      <td>NaN</td>\n",
       "      <td>NaN</td>\n",
       "      <td>NaN</td>\n",
       "      <td>-0.069770</td>\n",
       "      <td>NaN</td>\n",
       "      <td>NaN</td>\n",
       "      <td>0.744388</td>\n",
       "      <td>NaN</td>\n",
       "      <td>0.769691</td>\n",
       "      <td>NaN</td>\n",
       "      <td>NaN</td>\n",
       "      <td>NaN</td>\n",
       "      <td>NaN</td>\n",
       "      <td>NaN</td>\n",
       "      <td>NaN</td>\n",
       "      <td>NaN</td>\n",
       "      <td>NaN</td>\n",
       "      <td>1.786105</td>\n",
       "      <td>NaN</td>\n",
       "      <td>NaN</td>\n",
       "      <td>-0.162846</td>\n",
       "      <td>0.079507</td>\n",
       "      <td>NaN</td>\n",
       "      <td>NaN</td>\n",
       "      <td>NaN</td>\n",
       "      <td>NaN</td>\n",
       "      <td>1.726126</td>\n",
       "      <td>NaN</td>\n",
       "      <td>NaN</td>\n",
       "      <td>NaN</td>\n",
       "      <td>0.724125</td>\n",
       "      <td>0.243461</td>\n",
       "      <td>NaN</td>\n",
       "      <td>NaN</td>\n",
       "      <td>NaN</td>\n",
       "      <td>NaN</td>\n",
       "      <td>-0.602651</td>\n",
       "      <td>-0.029221</td>\n",
       "      <td>0.455337</td>\n",
       "      <td>8305C</td>\n",
       "    </tr>\n",
       "    <tr>\n",
       "      <th>252</th>\n",
       "      <td>-0.191362</td>\n",
       "      <td>NaN</td>\n",
       "      <td>-0.418036</td>\n",
       "      <td>NaN</td>\n",
       "      <td>-1.526527</td>\n",
       "      <td>NaN</td>\n",
       "      <td>NaN</td>\n",
       "      <td>NaN</td>\n",
       "      <td>NaN</td>\n",
       "      <td>-0.449326</td>\n",
       "      <td>NaN</td>\n",
       "      <td>NaN</td>\n",
       "      <td>NaN</td>\n",
       "      <td>NaN</td>\n",
       "      <td>0.202000</td>\n",
       "      <td>-0.768566</td>\n",
       "      <td>NaN</td>\n",
       "      <td>1.400866</td>\n",
       "      <td>-0.198466</td>\n",
       "      <td>1.126557</td>\n",
       "      <td>0.521155</td>\n",
       "      <td>0.076010</td>\n",
       "      <td>-0.232553</td>\n",
       "      <td>0.206490</td>\n",
       "      <td>-0.723017</td>\n",
       "      <td>-0.750251</td>\n",
       "      <td>NaN</td>\n",
       "      <td>0.523218</td>\n",
       "      <td>-0.197853</td>\n",
       "      <td>NaN</td>\n",
       "      <td>1.356873</td>\n",
       "      <td>NaN</td>\n",
       "      <td>0.509285</td>\n",
       "      <td>-0.606746</td>\n",
       "      <td>NaN</td>\n",
       "      <td>0.062449</td>\n",
       "      <td>-0.238131</td>\n",
       "      <td>-0.049273</td>\n",
       "      <td>-0.754672</td>\n",
       "      <td>-0.927415</td>\n",
       "      <td>-0.011920</td>\n",
       "      <td>0.726924</td>\n",
       "      <td>-0.820212</td>\n",
       "      <td>-0.428920</td>\n",
       "      <td>NaN</td>\n",
       "      <td>NaN</td>\n",
       "      <td>NaN</td>\n",
       "      <td>-0.180411</td>\n",
       "      <td>0.616505</td>\n",
       "      <td>-0.418600</td>\n",
       "      <td>...</td>\n",
       "      <td>NaN</td>\n",
       "      <td>NaN</td>\n",
       "      <td>NaN</td>\n",
       "      <td>NaN</td>\n",
       "      <td>NaN</td>\n",
       "      <td>NaN</td>\n",
       "      <td>NaN</td>\n",
       "      <td>0.251828</td>\n",
       "      <td>-0.144368</td>\n",
       "      <td>NaN</td>\n",
       "      <td>NaN</td>\n",
       "      <td>NaN</td>\n",
       "      <td>NaN</td>\n",
       "      <td>-0.351487</td>\n",
       "      <td>NaN</td>\n",
       "      <td>NaN</td>\n",
       "      <td>NaN</td>\n",
       "      <td>NaN</td>\n",
       "      <td>0.010454</td>\n",
       "      <td>NaN</td>\n",
       "      <td>NaN</td>\n",
       "      <td>NaN</td>\n",
       "      <td>NaN</td>\n",
       "      <td>NaN</td>\n",
       "      <td>NaN</td>\n",
       "      <td>NaN</td>\n",
       "      <td>NaN</td>\n",
       "      <td>0.762826</td>\n",
       "      <td>NaN</td>\n",
       "      <td>NaN</td>\n",
       "      <td>-1.444139</td>\n",
       "      <td>0.533556</td>\n",
       "      <td>NaN</td>\n",
       "      <td>0.626822</td>\n",
       "      <td>NaN</td>\n",
       "      <td>NaN</td>\n",
       "      <td>NaN</td>\n",
       "      <td>NaN</td>\n",
       "      <td>NaN</td>\n",
       "      <td>NaN</td>\n",
       "      <td>-0.368450</td>\n",
       "      <td>0.063893</td>\n",
       "      <td>NaN</td>\n",
       "      <td>NaN</td>\n",
       "      <td>NaN</td>\n",
       "      <td>-0.977010</td>\n",
       "      <td>NaN</td>\n",
       "      <td>NaN</td>\n",
       "      <td>-0.126585</td>\n",
       "      <td>8505C</td>\n",
       "    </tr>\n",
       "    <tr>\n",
       "      <th>370</th>\n",
       "      <td>-0.921176</td>\n",
       "      <td>NaN</td>\n",
       "      <td>-0.455601</td>\n",
       "      <td>NaN</td>\n",
       "      <td>1.136851</td>\n",
       "      <td>NaN</td>\n",
       "      <td>-0.481905</td>\n",
       "      <td>NaN</td>\n",
       "      <td>NaN</td>\n",
       "      <td>NaN</td>\n",
       "      <td>NaN</td>\n",
       "      <td>NaN</td>\n",
       "      <td>1.82077</td>\n",
       "      <td>NaN</td>\n",
       "      <td>0.063200</td>\n",
       "      <td>0.704006</td>\n",
       "      <td>-0.925649</td>\n",
       "      <td>0.673423</td>\n",
       "      <td>-0.027059</td>\n",
       "      <td>1.329736</td>\n",
       "      <td>-1.048695</td>\n",
       "      <td>0.658726</td>\n",
       "      <td>-0.310503</td>\n",
       "      <td>-2.950596</td>\n",
       "      <td>-0.946770</td>\n",
       "      <td>-1.433131</td>\n",
       "      <td>NaN</td>\n",
       "      <td>1.461070</td>\n",
       "      <td>0.224873</td>\n",
       "      <td>NaN</td>\n",
       "      <td>0.360746</td>\n",
       "      <td>NaN</td>\n",
       "      <td>0.223556</td>\n",
       "      <td>-0.727905</td>\n",
       "      <td>NaN</td>\n",
       "      <td>-0.408901</td>\n",
       "      <td>-0.864046</td>\n",
       "      <td>-0.175788</td>\n",
       "      <td>-0.554345</td>\n",
       "      <td>NaN</td>\n",
       "      <td>-0.142176</td>\n",
       "      <td>1.636217</td>\n",
       "      <td>-0.582664</td>\n",
       "      <td>-1.043257</td>\n",
       "      <td>0.091709</td>\n",
       "      <td>NaN</td>\n",
       "      <td>NaN</td>\n",
       "      <td>0.659861</td>\n",
       "      <td>0.437514</td>\n",
       "      <td>0.854366</td>\n",
       "      <td>...</td>\n",
       "      <td>NaN</td>\n",
       "      <td>NaN</td>\n",
       "      <td>0.412460</td>\n",
       "      <td>NaN</td>\n",
       "      <td>NaN</td>\n",
       "      <td>-1.22602</td>\n",
       "      <td>2.147201</td>\n",
       "      <td>NaN</td>\n",
       "      <td>-0.735419</td>\n",
       "      <td>NaN</td>\n",
       "      <td>NaN</td>\n",
       "      <td>NaN</td>\n",
       "      <td>NaN</td>\n",
       "      <td>2.088308</td>\n",
       "      <td>NaN</td>\n",
       "      <td>NaN</td>\n",
       "      <td>0.587267</td>\n",
       "      <td>NaN</td>\n",
       "      <td>NaN</td>\n",
       "      <td>NaN</td>\n",
       "      <td>NaN</td>\n",
       "      <td>NaN</td>\n",
       "      <td>NaN</td>\n",
       "      <td>NaN</td>\n",
       "      <td>NaN</td>\n",
       "      <td>NaN</td>\n",
       "      <td>NaN</td>\n",
       "      <td>1.330996</td>\n",
       "      <td>NaN</td>\n",
       "      <td>NaN</td>\n",
       "      <td>-0.009090</td>\n",
       "      <td>NaN</td>\n",
       "      <td>NaN</td>\n",
       "      <td>0.924364</td>\n",
       "      <td>NaN</td>\n",
       "      <td>NaN</td>\n",
       "      <td>-0.234201</td>\n",
       "      <td>NaN</td>\n",
       "      <td>NaN</td>\n",
       "      <td>NaN</td>\n",
       "      <td>NaN</td>\n",
       "      <td>NaN</td>\n",
       "      <td>NaN</td>\n",
       "      <td>NaN</td>\n",
       "      <td>NaN</td>\n",
       "      <td>-1.600231</td>\n",
       "      <td>1.643414</td>\n",
       "      <td>NaN</td>\n",
       "      <td>0.933261</td>\n",
       "      <td>A172</td>\n",
       "    </tr>\n",
       "  </tbody>\n",
       "</table>\n",
       "<p>5 rows × 12756 columns</p>\n",
       "</div>"
      ],
      "text/plain": [
       "     S12A2_HUMAN  HXD13_HUMAN  KDM1A_HUMAN  SOX1_HUMAN  SOX2_HUMAN  \\\n",
       "288    -0.014830          NaN     0.371214         NaN         NaN   \n",
       "352    -0.565860    -2.543331    -0.817089         NaN         NaN   \n",
       "289    -0.171374          NaN     0.114119         NaN         NaN   \n",
       "252    -0.191362          NaN    -0.418036         NaN   -1.526527   \n",
       "370    -0.921176          NaN    -0.455601         NaN    1.136851   \n",
       "\n",
       "     SOX3_HUMAN  SOX15_HUMAN  PHX2B_HUMAN  ALX4_HUMAN  ALX1_HUMAN  \\\n",
       "288         NaN          NaN    -0.484939         NaN         NaN   \n",
       "352         NaN          NaN    -0.632625   -1.040727         NaN   \n",
       "289         NaN          NaN     0.012005         NaN         NaN   \n",
       "252         NaN          NaN          NaN         NaN   -0.449326   \n",
       "370         NaN    -0.481905          NaN         NaN         NaN   \n",
       "\n",
       "     PRRX1_HUMAN  ARX_HUMAN  SHOX2_HUMAN  PRRX2_HUMAN  SRP14_HUMAN  \\\n",
       "288          NaN        NaN          NaN          NaN     0.211802   \n",
       "352    -1.059384  -0.302098          NaN          NaN     0.059223   \n",
       "289          NaN        NaN          NaN          NaN    -0.302972   \n",
       "252          NaN        NaN          NaN          NaN     0.202000   \n",
       "370          NaN        NaN      1.82077          NaN     0.063200   \n",
       "\n",
       "     S15A4_HUMAN  SOGA3_HUMAN  SOGA1_HUMAN  NU133_HUMAN  SOGA2_HUMAN  \\\n",
       "288     0.676623          NaN     0.035083     0.352218     2.131164   \n",
       "352     0.777897     0.617254    -0.501662    -0.115651     1.607432   \n",
       "289     0.164879          NaN    -0.112063     0.481013     0.077932   \n",
       "252    -0.768566          NaN     1.400866    -0.198466     1.126557   \n",
       "370     0.704006    -0.925649     0.673423    -0.027059     1.329736   \n",
       "\n",
       "     IRS2_HUMAN  RL4_HUMAN  FUBP2_HUMAN  FUBP3_HUMAN  FUBP1_HUMAN  \\\n",
       "288   -0.199350   0.829473     0.563890    -0.120887     0.676403   \n",
       "352    1.261613   0.549408    -0.642000    -0.057591    -0.163262   \n",
       "289   -1.002229   0.981709    -0.848187    -0.066940    -0.760553   \n",
       "252    0.521155   0.076010    -0.232553     0.206490    -0.723017   \n",
       "370   -1.048695   0.658726    -0.310503    -2.950596    -0.946770   \n",
       "\n",
       "     FUBP1_HUMAN  MMP24_HUMAN  MMP14_HUMAN  MMP15_HUMAN  SH3R3_HUMAN  \\\n",
       "288     1.042547          NaN    -1.846649    -0.471961          NaN   \n",
       "352    -0.562537          NaN    -0.107116          NaN     0.065212   \n",
       "289    -1.141908          NaN     1.659393    -1.863262          NaN   \n",
       "252    -0.750251          NaN     0.523218    -0.197853          NaN   \n",
       "370    -1.433131          NaN     1.461070     0.224873          NaN   \n",
       "\n",
       "     SH3R1_HUMAN  SH3R2_HUMAN  MTMRE_HUMAN  SAMD1_HUMAN  S19A2_HUMAN  \\\n",
       "288     0.383590          NaN     0.519716     0.497957          NaN   \n",
       "352     2.028946          NaN    -0.458419    -0.718867       -1.147   \n",
       "289    -0.587157          NaN    -0.688748    -1.861318          NaN   \n",
       "252     1.356873          NaN     0.509285    -0.606746          NaN   \n",
       "370     0.360746          NaN     0.223556    -0.727905          NaN   \n",
       "\n",
       "     CLPX_HUMAN  ATX7_HUMAN  CATIN_HUMAN  NUCL_HUMAN  H7BY16_HUMAN  \\\n",
       "288   -0.147127   -0.405337    -0.039539    0.080190           NaN   \n",
       "352    0.381360   -0.379858    -0.356591   -0.061006      0.882533   \n",
       "289   -0.399332   -0.952061     0.274519   -0.194083           NaN   \n",
       "252    0.062449   -0.238131    -0.049273   -0.754672     -0.927415   \n",
       "370   -0.408901   -0.864046    -0.175788   -0.554345           NaN   \n",
       "\n",
       "     U119B_HUMAN  U119A_HUMAN  RBM42_HUMAN  RCC2_HUMAN  CHPF2_HUMAN  \\\n",
       "288     1.407439     0.662219     0.763936    1.595446    -1.689044   \n",
       "352    -0.003419    -0.080128    -0.375126   -1.182134    -0.196006   \n",
       "289    -1.984570    -0.303098    -1.142661   -0.432320     1.224125   \n",
       "252    -0.011920     0.726924    -0.820212   -0.428920          NaN   \n",
       "370    -0.142176     1.636217    -0.582664   -1.043257     0.091709   \n",
       "\n",
       "     TAL1_HUMAN  LYL1_HUMAN  RNBP6_HUMAN  IPO5_HUMAN  SORT_HUMAN  ...  \\\n",
       "288         NaN         NaN    -0.413137    0.519802   -0.392556  ...   \n",
       "352   -0.846265         NaN     0.140418    0.030299   -1.973374  ...   \n",
       "289         NaN         NaN     0.759160    0.299032   -1.577326  ...   \n",
       "252         NaN         NaN    -0.180411    0.616505   -0.418600  ...   \n",
       "370         NaN         NaN     0.659861    0.437514    0.854366  ...   \n",
       "\n",
       "     SCNNG_HUMAN  MOT5_HUMAN  F168A_HUMAN  TMPS2_HUMAN  H0Y572_HUMAN  \\\n",
       "288          NaN         NaN     1.591769    -2.334204     -0.841525   \n",
       "352          NaN    3.363354    -0.253025    -1.024221      0.161150   \n",
       "289          NaN         NaN    -2.254048    -1.119689      0.821083   \n",
       "252          NaN         NaN          NaN          NaN           NaN   \n",
       "370          NaN         NaN     0.412460          NaN           NaN   \n",
       "\n",
       "     ECP_HUMAN  CCD37_HUMAN  TM2D1_HUMAN  RM42_HUMAN  CNIH1_HUMAN  PEMT_HUMAN  \\\n",
       "288        NaN          NaN          NaN   -0.445477          NaN         NaN   \n",
       "352        NaN     0.061543          NaN    0.025353    -0.934827         NaN   \n",
       "289        NaN          NaN          NaN   -1.061156          NaN         NaN   \n",
       "252        NaN          NaN     0.251828   -0.144368          NaN         NaN   \n",
       "370   -1.22602     2.147201          NaN   -0.735419          NaN         NaN   \n",
       "\n",
       "     VCC1_HUMAN  SLX1_HUMAN  TM127_HUMAN  CATE_HUMAN  KISS1_HUMAN  \\\n",
       "288         NaN         NaN    -0.991583         NaN          NaN   \n",
       "352         NaN         NaN          NaN         NaN    -0.487086   \n",
       "289         NaN         NaN    -0.069770         NaN          NaN   \n",
       "252         NaN         NaN    -0.351487         NaN          NaN   \n",
       "370         NaN         NaN     2.088308         NaN          NaN   \n",
       "\n",
       "     COX14_HUMAN  GNT2A_HUMAN  LUR1L_HUMAN  ELOV4_HUMAN  EPT1_HUMAN  \\\n",
       "288    -1.568372          NaN    -1.077891          NaN         NaN   \n",
       "352     0.830884          NaN          NaN     -1.58357    0.255767   \n",
       "289     0.744388          NaN     0.769691          NaN         NaN   \n",
       "252          NaN          NaN     0.010454          NaN         NaN   \n",
       "370     0.587267          NaN          NaN          NaN         NaN   \n",
       "\n",
       "     GCSAM_HUMAN  AHSP_HUMAN  S35D1_HUMAN  SHSA3_HUMAN  CRUM3_HUMAN  \\\n",
       "288          NaN         NaN          NaN          NaN          NaN   \n",
       "352          NaN         NaN          NaN          NaN          NaN   \n",
       "289          NaN         NaN          NaN          NaN          NaN   \n",
       "252          NaN         NaN          NaN          NaN          NaN   \n",
       "370          NaN         NaN          NaN          NaN          NaN   \n",
       "\n",
       "     BODG_HUMAN  YIPF5_HUMAN  FANCF_HUMAN  MASP2_HUMAN  COX7B_HUMAN  \\\n",
       "288         NaN    -1.343008          NaN          NaN    -0.515774   \n",
       "352         NaN     0.325366          NaN          NaN     0.697488   \n",
       "289         NaN     1.786105          NaN          NaN    -0.162846   \n",
       "252         NaN     0.762826          NaN          NaN    -1.444139   \n",
       "370         NaN     1.330996          NaN          NaN    -0.009090   \n",
       "\n",
       "     SFT2A_HUMAN  NEPR1_HUMAN  ERD21_HUMAN  MTURN_HUMAN  PRDM6_HUMAN  \\\n",
       "288    -0.648173          NaN          NaN          NaN          NaN   \n",
       "352          NaN      0.49772     0.502232    -0.656198    -0.356282   \n",
       "289     0.079507          NaN          NaN          NaN          NaN   \n",
       "252     0.533556          NaN     0.626822          NaN          NaN   \n",
       "370          NaN          NaN     0.924364          NaN          NaN   \n",
       "\n",
       "     KISHA_HUMAN  AQP1_HUMAN  NEK8_HUMAN  S46A3_HUMAN  NU2M_HUMAN  NU3M_HUMAN  \\\n",
       "288    -0.876812         NaN         NaN          NaN   -0.044232   -0.321381   \n",
       "352     0.646515         NaN         NaN          NaN         NaN         NaN   \n",
       "289     1.726126         NaN         NaN          NaN    0.724125    0.243461   \n",
       "252          NaN         NaN         NaN          NaN   -0.368450    0.063893   \n",
       "370    -0.234201         NaN         NaN          NaN         NaN         NaN   \n",
       "\n",
       "     BMP6_HUMAN  MET20_HUMAN  CCL26_HUMAN  AL5AP_HUMAN  CYTM1_HUMAN  \\\n",
       "288         NaN          NaN          NaN          NaN    -5.366966   \n",
       "352         NaN          NaN          NaN          NaN          NaN   \n",
       "289         NaN          NaN          NaN          NaN    -0.602651   \n",
       "252         NaN          NaN          NaN    -0.977010          NaN   \n",
       "370         NaN          NaN          NaN    -1.600231     1.643414   \n",
       "\n",
       "     MGST2_HUMAN  CNIH4_HUMAN  Cell_line  \n",
       "288    -1.770107    -0.819195        697  \n",
       "352          NaN     1.144409      769-P  \n",
       "289    -0.029221     0.455337      8305C  \n",
       "252          NaN    -0.126585      8505C  \n",
       "370          NaN     0.933261       A172  \n",
       "\n",
       "[5 rows x 12756 columns]"
      ]
     },
     "execution_count": 221,
     "metadata": {},
     "output_type": "execute_result"
    }
   ],
   "source": [
    "ccle_protein_common.head()"
   ]
  },
  {
   "cell_type": "code",
   "execution_count": 222,
   "metadata": {
    "ExecuteTime": {
     "end_time": "2020-03-16T23:54:42.532381Z",
     "start_time": "2020-03-16T23:54:42.521914Z"
    }
   },
   "outputs": [],
   "source": [
    "ccle_protein_common = ccle_protein_common.loc[:,~ccle_protein_common.columns.duplicated()]"
   ]
  },
  {
   "cell_type": "code",
   "execution_count": 223,
   "metadata": {
    "ExecuteTime": {
     "end_time": "2020-03-16T23:54:51.105365Z",
     "start_time": "2020-03-16T23:54:43.028140Z"
    }
   },
   "outputs": [],
   "source": [
    "corr_dict = {}\n",
    "for protein in common_proteins:\n",
    "    tmp_df_dict = {}\n",
    "    tmp_df_dict['sanger'] = list(sanger_protein_common[protein].values)\n",
    "    tmp_df_dict['ccle'] = list(ccle_protein_common[protein].values)\n",
    "    tmp_df = pd.DataFrame(tmp_df_dict)\n",
    "    tmp_df = tmp_df.dropna()\n",
    "    corr = spearmanr(tmp_df['sanger'].values,\n",
    "                                   tmp_df['ccle'].values)[0]\n",
    "    if not np.isnan(corr):\n",
    "        corr_dict[protein] = corr"
   ]
  },
  {
   "cell_type": "code",
   "execution_count": 224,
   "metadata": {
    "ExecuteTime": {
     "end_time": "2020-03-16T23:54:51.417617Z",
     "start_time": "2020-03-16T23:54:51.107829Z"
    }
   },
   "outputs": [
    {
     "data": {
      "text/plain": [
       "Text(-0.7999999999999999, 300, 'Median: 0.4384')"
      ]
     },
     "execution_count": 224,
     "metadata": {},
     "output_type": "execute_result"
    },
    {
     "data": {
      "image/png": "[encoded data removed]",
      "text/plain": [
       "<Figure size 432x288 with 1 Axes>"
      ]
     },
     "metadata": {
      "needs_background": "light"
     },
     "output_type": "display_data"
    }
   ],
   "source": [
    "sns.distplot(list(corr_dict.values()),\n",
    "             kde=False,\n",
    "             hist_kws=dict(edgecolor=\"k\", linewidth=1))\n",
    "plt.title(\"Spearman Correlation of Protein/Protein data\")\n",
    "plt.xlabel(\"correlation\")\n",
    "plt.text(np.min(list(corr_dict.values())), 300,\n",
    "         f\"Median: {np.median(list(corr_dict.values())):.4f}\")"
   ]
  },
  {
   "cell_type": "markdown",
   "metadata": {},
   "source": [
    "# P05"
   ]
  },
  {
   "cell_type": "code",
   "execution_count": 282,
   "metadata": {
    "ExecuteTime": {
     "end_time": "2020-03-18T12:48:08.924571Z",
     "start_time": "2020-03-18T12:48:07.839513Z"
    }
   },
   "outputs": [],
   "source": [
    "ic50 = pd.read_csv(\"../data/drug/ic50_processed_median.csv\")"
   ]
  },
  {
   "cell_type": "code",
   "execution_count": 283,
   "metadata": {
    "ExecuteTime": {
     "end_time": "2020-03-18T12:48:08.982074Z",
     "start_time": "2020-03-18T12:48:08.927170Z"
    }
   },
   "outputs": [],
   "source": [
    "meta = pd.read_csv(\"../data/E0022_P01-P05_sample_map.txt\", sep='\\t')"
   ]
  },
  {
   "cell_type": "code",
   "execution_count": 284,
   "metadata": {
    "ExecuteTime": {
     "end_time": "2020-03-18T12:48:17.175661Z",
     "start_time": "2020-03-18T12:48:08.984837Z"
    }
   },
   "outputs": [],
   "source": [
    "protein_raw = pd.read_csv(\"../data/protein/E0022_P05_protein_intensities.txt\", sep='\\t')"
   ]
  },
  {
   "cell_type": "code",
   "execution_count": 285,
   "metadata": {
    "ExecuteTime": {
     "end_time": "2020-03-18T12:48:18.220595Z",
     "start_time": "2020-03-18T12:48:17.178220Z"
    }
   },
   "outputs": [],
   "source": [
    "protein_raw = protein_raw.rename(columns={'Unnamed: 0': 'Automatic_MS_filename'})\n",
    "protein_raw_merge = pd.merge(protein_raw, meta[['Automatic_MS_filename', 'Cell_line']])\n",
    "\n",
    "protein_sample_avg = protein_raw_merge.drop(['Automatic_MS_filename'],\n",
    "                                            axis=1).groupby(['Cell_line']).agg(np.nanmean).reset_index()"
   ]
  },
  {
   "cell_type": "code",
   "execution_count": 286,
   "metadata": {
    "ExecuteTime": {
     "end_time": "2020-03-18T12:48:18.240924Z",
     "start_time": "2020-03-18T12:48:18.223023Z"
    }
   },
   "outputs": [],
   "source": [
    "protein_sample_avg = protein_sample_avg.sort_values(by=['Cell_line'])"
   ]
  },
  {
   "cell_type": "code",
   "execution_count": 287,
   "metadata": {
    "ExecuteTime": {
     "end_time": "2020-03-18T12:48:18.250654Z",
     "start_time": "2020-03-18T12:48:18.243510Z"
    },
    "code_folding": []
   },
   "outputs": [],
   "source": [
    "cell_line_dict = {\"Sanger\":set(protein_sample_avg['Cell_line'].unique()),\n",
    "                 \"CCLE\":set(ccle_protein['Cell_line'].unique())}"
   ]
  },
  {
   "cell_type": "code",
   "execution_count": 288,
   "metadata": {
    "ExecuteTime": {
     "end_time": "2020-03-18T12:48:18.411052Z",
     "start_time": "2020-03-18T12:48:18.252966Z"
    }
   },
   "outputs": [],
   "source": [
    "common_cell_lines = list(\n",
    "    set(protein_sample_avg['Cell_line'].unique()).intersection(\n",
    "        set(ccle_protein['Cell_line'].unique())))\n",
    "\n",
    "common_proteins = list(\n",
    "    set(protein_sample_avg.drop(['Cell_line'], axis=1).columns).intersection(\n",
    "        set(ccle_protein.drop(['Cell_line'], axis=1).columns)))"
   ]
  },
  {
   "cell_type": "code",
   "execution_count": 289,
   "metadata": {
    "ExecuteTime": {
     "end_time": "2020-03-18T12:48:18.416763Z",
     "start_time": "2020-03-18T12:48:18.413678Z"
    }
   },
   "outputs": [
    {
     "data": {
      "text/plain": [
       "3720"
      ]
     },
     "execution_count": 289,
     "metadata": {},
     "output_type": "execute_result"
    }
   ],
   "source": [
    "len(common_proteins)"
   ]
  },
  {
   "cell_type": "code",
   "execution_count": 290,
   "metadata": {
    "ExecuteTime": {
     "end_time": "2020-03-18T12:48:18.506448Z",
     "start_time": "2020-03-18T12:48:18.418680Z"
    }
   },
   "outputs": [
    {
     "data": {
      "text/plain": [
       "<matplotlib.axes._subplots.AxesSubplot at 0x189968518>"
      ]
     },
     "execution_count": 290,
     "metadata": {},
     "output_type": "execute_result"
    },
    {
     "data": {
      "image/png": "[encoded data removed]",
      "text/plain": [
       "<Figure size 576x576 with 1 Axes>"
      ]
     },
     "metadata": {},
     "output_type": "display_data"
    }
   ],
   "source": [
    "venn(cell_line_dict)"
   ]
  },
  {
   "cell_type": "code",
   "execution_count": 291,
   "metadata": {
    "ExecuteTime": {
     "end_time": "2020-03-18T12:48:19.012000Z",
     "start_time": "2020-03-18T12:48:18.508554Z"
    }
   },
   "outputs": [],
   "source": [
    "ccle_protein_melt = pd.melt(ccle_protein, id_vars='Cell_line', value_name='CCLE_protein', var_name='protein')"
   ]
  },
  {
   "cell_type": "code",
   "execution_count": 292,
   "metadata": {
    "ExecuteTime": {
     "end_time": "2020-03-18T12:48:19.348750Z",
     "start_time": "2020-03-18T12:48:19.014083Z"
    }
   },
   "outputs": [],
   "source": [
    "sanger_protein_melt = pd.melt(protein_sample_avg,\n",
    "                              id_vars='Cell_line',\n",
    "                              value_name='Sanger_protein',\n",
    "                              var_name='protein')"
   ]
  },
  {
   "cell_type": "code",
   "execution_count": 293,
   "metadata": {
    "ExecuteTime": {
     "end_time": "2020-03-18T12:48:22.159013Z",
     "start_time": "2020-03-18T12:48:19.350592Z"
    }
   },
   "outputs": [],
   "source": [
    "combined = pd.merge(ccle_protein_melt, sanger_protein_melt, on=['Cell_line', 'protein'])"
   ]
  },
  {
   "cell_type": "code",
   "execution_count": 294,
   "metadata": {
    "ExecuteTime": {
     "end_time": "2020-03-18T12:48:22.380520Z",
     "start_time": "2020-03-18T12:48:22.162777Z"
    }
   },
   "outputs": [],
   "source": [
    "combined = combined.dropna()"
   ]
  },
  {
   "cell_type": "code",
   "execution_count": 297,
   "metadata": {
    "ExecuteTime": {
     "end_time": "2020-03-18T12:49:47.561686Z",
     "start_time": "2020-03-18T12:49:47.253181Z"
    }
   },
   "outputs": [
    {
     "data": {
      "text/plain": [
       "SpearmanrResult(correlation=0.3680992573036355, pvalue=0.0)"
      ]
     },
     "execution_count": 297,
     "metadata": {},
     "output_type": "execute_result"
    }
   ],
   "source": [
    "spearmanr(combined['CCLE_protein'], combined['Sanger_protein'])"
   ]
  },
  {
   "cell_type": "code",
   "execution_count": 296,
   "metadata": {
    "ExecuteTime": {
     "end_time": "2020-03-18T12:49:27.454062Z",
     "start_time": "2020-03-18T12:48:22.406998Z"
    }
   },
   "outputs": [
    {
     "data": {
      "text/plain": [
       "<matplotlib.axes._subplots.AxesSubplot at 0x161b18f98>"
      ]
     },
     "execution_count": 296,
     "metadata": {},
     "output_type": "execute_result"
    },
    {
     "data": {
      "image/png": "[encoded data removed]",
      "text/plain": [
       "<Figure size 720x720 with 1 Axes>"
      ]
     },
     "metadata": {
      "needs_background": "light"
     },
     "output_type": "display_data"
    }
   ],
   "source": [
    "plt.figure(figsize=(10, 10))\n",
    "sns.regplot('CCLE_protein', 'Sanger_protein', combined,\n",
    "            line_kws={'color': 'red'})"
   ]
  },
  {
   "cell_type": "code",
   "execution_count": 200,
   "metadata": {
    "ExecuteTime": {
     "end_time": "2020-03-16T13:03:58.254289Z",
     "start_time": "2020-03-16T13:03:58.067553Z"
    }
   },
   "outputs": [],
   "source": [
    "combined = pd.merge(combined,\n",
    "                    ic50[['Cell line name', 'Tissue']].drop_duplicates(),\n",
    "                    left_on=['Cell_line'],\n",
    "                    right_on=['Cell line name'])"
   ]
  },
  {
   "cell_type": "code",
   "execution_count": 201,
   "metadata": {
    "ExecuteTime": {
     "end_time": "2020-03-16T13:03:58.954944Z",
     "start_time": "2020-03-16T13:03:58.720735Z"
    }
   },
   "outputs": [],
   "source": [
    "ccle_protein_common = ccle_protein[ccle_protein['Cell_line'].isin(\n",
    "    common_cell_lines)].drop_duplicates('Cell_line')\n",
    "sanger_protein_common = protein_sample_avg[\n",
    "    protein_sample_avg['Cell_line'].isin(common_cell_lines)]"
   ]
  },
  {
   "cell_type": "code",
   "execution_count": 202,
   "metadata": {
    "ExecuteTime": {
     "end_time": "2020-03-16T13:03:59.891007Z",
     "start_time": "2020-03-16T13:03:59.878473Z"
    }
   },
   "outputs": [],
   "source": [
    "ccle_protein_common = ccle_protein_common.loc[:,~ccle_protein_common.columns.duplicated()]"
   ]
  },
  {
   "cell_type": "code",
   "execution_count": 203,
   "metadata": {
    "ExecuteTime": {
     "end_time": "2020-03-16T13:04:08.341262Z",
     "start_time": "2020-03-16T13:04:00.440532Z"
    }
   },
   "outputs": [],
   "source": [
    "corr_dict = {}\n",
    "for protein in common_proteins:\n",
    "    tmp_df_dict = {}\n",
    "    tmp_df_dict['sanger'] = list(sanger_protein_common[protein].values)\n",
    "    tmp_df_dict['ccle'] = list(ccle_protein_common[protein].values)\n",
    "    tmp_df = pd.DataFrame(tmp_df_dict)\n",
    "    tmp_df = tmp_df.dropna()\n",
    "    corr = spearmanr(tmp_df['sanger'].values,\n",
    "                                   tmp_df['ccle'].values)[0]\n",
    "    if not np.isnan(corr):\n",
    "        corr_dict[protein] = corr"
   ]
  },
  {
   "cell_type": "code",
   "execution_count": 204,
   "metadata": {
    "ExecuteTime": {
     "end_time": "2020-03-16T13:04:09.468433Z",
     "start_time": "2020-03-16T13:04:09.216873Z"
    }
   },
   "outputs": [
    {
     "data": {
      "text/plain": [
       "Text(-1.0, 300, 'Median: 0.3890')"
      ]
     },
     "execution_count": 204,
     "metadata": {},
     "output_type": "execute_result"
    },
    {
     "data": {
      "image/png": "[encoded data removed]",
      "text/plain": [
       "<Figure size 432x288 with 1 Axes>"
      ]
     },
     "metadata": {
      "needs_background": "light"
     },
     "output_type": "display_data"
    }
   ],
   "source": [
    "sns.distplot(list(corr_dict.values()),\n",
    "             kde=False,\n",
    "             hist_kws=dict(edgecolor=\"k\", linewidth=1))\n",
    "plt.title(\"Spearman Correlation of Protein/Protein data\")\n",
    "plt.xlabel(\"correlation\")\n",
    "plt.text(np.min(list(corr_dict.values())), 300,\n",
    "         f\"Median: {np.median(list(corr_dict.values())):.4f}\")"
   ]
  },
  {
   "cell_type": "markdown",
   "metadata": {},
   "source": [
    "# model comparison"
   ]
  },
  {
   "cell_type": "code",
   "execution_count": 278,
   "metadata": {
    "ExecuteTime": {
     "end_time": "2020-03-18T12:36:41.750320Z",
     "start_time": "2020-03-18T12:36:41.607466Z"
    }
   },
   "outputs": [],
   "source": [
    "ccle_score = pd.read_csv(\"../work_dirs/ccle_common/SVM/scores_202003171523.csv\")\n",
    "ccle_score_all = pd.read_csv(\"../work_dirs/ccle_common/SVM/scores_202003171603.csv\")\n",
    "sanger_score = pd.read_csv(\"../work_dirs/sanger_common_median/SVM/scores_202003171523.csv\")"
   ]
  },
  {
   "cell_type": "code",
   "execution_count": 279,
   "metadata": {
    "ExecuteTime": {
     "end_time": "2020-03-18T12:36:43.006083Z",
     "start_time": "2020-03-18T12:36:42.940782Z"
    }
   },
   "outputs": [],
   "source": [
    "test_corr_df = pd.merge(ccle_score[['Drug Id', 'test_corr']],\n",
    "                        ccle_score_all[['Drug Id', 'test_corr']],\n",
    "                        on=['Drug Id'],\n",
    "                        suffixes=['_ccle_corr', '_ccle_all_corr'])\n",
    "\n",
    "test_corr_df = pd.merge(test_corr_df,\n",
    "                        sanger_score[['Drug Id', 'test_corr']],\n",
    "                        on=['Drug Id'])\n",
    "test_corr_df = test_corr_df.rename(columns={\"test_corr\":'test_corr_sanger_corr'})"
   ]
  },
  {
   "cell_type": "code",
   "execution_count": 281,
   "metadata": {
    "ExecuteTime": {
     "end_time": "2020-03-18T12:37:07.199171Z",
     "start_time": "2020-03-18T12:37:06.804572Z"
    }
   },
   "outputs": [
    {
     "data": {
      "text/plain": [
       "<matplotlib.axes._subplots.AxesSubplot at 0x175c665f8>"
      ]
     },
     "execution_count": 281,
     "metadata": {},
     "output_type": "execute_result"
    },
    {
     "data": {
      "image/png": "[encoded data removed]",
      "text/plain": [
       "<Figure size 432x288 with 1 Axes>"
      ]
     },
     "metadata": {
      "needs_background": "light"
     },
     "output_type": "display_data"
    }
   ],
   "source": [
    "tmp_data = pd.melt(test_corr_df[[\n",
    "    'Drug Id', 'test_corr_ccle_corr', 'test_corr_ccle_all_corr',\n",
    "    'test_corr_sanger_corr'\n",
    "]],\n",
    "                   id_vars='Drug Id',\n",
    "                   value_vars=[\n",
    "                       'test_corr_ccle_corr', 'test_corr_ccle_all_corr',\n",
    "                       'test_corr_sanger_corr'\n",
    "                   ],\n",
    "                   var_name='data_source',\n",
    "                   value_name='Correlation')\n",
    "ax = sns.boxplot('Correlation',\n",
    "                 'data_source',\n",
    "                 data=tmp_data,\n",
    "                 orient='h',\n",
    "                 boxprops=dict(alpha=.3))\n",
    "sns.swarmplot('Correlation', 'data_source', data=tmp_data, orient='h')"
   ]
  },
  {
   "cell_type": "code",
   "execution_count": 269,
   "metadata": {
    "ExecuteTime": {
     "end_time": "2020-03-17T04:47:07.412154Z",
     "start_time": "2020-03-17T04:47:07.143764Z"
    }
   },
   "outputs": [
    {
     "data": {
      "text/plain": [
       "<matplotlib.axes._subplots.AxesSubplot at 0x1aa4ade5c0>"
      ]
     },
     "execution_count": 269,
     "metadata": {},
     "output_type": "execute_result"
    },
    {
     "data": {
      "image/png": "[encoded data removed]",
      "text/plain": [
       "<Figure size 432x288 with 1 Axes>"
      ]
     },
     "metadata": {
      "needs_background": "light"
     },
     "output_type": "display_data"
    }
   ],
   "source": [
    "sns.regplot('test_corr_ccle_corr', 'test_corr_sanger_corr', test_corr_df)"
   ]
  },
  {
   "cell_type": "code",
   "execution_count": 258,
   "metadata": {
    "ExecuteTime": {
     "end_time": "2020-03-17T04:43:06.660101Z",
     "start_time": "2020-03-17T04:43:06.656706Z"
    }
   },
   "outputs": [
    {
     "data": {
      "text/plain": [
       "0.3640381756897253"
      ]
     },
     "execution_count": 258,
     "metadata": {},
     "output_type": "execute_result"
    }
   ],
   "source": [
    "sanger_score['test_corr'].mean()"
   ]
  },
  {
   "cell_type": "code",
   "execution_count": 257,
   "metadata": {
    "ExecuteTime": {
     "end_time": "2020-03-17T04:42:59.812651Z",
     "start_time": "2020-03-17T04:42:59.807276Z"
    }
   },
   "outputs": [
    {
     "data": {
      "text/plain": [
       "0.2554949006192847"
      ]
     },
     "execution_count": 257,
     "metadata": {},
     "output_type": "execute_result"
    }
   ],
   "source": [
    "ccle_score['test_corr'].mean()"
   ]
  },
  {
   "cell_type": "code",
   "execution_count": null,
   "metadata": {},
   "outputs": [],
   "source": []
  }
 ],
 "metadata": {
  "kernelspec": {
   "display_name": "Python 3",
   "language": "python",
   "name": "python3"
  },
  "language_info": {
   "codemirror_mode": {
    "name": "ipython",
    "version": 3
   },
   "file_extension": ".py",
   "mimetype": "text/x-python",
   "name": "python",
   "nbconvert_exporter": "python",
   "pygments_lexer": "ipython3",
   "version": "3.7.3"
  },
  "toc": {
   "base_numbering": 1,
   "nav_menu": {},
   "number_sections": true,
   "sideBar": true,
   "skip_h1_title": false,
   "title_cell": "Table of Contents",
   "title_sidebar": "Contents",
   "toc_cell": false,
   "toc_position": {},
   "toc_section_display": true,
   "toc_window_display": true
  }
 },
 "nbformat": 4,
 "nbformat_minor": 2
}
