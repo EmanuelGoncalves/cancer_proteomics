{
 "cells": [
  {
   "cell_type": "code",
   "execution_count": 167,
   "metadata": {
    "ExecuteTime": {
     "end_time": "2020-05-19T01:26:01.212728Z",
     "start_time": "2020-05-19T01:26:01.208793Z"
    }
   },
   "outputs": [],
   "source": [
    "import pandas as pd\n",
    "import numpy as np\n",
    "from lightgbm import LGBMClassifier\n",
    "import seaborn as sns\n",
    "from scipy.stats import pearsonr, spearmanr\n",
    "from sklearn.impute import SimpleImputer, KNNImputer\n",
    "from sklearn.metrics import accuracy_score, f1_score, confusion_matrix, classification_report, plot_confusion_matrix\n",
    "from sklearn.model_selection import GridSearchCV, train_test_split\n",
    "import matplotlib.pyplot as plt\n",
    "from sklearn.preprocessing import StandardScaler\n",
    "from sklearn.ensemble import RandomForestClassifier"
   ]
  },
  {
   "cell_type": "code",
   "execution_count": 39,
   "metadata": {
    "ExecuteTime": {
     "end_time": "2020-05-14T13:33:09.927314Z",
     "start_time": "2020-05-14T13:33:09.109958Z"
    }
   },
   "outputs": [],
   "source": [
    "name_map = pd.read_csv(\"../../data/misc/HUMAN_9606_idmapping.gene_prot.dat\",\n",
    "                       sep='\\t',\n",
    "                       names=['ID', 'type', 'code'])\n",
    "name_map = name_map.drop_duplicates(['ID', 'type'])\n",
    "name_map = pd.pivot(name_map, index='ID', columns='type', values='code').dropna()\n",
    "\n",
    "name_map_dict = dict(zip(name_map['UniProtKB-ID'].values, name_map['Gene_Name'].values))"
   ]
  },
  {
   "cell_type": "markdown",
   "metadata": {},
   "source": [
    "# load data"
   ]
  },
  {
   "cell_type": "code",
   "execution_count": 80,
   "metadata": {
    "ExecuteTime": {
     "end_time": "2020-05-14T13:51:26.168050Z",
     "start_time": "2020-05-14T13:51:24.996111Z"
    }
   },
   "outputs": [],
   "source": [
    "procan_protein = pd.read_csv(\"../../data/protein/E0022_P06_Protein_Matrix_ProNorM_no_control.txt\", sep='\\t')\n",
    "\n",
    "procan_protein = procan_protein.set_index('Cell_line')\n",
    "\n",
    "cols = [x for x in procan_protein.columns if x in name_map_dict]\n",
    "\n",
    "procan_protein = procan_protein[cols]\n",
    "\n",
    "gene_cols = procan_protein.columns.map(name_map_dict)\n",
    "\n",
    "procan_protein.columns = gene_cols\n",
    "\n",
    "procan_protein = procan_protein.loc[:,~procan_protein.columns.duplicated()]\n"
   ]
  },
  {
   "cell_type": "code",
   "execution_count": 81,
   "metadata": {
    "ExecuteTime": {
     "end_time": "2020-05-14T13:51:28.087963Z",
     "start_time": "2020-05-14T13:51:26.973367Z"
    }
   },
   "outputs": [
    {
     "data": {
      "text/plain": [
       "<matplotlib.axes._subplots.AxesSubplot at 0x7fdc66b717c0>"
      ]
     },
     "execution_count": 81,
     "metadata": {},
     "output_type": "execute_result"
    },
    {
     "data": {
      "image/png": "[encoded data removed]",
      "text/plain": [
       "<Figure size 432x288 with 1 Axes>"
      ]
     },
     "metadata": {
      "needs_background": "light"
     },
     "output_type": "display_data"
    }
   ],
   "source": [
    "sns.distplot(procan_protein.values.flatten())"
   ]
  },
  {
   "cell_type": "code",
   "execution_count": null,
   "metadata": {},
   "outputs": [],
   "source": [
    "brca = pd.read_csv(\"../../data/cptac/TCGA_Breast_BI_Proteome.itraq.tsv\", sep='\\t')\n",
    "\n",
    "cols = ['Gene'] + [x for x in brca.columns if 'Log Ratio'in x and 'Unshared' not in x]\n",
    "\n",
    "brca_df = brca[cols].iloc[3:,:].set_index('Gene').T\n",
    "brca_df.index.name = 'Sample'"
   ]
  },
  {
   "cell_type": "code",
   "execution_count": 82,
   "metadata": {
    "ExecuteTime": {
     "end_time": "2020-05-14T13:52:32.249262Z",
     "start_time": "2020-05-14T13:52:31.806827Z"
    }
   },
   "outputs": [],
   "source": [
    "ov = pd.read_csv(\"../../data/cptac/TCGA_Ovarian_JHU_Proteome.itraq.tsv\", sep='\\t')\n",
    "\n",
    "cols = ['Gene'] + [x for x in ov.columns if 'Log Ratio'in x and 'Unshared' not in x]\n",
    "\n",
    "ov_df = ov[cols].iloc[3:,:].set_index('Gene').T\n",
    "ov_df.index.name = 'Sample'"
   ]
  },
  {
   "cell_type": "code",
   "execution_count": 84,
   "metadata": {
    "ExecuteTime": {
     "end_time": "2020-05-14T13:53:17.860152Z",
     "start_time": "2020-05-14T13:53:17.853262Z"
    }
   },
   "outputs": [],
   "source": [
    "overlap_genes = sorted(set(procan_protein.columns).intersection(brca_df.columns).intersection(ov_df.columns))"
   ]
  },
  {
   "cell_type": "code",
   "execution_count": 86,
   "metadata": {
    "ExecuteTime": {
     "end_time": "2020-05-14T13:54:29.246362Z",
     "start_time": "2020-05-14T13:54:29.227240Z"
    }
   },
   "outputs": [],
   "source": [
    "procan_df_common = procan_protein[overlap_genes]\n",
    "brca_df_common = brca_df[overlap_genes]\n",
    "ov_df_common = ov_df[overlap_genes]"
   ]
  },
  {
   "cell_type": "markdown",
   "metadata": {},
   "source": [
    " # train tissue classifier"
   ]
  },
  {
   "cell_type": "code",
   "execution_count": 149,
   "metadata": {
    "ExecuteTime": {
     "end_time": "2020-05-19T01:23:25.117537Z",
     "start_time": "2020-05-19T01:23:25.072051Z"
    }
   },
   "outputs": [],
   "source": [
    "meta = pd.read_csv(\"../../data/E0022_P06_final_sample_map_no_control.txt\",sep='\\t')"
   ]
  },
  {
   "cell_type": "code",
   "execution_count": 150,
   "metadata": {
    "ExecuteTime": {
     "end_time": "2020-05-19T01:23:25.503502Z",
     "start_time": "2020-05-19T01:23:25.493738Z"
    }
   },
   "outputs": [],
   "source": [
    "tissue_type_map = meta[[\n",
    "    'Cell_line', 'Cancer_type', 'Tissue_type'\n",
    "]].drop_duplicates().set_index('Cell_line').to_dict()['Tissue_type']"
   ]
  },
  {
   "cell_type": "code",
   "execution_count": 151,
   "metadata": {
    "ExecuteTime": {
     "end_time": "2020-05-19T01:23:25.788836Z",
     "start_time": "2020-05-19T01:23:25.783532Z"
    }
   },
   "outputs": [
    {
     "name": "stderr",
     "output_type": "stream",
     "text": [
      "<ipython-input-151-be766f3c64a3>:1: SettingWithCopyWarning: \n",
      "A value is trying to be set on a copy of a slice from a DataFrame.\n",
      "Try using .loc[row_indexer,col_indexer] = value instead\n",
      "\n",
      "See the caveats in the documentation: https://pandas.pydata.org/pandas-docs/stable/user_guide/indexing.html#returning-a-view-versus-a-copy\n",
      "  procan_df_common['Tissue'] = procan_df_common.index.map(tissue_type_map)\n"
     ]
    }
   ],
   "source": [
    "procan_df_common['Tissue'] = procan_df_common.index.map(tissue_type_map)"
   ]
  },
  {
   "cell_type": "code",
   "execution_count": 152,
   "metadata": {
    "ExecuteTime": {
     "end_time": "2020-05-19T01:23:26.353777Z",
     "start_time": "2020-05-19T01:23:26.349595Z"
    }
   },
   "outputs": [
    {
     "name": "stderr",
     "output_type": "stream",
     "text": [
      "<ipython-input-152-a0bd5a80d47f>:1: SettingWithCopyWarning: \n",
      "A value is trying to be set on a copy of a slice from a DataFrame.\n",
      "Try using .loc[row_indexer,col_indexer] = value instead\n",
      "\n",
      "See the caveats in the documentation: https://pandas.pydata.org/pandas-docs/stable/user_guide/indexing.html#returning-a-view-versus-a-copy\n",
      "  procan_df_common['Tissue'] = procan_df_common['Tissue'].map(lambda x:'Other' if x not in ['Breast', 'Ovary'] else x)\n"
     ]
    }
   ],
   "source": [
    "procan_df_common['Tissue'] = procan_df_common['Tissue'].map(lambda x:'Other' if x not in ['Breast', 'Ovary'] else x)"
   ]
  },
  {
   "cell_type": "code",
   "execution_count": 153,
   "metadata": {
    "ExecuteTime": {
     "end_time": "2020-05-19T01:23:27.088066Z",
     "start_time": "2020-05-19T01:23:27.017184Z"
    }
   },
   "outputs": [],
   "source": [
    "procan_df_common_no_other = procan_df_common[procan_df_common['Tissue']!='Other']"
   ]
  },
  {
   "cell_type": "code",
   "execution_count": 154,
   "metadata": {
    "ExecuteTime": {
     "end_time": "2020-05-19T01:23:28.283150Z",
     "start_time": "2020-05-19T01:23:28.063194Z"
    }
   },
   "outputs": [],
   "source": [
    "seed = 42\n",
    "data = procan_df_common\n",
    "X = data.drop(['Tissue'], axis=1)\n",
    "y = data['Tissue']\n",
    "imputer = SimpleImputer(missing_values=np.nan, strategy='constant', fill_value=-2.242616)\n",
    "if imputer:\n",
    "    X = imputer.fit_transform(X)\n",
    "scaler = StandardScaler()\n",
    "X = scaler.fit_transform(X)\n",
    "X_train, X_test, y_train, y_test = train_test_split(X, y, stratify=y, random_state=seed, shuffle=True,\n",
    "                                                    test_size=0.2)"
   ]
  },
  {
   "cell_type": "code",
   "execution_count": 155,
   "metadata": {
    "ExecuteTime": {
     "end_time": "2020-05-19T01:23:30.329583Z",
     "start_time": "2020-05-19T01:23:30.326364Z"
    }
   },
   "outputs": [],
   "source": [
    "params = {'max_bin': 500, 'n_estimators': 700, 'num_leaves': 21, 'n_jobs': -1}\n",
    "clf = LGBMClassifier(**params)"
   ]
  },
  {
   "cell_type": "code",
   "execution_count": 168,
   "metadata": {
    "ExecuteTime": {
     "end_time": "2020-05-19T01:26:05.737174Z",
     "start_time": "2020-05-19T01:26:05.734792Z"
    }
   },
   "outputs": [],
   "source": [
    "params = {'max_features': \"sqrt\", 'n_estimators': 1000, 'n_jobs':-1}\n",
    "clf = RandomForestClassifier(**params)"
   ]
  },
  {
   "cell_type": "code",
   "execution_count": 169,
   "metadata": {
    "ExecuteTime": {
     "end_time": "2020-05-19T01:26:34.102826Z",
     "start_time": "2020-05-19T01:26:06.501080Z"
    }
   },
   "outputs": [
    {
     "data": {
      "text/plain": [
       "RandomForestClassifier(bootstrap=True, ccp_alpha=0.0, class_weight=None,\n",
       "                       criterion='gini', max_depth=None, max_features='sqrt',\n",
       "                       max_leaf_nodes=None, max_samples=None,\n",
       "                       min_impurity_decrease=0.0, min_impurity_split=None,\n",
       "                       min_samples_leaf=1, min_samples_split=2,\n",
       "                       min_weight_fraction_leaf=0.0, n_estimators=1000,\n",
       "                       n_jobs=None, oob_score=False, random_state=None,\n",
       "                       verbose=0, warm_start=False)"
      ]
     },
     "execution_count": 169,
     "metadata": {},
     "output_type": "execute_result"
    }
   ],
   "source": [
    "clf.fit(X_train, y_train)"
   ]
  },
  {
   "cell_type": "code",
   "execution_count": 170,
   "metadata": {
    "ExecuteTime": {
     "end_time": "2020-05-19T01:26:37.703327Z",
     "start_time": "2020-05-19T01:26:37.600942Z"
    }
   },
   "outputs": [],
   "source": [
    "y_pred = clf.predict(X_test)"
   ]
  },
  {
   "cell_type": "code",
   "execution_count": 171,
   "metadata": {
    "ExecuteTime": {
     "end_time": "2020-05-19T01:26:38.646914Z",
     "start_time": "2020-05-19T01:26:38.423880Z"
    }
   },
   "outputs": [
    {
     "data": {
      "text/plain": [
       "Text(0.5, 1.0, 'Normalised confusion matrix for tissue type prediction')"
      ]
     },
     "execution_count": 171,
     "metadata": {},
     "output_type": "execute_result"
    },
    {
     "data": {
      "image/png": "[encoded data removed]",
      "text/plain": [
       "<Figure size 432x288 with 2 Axes>"
      ]
     },
     "metadata": {
      "needs_background": "light"
     },
     "output_type": "display_data"
    }
   ],
   "source": [
    "plot_confusion_matrix(clf,\n",
    "                      X_test,\n",
    "                      y_test,\n",
    "                      cmap=plt.cm.Blues,\n",
    "                      normalize='true')\n",
    "plt.xticks(rotation=45, ha='right')\n",
    "plt.title(\"Normalised confusion matrix for tissue type prediction\")"
   ]
  },
  {
   "cell_type": "markdown",
   "metadata": {},
   "source": [
    "# predict cptac"
   ]
  },
  {
   "cell_type": "code",
   "execution_count": 159,
   "metadata": {
    "ExecuteTime": {
     "end_time": "2020-05-19T01:24:21.743379Z",
     "start_time": "2020-05-19T01:24:21.720442Z"
    }
   },
   "outputs": [],
   "source": [
    "X_cptac = pd.concat([brca_df_common, ov_df_common])\n",
    "y_cptac = ['Breast'] * brca_df_common.shape[0] + ['Ovary']*ov_df_common.shape[0]"
   ]
  },
  {
   "cell_type": "code",
   "execution_count": 160,
   "metadata": {
    "ExecuteTime": {
     "end_time": "2020-05-19T01:24:22.150026Z",
     "start_time": "2020-05-19T01:24:22.139014Z"
    }
   },
   "outputs": [],
   "source": [
    "X_cptac = scaler.transform(X_cptac)"
   ]
  },
  {
   "cell_type": "code",
   "execution_count": 161,
   "metadata": {
    "ExecuteTime": {
     "end_time": "2020-05-19T01:24:22.560056Z",
     "start_time": "2020-05-19T01:24:22.553881Z"
    }
   },
   "outputs": [],
   "source": [
    "y_pred = clf.predict(X_cptac)"
   ]
  },
  {
   "cell_type": "code",
   "execution_count": 162,
   "metadata": {
    "ExecuteTime": {
     "end_time": "2020-05-19T01:24:23.412981Z",
     "start_time": "2020-05-19T01:24:23.401273Z"
    }
   },
   "outputs": [
    {
     "name": "stdout",
     "output_type": "stream",
     "text": [
      "              precision    recall  f1-score   support\n",
      "\n",
      "      Breast       1.00      0.02      0.04       111\n",
      "       Other       0.00      0.00      0.00         0\n",
      "       Ovary       0.00      0.00      0.00       132\n",
      "\n",
      "    accuracy                           0.01       243\n",
      "   macro avg       0.33      0.01      0.01       243\n",
      "weighted avg       0.46      0.01      0.02       243\n",
      "\n"
     ]
    },
    {
     "name": "stderr",
     "output_type": "stream",
     "text": [
      "/Users/scai/anaconda3/envs/sanger/lib/python3.8/site-packages/sklearn/metrics/_classification.py:1272: UndefinedMetricWarning: Precision and F-score are ill-defined and being set to 0.0 in labels with no predicted samples. Use `zero_division` parameter to control this behavior.\n",
      "  _warn_prf(average, modifier, msg_start, len(result))\n",
      "/Users/scai/anaconda3/envs/sanger/lib/python3.8/site-packages/sklearn/metrics/_classification.py:1272: UndefinedMetricWarning: Recall and F-score are ill-defined and being set to 0.0 in labels with no true samples. Use `zero_division` parameter to control this behavior.\n",
      "  _warn_prf(average, modifier, msg_start, len(result))\n"
     ]
    }
   ],
   "source": [
    "print(classification_report(y_cptac, y_pred))"
   ]
  },
  {
   "cell_type": "code",
   "execution_count": 147,
   "metadata": {
    "ExecuteTime": {
     "end_time": "2020-05-14T14:18:46.800861Z",
     "start_time": "2020-05-14T14:18:46.637339Z"
    }
   },
   "outputs": [
    {
     "data": {
      "text/plain": [
       "Text(0.5, 1.0, 'Normalised confusion matrix for tissue type prediction')"
      ]
     },
     "execution_count": 147,
     "metadata": {},
     "output_type": "execute_result"
    },
    {
     "data": {
      "image/png": "[encoded data removed]",
      "text/plain": [
       "<Figure size 432x288 with 2 Axes>"
      ]
     },
     "metadata": {
      "needs_background": "light"
     },
     "output_type": "display_data"
    }
   ],
   "source": [
    "plot_confusion_matrix(clf,\n",
    "                      X_cptac,\n",
    "                      y_cptac,\n",
    "                      cmap=plt.cm.Blues)\n",
    "plt.xticks(rotation=45, ha='right')\n",
    "plt.title(\"Normalised confusion matrix for tissue type prediction\")"
   ]
  },
  {
   "cell_type": "code",
   "execution_count": null,
   "metadata": {},
   "outputs": [],
   "source": []
  }
 ],
 "metadata": {
  "kernelspec": {
   "display_name": "Python 3",
   "language": "python",
   "name": "python3"
  },
  "language_info": {
   "codemirror_mode": {
    "name": "ipython",
    "version": 3
   },
   "file_extension": ".py",
   "mimetype": "text/x-python",
   "name": "python",
   "nbconvert_exporter": "python",
   "pygments_lexer": "ipython3",
   "version": "3.8.2"
  },
  "toc": {
   "base_numbering": 1,
   "nav_menu": {},
   "number_sections": true,
   "sideBar": true,
   "skip_h1_title": false,
   "title_cell": "Table of Contents",
   "title_sidebar": "Contents",
   "toc_cell": false,
   "toc_position": {},
   "toc_section_display": true,
   "toc_window_display": false
  }
 },
 "nbformat": 4,
 "nbformat_minor": 4
}
