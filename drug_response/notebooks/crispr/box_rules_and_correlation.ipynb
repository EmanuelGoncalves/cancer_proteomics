{
 "cells": [
  {
   "cell_type": "code",
   "execution_count": 1,
   "metadata": {
    "ExecuteTime": {
     "end_time": "2020-10-18T05:21:58.952050Z",
     "start_time": "2020-10-18T05:21:55.823351Z"
    }
   },
   "outputs": [],
   "source": [
    "import pandas as pd\n",
    "import numpy as np\n",
    "import seaborn as sns\n",
    "import matplotlib.pyplot as plt\n",
    "from scipy.stats import ttest_ind\n",
    "from sklearn.metrics import r2_score\n",
    "from scipy.stats import pearsonr, spearmanr\n",
    "import plotly.express as px\n",
    "import plotly.graph_objects as go\n",
    "import matplotlib.patches as mpatches\n",
    "from scipy.stats import ttest_ind, ttest_1samp, ttest_rel\n",
    "import matplotlib as mpl\n",
    "import umap\n",
    "from sklearn.decomposition import PCA\n",
    "from sklearn.manifold import TSNE\n",
    "from joblib import Parallel, delayed\n",
    "from tqdm.notebook import tqdm\n",
    "import pickle\n",
    "import matplotlib.ticker as mtick\n",
    "import math\n",
    "from itertools import combinations\n",
    "import random\n",
    "from sklearn.linear_model import LinearRegression\n",
    "\n",
    "plt.rcParams['font.family'] = 'Helvetica'\n",
    "plt.rcParams[\"axes.labelweight\"] = \"bold\"\n",
    "plt.rcParams['font.size'] = 18\n",
    "plt.rcParams['axes.linewidth'] = 2\n",
    "plt.rcParams['figure.figsize'] = (10.0, 7.0)\n",
    "plt.rcParams['pdf.fonttype'] = 42\n",
    "plt.rcParams['ps.fonttype'] = 42\n",
    "sns.set_palette(\"Dark2\")\n",
    "\n",
    "seed = 42"
   ]
  },
  {
   "cell_type": "markdown",
   "metadata": {},
   "source": [
    "# load data"
   ]
  },
  {
   "cell_type": "code",
   "execution_count": 4,
   "metadata": {
    "ExecuteTime": {
     "end_time": "2020-10-18T05:22:10.271733Z",
     "start_time": "2020-10-18T05:22:10.267123Z"
    }
   },
   "outputs": [],
   "source": [
    "colour_list = pd.read_csv('../../data/colour_list.txt',header=None)[0].tolist()"
   ]
  },
  {
   "cell_type": "code",
   "execution_count": 5,
   "metadata": {
    "ExecuteTime": {
     "end_time": "2020-10-18T05:22:11.374149Z",
     "start_time": "2020-10-18T05:22:10.458845Z"
    }
   },
   "outputs": [],
   "source": [
    "protein_ruv = pd.read_csv(\n",
    "    \"../../data/protein/E0022_P06_Protein_Matrix_ProNorM_no_control_update.txt\",\n",
    "    sep='\\t').set_index('Cell_line')\n",
    "\n",
    "meta = pd.read_csv('../../data/E0022_P06_final_sample_map_no_control.txt',\n",
    "                   sep='\\t')"
   ]
  },
  {
   "cell_type": "code",
   "execution_count": 6,
   "metadata": {
    "ExecuteTime": {
     "end_time": "2020-10-18T05:22:11.380169Z",
     "start_time": "2020-10-18T05:22:11.375860Z"
    }
   },
   "outputs": [],
   "source": [
    "cell_lines_no_blood = meta[meta['Tissue_type']!='Haematopoietic and Lymphoid'].index.values"
   ]
  },
  {
   "cell_type": "code",
   "execution_count": 7,
   "metadata": {
    "ExecuteTime": {
     "end_time": "2020-10-18T05:22:11.397804Z",
     "start_time": "2020-10-18T05:22:11.382254Z"
    }
   },
   "outputs": [],
   "source": [
    "tissue_type_map = meta.drop_duplicates(['Cell_line']).set_index(\n",
    "    ['Cell_line'])[['Tissue_type']].to_dict()['Tissue_type']\n",
    "cancer_type_map = meta.drop_duplicates(['Cell_line']).set_index(\n",
    "    ['Cell_line'])[['Cancer_type']].to_dict()['Cancer_type']\n",
    "batch_map = meta.drop_duplicates(['Cell_line']).set_index(\n",
    "    ['Cell_line'])[['Batch']].to_dict()['Batch']\n",
    "instrument_map = meta.drop_duplicates(['Cell_line']).set_index(\n",
    "    ['Cell_line'])[['Instrument']].to_dict()['Instrument']"
   ]
  },
  {
   "cell_type": "code",
   "execution_count": 8,
   "metadata": {
    "ExecuteTime": {
     "end_time": "2020-10-18T05:22:11.413048Z",
     "start_time": "2020-10-18T05:22:11.399577Z"
    }
   },
   "outputs": [],
   "source": [
    "tissue_count = meta.drop_duplicates(['Cell_line', 'Tissue_type']).groupby('Tissue_type').size()\n",
    "major_tissues = tissue_count[tissue_count>30].index.values"
   ]
  },
  {
   "cell_type": "code",
   "execution_count": 9,
   "metadata": {
    "ExecuteTime": {
     "end_time": "2020-10-18T05:22:11.419462Z",
     "start_time": "2020-10-18T05:22:11.414500Z"
    }
   },
   "outputs": [],
   "source": [
    "cancer_colours = dict(\n",
    "    zip(meta['Cancer_type'].unique(),\n",
    "        colour_list[:meta['Cancer_type'].unique().size]))\n",
    "\n",
    "tissue_colours = dict(\n",
    "    zip(meta['Tissue_type'].unique(),\n",
    "        colour_list[:meta['Tissue_type'].unique().size]))\n",
    "\n",
    "instrument_colours={\n",
    "    'M01':'#66c2a5', \n",
    "    'M02':'#fc8d62', \n",
    "    'M03':'#8da0cb', \n",
    "    'M04':'#e78ac3', \n",
    "    'M05':'#a6d854', \n",
    "    'M06':'#ffd92f'\n",
    "}\n",
    "\n",
    "batch_colours={\n",
    "    'P01':'#7fc97f', \n",
    "    'P02':'#beaed4', \n",
    "    'P03':'#fdc086', \n",
    "    'P04':'#386cb0', \n",
    "    'P05':'#f0027f', \n",
    "    'P06':'#bf5b17'\n",
    "}"
   ]
  },
  {
   "cell_type": "code",
   "execution_count": 10,
   "metadata": {
    "ExecuteTime": {
     "end_time": "2020-10-18T05:22:12.178130Z",
     "start_time": "2020-10-18T05:22:12.173997Z"
    }
   },
   "outputs": [],
   "source": [
    "meta = meta.reset_index()"
   ]
  },
  {
   "cell_type": "code",
   "execution_count": 11,
   "metadata": {
    "ExecuteTime": {
     "end_time": "2020-10-18T05:22:12.389789Z",
     "start_time": "2020-10-18T05:22:12.384436Z"
    }
   },
   "outputs": [],
   "source": [
    "meta_cell_lines = meta.drop_duplicates('Cell_line')"
   ]
  },
  {
   "cell_type": "code",
   "execution_count": 12,
   "metadata": {
    "ExecuteTime": {
     "end_time": "2020-10-18T05:22:17.285671Z",
     "start_time": "2020-10-18T05:22:14.777175Z"
    }
   },
   "outputs": [],
   "source": [
    "rna_raw = pd.read_csv(\"../../data/rna/rnaseq_voom.csv\", index_col=0).T\n",
    "\n",
    "rna_raw.index.name = 'SIDM'\n",
    "\n",
    "rna_raw = rna_raw.reset_index()\n",
    "rna_sample = pd.merge(rna_raw,\n",
    "                      meta[['SIDM',\n",
    "                            'Cell_line']].drop_duplicates()).drop(['SIDM'],\n",
    "                                                                  axis=1)\n",
    "\n",
    "rna_sample = rna_sample.set_index(['Cell_line'])"
   ]
  },
  {
   "cell_type": "code",
   "execution_count": 72,
   "metadata": {
    "ExecuteTime": {
     "end_time": "2020-09-11T01:15:27.565753Z",
     "start_time": "2020-09-11T01:15:26.649091Z"
    }
   },
   "outputs": [],
   "source": [
    "name_map = pd.read_csv(\"../../data/misc/HUMAN_9606_idmapping.gene_prot.dat\",\n",
    "                       sep='\\t',\n",
    "                       names=['ID', 'type', 'code'])\n",
    "name_map = name_map.drop_duplicates(['ID', 'type'])\n",
    "name_map = pd.pivot(name_map, index='ID', columns='type',\n",
    "                    values='code').dropna()\n",
    "\n",
    "protein2rna_map = dict(\n",
    "    zip(name_map['UniProtKB-ID'].values, name_map['Gene_Name'].values))\n",
    "rna2protein_map = {\n",
    "    protein2rna_map[protein]: protein\n",
    "    for protein in protein_ruv.columns if protein in protein2rna_map\n",
    "}"
   ]
  },
  {
   "cell_type": "code",
   "execution_count": 13,
   "metadata": {
    "ExecuteTime": {
     "end_time": "2020-10-18T05:22:19.278735Z",
     "start_time": "2020-10-18T05:22:17.287734Z"
    }
   },
   "outputs": [],
   "source": [
    "crispr_df = pd.read_csv('../../data/crispr/final_crispr.csv.gz', low_memory=False)"
   ]
  },
  {
   "cell_type": "code",
   "execution_count": 17,
   "metadata": {
    "ExecuteTime": {
     "end_time": "2020-10-19T11:20:05.419134Z",
     "start_time": "2020-10-19T11:20:05.416439Z"
    }
   },
   "outputs": [
    {
     "data": {
      "text/plain": [
       "(16827, 515)"
      ]
     },
     "execution_count": 17,
     "metadata": {},
     "output_type": "execute_result"
    }
   ],
   "source": [
    "crispr_df.shape"
   ]
  },
  {
   "cell_type": "code",
   "execution_count": 111,
   "metadata": {
    "ExecuteTime": {
     "end_time": "2020-09-11T05:27:01.537205Z",
     "start_time": "2020-09-11T05:24:29.191600Z"
    }
   },
   "outputs": [],
   "source": [
    "lm_res = pd.read_csv(\"../../result_files/lm/lm_sklearn_degr_crispr_annotated.csv.gz\")"
   ]
  },
  {
   "cell_type": "code",
   "execution_count": 33,
   "metadata": {
    "ExecuteTime": {
     "end_time": "2020-09-08T15:20:12.285210Z",
     "start_time": "2020-09-08T15:20:12.282687Z"
    }
   },
   "outputs": [],
   "source": [
    "# lm_res_old = pd.read_csv(\"../../result_files/lm/lm_sklearn_degr_crispr_annotated_old.csv.gz\")"
   ]
  },
  {
   "cell_type": "code",
   "execution_count": 49,
   "metadata": {
    "ExecuteTime": {
     "end_time": "2020-09-09T00:50:43.220165Z",
     "start_time": "2020-09-09T00:50:43.217438Z"
    }
   },
   "outputs": [
    {
     "name": "stdout",
     "output_type": "stream",
     "text": [
      "588945\n"
     ]
    }
   ],
   "source": [
    "print(lm_res_old.shape[0] - lm_res.shape[0])"
   ]
  },
  {
   "cell_type": "code",
   "execution_count": 50,
   "metadata": {
    "ExecuteTime": {
     "end_time": "2020-09-09T00:50:45.324883Z",
     "start_time": "2020-09-09T00:50:45.280085Z"
    }
   },
   "outputs": [
    {
     "data": {
      "text/plain": [
       "(6745, 15)"
      ]
     },
     "execution_count": 50,
     "metadata": {},
     "output_type": "execute_result"
    }
   ],
   "source": [
    "lm_res[lm_res['fdr']<0.1].shape"
   ]
  },
  {
   "cell_type": "code",
   "execution_count": 51,
   "metadata": {
    "ExecuteTime": {
     "end_time": "2020-09-09T00:50:45.798925Z",
     "start_time": "2020-09-09T00:50:45.740627Z"
    }
   },
   "outputs": [
    {
     "data": {
      "text/plain": [
       "(130278, 17)"
      ]
     },
     "execution_count": 51,
     "metadata": {},
     "output_type": "execute_result"
    }
   ],
   "source": [
    "lm_res_old[lm_res_old['fdr']<0.1].shape"
   ]
  },
  {
   "cell_type": "code",
   "execution_count": 112,
   "metadata": {
    "ExecuteTime": {
     "end_time": "2020-09-11T05:27:02.945063Z",
     "start_time": "2020-09-11T05:27:01.539358Z"
    }
   },
   "outputs": [],
   "source": [
    "lm_res = lm_res[((lm_res['fdr'] < 0.1) | (lm_res['nc_fdr'] < 0.001))\n",
    "                & (lm_res['r2'] > 0.2) & (lm_res['skew'] < -1.5)]\n",
    "lm_res['x_protein'] = lm_res['x_id'].map(rna2protein_map)"
   ]
  },
  {
   "cell_type": "code",
   "execution_count": 114,
   "metadata": {
    "ExecuteTime": {
     "end_time": "2020-09-11T05:27:11.933224Z",
     "start_time": "2020-09-11T05:27:11.929022Z"
    }
   },
   "outputs": [],
   "source": [
    "lm_assoc_list = list(zip(lm_res['y_id'], lm_res['x_id'], lm_res['x_protein']))"
   ]
  },
  {
   "cell_type": "code",
   "execution_count": 74,
   "metadata": {
    "ExecuteTime": {
     "end_time": "2020-09-11T01:15:30.533112Z",
     "start_time": "2020-09-11T01:15:30.489752Z"
    }
   },
   "outputs": [],
   "source": [
    "crispr_df = crispr_df.set_index('Gene')"
   ]
  },
  {
   "cell_type": "code",
   "execution_count": 75,
   "metadata": {
    "ExecuteTime": {
     "end_time": "2020-09-11T01:15:30.681128Z",
     "start_time": "2020-09-11T01:15:30.678684Z"
    }
   },
   "outputs": [],
   "source": [
    "crispr_df = crispr_df.T"
   ]
  },
  {
   "cell_type": "markdown",
   "metadata": {
    "heading_collapsed": true
   },
   "source": [
    "# calculate"
   ]
  },
  {
   "cell_type": "code",
   "execution_count": 115,
   "metadata": {
    "ExecuteTime": {
     "end_time": "2020-09-11T05:27:15.813632Z",
     "start_time": "2020-09-11T05:27:15.811863Z"
    },
    "hidden": true
   },
   "outputs": [],
   "source": [
    "protein_df = protein_ruv\n",
    "rna_df = rna_sample"
   ]
  },
  {
   "cell_type": "code",
   "execution_count": 116,
   "metadata": {
    "ExecuteTime": {
     "end_time": "2020-09-11T05:27:16.573084Z",
     "start_time": "2020-09-11T05:27:16.561634Z"
    },
    "code_folding": [],
    "hidden": true
   },
   "outputs": [],
   "source": [
    "def calc_box(tissue_level=True, step=0.2, tissues=[]):\n",
    "    res_df = []\n",
    "    for gene, rna_target, protein_target in tqdm(lm_assoc_list):\n",
    "        if protein_target not in protein_df.columns or rna_target not in rna_df.columns:\n",
    "            continue\n",
    "        crispr_map = crispr_df[[gene]].to_dict()[gene]\n",
    "        tmp_data_protein = protein_df[[protein_target]]\n",
    "        tmp_data_rna = rna_df[[rna_target]]\n",
    "        tmp_data = pd.merge(tmp_data_protein, tmp_data_rna, on='Cell_line')\n",
    "        tmp_data.loc[:, 'crispr'] = tmp_data.index.map(crispr_map).values\n",
    "        tmp_data.loc[:, 'tissue'] = tmp_data.index.map(tissue_type_map).values\n",
    "        tmp_data = tmp_data.dropna().reset_index(drop=True)\n",
    "\n",
    "        if len(tissues) == 0:\n",
    "            tissues = tmp_data['tissue'].unique()\n",
    "        if tissue_level:\n",
    "            for tissue in tissues:\n",
    "                tmp_data_tissue = tmp_data[tmp_data['tissue'] ==\n",
    "                                           tissue].reset_index(drop=True)\n",
    "                if tmp_data_tissue[protein_target].unique().size < int(\n",
    "                        1 / step) or tmp_data_tissue[rna_target].unique(\n",
    "                        ).size < int(1 / step):\n",
    "                    continue\n",
    "                tmp_data_tissue.loc[:, 'protein_q'] = pd.qcut(\n",
    "                    tmp_data_tissue[protein_target],\n",
    "                    np.arange(0, 1.0001, step),\n",
    "                    duplicates='drop')\n",
    "                tmp_data_tissue.loc[:, 'rna_q'] = pd.qcut(\n",
    "                    tmp_data_tissue[rna_target],\n",
    "                    np.arange(0, 1.0001, step),\n",
    "                    duplicates='drop')\n",
    "\n",
    "                medians = tmp_data_tissue[[\n",
    "                    'protein_q', 'crispr'\n",
    "                ]].groupby('protein_q').median()['crispr'].values\n",
    "                mono = (np.all(medians[1:] >= medians[:-1] - 0.1)\n",
    "                        or np.all(medians[1:] <= medians[:-1] + 0.1))\n",
    "\n",
    "                protein_last_q = tmp_data_tissue[[\n",
    "                    'protein_q', 'crispr'\n",
    "                ]].groupby('protein_q').median()['crispr'].values[-1]\n",
    "\n",
    "                rna_last_q = tmp_data_tissue[[\n",
    "                    'rna_q', 'crispr'\n",
    "                ]].groupby('rna_q').median()['crispr'].values[-1]\n",
    "                protein_first_q = tmp_data_tissue[[\n",
    "                    'protein_q', 'crispr'\n",
    "                ]].groupby('protein_q').median()['crispr'].values[0]\n",
    "                protein_first_nq = tmp_data_tissue[[\n",
    "                    'protein_q', 'crispr'\n",
    "                ]].groupby('protein_q').median()['crispr'].values[:-1]\n",
    "                rna_first_q = tmp_data_tissue[[\n",
    "                    'rna_q', 'crispr'\n",
    "                ]].groupby('rna_q').median()['crispr'].values[0]\n",
    "                rna_first_nq = tmp_data_tissue[[\n",
    "                    'rna_q', 'crispr'\n",
    "                ]].groupby('rna_q').median()['crispr'].values[:-1]\n",
    "                crispr_mean = tmp_data_tissue['crispr'].mean()\n",
    "                p_corr_protein, p_pval_protein = pearsonr(\n",
    "                    tmp_data_tissue['crispr'], tmp_data_tissue[protein_target])\n",
    "                p_corr_rna, p_pval_rna = pearsonr(\n",
    "                    tmp_data_tissue['crispr'], tmp_data_tissue[rna_target])\n",
    "                counts = tmp_data_tissue.shape[0]\n",
    "                res_df.append({\n",
    "                    'Gene': gene,\n",
    "                    'protein': protein_target,\n",
    "                    'tissue': tissue,\n",
    "                    'protein_first_q': protein_first_q - crispr_mean,\n",
    "                    'protein_last_q': protein_last_q - crispr_mean,\n",
    "                    'rna_first_q': rna_first_q - crispr_mean,\n",
    "                    'rna_last_q': rna_last_q - crispr_mean,\n",
    "                    'protein_first_nq_std': np.std(protein_first_nq),\n",
    "                    'rna_first_nq_std': np.std(rna_first_nq),\n",
    "                    'crispr_mean': crispr_mean,\n",
    "                    'mono': mono,\n",
    "                    'p_corr_protein': p_corr_protein,\n",
    "                    'p_pval_protein': p_pval_protein,\n",
    "                    'p_corr_rna': p_corr_rna,\n",
    "                    'p_pval_rna': p_pval_rna,\n",
    "                    'counts': counts\n",
    "                })\n",
    "    res_df = pd.DataFrame(res_df)\n",
    "    return res_df"
   ]
  },
  {
   "cell_type": "code",
   "execution_count": 117,
   "metadata": {
    "ExecuteTime": {
     "end_time": "2020-09-11T05:41:57.126472Z",
     "start_time": "2020-09-11T05:27:18.974636Z"
    },
    "hidden": true
   },
   "outputs": [
    {
     "data": {
      "application/vnd.jupyter.widget-view+json": {
       "model_id": "8d68d1c915114f14ba0dad3080432c00",
       "version_major": 2,
       "version_minor": 0
      },
      "text/plain": [
       "HBox(children=(FloatProgress(value=0.0, max=2978.0), HTML(value='')))"
      ]
     },
     "metadata": {},
     "output_type": "display_data"
    },
    {
     "name": "stdout",
     "output_type": "stream",
     "text": [
      "\n"
     ]
    }
   ],
   "source": [
    "res_df = calc_box(tissue_level=True, step=0.2)\n",
    "\n",
    "res_df['last_q_delta'] = np.abs(\n",
    "    res_df['rna_last_q'] -\n",
    "    res_df['protein_last_q'])\n",
    "\n",
    "res_df.to_csv(\"../../result_files/box_plot_tissues_5q_crispr_10pc_nc.csv\", index=False)"
   ]
  },
  {
   "cell_type": "markdown",
   "metadata": {},
   "source": [
    "# analysis"
   ]
  },
  {
   "cell_type": "code",
   "execution_count": 2,
   "metadata": {
    "ExecuteTime": {
     "end_time": "2020-10-18T05:21:59.120361Z",
     "start_time": "2020-10-18T05:21:58.953982Z"
    }
   },
   "outputs": [],
   "source": [
    "res_df = pd.read_csv(\"../../result_files/box_plot_tissues_5q_crispr_10pc_nc.csv\")"
   ]
  },
  {
   "cell_type": "code",
   "execution_count": 119,
   "metadata": {
    "ExecuteTime": {
     "end_time": "2020-09-11T05:45:03.133715Z",
     "start_time": "2020-09-11T05:45:03.103847Z"
    }
   },
   "outputs": [],
   "source": [
    "res_df = pd.merge(\n",
    "    res_df,\n",
    "    lm_res[['y_id', 'x_protein', 'x_id', 'fdr', 'nc_beta', 'nc_fdr', 'beta', 'skew', 'ppi', 'r2']],\n",
    "    left_on=['Gene', 'protein'],\n",
    "    right_on=['y_id', 'x_protein'])"
   ]
  },
  {
   "cell_type": "code",
   "execution_count": 120,
   "metadata": {
    "ExecuteTime": {
     "end_time": "2020-09-11T05:45:03.536827Z",
     "start_time": "2020-09-11T05:45:03.525260Z"
    }
   },
   "outputs": [],
   "source": [
    "corr_dict_merged = pd.read_csv(\"../../data/protein_rna_correlations.csv\")\n",
    "\n",
    "target_proteins = corr_dict_merged[corr_dict_merged['corr_diff'].abs(\n",
    ") < 0.2].sort_values('corr_avg').head(2000)['protein'].values"
   ]
  },
  {
   "cell_type": "code",
   "execution_count": 121,
   "metadata": {
    "ExecuteTime": {
     "end_time": "2020-09-11T05:45:04.044824Z",
     "start_time": "2020-09-11T05:45:04.041442Z"
    }
   },
   "outputs": [],
   "source": [
    "res_df['corr_diff'] = res_df['p_corr_protein'].abs() - res_df['p_corr_rna'].abs()"
   ]
  },
  {
   "cell_type": "code",
   "execution_count": 126,
   "metadata": {
    "ExecuteTime": {
     "end_time": "2020-09-11T05:46:52.966437Z",
     "start_time": "2020-09-11T05:46:52.956087Z"
    }
   },
   "outputs": [],
   "source": [
    "crispr_res_filtered = res_df[(res_df['protein'].isin(target_proteins))\n",
    "                             & (res_df['p_pval_protein'] < 0.05)\n",
    "                             & (res_df['skew'] < -2) &\n",
    "                             (res_df['corr_diff'] > 0.15) &\n",
    "                             (res_df['counts'] > 20) &\n",
    "                             (res_df['mono'] == True)].sort_values(\n",
    "                                 'corr_diff', ascending=False)[[\n",
    "                                     'Gene', 'protein', 'x_id', 'beta', 'fdr',\n",
    "                                     'nc_beta', 'nc_fdr', 'ppi', 'r2',\n",
    "                                     'tissue', 'p_corr_protein',\n",
    "                                     'p_pval_protein', 'corr_diff', 'counts',\n",
    "                                     'skew'\n",
    "                                 ]].reset_index(drop=True)"
   ]
  },
  {
   "cell_type": "code",
   "execution_count": 109,
   "metadata": {
    "ExecuteTime": {
     "end_time": "2020-09-11T05:20:42.531651Z",
     "start_time": "2020-09-11T05:20:42.519622Z"
    }
   },
   "outputs": [
    {
     "data": {
      "text/html": [
       "<div>\n",
       "<style scoped>\n",
       "    .dataframe tbody tr th:only-of-type {\n",
       "        vertical-align: middle;\n",
       "    }\n",
       "\n",
       "    .dataframe tbody tr th {\n",
       "        vertical-align: top;\n",
       "    }\n",
       "\n",
       "    .dataframe thead th {\n",
       "        text-align: right;\n",
       "    }\n",
       "</style>\n",
       "<table border=\"1\" class=\"dataframe\">\n",
       "  <thead>\n",
       "    <tr style=\"text-align: right;\">\n",
       "      <th></th>\n",
       "      <th>y_id</th>\n",
       "      <th>x_id</th>\n",
       "      <th>n</th>\n",
       "      <th>beta</th>\n",
       "      <th>lr</th>\n",
       "      <th>covs</th>\n",
       "      <th>pval</th>\n",
       "      <th>fdr</th>\n",
       "      <th>nc_beta</th>\n",
       "      <th>nc_lr</th>\n",
       "      <th>nc_pval</th>\n",
       "      <th>nc_fdr</th>\n",
       "      <th>r2</th>\n",
       "      <th>ppi</th>\n",
       "      <th>skew</th>\n",
       "      <th>x_protein</th>\n",
       "    </tr>\n",
       "  </thead>\n",
       "  <tbody>\n",
       "  </tbody>\n",
       "</table>\n",
       "</div>"
      ],
      "text/plain": [
       "Empty DataFrame\n",
       "Columns: [y_id, x_id, n, beta, lr, covs, pval, fdr, nc_beta, nc_lr, nc_pval, nc_fdr, r2, ppi, skew, x_protein]\n",
       "Index: []"
      ]
     },
     "execution_count": 109,
     "metadata": {},
     "output_type": "execute_result"
    }
   ],
   "source": [
    "lm_res.query(\"y_id == 'ERBB2' and x_id == 'MRPL58'\")"
   ]
  },
  {
   "cell_type": "code",
   "execution_count": 128,
   "metadata": {
    "ExecuteTime": {
     "end_time": "2020-09-11T05:47:00.330200Z",
     "start_time": "2020-09-11T05:47:00.321062Z"
    }
   },
   "outputs": [],
   "source": [
    "crispr_res_filtered.to_csv(\"../../result_files/crispr/crispr_tissue_associations_filtered_10pc_nc.csv\", index=False)"
   ]
  },
  {
   "cell_type": "code",
   "execution_count": 123,
   "metadata": {
    "ExecuteTime": {
     "end_time": "2020-09-11T05:45:06.496576Z",
     "start_time": "2020-09-11T05:45:06.476888Z"
    },
    "scrolled": false
   },
   "outputs": [
    {
     "data": {
      "text/html": [
       "<div>\n",
       "<style scoped>\n",
       "    .dataframe tbody tr th:only-of-type {\n",
       "        vertical-align: middle;\n",
       "    }\n",
       "\n",
       "    .dataframe tbody tr th {\n",
       "        vertical-align: top;\n",
       "    }\n",
       "\n",
       "    .dataframe thead th {\n",
       "        text-align: right;\n",
       "    }\n",
       "</style>\n",
       "<table border=\"1\" class=\"dataframe\">\n",
       "  <thead>\n",
       "    <tr style=\"text-align: right;\">\n",
       "      <th></th>\n",
       "      <th>Gene</th>\n",
       "      <th>protein</th>\n",
       "      <th>x_id</th>\n",
       "      <th>beta</th>\n",
       "      <th>fdr</th>\n",
       "      <th>nc_beta</th>\n",
       "      <th>nc_fdr</th>\n",
       "      <th>ppi</th>\n",
       "      <th>r2</th>\n",
       "      <th>tissue</th>\n",
       "      <th>p_corr_protein</th>\n",
       "      <th>p_pval_protein</th>\n",
       "      <th>corr_diff</th>\n",
       "      <th>counts</th>\n",
       "      <th>skew</th>\n",
       "    </tr>\n",
       "  </thead>\n",
       "  <tbody>\n",
       "    <tr>\n",
       "      <th>0</th>\n",
       "      <td>FOXA1</td>\n",
       "      <td>BASI_HUMAN</td>\n",
       "      <td>BSG</td>\n",
       "      <td>0.175898</td>\n",
       "      <td>0.000127</td>\n",
       "      <td>0.299393</td>\n",
       "      <td>9.783278e-16</td>\n",
       "      <td>3</td>\n",
       "      <td>0.477842</td>\n",
       "      <td>Breast</td>\n",
       "      <td>0.757430</td>\n",
       "      <td>5.206610e-07</td>\n",
       "      <td>0.742224</td>\n",
       "      <td>32</td>\n",
       "      <td>-4.420529</td>\n",
       "    </tr>\n",
       "    <tr>\n",
       "      <th>1</th>\n",
       "      <td>ZSWIM7</td>\n",
       "      <td>BAZ1B_HUMAN</td>\n",
       "      <td>BAZ1B</td>\n",
       "      <td>-0.130831</td>\n",
       "      <td>0.020890</td>\n",
       "      <td>-0.097165</td>\n",
       "      <td>8.936012e-02</td>\n",
       "      <td>3</td>\n",
       "      <td>0.237547</td>\n",
       "      <td>Breast</td>\n",
       "      <td>-0.836342</td>\n",
       "      <td>4.657935e-09</td>\n",
       "      <td>0.634648</td>\n",
       "      <td>31</td>\n",
       "      <td>-2.198937</td>\n",
       "    </tr>\n",
       "    <tr>\n",
       "      <th>2</th>\n",
       "      <td>MYT1</td>\n",
       "      <td>SSRA_HUMAN</td>\n",
       "      <td>SSR1</td>\n",
       "      <td>0.045142</td>\n",
       "      <td>0.827471</td>\n",
       "      <td>0.077990</td>\n",
       "      <td>9.024594e-04</td>\n",
       "      <td>3</td>\n",
       "      <td>0.339374</td>\n",
       "      <td>Peripheral Nervous System</td>\n",
       "      <td>0.615107</td>\n",
       "      <td>3.000349e-03</td>\n",
       "      <td>0.608756</td>\n",
       "      <td>21</td>\n",
       "      <td>-3.100939</td>\n",
       "    </tr>\n",
       "    <tr>\n",
       "      <th>3</th>\n",
       "      <td>PHOX2A</td>\n",
       "      <td>CHAP1_HUMAN</td>\n",
       "      <td>CHAMP1</td>\n",
       "      <td>-0.121986</td>\n",
       "      <td>0.727387</td>\n",
       "      <td>-0.180697</td>\n",
       "      <td>4.944509e-05</td>\n",
       "      <td>-</td>\n",
       "      <td>0.672565</td>\n",
       "      <td>Peripheral Nervous System</td>\n",
       "      <td>-0.627329</td>\n",
       "      <td>2.334525e-03</td>\n",
       "      <td>0.607119</td>\n",
       "      <td>21</td>\n",
       "      <td>-4.181047</td>\n",
       "    </tr>\n",
       "    <tr>\n",
       "      <th>4</th>\n",
       "      <td>UXS1</td>\n",
       "      <td>AN32A_HUMAN</td>\n",
       "      <td>ANP32A</td>\n",
       "      <td>-0.122185</td>\n",
       "      <td>0.056219</td>\n",
       "      <td>-0.094637</td>\n",
       "      <td>1.001123e-01</td>\n",
       "      <td>5+</td>\n",
       "      <td>0.446563</td>\n",
       "      <td>Esophagus</td>\n",
       "      <td>-0.703667</td>\n",
       "      <td>1.437720e-05</td>\n",
       "      <td>0.593184</td>\n",
       "      <td>30</td>\n",
       "      <td>-1.860715</td>\n",
       "    </tr>\n",
       "    <tr>\n",
       "      <th>...</th>\n",
       "      <td>...</td>\n",
       "      <td>...</td>\n",
       "      <td>...</td>\n",
       "      <td>...</td>\n",
       "      <td>...</td>\n",
       "      <td>...</td>\n",
       "      <td>...</td>\n",
       "      <td>...</td>\n",
       "      <td>...</td>\n",
       "      <td>...</td>\n",
       "      <td>...</td>\n",
       "      <td>...</td>\n",
       "      <td>...</td>\n",
       "      <td>...</td>\n",
       "      <td>...</td>\n",
       "    </tr>\n",
       "    <tr>\n",
       "      <th>617</th>\n",
       "      <td>EGFR</td>\n",
       "      <td>CC124_HUMAN</td>\n",
       "      <td>CCDC124</td>\n",
       "      <td>0.035351</td>\n",
       "      <td>0.954396</td>\n",
       "      <td>0.241137</td>\n",
       "      <td>2.642568e-06</td>\n",
       "      <td>-</td>\n",
       "      <td>0.593320</td>\n",
       "      <td>Head and Neck</td>\n",
       "      <td>0.540291</td>\n",
       "      <td>5.301404e-03</td>\n",
       "      <td>0.152100</td>\n",
       "      <td>25</td>\n",
       "      <td>-1.779083</td>\n",
       "    </tr>\n",
       "    <tr>\n",
       "      <th>618</th>\n",
       "      <td>ISL1</td>\n",
       "      <td>SGTA_HUMAN</td>\n",
       "      <td>SGTA</td>\n",
       "      <td>-0.060009</td>\n",
       "      <td>0.303999</td>\n",
       "      <td>-0.115676</td>\n",
       "      <td>9.242534e-07</td>\n",
       "      <td>5+</td>\n",
       "      <td>0.783923</td>\n",
       "      <td>Ovary</td>\n",
       "      <td>-0.468800</td>\n",
       "      <td>7.809979e-03</td>\n",
       "      <td>0.151979</td>\n",
       "      <td>31</td>\n",
       "      <td>-3.899070</td>\n",
       "    </tr>\n",
       "    <tr>\n",
       "      <th>619</th>\n",
       "      <td>CDH2</td>\n",
       "      <td>CLIC1_HUMAN</td>\n",
       "      <td>CLIC1</td>\n",
       "      <td>-0.047665</td>\n",
       "      <td>0.452007</td>\n",
       "      <td>-0.091456</td>\n",
       "      <td>2.387451e-04</td>\n",
       "      <td>4</td>\n",
       "      <td>0.568942</td>\n",
       "      <td>Head and Neck</td>\n",
       "      <td>-0.451211</td>\n",
       "      <td>5.743601e-03</td>\n",
       "      <td>0.151474</td>\n",
       "      <td>36</td>\n",
       "      <td>-1.804825</td>\n",
       "    </tr>\n",
       "    <tr>\n",
       "      <th>620</th>\n",
       "      <td>FOXA1</td>\n",
       "      <td>PPIA_HUMAN</td>\n",
       "      <td>PPIA</td>\n",
       "      <td>-0.046444</td>\n",
       "      <td>0.524185</td>\n",
       "      <td>-0.108310</td>\n",
       "      <td>4.936943e-04</td>\n",
       "      <td>3</td>\n",
       "      <td>0.477842</td>\n",
       "      <td>Peripheral Nervous System</td>\n",
       "      <td>0.568033</td>\n",
       "      <td>7.224653e-03</td>\n",
       "      <td>0.150834</td>\n",
       "      <td>21</td>\n",
       "      <td>-4.420529</td>\n",
       "    </tr>\n",
       "    <tr>\n",
       "      <th>621</th>\n",
       "      <td>UXS1</td>\n",
       "      <td>SUCA_HUMAN</td>\n",
       "      <td>SUCLG1</td>\n",
       "      <td>-0.179241</td>\n",
       "      <td>0.290580</td>\n",
       "      <td>-0.303912</td>\n",
       "      <td>9.592936e-07</td>\n",
       "      <td>5+</td>\n",
       "      <td>0.446563</td>\n",
       "      <td>Ovary</td>\n",
       "      <td>-0.447735</td>\n",
       "      <td>8.980584e-03</td>\n",
       "      <td>0.150591</td>\n",
       "      <td>33</td>\n",
       "      <td>-1.860715</td>\n",
       "    </tr>\n",
       "  </tbody>\n",
       "</table>\n",
       "<p>622 rows × 15 columns</p>\n",
       "</div>"
      ],
      "text/plain": [
       "       Gene      protein     x_id      beta       fdr   nc_beta        nc_fdr  \\\n",
       "0     FOXA1   BASI_HUMAN      BSG  0.175898  0.000127  0.299393  9.783278e-16   \n",
       "1    ZSWIM7  BAZ1B_HUMAN    BAZ1B -0.130831  0.020890 -0.097165  8.936012e-02   \n",
       "2      MYT1   SSRA_HUMAN     SSR1  0.045142  0.827471  0.077990  9.024594e-04   \n",
       "3    PHOX2A  CHAP1_HUMAN   CHAMP1 -0.121986  0.727387 -0.180697  4.944509e-05   \n",
       "4      UXS1  AN32A_HUMAN   ANP32A -0.122185  0.056219 -0.094637  1.001123e-01   \n",
       "..      ...          ...      ...       ...       ...       ...           ...   \n",
       "617    EGFR  CC124_HUMAN  CCDC124  0.035351  0.954396  0.241137  2.642568e-06   \n",
       "618    ISL1   SGTA_HUMAN     SGTA -0.060009  0.303999 -0.115676  9.242534e-07   \n",
       "619    CDH2  CLIC1_HUMAN    CLIC1 -0.047665  0.452007 -0.091456  2.387451e-04   \n",
       "620   FOXA1   PPIA_HUMAN     PPIA -0.046444  0.524185 -0.108310  4.936943e-04   \n",
       "621    UXS1   SUCA_HUMAN   SUCLG1 -0.179241  0.290580 -0.303912  9.592936e-07   \n",
       "\n",
       "    ppi        r2                     tissue  p_corr_protein  p_pval_protein  \\\n",
       "0     3  0.477842                     Breast        0.757430    5.206610e-07   \n",
       "1     3  0.237547                     Breast       -0.836342    4.657935e-09   \n",
       "2     3  0.339374  Peripheral Nervous System        0.615107    3.000349e-03   \n",
       "3     -  0.672565  Peripheral Nervous System       -0.627329    2.334525e-03   \n",
       "4    5+  0.446563                  Esophagus       -0.703667    1.437720e-05   \n",
       "..   ..       ...                        ...             ...             ...   \n",
       "617   -  0.593320              Head and Neck        0.540291    5.301404e-03   \n",
       "618  5+  0.783923                      Ovary       -0.468800    7.809979e-03   \n",
       "619   4  0.568942              Head and Neck       -0.451211    5.743601e-03   \n",
       "620   3  0.477842  Peripheral Nervous System        0.568033    7.224653e-03   \n",
       "621  5+  0.446563                      Ovary       -0.447735    8.980584e-03   \n",
       "\n",
       "     corr_diff  counts      skew  \n",
       "0     0.742224      32 -4.420529  \n",
       "1     0.634648      31 -2.198937  \n",
       "2     0.608756      21 -3.100939  \n",
       "3     0.607119      21 -4.181047  \n",
       "4     0.593184      30 -1.860715  \n",
       "..         ...     ...       ...  \n",
       "617   0.152100      25 -1.779083  \n",
       "618   0.151979      31 -3.899070  \n",
       "619   0.151474      36 -1.804825  \n",
       "620   0.150834      21 -4.420529  \n",
       "621   0.150591      33 -1.860715  \n",
       "\n",
       "[622 rows x 15 columns]"
      ]
     },
     "execution_count": 123,
     "metadata": {},
     "output_type": "execute_result"
    }
   ],
   "source": [
    "crispr_res_filtered"
   ]
  },
  {
   "cell_type": "code",
   "execution_count": 129,
   "metadata": {
    "ExecuteTime": {
     "end_time": "2020-09-11T05:47:25.633131Z",
     "start_time": "2020-09-11T05:47:25.629034Z"
    }
   },
   "outputs": [
    {
     "data": {
      "text/plain": [
       "Gene                           EGFR\n",
       "protein                  ICT1_HUMAN\n",
       "tissue                       Breast\n",
       "protein_first_q           0.0340941\n",
       "protein_last_q          -0.00567594\n",
       "rna_first_q               0.0340941\n",
       "rna_last_q                0.0820041\n",
       "protein_first_nq_std      0.0678297\n",
       "rna_first_nq_std          0.0581552\n",
       "crispr_mean               0.0720659\n",
       "mono                           True\n",
       "p_corr_protein           -0.0869999\n",
       "p_pval_protein             0.635882\n",
       "p_corr_rna                -0.123741\n",
       "p_pval_rna                 0.499845\n",
       "counts                           32\n",
       "last_q_delta                0.08768\n",
       "y_id                           EGFR\n",
       "x_protein                ICT1_HUMAN\n",
       "x_id                         MRPL58\n",
       "fdr                        0.803743\n",
       "nc_beta                   -0.381459\n",
       "nc_fdr                  8.74918e-05\n",
       "beta                     -0.0965041\n",
       "skew                       -1.77908\n",
       "ppi                               -\n",
       "r2                          0.59332\n",
       "corr_diff                -0.0367406\n",
       "Name: 27340, dtype: object"
      ]
     },
     "execution_count": 129,
     "metadata": {},
     "output_type": "execute_result"
    }
   ],
   "source": [
    "res_df.iloc[27340,:]"
   ]
  },
  {
   "cell_type": "code",
   "execution_count": 125,
   "metadata": {
    "ExecuteTime": {
     "end_time": "2020-09-11T05:45:46.533237Z",
     "start_time": "2020-09-11T05:45:46.501946Z"
    }
   },
   "outputs": [
    {
     "data": {
      "text/html": [
       "<div>\n",
       "<style scoped>\n",
       "    .dataframe tbody tr th:only-of-type {\n",
       "        vertical-align: middle;\n",
       "    }\n",
       "\n",
       "    .dataframe tbody tr th {\n",
       "        vertical-align: top;\n",
       "    }\n",
       "\n",
       "    .dataframe thead th {\n",
       "        text-align: right;\n",
       "    }\n",
       "</style>\n",
       "<table border=\"1\" class=\"dataframe\">\n",
       "  <thead>\n",
       "    <tr style=\"text-align: right;\">\n",
       "      <th></th>\n",
       "      <th>Gene</th>\n",
       "      <th>protein</th>\n",
       "      <th>tissue</th>\n",
       "      <th>protein_first_q</th>\n",
       "      <th>protein_last_q</th>\n",
       "      <th>rna_first_q</th>\n",
       "      <th>rna_last_q</th>\n",
       "      <th>protein_first_nq_std</th>\n",
       "      <th>rna_first_nq_std</th>\n",
       "      <th>crispr_mean</th>\n",
       "      <th>...</th>\n",
       "      <th>x_protein</th>\n",
       "      <th>x_id</th>\n",
       "      <th>fdr</th>\n",
       "      <th>nc_beta</th>\n",
       "      <th>nc_fdr</th>\n",
       "      <th>beta</th>\n",
       "      <th>skew</th>\n",
       "      <th>ppi</th>\n",
       "      <th>r2</th>\n",
       "      <th>corr_diff</th>\n",
       "    </tr>\n",
       "  </thead>\n",
       "  <tbody>\n",
       "    <tr>\n",
       "      <th>27330</th>\n",
       "      <td>EGFR</td>\n",
       "      <td>ICT1_HUMAN</td>\n",
       "      <td>Stomach</td>\n",
       "      <td>0.134340</td>\n",
       "      <td>0.046140</td>\n",
       "      <td>-0.089410</td>\n",
       "      <td>0.056260</td>\n",
       "      <td>0.033455</td>\n",
       "      <td>0.103001</td>\n",
       "      <td>-0.133195</td>\n",
       "      <td>...</td>\n",
       "      <td>ICT1_HUMAN</td>\n",
       "      <td>MRPL58</td>\n",
       "      <td>0.803743</td>\n",
       "      <td>-0.381459</td>\n",
       "      <td>0.000087</td>\n",
       "      <td>-0.096504</td>\n",
       "      <td>-1.779083</td>\n",
       "      <td>-</td>\n",
       "      <td>0.59332</td>\n",
       "      <td>0.021410</td>\n",
       "    </tr>\n",
       "    <tr>\n",
       "      <th>27331</th>\n",
       "      <td>EGFR</td>\n",
       "      <td>ICT1_HUMAN</td>\n",
       "      <td>Central Nervous System</td>\n",
       "      <td>0.040396</td>\n",
       "      <td>-0.004684</td>\n",
       "      <td>0.003936</td>\n",
       "      <td>-0.004684</td>\n",
       "      <td>0.024147</td>\n",
       "      <td>0.000282</td>\n",
       "      <td>0.079154</td>\n",
       "      <td>...</td>\n",
       "      <td>ICT1_HUMAN</td>\n",
       "      <td>MRPL58</td>\n",
       "      <td>0.803743</td>\n",
       "      <td>-0.381459</td>\n",
       "      <td>0.000087</td>\n",
       "      <td>-0.096504</td>\n",
       "      <td>-1.779083</td>\n",
       "      <td>-</td>\n",
       "      <td>0.59332</td>\n",
       "      <td>0.226553</td>\n",
       "    </tr>\n",
       "    <tr>\n",
       "      <th>27332</th>\n",
       "      <td>EGFR</td>\n",
       "      <td>ICT1_HUMAN</td>\n",
       "      <td>Bladder</td>\n",
       "      <td>0.331965</td>\n",
       "      <td>0.299895</td>\n",
       "      <td>0.327665</td>\n",
       "      <td>-0.453105</td>\n",
       "      <td>0.250366</td>\n",
       "      <td>0.163781</td>\n",
       "      <td>-0.238745</td>\n",
       "      <td>...</td>\n",
       "      <td>ICT1_HUMAN</td>\n",
       "      <td>MRPL58</td>\n",
       "      <td>0.803743</td>\n",
       "      <td>-0.381459</td>\n",
       "      <td>0.000087</td>\n",
       "      <td>-0.096504</td>\n",
       "      <td>-1.779083</td>\n",
       "      <td>-</td>\n",
       "      <td>0.59332</td>\n",
       "      <td>-0.127731</td>\n",
       "    </tr>\n",
       "    <tr>\n",
       "      <th>27333</th>\n",
       "      <td>EGFR</td>\n",
       "      <td>ICT1_HUMAN</td>\n",
       "      <td>Kidney</td>\n",
       "      <td>0.012799</td>\n",
       "      <td>0.418059</td>\n",
       "      <td>-0.142951</td>\n",
       "      <td>0.012799</td>\n",
       "      <td>0.227147</td>\n",
       "      <td>0.127828</td>\n",
       "      <td>-0.149049</td>\n",
       "      <td>...</td>\n",
       "      <td>ICT1_HUMAN</td>\n",
       "      <td>MRPL58</td>\n",
       "      <td>0.803743</td>\n",
       "      <td>-0.381459</td>\n",
       "      <td>0.000087</td>\n",
       "      <td>-0.096504</td>\n",
       "      <td>-1.779083</td>\n",
       "      <td>-</td>\n",
       "      <td>0.59332</td>\n",
       "      <td>-0.250995</td>\n",
       "    </tr>\n",
       "    <tr>\n",
       "      <th>27334</th>\n",
       "      <td>EGFR</td>\n",
       "      <td>ICT1_HUMAN</td>\n",
       "      <td>Skin</td>\n",
       "      <td>-0.016001</td>\n",
       "      <td>-0.024766</td>\n",
       "      <td>0.091505</td>\n",
       "      <td>0.108730</td>\n",
       "      <td>0.031999</td>\n",
       "      <td>0.091681</td>\n",
       "      <td>0.086876</td>\n",
       "      <td>...</td>\n",
       "      <td>ICT1_HUMAN</td>\n",
       "      <td>MRPL58</td>\n",
       "      <td>0.803743</td>\n",
       "      <td>-0.381459</td>\n",
       "      <td>0.000087</td>\n",
       "      <td>-0.096504</td>\n",
       "      <td>-1.779083</td>\n",
       "      <td>-</td>\n",
       "      <td>0.59332</td>\n",
       "      <td>-0.086930</td>\n",
       "    </tr>\n",
       "    <tr>\n",
       "      <th>27335</th>\n",
       "      <td>EGFR</td>\n",
       "      <td>ICT1_HUMAN</td>\n",
       "      <td>Head and Neck</td>\n",
       "      <td>0.149397</td>\n",
       "      <td>-0.070633</td>\n",
       "      <td>-0.016903</td>\n",
       "      <td>0.229247</td>\n",
       "      <td>0.257930</td>\n",
       "      <td>0.123227</td>\n",
       "      <td>-0.467897</td>\n",
       "      <td>...</td>\n",
       "      <td>ICT1_HUMAN</td>\n",
       "      <td>MRPL58</td>\n",
       "      <td>0.803743</td>\n",
       "      <td>-0.381459</td>\n",
       "      <td>0.000087</td>\n",
       "      <td>-0.096504</td>\n",
       "      <td>-1.779083</td>\n",
       "      <td>-</td>\n",
       "      <td>0.59332</td>\n",
       "      <td>0.177330</td>\n",
       "    </tr>\n",
       "    <tr>\n",
       "      <th>27336</th>\n",
       "      <td>EGFR</td>\n",
       "      <td>ICT1_HUMAN</td>\n",
       "      <td>Ovary</td>\n",
       "      <td>0.112034</td>\n",
       "      <td>0.069604</td>\n",
       "      <td>0.017434</td>\n",
       "      <td>0.108954</td>\n",
       "      <td>0.038510</td>\n",
       "      <td>0.055349</td>\n",
       "      <td>-0.085094</td>\n",
       "      <td>...</td>\n",
       "      <td>ICT1_HUMAN</td>\n",
       "      <td>MRPL58</td>\n",
       "      <td>0.803743</td>\n",
       "      <td>-0.381459</td>\n",
       "      <td>0.000087</td>\n",
       "      <td>-0.096504</td>\n",
       "      <td>-1.779083</td>\n",
       "      <td>-</td>\n",
       "      <td>0.59332</td>\n",
       "      <td>0.208921</td>\n",
       "    </tr>\n",
       "    <tr>\n",
       "      <th>27337</th>\n",
       "      <td>EGFR</td>\n",
       "      <td>ICT1_HUMAN</td>\n",
       "      <td>Haematopoietic and Lymphoid</td>\n",
       "      <td>0.079786</td>\n",
       "      <td>-0.031804</td>\n",
       "      <td>0.053811</td>\n",
       "      <td>-0.047334</td>\n",
       "      <td>0.048147</td>\n",
       "      <td>0.041426</td>\n",
       "      <td>0.133984</td>\n",
       "      <td>...</td>\n",
       "      <td>ICT1_HUMAN</td>\n",
       "      <td>MRPL58</td>\n",
       "      <td>0.803743</td>\n",
       "      <td>-0.381459</td>\n",
       "      <td>0.000087</td>\n",
       "      <td>-0.096504</td>\n",
       "      <td>-1.779083</td>\n",
       "      <td>-</td>\n",
       "      <td>0.59332</td>\n",
       "      <td>0.110935</td>\n",
       "    </tr>\n",
       "    <tr>\n",
       "      <th>27338</th>\n",
       "      <td>EGFR</td>\n",
       "      <td>ICT1_HUMAN</td>\n",
       "      <td>Lung</td>\n",
       "      <td>0.169610</td>\n",
       "      <td>0.039840</td>\n",
       "      <td>0.165350</td>\n",
       "      <td>0.106410</td>\n",
       "      <td>0.031497</td>\n",
       "      <td>0.055359</td>\n",
       "      <td>-0.085990</td>\n",
       "      <td>...</td>\n",
       "      <td>ICT1_HUMAN</td>\n",
       "      <td>MRPL58</td>\n",
       "      <td>0.803743</td>\n",
       "      <td>-0.381459</td>\n",
       "      <td>0.000087</td>\n",
       "      <td>-0.096504</td>\n",
       "      <td>-1.779083</td>\n",
       "      <td>-</td>\n",
       "      <td>0.59332</td>\n",
       "      <td>0.119463</td>\n",
       "    </tr>\n",
       "    <tr>\n",
       "      <th>27339</th>\n",
       "      <td>EGFR</td>\n",
       "      <td>ICT1_HUMAN</td>\n",
       "      <td>Bone</td>\n",
       "      <td>0.045993</td>\n",
       "      <td>-0.018617</td>\n",
       "      <td>0.043158</td>\n",
       "      <td>-0.018617</td>\n",
       "      <td>0.068384</td>\n",
       "      <td>0.065862</td>\n",
       "      <td>0.092172</td>\n",
       "      <td>...</td>\n",
       "      <td>ICT1_HUMAN</td>\n",
       "      <td>MRPL58</td>\n",
       "      <td>0.803743</td>\n",
       "      <td>-0.381459</td>\n",
       "      <td>0.000087</td>\n",
       "      <td>-0.096504</td>\n",
       "      <td>-1.779083</td>\n",
       "      <td>-</td>\n",
       "      <td>0.59332</td>\n",
       "      <td>0.012315</td>\n",
       "    </tr>\n",
       "    <tr>\n",
       "      <th>27340</th>\n",
       "      <td>EGFR</td>\n",
       "      <td>ICT1_HUMAN</td>\n",
       "      <td>Breast</td>\n",
       "      <td>0.034094</td>\n",
       "      <td>-0.005676</td>\n",
       "      <td>0.034094</td>\n",
       "      <td>0.082004</td>\n",
       "      <td>0.067830</td>\n",
       "      <td>0.058155</td>\n",
       "      <td>0.072066</td>\n",
       "      <td>...</td>\n",
       "      <td>ICT1_HUMAN</td>\n",
       "      <td>MRPL58</td>\n",
       "      <td>0.803743</td>\n",
       "      <td>-0.381459</td>\n",
       "      <td>0.000087</td>\n",
       "      <td>-0.096504</td>\n",
       "      <td>-1.779083</td>\n",
       "      <td>-</td>\n",
       "      <td>0.59332</td>\n",
       "      <td>-0.036741</td>\n",
       "    </tr>\n",
       "    <tr>\n",
       "      <th>27341</th>\n",
       "      <td>EGFR</td>\n",
       "      <td>ICT1_HUMAN</td>\n",
       "      <td>Pancreas</td>\n",
       "      <td>0.020092</td>\n",
       "      <td>-0.185908</td>\n",
       "      <td>0.032057</td>\n",
       "      <td>0.058032</td>\n",
       "      <td>0.043566</td>\n",
       "      <td>0.186038</td>\n",
       "      <td>-0.166292</td>\n",
       "      <td>...</td>\n",
       "      <td>ICT1_HUMAN</td>\n",
       "      <td>MRPL58</td>\n",
       "      <td>0.803743</td>\n",
       "      <td>-0.381459</td>\n",
       "      <td>0.000087</td>\n",
       "      <td>-0.096504</td>\n",
       "      <td>-1.779083</td>\n",
       "      <td>-</td>\n",
       "      <td>0.59332</td>\n",
       "      <td>0.014009</td>\n",
       "    </tr>\n",
       "    <tr>\n",
       "      <th>27342</th>\n",
       "      <td>EGFR</td>\n",
       "      <td>ICT1_HUMAN</td>\n",
       "      <td>Peripheral Nervous System</td>\n",
       "      <td>0.131103</td>\n",
       "      <td>-0.016027</td>\n",
       "      <td>0.058023</td>\n",
       "      <td>0.081203</td>\n",
       "      <td>0.134174</td>\n",
       "      <td>0.031158</td>\n",
       "      <td>0.061347</td>\n",
       "      <td>...</td>\n",
       "      <td>ICT1_HUMAN</td>\n",
       "      <td>MRPL58</td>\n",
       "      <td>0.803743</td>\n",
       "      <td>-0.381459</td>\n",
       "      <td>0.000087</td>\n",
       "      <td>-0.096504</td>\n",
       "      <td>-1.779083</td>\n",
       "      <td>-</td>\n",
       "      <td>0.59332</td>\n",
       "      <td>0.213563</td>\n",
       "    </tr>\n",
       "    <tr>\n",
       "      <th>27343</th>\n",
       "      <td>EGFR</td>\n",
       "      <td>ICT1_HUMAN</td>\n",
       "      <td>Large Intestine</td>\n",
       "      <td>0.135231</td>\n",
       "      <td>-0.171329</td>\n",
       "      <td>0.054361</td>\n",
       "      <td>-0.144169</td>\n",
       "      <td>0.114671</td>\n",
       "      <td>0.109813</td>\n",
       "      <td>-0.176501</td>\n",
       "      <td>...</td>\n",
       "      <td>ICT1_HUMAN</td>\n",
       "      <td>MRPL58</td>\n",
       "      <td>0.803743</td>\n",
       "      <td>-0.381459</td>\n",
       "      <td>0.000087</td>\n",
       "      <td>-0.096504</td>\n",
       "      <td>-1.779083</td>\n",
       "      <td>-</td>\n",
       "      <td>0.59332</td>\n",
       "      <td>0.152450</td>\n",
       "    </tr>\n",
       "    <tr>\n",
       "      <th>27344</th>\n",
       "      <td>EGFR</td>\n",
       "      <td>ICT1_HUMAN</td>\n",
       "      <td>Esophagus</td>\n",
       "      <td>-0.017340</td>\n",
       "      <td>0.084360</td>\n",
       "      <td>0.059655</td>\n",
       "      <td>-0.113035</td>\n",
       "      <td>0.160150</td>\n",
       "      <td>0.099814</td>\n",
       "      <td>-0.227215</td>\n",
       "      <td>...</td>\n",
       "      <td>ICT1_HUMAN</td>\n",
       "      <td>MRPL58</td>\n",
       "      <td>0.803743</td>\n",
       "      <td>-0.381459</td>\n",
       "      <td>0.000087</td>\n",
       "      <td>-0.096504</td>\n",
       "      <td>-1.779083</td>\n",
       "      <td>-</td>\n",
       "      <td>0.59332</td>\n",
       "      <td>-0.171275</td>\n",
       "    </tr>\n",
       "    <tr>\n",
       "      <th>27345</th>\n",
       "      <td>EGFR</td>\n",
       "      <td>ICT1_HUMAN</td>\n",
       "      <td>Endometrium</td>\n",
       "      <td>0.187876</td>\n",
       "      <td>-0.201979</td>\n",
       "      <td>0.087526</td>\n",
       "      <td>-0.208514</td>\n",
       "      <td>0.197846</td>\n",
       "      <td>0.059716</td>\n",
       "      <td>-0.044686</td>\n",
       "      <td>...</td>\n",
       "      <td>ICT1_HUMAN</td>\n",
       "      <td>MRPL58</td>\n",
       "      <td>0.803743</td>\n",
       "      <td>-0.381459</td>\n",
       "      <td>0.000087</td>\n",
       "      <td>-0.096504</td>\n",
       "      <td>-1.779083</td>\n",
       "      <td>-</td>\n",
       "      <td>0.59332</td>\n",
       "      <td>-0.168568</td>\n",
       "    </tr>\n",
       "    <tr>\n",
       "      <th>27346</th>\n",
       "      <td>EGFR</td>\n",
       "      <td>ICT1_HUMAN</td>\n",
       "      <td>Soft Tissue</td>\n",
       "      <td>-0.006322</td>\n",
       "      <td>-0.200117</td>\n",
       "      <td>-0.009002</td>\n",
       "      <td>-0.031117</td>\n",
       "      <td>0.101372</td>\n",
       "      <td>0.068143</td>\n",
       "      <td>0.114707</td>\n",
       "      <td>...</td>\n",
       "      <td>ICT1_HUMAN</td>\n",
       "      <td>MRPL58</td>\n",
       "      <td>0.803743</td>\n",
       "      <td>-0.381459</td>\n",
       "      <td>0.000087</td>\n",
       "      <td>-0.096504</td>\n",
       "      <td>-1.779083</td>\n",
       "      <td>-</td>\n",
       "      <td>0.59332</td>\n",
       "      <td>0.522967</td>\n",
       "    </tr>\n",
       "    <tr>\n",
       "      <th>27347</th>\n",
       "      <td>EGFR</td>\n",
       "      <td>ICT1_HUMAN</td>\n",
       "      <td>Liver</td>\n",
       "      <td>0.173365</td>\n",
       "      <td>-0.142485</td>\n",
       "      <td>0.069555</td>\n",
       "      <td>-0.142485</td>\n",
       "      <td>0.091537</td>\n",
       "      <td>0.179273</td>\n",
       "      <td>-0.094255</td>\n",
       "      <td>...</td>\n",
       "      <td>ICT1_HUMAN</td>\n",
       "      <td>MRPL58</td>\n",
       "      <td>0.803743</td>\n",
       "      <td>-0.381459</td>\n",
       "      <td>0.000087</td>\n",
       "      <td>-0.096504</td>\n",
       "      <td>-1.779083</td>\n",
       "      <td>-</td>\n",
       "      <td>0.59332</td>\n",
       "      <td>0.348030</td>\n",
       "    </tr>\n",
       "  </tbody>\n",
       "</table>\n",
       "<p>18 rows × 28 columns</p>\n",
       "</div>"
      ],
      "text/plain": [
       "       Gene     protein                       tissue  protein_first_q  \\\n",
       "27330  EGFR  ICT1_HUMAN                      Stomach         0.134340   \n",
       "27331  EGFR  ICT1_HUMAN       Central Nervous System         0.040396   \n",
       "27332  EGFR  ICT1_HUMAN                      Bladder         0.331965   \n",
       "27333  EGFR  ICT1_HUMAN                       Kidney         0.012799   \n",
       "27334  EGFR  ICT1_HUMAN                         Skin        -0.016001   \n",
       "27335  EGFR  ICT1_HUMAN                Head and Neck         0.149397   \n",
       "27336  EGFR  ICT1_HUMAN                        Ovary         0.112034   \n",
       "27337  EGFR  ICT1_HUMAN  Haematopoietic and Lymphoid         0.079786   \n",
       "27338  EGFR  ICT1_HUMAN                         Lung         0.169610   \n",
       "27339  EGFR  ICT1_HUMAN                         Bone         0.045993   \n",
       "27340  EGFR  ICT1_HUMAN                       Breast         0.034094   \n",
       "27341  EGFR  ICT1_HUMAN                     Pancreas         0.020092   \n",
       "27342  EGFR  ICT1_HUMAN    Peripheral Nervous System         0.131103   \n",
       "27343  EGFR  ICT1_HUMAN              Large Intestine         0.135231   \n",
       "27344  EGFR  ICT1_HUMAN                    Esophagus        -0.017340   \n",
       "27345  EGFR  ICT1_HUMAN                  Endometrium         0.187876   \n",
       "27346  EGFR  ICT1_HUMAN                  Soft Tissue        -0.006322   \n",
       "27347  EGFR  ICT1_HUMAN                        Liver         0.173365   \n",
       "\n",
       "       protein_last_q  rna_first_q  rna_last_q  protein_first_nq_std  \\\n",
       "27330        0.046140    -0.089410    0.056260              0.033455   \n",
       "27331       -0.004684     0.003936   -0.004684              0.024147   \n",
       "27332        0.299895     0.327665   -0.453105              0.250366   \n",
       "27333        0.418059    -0.142951    0.012799              0.227147   \n",
       "27334       -0.024766     0.091505    0.108730              0.031999   \n",
       "27335       -0.070633    -0.016903    0.229247              0.257930   \n",
       "27336        0.069604     0.017434    0.108954              0.038510   \n",
       "27337       -0.031804     0.053811   -0.047334              0.048147   \n",
       "27338        0.039840     0.165350    0.106410              0.031497   \n",
       "27339       -0.018617     0.043158   -0.018617              0.068384   \n",
       "27340       -0.005676     0.034094    0.082004              0.067830   \n",
       "27341       -0.185908     0.032057    0.058032              0.043566   \n",
       "27342       -0.016027     0.058023    0.081203              0.134174   \n",
       "27343       -0.171329     0.054361   -0.144169              0.114671   \n",
       "27344        0.084360     0.059655   -0.113035              0.160150   \n",
       "27345       -0.201979     0.087526   -0.208514              0.197846   \n",
       "27346       -0.200117    -0.009002   -0.031117              0.101372   \n",
       "27347       -0.142485     0.069555   -0.142485              0.091537   \n",
       "\n",
       "       rna_first_nq_std  crispr_mean  ...   x_protein    x_id       fdr  \\\n",
       "27330          0.103001    -0.133195  ...  ICT1_HUMAN  MRPL58  0.803743   \n",
       "27331          0.000282     0.079154  ...  ICT1_HUMAN  MRPL58  0.803743   \n",
       "27332          0.163781    -0.238745  ...  ICT1_HUMAN  MRPL58  0.803743   \n",
       "27333          0.127828    -0.149049  ...  ICT1_HUMAN  MRPL58  0.803743   \n",
       "27334          0.091681     0.086876  ...  ICT1_HUMAN  MRPL58  0.803743   \n",
       "27335          0.123227    -0.467897  ...  ICT1_HUMAN  MRPL58  0.803743   \n",
       "27336          0.055349    -0.085094  ...  ICT1_HUMAN  MRPL58  0.803743   \n",
       "27337          0.041426     0.133984  ...  ICT1_HUMAN  MRPL58  0.803743   \n",
       "27338          0.055359    -0.085990  ...  ICT1_HUMAN  MRPL58  0.803743   \n",
       "27339          0.065862     0.092172  ...  ICT1_HUMAN  MRPL58  0.803743   \n",
       "27340          0.058155     0.072066  ...  ICT1_HUMAN  MRPL58  0.803743   \n",
       "27341          0.186038    -0.166292  ...  ICT1_HUMAN  MRPL58  0.803743   \n",
       "27342          0.031158     0.061347  ...  ICT1_HUMAN  MRPL58  0.803743   \n",
       "27343          0.109813    -0.176501  ...  ICT1_HUMAN  MRPL58  0.803743   \n",
       "27344          0.099814    -0.227215  ...  ICT1_HUMAN  MRPL58  0.803743   \n",
       "27345          0.059716    -0.044686  ...  ICT1_HUMAN  MRPL58  0.803743   \n",
       "27346          0.068143     0.114707  ...  ICT1_HUMAN  MRPL58  0.803743   \n",
       "27347          0.179273    -0.094255  ...  ICT1_HUMAN  MRPL58  0.803743   \n",
       "\n",
       "        nc_beta    nc_fdr      beta      skew ppi       r2 corr_diff  \n",
       "27330 -0.381459  0.000087 -0.096504 -1.779083   -  0.59332  0.021410  \n",
       "27331 -0.381459  0.000087 -0.096504 -1.779083   -  0.59332  0.226553  \n",
       "27332 -0.381459  0.000087 -0.096504 -1.779083   -  0.59332 -0.127731  \n",
       "27333 -0.381459  0.000087 -0.096504 -1.779083   -  0.59332 -0.250995  \n",
       "27334 -0.381459  0.000087 -0.096504 -1.779083   -  0.59332 -0.086930  \n",
       "27335 -0.381459  0.000087 -0.096504 -1.779083   -  0.59332  0.177330  \n",
       "27336 -0.381459  0.000087 -0.096504 -1.779083   -  0.59332  0.208921  \n",
       "27337 -0.381459  0.000087 -0.096504 -1.779083   -  0.59332  0.110935  \n",
       "27338 -0.381459  0.000087 -0.096504 -1.779083   -  0.59332  0.119463  \n",
       "27339 -0.381459  0.000087 -0.096504 -1.779083   -  0.59332  0.012315  \n",
       "27340 -0.381459  0.000087 -0.096504 -1.779083   -  0.59332 -0.036741  \n",
       "27341 -0.381459  0.000087 -0.096504 -1.779083   -  0.59332  0.014009  \n",
       "27342 -0.381459  0.000087 -0.096504 -1.779083   -  0.59332  0.213563  \n",
       "27343 -0.381459  0.000087 -0.096504 -1.779083   -  0.59332  0.152450  \n",
       "27344 -0.381459  0.000087 -0.096504 -1.779083   -  0.59332 -0.171275  \n",
       "27345 -0.381459  0.000087 -0.096504 -1.779083   -  0.59332 -0.168568  \n",
       "27346 -0.381459  0.000087 -0.096504 -1.779083   -  0.59332  0.522967  \n",
       "27347 -0.381459  0.000087 -0.096504 -1.779083   -  0.59332  0.348030  \n",
       "\n",
       "[18 rows x 28 columns]"
      ]
     },
     "execution_count": 125,
     "metadata": {},
     "output_type": "execute_result"
    }
   ],
   "source": [
    "res_df[(res_df['Gene']=='EGFR')&(res_df['protein']=='ICT1_HUMAN')]"
   ]
  },
  {
   "cell_type": "code",
   "execution_count": null,
   "metadata": {},
   "outputs": [],
   "source": []
  }
 ],
 "metadata": {
  "kernelspec": {
   "display_name": "Python 3",
   "language": "python",
   "name": "python3"
  },
  "language_info": {
   "codemirror_mode": {
    "name": "ipython",
    "version": 3
   },
   "file_extension": ".py",
   "mimetype": "text/x-python",
   "name": "python",
   "nbconvert_exporter": "python",
   "pygments_lexer": "ipython3",
   "version": "3.8.5"
  },
  "toc": {
   "base_numbering": 1,
   "nav_menu": {},
   "number_sections": true,
   "sideBar": true,
   "skip_h1_title": false,
   "title_cell": "Table of Contents",
   "title_sidebar": "Contents",
   "toc_cell": false,
   "toc_position": {},
   "toc_section_display": true,
   "toc_window_display": false
  }
 },
 "nbformat": 4,
 "nbformat_minor": 4
}
