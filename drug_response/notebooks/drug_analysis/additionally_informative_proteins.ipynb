{
 "cells": [
  {
   "cell_type": "code",
   "execution_count": 1,
   "metadata": {
    "ExecuteTime": {
     "end_time": "2020-06-10T14:29:56.453723Z",
     "start_time": "2020-06-10T14:29:55.017690Z"
    }
   },
   "outputs": [],
   "source": [
    "import pandas as pd\n",
    "import matplotlib.pyplot as plt\n",
    "import seaborn as sns\n",
    "import re\n",
    "import numpy as np\n",
    "from scipy.stats import ttest_ind\n",
    "import math\n",
    "from scipy.stats import pearsonr, spearmanr\n",
    "import plotly.graph_objects as go\n",
    "import plotly.express as px\n",
    "from sklearn.impute import SimpleImputer, KNNImputer\n",
    "from tqdm import tqdm_notebook\n",
    "from venn import venn\n",
    "from sklearn.decomposition import PCA\n",
    "import pickle\n",
    "from sklearn.preprocessing import MinMaxScaler"
   ]
  },
  {
   "cell_type": "code",
   "execution_count": 379,
   "metadata": {
    "ExecuteTime": {
     "end_time": "2020-06-15T13:26:32.310315Z",
     "start_time": "2020-06-15T13:26:32.305485Z"
    }
   },
   "outputs": [],
   "source": [
    "pd.options.display.max_columns = 50\n",
    "# mpl.rcParams['font.family'] = 'Avenir'\n",
    "plt.rc('font', family='Helvetica')\n",
    "plt.rcParams['font.size'] = 16\n",
    "plt.rcParams['axes.linewidth'] = 2\n",
    "plt.rcParams['figure.figsize'] = (10.0, 7.0)\n",
    "plt.rcParams['pdf.fonttype'] = 42\n",
    "plt.rcParams['ps.fonttype'] = 42"
   ]
  },
  {
   "cell_type": "code",
   "execution_count": 5,
   "metadata": {
    "ExecuteTime": {
     "end_time": "2020-06-10T14:30:18.630442Z",
     "start_time": "2020-06-10T14:30:18.628223Z"
    }
   },
   "outputs": [],
   "source": [
    "seed = 42"
   ]
  },
  {
   "cell_type": "markdown",
   "metadata": {
    "heading_collapsed": true
   },
   "source": [
    "# compute less correlated proteins"
   ]
  },
  {
   "cell_type": "code",
   "execution_count": 6,
   "metadata": {
    "ExecuteTime": {
     "end_time": "2020-06-10T14:30:35.914232Z",
     "start_time": "2020-06-10T14:30:35.096676Z"
    },
    "hidden": true
   },
   "outputs": [],
   "source": [
    "meta = pd.read_csv(\"../../data/E0022_P06_final_sample_map_no_control.txt\", sep='\\t')\n",
    "protein_RUV = pd.read_csv(\"../../data/protein/E0022_P06_Protein_Matrix_ProNorM_no_control_update.txt\", sep='\\t')"
   ]
  },
  {
   "cell_type": "code",
   "execution_count": 7,
   "metadata": {
    "ExecuteTime": {
     "end_time": "2020-06-10T14:30:36.418818Z",
     "start_time": "2020-06-10T14:30:36.039938Z"
    },
    "hidden": true
   },
   "outputs": [],
   "source": [
    "ccle_protein_common = pd.read_csv(\"../../data/ccle/protein_matrix_common_ruv.tsv\", sep='\\t')"
   ]
  },
  {
   "cell_type": "code",
   "execution_count": 8,
   "metadata": {
    "ExecuteTime": {
     "end_time": "2020-06-10T14:30:43.351678Z",
     "start_time": "2020-06-10T14:30:42.571568Z"
    },
    "hidden": true
   },
   "outputs": [],
   "source": [
    "name_map = pd.read_csv(\"../../data/misc/HUMAN_9606_idmapping.gene_prot.dat\",\n",
    "                       sep='\\t',\n",
    "                       names=['ID', 'type', 'code'])\n",
    "name_map = name_map.drop_duplicates(['ID', 'type'])\n",
    "name_map = pd.pivot(name_map, index='ID', columns='type', values='code').dropna()\n",
    "\n",
    "name_map_dict = dict(zip(name_map['UniProtKB-ID'].values, name_map['Gene_Name'].values))"
   ]
  },
  {
   "cell_type": "code",
   "execution_count": 9,
   "metadata": {
    "ExecuteTime": {
     "end_time": "2020-06-10T14:30:45.618232Z",
     "start_time": "2020-06-10T14:30:43.353722Z"
    },
    "hidden": true
   },
   "outputs": [],
   "source": [
    "rna_raw = pd.read_csv(\"../../data/rna/rnaseq_voom.csv\", index_col=0).T\n",
    "\n",
    "rna_raw.index.name='SIDM'\n",
    "\n",
    "rna_raw = rna_raw.reset_index()"
   ]
  },
  {
   "cell_type": "code",
   "execution_count": 10,
   "metadata": {
    "ExecuteTime": {
     "end_time": "2020-06-10T14:30:45.708110Z",
     "start_time": "2020-06-10T14:30:45.620488Z"
    },
    "hidden": true
   },
   "outputs": [],
   "source": [
    "rna_sample = pd.merge(rna_raw,\n",
    "                      meta[['SIDM',\n",
    "                            'Cell_line']].drop_duplicates()).drop(['SIDM'],\n",
    "                                                                  axis=1)\n",
    "# rna_sample = rna_sample.set_index(['Cell_line'])"
   ]
  },
  {
   "cell_type": "code",
   "execution_count": 11,
   "metadata": {
    "ExecuteTime": {
     "end_time": "2020-06-10T14:31:01.945001Z",
     "start_time": "2020-06-10T14:30:45.709964Z"
    },
    "hidden": true
   },
   "outputs": [],
   "source": [
    "corr_dict_sanger = {'protein': [], 'corr': []}\n",
    "gene_not_found = []\n",
    "protein_not_found = []\n",
    "for protein in protein_RUV.drop(['Cell_line'], axis=1).columns:\n",
    "    if protein not in name_map_dict:\n",
    "        protein_not_found.append(protein)\n",
    "        continue\n",
    "    gene = name_map_dict[protein]\n",
    "    if gene in rna_sample.columns:\n",
    "        data = pd.merge(protein_RUV[['Cell_line', protein]],\n",
    "                        rna_sample[['Cell_line', gene]])\n",
    "        data = data.dropna()\n",
    "        corr_dict_sanger['protein'].append(protein)\n",
    "        corr_dict_sanger['corr'].append(spearmanr(data.iloc[:, 1], data.iloc[:, 2])[0])\n",
    "corr_dict_sanger = pd.DataFrame(corr_dict_sanger)"
   ]
  },
  {
   "cell_type": "code",
   "execution_count": 12,
   "metadata": {
    "ExecuteTime": {
     "end_time": "2020-06-10T14:31:16.853090Z",
     "start_time": "2020-06-10T14:31:01.946375Z"
    },
    "hidden": true
   },
   "outputs": [],
   "source": [
    "corr_dict_ccle = {'protein': [], 'corr': []}\n",
    "gene_not_found = []\n",
    "protein_not_found = []\n",
    "for protein in ccle_protein_common.drop(['Cell_line'], axis=1).columns:\n",
    "    if protein not in name_map_dict:\n",
    "        protein_not_found.append(protein)\n",
    "        continue\n",
    "    gene = name_map_dict[protein]\n",
    "    if gene in rna_sample.columns:\n",
    "        data = pd.merge(ccle_protein_common[['Cell_line', protein]],\n",
    "                        rna_sample[['Cell_line', gene]])\n",
    "        data = data.dropna()\n",
    "        corr_dict_ccle['protein'].append(protein)\n",
    "        corr_dict_ccle['corr'].append(spearmanr(data.iloc[:, 1], data.iloc[:, 2])[0])\n",
    "corr_dict_ccle = pd.DataFrame(corr_dict_ccle)"
   ]
  },
  {
   "cell_type": "code",
   "execution_count": 13,
   "metadata": {
    "ExecuteTime": {
     "end_time": "2020-06-10T14:31:16.862870Z",
     "start_time": "2020-06-10T14:31:16.854479Z"
    },
    "hidden": true
   },
   "outputs": [],
   "source": [
    "corr_dict_merged = pd.merge(corr_dict_sanger, corr_dict_ccle, on=['protein'], suffixes=['_sanger', '_ccle'])"
   ]
  },
  {
   "cell_type": "code",
   "execution_count": 14,
   "metadata": {
    "ExecuteTime": {
     "end_time": "2020-06-10T14:31:16.874478Z",
     "start_time": "2020-06-10T14:31:16.865035Z"
    },
    "hidden": true
   },
   "outputs": [
    {
     "data": {
      "text/html": [
       "<div>\n",
       "<style scoped>\n",
       "    .dataframe tbody tr th:only-of-type {\n",
       "        vertical-align: middle;\n",
       "    }\n",
       "\n",
       "    .dataframe tbody tr th {\n",
       "        vertical-align: top;\n",
       "    }\n",
       "\n",
       "    .dataframe thead th {\n",
       "        text-align: right;\n",
       "    }\n",
       "</style>\n",
       "<table border=\"1\" class=\"dataframe\">\n",
       "  <thead>\n",
       "    <tr style=\"text-align: right;\">\n",
       "      <th></th>\n",
       "      <th>protein</th>\n",
       "      <th>corr_sanger</th>\n",
       "      <th>corr_ccle</th>\n",
       "    </tr>\n",
       "  </thead>\n",
       "  <tbody>\n",
       "    <tr>\n",
       "      <th>0</th>\n",
       "      <td>1433B_HUMAN</td>\n",
       "      <td>0.201402</td>\n",
       "      <td>0.450341</td>\n",
       "    </tr>\n",
       "    <tr>\n",
       "      <th>1</th>\n",
       "      <td>1433E_HUMAN</td>\n",
       "      <td>0.213233</td>\n",
       "      <td>0.438729</td>\n",
       "    </tr>\n",
       "    <tr>\n",
       "      <th>2</th>\n",
       "      <td>1433F_HUMAN</td>\n",
       "      <td>0.327231</td>\n",
       "      <td>0.518768</td>\n",
       "    </tr>\n",
       "    <tr>\n",
       "      <th>3</th>\n",
       "      <td>1433G_HUMAN</td>\n",
       "      <td>0.459458</td>\n",
       "      <td>0.494936</td>\n",
       "    </tr>\n",
       "    <tr>\n",
       "      <th>4</th>\n",
       "      <td>1433S_HUMAN</td>\n",
       "      <td>0.489773</td>\n",
       "      <td>0.816371</td>\n",
       "    </tr>\n",
       "  </tbody>\n",
       "</table>\n",
       "</div>"
      ],
      "text/plain": [
       "       protein  corr_sanger  corr_ccle\n",
       "0  1433B_HUMAN     0.201402   0.450341\n",
       "1  1433E_HUMAN     0.213233   0.438729\n",
       "2  1433F_HUMAN     0.327231   0.518768\n",
       "3  1433G_HUMAN     0.459458   0.494936\n",
       "4  1433S_HUMAN     0.489773   0.816371"
      ]
     },
     "execution_count": 14,
     "metadata": {},
     "output_type": "execute_result"
    }
   ],
   "source": [
    "corr_dict_merged.head()"
   ]
  },
  {
   "cell_type": "code",
   "execution_count": 15,
   "metadata": {
    "ExecuteTime": {
     "end_time": "2020-06-10T14:31:17.067418Z",
     "start_time": "2020-06-10T14:31:16.876507Z"
    },
    "hidden": true
   },
   "outputs": [],
   "source": [
    "corr_dict_merged['corr_avg'] = corr_dict_merged.apply(\n",
    "    lambda row: np.average([row['corr_sanger'], row['corr_ccle']]), axis=1)\n",
    "corr_dict_merged['corr_diff'] = corr_dict_merged.apply(\n",
    "    lambda row: row['corr_sanger'] - row['corr_ccle'], axis=1)"
   ]
  },
  {
   "cell_type": "code",
   "execution_count": 16,
   "metadata": {
    "ExecuteTime": {
     "end_time": "2020-06-10T14:31:17.072455Z",
     "start_time": "2020-06-10T14:31:17.068842Z"
    },
    "hidden": true
   },
   "outputs": [],
   "source": [
    "corr_dict_merged = corr_dict_merged[['protein', 'corr_sanger', 'corr_ccle', 'corr_diff', 'corr_avg']]"
   ]
  },
  {
   "cell_type": "code",
   "execution_count": 17,
   "metadata": {
    "ExecuteTime": {
     "end_time": "2020-06-10T14:31:17.083145Z",
     "start_time": "2020-06-10T14:31:17.073681Z"
    },
    "hidden": true
   },
   "outputs": [
    {
     "data": {
      "text/html": [
       "<div>\n",
       "<style scoped>\n",
       "    .dataframe tbody tr th:only-of-type {\n",
       "        vertical-align: middle;\n",
       "    }\n",
       "\n",
       "    .dataframe tbody tr th {\n",
       "        vertical-align: top;\n",
       "    }\n",
       "\n",
       "    .dataframe thead th {\n",
       "        text-align: right;\n",
       "    }\n",
       "</style>\n",
       "<table border=\"1\" class=\"dataframe\">\n",
       "  <thead>\n",
       "    <tr style=\"text-align: right;\">\n",
       "      <th></th>\n",
       "      <th>protein</th>\n",
       "      <th>corr_sanger</th>\n",
       "      <th>corr_ccle</th>\n",
       "      <th>corr_diff</th>\n",
       "      <th>corr_avg</th>\n",
       "    </tr>\n",
       "  </thead>\n",
       "  <tbody>\n",
       "    <tr>\n",
       "      <th>0</th>\n",
       "      <td>1433B_HUMAN</td>\n",
       "      <td>0.201402</td>\n",
       "      <td>0.450341</td>\n",
       "      <td>-0.248939</td>\n",
       "      <td>0.325871</td>\n",
       "    </tr>\n",
       "    <tr>\n",
       "      <th>1</th>\n",
       "      <td>1433E_HUMAN</td>\n",
       "      <td>0.213233</td>\n",
       "      <td>0.438729</td>\n",
       "      <td>-0.225496</td>\n",
       "      <td>0.325981</td>\n",
       "    </tr>\n",
       "    <tr>\n",
       "      <th>2</th>\n",
       "      <td>1433F_HUMAN</td>\n",
       "      <td>0.327231</td>\n",
       "      <td>0.518768</td>\n",
       "      <td>-0.191538</td>\n",
       "      <td>0.423000</td>\n",
       "    </tr>\n",
       "    <tr>\n",
       "      <th>3</th>\n",
       "      <td>1433G_HUMAN</td>\n",
       "      <td>0.459458</td>\n",
       "      <td>0.494936</td>\n",
       "      <td>-0.035478</td>\n",
       "      <td>0.477197</td>\n",
       "    </tr>\n",
       "    <tr>\n",
       "      <th>4</th>\n",
       "      <td>1433S_HUMAN</td>\n",
       "      <td>0.489773</td>\n",
       "      <td>0.816371</td>\n",
       "      <td>-0.326598</td>\n",
       "      <td>0.653072</td>\n",
       "    </tr>\n",
       "    <tr>\n",
       "      <th>...</th>\n",
       "      <td>...</td>\n",
       "      <td>...</td>\n",
       "      <td>...</td>\n",
       "      <td>...</td>\n",
       "      <td>...</td>\n",
       "    </tr>\n",
       "    <tr>\n",
       "      <th>3161</th>\n",
       "      <td>ZO2_HUMAN</td>\n",
       "      <td>0.656357</td>\n",
       "      <td>0.876658</td>\n",
       "      <td>-0.220301</td>\n",
       "      <td>0.766507</td>\n",
       "    </tr>\n",
       "    <tr>\n",
       "      <th>3162</th>\n",
       "      <td>ZPR1_HUMAN</td>\n",
       "      <td>0.438820</td>\n",
       "      <td>0.530438</td>\n",
       "      <td>-0.091619</td>\n",
       "      <td>0.484629</td>\n",
       "    </tr>\n",
       "    <tr>\n",
       "      <th>3163</th>\n",
       "      <td>ZRAB2_HUMAN</td>\n",
       "      <td>0.396410</td>\n",
       "      <td>0.354159</td>\n",
       "      <td>0.042252</td>\n",
       "      <td>0.375285</td>\n",
       "    </tr>\n",
       "    <tr>\n",
       "      <th>3164</th>\n",
       "      <td>ZW10_HUMAN</td>\n",
       "      <td>0.222987</td>\n",
       "      <td>0.322718</td>\n",
       "      <td>-0.099731</td>\n",
       "      <td>0.272852</td>\n",
       "    </tr>\n",
       "    <tr>\n",
       "      <th>3165</th>\n",
       "      <td>ZYX_HUMAN</td>\n",
       "      <td>0.639626</td>\n",
       "      <td>0.663935</td>\n",
       "      <td>-0.024308</td>\n",
       "      <td>0.651781</td>\n",
       "    </tr>\n",
       "  </tbody>\n",
       "</table>\n",
       "<p>3166 rows × 5 columns</p>\n",
       "</div>"
      ],
      "text/plain": [
       "          protein  corr_sanger  corr_ccle  corr_diff  corr_avg\n",
       "0     1433B_HUMAN     0.201402   0.450341  -0.248939  0.325871\n",
       "1     1433E_HUMAN     0.213233   0.438729  -0.225496  0.325981\n",
       "2     1433F_HUMAN     0.327231   0.518768  -0.191538  0.423000\n",
       "3     1433G_HUMAN     0.459458   0.494936  -0.035478  0.477197\n",
       "4     1433S_HUMAN     0.489773   0.816371  -0.326598  0.653072\n",
       "...           ...          ...        ...        ...       ...\n",
       "3161    ZO2_HUMAN     0.656357   0.876658  -0.220301  0.766507\n",
       "3162   ZPR1_HUMAN     0.438820   0.530438  -0.091619  0.484629\n",
       "3163  ZRAB2_HUMAN     0.396410   0.354159   0.042252  0.375285\n",
       "3164   ZW10_HUMAN     0.222987   0.322718  -0.099731  0.272852\n",
       "3165    ZYX_HUMAN     0.639626   0.663935  -0.024308  0.651781\n",
       "\n",
       "[3166 rows x 5 columns]"
      ]
     },
     "execution_count": 17,
     "metadata": {},
     "output_type": "execute_result"
    }
   ],
   "source": [
    "corr_dict_merged"
   ]
  },
  {
   "cell_type": "code",
   "execution_count": 18,
   "metadata": {
    "ExecuteTime": {
     "end_time": "2020-06-10T14:31:17.096602Z",
     "start_time": "2020-06-10T14:31:17.084635Z"
    },
    "hidden": true
   },
   "outputs": [
    {
     "data": {
      "text/html": [
       "<div>\n",
       "<style scoped>\n",
       "    .dataframe tbody tr th:only-of-type {\n",
       "        vertical-align: middle;\n",
       "    }\n",
       "\n",
       "    .dataframe tbody tr th {\n",
       "        vertical-align: top;\n",
       "    }\n",
       "\n",
       "    .dataframe thead th {\n",
       "        text-align: right;\n",
       "    }\n",
       "</style>\n",
       "<table border=\"1\" class=\"dataframe\">\n",
       "  <thead>\n",
       "    <tr style=\"text-align: right;\">\n",
       "      <th></th>\n",
       "      <th>protein</th>\n",
       "      <th>corr_sanger</th>\n",
       "      <th>corr_ccle</th>\n",
       "      <th>corr_diff</th>\n",
       "      <th>corr_avg</th>\n",
       "    </tr>\n",
       "  </thead>\n",
       "  <tbody>\n",
       "    <tr>\n",
       "      <th>1752</th>\n",
       "      <td>NU205_HUMAN</td>\n",
       "      <td>-0.027487</td>\n",
       "      <td>-0.032571</td>\n",
       "      <td>0.005084</td>\n",
       "      <td>-0.030029</td>\n",
       "    </tr>\n",
       "    <tr>\n",
       "      <th>2360</th>\n",
       "      <td>RM39_HUMAN</td>\n",
       "      <td>-0.014903</td>\n",
       "      <td>0.018709</td>\n",
       "      <td>-0.033612</td>\n",
       "      <td>0.001903</td>\n",
       "    </tr>\n",
       "    <tr>\n",
       "      <th>2394</th>\n",
       "      <td>RPB3_HUMAN</td>\n",
       "      <td>0.039071</td>\n",
       "      <td>-0.010034</td>\n",
       "      <td>0.049105</td>\n",
       "      <td>0.014518</td>\n",
       "    </tr>\n",
       "    <tr>\n",
       "      <th>2353</th>\n",
       "      <td>RM18_HUMAN</td>\n",
       "      <td>-0.003322</td>\n",
       "      <td>0.037441</td>\n",
       "      <td>-0.040763</td>\n",
       "      <td>0.017060</td>\n",
       "    </tr>\n",
       "    <tr>\n",
       "      <th>2006</th>\n",
       "      <td>POMP_HUMAN</td>\n",
       "      <td>0.051871</td>\n",
       "      <td>0.008838</td>\n",
       "      <td>0.043033</td>\n",
       "      <td>0.030355</td>\n",
       "    </tr>\n",
       "    <tr>\n",
       "      <th>...</th>\n",
       "      <td>...</td>\n",
       "      <td>...</td>\n",
       "      <td>...</td>\n",
       "      <td>...</td>\n",
       "      <td>...</td>\n",
       "    </tr>\n",
       "    <tr>\n",
       "      <th>814</th>\n",
       "      <td>ELYS_HUMAN</td>\n",
       "      <td>0.167700</td>\n",
       "      <td>0.192226</td>\n",
       "      <td>-0.024526</td>\n",
       "      <td>0.179963</td>\n",
       "    </tr>\n",
       "    <tr>\n",
       "      <th>811</th>\n",
       "      <td>ELOB_HUMAN</td>\n",
       "      <td>0.189261</td>\n",
       "      <td>0.173245</td>\n",
       "      <td>0.016016</td>\n",
       "      <td>0.181253</td>\n",
       "    </tr>\n",
       "    <tr>\n",
       "      <th>1480</th>\n",
       "      <td>MATR3_HUMAN</td>\n",
       "      <td>0.162645</td>\n",
       "      <td>0.200039</td>\n",
       "      <td>-0.037394</td>\n",
       "      <td>0.181342</td>\n",
       "    </tr>\n",
       "    <tr>\n",
       "      <th>1226</th>\n",
       "      <td>IF4A3_HUMAN</td>\n",
       "      <td>0.198456</td>\n",
       "      <td>0.168580</td>\n",
       "      <td>0.029876</td>\n",
       "      <td>0.183518</td>\n",
       "    </tr>\n",
       "    <tr>\n",
       "      <th>3083</th>\n",
       "      <td>VPS29_HUMAN</td>\n",
       "      <td>0.159993</td>\n",
       "      <td>0.209835</td>\n",
       "      <td>-0.049842</td>\n",
       "      <td>0.184914</td>\n",
       "    </tr>\n",
       "  </tbody>\n",
       "</table>\n",
       "<p>100 rows × 5 columns</p>\n",
       "</div>"
      ],
      "text/plain": [
       "          protein  corr_sanger  corr_ccle  corr_diff  corr_avg\n",
       "1752  NU205_HUMAN    -0.027487  -0.032571   0.005084 -0.030029\n",
       "2360   RM39_HUMAN    -0.014903   0.018709  -0.033612  0.001903\n",
       "2394   RPB3_HUMAN     0.039071  -0.010034   0.049105  0.014518\n",
       "2353   RM18_HUMAN    -0.003322   0.037441  -0.040763  0.017060\n",
       "2006   POMP_HUMAN     0.051871   0.008838   0.043033  0.030355\n",
       "...           ...          ...        ...        ...       ...\n",
       "814    ELYS_HUMAN     0.167700   0.192226  -0.024526  0.179963\n",
       "811    ELOB_HUMAN     0.189261   0.173245   0.016016  0.181253\n",
       "1480  MATR3_HUMAN     0.162645   0.200039  -0.037394  0.181342\n",
       "1226  IF4A3_HUMAN     0.198456   0.168580   0.029876  0.183518\n",
       "3083  VPS29_HUMAN     0.159993   0.209835  -0.049842  0.184914\n",
       "\n",
       "[100 rows x 5 columns]"
      ]
     },
     "execution_count": 18,
     "metadata": {},
     "output_type": "execute_result"
    }
   ],
   "source": [
    "corr_dict_merged[corr_dict_merged['corr_diff'].abs() < 0.05].sort_values(by=['corr_avg']).head(100)"
   ]
  },
  {
   "cell_type": "code",
   "execution_count": 19,
   "metadata": {
    "ExecuteTime": {
     "end_time": "2020-06-10T14:31:17.124413Z",
     "start_time": "2020-06-10T14:31:17.097909Z"
    },
    "hidden": true
   },
   "outputs": [],
   "source": [
    "corr_dict_merged.sort_values(\n",
    "    by=['corr_avg']).to_csv(\"../../data/protein_rna_correlations.csv\",\n",
    "                            index=False)"
   ]
  },
  {
   "cell_type": "code",
   "execution_count": 20,
   "metadata": {
    "ExecuteTime": {
     "end_time": "2020-06-10T14:31:17.133275Z",
     "start_time": "2020-06-10T14:31:17.125845Z"
    },
    "hidden": true
   },
   "outputs": [
    {
     "data": {
      "text/html": [
       "<div>\n",
       "<style scoped>\n",
       "    .dataframe tbody tr th:only-of-type {\n",
       "        vertical-align: middle;\n",
       "    }\n",
       "\n",
       "    .dataframe tbody tr th {\n",
       "        vertical-align: top;\n",
       "    }\n",
       "\n",
       "    .dataframe thead th {\n",
       "        text-align: right;\n",
       "    }\n",
       "</style>\n",
       "<table border=\"1\" class=\"dataframe\">\n",
       "  <thead>\n",
       "    <tr style=\"text-align: right;\">\n",
       "      <th></th>\n",
       "      <th>protein</th>\n",
       "      <th>corr_sanger</th>\n",
       "      <th>corr_ccle</th>\n",
       "      <th>corr_diff</th>\n",
       "      <th>corr_avg</th>\n",
       "    </tr>\n",
       "  </thead>\n",
       "  <tbody>\n",
       "    <tr>\n",
       "      <th>1411</th>\n",
       "      <td>LMNA_HUMAN</td>\n",
       "      <td>0.868709</td>\n",
       "      <td>0.67253</td>\n",
       "      <td>0.19618</td>\n",
       "      <td>0.77062</td>\n",
       "    </tr>\n",
       "  </tbody>\n",
       "</table>\n",
       "</div>"
      ],
      "text/plain": [
       "         protein  corr_sanger  corr_ccle  corr_diff  corr_avg\n",
       "1411  LMNA_HUMAN     0.868709    0.67253    0.19618   0.77062"
      ]
     },
     "execution_count": 20,
     "metadata": {},
     "output_type": "execute_result"
    }
   ],
   "source": [
    "corr_dict_merged[corr_dict_merged['protein']=='LMNA_HUMAN']"
   ]
  },
  {
   "cell_type": "code",
   "execution_count": 21,
   "metadata": {
    "ExecuteTime": {
     "end_time": "2020-06-10T14:31:17.339413Z",
     "start_time": "2020-06-10T14:31:17.136081Z"
    },
    "hidden": true
   },
   "outputs": [
    {
     "data": {
      "text/plain": [
       "<matplotlib.axes._subplots.AxesSubplot at 0x7fd319aadac0>"
      ]
     },
     "execution_count": 21,
     "metadata": {},
     "output_type": "execute_result"
    },
    {
     "data": {
      "image/png": "[encoded data removed]",
      "text/plain": [
       "<Figure size 720x504 with 1 Axes>"
      ]
     },
     "metadata": {
      "needs_background": "light"
     },
     "output_type": "display_data"
    }
   ],
   "source": [
    "sns.distplot(corr_dict_merged['corr_diff'])"
   ]
  },
  {
   "cell_type": "markdown",
   "metadata": {
    "heading_collapsed": true
   },
   "source": [
    "# tissue type features"
   ]
  },
  {
   "cell_type": "code",
   "execution_count": 784,
   "metadata": {
    "ExecuteTime": {
     "end_time": "2020-06-02T04:38:14.246312Z",
     "start_time": "2020-06-02T04:38:14.242794Z"
    },
    "hidden": true
   },
   "outputs": [],
   "source": [
    "proteins = np.array([x for x in protein_RUV.columns if '_HUMAN' in x])"
   ]
  },
  {
   "cell_type": "code",
   "execution_count": 785,
   "metadata": {
    "ExecuteTime": {
     "end_time": "2020-06-02T04:38:15.624981Z",
     "start_time": "2020-06-02T04:38:15.458355Z"
    },
    "hidden": true
   },
   "outputs": [],
   "source": [
    "lgbm_shap_values = pickle.load(open(\"../../work_dirs/shap_tissue/lgbm_shap_values_tissue_14.pkl\", \"rb\"))\n",
    "\n",
    "topN = 20\n",
    "shap_tissue_set = []\n",
    "for tissue_shap in lgbm_shap_values:\n",
    "    shap_top_proteins = proteins[np.argsort(-np.mean(np.abs(tissue_shap),axis=0))][:topN]\n",
    "    shap_tissue_set.extend([f\"{x}\" for x in shap_top_proteins])\n",
    "shap_tissue_set = set(shap_tissue_set)"
   ]
  },
  {
   "cell_type": "markdown",
   "metadata": {},
   "source": [
    "# feature importance analysis"
   ]
  },
  {
   "cell_type": "code",
   "execution_count": 441,
   "metadata": {
    "ExecuteTime": {
     "end_time": "2020-06-16T01:55:08.384965Z",
     "start_time": "2020-06-16T01:55:08.374656Z"
    }
   },
   "outputs": [],
   "source": [
    "corr_dict_merged = pd.read_csv(\"../../data/protein_rna_correlations.csv\")"
   ]
  },
  {
   "cell_type": "code",
   "execution_count": 397,
   "metadata": {
    "ExecuteTime": {
     "end_time": "2020-06-15T14:25:59.295148Z",
     "start_time": "2020-06-15T14:25:59.281702Z"
    }
   },
   "outputs": [],
   "source": [
    "target_proteins = corr_dict_merged[corr_dict_merged['corr_diff'].abs(\n",
    ") < 0.2].sort_values('corr_avg').head(500)['protein']\n",
    "drug_meta = pd.read_csv(\"../../data/drug/drug_info.csv\")\n",
    "FDA_approved_id = drug_meta[drug_meta['FDA_Approved']=='Yes']['drug_id'].values"
   ]
  },
  {
   "cell_type": "code",
   "execution_count": 398,
   "metadata": {
    "ExecuteTime": {
     "end_time": "2020-06-15T14:25:59.682148Z",
     "start_time": "2020-06-15T14:25:59.671458Z"
    }
   },
   "outputs": [],
   "source": [
    "drug_score = pd.read_csv(\"../../data/drug/final_drug_scores.tsv\", sep=\"\\t\")\n",
    "drug_list = drug_score[\n",
    "    (drug_score['MultiDrug_correlation'] > 0.4) & (drug_score['sensitive_count'] > 20)][\n",
    "    'drug_id'].values"
   ]
  },
  {
   "cell_type": "code",
   "execution_count": 399,
   "metadata": {
    "ExecuteTime": {
     "end_time": "2020-06-15T14:26:00.065332Z",
     "start_time": "2020-06-15T14:26:00.060959Z"
    }
   },
   "outputs": [],
   "source": [
    "drug_list_FDA = [x for x in drug_list if x in FDA_approved_id]"
   ]
  },
  {
   "cell_type": "code",
   "execution_count": 423,
   "metadata": {
    "ExecuteTime": {
     "end_time": "2020-06-15T14:28:42.016489Z",
     "start_time": "2020-06-15T14:28:42.014266Z"
    }
   },
   "outputs": [],
   "source": [
    "topN = 50"
   ]
  },
  {
   "cell_type": "markdown",
   "metadata": {},
   "source": [
    "## original"
   ]
  },
  {
   "cell_type": "code",
   "execution_count": 424,
   "metadata": {
    "ExecuteTime": {
     "end_time": "2020-06-15T14:28:44.122860Z",
     "start_time": "2020-06-15T14:28:43.128801Z"
    }
   },
   "outputs": [],
   "source": [
    "df_rf = pd.read_csv(\"../../work_dirs/protein/RandomForest/feature_importance_202006051013_ruv_min_300.csv\")\n",
    "df_en = pd.read_csv(\"../../work_dirs/protein/ElasticNet/feature_importance_202006061215_ruv_min_300.csv\")\n",
    "df_shap = pd.read_csv(\"../../result_files/shap/test_70_202006111046.csv\")"
   ]
  },
  {
   "cell_type": "code",
   "execution_count": 425,
   "metadata": {
    "ExecuteTime": {
     "end_time": "2020-06-15T14:28:44.655396Z",
     "start_time": "2020-06-15T14:28:44.124653Z"
    }
   },
   "outputs": [
    {
     "name": "stderr",
     "output_type": "stream",
     "text": [
      "<ipython-input-425-52c03cb7e734>:10: SettingWithCopyWarning:\n",
      "\n",
      "\n",
      "A value is trying to be set on a copy of a slice from a DataFrame\n",
      "\n",
      "See the caveats in the documentation: https://pandas.pydata.org/pandas-docs/stable/user_guide/indexing.html#returning-a-view-versus-a-copy\n",
      "\n",
      "<ipython-input-425-52c03cb7e734>:16: SettingWithCopyWarning:\n",
      "\n",
      "\n",
      "A value is trying to be set on a copy of a slice from a DataFrame\n",
      "\n",
      "See the caveats in the documentation: https://pandas.pydata.org/pandas-docs/stable/user_guide/indexing.html#returning-a-view-versus-a-copy\n",
      "\n",
      "<ipython-input-425-52c03cb7e734>:22: SettingWithCopyWarning:\n",
      "\n",
      "\n",
      "A value is trying to be set on a copy of a slice from a DataFrame\n",
      "\n",
      "See the caveats in the documentation: https://pandas.pydata.org/pandas-docs/stable/user_guide/indexing.html#returning-a-view-versus-a-copy\n",
      "\n"
     ]
    }
   ],
   "source": [
    "df_rf_rank = pd.DataFrame({'protein': df_rf['protein']})\n",
    "df_en_rank = pd.DataFrame({'protein': df_en['protein']})\n",
    "df_shap_rank = pd.DataFrame({'protein': df_shap['protein']})\n",
    "\n",
    "for i in drug_list_FDA:\n",
    "    temp = np.argsort(-df_rf[f'importance_{i}'])\n",
    "    ranks = np.empty_like(temp)\n",
    "    ranks[temp] = np.arange(len(df_rf[f'importance_{i}']))\n",
    "    df_rf_rank[f'importance_{i}'] = ranks\n",
    "    df_rf_rank[f'importance_{i}'][df_rf[f'importance_{i}'] == 0] = 9999\n",
    "    \n",
    "    temp = np.argsort(-df_en[f'importance_{i}'].abs())\n",
    "    ranks = np.empty_like(temp)\n",
    "    ranks[temp] = np.arange(len(df_en[f'importance_{i}']))\n",
    "    df_en_rank[f'importance_{i}'] = ranks\n",
    "    df_en_rank[f'importance_{i}'][df_en[f'importance_{i}'] == 0] = 9999\n",
    "    \n",
    "    temp = np.argsort(-df_shap[f'importance_{i}'])\n",
    "    ranks = np.empty_like(temp)\n",
    "    ranks[temp] = np.arange(len(df_shap[f'importance_{i}']))\n",
    "    df_shap_rank[f'importance_{i}'] = ranks\n",
    "    df_shap_rank[f'importance_{i}'][df_shap[f'importance_{i}'] == 0] = 9999\n"
   ]
  },
  {
   "cell_type": "code",
   "execution_count": 426,
   "metadata": {
    "ExecuteTime": {
     "end_time": "2020-06-15T14:28:45.116275Z",
     "start_time": "2020-06-15T14:28:44.657433Z"
    }
   },
   "outputs": [
    {
     "data": {
      "text/plain": [
       "protein\n",
       "BASI_HUMAN      4\n",
       "TRA2A_HUMAN     5\n",
       "RT36_HUMAN      8\n",
       "LIN7C_HUMAN     8\n",
       "EMC2_HUMAN     22\n",
       "dtype: int64"
      ]
     },
     "execution_count": 426,
     "metadata": {},
     "output_type": "execute_result"
    }
   ],
   "source": [
    "res_rf = {'drug_id':[], 'protein':[], 'rank':[]}\n",
    "for i in drug_list_FDA:\n",
    "    df_tmp = df_rf_rank[['protein', f'importance_{i}']]\n",
    "    df_tmp = df_tmp[(df_tmp['protein'].isin(target_proteins)) & (df_tmp[f'importance_{i}'] < topN)]\n",
    "    for index, row in df_tmp.iterrows():\n",
    "        res_rf['drug_id'].append(i)\n",
    "        res_rf['protein'].append(row['protein'])\n",
    "        res_rf['rank'].append(row[f'importance_{i}'])\n",
    "res_rf = pd.DataFrame(res_rf)\n",
    "res_rf['gene'] = res_rf['protein'].map(name_map_dict)\n",
    "\n",
    "res_rf.groupby(['protein']).size().sort_values().tail(5)"
   ]
  },
  {
   "cell_type": "code",
   "execution_count": 427,
   "metadata": {
    "ExecuteTime": {
     "end_time": "2020-06-15T14:28:45.581486Z",
     "start_time": "2020-06-15T14:28:45.118478Z"
    }
   },
   "outputs": [
    {
     "data": {
      "text/plain": [
       "protein\n",
       "SDHF2_HUMAN    10\n",
       "FA5_HUMAN      11\n",
       "FACR1_HUMAN    12\n",
       "VTNC_HUMAN     15\n",
       "RS15_HUMAN     18\n",
       "dtype: int64"
      ]
     },
     "execution_count": 427,
     "metadata": {},
     "output_type": "execute_result"
    }
   ],
   "source": [
    "res_en = {'drug_id':[], 'protein':[], 'rank':[]}\n",
    "for i in drug_list_FDA:\n",
    "    df_tmp = df_en_rank[['protein', f'importance_{i}']]\n",
    "    df_tmp = df_tmp[(df_tmp['protein'].isin(target_proteins)) & (df_tmp[f'importance_{i}'] < topN)]\n",
    "    for index, row in df_tmp.iterrows():\n",
    "        res_en['drug_id'].append(i)\n",
    "        res_en['protein'].append(row['protein'])\n",
    "        res_en['rank'].append(row[f'importance_{i}'])\n",
    "res_en = pd.DataFrame(res_en)\n",
    "res_en['gene'] = res_en['protein'].map(name_map_dict)\n",
    "\n",
    "res_en.groupby(['protein']).size().sort_values().tail(5)"
   ]
  },
  {
   "cell_type": "code",
   "execution_count": 428,
   "metadata": {
    "ExecuteTime": {
     "end_time": "2020-06-15T14:28:46.042280Z",
     "start_time": "2020-06-15T14:28:45.583329Z"
    }
   },
   "outputs": [
    {
     "data": {
      "text/plain": [
       "protein\n",
       "ITIH2_HUMAN     7\n",
       "EIF3M_HUMAN    13\n",
       "GNA13_HUMAN    13\n",
       "TBB4B_HUMAN    16\n",
       "VTNC_HUMAN     17\n",
       "dtype: int64"
      ]
     },
     "execution_count": 428,
     "metadata": {},
     "output_type": "execute_result"
    }
   ],
   "source": [
    "res_shap = {'drug_id':[], 'protein':[], 'rank':[]}\n",
    "for i in drug_list_FDA:\n",
    "    df_tmp = df_shap_rank[['protein', f'importance_{i}']]\n",
    "    df_tmp = df_tmp[(df_tmp['protein'].isin(target_proteins)) & (df_tmp[f'importance_{i}'] < topN)]\n",
    "    for index, row in df_tmp.iterrows():\n",
    "        res_shap['drug_id'].append(i)\n",
    "        res_shap['protein'].append(row['protein'])\n",
    "        res_shap['rank'].append(row[f'importance_{i}'])\n",
    "res_shap = pd.DataFrame(res_shap)\n",
    "res_shap['gene'] = res_shap['protein'].map(name_map_dict)\n",
    "res_shap.groupby(['protein']).size().sort_values().tail(5)"
   ]
  },
  {
   "cell_type": "code",
   "execution_count": 429,
   "metadata": {
    "ExecuteTime": {
     "end_time": "2020-06-15T14:28:46.046358Z",
     "start_time": "2020-06-15T14:28:46.044122Z"
    }
   },
   "outputs": [],
   "source": [
    "all_genes = []"
   ]
  },
  {
   "cell_type": "code",
   "execution_count": 430,
   "metadata": {
    "ExecuteTime": {
     "end_time": "2020-06-15T14:28:46.050830Z",
     "start_time": "2020-06-15T14:28:46.047961Z"
    },
    "code_folding": []
   },
   "outputs": [],
   "source": [
    "for x in res_rf['gene'].unique():\n",
    "#     print(x)\n",
    "    all_genes.append(x)"
   ]
  },
  {
   "cell_type": "code",
   "execution_count": 431,
   "metadata": {
    "ExecuteTime": {
     "end_time": "2020-06-15T14:28:46.056295Z",
     "start_time": "2020-06-15T14:28:46.053702Z"
    }
   },
   "outputs": [],
   "source": [
    "for x in res_en['gene'].unique():\n",
    "#     print(x)\n",
    "    all_genes.append(x)"
   ]
  },
  {
   "cell_type": "code",
   "execution_count": 432,
   "metadata": {
    "ExecuteTime": {
     "end_time": "2020-06-15T14:28:46.060887Z",
     "start_time": "2020-06-15T14:28:46.058087Z"
    },
    "scrolled": false
   },
   "outputs": [],
   "source": [
    "for x in res_shap['gene'].unique():\n",
    "#     print(x)\n",
    "    all_genes.append(x)\n",
    "all_genes = set(all_genes)"
   ]
  },
  {
   "cell_type": "code",
   "execution_count": 433,
   "metadata": {
    "ExecuteTime": {
     "end_time": "2020-06-15T14:28:46.067657Z",
     "start_time": "2020-06-15T14:28:46.062608Z"
    },
    "scrolled": false
   },
   "outputs": [
    {
     "name": "stdout",
     "output_type": "stream",
     "text": [
      "EXOSC8\n",
      "RPS21\n",
      "RPL9\n",
      "GNA13\n",
      "MRPL23\n",
      "ZNF593\n",
      "GTF3C5\n",
      "FLII\n",
      "PRPF31\n",
      "RHOT1\n",
      "NUP107\n",
      "EXOSC9\n",
      "RPL18A\n",
      "CS\n",
      "PRIM2\n",
      "EIF3M\n",
      "NRBP1\n",
      "PSMD8\n",
      "RPL35A\n",
      "NDUFA5\n",
      "EXOSC4\n",
      "EMC2\n",
      "SLIRP\n",
      "HYPK\n",
      "LIN7C\n",
      "NDUFS8\n",
      "DPM1\n",
      "CCT7\n",
      "SNRPB2\n",
      "PCCB\n",
      "RPS15\n",
      "TIMM10\n",
      "DPY30\n",
      "DDX5\n",
      "PSMA5\n",
      "IDH3G\n",
      "NOC4L\n",
      "SF3A2\n",
      "UTP15\n",
      "MRPL48\n",
      "UBE2A\n",
      "AAAS\n",
      "BSG\n",
      "UQCC2\n",
      "DDX41\n",
      "NDUFS7\n",
      "SDHAF2\n",
      "NDUFAF3\n",
      "RPL8\n",
      "NUP62\n",
      "PDZD11\n",
      "CSTF2T\n",
      "TMCO1\n",
      "RPL27\n",
      "EXOSC2\n",
      "NUDT21\n",
      "INTS3\n",
      "GPX4\n",
      "RPSA\n",
      "NDUFS1\n",
      "RBMX2\n",
      "IMP4\n",
      "ATP5PB\n",
      "RBM8A\n",
      "RPL24\n",
      "UBE2L3\n",
      "DCAF13\n",
      "F5\n",
      "RPS7\n",
      "GTF3C3\n",
      "DNAJC11\n",
      "RPL23\n",
      "CDK4\n",
      "TRA2B\n",
      "RPL34\n",
      "TSG101\n",
      "MPHOSPH10\n",
      "SPATA5L1\n",
      "ATP6V1E1\n",
      "RABL3\n",
      "RPL21\n",
      "HNRNPM\n",
      "DAP3\n",
      "AHCTF1\n",
      "PDPR\n",
      "MRPL15\n",
      "LAS1L\n",
      "CCT4\n",
      "FAR1\n",
      "DPF2\n",
      "NDUFA4\n",
      "SMARCB1\n",
      "MED30\n",
      "TRA2A\n",
      "PUF60\n",
      "HBE1\n",
      "UQCRB\n",
      "RPL12\n",
      "SSR4\n",
      "RFC5\n",
      "RPL29\n",
      "COX7A2L\n",
      "NDUFS6\n",
      "UFD1\n",
      "CCT2\n",
      "NDUFB11\n",
      "COL6A3\n",
      "NOP14\n",
      "RPL6\n",
      "SRP9\n",
      "PHF14\n",
      "GPAA1\n",
      "LSM3\n",
      "FAM207A\n",
      "NDUFV1\n",
      "SNRPA\n",
      "SKIV2L\n",
      "CHTOP\n",
      "MRPL22\n",
      "EXOSC5\n",
      "MRPS36\n",
      "UBL5\n",
      "YBX1\n",
      "DNTTIP2\n",
      "PPP2R1B\n",
      "RPL13\n",
      "AP3M1\n",
      "WDR36\n",
      "BMS1\n",
      "EIF3H\n",
      "CA1\n",
      "HSPA8\n",
      "POLG\n",
      "RPS8\n",
      "ITIH2\n",
      "COPS7A\n",
      "RPL14\n",
      "UQCRH\n",
      "RPL38\n",
      "MRPL16\n",
      "UTP18\n",
      "RPA3\n",
      "YME1L1\n",
      "VTN\n",
      "EXOSC1\n",
      "SNU13\n",
      "NCBP2\n",
      "RPL15\n",
      "RPL31\n",
      "COX4I1\n",
      "RPL4\n",
      "RPL32\n",
      "TBL3\n",
      "TUBB4B\n",
      "GPKOW\n",
      "RCL1\n"
     ]
    }
   ],
   "source": [
    "for x in all_genes:\n",
    "    print(x)"
   ]
  },
  {
   "cell_type": "code",
   "execution_count": 319,
   "metadata": {
    "ExecuteTime": {
     "end_time": "2020-06-15T05:48:05.875187Z",
     "start_time": "2020-06-15T05:48:05.865567Z"
    }
   },
   "outputs": [
    {
     "data": {
      "text/html": [
       "<div>\n",
       "<style scoped>\n",
       "    .dataframe tbody tr th:only-of-type {\n",
       "        vertical-align: middle;\n",
       "    }\n",
       "\n",
       "    .dataframe tbody tr th {\n",
       "        vertical-align: top;\n",
       "    }\n",
       "\n",
       "    .dataframe thead th {\n",
       "        text-align: right;\n",
       "    }\n",
       "</style>\n",
       "<table border=\"1\" class=\"dataframe\">\n",
       "  <thead>\n",
       "    <tr style=\"text-align: right;\">\n",
       "      <th></th>\n",
       "      <th>drug_id</th>\n",
       "      <th>protein</th>\n",
       "      <th>rank</th>\n",
       "      <th>gene</th>\n",
       "    </tr>\n",
       "  </thead>\n",
       "  <tbody>\n",
       "    <tr>\n",
       "      <th>38</th>\n",
       "      <td>1386</td>\n",
       "      <td>VTNC_HUMAN</td>\n",
       "      <td>0</td>\n",
       "      <td>VTN</td>\n",
       "    </tr>\n",
       "    <tr>\n",
       "      <th>31</th>\n",
       "      <td>1016</td>\n",
       "      <td>RU2B_HUMAN</td>\n",
       "      <td>1</td>\n",
       "      <td>SNRPB2</td>\n",
       "    </tr>\n",
       "    <tr>\n",
       "      <th>46</th>\n",
       "      <td>1535</td>\n",
       "      <td>AAAS_HUMAN</td>\n",
       "      <td>1</td>\n",
       "      <td>AAAS</td>\n",
       "    </tr>\n",
       "    <tr>\n",
       "      <th>43</th>\n",
       "      <td>1393</td>\n",
       "      <td>VTNC_HUMAN</td>\n",
       "      <td>2</td>\n",
       "      <td>VTN</td>\n",
       "    </tr>\n",
       "    <tr>\n",
       "      <th>22</th>\n",
       "      <td>249</td>\n",
       "      <td>RS21_HUMAN</td>\n",
       "      <td>2</td>\n",
       "      <td>RPS21</td>\n",
       "    </tr>\n",
       "    <tr>\n",
       "      <th>20</th>\n",
       "      <td>155</td>\n",
       "      <td>LIN7C_HUMAN</td>\n",
       "      <td>3</td>\n",
       "      <td>LIN7C</td>\n",
       "    </tr>\n",
       "    <tr>\n",
       "      <th>27</th>\n",
       "      <td>1013</td>\n",
       "      <td>LIN7C_HUMAN</td>\n",
       "      <td>6</td>\n",
       "      <td>LIN7C</td>\n",
       "    </tr>\n",
       "    <tr>\n",
       "      <th>28</th>\n",
       "      <td>1016</td>\n",
       "      <td>EIF3H_HUMAN</td>\n",
       "      <td>7</td>\n",
       "      <td>EIF3H</td>\n",
       "    </tr>\n",
       "    <tr>\n",
       "      <th>1</th>\n",
       "      <td>5</td>\n",
       "      <td>NDUV1_HUMAN</td>\n",
       "      <td>8</td>\n",
       "      <td>NDUFV1</td>\n",
       "    </tr>\n",
       "    <tr>\n",
       "      <th>8</th>\n",
       "      <td>37</td>\n",
       "      <td>EXOS5_HUMAN</td>\n",
       "      <td>8</td>\n",
       "      <td>EXOSC5</td>\n",
       "    </tr>\n",
       "  </tbody>\n",
       "</table>\n",
       "</div>"
      ],
      "text/plain": [
       "    drug_id      protein  rank    gene\n",
       "38     1386   VTNC_HUMAN     0     VTN\n",
       "31     1016   RU2B_HUMAN     1  SNRPB2\n",
       "46     1535   AAAS_HUMAN     1    AAAS\n",
       "43     1393   VTNC_HUMAN     2     VTN\n",
       "22      249   RS21_HUMAN     2   RPS21\n",
       "20      155  LIN7C_HUMAN     3   LIN7C\n",
       "27     1013  LIN7C_HUMAN     6   LIN7C\n",
       "28     1016  EIF3H_HUMAN     7   EIF3H\n",
       "1         5  NDUV1_HUMAN     8  NDUFV1\n",
       "8        37  EXOS5_HUMAN     8  EXOSC5"
      ]
     },
     "execution_count": 319,
     "metadata": {},
     "output_type": "execute_result"
    }
   ],
   "source": [
    "res_rf.sort_values(by='rank').head(10)"
   ]
  },
  {
   "cell_type": "code",
   "execution_count": 320,
   "metadata": {
    "ExecuteTime": {
     "end_time": "2020-06-15T05:48:05.886826Z",
     "start_time": "2020-06-15T05:48:05.877032Z"
    }
   },
   "outputs": [
    {
     "data": {
      "text/html": [
       "<div>\n",
       "<style scoped>\n",
       "    .dataframe tbody tr th:only-of-type {\n",
       "        vertical-align: middle;\n",
       "    }\n",
       "\n",
       "    .dataframe tbody tr th {\n",
       "        vertical-align: top;\n",
       "    }\n",
       "\n",
       "    .dataframe thead th {\n",
       "        text-align: right;\n",
       "    }\n",
       "</style>\n",
       "<table border=\"1\" class=\"dataframe\">\n",
       "  <thead>\n",
       "    <tr style=\"text-align: right;\">\n",
       "      <th></th>\n",
       "      <th>drug_id</th>\n",
       "      <th>protein</th>\n",
       "      <th>rank</th>\n",
       "      <th>gene</th>\n",
       "    </tr>\n",
       "  </thead>\n",
       "  <tbody>\n",
       "    <tr>\n",
       "      <th>57</th>\n",
       "      <td>1386</td>\n",
       "      <td>VTNC_HUMAN</td>\n",
       "      <td>0</td>\n",
       "      <td>VTN</td>\n",
       "    </tr>\n",
       "    <tr>\n",
       "      <th>3</th>\n",
       "      <td>37</td>\n",
       "      <td>AP3M1_HUMAN</td>\n",
       "      <td>1</td>\n",
       "      <td>AP3M1</td>\n",
       "    </tr>\n",
       "    <tr>\n",
       "      <th>60</th>\n",
       "      <td>1393</td>\n",
       "      <td>VTNC_HUMAN</td>\n",
       "      <td>1</td>\n",
       "      <td>VTN</td>\n",
       "    </tr>\n",
       "    <tr>\n",
       "      <th>67</th>\n",
       "      <td>1543</td>\n",
       "      <td>VTNC_HUMAN</td>\n",
       "      <td>1</td>\n",
       "      <td>VTN</td>\n",
       "    </tr>\n",
       "    <tr>\n",
       "      <th>50</th>\n",
       "      <td>1191</td>\n",
       "      <td>UQCC2_HUMAN</td>\n",
       "      <td>3</td>\n",
       "      <td>UQCC2</td>\n",
       "    </tr>\n",
       "    <tr>\n",
       "      <th>69</th>\n",
       "      <td>1544</td>\n",
       "      <td>VTNC_HUMAN</td>\n",
       "      <td>4</td>\n",
       "      <td>VTN</td>\n",
       "    </tr>\n",
       "    <tr>\n",
       "      <th>92</th>\n",
       "      <td>2220</td>\n",
       "      <td>SKIV2_HUMAN</td>\n",
       "      <td>4</td>\n",
       "      <td>SKIV2L</td>\n",
       "    </tr>\n",
       "    <tr>\n",
       "      <th>56</th>\n",
       "      <td>1386</td>\n",
       "      <td>PHF14_HUMAN</td>\n",
       "      <td>5</td>\n",
       "      <td>PHF14</td>\n",
       "    </tr>\n",
       "    <tr>\n",
       "      <th>6</th>\n",
       "      <td>119</td>\n",
       "      <td>PDZ11_HUMAN</td>\n",
       "      <td>5</td>\n",
       "      <td>PDZD11</td>\n",
       "    </tr>\n",
       "    <tr>\n",
       "      <th>65</th>\n",
       "      <td>1543</td>\n",
       "      <td>PHF14_HUMAN</td>\n",
       "      <td>5</td>\n",
       "      <td>PHF14</td>\n",
       "    </tr>\n",
       "  </tbody>\n",
       "</table>\n",
       "</div>"
      ],
      "text/plain": [
       "    drug_id      protein  rank    gene\n",
       "57     1386   VTNC_HUMAN     0     VTN\n",
       "3        37  AP3M1_HUMAN     1   AP3M1\n",
       "60     1393   VTNC_HUMAN     1     VTN\n",
       "67     1543   VTNC_HUMAN     1     VTN\n",
       "50     1191  UQCC2_HUMAN     3   UQCC2\n",
       "69     1544   VTNC_HUMAN     4     VTN\n",
       "92     2220  SKIV2_HUMAN     4  SKIV2L\n",
       "56     1386  PHF14_HUMAN     5   PHF14\n",
       "6       119  PDZ11_HUMAN     5  PDZD11\n",
       "65     1543  PHF14_HUMAN     5   PHF14"
      ]
     },
     "execution_count": 320,
     "metadata": {},
     "output_type": "execute_result"
    }
   ],
   "source": [
    "res_en.sort_values(by='rank').head(10)"
   ]
  },
  {
   "cell_type": "code",
   "execution_count": 321,
   "metadata": {
    "ExecuteTime": {
     "end_time": "2020-06-15T05:48:05.897128Z",
     "start_time": "2020-06-15T05:48:05.888577Z"
    }
   },
   "outputs": [
    {
     "data": {
      "text/html": [
       "<div>\n",
       "<style scoped>\n",
       "    .dataframe tbody tr th:only-of-type {\n",
       "        vertical-align: middle;\n",
       "    }\n",
       "\n",
       "    .dataframe tbody tr th {\n",
       "        vertical-align: top;\n",
       "    }\n",
       "\n",
       "    .dataframe thead th {\n",
       "        text-align: right;\n",
       "    }\n",
       "</style>\n",
       "<table border=\"1\" class=\"dataframe\">\n",
       "  <thead>\n",
       "    <tr style=\"text-align: right;\">\n",
       "      <th></th>\n",
       "      <th>drug_id</th>\n",
       "      <th>protein</th>\n",
       "      <th>rank</th>\n",
       "      <th>gene</th>\n",
       "    </tr>\n",
       "  </thead>\n",
       "  <tbody>\n",
       "    <tr>\n",
       "      <th>7</th>\n",
       "      <td>155</td>\n",
       "      <td>TBB4B_HUMAN</td>\n",
       "      <td>2</td>\n",
       "      <td>TUBB4B</td>\n",
       "    </tr>\n",
       "    <tr>\n",
       "      <th>17</th>\n",
       "      <td>306</td>\n",
       "      <td>TBB4B_HUMAN</td>\n",
       "      <td>3</td>\n",
       "      <td>TUBB4B</td>\n",
       "    </tr>\n",
       "    <tr>\n",
       "      <th>13</th>\n",
       "      <td>249</td>\n",
       "      <td>TBB4B_HUMAN</td>\n",
       "      <td>3</td>\n",
       "      <td>TUBB4B</td>\n",
       "    </tr>\n",
       "    <tr>\n",
       "      <th>14</th>\n",
       "      <td>274</td>\n",
       "      <td>TBB4B_HUMAN</td>\n",
       "      <td>3</td>\n",
       "      <td>TUBB4B</td>\n",
       "    </tr>\n",
       "    <tr>\n",
       "      <th>9</th>\n",
       "      <td>179</td>\n",
       "      <td>TBB4B_HUMAN</td>\n",
       "      <td>4</td>\n",
       "      <td>TUBB4B</td>\n",
       "    </tr>\n",
       "    <tr>\n",
       "      <th>39</th>\n",
       "      <td>1909</td>\n",
       "      <td>VTNC_HUMAN</td>\n",
       "      <td>5</td>\n",
       "      <td>VTN</td>\n",
       "    </tr>\n",
       "    <tr>\n",
       "      <th>15</th>\n",
       "      <td>281</td>\n",
       "      <td>TBB4B_HUMAN</td>\n",
       "      <td>5</td>\n",
       "      <td>TUBB4B</td>\n",
       "    </tr>\n",
       "    <tr>\n",
       "      <th>43</th>\n",
       "      <td>1949</td>\n",
       "      <td>VTNC_HUMAN</td>\n",
       "      <td>6</td>\n",
       "      <td>VTN</td>\n",
       "    </tr>\n",
       "    <tr>\n",
       "      <th>21</th>\n",
       "      <td>438</td>\n",
       "      <td>VTNC_HUMAN</td>\n",
       "      <td>7</td>\n",
       "      <td>VTN</td>\n",
       "    </tr>\n",
       "    <tr>\n",
       "      <th>12</th>\n",
       "      <td>238</td>\n",
       "      <td>TBB4B_HUMAN</td>\n",
       "      <td>7</td>\n",
       "      <td>TUBB4B</td>\n",
       "    </tr>\n",
       "  </tbody>\n",
       "</table>\n",
       "</div>"
      ],
      "text/plain": [
       "    drug_id      protein  rank    gene\n",
       "7       155  TBB4B_HUMAN     2  TUBB4B\n",
       "17      306  TBB4B_HUMAN     3  TUBB4B\n",
       "13      249  TBB4B_HUMAN     3  TUBB4B\n",
       "14      274  TBB4B_HUMAN     3  TUBB4B\n",
       "9       179  TBB4B_HUMAN     4  TUBB4B\n",
       "39     1909   VTNC_HUMAN     5     VTN\n",
       "15      281  TBB4B_HUMAN     5  TUBB4B\n",
       "43     1949   VTNC_HUMAN     6     VTN\n",
       "21      438   VTNC_HUMAN     7     VTN\n",
       "12      238  TBB4B_HUMAN     7  TUBB4B"
      ]
     },
     "execution_count": 321,
     "metadata": {},
     "output_type": "execute_result"
    }
   ],
   "source": [
    "res_shap.sort_values(by='rank').head(10)"
   ]
  },
  {
   "cell_type": "code",
   "execution_count": 322,
   "metadata": {
    "ExecuteTime": {
     "end_time": "2020-06-15T05:48:05.908777Z",
     "start_time": "2020-06-15T05:48:05.898882Z"
    }
   },
   "outputs": [
    {
     "data": {
      "text/html": [
       "<div>\n",
       "<style scoped>\n",
       "    .dataframe tbody tr th:only-of-type {\n",
       "        vertical-align: middle;\n",
       "    }\n",
       "\n",
       "    .dataframe tbody tr th {\n",
       "        vertical-align: top;\n",
       "    }\n",
       "\n",
       "    .dataframe thead th {\n",
       "        text-align: right;\n",
       "    }\n",
       "</style>\n",
       "<table border=\"1\" class=\"dataframe\">\n",
       "  <thead>\n",
       "    <tr style=\"text-align: right;\">\n",
       "      <th></th>\n",
       "      <th>drug_id</th>\n",
       "      <th>protein</th>\n",
       "      <th>rank</th>\n",
       "      <th>gene</th>\n",
       "    </tr>\n",
       "  </thead>\n",
       "  <tbody>\n",
       "    <tr>\n",
       "      <th>57</th>\n",
       "      <td>1386</td>\n",
       "      <td>VTNC_HUMAN</td>\n",
       "      <td>0</td>\n",
       "      <td>VTN</td>\n",
       "    </tr>\n",
       "    <tr>\n",
       "      <th>60</th>\n",
       "      <td>1393</td>\n",
       "      <td>VTNC_HUMAN</td>\n",
       "      <td>1</td>\n",
       "      <td>VTN</td>\n",
       "    </tr>\n",
       "    <tr>\n",
       "      <th>67</th>\n",
       "      <td>1543</td>\n",
       "      <td>VTNC_HUMAN</td>\n",
       "      <td>1</td>\n",
       "      <td>VTN</td>\n",
       "    </tr>\n",
       "    <tr>\n",
       "      <th>69</th>\n",
       "      <td>1544</td>\n",
       "      <td>VTNC_HUMAN</td>\n",
       "      <td>4</td>\n",
       "      <td>VTN</td>\n",
       "    </tr>\n",
       "    <tr>\n",
       "      <th>72</th>\n",
       "      <td>1547</td>\n",
       "      <td>VTNC_HUMAN</td>\n",
       "      <td>6</td>\n",
       "      <td>VTN</td>\n",
       "    </tr>\n",
       "    <tr>\n",
       "      <th>32</th>\n",
       "      <td>1021</td>\n",
       "      <td>VTNC_HUMAN</td>\n",
       "      <td>9</td>\n",
       "      <td>VTN</td>\n",
       "    </tr>\n",
       "    <tr>\n",
       "      <th>5</th>\n",
       "      <td>51</td>\n",
       "      <td>VTNC_HUMAN</td>\n",
       "      <td>10</td>\n",
       "      <td>VTN</td>\n",
       "    </tr>\n",
       "    <tr>\n",
       "      <th>17</th>\n",
       "      <td>438</td>\n",
       "      <td>VTNC_HUMAN</td>\n",
       "      <td>12</td>\n",
       "      <td>VTN</td>\n",
       "    </tr>\n",
       "    <tr>\n",
       "      <th>30</th>\n",
       "      <td>1017</td>\n",
       "      <td>VTNC_HUMAN</td>\n",
       "      <td>14</td>\n",
       "      <td>VTN</td>\n",
       "    </tr>\n",
       "    <tr>\n",
       "      <th>39</th>\n",
       "      <td>1080</td>\n",
       "      <td>VTNC_HUMAN</td>\n",
       "      <td>22</td>\n",
       "      <td>VTN</td>\n",
       "    </tr>\n",
       "    <tr>\n",
       "      <th>93</th>\n",
       "      <td>2220</td>\n",
       "      <td>VTNC_HUMAN</td>\n",
       "      <td>23</td>\n",
       "      <td>VTN</td>\n",
       "    </tr>\n",
       "    <tr>\n",
       "      <th>23</th>\n",
       "      <td>1013</td>\n",
       "      <td>VTNC_HUMAN</td>\n",
       "      <td>24</td>\n",
       "      <td>VTN</td>\n",
       "    </tr>\n",
       "    <tr>\n",
       "      <th>41</th>\n",
       "      <td>1083</td>\n",
       "      <td>VTNC_HUMAN</td>\n",
       "      <td>26</td>\n",
       "      <td>VTN</td>\n",
       "    </tr>\n",
       "    <tr>\n",
       "      <th>75</th>\n",
       "      <td>1867</td>\n",
       "      <td>VTNC_HUMAN</td>\n",
       "      <td>30</td>\n",
       "      <td>VTN</td>\n",
       "    </tr>\n",
       "    <tr>\n",
       "      <th>55</th>\n",
       "      <td>1377</td>\n",
       "      <td>VTNC_HUMAN</td>\n",
       "      <td>41</td>\n",
       "      <td>VTN</td>\n",
       "    </tr>\n",
       "  </tbody>\n",
       "</table>\n",
       "</div>"
      ],
      "text/plain": [
       "    drug_id     protein  rank gene\n",
       "57     1386  VTNC_HUMAN     0  VTN\n",
       "60     1393  VTNC_HUMAN     1  VTN\n",
       "67     1543  VTNC_HUMAN     1  VTN\n",
       "69     1544  VTNC_HUMAN     4  VTN\n",
       "72     1547  VTNC_HUMAN     6  VTN\n",
       "32     1021  VTNC_HUMAN     9  VTN\n",
       "5        51  VTNC_HUMAN    10  VTN\n",
       "17      438  VTNC_HUMAN    12  VTN\n",
       "30     1017  VTNC_HUMAN    14  VTN\n",
       "39     1080  VTNC_HUMAN    22  VTN\n",
       "93     2220  VTNC_HUMAN    23  VTN\n",
       "23     1013  VTNC_HUMAN    24  VTN\n",
       "41     1083  VTNC_HUMAN    26  VTN\n",
       "75     1867  VTNC_HUMAN    30  VTN\n",
       "55     1377  VTNC_HUMAN    41  VTN"
      ]
     },
     "execution_count": 322,
     "metadata": {},
     "output_type": "execute_result"
    }
   ],
   "source": [
    "res_en[res_en['protein']=='VTNC_HUMAN'].sort_values(by='rank')"
   ]
  },
  {
   "cell_type": "code",
   "execution_count": 323,
   "metadata": {
    "ExecuteTime": {
     "end_time": "2020-06-15T05:48:06.361467Z",
     "start_time": "2020-06-15T05:48:06.351474Z"
    }
   },
   "outputs": [
    {
     "data": {
      "text/html": [
       "<div>\n",
       "<style scoped>\n",
       "    .dataframe tbody tr th:only-of-type {\n",
       "        vertical-align: middle;\n",
       "    }\n",
       "\n",
       "    .dataframe tbody tr th {\n",
       "        vertical-align: top;\n",
       "    }\n",
       "\n",
       "    .dataframe thead th {\n",
       "        text-align: right;\n",
       "    }\n",
       "</style>\n",
       "<table border=\"1\" class=\"dataframe\">\n",
       "  <thead>\n",
       "    <tr style=\"text-align: right;\">\n",
       "      <th></th>\n",
       "      <th>drug_id</th>\n",
       "      <th>protein</th>\n",
       "      <th>rank</th>\n",
       "      <th>gene</th>\n",
       "    </tr>\n",
       "  </thead>\n",
       "  <tbody>\n",
       "    <tr>\n",
       "      <th>39</th>\n",
       "      <td>1909</td>\n",
       "      <td>VTNC_HUMAN</td>\n",
       "      <td>5</td>\n",
       "      <td>VTN</td>\n",
       "    </tr>\n",
       "    <tr>\n",
       "      <th>43</th>\n",
       "      <td>1949</td>\n",
       "      <td>VTNC_HUMAN</td>\n",
       "      <td>6</td>\n",
       "      <td>VTN</td>\n",
       "    </tr>\n",
       "    <tr>\n",
       "      <th>21</th>\n",
       "      <td>438</td>\n",
       "      <td>VTNC_HUMAN</td>\n",
       "      <td>7</td>\n",
       "      <td>VTN</td>\n",
       "    </tr>\n",
       "    <tr>\n",
       "      <th>11</th>\n",
       "      <td>206</td>\n",
       "      <td>VTNC_HUMAN</td>\n",
       "      <td>12</td>\n",
       "      <td>VTN</td>\n",
       "    </tr>\n",
       "    <tr>\n",
       "      <th>22</th>\n",
       "      <td>1012</td>\n",
       "      <td>VTNC_HUMAN</td>\n",
       "      <td>12</td>\n",
       "      <td>VTN</td>\n",
       "    </tr>\n",
       "    <tr>\n",
       "      <th>36</th>\n",
       "      <td>1867</td>\n",
       "      <td>VTNC_HUMAN</td>\n",
       "      <td>14</td>\n",
       "      <td>VTN</td>\n",
       "    </tr>\n",
       "    <tr>\n",
       "      <th>29</th>\n",
       "      <td>1021</td>\n",
       "      <td>VTNC_HUMAN</td>\n",
       "      <td>15</td>\n",
       "      <td>VTN</td>\n",
       "    </tr>\n",
       "    <tr>\n",
       "      <th>48</th>\n",
       "      <td>2220</td>\n",
       "      <td>VTNC_HUMAN</td>\n",
       "      <td>17</td>\n",
       "      <td>VTN</td>\n",
       "    </tr>\n",
       "    <tr>\n",
       "      <th>45</th>\n",
       "      <td>1989</td>\n",
       "      <td>VTNC_HUMAN</td>\n",
       "      <td>19</td>\n",
       "      <td>VTN</td>\n",
       "    </tr>\n",
       "    <tr>\n",
       "      <th>40</th>\n",
       "      <td>1942</td>\n",
       "      <td>VTNC_HUMAN</td>\n",
       "      <td>22</td>\n",
       "      <td>VTN</td>\n",
       "    </tr>\n",
       "    <tr>\n",
       "      <th>31</th>\n",
       "      <td>1085</td>\n",
       "      <td>VTNC_HUMAN</td>\n",
       "      <td>22</td>\n",
       "      <td>VTN</td>\n",
       "    </tr>\n",
       "    <tr>\n",
       "      <th>27</th>\n",
       "      <td>1017</td>\n",
       "      <td>VTNC_HUMAN</td>\n",
       "      <td>26</td>\n",
       "      <td>VTN</td>\n",
       "    </tr>\n",
       "    <tr>\n",
       "      <th>16</th>\n",
       "      <td>281</td>\n",
       "      <td>VTNC_HUMAN</td>\n",
       "      <td>27</td>\n",
       "      <td>VTN</td>\n",
       "    </tr>\n",
       "    <tr>\n",
       "      <th>32</th>\n",
       "      <td>1199</td>\n",
       "      <td>VTNC_HUMAN</td>\n",
       "      <td>32</td>\n",
       "      <td>VTN</td>\n",
       "    </tr>\n",
       "    <tr>\n",
       "      <th>33</th>\n",
       "      <td>1375</td>\n",
       "      <td>VTNC_HUMAN</td>\n",
       "      <td>37</td>\n",
       "      <td>VTN</td>\n",
       "    </tr>\n",
       "    <tr>\n",
       "      <th>24</th>\n",
       "      <td>1013</td>\n",
       "      <td>VTNC_HUMAN</td>\n",
       "      <td>37</td>\n",
       "      <td>VTN</td>\n",
       "    </tr>\n",
       "    <tr>\n",
       "      <th>35</th>\n",
       "      <td>1794</td>\n",
       "      <td>VTNC_HUMAN</td>\n",
       "      <td>45</td>\n",
       "      <td>VTN</td>\n",
       "    </tr>\n",
       "  </tbody>\n",
       "</table>\n",
       "</div>"
      ],
      "text/plain": [
       "    drug_id     protein  rank gene\n",
       "39     1909  VTNC_HUMAN     5  VTN\n",
       "43     1949  VTNC_HUMAN     6  VTN\n",
       "21      438  VTNC_HUMAN     7  VTN\n",
       "11      206  VTNC_HUMAN    12  VTN\n",
       "22     1012  VTNC_HUMAN    12  VTN\n",
       "36     1867  VTNC_HUMAN    14  VTN\n",
       "29     1021  VTNC_HUMAN    15  VTN\n",
       "48     2220  VTNC_HUMAN    17  VTN\n",
       "45     1989  VTNC_HUMAN    19  VTN\n",
       "40     1942  VTNC_HUMAN    22  VTN\n",
       "31     1085  VTNC_HUMAN    22  VTN\n",
       "27     1017  VTNC_HUMAN    26  VTN\n",
       "16      281  VTNC_HUMAN    27  VTN\n",
       "32     1199  VTNC_HUMAN    32  VTN\n",
       "33     1375  VTNC_HUMAN    37  VTN\n",
       "24     1013  VTNC_HUMAN    37  VTN\n",
       "35     1794  VTNC_HUMAN    45  VTN"
      ]
     },
     "execution_count": 323,
     "metadata": {},
     "output_type": "execute_result"
    }
   ],
   "source": [
    "res_shap[res_shap['protein']=='VTNC_HUMAN'].sort_values(by='rank')"
   ]
  },
  {
   "cell_type": "code",
   "execution_count": null,
   "metadata": {},
   "outputs": [],
   "source": []
  },
  {
   "cell_type": "markdown",
   "metadata": {},
   "source": [
    "## growth out"
   ]
  },
  {
   "cell_type": "code",
   "execution_count": 281,
   "metadata": {
    "ExecuteTime": {
     "end_time": "2020-06-14T09:57:53.792863Z",
     "start_time": "2020-06-14T09:57:52.739458Z"
    }
   },
   "outputs": [],
   "source": [
    "df_rf = pd.read_csv(\"../../work_dirs/protein/RandomForest/feature_importance_202006052029_ruv_min_300_growth_corrected.csv\")\n",
    "df_en = pd.read_csv(\"../../work_dirs/protein/ElasticNet/feature_importance_202006071209_ruv_min_300_growth_corrected.csv\")\n",
    "df_shap = pd.read_csv(\"../../result_files/shap/test_25_202006111047_growth_corrected.csv\")"
   ]
  },
  {
   "cell_type": "code",
   "execution_count": 282,
   "metadata": {
    "ExecuteTime": {
     "end_time": "2020-06-14T09:57:54.425891Z",
     "start_time": "2020-06-14T09:57:53.794578Z"
    }
   },
   "outputs": [
    {
     "name": "stderr",
     "output_type": "stream",
     "text": [
      "<ipython-input-282-52c03cb7e734>:10: SettingWithCopyWarning:\n",
      "\n",
      "\n",
      "A value is trying to be set on a copy of a slice from a DataFrame\n",
      "\n",
      "See the caveats in the documentation: https://pandas.pydata.org/pandas-docs/stable/user_guide/indexing.html#returning-a-view-versus-a-copy\n",
      "\n",
      "<ipython-input-282-52c03cb7e734>:16: SettingWithCopyWarning:\n",
      "\n",
      "\n",
      "A value is trying to be set on a copy of a slice from a DataFrame\n",
      "\n",
      "See the caveats in the documentation: https://pandas.pydata.org/pandas-docs/stable/user_guide/indexing.html#returning-a-view-versus-a-copy\n",
      "\n",
      "<ipython-input-282-52c03cb7e734>:22: SettingWithCopyWarning:\n",
      "\n",
      "\n",
      "A value is trying to be set on a copy of a slice from a DataFrame\n",
      "\n",
      "See the caveats in the documentation: https://pandas.pydata.org/pandas-docs/stable/user_guide/indexing.html#returning-a-view-versus-a-copy\n",
      "\n"
     ]
    }
   ],
   "source": [
    "df_rf_rank = pd.DataFrame({'protein': df_rf['protein']})\n",
    "df_en_rank = pd.DataFrame({'protein': df_en['protein']})\n",
    "df_shap_rank = pd.DataFrame({'protein': df_shap['protein']})\n",
    "\n",
    "for i in drug_list_FDA:\n",
    "    temp = np.argsort(-df_rf[f'importance_{i}'])\n",
    "    ranks = np.empty_like(temp)\n",
    "    ranks[temp] = np.arange(len(df_rf[f'importance_{i}']))\n",
    "    df_rf_rank[f'importance_{i}'] = ranks\n",
    "    df_rf_rank[f'importance_{i}'][df_rf[f'importance_{i}'] == 0] = 9999\n",
    "    \n",
    "    temp = np.argsort(-df_en[f'importance_{i}'].abs())\n",
    "    ranks = np.empty_like(temp)\n",
    "    ranks[temp] = np.arange(len(df_en[f'importance_{i}']))\n",
    "    df_en_rank[f'importance_{i}'] = ranks\n",
    "    df_en_rank[f'importance_{i}'][df_en[f'importance_{i}'] == 0] = 9999\n",
    "    \n",
    "    temp = np.argsort(-df_shap[f'importance_{i}'])\n",
    "    ranks = np.empty_like(temp)\n",
    "    ranks[temp] = np.arange(len(df_shap[f'importance_{i}']))\n",
    "    df_shap_rank[f'importance_{i}'] = ranks\n",
    "    df_shap_rank[f'importance_{i}'][df_shap[f'importance_{i}'] == 0] = 9999\n"
   ]
  },
  {
   "cell_type": "code",
   "execution_count": 283,
   "metadata": {
    "ExecuteTime": {
     "end_time": "2020-06-14T09:57:54.869052Z",
     "start_time": "2020-06-14T09:57:54.428236Z"
    }
   },
   "outputs": [
    {
     "data": {
      "text/plain": [
       "protein\n",
       "LIN7C_HUMAN    2\n",
       "EXOS5_HUMAN    2\n",
       "RU2B_HUMAN     3\n",
       "VTNC_HUMAN     4\n",
       "UBL5_HUMAN     5\n",
       "dtype: int64"
      ]
     },
     "execution_count": 283,
     "metadata": {},
     "output_type": "execute_result"
    }
   ],
   "source": [
    "res_rf = {'drug_id':[], 'protein':[], 'rank':[]}\n",
    "for i in drug_list_FDA:\n",
    "    df_tmp = df_rf_rank[['protein', f'importance_{i}']]\n",
    "    df_tmp = df_tmp[(df_tmp['protein'].isin(target_proteins)) & (df_tmp[f'importance_{i}'] < topN)]\n",
    "    for index, row in df_tmp.iterrows():\n",
    "        res_rf['drug_id'].append(i)\n",
    "        res_rf['protein'].append(row['protein'])\n",
    "        res_rf['rank'].append(row[f'importance_{i}'])\n",
    "res_rf = pd.DataFrame(res_rf)\n",
    "res_rf['gene'] = res_rf['protein'].map(name_map_dict)\n",
    "\n",
    "res_rf.groupby(['protein']).size().sort_values().tail(5)"
   ]
  },
  {
   "cell_type": "code",
   "execution_count": 284,
   "metadata": {
    "ExecuteTime": {
     "end_time": "2020-06-14T09:57:55.232042Z",
     "start_time": "2020-06-14T09:57:54.871663Z"
    }
   },
   "outputs": [
    {
     "data": {
      "text/plain": [
       "protein\n",
       "UQCC2_HUMAN     4\n",
       "PDZ11_HUMAN     7\n",
       "FA5_HUMAN       7\n",
       "SDHF2_HUMAN     7\n",
       "VTNC_HUMAN     20\n",
       "dtype: int64"
      ]
     },
     "execution_count": 284,
     "metadata": {},
     "output_type": "execute_result"
    }
   ],
   "source": [
    "res_en = {'drug_id':[], 'protein':[], 'rank':[]}\n",
    "for i in drug_list_FDA:\n",
    "    df_tmp = df_en_rank[['protein', f'importance_{i}']]\n",
    "    df_tmp = df_tmp[(df_tmp['protein'].isin(target_proteins)) & (df_tmp[f'importance_{i}'] < topN)]\n",
    "    for index, row in df_tmp.iterrows():\n",
    "        res_en['drug_id'].append(i)\n",
    "        res_en['protein'].append(row['protein'])\n",
    "        res_en['rank'].append(row[f'importance_{i}'])\n",
    "res_en = pd.DataFrame(res_en)\n",
    "res_en['gene'] = res_en['protein'].map(name_map_dict)\n",
    "\n",
    "res_en.groupby(['protein']).size().sort_values().tail(5)"
   ]
  },
  {
   "cell_type": "code",
   "execution_count": 285,
   "metadata": {
    "ExecuteTime": {
     "end_time": "2020-06-14T09:57:55.589436Z",
     "start_time": "2020-06-14T09:57:55.233937Z"
    }
   },
   "outputs": [
    {
     "data": {
      "text/plain": [
       "protein\n",
       "TBB4B_HUMAN    18\n",
       "VTNC_HUMAN     28\n",
       "dtype: int64"
      ]
     },
     "execution_count": 285,
     "metadata": {},
     "output_type": "execute_result"
    }
   ],
   "source": [
    "res_shap = {'drug_id':[], 'protein':[], 'rank':[]}\n",
    "for i in drug_list_FDA:\n",
    "    df_tmp = df_shap_rank[['protein', f'importance_{i}']]\n",
    "    df_tmp = df_tmp[(df_tmp['protein'].isin(target_proteins)) & (df_tmp[f'importance_{i}'] < topN)]\n",
    "    for index, row in df_tmp.iterrows():\n",
    "        res_shap['drug_id'].append(i)\n",
    "        res_shap['protein'].append(row['protein'])\n",
    "        res_shap['rank'].append(row[f'importance_{i}'])\n",
    "res_shap = pd.DataFrame(res_shap)\n",
    "res_shap['gene'] = res_shap['protein'].map(name_map_dict)\n",
    "res_shap.groupby(['protein']).size().sort_values().tail(5)"
   ]
  },
  {
   "cell_type": "code",
   "execution_count": 286,
   "metadata": {
    "ExecuteTime": {
     "end_time": "2020-06-14T09:57:55.594083Z",
     "start_time": "2020-06-14T09:57:55.590963Z"
    }
   },
   "outputs": [
    {
     "name": "stdout",
     "output_type": "stream",
     "text": [
      "LIN7C\n",
      "NDUFV1\n",
      "RPL35A\n",
      "EXOSC5\n",
      "PSMA2\n",
      "PSMD8\n",
      "TUBB4B\n",
      "UBL5\n",
      "NOC4L\n",
      "RPS21\n",
      "F5\n",
      "VTN\n",
      "RABL3\n",
      "DAP3\n",
      "SNRPB2\n",
      "PDZD11\n",
      "AAAS\n",
      "NUP107\n",
      "PSMC5\n",
      "RPL30\n"
     ]
    }
   ],
   "source": [
    "for x in res_rf['gene'].unique():\n",
    "    print(x) "
   ]
  },
  {
   "cell_type": "code",
   "execution_count": 287,
   "metadata": {
    "ExecuteTime": {
     "end_time": "2020-06-14T09:57:55.599178Z",
     "start_time": "2020-06-14T09:57:55.596002Z"
    }
   },
   "outputs": [
    {
     "name": "stdout",
     "output_type": "stream",
     "text": [
      "GTF3C3\n",
      "TUBB4B\n",
      "AP3M1\n",
      "VTN\n",
      "PDZD11\n",
      "SDHAF2\n",
      "UBL5\n",
      "HYPK\n",
      "SKIV2L\n",
      "UTP15\n",
      "UQCC2\n",
      "F5\n",
      "NDUFB11\n",
      "PHF14\n",
      "IMP4\n",
      "ITIH2\n",
      "COX7A2L\n",
      "NDUFS7\n"
     ]
    }
   ],
   "source": [
    "for x in res_en['gene'].unique():\n",
    "    print(x) "
   ]
  },
  {
   "cell_type": "code",
   "execution_count": 288,
   "metadata": {
    "ExecuteTime": {
     "end_time": "2020-06-14T09:57:55.603875Z",
     "start_time": "2020-06-14T09:57:55.600740Z"
    },
    "scrolled": false
   },
   "outputs": [
    {
     "name": "stdout",
     "output_type": "stream",
     "text": [
      "TUBB4B\n",
      "VTN\n"
     ]
    }
   ],
   "source": [
    "for x in res_shap['gene'].unique():\n",
    "    print(x) "
   ]
  },
  {
   "cell_type": "code",
   "execution_count": 289,
   "metadata": {
    "ExecuteTime": {
     "end_time": "2020-06-14T09:57:55.614374Z",
     "start_time": "2020-06-14T09:57:55.605322Z"
    }
   },
   "outputs": [
    {
     "data": {
      "text/html": [
       "<div>\n",
       "<style scoped>\n",
       "    .dataframe tbody tr th:only-of-type {\n",
       "        vertical-align: middle;\n",
       "    }\n",
       "\n",
       "    .dataframe tbody tr th {\n",
       "        vertical-align: top;\n",
       "    }\n",
       "\n",
       "    .dataframe thead th {\n",
       "        text-align: right;\n",
       "    }\n",
       "</style>\n",
       "<table border=\"1\" class=\"dataframe\">\n",
       "  <thead>\n",
       "    <tr style=\"text-align: right;\">\n",
       "      <th></th>\n",
       "      <th>drug_id</th>\n",
       "      <th>protein</th>\n",
       "      <th>rank</th>\n",
       "      <th>gene</th>\n",
       "    </tr>\n",
       "  </thead>\n",
       "  <tbody>\n",
       "    <tr>\n",
       "      <th>17</th>\n",
       "      <td>1016</td>\n",
       "      <td>RU2B_HUMAN</td>\n",
       "      <td>1</td>\n",
       "      <td>SNRPB2</td>\n",
       "    </tr>\n",
       "    <tr>\n",
       "      <th>21</th>\n",
       "      <td>1386</td>\n",
       "      <td>VTNC_HUMAN</td>\n",
       "      <td>2</td>\n",
       "      <td>VTN</td>\n",
       "    </tr>\n",
       "    <tr>\n",
       "      <th>26</th>\n",
       "      <td>1544</td>\n",
       "      <td>PRS8_HUMAN</td>\n",
       "      <td>3</td>\n",
       "      <td>PSMC5</td>\n",
       "    </tr>\n",
       "    <tr>\n",
       "      <th>14</th>\n",
       "      <td>1008</td>\n",
       "      <td>UBL5_HUMAN</td>\n",
       "      <td>5</td>\n",
       "      <td>UBL5</td>\n",
       "    </tr>\n",
       "    <tr>\n",
       "      <th>13</th>\n",
       "      <td>1008</td>\n",
       "      <td>RABL3_HUMAN</td>\n",
       "      <td>6</td>\n",
       "      <td>RABL3</td>\n",
       "    </tr>\n",
       "    <tr>\n",
       "      <th>3</th>\n",
       "      <td>37</td>\n",
       "      <td>EXOS5_HUMAN</td>\n",
       "      <td>7</td>\n",
       "      <td>EXOSC5</td>\n",
       "    </tr>\n",
       "    <tr>\n",
       "      <th>25</th>\n",
       "      <td>1535</td>\n",
       "      <td>NU107_HUMAN</td>\n",
       "      <td>7</td>\n",
       "      <td>NUP107</td>\n",
       "    </tr>\n",
       "    <tr>\n",
       "      <th>10</th>\n",
       "      <td>249</td>\n",
       "      <td>RS21_HUMAN</td>\n",
       "      <td>7</td>\n",
       "      <td>RPS21</td>\n",
       "    </tr>\n",
       "    <tr>\n",
       "      <th>12</th>\n",
       "      <td>1007</td>\n",
       "      <td>VTNC_HUMAN</td>\n",
       "      <td>8</td>\n",
       "      <td>VTN</td>\n",
       "    </tr>\n",
       "    <tr>\n",
       "      <th>28</th>\n",
       "      <td>1544</td>\n",
       "      <td>UBL5_HUMAN</td>\n",
       "      <td>9</td>\n",
       "      <td>UBL5</td>\n",
       "    </tr>\n",
       "  </tbody>\n",
       "</table>\n",
       "</div>"
      ],
      "text/plain": [
       "    drug_id      protein  rank    gene\n",
       "17     1016   RU2B_HUMAN     1  SNRPB2\n",
       "21     1386   VTNC_HUMAN     2     VTN\n",
       "26     1544   PRS8_HUMAN     3   PSMC5\n",
       "14     1008   UBL5_HUMAN     5    UBL5\n",
       "13     1008  RABL3_HUMAN     6   RABL3\n",
       "3        37  EXOS5_HUMAN     7  EXOSC5\n",
       "25     1535  NU107_HUMAN     7  NUP107\n",
       "10      249   RS21_HUMAN     7   RPS21\n",
       "12     1007   VTNC_HUMAN     8     VTN\n",
       "28     1544   UBL5_HUMAN     9    UBL5"
      ]
     },
     "execution_count": 289,
     "metadata": {},
     "output_type": "execute_result"
    }
   ],
   "source": [
    "res_rf.sort_values(by='rank').head(10)"
   ]
  },
  {
   "cell_type": "code",
   "execution_count": 290,
   "metadata": {
    "ExecuteTime": {
     "end_time": "2020-06-14T09:57:55.624213Z",
     "start_time": "2020-06-14T09:57:55.615860Z"
    }
   },
   "outputs": [
    {
     "data": {
      "text/html": [
       "<div>\n",
       "<style scoped>\n",
       "    .dataframe tbody tr th:only-of-type {\n",
       "        vertical-align: middle;\n",
       "    }\n",
       "\n",
       "    .dataframe tbody tr th {\n",
       "        vertical-align: top;\n",
       "    }\n",
       "\n",
       "    .dataframe thead th {\n",
       "        text-align: right;\n",
       "    }\n",
       "</style>\n",
       "<table border=\"1\" class=\"dataframe\">\n",
       "  <thead>\n",
       "    <tr style=\"text-align: right;\">\n",
       "      <th></th>\n",
       "      <th>drug_id</th>\n",
       "      <th>protein</th>\n",
       "      <th>rank</th>\n",
       "      <th>gene</th>\n",
       "    </tr>\n",
       "  </thead>\n",
       "  <tbody>\n",
       "    <tr>\n",
       "      <th>44</th>\n",
       "      <td>1511</td>\n",
       "      <td>PDZ11_HUMAN</td>\n",
       "      <td>0</td>\n",
       "      <td>PDZD11</td>\n",
       "    </tr>\n",
       "    <tr>\n",
       "      <th>22</th>\n",
       "      <td>1021</td>\n",
       "      <td>VTNC_HUMAN</td>\n",
       "      <td>0</td>\n",
       "      <td>VTN</td>\n",
       "    </tr>\n",
       "    <tr>\n",
       "      <th>51</th>\n",
       "      <td>1851</td>\n",
       "      <td>FA5_HUMAN</td>\n",
       "      <td>0</td>\n",
       "      <td>F5</td>\n",
       "    </tr>\n",
       "    <tr>\n",
       "      <th>20</th>\n",
       "      <td>1017</td>\n",
       "      <td>VTNC_HUMAN</td>\n",
       "      <td>0</td>\n",
       "      <td>VTN</td>\n",
       "    </tr>\n",
       "    <tr>\n",
       "      <th>15</th>\n",
       "      <td>1013</td>\n",
       "      <td>VTNC_HUMAN</td>\n",
       "      <td>0</td>\n",
       "      <td>VTN</td>\n",
       "    </tr>\n",
       "    <tr>\n",
       "      <th>39</th>\n",
       "      <td>1386</td>\n",
       "      <td>VTNC_HUMAN</td>\n",
       "      <td>1</td>\n",
       "      <td>VTN</td>\n",
       "    </tr>\n",
       "    <tr>\n",
       "      <th>60</th>\n",
       "      <td>1957</td>\n",
       "      <td>FA5_HUMAN</td>\n",
       "      <td>1</td>\n",
       "      <td>F5</td>\n",
       "    </tr>\n",
       "    <tr>\n",
       "      <th>26</th>\n",
       "      <td>1080</td>\n",
       "      <td>VTNC_HUMAN</td>\n",
       "      <td>1</td>\n",
       "      <td>VTN</td>\n",
       "    </tr>\n",
       "    <tr>\n",
       "      <th>32</th>\n",
       "      <td>1190</td>\n",
       "      <td>NDUBB_HUMAN</td>\n",
       "      <td>1</td>\n",
       "      <td>NDUFB11</td>\n",
       "    </tr>\n",
       "    <tr>\n",
       "      <th>28</th>\n",
       "      <td>1083</td>\n",
       "      <td>VTNC_HUMAN</td>\n",
       "      <td>2</td>\n",
       "      <td>VTN</td>\n",
       "    </tr>\n",
       "  </tbody>\n",
       "</table>\n",
       "</div>"
      ],
      "text/plain": [
       "    drug_id      protein  rank     gene\n",
       "44     1511  PDZ11_HUMAN     0   PDZD11\n",
       "22     1021   VTNC_HUMAN     0      VTN\n",
       "51     1851    FA5_HUMAN     0       F5\n",
       "20     1017   VTNC_HUMAN     0      VTN\n",
       "15     1013   VTNC_HUMAN     0      VTN\n",
       "39     1386   VTNC_HUMAN     1      VTN\n",
       "60     1957    FA5_HUMAN     1       F5\n",
       "26     1080   VTNC_HUMAN     1      VTN\n",
       "32     1190  NDUBB_HUMAN     1  NDUFB11\n",
       "28     1083   VTNC_HUMAN     2      VTN"
      ]
     },
     "execution_count": 290,
     "metadata": {},
     "output_type": "execute_result"
    }
   ],
   "source": [
    "res_en.sort_values(by='rank').head(10)"
   ]
  },
  {
   "cell_type": "code",
   "execution_count": 291,
   "metadata": {
    "ExecuteTime": {
     "end_time": "2020-06-14T09:57:55.636958Z",
     "start_time": "2020-06-14T09:57:55.626172Z"
    }
   },
   "outputs": [
    {
     "data": {
      "text/html": [
       "<div>\n",
       "<style scoped>\n",
       "    .dataframe tbody tr th:only-of-type {\n",
       "        vertical-align: middle;\n",
       "    }\n",
       "\n",
       "    .dataframe tbody tr th {\n",
       "        vertical-align: top;\n",
       "    }\n",
       "\n",
       "    .dataframe thead th {\n",
       "        text-align: right;\n",
       "    }\n",
       "</style>\n",
       "<table border=\"1\" class=\"dataframe\">\n",
       "  <thead>\n",
       "    <tr style=\"text-align: right;\">\n",
       "      <th></th>\n",
       "      <th>drug_id</th>\n",
       "      <th>protein</th>\n",
       "      <th>rank</th>\n",
       "      <th>gene</th>\n",
       "    </tr>\n",
       "  </thead>\n",
       "  <tbody>\n",
       "    <tr>\n",
       "      <th>41</th>\n",
       "      <td>1949</td>\n",
       "      <td>VTNC_HUMAN</td>\n",
       "      <td>5</td>\n",
       "      <td>VTN</td>\n",
       "    </tr>\n",
       "    <tr>\n",
       "      <th>39</th>\n",
       "      <td>1909</td>\n",
       "      <td>VTNC_HUMAN</td>\n",
       "      <td>6</td>\n",
       "      <td>VTN</td>\n",
       "    </tr>\n",
       "    <tr>\n",
       "      <th>38</th>\n",
       "      <td>1867</td>\n",
       "      <td>VTNC_HUMAN</td>\n",
       "      <td>6</td>\n",
       "      <td>VTN</td>\n",
       "    </tr>\n",
       "    <tr>\n",
       "      <th>18</th>\n",
       "      <td>1012</td>\n",
       "      <td>VTNC_HUMAN</td>\n",
       "      <td>7</td>\n",
       "      <td>VTN</td>\n",
       "    </tr>\n",
       "    <tr>\n",
       "      <th>21</th>\n",
       "      <td>1021</td>\n",
       "      <td>VTNC_HUMAN</td>\n",
       "      <td>9</td>\n",
       "      <td>VTN</td>\n",
       "    </tr>\n",
       "    <tr>\n",
       "      <th>23</th>\n",
       "      <td>1080</td>\n",
       "      <td>VTNC_HUMAN</td>\n",
       "      <td>9</td>\n",
       "      <td>VTN</td>\n",
       "    </tr>\n",
       "    <tr>\n",
       "      <th>36</th>\n",
       "      <td>1633</td>\n",
       "      <td>VTNC_HUMAN</td>\n",
       "      <td>9</td>\n",
       "      <td>VTN</td>\n",
       "    </tr>\n",
       "    <tr>\n",
       "      <th>29</th>\n",
       "      <td>1199</td>\n",
       "      <td>VTNC_HUMAN</td>\n",
       "      <td>9</td>\n",
       "      <td>VTN</td>\n",
       "    </tr>\n",
       "    <tr>\n",
       "      <th>45</th>\n",
       "      <td>2220</td>\n",
       "      <td>VTNC_HUMAN</td>\n",
       "      <td>10</td>\n",
       "      <td>VTN</td>\n",
       "    </tr>\n",
       "    <tr>\n",
       "      <th>16</th>\n",
       "      <td>1007</td>\n",
       "      <td>VTNC_HUMAN</td>\n",
       "      <td>10</td>\n",
       "      <td>VTN</td>\n",
       "    </tr>\n",
       "    <tr>\n",
       "      <th>37</th>\n",
       "      <td>1851</td>\n",
       "      <td>VTNC_HUMAN</td>\n",
       "      <td>10</td>\n",
       "      <td>VTN</td>\n",
       "    </tr>\n",
       "    <tr>\n",
       "      <th>25</th>\n",
       "      <td>1083</td>\n",
       "      <td>VTNC_HUMAN</td>\n",
       "      <td>11</td>\n",
       "      <td>VTN</td>\n",
       "    </tr>\n",
       "    <tr>\n",
       "      <th>26</th>\n",
       "      <td>1085</td>\n",
       "      <td>VTNC_HUMAN</td>\n",
       "      <td>11</td>\n",
       "      <td>VTN</td>\n",
       "    </tr>\n",
       "    <tr>\n",
       "      <th>30</th>\n",
       "      <td>1259</td>\n",
       "      <td>VTNC_HUMAN</td>\n",
       "      <td>11</td>\n",
       "      <td>VTN</td>\n",
       "    </tr>\n",
       "    <tr>\n",
       "      <th>44</th>\n",
       "      <td>2048</td>\n",
       "      <td>VTNC_HUMAN</td>\n",
       "      <td>11</td>\n",
       "      <td>VTN</td>\n",
       "    </tr>\n",
       "    <tr>\n",
       "      <th>28</th>\n",
       "      <td>1089</td>\n",
       "      <td>VTNC_HUMAN</td>\n",
       "      <td>12</td>\n",
       "      <td>VTN</td>\n",
       "    </tr>\n",
       "    <tr>\n",
       "      <th>20</th>\n",
       "      <td>1017</td>\n",
       "      <td>VTNC_HUMAN</td>\n",
       "      <td>12</td>\n",
       "      <td>VTN</td>\n",
       "    </tr>\n",
       "    <tr>\n",
       "      <th>31</th>\n",
       "      <td>1375</td>\n",
       "      <td>VTNC_HUMAN</td>\n",
       "      <td>13</td>\n",
       "      <td>VTN</td>\n",
       "    </tr>\n",
       "    <tr>\n",
       "      <th>40</th>\n",
       "      <td>1942</td>\n",
       "      <td>VTNC_HUMAN</td>\n",
       "      <td>13</td>\n",
       "      <td>VTN</td>\n",
       "    </tr>\n",
       "    <tr>\n",
       "      <th>27</th>\n",
       "      <td>1088</td>\n",
       "      <td>VTNC_HUMAN</td>\n",
       "      <td>13</td>\n",
       "      <td>VTN</td>\n",
       "    </tr>\n",
       "    <tr>\n",
       "      <th>19</th>\n",
       "      <td>1013</td>\n",
       "      <td>VTNC_HUMAN</td>\n",
       "      <td>14</td>\n",
       "      <td>VTN</td>\n",
       "    </tr>\n",
       "    <tr>\n",
       "      <th>35</th>\n",
       "      <td>1632</td>\n",
       "      <td>VTNC_HUMAN</td>\n",
       "      <td>17</td>\n",
       "      <td>VTN</td>\n",
       "    </tr>\n",
       "    <tr>\n",
       "      <th>22</th>\n",
       "      <td>1054</td>\n",
       "      <td>VTNC_HUMAN</td>\n",
       "      <td>17</td>\n",
       "      <td>VTN</td>\n",
       "    </tr>\n",
       "    <tr>\n",
       "      <th>24</th>\n",
       "      <td>1081</td>\n",
       "      <td>VTNC_HUMAN</td>\n",
       "      <td>18</td>\n",
       "      <td>VTN</td>\n",
       "    </tr>\n",
       "    <tr>\n",
       "      <th>15</th>\n",
       "      <td>1004</td>\n",
       "      <td>VTNC_HUMAN</td>\n",
       "      <td>18</td>\n",
       "      <td>VTN</td>\n",
       "    </tr>\n",
       "    <tr>\n",
       "      <th>42</th>\n",
       "      <td>1957</td>\n",
       "      <td>VTNC_HUMAN</td>\n",
       "      <td>18</td>\n",
       "      <td>VTN</td>\n",
       "    </tr>\n",
       "    <tr>\n",
       "      <th>43</th>\n",
       "      <td>1989</td>\n",
       "      <td>VTNC_HUMAN</td>\n",
       "      <td>19</td>\n",
       "      <td>VTN</td>\n",
       "    </tr>\n",
       "    <tr>\n",
       "      <th>13</th>\n",
       "      <td>281</td>\n",
       "      <td>VTNC_HUMAN</td>\n",
       "      <td>19</td>\n",
       "      <td>VTN</td>\n",
       "    </tr>\n",
       "  </tbody>\n",
       "</table>\n",
       "</div>"
      ],
      "text/plain": [
       "    drug_id     protein  rank gene\n",
       "41     1949  VTNC_HUMAN     5  VTN\n",
       "39     1909  VTNC_HUMAN     6  VTN\n",
       "38     1867  VTNC_HUMAN     6  VTN\n",
       "18     1012  VTNC_HUMAN     7  VTN\n",
       "21     1021  VTNC_HUMAN     9  VTN\n",
       "23     1080  VTNC_HUMAN     9  VTN\n",
       "36     1633  VTNC_HUMAN     9  VTN\n",
       "29     1199  VTNC_HUMAN     9  VTN\n",
       "45     2220  VTNC_HUMAN    10  VTN\n",
       "16     1007  VTNC_HUMAN    10  VTN\n",
       "37     1851  VTNC_HUMAN    10  VTN\n",
       "25     1083  VTNC_HUMAN    11  VTN\n",
       "26     1085  VTNC_HUMAN    11  VTN\n",
       "30     1259  VTNC_HUMAN    11  VTN\n",
       "44     2048  VTNC_HUMAN    11  VTN\n",
       "28     1089  VTNC_HUMAN    12  VTN\n",
       "20     1017  VTNC_HUMAN    12  VTN\n",
       "31     1375  VTNC_HUMAN    13  VTN\n",
       "40     1942  VTNC_HUMAN    13  VTN\n",
       "27     1088  VTNC_HUMAN    13  VTN\n",
       "19     1013  VTNC_HUMAN    14  VTN\n",
       "35     1632  VTNC_HUMAN    17  VTN\n",
       "22     1054  VTNC_HUMAN    17  VTN\n",
       "24     1081  VTNC_HUMAN    18  VTN\n",
       "15     1004  VTNC_HUMAN    18  VTN\n",
       "42     1957  VTNC_HUMAN    18  VTN\n",
       "43     1989  VTNC_HUMAN    19  VTN\n",
       "13      281  VTNC_HUMAN    19  VTN"
      ]
     },
     "execution_count": 291,
     "metadata": {},
     "output_type": "execute_result"
    }
   ],
   "source": [
    "res_shap[res_shap['protein']=='VTNC_HUMAN'].sort_values(by='rank')"
   ]
  },
  {
   "cell_type": "code",
   "execution_count": 292,
   "metadata": {
    "ExecuteTime": {
     "end_time": "2020-06-14T09:57:55.649652Z",
     "start_time": "2020-06-14T09:57:55.641011Z"
    }
   },
   "outputs": [
    {
     "data": {
      "text/html": [
       "<div>\n",
       "<style scoped>\n",
       "    .dataframe tbody tr th:only-of-type {\n",
       "        vertical-align: middle;\n",
       "    }\n",
       "\n",
       "    .dataframe tbody tr th {\n",
       "        vertical-align: top;\n",
       "    }\n",
       "\n",
       "    .dataframe thead th {\n",
       "        text-align: right;\n",
       "    }\n",
       "</style>\n",
       "<table border=\"1\" class=\"dataframe\">\n",
       "  <thead>\n",
       "    <tr style=\"text-align: right;\">\n",
       "      <th></th>\n",
       "      <th>drug_id</th>\n",
       "      <th>protein</th>\n",
       "      <th>rank</th>\n",
       "      <th>gene</th>\n",
       "    </tr>\n",
       "  </thead>\n",
       "  <tbody>\n",
       "    <tr>\n",
       "      <th>1</th>\n",
       "      <td>11</td>\n",
       "      <td>TBB4B_HUMAN</td>\n",
       "      <td>5</td>\n",
       "      <td>TUBB4B</td>\n",
       "    </tr>\n",
       "    <tr>\n",
       "      <th>41</th>\n",
       "      <td>1949</td>\n",
       "      <td>VTNC_HUMAN</td>\n",
       "      <td>5</td>\n",
       "      <td>VTN</td>\n",
       "    </tr>\n",
       "    <tr>\n",
       "      <th>39</th>\n",
       "      <td>1909</td>\n",
       "      <td>VTNC_HUMAN</td>\n",
       "      <td>6</td>\n",
       "      <td>VTN</td>\n",
       "    </tr>\n",
       "    <tr>\n",
       "      <th>38</th>\n",
       "      <td>1867</td>\n",
       "      <td>VTNC_HUMAN</td>\n",
       "      <td>6</td>\n",
       "      <td>VTN</td>\n",
       "    </tr>\n",
       "    <tr>\n",
       "      <th>5</th>\n",
       "      <td>135</td>\n",
       "      <td>TBB4B_HUMAN</td>\n",
       "      <td>7</td>\n",
       "      <td>TUBB4B</td>\n",
       "    </tr>\n",
       "    <tr>\n",
       "      <th>18</th>\n",
       "      <td>1012</td>\n",
       "      <td>VTNC_HUMAN</td>\n",
       "      <td>7</td>\n",
       "      <td>VTN</td>\n",
       "    </tr>\n",
       "    <tr>\n",
       "      <th>21</th>\n",
       "      <td>1021</td>\n",
       "      <td>VTNC_HUMAN</td>\n",
       "      <td>9</td>\n",
       "      <td>VTN</td>\n",
       "    </tr>\n",
       "    <tr>\n",
       "      <th>36</th>\n",
       "      <td>1633</td>\n",
       "      <td>VTNC_HUMAN</td>\n",
       "      <td>9</td>\n",
       "      <td>VTN</td>\n",
       "    </tr>\n",
       "    <tr>\n",
       "      <th>23</th>\n",
       "      <td>1080</td>\n",
       "      <td>VTNC_HUMAN</td>\n",
       "      <td>9</td>\n",
       "      <td>VTN</td>\n",
       "    </tr>\n",
       "    <tr>\n",
       "      <th>29</th>\n",
       "      <td>1199</td>\n",
       "      <td>VTNC_HUMAN</td>\n",
       "      <td>9</td>\n",
       "      <td>VTN</td>\n",
       "    </tr>\n",
       "  </tbody>\n",
       "</table>\n",
       "</div>"
      ],
      "text/plain": [
       "    drug_id      protein  rank    gene\n",
       "1        11  TBB4B_HUMAN     5  TUBB4B\n",
       "41     1949   VTNC_HUMAN     5     VTN\n",
       "39     1909   VTNC_HUMAN     6     VTN\n",
       "38     1867   VTNC_HUMAN     6     VTN\n",
       "5       135  TBB4B_HUMAN     7  TUBB4B\n",
       "18     1012   VTNC_HUMAN     7     VTN\n",
       "21     1021   VTNC_HUMAN     9     VTN\n",
       "36     1633   VTNC_HUMAN     9     VTN\n",
       "23     1080   VTNC_HUMAN     9     VTN\n",
       "29     1199   VTNC_HUMAN     9     VTN"
      ]
     },
     "execution_count": 292,
     "metadata": {},
     "output_type": "execute_result"
    }
   ],
   "source": [
    "res_shap.sort_values(by='rank').head(10)"
   ]
  },
  {
   "cell_type": "code",
   "execution_count": 293,
   "metadata": {
    "ExecuteTime": {
     "end_time": "2020-06-14T09:57:55.673078Z",
     "start_time": "2020-06-14T09:57:55.651845Z"
    }
   },
   "outputs": [
    {
     "data": {
      "text/html": [
       "<div>\n",
       "<style scoped>\n",
       "    .dataframe tbody tr th:only-of-type {\n",
       "        vertical-align: middle;\n",
       "    }\n",
       "\n",
       "    .dataframe tbody tr th {\n",
       "        vertical-align: top;\n",
       "    }\n",
       "\n",
       "    .dataframe thead th {\n",
       "        text-align: right;\n",
       "    }\n",
       "</style>\n",
       "<table border=\"1\" class=\"dataframe\">\n",
       "  <thead>\n",
       "    <tr style=\"text-align: right;\">\n",
       "      <th></th>\n",
       "      <th>drug_id</th>\n",
       "      <th>cell_line_name</th>\n",
       "      <th>model_synonyms</th>\n",
       "      <th>cancer_type_detail</th>\n",
       "      <th>drug_name</th>\n",
       "      <th>putative_gene_target</th>\n",
       "      <th>use_in_publications</th>\n",
       "      <th>model_type</th>\n",
       "      <th>drug_synonyms</th>\n",
       "      <th>RRID</th>\n",
       "      <th>dataset</th>\n",
       "      <th>drug_owner</th>\n",
       "      <th>BROAD_ID</th>\n",
       "      <th>target_pathway</th>\n",
       "      <th>sample_site</th>\n",
       "      <th>growth_properties</th>\n",
       "      <th>webrelease</th>\n",
       "      <th>COSMIC_ID</th>\n",
       "      <th>PUBCHEM</th>\n",
       "      <th>FDA_Approved</th>\n",
       "      <th>sensitive_count</th>\n",
       "    </tr>\n",
       "  </thead>\n",
       "  <tbody>\n",
       "    <tr>\n",
       "      <th>224</th>\n",
       "      <td>1007</td>\n",
       "      <td>201T</td>\n",
       "      <td>NaN</td>\n",
       "      <td>Lung Adenocarcinoma</td>\n",
       "      <td>Docetaxel</td>\n",
       "      <td>NaN</td>\n",
       "      <td>Y</td>\n",
       "      <td>Cell Line</td>\n",
       "      <td>RP-56976, Taxotere</td>\n",
       "      <td>CVCL_X481</td>\n",
       "      <td>GDSC2</td>\n",
       "      <td>GDSC</td>\n",
       "      <td>ACH-002089</td>\n",
       "      <td>Mitosis</td>\n",
       "      <td>Unknown</td>\n",
       "      <td>Unknown</td>\n",
       "      <td>Y</td>\n",
       "      <td>1287381</td>\n",
       "      <td>148124</td>\n",
       "      <td>Yes</td>\n",
       "      <td>500</td>\n",
       "    </tr>\n",
       "    <tr>\n",
       "      <th>229</th>\n",
       "      <td>1012</td>\n",
       "      <td>201T</td>\n",
       "      <td>NaN</td>\n",
       "      <td>Lung Adenocarcinoma</td>\n",
       "      <td>Vorinostat</td>\n",
       "      <td>HDAC1;HDAC10;HDAC2;HDAC3;HDAC4;HDAC5;HDAC6;HDA...</td>\n",
       "      <td>Y</td>\n",
       "      <td>Cell Line</td>\n",
       "      <td>Zolinza, SAHA, suberanilohydroxamic acid, sube...</td>\n",
       "      <td>CVCL_X481</td>\n",
       "      <td>GDSC2</td>\n",
       "      <td>GDSC</td>\n",
       "      <td>ACH-002089</td>\n",
       "      <td>Chromatin histone acetylation</td>\n",
       "      <td>Unknown</td>\n",
       "      <td>Unknown</td>\n",
       "      <td>Y</td>\n",
       "      <td>1287381</td>\n",
       "      <td>5311</td>\n",
       "      <td>Yes</td>\n",
       "      <td>746</td>\n",
       "    </tr>\n",
       "    <tr>\n",
       "      <th>238</th>\n",
       "      <td>1021</td>\n",
       "      <td>201T</td>\n",
       "      <td>NaN</td>\n",
       "      <td>Lung Adenocarcinoma</td>\n",
       "      <td>Axitinib</td>\n",
       "      <td>FLT1;KIT;PDGFRA;PDGFRB</td>\n",
       "      <td>Y</td>\n",
       "      <td>Cell Line</td>\n",
       "      <td>AG-13736, Inlyta</td>\n",
       "      <td>CVCL_X481</td>\n",
       "      <td>GDSC2</td>\n",
       "      <td>GDSC</td>\n",
       "      <td>ACH-002089</td>\n",
       "      <td>RTK signaling</td>\n",
       "      <td>Unknown</td>\n",
       "      <td>Unknown</td>\n",
       "      <td>Y</td>\n",
       "      <td>1287381</td>\n",
       "      <td>6450551</td>\n",
       "      <td>Yes</td>\n",
       "      <td>328</td>\n",
       "    </tr>\n",
       "    <tr>\n",
       "      <th>284</th>\n",
       "      <td>1080</td>\n",
       "      <td>201T</td>\n",
       "      <td>NaN</td>\n",
       "      <td>Lung Adenocarcinoma</td>\n",
       "      <td>Paclitaxel</td>\n",
       "      <td>BCL2;TUBB1</td>\n",
       "      <td>Y</td>\n",
       "      <td>Cell Line</td>\n",
       "      <td>BMS-181339-01, Taxol, Onxol, Paxene, Praxel, A...</td>\n",
       "      <td>CVCL_X481</td>\n",
       "      <td>GDSC2</td>\n",
       "      <td>GDSC</td>\n",
       "      <td>ACH-002089</td>\n",
       "      <td>Mitosis</td>\n",
       "      <td>Unknown</td>\n",
       "      <td>Unknown</td>\n",
       "      <td>Y</td>\n",
       "      <td>1287381</td>\n",
       "      <td>36314</td>\n",
       "      <td>Yes</td>\n",
       "      <td>586</td>\n",
       "    </tr>\n",
       "    <tr>\n",
       "      <th>330</th>\n",
       "      <td>1199</td>\n",
       "      <td>201T</td>\n",
       "      <td>NaN</td>\n",
       "      <td>Lung Adenocarcinoma</td>\n",
       "      <td>Tamoxifen</td>\n",
       "      <td>ESR1</td>\n",
       "      <td>Y</td>\n",
       "      <td>Cell Line</td>\n",
       "      <td>Nolvadex, Soltamox, Zynoplex, ICI-46474, Kessar</td>\n",
       "      <td>CVCL_X481</td>\n",
       "      <td>GDSC2</td>\n",
       "      <td>GDSC</td>\n",
       "      <td>ACH-002089</td>\n",
       "      <td>Hormone-related</td>\n",
       "      <td>Unknown</td>\n",
       "      <td>Unknown</td>\n",
       "      <td>Y</td>\n",
       "      <td>1287381</td>\n",
       "      <td>2733526</td>\n",
       "      <td>Yes</td>\n",
       "      <td>77</td>\n",
       "    </tr>\n",
       "    <tr>\n",
       "      <th>473</th>\n",
       "      <td>1633</td>\n",
       "      <td>201T</td>\n",
       "      <td>NaN</td>\n",
       "      <td>Lung Adenocarcinoma</td>\n",
       "      <td>Abemaciclib</td>\n",
       "      <td>CDK4;CDK6</td>\n",
       "      <td>Y</td>\n",
       "      <td>Cell Line</td>\n",
       "      <td>LY2835219, LY-2835219</td>\n",
       "      <td>CVCL_X481</td>\n",
       "      <td>GDSC2</td>\n",
       "      <td>GDSC</td>\n",
       "      <td>ACH-002089</td>\n",
       "      <td>Cell cycle</td>\n",
       "      <td>Unknown</td>\n",
       "      <td>Unknown</td>\n",
       "      <td>N</td>\n",
       "      <td>1287381</td>\n",
       "      <td>46220502</td>\n",
       "      <td>Yes</td>\n",
       "      <td>185</td>\n",
       "    </tr>\n",
       "    <tr>\n",
       "      <th>504</th>\n",
       "      <td>1867</td>\n",
       "      <td>201T</td>\n",
       "      <td>NaN</td>\n",
       "      <td>Lung Adenocarcinoma</td>\n",
       "      <td>Panobinostat</td>\n",
       "      <td>HDAC1</td>\n",
       "      <td>Y</td>\n",
       "      <td>Cell Line</td>\n",
       "      <td>LBH589, Faridak, Farydak, LBH-589, PANOBINOSTA...</td>\n",
       "      <td>CVCL_X481</td>\n",
       "      <td>GDSC2</td>\n",
       "      <td>GDSC</td>\n",
       "      <td>ACH-002089</td>\n",
       "      <td>Chromatin histone acetylation</td>\n",
       "      <td>Unknown</td>\n",
       "      <td>Unknown</td>\n",
       "      <td>N</td>\n",
       "      <td>1287381</td>\n",
       "      <td>6918837, 23725423</td>\n",
       "      <td>Yes</td>\n",
       "      <td>493</td>\n",
       "    </tr>\n",
       "    <tr>\n",
       "      <th>511</th>\n",
       "      <td>1909</td>\n",
       "      <td>201T</td>\n",
       "      <td>NaN</td>\n",
       "      <td>Lung Adenocarcinoma</td>\n",
       "      <td>Venetoclax</td>\n",
       "      <td>BCL2</td>\n",
       "      <td>Y</td>\n",
       "      <td>Cell Line</td>\n",
       "      <td>ABT-199, Veneclexta, GDC-0199</td>\n",
       "      <td>CVCL_X481</td>\n",
       "      <td>GDSC2</td>\n",
       "      <td>GDSC</td>\n",
       "      <td>ACH-002089</td>\n",
       "      <td>Apoptosis regulation</td>\n",
       "      <td>Unknown</td>\n",
       "      <td>Unknown</td>\n",
       "      <td>Y</td>\n",
       "      <td>1287381</td>\n",
       "      <td>49846579</td>\n",
       "      <td>Yes</td>\n",
       "      <td>345</td>\n",
       "    </tr>\n",
       "    <tr>\n",
       "      <th>545</th>\n",
       "      <td>1949</td>\n",
       "      <td>22RV1</td>\n",
       "      <td>CWR22-Rv1;CWR22-R1</td>\n",
       "      <td>Prostate Carcinoma</td>\n",
       "      <td>Venetoclax</td>\n",
       "      <td>BCL2</td>\n",
       "      <td>Y</td>\n",
       "      <td>Cell Line</td>\n",
       "      <td>SN1043963218, ABT-199</td>\n",
       "      <td>CVCL_1045</td>\n",
       "      <td>GDSC2</td>\n",
       "      <td>AZ</td>\n",
       "      <td>ACH-000956</td>\n",
       "      <td>Apoptosis regulation</td>\n",
       "      <td>Prostate</td>\n",
       "      <td>Adherent</td>\n",
       "      <td>N</td>\n",
       "      <td>924100</td>\n",
       "      <td>NaN</td>\n",
       "      <td>Yes</td>\n",
       "      <td>170</td>\n",
       "    </tr>\n",
       "    <tr>\n",
       "      <th>658</th>\n",
       "      <td>2220</td>\n",
       "      <td>23132-87</td>\n",
       "      <td>St 23132</td>\n",
       "      <td>Gastric Adenocarcinoma</td>\n",
       "      <td>Regorafenib</td>\n",
       "      <td>KIT</td>\n",
       "      <td>Y</td>\n",
       "      <td>Cell Line</td>\n",
       "      <td>SN1054471117</td>\n",
       "      <td>CVCL_1046</td>\n",
       "      <td>GDSC2</td>\n",
       "      <td>AZ</td>\n",
       "      <td>ACH-000948</td>\n",
       "      <td>RTK signaling</td>\n",
       "      <td>Unknown</td>\n",
       "      <td>Adherent</td>\n",
       "      <td>N</td>\n",
       "      <td>910924</td>\n",
       "      <td>NaN</td>\n",
       "      <td>Yes</td>\n",
       "      <td>99</td>\n",
       "    </tr>\n",
       "  </tbody>\n",
       "</table>\n",
       "</div>"
      ],
      "text/plain": [
       "     drug_id cell_line_name      model_synonyms      cancer_type_detail  \\\n",
       "224     1007           201T                 NaN     Lung Adenocarcinoma   \n",
       "229     1012           201T                 NaN     Lung Adenocarcinoma   \n",
       "238     1021           201T                 NaN     Lung Adenocarcinoma   \n",
       "284     1080           201T                 NaN     Lung Adenocarcinoma   \n",
       "330     1199           201T                 NaN     Lung Adenocarcinoma   \n",
       "473     1633           201T                 NaN     Lung Adenocarcinoma   \n",
       "504     1867           201T                 NaN     Lung Adenocarcinoma   \n",
       "511     1909           201T                 NaN     Lung Adenocarcinoma   \n",
       "545     1949          22RV1  CWR22-Rv1;CWR22-R1      Prostate Carcinoma   \n",
       "658     2220       23132-87            St 23132  Gastric Adenocarcinoma   \n",
       "\n",
       "        drug_name                               putative_gene_target  \\\n",
       "224     Docetaxel                                                NaN   \n",
       "229    Vorinostat  HDAC1;HDAC10;HDAC2;HDAC3;HDAC4;HDAC5;HDAC6;HDA...   \n",
       "238      Axitinib                             FLT1;KIT;PDGFRA;PDGFRB   \n",
       "284    Paclitaxel                                         BCL2;TUBB1   \n",
       "330     Tamoxifen                                               ESR1   \n",
       "473   Abemaciclib                                          CDK4;CDK6   \n",
       "504  Panobinostat                                              HDAC1   \n",
       "511    Venetoclax                                               BCL2   \n",
       "545    Venetoclax                                               BCL2   \n",
       "658   Regorafenib                                                KIT   \n",
       "\n",
       "    use_in_publications model_type  \\\n",
       "224                   Y  Cell Line   \n",
       "229                   Y  Cell Line   \n",
       "238                   Y  Cell Line   \n",
       "284                   Y  Cell Line   \n",
       "330                   Y  Cell Line   \n",
       "473                   Y  Cell Line   \n",
       "504                   Y  Cell Line   \n",
       "511                   Y  Cell Line   \n",
       "545                   Y  Cell Line   \n",
       "658                   Y  Cell Line   \n",
       "\n",
       "                                         drug_synonyms       RRID dataset  \\\n",
       "224                                 RP-56976, Taxotere  CVCL_X481   GDSC2   \n",
       "229  Zolinza, SAHA, suberanilohydroxamic acid, sube...  CVCL_X481   GDSC2   \n",
       "238                                   AG-13736, Inlyta  CVCL_X481   GDSC2   \n",
       "284  BMS-181339-01, Taxol, Onxol, Paxene, Praxel, A...  CVCL_X481   GDSC2   \n",
       "330    Nolvadex, Soltamox, Zynoplex, ICI-46474, Kessar  CVCL_X481   GDSC2   \n",
       "473                              LY2835219, LY-2835219  CVCL_X481   GDSC2   \n",
       "504  LBH589, Faridak, Farydak, LBH-589, PANOBINOSTA...  CVCL_X481   GDSC2   \n",
       "511                      ABT-199, Veneclexta, GDC-0199  CVCL_X481   GDSC2   \n",
       "545                              SN1043963218, ABT-199  CVCL_1045   GDSC2   \n",
       "658                                       SN1054471117  CVCL_1046   GDSC2   \n",
       "\n",
       "    drug_owner    BROAD_ID                 target_pathway sample_site  \\\n",
       "224       GDSC  ACH-002089                        Mitosis     Unknown   \n",
       "229       GDSC  ACH-002089  Chromatin histone acetylation     Unknown   \n",
       "238       GDSC  ACH-002089                  RTK signaling     Unknown   \n",
       "284       GDSC  ACH-002089                        Mitosis     Unknown   \n",
       "330       GDSC  ACH-002089                Hormone-related     Unknown   \n",
       "473       GDSC  ACH-002089                     Cell cycle     Unknown   \n",
       "504       GDSC  ACH-002089  Chromatin histone acetylation     Unknown   \n",
       "511       GDSC  ACH-002089           Apoptosis regulation     Unknown   \n",
       "545         AZ  ACH-000956           Apoptosis regulation    Prostate   \n",
       "658         AZ  ACH-000948                  RTK signaling     Unknown   \n",
       "\n",
       "    growth_properties webrelease  COSMIC_ID            PUBCHEM FDA_Approved  \\\n",
       "224           Unknown          Y    1287381             148124          Yes   \n",
       "229           Unknown          Y    1287381               5311          Yes   \n",
       "238           Unknown          Y    1287381            6450551          Yes   \n",
       "284           Unknown          Y    1287381              36314          Yes   \n",
       "330           Unknown          Y    1287381            2733526          Yes   \n",
       "473           Unknown          N    1287381           46220502          Yes   \n",
       "504           Unknown          N    1287381  6918837, 23725423          Yes   \n",
       "511           Unknown          Y    1287381           49846579          Yes   \n",
       "545          Adherent          N     924100                NaN          Yes   \n",
       "658          Adherent          N     910924                NaN          Yes   \n",
       "\n",
       "     sensitive_count  \n",
       "224              500  \n",
       "229              746  \n",
       "238              328  \n",
       "284              586  \n",
       "330               77  \n",
       "473              185  \n",
       "504              493  \n",
       "511              345  \n",
       "545              170  \n",
       "658               99  "
      ]
     },
     "execution_count": 293,
     "metadata": {},
     "output_type": "execute_result"
    }
   ],
   "source": [
    "drug_meta[drug_meta['drug_id'].isin(\n",
    "    res_shap[res_shap['protein'] == 'VTNC_HUMAN'].sort_values(\n",
    "        by='rank').head(10)['drug_id'])]"
   ]
  },
  {
   "cell_type": "markdown",
   "metadata": {},
   "source": [
    "## PC1"
   ]
  },
  {
   "cell_type": "code",
   "execution_count": 294,
   "metadata": {
    "ExecuteTime": {
     "end_time": "2020-06-14T09:57:56.751430Z",
     "start_time": "2020-06-14T09:57:55.674586Z"
    }
   },
   "outputs": [],
   "source": [
    "df_rf = pd.read_csv(\"../../work_dirs/protein/RandomForest/feature_importance_202006061137_ruv_min_300_pc1_corrected.csv\")\n",
    "df_en = pd.read_csv(\"../../work_dirs/protein/ElasticNet/feature_importance_202006071209_ruv_min_300_pc1_corrected.csv\")\n",
    "df_shap = pd.read_csv(\"../../result_files/shap/test_25_202006111047_pc1_corrected.csv\")"
   ]
  },
  {
   "cell_type": "code",
   "execution_count": 295,
   "metadata": {
    "ExecuteTime": {
     "end_time": "2020-06-14T09:57:57.403116Z",
     "start_time": "2020-06-14T09:57:56.752829Z"
    }
   },
   "outputs": [
    {
     "name": "stderr",
     "output_type": "stream",
     "text": [
      "<ipython-input-295-52c03cb7e734>:10: SettingWithCopyWarning:\n",
      "\n",
      "\n",
      "A value is trying to be set on a copy of a slice from a DataFrame\n",
      "\n",
      "See the caveats in the documentation: https://pandas.pydata.org/pandas-docs/stable/user_guide/indexing.html#returning-a-view-versus-a-copy\n",
      "\n",
      "<ipython-input-295-52c03cb7e734>:16: SettingWithCopyWarning:\n",
      "\n",
      "\n",
      "A value is trying to be set on a copy of a slice from a DataFrame\n",
      "\n",
      "See the caveats in the documentation: https://pandas.pydata.org/pandas-docs/stable/user_guide/indexing.html#returning-a-view-versus-a-copy\n",
      "\n",
      "<ipython-input-295-52c03cb7e734>:22: SettingWithCopyWarning:\n",
      "\n",
      "\n",
      "A value is trying to be set on a copy of a slice from a DataFrame\n",
      "\n",
      "See the caveats in the documentation: https://pandas.pydata.org/pandas-docs/stable/user_guide/indexing.html#returning-a-view-versus-a-copy\n",
      "\n"
     ]
    }
   ],
   "source": [
    "df_rf_rank = pd.DataFrame({'protein': df_rf['protein']})\n",
    "df_en_rank = pd.DataFrame({'protein': df_en['protein']})\n",
    "df_shap_rank = pd.DataFrame({'protein': df_shap['protein']})\n",
    "\n",
    "for i in drug_list_FDA:\n",
    "    temp = np.argsort(-df_rf[f'importance_{i}'])\n",
    "    ranks = np.empty_like(temp)\n",
    "    ranks[temp] = np.arange(len(df_rf[f'importance_{i}']))\n",
    "    df_rf_rank[f'importance_{i}'] = ranks\n",
    "    df_rf_rank[f'importance_{i}'][df_rf[f'importance_{i}'] == 0] = 9999\n",
    "    \n",
    "    temp = np.argsort(-df_en[f'importance_{i}'].abs())\n",
    "    ranks = np.empty_like(temp)\n",
    "    ranks[temp] = np.arange(len(df_en[f'importance_{i}']))\n",
    "    df_en_rank[f'importance_{i}'] = ranks\n",
    "    df_en_rank[f'importance_{i}'][df_en[f'importance_{i}'] == 0] = 9999\n",
    "    \n",
    "    temp = np.argsort(-df_shap[f'importance_{i}'])\n",
    "    ranks = np.empty_like(temp)\n",
    "    ranks[temp] = np.arange(len(df_shap[f'importance_{i}']))\n",
    "    df_shap_rank[f'importance_{i}'] = ranks\n",
    "    df_shap_rank[f'importance_{i}'][df_shap[f'importance_{i}'] == 0] = 9999\n"
   ]
  },
  {
   "cell_type": "code",
   "execution_count": 296,
   "metadata": {
    "ExecuteTime": {
     "end_time": "2020-06-14T09:57:57.853173Z",
     "start_time": "2020-06-14T09:57:57.405259Z"
    }
   },
   "outputs": [
    {
     "data": {
      "text/plain": [
       "protein\n",
       "NU133_HUMAN    3\n",
       "NDUS5_HUMAN    3\n",
       "FA5_HUMAN      3\n",
       "RU2B_HUMAN     4\n",
       "VTNC_HUMAN     9\n",
       "dtype: int64"
      ]
     },
     "execution_count": 296,
     "metadata": {},
     "output_type": "execute_result"
    }
   ],
   "source": [
    "res_rf = {'drug_id':[], 'protein':[], 'rank':[]}\n",
    "for i in drug_list_FDA:\n",
    "    df_tmp = df_rf_rank[['protein', f'importance_{i}']]\n",
    "    df_tmp = df_tmp[(df_tmp['protein'].isin(target_proteins)) & (df_tmp[f'importance_{i}'] < topN)]\n",
    "    for index, row in df_tmp.iterrows():\n",
    "        res_rf['drug_id'].append(i)\n",
    "        res_rf['protein'].append(row['protein'])\n",
    "        res_rf['rank'].append(row[f'importance_{i}'])\n",
    "res_rf = pd.DataFrame(res_rf)\n",
    "res_rf['gene'] = res_rf['protein'].map(name_map_dict)\n",
    "\n",
    "res_rf.groupby(['protein']).size().sort_values().tail(5)"
   ]
  },
  {
   "cell_type": "code",
   "execution_count": 297,
   "metadata": {
    "ExecuteTime": {
     "end_time": "2020-06-14T09:57:58.211772Z",
     "start_time": "2020-06-14T09:57:57.855451Z"
    }
   },
   "outputs": [
    {
     "data": {
      "text/plain": [
       "protein\n",
       "UBL5_HUMAN     2\n",
       "PHF14_HUMAN    2\n",
       "PDZ11_HUMAN    3\n",
       "FA5_HUMAN      8\n",
       "VTNC_HUMAN     9\n",
       "dtype: int64"
      ]
     },
     "execution_count": 297,
     "metadata": {},
     "output_type": "execute_result"
    }
   ],
   "source": [
    "res_en = {'drug_id':[], 'protein':[], 'rank':[]}\n",
    "for i in drug_list_FDA:\n",
    "    df_tmp = df_en_rank[['protein', f'importance_{i}']]\n",
    "    df_tmp = df_tmp[(df_tmp['protein'].isin(target_proteins)) & (df_tmp[f'importance_{i}'] < topN)]\n",
    "    for index, row in df_tmp.iterrows():\n",
    "        res_en['drug_id'].append(i)\n",
    "        res_en['protein'].append(row['protein'])\n",
    "        res_en['rank'].append(row[f'importance_{i}'])\n",
    "res_en = pd.DataFrame(res_en)\n",
    "res_en['gene'] = res_en['protein'].map(name_map_dict)\n",
    "\n",
    "res_en.groupby(['protein']).size().sort_values().tail(5)"
   ]
  },
  {
   "cell_type": "code",
   "execution_count": 298,
   "metadata": {
    "ExecuteTime": {
     "end_time": "2020-06-14T09:57:58.656418Z",
     "start_time": "2020-06-14T09:57:58.213353Z"
    }
   },
   "outputs": [
    {
     "data": {
      "text/plain": [
       "protein\n",
       "VTNC_HUMAN     3\n",
       "UBL5_HUMAN     7\n",
       "TBB4B_HUMAN    9\n",
       "dtype: int64"
      ]
     },
     "execution_count": 298,
     "metadata": {},
     "output_type": "execute_result"
    }
   ],
   "source": [
    "res_shap = {'drug_id':[], 'protein':[], 'rank':[]}\n",
    "for i in drug_list_FDA:\n",
    "    df_tmp = df_shap_rank[['protein', f'importance_{i}']]\n",
    "    df_tmp = df_tmp[(df_tmp['protein'].isin(target_proteins)) & (df_tmp[f'importance_{i}'] < topN)]\n",
    "    for index, row in df_tmp.iterrows():\n",
    "        res_shap['drug_id'].append(i)\n",
    "        res_shap['protein'].append(row['protein'])\n",
    "        res_shap['rank'].append(row[f'importance_{i}'])\n",
    "res_shap = pd.DataFrame(res_shap)\n",
    "res_shap['gene'] = res_shap['protein'].map(name_map_dict)\n",
    "res_shap.groupby(['protein']).size().sort_values().tail(5)"
   ]
  },
  {
   "cell_type": "code",
   "execution_count": 299,
   "metadata": {
    "ExecuteTime": {
     "end_time": "2020-06-14T09:57:58.661452Z",
     "start_time": "2020-06-14T09:57:58.658179Z"
    }
   },
   "outputs": [
    {
     "name": "stdout",
     "output_type": "stream",
     "text": [
      "EXOSC2\n",
      "PSMD8\n",
      "TUBB4B\n",
      "VTN\n",
      "NOC4L\n",
      "ATP5PB\n",
      "F5\n",
      "NUP133\n",
      "NDUFA9\n",
      "NDUFS5\n",
      "RABL3\n",
      "SNRPB2\n",
      "DAP3\n",
      "IDH3B\n",
      "UBL5\n",
      "NDUFV2\n",
      "SUPT4H1\n",
      "MRPL39\n",
      "SNRPD1\n",
      "AAAS\n",
      "LAS1L\n",
      "PSMB6\n",
      "EXOSC1\n",
      "PSMD3\n",
      "POLR2C\n",
      "COX7A2\n",
      "MRPS11\n",
      "WDR18\n",
      "RPL37A\n"
     ]
    }
   ],
   "source": [
    "for x in res_rf['gene'].unique():\n",
    "    print(x) "
   ]
  },
  {
   "cell_type": "code",
   "execution_count": 300,
   "metadata": {
    "ExecuteTime": {
     "end_time": "2020-06-14T09:57:58.666314Z",
     "start_time": "2020-06-14T09:57:58.663272Z"
    },
    "scrolled": false
   },
   "outputs": [
    {
     "name": "stdout",
     "output_type": "stream",
     "text": [
      "GTF3C3\n",
      "AP3M1\n",
      "VTN\n",
      "PDZD11\n",
      "RPA3\n",
      "UBL5\n",
      "SKIV2L\n",
      "UTP15\n",
      "MRPL16\n",
      "F5\n",
      "PSMB6\n",
      "POMP\n",
      "RABL3\n",
      "PHF14\n",
      "IMP4\n",
      "ITIH2\n",
      "TOMM22\n",
      "CTSG\n",
      "SDHAF2\n"
     ]
    }
   ],
   "source": [
    "for x in res_en['gene'].unique():\n",
    "    print(x) "
   ]
  },
  {
   "cell_type": "code",
   "execution_count": 301,
   "metadata": {
    "ExecuteTime": {
     "end_time": "2020-06-14T09:57:58.671552Z",
     "start_time": "2020-06-14T09:57:58.667969Z"
    },
    "scrolled": false
   },
   "outputs": [
    {
     "name": "stdout",
     "output_type": "stream",
     "text": [
      "TUBB4B\n",
      "UBL5\n",
      "VTN\n"
     ]
    }
   ],
   "source": [
    "for x in res_shap['gene'].unique():\n",
    "    print(x) "
   ]
  },
  {
   "cell_type": "code",
   "execution_count": 302,
   "metadata": {
    "ExecuteTime": {
     "end_time": "2020-06-14T09:57:58.681621Z",
     "start_time": "2020-06-14T09:57:58.673040Z"
    }
   },
   "outputs": [
    {
     "data": {
      "text/html": [
       "<div>\n",
       "<style scoped>\n",
       "    .dataframe tbody tr th:only-of-type {\n",
       "        vertical-align: middle;\n",
       "    }\n",
       "\n",
       "    .dataframe tbody tr th {\n",
       "        vertical-align: top;\n",
       "    }\n",
       "\n",
       "    .dataframe thead th {\n",
       "        text-align: right;\n",
       "    }\n",
       "</style>\n",
       "<table border=\"1\" class=\"dataframe\">\n",
       "  <thead>\n",
       "    <tr style=\"text-align: right;\">\n",
       "      <th></th>\n",
       "      <th>drug_id</th>\n",
       "      <th>protein</th>\n",
       "      <th>rank</th>\n",
       "      <th>gene</th>\n",
       "    </tr>\n",
       "  </thead>\n",
       "  <tbody>\n",
       "    <tr>\n",
       "      <th>34</th>\n",
       "      <td>1386</td>\n",
       "      <td>VTNC_HUMAN</td>\n",
       "      <td>0</td>\n",
       "      <td>VTN</td>\n",
       "    </tr>\n",
       "    <tr>\n",
       "      <th>46</th>\n",
       "      <td>1911</td>\n",
       "      <td>RT11_HUMAN</td>\n",
       "      <td>0</td>\n",
       "      <td>MRPS11</td>\n",
       "    </tr>\n",
       "    <tr>\n",
       "      <th>15</th>\n",
       "      <td>1016</td>\n",
       "      <td>RU2B_HUMAN</td>\n",
       "      <td>0</td>\n",
       "      <td>SNRPB2</td>\n",
       "    </tr>\n",
       "    <tr>\n",
       "      <th>38</th>\n",
       "      <td>1543</td>\n",
       "      <td>VTNC_HUMAN</td>\n",
       "      <td>1</td>\n",
       "      <td>VTN</td>\n",
       "    </tr>\n",
       "    <tr>\n",
       "      <th>28</th>\n",
       "      <td>1175</td>\n",
       "      <td>RABL3_HUMAN</td>\n",
       "      <td>1</td>\n",
       "      <td>RABL3</td>\n",
       "    </tr>\n",
       "    <tr>\n",
       "      <th>9</th>\n",
       "      <td>1006</td>\n",
       "      <td>NDUA9_HUMAN</td>\n",
       "      <td>1</td>\n",
       "      <td>NDUFA9</td>\n",
       "    </tr>\n",
       "    <tr>\n",
       "      <th>32</th>\n",
       "      <td>1199</td>\n",
       "      <td>NDUS5_HUMAN</td>\n",
       "      <td>1</td>\n",
       "      <td>NDUFS5</td>\n",
       "    </tr>\n",
       "    <tr>\n",
       "      <th>19</th>\n",
       "      <td>1021</td>\n",
       "      <td>IDH3B_HUMAN</td>\n",
       "      <td>2</td>\n",
       "      <td>IDH3B</td>\n",
       "    </tr>\n",
       "    <tr>\n",
       "      <th>14</th>\n",
       "      <td>1008</td>\n",
       "      <td>RABL3_HUMAN</td>\n",
       "      <td>2</td>\n",
       "      <td>RABL3</td>\n",
       "    </tr>\n",
       "    <tr>\n",
       "      <th>35</th>\n",
       "      <td>1393</td>\n",
       "      <td>VTNC_HUMAN</td>\n",
       "      <td>3</td>\n",
       "      <td>VTN</td>\n",
       "    </tr>\n",
       "  </tbody>\n",
       "</table>\n",
       "</div>"
      ],
      "text/plain": [
       "    drug_id      protein  rank    gene\n",
       "34     1386   VTNC_HUMAN     0     VTN\n",
       "46     1911   RT11_HUMAN     0  MRPS11\n",
       "15     1016   RU2B_HUMAN     0  SNRPB2\n",
       "38     1543   VTNC_HUMAN     1     VTN\n",
       "28     1175  RABL3_HUMAN     1   RABL3\n",
       "9      1006  NDUA9_HUMAN     1  NDUFA9\n",
       "32     1199  NDUS5_HUMAN     1  NDUFS5\n",
       "19     1021  IDH3B_HUMAN     2   IDH3B\n",
       "14     1008  RABL3_HUMAN     2   RABL3\n",
       "35     1393   VTNC_HUMAN     3     VTN"
      ]
     },
     "execution_count": 302,
     "metadata": {},
     "output_type": "execute_result"
    }
   ],
   "source": [
    "res_rf.sort_values(by='rank').head(10)"
   ]
  },
  {
   "cell_type": "code",
   "execution_count": 303,
   "metadata": {
    "ExecuteTime": {
     "end_time": "2020-06-14T09:57:58.694170Z",
     "start_time": "2020-06-14T09:57:58.685449Z"
    }
   },
   "outputs": [
    {
     "data": {
      "text/html": [
       "<div>\n",
       "<style scoped>\n",
       "    .dataframe tbody tr th:only-of-type {\n",
       "        vertical-align: middle;\n",
       "    }\n",
       "\n",
       "    .dataframe tbody tr th {\n",
       "        vertical-align: top;\n",
       "    }\n",
       "\n",
       "    .dataframe thead th {\n",
       "        text-align: right;\n",
       "    }\n",
       "</style>\n",
       "<table border=\"1\" class=\"dataframe\">\n",
       "  <thead>\n",
       "    <tr style=\"text-align: right;\">\n",
       "      <th></th>\n",
       "      <th>drug_id</th>\n",
       "      <th>protein</th>\n",
       "      <th>rank</th>\n",
       "      <th>gene</th>\n",
       "    </tr>\n",
       "  </thead>\n",
       "  <tbody>\n",
       "    <tr>\n",
       "      <th>20</th>\n",
       "      <td>1386</td>\n",
       "      <td>VTNC_HUMAN</td>\n",
       "      <td>0</td>\n",
       "      <td>VTN</td>\n",
       "    </tr>\n",
       "    <tr>\n",
       "      <th>36</th>\n",
       "      <td>1547</td>\n",
       "      <td>VTNC_HUMAN</td>\n",
       "      <td>0</td>\n",
       "      <td>VTN</td>\n",
       "    </tr>\n",
       "    <tr>\n",
       "      <th>34</th>\n",
       "      <td>1546</td>\n",
       "      <td>VTNC_HUMAN</td>\n",
       "      <td>0</td>\n",
       "      <td>VTN</td>\n",
       "    </tr>\n",
       "    <tr>\n",
       "      <th>31</th>\n",
       "      <td>1544</td>\n",
       "      <td>VTNC_HUMAN</td>\n",
       "      <td>0</td>\n",
       "      <td>VTN</td>\n",
       "    </tr>\n",
       "    <tr>\n",
       "      <th>30</th>\n",
       "      <td>1543</td>\n",
       "      <td>VTNC_HUMAN</td>\n",
       "      <td>0</td>\n",
       "      <td>VTN</td>\n",
       "    </tr>\n",
       "    <tr>\n",
       "      <th>23</th>\n",
       "      <td>1393</td>\n",
       "      <td>VTNC_HUMAN</td>\n",
       "      <td>0</td>\n",
       "      <td>VTN</td>\n",
       "    </tr>\n",
       "    <tr>\n",
       "      <th>7</th>\n",
       "      <td>1006</td>\n",
       "      <td>UBL5_HUMAN</td>\n",
       "      <td>1</td>\n",
       "      <td>UBL5</td>\n",
       "    </tr>\n",
       "    <tr>\n",
       "      <th>29</th>\n",
       "      <td>1543</td>\n",
       "      <td>FA5_HUMAN</td>\n",
       "      <td>1</td>\n",
       "      <td>F5</td>\n",
       "    </tr>\n",
       "    <tr>\n",
       "      <th>39</th>\n",
       "      <td>2220</td>\n",
       "      <td>SKIV2_HUMAN</td>\n",
       "      <td>3</td>\n",
       "      <td>SKIV2L</td>\n",
       "    </tr>\n",
       "    <tr>\n",
       "      <th>17</th>\n",
       "      <td>1259</td>\n",
       "      <td>POMP_HUMAN</td>\n",
       "      <td>3</td>\n",
       "      <td>POMP</td>\n",
       "    </tr>\n",
       "  </tbody>\n",
       "</table>\n",
       "</div>"
      ],
      "text/plain": [
       "    drug_id      protein  rank    gene\n",
       "20     1386   VTNC_HUMAN     0     VTN\n",
       "36     1547   VTNC_HUMAN     0     VTN\n",
       "34     1546   VTNC_HUMAN     0     VTN\n",
       "31     1544   VTNC_HUMAN     0     VTN\n",
       "30     1543   VTNC_HUMAN     0     VTN\n",
       "23     1393   VTNC_HUMAN     0     VTN\n",
       "7      1006   UBL5_HUMAN     1    UBL5\n",
       "29     1543    FA5_HUMAN     1      F5\n",
       "39     2220  SKIV2_HUMAN     3  SKIV2L\n",
       "17     1259   POMP_HUMAN     3    POMP"
      ]
     },
     "execution_count": 303,
     "metadata": {},
     "output_type": "execute_result"
    }
   ],
   "source": [
    "res_en.sort_values(by='rank').head(10)"
   ]
  },
  {
   "cell_type": "code",
   "execution_count": 304,
   "metadata": {
    "ExecuteTime": {
     "end_time": "2020-06-14T09:57:58.705168Z",
     "start_time": "2020-06-14T09:57:58.696264Z"
    }
   },
   "outputs": [
    {
     "data": {
      "text/html": [
       "<div>\n",
       "<style scoped>\n",
       "    .dataframe tbody tr th:only-of-type {\n",
       "        vertical-align: middle;\n",
       "    }\n",
       "\n",
       "    .dataframe tbody tr th {\n",
       "        vertical-align: top;\n",
       "    }\n",
       "\n",
       "    .dataframe thead th {\n",
       "        text-align: right;\n",
       "    }\n",
       "</style>\n",
       "<table border=\"1\" class=\"dataframe\">\n",
       "  <thead>\n",
       "    <tr style=\"text-align: right;\">\n",
       "      <th></th>\n",
       "      <th>drug_id</th>\n",
       "      <th>protein</th>\n",
       "      <th>rank</th>\n",
       "      <th>gene</th>\n",
       "    </tr>\n",
       "  </thead>\n",
       "  <tbody>\n",
       "    <tr>\n",
       "      <th>14</th>\n",
       "      <td>1386</td>\n",
       "      <td>VTNC_HUMAN</td>\n",
       "      <td>15</td>\n",
       "      <td>VTN</td>\n",
       "    </tr>\n",
       "    <tr>\n",
       "      <th>15</th>\n",
       "      <td>1393</td>\n",
       "      <td>VTNC_HUMAN</td>\n",
       "      <td>17</td>\n",
       "      <td>VTN</td>\n",
       "    </tr>\n",
       "    <tr>\n",
       "      <th>16</th>\n",
       "      <td>1511</td>\n",
       "      <td>VTNC_HUMAN</td>\n",
       "      <td>18</td>\n",
       "      <td>VTN</td>\n",
       "    </tr>\n",
       "  </tbody>\n",
       "</table>\n",
       "</div>"
      ],
      "text/plain": [
       "    drug_id     protein  rank gene\n",
       "14     1386  VTNC_HUMAN    15  VTN\n",
       "15     1393  VTNC_HUMAN    17  VTN\n",
       "16     1511  VTNC_HUMAN    18  VTN"
      ]
     },
     "execution_count": 304,
     "metadata": {},
     "output_type": "execute_result"
    }
   ],
   "source": [
    "res_shap[res_shap['protein']=='VTNC_HUMAN'].sort_values(by='rank')"
   ]
  },
  {
   "cell_type": "code",
   "execution_count": null,
   "metadata": {},
   "outputs": [],
   "source": []
  },
  {
   "cell_type": "code",
   "execution_count": 305,
   "metadata": {
    "ExecuteTime": {
     "end_time": "2020-06-14T09:57:58.715795Z",
     "start_time": "2020-06-14T09:57:58.706794Z"
    }
   },
   "outputs": [
    {
     "data": {
      "text/html": [
       "<div>\n",
       "<style scoped>\n",
       "    .dataframe tbody tr th:only-of-type {\n",
       "        vertical-align: middle;\n",
       "    }\n",
       "\n",
       "    .dataframe tbody tr th {\n",
       "        vertical-align: top;\n",
       "    }\n",
       "\n",
       "    .dataframe thead th {\n",
       "        text-align: right;\n",
       "    }\n",
       "</style>\n",
       "<table border=\"1\" class=\"dataframe\">\n",
       "  <thead>\n",
       "    <tr style=\"text-align: right;\">\n",
       "      <th></th>\n",
       "      <th>drug_id</th>\n",
       "      <th>protein</th>\n",
       "      <th>rank</th>\n",
       "      <th>gene</th>\n",
       "    </tr>\n",
       "  </thead>\n",
       "  <tbody>\n",
       "    <tr>\n",
       "      <th>10</th>\n",
       "      <td>1088</td>\n",
       "      <td>UBL5_HUMAN</td>\n",
       "      <td>2</td>\n",
       "      <td>UBL5</td>\n",
       "    </tr>\n",
       "    <tr>\n",
       "      <th>6</th>\n",
       "      <td>1005</td>\n",
       "      <td>UBL5_HUMAN</td>\n",
       "      <td>6</td>\n",
       "      <td>UBL5</td>\n",
       "    </tr>\n",
       "    <tr>\n",
       "      <th>1</th>\n",
       "      <td>206</td>\n",
       "      <td>TBB4B_HUMAN</td>\n",
       "      <td>8</td>\n",
       "      <td>TUBB4B</td>\n",
       "    </tr>\n",
       "    <tr>\n",
       "      <th>7</th>\n",
       "      <td>1006</td>\n",
       "      <td>UBL5_HUMAN</td>\n",
       "      <td>8</td>\n",
       "      <td>UBL5</td>\n",
       "    </tr>\n",
       "    <tr>\n",
       "      <th>8</th>\n",
       "      <td>1016</td>\n",
       "      <td>UBL5_HUMAN</td>\n",
       "      <td>10</td>\n",
       "      <td>UBL5</td>\n",
       "    </tr>\n",
       "    <tr>\n",
       "      <th>18</th>\n",
       "      <td>2048</td>\n",
       "      <td>TBB4B_HUMAN</td>\n",
       "      <td>11</td>\n",
       "      <td>TUBB4B</td>\n",
       "    </tr>\n",
       "    <tr>\n",
       "      <th>2</th>\n",
       "      <td>238</td>\n",
       "      <td>TBB4B_HUMAN</td>\n",
       "      <td>11</td>\n",
       "      <td>TUBB4B</td>\n",
       "    </tr>\n",
       "    <tr>\n",
       "      <th>12</th>\n",
       "      <td>1089</td>\n",
       "      <td>UBL5_HUMAN</td>\n",
       "      <td>11</td>\n",
       "      <td>UBL5</td>\n",
       "    </tr>\n",
       "    <tr>\n",
       "      <th>13</th>\n",
       "      <td>1375</td>\n",
       "      <td>UBL5_HUMAN</td>\n",
       "      <td>13</td>\n",
       "      <td>UBL5</td>\n",
       "    </tr>\n",
       "    <tr>\n",
       "      <th>3</th>\n",
       "      <td>249</td>\n",
       "      <td>TBB4B_HUMAN</td>\n",
       "      <td>14</td>\n",
       "      <td>TUBB4B</td>\n",
       "    </tr>\n",
       "  </tbody>\n",
       "</table>\n",
       "</div>"
      ],
      "text/plain": [
       "    drug_id      protein  rank    gene\n",
       "10     1088   UBL5_HUMAN     2    UBL5\n",
       "6      1005   UBL5_HUMAN     6    UBL5\n",
       "1       206  TBB4B_HUMAN     8  TUBB4B\n",
       "7      1006   UBL5_HUMAN     8    UBL5\n",
       "8      1016   UBL5_HUMAN    10    UBL5\n",
       "18     2048  TBB4B_HUMAN    11  TUBB4B\n",
       "2       238  TBB4B_HUMAN    11  TUBB4B\n",
       "12     1089   UBL5_HUMAN    11    UBL5\n",
       "13     1375   UBL5_HUMAN    13    UBL5\n",
       "3       249  TBB4B_HUMAN    14  TUBB4B"
      ]
     },
     "execution_count": 305,
     "metadata": {},
     "output_type": "execute_result"
    }
   ],
   "source": [
    "res_shap.sort_values(by='rank').head(10)"
   ]
  },
  {
   "cell_type": "code",
   "execution_count": 306,
   "metadata": {
    "ExecuteTime": {
     "end_time": "2020-06-14T09:57:58.727907Z",
     "start_time": "2020-06-14T09:57:58.717603Z"
    }
   },
   "outputs": [
    {
     "ename": "NameError",
     "evalue": "name 'drug_improved' is not defined",
     "output_type": "error",
     "traceback": [
      "\u001b[0;31m---------------------------------------------------------------------------\u001b[0m",
      "\u001b[0;31mNameError\u001b[0m                                 Traceback (most recent call last)",
      "\u001b[0;32m<ipython-input-306-37c91986c48a>\u001b[0m in \u001b[0;36m<module>\u001b[0;34m\u001b[0m\n\u001b[1;32m      1\u001b[0m drug_score[(drug_score['drug_id'].isin(res_shap['drug_id']))\n\u001b[0;32m----> 2\u001b[0;31m            \u001b[0;34m&\u001b[0m \u001b[0;34m(\u001b[0m\u001b[0mdrug_score\u001b[0m\u001b[0;34m[\u001b[0m\u001b[0;34m'drug_id'\u001b[0m\u001b[0;34m]\u001b[0m\u001b[0;34m.\u001b[0m\u001b[0misin\u001b[0m\u001b[0;34m(\u001b[0m\u001b[0mdrug_improved\u001b[0m\u001b[0;34m)\u001b[0m\u001b[0;34m)\u001b[0m\u001b[0;34m]\u001b[0m\u001b[0;34m.\u001b[0m\u001b[0msort_values\u001b[0m\u001b[0;34m(\u001b[0m\u001b[0;34m\u001b[0m\u001b[0;34m\u001b[0m\u001b[0m\n\u001b[0m\u001b[1;32m      3\u001b[0m                ['delta'])\n",
      "\u001b[0;31mNameError\u001b[0m: name 'drug_improved' is not defined"
     ]
    }
   ],
   "source": [
    "drug_score[(drug_score['drug_id'].isin(res_shap['drug_id']))\n",
    "           & (drug_score['drug_id'].isin(drug_improved))].sort_values(\n",
    "               ['delta'])"
   ]
  },
  {
   "cell_type": "markdown",
   "metadata": {},
   "source": [
    "# specific proteins"
   ]
  },
  {
   "cell_type": "code",
   "execution_count": 447,
   "metadata": {
    "ExecuteTime": {
     "end_time": "2020-06-16T01:57:15.112109Z",
     "start_time": "2020-06-16T01:57:15.109698Z"
    }
   },
   "outputs": [],
   "source": [
    "proteins = ['HMGN2_HUMAN', 'PTMA_HUMAN', 'VPS45_HUMAN', 'XRP2_HUMAN', 'HYPK_HUMAN']"
   ]
  },
  {
   "cell_type": "code",
   "execution_count": 448,
   "metadata": {
    "ExecuteTime": {
     "end_time": "2020-06-16T01:57:16.300119Z",
     "start_time": "2020-06-16T01:57:16.290844Z"
    }
   },
   "outputs": [
    {
     "data": {
      "text/html": [
       "<div>\n",
       "<style scoped>\n",
       "    .dataframe tbody tr th:only-of-type {\n",
       "        vertical-align: middle;\n",
       "    }\n",
       "\n",
       "    .dataframe tbody tr th {\n",
       "        vertical-align: top;\n",
       "    }\n",
       "\n",
       "    .dataframe thead th {\n",
       "        text-align: right;\n",
       "    }\n",
       "</style>\n",
       "<table border=\"1\" class=\"dataframe\">\n",
       "  <thead>\n",
       "    <tr style=\"text-align: right;\">\n",
       "      <th></th>\n",
       "      <th>protein</th>\n",
       "      <th>corr_sanger</th>\n",
       "      <th>corr_ccle</th>\n",
       "      <th>corr_diff</th>\n",
       "      <th>corr_avg</th>\n",
       "    </tr>\n",
       "  </thead>\n",
       "  <tbody>\n",
       "    <tr>\n",
       "      <th>15</th>\n",
       "      <td>HYPK_HUMAN</td>\n",
       "      <td>-0.024323</td>\n",
       "      <td>0.047103</td>\n",
       "      <td>-0.071427</td>\n",
       "      <td>0.011390</td>\n",
       "    </tr>\n",
       "    <tr>\n",
       "      <th>272</th>\n",
       "      <td>VPS45_HUMAN</td>\n",
       "      <td>0.031679</td>\n",
       "      <td>0.311392</td>\n",
       "      <td>-0.279713</td>\n",
       "      <td>0.171536</td>\n",
       "    </tr>\n",
       "    <tr>\n",
       "      <th>1626</th>\n",
       "      <td>HMGN2_HUMAN</td>\n",
       "      <td>0.492004</td>\n",
       "      <td>0.474942</td>\n",
       "      <td>0.017062</td>\n",
       "      <td>0.483473</td>\n",
       "    </tr>\n",
       "    <tr>\n",
       "      <th>2568</th>\n",
       "      <td>XRP2_HUMAN</td>\n",
       "      <td>0.587327</td>\n",
       "      <td>0.664058</td>\n",
       "      <td>-0.076731</td>\n",
       "      <td>0.625693</td>\n",
       "    </tr>\n",
       "  </tbody>\n",
       "</table>\n",
       "</div>"
      ],
      "text/plain": [
       "          protein  corr_sanger  corr_ccle  corr_diff  corr_avg\n",
       "15     HYPK_HUMAN    -0.024323   0.047103  -0.071427  0.011390\n",
       "272   VPS45_HUMAN     0.031679   0.311392  -0.279713  0.171536\n",
       "1626  HMGN2_HUMAN     0.492004   0.474942   0.017062  0.483473\n",
       "2568   XRP2_HUMAN     0.587327   0.664058  -0.076731  0.625693"
      ]
     },
     "execution_count": 448,
     "metadata": {},
     "output_type": "execute_result"
    }
   ],
   "source": [
    "corr_dict_merged[corr_dict_merged['protein'].isin(proteins)]"
   ]
  },
  {
   "cell_type": "markdown",
   "metadata": {},
   "source": [
    "# pathway"
   ]
  },
  {
   "cell_type": "code",
   "execution_count": 434,
   "metadata": {
    "ExecuteTime": {
     "end_time": "2020-06-15T14:34:53.617264Z",
     "start_time": "2020-06-15T14:34:53.611804Z"
    }
   },
   "outputs": [],
   "source": [
    "pathway_df = pd.read_csv(\n",
    "    \"../../result_files/toppgene/protein_specific_top_feature_pathways/combined_top100_features_200proteins.txt\",\n",
    "    sep='\\t')"
   ]
  },
  {
   "cell_type": "code",
   "execution_count": 436,
   "metadata": {
    "ExecuteTime": {
     "end_time": "2020-06-15T14:35:53.258051Z",
     "start_time": "2020-06-15T14:35:53.253523Z"
    }
   },
   "outputs": [],
   "source": [
    "pathway_df = pathway_df[(pathway_df['Source'].str.contains('REACTOME')) |\n",
    "                        (pathway_df['Source'].str.contains('MSig'))]"
   ]
  },
  {
   "cell_type": "code",
   "execution_count": 438,
   "metadata": {
    "ExecuteTime": {
     "end_time": "2020-06-15T14:35:56.414195Z",
     "start_time": "2020-06-15T14:35:56.407861Z"
    }
   },
   "outputs": [
    {
     "name": "stderr",
     "output_type": "stream",
     "text": [
      "<ipython-input-438-ba7cbfea0ccf>:1: SettingWithCopyWarning:\n",
      "\n",
      "\n",
      "A value is trying to be set on a copy of a slice from a DataFrame.\n",
      "Try using .loc[row_indexer,col_indexer] = value instead\n",
      "\n",
      "See the caveats in the documentation: https://pandas.pydata.org/pandas-docs/stable/user_guide/indexing.html#returning-a-view-versus-a-copy\n",
      "\n"
     ]
    }
   ],
   "source": [
    "pathway_df['-log(FDR)'] = -np.log10(pathway_df['q-value FDR B&H'].values)\n",
    "pathway_df = pathway_df[['Name', '-log(FDR)']]\n",
    "pathway_df = pathway_df.sort_values(by=['-log(FDR)'], ascending=False)"
   ]
  },
  {
   "cell_type": "code",
   "execution_count": null,
   "metadata": {},
   "outputs": [],
   "source": []
  },
  {
   "cell_type": "code",
   "execution_count": 440,
   "metadata": {
    "ExecuteTime": {
     "end_time": "2020-06-15T14:51:50.485770Z",
     "start_time": "2020-06-15T14:51:49.686925Z"
    }
   },
   "outputs": [
    {
     "data": {
      "image/png": "[encoded data removed]",
      "text/plain": [
       "<Figure size 1296x1080 with 1 Axes>"
      ]
     },
     "metadata": {
      "needs_background": "light"
     },
     "output_type": "display_data"
    }
   ],
   "source": [
    "fig = plt.figure(figsize=(18,15))\n",
    "topN = 50\n",
    "plt.grid()\n",
    "plt.hlines(y=range(topN),\n",
    "           xmin=0,\n",
    "           xmax=pathway_df['-log(FDR)'][:topN],\n",
    "           color='skyblue')\n",
    "plt.plot(pathway_df['-log(FDR)'][:topN], range(topN), \"o\")\n",
    "plt.yticks(range(topN), pathway_df['Name'])\n",
    "plt.xlabel(\"-log(FDR)\")\n",
    "plt.ylim(-1, topN)\n",
    "plt.xlim(0, 30)\n",
    "plt.gca().invert_yaxis()\n",
    "plt.title(\"Top 50 pathways enriched by AIPs\")\n",
    "plt.gcf().subplots_adjust(left=0.7)\n",
    "\n",
    "# plt.tight_layout()\n",
    "plt.savefig(\"../../plots/Fig4F.pdf\", dpi=500)\n"
   ]
  },
  {
   "cell_type": "code",
   "execution_count": null,
   "metadata": {},
   "outputs": [],
   "source": []
  }
 ],
 "metadata": {
  "kernelspec": {
   "display_name": "Python 3",
   "language": "python",
   "name": "python3"
  },
  "language_info": {
   "codemirror_mode": {
    "name": "ipython",
    "version": 3
   },
   "file_extension": ".py",
   "mimetype": "text/x-python",
   "name": "python",
   "nbconvert_exporter": "python",
   "pygments_lexer": "ipython3",
   "version": "3.8.2"
  },
  "toc": {
   "base_numbering": 1,
   "nav_menu": {},
   "number_sections": true,
   "sideBar": true,
   "skip_h1_title": false,
   "title_cell": "Table of Contents",
   "title_sidebar": "Contents",
   "toc_cell": false,
   "toc_position": {
    "height": "calc(100% - 180px)",
    "left": "10px",
    "top": "150px",
    "width": "385.188px"
   },
   "toc_section_display": true,
   "toc_window_display": true
  }
 },
 "nbformat": 4,
 "nbformat_minor": 4
}
