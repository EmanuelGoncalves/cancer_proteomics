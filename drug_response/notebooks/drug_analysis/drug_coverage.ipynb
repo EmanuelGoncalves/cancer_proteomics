{
 "cells": [
  {
   "cell_type": "code",
   "execution_count": 2,
   "metadata": {
    "ExecuteTime": {
     "end_time": "2020-09-18T02:29:00.034107Z",
     "start_time": "2020-09-18T02:28:58.773870Z"
    }
   },
   "outputs": [],
   "source": [
    "import pandas as pd\n",
    "import numpy as np\n",
    "import seaborn as sns\n",
    "import matplotlib.pyplot as plt\n",
    "import matplotlib as mpl\n",
    "import matplotlib.patches as mpatches"
   ]
  },
  {
   "cell_type": "code",
   "execution_count": 3,
   "metadata": {
    "ExecuteTime": {
     "end_time": "2020-09-18T02:29:00.670559Z",
     "start_time": "2020-09-18T02:29:00.635088Z"
    }
   },
   "outputs": [],
   "source": [
    "plt.rcParams['font.family'] = 'Helvetica'\n",
    "plt.rcParams[\"axes.labelweight\"] = \"bold\"\n",
    "plt.rcParams['font.size'] = 18\n",
    "plt.rcParams['axes.linewidth'] = 2\n",
    "plt.rcParams['figure.figsize'] = (10.0, 7.0)\n",
    "plt.rcParams['pdf.fonttype'] = 42\n",
    "plt.rcParams['ps.fonttype'] = 42\n",
    "sns.set_palette(\"Dark2\")"
   ]
  },
  {
   "cell_type": "code",
   "execution_count": 4,
   "metadata": {
    "ExecuteTime": {
     "end_time": "2020-09-18T02:29:00.831427Z",
     "start_time": "2020-09-18T02:29:00.796031Z"
    }
   },
   "outputs": [],
   "source": [
    "meta = pd.read_csv(\"../../data/E0022_P06_final_sample_map_no_control.txt\", sep='\\t')"
   ]
  },
  {
   "cell_type": "code",
   "execution_count": 5,
   "metadata": {
    "ExecuteTime": {
     "end_time": "2020-09-18T02:29:06.694016Z",
     "start_time": "2020-09-18T02:29:00.963331Z"
    }
   },
   "outputs": [],
   "source": [
    "drug_df = pd.read_csv(\"../../data/drug/drug_final_processed_eg_id.csv.gz\", low_memory=False)\n",
    "drug_df = drug_df[drug_df['cell_line_name'].isin(meta['Cell_line'])]"
   ]
  },
  {
   "cell_type": "code",
   "execution_count": 6,
   "metadata": {
    "ExecuteTime": {
     "end_time": "2020-09-18T02:29:06.706607Z",
     "start_time": "2020-09-18T02:29:06.695976Z"
    }
   },
   "outputs": [],
   "source": [
    "drug_meta_old = pd.read_csv(\"../../data/drug/archive/Dataset_EV2.csv\",\n",
    "                            low_memory=False)\n",
    "drug_old_target_pathway_map = drug_meta_old.drop_duplicates(\n",
    "    ['Name']).set_index('Name').to_dict()['Pathway']"
   ]
  },
  {
   "cell_type": "code",
   "execution_count": 13,
   "metadata": {
    "ExecuteTime": {
     "end_time": "2020-09-18T02:35:00.277808Z",
     "start_time": "2020-09-18T02:34:59.242539Z"
    }
   },
   "outputs": [],
   "source": [
    "drug_names_old = pd.read_csv(\"../../data/drug/archive/ic50_processed.csv\", low_memory=False)['Drug name'].unique()"
   ]
  },
  {
   "cell_type": "code",
   "execution_count": null,
   "metadata": {
    "ExecuteTime": {
     "end_time": "2020-09-18T02:29:07.855003Z",
     "start_time": "2020-09-18T02:29:07.748876Z"
    }
   },
   "outputs": [],
   "source": [
    "drug_old_df['target_pathway'] = drug_old_df['Drug name'].map(drug_old_target_pathway_map)"
   ]
  },
  {
   "cell_type": "code",
   "execution_count": null,
   "metadata": {
    "ExecuteTime": {
     "end_time": "2020-09-18T02:29:07.857006Z",
     "start_time": "2020-09-18T02:29:01.689Z"
    }
   },
   "outputs": [],
   "source": [
    "print(drug_old_df.shape)\n",
    "print(drug_df.shape)"
   ]
  },
  {
   "cell_type": "code",
   "execution_count": null,
   "metadata": {
    "ExecuteTime": {
     "end_time": "2020-09-18T02:29:07.858159Z",
     "start_time": "2020-09-18T02:29:01.905Z"
    }
   },
   "outputs": [],
   "source": [
    "(drug_df.shape[0] - drug_old_df.shape[0]) / drug_old_df.shape[0]"
   ]
  },
  {
   "cell_type": "code",
   "execution_count": null,
   "metadata": {
    "ExecuteTime": {
     "end_time": "2020-09-18T02:29:07.859067Z",
     "start_time": "2020-09-18T02:29:02.297Z"
    }
   },
   "outputs": [],
   "source": [
    "drug_df['drug_name'].unique().size"
   ]
  },
  {
   "cell_type": "code",
   "execution_count": null,
   "metadata": {
    "ExecuteTime": {
     "end_time": "2020-09-18T02:29:07.860163Z",
     "start_time": "2020-09-18T02:29:02.913Z"
    }
   },
   "outputs": [],
   "source": [
    "print(drug_old_names.size)"
   ]
  },
  {
   "cell_type": "code",
   "execution_count": null,
   "metadata": {
    "ExecuteTime": {
     "end_time": "2020-09-18T02:29:07.861086Z",
     "start_time": "2020-09-18T02:29:03.562Z"
    }
   },
   "outputs": [],
   "source": [
    "set(drug_old_df['Drug name'].unique()) - set(drug_df['drug_name'].unique())"
   ]
  },
  {
   "cell_type": "code",
   "execution_count": null,
   "metadata": {
    "ExecuteTime": {
     "end_time": "2020-09-18T02:29:07.862095Z",
     "start_time": "2020-09-18T02:29:03.770Z"
    }
   },
   "outputs": [],
   "source": [
    "drug_df['target_pathway'].unique().size"
   ]
  },
  {
   "cell_type": "code",
   "execution_count": null,
   "metadata": {
    "ExecuteTime": {
     "end_time": "2020-09-18T02:29:07.863298Z",
     "start_time": "2020-09-18T02:29:04.122Z"
    }
   },
   "outputs": [],
   "source": [
    "drug_old_df['target_pathway'].unique().size"
   ]
  },
  {
   "cell_type": "code",
   "execution_count": null,
   "metadata": {
    "ExecuteTime": {
     "end_time": "2020-09-18T02:29:07.864161Z",
     "start_time": "2020-09-18T02:29:04.794Z"
    }
   },
   "outputs": [],
   "source": [
    "(drug_df['drug_name'].unique().size - drug_old_df['Drug name'].unique().size\n",
    " ) / drug_old_df['Drug name'].unique().size"
   ]
  },
  {
   "cell_type": "code",
   "execution_count": null,
   "metadata": {
    "ExecuteTime": {
     "end_time": "2020-09-18T02:29:07.865068Z",
     "start_time": "2020-09-18T02:29:05.338Z"
    }
   },
   "outputs": [],
   "source": [
    "print(drug_old_df.groupby(['Drug Id']).size().median())\n",
    "print(drug_df.groupby(['drug_id']).size().median())"
   ]
  },
  {
   "cell_type": "code",
   "execution_count": null,
   "metadata": {
    "ExecuteTime": {
     "end_time": "2020-09-18T02:29:07.865853Z",
     "start_time": "2020-09-18T02:29:06.657Z"
    }
   },
   "outputs": [],
   "source": [
    "drug_old_df.groupby(['Drug name']).size().max()"
   ]
  },
  {
   "cell_type": "markdown",
   "metadata": {},
   "source": [
    "## by target pathways"
   ]
  },
  {
   "cell_type": "code",
   "execution_count": 14,
   "metadata": {
    "ExecuteTime": {
     "end_time": "2020-09-18T02:35:02.747109Z",
     "start_time": "2020-09-18T02:35:02.745429Z"
    }
   },
   "outputs": [],
   "source": [
    "# drug_names_old = drug_old_df['Drug name'].unique()"
   ]
  },
  {
   "cell_type": "code",
   "execution_count": 15,
   "metadata": {
    "ExecuteTime": {
     "end_time": "2020-09-18T02:35:03.242677Z",
     "start_time": "2020-09-18T02:35:03.186270Z"
    }
   },
   "outputs": [],
   "source": [
    "df_pathway_count = drug_df.drop_duplicates(['drug_name']).groupby(\n",
    "    ['target_pathway']).size().reset_index(name='count')"
   ]
  },
  {
   "cell_type": "code",
   "execution_count": 16,
   "metadata": {
    "ExecuteTime": {
     "end_time": "2020-09-18T02:35:03.800811Z",
     "start_time": "2020-09-18T02:35:03.585565Z"
    },
    "code_folding": []
   },
   "outputs": [],
   "source": [
    "df_old_pathway_count = drug_df[drug_df['drug_name'].isin(drug_names_old)].drop_duplicates(\n",
    "    ['drug_name']).groupby(['target_pathway']).size().reset_index(name='count')"
   ]
  },
  {
   "cell_type": "code",
   "execution_count": 17,
   "metadata": {
    "ExecuteTime": {
     "end_time": "2020-09-18T02:35:04.225603Z",
     "start_time": "2020-09-18T02:35:04.209201Z"
    }
   },
   "outputs": [],
   "source": [
    "pathway_counts_df = pd.merge(df_pathway_count,\n",
    "                             df_old_pathway_count,\n",
    "                             how='outer',\n",
    "                             on=['target_pathway'], suffixes=['_old','_new']).fillna(0)\n",
    "pathway_counts_df['count_new_sum'] = pathway_counts_df['count_old'] + pathway_counts_df['count_new']"
   ]
  },
  {
   "cell_type": "code",
   "execution_count": 18,
   "metadata": {
    "ExecuteTime": {
     "end_time": "2020-09-18T02:35:05.046987Z",
     "start_time": "2020-09-18T02:35:05.034234Z"
    }
   },
   "outputs": [
    {
     "data": {
      "text/html": [
       "<div>\n",
       "<style scoped>\n",
       "    .dataframe tbody tr th:only-of-type {\n",
       "        vertical-align: middle;\n",
       "    }\n",
       "\n",
       "    .dataframe tbody tr th {\n",
       "        vertical-align: top;\n",
       "    }\n",
       "\n",
       "    .dataframe thead th {\n",
       "        text-align: right;\n",
       "    }\n",
       "</style>\n",
       "<table border=\"1\" class=\"dataframe\">\n",
       "  <thead>\n",
       "    <tr style=\"text-align: right;\">\n",
       "      <th></th>\n",
       "      <th>target_pathway</th>\n",
       "      <th>count_old</th>\n",
       "      <th>count_new</th>\n",
       "      <th>count_new_sum</th>\n",
       "    </tr>\n",
       "  </thead>\n",
       "  <tbody>\n",
       "    <tr>\n",
       "      <th>0</th>\n",
       "      <td>ABL signaling</td>\n",
       "      <td>3</td>\n",
       "      <td>2.0</td>\n",
       "      <td>5.0</td>\n",
       "    </tr>\n",
       "    <tr>\n",
       "      <th>1</th>\n",
       "      <td>Apoptosis regulation</td>\n",
       "      <td>28</td>\n",
       "      <td>17.0</td>\n",
       "      <td>45.0</td>\n",
       "    </tr>\n",
       "    <tr>\n",
       "      <th>2</th>\n",
       "      <td>Cell cycle</td>\n",
       "      <td>43</td>\n",
       "      <td>21.0</td>\n",
       "      <td>64.0</td>\n",
       "    </tr>\n",
       "    <tr>\n",
       "      <th>3</th>\n",
       "      <td>Chromatin histone acetylation</td>\n",
       "      <td>23</td>\n",
       "      <td>17.0</td>\n",
       "      <td>40.0</td>\n",
       "    </tr>\n",
       "    <tr>\n",
       "      <th>4</th>\n",
       "      <td>Chromatin histone methylation</td>\n",
       "      <td>26</td>\n",
       "      <td>7.0</td>\n",
       "      <td>33.0</td>\n",
       "    </tr>\n",
       "    <tr>\n",
       "      <th>5</th>\n",
       "      <td>Chromatin other</td>\n",
       "      <td>16</td>\n",
       "      <td>9.0</td>\n",
       "      <td>25.0</td>\n",
       "    </tr>\n",
       "    <tr>\n",
       "      <th>6</th>\n",
       "      <td>Cytoskeleton</td>\n",
       "      <td>12</td>\n",
       "      <td>9.0</td>\n",
       "      <td>21.0</td>\n",
       "    </tr>\n",
       "    <tr>\n",
       "      <th>7</th>\n",
       "      <td>DNA replication</td>\n",
       "      <td>22</td>\n",
       "      <td>19.0</td>\n",
       "      <td>41.0</td>\n",
       "    </tr>\n",
       "    <tr>\n",
       "      <th>8</th>\n",
       "      <td>EGFR signaling</td>\n",
       "      <td>20</td>\n",
       "      <td>7.0</td>\n",
       "      <td>27.0</td>\n",
       "    </tr>\n",
       "    <tr>\n",
       "      <th>9</th>\n",
       "      <td>ERK MAPK signaling</td>\n",
       "      <td>35</td>\n",
       "      <td>18.0</td>\n",
       "      <td>53.0</td>\n",
       "    </tr>\n",
       "    <tr>\n",
       "      <th>10</th>\n",
       "      <td>Genome integrity</td>\n",
       "      <td>28</td>\n",
       "      <td>14.0</td>\n",
       "      <td>42.0</td>\n",
       "    </tr>\n",
       "    <tr>\n",
       "      <th>11</th>\n",
       "      <td>Hormone-related</td>\n",
       "      <td>7</td>\n",
       "      <td>4.0</td>\n",
       "      <td>11.0</td>\n",
       "    </tr>\n",
       "    <tr>\n",
       "      <th>12</th>\n",
       "      <td>IGF1R signaling</td>\n",
       "      <td>4</td>\n",
       "      <td>3.0</td>\n",
       "      <td>7.0</td>\n",
       "    </tr>\n",
       "    <tr>\n",
       "      <th>13</th>\n",
       "      <td>JNK and p38 signaling</td>\n",
       "      <td>10</td>\n",
       "      <td>7.0</td>\n",
       "      <td>17.0</td>\n",
       "    </tr>\n",
       "    <tr>\n",
       "      <th>14</th>\n",
       "      <td>Metabolism</td>\n",
       "      <td>11</td>\n",
       "      <td>9.0</td>\n",
       "      <td>20.0</td>\n",
       "    </tr>\n",
       "    <tr>\n",
       "      <th>15</th>\n",
       "      <td>Mitosis</td>\n",
       "      <td>23</td>\n",
       "      <td>15.0</td>\n",
       "      <td>38.0</td>\n",
       "    </tr>\n",
       "    <tr>\n",
       "      <th>16</th>\n",
       "      <td>Other</td>\n",
       "      <td>83</td>\n",
       "      <td>48.0</td>\n",
       "      <td>131.0</td>\n",
       "    </tr>\n",
       "    <tr>\n",
       "      <th>17</th>\n",
       "      <td>Other, kinases</td>\n",
       "      <td>77</td>\n",
       "      <td>48.0</td>\n",
       "      <td>125.0</td>\n",
       "    </tr>\n",
       "    <tr>\n",
       "      <th>18</th>\n",
       "      <td>PI3K/MTOR signaling</td>\n",
       "      <td>53</td>\n",
       "      <td>40.0</td>\n",
       "      <td>93.0</td>\n",
       "    </tr>\n",
       "    <tr>\n",
       "      <th>19</th>\n",
       "      <td>Protein stability and degradation</td>\n",
       "      <td>15</td>\n",
       "      <td>10.0</td>\n",
       "      <td>25.0</td>\n",
       "    </tr>\n",
       "    <tr>\n",
       "      <th>20</th>\n",
       "      <td>RTK signaling</td>\n",
       "      <td>68</td>\n",
       "      <td>38.0</td>\n",
       "      <td>106.0</td>\n",
       "    </tr>\n",
       "    <tr>\n",
       "      <th>21</th>\n",
       "      <td>Unclassified</td>\n",
       "      <td>1</td>\n",
       "      <td>0.0</td>\n",
       "      <td>1.0</td>\n",
       "    </tr>\n",
       "    <tr>\n",
       "      <th>22</th>\n",
       "      <td>WNT signaling</td>\n",
       "      <td>12</td>\n",
       "      <td>11.0</td>\n",
       "      <td>23.0</td>\n",
       "    </tr>\n",
       "    <tr>\n",
       "      <th>23</th>\n",
       "      <td>p53 pathway</td>\n",
       "      <td>7</td>\n",
       "      <td>6.0</td>\n",
       "      <td>13.0</td>\n",
       "    </tr>\n",
       "  </tbody>\n",
       "</table>\n",
       "</div>"
      ],
      "text/plain": [
       "                       target_pathway  count_old  count_new  count_new_sum\n",
       "0                       ABL signaling          3        2.0            5.0\n",
       "1                Apoptosis regulation         28       17.0           45.0\n",
       "2                          Cell cycle         43       21.0           64.0\n",
       "3       Chromatin histone acetylation         23       17.0           40.0\n",
       "4       Chromatin histone methylation         26        7.0           33.0\n",
       "5                     Chromatin other         16        9.0           25.0\n",
       "6                        Cytoskeleton         12        9.0           21.0\n",
       "7                     DNA replication         22       19.0           41.0\n",
       "8                      EGFR signaling         20        7.0           27.0\n",
       "9                  ERK MAPK signaling         35       18.0           53.0\n",
       "10                   Genome integrity         28       14.0           42.0\n",
       "11                    Hormone-related          7        4.0           11.0\n",
       "12                    IGF1R signaling          4        3.0            7.0\n",
       "13              JNK and p38 signaling         10        7.0           17.0\n",
       "14                         Metabolism         11        9.0           20.0\n",
       "15                            Mitosis         23       15.0           38.0\n",
       "16                              Other         83       48.0          131.0\n",
       "17                     Other, kinases         77       48.0          125.0\n",
       "18                PI3K/MTOR signaling         53       40.0           93.0\n",
       "19  Protein stability and degradation         15       10.0           25.0\n",
       "20                      RTK signaling         68       38.0          106.0\n",
       "21                       Unclassified          1        0.0            1.0\n",
       "22                      WNT signaling         12       11.0           23.0\n",
       "23                        p53 pathway          7        6.0           13.0"
      ]
     },
     "execution_count": 18,
     "metadata": {},
     "output_type": "execute_result"
    }
   ],
   "source": [
    "pathway_counts_df"
   ]
  },
  {
   "cell_type": "code",
   "execution_count": 19,
   "metadata": {
    "ExecuteTime": {
     "end_time": "2020-09-18T02:35:07.520918Z",
     "start_time": "2020-09-18T02:35:06.817807Z"
    }
   },
   "outputs": [
    {
     "data": {
      "image/png": "[encoded data removed]",
      "text/plain": [
       "<Figure size 648x864 with 1 Axes>"
      ]
     },
     "metadata": {
      "needs_background": "light"
     },
     "output_type": "display_data"
    }
   ],
   "source": [
    "plt.figure(figsize=(9, 12))\n",
    "sns.barplot(x='count_new_sum',\n",
    "            y='target_pathway',\n",
    "            data=pathway_counts_df,\n",
    "            color='skyblue',\n",
    "            linewidth=2,\n",
    "            edgecolor='black')\n",
    "sns.barplot(x='count_old',\n",
    "            y='target_pathway',\n",
    "            data=pathway_counts_df,\n",
    "            color='grey',\n",
    "            linewidth=2,\n",
    "            edgecolor='black')\n",
    "\n",
    "total_patch = mpatches.Patch(facecolor='skyblue',\n",
    "                             label='Increased coverage',\n",
    "                             linewidth=2,\n",
    "                             edgecolor='black')\n",
    "ori_patch = mpatches.Patch(facecolor='grey',\n",
    "                           label='Original coverage',\n",
    "                           linewidth=2,\n",
    "                           edgecolor='black')\n",
    "\n",
    "plt.legend(handles=[ori_patch, total_patch])\n",
    "plt.ylabel(\"Target pathway\")\n",
    "plt.xlabel(\"Number of drugs\")\n",
    "plt.title(\"New drug response dataset\")\n",
    "plt.tight_layout()\n",
    "plt.savefig(\"../../plots/drug/drug_coverage.pdf\", dpi=500)"
   ]
  },
  {
   "cell_type": "code",
   "execution_count": 20,
   "metadata": {
    "ExecuteTime": {
     "end_time": "2020-09-18T02:42:03.453158Z",
     "start_time": "2020-09-18T02:42:03.445824Z"
    }
   },
   "outputs": [],
   "source": [
    "pathway_counts_df.to_csv(\"../../plots/plot_data/Fig1D_drug_coverage.csv\",\n",
    "                         index=False)"
   ]
  },
  {
   "cell_type": "code",
   "execution_count": null,
   "metadata": {},
   "outputs": [],
   "source": []
  }
 ],
 "metadata": {
  "kernelspec": {
   "display_name": "Python 3",
   "language": "python",
   "name": "python3"
  },
  "language_info": {
   "codemirror_mode": {
    "name": "ipython",
    "version": 3
   },
   "file_extension": ".py",
   "mimetype": "text/x-python",
   "name": "python",
   "nbconvert_exporter": "python",
   "pygments_lexer": "ipython3",
   "version": "3.8.5"
  },
  "toc": {
   "base_numbering": 1,
   "nav_menu": {},
   "number_sections": true,
   "sideBar": true,
   "skip_h1_title": false,
   "title_cell": "Table of Contents",
   "title_sidebar": "Contents",
   "toc_cell": false,
   "toc_position": {},
   "toc_section_display": true,
   "toc_window_display": false
  }
 },
 "nbformat": 4,
 "nbformat_minor": 4
}
