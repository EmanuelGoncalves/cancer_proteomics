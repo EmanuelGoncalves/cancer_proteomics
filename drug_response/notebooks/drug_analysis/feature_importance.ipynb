{
 "cells": [
  {
   "cell_type": "code",
   "execution_count": 2,
   "metadata": {
    "ExecuteTime": {
     "end_time": "2020-06-10T14:44:22.328126Z",
     "start_time": "2020-06-10T14:44:21.160306Z"
    }
   },
   "outputs": [],
   "source": [
    "import pandas as pd\n",
    "import numpy as np\n",
    "import matplotlib.pyplot as plt\n",
    "import seaborn as sns\n",
    "import pickle\n",
    "from venn import venn\n",
    "import plotly.express as px\n",
    "import shap\n",
    "import matplotlib.pyplot as plt\n",
    "from collections import defaultdict"
   ]
  },
  {
   "cell_type": "code",
   "execution_count": 303,
   "metadata": {
    "ExecuteTime": {
     "end_time": "2020-06-15T13:19:52.277253Z",
     "start_time": "2020-06-15T13:19:52.273412Z"
    }
   },
   "outputs": [],
   "source": [
    "pd.options.display.max_columns = 50\n",
    "# mpl.rcParams['font.family'] = 'Avenir'\n",
    "plt.rc('font', family='Helvetica')\n",
    "plt.rcParams['font.size'] = 16\n",
    "plt.rcParams['axes.linewidth'] = 2\n",
    "plt.rcParams['pdf.fonttype'] = 42\n",
    "plt.rcParams['ps.fonttype'] = 42\n",
    "plt.rcParams['figure.figsize'] = (10.0, 7.0)"
   ]
  },
  {
   "cell_type": "markdown",
   "metadata": {},
   "source": [
    "# protein"
   ]
  },
  {
   "cell_type": "code",
   "execution_count": 4,
   "metadata": {
    "ExecuteTime": {
     "end_time": "2020-06-10T14:52:12.287551Z",
     "start_time": "2020-06-10T14:52:11.233605Z"
    }
   },
   "outputs": [],
   "source": [
    "df_rf = pd.read_csv(\"../../work_dirs/protein/RandomForest/feature_importance_202006051013_ruv_min_300.csv\")\n",
    "df_en = pd.read_csv(\"../../work_dirs/protein/ElasticNet/feature_importance_202006061215_ruv_min_300.csv\")\n",
    "df_shap = pd.read_csv(\"../../result_files/shap/test_70_202006082240.csv\")"
   ]
  },
  {
   "cell_type": "markdown",
   "metadata": {
    "heading_collapsed": true
   },
   "source": [
    "# RNA"
   ]
  },
  {
   "cell_type": "code",
   "execution_count": 8,
   "metadata": {
    "ExecuteTime": {
     "end_time": "2020-05-05T12:21:57.705314Z",
     "start_time": "2020-05-05T12:21:57.363175Z"
    },
    "hidden": true
   },
   "outputs": [],
   "source": [
    "df = pd.read_csv(\"../work_dirs/rna_common_norm/RandomForest/feature_importance_202004081135_rna_300.csv\")"
   ]
  },
  {
   "cell_type": "code",
   "execution_count": 9,
   "metadata": {
    "ExecuteTime": {
     "end_time": "2020-05-05T12:21:57.709152Z",
     "start_time": "2020-05-05T12:21:57.707076Z"
    },
    "hidden": true
   },
   "outputs": [],
   "source": [
    "drug = '438'"
   ]
  },
  {
   "cell_type": "code",
   "execution_count": 10,
   "metadata": {
    "ExecuteTime": {
     "end_time": "2020-05-05T12:21:57.884625Z",
     "start_time": "2020-05-05T12:21:57.873367Z"
    },
    "hidden": true
   },
   "outputs": [
    {
     "data": {
      "text/html": [
       "<div>\n",
       "<style scoped>\n",
       "    .dataframe tbody tr th:only-of-type {\n",
       "        vertical-align: middle;\n",
       "    }\n",
       "\n",
       "    .dataframe tbody tr th {\n",
       "        vertical-align: top;\n",
       "    }\n",
       "\n",
       "    .dataframe thead th {\n",
       "        text-align: right;\n",
       "    }\n",
       "</style>\n",
       "<table border=\"1\" class=\"dataframe\">\n",
       "  <thead>\n",
       "    <tr style=\"text-align: right;\">\n",
       "      <th></th>\n",
       "      <th>rna_common</th>\n",
       "      <th>importance_438</th>\n",
       "    </tr>\n",
       "  </thead>\n",
       "  <tbody>\n",
       "    <tr>\n",
       "      <th>1178</th>\n",
       "      <td>GPX8</td>\n",
       "      <td>0.004540</td>\n",
       "    </tr>\n",
       "    <tr>\n",
       "      <th>1139</th>\n",
       "      <td>GNG12</td>\n",
       "      <td>0.004407</td>\n",
       "    </tr>\n",
       "    <tr>\n",
       "      <th>413</th>\n",
       "      <td>CCN1</td>\n",
       "      <td>0.004274</td>\n",
       "    </tr>\n",
       "    <tr>\n",
       "      <th>2625</th>\n",
       "      <td>S100A6</td>\n",
       "      <td>0.003820</td>\n",
       "    </tr>\n",
       "    <tr>\n",
       "      <th>1400</th>\n",
       "      <td>ITGB1</td>\n",
       "      <td>0.003735</td>\n",
       "    </tr>\n",
       "    <tr>\n",
       "      <th>1483</th>\n",
       "      <td>LAMB2</td>\n",
       "      <td>0.003703</td>\n",
       "    </tr>\n",
       "    <tr>\n",
       "      <th>2196</th>\n",
       "      <td>PPIC</td>\n",
       "      <td>0.003291</td>\n",
       "    </tr>\n",
       "    <tr>\n",
       "      <th>987</th>\n",
       "      <td>FAM114A1</td>\n",
       "      <td>0.003199</td>\n",
       "    </tr>\n",
       "    <tr>\n",
       "      <th>2623</th>\n",
       "      <td>S100A2</td>\n",
       "      <td>0.003040</td>\n",
       "    </tr>\n",
       "    <tr>\n",
       "      <th>657</th>\n",
       "      <td>CTSL</td>\n",
       "      <td>0.002985</td>\n",
       "    </tr>\n",
       "    <tr>\n",
       "      <th>1171</th>\n",
       "      <td>GPRC5A</td>\n",
       "      <td>0.002964</td>\n",
       "    </tr>\n",
       "    <tr>\n",
       "      <th>608</th>\n",
       "      <td>CPSF6</td>\n",
       "      <td>0.002863</td>\n",
       "    </tr>\n",
       "    <tr>\n",
       "      <th>919</th>\n",
       "      <td>EPHA2</td>\n",
       "      <td>0.002856</td>\n",
       "    </tr>\n",
       "    <tr>\n",
       "      <th>660</th>\n",
       "      <td>CTTN</td>\n",
       "      <td>0.002843</td>\n",
       "    </tr>\n",
       "    <tr>\n",
       "      <th>1146</th>\n",
       "      <td>GNS</td>\n",
       "      <td>0.002796</td>\n",
       "    </tr>\n",
       "    <tr>\n",
       "      <th>67</th>\n",
       "      <td>ADAM9</td>\n",
       "      <td>0.002795</td>\n",
       "    </tr>\n",
       "    <tr>\n",
       "      <th>652</th>\n",
       "      <td>CTSA</td>\n",
       "      <td>0.002743</td>\n",
       "    </tr>\n",
       "    <tr>\n",
       "      <th>2850</th>\n",
       "      <td>SQSTM1</td>\n",
       "      <td>0.002659</td>\n",
       "    </tr>\n",
       "    <tr>\n",
       "      <th>1771</th>\n",
       "      <td>MYOF</td>\n",
       "      <td>0.002655</td>\n",
       "    </tr>\n",
       "    <tr>\n",
       "      <th>1021</th>\n",
       "      <td>FHL2</td>\n",
       "      <td>0.002575</td>\n",
       "    </tr>\n",
       "    <tr>\n",
       "      <th>212</th>\n",
       "      <td>ARID1A</td>\n",
       "      <td>0.002509</td>\n",
       "    </tr>\n",
       "    <tr>\n",
       "      <th>3302</th>\n",
       "      <td>YAP1</td>\n",
       "      <td>0.002506</td>\n",
       "    </tr>\n",
       "    <tr>\n",
       "      <th>1765</th>\n",
       "      <td>MYO1C</td>\n",
       "      <td>0.002461</td>\n",
       "    </tr>\n",
       "    <tr>\n",
       "      <th>1637</th>\n",
       "      <td>MET</td>\n",
       "      <td>0.002447</td>\n",
       "    </tr>\n",
       "    <tr>\n",
       "      <th>2188</th>\n",
       "      <td>POU2F1</td>\n",
       "      <td>0.002406</td>\n",
       "    </tr>\n",
       "    <tr>\n",
       "      <th>1799</th>\n",
       "      <td>NCEH1</td>\n",
       "      <td>0.002332</td>\n",
       "    </tr>\n",
       "    <tr>\n",
       "      <th>1901</th>\n",
       "      <td>NQO1</td>\n",
       "      <td>0.002275</td>\n",
       "    </tr>\n",
       "    <tr>\n",
       "      <th>1399</th>\n",
       "      <td>ITGAV</td>\n",
       "      <td>0.002244</td>\n",
       "    </tr>\n",
       "    <tr>\n",
       "      <th>90</th>\n",
       "      <td>AGRN</td>\n",
       "      <td>0.002143</td>\n",
       "    </tr>\n",
       "    <tr>\n",
       "      <th>3267</th>\n",
       "      <td>WAS</td>\n",
       "      <td>0.002090</td>\n",
       "    </tr>\n",
       "  </tbody>\n",
       "</table>\n",
       "</div>"
      ],
      "text/plain": [
       "     rna_common  importance_438\n",
       "1178       GPX8        0.004540\n",
       "1139      GNG12        0.004407\n",
       "413        CCN1        0.004274\n",
       "2625     S100A6        0.003820\n",
       "1400      ITGB1        0.003735\n",
       "1483      LAMB2        0.003703\n",
       "2196       PPIC        0.003291\n",
       "987    FAM114A1        0.003199\n",
       "2623     S100A2        0.003040\n",
       "657        CTSL        0.002985\n",
       "1171     GPRC5A        0.002964\n",
       "608       CPSF6        0.002863\n",
       "919       EPHA2        0.002856\n",
       "660        CTTN        0.002843\n",
       "1146        GNS        0.002796\n",
       "67        ADAM9        0.002795\n",
       "652        CTSA        0.002743\n",
       "2850     SQSTM1        0.002659\n",
       "1771       MYOF        0.002655\n",
       "1021       FHL2        0.002575\n",
       "212      ARID1A        0.002509\n",
       "3302       YAP1        0.002506\n",
       "1765      MYO1C        0.002461\n",
       "1637        MET        0.002447\n",
       "2188     POU2F1        0.002406\n",
       "1799      NCEH1        0.002332\n",
       "1901       NQO1        0.002275\n",
       "1399      ITGAV        0.002244\n",
       "90         AGRN        0.002143\n",
       "3267        WAS        0.002090"
      ]
     },
     "execution_count": 10,
     "metadata": {},
     "output_type": "execute_result"
    }
   ],
   "source": [
    "df[['rna_common', f'importance_{drug}']].sort_values(by=[f'importance_{drug}'], ascending=False).head(30)"
   ]
  },
  {
   "cell_type": "markdown",
   "metadata": {},
   "source": [
    "# Tissue type shap"
   ]
  },
  {
   "cell_type": "markdown",
   "metadata": {
    "heading_collapsed": true
   },
   "source": [
    "## compute"
   ]
  },
  {
   "cell_type": "code",
   "execution_count": 12,
   "metadata": {
    "ExecuteTime": {
     "end_time": "2020-06-10T14:55:02.043268Z",
     "start_time": "2020-06-10T14:55:02.000523Z"
    },
    "hidden": true
   },
   "outputs": [],
   "source": [
    "from sklearn.metrics import accuracy_score, f1_score, confusion_matrix, classification_report, plot_confusion_matrix\n",
    "from sklearn.impute import SimpleImputer, KNNImputer\n",
    "from sklearn.ensemble import RandomForestClassifier\n",
    "from sklearn.model_selection import StratifiedKFold\n",
    "from sklearn.svm import SVC\n",
    "from sklearn.model_selection import GridSearchCV, train_test_split\n",
    "from sklearn.neural_network import MLPClassifier\n",
    "from sklearn.linear_model import ElasticNet\n",
    "from lightgbm import LGBMClassifier"
   ]
  },
  {
   "cell_type": "code",
   "execution_count": 14,
   "metadata": {
    "ExecuteTime": {
     "end_time": "2020-06-10T14:55:06.872787Z",
     "start_time": "2020-06-10T14:55:06.869508Z"
    },
    "hidden": true
   },
   "outputs": [],
   "source": [
    "config_file = '../../configs/cancer_type/lgbm_grid_search_tissuetype.json'\n",
    "configs = json.load(open(config_file, 'r'))"
   ]
  },
  {
   "cell_type": "code",
   "execution_count": 16,
   "metadata": {
    "ExecuteTime": {
     "end_time": "2020-06-10T14:55:15.621033Z",
     "start_time": "2020-06-10T14:55:14.662552Z"
    },
    "hidden": true
   },
   "outputs": [],
   "source": [
    "seed = configs['seed']\n",
    "cv = StratifiedKFold(n_splits=configs['cv'], shuffle=True, random_state=seed)\n",
    "\n",
    "data_sample = pd.read_csv('../../data/cancer_type/cancer_tissue_type_protein.tsv', sep='\\t')\n",
    "\n",
    "data_sample = data_sample.drop(['Cell_line'], axis=1)\n",
    "\n",
    "type_count = data_sample.groupby([configs['target']]).size()\n",
    "selected_types = type_count[type_count > configs['cut_off']].index.values\n",
    "data_sample = data_sample[data_sample[configs['target']].isin(selected_types)].reset_index(drop=True)\n",
    "proteins = np.array([x for x in data_sample.columns if '_HUMAN' in x])\n",
    "X = data_sample[proteins]\n",
    "y = data_sample[configs['target']]\n",
    "imputer = None\n",
    "if configs['imputer'] == 'mean':\n",
    "    imputer = SimpleImputer(missing_values=np.nan, strategy='mean')\n",
    "elif configs['imputer'] == 'KNN':\n",
    "    imputer = KNNImputer(missing_values=np.nan)\n",
    "elif configs['imputer'] == 'zero':\n",
    "    imputer = SimpleImputer(missing_values=np.nan, strategy='constant', fill_value=0)\n",
    "elif configs['imputer'] == 'min':\n",
    "    imputer = SimpleImputer(missing_values=np.nan, strategy='constant', fill_value=configs['min_val'])\n",
    "\n",
    "if imputer:\n",
    "    X = imputer.fit_transform(X)\n",
    "\n",
    "X_train, X_test, y_train, y_test = train_test_split(X, y, stratify=y, random_state=seed, shuffle=True,\n",
    "                                                    test_size=0.2)"
   ]
  },
  {
   "cell_type": "code",
   "execution_count": 20,
   "metadata": {
    "ExecuteTime": {
     "end_time": "2020-05-20T13:49:37.739318Z",
     "start_time": "2020-05-20T13:49:37.736587Z"
    },
    "hidden": true
   },
   "outputs": [],
   "source": [
    "params = {'max_bin': 500, 'n_estimators': 700, 'num_leaves': 21, 'n_jobs': -1}\n",
    "clf = LGBMClassifier(**params)"
   ]
  },
  {
   "cell_type": "code",
   "execution_count": 16,
   "metadata": {
    "ExecuteTime": {
     "end_time": "2020-05-05T12:28:31.349096Z",
     "start_time": "2020-05-05T12:26:41.673544Z"
    },
    "hidden": true
   },
   "outputs": [
    {
     "data": {
      "text/plain": [
       "LGBMClassifier(boosting_type='gbdt', class_weight=None, colsample_bytree=1.0,\n",
       "               importance_type='split', learning_rate=0.1, max_bin=500,\n",
       "               max_depth=-1, min_child_samples=20, min_child_weight=0.001,\n",
       "               min_split_gain=0.0, n_estimators=700, n_jobs=-1, num_leaves=21,\n",
       "               objective=None, random_state=None, reg_alpha=0.0, reg_lambda=0.0,\n",
       "               silent=True, subsample=1.0, subsample_for_bin=200000,\n",
       "               subsample_freq=0)"
      ]
     },
     "execution_count": 16,
     "metadata": {},
     "output_type": "execute_result"
    }
   ],
   "source": [
    "clf.fit(X_train, y_train)"
   ]
  },
  {
   "cell_type": "code",
   "execution_count": 17,
   "metadata": {
    "ExecuteTime": {
     "end_time": "2020-05-05T12:28:42.259337Z",
     "start_time": "2020-05-05T12:28:36.896972Z"
    },
    "hidden": true
   },
   "outputs": [
    {
     "name": "stderr",
     "output_type": "stream",
     "text": [
      "Setting feature_perturbation = \"tree_path_dependent\" because no background data was given.\n"
     ]
    }
   ],
   "source": [
    "explainer = shap.TreeExplainer(clf)\n",
    "lgbm_shap_values = explainer.shap_values(X)"
   ]
  },
  {
   "cell_type": "code",
   "execution_count": 253,
   "metadata": {
    "ExecuteTime": {
     "end_time": "2020-04-28T06:08:39.958556Z",
     "start_time": "2020-04-28T06:08:38.123504Z"
    },
    "hidden": true
   },
   "outputs": [],
   "source": [
    "# pickle.dump(lgbm_shap_values, open(\"../work_dirs/shap_tissue/lgbm_shap_values_tissue_14.pkl\", \"wb\"))"
   ]
  },
  {
   "cell_type": "code",
   "execution_count": 10,
   "metadata": {
    "ExecuteTime": {
     "end_time": "2020-06-10T14:54:50.784671Z",
     "start_time": "2020-06-10T14:54:50.601985Z"
    },
    "hidden": true
   },
   "outputs": [],
   "source": [
    "lgbm_shap_values = pickle.load(open(\"../../work_dirs/shap_tissue/lgbm_shap_values_tissue_14.pkl\", \"rb\"))"
   ]
  },
  {
   "cell_type": "code",
   "execution_count": 17,
   "metadata": {
    "ExecuteTime": {
     "end_time": "2020-06-10T14:55:19.490472Z",
     "start_time": "2020-06-10T14:55:19.405920Z"
    },
    "hidden": true
   },
   "outputs": [],
   "source": [
    "topN = 10\n",
    "shap_tissue_set = []\n",
    "for tissue_shap in lgbm_shap_values:\n",
    "    shap_top_proteins = proteins[np.argsort(-np.mean(np.abs(tissue_shap),axis=0))][:topN]\n",
    "    shap_tissue_set.extend([f\"{x}\" for x in shap_top_proteins])\n",
    "shap_tissue_set = set(shap_tissue_set)"
   ]
  },
  {
   "cell_type": "markdown",
   "metadata": {},
   "source": [
    "## load set"
   ]
  },
  {
   "cell_type": "code",
   "execution_count": 19,
   "metadata": {
    "ExecuteTime": {
     "end_time": "2020-06-10T14:56:00.977878Z",
     "start_time": "2020-06-10T14:56:00.974936Z"
    }
   },
   "outputs": [],
   "source": [
    "pickle.dump(shap_tissue_set, open(\"../../work_dirs/shap_tissue/shap_tissue_set.pkl\", \"wb\"))"
   ]
  },
  {
   "cell_type": "code",
   "execution_count": null,
   "metadata": {},
   "outputs": [],
   "source": [
    "shap_tissue_set = pickle.load(open(\"../../work_dirs/shap_tissue/shap_tissue_set.pkl\", \"rb\"))"
   ]
  },
  {
   "cell_type": "markdown",
   "metadata": {},
   "source": [
    "# rf vs en vs shap"
   ]
  },
  {
   "cell_type": "markdown",
   "metadata": {},
   "source": [
    "## rank vs count excluding tissue"
   ]
  },
  {
   "cell_type": "code",
   "execution_count": 262,
   "metadata": {
    "ExecuteTime": {
     "end_time": "2020-06-15T13:16:16.726828Z",
     "start_time": "2020-06-15T13:16:15.692756Z"
    }
   },
   "outputs": [],
   "source": [
    "df_rf = pd.read_csv(\"../../work_dirs/protein/RandomForest/feature_importance_202006051013_ruv_min_300.csv\")\n",
    "df_en = pd.read_csv(\"../../work_dirs/protein/ElasticNet/feature_importance_202006061215_ruv_min_300.csv\")\n",
    "df_shap = pd.read_csv(\"../../result_files/shap/test_70_202006111046.csv\")"
   ]
  },
  {
   "cell_type": "code",
   "execution_count": 263,
   "metadata": {
    "ExecuteTime": {
     "end_time": "2020-06-15T13:16:16.740747Z",
     "start_time": "2020-06-15T13:16:16.728636Z"
    }
   },
   "outputs": [],
   "source": [
    "drug_list = [1909, 1114, 1373, 1919, 1377, 119, 427, 1910, 1047]\n",
    "drug_score = pd.read_csv(\"../../data/drug/final_drug_scores.tsv\", sep=\"\\t\")\n",
    "drug_list = drug_score[\n",
    "    (drug_score['MultiDrug_correlation'] > 0.4) & (drug_score['sensitive_count'] > 20)][\n",
    "    'drug_id'].values"
   ]
  },
  {
   "cell_type": "code",
   "execution_count": 264,
   "metadata": {
    "ExecuteTime": {
     "end_time": "2020-06-15T13:16:16.750797Z",
     "start_time": "2020-06-15T13:16:16.742789Z"
    }
   },
   "outputs": [],
   "source": [
    "drug_name_map = drug_score[[\n",
    "    'drug_id', 'drug_name'\n",
    "]].drop_duplicates().set_index('drug_id').to_dict()['drug_name']\n",
    "drug_target_map = drug_score[[\n",
    "    'drug_id', 'putative_gene_target'\n",
    "]].drop_duplicates().set_index('drug_id').to_dict()['putative_gene_target']"
   ]
  },
  {
   "cell_type": "markdown",
   "metadata": {},
   "source": [
    "### rf"
   ]
  },
  {
   "cell_type": "code",
   "execution_count": 265,
   "metadata": {
    "ExecuteTime": {
     "end_time": "2020-06-15T13:16:17.348347Z",
     "start_time": "2020-06-15T13:16:16.752449Z"
    }
   },
   "outputs": [],
   "source": [
    "topN = 50\n",
    "rf_dict_count = {}\n",
    "rf_dict_rank = {}\n",
    "rf_dict_drug = {}\n",
    "for drug in drug_list:\n",
    "    rf_top_proteins = df_rf[['protein', f'importance_{drug}'\n",
    "           ]].sort_values(by=[f'importance_{drug}'],\n",
    "                          ascending=False).head(topN)['protein'].values\n",
    "    rf_top_proteins = [x for x in rf_top_proteins if x not in shap_tissue_set]\n",
    "    for i in range(len(rf_top_proteins)):\n",
    "        if rf_top_proteins[i] not in rf_dict_count:\n",
    "            rf_dict_count[rf_top_proteins[i]] = 0\n",
    "            rf_dict_rank[rf_top_proteins[i]] = []\n",
    "            rf_dict_drug[rf_top_proteins[i]] = []\n",
    "            \n",
    "        rf_dict_rank[rf_top_proteins[i]].append(i)\n",
    "        rf_dict_count[rf_top_proteins[i]] += 1\n",
    "        rf_dict_drug[rf_top_proteins[i]].append(drug)"
   ]
  },
  {
   "cell_type": "code",
   "execution_count": 266,
   "metadata": {
    "ExecuteTime": {
     "end_time": "2020-06-15T13:16:17.377826Z",
     "start_time": "2020-06-15T13:16:17.350078Z"
    }
   },
   "outputs": [],
   "source": [
    "rf_df = {'protein':[], f'{topN}-avg_rank':[], 'count':[]}\n",
    "for p in rf_dict_rank:\n",
    "    rf_dict_rank[p] = topN - np.average(rf_dict_rank[p])\n",
    "    rf_df['protein'].append(p)\n",
    "    rf_df[f'{topN}-avg_rank'].append(rf_dict_rank[p])\n",
    "    rf_df['count'].append(rf_dict_count[p])\n",
    "rf_df = pd.DataFrame(rf_df)"
   ]
  },
  {
   "cell_type": "code",
   "execution_count": 267,
   "metadata": {
    "ExecuteTime": {
     "end_time": "2020-06-15T13:16:17.382629Z",
     "start_time": "2020-06-15T13:16:17.379296Z"
    }
   },
   "outputs": [],
   "source": [
    "rf_df_filtered = rf_df[rf_df['count']+rf_df[f'{topN}-avg_rank'] > topN]"
   ]
  },
  {
   "cell_type": "code",
   "execution_count": 268,
   "metadata": {
    "ExecuteTime": {
     "end_time": "2020-06-15T13:16:17.393362Z",
     "start_time": "2020-06-15T13:16:17.384544Z"
    }
   },
   "outputs": [
    {
     "name": "stderr",
     "output_type": "stream",
     "text": [
      "\n",
      "A value is trying to be set on a copy of a slice from a DataFrame.\n",
      "Try using .loc[row_indexer,col_indexer] = value instead\n",
      "\n",
      "See the caveats in the documentation: https://pandas.pydata.org/pandas-docs/stable/user_guide/indexing.html#returning-a-view-versus-a-copy\n"
     ]
    }
   ],
   "source": [
    "rf_df_filtered['category'] = rf_df_filtered.apply(\n",
    "    lambda row: 'drug specific' if (row[f'{topN}-avg_rank'] > 48 and row['count'] < 50) \n",
    "    else 'pan-drug'\n",
    "    if row['count'] > 200 else 'other', axis=1)"
   ]
  },
  {
   "cell_type": "code",
   "execution_count": 269,
   "metadata": {
    "ExecuteTime": {
     "end_time": "2020-06-15T13:16:17.584634Z",
     "start_time": "2020-06-15T13:16:17.394959Z"
    }
   },
   "outputs": [
    {
     "data": {
      "image/png": "[encoded data removed]",
      "text/plain": [
       "<Figure size 864x504 with 1 Axes>"
      ]
     },
     "metadata": {
      "needs_background": "light"
     },
     "output_type": "display_data"
    }
   ],
   "source": [
    "plt.figure(figsize=(12, 7))\n",
    "g = sns.scatterplot(x='count',\n",
    "                    y=f'{topN}-avg_rank',\n",
    "                    hue='category',\n",
    "                    hue_order=['drug specific', 'pan-drug', 'other'],\n",
    "                    data=rf_df_filtered)\n",
    "# for index, row in rf_df_filtered.iterrows():\n",
    "#     if row['category'] != 'other':\n",
    "#         g.annotate(row['protein'],\n",
    "#                    xy=(row['count'], row[f'{topN}-avg_rank']),\n",
    "#                    xycoords='data',\n",
    "#                    xytext=(0, 20),\n",
    "#                    textcoords='offset points',\n",
    "#                    arrowprops=dict(arrowstyle=\"->\"))\n",
    "plt.xlabel(f'number of times in top {topN}')\n",
    "plt.title(\"top protein analysis (Random Forest)\")\n",
    "plt.show()"
   ]
  },
  {
   "cell_type": "code",
   "execution_count": 270,
   "metadata": {
    "ExecuteTime": {
     "end_time": "2020-06-15T13:16:17.594554Z",
     "start_time": "2020-06-15T13:16:17.586056Z"
    }
   },
   "outputs": [
    {
     "data": {
      "text/html": [
       "<div>\n",
       "<style scoped>\n",
       "    .dataframe tbody tr th:only-of-type {\n",
       "        vertical-align: middle;\n",
       "    }\n",
       "\n",
       "    .dataframe tbody tr th {\n",
       "        vertical-align: top;\n",
       "    }\n",
       "\n",
       "    .dataframe thead th {\n",
       "        text-align: right;\n",
       "    }\n",
       "</style>\n",
       "<table border=\"1\" class=\"dataframe\">\n",
       "  <thead>\n",
       "    <tr style=\"text-align: right;\">\n",
       "      <th></th>\n",
       "      <th>protein</th>\n",
       "      <th>50-avg_rank</th>\n",
       "      <th>count</th>\n",
       "      <th>category</th>\n",
       "    </tr>\n",
       "  </thead>\n",
       "  <tbody>\n",
       "    <tr>\n",
       "      <th>259</th>\n",
       "      <td>NXN_HUMAN</td>\n",
       "      <td>50.000000</td>\n",
       "      <td>1</td>\n",
       "      <td>drug specific</td>\n",
       "    </tr>\n",
       "    <tr>\n",
       "      <th>1459</th>\n",
       "      <td>ARGL1_HUMAN</td>\n",
       "      <td>50.000000</td>\n",
       "      <td>1</td>\n",
       "      <td>drug specific</td>\n",
       "    </tr>\n",
       "    <tr>\n",
       "      <th>329</th>\n",
       "      <td>LMNA_HUMAN</td>\n",
       "      <td>40.235060</td>\n",
       "      <td>251</td>\n",
       "      <td>pan-drug</td>\n",
       "    </tr>\n",
       "    <tr>\n",
       "      <th>333</th>\n",
       "      <td>GBG12_HUMAN</td>\n",
       "      <td>39.073171</td>\n",
       "      <td>246</td>\n",
       "      <td>pan-drug</td>\n",
       "    </tr>\n",
       "    <tr>\n",
       "      <th>721</th>\n",
       "      <td>NCEH1_HUMAN</td>\n",
       "      <td>37.716895</td>\n",
       "      <td>219</td>\n",
       "      <td>pan-drug</td>\n",
       "    </tr>\n",
       "    <tr>\n",
       "      <th>785</th>\n",
       "      <td>ITPI2_HUMAN</td>\n",
       "      <td>36.759091</td>\n",
       "      <td>220</td>\n",
       "      <td>pan-drug</td>\n",
       "    </tr>\n",
       "    <tr>\n",
       "      <th>760</th>\n",
       "      <td>ANXA2_HUMAN</td>\n",
       "      <td>35.538462</td>\n",
       "      <td>208</td>\n",
       "      <td>pan-drug</td>\n",
       "    </tr>\n",
       "    <tr>\n",
       "      <th>711</th>\n",
       "      <td>TMED1_HUMAN</td>\n",
       "      <td>34.555556</td>\n",
       "      <td>216</td>\n",
       "      <td>pan-drug</td>\n",
       "    </tr>\n",
       "    <tr>\n",
       "      <th>15</th>\n",
       "      <td>CTND1_HUMAN</td>\n",
       "      <td>31.775120</td>\n",
       "      <td>209</td>\n",
       "      <td>pan-drug</td>\n",
       "    </tr>\n",
       "  </tbody>\n",
       "</table>\n",
       "</div>"
      ],
      "text/plain": [
       "          protein  50-avg_rank  count       category\n",
       "259     NXN_HUMAN    50.000000      1  drug specific\n",
       "1459  ARGL1_HUMAN    50.000000      1  drug specific\n",
       "329    LMNA_HUMAN    40.235060    251       pan-drug\n",
       "333   GBG12_HUMAN    39.073171    246       pan-drug\n",
       "721   NCEH1_HUMAN    37.716895    219       pan-drug\n",
       "785   ITPI2_HUMAN    36.759091    220       pan-drug\n",
       "760   ANXA2_HUMAN    35.538462    208       pan-drug\n",
       "711   TMED1_HUMAN    34.555556    216       pan-drug\n",
       "15    CTND1_HUMAN    31.775120    209       pan-drug"
      ]
     },
     "execution_count": 270,
     "metadata": {},
     "output_type": "execute_result"
    }
   ],
   "source": [
    "rf_df_filtered[rf_df_filtered['category']!='other'].sort_values([f'{topN}-avg_rank'], ascending=False)"
   ]
  },
  {
   "cell_type": "markdown",
   "metadata": {},
   "source": [
    "### ENet"
   ]
  },
  {
   "cell_type": "code",
   "execution_count": 271,
   "metadata": {
    "ExecuteTime": {
     "end_time": "2020-06-15T13:16:18.754696Z",
     "start_time": "2020-06-15T13:16:17.677447Z"
    }
   },
   "outputs": [],
   "source": [
    "topN = 50\n",
    "en_dict_count = {}\n",
    "en_dict_rank = {}\n",
    "en_dict_drug = {}\n",
    "for drug in drug_list:\n",
    "    tmp = df_en[['protein', f'importance_{drug}']]\n",
    "    tmp = tmp[tmp[f'importance_{drug}'] != 0]\n",
    "    tmp['abs'] = np.abs(tmp[f'importance_{drug}'])\n",
    "    en_top_proteins = tmp.sort_values(by=['abs'],\n",
    "                        ascending=False)[['protein', f'importance_{drug}'\n",
    "                                          ]].head(topN)['protein'].values\n",
    "    en_top_proteins = [x for x in en_top_proteins if x not in shap_tissue_set]\n",
    "    for i in range(len(en_top_proteins)):\n",
    "        if en_top_proteins[i] not in en_dict_count:\n",
    "            en_dict_count[en_top_proteins[i]] = 0\n",
    "            en_dict_rank[en_top_proteins[i]] = []\n",
    "            en_dict_drug[en_top_proteins[i]] = []\n",
    "            \n",
    "        en_dict_rank[en_top_proteins[i]].append(i)\n",
    "        en_dict_count[en_top_proteins[i]] += 1\n",
    "        en_dict_drug[en_top_proteins[i]].append(drug)"
   ]
  },
  {
   "cell_type": "code",
   "execution_count": 272,
   "metadata": {
    "ExecuteTime": {
     "end_time": "2020-06-15T13:16:18.780682Z",
     "start_time": "2020-06-15T13:16:18.756627Z"
    }
   },
   "outputs": [],
   "source": [
    "en_df = {'protein':[], f'{topN}-avg_rank':[], 'count':[]}\n",
    "for p in en_dict_rank:\n",
    "    en_dict_rank[p] = topN - np.average(en_dict_rank[p])\n",
    "    en_df['protein'].append(p)\n",
    "    en_df[f'{topN}-avg_rank'].append(en_dict_rank[p])\n",
    "    en_df['count'].append(en_dict_count[p])\n",
    "en_df = pd.DataFrame(en_df)"
   ]
  },
  {
   "cell_type": "code",
   "execution_count": 273,
   "metadata": {
    "ExecuteTime": {
     "end_time": "2020-06-15T13:16:18.785720Z",
     "start_time": "2020-06-15T13:16:18.782601Z"
    }
   },
   "outputs": [],
   "source": [
    "en_df_filtered = en_df[en_df['count']+en_df[f'{topN}-avg_rank'] > topN]"
   ]
  },
  {
   "cell_type": "code",
   "execution_count": 274,
   "metadata": {
    "ExecuteTime": {
     "end_time": "2020-06-15T13:16:18.796552Z",
     "start_time": "2020-06-15T13:16:18.787314Z"
    }
   },
   "outputs": [
    {
     "name": "stderr",
     "output_type": "stream",
     "text": [
      "\n",
      "A value is trying to be set on a copy of a slice from a DataFrame.\n",
      "Try using .loc[row_indexer,col_indexer] = value instead\n",
      "\n",
      "See the caveats in the documentation: https://pandas.pydata.org/pandas-docs/stable/user_guide/indexing.html#returning-a-view-versus-a-copy\n"
     ]
    }
   ],
   "source": [
    "en_df_filtered['category'] = en_df_filtered.apply(\n",
    "    lambda row: 'drug specific'\n",
    "    if (row[f'{topN}-avg_rank'] > topN-2 and row['count'] < 100) \n",
    "    else 'pan-drug'if (row['count'] > 100 and row[f'{topN}-avg_rank'] > 10)\n",
    "    else 'other',\n",
    "    axis=1)"
   ]
  },
  {
   "cell_type": "code",
   "execution_count": 275,
   "metadata": {
    "ExecuteTime": {
     "end_time": "2020-06-15T13:16:18.982724Z",
     "start_time": "2020-06-15T13:16:18.797875Z"
    }
   },
   "outputs": [
    {
     "data": {
      "text/plain": [
       "Text(0.5, 1.0, 'top protein analysis (Elastic Net)')"
      ]
     },
     "execution_count": 275,
     "metadata": {},
     "output_type": "execute_result"
    },
    {
     "data": {
      "image/png": "[encoded data removed]",
      "text/plain": [
       "<Figure size 864x504 with 1 Axes>"
      ]
     },
     "metadata": {
      "needs_background": "light"
     },
     "output_type": "display_data"
    }
   ],
   "source": [
    "plt.figure(figsize=(12, 7))\n",
    "sns.scatterplot(x='count',\n",
    "                y=f'{topN}-avg_rank',\n",
    "                hue='category',\n",
    "                hue_order=['drug specific', 'pan-drug', 'other'],\n",
    "                data=en_df_filtered)\n",
    "plt.xlabel(f'number of times in top {topN}')\n",
    "plt.title(\"top protein analysis (Elastic Net)\")"
   ]
  },
  {
   "cell_type": "code",
   "execution_count": 276,
   "metadata": {
    "ExecuteTime": {
     "end_time": "2020-06-15T13:16:19.067623Z",
     "start_time": "2020-06-15T13:16:19.056363Z"
    }
   },
   "outputs": [
    {
     "data": {
      "text/html": [
       "<div>\n",
       "<style scoped>\n",
       "    .dataframe tbody tr th:only-of-type {\n",
       "        vertical-align: middle;\n",
       "    }\n",
       "\n",
       "    .dataframe tbody tr th {\n",
       "        vertical-align: top;\n",
       "    }\n",
       "\n",
       "    .dataframe thead th {\n",
       "        text-align: right;\n",
       "    }\n",
       "</style>\n",
       "<table border=\"1\" class=\"dataframe\">\n",
       "  <thead>\n",
       "    <tr style=\"text-align: right;\">\n",
       "      <th></th>\n",
       "      <th>protein</th>\n",
       "      <th>50-avg_rank</th>\n",
       "      <th>count</th>\n",
       "      <th>category</th>\n",
       "    </tr>\n",
       "  </thead>\n",
       "  <tbody>\n",
       "    <tr>\n",
       "      <th>1064</th>\n",
       "      <td>C43BP_HUMAN</td>\n",
       "      <td>50.000000</td>\n",
       "      <td>1</td>\n",
       "      <td>drug specific</td>\n",
       "    </tr>\n",
       "    <tr>\n",
       "      <th>1138</th>\n",
       "      <td>COMT_HUMAN</td>\n",
       "      <td>50.000000</td>\n",
       "      <td>1</td>\n",
       "      <td>drug specific</td>\n",
       "    </tr>\n",
       "    <tr>\n",
       "      <th>1211</th>\n",
       "      <td>ADK_HUMAN</td>\n",
       "      <td>50.000000</td>\n",
       "      <td>1</td>\n",
       "      <td>drug specific</td>\n",
       "    </tr>\n",
       "    <tr>\n",
       "      <th>427</th>\n",
       "      <td>B2CL1_HUMAN</td>\n",
       "      <td>40.113537</td>\n",
       "      <td>229</td>\n",
       "      <td>pan-drug</td>\n",
       "    </tr>\n",
       "    <tr>\n",
       "      <th>184</th>\n",
       "      <td>LMNA_HUMAN</td>\n",
       "      <td>38.743243</td>\n",
       "      <td>148</td>\n",
       "      <td>pan-drug</td>\n",
       "    </tr>\n",
       "    <tr>\n",
       "      <th>535</th>\n",
       "      <td>SQSTM_HUMAN</td>\n",
       "      <td>37.827381</td>\n",
       "      <td>168</td>\n",
       "      <td>pan-drug</td>\n",
       "    </tr>\n",
       "    <tr>\n",
       "      <th>173</th>\n",
       "      <td>ELF1_HUMAN</td>\n",
       "      <td>36.525547</td>\n",
       "      <td>137</td>\n",
       "      <td>pan-drug</td>\n",
       "    </tr>\n",
       "    <tr>\n",
       "      <th>107</th>\n",
       "      <td>BAD_HUMAN</td>\n",
       "      <td>34.578125</td>\n",
       "      <td>128</td>\n",
       "      <td>pan-drug</td>\n",
       "    </tr>\n",
       "    <tr>\n",
       "      <th>255</th>\n",
       "      <td>SVIP_HUMAN</td>\n",
       "      <td>33.281046</td>\n",
       "      <td>153</td>\n",
       "      <td>pan-drug</td>\n",
       "    </tr>\n",
       "    <tr>\n",
       "      <th>143</th>\n",
       "      <td>K1C18_HUMAN</td>\n",
       "      <td>33.040000</td>\n",
       "      <td>175</td>\n",
       "      <td>pan-drug</td>\n",
       "    </tr>\n",
       "    <tr>\n",
       "      <th>466</th>\n",
       "      <td>K2C8_HUMAN</td>\n",
       "      <td>32.898810</td>\n",
       "      <td>168</td>\n",
       "      <td>pan-drug</td>\n",
       "    </tr>\n",
       "    <tr>\n",
       "      <th>370</th>\n",
       "      <td>CACP_HUMAN</td>\n",
       "      <td>32.195652</td>\n",
       "      <td>138</td>\n",
       "      <td>pan-drug</td>\n",
       "    </tr>\n",
       "    <tr>\n",
       "      <th>181</th>\n",
       "      <td>LEG3_HUMAN</td>\n",
       "      <td>31.576577</td>\n",
       "      <td>111</td>\n",
       "      <td>pan-drug</td>\n",
       "    </tr>\n",
       "    <tr>\n",
       "      <th>518</th>\n",
       "      <td>NB5R1_HUMAN</td>\n",
       "      <td>31.384615</td>\n",
       "      <td>130</td>\n",
       "      <td>pan-drug</td>\n",
       "    </tr>\n",
       "    <tr>\n",
       "      <th>353</th>\n",
       "      <td>ANKZ1_HUMAN</td>\n",
       "      <td>30.518868</td>\n",
       "      <td>106</td>\n",
       "      <td>pan-drug</td>\n",
       "    </tr>\n",
       "  </tbody>\n",
       "</table>\n",
       "</div>"
      ],
      "text/plain": [
       "          protein  50-avg_rank  count       category\n",
       "1064  C43BP_HUMAN    50.000000      1  drug specific\n",
       "1138   COMT_HUMAN    50.000000      1  drug specific\n",
       "1211    ADK_HUMAN    50.000000      1  drug specific\n",
       "427   B2CL1_HUMAN    40.113537    229       pan-drug\n",
       "184    LMNA_HUMAN    38.743243    148       pan-drug\n",
       "535   SQSTM_HUMAN    37.827381    168       pan-drug\n",
       "173    ELF1_HUMAN    36.525547    137       pan-drug\n",
       "107     BAD_HUMAN    34.578125    128       pan-drug\n",
       "255    SVIP_HUMAN    33.281046    153       pan-drug\n",
       "143   K1C18_HUMAN    33.040000    175       pan-drug\n",
       "466    K2C8_HUMAN    32.898810    168       pan-drug\n",
       "370    CACP_HUMAN    32.195652    138       pan-drug\n",
       "181    LEG3_HUMAN    31.576577    111       pan-drug\n",
       "518   NB5R1_HUMAN    31.384615    130       pan-drug\n",
       "353   ANKZ1_HUMAN    30.518868    106       pan-drug"
      ]
     },
     "execution_count": 276,
     "metadata": {},
     "output_type": "execute_result"
    }
   ],
   "source": [
    "en_df_filtered[en_df_filtered['category']!='other'].sort_values([f'{topN}-avg_rank'], ascending=False)"
   ]
  },
  {
   "cell_type": "code",
   "execution_count": 277,
   "metadata": {
    "ExecuteTime": {
     "end_time": "2020-06-15T13:16:19.360663Z",
     "start_time": "2020-06-15T13:16:19.351752Z"
    }
   },
   "outputs": [
    {
     "data": {
      "text/html": [
       "<div>\n",
       "<style scoped>\n",
       "    .dataframe tbody tr th:only-of-type {\n",
       "        vertical-align: middle;\n",
       "    }\n",
       "\n",
       "    .dataframe tbody tr th {\n",
       "        vertical-align: top;\n",
       "    }\n",
       "\n",
       "    .dataframe thead th {\n",
       "        text-align: right;\n",
       "    }\n",
       "</style>\n",
       "<table border=\"1\" class=\"dataframe\">\n",
       "  <thead>\n",
       "    <tr style=\"text-align: right;\">\n",
       "      <th></th>\n",
       "      <th>protein</th>\n",
       "      <th>50-avg_rank</th>\n",
       "      <th>count</th>\n",
       "    </tr>\n",
       "  </thead>\n",
       "  <tbody>\n",
       "    <tr>\n",
       "      <th>184</th>\n",
       "      <td>LMNA_HUMAN</td>\n",
       "      <td>38.743243</td>\n",
       "      <td>148</td>\n",
       "    </tr>\n",
       "    <tr>\n",
       "      <th>466</th>\n",
       "      <td>K2C8_HUMAN</td>\n",
       "      <td>32.898810</td>\n",
       "      <td>168</td>\n",
       "    </tr>\n",
       "    <tr>\n",
       "      <th>567</th>\n",
       "      <td>TMM33_HUMAN</td>\n",
       "      <td>27.526316</td>\n",
       "      <td>19</td>\n",
       "    </tr>\n",
       "    <tr>\n",
       "      <th>794</th>\n",
       "      <td>NNRD_HUMAN</td>\n",
       "      <td>31.190476</td>\n",
       "      <td>42</td>\n",
       "    </tr>\n",
       "    <tr>\n",
       "      <th>819</th>\n",
       "      <td>ANXA2_HUMAN</td>\n",
       "      <td>30.157895</td>\n",
       "      <td>76</td>\n",
       "    </tr>\n",
       "    <tr>\n",
       "      <th>867</th>\n",
       "      <td>NAMPT_HUMAN</td>\n",
       "      <td>29.937500</td>\n",
       "      <td>16</td>\n",
       "    </tr>\n",
       "    <tr>\n",
       "      <th>944</th>\n",
       "      <td>TIMP1_HUMAN</td>\n",
       "      <td>35.800000</td>\n",
       "      <td>5</td>\n",
       "    </tr>\n",
       "    <tr>\n",
       "      <th>950</th>\n",
       "      <td>MIEN1_HUMAN</td>\n",
       "      <td>34.709677</td>\n",
       "      <td>31</td>\n",
       "    </tr>\n",
       "    <tr>\n",
       "      <th>1087</th>\n",
       "      <td>LSP1_HUMAN</td>\n",
       "      <td>24.700000</td>\n",
       "      <td>10</td>\n",
       "    </tr>\n",
       "    <tr>\n",
       "      <th>1329</th>\n",
       "      <td>ERBB2_HUMAN</td>\n",
       "      <td>41.923077</td>\n",
       "      <td>13</td>\n",
       "    </tr>\n",
       "  </tbody>\n",
       "</table>\n",
       "</div>"
      ],
      "text/plain": [
       "          protein  50-avg_rank  count\n",
       "184    LMNA_HUMAN    38.743243    148\n",
       "466    K2C8_HUMAN    32.898810    168\n",
       "567   TMM33_HUMAN    27.526316     19\n",
       "794    NNRD_HUMAN    31.190476     42\n",
       "819   ANXA2_HUMAN    30.157895     76\n",
       "867   NAMPT_HUMAN    29.937500     16\n",
       "944   TIMP1_HUMAN    35.800000      5\n",
       "950   MIEN1_HUMAN    34.709677     31\n",
       "1087   LSP1_HUMAN    24.700000     10\n",
       "1329  ERBB2_HUMAN    41.923077     13"
      ]
     },
     "execution_count": 277,
     "metadata": {},
     "output_type": "execute_result"
    }
   ],
   "source": [
    "en_df[en_df['protein'].isin([\n",
    "    'ERBB2_HUMAN', 'MIEN1_HUMAN', 'LMNA_HUMAN', 'K2C8_HUMAN', 'LSP1_HUMAN',\n",
    "    'ANXA2_HUMAN', 'ABCF2_HUMAN', 'TMM33_HUMAN', 'TIMP1_HUMAN', 'NAMPT_HUMAN',\n",
    "    'NNRD_HUMAN'\n",
    "])]"
   ]
  },
  {
   "cell_type": "markdown",
   "metadata": {},
   "source": [
    "### shap"
   ]
  },
  {
   "cell_type": "code",
   "execution_count": 278,
   "metadata": {
    "ExecuteTime": {
     "end_time": "2020-06-15T13:16:21.844949Z",
     "start_time": "2020-06-15T13:16:20.607957Z"
    }
   },
   "outputs": [],
   "source": [
    "topN = 50\n",
    "shap_dict_count = {}\n",
    "shap_dict_rank = {}\n",
    "shap_dict_drug = {}\n",
    "for drug in drug_list:\n",
    "    tmp = df_shap[['protein', f'importance_{drug}']]\n",
    "    tmp = tmp[tmp[f'importance_{drug}'] != 0]\n",
    "    tmp['abs'] = np.abs(tmp[f'importance_{drug}'])\n",
    "    shap_top_proteins = tmp.sort_values(by=['abs'],\n",
    "                        ascending=False)[['protein', f'importance_{drug}'\n",
    "                                          ]].head(topN)['protein'].values\n",
    "    shap_top_proteins = [x for x in shap_top_proteins if x not in shap_tissue_set]\n",
    "    for i in range(len(shap_top_proteins)):\n",
    "        if shap_top_proteins[i] not in shap_dict_count:\n",
    "            shap_dict_count[shap_top_proteins[i]] = 0\n",
    "            shap_dict_rank[shap_top_proteins[i]] = []\n",
    "            shap_dict_drug[shap_top_proteins[i]] = []\n",
    "            \n",
    "        shap_dict_rank[shap_top_proteins[i]].append(i)\n",
    "        shap_dict_count[shap_top_proteins[i]] += 1\n",
    "        shap_dict_drug[shap_top_proteins[i]].append(drug)"
   ]
  },
  {
   "cell_type": "code",
   "execution_count": null,
   "metadata": {},
   "outputs": [],
   "source": []
  },
  {
   "cell_type": "code",
   "execution_count": 279,
   "metadata": {
    "ExecuteTime": {
     "end_time": "2020-06-15T13:16:21.859554Z",
     "start_time": "2020-06-15T13:16:21.846612Z"
    }
   },
   "outputs": [],
   "source": [
    "shap_df = {'protein':[], f'{topN}-avg_rank':[], 'count':[]}\n",
    "for p in shap_dict_rank:\n",
    "    shap_dict_rank[p] = topN - np.average(shap_dict_rank[p])\n",
    "    shap_df['protein'].append(p)\n",
    "    shap_df[f'{topN}-avg_rank'].append(shap_dict_rank[p])\n",
    "    shap_df['count'].append(shap_dict_count[p])\n",
    "shap_df = pd.DataFrame(shap_df)"
   ]
  },
  {
   "cell_type": "code",
   "execution_count": 280,
   "metadata": {
    "ExecuteTime": {
     "end_time": "2020-06-15T13:16:21.865222Z",
     "start_time": "2020-06-15T13:16:21.861585Z"
    }
   },
   "outputs": [],
   "source": [
    "shap_df_filtered = shap_df[shap_df['count']+shap_df[f'{topN}-avg_rank'] > (topN-10)]"
   ]
  },
  {
   "cell_type": "code",
   "execution_count": 281,
   "metadata": {
    "ExecuteTime": {
     "end_time": "2020-06-15T13:16:22.014349Z",
     "start_time": "2020-06-15T13:16:21.867086Z"
    }
   },
   "outputs": [
    {
     "data": {
      "text/plain": [
       "<matplotlib.axes._subplots.AxesSubplot at 0x7ff271eb7100>"
      ]
     },
     "execution_count": 281,
     "metadata": {},
     "output_type": "execute_result"
    },
    {
     "data": {
      "image/png": "[encoded data removed]",
      "text/plain": [
       "<Figure size 720x504 with 1 Axes>"
      ]
     },
     "metadata": {
      "needs_background": "light"
     },
     "output_type": "display_data"
    }
   ],
   "source": [
    "sns.scatterplot(x='count', y=f'{topN}-avg_rank', data=shap_df_filtered)"
   ]
  },
  {
   "cell_type": "code",
   "execution_count": 282,
   "metadata": {
    "ExecuteTime": {
     "end_time": "2020-06-15T13:16:22.262202Z",
     "start_time": "2020-06-15T13:16:22.252377Z"
    }
   },
   "outputs": [
    {
     "name": "stderr",
     "output_type": "stream",
     "text": [
      "\n",
      "A value is trying to be set on a copy of a slice from a DataFrame.\n",
      "Try using .loc[row_indexer,col_indexer] = value instead\n",
      "\n",
      "See the caveats in the documentation: https://pandas.pydata.org/pandas-docs/stable/user_guide/indexing.html#returning-a-view-versus-a-copy\n"
     ]
    }
   ],
   "source": [
    "shap_df_filtered['category'] = shap_df_filtered.apply(\n",
    "    lambda row: 'drug specific' if (row[f'{topN}-avg_rank'] >= 40 and row['count'] < 50) \n",
    "    else 'pan-drug'\n",
    "    if row['count'] > 200 else 'other', axis=1)"
   ]
  },
  {
   "cell_type": "code",
   "execution_count": 283,
   "metadata": {
    "ExecuteTime": {
     "end_time": "2020-06-15T13:16:22.904175Z",
     "start_time": "2020-06-15T13:16:22.707029Z"
    },
    "scrolled": false
   },
   "outputs": [
    {
     "data": {
      "text/plain": [
       "Text(0.5, 1.0, 'top protein analysis (MultiDrugNN)')"
      ]
     },
     "execution_count": 283,
     "metadata": {},
     "output_type": "execute_result"
    },
    {
     "data": {
      "image/png": "[encoded data removed]",
      "text/plain": [
       "<Figure size 864x504 with 1 Axes>"
      ]
     },
     "metadata": {
      "needs_background": "light"
     },
     "output_type": "display_data"
    }
   ],
   "source": [
    "plt.figure(figsize=(12, 7))\n",
    "sns.scatterplot(x='count',\n",
    "                y=f'{topN}-avg_rank',\n",
    "                hue='category',\n",
    "                hue_order=['drug specific', 'pan-drug', 'other'],\n",
    "                data=shap_df_filtered)\n",
    "plt.xlabel(f'number of times in top {topN}')\n",
    "plt.title(\"top protein analysis (MultiDrugNN)\")"
   ]
  },
  {
   "cell_type": "code",
   "execution_count": 284,
   "metadata": {
    "ExecuteTime": {
     "end_time": "2020-06-15T13:16:23.319649Z",
     "start_time": "2020-06-15T13:16:23.308073Z"
    }
   },
   "outputs": [
    {
     "data": {
      "text/html": [
       "<div>\n",
       "<style scoped>\n",
       "    .dataframe tbody tr th:only-of-type {\n",
       "        vertical-align: middle;\n",
       "    }\n",
       "\n",
       "    .dataframe tbody tr th {\n",
       "        vertical-align: top;\n",
       "    }\n",
       "\n",
       "    .dataframe thead th {\n",
       "        text-align: right;\n",
       "    }\n",
       "</style>\n",
       "<table border=\"1\" class=\"dataframe\">\n",
       "  <thead>\n",
       "    <tr style=\"text-align: right;\">\n",
       "      <th></th>\n",
       "      <th>protein</th>\n",
       "      <th>50-avg_rank</th>\n",
       "      <th>count</th>\n",
       "      <th>category</th>\n",
       "    </tr>\n",
       "  </thead>\n",
       "  <tbody>\n",
       "    <tr>\n",
       "      <th>198</th>\n",
       "      <td>PYGB_HUMAN</td>\n",
       "      <td>45.563380</td>\n",
       "      <td>284</td>\n",
       "      <td>pan-drug</td>\n",
       "    </tr>\n",
       "    <tr>\n",
       "      <th>4</th>\n",
       "      <td>41_HUMAN</td>\n",
       "      <td>44.312808</td>\n",
       "      <td>406</td>\n",
       "      <td>pan-drug</td>\n",
       "    </tr>\n",
       "    <tr>\n",
       "      <th>118</th>\n",
       "      <td>ETHE1_HUMAN</td>\n",
       "      <td>42.272727</td>\n",
       "      <td>22</td>\n",
       "      <td>drug specific</td>\n",
       "    </tr>\n",
       "    <tr>\n",
       "      <th>49</th>\n",
       "      <td>CAN2_HUMAN</td>\n",
       "      <td>41.297806</td>\n",
       "      <td>319</td>\n",
       "      <td>pan-drug</td>\n",
       "    </tr>\n",
       "    <tr>\n",
       "      <th>433</th>\n",
       "      <td>MYPT1_HUMAN</td>\n",
       "      <td>41.000000</td>\n",
       "      <td>1</td>\n",
       "      <td>drug specific</td>\n",
       "    </tr>\n",
       "    <tr>\n",
       "      <th>434</th>\n",
       "      <td>FAH2A_HUMAN</td>\n",
       "      <td>40.000000</td>\n",
       "      <td>1</td>\n",
       "      <td>drug specific</td>\n",
       "    </tr>\n",
       "    <tr>\n",
       "      <th>58</th>\n",
       "      <td>PTMA_HUMAN</td>\n",
       "      <td>38.257329</td>\n",
       "      <td>307</td>\n",
       "      <td>pan-drug</td>\n",
       "    </tr>\n",
       "    <tr>\n",
       "      <th>24</th>\n",
       "      <td>CD97_HUMAN</td>\n",
       "      <td>37.786834</td>\n",
       "      <td>319</td>\n",
       "      <td>pan-drug</td>\n",
       "    </tr>\n",
       "    <tr>\n",
       "      <th>48</th>\n",
       "      <td>SCG2_HUMAN</td>\n",
       "      <td>37.222222</td>\n",
       "      <td>216</td>\n",
       "      <td>pan-drug</td>\n",
       "    </tr>\n",
       "    <tr>\n",
       "      <th>55</th>\n",
       "      <td>K1C14_HUMAN</td>\n",
       "      <td>37.210762</td>\n",
       "      <td>223</td>\n",
       "      <td>pan-drug</td>\n",
       "    </tr>\n",
       "    <tr>\n",
       "      <th>178</th>\n",
       "      <td>K2C7_HUMAN</td>\n",
       "      <td>34.966555</td>\n",
       "      <td>299</td>\n",
       "      <td>pan-drug</td>\n",
       "    </tr>\n",
       "    <tr>\n",
       "      <th>53</th>\n",
       "      <td>AGRIN_HUMAN</td>\n",
       "      <td>34.904167</td>\n",
       "      <td>240</td>\n",
       "      <td>pan-drug</td>\n",
       "    </tr>\n",
       "    <tr>\n",
       "      <th>50</th>\n",
       "      <td>DNJC2_HUMAN</td>\n",
       "      <td>34.186992</td>\n",
       "      <td>369</td>\n",
       "      <td>pan-drug</td>\n",
       "    </tr>\n",
       "    <tr>\n",
       "      <th>57</th>\n",
       "      <td>BID_HUMAN</td>\n",
       "      <td>32.479070</td>\n",
       "      <td>215</td>\n",
       "      <td>pan-drug</td>\n",
       "    </tr>\n",
       "    <tr>\n",
       "      <th>109</th>\n",
       "      <td>CYB5B_HUMAN</td>\n",
       "      <td>30.550420</td>\n",
       "      <td>238</td>\n",
       "      <td>pan-drug</td>\n",
       "    </tr>\n",
       "    <tr>\n",
       "      <th>67</th>\n",
       "      <td>DHRS2_HUMAN</td>\n",
       "      <td>30.529412</td>\n",
       "      <td>221</td>\n",
       "      <td>pan-drug</td>\n",
       "    </tr>\n",
       "    <tr>\n",
       "      <th>103</th>\n",
       "      <td>PARP4_HUMAN</td>\n",
       "      <td>29.244240</td>\n",
       "      <td>217</td>\n",
       "      <td>pan-drug</td>\n",
       "    </tr>\n",
       "  </tbody>\n",
       "</table>\n",
       "</div>"
      ],
      "text/plain": [
       "         protein  50-avg_rank  count       category\n",
       "198   PYGB_HUMAN    45.563380    284       pan-drug\n",
       "4       41_HUMAN    44.312808    406       pan-drug\n",
       "118  ETHE1_HUMAN    42.272727     22  drug specific\n",
       "49    CAN2_HUMAN    41.297806    319       pan-drug\n",
       "433  MYPT1_HUMAN    41.000000      1  drug specific\n",
       "434  FAH2A_HUMAN    40.000000      1  drug specific\n",
       "58    PTMA_HUMAN    38.257329    307       pan-drug\n",
       "24    CD97_HUMAN    37.786834    319       pan-drug\n",
       "48    SCG2_HUMAN    37.222222    216       pan-drug\n",
       "55   K1C14_HUMAN    37.210762    223       pan-drug\n",
       "178   K2C7_HUMAN    34.966555    299       pan-drug\n",
       "53   AGRIN_HUMAN    34.904167    240       pan-drug\n",
       "50   DNJC2_HUMAN    34.186992    369       pan-drug\n",
       "57     BID_HUMAN    32.479070    215       pan-drug\n",
       "109  CYB5B_HUMAN    30.550420    238       pan-drug\n",
       "67   DHRS2_HUMAN    30.529412    221       pan-drug\n",
       "103  PARP4_HUMAN    29.244240    217       pan-drug"
      ]
     },
     "execution_count": 284,
     "metadata": {},
     "output_type": "execute_result"
    }
   ],
   "source": [
    "shap_df_filtered[shap_df_filtered['category']!='other'].sort_values([f'{topN}-avg_rank'], ascending=False)"
   ]
  },
  {
   "cell_type": "code",
   "execution_count": null,
   "metadata": {
    "ExecuteTime": {
     "end_time": "2020-05-05T13:42:43.423281Z",
     "start_time": "2020-05-05T13:42:43.419625Z"
    },
    "scrolled": false
   },
   "outputs": [],
   "source": []
  },
  {
   "cell_type": "markdown",
   "metadata": {},
   "source": [
    "### combined"
   ]
  },
  {
   "cell_type": "code",
   "execution_count": 285,
   "metadata": {
    "ExecuteTime": {
     "end_time": "2020-06-15T13:16:27.314785Z",
     "start_time": "2020-06-15T13:16:27.307558Z"
    }
   },
   "outputs": [],
   "source": [
    "tmp = pd.merge(rf_df_filtered, en_df_filtered, on=['protein'], suffixes=['_rf', '_en'])"
   ]
  },
  {
   "cell_type": "code",
   "execution_count": 286,
   "metadata": {
    "ExecuteTime": {
     "end_time": "2020-06-15T13:16:27.563581Z",
     "start_time": "2020-06-15T13:16:27.556828Z"
    }
   },
   "outputs": [],
   "source": [
    "tmp = pd.merge(tmp, shap_df_filtered, on=['protein'])"
   ]
  },
  {
   "cell_type": "code",
   "execution_count": 287,
   "metadata": {
    "ExecuteTime": {
     "end_time": "2020-06-15T13:16:29.565877Z",
     "start_time": "2020-06-15T13:16:29.556230Z"
    }
   },
   "outputs": [],
   "source": [
    "tmp['count_avg'] = tmp.apply(\n",
    "    lambda row: np.average([row['count'], row['count_en'], row['count_rf']]), axis=1)\n",
    "tmp['rank_score_avg'] = tmp.apply(lambda row: np.average([\n",
    "    row['50-avg_rank'], row['50-avg_rank_en'], row['50-avg_rank_rf']]), axis=1)"
   ]
  },
  {
   "cell_type": "code",
   "execution_count": 288,
   "metadata": {
    "ExecuteTime": {
     "end_time": "2020-06-15T13:16:31.792149Z",
     "start_time": "2020-06-15T13:16:31.642647Z"
    }
   },
   "outputs": [
    {
     "data": {
      "text/plain": [
       "<matplotlib.axes._subplots.AxesSubplot at 0x7ff28209dcd0>"
      ]
     },
     "execution_count": 288,
     "metadata": {},
     "output_type": "execute_result"
    },
    {
     "data": {
      "image/png": "[encoded data removed]",
      "text/plain": [
       "<Figure size 720x504 with 1 Axes>"
      ]
     },
     "metadata": {
      "needs_background": "light"
     },
     "output_type": "display_data"
    }
   ],
   "source": [
    "sns.scatterplot(x='count_avg', y='rank_score_avg', data=tmp)"
   ]
  },
  {
   "cell_type": "code",
   "execution_count": 289,
   "metadata": {
    "ExecuteTime": {
     "end_time": "2020-06-15T13:16:32.141385Z",
     "start_time": "2020-06-15T13:16:32.135867Z"
    }
   },
   "outputs": [],
   "source": [
    "tmp['category_avg'] = tmp.apply(\n",
    "    lambda row: 'drug-specific' if (row[f'rank_score_avg'] >= 35 and row['count_avg'] < 20) \n",
    "    else 'pan-drug'\n",
    "    if row['count_avg'] > 150 else 'other', axis=1)"
   ]
  },
  {
   "cell_type": "code",
   "execution_count": 304,
   "metadata": {
    "ExecuteTime": {
     "end_time": "2020-06-15T13:20:00.706776Z",
     "start_time": "2020-06-15T13:20:00.272518Z"
    }
   },
   "outputs": [
    {
     "data": {
      "image/png": "[encoded data removed]",
      "text/plain": [
       "<Figure size 1008x720 with 1 Axes>"
      ]
     },
     "metadata": {
      "needs_background": "light"
     },
     "output_type": "display_data"
    }
   ],
   "source": [
    "fig = plt.figure(figsize=(14, 10))\n",
    "ax = sns.scatterplot(x='count_avg', y='rank_score_avg', hue='category_avg', data=tmp, s=100)\n",
    "plt.xlabel(\"Number of times in Top 50 proteins (max 435)\")\n",
    "plt.ylabel(\"Rank score (max 50)\")\n",
    "plt.title(\"Pan-drug vs Drug-specific important proteins\")\n",
    "handles, labels = ax.get_legend_handles_labels()\n",
    "labels[0] = 'category'\n",
    "ax.legend(handles, labels)\n",
    "\n",
    "ax.annotate('ERBB2_HUMAN: Afatinib, Lapatinib, Sapitinib',\n",
    "            xy=(12.333333, 39.517216), xycoords='data',\n",
    "            xytext=(-10, -40), textcoords='offset points',\n",
    "            arrowprops=dict(arrowstyle=\"->\"), fontsize=16)\n",
    "\n",
    "ax.annotate('LMNA_HUMAN',\n",
    "            xy=(197.666667, 37.999641), xycoords='data',\n",
    "            xytext=(-80, -30), textcoords='offset points',\n",
    "            arrowprops=dict(arrowstyle=\"->\"), fontsize=16)\n",
    "# plt.show()\n",
    "plt.savefig(\"../../plots/Fig4D.pdf\", dpi=500)"
   ]
  },
  {
   "cell_type": "code",
   "execution_count": 102,
   "metadata": {
    "ExecuteTime": {
     "end_time": "2020-06-14T13:55:15.416266Z",
     "start_time": "2020-06-14T13:55:15.401658Z"
    }
   },
   "outputs": [
    {
     "data": {
      "text/html": [
       "<div>\n",
       "<style scoped>\n",
       "    .dataframe tbody tr th:only-of-type {\n",
       "        vertical-align: middle;\n",
       "    }\n",
       "\n",
       "    .dataframe tbody tr th {\n",
       "        vertical-align: top;\n",
       "    }\n",
       "\n",
       "    .dataframe thead th {\n",
       "        text-align: right;\n",
       "    }\n",
       "</style>\n",
       "<table border=\"1\" class=\"dataframe\">\n",
       "  <thead>\n",
       "    <tr style=\"text-align: right;\">\n",
       "      <th></th>\n",
       "      <th>protein</th>\n",
       "      <th>50-avg_rank_rf</th>\n",
       "      <th>count_rf</th>\n",
       "      <th>category_rf</th>\n",
       "      <th>50-avg_rank_en</th>\n",
       "      <th>count_en</th>\n",
       "      <th>category_en</th>\n",
       "      <th>50-avg_rank</th>\n",
       "      <th>count</th>\n",
       "      <th>category</th>\n",
       "      <th>count_avg</th>\n",
       "      <th>rank_score_avg</th>\n",
       "      <th>category_avg</th>\n",
       "    </tr>\n",
       "  </thead>\n",
       "  <tbody>\n",
       "    <tr>\n",
       "      <th>16</th>\n",
       "      <td>ERBB2_HUMAN</td>\n",
       "      <td>44.20000</td>\n",
       "      <td>10</td>\n",
       "      <td>other</td>\n",
       "      <td>41.923077</td>\n",
       "      <td>13</td>\n",
       "      <td>other</td>\n",
       "      <td>32.428571</td>\n",
       "      <td>14</td>\n",
       "      <td>other</td>\n",
       "      <td>12.333333</td>\n",
       "      <td>39.517216</td>\n",
       "      <td>drug-specific</td>\n",
       "    </tr>\n",
       "    <tr>\n",
       "      <th>6</th>\n",
       "      <td>LMNA_HUMAN</td>\n",
       "      <td>40.23506</td>\n",
       "      <td>251</td>\n",
       "      <td>pan-drug</td>\n",
       "      <td>38.743243</td>\n",
       "      <td>148</td>\n",
       "      <td>pan-drug</td>\n",
       "      <td>35.020619</td>\n",
       "      <td>194</td>\n",
       "      <td>other</td>\n",
       "      <td>197.666667</td>\n",
       "      <td>37.999641</td>\n",
       "      <td>pan-drug</td>\n",
       "    </tr>\n",
       "  </tbody>\n",
       "</table>\n",
       "</div>"
      ],
      "text/plain": [
       "        protein  50-avg_rank_rf  count_rf category_rf  50-avg_rank_en  \\\n",
       "16  ERBB2_HUMAN        44.20000        10       other       41.923077   \n",
       "6    LMNA_HUMAN        40.23506       251    pan-drug       38.743243   \n",
       "\n",
       "    count_en category_en  50-avg_rank  count category   count_avg  \\\n",
       "16        13       other    32.428571     14    other   12.333333   \n",
       "6        148    pan-drug    35.020619    194    other  197.666667   \n",
       "\n",
       "    rank_score_avg   category_avg  \n",
       "16       39.517216  drug-specific  \n",
       "6        37.999641       pan-drug  "
      ]
     },
     "execution_count": 102,
     "metadata": {},
     "output_type": "execute_result"
    }
   ],
   "source": [
    "tmp[tmp['category_avg']!='other'].sort_values([f'rank_score_avg'], ascending=False)"
   ]
  },
  {
   "cell_type": "markdown",
   "metadata": {},
   "source": [
    "### drug-specific"
   ]
  },
  {
   "cell_type": "code",
   "execution_count": 108,
   "metadata": {
    "ExecuteTime": {
     "end_time": "2020-06-14T13:58:10.584056Z",
     "start_time": "2020-06-14T13:58:10.581320Z"
    }
   },
   "outputs": [],
   "source": [
    "ERBB2_drugs = set(shap_dict_drug['ERBB2_HUMAN']).intersection(\n",
    "    set(rf_dict_drug['ERBB2_HUMAN'])).intersection(\n",
    "        set(en_dict_drug['ERBB2_HUMAN']))"
   ]
  },
  {
   "cell_type": "code",
   "execution_count": 109,
   "metadata": {
    "ExecuteTime": {
     "end_time": "2020-06-14T13:58:11.440223Z",
     "start_time": "2020-06-14T13:58:11.437402Z"
    }
   },
   "outputs": [
    {
     "name": "stdout",
     "output_type": "stream",
     "text": [
      "Afatinib\n",
      "CP-724714\n",
      "Poziotinib\n",
      "PF-06747775\n",
      "Ibrutinib\n",
      "Afatinib\n",
      "Lapatinib\n",
      "Osimertinib\n"
     ]
    }
   ],
   "source": [
    "for drug in ERBB2_drugs:\n",
    "    print(drug_name_map[drug])"
   ]
  },
  {
   "cell_type": "code",
   "execution_count": 85,
   "metadata": {
    "ExecuteTime": {
     "end_time": "2020-05-07T10:09:01.305671Z",
     "start_time": "2020-05-07T10:09:01.300898Z"
    }
   },
   "outputs": [
    {
     "name": "stdout",
     "output_type": "stream",
     "text": [
      "BAM7\n"
     ]
    }
   ],
   "source": [
    "for drug in TMM33_drugs:\n",
    "    print(drug_name_map[drug])"
   ]
  },
  {
   "cell_type": "markdown",
   "metadata": {},
   "source": [
    "## rank vs count excluding tissue - no growth"
   ]
  },
  {
   "cell_type": "code",
   "execution_count": 208,
   "metadata": {
    "ExecuteTime": {
     "end_time": "2020-06-15T05:46:47.539693Z",
     "start_time": "2020-06-15T05:46:46.430761Z"
    }
   },
   "outputs": [],
   "source": [
    "df_rf = pd.read_csv(\n",
    "    \"../../work_dirs/protein/RandomForest/feature_importance_202006052029_ruv_min_300_growth_corrected.csv\"\n",
    ")\n",
    "df_en = pd.read_csv(\n",
    "    \"../../work_dirs/protein/ElasticNet/feature_importance_202006071209_ruv_min_300_growth_corrected.csv\"\n",
    ")\n",
    "df_shap = pd.read_csv(\"../../result_files/shap/test_25_202006111047_growth_corrected.csv\")"
   ]
  },
  {
   "cell_type": "code",
   "execution_count": 209,
   "metadata": {
    "ExecuteTime": {
     "end_time": "2020-06-15T05:46:47.553651Z",
     "start_time": "2020-06-15T05:46:47.541525Z"
    }
   },
   "outputs": [],
   "source": [
    "drug_list = [1909, 1114, 1373, 1919, 1377, 119, 427, 1910, 1047]\n",
    "drug_score = pd.read_csv(\"../../data/drug/final_drug_scores.tsv\", sep=\"\\t\")\n",
    "drug_list = drug_score[\n",
    "    (drug_score['MultiDrug_correlation'] > 0.4) & (drug_score['sensitive_count'] > 20)][\n",
    "    'drug_id'].values"
   ]
  },
  {
   "cell_type": "code",
   "execution_count": 210,
   "metadata": {
    "ExecuteTime": {
     "end_time": "2020-06-15T05:46:47.564307Z",
     "start_time": "2020-06-15T05:46:47.555644Z"
    }
   },
   "outputs": [],
   "source": [
    "drug_name_map = drug_score[[\n",
    "    'drug_id', 'drug_name'\n",
    "]].drop_duplicates().set_index('drug_id').to_dict()['drug_name']\n",
    "drug_target_map = drug_score[[\n",
    "    'drug_id', 'putative_gene_target'\n",
    "]].drop_duplicates().set_index('drug_id').to_dict()['putative_gene_target']"
   ]
  },
  {
   "cell_type": "markdown",
   "metadata": {},
   "source": [
    "### rf"
   ]
  },
  {
   "cell_type": "code",
   "execution_count": 211,
   "metadata": {
    "ExecuteTime": {
     "end_time": "2020-06-15T05:46:48.136452Z",
     "start_time": "2020-06-15T05:46:47.566053Z"
    }
   },
   "outputs": [],
   "source": [
    "topN = 50\n",
    "rf_dict_count = {}\n",
    "rf_dict_rank = {}\n",
    "rf_dict_drug = {}\n",
    "for drug in drug_list:\n",
    "    rf_top_proteins = df_rf[['protein', f'importance_{drug}'\n",
    "           ]].sort_values(by=[f'importance_{drug}'],\n",
    "                          ascending=False).head(topN)['protein'].values\n",
    "    rf_top_proteins = [x for x in rf_top_proteins if x not in shap_tissue_set]\n",
    "    for i in range(len(rf_top_proteins)):\n",
    "        if rf_top_proteins[i] not in rf_dict_count:\n",
    "            rf_dict_count[rf_top_proteins[i]] = 0\n",
    "            rf_dict_rank[rf_top_proteins[i]] = []\n",
    "            rf_dict_drug[rf_top_proteins[i]] = []\n",
    "            \n",
    "        rf_dict_rank[rf_top_proteins[i]].append(i)\n",
    "        rf_dict_count[rf_top_proteins[i]] += 1\n",
    "        rf_dict_drug[rf_top_proteins[i]].append(drug)"
   ]
  },
  {
   "cell_type": "code",
   "execution_count": 212,
   "metadata": {
    "ExecuteTime": {
     "end_time": "2020-06-15T05:46:48.169776Z",
     "start_time": "2020-06-15T05:46:48.138101Z"
    }
   },
   "outputs": [],
   "source": [
    "rf_df = {'protein':[], f'{topN}-avg_rank':[], 'count':[]}\n",
    "for p in rf_dict_rank:\n",
    "    rf_dict_rank[p] = topN - np.average(rf_dict_rank[p])\n",
    "    rf_df['protein'].append(p)\n",
    "    rf_df[f'{topN}-avg_rank'].append(rf_dict_rank[p])\n",
    "    rf_df['count'].append(rf_dict_count[p])\n",
    "rf_df = pd.DataFrame(rf_df)"
   ]
  },
  {
   "cell_type": "code",
   "execution_count": 213,
   "metadata": {
    "ExecuteTime": {
     "end_time": "2020-06-15T05:46:48.174597Z",
     "start_time": "2020-06-15T05:46:48.171192Z"
    }
   },
   "outputs": [],
   "source": [
    "rf_df_filtered = rf_df[rf_df['count']+rf_df[f'{topN}-avg_rank'] > topN]"
   ]
  },
  {
   "cell_type": "code",
   "execution_count": 214,
   "metadata": {
    "ExecuteTime": {
     "end_time": "2020-06-15T05:46:48.185142Z",
     "start_time": "2020-06-15T05:46:48.176710Z"
    }
   },
   "outputs": [
    {
     "name": "stderr",
     "output_type": "stream",
     "text": [
      "\n",
      "A value is trying to be set on a copy of a slice from a DataFrame.\n",
      "Try using .loc[row_indexer,col_indexer] = value instead\n",
      "\n",
      "See the caveats in the documentation: https://pandas.pydata.org/pandas-docs/stable/user_guide/indexing.html#returning-a-view-versus-a-copy\n"
     ]
    }
   ],
   "source": [
    "rf_df_filtered['category'] = rf_df_filtered.apply(\n",
    "    lambda row: 'drug specific' if (row[f'{topN}-avg_rank'] > 48 and row['count'] < 50) \n",
    "    else 'pan-drug'\n",
    "    if row['count'] > 200 else 'other', axis=1)"
   ]
  },
  {
   "cell_type": "code",
   "execution_count": 215,
   "metadata": {
    "ExecuteTime": {
     "end_time": "2020-06-15T05:46:48.373339Z",
     "start_time": "2020-06-15T05:46:48.186750Z"
    }
   },
   "outputs": [
    {
     "data": {
      "image/png": "[encoded data removed]",
      "text/plain": [
       "<Figure size 864x504 with 1 Axes>"
      ]
     },
     "metadata": {
      "needs_background": "light"
     },
     "output_type": "display_data"
    }
   ],
   "source": [
    "plt.figure(figsize=(12, 7))\n",
    "g = sns.scatterplot(x='count',\n",
    "                    y=f'{topN}-avg_rank',\n",
    "                    hue='category',\n",
    "                    hue_order=['drug specific', 'pan-drug', 'other'],\n",
    "                    data=rf_df_filtered)\n",
    "# for index, row in rf_df_filtered.iterrows():\n",
    "#     if row['category'] != 'other':\n",
    "#         g.annotate(row['protein'],\n",
    "#                    xy=(row['count'], row[f'{topN}-avg_rank']),\n",
    "#                    xycoords='data',\n",
    "#                    xytext=(0, 20),\n",
    "#                    textcoords='offset points',\n",
    "#                    arrowprops=dict(arrowstyle=\"->\"))\n",
    "plt.xlabel(f'number of times in top {topN}')\n",
    "plt.title(\"top protein analysis (Random Forest)\")\n",
    "plt.show()"
   ]
  },
  {
   "cell_type": "code",
   "execution_count": 216,
   "metadata": {
    "ExecuteTime": {
     "end_time": "2020-06-15T05:46:48.384826Z",
     "start_time": "2020-06-15T05:46:48.375070Z"
    }
   },
   "outputs": [
    {
     "data": {
      "text/html": [
       "<div>\n",
       "<style scoped>\n",
       "    .dataframe tbody tr th:only-of-type {\n",
       "        vertical-align: middle;\n",
       "    }\n",
       "\n",
       "    .dataframe tbody tr th {\n",
       "        vertical-align: top;\n",
       "    }\n",
       "\n",
       "    .dataframe thead th {\n",
       "        text-align: right;\n",
       "    }\n",
       "</style>\n",
       "<table border=\"1\" class=\"dataframe\">\n",
       "  <thead>\n",
       "    <tr style=\"text-align: right;\">\n",
       "      <th></th>\n",
       "      <th>protein</th>\n",
       "      <th>50-avg_rank</th>\n",
       "      <th>count</th>\n",
       "      <th>category</th>\n",
       "    </tr>\n",
       "  </thead>\n",
       "  <tbody>\n",
       "    <tr>\n",
       "      <th>1301</th>\n",
       "      <td>ADK_HUMAN</td>\n",
       "      <td>50.000000</td>\n",
       "      <td>1</td>\n",
       "      <td>drug specific</td>\n",
       "    </tr>\n",
       "    <tr>\n",
       "      <th>1878</th>\n",
       "      <td>TMX4_HUMAN</td>\n",
       "      <td>50.000000</td>\n",
       "      <td>1</td>\n",
       "      <td>drug specific</td>\n",
       "    </tr>\n",
       "    <tr>\n",
       "      <th>1966</th>\n",
       "      <td>EP15R_HUMAN</td>\n",
       "      <td>50.000000</td>\n",
       "      <td>1</td>\n",
       "      <td>drug specific</td>\n",
       "    </tr>\n",
       "    <tr>\n",
       "      <th>2034</th>\n",
       "      <td>IPYR2_HUMAN</td>\n",
       "      <td>50.000000</td>\n",
       "      <td>1</td>\n",
       "      <td>drug specific</td>\n",
       "    </tr>\n",
       "    <tr>\n",
       "      <th>1419</th>\n",
       "      <td>REXO4_HUMAN</td>\n",
       "      <td>49.000000</td>\n",
       "      <td>2</td>\n",
       "      <td>drug specific</td>\n",
       "    </tr>\n",
       "    <tr>\n",
       "      <th>1949</th>\n",
       "      <td>HCLS1_HUMAN</td>\n",
       "      <td>48.500000</td>\n",
       "      <td>2</td>\n",
       "      <td>drug specific</td>\n",
       "    </tr>\n",
       "    <tr>\n",
       "      <th>364</th>\n",
       "      <td>GBG12_HUMAN</td>\n",
       "      <td>41.212687</td>\n",
       "      <td>268</td>\n",
       "      <td>pan-drug</td>\n",
       "    </tr>\n",
       "    <tr>\n",
       "      <th>360</th>\n",
       "      <td>LMNA_HUMAN</td>\n",
       "      <td>39.730159</td>\n",
       "      <td>252</td>\n",
       "      <td>pan-drug</td>\n",
       "    </tr>\n",
       "    <tr>\n",
       "      <th>757</th>\n",
       "      <td>ITPI2_HUMAN</td>\n",
       "      <td>39.147059</td>\n",
       "      <td>238</td>\n",
       "      <td>pan-drug</td>\n",
       "    </tr>\n",
       "    <tr>\n",
       "      <th>440</th>\n",
       "      <td>NCEH1_HUMAN</td>\n",
       "      <td>38.830709</td>\n",
       "      <td>254</td>\n",
       "      <td>pan-drug</td>\n",
       "    </tr>\n",
       "    <tr>\n",
       "      <th>308</th>\n",
       "      <td>PLEC_HUMAN</td>\n",
       "      <td>36.782427</td>\n",
       "      <td>239</td>\n",
       "      <td>pan-drug</td>\n",
       "    </tr>\n",
       "    <tr>\n",
       "      <th>372</th>\n",
       "      <td>ANXA2_HUMAN</td>\n",
       "      <td>36.764706</td>\n",
       "      <td>238</td>\n",
       "      <td>pan-drug</td>\n",
       "    </tr>\n",
       "    <tr>\n",
       "      <th>373</th>\n",
       "      <td>PVR_HUMAN</td>\n",
       "      <td>36.476987</td>\n",
       "      <td>239</td>\n",
       "      <td>pan-drug</td>\n",
       "    </tr>\n",
       "    <tr>\n",
       "      <th>514</th>\n",
       "      <td>S10AA_HUMAN</td>\n",
       "      <td>35.190476</td>\n",
       "      <td>210</td>\n",
       "      <td>pan-drug</td>\n",
       "    </tr>\n",
       "    <tr>\n",
       "      <th>252</th>\n",
       "      <td>SEPT6_HUMAN</td>\n",
       "      <td>34.078947</td>\n",
       "      <td>228</td>\n",
       "      <td>pan-drug</td>\n",
       "    </tr>\n",
       "  </tbody>\n",
       "</table>\n",
       "</div>"
      ],
      "text/plain": [
       "          protein  50-avg_rank  count       category\n",
       "1301    ADK_HUMAN    50.000000      1  drug specific\n",
       "1878   TMX4_HUMAN    50.000000      1  drug specific\n",
       "1966  EP15R_HUMAN    50.000000      1  drug specific\n",
       "2034  IPYR2_HUMAN    50.000000      1  drug specific\n",
       "1419  REXO4_HUMAN    49.000000      2  drug specific\n",
       "1949  HCLS1_HUMAN    48.500000      2  drug specific\n",
       "364   GBG12_HUMAN    41.212687    268       pan-drug\n",
       "360    LMNA_HUMAN    39.730159    252       pan-drug\n",
       "757   ITPI2_HUMAN    39.147059    238       pan-drug\n",
       "440   NCEH1_HUMAN    38.830709    254       pan-drug\n",
       "308    PLEC_HUMAN    36.782427    239       pan-drug\n",
       "372   ANXA2_HUMAN    36.764706    238       pan-drug\n",
       "373     PVR_HUMAN    36.476987    239       pan-drug\n",
       "514   S10AA_HUMAN    35.190476    210       pan-drug\n",
       "252   SEPT6_HUMAN    34.078947    228       pan-drug"
      ]
     },
     "execution_count": 216,
     "metadata": {},
     "output_type": "execute_result"
    }
   ],
   "source": [
    "rf_df_filtered[rf_df_filtered['category']!='other'].sort_values([f'{topN}-avg_rank'], ascending=False)"
   ]
  },
  {
   "cell_type": "markdown",
   "metadata": {},
   "source": [
    "### ENet"
   ]
  },
  {
   "cell_type": "code",
   "execution_count": 217,
   "metadata": {
    "ExecuteTime": {
     "end_time": "2020-06-15T05:46:49.745707Z",
     "start_time": "2020-06-15T05:46:48.645804Z"
    }
   },
   "outputs": [],
   "source": [
    "topN = 50\n",
    "en_dict_count = {}\n",
    "en_dict_rank = {}\n",
    "en_dict_drug = {}\n",
    "for drug in drug_list:\n",
    "    tmp = df_en[['protein', f'importance_{drug}']]\n",
    "    tmp = tmp[tmp[f'importance_{drug}'] != 0]\n",
    "    tmp['abs'] = np.abs(tmp[f'importance_{drug}'])\n",
    "    en_top_proteins = tmp.sort_values(by=['abs'],\n",
    "                        ascending=False)[['protein', f'importance_{drug}'\n",
    "                                          ]].head(topN)['protein'].values\n",
    "    en_top_proteins = [x for x in en_top_proteins if x not in shap_tissue_set]\n",
    "    for i in range(len(en_top_proteins)):\n",
    "        if en_top_proteins[i] not in en_dict_count:\n",
    "            en_dict_count[en_top_proteins[i]] = 0\n",
    "            en_dict_rank[en_top_proteins[i]] = []\n",
    "            en_dict_drug[en_top_proteins[i]] = []\n",
    "            \n",
    "        en_dict_rank[en_top_proteins[i]].append(i)\n",
    "        en_dict_count[en_top_proteins[i]] += 1\n",
    "        en_dict_drug[en_top_proteins[i]].append(drug)"
   ]
  },
  {
   "cell_type": "code",
   "execution_count": 218,
   "metadata": {
    "ExecuteTime": {
     "end_time": "2020-06-15T05:46:49.774277Z",
     "start_time": "2020-06-15T05:46:49.747146Z"
    }
   },
   "outputs": [],
   "source": [
    "en_df = {'protein':[], f'{topN}-avg_rank':[], 'count':[]}\n",
    "for p in en_dict_rank:\n",
    "    en_dict_rank[p] = topN - np.average(en_dict_rank[p])\n",
    "    en_df['protein'].append(p)\n",
    "    en_df[f'{topN}-avg_rank'].append(en_dict_rank[p])\n",
    "    en_df['count'].append(en_dict_count[p])\n",
    "en_df = pd.DataFrame(en_df)"
   ]
  },
  {
   "cell_type": "code",
   "execution_count": 219,
   "metadata": {
    "ExecuteTime": {
     "end_time": "2020-06-15T05:46:49.779376Z",
     "start_time": "2020-06-15T05:46:49.776227Z"
    }
   },
   "outputs": [],
   "source": [
    "en_df_filtered = en_df[en_df['count']+en_df[f'{topN}-avg_rank'] > topN]"
   ]
  },
  {
   "cell_type": "code",
   "execution_count": 220,
   "metadata": {
    "ExecuteTime": {
     "end_time": "2020-06-15T05:46:49.790246Z",
     "start_time": "2020-06-15T05:46:49.780859Z"
    }
   },
   "outputs": [
    {
     "name": "stderr",
     "output_type": "stream",
     "text": [
      "\n",
      "A value is trying to be set on a copy of a slice from a DataFrame.\n",
      "Try using .loc[row_indexer,col_indexer] = value instead\n",
      "\n",
      "See the caveats in the documentation: https://pandas.pydata.org/pandas-docs/stable/user_guide/indexing.html#returning-a-view-versus-a-copy\n"
     ]
    }
   ],
   "source": [
    "en_df_filtered['category'] = en_df_filtered.apply(\n",
    "    lambda row: 'drug specific'\n",
    "    if (row[f'{topN}-avg_rank'] > topN-2 and row['count'] < 100) \n",
    "    else 'pan-drug'if (row['count'] > 100 and row[f'{topN}-avg_rank'] > 10)\n",
    "    else 'other',\n",
    "    axis=1)"
   ]
  },
  {
   "cell_type": "code",
   "execution_count": 221,
   "metadata": {
    "ExecuteTime": {
     "end_time": "2020-06-15T05:46:49.981790Z",
     "start_time": "2020-06-15T05:46:49.791766Z"
    }
   },
   "outputs": [
    {
     "data": {
      "text/plain": [
       "Text(0.5, 1.0, 'top protein analysis (Elastic Net)')"
      ]
     },
     "execution_count": 221,
     "metadata": {},
     "output_type": "execute_result"
    },
    {
     "data": {
      "image/png": "[encoded data removed]",
      "text/plain": [
       "<Figure size 864x504 with 1 Axes>"
      ]
     },
     "metadata": {
      "needs_background": "light"
     },
     "output_type": "display_data"
    }
   ],
   "source": [
    "plt.figure(figsize=(12, 7))\n",
    "sns.scatterplot(x='count',\n",
    "                y=f'{topN}-avg_rank',\n",
    "                hue='category',\n",
    "                hue_order=['drug specific', 'pan-drug', 'other'],\n",
    "                data=en_df_filtered)\n",
    "plt.xlabel(f'number of times in top {topN}')\n",
    "plt.title(\"top protein analysis (Elastic Net)\")"
   ]
  },
  {
   "cell_type": "code",
   "execution_count": 222,
   "metadata": {
    "ExecuteTime": {
     "end_time": "2020-06-15T05:46:50.005892Z",
     "start_time": "2020-06-15T05:46:49.996181Z"
    }
   },
   "outputs": [
    {
     "data": {
      "text/html": [
       "<div>\n",
       "<style scoped>\n",
       "    .dataframe tbody tr th:only-of-type {\n",
       "        vertical-align: middle;\n",
       "    }\n",
       "\n",
       "    .dataframe tbody tr th {\n",
       "        vertical-align: top;\n",
       "    }\n",
       "\n",
       "    .dataframe thead th {\n",
       "        text-align: right;\n",
       "    }\n",
       "</style>\n",
       "<table border=\"1\" class=\"dataframe\">\n",
       "  <thead>\n",
       "    <tr style=\"text-align: right;\">\n",
       "      <th></th>\n",
       "      <th>protein</th>\n",
       "      <th>50-avg_rank</th>\n",
       "      <th>count</th>\n",
       "      <th>category</th>\n",
       "    </tr>\n",
       "  </thead>\n",
       "  <tbody>\n",
       "    <tr>\n",
       "      <th>1471</th>\n",
       "      <td>PSB5_HUMAN</td>\n",
       "      <td>50.000000</td>\n",
       "      <td>2</td>\n",
       "      <td>drug specific</td>\n",
       "    </tr>\n",
       "    <tr>\n",
       "      <th>1082</th>\n",
       "      <td>UBS3B_HUMAN</td>\n",
       "      <td>50.000000</td>\n",
       "      <td>1</td>\n",
       "      <td>drug specific</td>\n",
       "    </tr>\n",
       "    <tr>\n",
       "      <th>1460</th>\n",
       "      <td>LIS1_HUMAN</td>\n",
       "      <td>50.000000</td>\n",
       "      <td>1</td>\n",
       "      <td>drug specific</td>\n",
       "    </tr>\n",
       "    <tr>\n",
       "      <th>1287</th>\n",
       "      <td>GPC4_HUMAN</td>\n",
       "      <td>50.000000</td>\n",
       "      <td>1</td>\n",
       "      <td>drug specific</td>\n",
       "    </tr>\n",
       "    <tr>\n",
       "      <th>1208</th>\n",
       "      <td>ADK_HUMAN</td>\n",
       "      <td>50.000000</td>\n",
       "      <td>1</td>\n",
       "      <td>drug specific</td>\n",
       "    </tr>\n",
       "    <tr>\n",
       "      <th>449</th>\n",
       "      <td>TOP2A_HUMAN</td>\n",
       "      <td>50.000000</td>\n",
       "      <td>1</td>\n",
       "      <td>drug specific</td>\n",
       "    </tr>\n",
       "    <tr>\n",
       "      <th>1190</th>\n",
       "      <td>K2C6A_HUMAN</td>\n",
       "      <td>49.000000</td>\n",
       "      <td>2</td>\n",
       "      <td>drug specific</td>\n",
       "    </tr>\n",
       "    <tr>\n",
       "      <th>1102</th>\n",
       "      <td>CD3E_HUMAN</td>\n",
       "      <td>49.000000</td>\n",
       "      <td>2</td>\n",
       "      <td>drug specific</td>\n",
       "    </tr>\n",
       "    <tr>\n",
       "      <th>201</th>\n",
       "      <td>GMFG_HUMAN</td>\n",
       "      <td>39.007937</td>\n",
       "      <td>126</td>\n",
       "      <td>pan-drug</td>\n",
       "    </tr>\n",
       "    <tr>\n",
       "      <th>387</th>\n",
       "      <td>B2CL1_HUMAN</td>\n",
       "      <td>38.145161</td>\n",
       "      <td>186</td>\n",
       "      <td>pan-drug</td>\n",
       "    </tr>\n",
       "    <tr>\n",
       "      <th>180</th>\n",
       "      <td>LMNA_HUMAN</td>\n",
       "      <td>37.739837</td>\n",
       "      <td>123</td>\n",
       "      <td>pan-drug</td>\n",
       "    </tr>\n",
       "    <tr>\n",
       "      <th>231</th>\n",
       "      <td>VTNC_HUMAN</td>\n",
       "      <td>37.237805</td>\n",
       "      <td>164</td>\n",
       "      <td>pan-drug</td>\n",
       "    </tr>\n",
       "    <tr>\n",
       "      <th>676</th>\n",
       "      <td>ANXA2_HUMAN</td>\n",
       "      <td>36.500000</td>\n",
       "      <td>102</td>\n",
       "      <td>pan-drug</td>\n",
       "    </tr>\n",
       "    <tr>\n",
       "      <th>166</th>\n",
       "      <td>SPY4_HUMAN</td>\n",
       "      <td>35.493151</td>\n",
       "      <td>146</td>\n",
       "      <td>pan-drug</td>\n",
       "    </tr>\n",
       "    <tr>\n",
       "      <th>534</th>\n",
       "      <td>SQSTM_HUMAN</td>\n",
       "      <td>35.384615</td>\n",
       "      <td>117</td>\n",
       "      <td>pan-drug</td>\n",
       "    </tr>\n",
       "    <tr>\n",
       "      <th>443</th>\n",
       "      <td>SEPT6_HUMAN</td>\n",
       "      <td>34.902256</td>\n",
       "      <td>133</td>\n",
       "      <td>pan-drug</td>\n",
       "    </tr>\n",
       "    <tr>\n",
       "      <th>547</th>\n",
       "      <td>ADA_HUMAN</td>\n",
       "      <td>33.293103</td>\n",
       "      <td>116</td>\n",
       "      <td>pan-drug</td>\n",
       "    </tr>\n",
       "    <tr>\n",
       "      <th>447</th>\n",
       "      <td>K1C18_HUMAN</td>\n",
       "      <td>33.056738</td>\n",
       "      <td>141</td>\n",
       "      <td>pan-drug</td>\n",
       "    </tr>\n",
       "    <tr>\n",
       "      <th>172</th>\n",
       "      <td>LEG3_HUMAN</td>\n",
       "      <td>32.685185</td>\n",
       "      <td>108</td>\n",
       "      <td>pan-drug</td>\n",
       "    </tr>\n",
       "    <tr>\n",
       "      <th>615</th>\n",
       "      <td>GSTP1_HUMAN</td>\n",
       "      <td>32.441176</td>\n",
       "      <td>102</td>\n",
       "      <td>pan-drug</td>\n",
       "    </tr>\n",
       "    <tr>\n",
       "      <th>89</th>\n",
       "      <td>K2C8_HUMAN</td>\n",
       "      <td>31.801370</td>\n",
       "      <td>146</td>\n",
       "      <td>pan-drug</td>\n",
       "    </tr>\n",
       "  </tbody>\n",
       "</table>\n",
       "</div>"
      ],
      "text/plain": [
       "          protein  50-avg_rank  count       category\n",
       "1471   PSB5_HUMAN    50.000000      2  drug specific\n",
       "1082  UBS3B_HUMAN    50.000000      1  drug specific\n",
       "1460   LIS1_HUMAN    50.000000      1  drug specific\n",
       "1287   GPC4_HUMAN    50.000000      1  drug specific\n",
       "1208    ADK_HUMAN    50.000000      1  drug specific\n",
       "449   TOP2A_HUMAN    50.000000      1  drug specific\n",
       "1190  K2C6A_HUMAN    49.000000      2  drug specific\n",
       "1102   CD3E_HUMAN    49.000000      2  drug specific\n",
       "201    GMFG_HUMAN    39.007937    126       pan-drug\n",
       "387   B2CL1_HUMAN    38.145161    186       pan-drug\n",
       "180    LMNA_HUMAN    37.739837    123       pan-drug\n",
       "231    VTNC_HUMAN    37.237805    164       pan-drug\n",
       "676   ANXA2_HUMAN    36.500000    102       pan-drug\n",
       "166    SPY4_HUMAN    35.493151    146       pan-drug\n",
       "534   SQSTM_HUMAN    35.384615    117       pan-drug\n",
       "443   SEPT6_HUMAN    34.902256    133       pan-drug\n",
       "547     ADA_HUMAN    33.293103    116       pan-drug\n",
       "447   K1C18_HUMAN    33.056738    141       pan-drug\n",
       "172    LEG3_HUMAN    32.685185    108       pan-drug\n",
       "615   GSTP1_HUMAN    32.441176    102       pan-drug\n",
       "89     K2C8_HUMAN    31.801370    146       pan-drug"
      ]
     },
     "execution_count": 222,
     "metadata": {},
     "output_type": "execute_result"
    }
   ],
   "source": [
    "en_df_filtered[en_df_filtered['category']!='other'].sort_values([f'{topN}-avg_rank'], ascending=False)"
   ]
  },
  {
   "cell_type": "markdown",
   "metadata": {},
   "source": [
    "### shap"
   ]
  },
  {
   "cell_type": "code",
   "execution_count": 223,
   "metadata": {
    "ExecuteTime": {
     "end_time": "2020-06-15T05:46:51.949224Z",
     "start_time": "2020-06-15T05:46:50.694697Z"
    }
   },
   "outputs": [],
   "source": [
    "topN = 50\n",
    "shap_dict_count = {}\n",
    "shap_dict_rank = {}\n",
    "shap_dict_drug = {}\n",
    "for drug in drug_list:\n",
    "    tmp = df_shap[['protein', f'importance_{drug}']]\n",
    "    tmp = tmp[tmp[f'importance_{drug}'] != 0]\n",
    "    tmp['abs'] = np.abs(tmp[f'importance_{drug}'])\n",
    "    shap_top_proteins = tmp.sort_values(by=['abs'],\n",
    "                        ascending=False)[['protein', f'importance_{drug}'\n",
    "                                          ]].head(topN)['protein'].values\n",
    "    shap_top_proteins = [x for x in shap_top_proteins if x not in shap_tissue_set]\n",
    "    for i in range(len(shap_top_proteins)):\n",
    "        if shap_top_proteins[i] not in shap_dict_count:\n",
    "            shap_dict_count[shap_top_proteins[i]] = 0\n",
    "            shap_dict_rank[shap_top_proteins[i]] = []\n",
    "            shap_dict_drug[shap_top_proteins[i]] = []\n",
    "            \n",
    "        shap_dict_rank[shap_top_proteins[i]].append(i)\n",
    "        shap_dict_count[shap_top_proteins[i]] += 1\n",
    "        shap_dict_drug[shap_top_proteins[i]].append(drug)"
   ]
  },
  {
   "cell_type": "code",
   "execution_count": null,
   "metadata": {},
   "outputs": [],
   "source": []
  },
  {
   "cell_type": "code",
   "execution_count": 224,
   "metadata": {
    "ExecuteTime": {
     "end_time": "2020-06-15T05:46:51.962955Z",
     "start_time": "2020-06-15T05:46:51.951549Z"
    }
   },
   "outputs": [],
   "source": [
    "shap_df = {'protein':[], f'{topN}-avg_rank':[], 'count':[]}\n",
    "for p in shap_dict_rank:\n",
    "    shap_dict_rank[p] = topN - np.average(shap_dict_rank[p])\n",
    "    shap_df['protein'].append(p)\n",
    "    shap_df[f'{topN}-avg_rank'].append(shap_dict_rank[p])\n",
    "    shap_df['count'].append(shap_dict_count[p])\n",
    "shap_df = pd.DataFrame(shap_df)"
   ]
  },
  {
   "cell_type": "code",
   "execution_count": 225,
   "metadata": {
    "ExecuteTime": {
     "end_time": "2020-06-15T05:46:51.968022Z",
     "start_time": "2020-06-15T05:46:51.964840Z"
    }
   },
   "outputs": [],
   "source": [
    "shap_df_filtered = shap_df[shap_df['count']+shap_df[f'{topN}-avg_rank'] > (topN-10)]"
   ]
  },
  {
   "cell_type": "code",
   "execution_count": 226,
   "metadata": {
    "ExecuteTime": {
     "end_time": "2020-06-15T05:46:52.551826Z",
     "start_time": "2020-06-15T05:46:52.415721Z"
    }
   },
   "outputs": [
    {
     "data": {
      "text/plain": [
       "<matplotlib.axes._subplots.AxesSubplot at 0x7ff241613d60>"
      ]
     },
     "execution_count": 226,
     "metadata": {},
     "output_type": "execute_result"
    },
    {
     "data": {
      "image/png": "[encoded data removed]",
      "text/plain": [
       "<Figure size 720x504 with 1 Axes>"
      ]
     },
     "metadata": {
      "needs_background": "light"
     },
     "output_type": "display_data"
    }
   ],
   "source": [
    "sns.scatterplot(x='count', y=f'{topN}-avg_rank', data=shap_df_filtered)"
   ]
  },
  {
   "cell_type": "code",
   "execution_count": 227,
   "metadata": {
    "ExecuteTime": {
     "end_time": "2020-06-15T05:46:55.482963Z",
     "start_time": "2020-06-15T05:46:55.474338Z"
    }
   },
   "outputs": [
    {
     "name": "stderr",
     "output_type": "stream",
     "text": [
      "\n",
      "A value is trying to be set on a copy of a slice from a DataFrame.\n",
      "Try using .loc[row_indexer,col_indexer] = value instead\n",
      "\n",
      "See the caveats in the documentation: https://pandas.pydata.org/pandas-docs/stable/user_guide/indexing.html#returning-a-view-versus-a-copy\n"
     ]
    }
   ],
   "source": [
    "shap_df_filtered['category'] = shap_df_filtered.apply(\n",
    "    lambda row: 'drug specific' if (row[f'{topN}-avg_rank'] >= 40 and row['count'] < 50) \n",
    "    else 'pan-drug'\n",
    "    if row['count'] > 350 else 'other', axis=1)"
   ]
  },
  {
   "cell_type": "code",
   "execution_count": 228,
   "metadata": {
    "ExecuteTime": {
     "end_time": "2020-06-15T05:46:55.860383Z",
     "start_time": "2020-06-15T05:46:55.667910Z"
    },
    "scrolled": false
   },
   "outputs": [
    {
     "data": {
      "text/plain": [
       "Text(0.5, 1.0, 'top protein analysis (MultiDrugNN)')"
      ]
     },
     "execution_count": 228,
     "metadata": {},
     "output_type": "execute_result"
    },
    {
     "data": {
      "image/png": "[encoded data removed]",
      "text/plain": [
       "<Figure size 864x504 with 1 Axes>"
      ]
     },
     "metadata": {
      "needs_background": "light"
     },
     "output_type": "display_data"
    }
   ],
   "source": [
    "plt.figure(figsize=(12, 7))\n",
    "sns.scatterplot(x='count',\n",
    "                y=f'{topN}-avg_rank',\n",
    "                hue='category',\n",
    "                hue_order=['drug specific', 'pan-drug', 'other'],\n",
    "                data=shap_df_filtered)\n",
    "plt.xlabel(f'number of times in top {topN}')\n",
    "plt.title(\"top protein analysis (MultiDrugNN)\")"
   ]
  },
  {
   "cell_type": "code",
   "execution_count": 229,
   "metadata": {
    "ExecuteTime": {
     "end_time": "2020-06-15T05:46:56.297136Z",
     "start_time": "2020-06-15T05:46:56.285038Z"
    }
   },
   "outputs": [
    {
     "data": {
      "text/html": [
       "<div>\n",
       "<style scoped>\n",
       "    .dataframe tbody tr th:only-of-type {\n",
       "        vertical-align: middle;\n",
       "    }\n",
       "\n",
       "    .dataframe tbody tr th {\n",
       "        vertical-align: top;\n",
       "    }\n",
       "\n",
       "    .dataframe thead th {\n",
       "        text-align: right;\n",
       "    }\n",
       "</style>\n",
       "<table border=\"1\" class=\"dataframe\">\n",
       "  <thead>\n",
       "    <tr style=\"text-align: right;\">\n",
       "      <th></th>\n",
       "      <th>protein</th>\n",
       "      <th>50-avg_rank</th>\n",
       "      <th>count</th>\n",
       "      <th>category</th>\n",
       "    </tr>\n",
       "  </thead>\n",
       "  <tbody>\n",
       "    <tr>\n",
       "      <th>1</th>\n",
       "      <td>K2C7_HUMAN</td>\n",
       "      <td>49.768322</td>\n",
       "      <td>423</td>\n",
       "      <td>pan-drug</td>\n",
       "    </tr>\n",
       "    <tr>\n",
       "      <th>88</th>\n",
       "      <td>GSTO1_HUMAN</td>\n",
       "      <td>46.000000</td>\n",
       "      <td>25</td>\n",
       "      <td>drug specific</td>\n",
       "    </tr>\n",
       "    <tr>\n",
       "      <th>22</th>\n",
       "      <td>PARP4_HUMAN</td>\n",
       "      <td>45.187050</td>\n",
       "      <td>417</td>\n",
       "      <td>pan-drug</td>\n",
       "    </tr>\n",
       "    <tr>\n",
       "      <th>41</th>\n",
       "      <td>SCG2_HUMAN</td>\n",
       "      <td>43.151741</td>\n",
       "      <td>402</td>\n",
       "      <td>pan-drug</td>\n",
       "    </tr>\n",
       "    <tr>\n",
       "      <th>249</th>\n",
       "      <td>FSCN1_HUMAN</td>\n",
       "      <td>41.000000</td>\n",
       "      <td>1</td>\n",
       "      <td>drug specific</td>\n",
       "    </tr>\n",
       "    <tr>\n",
       "      <th>46</th>\n",
       "      <td>AGRIN_HUMAN</td>\n",
       "      <td>40.538058</td>\n",
       "      <td>381</td>\n",
       "      <td>pan-drug</td>\n",
       "    </tr>\n",
       "    <tr>\n",
       "      <th>5</th>\n",
       "      <td>K2C5_HUMAN</td>\n",
       "      <td>40.000000</td>\n",
       "      <td>7</td>\n",
       "      <td>drug specific</td>\n",
       "    </tr>\n",
       "    <tr>\n",
       "      <th>34</th>\n",
       "      <td>GSTP1_HUMAN</td>\n",
       "      <td>39.135065</td>\n",
       "      <td>385</td>\n",
       "      <td>pan-drug</td>\n",
       "    </tr>\n",
       "    <tr>\n",
       "      <th>43</th>\n",
       "      <td>AATC_HUMAN</td>\n",
       "      <td>38.428571</td>\n",
       "      <td>399</td>\n",
       "      <td>pan-drug</td>\n",
       "    </tr>\n",
       "    <tr>\n",
       "      <th>42</th>\n",
       "      <td>ALDH2_HUMAN</td>\n",
       "      <td>36.595960</td>\n",
       "      <td>396</td>\n",
       "      <td>pan-drug</td>\n",
       "    </tr>\n",
       "    <tr>\n",
       "      <th>25</th>\n",
       "      <td>CD97_HUMAN</td>\n",
       "      <td>36.533981</td>\n",
       "      <td>412</td>\n",
       "      <td>pan-drug</td>\n",
       "    </tr>\n",
       "    <tr>\n",
       "      <th>53</th>\n",
       "      <td>PTMA_HUMAN</td>\n",
       "      <td>36.502564</td>\n",
       "      <td>390</td>\n",
       "      <td>pan-drug</td>\n",
       "    </tr>\n",
       "    <tr>\n",
       "      <th>47</th>\n",
       "      <td>SYAP1_HUMAN</td>\n",
       "      <td>34.277487</td>\n",
       "      <td>382</td>\n",
       "      <td>pan-drug</td>\n",
       "    </tr>\n",
       "    <tr>\n",
       "      <th>44</th>\n",
       "      <td>MYO1G_HUMAN</td>\n",
       "      <td>33.976190</td>\n",
       "      <td>378</td>\n",
       "      <td>pan-drug</td>\n",
       "    </tr>\n",
       "    <tr>\n",
       "      <th>45</th>\n",
       "      <td>DNJC2_HUMAN</td>\n",
       "      <td>33.601942</td>\n",
       "      <td>412</td>\n",
       "      <td>pan-drug</td>\n",
       "    </tr>\n",
       "    <tr>\n",
       "      <th>51</th>\n",
       "      <td>COF2_HUMAN</td>\n",
       "      <td>33.364903</td>\n",
       "      <td>359</td>\n",
       "      <td>pan-drug</td>\n",
       "    </tr>\n",
       "    <tr>\n",
       "      <th>49</th>\n",
       "      <td>CAPG_HUMAN</td>\n",
       "      <td>32.552000</td>\n",
       "      <td>375</td>\n",
       "      <td>pan-drug</td>\n",
       "    </tr>\n",
       "    <tr>\n",
       "      <th>62</th>\n",
       "      <td>SEPT8_HUMAN</td>\n",
       "      <td>28.617318</td>\n",
       "      <td>358</td>\n",
       "      <td>pan-drug</td>\n",
       "    </tr>\n",
       "    <tr>\n",
       "      <th>58</th>\n",
       "      <td>NADC_HUMAN</td>\n",
       "      <td>28.411609</td>\n",
       "      <td>379</td>\n",
       "      <td>pan-drug</td>\n",
       "    </tr>\n",
       "    <tr>\n",
       "      <th>13</th>\n",
       "      <td>41_HUMAN</td>\n",
       "      <td>24.979275</td>\n",
       "      <td>386</td>\n",
       "      <td>pan-drug</td>\n",
       "    </tr>\n",
       "  </tbody>\n",
       "</table>\n",
       "</div>"
      ],
      "text/plain": [
       "         protein  50-avg_rank  count       category\n",
       "1     K2C7_HUMAN    49.768322    423       pan-drug\n",
       "88   GSTO1_HUMAN    46.000000     25  drug specific\n",
       "22   PARP4_HUMAN    45.187050    417       pan-drug\n",
       "41    SCG2_HUMAN    43.151741    402       pan-drug\n",
       "249  FSCN1_HUMAN    41.000000      1  drug specific\n",
       "46   AGRIN_HUMAN    40.538058    381       pan-drug\n",
       "5     K2C5_HUMAN    40.000000      7  drug specific\n",
       "34   GSTP1_HUMAN    39.135065    385       pan-drug\n",
       "43    AATC_HUMAN    38.428571    399       pan-drug\n",
       "42   ALDH2_HUMAN    36.595960    396       pan-drug\n",
       "25    CD97_HUMAN    36.533981    412       pan-drug\n",
       "53    PTMA_HUMAN    36.502564    390       pan-drug\n",
       "47   SYAP1_HUMAN    34.277487    382       pan-drug\n",
       "44   MYO1G_HUMAN    33.976190    378       pan-drug\n",
       "45   DNJC2_HUMAN    33.601942    412       pan-drug\n",
       "51    COF2_HUMAN    33.364903    359       pan-drug\n",
       "49    CAPG_HUMAN    32.552000    375       pan-drug\n",
       "62   SEPT8_HUMAN    28.617318    358       pan-drug\n",
       "58    NADC_HUMAN    28.411609    379       pan-drug\n",
       "13      41_HUMAN    24.979275    386       pan-drug"
      ]
     },
     "execution_count": 229,
     "metadata": {},
     "output_type": "execute_result"
    }
   ],
   "source": [
    "shap_df_filtered[shap_df_filtered['category']!='other'].sort_values([f'{topN}-avg_rank'], ascending=False)"
   ]
  },
  {
   "cell_type": "code",
   "execution_count": null,
   "metadata": {
    "ExecuteTime": {
     "end_time": "2020-05-05T13:42:43.423281Z",
     "start_time": "2020-05-05T13:42:43.419625Z"
    },
    "scrolled": false
   },
   "outputs": [],
   "source": []
  },
  {
   "cell_type": "markdown",
   "metadata": {},
   "source": [
    "### combined"
   ]
  },
  {
   "cell_type": "code",
   "execution_count": 230,
   "metadata": {
    "ExecuteTime": {
     "end_time": "2020-06-15T05:46:57.710260Z",
     "start_time": "2020-06-15T05:46:57.703454Z"
    }
   },
   "outputs": [],
   "source": [
    "tmp = pd.merge(rf_df_filtered, en_df_filtered, on=['protein'], suffixes=['_rf', '_en'])"
   ]
  },
  {
   "cell_type": "code",
   "execution_count": 231,
   "metadata": {
    "ExecuteTime": {
     "end_time": "2020-06-15T05:46:58.080167Z",
     "start_time": "2020-06-15T05:46:58.072952Z"
    }
   },
   "outputs": [],
   "source": [
    "tmp = pd.merge(tmp, shap_df_filtered, on=['protein'])"
   ]
  },
  {
   "cell_type": "code",
   "execution_count": 232,
   "metadata": {
    "ExecuteTime": {
     "end_time": "2020-06-15T05:46:59.311250Z",
     "start_time": "2020-06-15T05:46:59.302748Z"
    }
   },
   "outputs": [],
   "source": [
    "tmp['count_avg'] = tmp.apply(\n",
    "    lambda row: np.average([row['count'], row['count_en'], row['count_rf']]), axis=1)\n",
    "tmp['rank_score_avg'] = tmp.apply(lambda row: np.average([\n",
    "    row['50-avg_rank'], row['50-avg_rank_en'], row['50-avg_rank_rf']]), axis=1)"
   ]
  },
  {
   "cell_type": "code",
   "execution_count": 233,
   "metadata": {
    "ExecuteTime": {
     "end_time": "2020-06-15T05:47:00.711665Z",
     "start_time": "2020-06-15T05:47:00.572266Z"
    }
   },
   "outputs": [
    {
     "data": {
      "text/plain": [
       "<matplotlib.axes._subplots.AxesSubplot at 0x7ff283843ca0>"
      ]
     },
     "execution_count": 233,
     "metadata": {},
     "output_type": "execute_result"
    },
    {
     "data": {
      "image/png": "[encoded data removed]",
      "text/plain": [
       "<Figure size 720x504 with 1 Axes>"
      ]
     },
     "metadata": {
      "needs_background": "light"
     },
     "output_type": "display_data"
    }
   ],
   "source": [
    "sns.scatterplot(x='count_avg', y='rank_score_avg', data=tmp)"
   ]
  },
  {
   "cell_type": "code",
   "execution_count": 150,
   "metadata": {
    "ExecuteTime": {
     "end_time": "2020-06-14T14:07:56.491550Z",
     "start_time": "2020-06-14T14:07:56.486832Z"
    }
   },
   "outputs": [],
   "source": [
    "tmp['category_avg'] = tmp.apply(\n",
    "    lambda row: 'drug-specific' if (row[f'rank_score_avg'] >= 34 and row['count_avg'] < 50) \n",
    "    else 'pan-drug'\n",
    "    if row['count_avg'] > 150 else 'other', axis=1)"
   ]
  },
  {
   "cell_type": "code",
   "execution_count": 156,
   "metadata": {
    "ExecuteTime": {
     "end_time": "2020-06-14T14:09:33.214127Z",
     "start_time": "2020-06-14T14:09:33.005519Z"
    }
   },
   "outputs": [
    {
     "data": {
      "image/png": "[encoded data removed]",
      "text/plain": [
       "<Figure size 1152x720 with 1 Axes>"
      ]
     },
     "metadata": {
      "needs_background": "light"
     },
     "output_type": "display_data"
    }
   ],
   "source": [
    "fig = plt.figure(figsize=(16, 10))\n",
    "ax = sns.scatterplot(x='count_avg', y='rank_score_avg', hue='category_avg', data=tmp, s=100)\n",
    "plt.xlabel(\"Number of times in Top 50 proteins (max 289)\")\n",
    "plt.ylabel(\"Rank score (max 50)\")\n",
    "plt.title(\"Pan-drug vs Drug-specific important proteins\")\n",
    "handles, labels = ax.get_legend_handles_labels()\n",
    "labels[0] = 'category'\n",
    "ax.legend(handles, labels)\n",
    "\n",
    "\n",
    "plt.show()"
   ]
  },
  {
   "cell_type": "code",
   "execution_count": 152,
   "metadata": {
    "ExecuteTime": {
     "end_time": "2020-06-14T14:08:19.012819Z",
     "start_time": "2020-06-14T14:08:18.997635Z"
    }
   },
   "outputs": [
    {
     "data": {
      "text/html": [
       "<div>\n",
       "<style scoped>\n",
       "    .dataframe tbody tr th:only-of-type {\n",
       "        vertical-align: middle;\n",
       "    }\n",
       "\n",
       "    .dataframe tbody tr th {\n",
       "        vertical-align: top;\n",
       "    }\n",
       "\n",
       "    .dataframe thead th {\n",
       "        text-align: right;\n",
       "    }\n",
       "</style>\n",
       "<table border=\"1\" class=\"dataframe\">\n",
       "  <thead>\n",
       "    <tr style=\"text-align: right;\">\n",
       "      <th></th>\n",
       "      <th>protein</th>\n",
       "      <th>50-avg_rank_rf</th>\n",
       "      <th>count_rf</th>\n",
       "      <th>category_rf</th>\n",
       "      <th>50-avg_rank_en</th>\n",
       "      <th>count_en</th>\n",
       "      <th>category_en</th>\n",
       "      <th>50-avg_rank</th>\n",
       "      <th>count</th>\n",
       "      <th>category</th>\n",
       "      <th>count_avg</th>\n",
       "      <th>rank_score_avg</th>\n",
       "      <th>category_avg</th>\n",
       "    </tr>\n",
       "  </thead>\n",
       "  <tbody>\n",
       "    <tr>\n",
       "      <th>0</th>\n",
       "      <td>PLAK_HUMAN</td>\n",
       "      <td>36.625000</td>\n",
       "      <td>24</td>\n",
       "      <td>other</td>\n",
       "      <td>34.920000</td>\n",
       "      <td>25</td>\n",
       "      <td>other</td>\n",
       "      <td>31.200000</td>\n",
       "      <td>50</td>\n",
       "      <td>other</td>\n",
       "      <td>33.000000</td>\n",
       "      <td>34.248333</td>\n",
       "      <td>drug-specific</td>\n",
       "    </tr>\n",
       "    <tr>\n",
       "      <th>5</th>\n",
       "      <td>LMNA_HUMAN</td>\n",
       "      <td>39.730159</td>\n",
       "      <td>252</td>\n",
       "      <td>pan-drug</td>\n",
       "      <td>37.739837</td>\n",
       "      <td>123</td>\n",
       "      <td>pan-drug</td>\n",
       "      <td>23.562842</td>\n",
       "      <td>183</td>\n",
       "      <td>other</td>\n",
       "      <td>186.000000</td>\n",
       "      <td>33.677613</td>\n",
       "      <td>pan-drug</td>\n",
       "    </tr>\n",
       "    <tr>\n",
       "      <th>1</th>\n",
       "      <td>COF2_HUMAN</td>\n",
       "      <td>33.407407</td>\n",
       "      <td>27</td>\n",
       "      <td>other</td>\n",
       "      <td>32.378378</td>\n",
       "      <td>74</td>\n",
       "      <td>other</td>\n",
       "      <td>33.364903</td>\n",
       "      <td>359</td>\n",
       "      <td>pan-drug</td>\n",
       "      <td>153.333333</td>\n",
       "      <td>33.050229</td>\n",
       "      <td>pan-drug</td>\n",
       "    </tr>\n",
       "    <tr>\n",
       "      <th>3</th>\n",
       "      <td>PTMA_HUMAN</td>\n",
       "      <td>26.949153</td>\n",
       "      <td>59</td>\n",
       "      <td>other</td>\n",
       "      <td>35.016667</td>\n",
       "      <td>60</td>\n",
       "      <td>other</td>\n",
       "      <td>36.502564</td>\n",
       "      <td>390</td>\n",
       "      <td>pan-drug</td>\n",
       "      <td>169.666667</td>\n",
       "      <td>32.822794</td>\n",
       "      <td>pan-drug</td>\n",
       "    </tr>\n",
       "    <tr>\n",
       "      <th>6</th>\n",
       "      <td>VTNC_HUMAN</td>\n",
       "      <td>24.378378</td>\n",
       "      <td>37</td>\n",
       "      <td>other</td>\n",
       "      <td>37.237805</td>\n",
       "      <td>164</td>\n",
       "      <td>pan-drug</td>\n",
       "      <td>31.398577</td>\n",
       "      <td>281</td>\n",
       "      <td>other</td>\n",
       "      <td>160.666667</td>\n",
       "      <td>31.004920</td>\n",
       "      <td>pan-drug</td>\n",
       "    </tr>\n",
       "    <tr>\n",
       "      <th>8</th>\n",
       "      <td>GDIR2_HUMAN</td>\n",
       "      <td>27.640449</td>\n",
       "      <td>89</td>\n",
       "      <td>other</td>\n",
       "      <td>26.032258</td>\n",
       "      <td>31</td>\n",
       "      <td>other</td>\n",
       "      <td>34.653959</td>\n",
       "      <td>341</td>\n",
       "      <td>other</td>\n",
       "      <td>153.666667</td>\n",
       "      <td>29.442222</td>\n",
       "      <td>pan-drug</td>\n",
       "    </tr>\n",
       "  </tbody>\n",
       "</table>\n",
       "</div>"
      ],
      "text/plain": [
       "       protein  50-avg_rank_rf  count_rf category_rf  50-avg_rank_en  \\\n",
       "0   PLAK_HUMAN       36.625000        24       other       34.920000   \n",
       "5   LMNA_HUMAN       39.730159       252    pan-drug       37.739837   \n",
       "1   COF2_HUMAN       33.407407        27       other       32.378378   \n",
       "3   PTMA_HUMAN       26.949153        59       other       35.016667   \n",
       "6   VTNC_HUMAN       24.378378        37       other       37.237805   \n",
       "8  GDIR2_HUMAN       27.640449        89       other       26.032258   \n",
       "\n",
       "   count_en category_en  50-avg_rank  count  category   count_avg  \\\n",
       "0        25       other    31.200000     50     other   33.000000   \n",
       "5       123    pan-drug    23.562842    183     other  186.000000   \n",
       "1        74       other    33.364903    359  pan-drug  153.333333   \n",
       "3        60       other    36.502564    390  pan-drug  169.666667   \n",
       "6       164    pan-drug    31.398577    281     other  160.666667   \n",
       "8        31       other    34.653959    341     other  153.666667   \n",
       "\n",
       "   rank_score_avg   category_avg  \n",
       "0       34.248333  drug-specific  \n",
       "5       33.677613       pan-drug  \n",
       "1       33.050229       pan-drug  \n",
       "3       32.822794       pan-drug  \n",
       "6       31.004920       pan-drug  \n",
       "8       29.442222       pan-drug  "
      ]
     },
     "execution_count": 152,
     "metadata": {},
     "output_type": "execute_result"
    }
   ],
   "source": [
    "tmp[tmp['category_avg']!='other'].sort_values([f'rank_score_avg'], ascending=False)"
   ]
  },
  {
   "cell_type": "markdown",
   "metadata": {},
   "source": [
    "### drug-specific"
   ]
  },
  {
   "cell_type": "code",
   "execution_count": 153,
   "metadata": {
    "ExecuteTime": {
     "end_time": "2020-06-14T14:09:06.822023Z",
     "start_time": "2020-06-14T14:09:06.819017Z"
    }
   },
   "outputs": [],
   "source": [
    "PLAK_drugs = set(shap_dict_drug['PLAK_HUMAN']).intersection(\n",
    "    set(rf_dict_drug['PLAK_HUMAN'])).intersection(\n",
    "        set(en_dict_drug['PLAK_HUMAN']))"
   ]
  },
  {
   "cell_type": "code",
   "execution_count": 155,
   "metadata": {
    "ExecuteTime": {
     "end_time": "2020-06-14T14:09:13.711886Z",
     "start_time": "2020-06-14T14:09:13.708877Z"
    }
   },
   "outputs": [
    {
     "name": "stdout",
     "output_type": "stream",
     "text": [
      "Afatinib\n",
      "Poziotinib\n",
      "EGF816\n",
      "PF-06747775\n",
      "Ibrutinib\n",
      "AZD8931\n",
      "Sapatinib\n",
      "Erlotinib\n",
      "Gefitinib\n",
      "Lapatinib\n"
     ]
    }
   ],
   "source": [
    "for drug in PLAK_drugs:\n",
    "    print(drug_name_map[drug])"
   ]
  },
  {
   "cell_type": "markdown",
   "metadata": {},
   "source": [
    "## rank vs count excluding tissue - no PC1"
   ]
  },
  {
   "cell_type": "code",
   "execution_count": 235,
   "metadata": {
    "ExecuteTime": {
     "end_time": "2020-06-15T12:52:55.709898Z",
     "start_time": "2020-06-15T12:52:54.682190Z"
    }
   },
   "outputs": [],
   "source": [
    "df_rf = pd.read_csv(\n",
    "    \"../../work_dirs/protein/RandomForest/feature_importance_202006061137_ruv_min_300_pc1_corrected.csv\"\n",
    ")\n",
    "df_en = pd.read_csv(\n",
    "    \"../../work_dirs/protein/ElasticNet/feature_importance_202006071209_ruv_min_300_pc1_corrected.csv\"\n",
    ")\n",
    "df_shap = pd.read_csv(\"../../result_files/shap/test_25_202006111047_pc1_corrected.csv\")"
   ]
  },
  {
   "cell_type": "code",
   "execution_count": 236,
   "metadata": {
    "ExecuteTime": {
     "end_time": "2020-06-15T12:52:55.721492Z",
     "start_time": "2020-06-15T12:52:55.711745Z"
    }
   },
   "outputs": [],
   "source": [
    "drug_list = [1909, 1114, 1373, 1919, 1377, 119, 427, 1910, 1047]\n",
    "drug_score = pd.read_csv(\"../../data/drug/final_drug_scores.tsv\", sep=\"\\t\")\n",
    "drug_list = drug_score[\n",
    "    (drug_score['MultiDrug_correlation'] > 0.4) & (drug_score['sensitive_count'] > 20)][\n",
    "    'drug_id'].values"
   ]
  },
  {
   "cell_type": "code",
   "execution_count": 237,
   "metadata": {
    "ExecuteTime": {
     "end_time": "2020-06-15T12:52:55.731959Z",
     "start_time": "2020-06-15T12:52:55.723418Z"
    }
   },
   "outputs": [],
   "source": [
    "drug_name_map = drug_score[[\n",
    "    'drug_id', 'drug_name'\n",
    "]].drop_duplicates().set_index('drug_id').to_dict()['drug_name']\n",
    "drug_target_map = drug_score[[\n",
    "    'drug_id', 'putative_gene_target'\n",
    "]].drop_duplicates().set_index('drug_id').to_dict()['putative_gene_target']"
   ]
  },
  {
   "cell_type": "markdown",
   "metadata": {},
   "source": [
    "### rf"
   ]
  },
  {
   "cell_type": "code",
   "execution_count": 238,
   "metadata": {
    "ExecuteTime": {
     "end_time": "2020-06-15T12:52:56.295819Z",
     "start_time": "2020-06-15T12:52:55.733421Z"
    }
   },
   "outputs": [],
   "source": [
    "topN = 50\n",
    "rf_dict_count = {}\n",
    "rf_dict_rank = {}\n",
    "rf_dict_drug = {}\n",
    "for drug in drug_list:\n",
    "    rf_top_proteins = df_rf[['protein', f'importance_{drug}'\n",
    "           ]].sort_values(by=[f'importance_{drug}'],\n",
    "                          ascending=False).head(topN)['protein'].values\n",
    "    rf_top_proteins = [x for x in rf_top_proteins if x not in shap_tissue_set]\n",
    "    for i in range(len(rf_top_proteins)):\n",
    "        if rf_top_proteins[i] not in rf_dict_count:\n",
    "            rf_dict_count[rf_top_proteins[i]] = 0\n",
    "            rf_dict_rank[rf_top_proteins[i]] = []\n",
    "            rf_dict_drug[rf_top_proteins[i]] = []\n",
    "            \n",
    "        rf_dict_rank[rf_top_proteins[i]].append(i)\n",
    "        rf_dict_count[rf_top_proteins[i]] += 1\n",
    "        rf_dict_drug[rf_top_proteins[i]].append(drug)"
   ]
  },
  {
   "cell_type": "code",
   "execution_count": 239,
   "metadata": {
    "ExecuteTime": {
     "end_time": "2020-06-15T12:52:56.780439Z",
     "start_time": "2020-06-15T12:52:56.734610Z"
    }
   },
   "outputs": [],
   "source": [
    "rf_df = {'protein':[], f'{topN}-avg_rank':[], 'count':[]}\n",
    "for p in rf_dict_rank:\n",
    "    rf_dict_rank[p] = topN - np.average(rf_dict_rank[p])\n",
    "    rf_df['protein'].append(p)\n",
    "    rf_df[f'{topN}-avg_rank'].append(rf_dict_rank[p])\n",
    "    rf_df['count'].append(rf_dict_count[p])\n",
    "rf_df = pd.DataFrame(rf_df)"
   ]
  },
  {
   "cell_type": "code",
   "execution_count": 240,
   "metadata": {
    "ExecuteTime": {
     "end_time": "2020-06-15T12:52:57.175242Z",
     "start_time": "2020-06-15T12:52:57.171477Z"
    }
   },
   "outputs": [],
   "source": [
    "rf_df_filtered = rf_df[rf_df['count']+rf_df[f'{topN}-avg_rank'] > topN]"
   ]
  },
  {
   "cell_type": "code",
   "execution_count": 241,
   "metadata": {
    "ExecuteTime": {
     "end_time": "2020-06-15T12:52:57.372345Z",
     "start_time": "2020-06-15T12:52:57.362299Z"
    }
   },
   "outputs": [
    {
     "name": "stderr",
     "output_type": "stream",
     "text": [
      "\n",
      "A value is trying to be set on a copy of a slice from a DataFrame.\n",
      "Try using .loc[row_indexer,col_indexer] = value instead\n",
      "\n",
      "See the caveats in the documentation: https://pandas.pydata.org/pandas-docs/stable/user_guide/indexing.html#returning-a-view-versus-a-copy\n"
     ]
    }
   ],
   "source": [
    "rf_df_filtered['category'] = rf_df_filtered.apply(\n",
    "    lambda row: 'drug specific' if (row[f'{topN}-avg_rank'] > 48 and row['count'] < 50) \n",
    "    else 'pan-drug'\n",
    "    if row['count'] > 80 else 'other', axis=1)"
   ]
  },
  {
   "cell_type": "code",
   "execution_count": 242,
   "metadata": {
    "ExecuteTime": {
     "end_time": "2020-06-15T12:52:57.726821Z",
     "start_time": "2020-06-15T12:52:57.544435Z"
    }
   },
   "outputs": [
    {
     "data": {
      "image/png": "[encoded data removed]",
      "text/plain": [
       "<Figure size 864x504 with 1 Axes>"
      ]
     },
     "metadata": {
      "needs_background": "light"
     },
     "output_type": "display_data"
    }
   ],
   "source": [
    "plt.figure(figsize=(12, 7))\n",
    "g = sns.scatterplot(x='count',\n",
    "                    y=f'{topN}-avg_rank',\n",
    "                    hue='category',\n",
    "                    hue_order=['drug specific', 'pan-drug', 'other'],\n",
    "                    data=rf_df_filtered)\n",
    "# for index, row in rf_df_filtered.iterrows():\n",
    "#     if row['category'] != 'other':\n",
    "#         g.annotate(row['protein'],\n",
    "#                    xy=(row['count'], row[f'{topN}-avg_rank']),\n",
    "#                    xycoords='data',\n",
    "#                    xytext=(0, 20),\n",
    "#                    textcoords='offset points',\n",
    "#                    arrowprops=dict(arrowstyle=\"->\"))\n",
    "plt.xlabel(f'number of times in top {topN}')\n",
    "plt.title(\"top protein analysis (Random Forest)\")\n",
    "plt.show()"
   ]
  },
  {
   "cell_type": "code",
   "execution_count": 243,
   "metadata": {
    "ExecuteTime": {
     "end_time": "2020-06-15T12:52:57.872524Z",
     "start_time": "2020-06-15T12:52:57.862091Z"
    }
   },
   "outputs": [
    {
     "data": {
      "text/html": [
       "<div>\n",
       "<style scoped>\n",
       "    .dataframe tbody tr th:only-of-type {\n",
       "        vertical-align: middle;\n",
       "    }\n",
       "\n",
       "    .dataframe tbody tr th {\n",
       "        vertical-align: top;\n",
       "    }\n",
       "\n",
       "    .dataframe thead th {\n",
       "        text-align: right;\n",
       "    }\n",
       "</style>\n",
       "<table border=\"1\" class=\"dataframe\">\n",
       "  <thead>\n",
       "    <tr style=\"text-align: right;\">\n",
       "      <th></th>\n",
       "      <th>protein</th>\n",
       "      <th>50-avg_rank</th>\n",
       "      <th>count</th>\n",
       "      <th>category</th>\n",
       "    </tr>\n",
       "  </thead>\n",
       "  <tbody>\n",
       "    <tr>\n",
       "      <th>1897</th>\n",
       "      <td>DX39B_HUMAN</td>\n",
       "      <td>50.000000</td>\n",
       "      <td>1</td>\n",
       "      <td>drug specific</td>\n",
       "    </tr>\n",
       "    <tr>\n",
       "      <th>2009</th>\n",
       "      <td>ADK_HUMAN</td>\n",
       "      <td>50.000000</td>\n",
       "      <td>1</td>\n",
       "      <td>drug specific</td>\n",
       "    </tr>\n",
       "    <tr>\n",
       "      <th>2138</th>\n",
       "      <td>STX6_HUMAN</td>\n",
       "      <td>50.000000</td>\n",
       "      <td>2</td>\n",
       "      <td>drug specific</td>\n",
       "    </tr>\n",
       "    <tr>\n",
       "      <th>2307</th>\n",
       "      <td>ARGI2_HUMAN</td>\n",
       "      <td>50.000000</td>\n",
       "      <td>1</td>\n",
       "      <td>drug specific</td>\n",
       "    </tr>\n",
       "    <tr>\n",
       "      <th>2440</th>\n",
       "      <td>ENTP1_HUMAN</td>\n",
       "      <td>50.000000</td>\n",
       "      <td>1</td>\n",
       "      <td>drug specific</td>\n",
       "    </tr>\n",
       "    <tr>\n",
       "      <th>2733</th>\n",
       "      <td>SYYM_HUMAN</td>\n",
       "      <td>50.000000</td>\n",
       "      <td>1</td>\n",
       "      <td>drug specific</td>\n",
       "    </tr>\n",
       "    <tr>\n",
       "      <th>2828</th>\n",
       "      <td>NCOR2_HUMAN</td>\n",
       "      <td>50.000000</td>\n",
       "      <td>1</td>\n",
       "      <td>drug specific</td>\n",
       "    </tr>\n",
       "    <tr>\n",
       "      <th>2328</th>\n",
       "      <td>SCG1_HUMAN</td>\n",
       "      <td>49.000000</td>\n",
       "      <td>2</td>\n",
       "      <td>drug specific</td>\n",
       "    </tr>\n",
       "    <tr>\n",
       "      <th>1420</th>\n",
       "      <td>K22E_HUMAN</td>\n",
       "      <td>48.666667</td>\n",
       "      <td>3</td>\n",
       "      <td>drug specific</td>\n",
       "    </tr>\n",
       "    <tr>\n",
       "      <th>288</th>\n",
       "      <td>ITB1_HUMAN</td>\n",
       "      <td>35.108434</td>\n",
       "      <td>83</td>\n",
       "      <td>pan-drug</td>\n",
       "    </tr>\n",
       "  </tbody>\n",
       "</table>\n",
       "</div>"
      ],
      "text/plain": [
       "          protein  50-avg_rank  count       category\n",
       "1897  DX39B_HUMAN    50.000000      1  drug specific\n",
       "2009    ADK_HUMAN    50.000000      1  drug specific\n",
       "2138   STX6_HUMAN    50.000000      2  drug specific\n",
       "2307  ARGI2_HUMAN    50.000000      1  drug specific\n",
       "2440  ENTP1_HUMAN    50.000000      1  drug specific\n",
       "2733   SYYM_HUMAN    50.000000      1  drug specific\n",
       "2828  NCOR2_HUMAN    50.000000      1  drug specific\n",
       "2328   SCG1_HUMAN    49.000000      2  drug specific\n",
       "1420   K22E_HUMAN    48.666667      3  drug specific\n",
       "288    ITB1_HUMAN    35.108434     83       pan-drug"
      ]
     },
     "execution_count": 243,
     "metadata": {},
     "output_type": "execute_result"
    }
   ],
   "source": [
    "rf_df_filtered[rf_df_filtered['category']!='other'].sort_values([f'{topN}-avg_rank'], ascending=False)"
   ]
  },
  {
   "cell_type": "markdown",
   "metadata": {},
   "source": [
    "### ENet"
   ]
  },
  {
   "cell_type": "code",
   "execution_count": 244,
   "metadata": {
    "ExecuteTime": {
     "end_time": "2020-06-15T12:52:59.667357Z",
     "start_time": "2020-06-15T12:52:58.596782Z"
    }
   },
   "outputs": [],
   "source": [
    "topN = 50\n",
    "en_dict_count = {}\n",
    "en_dict_rank = {}\n",
    "en_dict_drug = {}\n",
    "for drug in drug_list:\n",
    "    tmp = df_en[['protein', f'importance_{drug}']]\n",
    "    tmp = tmp[tmp[f'importance_{drug}'] != 0]\n",
    "    tmp['abs'] = np.abs(tmp[f'importance_{drug}'])\n",
    "    en_top_proteins = tmp.sort_values(by=['abs'],\n",
    "                        ascending=False)[['protein', f'importance_{drug}'\n",
    "                                          ]].head(topN)['protein'].values\n",
    "    en_top_proteins = [x for x in en_top_proteins if x not in shap_tissue_set]\n",
    "    for i in range(len(en_top_proteins)):\n",
    "        if en_top_proteins[i] not in en_dict_count:\n",
    "            en_dict_count[en_top_proteins[i]] = 0\n",
    "            en_dict_rank[en_top_proteins[i]] = []\n",
    "            en_dict_drug[en_top_proteins[i]] = []\n",
    "            \n",
    "        en_dict_rank[en_top_proteins[i]].append(i)\n",
    "        en_dict_count[en_top_proteins[i]] += 1\n",
    "        en_dict_drug[en_top_proteins[i]].append(drug)"
   ]
  },
  {
   "cell_type": "code",
   "execution_count": 245,
   "metadata": {
    "ExecuteTime": {
     "end_time": "2020-06-15T12:52:59.698245Z",
     "start_time": "2020-06-15T12:52:59.669044Z"
    }
   },
   "outputs": [],
   "source": [
    "en_df = {'protein':[], f'{topN}-avg_rank':[], 'count':[]}\n",
    "for p in en_dict_rank:\n",
    "    en_dict_rank[p] = topN - np.average(en_dict_rank[p])\n",
    "    en_df['protein'].append(p)\n",
    "    en_df[f'{topN}-avg_rank'].append(en_dict_rank[p])\n",
    "    en_df['count'].append(en_dict_count[p])\n",
    "en_df = pd.DataFrame(en_df)"
   ]
  },
  {
   "cell_type": "code",
   "execution_count": 246,
   "metadata": {
    "ExecuteTime": {
     "end_time": "2020-06-15T12:52:59.703617Z",
     "start_time": "2020-06-15T12:52:59.700332Z"
    }
   },
   "outputs": [],
   "source": [
    "en_df_filtered = en_df[en_df['count']+en_df[f'{topN}-avg_rank'] > topN]"
   ]
  },
  {
   "cell_type": "code",
   "execution_count": 247,
   "metadata": {
    "ExecuteTime": {
     "end_time": "2020-06-15T12:52:59.714142Z",
     "start_time": "2020-06-15T12:52:59.705076Z"
    }
   },
   "outputs": [
    {
     "name": "stderr",
     "output_type": "stream",
     "text": [
      "\n",
      "A value is trying to be set on a copy of a slice from a DataFrame.\n",
      "Try using .loc[row_indexer,col_indexer] = value instead\n",
      "\n",
      "See the caveats in the documentation: https://pandas.pydata.org/pandas-docs/stable/user_guide/indexing.html#returning-a-view-versus-a-copy\n"
     ]
    }
   ],
   "source": [
    "en_df_filtered['category'] = en_df_filtered.apply(\n",
    "    lambda row: 'drug specific'\n",
    "    if (row[f'{topN}-avg_rank'] > topN-2 and row['count'] < 100) \n",
    "    else 'pan-drug'if (row['count'] > 80 and row[f'{topN}-avg_rank'] > 10)\n",
    "    else 'other',\n",
    "    axis=1)"
   ]
  },
  {
   "cell_type": "code",
   "execution_count": 248,
   "metadata": {
    "ExecuteTime": {
     "end_time": "2020-06-15T12:53:00.323688Z",
     "start_time": "2020-06-15T12:53:00.103406Z"
    }
   },
   "outputs": [
    {
     "data": {
      "text/plain": [
       "Text(0.5, 1.0, 'top protein analysis (Elastic Net)')"
      ]
     },
     "execution_count": 248,
     "metadata": {},
     "output_type": "execute_result"
    },
    {
     "data": {
      "image/png": "[encoded data removed]",
      "text/plain": [
       "<Figure size 864x504 with 1 Axes>"
      ]
     },
     "metadata": {
      "needs_background": "light"
     },
     "output_type": "display_data"
    }
   ],
   "source": [
    "plt.figure(figsize=(12, 7))\n",
    "sns.scatterplot(x='count',\n",
    "                y=f'{topN}-avg_rank',\n",
    "                hue='category',\n",
    "                hue_order=['drug specific', 'pan-drug', 'other'],\n",
    "                data=en_df_filtered)\n",
    "plt.xlabel(f'number of times in top {topN}')\n",
    "plt.title(\"top protein analysis (Elastic Net)\")"
   ]
  },
  {
   "cell_type": "code",
   "execution_count": 249,
   "metadata": {
    "ExecuteTime": {
     "end_time": "2020-06-15T12:53:00.435897Z",
     "start_time": "2020-06-15T12:53:00.425554Z"
    }
   },
   "outputs": [
    {
     "data": {
      "text/html": [
       "<div>\n",
       "<style scoped>\n",
       "    .dataframe tbody tr th:only-of-type {\n",
       "        vertical-align: middle;\n",
       "    }\n",
       "\n",
       "    .dataframe tbody tr th {\n",
       "        vertical-align: top;\n",
       "    }\n",
       "\n",
       "    .dataframe thead th {\n",
       "        text-align: right;\n",
       "    }\n",
       "</style>\n",
       "<table border=\"1\" class=\"dataframe\">\n",
       "  <thead>\n",
       "    <tr style=\"text-align: right;\">\n",
       "      <th></th>\n",
       "      <th>protein</th>\n",
       "      <th>50-avg_rank</th>\n",
       "      <th>count</th>\n",
       "      <th>category</th>\n",
       "    </tr>\n",
       "  </thead>\n",
       "  <tbody>\n",
       "    <tr>\n",
       "      <th>100</th>\n",
       "      <td>PTPRF_HUMAN</td>\n",
       "      <td>50.000000</td>\n",
       "      <td>1</td>\n",
       "      <td>drug specific</td>\n",
       "    </tr>\n",
       "    <tr>\n",
       "      <th>500</th>\n",
       "      <td>TOP2A_HUMAN</td>\n",
       "      <td>50.000000</td>\n",
       "      <td>1</td>\n",
       "      <td>drug specific</td>\n",
       "    </tr>\n",
       "    <tr>\n",
       "      <th>915</th>\n",
       "      <td>IGHM_HUMAN</td>\n",
       "      <td>50.000000</td>\n",
       "      <td>1</td>\n",
       "      <td>drug specific</td>\n",
       "    </tr>\n",
       "    <tr>\n",
       "      <th>970</th>\n",
       "      <td>DEFI6_HUMAN</td>\n",
       "      <td>50.000000</td>\n",
       "      <td>1</td>\n",
       "      <td>drug specific</td>\n",
       "    </tr>\n",
       "    <tr>\n",
       "      <th>1631</th>\n",
       "      <td>MBB1A_HUMAN</td>\n",
       "      <td>50.000000</td>\n",
       "      <td>1</td>\n",
       "      <td>drug specific</td>\n",
       "    </tr>\n",
       "    <tr>\n",
       "      <th>1748</th>\n",
       "      <td>ENTP1_HUMAN</td>\n",
       "      <td>50.000000</td>\n",
       "      <td>2</td>\n",
       "      <td>drug specific</td>\n",
       "    </tr>\n",
       "    <tr>\n",
       "      <th>1959</th>\n",
       "      <td>FKBP2_HUMAN</td>\n",
       "      <td>50.000000</td>\n",
       "      <td>1</td>\n",
       "      <td>drug specific</td>\n",
       "    </tr>\n",
       "    <tr>\n",
       "      <th>1965</th>\n",
       "      <td>MECR_HUMAN</td>\n",
       "      <td>50.000000</td>\n",
       "      <td>1</td>\n",
       "      <td>drug specific</td>\n",
       "    </tr>\n",
       "    <tr>\n",
       "      <th>1364</th>\n",
       "      <td>CD3E_HUMAN</td>\n",
       "      <td>48.500000</td>\n",
       "      <td>2</td>\n",
       "      <td>drug specific</td>\n",
       "    </tr>\n",
       "    <tr>\n",
       "      <th>49</th>\n",
       "      <td>LEG1_HUMAN</td>\n",
       "      <td>32.658824</td>\n",
       "      <td>85</td>\n",
       "      <td>pan-drug</td>\n",
       "    </tr>\n",
       "  </tbody>\n",
       "</table>\n",
       "</div>"
      ],
      "text/plain": [
       "          protein  50-avg_rank  count       category\n",
       "100   PTPRF_HUMAN    50.000000      1  drug specific\n",
       "500   TOP2A_HUMAN    50.000000      1  drug specific\n",
       "915    IGHM_HUMAN    50.000000      1  drug specific\n",
       "970   DEFI6_HUMAN    50.000000      1  drug specific\n",
       "1631  MBB1A_HUMAN    50.000000      1  drug specific\n",
       "1748  ENTP1_HUMAN    50.000000      2  drug specific\n",
       "1959  FKBP2_HUMAN    50.000000      1  drug specific\n",
       "1965   MECR_HUMAN    50.000000      1  drug specific\n",
       "1364   CD3E_HUMAN    48.500000      2  drug specific\n",
       "49     LEG1_HUMAN    32.658824     85       pan-drug"
      ]
     },
     "execution_count": 249,
     "metadata": {},
     "output_type": "execute_result"
    }
   ],
   "source": [
    "en_df_filtered[en_df_filtered['category']!='other'].sort_values([f'{topN}-avg_rank'], ascending=False)"
   ]
  },
  {
   "cell_type": "markdown",
   "metadata": {},
   "source": [
    "### shap"
   ]
  },
  {
   "cell_type": "code",
   "execution_count": 250,
   "metadata": {
    "ExecuteTime": {
     "end_time": "2020-06-15T12:53:02.250256Z",
     "start_time": "2020-06-15T12:53:01.064422Z"
    }
   },
   "outputs": [],
   "source": [
    "topN = 50\n",
    "shap_dict_count = {}\n",
    "shap_dict_rank = {}\n",
    "shap_dict_drug = {}\n",
    "for drug in drug_list:\n",
    "    tmp = df_shap[['protein', f'importance_{drug}']]\n",
    "    tmp = tmp[tmp[f'importance_{drug}'] != 0]\n",
    "    tmp['abs'] = np.abs(tmp[f'importance_{drug}'])\n",
    "    shap_top_proteins = tmp.sort_values(by=['abs'],\n",
    "                        ascending=False)[['protein', f'importance_{drug}'\n",
    "                                          ]].head(topN)['protein'].values\n",
    "    shap_top_proteins = [x for x in shap_top_proteins if x not in shap_tissue_set]\n",
    "    for i in range(len(shap_top_proteins)):\n",
    "        if shap_top_proteins[i] not in shap_dict_count:\n",
    "            shap_dict_count[shap_top_proteins[i]] = 0\n",
    "            shap_dict_rank[shap_top_proteins[i]] = []\n",
    "            shap_dict_drug[shap_top_proteins[i]] = []\n",
    "            \n",
    "        shap_dict_rank[shap_top_proteins[i]].append(i)\n",
    "        shap_dict_count[shap_top_proteins[i]] += 1\n",
    "        shap_dict_drug[shap_top_proteins[i]].append(drug)"
   ]
  },
  {
   "cell_type": "code",
   "execution_count": null,
   "metadata": {},
   "outputs": [],
   "source": []
  },
  {
   "cell_type": "code",
   "execution_count": 251,
   "metadata": {
    "ExecuteTime": {
     "end_time": "2020-06-15T12:53:02.265869Z",
     "start_time": "2020-06-15T12:53:02.252045Z"
    }
   },
   "outputs": [],
   "source": [
    "shap_df = {'protein':[], f'{topN}-avg_rank':[], 'count':[]}\n",
    "for p in shap_dict_rank:\n",
    "    shap_dict_rank[p] = topN - np.average(shap_dict_rank[p])\n",
    "    shap_df['protein'].append(p)\n",
    "    shap_df[f'{topN}-avg_rank'].append(shap_dict_rank[p])\n",
    "    shap_df['count'].append(shap_dict_count[p])\n",
    "shap_df = pd.DataFrame(shap_df)"
   ]
  },
  {
   "cell_type": "code",
   "execution_count": 252,
   "metadata": {
    "ExecuteTime": {
     "end_time": "2020-06-15T12:53:02.470793Z",
     "start_time": "2020-06-15T12:53:02.466824Z"
    }
   },
   "outputs": [],
   "source": [
    "shap_df_filtered = shap_df[shap_df['count']+shap_df[f'{topN}-avg_rank'] > (topN-10)]"
   ]
  },
  {
   "cell_type": "code",
   "execution_count": 253,
   "metadata": {
    "ExecuteTime": {
     "end_time": "2020-06-15T12:53:03.056983Z",
     "start_time": "2020-06-15T12:53:02.917262Z"
    }
   },
   "outputs": [
    {
     "data": {
      "text/plain": [
       "<matplotlib.axes._subplots.AxesSubplot at 0x7ff23122ef40>"
      ]
     },
     "execution_count": 253,
     "metadata": {},
     "output_type": "execute_result"
    },
    {
     "data": {
      "image/png": "[encoded data removed]",
      "text/plain": [
       "<Figure size 720x504 with 1 Axes>"
      ]
     },
     "metadata": {
      "needs_background": "light"
     },
     "output_type": "display_data"
    }
   ],
   "source": [
    "sns.scatterplot(x='count', y=f'{topN}-avg_rank', data=shap_df_filtered)"
   ]
  },
  {
   "cell_type": "code",
   "execution_count": 254,
   "metadata": {
    "ExecuteTime": {
     "end_time": "2020-06-15T12:53:03.582116Z",
     "start_time": "2020-06-15T12:53:03.570277Z"
    }
   },
   "outputs": [
    {
     "name": "stderr",
     "output_type": "stream",
     "text": [
      "\n",
      "A value is trying to be set on a copy of a slice from a DataFrame.\n",
      "Try using .loc[row_indexer,col_indexer] = value instead\n",
      "\n",
      "See the caveats in the documentation: https://pandas.pydata.org/pandas-docs/stable/user_guide/indexing.html#returning-a-view-versus-a-copy\n"
     ]
    }
   ],
   "source": [
    "shap_df_filtered['category'] = shap_df_filtered.apply(\n",
    "    lambda row: 'drug specific' if (row[f'{topN}-avg_rank'] >= 40 and row['count'] < 50) \n",
    "    else 'pan-drug'\n",
    "    if row['count'] > 350 else 'other', axis=1)"
   ]
  },
  {
   "cell_type": "code",
   "execution_count": 255,
   "metadata": {
    "ExecuteTime": {
     "end_time": "2020-06-15T12:53:04.288561Z",
     "start_time": "2020-06-15T12:53:04.099252Z"
    },
    "scrolled": false
   },
   "outputs": [
    {
     "data": {
      "text/plain": [
       "Text(0.5, 1.0, 'top protein analysis (MultiDrugNN)')"
      ]
     },
     "execution_count": 255,
     "metadata": {},
     "output_type": "execute_result"
    },
    {
     "data": {
      "image/png": "[encoded data removed]",
      "text/plain": [
       "<Figure size 864x504 with 1 Axes>"
      ]
     },
     "metadata": {
      "needs_background": "light"
     },
     "output_type": "display_data"
    }
   ],
   "source": [
    "plt.figure(figsize=(12, 7))\n",
    "sns.scatterplot(x='count',\n",
    "                y=f'{topN}-avg_rank',\n",
    "                hue='category',\n",
    "                hue_order=['drug specific', 'pan-drug', 'other'],\n",
    "                data=shap_df_filtered)\n",
    "plt.xlabel(f'number of times in top {topN}')\n",
    "plt.title(\"top protein analysis (MultiDrugNN)\")"
   ]
  },
  {
   "cell_type": "code",
   "execution_count": 256,
   "metadata": {
    "ExecuteTime": {
     "end_time": "2020-06-15T12:53:05.798349Z",
     "start_time": "2020-06-15T12:53:05.788501Z"
    }
   },
   "outputs": [
    {
     "data": {
      "text/html": [
       "<div>\n",
       "<style scoped>\n",
       "    .dataframe tbody tr th:only-of-type {\n",
       "        vertical-align: middle;\n",
       "    }\n",
       "\n",
       "    .dataframe tbody tr th {\n",
       "        vertical-align: top;\n",
       "    }\n",
       "\n",
       "    .dataframe thead th {\n",
       "        text-align: right;\n",
       "    }\n",
       "</style>\n",
       "<table border=\"1\" class=\"dataframe\">\n",
       "  <thead>\n",
       "    <tr style=\"text-align: right;\">\n",
       "      <th></th>\n",
       "      <th>protein</th>\n",
       "      <th>50-avg_rank</th>\n",
       "      <th>count</th>\n",
       "      <th>category</th>\n",
       "    </tr>\n",
       "  </thead>\n",
       "  <tbody>\n",
       "    <tr>\n",
       "      <th>418</th>\n",
       "      <td>ADK_HUMAN</td>\n",
       "      <td>46.0</td>\n",
       "      <td>1</td>\n",
       "      <td>drug specific</td>\n",
       "    </tr>\n",
       "    <tr>\n",
       "      <th>581</th>\n",
       "      <td>HMGB3_HUMAN</td>\n",
       "      <td>41.0</td>\n",
       "      <td>1</td>\n",
       "      <td>drug specific</td>\n",
       "    </tr>\n",
       "    <tr>\n",
       "      <th>671</th>\n",
       "      <td>PLST_HUMAN</td>\n",
       "      <td>41.0</td>\n",
       "      <td>1</td>\n",
       "      <td>drug specific</td>\n",
       "    </tr>\n",
       "  </tbody>\n",
       "</table>\n",
       "</div>"
      ],
      "text/plain": [
       "         protein  50-avg_rank  count       category\n",
       "418    ADK_HUMAN         46.0      1  drug specific\n",
       "581  HMGB3_HUMAN         41.0      1  drug specific\n",
       "671   PLST_HUMAN         41.0      1  drug specific"
      ]
     },
     "execution_count": 256,
     "metadata": {},
     "output_type": "execute_result"
    }
   ],
   "source": [
    "shap_df_filtered[shap_df_filtered['category']!='other'].sort_values([f'{topN}-avg_rank'], ascending=False)"
   ]
  },
  {
   "cell_type": "code",
   "execution_count": null,
   "metadata": {
    "ExecuteTime": {
     "end_time": "2020-05-05T13:42:43.423281Z",
     "start_time": "2020-05-05T13:42:43.419625Z"
    },
    "scrolled": false
   },
   "outputs": [],
   "source": []
  },
  {
   "cell_type": "markdown",
   "metadata": {},
   "source": [
    "### combined"
   ]
  },
  {
   "cell_type": "code",
   "execution_count": 257,
   "metadata": {
    "ExecuteTime": {
     "end_time": "2020-06-15T12:53:10.170474Z",
     "start_time": "2020-06-15T12:53:10.163584Z"
    }
   },
   "outputs": [],
   "source": [
    "tmp = pd.merge(rf_df_filtered, en_df_filtered, on=['protein'], suffixes=['_rf', '_en'])"
   ]
  },
  {
   "cell_type": "code",
   "execution_count": 258,
   "metadata": {
    "ExecuteTime": {
     "end_time": "2020-06-15T12:53:10.505303Z",
     "start_time": "2020-06-15T12:53:10.498838Z"
    }
   },
   "outputs": [],
   "source": [
    "tmp = pd.merge(tmp, shap_df_filtered, on=['protein'])"
   ]
  },
  {
   "cell_type": "code",
   "execution_count": 259,
   "metadata": {
    "ExecuteTime": {
     "end_time": "2020-06-15T12:53:10.808102Z",
     "start_time": "2020-06-15T12:53:10.798126Z"
    }
   },
   "outputs": [],
   "source": [
    "tmp['count_avg'] = tmp.apply(\n",
    "    lambda row: np.average([row['count'], row['count_en'], row['count_rf']]), axis=1)\n",
    "tmp['rank_score_avg'] = tmp.apply(lambda row: np.average([\n",
    "    row['50-avg_rank'], row['50-avg_rank_en'], row['50-avg_rank_rf']]), axis=1)"
   ]
  },
  {
   "cell_type": "code",
   "execution_count": 260,
   "metadata": {
    "ExecuteTime": {
     "end_time": "2020-06-15T12:53:11.490072Z",
     "start_time": "2020-06-15T12:53:11.250545Z"
    }
   },
   "outputs": [
    {
     "data": {
      "text/plain": [
       "<matplotlib.axes._subplots.AxesSubplot at 0x7ff261c83bb0>"
      ]
     },
     "execution_count": 260,
     "metadata": {},
     "output_type": "execute_result"
    },
    {
     "data": {
      "image/png": "[encoded data removed]",
      "text/plain": [
       "<Figure size 720x504 with 1 Axes>"
      ]
     },
     "metadata": {
      "needs_background": "light"
     },
     "output_type": "display_data"
    }
   ],
   "source": [
    "sns.scatterplot(x='count_avg', y='rank_score_avg', data=tmp)"
   ]
  },
  {
   "cell_type": "code",
   "execution_count": 261,
   "metadata": {
    "ExecuteTime": {
     "end_time": "2020-06-15T12:53:22.925440Z",
     "start_time": "2020-06-15T12:53:22.907717Z"
    }
   },
   "outputs": [
    {
     "data": {
      "text/html": [
       "<div>\n",
       "<style scoped>\n",
       "    .dataframe tbody tr th:only-of-type {\n",
       "        vertical-align: middle;\n",
       "    }\n",
       "\n",
       "    .dataframe tbody tr th {\n",
       "        vertical-align: top;\n",
       "    }\n",
       "\n",
       "    .dataframe thead th {\n",
       "        text-align: right;\n",
       "    }\n",
       "</style>\n",
       "<table border=\"1\" class=\"dataframe\">\n",
       "  <thead>\n",
       "    <tr style=\"text-align: right;\">\n",
       "      <th></th>\n",
       "      <th>protein</th>\n",
       "      <th>50-avg_rank_rf</th>\n",
       "      <th>count_rf</th>\n",
       "      <th>category_rf</th>\n",
       "      <th>50-avg_rank_en</th>\n",
       "      <th>count_en</th>\n",
       "      <th>category_en</th>\n",
       "      <th>50-avg_rank</th>\n",
       "      <th>count</th>\n",
       "      <th>category</th>\n",
       "      <th>count_avg</th>\n",
       "      <th>rank_score_avg</th>\n",
       "    </tr>\n",
       "  </thead>\n",
       "  <tbody>\n",
       "    <tr>\n",
       "      <th>0</th>\n",
       "      <td>PLAK_HUMAN</td>\n",
       "      <td>37.485714</td>\n",
       "      <td>35</td>\n",
       "      <td>other</td>\n",
       "      <td>35.138889</td>\n",
       "      <td>36</td>\n",
       "      <td>other</td>\n",
       "      <td>32.168142</td>\n",
       "      <td>113</td>\n",
       "      <td>other</td>\n",
       "      <td>61.333333</td>\n",
       "      <td>34.930915</td>\n",
       "    </tr>\n",
       "    <tr>\n",
       "      <th>1</th>\n",
       "      <td>SPY4_HUMAN</td>\n",
       "      <td>42.567568</td>\n",
       "      <td>37</td>\n",
       "      <td>other</td>\n",
       "      <td>39.438596</td>\n",
       "      <td>57</td>\n",
       "      <td>other</td>\n",
       "      <td>32.217391</td>\n",
       "      <td>46</td>\n",
       "      <td>other</td>\n",
       "      <td>46.666667</td>\n",
       "      <td>38.074518</td>\n",
       "    </tr>\n",
       "    <tr>\n",
       "      <th>2</th>\n",
       "      <td>VTNC_HUMAN</td>\n",
       "      <td>34.192308</td>\n",
       "      <td>52</td>\n",
       "      <td>other</td>\n",
       "      <td>35.940299</td>\n",
       "      <td>67</td>\n",
       "      <td>other</td>\n",
       "      <td>20.952381</td>\n",
       "      <td>63</td>\n",
       "      <td>other</td>\n",
       "      <td>60.666667</td>\n",
       "      <td>30.361662</td>\n",
       "    </tr>\n",
       "    <tr>\n",
       "      <th>3</th>\n",
       "      <td>TGM2_HUMAN</td>\n",
       "      <td>29.681818</td>\n",
       "      <td>22</td>\n",
       "      <td>other</td>\n",
       "      <td>31.418605</td>\n",
       "      <td>43</td>\n",
       "      <td>other</td>\n",
       "      <td>28.026549</td>\n",
       "      <td>113</td>\n",
       "      <td>other</td>\n",
       "      <td>59.333333</td>\n",
       "      <td>29.708991</td>\n",
       "    </tr>\n",
       "    <tr>\n",
       "      <th>4</th>\n",
       "      <td>S10AB_HUMAN</td>\n",
       "      <td>29.761905</td>\n",
       "      <td>21</td>\n",
       "      <td>other</td>\n",
       "      <td>30.433333</td>\n",
       "      <td>30</td>\n",
       "      <td>other</td>\n",
       "      <td>21.785714</td>\n",
       "      <td>42</td>\n",
       "      <td>other</td>\n",
       "      <td>31.000000</td>\n",
       "      <td>27.326984</td>\n",
       "    </tr>\n",
       "    <tr>\n",
       "      <th>5</th>\n",
       "      <td>GSTO1_HUMAN</td>\n",
       "      <td>33.666667</td>\n",
       "      <td>30</td>\n",
       "      <td>other</td>\n",
       "      <td>39.115385</td>\n",
       "      <td>26</td>\n",
       "      <td>other</td>\n",
       "      <td>35.962121</td>\n",
       "      <td>132</td>\n",
       "      <td>other</td>\n",
       "      <td>62.666667</td>\n",
       "      <td>36.248057</td>\n",
       "    </tr>\n",
       "    <tr>\n",
       "      <th>6</th>\n",
       "      <td>NAMPT_HUMAN</td>\n",
       "      <td>38.625000</td>\n",
       "      <td>16</td>\n",
       "      <td>other</td>\n",
       "      <td>36.260870</td>\n",
       "      <td>23</td>\n",
       "      <td>other</td>\n",
       "      <td>39.521327</td>\n",
       "      <td>211</td>\n",
       "      <td>other</td>\n",
       "      <td>83.333333</td>\n",
       "      <td>38.135732</td>\n",
       "    </tr>\n",
       "    <tr>\n",
       "      <th>7</th>\n",
       "      <td>PDLI7_HUMAN</td>\n",
       "      <td>31.561404</td>\n",
       "      <td>57</td>\n",
       "      <td>other</td>\n",
       "      <td>32.600000</td>\n",
       "      <td>30</td>\n",
       "      <td>other</td>\n",
       "      <td>35.146154</td>\n",
       "      <td>130</td>\n",
       "      <td>other</td>\n",
       "      <td>72.333333</td>\n",
       "      <td>33.102519</td>\n",
       "    </tr>\n",
       "    <tr>\n",
       "      <th>8</th>\n",
       "      <td>ITA3_HUMAN</td>\n",
       "      <td>32.872727</td>\n",
       "      <td>55</td>\n",
       "      <td>other</td>\n",
       "      <td>34.129032</td>\n",
       "      <td>31</td>\n",
       "      <td>other</td>\n",
       "      <td>31.650407</td>\n",
       "      <td>123</td>\n",
       "      <td>other</td>\n",
       "      <td>69.666667</td>\n",
       "      <td>32.884055</td>\n",
       "    </tr>\n",
       "    <tr>\n",
       "      <th>9</th>\n",
       "      <td>ANXA2_HUMAN</td>\n",
       "      <td>28.454545</td>\n",
       "      <td>44</td>\n",
       "      <td>other</td>\n",
       "      <td>29.611111</td>\n",
       "      <td>36</td>\n",
       "      <td>other</td>\n",
       "      <td>27.565217</td>\n",
       "      <td>23</td>\n",
       "      <td>other</td>\n",
       "      <td>34.333333</td>\n",
       "      <td>28.543625</td>\n",
       "    </tr>\n",
       "    <tr>\n",
       "      <th>10</th>\n",
       "      <td>K1C19_HUMAN</td>\n",
       "      <td>25.500000</td>\n",
       "      <td>28</td>\n",
       "      <td>other</td>\n",
       "      <td>22.968750</td>\n",
       "      <td>32</td>\n",
       "      <td>other</td>\n",
       "      <td>35.578125</td>\n",
       "      <td>128</td>\n",
       "      <td>other</td>\n",
       "      <td>62.666667</td>\n",
       "      <td>28.015625</td>\n",
       "    </tr>\n",
       "    <tr>\n",
       "      <th>11</th>\n",
       "      <td>LEG3_HUMAN</td>\n",
       "      <td>34.625000</td>\n",
       "      <td>40</td>\n",
       "      <td>other</td>\n",
       "      <td>31.054545</td>\n",
       "      <td>55</td>\n",
       "      <td>other</td>\n",
       "      <td>33.271930</td>\n",
       "      <td>228</td>\n",
       "      <td>other</td>\n",
       "      <td>107.666667</td>\n",
       "      <td>32.983825</td>\n",
       "    </tr>\n",
       "    <tr>\n",
       "      <th>12</th>\n",
       "      <td>CATB_HUMAN</td>\n",
       "      <td>31.363636</td>\n",
       "      <td>44</td>\n",
       "      <td>other</td>\n",
       "      <td>37.357143</td>\n",
       "      <td>14</td>\n",
       "      <td>other</td>\n",
       "      <td>30.314286</td>\n",
       "      <td>105</td>\n",
       "      <td>other</td>\n",
       "      <td>54.333333</td>\n",
       "      <td>33.011688</td>\n",
       "    </tr>\n",
       "    <tr>\n",
       "      <th>13</th>\n",
       "      <td>SERPH_HUMAN</td>\n",
       "      <td>31.142857</td>\n",
       "      <td>49</td>\n",
       "      <td>other</td>\n",
       "      <td>32.136364</td>\n",
       "      <td>22</td>\n",
       "      <td>other</td>\n",
       "      <td>26.629032</td>\n",
       "      <td>62</td>\n",
       "      <td>other</td>\n",
       "      <td>44.333333</td>\n",
       "      <td>29.969418</td>\n",
       "    </tr>\n",
       "    <tr>\n",
       "      <th>14</th>\n",
       "      <td>GTR1_HUMAN</td>\n",
       "      <td>29.818182</td>\n",
       "      <td>22</td>\n",
       "      <td>other</td>\n",
       "      <td>33.766667</td>\n",
       "      <td>30</td>\n",
       "      <td>other</td>\n",
       "      <td>21.384615</td>\n",
       "      <td>26</td>\n",
       "      <td>other</td>\n",
       "      <td>26.000000</td>\n",
       "      <td>28.323155</td>\n",
       "    </tr>\n",
       "    <tr>\n",
       "      <th>15</th>\n",
       "      <td>S10AE_HUMAN</td>\n",
       "      <td>35.451613</td>\n",
       "      <td>31</td>\n",
       "      <td>other</td>\n",
       "      <td>30.400000</td>\n",
       "      <td>20</td>\n",
       "      <td>other</td>\n",
       "      <td>31.661290</td>\n",
       "      <td>124</td>\n",
       "      <td>other</td>\n",
       "      <td>58.333333</td>\n",
       "      <td>32.504301</td>\n",
       "    </tr>\n",
       "    <tr>\n",
       "      <th>16</th>\n",
       "      <td>THIM_HUMAN</td>\n",
       "      <td>32.833333</td>\n",
       "      <td>24</td>\n",
       "      <td>other</td>\n",
       "      <td>30.041667</td>\n",
       "      <td>24</td>\n",
       "      <td>other</td>\n",
       "      <td>26.527559</td>\n",
       "      <td>127</td>\n",
       "      <td>other</td>\n",
       "      <td>58.333333</td>\n",
       "      <td>29.800853</td>\n",
       "    </tr>\n",
       "    <tr>\n",
       "      <th>17</th>\n",
       "      <td>LEG1_HUMAN</td>\n",
       "      <td>32.111111</td>\n",
       "      <td>45</td>\n",
       "      <td>other</td>\n",
       "      <td>32.658824</td>\n",
       "      <td>85</td>\n",
       "      <td>pan-drug</td>\n",
       "      <td>36.480519</td>\n",
       "      <td>154</td>\n",
       "      <td>other</td>\n",
       "      <td>94.666667</td>\n",
       "      <td>33.750151</td>\n",
       "    </tr>\n",
       "    <tr>\n",
       "      <th>18</th>\n",
       "      <td>STXB1_HUMAN</td>\n",
       "      <td>31.800000</td>\n",
       "      <td>20</td>\n",
       "      <td>other</td>\n",
       "      <td>29.666667</td>\n",
       "      <td>30</td>\n",
       "      <td>other</td>\n",
       "      <td>23.851852</td>\n",
       "      <td>81</td>\n",
       "      <td>other</td>\n",
       "      <td>43.666667</td>\n",
       "      <td>28.439506</td>\n",
       "    </tr>\n",
       "    <tr>\n",
       "      <th>19</th>\n",
       "      <td>NHRF1_HUMAN</td>\n",
       "      <td>31.840000</td>\n",
       "      <td>25</td>\n",
       "      <td>other</td>\n",
       "      <td>30.785714</td>\n",
       "      <td>28</td>\n",
       "      <td>other</td>\n",
       "      <td>32.444444</td>\n",
       "      <td>108</td>\n",
       "      <td>other</td>\n",
       "      <td>53.666667</td>\n",
       "      <td>31.690053</td>\n",
       "    </tr>\n",
       "    <tr>\n",
       "      <th>20</th>\n",
       "      <td>ERBB2_HUMAN</td>\n",
       "      <td>37.866667</td>\n",
       "      <td>15</td>\n",
       "      <td>other</td>\n",
       "      <td>36.105263</td>\n",
       "      <td>19</td>\n",
       "      <td>other</td>\n",
       "      <td>29.676471</td>\n",
       "      <td>34</td>\n",
       "      <td>other</td>\n",
       "      <td>22.666667</td>\n",
       "      <td>34.549467</td>\n",
       "    </tr>\n",
       "  </tbody>\n",
       "</table>\n",
       "</div>"
      ],
      "text/plain": [
       "        protein  50-avg_rank_rf  count_rf category_rf  50-avg_rank_en  \\\n",
       "0    PLAK_HUMAN       37.485714        35       other       35.138889   \n",
       "1    SPY4_HUMAN       42.567568        37       other       39.438596   \n",
       "2    VTNC_HUMAN       34.192308        52       other       35.940299   \n",
       "3    TGM2_HUMAN       29.681818        22       other       31.418605   \n",
       "4   S10AB_HUMAN       29.761905        21       other       30.433333   \n",
       "5   GSTO1_HUMAN       33.666667        30       other       39.115385   \n",
       "6   NAMPT_HUMAN       38.625000        16       other       36.260870   \n",
       "7   PDLI7_HUMAN       31.561404        57       other       32.600000   \n",
       "8    ITA3_HUMAN       32.872727        55       other       34.129032   \n",
       "9   ANXA2_HUMAN       28.454545        44       other       29.611111   \n",
       "10  K1C19_HUMAN       25.500000        28       other       22.968750   \n",
       "11   LEG3_HUMAN       34.625000        40       other       31.054545   \n",
       "12   CATB_HUMAN       31.363636        44       other       37.357143   \n",
       "13  SERPH_HUMAN       31.142857        49       other       32.136364   \n",
       "14   GTR1_HUMAN       29.818182        22       other       33.766667   \n",
       "15  S10AE_HUMAN       35.451613        31       other       30.400000   \n",
       "16   THIM_HUMAN       32.833333        24       other       30.041667   \n",
       "17   LEG1_HUMAN       32.111111        45       other       32.658824   \n",
       "18  STXB1_HUMAN       31.800000        20       other       29.666667   \n",
       "19  NHRF1_HUMAN       31.840000        25       other       30.785714   \n",
       "20  ERBB2_HUMAN       37.866667        15       other       36.105263   \n",
       "\n",
       "    count_en category_en  50-avg_rank  count category   count_avg  \\\n",
       "0         36       other    32.168142    113    other   61.333333   \n",
       "1         57       other    32.217391     46    other   46.666667   \n",
       "2         67       other    20.952381     63    other   60.666667   \n",
       "3         43       other    28.026549    113    other   59.333333   \n",
       "4         30       other    21.785714     42    other   31.000000   \n",
       "5         26       other    35.962121    132    other   62.666667   \n",
       "6         23       other    39.521327    211    other   83.333333   \n",
       "7         30       other    35.146154    130    other   72.333333   \n",
       "8         31       other    31.650407    123    other   69.666667   \n",
       "9         36       other    27.565217     23    other   34.333333   \n",
       "10        32       other    35.578125    128    other   62.666667   \n",
       "11        55       other    33.271930    228    other  107.666667   \n",
       "12        14       other    30.314286    105    other   54.333333   \n",
       "13        22       other    26.629032     62    other   44.333333   \n",
       "14        30       other    21.384615     26    other   26.000000   \n",
       "15        20       other    31.661290    124    other   58.333333   \n",
       "16        24       other    26.527559    127    other   58.333333   \n",
       "17        85    pan-drug    36.480519    154    other   94.666667   \n",
       "18        30       other    23.851852     81    other   43.666667   \n",
       "19        28       other    32.444444    108    other   53.666667   \n",
       "20        19       other    29.676471     34    other   22.666667   \n",
       "\n",
       "    rank_score_avg  \n",
       "0        34.930915  \n",
       "1        38.074518  \n",
       "2        30.361662  \n",
       "3        29.708991  \n",
       "4        27.326984  \n",
       "5        36.248057  \n",
       "6        38.135732  \n",
       "7        33.102519  \n",
       "8        32.884055  \n",
       "9        28.543625  \n",
       "10       28.015625  \n",
       "11       32.983825  \n",
       "12       33.011688  \n",
       "13       29.969418  \n",
       "14       28.323155  \n",
       "15       32.504301  \n",
       "16       29.800853  \n",
       "17       33.750151  \n",
       "18       28.439506  \n",
       "19       31.690053  \n",
       "20       34.549467  "
      ]
     },
     "execution_count": 261,
     "metadata": {},
     "output_type": "execute_result"
    }
   ],
   "source": [
    "tmp"
   ]
  },
  {
   "cell_type": "code",
   "execution_count": 150,
   "metadata": {
    "ExecuteTime": {
     "end_time": "2020-06-14T14:07:56.491550Z",
     "start_time": "2020-06-14T14:07:56.486832Z"
    }
   },
   "outputs": [],
   "source": [
    "tmp['category_avg'] = tmp.apply(\n",
    "    lambda row: 'drug-specific' if (row[f'rank_score_avg'] >= 34 and row['count_avg'] < 50) \n",
    "    else 'pan-drug'\n",
    "    if row['count_avg'] > 150 else 'other', axis=1)"
   ]
  },
  {
   "cell_type": "code",
   "execution_count": 156,
   "metadata": {
    "ExecuteTime": {
     "end_time": "2020-06-14T14:09:33.214127Z",
     "start_time": "2020-06-14T14:09:33.005519Z"
    }
   },
   "outputs": [
    {
     "data": {
      "image/png": "[encoded data removed]",
      "text/plain": [
       "<Figure size 1152x720 with 1 Axes>"
      ]
     },
     "metadata": {
      "needs_background": "light"
     },
     "output_type": "display_data"
    }
   ],
   "source": [
    "fig = plt.figure(figsize=(16, 10))\n",
    "ax = sns.scatterplot(x='count_avg', y='rank_score_avg', hue='category_avg', data=tmp, s=100)\n",
    "plt.xlabel(\"Number of times in Top 50 proteins (max 289)\")\n",
    "plt.ylabel(\"Rank score (max 50)\")\n",
    "plt.title(\"Pan-drug vs Drug-specific important proteins\")\n",
    "handles, labels = ax.get_legend_handles_labels()\n",
    "labels[0] = 'category'\n",
    "ax.legend(handles, labels)\n",
    "\n",
    "\n",
    "plt.show()"
   ]
  },
  {
   "cell_type": "code",
   "execution_count": 152,
   "metadata": {
    "ExecuteTime": {
     "end_time": "2020-06-14T14:08:19.012819Z",
     "start_time": "2020-06-14T14:08:18.997635Z"
    }
   },
   "outputs": [
    {
     "data": {
      "text/html": [
       "<div>\n",
       "<style scoped>\n",
       "    .dataframe tbody tr th:only-of-type {\n",
       "        vertical-align: middle;\n",
       "    }\n",
       "\n",
       "    .dataframe tbody tr th {\n",
       "        vertical-align: top;\n",
       "    }\n",
       "\n",
       "    .dataframe thead th {\n",
       "        text-align: right;\n",
       "    }\n",
       "</style>\n",
       "<table border=\"1\" class=\"dataframe\">\n",
       "  <thead>\n",
       "    <tr style=\"text-align: right;\">\n",
       "      <th></th>\n",
       "      <th>protein</th>\n",
       "      <th>50-avg_rank_rf</th>\n",
       "      <th>count_rf</th>\n",
       "      <th>category_rf</th>\n",
       "      <th>50-avg_rank_en</th>\n",
       "      <th>count_en</th>\n",
       "      <th>category_en</th>\n",
       "      <th>50-avg_rank</th>\n",
       "      <th>count</th>\n",
       "      <th>category</th>\n",
       "      <th>count_avg</th>\n",
       "      <th>rank_score_avg</th>\n",
       "      <th>category_avg</th>\n",
       "    </tr>\n",
       "  </thead>\n",
       "  <tbody>\n",
       "    <tr>\n",
       "      <th>0</th>\n",
       "      <td>PLAK_HUMAN</td>\n",
       "      <td>36.625000</td>\n",
       "      <td>24</td>\n",
       "      <td>other</td>\n",
       "      <td>34.920000</td>\n",
       "      <td>25</td>\n",
       "      <td>other</td>\n",
       "      <td>31.200000</td>\n",
       "      <td>50</td>\n",
       "      <td>other</td>\n",
       "      <td>33.000000</td>\n",
       "      <td>34.248333</td>\n",
       "      <td>drug-specific</td>\n",
       "    </tr>\n",
       "    <tr>\n",
       "      <th>5</th>\n",
       "      <td>LMNA_HUMAN</td>\n",
       "      <td>39.730159</td>\n",
       "      <td>252</td>\n",
       "      <td>pan-drug</td>\n",
       "      <td>37.739837</td>\n",
       "      <td>123</td>\n",
       "      <td>pan-drug</td>\n",
       "      <td>23.562842</td>\n",
       "      <td>183</td>\n",
       "      <td>other</td>\n",
       "      <td>186.000000</td>\n",
       "      <td>33.677613</td>\n",
       "      <td>pan-drug</td>\n",
       "    </tr>\n",
       "    <tr>\n",
       "      <th>1</th>\n",
       "      <td>COF2_HUMAN</td>\n",
       "      <td>33.407407</td>\n",
       "      <td>27</td>\n",
       "      <td>other</td>\n",
       "      <td>32.378378</td>\n",
       "      <td>74</td>\n",
       "      <td>other</td>\n",
       "      <td>33.364903</td>\n",
       "      <td>359</td>\n",
       "      <td>pan-drug</td>\n",
       "      <td>153.333333</td>\n",
       "      <td>33.050229</td>\n",
       "      <td>pan-drug</td>\n",
       "    </tr>\n",
       "    <tr>\n",
       "      <th>3</th>\n",
       "      <td>PTMA_HUMAN</td>\n",
       "      <td>26.949153</td>\n",
       "      <td>59</td>\n",
       "      <td>other</td>\n",
       "      <td>35.016667</td>\n",
       "      <td>60</td>\n",
       "      <td>other</td>\n",
       "      <td>36.502564</td>\n",
       "      <td>390</td>\n",
       "      <td>pan-drug</td>\n",
       "      <td>169.666667</td>\n",
       "      <td>32.822794</td>\n",
       "      <td>pan-drug</td>\n",
       "    </tr>\n",
       "    <tr>\n",
       "      <th>6</th>\n",
       "      <td>VTNC_HUMAN</td>\n",
       "      <td>24.378378</td>\n",
       "      <td>37</td>\n",
       "      <td>other</td>\n",
       "      <td>37.237805</td>\n",
       "      <td>164</td>\n",
       "      <td>pan-drug</td>\n",
       "      <td>31.398577</td>\n",
       "      <td>281</td>\n",
       "      <td>other</td>\n",
       "      <td>160.666667</td>\n",
       "      <td>31.004920</td>\n",
       "      <td>pan-drug</td>\n",
       "    </tr>\n",
       "    <tr>\n",
       "      <th>8</th>\n",
       "      <td>GDIR2_HUMAN</td>\n",
       "      <td>27.640449</td>\n",
       "      <td>89</td>\n",
       "      <td>other</td>\n",
       "      <td>26.032258</td>\n",
       "      <td>31</td>\n",
       "      <td>other</td>\n",
       "      <td>34.653959</td>\n",
       "      <td>341</td>\n",
       "      <td>other</td>\n",
       "      <td>153.666667</td>\n",
       "      <td>29.442222</td>\n",
       "      <td>pan-drug</td>\n",
       "    </tr>\n",
       "  </tbody>\n",
       "</table>\n",
       "</div>"
      ],
      "text/plain": [
       "       protein  50-avg_rank_rf  count_rf category_rf  50-avg_rank_en  \\\n",
       "0   PLAK_HUMAN       36.625000        24       other       34.920000   \n",
       "5   LMNA_HUMAN       39.730159       252    pan-drug       37.739837   \n",
       "1   COF2_HUMAN       33.407407        27       other       32.378378   \n",
       "3   PTMA_HUMAN       26.949153        59       other       35.016667   \n",
       "6   VTNC_HUMAN       24.378378        37       other       37.237805   \n",
       "8  GDIR2_HUMAN       27.640449        89       other       26.032258   \n",
       "\n",
       "   count_en category_en  50-avg_rank  count  category   count_avg  \\\n",
       "0        25       other    31.200000     50     other   33.000000   \n",
       "5       123    pan-drug    23.562842    183     other  186.000000   \n",
       "1        74       other    33.364903    359  pan-drug  153.333333   \n",
       "3        60       other    36.502564    390  pan-drug  169.666667   \n",
       "6       164    pan-drug    31.398577    281     other  160.666667   \n",
       "8        31       other    34.653959    341     other  153.666667   \n",
       "\n",
       "   rank_score_avg   category_avg  \n",
       "0       34.248333  drug-specific  \n",
       "5       33.677613       pan-drug  \n",
       "1       33.050229       pan-drug  \n",
       "3       32.822794       pan-drug  \n",
       "6       31.004920       pan-drug  \n",
       "8       29.442222       pan-drug  "
      ]
     },
     "execution_count": 152,
     "metadata": {},
     "output_type": "execute_result"
    }
   ],
   "source": [
    "tmp[tmp['category_avg']!='other'].sort_values([f'rank_score_avg'], ascending=False)"
   ]
  },
  {
   "cell_type": "markdown",
   "metadata": {},
   "source": [
    "### drug-specific"
   ]
  },
  {
   "cell_type": "code",
   "execution_count": 153,
   "metadata": {
    "ExecuteTime": {
     "end_time": "2020-06-14T14:09:06.822023Z",
     "start_time": "2020-06-14T14:09:06.819017Z"
    }
   },
   "outputs": [],
   "source": [
    "PLAK_drugs = set(shap_dict_drug['PLAK_HUMAN']).intersection(\n",
    "    set(rf_dict_drug['PLAK_HUMAN'])).intersection(\n",
    "        set(en_dict_drug['PLAK_HUMAN']))"
   ]
  },
  {
   "cell_type": "code",
   "execution_count": 155,
   "metadata": {
    "ExecuteTime": {
     "end_time": "2020-06-14T14:09:13.711886Z",
     "start_time": "2020-06-14T14:09:13.708877Z"
    }
   },
   "outputs": [
    {
     "name": "stdout",
     "output_type": "stream",
     "text": [
      "Afatinib\n",
      "Poziotinib\n",
      "EGF816\n",
      "PF-06747775\n",
      "Ibrutinib\n",
      "AZD8931\n",
      "Sapatinib\n",
      "Erlotinib\n",
      "Gefitinib\n",
      "Lapatinib\n"
     ]
    }
   ],
   "source": [
    "for drug in PLAK_drugs:\n",
    "    print(drug_name_map[drug])"
   ]
  },
  {
   "cell_type": "markdown",
   "metadata": {},
   "source": [
    "## specific drugs"
   ]
  },
  {
   "cell_type": "code",
   "execution_count": 327,
   "metadata": {
    "ExecuteTime": {
     "end_time": "2020-06-16T02:27:32.989646Z",
     "start_time": "2020-06-16T02:27:32.217724Z"
    }
   },
   "outputs": [],
   "source": [
    "name_map = pd.read_csv(\"../../data/misc/HUMAN_9606_idmapping.gene_prot.dat\",\n",
    "                       sep='\\t',\n",
    "                       names=['ID', 'type', 'code'])\n",
    "name_map = name_map.drop_duplicates(['ID', 'type'])\n",
    "name_map = pd.pivot(name_map, index='ID', columns='type', values='code').dropna()\n",
    "\n",
    "name_map_dict = dict(zip(name_map['UniProtKB-ID'].values, name_map['Gene_Name'].values))"
   ]
  },
  {
   "cell_type": "code",
   "execution_count": 307,
   "metadata": {
    "ExecuteTime": {
     "end_time": "2020-06-16T01:44:15.485983Z",
     "start_time": "2020-06-16T01:44:15.483684Z"
    }
   },
   "outputs": [],
   "source": [
    "drug_id = 1029"
   ]
  },
  {
   "cell_type": "code",
   "execution_count": 321,
   "metadata": {
    "ExecuteTime": {
     "end_time": "2020-06-16T02:25:41.658481Z",
     "start_time": "2020-06-16T02:25:41.656103Z"
    }
   },
   "outputs": [],
   "source": [
    "topN = 50\n",
    "top_proteins = []"
   ]
  },
  {
   "cell_type": "code",
   "execution_count": 324,
   "metadata": {
    "ExecuteTime": {
     "end_time": "2020-06-16T02:26:00.806971Z",
     "start_time": "2020-06-16T02:26:00.798360Z"
    }
   },
   "outputs": [],
   "source": [
    "df_en_drug = df_en[['protein',\n",
    "                    f'importance_{drug_id}']].set_index('protein').sort_values(\n",
    "                        by=f'importance_{drug_id}', ascending=False)\n",
    "df_en_drug['abs'] = df_en_drug[f'importance_{drug_id}'].abs()\n",
    "df_en_drug = df_en_drug.sort_values(by=['abs'], ascending=False).reset_index()\n",
    "top_proteins.extend(df_en_drug['protein'].values[:topN])"
   ]
  },
  {
   "cell_type": "code",
   "execution_count": 331,
   "metadata": {
    "ExecuteTime": {
     "end_time": "2020-06-16T02:46:44.222020Z",
     "start_time": "2020-06-16T02:46:44.212955Z"
    }
   },
   "outputs": [
    {
     "data": {
      "text/html": [
       "<div>\n",
       "<style scoped>\n",
       "    .dataframe tbody tr th:only-of-type {\n",
       "        vertical-align: middle;\n",
       "    }\n",
       "\n",
       "    .dataframe tbody tr th {\n",
       "        vertical-align: top;\n",
       "    }\n",
       "\n",
       "    .dataframe thead th {\n",
       "        text-align: right;\n",
       "    }\n",
       "</style>\n",
       "<table border=\"1\" class=\"dataframe\">\n",
       "  <thead>\n",
       "    <tr style=\"text-align: right;\">\n",
       "      <th></th>\n",
       "      <th>protein</th>\n",
       "      <th>importance_1029</th>\n",
       "      <th>abs</th>\n",
       "    </tr>\n",
       "  </thead>\n",
       "  <tbody>\n",
       "    <tr>\n",
       "      <th>0</th>\n",
       "      <td>HMGN2_HUMAN</td>\n",
       "      <td>-0.136216</td>\n",
       "      <td>0.136216</td>\n",
       "    </tr>\n",
       "    <tr>\n",
       "      <th>1</th>\n",
       "      <td>PTMA_HUMAN</td>\n",
       "      <td>-0.120811</td>\n",
       "      <td>0.120811</td>\n",
       "    </tr>\n",
       "    <tr>\n",
       "      <th>2</th>\n",
       "      <td>VPS45_HUMAN</td>\n",
       "      <td>0.082640</td>\n",
       "      <td>0.082640</td>\n",
       "    </tr>\n",
       "    <tr>\n",
       "      <th>3</th>\n",
       "      <td>XRP2_HUMAN</td>\n",
       "      <td>0.077753</td>\n",
       "      <td>0.077753</td>\n",
       "    </tr>\n",
       "    <tr>\n",
       "      <th>4</th>\n",
       "      <td>HYPK_HUMAN</td>\n",
       "      <td>-0.076531</td>\n",
       "      <td>0.076531</td>\n",
       "    </tr>\n",
       "    <tr>\n",
       "      <th>5</th>\n",
       "      <td>RS15_HUMAN</td>\n",
       "      <td>-0.074425</td>\n",
       "      <td>0.074425</td>\n",
       "    </tr>\n",
       "    <tr>\n",
       "      <th>6</th>\n",
       "      <td>ZN622_HUMAN</td>\n",
       "      <td>0.071025</td>\n",
       "      <td>0.071025</td>\n",
       "    </tr>\n",
       "    <tr>\n",
       "      <th>7</th>\n",
       "      <td>PDCD6_HUMAN</td>\n",
       "      <td>0.070992</td>\n",
       "      <td>0.070992</td>\n",
       "    </tr>\n",
       "    <tr>\n",
       "      <th>8</th>\n",
       "      <td>BAF_HUMAN</td>\n",
       "      <td>0.069362</td>\n",
       "      <td>0.069362</td>\n",
       "    </tr>\n",
       "    <tr>\n",
       "      <th>9</th>\n",
       "      <td>RU2B_HUMAN</td>\n",
       "      <td>-0.067873</td>\n",
       "      <td>0.067873</td>\n",
       "    </tr>\n",
       "  </tbody>\n",
       "</table>\n",
       "</div>"
      ],
      "text/plain": [
       "       protein  importance_1029       abs\n",
       "0  HMGN2_HUMAN        -0.136216  0.136216\n",
       "1   PTMA_HUMAN        -0.120811  0.120811\n",
       "2  VPS45_HUMAN         0.082640  0.082640\n",
       "3   XRP2_HUMAN         0.077753  0.077753\n",
       "4   HYPK_HUMAN        -0.076531  0.076531\n",
       "5   RS15_HUMAN        -0.074425  0.074425\n",
       "6  ZN622_HUMAN         0.071025  0.071025\n",
       "7  PDCD6_HUMAN         0.070992  0.070992\n",
       "8    BAF_HUMAN         0.069362  0.069362\n",
       "9   RU2B_HUMAN        -0.067873  0.067873"
      ]
     },
     "execution_count": 331,
     "metadata": {},
     "output_type": "execute_result"
    }
   ],
   "source": [
    "df_en_drug.head(10)"
   ]
  },
  {
   "cell_type": "code",
   "execution_count": 325,
   "metadata": {
    "ExecuteTime": {
     "end_time": "2020-06-16T02:26:04.183621Z",
     "start_time": "2020-06-16T02:26:04.174897Z"
    }
   },
   "outputs": [],
   "source": [
    "df_rf_drug = df_rf[['protein',\n",
    "                    f'importance_{drug_id}']].set_index('protein').sort_values(\n",
    "                        by=f'importance_{drug_id}', ascending=False)\n",
    "df_rf_drug['abs'] = df_rf_drug[f'importance_{drug_id}'].abs()\n",
    "df_rf_drug = df_rf_drug.sort_values(by=['abs'], ascending=False).reset_index()\n",
    "top_proteins.extend(df_rf_drug['protein'].values[:topN])"
   ]
  },
  {
   "cell_type": "code",
   "execution_count": 332,
   "metadata": {
    "ExecuteTime": {
     "end_time": "2020-06-16T02:46:50.301115Z",
     "start_time": "2020-06-16T02:46:50.292903Z"
    }
   },
   "outputs": [
    {
     "data": {
      "text/html": [
       "<div>\n",
       "<style scoped>\n",
       "    .dataframe tbody tr th:only-of-type {\n",
       "        vertical-align: middle;\n",
       "    }\n",
       "\n",
       "    .dataframe tbody tr th {\n",
       "        vertical-align: top;\n",
       "    }\n",
       "\n",
       "    .dataframe thead th {\n",
       "        text-align: right;\n",
       "    }\n",
       "</style>\n",
       "<table border=\"1\" class=\"dataframe\">\n",
       "  <thead>\n",
       "    <tr style=\"text-align: right;\">\n",
       "      <th></th>\n",
       "      <th>protein</th>\n",
       "      <th>importance_1029</th>\n",
       "      <th>abs</th>\n",
       "    </tr>\n",
       "  </thead>\n",
       "  <tbody>\n",
       "    <tr>\n",
       "      <th>0</th>\n",
       "      <td>RU2B_HUMAN</td>\n",
       "      <td>0.009782</td>\n",
       "      <td>0.009782</td>\n",
       "    </tr>\n",
       "    <tr>\n",
       "      <th>1</th>\n",
       "      <td>SF3A2_HUMAN</td>\n",
       "      <td>0.009297</td>\n",
       "      <td>0.009297</td>\n",
       "    </tr>\n",
       "    <tr>\n",
       "      <th>2</th>\n",
       "      <td>RBM8A_HUMAN</td>\n",
       "      <td>0.008930</td>\n",
       "      <td>0.008930</td>\n",
       "    </tr>\n",
       "    <tr>\n",
       "      <th>3</th>\n",
       "      <td>HMGN2_HUMAN</td>\n",
       "      <td>0.004492</td>\n",
       "      <td>0.004492</td>\n",
       "    </tr>\n",
       "    <tr>\n",
       "      <th>4</th>\n",
       "      <td>BAF_HUMAN</td>\n",
       "      <td>0.003902</td>\n",
       "      <td>0.003902</td>\n",
       "    </tr>\n",
       "    <tr>\n",
       "      <th>5</th>\n",
       "      <td>RABL3_HUMAN</td>\n",
       "      <td>0.003770</td>\n",
       "      <td>0.003770</td>\n",
       "    </tr>\n",
       "    <tr>\n",
       "      <th>6</th>\n",
       "      <td>SNRPA_HUMAN</td>\n",
       "      <td>0.003519</td>\n",
       "      <td>0.003519</td>\n",
       "    </tr>\n",
       "    <tr>\n",
       "      <th>7</th>\n",
       "      <td>YBOX1_HUMAN</td>\n",
       "      <td>0.003370</td>\n",
       "      <td>0.003370</td>\n",
       "    </tr>\n",
       "    <tr>\n",
       "      <th>8</th>\n",
       "      <td>PDCD6_HUMAN</td>\n",
       "      <td>0.003232</td>\n",
       "      <td>0.003232</td>\n",
       "    </tr>\n",
       "    <tr>\n",
       "      <th>9</th>\n",
       "      <td>UBL5_HUMAN</td>\n",
       "      <td>0.003074</td>\n",
       "      <td>0.003074</td>\n",
       "    </tr>\n",
       "  </tbody>\n",
       "</table>\n",
       "</div>"
      ],
      "text/plain": [
       "       protein  importance_1029       abs\n",
       "0   RU2B_HUMAN         0.009782  0.009782\n",
       "1  SF3A2_HUMAN         0.009297  0.009297\n",
       "2  RBM8A_HUMAN         0.008930  0.008930\n",
       "3  HMGN2_HUMAN         0.004492  0.004492\n",
       "4    BAF_HUMAN         0.003902  0.003902\n",
       "5  RABL3_HUMAN         0.003770  0.003770\n",
       "6  SNRPA_HUMAN         0.003519  0.003519\n",
       "7  YBOX1_HUMAN         0.003370  0.003370\n",
       "8  PDCD6_HUMAN         0.003232  0.003232\n",
       "9   UBL5_HUMAN         0.003074  0.003074"
      ]
     },
     "execution_count": 332,
     "metadata": {},
     "output_type": "execute_result"
    }
   ],
   "source": [
    "df_rf_drug.head(10)"
   ]
  },
  {
   "cell_type": "code",
   "execution_count": 328,
   "metadata": {
    "ExecuteTime": {
     "end_time": "2020-06-16T02:27:52.219720Z",
     "start_time": "2020-06-16T02:27:52.214751Z"
    }
   },
   "outputs": [
    {
     "name": "stdout",
     "output_type": "stream",
     "text": [
      "PRCP\n",
      "TPT1\n",
      "RP2\n",
      "ZNF622\n",
      "MATR3\n",
      "SSR3\n",
      "UQCC2\n",
      "KPNA4\n",
      "NDUFS6\n",
      "SCCPDH\n",
      "HMGN1\n",
      "SGPL1\n",
      "LCP1\n",
      "CSTF2T\n",
      "RTN4\n",
      "GDI2\n",
      "ISCA2\n",
      "CLNS1A\n",
      "LARP7\n",
      "HSPE1\n",
      "CDC42BPB\n",
      "CBX3\n",
      "HNRNPM\n",
      "NUP88\n",
      "SNRPA\n",
      "SF3A2\n",
      "DMAC2L\n",
      "HMGB2\n",
      "GM2A\n",
      "CENPB\n",
      "RAB1A\n",
      "PTRH2\n",
      "ABCE1\n",
      "DAP3\n",
      "APBB1IP\n",
      "PSMA5\n",
      "IFI35\n",
      "RFC3\n",
      "MRM1\n",
      "TRIM29\n",
      "HMGN2\n",
      "SNRPB2\n",
      "KRT2\n",
      "PAIP1\n",
      "KPNA6\n",
      "RBMX\n",
      "HYPK\n",
      "ANXA1\n",
      "SNAP23\n",
      "RBM8A\n",
      "GNL3L\n",
      "TMEM165\n",
      "ANKHD1\n",
      "PRPS1\n",
      "STRN\n",
      "VPS45\n",
      "CEP170\n",
      "BANF1\n",
      "EIF3H\n",
      "GNAO1\n",
      "RABL3\n",
      "GTF2B\n",
      "CLCN7\n",
      "CLPX\n",
      "CPSF1\n",
      "PDCD6\n",
      "ELAC2\n",
      "YME1L1\n",
      "NFYB\n",
      "YBX1\n",
      "ZNF512\n",
      "KHSRP\n",
      "TEX264\n",
      "CXorf56\n",
      "PSAT1\n",
      "RAP2B\n",
      "CHRAC1\n",
      "UBL5\n",
      "RPS15\n",
      "SYNCRIP\n",
      "RBM3\n",
      "RPS27A\n",
      "NUDT5\n",
      "SRSF5\n",
      "PTMA\n"
     ]
    }
   ],
   "source": [
    "top_proteins = set(top_proteins)\n",
    "for x in top_proteins:\n",
    "    print(name_map_dict[x] if x in name_map_dict else '')"
   ]
  },
  {
   "cell_type": "code",
   "execution_count": null,
   "metadata": {},
   "outputs": [],
   "source": []
  }
 ],
 "metadata": {
  "kernelspec": {
   "display_name": "Python 3",
   "language": "python",
   "name": "python3"
  },
  "language_info": {
   "codemirror_mode": {
    "name": "ipython",
    "version": 3
   },
   "file_extension": ".py",
   "mimetype": "text/x-python",
   "name": "python",
   "nbconvert_exporter": "python",
   "pygments_lexer": "ipython3",
   "version": "3.8.2"
  },
  "toc": {
   "base_numbering": 1,
   "nav_menu": {},
   "number_sections": true,
   "sideBar": true,
   "skip_h1_title": false,
   "title_cell": "Table of Contents",
   "title_sidebar": "Contents",
   "toc_cell": false,
   "toc_position": {
    "height": "calc(100% - 180px)",
    "left": "10px",
    "top": "150px",
    "width": "434.188px"
   },
   "toc_section_display": true,
   "toc_window_display": true
  }
 },
 "nbformat": 4,
 "nbformat_minor": 2
}
