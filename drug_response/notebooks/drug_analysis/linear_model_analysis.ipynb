{
 "cells": [
  {
   "cell_type": "code",
   "execution_count": 1,
   "metadata": {
    "ExecuteTime": {
     "end_time": "2020-09-20T06:10:32.382248Z",
     "start_time": "2020-09-20T06:10:30.583343Z"
    }
   },
   "outputs": [],
   "source": [
    "import pandas as pd\n",
    "import numpy as np\n",
    "import seaborn as sns\n",
    "import matplotlib.pyplot as plt\n",
    "from scipy.stats import ttest_ind\n",
    "from sklearn.metrics import r2_score\n",
    "from scipy.stats import pearsonr, spearmanr\n",
    "import plotly.express as px\n",
    "import plotly.graph_objects as go\n",
    "import matplotlib.patches as mpatches\n",
    "from scipy.stats import ttest_ind, ttest_1samp, ttest_rel\n",
    "import matplotlib as mpl\n",
    "import qgrid\n",
    "import pickle"
   ]
  },
  {
   "cell_type": "code",
   "execution_count": 2,
   "metadata": {
    "ExecuteTime": {
     "end_time": "2020-09-20T06:10:32.761949Z",
     "start_time": "2020-09-20T06:10:32.758095Z"
    }
   },
   "outputs": [],
   "source": [
    "# mpl.rcParams['font.family'] = 'Avenir'\n",
    "plt.rc('font', family='Helvetica')\n",
    "plt.rcParams['font.size'] = 18\n",
    "plt.rcParams['axes.linewidth'] = 2\n",
    "plt.rcParams['figure.figsize'] = (10.0, 7.0)\n",
    "plt.rcParams['pdf.fonttype'] = 42\n",
    "plt.rcParams['ps.fonttype'] = 42\n",
    "sns.set_palette(\"Dark2\")"
   ]
  },
  {
   "cell_type": "code",
   "execution_count": 3,
   "metadata": {
    "ExecuteTime": {
     "end_time": "2020-09-20T06:10:32.960476Z",
     "start_time": "2020-09-20T06:10:32.938934Z"
    }
   },
   "outputs": [],
   "source": [
    "drug_score = pd.read_csv(\"../../data/drug/final_drug_scores_eg_id.tsv\", sep=\"\\t\")\n",
    "drug_list = drug_score[\n",
    "    (drug_score['MultiDrug_correlation'] > 0.4) & (drug_score['sensitive_count'] > 20)][\n",
    "    'drug_id'].values\n",
    "drug_list_sensitive = drug_score[(drug_score['sensitive_count'] > 20)][\n",
    "    'drug_id'].values"
   ]
  },
  {
   "cell_type": "code",
   "execution_count": 4,
   "metadata": {
    "ExecuteTime": {
     "end_time": "2020-09-20T06:10:33.109793Z",
     "start_time": "2020-09-20T06:10:33.103757Z"
    }
   },
   "outputs": [],
   "source": [
    "colour_list = pd.read_csv('../../data/colour_list.txt',header=None)[0].tolist()"
   ]
  },
  {
   "cell_type": "markdown",
   "metadata": {},
   "source": [
    "# overall"
   ]
  },
  {
   "cell_type": "code",
   "execution_count": 8,
   "metadata": {
    "ExecuteTime": {
     "end_time": "2020-09-20T09:18:41.943086Z",
     "start_time": "2020-09-20T09:18:35.222201Z"
    }
   },
   "outputs": [],
   "source": [
    "lm_res = pd.read_csv(\"../../result_files/lm/lm_sklearn_degr_drug_annotated.csv.gz\")\n",
    "lm_res = lm_res[lm_res['fdr']<0.1].sort_values(by=['fdr']).reset_index(drop=True)"
   ]
  },
  {
   "cell_type": "code",
   "execution_count": 12,
   "metadata": {
    "ExecuteTime": {
     "end_time": "2020-09-20T09:20:18.021843Z",
     "start_time": "2020-09-20T09:20:18.010212Z"
    }
   },
   "outputs": [],
   "source": []
  },
  {
   "cell_type": "markdown",
   "metadata": {
    "heading_collapsed": true
   },
   "source": [
    "## PPI"
   ]
  },
  {
   "cell_type": "code",
   "execution_count": 16,
   "metadata": {
    "ExecuteTime": {
     "end_time": "2020-09-15T04:49:05.036904Z",
     "start_time": "2020-09-15T04:49:04.973902Z"
    },
    "hidden": true
   },
   "outputs": [],
   "source": [
    "df = {'Top N':[],'T':[], '1':[],'2':[],'3':[],'4':[],'5+':[],'-':[]}\n",
    "for i in [10, 50, 100, 500, 1000,5000]:\n",
    "    tmp = lm_res.dropna(subset=['ppi']).head(i).groupby('ppi').size() / i\n",
    "    tmp_n = 0\n",
    "    df['Top N'].append(i)\n",
    "    for k in df.keys():\n",
    "        if k == 'Top N':\n",
    "            continue\n",
    "        if k in tmp:\n",
    "            df[k].append(tmp[k] + tmp_n)\n",
    "            tmp_n += tmp[k]\n",
    "        else:\n",
    "            df[k].append(0+tmp_n)\n",
    "df = pd.DataFrame(df)"
   ]
  },
  {
   "cell_type": "code",
   "execution_count": 17,
   "metadata": {
    "ExecuteTime": {
     "end_time": "2020-09-15T04:49:05.168713Z",
     "start_time": "2020-09-15T04:49:05.163672Z"
    },
    "hidden": true
   },
   "outputs": [],
   "source": [
    "df_long = pd.melt(df, id_vars=['Top N'], value_name='percentage', var_name='PPI distance')"
   ]
  },
  {
   "cell_type": "code",
   "execution_count": 18,
   "metadata": {
    "ExecuteTime": {
     "end_time": "2020-09-15T04:49:06.203405Z",
     "start_time": "2020-09-15T04:49:05.914937Z"
    },
    "hidden": true
   },
   "outputs": [
    {
     "data": {
      "image/png": "[encoded data removed]",
      "text/plain": [
       "<Figure size 720x504 with 1 Axes>"
      ]
     },
     "metadata": {
      "needs_background": "light"
     },
     "output_type": "display_data"
    }
   ],
   "source": [
    "g1 = sns.barplot(x='Top N',y='percentage', data=df_long[df_long['PPI distance']=='T'],linewidth=1.5,\n",
    "                   edgecolor='black',\n",
    "                   color=colour_list[0], zorder=10)\n",
    "g2 = sns.barplot(x='Top N',y='percentage', data=df_long[df_long['PPI distance']=='1'],linewidth=1.5,\n",
    "                   edgecolor='black',\n",
    "                   color=colour_list[1], zorder=9)\n",
    "g3 = sns.barplot(x='Top N',y='percentage', data=df_long[df_long['PPI distance']=='2'],linewidth=1.5,\n",
    "                   edgecolor='black',\n",
    "                   color=colour_list[2], zorder=8)\n",
    "g4 = sns.barplot(x='Top N',y='percentage', data=df_long[df_long['PPI distance']=='3'],linewidth=1.5,\n",
    "                   edgecolor='black',\n",
    "                   color=colour_list[3], zorder=7)\n",
    "g5 = sns.barplot(x='Top N',y='percentage', data=df_long[df_long['PPI distance']=='4'],linewidth=1.5,\n",
    "                   edgecolor='black',\n",
    "                   color=colour_list[4], zorder=6)\n",
    "g6 = sns.barplot(x='Top N',y='percentage', data=df_long[df_long['PPI distance']=='5+'],linewidth=1.5,\n",
    "                   edgecolor='black',\n",
    "                   color=colour_list[5], zorder=5)\n",
    "g7 = sns.barplot(x='Top N',y='percentage', data=df_long[df_long['PPI distance']=='-'],linewidth=1.5,\n",
    "                   edgecolor='black',\n",
    "                   color=colour_list[6], zorder=4)\n",
    "plt.title(\"Percentage of PPI distance - Drug\")\n",
    "plt.xlabel(\"Top N Drug~protein associations\")\n",
    "\n",
    "g1_patch = mpatches.Patch(facecolor=colour_list[0], label='T', edgecolor='black',linewidth=1.5)\n",
    "g2_patch = mpatches.Patch(facecolor=colour_list[1], label='1', edgecolor='black',linewidth=1.5)\n",
    "g3_patch = mpatches.Patch(facecolor=colour_list[2], label='2', edgecolor='black',linewidth=1.5)\n",
    "g4_patch = mpatches.Patch(facecolor=colour_list[3], label='3', edgecolor='black',linewidth=1.5)\n",
    "g5_patch = mpatches.Patch(facecolor=colour_list[4], label='4', edgecolor='black',linewidth=1.5)\n",
    "g6_patch = mpatches.Patch(facecolor=colour_list[5], label='5+', edgecolor='black',linewidth=1.5)\n",
    "g7_patch = mpatches.Patch(facecolor=colour_list[6], label='-', edgecolor='black',linewidth=1.5)\n",
    "\n",
    "\n",
    "plt.legend(handles=[g1_patch, g2_patch, g3_patch,g4_patch,g5_patch,g6_patch,g7_patch],bbox_to_anchor=(1.02, 1),\n",
    "               loc=2,\n",
    "               borderaxespad=0.,\n",
    "               prop={'size': 14})\n",
    "plt.tight_layout()\n",
    "# plt.savefig(\"../../plots/drug/top_associations_by_PPI.pdf\", dpi=500)"
   ]
  },
  {
   "cell_type": "code",
   "execution_count": 19,
   "metadata": {
    "ExecuteTime": {
     "end_time": "2020-09-15T04:49:13.839820Z",
     "start_time": "2020-09-15T04:49:13.829272Z"
    },
    "hidden": true
   },
   "outputs": [
    {
     "data": {
      "text/html": [
       "<div>\n",
       "<style scoped>\n",
       "    .dataframe tbody tr th:only-of-type {\n",
       "        vertical-align: middle;\n",
       "    }\n",
       "\n",
       "    .dataframe tbody tr th {\n",
       "        vertical-align: top;\n",
       "    }\n",
       "\n",
       "    .dataframe thead th {\n",
       "        text-align: right;\n",
       "    }\n",
       "</style>\n",
       "<table border=\"1\" class=\"dataframe\">\n",
       "  <thead>\n",
       "    <tr style=\"text-align: right;\">\n",
       "      <th></th>\n",
       "      <th>Top N</th>\n",
       "      <th>PPI distance</th>\n",
       "      <th>percentage</th>\n",
       "    </tr>\n",
       "  </thead>\n",
       "  <tbody>\n",
       "    <tr>\n",
       "      <th>0</th>\n",
       "      <td>10</td>\n",
       "      <td>T</td>\n",
       "      <td>0.0000</td>\n",
       "    </tr>\n",
       "    <tr>\n",
       "      <th>1</th>\n",
       "      <td>50</td>\n",
       "      <td>T</td>\n",
       "      <td>0.0400</td>\n",
       "    </tr>\n",
       "    <tr>\n",
       "      <th>2</th>\n",
       "      <td>100</td>\n",
       "      <td>T</td>\n",
       "      <td>0.0300</td>\n",
       "    </tr>\n",
       "    <tr>\n",
       "      <th>3</th>\n",
       "      <td>500</td>\n",
       "      <td>T</td>\n",
       "      <td>0.0060</td>\n",
       "    </tr>\n",
       "    <tr>\n",
       "      <th>4</th>\n",
       "      <td>1000</td>\n",
       "      <td>T</td>\n",
       "      <td>0.0040</td>\n",
       "    </tr>\n",
       "    <tr>\n",
       "      <th>5</th>\n",
       "      <td>5000</td>\n",
       "      <td>T</td>\n",
       "      <td>0.0010</td>\n",
       "    </tr>\n",
       "    <tr>\n",
       "      <th>6</th>\n",
       "      <td>10</td>\n",
       "      <td>1</td>\n",
       "      <td>0.1000</td>\n",
       "    </tr>\n",
       "    <tr>\n",
       "      <th>7</th>\n",
       "      <td>50</td>\n",
       "      <td>1</td>\n",
       "      <td>0.0800</td>\n",
       "    </tr>\n",
       "    <tr>\n",
       "      <th>8</th>\n",
       "      <td>100</td>\n",
       "      <td>1</td>\n",
       "      <td>0.0600</td>\n",
       "    </tr>\n",
       "    <tr>\n",
       "      <th>9</th>\n",
       "      <td>500</td>\n",
       "      <td>1</td>\n",
       "      <td>0.0120</td>\n",
       "    </tr>\n",
       "    <tr>\n",
       "      <th>10</th>\n",
       "      <td>1000</td>\n",
       "      <td>1</td>\n",
       "      <td>0.0100</td>\n",
       "    </tr>\n",
       "    <tr>\n",
       "      <th>11</th>\n",
       "      <td>5000</td>\n",
       "      <td>1</td>\n",
       "      <td>0.0056</td>\n",
       "    </tr>\n",
       "    <tr>\n",
       "      <th>12</th>\n",
       "      <td>10</td>\n",
       "      <td>2</td>\n",
       "      <td>0.2000</td>\n",
       "    </tr>\n",
       "    <tr>\n",
       "      <th>13</th>\n",
       "      <td>50</td>\n",
       "      <td>2</td>\n",
       "      <td>0.2000</td>\n",
       "    </tr>\n",
       "    <tr>\n",
       "      <th>14</th>\n",
       "      <td>100</td>\n",
       "      <td>2</td>\n",
       "      <td>0.1500</td>\n",
       "    </tr>\n",
       "    <tr>\n",
       "      <th>15</th>\n",
       "      <td>500</td>\n",
       "      <td>2</td>\n",
       "      <td>0.1080</td>\n",
       "    </tr>\n",
       "    <tr>\n",
       "      <th>16</th>\n",
       "      <td>1000</td>\n",
       "      <td>2</td>\n",
       "      <td>0.1160</td>\n",
       "    </tr>\n",
       "    <tr>\n",
       "      <th>17</th>\n",
       "      <td>5000</td>\n",
       "      <td>2</td>\n",
       "      <td>0.1158</td>\n",
       "    </tr>\n",
       "    <tr>\n",
       "      <th>18</th>\n",
       "      <td>10</td>\n",
       "      <td>3</td>\n",
       "      <td>0.6000</td>\n",
       "    </tr>\n",
       "    <tr>\n",
       "      <th>19</th>\n",
       "      <td>50</td>\n",
       "      <td>3</td>\n",
       "      <td>0.4600</td>\n",
       "    </tr>\n",
       "    <tr>\n",
       "      <th>20</th>\n",
       "      <td>100</td>\n",
       "      <td>3</td>\n",
       "      <td>0.4100</td>\n",
       "    </tr>\n",
       "    <tr>\n",
       "      <th>21</th>\n",
       "      <td>500</td>\n",
       "      <td>3</td>\n",
       "      <td>0.3560</td>\n",
       "    </tr>\n",
       "    <tr>\n",
       "      <th>22</th>\n",
       "      <td>1000</td>\n",
       "      <td>3</td>\n",
       "      <td>0.3440</td>\n",
       "    </tr>\n",
       "    <tr>\n",
       "      <th>23</th>\n",
       "      <td>5000</td>\n",
       "      <td>3</td>\n",
       "      <td>0.3208</td>\n",
       "    </tr>\n",
       "    <tr>\n",
       "      <th>24</th>\n",
       "      <td>10</td>\n",
       "      <td>4</td>\n",
       "      <td>0.9000</td>\n",
       "    </tr>\n",
       "    <tr>\n",
       "      <th>25</th>\n",
       "      <td>50</td>\n",
       "      <td>4</td>\n",
       "      <td>0.6600</td>\n",
       "    </tr>\n",
       "    <tr>\n",
       "      <th>26</th>\n",
       "      <td>100</td>\n",
       "      <td>4</td>\n",
       "      <td>0.5700</td>\n",
       "    </tr>\n",
       "    <tr>\n",
       "      <th>27</th>\n",
       "      <td>500</td>\n",
       "      <td>4</td>\n",
       "      <td>0.4600</td>\n",
       "    </tr>\n",
       "    <tr>\n",
       "      <th>28</th>\n",
       "      <td>1000</td>\n",
       "      <td>4</td>\n",
       "      <td>0.4320</td>\n",
       "    </tr>\n",
       "    <tr>\n",
       "      <th>29</th>\n",
       "      <td>5000</td>\n",
       "      <td>4</td>\n",
       "      <td>0.4100</td>\n",
       "    </tr>\n",
       "    <tr>\n",
       "      <th>30</th>\n",
       "      <td>10</td>\n",
       "      <td>5+</td>\n",
       "      <td>0.9000</td>\n",
       "    </tr>\n",
       "    <tr>\n",
       "      <th>31</th>\n",
       "      <td>50</td>\n",
       "      <td>5+</td>\n",
       "      <td>0.6600</td>\n",
       "    </tr>\n",
       "    <tr>\n",
       "      <th>32</th>\n",
       "      <td>100</td>\n",
       "      <td>5+</td>\n",
       "      <td>0.5700</td>\n",
       "    </tr>\n",
       "    <tr>\n",
       "      <th>33</th>\n",
       "      <td>500</td>\n",
       "      <td>5+</td>\n",
       "      <td>0.4720</td>\n",
       "    </tr>\n",
       "    <tr>\n",
       "      <th>34</th>\n",
       "      <td>1000</td>\n",
       "      <td>5+</td>\n",
       "      <td>0.4490</td>\n",
       "    </tr>\n",
       "    <tr>\n",
       "      <th>35</th>\n",
       "      <td>5000</td>\n",
       "      <td>5+</td>\n",
       "      <td>0.4286</td>\n",
       "    </tr>\n",
       "    <tr>\n",
       "      <th>36</th>\n",
       "      <td>10</td>\n",
       "      <td>-</td>\n",
       "      <td>1.0000</td>\n",
       "    </tr>\n",
       "    <tr>\n",
       "      <th>37</th>\n",
       "      <td>50</td>\n",
       "      <td>-</td>\n",
       "      <td>1.0000</td>\n",
       "    </tr>\n",
       "    <tr>\n",
       "      <th>38</th>\n",
       "      <td>100</td>\n",
       "      <td>-</td>\n",
       "      <td>1.0000</td>\n",
       "    </tr>\n",
       "    <tr>\n",
       "      <th>39</th>\n",
       "      <td>500</td>\n",
       "      <td>-</td>\n",
       "      <td>1.0000</td>\n",
       "    </tr>\n",
       "    <tr>\n",
       "      <th>40</th>\n",
       "      <td>1000</td>\n",
       "      <td>-</td>\n",
       "      <td>1.0000</td>\n",
       "    </tr>\n",
       "    <tr>\n",
       "      <th>41</th>\n",
       "      <td>5000</td>\n",
       "      <td>-</td>\n",
       "      <td>1.0000</td>\n",
       "    </tr>\n",
       "  </tbody>\n",
       "</table>\n",
       "</div>"
      ],
      "text/plain": [
       "    Top N PPI distance  percentage\n",
       "0      10            T      0.0000\n",
       "1      50            T      0.0400\n",
       "2     100            T      0.0300\n",
       "3     500            T      0.0060\n",
       "4    1000            T      0.0040\n",
       "5    5000            T      0.0010\n",
       "6      10            1      0.1000\n",
       "7      50            1      0.0800\n",
       "8     100            1      0.0600\n",
       "9     500            1      0.0120\n",
       "10   1000            1      0.0100\n",
       "11   5000            1      0.0056\n",
       "12     10            2      0.2000\n",
       "13     50            2      0.2000\n",
       "14    100            2      0.1500\n",
       "15    500            2      0.1080\n",
       "16   1000            2      0.1160\n",
       "17   5000            2      0.1158\n",
       "18     10            3      0.6000\n",
       "19     50            3      0.4600\n",
       "20    100            3      0.4100\n",
       "21    500            3      0.3560\n",
       "22   1000            3      0.3440\n",
       "23   5000            3      0.3208\n",
       "24     10            4      0.9000\n",
       "25     50            4      0.6600\n",
       "26    100            4      0.5700\n",
       "27    500            4      0.4600\n",
       "28   1000            4      0.4320\n",
       "29   5000            4      0.4100\n",
       "30     10           5+      0.9000\n",
       "31     50           5+      0.6600\n",
       "32    100           5+      0.5700\n",
       "33    500           5+      0.4720\n",
       "34   1000           5+      0.4490\n",
       "35   5000           5+      0.4286\n",
       "36     10            -      1.0000\n",
       "37     50            -      1.0000\n",
       "38    100            -      1.0000\n",
       "39    500            -      1.0000\n",
       "40   1000            -      1.0000\n",
       "41   5000            -      1.0000"
      ]
     },
     "execution_count": 19,
     "metadata": {},
     "output_type": "execute_result"
    }
   ],
   "source": [
    "df_long"
   ]
  },
  {
   "cell_type": "markdown",
   "metadata": {
    "heading_collapsed": true
   },
   "source": [
    "## PPI NC"
   ]
  },
  {
   "cell_type": "code",
   "execution_count": 20,
   "metadata": {
    "ExecuteTime": {
     "end_time": "2020-09-15T04:49:26.517647Z",
     "start_time": "2020-09-15T04:49:20.012816Z"
    },
    "hidden": true
   },
   "outputs": [],
   "source": [
    "lm_res = pd.read_csv(\"../../result_files/lm/lm_sklearn_degr_drug_annotated.csv.gz\")\n",
    "lm_res = lm_res[lm_res['nc_fdr']<0.1].sort_values(by=['nc_fdr']).reset_index(drop=True)"
   ]
  },
  {
   "cell_type": "code",
   "execution_count": 21,
   "metadata": {
    "ExecuteTime": {
     "end_time": "2020-09-15T04:49:32.119480Z",
     "start_time": "2020-09-15T04:49:31.832247Z"
    },
    "hidden": true
   },
   "outputs": [],
   "source": [
    "df = {'Top N':[],'T':[], '1':[],'2':[],'3':[],'4':[],'5+':[],'-':[]}\n",
    "for i in [10, 50, 100, 500, 1000,5000]:\n",
    "    tmp = lm_res.dropna(subset=['ppi']).head(i).groupby('ppi').size() / i\n",
    "    tmp_n = 0\n",
    "    df['Top N'].append(i)\n",
    "    for k in df.keys():\n",
    "        if k == 'Top N':\n",
    "            continue\n",
    "        if k in tmp:\n",
    "            df[k].append(tmp[k] + tmp_n)\n",
    "            tmp_n += tmp[k]\n",
    "        else:\n",
    "            df[k].append(0+tmp_n)\n",
    "df = pd.DataFrame(df)"
   ]
  },
  {
   "cell_type": "code",
   "execution_count": 22,
   "metadata": {
    "ExecuteTime": {
     "end_time": "2020-09-15T04:49:32.172477Z",
     "start_time": "2020-09-15T04:49:32.167276Z"
    },
    "hidden": true
   },
   "outputs": [],
   "source": [
    "df_long = pd.melt(df, id_vars=['Top N'], value_name='percentage', var_name='PPI distance')"
   ]
  },
  {
   "cell_type": "code",
   "execution_count": 23,
   "metadata": {
    "ExecuteTime": {
     "end_time": "2020-09-15T04:49:33.186617Z",
     "start_time": "2020-09-15T04:49:32.897685Z"
    },
    "hidden": true
   },
   "outputs": [
    {
     "data": {
      "image/png": "[encoded data removed]",
      "text/plain": [
       "<Figure size 720x504 with 1 Axes>"
      ]
     },
     "metadata": {
      "needs_background": "light"
     },
     "output_type": "display_data"
    }
   ],
   "source": [
    "g1 = sns.barplot(x='Top N',y='percentage', data=df_long[df_long['PPI distance']=='T'],linewidth=1.5,\n",
    "                   edgecolor='black',\n",
    "                   color=colour_list[0], zorder=10)\n",
    "g2 = sns.barplot(x='Top N',y='percentage', data=df_long[df_long['PPI distance']=='1'],linewidth=1.5,\n",
    "                   edgecolor='black',\n",
    "                   color=colour_list[1], zorder=9)\n",
    "g3 = sns.barplot(x='Top N',y='percentage', data=df_long[df_long['PPI distance']=='2'],linewidth=1.5,\n",
    "                   edgecolor='black',\n",
    "                   color=colour_list[2], zorder=8)\n",
    "g4 = sns.barplot(x='Top N',y='percentage', data=df_long[df_long['PPI distance']=='3'],linewidth=1.5,\n",
    "                   edgecolor='black',\n",
    "                   color=colour_list[3], zorder=7)\n",
    "g5 = sns.barplot(x='Top N',y='percentage', data=df_long[df_long['PPI distance']=='4'],linewidth=1.5,\n",
    "                   edgecolor='black',\n",
    "                   color=colour_list[4], zorder=6)\n",
    "g6 = sns.barplot(x='Top N',y='percentage', data=df_long[df_long['PPI distance']=='5+'],linewidth=1.5,\n",
    "                   edgecolor='black',\n",
    "                   color=colour_list[5], zorder=5)\n",
    "g7 = sns.barplot(x='Top N',y='percentage', data=df_long[df_long['PPI distance']=='-'],linewidth=1.5,\n",
    "                   edgecolor='black',\n",
    "                   color=colour_list[6], zorder=4)\n",
    "plt.title(\"Percentage of PPI distance - Drug (no covariate)\")\n",
    "plt.xlabel(\"Top N Drug~protein associations\")\n",
    "\n",
    "g1_patch = mpatches.Patch(facecolor=colour_list[0], label='T', edgecolor='black',linewidth=1.5)\n",
    "g2_patch = mpatches.Patch(facecolor=colour_list[1], label='1', edgecolor='black',linewidth=1.5)\n",
    "g3_patch = mpatches.Patch(facecolor=colour_list[2], label='2', edgecolor='black',linewidth=1.5)\n",
    "g4_patch = mpatches.Patch(facecolor=colour_list[3], label='3', edgecolor='black',linewidth=1.5)\n",
    "g5_patch = mpatches.Patch(facecolor=colour_list[4], label='4', edgecolor='black',linewidth=1.5)\n",
    "g6_patch = mpatches.Patch(facecolor=colour_list[5], label='5+', edgecolor='black',linewidth=1.5)\n",
    "g7_patch = mpatches.Patch(facecolor=colour_list[6], label='-', edgecolor='black',linewidth=1.5)\n",
    "\n",
    "\n",
    "plt.legend(handles=[g1_patch, g2_patch, g3_patch,g4_patch,g5_patch,g6_patch,g7_patch],bbox_to_anchor=(1.02, 1),\n",
    "               loc=2,\n",
    "               borderaxespad=0.,\n",
    "               prop={'size': 14})\n",
    "plt.tight_layout()\n",
    "# plt.savefig(\"../../plots/drug/top_associations_by_PPI.pdf\", dpi=500)"
   ]
  },
  {
   "cell_type": "markdown",
   "metadata": {
    "heading_collapsed": true
   },
   "source": [
    "## analysis"
   ]
  },
  {
   "cell_type": "code",
   "execution_count": 25,
   "metadata": {
    "ExecuteTime": {
     "end_time": "2020-09-15T04:50:43.154897Z",
     "start_time": "2020-09-15T04:50:36.798158Z"
    },
    "hidden": true
   },
   "outputs": [],
   "source": [
    "lm_res = pd.read_csv(\"../../result_files/lm/lm_sklearn_degr_drug_annotated.csv.gz\")\n",
    "lm_res = lm_res[lm_res['fdr']<0.1].sort_values(by=['fdr']).reset_index(drop=True)"
   ]
  },
  {
   "cell_type": "code",
   "execution_count": 77,
   "metadata": {
    "ExecuteTime": {
     "end_time": "2020-08-27T00:50:51.553411Z",
     "start_time": "2020-08-27T00:50:51.535289Z"
    },
    "hidden": true
   },
   "outputs": [],
   "source": [
    "lm_res_phil = lm_res[(lm_res['beta'] < 0) & (lm_res['r2'] > 0.4) & (lm_res['skew'] < 0)]"
   ]
  },
  {
   "cell_type": "code",
   "execution_count": 78,
   "metadata": {
    "ExecuteTime": {
     "end_time": "2020-08-27T00:50:53.922397Z",
     "start_time": "2020-08-27T00:50:53.907749Z"
    },
    "hidden": true
   },
   "outputs": [
    {
     "name": "stderr",
     "output_type": "stream",
     "text": [
      "<ipython-input-78-7b95b4c694a5>:1: SettingWithCopyWarning:\n",
      "\n",
      "\n",
      "A value is trying to be set on a copy of a slice from a DataFrame.\n",
      "Try using .loc[row_indexer,col_indexer] = value instead\n",
      "\n",
      "See the caveats in the documentation: https://pandas.pydata.org/pandas-docs/stable/user_guide/indexing.html#returning-a-view-versus-a-copy\n",
      "\n"
     ]
    }
   ],
   "source": [
    "lm_res_phil['drug_name'] = lm_res_phil['y_id'].map(lambda x:x.split(\";\")[1])"
   ]
  },
  {
   "cell_type": "code",
   "execution_count": 121,
   "metadata": {
    "ExecuteTime": {
     "end_time": "2020-08-27T01:44:42.543914Z",
     "start_time": "2020-08-27T01:44:42.244145Z"
    },
    "hidden": true
   },
   "outputs": [],
   "source": [
    "lm_res_phil.to_csv(\"../../result_files/top_drug_associations.csv\", index=False)"
   ]
  },
  {
   "cell_type": "code",
   "execution_count": 24,
   "metadata": {
    "ExecuteTime": {
     "end_time": "2020-08-18T07:49:05.875156Z",
     "start_time": "2020-08-18T07:49:05.872838Z"
    },
    "hidden": true
   },
   "outputs": [],
   "source": [
    "protein_list_phil = [\n",
    "    'AAK1', 'GAK', 'DNM1', 'DNM2', 'SH3GL3',\n",
    "    'SH3GL1', 'SH3GL2', 'BIN2', 'AMPH'\n",
    "]"
   ]
  },
  {
   "cell_type": "code",
   "execution_count": 25,
   "metadata": {
    "ExecuteTime": {
     "end_time": "2020-08-18T07:49:26.614135Z",
     "start_time": "2020-08-18T07:49:26.593302Z"
    },
    "hidden": true
   },
   "outputs": [
    {
     "data": {
      "application/vnd.jupyter.widget-view+json": {
       "model_id": "0423567bc75441d6b6d0b5e3a293a968",
       "version_major": 2,
       "version_minor": 0
      },
      "text/plain": [
       "QgridWidget(grid_options={'fullWidthRows': True, 'syncColumnCellResize': True, 'forceFitColumns': True, 'defau…"
      ]
     },
     "metadata": {},
     "output_type": "display_data"
    }
   ],
   "source": [
    "qgrid.show_grid(lm_res_phil[lm_res_phil['x_id'].isin(protein_list_phil)])"
   ]
  },
  {
   "cell_type": "markdown",
   "metadata": {},
   "source": [
    "## tissue"
   ]
  },
  {
   "cell_type": "code",
   "execution_count": 72,
   "metadata": {
    "ExecuteTime": {
     "end_time": "2020-08-27T00:35:41.451157Z",
     "start_time": "2020-08-27T00:35:30.046462Z"
    }
   },
   "outputs": [],
   "source": [
    "res_tissue = pickle.load(open(\"../../data/correlation/res_tissue_level.pkl\", \"rb\"))"
   ]
  },
  {
   "cell_type": "code",
   "execution_count": 73,
   "metadata": {
    "ExecuteTime": {
     "end_time": "2020-08-27T00:47:37.149915Z",
     "start_time": "2020-08-27T00:35:42.099728Z"
    }
   },
   "outputs": [],
   "source": [
    "res_tissue['tissue_association'] = res_tissue.apply(\n",
    "    lambda row: 'Yes' if (row['pearson_pval']) and (row['pearson_pval'] < 0.1) and\n",
    "    (abs(row['pearson_correlation']) > 0.2) else 'Unsure'\n",
    "    if (row['pearson_pval']) and (row['count']) < 30 else 'No',\n",
    "    axis=1)"
   ]
  },
  {
   "cell_type": "code",
   "execution_count": 81,
   "metadata": {
    "ExecuteTime": {
     "end_time": "2020-08-27T00:52:44.729604Z",
     "start_time": "2020-08-27T00:52:38.420141Z"
    }
   },
   "outputs": [],
   "source": [
    "res_tissue_short = res_tissue[['drug_id', 'gene', 'tissue', 'tissue_association']]"
   ]
  },
  {
   "cell_type": "code",
   "execution_count": 82,
   "metadata": {
    "ExecuteTime": {
     "end_time": "2020-08-27T00:53:02.278789Z",
     "start_time": "2020-08-27T00:53:02.276070Z"
    }
   },
   "outputs": [],
   "source": [
    "res_tissue_short.columns = ['y_id', 'x_id', 'tissue', 'tissue_association']"
   ]
  },
  {
   "cell_type": "code",
   "execution_count": 125,
   "metadata": {
    "ExecuteTime": {
     "end_time": "2020-08-27T01:52:45.823218Z",
     "start_time": "2020-08-27T01:52:45.819342Z"
    }
   },
   "outputs": [],
   "source": [
    "lm_res_phil_short = lm_res_phil[[\n",
    "    'y_id', 'x_id', 'drug_name', 'beta', 'fdr', 'target', 'ppi', 'chr', 'skew', 'r2'\n",
    "]]"
   ]
  },
  {
   "cell_type": "code",
   "execution_count": 126,
   "metadata": {
    "ExecuteTime": {
     "end_time": "2020-08-27T01:53:06.048136Z",
     "start_time": "2020-08-27T01:52:47.402388Z"
    }
   },
   "outputs": [],
   "source": [
    "lm_res_phil_tissue = pd.merge(lm_res_phil_short,\n",
    "                              res_tissue_short,\n",
    "                              on=['y_id', 'x_id'])"
   ]
  },
  {
   "cell_type": "code",
   "execution_count": 127,
   "metadata": {
    "ExecuteTime": {
     "end_time": "2020-08-27T01:53:07.791810Z",
     "start_time": "2020-08-27T01:53:07.126212Z"
    }
   },
   "outputs": [],
   "source": [
    "lm_res_phil_tissue_wide = pd.merge(\n",
    "    lm_res_phil_short,\n",
    "    pd.pivot(lm_res_phil_tissue.drop_duplicates(['y_id', 'x_id', 'tissue']),\n",
    "             index=['y_id', 'x_id'],\n",
    "             columns='tissue',\n",
    "             values='tissue_association').fillna(\"No\").reset_index(),\n",
    "    on=['y_id', 'x_id'])"
   ]
  },
  {
   "cell_type": "code",
   "execution_count": 130,
   "metadata": {
    "ExecuteTime": {
     "end_time": "2020-08-27T01:55:52.469726Z",
     "start_time": "2020-08-27T01:55:52.145728Z"
    }
   },
   "outputs": [],
   "source": [
    "lm_res_phil_tissue_wide.to_csv(\"../../result_files/top_drug_associations_tissue.csv\", index=False)"
   ]
  },
  {
   "cell_type": "markdown",
   "metadata": {},
   "source": [
    "## top markers"
   ]
  },
  {
   "cell_type": "code",
   "execution_count": 104,
   "metadata": {
    "ExecuteTime": {
     "end_time": "2020-09-21T05:03:34.905940Z",
     "start_time": "2020-09-21T05:03:34.879760Z"
    }
   },
   "outputs": [
    {
     "data": {
      "application/vnd.jupyter.widget-view+json": {
       "model_id": "bbc17e25e33d4ee0833fb6740063c74d",
       "version_major": 2,
       "version_minor": 0
      },
      "text/plain": [
       "QgridWidget(grid_options={'fullWidthRows': True, 'syncColumnCellResize': True, 'forceFitColumns': True, 'defau…"
      ]
     },
     "metadata": {},
     "output_type": "display_data"
    }
   ],
   "source": [
    "qgrid.show_grid(lm_res.query('r2 > 0.65 and skew < -1.5'))"
   ]
  },
  {
   "cell_type": "markdown",
   "metadata": {},
   "source": [
    "## violin plots"
   ]
  },
  {
   "cell_type": "code",
   "execution_count": 60,
   "metadata": {
    "ExecuteTime": {
     "end_time": "2020-09-20T10:19:40.634814Z",
     "start_time": "2020-09-20T10:19:40.614350Z"
    }
   },
   "outputs": [],
   "source": [
    "ml_score_df = lm_res.drop_duplicates(['y_id'])[['y_id', 'r2']].reset_index(drop=True)\n",
    "ml_score_df['category'] = 'Predictability'\n",
    "skew_score_df = lm_res.drop_duplicates(['y_id'])[['y_id', 'skew']].reset_index(drop=True)\n",
    "skew_score_df['category'] = 'Selectivity'\n",
    "skew_score_df['skew'] = -1*skew_score_df['skew']"
   ]
  },
  {
   "cell_type": "code",
   "execution_count": 100,
   "metadata": {
    "ExecuteTime": {
     "end_time": "2020-09-21T04:57:35.630285Z",
     "start_time": "2020-09-21T04:57:35.624412Z"
    }
   },
   "outputs": [],
   "source": [
    "def plot_violin(drug_id):\n",
    "    fig, ax = plt.subplots(1, 2, figsize=(12, 10))\n",
    "    sns.violinplot(x='category',\n",
    "                   y='r2',\n",
    "                   data=ml_score_df,\n",
    "                   color='deepskyblue',\n",
    "                   ax=ax[0])\n",
    "    score = ml_score_df[ml_score_df['y_id'] == drug_id]['r2'].values[0]\n",
    "    ax[0].plot((-0.5, 0.5), (score, score), '--', linewidth=2, color='black')\n",
    "    ax[0].set_title(\"Predictability\")\n",
    "\n",
    "    sns.violinplot(x='category',\n",
    "                   y='skew',\n",
    "                   data=skew_score_df,\n",
    "                   color='mediumseagreen',\n",
    "                   ax=ax[1])\n",
    "    score = skew_score_df[skew_score_df['y_id'] == drug_id]['skew'].values[0]\n",
    "    ax[1].plot((-0.5, 0.5), (score, score), '--', linewidth=2, color='black')\n",
    "    ax[1].set_title(\"Selectivity\")\n",
    "    \n",
    "    ax[0].set_ylabel(\"\")\n",
    "    ax[1].set_ylabel(\"\")\n",
    "    ax[0].set_xlabel(\"\")\n",
    "    ax[1].set_xlabel(\"\")\n",
    "#     ax[0].set_yticks([])\n",
    "#     ax[1].set_yticks([])\n",
    "#     ax[0].set_xticks([])\n",
    "#     ax[1].set_xticks([])"
   ]
  },
  {
   "cell_type": "code",
   "execution_count": null,
   "metadata": {},
   "outputs": [],
   "source": []
  },
  {
   "cell_type": "code",
   "execution_count": 101,
   "metadata": {
    "ExecuteTime": {
     "end_time": "2020-09-21T04:57:37.585254Z",
     "start_time": "2020-09-21T04:57:37.392165Z"
    }
   },
   "outputs": [
    {
     "data": {
      "image/png": "[encoded data removed]",
      "text/plain": [
       "<Figure size 864x720 with 2 Axes>"
      ]
     },
     "metadata": {
      "needs_background": "light"
     },
     "output_type": "display_data"
    }
   ],
   "source": [
    "plot_violin('427;Ara-G;GDSC1')"
   ]
  },
  {
   "cell_type": "code",
   "execution_count": 105,
   "metadata": {
    "ExecuteTime": {
     "end_time": "2020-09-21T05:06:47.813733Z",
     "start_time": "2020-09-21T05:06:47.619765Z"
    }
   },
   "outputs": [
    {
     "data": {
      "image/png": "[encoded data removed]",
      "text/plain": [
       "<Figure size 864x720 with 2 Axes>"
      ]
     },
     "metadata": {
      "needs_background": "light"
     },
     "output_type": "display_data"
    }
   ],
   "source": [
    "plot_violin('2024;KIT_5808;GDSC2')"
   ]
  },
  {
   "cell_type": "code",
   "execution_count": 96,
   "metadata": {
    "ExecuteTime": {
     "end_time": "2020-09-20T10:56:38.926592Z",
     "start_time": "2020-09-20T10:56:38.797429Z"
    }
   },
   "outputs": [
    {
     "data": {
      "image/png": "[encoded data removed]",
      "text/plain": [
       "<Figure size 864x720 with 2 Axes>"
      ]
     },
     "metadata": {},
     "output_type": "display_data"
    }
   ],
   "source": [
    "plot_violin('1427;AZD5582;GDSC1')"
   ]
  },
  {
   "cell_type": "code",
   "execution_count": 15,
   "metadata": {
    "ExecuteTime": {
     "end_time": "2020-09-20T09:22:00.405190Z",
     "start_time": "2020-09-20T09:22:00.400685Z"
    }
   },
   "outputs": [],
   "source": [
    "skew_ml_score_df_long = pd.melt(skew_ml_score_df, id_vars='y_id', value_name='category')"
   ]
  },
  {
   "cell_type": "code",
   "execution_count": null,
   "metadata": {},
   "outputs": [],
   "source": [
    "sns.violinplot(,data=skew_ml_score_df)"
   ]
  },
  {
   "cell_type": "markdown",
   "metadata": {
    "heading_collapsed": true
   },
   "source": [
    "# per tissue"
   ]
  },
  {
   "cell_type": "code",
   "execution_count": 58,
   "metadata": {
    "ExecuteTime": {
     "end_time": "2020-08-26T15:55:53.753128Z",
     "start_time": "2020-08-26T15:55:53.256477Z"
    },
    "hidden": true
   },
   "outputs": [],
   "source": [
    "lm_res = pd.read_csv(\"../../result_files/lm/lm_sklearn_degr_drug_per_tissue_annotated.csv.gz\")\n",
    "# lm_res = lm_res[lm_res['fdr']<0.1]"
   ]
  },
  {
   "cell_type": "code",
   "execution_count": 59,
   "metadata": {
    "ExecuteTime": {
     "end_time": "2020-08-26T15:55:55.053359Z",
     "start_time": "2020-08-26T15:55:54.996784Z"
    },
    "hidden": true
   },
   "outputs": [
    {
     "data": {
      "text/plain": [
       "tissue\n",
       "Bone                           13132\n",
       "Breast                          8021\n",
       "Central Nervous System          3972\n",
       "Esophagus                      29584\n",
       "Haematopoietic and Lymphoid      650\n",
       "Head and Neck                  12106\n",
       "Kidney                         17213\n",
       "Large Intestine                 6389\n",
       "Lung                             117\n",
       "Ovary                           9816\n",
       "Pancreas                       25767\n",
       "Peripheral Nervous System      34615\n",
       "Skin                            3296\n",
       "Stomach                        26648\n",
       "dtype: int64"
      ]
     },
     "execution_count": 59,
     "metadata": {},
     "output_type": "execute_result"
    }
   ],
   "source": [
    "lm_res[lm_res['fdr']<0.1].groupby(['tissue']).size()"
   ]
  },
  {
   "cell_type": "code",
   "execution_count": 60,
   "metadata": {
    "ExecuteTime": {
     "end_time": "2020-08-26T15:55:59.725626Z",
     "start_time": "2020-08-26T15:55:59.705617Z"
    },
    "hidden": true
   },
   "outputs": [
    {
     "data": {
      "text/html": [
       "<div>\n",
       "<style scoped>\n",
       "    .dataframe tbody tr th:only-of-type {\n",
       "        vertical-align: middle;\n",
       "    }\n",
       "\n",
       "    .dataframe tbody tr th {\n",
       "        vertical-align: top;\n",
       "    }\n",
       "\n",
       "    .dataframe thead th {\n",
       "        text-align: right;\n",
       "    }\n",
       "</style>\n",
       "<table border=\"1\" class=\"dataframe\">\n",
       "  <thead>\n",
       "    <tr style=\"text-align: right;\">\n",
       "      <th></th>\n",
       "      <th>y_id</th>\n",
       "      <th>x_id</th>\n",
       "      <th>n</th>\n",
       "      <th>beta</th>\n",
       "      <th>lr</th>\n",
       "      <th>covs</th>\n",
       "      <th>pval</th>\n",
       "      <th>fdr</th>\n",
       "      <th>target</th>\n",
       "      <th>ppi</th>\n",
       "      <th>chr</th>\n",
       "      <th>chr_pos</th>\n",
       "      <th>tissue</th>\n",
       "      <th>attenuated</th>\n",
       "      <th>skew</th>\n",
       "      <th>r2</th>\n",
       "    </tr>\n",
       "  </thead>\n",
       "  <tbody>\n",
       "  </tbody>\n",
       "</table>\n",
       "</div>"
      ],
      "text/plain": [
       "Empty DataFrame\n",
       "Columns: [y_id, x_id, n, beta, lr, covs, pval, fdr, target, ppi, chr, chr_pos, tissue, attenuated, skew, r2]\n",
       "Index: []"
      ]
     },
     "execution_count": 60,
     "metadata": {},
     "output_type": "execute_result"
    }
   ],
   "source": [
    "lm_res[(lm_res['y_id']=='1936;Savolitinib;GDSC2')]"
   ]
  },
  {
   "cell_type": "code",
   "execution_count": 12,
   "metadata": {
    "ExecuteTime": {
     "end_time": "2020-08-13T10:54:36.343247Z",
     "start_time": "2020-08-13T10:54:36.311013Z"
    },
    "hidden": true
   },
   "outputs": [
    {
     "data": {
      "text/html": [
       "<div>\n",
       "<style scoped>\n",
       "    .dataframe tbody tr th:only-of-type {\n",
       "        vertical-align: middle;\n",
       "    }\n",
       "\n",
       "    .dataframe tbody tr th {\n",
       "        vertical-align: top;\n",
       "    }\n",
       "\n",
       "    .dataframe thead th {\n",
       "        text-align: right;\n",
       "    }\n",
       "</style>\n",
       "<table border=\"1\" class=\"dataframe\">\n",
       "  <thead>\n",
       "    <tr style=\"text-align: right;\">\n",
       "      <th></th>\n",
       "      <th>y_id</th>\n",
       "      <th>x_id</th>\n",
       "      <th>n</th>\n",
       "      <th>beta</th>\n",
       "      <th>lr</th>\n",
       "      <th>covs</th>\n",
       "      <th>pval</th>\n",
       "      <th>fdr</th>\n",
       "      <th>target</th>\n",
       "      <th>ppi</th>\n",
       "      <th>chr</th>\n",
       "      <th>chr_pos</th>\n",
       "      <th>tissue</th>\n",
       "      <th>attenuated</th>\n",
       "      <th>skew</th>\n",
       "      <th>r2</th>\n",
       "    </tr>\n",
       "  </thead>\n",
       "  <tbody>\n",
       "  </tbody>\n",
       "</table>\n",
       "</div>"
      ],
      "text/plain": [
       "Empty DataFrame\n",
       "Columns: [y_id, x_id, n, beta, lr, covs, pval, fdr, target, ppi, chr, chr_pos, tissue, attenuated, skew, r2]\n",
       "Index: []"
      ]
     },
     "execution_count": 12,
     "metadata": {},
     "output_type": "execute_result"
    }
   ],
   "source": [
    "lm_res[(lm_res['y_id']=='1373;Dabrafenib;GDSC2')&(lm_res['x_id']=='DBNL')]"
   ]
  },
  {
   "cell_type": "code",
   "execution_count": 16,
   "metadata": {
    "ExecuteTime": {
     "end_time": "2020-07-21T12:48:57.226232Z",
     "start_time": "2020-07-21T12:48:57.069560Z"
    },
    "hidden": true
   },
   "outputs": [
    {
     "data": {
      "text/html": [
       "<div>\n",
       "<style scoped>\n",
       "    .dataframe tbody tr th:only-of-type {\n",
       "        vertical-align: middle;\n",
       "    }\n",
       "\n",
       "    .dataframe tbody tr th {\n",
       "        vertical-align: top;\n",
       "    }\n",
       "\n",
       "    .dataframe thead th {\n",
       "        text-align: right;\n",
       "    }\n",
       "</style>\n",
       "<table border=\"1\" class=\"dataframe\">\n",
       "  <thead>\n",
       "    <tr style=\"text-align: right;\">\n",
       "      <th></th>\n",
       "      <th>y_id</th>\n",
       "      <th>x_id</th>\n",
       "      <th>n</th>\n",
       "      <th>beta</th>\n",
       "      <th>lr</th>\n",
       "      <th>covs</th>\n",
       "      <th>pval</th>\n",
       "      <th>fdr</th>\n",
       "      <th>target</th>\n",
       "      <th>ppi</th>\n",
       "      <th>chr</th>\n",
       "      <th>chr_pos</th>\n",
       "      <th>tissue</th>\n",
       "      <th>attenuated</th>\n",
       "      <th>skew</th>\n",
       "      <th>r2</th>\n",
       "    </tr>\n",
       "  </thead>\n",
       "  <tbody>\n",
       "    <tr>\n",
       "      <th>19593</th>\n",
       "      <td>1909;Venetoclax;GDSC2</td>\n",
       "      <td>TSNAX</td>\n",
       "      <td>22</td>\n",
       "      <td>2.489709</td>\n",
       "      <td>939.796400</td>\n",
       "      <td>20</td>\n",
       "      <td>2.191628e-206</td>\n",
       "      <td>4.138525e-204</td>\n",
       "      <td>BCL2</td>\n",
       "      <td>3</td>\n",
       "      <td>1</td>\n",
       "      <td>231547532.5</td>\n",
       "      <td>Stomach</td>\n",
       "      <td>1</td>\n",
       "      <td>-1.56284</td>\n",
       "      <td>0.740261</td>\n",
       "    </tr>\n",
       "    <tr>\n",
       "      <th>1023617</th>\n",
       "      <td>1909;Venetoclax;GDSC2</td>\n",
       "      <td>TSNAX</td>\n",
       "      <td>46</td>\n",
       "      <td>1.133458</td>\n",
       "      <td>17.798455</td>\n",
       "      <td>19</td>\n",
       "      <td>2.455825e-05</td>\n",
       "      <td>2.625844e-03</td>\n",
       "      <td>BCL2</td>\n",
       "      <td>3</td>\n",
       "      <td>1</td>\n",
       "      <td>231547532.5</td>\n",
       "      <td>Central Nervous System</td>\n",
       "      <td>1</td>\n",
       "      <td>-1.56284</td>\n",
       "      <td>0.740261</td>\n",
       "    </tr>\n",
       "  </tbody>\n",
       "</table>\n",
       "</div>"
      ],
      "text/plain": [
       "                          y_id   x_id   n      beta          lr  covs  \\\n",
       "19593    1909;Venetoclax;GDSC2  TSNAX  22  2.489709  939.796400    20   \n",
       "1023617  1909;Venetoclax;GDSC2  TSNAX  46  1.133458   17.798455    19   \n",
       "\n",
       "                  pval            fdr target ppi chr      chr_pos  \\\n",
       "19593    2.191628e-206  4.138525e-204   BCL2   3   1  231547532.5   \n",
       "1023617   2.455825e-05   2.625844e-03   BCL2   3   1  231547532.5   \n",
       "\n",
       "                         tissue  attenuated     skew        r2  \n",
       "19593                   Stomach           1 -1.56284  0.740261  \n",
       "1023617  Central Nervous System           1 -1.56284  0.740261  "
      ]
     },
     "execution_count": 16,
     "metadata": {},
     "output_type": "execute_result"
    }
   ],
   "source": [
    "lm_res[(lm_res['y_id']=='1909;Venetoclax;GDSC2')&(lm_res['x_id']=='TSNAX')]"
   ]
  },
  {
   "cell_type": "code",
   "execution_count": 27,
   "metadata": {
    "ExecuteTime": {
     "end_time": "2020-07-21T12:58:10.301307Z",
     "start_time": "2020-07-21T12:58:10.152349Z"
    },
    "hidden": true
   },
   "outputs": [
    {
     "data": {
      "text/html": [
       "<div>\n",
       "<style scoped>\n",
       "    .dataframe tbody tr th:only-of-type {\n",
       "        vertical-align: middle;\n",
       "    }\n",
       "\n",
       "    .dataframe tbody tr th {\n",
       "        vertical-align: top;\n",
       "    }\n",
       "\n",
       "    .dataframe thead th {\n",
       "        text-align: right;\n",
       "    }\n",
       "</style>\n",
       "<table border=\"1\" class=\"dataframe\">\n",
       "  <thead>\n",
       "    <tr style=\"text-align: right;\">\n",
       "      <th></th>\n",
       "      <th>y_id</th>\n",
       "      <th>x_id</th>\n",
       "      <th>n</th>\n",
       "      <th>beta</th>\n",
       "      <th>lr</th>\n",
       "      <th>covs</th>\n",
       "      <th>pval</th>\n",
       "      <th>fdr</th>\n",
       "      <th>target</th>\n",
       "      <th>ppi</th>\n",
       "      <th>chr</th>\n",
       "      <th>chr_pos</th>\n",
       "      <th>tissue</th>\n",
       "      <th>attenuated</th>\n",
       "      <th>skew</th>\n",
       "      <th>r2</th>\n",
       "    </tr>\n",
       "  </thead>\n",
       "  <tbody>\n",
       "    <tr>\n",
       "      <th>881627</th>\n",
       "      <td>1427;AZD5582;GDSC1</td>\n",
       "      <td>INCENP</td>\n",
       "      <td>34</td>\n",
       "      <td>-3.26289</td>\n",
       "      <td>16.990238</td>\n",
       "      <td>19</td>\n",
       "      <td>0.000038</td>\n",
       "      <td>0.001453</td>\n",
       "      <td>BIRC2;BIRC3;XIAP</td>\n",
       "      <td>-</td>\n",
       "      <td>11</td>\n",
       "      <td>62138583.5</td>\n",
       "      <td>Breast</td>\n",
       "      <td>0</td>\n",
       "      <td>-1.084352</td>\n",
       "      <td>0.491294</td>\n",
       "    </tr>\n",
       "  </tbody>\n",
       "</table>\n",
       "</div>"
      ],
      "text/plain": [
       "                      y_id    x_id   n     beta         lr  covs      pval  \\\n",
       "881627  1427;AZD5582;GDSC1  INCENP  34 -3.26289  16.990238    19  0.000038   \n",
       "\n",
       "             fdr            target ppi chr     chr_pos  tissue  attenuated  \\\n",
       "881627  0.001453  BIRC2;BIRC3;XIAP   -  11  62138583.5  Breast           0   \n",
       "\n",
       "            skew        r2  \n",
       "881627 -1.084352  0.491294  "
      ]
     },
     "execution_count": 27,
     "metadata": {},
     "output_type": "execute_result"
    }
   ],
   "source": [
    "lm_res[(lm_res['y_id']=='1427;AZD5582;GDSC1')&(lm_res['x_id']=='INCENP')]"
   ]
  },
  {
   "cell_type": "markdown",
   "metadata": {},
   "source": [
    "# CRISPR"
   ]
  },
  {
   "cell_type": "code",
   "execution_count": 26,
   "metadata": {
    "ExecuteTime": {
     "end_time": "2020-09-15T04:53:26.482340Z",
     "start_time": "2020-09-15T04:50:51.783296Z"
    }
   },
   "outputs": [],
   "source": [
    "lm_crispr = pd.read_csv(\"../../result_files/lm/lm_sklearn_degr_crispr_annotated.csv.gz\")"
   ]
  },
  {
   "cell_type": "markdown",
   "metadata": {},
   "source": [
    "## PPI"
   ]
  },
  {
   "cell_type": "code",
   "execution_count": 27,
   "metadata": {
    "ExecuteTime": {
     "end_time": "2020-09-15T04:53:26.567541Z",
     "start_time": "2020-09-15T04:53:26.484697Z"
    }
   },
   "outputs": [],
   "source": [
    "lm_crispr_s = lm_crispr[lm_crispr['fdr'] < 0.1].sort_values(by=['fdr']).reset_index(drop=True)"
   ]
  },
  {
   "cell_type": "code",
   "execution_count": 28,
   "metadata": {
    "ExecuteTime": {
     "end_time": "2020-09-15T04:53:38.350859Z",
     "start_time": "2020-09-15T04:53:38.325916Z"
    }
   },
   "outputs": [],
   "source": [
    "df = {'Top N':[],'T':[], '1':[],'2':[],'3':[],'4':[],'5+':[],'-':[]}\n",
    "for i in [10, 50, 100, 500, 1000,5000]:\n",
    "    tmp = lm_crispr_s.dropna(subset=['ppi']).head(i).groupby('ppi').size() / i\n",
    "    tmp_n = 0\n",
    "    df['Top N'].append(i)\n",
    "    for k in df.keys():\n",
    "        if k == 'Top N':\n",
    "            continue\n",
    "        if k in tmp:\n",
    "            df[k].append(tmp[k] + tmp_n)\n",
    "            tmp_n += tmp[k]\n",
    "        else:\n",
    "            df[k].append(0+tmp_n)\n",
    "df = pd.DataFrame(df)"
   ]
  },
  {
   "cell_type": "code",
   "execution_count": 29,
   "metadata": {
    "ExecuteTime": {
     "end_time": "2020-09-15T04:53:38.661478Z",
     "start_time": "2020-09-15T04:53:38.656492Z"
    }
   },
   "outputs": [],
   "source": [
    "df_long = pd.melt(df, id_vars=['Top N'], value_name='percentage', var_name='PPI distance')"
   ]
  },
  {
   "cell_type": "code",
   "execution_count": 30,
   "metadata": {
    "ExecuteTime": {
     "end_time": "2020-09-15T04:53:39.662892Z",
     "start_time": "2020-09-15T04:53:39.357695Z"
    }
   },
   "outputs": [
    {
     "data": {
      "image/png": "[encoded data removed]",
      "text/plain": [
       "<Figure size 720x504 with 1 Axes>"
      ]
     },
     "metadata": {
      "needs_background": "light"
     },
     "output_type": "display_data"
    }
   ],
   "source": [
    "g1 = sns.barplot(x='Top N',y='percentage', data=df_long[df_long['PPI distance']=='T'],linewidth=1.5,\n",
    "                   edgecolor='black',\n",
    "                   color=colour_list[0], zorder=10)\n",
    "g2 = sns.barplot(x='Top N',y='percentage', data=df_long[df_long['PPI distance']=='1'],linewidth=1.5,\n",
    "                   edgecolor='black',\n",
    "                   color=colour_list[1], zorder=9)\n",
    "g3 = sns.barplot(x='Top N',y='percentage', data=df_long[df_long['PPI distance']=='2'],linewidth=1.5,\n",
    "                   edgecolor='black',\n",
    "                   color=colour_list[2], zorder=8)\n",
    "g4 = sns.barplot(x='Top N',y='percentage', data=df_long[df_long['PPI distance']=='3'],linewidth=1.5,\n",
    "                   edgecolor='black',\n",
    "                   color=colour_list[3], zorder=7)\n",
    "g5 = sns.barplot(x='Top N',y='percentage', data=df_long[df_long['PPI distance']=='4'],linewidth=1.5,\n",
    "                   edgecolor='black',\n",
    "                   color=colour_list[4], zorder=6)\n",
    "g6 = sns.barplot(x='Top N',y='percentage', data=df_long[df_long['PPI distance']=='5+'],linewidth=1.5,\n",
    "                   edgecolor='black',\n",
    "                   color=colour_list[5], zorder=5)\n",
    "g7 = sns.barplot(x='Top N',y='percentage', data=df_long[df_long['PPI distance']=='-'],linewidth=1.5,\n",
    "                   edgecolor='black',\n",
    "                   color=colour_list[6], zorder=4)\n",
    "plt.title(\"Percentage of PPI distance - CRISPR\")\n",
    "plt.xlabel(\"Top N CRISPR~protein associations\")\n",
    "\n",
    "g1_patch = mpatches.Patch(facecolor=colour_list[0], label='T', edgecolor='black',linewidth=1.5)\n",
    "g2_patch = mpatches.Patch(facecolor=colour_list[1], label='1', edgecolor='black',linewidth=1.5)\n",
    "g3_patch = mpatches.Patch(facecolor=colour_list[2], label='2', edgecolor='black',linewidth=1.5)\n",
    "g4_patch = mpatches.Patch(facecolor=colour_list[3], label='3', edgecolor='black',linewidth=1.5)\n",
    "g5_patch = mpatches.Patch(facecolor=colour_list[4], label='4', edgecolor='black',linewidth=1.5)\n",
    "g6_patch = mpatches.Patch(facecolor=colour_list[5], label='5+', edgecolor='black',linewidth=1.5)\n",
    "g7_patch = mpatches.Patch(facecolor=colour_list[6], label='-', edgecolor='black',linewidth=1.5)\n",
    "\n",
    "\n",
    "plt.legend(handles=[g1_patch, g2_patch, g3_patch,g4_patch,g5_patch,g6_patch,g7_patch],bbox_to_anchor=(1.02, 1),\n",
    "               loc=2,\n",
    "               borderaxespad=0.,\n",
    "               prop={'size': 14})\n",
    "plt.tight_layout()\n",
    "# plt.savefig(\"../../plots/crispr/top_associations_by_PPI_CRISPR.pdf\", dpi=500)"
   ]
  },
  {
   "cell_type": "markdown",
   "metadata": {},
   "source": [
    "## PPI no cov"
   ]
  },
  {
   "cell_type": "code",
   "execution_count": 36,
   "metadata": {
    "ExecuteTime": {
     "end_time": "2020-09-15T05:13:11.625053Z",
     "start_time": "2020-09-15T05:13:11.259669Z"
    }
   },
   "outputs": [],
   "source": [
    "lm_crispr_s = lm_crispr[lm_crispr['nc_fdr'] < 0.1].sort_values(by=['nc_fdr']).reset_index(drop=True)"
   ]
  },
  {
   "cell_type": "code",
   "execution_count": 37,
   "metadata": {
    "ExecuteTime": {
     "end_time": "2020-09-15T05:13:12.394420Z",
     "start_time": "2020-09-15T05:13:11.979239Z"
    }
   },
   "outputs": [],
   "source": [
    "df = {'Top N':[],'T':[], '1':[],'2':[],'3':[],'4':[],'5+':[],'-':[]}\n",
    "for i in [10, 50, 100, 500, 1000,5000]:\n",
    "    tmp = lm_crispr_s.dropna(subset=['ppi']).head(i).groupby('ppi').size() / i\n",
    "    tmp_n = 0\n",
    "    df['Top N'].append(i)\n",
    "    for k in df.keys():\n",
    "        if k == 'Top N':\n",
    "            continue\n",
    "        if k in tmp:\n",
    "            df[k].append(tmp[k] + tmp_n)\n",
    "            tmp_n += tmp[k]\n",
    "        else:\n",
    "            df[k].append(0+tmp_n)\n",
    "df = pd.DataFrame(df)"
   ]
  },
  {
   "cell_type": "code",
   "execution_count": 38,
   "metadata": {
    "ExecuteTime": {
     "end_time": "2020-09-15T05:13:12.403035Z",
     "start_time": "2020-09-15T05:13:12.397204Z"
    }
   },
   "outputs": [],
   "source": [
    "df_long = pd.melt(df, id_vars=['Top N'], value_name='percentage', var_name='PPI distance')"
   ]
  },
  {
   "cell_type": "code",
   "execution_count": 39,
   "metadata": {
    "ExecuteTime": {
     "end_time": "2020-09-15T05:13:13.089914Z",
     "start_time": "2020-09-15T05:13:12.783174Z"
    }
   },
   "outputs": [
    {
     "data": {
      "image/png": "[encoded data removed]",
      "text/plain": [
       "<Figure size 720x504 with 1 Axes>"
      ]
     },
     "metadata": {
      "needs_background": "light"
     },
     "output_type": "display_data"
    }
   ],
   "source": [
    "g1 = sns.barplot(x='Top N',y='percentage', data=df_long[df_long['PPI distance']=='T'],linewidth=1.5,\n",
    "                   edgecolor='black',\n",
    "                   color=colour_list[0], zorder=10)\n",
    "g2 = sns.barplot(x='Top N',y='percentage', data=df_long[df_long['PPI distance']=='1'],linewidth=1.5,\n",
    "                   edgecolor='black',\n",
    "                   color=colour_list[1], zorder=9)\n",
    "g3 = sns.barplot(x='Top N',y='percentage', data=df_long[df_long['PPI distance']=='2'],linewidth=1.5,\n",
    "                   edgecolor='black',\n",
    "                   color=colour_list[2], zorder=8)\n",
    "g4 = sns.barplot(x='Top N',y='percentage', data=df_long[df_long['PPI distance']=='3'],linewidth=1.5,\n",
    "                   edgecolor='black',\n",
    "                   color=colour_list[3], zorder=7)\n",
    "g5 = sns.barplot(x='Top N',y='percentage', data=df_long[df_long['PPI distance']=='4'],linewidth=1.5,\n",
    "                   edgecolor='black',\n",
    "                   color=colour_list[4], zorder=6)\n",
    "g6 = sns.barplot(x='Top N',y='percentage', data=df_long[df_long['PPI distance']=='5+'],linewidth=1.5,\n",
    "                   edgecolor='black',\n",
    "                   color=colour_list[5], zorder=5)\n",
    "g7 = sns.barplot(x='Top N',y='percentage', data=df_long[df_long['PPI distance']=='-'],linewidth=1.5,\n",
    "                   edgecolor='black',\n",
    "                   color=colour_list[6], zorder=4)\n",
    "plt.title(\"Percentage of PPI distance - CRISPR (no covariates)\")\n",
    "plt.xlabel(\"Top N CRISPR~protein associations\")\n",
    "\n",
    "g1_patch = mpatches.Patch(facecolor=colour_list[0], label='T', edgecolor='black',linewidth=1.5)\n",
    "g2_patch = mpatches.Patch(facecolor=colour_list[1], label='1', edgecolor='black',linewidth=1.5)\n",
    "g3_patch = mpatches.Patch(facecolor=colour_list[2], label='2', edgecolor='black',linewidth=1.5)\n",
    "g4_patch = mpatches.Patch(facecolor=colour_list[3], label='3', edgecolor='black',linewidth=1.5)\n",
    "g5_patch = mpatches.Patch(facecolor=colour_list[4], label='4', edgecolor='black',linewidth=1.5)\n",
    "g6_patch = mpatches.Patch(facecolor=colour_list[5], label='5+', edgecolor='black',linewidth=1.5)\n",
    "g7_patch = mpatches.Patch(facecolor=colour_list[6], label='-', edgecolor='black',linewidth=1.5)\n",
    "\n",
    "\n",
    "plt.legend(handles=[g1_patch, g2_patch, g3_patch,g4_patch,g5_patch,g6_patch,g7_patch],bbox_to_anchor=(1.02, 1),\n",
    "               loc=2,\n",
    "               borderaxespad=0.,\n",
    "               prop={'size': 14})\n",
    "plt.tight_layout()\n",
    "# plt.savefig(\"../../plots/crispr/top_associations_by_PPI_CRISPR.pdf\", dpi=500)"
   ]
  },
  {
   "cell_type": "code",
   "execution_count": null,
   "metadata": {},
   "outputs": [],
   "source": []
  },
  {
   "cell_type": "markdown",
   "metadata": {},
   "source": [
    "# CRISPR + Drug"
   ]
  },
  {
   "cell_type": "code",
   "execution_count": 42,
   "metadata": {
    "ExecuteTime": {
     "end_time": "2020-09-17T05:06:04.809818Z",
     "start_time": "2020-09-17T05:06:03.155612Z"
    }
   },
   "outputs": [
    {
     "data": {
      "text/html": [
       "<div>\n",
       "<style scoped>\n",
       "    .dataframe tbody tr th:only-of-type {\n",
       "        vertical-align: middle;\n",
       "    }\n",
       "\n",
       "    .dataframe tbody tr th {\n",
       "        vertical-align: top;\n",
       "    }\n",
       "\n",
       "    .dataframe thead th {\n",
       "        text-align: right;\n",
       "    }\n",
       "</style>\n",
       "<table border=\"1\" class=\"dataframe\">\n",
       "  <thead>\n",
       "    <tr style=\"text-align: right;\">\n",
       "      <th></th>\n",
       "      <th>y_id</th>\n",
       "      <th>x_id</th>\n",
       "      <th>n</th>\n",
       "      <th>beta</th>\n",
       "      <th>lr</th>\n",
       "      <th>covs</th>\n",
       "      <th>pval</th>\n",
       "      <th>fdr</th>\n",
       "      <th>nc_beta</th>\n",
       "      <th>nc_lr</th>\n",
       "      <th>nc_pval</th>\n",
       "      <th>nc_fdr</th>\n",
       "      <th>r2</th>\n",
       "      <th>ppi</th>\n",
       "      <th>skew</th>\n",
       "    </tr>\n",
       "  </thead>\n",
       "  <tbody>\n",
       "    <tr>\n",
       "      <th>17</th>\n",
       "      <td>PRKAR1A</td>\n",
       "      <td>PRKAR1A</td>\n",
       "      <td>489</td>\n",
       "      <td>-0.152380</td>\n",
       "      <td>3.880171e+01</td>\n",
       "      <td>21</td>\n",
       "      <td>4.691169e-10</td>\n",
       "      <td>0.000008</td>\n",
       "      <td>-0.253764</td>\n",
       "      <td>118.031369</td>\n",
       "      <td>1.706674e-27</td>\n",
       "      <td>2.871821e-23</td>\n",
       "      <td>0.670137</td>\n",
       "      <td>T</td>\n",
       "      <td>-0.82335</td>\n",
       "    </tr>\n",
       "    <tr>\n",
       "      <th>2761</th>\n",
       "      <td>PRKAR1A</td>\n",
       "      <td>MRPS26</td>\n",
       "      <td>496</td>\n",
       "      <td>0.205234</td>\n",
       "      <td>2.018679e+01</td>\n",
       "      <td>21</td>\n",
       "      <td>7.023624e-06</td>\n",
       "      <td>0.059093</td>\n",
       "      <td>0.324745</td>\n",
       "      <td>42.338142</td>\n",
       "      <td>7.678045e-11</td>\n",
       "      <td>1.291985e-06</td>\n",
       "      <td>0.670137</td>\n",
       "      <td>3</td>\n",
       "      <td>-0.82335</td>\n",
       "    </tr>\n",
       "    <tr>\n",
       "      <th>4419</th>\n",
       "      <td>PRKAR1A</td>\n",
       "      <td>SAAL1</td>\n",
       "      <td>145</td>\n",
       "      <td>-0.295730</td>\n",
       "      <td>1.912237e+01</td>\n",
       "      <td>21</td>\n",
       "      <td>1.225996e-05</td>\n",
       "      <td>0.078586</td>\n",
       "      <td>-0.243346</td>\n",
       "      <td>11.220915</td>\n",
       "      <td>8.088060e-04</td>\n",
       "      <td>5.946942e-01</td>\n",
       "      <td>0.670137</td>\n",
       "      <td>-</td>\n",
       "      <td>-0.82335</td>\n",
       "    </tr>\n",
       "    <tr>\n",
       "      <th>4953</th>\n",
       "      <td>PRKAR1A</td>\n",
       "      <td>EMD</td>\n",
       "      <td>499</td>\n",
       "      <td>-0.204181</td>\n",
       "      <td>1.873992e+01</td>\n",
       "      <td>21</td>\n",
       "      <td>1.498130e-05</td>\n",
       "      <td>0.084030</td>\n",
       "      <td>-0.245724</td>\n",
       "      <td>57.115281</td>\n",
       "      <td>4.109997e-14</td>\n",
       "      <td>3.457946e-10</td>\n",
       "      <td>0.670137</td>\n",
       "      <td>3</td>\n",
       "      <td>-0.82335</td>\n",
       "    </tr>\n",
       "    <tr>\n",
       "      <th>6763</th>\n",
       "      <td>PRKAR1A</td>\n",
       "      <td>PGRMC1</td>\n",
       "      <td>499</td>\n",
       "      <td>-0.178699</td>\n",
       "      <td>1.785769e+01</td>\n",
       "      <td>21</td>\n",
       "      <td>2.380556e-05</td>\n",
       "      <td>0.100144</td>\n",
       "      <td>-0.180380</td>\n",
       "      <td>39.524153</td>\n",
       "      <td>3.240269e-10</td>\n",
       "      <td>5.452400e-06</td>\n",
       "      <td>0.670137</td>\n",
       "      <td>3</td>\n",
       "      <td>-0.82335</td>\n",
       "    </tr>\n",
       "    <tr>\n",
       "      <th>...</th>\n",
       "      <td>...</td>\n",
       "      <td>...</td>\n",
       "      <td>...</td>\n",
       "      <td>...</td>\n",
       "      <td>...</td>\n",
       "      <td>...</td>\n",
       "      <td>...</td>\n",
       "      <td>...</td>\n",
       "      <td>...</td>\n",
       "      <td>...</td>\n",
       "      <td>...</td>\n",
       "      <td>...</td>\n",
       "      <td>...</td>\n",
       "      <td>...</td>\n",
       "      <td>...</td>\n",
       "    </tr>\n",
       "    <tr>\n",
       "      <th>49699330</th>\n",
       "      <td>PRKAR1A</td>\n",
       "      <td>DDX1</td>\n",
       "      <td>500</td>\n",
       "      <td>-0.000043</td>\n",
       "      <td>1.305879e-06</td>\n",
       "      <td>21</td>\n",
       "      <td>9.990882e-01</td>\n",
       "      <td>0.999925</td>\n",
       "      <td>-0.037024</td>\n",
       "      <td>0.957763</td>\n",
       "      <td>3.277512e-01</td>\n",
       "      <td>8.034030e-01</td>\n",
       "      <td>0.670137</td>\n",
       "      <td>4</td>\n",
       "      <td>-0.82335</td>\n",
       "    </tr>\n",
       "    <tr>\n",
       "      <th>49712929</th>\n",
       "      <td>PRKAR1A</td>\n",
       "      <td>RPRD1A</td>\n",
       "      <td>392</td>\n",
       "      <td>-0.032531</td>\n",
       "      <td>1.422104e+00</td>\n",
       "      <td>21</td>\n",
       "      <td>2.330574e-01</td>\n",
       "      <td>0.999925</td>\n",
       "      <td>-0.006061</td>\n",
       "      <td>0.040971</td>\n",
       "      <td>8.395936e-01</td>\n",
       "      <td>9.957779e-01</td>\n",
       "      <td>0.670137</td>\n",
       "      <td>3</td>\n",
       "      <td>-0.82335</td>\n",
       "    </tr>\n",
       "    <tr>\n",
       "      <th>49728924</th>\n",
       "      <td>PRKAR1A</td>\n",
       "      <td>ELP1</td>\n",
       "      <td>328</td>\n",
       "      <td>0.001177</td>\n",
       "      <td>1.343594e-03</td>\n",
       "      <td>21</td>\n",
       "      <td>9.707600e-01</td>\n",
       "      <td>0.999938</td>\n",
       "      <td>-0.051381</td>\n",
       "      <td>2.038651</td>\n",
       "      <td>1.533456e-01</td>\n",
       "      <td>9.994712e-01</td>\n",
       "      <td>0.670137</td>\n",
       "      <td>-</td>\n",
       "      <td>-0.82335</td>\n",
       "    </tr>\n",
       "    <tr>\n",
       "      <th>49748301</th>\n",
       "      <td>PRKAR1A</td>\n",
       "      <td>TGOLN2</td>\n",
       "      <td>491</td>\n",
       "      <td>0.000002</td>\n",
       "      <td>3.482455e-09</td>\n",
       "      <td>21</td>\n",
       "      <td>9.999529e-01</td>\n",
       "      <td>0.999953</td>\n",
       "      <td>-0.062586</td>\n",
       "      <td>4.960584</td>\n",
       "      <td>2.593145e-02</td>\n",
       "      <td>4.541392e-01</td>\n",
       "      <td>0.670137</td>\n",
       "      <td>2</td>\n",
       "      <td>-0.82335</td>\n",
       "    </tr>\n",
       "    <tr>\n",
       "      <th>49790534</th>\n",
       "      <td>PRKAR1A</td>\n",
       "      <td>DNAJB11</td>\n",
       "      <td>487</td>\n",
       "      <td>0.034709</td>\n",
       "      <td>9.285230e-01</td>\n",
       "      <td>21</td>\n",
       "      <td>3.352470e-01</td>\n",
       "      <td>0.999998</td>\n",
       "      <td>0.016102</td>\n",
       "      <td>0.202676</td>\n",
       "      <td>6.525693e-01</td>\n",
       "      <td>9.419498e-01</td>\n",
       "      <td>0.670137</td>\n",
       "      <td>3</td>\n",
       "      <td>-0.82335</td>\n",
       "    </tr>\n",
       "  </tbody>\n",
       "</table>\n",
       "<p>2960 rows × 15 columns</p>\n",
       "</div>"
      ],
      "text/plain": [
       "             y_id     x_id    n      beta            lr  covs          pval  \\\n",
       "17        PRKAR1A  PRKAR1A  489 -0.152380  3.880171e+01    21  4.691169e-10   \n",
       "2761      PRKAR1A   MRPS26  496  0.205234  2.018679e+01    21  7.023624e-06   \n",
       "4419      PRKAR1A    SAAL1  145 -0.295730  1.912237e+01    21  1.225996e-05   \n",
       "4953      PRKAR1A      EMD  499 -0.204181  1.873992e+01    21  1.498130e-05   \n",
       "6763      PRKAR1A   PGRMC1  499 -0.178699  1.785769e+01    21  2.380556e-05   \n",
       "...           ...      ...  ...       ...           ...   ...           ...   \n",
       "49699330  PRKAR1A     DDX1  500 -0.000043  1.305879e-06    21  9.990882e-01   \n",
       "49712929  PRKAR1A   RPRD1A  392 -0.032531  1.422104e+00    21  2.330574e-01   \n",
       "49728924  PRKAR1A     ELP1  328  0.001177  1.343594e-03    21  9.707600e-01   \n",
       "49748301  PRKAR1A   TGOLN2  491  0.000002  3.482455e-09    21  9.999529e-01   \n",
       "49790534  PRKAR1A  DNAJB11  487  0.034709  9.285230e-01    21  3.352470e-01   \n",
       "\n",
       "               fdr   nc_beta       nc_lr       nc_pval        nc_fdr  \\\n",
       "17        0.000008 -0.253764  118.031369  1.706674e-27  2.871821e-23   \n",
       "2761      0.059093  0.324745   42.338142  7.678045e-11  1.291985e-06   \n",
       "4419      0.078586 -0.243346   11.220915  8.088060e-04  5.946942e-01   \n",
       "4953      0.084030 -0.245724   57.115281  4.109997e-14  3.457946e-10   \n",
       "6763      0.100144 -0.180380   39.524153  3.240269e-10  5.452400e-06   \n",
       "...            ...       ...         ...           ...           ...   \n",
       "49699330  0.999925 -0.037024    0.957763  3.277512e-01  8.034030e-01   \n",
       "49712929  0.999925 -0.006061    0.040971  8.395936e-01  9.957779e-01   \n",
       "49728924  0.999938 -0.051381    2.038651  1.533456e-01  9.994712e-01   \n",
       "49748301  0.999953 -0.062586    4.960584  2.593145e-02  4.541392e-01   \n",
       "49790534  0.999998  0.016102    0.202676  6.525693e-01  9.419498e-01   \n",
       "\n",
       "                r2 ppi     skew  \n",
       "17        0.670137   T -0.82335  \n",
       "2761      0.670137   3 -0.82335  \n",
       "4419      0.670137   - -0.82335  \n",
       "4953      0.670137   3 -0.82335  \n",
       "6763      0.670137   3 -0.82335  \n",
       "...            ...  ..      ...  \n",
       "49699330  0.670137   4 -0.82335  \n",
       "49712929  0.670137   3 -0.82335  \n",
       "49728924  0.670137   - -0.82335  \n",
       "49748301  0.670137   2 -0.82335  \n",
       "49790534  0.670137   3 -0.82335  \n",
       "\n",
       "[2960 rows x 15 columns]"
      ]
     },
     "execution_count": 42,
     "metadata": {},
     "output_type": "execute_result"
    }
   ],
   "source": [
    "lm_crispr.query('y_id == \"PRKAR1A\"')"
   ]
  },
  {
   "cell_type": "code",
   "execution_count": 81,
   "metadata": {
    "ExecuteTime": {
     "end_time": "2020-09-11T01:06:33.783101Z",
     "start_time": "2020-09-11T01:06:27.385245Z"
    }
   },
   "outputs": [],
   "source": [
    "lm_res = pd.read_csv(\n",
    "    \"../../result_files/lm/lm_sklearn_degr_drug_annotated.csv.gz\")\n",
    "lm_res = lm_res[(lm_res['fdr'] < 0.1)|(lm_res['nc_fdr'] < 0.001)]"
   ]
  },
  {
   "cell_type": "code",
   "execution_count": 44,
   "metadata": {
    "ExecuteTime": {
     "end_time": "2020-09-17T05:15:00.462144Z",
     "start_time": "2020-09-17T05:15:00.431325Z"
    }
   },
   "outputs": [
    {
     "data": {
      "text/html": [
       "<div>\n",
       "<style scoped>\n",
       "    .dataframe tbody tr th:only-of-type {\n",
       "        vertical-align: middle;\n",
       "    }\n",
       "\n",
       "    .dataframe tbody tr th {\n",
       "        vertical-align: top;\n",
       "    }\n",
       "\n",
       "    .dataframe thead th {\n",
       "        text-align: right;\n",
       "    }\n",
       "</style>\n",
       "<table border=\"1\" class=\"dataframe\">\n",
       "  <thead>\n",
       "    <tr style=\"text-align: right;\">\n",
       "      <th></th>\n",
       "      <th>y_id</th>\n",
       "      <th>x_id</th>\n",
       "      <th>n</th>\n",
       "      <th>beta</th>\n",
       "      <th>lr</th>\n",
       "      <th>covs</th>\n",
       "      <th>pval</th>\n",
       "      <th>fdr</th>\n",
       "      <th>nc_beta</th>\n",
       "      <th>nc_lr</th>\n",
       "      <th>nc_pval</th>\n",
       "      <th>nc_fdr</th>\n",
       "      <th>r2</th>\n",
       "      <th>target</th>\n",
       "      <th>ppi</th>\n",
       "      <th>skew</th>\n",
       "    </tr>\n",
       "  </thead>\n",
       "  <tbody>\n",
       "    <tr>\n",
       "      <th>10</th>\n",
       "      <td>1958;Merestinib;GDSC2</td>\n",
       "      <td>MET</td>\n",
       "      <td>527</td>\n",
       "      <td>-0.512602</td>\n",
       "      <td>48.015989</td>\n",
       "      <td>22</td>\n",
       "      <td>4.227577e-12</td>\n",
       "      <td>1.251363e-08</td>\n",
       "      <td>-0.453378</td>\n",
       "      <td>46.865382</td>\n",
       "      <td>7.603397e-12</td>\n",
       "      <td>2.250606e-08</td>\n",
       "      <td>0.394103</td>\n",
       "      <td>MET;MST1R</td>\n",
       "      <td>T</td>\n",
       "      <td>-1.143132</td>\n",
       "    </tr>\n",
       "    <tr>\n",
       "      <th>18</th>\n",
       "      <td>1936;Savolitinib;GDSC2</td>\n",
       "      <td>MET</td>\n",
       "      <td>664</td>\n",
       "      <td>-0.419684</td>\n",
       "      <td>45.210970</td>\n",
       "      <td>22</td>\n",
       "      <td>1.769113e-11</td>\n",
       "      <td>5.236575e-08</td>\n",
       "      <td>-0.363764</td>\n",
       "      <td>41.982289</td>\n",
       "      <td>9.210387e-11</td>\n",
       "      <td>2.169756e-07</td>\n",
       "      <td>0.657922</td>\n",
       "      <td>MET</td>\n",
       "      <td>T</td>\n",
       "      <td>-1.306811</td>\n",
       "    </tr>\n",
       "    <tr>\n",
       "      <th>62</th>\n",
       "      <td>1403;AZD6094;GDSC1</td>\n",
       "      <td>MET</td>\n",
       "      <td>637</td>\n",
       "      <td>-0.337195</td>\n",
       "      <td>38.709974</td>\n",
       "      <td>22</td>\n",
       "      <td>4.916902e-10</td>\n",
       "      <td>7.277016e-07</td>\n",
       "      <td>-0.362232</td>\n",
       "      <td>54.840322</td>\n",
       "      <td>1.307309e-13</td>\n",
       "      <td>3.869636e-10</td>\n",
       "      <td>0.424649</td>\n",
       "      <td>MET</td>\n",
       "      <td>T</td>\n",
       "      <td>-4.084074</td>\n",
       "    </tr>\n",
       "    <tr>\n",
       "      <th>813</th>\n",
       "      <td>2040;Foretinib;GDSC2</td>\n",
       "      <td>MET</td>\n",
       "      <td>659</td>\n",
       "      <td>-0.328689</td>\n",
       "      <td>29.318785</td>\n",
       "      <td>22</td>\n",
       "      <td>6.139761e-08</td>\n",
       "      <td>1.817369e-04</td>\n",
       "      <td>-0.228652</td>\n",
       "      <td>16.499860</td>\n",
       "      <td>4.865367e-05</td>\n",
       "      <td>1.007695e-02</td>\n",
       "      <td>0.543382</td>\n",
       "      <td>EGFR;FGFR1;FLT4;KDR;MET;MST1R;PDGFRA;PDGFRB;RO...</td>\n",
       "      <td>T</td>\n",
       "      <td>-0.183719</td>\n",
       "    </tr>\n",
       "    <tr>\n",
       "      <th>2598</th>\n",
       "      <td>1954;ASLAN002;GDSC2</td>\n",
       "      <td>MET</td>\n",
       "      <td>527</td>\n",
       "      <td>-0.285546</td>\n",
       "      <td>21.985421</td>\n",
       "      <td>22</td>\n",
       "      <td>2.747294e-06</td>\n",
       "      <td>1.161713e-03</td>\n",
       "      <td>-0.204274</td>\n",
       "      <td>13.641089</td>\n",
       "      <td>2.212891e-04</td>\n",
       "      <td>7.987995e-03</td>\n",
       "      <td>0.641873</td>\n",
       "      <td>MET;AXL;MST1R;TYRO3</td>\n",
       "      <td>T</td>\n",
       "      <td>-0.196571</td>\n",
       "    </tr>\n",
       "    <tr>\n",
       "      <th>5307</th>\n",
       "      <td>2047;Ulixertinib;GDSC2</td>\n",
       "      <td>MAPK3</td>\n",
       "      <td>617</td>\n",
       "      <td>0.314438</td>\n",
       "      <td>17.307499</td>\n",
       "      <td>22</td>\n",
       "      <td>3.179297e-05</td>\n",
       "      <td>3.720449e-03</td>\n",
       "      <td>0.239765</td>\n",
       "      <td>9.774639</td>\n",
       "      <td>1.769354e-03</td>\n",
       "      <td>1.591881e-02</td>\n",
       "      <td>0.363075</td>\n",
       "      <td>MAPK1;MAPK3</td>\n",
       "      <td>T</td>\n",
       "      <td>-0.135157</td>\n",
       "    </tr>\n",
       "    <tr>\n",
       "      <th>6180</th>\n",
       "      <td>275;I-BET-762;GDSC1</td>\n",
       "      <td>BRD4</td>\n",
       "      <td>824</td>\n",
       "      <td>0.350964</td>\n",
       "      <td>20.627068</td>\n",
       "      <td>22</td>\n",
       "      <td>5.580158e-06</td>\n",
       "      <td>4.748178e-03</td>\n",
       "      <td>0.259078</td>\n",
       "      <td>11.687155</td>\n",
       "      <td>6.293305e-04</td>\n",
       "      <td>1.070585e-02</td>\n",
       "      <td>0.620601</td>\n",
       "      <td>BRD2;BRD3;BRD4</td>\n",
       "      <td>T</td>\n",
       "      <td>-0.534887</td>\n",
       "    </tr>\n",
       "    <tr>\n",
       "      <th>8069</th>\n",
       "      <td>1850;Tepotinib;GDSC2</td>\n",
       "      <td>MET</td>\n",
       "      <td>653</td>\n",
       "      <td>-0.326906</td>\n",
       "      <td>22.267559</td>\n",
       "      <td>22</td>\n",
       "      <td>2.371799e-06</td>\n",
       "      <td>7.020525e-03</td>\n",
       "      <td>-0.268783</td>\n",
       "      <td>18.077742</td>\n",
       "      <td>2.120660e-05</td>\n",
       "      <td>9.280174e-03</td>\n",
       "      <td>0.483382</td>\n",
       "      <td>MET</td>\n",
       "      <td>T</td>\n",
       "      <td>-0.649486</td>\n",
       "    </tr>\n",
       "    <tr>\n",
       "      <th>14877</th>\n",
       "      <td>1997;WEHI-539;GDSC2</td>\n",
       "      <td>BCL2L1</td>\n",
       "      <td>613</td>\n",
       "      <td>-0.516310</td>\n",
       "      <td>13.257609</td>\n",
       "      <td>22</td>\n",
       "      <td>2.714756e-04</td>\n",
       "      <td>1.588431e-02</td>\n",
       "      <td>-0.890385</td>\n",
       "      <td>60.514716</td>\n",
       "      <td>7.303046e-15</td>\n",
       "      <td>2.161702e-11</td>\n",
       "      <td>0.436518</td>\n",
       "      <td>BCL2L1</td>\n",
       "      <td>T</td>\n",
       "      <td>-1.109627</td>\n",
       "    </tr>\n",
       "    <tr>\n",
       "      <th>15626</th>\n",
       "      <td>2103;Capmatinib;GDSC2</td>\n",
       "      <td>MET</td>\n",
       "      <td>386</td>\n",
       "      <td>-0.209853</td>\n",
       "      <td>20.574790</td>\n",
       "      <td>22</td>\n",
       "      <td>5.734634e-06</td>\n",
       "      <td>1.697452e-02</td>\n",
       "      <td>-0.190679</td>\n",
       "      <td>21.482201</td>\n",
       "      <td>3.571281e-06</td>\n",
       "      <td>1.057099e-02</td>\n",
       "      <td>0.702189</td>\n",
       "      <td>MET</td>\n",
       "      <td>T</td>\n",
       "      <td>-1.898467</td>\n",
       "    </tr>\n",
       "    <tr>\n",
       "      <th>16995</th>\n",
       "      <td>134;Etoposide;GDSC1</td>\n",
       "      <td>TOP2A</td>\n",
       "      <td>843</td>\n",
       "      <td>-0.400301</td>\n",
       "      <td>19.548250</td>\n",
       "      <td>22</td>\n",
       "      <td>9.809055e-06</td>\n",
       "      <td>1.885891e-02</td>\n",
       "      <td>-0.517697</td>\n",
       "      <td>42.042141</td>\n",
       "      <td>8.932746e-11</td>\n",
       "      <td>2.644093e-07</td>\n",
       "      <td>0.427669</td>\n",
       "      <td>TOP2A</td>\n",
       "      <td>T</td>\n",
       "      <td>0.279709</td>\n",
       "    </tr>\n",
       "    <tr>\n",
       "      <th>20526</th>\n",
       "      <td>1915;AZD3759;GDSC2</td>\n",
       "      <td>EGFR</td>\n",
       "      <td>657</td>\n",
       "      <td>-0.137459</td>\n",
       "      <td>9.185913</td>\n",
       "      <td>22</td>\n",
       "      <td>2.438848e-03</td>\n",
       "      <td>2.420381e-02</td>\n",
       "      <td>-0.233894</td>\n",
       "      <td>55.484059</td>\n",
       "      <td>9.422001e-14</td>\n",
       "      <td>2.535375e-11</td>\n",
       "      <td>0.515018</td>\n",
       "      <td>EGFR</td>\n",
       "      <td>T</td>\n",
       "      <td>-0.710018</td>\n",
       "    </tr>\n",
       "    <tr>\n",
       "      <th>21286</th>\n",
       "      <td>1933;P22077;GDSC2</td>\n",
       "      <td>USP7</td>\n",
       "      <td>937</td>\n",
       "      <td>-0.315051</td>\n",
       "      <td>8.455110</td>\n",
       "      <td>22</td>\n",
       "      <td>3.640193e-03</td>\n",
       "      <td>2.541267e-02</td>\n",
       "      <td>-0.281974</td>\n",
       "      <td>9.110029</td>\n",
       "      <td>2.542118e-03</td>\n",
       "      <td>1.351452e-02</td>\n",
       "      <td>0.549350</td>\n",
       "      <td>USP7;USP47</td>\n",
       "      <td>T</td>\n",
       "      <td>-0.130433</td>\n",
       "    </tr>\n",
       "    <tr>\n",
       "      <th>23010</th>\n",
       "      <td>1549;Sapatinib;GDSC2</td>\n",
       "      <td>EGFR</td>\n",
       "      <td>657</td>\n",
       "      <td>-0.262706</td>\n",
       "      <td>11.056351</td>\n",
       "      <td>22</td>\n",
       "      <td>8.838390e-04</td>\n",
       "      <td>2.813079e-02</td>\n",
       "      <td>-0.478143</td>\n",
       "      <td>66.564698</td>\n",
       "      <td>3.385960e-16</td>\n",
       "      <td>2.569857e-14</td>\n",
       "      <td>0.517605</td>\n",
       "      <td>EGFR;ERBB2;ERBB3</td>\n",
       "      <td>T</td>\n",
       "      <td>-0.925223</td>\n",
       "    </tr>\n",
       "    <tr>\n",
       "      <th>27436</th>\n",
       "      <td>1219;PFI-1;GDSC1</td>\n",
       "      <td>BRD4</td>\n",
       "      <td>837</td>\n",
       "      <td>0.188007</td>\n",
       "      <td>11.557350</td>\n",
       "      <td>22</td>\n",
       "      <td>6.748198e-04</td>\n",
       "      <td>3.492356e-02</td>\n",
       "      <td>0.191809</td>\n",
       "      <td>12.705961</td>\n",
       "      <td>3.644919e-04</td>\n",
       "      <td>1.043976e-02</td>\n",
       "      <td>0.434109</td>\n",
       "      <td>BRD4</td>\n",
       "      <td>T</td>\n",
       "      <td>0.323854</td>\n",
       "    </tr>\n",
       "    <tr>\n",
       "      <th>29045</th>\n",
       "      <td>2284;MS023;GDSC2</td>\n",
       "      <td>PRMT3</td>\n",
       "      <td>403</td>\n",
       "      <td>0.202686</td>\n",
       "      <td>8.873969</td>\n",
       "      <td>22</td>\n",
       "      <td>2.892655e-03</td>\n",
       "      <td>3.739335e-02</td>\n",
       "      <td>0.168212</td>\n",
       "      <td>6.663922</td>\n",
       "      <td>9.838413e-03</td>\n",
       "      <td>8.722623e-02</td>\n",
       "      <td>0.614775</td>\n",
       "      <td>PRMT1;PRMT3;CARM1;PRMT6;PRMT8</td>\n",
       "      <td>T</td>\n",
       "      <td>-0.146421</td>\n",
       "    </tr>\n",
       "    <tr>\n",
       "      <th>33334</th>\n",
       "      <td>1916;AZD5363;GDSC2</td>\n",
       "      <td>ROCK2</td>\n",
       "      <td>641</td>\n",
       "      <td>-0.230004</td>\n",
       "      <td>7.392246</td>\n",
       "      <td>22</td>\n",
       "      <td>6.550562e-03</td>\n",
       "      <td>4.426864e-02</td>\n",
       "      <td>-0.197955</td>\n",
       "      <td>6.721416</td>\n",
       "      <td>9.526195e-03</td>\n",
       "      <td>3.867975e-02</td>\n",
       "      <td>0.501369</td>\n",
       "      <td>AKT1;AKT2;AKT3;ROCK2</td>\n",
       "      <td>T</td>\n",
       "      <td>-0.174597</td>\n",
       "    </tr>\n",
       "    <tr>\n",
       "      <th>35764</th>\n",
       "      <td>262;VX-11e;GDSC1</td>\n",
       "      <td>MAPK1</td>\n",
       "      <td>863</td>\n",
       "      <td>0.215583</td>\n",
       "      <td>8.411741</td>\n",
       "      <td>22</td>\n",
       "      <td>3.728055e-03</td>\n",
       "      <td>4.839931e-02</td>\n",
       "      <td>-0.007915</td>\n",
       "      <td>0.013471</td>\n",
       "      <td>9.076012e-01</td>\n",
       "      <td>9.409806e-01</td>\n",
       "      <td>0.444122</td>\n",
       "      <td>MAPK1</td>\n",
       "      <td>T</td>\n",
       "      <td>-0.729647</td>\n",
       "    </tr>\n",
       "    <tr>\n",
       "      <th>37285</th>\n",
       "      <td>1937;S-crizotinib;GDSC2</td>\n",
       "      <td>NUDT1</td>\n",
       "      <td>458</td>\n",
       "      <td>-0.219971</td>\n",
       "      <td>7.155054</td>\n",
       "      <td>22</td>\n",
       "      <td>7.475303e-03</td>\n",
       "      <td>5.086643e-02</td>\n",
       "      <td>-0.300294</td>\n",
       "      <td>18.003151</td>\n",
       "      <td>2.205396e-05</td>\n",
       "      <td>9.325676e-04</td>\n",
       "      <td>0.557510</td>\n",
       "      <td>NUDT1</td>\n",
       "      <td>T</td>\n",
       "      <td>0.364467</td>\n",
       "    </tr>\n",
       "    <tr>\n",
       "      <th>38325</th>\n",
       "      <td>1913;AGI-5198;GDSC2</td>\n",
       "      <td>IDH1</td>\n",
       "      <td>931</td>\n",
       "      <td>-0.083401</td>\n",
       "      <td>5.868601</td>\n",
       "      <td>22</td>\n",
       "      <td>1.541329e-02</td>\n",
       "      <td>5.268285e-02</td>\n",
       "      <td>-0.103457</td>\n",
       "      <td>14.498219</td>\n",
       "      <td>1.402921e-04</td>\n",
       "      <td>2.281673e-03</td>\n",
       "      <td>0.587723</td>\n",
       "      <td>IDH1</td>\n",
       "      <td>T</td>\n",
       "      <td>0.067443</td>\n",
       "    </tr>\n",
       "    <tr>\n",
       "      <th>43068</th>\n",
       "      <td>201;Epothilone B;GDSC1</td>\n",
       "      <td>TUBB4B</td>\n",
       "      <td>832</td>\n",
       "      <td>0.181516</td>\n",
       "      <td>12.139373</td>\n",
       "      <td>22</td>\n",
       "      <td>4.936837e-04</td>\n",
       "      <td>6.050455e-02</td>\n",
       "      <td>0.175444</td>\n",
       "      <td>12.246856</td>\n",
       "      <td>4.660426e-04</td>\n",
       "      <td>7.141939e-03</td>\n",
       "      <td>0.374594</td>\n",
       "      <td>TUBB4B</td>\n",
       "      <td>T</td>\n",
       "      <td>0.484928</td>\n",
       "    </tr>\n",
       "    <tr>\n",
       "      <th>46436</th>\n",
       "      <td>301;PHA-793887;GDSC1</td>\n",
       "      <td>CDK5</td>\n",
       "      <td>610</td>\n",
       "      <td>0.335962</td>\n",
       "      <td>9.258364</td>\n",
       "      <td>22</td>\n",
       "      <td>2.344223e-03</td>\n",
       "      <td>6.608477e-02</td>\n",
       "      <td>0.398787</td>\n",
       "      <td>16.701709</td>\n",
       "      <td>4.374158e-05</td>\n",
       "      <td>2.754789e-03</td>\n",
       "      <td>0.629201</td>\n",
       "      <td>CDK2;CDK5;CDK7</td>\n",
       "      <td>T</td>\n",
       "      <td>-0.385090</td>\n",
       "    </tr>\n",
       "    <tr>\n",
       "      <th>51813</th>\n",
       "      <td>2047;Ulixertinib;GDSC2</td>\n",
       "      <td>MAPK1</td>\n",
       "      <td>716</td>\n",
       "      <td>0.210607</td>\n",
       "      <td>6.830869</td>\n",
       "      <td>22</td>\n",
       "      <td>8.959567e-03</td>\n",
       "      <td>7.473924e-02</td>\n",
       "      <td>0.174375</td>\n",
       "      <td>6.082778</td>\n",
       "      <td>1.365059e-02</td>\n",
       "      <td>5.977182e-02</td>\n",
       "      <td>0.363075</td>\n",
       "      <td>MAPK1;MAPK3</td>\n",
       "      <td>T</td>\n",
       "      <td>-0.135157</td>\n",
       "    </tr>\n",
       "    <tr>\n",
       "      <th>60524</th>\n",
       "      <td>1010;Gefitinib;GDSC2</td>\n",
       "      <td>EGFR</td>\n",
       "      <td>654</td>\n",
       "      <td>-0.159283</td>\n",
       "      <td>9.189160</td>\n",
       "      <td>22</td>\n",
       "      <td>2.434526e-03</td>\n",
       "      <td>8.883202e-02</td>\n",
       "      <td>-0.304469</td>\n",
       "      <td>64.932103</td>\n",
       "      <td>7.752374e-16</td>\n",
       "      <td>1.912252e-13</td>\n",
       "      <td>0.483169</td>\n",
       "      <td>EGFR</td>\n",
       "      <td>T</td>\n",
       "      <td>-0.802075</td>\n",
       "    </tr>\n",
       "    <tr>\n",
       "      <th>61019</th>\n",
       "      <td>1987;BCLXL_3202;GDSC2</td>\n",
       "      <td>BCL2L1</td>\n",
       "      <td>486</td>\n",
       "      <td>-0.397684</td>\n",
       "      <td>7.057176</td>\n",
       "      <td>22</td>\n",
       "      <td>7.894835e-03</td>\n",
       "      <td>8.954685e-02</td>\n",
       "      <td>-0.768761</td>\n",
       "      <td>40.993740</td>\n",
       "      <td>1.527176e-10</td>\n",
       "      <td>4.520442e-07</td>\n",
       "      <td>0.381055</td>\n",
       "      <td>BCL2L1</td>\n",
       "      <td>T</td>\n",
       "      <td>-1.150196</td>\n",
       "    </tr>\n",
       "    <tr>\n",
       "      <th>62533</th>\n",
       "      <td>1052;RO-3306;GDSC2</td>\n",
       "      <td>CDK1</td>\n",
       "      <td>906</td>\n",
       "      <td>0.196117</td>\n",
       "      <td>6.962530</td>\n",
       "      <td>22</td>\n",
       "      <td>8.323424e-03</td>\n",
       "      <td>9.193036e-02</td>\n",
       "      <td>0.112589</td>\n",
       "      <td>2.365966</td>\n",
       "      <td>1.240071e-01</td>\n",
       "      <td>2.491928e-01</td>\n",
       "      <td>0.627912</td>\n",
       "      <td>CDK1</td>\n",
       "      <td>T</td>\n",
       "      <td>0.382022</td>\n",
       "    </tr>\n",
       "    <tr>\n",
       "      <th>63334</th>\n",
       "      <td>1259;Talazoparib;GDSC2</td>\n",
       "      <td>PARP1</td>\n",
       "      <td>934</td>\n",
       "      <td>-0.469186</td>\n",
       "      <td>13.721067</td>\n",
       "      <td>22</td>\n",
       "      <td>2.120623e-04</td>\n",
       "      <td>9.314826e-02</td>\n",
       "      <td>-0.703637</td>\n",
       "      <td>52.747430</td>\n",
       "      <td>3.793194e-13</td>\n",
       "      <td>5.613927e-10</td>\n",
       "      <td>0.603401</td>\n",
       "      <td>PARP1;PARP2</td>\n",
       "      <td>T</td>\n",
       "      <td>-0.647636</td>\n",
       "    </tr>\n",
       "    <tr>\n",
       "      <th>65255</th>\n",
       "      <td>1494;SN-38;GDSC1</td>\n",
       "      <td>TOP1</td>\n",
       "      <td>914</td>\n",
       "      <td>-0.264458</td>\n",
       "      <td>6.520850</td>\n",
       "      <td>22</td>\n",
       "      <td>1.066170e-02</td>\n",
       "      <td>9.617773e-02</td>\n",
       "      <td>-0.239548</td>\n",
       "      <td>7.631424</td>\n",
       "      <td>5.735999e-03</td>\n",
       "      <td>4.061856e-02</td>\n",
       "      <td>0.550862</td>\n",
       "      <td>TOP1</td>\n",
       "      <td>T</td>\n",
       "      <td>0.269203</td>\n",
       "    </tr>\n",
       "  </tbody>\n",
       "</table>\n",
       "</div>"
      ],
      "text/plain": [
       "                          y_id    x_id    n      beta         lr  covs  \\\n",
       "10       1958;Merestinib;GDSC2     MET  527 -0.512602  48.015989    22   \n",
       "18      1936;Savolitinib;GDSC2     MET  664 -0.419684  45.210970    22   \n",
       "62          1403;AZD6094;GDSC1     MET  637 -0.337195  38.709974    22   \n",
       "813       2040;Foretinib;GDSC2     MET  659 -0.328689  29.318785    22   \n",
       "2598       1954;ASLAN002;GDSC2     MET  527 -0.285546  21.985421    22   \n",
       "5307    2047;Ulixertinib;GDSC2   MAPK3  617  0.314438  17.307499    22   \n",
       "6180       275;I-BET-762;GDSC1    BRD4  824  0.350964  20.627068    22   \n",
       "8069      1850;Tepotinib;GDSC2     MET  653 -0.326906  22.267559    22   \n",
       "14877      1997;WEHI-539;GDSC2  BCL2L1  613 -0.516310  13.257609    22   \n",
       "15626    2103;Capmatinib;GDSC2     MET  386 -0.209853  20.574790    22   \n",
       "16995      134;Etoposide;GDSC1   TOP2A  843 -0.400301  19.548250    22   \n",
       "20526       1915;AZD3759;GDSC2    EGFR  657 -0.137459   9.185913    22   \n",
       "21286        1933;P22077;GDSC2    USP7  937 -0.315051   8.455110    22   \n",
       "23010     1549;Sapatinib;GDSC2    EGFR  657 -0.262706  11.056351    22   \n",
       "27436         1219;PFI-1;GDSC1    BRD4  837  0.188007  11.557350    22   \n",
       "29045         2284;MS023;GDSC2   PRMT3  403  0.202686   8.873969    22   \n",
       "33334       1916;AZD5363;GDSC2   ROCK2  641 -0.230004   7.392246    22   \n",
       "35764         262;VX-11e;GDSC1   MAPK1  863  0.215583   8.411741    22   \n",
       "37285  1937;S-crizotinib;GDSC2   NUDT1  458 -0.219971   7.155054    22   \n",
       "38325      1913;AGI-5198;GDSC2    IDH1  931 -0.083401   5.868601    22   \n",
       "43068   201;Epothilone B;GDSC1  TUBB4B  832  0.181516  12.139373    22   \n",
       "46436     301;PHA-793887;GDSC1    CDK5  610  0.335962   9.258364    22   \n",
       "51813   2047;Ulixertinib;GDSC2   MAPK1  716  0.210607   6.830869    22   \n",
       "60524     1010;Gefitinib;GDSC2    EGFR  654 -0.159283   9.189160    22   \n",
       "61019    1987;BCLXL_3202;GDSC2  BCL2L1  486 -0.397684   7.057176    22   \n",
       "62533       1052;RO-3306;GDSC2    CDK1  906  0.196117   6.962530    22   \n",
       "63334   1259;Talazoparib;GDSC2   PARP1  934 -0.469186  13.721067    22   \n",
       "65255         1494;SN-38;GDSC1    TOP1  914 -0.264458   6.520850    22   \n",
       "\n",
       "               pval           fdr   nc_beta      nc_lr       nc_pval  \\\n",
       "10     4.227577e-12  1.251363e-08 -0.453378  46.865382  7.603397e-12   \n",
       "18     1.769113e-11  5.236575e-08 -0.363764  41.982289  9.210387e-11   \n",
       "62     4.916902e-10  7.277016e-07 -0.362232  54.840322  1.307309e-13   \n",
       "813    6.139761e-08  1.817369e-04 -0.228652  16.499860  4.865367e-05   \n",
       "2598   2.747294e-06  1.161713e-03 -0.204274  13.641089  2.212891e-04   \n",
       "5307   3.179297e-05  3.720449e-03  0.239765   9.774639  1.769354e-03   \n",
       "6180   5.580158e-06  4.748178e-03  0.259078  11.687155  6.293305e-04   \n",
       "8069   2.371799e-06  7.020525e-03 -0.268783  18.077742  2.120660e-05   \n",
       "14877  2.714756e-04  1.588431e-02 -0.890385  60.514716  7.303046e-15   \n",
       "15626  5.734634e-06  1.697452e-02 -0.190679  21.482201  3.571281e-06   \n",
       "16995  9.809055e-06  1.885891e-02 -0.517697  42.042141  8.932746e-11   \n",
       "20526  2.438848e-03  2.420381e-02 -0.233894  55.484059  9.422001e-14   \n",
       "21286  3.640193e-03  2.541267e-02 -0.281974   9.110029  2.542118e-03   \n",
       "23010  8.838390e-04  2.813079e-02 -0.478143  66.564698  3.385960e-16   \n",
       "27436  6.748198e-04  3.492356e-02  0.191809  12.705961  3.644919e-04   \n",
       "29045  2.892655e-03  3.739335e-02  0.168212   6.663922  9.838413e-03   \n",
       "33334  6.550562e-03  4.426864e-02 -0.197955   6.721416  9.526195e-03   \n",
       "35764  3.728055e-03  4.839931e-02 -0.007915   0.013471  9.076012e-01   \n",
       "37285  7.475303e-03  5.086643e-02 -0.300294  18.003151  2.205396e-05   \n",
       "38325  1.541329e-02  5.268285e-02 -0.103457  14.498219  1.402921e-04   \n",
       "43068  4.936837e-04  6.050455e-02  0.175444  12.246856  4.660426e-04   \n",
       "46436  2.344223e-03  6.608477e-02  0.398787  16.701709  4.374158e-05   \n",
       "51813  8.959567e-03  7.473924e-02  0.174375   6.082778  1.365059e-02   \n",
       "60524  2.434526e-03  8.883202e-02 -0.304469  64.932103  7.752374e-16   \n",
       "61019  7.894835e-03  8.954685e-02 -0.768761  40.993740  1.527176e-10   \n",
       "62533  8.323424e-03  9.193036e-02  0.112589   2.365966  1.240071e-01   \n",
       "63334  2.120623e-04  9.314826e-02 -0.703637  52.747430  3.793194e-13   \n",
       "65255  1.066170e-02  9.617773e-02 -0.239548   7.631424  5.735999e-03   \n",
       "\n",
       "             nc_fdr        r2  \\\n",
       "10     2.250606e-08  0.394103   \n",
       "18     2.169756e-07  0.657922   \n",
       "62     3.869636e-10  0.424649   \n",
       "813    1.007695e-02  0.543382   \n",
       "2598   7.987995e-03  0.641873   \n",
       "5307   1.591881e-02  0.363075   \n",
       "6180   1.070585e-02  0.620601   \n",
       "8069   9.280174e-03  0.483382   \n",
       "14877  2.161702e-11  0.436518   \n",
       "15626  1.057099e-02  0.702189   \n",
       "16995  2.644093e-07  0.427669   \n",
       "20526  2.535375e-11  0.515018   \n",
       "21286  1.351452e-02  0.549350   \n",
       "23010  2.569857e-14  0.517605   \n",
       "27436  1.043976e-02  0.434109   \n",
       "29045  8.722623e-02  0.614775   \n",
       "33334  3.867975e-02  0.501369   \n",
       "35764  9.409806e-01  0.444122   \n",
       "37285  9.325676e-04  0.557510   \n",
       "38325  2.281673e-03  0.587723   \n",
       "43068  7.141939e-03  0.374594   \n",
       "46436  2.754789e-03  0.629201   \n",
       "51813  5.977182e-02  0.363075   \n",
       "60524  1.912252e-13  0.483169   \n",
       "61019  4.520442e-07  0.381055   \n",
       "62533  2.491928e-01  0.627912   \n",
       "63334  5.613927e-10  0.603401   \n",
       "65255  4.061856e-02  0.550862   \n",
       "\n",
       "                                                  target ppi      skew  \n",
       "10                                             MET;MST1R   T -1.143132  \n",
       "18                                                   MET   T -1.306811  \n",
       "62                                                   MET   T -4.084074  \n",
       "813    EGFR;FGFR1;FLT4;KDR;MET;MST1R;PDGFRA;PDGFRB;RO...   T -0.183719  \n",
       "2598                                 MET;AXL;MST1R;TYRO3   T -0.196571  \n",
       "5307                                         MAPK1;MAPK3   T -0.135157  \n",
       "6180                                      BRD2;BRD3;BRD4   T -0.534887  \n",
       "8069                                                 MET   T -0.649486  \n",
       "14877                                             BCL2L1   T -1.109627  \n",
       "15626                                                MET   T -1.898467  \n",
       "16995                                              TOP2A   T  0.279709  \n",
       "20526                                               EGFR   T -0.710018  \n",
       "21286                                         USP7;USP47   T -0.130433  \n",
       "23010                                   EGFR;ERBB2;ERBB3   T -0.925223  \n",
       "27436                                               BRD4   T  0.323854  \n",
       "29045                      PRMT1;PRMT3;CARM1;PRMT6;PRMT8   T -0.146421  \n",
       "33334                               AKT1;AKT2;AKT3;ROCK2   T -0.174597  \n",
       "35764                                              MAPK1   T -0.729647  \n",
       "37285                                              NUDT1   T  0.364467  \n",
       "38325                                               IDH1   T  0.067443  \n",
       "43068                                             TUBB4B   T  0.484928  \n",
       "46436                                     CDK2;CDK5;CDK7   T -0.385090  \n",
       "51813                                        MAPK1;MAPK3   T -0.135157  \n",
       "60524                                               EGFR   T -0.802075  \n",
       "61019                                             BCL2L1   T -1.150196  \n",
       "62533                                               CDK1   T  0.382022  \n",
       "63334                                        PARP1;PARP2   T -0.647636  \n",
       "65255                                               TOP1   T  0.269203  "
      ]
     },
     "execution_count": 44,
     "metadata": {},
     "output_type": "execute_result"
    }
   ],
   "source": [
    "lm_res.query('ppi == \"T\"')"
   ]
  },
  {
   "cell_type": "code",
   "execution_count": 82,
   "metadata": {
    "ExecuteTime": {
     "end_time": "2020-09-11T01:09:12.626774Z",
     "start_time": "2020-09-11T01:06:33.785777Z"
    }
   },
   "outputs": [],
   "source": [
    "lm_crispr = pd.read_csv(\n",
    "    \"../../result_files/lm/lm_sklearn_degr_crispr_annotated.csv.gz\")"
   ]
  },
  {
   "cell_type": "code",
   "execution_count": 83,
   "metadata": {
    "ExecuteTime": {
     "end_time": "2020-09-11T01:09:12.985452Z",
     "start_time": "2020-09-11T01:09:12.629567Z"
    }
   },
   "outputs": [],
   "source": [
    "lm_crispr_s = lm_crispr[(lm_crispr['fdr'] < 0.1)|(lm_crispr['nc_fdr'] < 0.001)]"
   ]
  },
  {
   "cell_type": "code",
   "execution_count": 84,
   "metadata": {
    "ExecuteTime": {
     "end_time": "2020-09-11T01:09:15.743387Z",
     "start_time": "2020-09-11T01:09:14.898241Z"
    }
   },
   "outputs": [],
   "source": [
    "lm_res_split = lm_res.assign(target_exp=lm_res['target'].str.split(';')).explode('target_exp')"
   ]
  },
  {
   "cell_type": "code",
   "execution_count": 85,
   "metadata": {
    "ExecuteTime": {
     "end_time": "2020-09-11T01:09:16.360520Z",
     "start_time": "2020-09-11T01:09:16.291339Z"
    }
   },
   "outputs": [],
   "source": [
    "combined = pd.merge(lm_res_split,\n",
    "                    lm_crispr_s,\n",
    "                    left_on=['target_exp', 'x_id'],\n",
    "                    right_on=['y_id', 'x_id'],\n",
    "                    suffixes=['_drug', '_crispr'])"
   ]
  },
  {
   "cell_type": "code",
   "execution_count": 86,
   "metadata": {
    "ExecuteTime": {
     "end_time": "2020-09-11T01:09:17.337961Z",
     "start_time": "2020-09-11T01:09:17.331938Z"
    }
   },
   "outputs": [
    {
     "data": {
      "text/plain": [
       "y_id_drug\n",
       "1008;Methotrexate;GDSC2       2\n",
       "1010;Gefitinib;GDSC1        114\n",
       "1010;Gefitinib;GDSC2        141\n",
       "1011;Navitoclax;GDSC1         2\n",
       "1011;Navitoclax;GDSC2         8\n",
       "                           ... \n",
       "381;AST-1306;GDSC1            4\n",
       "437;Trichostatin A;GDSC1      3\n",
       "51;Dasatinib;GDSC1            5\n",
       "53;CGP-60474;GDSC1            1\n",
       "94;TGX221;GDSC1               1\n",
       "Length: 163, dtype: int64"
      ]
     },
     "execution_count": 86,
     "metadata": {},
     "output_type": "execute_result"
    }
   ],
   "source": [
    "combined.groupby('y_id_drug').size()"
   ]
  },
  {
   "cell_type": "code",
   "execution_count": 87,
   "metadata": {
    "ExecuteTime": {
     "end_time": "2020-09-11T01:09:35.845448Z",
     "start_time": "2020-09-11T01:09:35.750714Z"
    }
   },
   "outputs": [],
   "source": [
    "combined.to_csv(\"../../result_files/drug_crispr_associations_10pcs_nc.csv\", index=False)"
   ]
  },
  {
   "cell_type": "code",
   "execution_count": 97,
   "metadata": {
    "ExecuteTime": {
     "end_time": "2020-09-11T05:22:58.242837Z",
     "start_time": "2020-09-11T05:22:58.239756Z"
    }
   },
   "outputs": [
    {
     "data": {
      "text/plain": [
       "Index(['y_id_drug', 'x_id', 'n_drug', 'beta_drug', 'lr_drug', 'covs_drug',\n",
       "       'pval_drug', 'fdr_drug', 'nc_beta_drug', 'nc_lr_drug', 'nc_pval_drug',\n",
       "       'nc_fdr_drug', 'r2_drug', 'target', 'ppi_drug', 'skew_drug',\n",
       "       'target_exp', 'y_id_crispr', 'n_crispr', 'beta_crispr', 'lr_crispr',\n",
       "       'covs_crispr', 'pval_crispr', 'fdr_crispr', 'nc_beta_crispr',\n",
       "       'nc_lr_crispr', 'nc_pval_crispr', 'nc_fdr_crispr', 'r2_crispr',\n",
       "       'ppi_crispr', 'skew_crispr'],\n",
       "      dtype='object')"
      ]
     },
     "execution_count": 97,
     "metadata": {},
     "output_type": "execute_result"
    }
   ],
   "source": [
    "combined.columns"
   ]
  },
  {
   "cell_type": "code",
   "execution_count": 96,
   "metadata": {
    "ExecuteTime": {
     "end_time": "2020-09-11T05:22:38.410598Z",
     "start_time": "2020-09-11T05:22:38.403413Z"
    }
   },
   "outputs": [
    {
     "data": {
      "text/plain": [
       "array([['1032;Afatinib;GDSC1', 'MRPL58', 904, -0.2511518772558472,\n",
       "        3.9600895486437366, 22, 0.04659122477234079, 0.6649894098626294,\n",
       "        -0.9381390863603584, 54.44644148655198, 1.5974270449797444e-13,\n",
       "        1.2124061674718061e-11, 0.5516709841852823, 'EGFR;ERBB2', '-',\n",
       "        -1.5329226242889262, 'EGFR', 'EGFR', 499, -0.09650414199837444,\n",
       "        1.9510885907956208, 21, 0.16246959298671754, 0.8037429552895878,\n",
       "        -0.3814590602415258, 29.84520018490332, 4.679539402990862e-08,\n",
       "        8.749178837125247e-05, 0.5933204051736818, '-',\n",
       "        -1.7790826121366752]], dtype=object)"
      ]
     },
     "execution_count": 96,
     "metadata": {},
     "output_type": "execute_result"
    }
   ],
   "source": [
    "combined.query(\"y_id_drug == '1032;Afatinib;GDSC1' and x_id == 'MRPL58'\").values"
   ]
  }
 ],
 "metadata": {
  "kernelspec": {
   "display_name": "Python 3",
   "language": "python",
   "name": "python3"
  },
  "language_info": {
   "codemirror_mode": {
    "name": "ipython",
    "version": 3
   },
   "file_extension": ".py",
   "mimetype": "text/x-python",
   "name": "python",
   "nbconvert_exporter": "python",
   "pygments_lexer": "ipython3",
   "version": "3.8.5"
  },
  "toc": {
   "base_numbering": 1,
   "nav_menu": {},
   "number_sections": true,
   "sideBar": true,
   "skip_h1_title": false,
   "title_cell": "Table of Contents",
   "title_sidebar": "Contents",
   "toc_cell": false,
   "toc_position": {
    "height": "calc(100% - 180px)",
    "left": "10px",
    "top": "150px",
    "width": "349.391px"
   },
   "toc_section_display": true,
   "toc_window_display": true
  }
 },
 "nbformat": 4,
 "nbformat_minor": 4
}
