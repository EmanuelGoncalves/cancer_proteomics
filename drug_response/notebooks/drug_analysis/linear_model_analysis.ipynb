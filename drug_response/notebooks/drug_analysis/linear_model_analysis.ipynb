{
 "cells": [
  {
   "cell_type": "code",
   "execution_count": 1,
   "metadata": {
    "ExecuteTime": {
     "end_time": "2020-08-11T07:35:36.869803Z",
     "start_time": "2020-08-11T07:35:31.249603Z"
    }
   },
   "outputs": [],
   "source": [
    "import pandas as pd\n",
    "import numpy as np\n",
    "import seaborn as sns\n",
    "import matplotlib.pyplot as plt\n",
    "from scipy.stats import ttest_ind\n",
    "from sklearn.metrics import r2_score\n",
    "from scipy.stats import pearsonr, spearmanr\n",
    "import plotly.express as px\n",
    "import plotly.graph_objects as go\n",
    "import matplotlib.patches as mpatches\n",
    "from scipy.stats import ttest_ind, ttest_1samp, ttest_rel\n",
    "import matplotlib as mpl\n",
    "import qgrid"
   ]
  },
  {
   "cell_type": "code",
   "execution_count": 2,
   "metadata": {
    "ExecuteTime": {
     "end_time": "2020-08-11T07:35:36.875251Z",
     "start_time": "2020-08-11T07:35:36.871520Z"
    }
   },
   "outputs": [],
   "source": [
    "# mpl.rcParams['font.family'] = 'Avenir'\n",
    "plt.rc('font', family='Helvetica')\n",
    "plt.rcParams['font.size'] = 18\n",
    "plt.rcParams['axes.linewidth'] = 2\n",
    "plt.rcParams['figure.figsize'] = (10.0, 7.0)\n",
    "plt.rcParams['pdf.fonttype'] = 42\n",
    "plt.rcParams['ps.fonttype'] = 42\n",
    "sns.set_palette(\"Dark2\")"
   ]
  },
  {
   "cell_type": "code",
   "execution_count": 3,
   "metadata": {
    "ExecuteTime": {
     "end_time": "2020-08-11T07:35:37.141982Z",
     "start_time": "2020-08-11T07:35:36.877204Z"
    }
   },
   "outputs": [],
   "source": [
    "drug_score = pd.read_csv(\"../../data/drug/final_drug_scores_eg_id.tsv\", sep=\"\\t\")\n",
    "drug_list = drug_score[\n",
    "    (drug_score['MultiDrug_correlation'] > 0.4) & (drug_score['sensitive_count'] > 20)][\n",
    "    'drug_id'].values\n",
    "drug_list_sensitive = drug_score[(drug_score['sensitive_count'] > 20)][\n",
    "    'drug_id'].values"
   ]
  },
  {
   "cell_type": "code",
   "execution_count": 62,
   "metadata": {
    "ExecuteTime": {
     "end_time": "2020-08-11T08:25:07.778398Z",
     "start_time": "2020-08-11T08:25:07.771733Z"
    }
   },
   "outputs": [],
   "source": [
    "colour_list = pd.read_csv('../../data/colour_list.txt',header=None)[0].tolist()"
   ]
  },
  {
   "cell_type": "markdown",
   "metadata": {},
   "source": [
    "# overall"
   ]
  },
  {
   "cell_type": "code",
   "execution_count": 4,
   "metadata": {
    "ExecuteTime": {
     "end_time": "2020-08-11T07:35:43.283245Z",
     "start_time": "2020-08-11T07:35:37.849098Z"
    }
   },
   "outputs": [],
   "source": [
    "lm_res = pd.read_csv(\"../../result_files/lm/lm_sklearn_degr_drug_annotated.csv.gz\")\n",
    "lm_res = lm_res[lm_res['fdr']<0.1].reset_index(drop=True)"
   ]
  },
  {
   "cell_type": "code",
   "execution_count": 21,
   "metadata": {
    "ExecuteTime": {
     "end_time": "2020-08-11T08:01:19.965072Z",
     "start_time": "2020-08-11T08:01:19.959100Z"
    }
   },
   "outputs": [
    {
     "data": {
      "text/plain": [
       "ppi\n",
       "-     0.1\n",
       "2     0.3\n",
       "3     0.2\n",
       "4     0.2\n",
       "5+    0.1\n",
       "dtype: float64"
      ]
     },
     "execution_count": 21,
     "metadata": {},
     "output_type": "execute_result"
    }
   ],
   "source": [
    "n = 10\n",
    "lm_res.head(n).groupby('ppi').size() / n"
   ]
  },
  {
   "cell_type": "code",
   "execution_count": 47,
   "metadata": {
    "ExecuteTime": {
     "end_time": "2020-08-11T08:18:05.655435Z",
     "start_time": "2020-08-11T08:18:05.589592Z"
    }
   },
   "outputs": [],
   "source": [
    "df = {'Top N':[],'T':[], '1':[],'2':[],'3':[],'4':[],'5+':[],'-':[]}\n",
    "for i in [10, 50, 100, 500, 1000,5000]:\n",
    "    tmp = lm_res.dropna(subset=['ppi']).head(i).groupby('ppi').size() / i\n",
    "    tmp_n = 0\n",
    "    df['Top N'].append(i)\n",
    "    for k in df.keys():\n",
    "        if k == 'Top N':\n",
    "            continue\n",
    "        if k in tmp:\n",
    "            df[k].append(tmp[k])\n",
    "        else:\n",
    "            df[k].append(0)\n",
    "df = pd.DataFrame(df)"
   ]
  },
  {
   "cell_type": "code",
   "execution_count": 52,
   "metadata": {
    "ExecuteTime": {
     "end_time": "2020-08-11T08:19:23.469115Z",
     "start_time": "2020-08-11T08:19:23.399551Z"
    }
   },
   "outputs": [],
   "source": [
    "df = {'Top N':[],'T':[], '1':[],'2':[],'3':[],'4':[],'5+':[],'-':[]}\n",
    "for i in [10, 50, 100, 500, 1000,5000]:\n",
    "    tmp = lm_res.dropna(subset=['ppi']).head(i).groupby('ppi').size() / i\n",
    "    tmp_n = 0\n",
    "    df['Top N'].append(i)\n",
    "    for k in df.keys():\n",
    "        if k == 'Top N':\n",
    "            continue\n",
    "        if k in tmp:\n",
    "            df[k].append(tmp[k] + tmp_n)\n",
    "            tmp_n += tmp[k]\n",
    "        else:\n",
    "            df[k].append(0+tmp_n)\n",
    "df = pd.DataFrame(df)"
   ]
  },
  {
   "cell_type": "code",
   "execution_count": 56,
   "metadata": {
    "ExecuteTime": {
     "end_time": "2020-08-11T08:21:30.511757Z",
     "start_time": "2020-08-11T08:21:30.506551Z"
    }
   },
   "outputs": [],
   "source": [
    "df_long = pd.melt(df, id_vars=['Top N'], value_name='percentage', var_name='PPI distance')"
   ]
  },
  {
   "cell_type": "code",
   "execution_count": null,
   "metadata": {},
   "outputs": [],
   "source": [
    "g1 = sns.countplot(x='target_pathway',\n",
    "                   data=dl_ttest_df,\n",
    "                   order=sorted(dl_ttest_df['target_pathway'].unique()),\n",
    "                   linewidth=2,\n",
    "                   edgecolor='black',\n",
    "                   color='#ff7f0e')\n",
    "g2 = sns.countplot(x='target_pathway',\n",
    "                   data=dl_ttest_df[dl_ttest_df['protein_improvement'] > 0],\n",
    "                   order=sorted(dl_ttest_df['target_pathway'].unique()),\n",
    "                   linewidth=2,\n",
    "                   edgecolor='black',\n",
    "                   color=\"#1f77b4\")\n",
    "\n",
    "total_patch = mpatches.Patch(color='#ff7f0e', label='RNA better')\n",
    "improved_patch = mpatches.Patch(color='#1f77b4', label='Protein better')"
   ]
  },
  {
   "cell_type": "code",
   "execution_count": 80,
   "metadata": {
    "ExecuteTime": {
     "end_time": "2020-08-11T08:34:50.781219Z",
     "start_time": "2020-08-11T08:34:50.326202Z"
    }
   },
   "outputs": [
    {
     "data": {
      "image/png": "[encoded data removed]",
      "text/plain": [
       "<Figure size 720x504 with 1 Axes>"
      ]
     },
     "metadata": {
      "needs_background": "light"
     },
     "output_type": "display_data"
    }
   ],
   "source": [
    "g1 = sns.barplot(x='Top N',y='percentage', data=df_long[df_long['PPI distance']=='T'],linewidth=1.5,\n",
    "                   edgecolor='black',\n",
    "                   color=colour_list[0], zorder=10)\n",
    "g2 = sns.barplot(x='Top N',y='percentage', data=df_long[df_long['PPI distance']=='1'],linewidth=1.5,\n",
    "                   edgecolor='black',\n",
    "                   color=colour_list[1], zorder=9)\n",
    "g3 = sns.barplot(x='Top N',y='percentage', data=df_long[df_long['PPI distance']=='2'],linewidth=1.5,\n",
    "                   edgecolor='black',\n",
    "                   color=colour_list[2], zorder=8)\n",
    "g4 = sns.barplot(x='Top N',y='percentage', data=df_long[df_long['PPI distance']=='3'],linewidth=1.5,\n",
    "                   edgecolor='black',\n",
    "                   color=colour_list[3], zorder=7)\n",
    "g5 = sns.barplot(x='Top N',y='percentage', data=df_long[df_long['PPI distance']=='4'],linewidth=1.5,\n",
    "                   edgecolor='black',\n",
    "                   color=colour_list[4], zorder=6)\n",
    "g6 = sns.barplot(x='Top N',y='percentage', data=df_long[df_long['PPI distance']=='5+'],linewidth=1.5,\n",
    "                   edgecolor='black',\n",
    "                   color=colour_list[5], zorder=5)\n",
    "g7 = sns.barplot(x='Top N',y='percentage', data=df_long[df_long['PPI distance']=='-'],linewidth=1.5,\n",
    "                   edgecolor='black',\n",
    "                   color=colour_list[6], zorder=4)\n",
    "plt.title(\"Percentage of PPI distance\")\n",
    "plt.xlabel(\"Top N associations\")\n",
    "\n",
    "g1_patch = mpatches.Patch(facecolor=colour_list[0], label='T', edgecolor='black',linewidth=1.5)\n",
    "g2_patch = mpatches.Patch(facecolor=colour_list[1], label='1', edgecolor='black',linewidth=1.5)\n",
    "g3_patch = mpatches.Patch(facecolor=colour_list[2], label='2', edgecolor='black',linewidth=1.5)\n",
    "g4_patch = mpatches.Patch(facecolor=colour_list[3], label='3', edgecolor='black',linewidth=1.5)\n",
    "g5_patch = mpatches.Patch(facecolor=colour_list[4], label='4', edgecolor='black',linewidth=1.5)\n",
    "g6_patch = mpatches.Patch(facecolor=colour_list[5], label='5+', edgecolor='black',linewidth=1.5)\n",
    "g7_patch = mpatches.Patch(facecolor=colour_list[6], label='-', edgecolor='black',linewidth=1.5)\n",
    "\n",
    "\n",
    "plt.legend(handles=[g1_patch, g2_patch, g3_patch,g4_patch,g5_patch,g6_patch,g7_patch],bbox_to_anchor=(1.02, 1),\n",
    "               loc=2,\n",
    "               borderaxespad=0.,\n",
    "               prop={'size': 14})\n",
    "plt.tight_layout()\n",
    "plt.savefig(\"../../plots/drug/top_associations_by_PPI.pdf\", dpi=500)"
   ]
  },
  {
   "cell_type": "code",
   "execution_count": null,
   "metadata": {},
   "outputs": [],
   "source": []
  },
  {
   "cell_type": "code",
   "execution_count": null,
   "metadata": {},
   "outputs": [],
   "source": [
    "names = ('T','1','2','3','4','5+', '-')\n",
    "barWidth = 0.85\n",
    "# Create green Bars\n",
    "plt.bar(r, greenBars, color='#b5ffb9', edgecolor='white', width=barWidth)\n",
    "# Create orange Bars\n",
    "plt.bar(r, orangeBars, bottom=greenBars, color='#f9bc86', edgecolor='white', width=barWidth)\n",
    "# Create blue Bars\n",
    "plt.bar(r, blueBars, bottom=[i+j for i,j in zip(greenBars, orangeBars)], color='#a3acff', edgecolor='white', width=barWidth)\n"
   ]
  },
  {
   "cell_type": "code",
   "execution_count": 15,
   "metadata": {
    "ExecuteTime": {
     "end_time": "2020-08-11T07:55:52.731638Z",
     "start_time": "2020-08-11T07:55:52.704043Z"
    },
    "scrolled": false
   },
   "outputs": [
    {
     "data": {
      "application/vnd.jupyter.widget-view+json": {
       "model_id": "01c6f7a5251841b294974ea180473100",
       "version_major": 2,
       "version_minor": 0
      },
      "text/plain": [
       "QgridWidget(grid_options={'fullWidthRows': True, 'syncColumnCellResize': True, 'forceFitColumns': True, 'defau…"
      ]
     },
     "metadata": {},
     "output_type": "display_data"
    }
   ],
   "source": [
    "qgrid.show_grid(lm_res[lm_res['beta']<0].head(1000), precision=15)"
   ]
  },
  {
   "cell_type": "code",
   "execution_count": null,
   "metadata": {},
   "outputs": [],
   "source": []
  },
  {
   "cell_type": "markdown",
   "metadata": {},
   "source": [
    "# per tissue"
   ]
  },
  {
   "cell_type": "code",
   "execution_count": 28,
   "metadata": {
    "ExecuteTime": {
     "end_time": "2020-07-22T12:11:34.045952Z",
     "start_time": "2020-07-22T12:11:33.079693Z"
    }
   },
   "outputs": [],
   "source": [
    "lm_res = pd.read_csv(\"../../result_files/lm/lm_sklearn_degr_drug_per_tissue_annotated.csv.gz\")\n",
    "# lm_res = lm_res[lm_res['fdr']<0.1]"
   ]
  },
  {
   "cell_type": "code",
   "execution_count": 26,
   "metadata": {
    "ExecuteTime": {
     "end_time": "2020-07-21T12:58:08.443676Z",
     "start_time": "2020-07-21T12:58:08.260471Z"
    }
   },
   "outputs": [
    {
     "data": {
      "text/plain": [
       "tissue\n",
       "Bone                            85856\n",
       "Breast                          63325\n",
       "Central Nervous System          31360\n",
       "Esophagus                      180848\n",
       "Haematopoietic and Lymphoid     15979\n",
       "Head and Neck                   59034\n",
       "Kidney                         115364\n",
       "Large Intestine                 62846\n",
       "Lung                              651\n",
       "Ovary                           60515\n",
       "Pancreas                       199512\n",
       "Peripheral Nervous System      200578\n",
       "Skin                            24237\n",
       "Stomach                        413883\n",
       "dtype: int64"
      ]
     },
     "execution_count": 26,
     "metadata": {},
     "output_type": "execute_result"
    }
   ],
   "source": [
    "lm_res[lm_res['fdr']<0.1].groupby(['tissue']).size()"
   ]
  },
  {
   "cell_type": "code",
   "execution_count": 16,
   "metadata": {
    "ExecuteTime": {
     "end_time": "2020-07-21T12:48:57.226232Z",
     "start_time": "2020-07-21T12:48:57.069560Z"
    }
   },
   "outputs": [
    {
     "data": {
      "text/html": [
       "<div>\n",
       "<style scoped>\n",
       "    .dataframe tbody tr th:only-of-type {\n",
       "        vertical-align: middle;\n",
       "    }\n",
       "\n",
       "    .dataframe tbody tr th {\n",
       "        vertical-align: top;\n",
       "    }\n",
       "\n",
       "    .dataframe thead th {\n",
       "        text-align: right;\n",
       "    }\n",
       "</style>\n",
       "<table border=\"1\" class=\"dataframe\">\n",
       "  <thead>\n",
       "    <tr style=\"text-align: right;\">\n",
       "      <th></th>\n",
       "      <th>y_id</th>\n",
       "      <th>x_id</th>\n",
       "      <th>n</th>\n",
       "      <th>beta</th>\n",
       "      <th>lr</th>\n",
       "      <th>covs</th>\n",
       "      <th>pval</th>\n",
       "      <th>fdr</th>\n",
       "      <th>target</th>\n",
       "      <th>ppi</th>\n",
       "      <th>chr</th>\n",
       "      <th>chr_pos</th>\n",
       "      <th>tissue</th>\n",
       "      <th>attenuated</th>\n",
       "      <th>skew</th>\n",
       "      <th>r2</th>\n",
       "    </tr>\n",
       "  </thead>\n",
       "  <tbody>\n",
       "    <tr>\n",
       "      <th>19593</th>\n",
       "      <td>1909;Venetoclax;GDSC2</td>\n",
       "      <td>TSNAX</td>\n",
       "      <td>22</td>\n",
       "      <td>2.489709</td>\n",
       "      <td>939.796400</td>\n",
       "      <td>20</td>\n",
       "      <td>2.191628e-206</td>\n",
       "      <td>4.138525e-204</td>\n",
       "      <td>BCL2</td>\n",
       "      <td>3</td>\n",
       "      <td>1</td>\n",
       "      <td>231547532.5</td>\n",
       "      <td>Stomach</td>\n",
       "      <td>1</td>\n",
       "      <td>-1.56284</td>\n",
       "      <td>0.740261</td>\n",
       "    </tr>\n",
       "    <tr>\n",
       "      <th>1023617</th>\n",
       "      <td>1909;Venetoclax;GDSC2</td>\n",
       "      <td>TSNAX</td>\n",
       "      <td>46</td>\n",
       "      <td>1.133458</td>\n",
       "      <td>17.798455</td>\n",
       "      <td>19</td>\n",
       "      <td>2.455825e-05</td>\n",
       "      <td>2.625844e-03</td>\n",
       "      <td>BCL2</td>\n",
       "      <td>3</td>\n",
       "      <td>1</td>\n",
       "      <td>231547532.5</td>\n",
       "      <td>Central Nervous System</td>\n",
       "      <td>1</td>\n",
       "      <td>-1.56284</td>\n",
       "      <td>0.740261</td>\n",
       "    </tr>\n",
       "  </tbody>\n",
       "</table>\n",
       "</div>"
      ],
      "text/plain": [
       "                          y_id   x_id   n      beta          lr  covs  \\\n",
       "19593    1909;Venetoclax;GDSC2  TSNAX  22  2.489709  939.796400    20   \n",
       "1023617  1909;Venetoclax;GDSC2  TSNAX  46  1.133458   17.798455    19   \n",
       "\n",
       "                  pval            fdr target ppi chr      chr_pos  \\\n",
       "19593    2.191628e-206  4.138525e-204   BCL2   3   1  231547532.5   \n",
       "1023617   2.455825e-05   2.625844e-03   BCL2   3   1  231547532.5   \n",
       "\n",
       "                         tissue  attenuated     skew        r2  \n",
       "19593                   Stomach           1 -1.56284  0.740261  \n",
       "1023617  Central Nervous System           1 -1.56284  0.740261  "
      ]
     },
     "execution_count": 16,
     "metadata": {},
     "output_type": "execute_result"
    }
   ],
   "source": [
    "lm_res[(lm_res['y_id']=='1909;Venetoclax;GDSC2')&(lm_res['x_id']=='TSNAX')]"
   ]
  },
  {
   "cell_type": "code",
   "execution_count": 27,
   "metadata": {
    "ExecuteTime": {
     "end_time": "2020-07-21T12:58:10.301307Z",
     "start_time": "2020-07-21T12:58:10.152349Z"
    }
   },
   "outputs": [
    {
     "data": {
      "text/html": [
       "<div>\n",
       "<style scoped>\n",
       "    .dataframe tbody tr th:only-of-type {\n",
       "        vertical-align: middle;\n",
       "    }\n",
       "\n",
       "    .dataframe tbody tr th {\n",
       "        vertical-align: top;\n",
       "    }\n",
       "\n",
       "    .dataframe thead th {\n",
       "        text-align: right;\n",
       "    }\n",
       "</style>\n",
       "<table border=\"1\" class=\"dataframe\">\n",
       "  <thead>\n",
       "    <tr style=\"text-align: right;\">\n",
       "      <th></th>\n",
       "      <th>y_id</th>\n",
       "      <th>x_id</th>\n",
       "      <th>n</th>\n",
       "      <th>beta</th>\n",
       "      <th>lr</th>\n",
       "      <th>covs</th>\n",
       "      <th>pval</th>\n",
       "      <th>fdr</th>\n",
       "      <th>target</th>\n",
       "      <th>ppi</th>\n",
       "      <th>chr</th>\n",
       "      <th>chr_pos</th>\n",
       "      <th>tissue</th>\n",
       "      <th>attenuated</th>\n",
       "      <th>skew</th>\n",
       "      <th>r2</th>\n",
       "    </tr>\n",
       "  </thead>\n",
       "  <tbody>\n",
       "    <tr>\n",
       "      <th>881627</th>\n",
       "      <td>1427;AZD5582;GDSC1</td>\n",
       "      <td>INCENP</td>\n",
       "      <td>34</td>\n",
       "      <td>-3.26289</td>\n",
       "      <td>16.990238</td>\n",
       "      <td>19</td>\n",
       "      <td>0.000038</td>\n",
       "      <td>0.001453</td>\n",
       "      <td>BIRC2;BIRC3;XIAP</td>\n",
       "      <td>-</td>\n",
       "      <td>11</td>\n",
       "      <td>62138583.5</td>\n",
       "      <td>Breast</td>\n",
       "      <td>0</td>\n",
       "      <td>-1.084352</td>\n",
       "      <td>0.491294</td>\n",
       "    </tr>\n",
       "  </tbody>\n",
       "</table>\n",
       "</div>"
      ],
      "text/plain": [
       "                      y_id    x_id   n     beta         lr  covs      pval  \\\n",
       "881627  1427;AZD5582;GDSC1  INCENP  34 -3.26289  16.990238    19  0.000038   \n",
       "\n",
       "             fdr            target ppi chr     chr_pos  tissue  attenuated  \\\n",
       "881627  0.001453  BIRC2;BIRC3;XIAP   -  11  62138583.5  Breast           0   \n",
       "\n",
       "            skew        r2  \n",
       "881627 -1.084352  0.491294  "
      ]
     },
     "execution_count": 27,
     "metadata": {},
     "output_type": "execute_result"
    }
   ],
   "source": [
    "lm_res[(lm_res['y_id']=='1427;AZD5582;GDSC1')&(lm_res['x_id']=='INCENP')]"
   ]
  },
  {
   "cell_type": "markdown",
   "metadata": {},
   "source": [
    "# CRISPR"
   ]
  },
  {
   "cell_type": "code",
   "execution_count": null,
   "metadata": {},
   "outputs": [],
   "source": [
    "lm_rna = pd.read_csv(\"../../result_files/lm/lm_sklearn_degr_crispr_annotated.csv.gz\")"
   ]
  }
 ],
 "metadata": {
  "kernelspec": {
   "display_name": "Python 3",
   "language": "python",
   "name": "python3"
  },
  "language_info": {
   "codemirror_mode": {
    "name": "ipython",
    "version": 3
   },
   "file_extension": ".py",
   "mimetype": "text/x-python",
   "name": "python",
   "nbconvert_exporter": "python",
   "pygments_lexer": "ipython3",
   "version": "3.8.5"
  },
  "toc": {
   "base_numbering": 1,
   "nav_menu": {},
   "number_sections": true,
   "sideBar": true,
   "skip_h1_title": false,
   "title_cell": "Table of Contents",
   "title_sidebar": "Contents",
   "toc_cell": false,
   "toc_position": {},
   "toc_section_display": true,
   "toc_window_display": true
  }
 },
 "nbformat": 4,
 "nbformat_minor": 4
}
