{
 "cells": [
  {
   "cell_type": "code",
   "execution_count": 2,
   "metadata": {
    "ExecuteTime": {
     "end_time": "2020-06-09T12:19:08.088885Z",
     "start_time": "2020-06-09T12:19:06.640174Z"
    }
   },
   "outputs": [],
   "source": [
    "import pandas as pd\n",
    "import numpy as np\n",
    "import seaborn as sns\n",
    "import matplotlib.pyplot as plt\n",
    "from scipy.stats import ttest_ind\n",
    "from sklearn.metrics import r2_score\n",
    "from scipy.stats import pearsonr, spearmanr\n",
    "import plotly.express as px\n",
    "import plotly.graph_objects as go\n",
    "import matplotlib.patches as mpatches\n",
    "from scipy.stats import ttest_ind, ttest_1samp, ttest_rel\n",
    "import matplotlib as mpl"
   ]
  },
  {
   "cell_type": "code",
   "execution_count": 3,
   "metadata": {
    "ExecuteTime": {
     "end_time": "2020-06-09T12:19:08.095569Z",
     "start_time": "2020-06-09T12:19:08.091380Z"
    }
   },
   "outputs": [],
   "source": [
    "# mpl.rcParams['font.family'] = 'Avenir'\n",
    "plt.rc('font', family='Helvetica')\n",
    "plt.rcParams['font.size'] = 18\n",
    "plt.rcParams['axes.linewidth'] = 2\n",
    "plt.rcParams['figure.figsize'] = (10.0, 7.0)\n",
    "sns.set_palette(\"Dark2\")"
   ]
  },
  {
   "cell_type": "code",
   "execution_count": null,
   "metadata": {},
   "outputs": [],
   "source": []
  },
  {
   "cell_type": "code",
   "execution_count": 5,
   "metadata": {
    "ExecuteTime": {
     "end_time": "2020-06-09T12:19:43.270507Z",
     "start_time": "2020-06-09T12:19:42.806781Z"
    }
   },
   "outputs": [],
   "source": [
    "rf_features = pd.read_csv(\"../../work_dirs/protein/RandomForest/feature_importance_202006051013_ruv_min_300.csv\")"
   ]
  },
  {
   "cell_type": "code",
   "execution_count": 9,
   "metadata": {
    "ExecuteTime": {
     "end_time": "2020-06-09T12:20:24.729082Z",
     "start_time": "2020-06-09T12:20:24.716147Z"
    }
   },
   "outputs": [],
   "source": [
    "rf_features = rf_features.set_index('protein')"
   ]
  },
  {
   "cell_type": "code",
   "execution_count": 56,
   "metadata": {
    "ExecuteTime": {
     "end_time": "2020-06-09T12:40:19.578592Z",
     "start_time": "2020-06-09T12:40:18.606649Z"
    }
   },
   "outputs": [
    {
     "data": {
      "text/plain": [
       "Text(0, 0.5, 'Oxaliplatin')"
      ]
     },
     "execution_count": 56,
     "metadata": {},
     "output_type": "execute_result"
    },
    {
     "data": {
      "image/png": "[encoded data removed]",
      "text/plain": [
       "<Figure size 720x504 with 2 Axes>"
      ]
     },
     "metadata": {
      "needs_background": "light"
     },
     "output_type": "display_data"
    }
   ],
   "source": [
    "fig, ax = plt.subplots(2, 1, sharey=True)\n",
    "sns.barplot(x='protein',\n",
    "            y='importance_1',\n",
    "            data=rf_features['importance_1'].sort_values(\n",
    "                ascending=False).head(100).reset_index(), ax=ax[0], color='grey')\n",
    "sns.barplot(x='protein',\n",
    "            y='importance_1089',\n",
    "            data=rf_features['importance_1089'].sort_values(\n",
    "                ascending=False).head(100).reset_index(), ax=ax[1], color='grey')\n",
    "ax[0].tick_params(\n",
    "    axis='x',          # changes apply to the x-axis\n",
    "    which='both',      # both major and minor ticks are affected\n",
    "    bottom=False,      # ticks along the bottom edge are off\n",
    "    top=False,         # ticks along the top edge are off\n",
    "    labelbottom=False) # labels along the bottom edge are off\n",
    "ax[1].tick_params(\n",
    "    axis='x',          # changes apply to the x-axis\n",
    "    which='both',      # both major and minor ticks are affected\n",
    "    bottom=False,      # ticks along the bottom edge are off\n",
    "    top=False,         # ticks along the top edge are off\n",
    "    labelbottom=False) # labels along the bottom edge are off\n",
    "\n",
    "ax[0].set_title(\"Normalised feature importance for top 100 proteins\")\n",
    "ax[0].set_ylabel(\"Erlotinib\")\n",
    "ax[1].set_ylabel(\"Oxaliplatin\")"
   ]
  },
  {
   "cell_type": "code",
   "execution_count": 30,
   "metadata": {
    "ExecuteTime": {
     "end_time": "2020-06-09T12:26:06.717237Z",
     "start_time": "2020-06-09T12:26:06.358264Z"
    }
   },
   "outputs": [
    {
     "name": "stdout",
     "output_type": "stream",
     "text": [
      "importance_257\n",
      "importance_1012\n",
      "importance_1017\n",
      "importance_1021\n",
      "importance_1089\n",
      "importance_1867\n",
      "importance_1931\n",
      "importance_1946\n",
      "importance_1956\n",
      "importance_1980\n",
      "importance_1985\n",
      "importance_2016\n",
      "importance_2125\n",
      "importance_2163\n",
      "importance_2220\n",
      "importance_2235\n",
      "importance_2257\n",
      "importance_2319\n",
      "importance_2328\n",
      "importance_2333\n",
      "importance_2354\n"
     ]
    }
   ],
   "source": [
    "for col in rf_features:\n",
    "    if rf_features[col].sort_values(ascending=False).values[:10].sum() > 0.07:\n",
    "        print(col)"
   ]
  },
  {
   "cell_type": "code",
   "execution_count": null,
   "metadata": {},
   "outputs": [],
   "source": []
  }
 ],
 "metadata": {
  "kernelspec": {
   "display_name": "Python 3",
   "language": "python",
   "name": "python3"
  },
  "language_info": {
   "codemirror_mode": {
    "name": "ipython",
    "version": 3
   },
   "file_extension": ".py",
   "mimetype": "text/x-python",
   "name": "python",
   "nbconvert_exporter": "python",
   "pygments_lexer": "ipython3",
   "version": "3.8.2"
  },
  "toc": {
   "base_numbering": 1,
   "nav_menu": {},
   "number_sections": true,
   "sideBar": true,
   "skip_h1_title": false,
   "title_cell": "Table of Contents",
   "title_sidebar": "Contents",
   "toc_cell": false,
   "toc_position": {},
   "toc_section_display": true,
   "toc_window_display": false
  }
 },
 "nbformat": 4,
 "nbformat_minor": 4
}
