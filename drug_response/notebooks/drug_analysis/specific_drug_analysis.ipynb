{
 "cells": [
  {
   "cell_type": "code",
   "execution_count": 2,
   "metadata": {
    "ExecuteTime": {
     "end_time": "2020-06-13T05:51:45.642328Z",
     "start_time": "2020-06-13T05:51:43.703839Z"
    }
   },
   "outputs": [],
   "source": [
    "import pandas as pd\n",
    "import numpy as np\n",
    "import seaborn as sns\n",
    "import matplotlib.pyplot as plt\n",
    "from scipy.stats import ttest_ind\n",
    "from sklearn.metrics import r2_score\n",
    "from scipy.stats import pearsonr, spearmanr\n",
    "import plotly.express as px\n",
    "import plotly.graph_objects as go\n",
    "import matplotlib.patches as mpatches\n",
    "from scipy.stats import ttest_ind, ttest_1samp, ttest_rel\n",
    "import matplotlib as mpl"
   ]
  },
  {
   "cell_type": "code",
   "execution_count": 3,
   "metadata": {
    "ExecuteTime": {
     "end_time": "2020-06-13T05:51:45.648826Z",
     "start_time": "2020-06-13T05:51:45.643917Z"
    }
   },
   "outputs": [],
   "source": [
    "# mpl.rcParams['font.family'] = 'Avenir'\n",
    "plt.rc('font', family='Helvetica')\n",
    "plt.rcParams['font.size'] = 18\n",
    "plt.rcParams['axes.linewidth'] = 2\n",
    "plt.rcParams['figure.figsize'] = (10.0, 7.0)\n",
    "sns.set_palette(\"Dark2\")"
   ]
  },
  {
   "cell_type": "markdown",
   "metadata": {},
   "source": [
    "# load data"
   ]
  },
  {
   "cell_type": "code",
   "execution_count": 4,
   "metadata": {
    "ExecuteTime": {
     "end_time": "2020-06-13T05:51:46.621967Z",
     "start_time": "2020-06-13T05:51:45.651275Z"
    }
   },
   "outputs": [],
   "source": [
    "df_rf = pd.read_csv(\"../../work_dirs/protein/RandomForest/feature_importance_202006051013_ruv_min_300.csv\")\n",
    "df_en = pd.read_csv(\"../../work_dirs/protein/ElasticNet/feature_importance_202006061215_ruv_min_300.csv\")\n",
    "df_shap = pd.read_csv(\"../../result_files/shap/test_70_202006082240.csv\")"
   ]
  },
  {
   "cell_type": "code",
   "execution_count": 5,
   "metadata": {
    "ExecuteTime": {
     "end_time": "2020-06-13T05:51:54.590075Z",
     "start_time": "2020-06-13T05:51:46.623694Z"
    }
   },
   "outputs": [],
   "source": [
    "df_lm = pd.read_csv(\"../../result_files/lm/lm_sklearn_protein_drug.csv.gz\")\n",
    "df_lm_degr = pd.read_csv(\"../../result_files/lm/lm_sklearn_degr_drug.csv.gz\")"
   ]
  },
  {
   "cell_type": "code",
   "execution_count": 6,
   "metadata": {
    "ExecuteTime": {
     "end_time": "2020-06-13T05:53:12.065570Z",
     "start_time": "2020-06-13T05:53:12.056632Z"
    }
   },
   "outputs": [],
   "source": [
    "protein_rna_correlations = pd.read_csv(\"../../data/protein_rna_correlations.csv\")"
   ]
  },
  {
   "cell_type": "markdown",
   "metadata": {},
   "source": [
    "# Motesanib - 1029"
   ]
  },
  {
   "cell_type": "code",
   "execution_count": 12,
   "metadata": {
    "ExecuteTime": {
     "end_time": "2020-06-13T05:56:16.216634Z",
     "start_time": "2020-06-13T05:56:16.209265Z"
    }
   },
   "outputs": [
    {
     "name": "stderr",
     "output_type": "stream",
     "text": [
      "<ipython-input-12-4a2efe16e51e>:2: SettingWithCopyWarning:\n",
      "\n",
      "\n",
      "A value is trying to be set on a copy of a slice from a DataFrame.\n",
      "Try using .loc[row_indexer,col_indexer] = value instead\n",
      "\n",
      "See the caveats in the documentation: https://pandas.pydata.org/pandas-docs/stable/user_guide/indexing.html#returning-a-view-versus-a-copy\n",
      "\n"
     ]
    }
   ],
   "source": [
    "tmp = df_en[['protein', 'importance_1029']]\n",
    "tmp['abs'] = tmp['importance_1029'].abs()\n",
    "tmp = tmp.sort_values(by=['abs'],ascending=False)"
   ]
  },
  {
   "cell_type": "code",
   "execution_count": 14,
   "metadata": {
    "ExecuteTime": {
     "end_time": "2020-06-13T05:56:31.955775Z",
     "start_time": "2020-06-13T05:56:31.949370Z"
    }
   },
   "outputs": [
    {
     "data": {
      "text/html": [
       "<div>\n",
       "<style scoped>\n",
       "    .dataframe tbody tr th:only-of-type {\n",
       "        vertical-align: middle;\n",
       "    }\n",
       "\n",
       "    .dataframe tbody tr th {\n",
       "        vertical-align: top;\n",
       "    }\n",
       "\n",
       "    .dataframe thead th {\n",
       "        text-align: right;\n",
       "    }\n",
       "</style>\n",
       "<table border=\"1\" class=\"dataframe\">\n",
       "  <thead>\n",
       "    <tr style=\"text-align: right;\">\n",
       "      <th></th>\n",
       "      <th>protein</th>\n",
       "      <th>importance_1029</th>\n",
       "      <th>abs</th>\n",
       "    </tr>\n",
       "  </thead>\n",
       "  <tbody>\n",
       "    <tr>\n",
       "      <th>1236</th>\n",
       "      <td>HMGN2_HUMAN</td>\n",
       "      <td>-0.136216</td>\n",
       "      <td>0.136216</td>\n",
       "    </tr>\n",
       "    <tr>\n",
       "      <th>2297</th>\n",
       "      <td>PTMA_HUMAN</td>\n",
       "      <td>-0.120811</td>\n",
       "      <td>0.120811</td>\n",
       "    </tr>\n",
       "    <tr>\n",
       "      <th>3342</th>\n",
       "      <td>VPS45_HUMAN</td>\n",
       "      <td>0.082640</td>\n",
       "      <td>0.082640</td>\n",
       "    </tr>\n",
       "    <tr>\n",
       "      <th>3383</th>\n",
       "      <td>XRP2_HUMAN</td>\n",
       "      <td>0.077753</td>\n",
       "      <td>0.077753</td>\n",
       "    </tr>\n",
       "    <tr>\n",
       "      <th>1285</th>\n",
       "      <td>HYPK_HUMAN</td>\n",
       "      <td>-0.076531</td>\n",
       "      <td>0.076531</td>\n",
       "    </tr>\n",
       "    <tr>\n",
       "      <th>2606</th>\n",
       "      <td>RS15_HUMAN</td>\n",
       "      <td>-0.074425</td>\n",
       "      <td>0.074425</td>\n",
       "    </tr>\n",
       "    <tr>\n",
       "      <th>3413</th>\n",
       "      <td>ZN622_HUMAN</td>\n",
       "      <td>0.071025</td>\n",
       "      <td>0.071025</td>\n",
       "    </tr>\n",
       "    <tr>\n",
       "      <th>2036</th>\n",
       "      <td>PDCD6_HUMAN</td>\n",
       "      <td>0.070992</td>\n",
       "      <td>0.070992</td>\n",
       "    </tr>\n",
       "    <tr>\n",
       "      <th>279</th>\n",
       "      <td>BAF_HUMAN</td>\n",
       "      <td>0.069362</td>\n",
       "      <td>0.069362</td>\n",
       "    </tr>\n",
       "    <tr>\n",
       "      <th>2657</th>\n",
       "      <td>RU2B_HUMAN</td>\n",
       "      <td>-0.067873</td>\n",
       "      <td>0.067873</td>\n",
       "    </tr>\n",
       "  </tbody>\n",
       "</table>\n",
       "</div>"
      ],
      "text/plain": [
       "          protein  importance_1029       abs\n",
       "1236  HMGN2_HUMAN        -0.136216  0.136216\n",
       "2297   PTMA_HUMAN        -0.120811  0.120811\n",
       "3342  VPS45_HUMAN         0.082640  0.082640\n",
       "3383   XRP2_HUMAN         0.077753  0.077753\n",
       "1285   HYPK_HUMAN        -0.076531  0.076531\n",
       "2606   RS15_HUMAN        -0.074425  0.074425\n",
       "3413  ZN622_HUMAN         0.071025  0.071025\n",
       "2036  PDCD6_HUMAN         0.070992  0.070992\n",
       "279     BAF_HUMAN         0.069362  0.069362\n",
       "2657   RU2B_HUMAN        -0.067873  0.067873"
      ]
     },
     "execution_count": 14,
     "metadata": {},
     "output_type": "execute_result"
    }
   ],
   "source": [
    "tmp.head(10)"
   ]
  },
  {
   "cell_type": "code",
   "execution_count": null,
   "metadata": {},
   "outputs": [],
   "source": []
  }
 ],
 "metadata": {
  "kernelspec": {
   "display_name": "Python 3",
   "language": "python",
   "name": "python3"
  },
  "language_info": {
   "codemirror_mode": {
    "name": "ipython",
    "version": 3
   },
   "file_extension": ".py",
   "mimetype": "text/x-python",
   "name": "python",
   "nbconvert_exporter": "python",
   "pygments_lexer": "ipython3",
   "version": "3.8.2"
  },
  "toc": {
   "base_numbering": 1,
   "nav_menu": {},
   "number_sections": true,
   "sideBar": true,
   "skip_h1_title": false,
   "title_cell": "Table of Contents",
   "title_sidebar": "Contents",
   "toc_cell": false,
   "toc_position": {},
   "toc_section_display": true,
   "toc_window_display": false
  }
 },
 "nbformat": 4,
 "nbformat_minor": 4
}
