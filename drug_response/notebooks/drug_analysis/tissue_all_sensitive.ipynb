{
 "cells": [
  {
   "cell_type": "code",
   "execution_count": 1,
   "metadata": {
    "ExecuteTime": {
     "end_time": "2020-08-07T12:19:18.146151Z",
     "start_time": "2020-08-07T12:19:16.281235Z"
    }
   },
   "outputs": [],
   "source": [
    "import pandas as pd\n",
    "import numpy as np\n",
    "import seaborn as sns\n",
    "import matplotlib.pyplot as plt\n",
    "from scipy.stats import ttest_ind\n",
    "from sklearn.metrics import r2_score\n",
    "from scipy.stats import pearsonr, spearmanr\n",
    "import plotly.express as px\n",
    "import plotly.graph_objects as go\n",
    "import matplotlib.patches as mpatches\n",
    "from scipy.stats import ttest_ind, ttest_1samp, ttest_rel\n",
    "import matplotlib as mpl\n",
    "import umap\n",
    "from sklearn.decomposition import PCA\n",
    "from sklearn.manifold import TSNE\n",
    "from joblib import Parallel, delayed\n",
    "from tqdm.notebook import tqdm\n",
    "import pickle\n",
    "import matplotlib.ticker as mtick\n",
    "import math\n",
    "from itertools import combinations\n",
    "import random\n",
    "from sklearn.linear_model import LinearRegression"
   ]
  },
  {
   "cell_type": "code",
   "execution_count": 2,
   "metadata": {
    "ExecuteTime": {
     "end_time": "2020-08-07T12:19:18.152219Z",
     "start_time": "2020-08-07T12:19:18.147926Z"
    }
   },
   "outputs": [],
   "source": [
    "plt.rcParams['font.family'] = 'Helvetica'\n",
    "plt.rcParams[\"axes.labelweight\"] = \"bold\"\n",
    "plt.rcParams['font.size'] = 18\n",
    "plt.rcParams['axes.linewidth'] = 2\n",
    "plt.rcParams['figure.figsize'] = (10.0, 7.0)\n",
    "plt.rcParams['pdf.fonttype'] = 42\n",
    "plt.rcParams['ps.fonttype'] = 42\n",
    "sns.set_palette(\"Dark2\")"
   ]
  },
  {
   "cell_type": "code",
   "execution_count": 3,
   "metadata": {
    "ExecuteTime": {
     "end_time": "2020-08-07T12:19:18.156070Z",
     "start_time": "2020-08-07T12:19:18.154172Z"
    }
   },
   "outputs": [],
   "source": [
    "seed = 42"
   ]
  },
  {
   "cell_type": "markdown",
   "metadata": {},
   "source": [
    "# load data"
   ]
  },
  {
   "cell_type": "code",
   "execution_count": 4,
   "metadata": {
    "ExecuteTime": {
     "end_time": "2020-08-07T12:19:18.162023Z",
     "start_time": "2020-08-07T12:19:18.157711Z"
    }
   },
   "outputs": [],
   "source": [
    "colour_list = pd.read_csv('../../data/colour_list.txt',header=None)[0].tolist()"
   ]
  },
  {
   "cell_type": "code",
   "execution_count": 5,
   "metadata": {
    "ExecuteTime": {
     "end_time": "2020-08-07T12:19:18.924757Z",
     "start_time": "2020-08-07T12:19:18.163296Z"
    }
   },
   "outputs": [],
   "source": [
    "protein_ruv = pd.read_csv(\n",
    "    \"../../data/protein/E0022_P06_Protein_Matrix_ProNorM_no_control_update.txt\",\n",
    "    sep='\\t').set_index('Cell_line')\n",
    "\n",
    "meta = pd.read_csv('../../data/E0022_P06_final_sample_map_no_control.txt',\n",
    "                   sep='\\t').set_index('Cell_line')"
   ]
  },
  {
   "cell_type": "code",
   "execution_count": 6,
   "metadata": {
    "ExecuteTime": {
     "end_time": "2020-08-07T12:19:18.931135Z",
     "start_time": "2020-08-07T12:19:18.926321Z"
    }
   },
   "outputs": [],
   "source": [
    "cell_lines_no_blood = meta[meta['Tissue_type']!='Haematopoietic and Lymphoid'].index.values"
   ]
  },
  {
   "cell_type": "code",
   "execution_count": 7,
   "metadata": {
    "ExecuteTime": {
     "end_time": "2020-08-07T12:19:18.942722Z",
     "start_time": "2020-08-07T12:19:18.932600Z"
    }
   },
   "outputs": [],
   "source": [
    "tissue_type_map = meta[['Tissue_type']].to_dict()['Tissue_type']\n",
    "cancer_type_map = meta[['Cancer_type']].to_dict()['Cancer_type']\n",
    "batch_map = meta[['Batch']].to_dict()['Batch']\n",
    "instrument_map = meta[['Instrument']].to_dict()['Instrument']\n"
   ]
  },
  {
   "cell_type": "code",
   "execution_count": 8,
   "metadata": {
    "ExecuteTime": {
     "end_time": "2020-08-07T12:19:18.950802Z",
     "start_time": "2020-08-07T12:19:18.945652Z"
    }
   },
   "outputs": [],
   "source": [
    "cancer_colours = dict(\n",
    "    zip(meta['Cancer_type'].unique(),\n",
    "        colour_list[:meta['Cancer_type'].unique().size]))\n",
    "\n",
    "tissue_colours = dict(\n",
    "    zip(meta['Tissue_type'].unique(),\n",
    "        colour_list[:meta['Tissue_type'].unique().size]))\n",
    "\n",
    "instrument_colours={\n",
    "    'M01':'#66c2a5', \n",
    "    'M02':'#fc8d62', \n",
    "    'M03':'#8da0cb', \n",
    "    'M04':'#e78ac3', \n",
    "    'M05':'#a6d854', \n",
    "    'M06':'#ffd92f'\n",
    "}\n",
    "\n",
    "batch_colours={\n",
    "    'P01':'#7fc97f', \n",
    "    'P02':'#beaed4', \n",
    "    'P03':'#fdc086', \n",
    "    'P04':'#386cb0', \n",
    "    'P05':'#f0027f', \n",
    "    'P06':'#bf5b17'\n",
    "}"
   ]
  },
  {
   "cell_type": "code",
   "execution_count": 9,
   "metadata": {
    "ExecuteTime": {
     "end_time": "2020-08-07T12:19:18.956008Z",
     "start_time": "2020-08-07T12:19:18.952444Z"
    }
   },
   "outputs": [],
   "source": [
    "meta = meta.reset_index()"
   ]
  },
  {
   "cell_type": "code",
   "execution_count": 10,
   "metadata": {
    "ExecuteTime": {
     "end_time": "2020-08-07T12:19:18.963956Z",
     "start_time": "2020-08-07T12:19:18.957458Z"
    }
   },
   "outputs": [],
   "source": [
    "meta_cell_lines = meta.drop_duplicates('Cell_line')"
   ]
  },
  {
   "cell_type": "code",
   "execution_count": 11,
   "metadata": {
    "ExecuteTime": {
     "end_time": "2020-08-07T12:19:19.734827Z",
     "start_time": "2020-08-07T12:19:18.965384Z"
    }
   },
   "outputs": [],
   "source": [
    "name_map = pd.read_csv(\"../../data/misc/HUMAN_9606_idmapping.gene_prot.dat\",\n",
    "                       sep='\\t',\n",
    "                       names=['ID', 'type', 'code'])\n",
    "name_map = name_map.drop_duplicates(['ID', 'type'])\n",
    "name_map = pd.pivot(name_map, index='ID', columns='type', values='code').dropna()\n",
    "\n",
    "protein2rna_map = dict(zip(name_map['UniProtKB-ID'].values, name_map['Gene_Name'].values))\n",
    "rna2protein_map = {v: k for k, v in protein2rna_map.items()}"
   ]
  },
  {
   "cell_type": "code",
   "execution_count": 12,
   "metadata": {
    "ExecuteTime": {
     "end_time": "2020-08-07T12:19:22.023601Z",
     "start_time": "2020-08-07T12:19:19.736593Z"
    }
   },
   "outputs": [],
   "source": [
    "rna_raw = pd.read_csv(\"../../data/rna/rnaseq_voom.csv\", index_col=0).T\n",
    "\n",
    "rna_raw.index.name = 'SIDM'\n",
    "\n",
    "rna_raw = rna_raw.reset_index()\n",
    "rna_sample = pd.merge(rna_raw,\n",
    "                      meta[['SIDM',\n",
    "                            'Cell_line']].drop_duplicates()).drop(['SIDM'],\n",
    "                                                                  axis=1)\n",
    "\n",
    "rna_sample = rna_sample.set_index(['Cell_line'])"
   ]
  },
  {
   "cell_type": "code",
   "execution_count": 13,
   "metadata": {
    "ExecuteTime": {
     "end_time": "2020-08-07T12:19:27.215091Z",
     "start_time": "2020-08-07T12:19:22.025478Z"
    }
   },
   "outputs": [],
   "source": [
    "drug_df = pd.read_csv('../../data/drug/drug_final_processed_eg_id.csv.gz', low_memory=False)"
   ]
  },
  {
   "cell_type": "code",
   "execution_count": 14,
   "metadata": {
    "ExecuteTime": {
     "end_time": "2020-08-07T12:19:27.678450Z",
     "start_time": "2020-08-07T12:19:27.217796Z"
    }
   },
   "outputs": [],
   "source": [
    "drug_df['max_screening_conc_ln'] = drug_df['max_screening_conc'].map(np.log)"
   ]
  },
  {
   "cell_type": "code",
   "execution_count": 15,
   "metadata": {
    "ExecuteTime": {
     "end_time": "2020-08-07T12:19:27.784346Z",
     "start_time": "2020-08-07T12:19:27.680601Z"
    }
   },
   "outputs": [],
   "source": [
    "max_conc_map = drug_df[[\n",
    "    'drug_id', 'max_screening_conc_ln'\n",
    "]].drop_duplicates().set_index('drug_id').to_dict()['max_screening_conc_ln']"
   ]
  },
  {
   "cell_type": "code",
   "execution_count": 16,
   "metadata": {
    "ExecuteTime": {
     "end_time": "2020-08-07T12:19:32.826472Z",
     "start_time": "2020-08-07T12:19:27.785895Z"
    }
   },
   "outputs": [],
   "source": [
    "lm_res = pd.read_csv(\"../../result_files/lm/lm_sklearn_degr_drug_annotated.csv.gz\")"
   ]
  },
  {
   "cell_type": "code",
   "execution_count": 17,
   "metadata": {
    "ExecuteTime": {
     "end_time": "2020-08-07T12:19:32.979294Z",
     "start_time": "2020-08-07T12:19:32.828217Z"
    }
   },
   "outputs": [],
   "source": [
    "lm_res = lm_res[(lm_res['fdr'] < 0.1) & (lm_res['r2'] > 0.4) & (lm_res['skew']< -1)]\n",
    "lm_res['x_protein'] = lm_res['x_id'].map(rna2protein_map)"
   ]
  },
  {
   "cell_type": "code",
   "execution_count": 18,
   "metadata": {
    "ExecuteTime": {
     "end_time": "2020-08-07T12:19:32.986642Z",
     "start_time": "2020-08-07T12:19:32.981586Z"
    }
   },
   "outputs": [],
   "source": [
    "lm_assoc_list = list(zip(lm_res['y_id'], lm_res['x_id'], lm_res['x_protein']))"
   ]
  },
  {
   "cell_type": "markdown",
   "metadata": {},
   "source": [
    "# calculation"
   ]
  },
  {
   "cell_type": "code",
   "execution_count": null,
   "metadata": {},
   "outputs": [],
   "source": []
  }
 ],
 "metadata": {
  "kernelspec": {
   "display_name": "Python 3",
   "language": "python",
   "name": "python3"
  },
  "language_info": {
   "codemirror_mode": {
    "name": "ipython",
    "version": 3
   },
   "file_extension": ".py",
   "mimetype": "text/x-python",
   "name": "python",
   "nbconvert_exporter": "python",
   "pygments_lexer": "ipython3",
   "version": "3.8.2"
  },
  "toc": {
   "base_numbering": 1,
   "nav_menu": {},
   "number_sections": true,
   "sideBar": true,
   "skip_h1_title": false,
   "title_cell": "Table of Contents",
   "title_sidebar": "Contents",
   "toc_cell": false,
   "toc_position": {},
   "toc_section_display": true,
   "toc_window_display": true
  }
 },
 "nbformat": 4,
 "nbformat_minor": 4
}
