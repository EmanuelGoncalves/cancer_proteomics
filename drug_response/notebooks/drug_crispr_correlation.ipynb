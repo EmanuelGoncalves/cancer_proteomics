{
 "cells": [
  {
   "cell_type": "code",
   "execution_count": 2,
   "metadata": {
    "ExecuteTime": {
     "end_time": "2020-09-25T04:29:48.039245Z",
     "start_time": "2020-09-25T04:29:45.166823Z"
    }
   },
   "outputs": [],
   "source": [
    "import pandas as pd\n",
    "import numpy as np\n",
    "import seaborn as sns\n",
    "import matplotlib.pyplot as plt\n",
    "from scipy.stats import ttest_ind\n",
    "from sklearn.metrics import r2_score\n",
    "from scipy.stats import pearsonr, spearmanr\n",
    "import plotly.express as px\n",
    "import plotly.graph_objects as go\n",
    "import matplotlib.patches as mpatches\n",
    "from scipy.stats import ttest_ind, ttest_1samp, ttest_rel\n",
    "import matplotlib as mpl\n",
    "import umap\n",
    "from sklearn.decomposition import PCA\n",
    "from sklearn.manifold import TSNE\n",
    "from joblib import Parallel, delayed\n",
    "from tqdm.notebook import tqdm\n",
    "import pickle\n",
    "import matplotlib.ticker as mtick\n",
    "import math\n",
    "from itertools import combinations\n",
    "import random\n",
    "from sklearn.linear_model import LinearRegression\n",
    "import qgrid"
   ]
  },
  {
   "cell_type": "code",
   "execution_count": 3,
   "metadata": {
    "ExecuteTime": {
     "end_time": "2020-09-25T04:29:48.044529Z",
     "start_time": "2020-09-25T04:29:48.040993Z"
    }
   },
   "outputs": [],
   "source": [
    "plt.rcParams['font.family'] = 'Helvetica'\n",
    "plt.rcParams[\"axes.labelweight\"] = \"bold\"\n",
    "plt.rcParams['font.size'] = 18\n",
    "plt.rcParams['axes.linewidth'] = 2\n",
    "plt.rcParams['figure.figsize'] = (10.0, 7.0)\n",
    "plt.rcParams['pdf.fonttype'] = 42\n",
    "plt.rcParams['ps.fonttype'] = 42\n",
    "sns.set_palette(\"Dark2\")"
   ]
  },
  {
   "cell_type": "code",
   "execution_count": 4,
   "metadata": {
    "ExecuteTime": {
     "end_time": "2020-09-25T04:29:48.048386Z",
     "start_time": "2020-09-25T04:29:48.046538Z"
    }
   },
   "outputs": [],
   "source": [
    "seed = 42"
   ]
  },
  {
   "cell_type": "markdown",
   "metadata": {},
   "source": [
    "# load data"
   ]
  },
  {
   "cell_type": "code",
   "execution_count": 5,
   "metadata": {
    "ExecuteTime": {
     "end_time": "2020-09-25T04:29:55.459437Z",
     "start_time": "2020-09-25T04:29:53.692558Z"
    }
   },
   "outputs": [],
   "source": [
    "crispr_df = pd.read_csv(\"../data/crispr/final_crispr.csv.gz\")\n",
    "crispr_df = crispr_df.set_index(\"Gene\").T\n",
    "crispr_df.index.name = 'cell_line_name'\n",
    "crispr_df = crispr_df.reset_index()"
   ]
  },
  {
   "cell_type": "code",
   "execution_count": 6,
   "metadata": {
    "ExecuteTime": {
     "end_time": "2020-09-25T04:30:00.660268Z",
     "start_time": "2020-09-25T04:29:55.461482Z"
    }
   },
   "outputs": [],
   "source": [
    "drug_df = pd.read_csv(\"../data/drug/drug_final_processed_eg_id.csv.gz\", low_memory=False)"
   ]
  },
  {
   "cell_type": "code",
   "execution_count": 7,
   "metadata": {
    "ExecuteTime": {
     "end_time": "2020-09-25T04:30:05.250804Z",
     "start_time": "2020-09-25T04:30:00.662456Z"
    }
   },
   "outputs": [],
   "source": [
    "drug_df_split = drug_df.assign(target_exp=drug_df['putative_gene_target'].str.\n",
    "                               split(';')).explode('target_exp')[[\n",
    "                                   'drug_id', 'drug_name', 'cell_line_name',\n",
    "                                   'target_exp', 'ln_IC50'\n",
    "                               ]]"
   ]
  },
  {
   "cell_type": "code",
   "execution_count": 8,
   "metadata": {
    "ExecuteTime": {
     "end_time": "2020-09-25T04:30:05.422649Z",
     "start_time": "2020-09-25T04:30:05.252992Z"
    }
   },
   "outputs": [],
   "source": [
    "drug_target_pairs = drug_df_split.drop_duplicates(\n",
    "    ['drug_id', 'target_exp'])[['drug_id',\n",
    "                                'target_exp']].reset_index(drop=True)"
   ]
  },
  {
   "cell_type": "code",
   "execution_count": 9,
   "metadata": {
    "ExecuteTime": {
     "end_time": "2020-09-25T04:30:49.002979Z",
     "start_time": "2020-09-25T04:30:05.424048Z"
    }
   },
   "outputs": [
    {
     "data": {
      "application/vnd.jupyter.widget-view+json": {
       "model_id": "552a9e5c28e74e209c9e12923b837296",
       "version_major": 2,
       "version_minor": 0
      },
      "text/plain": [
       "HBox(children=(FloatProgress(value=0.0, max=1524.0), HTML(value='')))"
      ]
     },
     "metadata": {},
     "output_type": "display_data"
    },
    {
     "name": "stdout",
     "output_type": "stream",
     "text": [
      "\n"
     ]
    }
   ],
   "source": [
    "res_df = []\n",
    "for drug, target in tqdm(drug_target_pairs.values):\n",
    "    if target not in crispr_df.columns:\n",
    "        continue\n",
    "    tmp_drug = drug_df[drug_df['drug_id']==drug][['cell_line_name', 'ln_IC50']]\n",
    "    tmp_crispr = crispr_df[['cell_line_name', target]]\n",
    "    tmp = pd.merge(tmp_drug, tmp_crispr, on=['cell_line_name'])\n",
    "    res = tmp.set_index('cell_line_name').corr().values\n",
    "    res_df.append({'drug':drug, 'target':target, 'corr': res[0,1]})\n",
    "res_df = pd.DataFrame(res_df)"
   ]
  },
  {
   "cell_type": "code",
   "execution_count": 10,
   "metadata": {
    "ExecuteTime": {
     "end_time": "2020-09-25T04:30:49.030065Z",
     "start_time": "2020-09-25T04:30:49.005032Z"
    }
   },
   "outputs": [
    {
     "data": {
      "application/vnd.jupyter.widget-view+json": {
       "model_id": "85f805358b674f1eaa220f61833d4581",
       "version_major": 2,
       "version_minor": 0
      },
      "text/plain": [
       "QgridWidget(grid_options={'fullWidthRows': True, 'syncColumnCellResize': True, 'forceFitColumns': True, 'defau…"
      ]
     },
     "metadata": {},
     "output_type": "display_data"
    }
   ],
   "source": [
    "qgrid.show_grid(res_df.sort_values(by=['corr'], ascending=False).drop_duplicates(['drug']))"
   ]
  },
  {
   "cell_type": "code",
   "execution_count": 47,
   "metadata": {
    "ExecuteTime": {
     "end_time": "2020-09-13T13:47:24.879613Z",
     "start_time": "2020-09-13T13:47:24.701699Z"
    }
   },
   "outputs": [
    {
     "data": {
      "text/plain": [
       "<matplotlib.axes._subplots.AxesSubplot at 0x7f9c20b3d9d0>"
      ]
     },
     "execution_count": 47,
     "metadata": {},
     "output_type": "execute_result"
    },
    {
     "data": {
      "image/png": "[encoded data removed]",
      "text/plain": [
       "<Figure size 720x504 with 1 Axes>"
      ]
     },
     "metadata": {
      "needs_background": "light"
     },
     "output_type": "display_data"
    }
   ],
   "source": [
    "sns.distplot(res_df.sort_values(by=['corr'], ascending=False).drop_duplicates(['drug'])['corr'])"
   ]
  },
  {
   "cell_type": "code",
   "execution_count": null,
   "metadata": {},
   "outputs": [],
   "source": []
  }
 ],
 "metadata": {
  "kernelspec": {
   "display_name": "Python 3",
   "language": "python",
   "name": "python3"
  },
  "language_info": {
   "codemirror_mode": {
    "name": "ipython",
    "version": 3
   },
   "file_extension": ".py",
   "mimetype": "text/x-python",
   "name": "python",
   "nbconvert_exporter": "python",
   "pygments_lexer": "ipython3",
   "version": "3.8.5"
  },
  "toc": {
   "base_numbering": 1,
   "nav_menu": {},
   "number_sections": true,
   "sideBar": true,
   "skip_h1_title": false,
   "title_cell": "Table of Contents",
   "title_sidebar": "Contents",
   "toc_cell": false,
   "toc_position": {},
   "toc_section_display": true,
   "toc_window_display": false
  }
 },
 "nbformat": 4,
 "nbformat_minor": 4
}
