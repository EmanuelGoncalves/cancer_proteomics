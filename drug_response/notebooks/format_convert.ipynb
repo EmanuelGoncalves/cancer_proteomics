{
 "cells": [
  {
   "cell_type": "code",
   "execution_count": 159,
   "metadata": {
    "ExecuteTime": {
     "end_time": "2020-06-05T11:41:11.364095Z",
     "start_time": "2020-06-05T11:41:11.360021Z"
    }
   },
   "outputs": [],
   "source": [
    "import pandas as pd\n",
    "\n",
    "import pickle\n",
    "import numpy as np\n",
    "\n",
    "from sklearn.preprocessing import normalize\n",
    "from sklearn.model_selection import train_test_split\n",
    "from sklearn.decomposition import PCA\n",
    "\n",
    "import glob\n",
    "import re\n",
    "from sklearn.preprocessing import quantile_transform, MinMaxScaler\n",
    "\n",
    "from scipy.stats import spearmanr, pearsonr\n",
    "import seaborn as sns\n",
    "from sklearn.preprocessing import MinMaxScaler\n",
    "import matplotlib.pyplot as plt\n",
    "from sklearn.impute import SimpleImputer, KNNImputer\n",
    "from sklearn.linear_model import LinearRegression"
   ]
  },
  {
   "cell_type": "code",
   "execution_count": 3,
   "metadata": {
    "ExecuteTime": {
     "end_time": "2020-06-04T16:07:55.966935Z",
     "start_time": "2020-06-04T16:07:55.964245Z"
    }
   },
   "outputs": [],
   "source": [
    "pd.options.display.max_columns = 50"
   ]
  },
  {
   "cell_type": "code",
   "execution_count": 4,
   "metadata": {
    "ExecuteTime": {
     "end_time": "2020-06-04T16:07:55.973465Z",
     "start_time": "2020-06-04T16:07:55.969194Z"
    }
   },
   "outputs": [],
   "source": [
    "def quantileNormalize(df_input):\n",
    "    df = df_input.copy()\n",
    "    #compute rank\n",
    "    dic = {}\n",
    "    for col in df:\n",
    "        dic.update({col : sorted(df[col])})\n",
    "    sorted_df = pd.DataFrame(dic)\n",
    "    rank = sorted_df.mean(axis = 1).tolist()\n",
    "    #sort\n",
    "    for col in df:\n",
    "        t = np.searchsorted(np.sort(df[col]), df[col])\n",
    "        df[col] = [rank[i] for i in t]\n",
    "    return df"
   ]
  },
  {
   "cell_type": "markdown",
   "metadata": {},
   "source": [
    "# convert P06 protein"
   ]
  },
  {
   "cell_type": "code",
   "execution_count": 16,
   "metadata": {
    "ExecuteTime": {
     "end_time": "2020-03-12T23:50:13.940392Z",
     "start_time": "2020-03-12T23:50:05.043372Z"
    }
   },
   "outputs": [],
   "source": [
    "df = pd.read_csv(\"../data/protein/FromDiffacto_E0022_P06_log_transformed.tsv\", sep='\\t')\n",
    "\n",
    "df = df.drop(['N.Pept', 'Q.Pept', 'S/N', 'P(PECA)'], axis=1).set_index('Protein').T\n",
    "\n",
    "df.to_csv(\"../data/protein/E0022_P06_log_transformed.tsv\", sep='\\t')"
   ]
  },
  {
   "cell_type": "code",
   "execution_count": null,
   "metadata": {},
   "outputs": [],
   "source": [
    "df = pd.read_csv(\"../data/protein/FromDiffacto_E0022_P06_log_transformed.tsv\", sep='\\t')\n"
   ]
  },
  {
   "cell_type": "markdown",
   "metadata": {},
   "source": [
    "## median normalisation"
   ]
  },
  {
   "cell_type": "code",
   "execution_count": 54,
   "metadata": {
    "ExecuteTime": {
     "end_time": "2020-03-14T04:38:54.558404Z",
     "start_time": "2020-03-14T04:38:45.106679Z"
    }
   },
   "outputs": [],
   "source": [
    "df = pd.read_csv(\"../data/protein/FromDiffacto_E0022_P06_log_transformed.tsv\", sep='\\t')\n",
    "\n",
    "df = df.drop(['N.Pept', 'Q.Pept', 'S/N', 'P(PECA)'], axis=1).set_index('Protein').T"
   ]
  },
  {
   "cell_type": "code",
   "execution_count": 55,
   "metadata": {
    "ExecuteTime": {
     "end_time": "2020-03-14T04:38:57.559415Z",
     "start_time": "2020-03-14T04:38:54.560805Z"
    }
   },
   "outputs": [],
   "source": [
    "df_median_norm = df.apply(lambda row:row-np.nanmedian(row), axis=1)"
   ]
  },
  {
   "cell_type": "code",
   "execution_count": 56,
   "metadata": {
    "ExecuteTime": {
     "end_time": "2020-03-14T04:38:57.583563Z",
     "start_time": "2020-03-14T04:38:57.561968Z"
    }
   },
   "outputs": [
    {
     "data": {
      "text/html": [
       "<div>\n",
       "<style scoped>\n",
       "    .dataframe tbody tr th:only-of-type {\n",
       "        vertical-align: middle;\n",
       "    }\n",
       "\n",
       "    .dataframe tbody tr th {\n",
       "        vertical-align: top;\n",
       "    }\n",
       "\n",
       "    .dataframe thead th {\n",
       "        text-align: right;\n",
       "    }\n",
       "</style>\n",
       "<table border=\"1\" class=\"dataframe\">\n",
       "  <thead>\n",
       "    <tr style=\"text-align: right;\">\n",
       "      <th>Protein</th>\n",
       "      <th>1433B_HUMAN</th>\n",
       "      <th>1433E_HUMAN</th>\n",
       "      <th>1433F_HUMAN</th>\n",
       "      <th>1433G_HUMAN</th>\n",
       "      <th>1433S_HUMAN</th>\n",
       "      <th>1433T_HUMAN</th>\n",
       "      <th>1433Z_HUMAN</th>\n",
       "      <th>1A03_HUMAN</th>\n",
       "      <th>1A24_HUMAN</th>\n",
       "      <th>2A5D_HUMAN</th>\n",
       "      <th>...</th>\n",
       "      <th>ZO2_HUMAN</th>\n",
       "      <th>ZPR1_HUMAN</th>\n",
       "      <th>ZRAB2_HUMAN</th>\n",
       "      <th>ZW10_HUMAN</th>\n",
       "      <th>ZYX_HUMAN</th>\n",
       "      <th>sp|P49327|FAS_HUMAN</th>\n",
       "      <th>sp|P78527|PRKDC_HUMAN</th>\n",
       "      <th>sp|Q00610|CLH1_HUMAN</th>\n",
       "      <th>sp|Q13813|SPTN1_HUMAN</th>\n",
       "      <th>sp|Q14204|DYHC1_HUMAN</th>\n",
       "    </tr>\n",
       "  </thead>\n",
       "  <tbody>\n",
       "    <tr>\n",
       "      <th>180329_e0022_p01_2051_1_s_m06_1</th>\n",
       "      <td>1.366712</td>\n",
       "      <td>-0.379017</td>\n",
       "      <td>0.145958</td>\n",
       "      <td>0.020725</td>\n",
       "      <td>0.706700</td>\n",
       "      <td>0.215300</td>\n",
       "      <td>1.194450</td>\n",
       "      <td>NaN</td>\n",
       "      <td>NaN</td>\n",
       "      <td>-0.029726</td>\n",
       "      <td>...</td>\n",
       "      <td>0.839440</td>\n",
       "      <td>-0.446742</td>\n",
       "      <td>-0.593657</td>\n",
       "      <td>0.636341</td>\n",
       "      <td>0.026846</td>\n",
       "      <td>0.769756</td>\n",
       "      <td>0.430933</td>\n",
       "      <td>0.569526</td>\n",
       "      <td>1.575045</td>\n",
       "      <td>0.611558</td>\n",
       "    </tr>\n",
       "    <tr>\n",
       "      <th>180329_e0022_p01_2051_2_s_m06_1</th>\n",
       "      <td>1.216321</td>\n",
       "      <td>-0.165864</td>\n",
       "      <td>0.026386</td>\n",
       "      <td>0.141515</td>\n",
       "      <td>0.772427</td>\n",
       "      <td>0.369221</td>\n",
       "      <td>1.224733</td>\n",
       "      <td>NaN</td>\n",
       "      <td>NaN</td>\n",
       "      <td>-0.153385</td>\n",
       "      <td>...</td>\n",
       "      <td>0.846809</td>\n",
       "      <td>-0.456315</td>\n",
       "      <td>-0.532285</td>\n",
       "      <td>0.473204</td>\n",
       "      <td>0.074372</td>\n",
       "      <td>0.739575</td>\n",
       "      <td>0.420686</td>\n",
       "      <td>0.644488</td>\n",
       "      <td>1.519512</td>\n",
       "      <td>0.639871</td>\n",
       "    </tr>\n",
       "    <tr>\n",
       "      <th>180329_e0022_p01_2051_3_s_m06_1</th>\n",
       "      <td>1.512553</td>\n",
       "      <td>-0.094112</td>\n",
       "      <td>0.338224</td>\n",
       "      <td>-0.231715</td>\n",
       "      <td>0.392807</td>\n",
       "      <td>0.341544</td>\n",
       "      <td>1.033066</td>\n",
       "      <td>NaN</td>\n",
       "      <td>NaN</td>\n",
       "      <td>0.600706</td>\n",
       "      <td>...</td>\n",
       "      <td>0.523833</td>\n",
       "      <td>-0.643200</td>\n",
       "      <td>-0.791797</td>\n",
       "      <td>0.921086</td>\n",
       "      <td>-0.208231</td>\n",
       "      <td>1.061711</td>\n",
       "      <td>0.750340</td>\n",
       "      <td>0.916700</td>\n",
       "      <td>1.419850</td>\n",
       "      <td>0.745835</td>\n",
       "    </tr>\n",
       "    <tr>\n",
       "      <th>180329_e0022_p01_2098_1_s_m06_1</th>\n",
       "      <td>1.182712</td>\n",
       "      <td>1.336629</td>\n",
       "      <td>1.067884</td>\n",
       "      <td>0.462023</td>\n",
       "      <td>0.118597</td>\n",
       "      <td>1.471258</td>\n",
       "      <td>1.191380</td>\n",
       "      <td>NaN</td>\n",
       "      <td>1.787231</td>\n",
       "      <td>0.753880</td>\n",
       "      <td>...</td>\n",
       "      <td>0.582013</td>\n",
       "      <td>0.653656</td>\n",
       "      <td>-0.253880</td>\n",
       "      <td>0.604116</td>\n",
       "      <td>0.907799</td>\n",
       "      <td>1.974982</td>\n",
       "      <td>0.863071</td>\n",
       "      <td>1.461805</td>\n",
       "      <td>1.100506</td>\n",
       "      <td>1.767590</td>\n",
       "    </tr>\n",
       "    <tr>\n",
       "      <th>180329_e0022_p01_2098_2_s_m06_1</th>\n",
       "      <td>0.760195</td>\n",
       "      <td>0.959274</td>\n",
       "      <td>0.667517</td>\n",
       "      <td>0.555434</td>\n",
       "      <td>-0.284466</td>\n",
       "      <td>1.053615</td>\n",
       "      <td>0.580849</td>\n",
       "      <td>NaN</td>\n",
       "      <td>0.472755</td>\n",
       "      <td>0.162919</td>\n",
       "      <td>...</td>\n",
       "      <td>0.620631</td>\n",
       "      <td>0.532498</td>\n",
       "      <td>-0.205474</td>\n",
       "      <td>0.415667</td>\n",
       "      <td>0.656514</td>\n",
       "      <td>1.251139</td>\n",
       "      <td>0.040918</td>\n",
       "      <td>0.749182</td>\n",
       "      <td>0.840511</td>\n",
       "      <td>1.411439</td>\n",
       "    </tr>\n",
       "  </tbody>\n",
       "</table>\n",
       "<p>5 rows × 4020 columns</p>\n",
       "</div>"
      ],
      "text/plain": [
       "Protein                          1433B_HUMAN  1433E_HUMAN  1433F_HUMAN  \\\n",
       "180329_e0022_p01_2051_1_s_m06_1     1.366712    -0.379017     0.145958   \n",
       "180329_e0022_p01_2051_2_s_m06_1     1.216321    -0.165864     0.026386   \n",
       "180329_e0022_p01_2051_3_s_m06_1     1.512553    -0.094112     0.338224   \n",
       "180329_e0022_p01_2098_1_s_m06_1     1.182712     1.336629     1.067884   \n",
       "180329_e0022_p01_2098_2_s_m06_1     0.760195     0.959274     0.667517   \n",
       "\n",
       "Protein                          1433G_HUMAN  1433S_HUMAN  1433T_HUMAN  \\\n",
       "180329_e0022_p01_2051_1_s_m06_1     0.020725     0.706700     0.215300   \n",
       "180329_e0022_p01_2051_2_s_m06_1     0.141515     0.772427     0.369221   \n",
       "180329_e0022_p01_2051_3_s_m06_1    -0.231715     0.392807     0.341544   \n",
       "180329_e0022_p01_2098_1_s_m06_1     0.462023     0.118597     1.471258   \n",
       "180329_e0022_p01_2098_2_s_m06_1     0.555434    -0.284466     1.053615   \n",
       "\n",
       "Protein                          1433Z_HUMAN  1A03_HUMAN  1A24_HUMAN  \\\n",
       "180329_e0022_p01_2051_1_s_m06_1     1.194450         NaN         NaN   \n",
       "180329_e0022_p01_2051_2_s_m06_1     1.224733         NaN         NaN   \n",
       "180329_e0022_p01_2051_3_s_m06_1     1.033066         NaN         NaN   \n",
       "180329_e0022_p01_2098_1_s_m06_1     1.191380         NaN    1.787231   \n",
       "180329_e0022_p01_2098_2_s_m06_1     0.580849         NaN    0.472755   \n",
       "\n",
       "Protein                          2A5D_HUMAN  ...  ZO2_HUMAN  ZPR1_HUMAN  \\\n",
       "180329_e0022_p01_2051_1_s_m06_1   -0.029726  ...   0.839440   -0.446742   \n",
       "180329_e0022_p01_2051_2_s_m06_1   -0.153385  ...   0.846809   -0.456315   \n",
       "180329_e0022_p01_2051_3_s_m06_1    0.600706  ...   0.523833   -0.643200   \n",
       "180329_e0022_p01_2098_1_s_m06_1    0.753880  ...   0.582013    0.653656   \n",
       "180329_e0022_p01_2098_2_s_m06_1    0.162919  ...   0.620631    0.532498   \n",
       "\n",
       "Protein                          ZRAB2_HUMAN  ZW10_HUMAN  ZYX_HUMAN  \\\n",
       "180329_e0022_p01_2051_1_s_m06_1    -0.593657    0.636341   0.026846   \n",
       "180329_e0022_p01_2051_2_s_m06_1    -0.532285    0.473204   0.074372   \n",
       "180329_e0022_p01_2051_3_s_m06_1    -0.791797    0.921086  -0.208231   \n",
       "180329_e0022_p01_2098_1_s_m06_1    -0.253880    0.604116   0.907799   \n",
       "180329_e0022_p01_2098_2_s_m06_1    -0.205474    0.415667   0.656514   \n",
       "\n",
       "Protein                          sp|P49327|FAS_HUMAN  sp|P78527|PRKDC_HUMAN  \\\n",
       "180329_e0022_p01_2051_1_s_m06_1             0.769756               0.430933   \n",
       "180329_e0022_p01_2051_2_s_m06_1             0.739575               0.420686   \n",
       "180329_e0022_p01_2051_3_s_m06_1             1.061711               0.750340   \n",
       "180329_e0022_p01_2098_1_s_m06_1             1.974982               0.863071   \n",
       "180329_e0022_p01_2098_2_s_m06_1             1.251139               0.040918   \n",
       "\n",
       "Protein                          sp|Q00610|CLH1_HUMAN  sp|Q13813|SPTN1_HUMAN  \\\n",
       "180329_e0022_p01_2051_1_s_m06_1              0.569526               1.575045   \n",
       "180329_e0022_p01_2051_2_s_m06_1              0.644488               1.519512   \n",
       "180329_e0022_p01_2051_3_s_m06_1              0.916700               1.419850   \n",
       "180329_e0022_p01_2098_1_s_m06_1              1.461805               1.100506   \n",
       "180329_e0022_p01_2098_2_s_m06_1              0.749182               0.840511   \n",
       "\n",
       "Protein                          sp|Q14204|DYHC1_HUMAN  \n",
       "180329_e0022_p01_2051_1_s_m06_1               0.611558  \n",
       "180329_e0022_p01_2051_2_s_m06_1               0.639871  \n",
       "180329_e0022_p01_2051_3_s_m06_1               0.745835  \n",
       "180329_e0022_p01_2098_1_s_m06_1               1.767590  \n",
       "180329_e0022_p01_2098_2_s_m06_1               1.411439  \n",
       "\n",
       "[5 rows x 4020 columns]"
      ]
     },
     "execution_count": 56,
     "metadata": {},
     "output_type": "execute_result"
    }
   ],
   "source": [
    "df.head()"
   ]
  },
  {
   "cell_type": "code",
   "execution_count": 57,
   "metadata": {
    "ExecuteTime": {
     "end_time": "2020-03-14T04:39:04.634714Z",
     "start_time": "2020-03-14T04:39:04.614704Z"
    }
   },
   "outputs": [
    {
     "data": {
      "text/html": [
       "<div>\n",
       "<style scoped>\n",
       "    .dataframe tbody tr th:only-of-type {\n",
       "        vertical-align: middle;\n",
       "    }\n",
       "\n",
       "    .dataframe tbody tr th {\n",
       "        vertical-align: top;\n",
       "    }\n",
       "\n",
       "    .dataframe thead th {\n",
       "        text-align: right;\n",
       "    }\n",
       "</style>\n",
       "<table border=\"1\" class=\"dataframe\">\n",
       "  <thead>\n",
       "    <tr style=\"text-align: right;\">\n",
       "      <th>Protein</th>\n",
       "      <th>1433B_HUMAN</th>\n",
       "      <th>1433E_HUMAN</th>\n",
       "      <th>1433F_HUMAN</th>\n",
       "      <th>1433G_HUMAN</th>\n",
       "      <th>1433S_HUMAN</th>\n",
       "      <th>1433T_HUMAN</th>\n",
       "      <th>1433Z_HUMAN</th>\n",
       "      <th>1A03_HUMAN</th>\n",
       "      <th>1A24_HUMAN</th>\n",
       "      <th>2A5D_HUMAN</th>\n",
       "      <th>...</th>\n",
       "      <th>ZO2_HUMAN</th>\n",
       "      <th>ZPR1_HUMAN</th>\n",
       "      <th>ZRAB2_HUMAN</th>\n",
       "      <th>ZW10_HUMAN</th>\n",
       "      <th>ZYX_HUMAN</th>\n",
       "      <th>sp|P49327|FAS_HUMAN</th>\n",
       "      <th>sp|P78527|PRKDC_HUMAN</th>\n",
       "      <th>sp|Q00610|CLH1_HUMAN</th>\n",
       "      <th>sp|Q13813|SPTN1_HUMAN</th>\n",
       "      <th>sp|Q14204|DYHC1_HUMAN</th>\n",
       "    </tr>\n",
       "  </thead>\n",
       "  <tbody>\n",
       "    <tr>\n",
       "      <th>180329_e0022_p01_2051_1_s_m06_1</th>\n",
       "      <td>1.092588</td>\n",
       "      <td>-0.653141</td>\n",
       "      <td>-0.128165</td>\n",
       "      <td>-0.253398</td>\n",
       "      <td>0.432576</td>\n",
       "      <td>-0.058823</td>\n",
       "      <td>0.920327</td>\n",
       "      <td>NaN</td>\n",
       "      <td>NaN</td>\n",
       "      <td>-0.303849</td>\n",
       "      <td>...</td>\n",
       "      <td>0.565317</td>\n",
       "      <td>-0.720865</td>\n",
       "      <td>-0.867780</td>\n",
       "      <td>0.362218</td>\n",
       "      <td>-0.247277</td>\n",
       "      <td>0.495633</td>\n",
       "      <td>0.156809</td>\n",
       "      <td>0.295403</td>\n",
       "      <td>1.300921</td>\n",
       "      <td>0.337435</td>\n",
       "    </tr>\n",
       "    <tr>\n",
       "      <th>180329_e0022_p01_2051_2_s_m06_1</th>\n",
       "      <td>0.984866</td>\n",
       "      <td>-0.397319</td>\n",
       "      <td>-0.205069</td>\n",
       "      <td>-0.089941</td>\n",
       "      <td>0.540971</td>\n",
       "      <td>0.137765</td>\n",
       "      <td>0.993278</td>\n",
       "      <td>NaN</td>\n",
       "      <td>NaN</td>\n",
       "      <td>-0.384840</td>\n",
       "      <td>...</td>\n",
       "      <td>0.615354</td>\n",
       "      <td>-0.687771</td>\n",
       "      <td>-0.763740</td>\n",
       "      <td>0.241748</td>\n",
       "      <td>-0.157083</td>\n",
       "      <td>0.508119</td>\n",
       "      <td>0.189231</td>\n",
       "      <td>0.413032</td>\n",
       "      <td>1.288057</td>\n",
       "      <td>0.408416</td>\n",
       "    </tr>\n",
       "    <tr>\n",
       "      <th>180329_e0022_p01_2051_3_s_m06_1</th>\n",
       "      <td>1.284942</td>\n",
       "      <td>-0.321723</td>\n",
       "      <td>0.110612</td>\n",
       "      <td>-0.459327</td>\n",
       "      <td>0.165195</td>\n",
       "      <td>0.113933</td>\n",
       "      <td>0.805455</td>\n",
       "      <td>NaN</td>\n",
       "      <td>NaN</td>\n",
       "      <td>0.373094</td>\n",
       "      <td>...</td>\n",
       "      <td>0.296222</td>\n",
       "      <td>-0.870812</td>\n",
       "      <td>-1.019409</td>\n",
       "      <td>0.693474</td>\n",
       "      <td>-0.435843</td>\n",
       "      <td>0.834100</td>\n",
       "      <td>0.522728</td>\n",
       "      <td>0.689089</td>\n",
       "      <td>1.192239</td>\n",
       "      <td>0.518223</td>\n",
       "    </tr>\n",
       "    <tr>\n",
       "      <th>180329_e0022_p01_2098_1_s_m06_1</th>\n",
       "      <td>0.620413</td>\n",
       "      <td>0.774329</td>\n",
       "      <td>0.505584</td>\n",
       "      <td>-0.100277</td>\n",
       "      <td>-0.443702</td>\n",
       "      <td>0.908958</td>\n",
       "      <td>0.629080</td>\n",
       "      <td>NaN</td>\n",
       "      <td>1.224931</td>\n",
       "      <td>0.191581</td>\n",
       "      <td>...</td>\n",
       "      <td>0.019714</td>\n",
       "      <td>0.091357</td>\n",
       "      <td>-0.816180</td>\n",
       "      <td>0.041816</td>\n",
       "      <td>0.345500</td>\n",
       "      <td>1.412682</td>\n",
       "      <td>0.300771</td>\n",
       "      <td>0.899505</td>\n",
       "      <td>0.538206</td>\n",
       "      <td>1.205291</td>\n",
       "    </tr>\n",
       "    <tr>\n",
       "      <th>180329_e0022_p01_2098_2_s_m06_1</th>\n",
       "      <td>0.508181</td>\n",
       "      <td>0.707260</td>\n",
       "      <td>0.415503</td>\n",
       "      <td>0.303420</td>\n",
       "      <td>-0.536480</td>\n",
       "      <td>0.801601</td>\n",
       "      <td>0.328835</td>\n",
       "      <td>NaN</td>\n",
       "      <td>0.220741</td>\n",
       "      <td>-0.089095</td>\n",
       "      <td>...</td>\n",
       "      <td>0.368617</td>\n",
       "      <td>0.280484</td>\n",
       "      <td>-0.457489</td>\n",
       "      <td>0.163653</td>\n",
       "      <td>0.404500</td>\n",
       "      <td>0.999125</td>\n",
       "      <td>-0.211096</td>\n",
       "      <td>0.497168</td>\n",
       "      <td>0.588497</td>\n",
       "      <td>1.159425</td>\n",
       "    </tr>\n",
       "  </tbody>\n",
       "</table>\n",
       "<p>5 rows × 4020 columns</p>\n",
       "</div>"
      ],
      "text/plain": [
       "Protein                          1433B_HUMAN  1433E_HUMAN  1433F_HUMAN  \\\n",
       "180329_e0022_p01_2051_1_s_m06_1     1.092588    -0.653141    -0.128165   \n",
       "180329_e0022_p01_2051_2_s_m06_1     0.984866    -0.397319    -0.205069   \n",
       "180329_e0022_p01_2051_3_s_m06_1     1.284942    -0.321723     0.110612   \n",
       "180329_e0022_p01_2098_1_s_m06_1     0.620413     0.774329     0.505584   \n",
       "180329_e0022_p01_2098_2_s_m06_1     0.508181     0.707260     0.415503   \n",
       "\n",
       "Protein                          1433G_HUMAN  1433S_HUMAN  1433T_HUMAN  \\\n",
       "180329_e0022_p01_2051_1_s_m06_1    -0.253398     0.432576    -0.058823   \n",
       "180329_e0022_p01_2051_2_s_m06_1    -0.089941     0.540971     0.137765   \n",
       "180329_e0022_p01_2051_3_s_m06_1    -0.459327     0.165195     0.113933   \n",
       "180329_e0022_p01_2098_1_s_m06_1    -0.100277    -0.443702     0.908958   \n",
       "180329_e0022_p01_2098_2_s_m06_1     0.303420    -0.536480     0.801601   \n",
       "\n",
       "Protein                          1433Z_HUMAN  1A03_HUMAN  1A24_HUMAN  \\\n",
       "180329_e0022_p01_2051_1_s_m06_1     0.920327         NaN         NaN   \n",
       "180329_e0022_p01_2051_2_s_m06_1     0.993278         NaN         NaN   \n",
       "180329_e0022_p01_2051_3_s_m06_1     0.805455         NaN         NaN   \n",
       "180329_e0022_p01_2098_1_s_m06_1     0.629080         NaN    1.224931   \n",
       "180329_e0022_p01_2098_2_s_m06_1     0.328835         NaN    0.220741   \n",
       "\n",
       "Protein                          2A5D_HUMAN  ...  ZO2_HUMAN  ZPR1_HUMAN  \\\n",
       "180329_e0022_p01_2051_1_s_m06_1   -0.303849  ...   0.565317   -0.720865   \n",
       "180329_e0022_p01_2051_2_s_m06_1   -0.384840  ...   0.615354   -0.687771   \n",
       "180329_e0022_p01_2051_3_s_m06_1    0.373094  ...   0.296222   -0.870812   \n",
       "180329_e0022_p01_2098_1_s_m06_1    0.191581  ...   0.019714    0.091357   \n",
       "180329_e0022_p01_2098_2_s_m06_1   -0.089095  ...   0.368617    0.280484   \n",
       "\n",
       "Protein                          ZRAB2_HUMAN  ZW10_HUMAN  ZYX_HUMAN  \\\n",
       "180329_e0022_p01_2051_1_s_m06_1    -0.867780    0.362218  -0.247277   \n",
       "180329_e0022_p01_2051_2_s_m06_1    -0.763740    0.241748  -0.157083   \n",
       "180329_e0022_p01_2051_3_s_m06_1    -1.019409    0.693474  -0.435843   \n",
       "180329_e0022_p01_2098_1_s_m06_1    -0.816180    0.041816   0.345500   \n",
       "180329_e0022_p01_2098_2_s_m06_1    -0.457489    0.163653   0.404500   \n",
       "\n",
       "Protein                          sp|P49327|FAS_HUMAN  sp|P78527|PRKDC_HUMAN  \\\n",
       "180329_e0022_p01_2051_1_s_m06_1             0.495633               0.156809   \n",
       "180329_e0022_p01_2051_2_s_m06_1             0.508119               0.189231   \n",
       "180329_e0022_p01_2051_3_s_m06_1             0.834100               0.522728   \n",
       "180329_e0022_p01_2098_1_s_m06_1             1.412682               0.300771   \n",
       "180329_e0022_p01_2098_2_s_m06_1             0.999125              -0.211096   \n",
       "\n",
       "Protein                          sp|Q00610|CLH1_HUMAN  sp|Q13813|SPTN1_HUMAN  \\\n",
       "180329_e0022_p01_2051_1_s_m06_1              0.295403               1.300921   \n",
       "180329_e0022_p01_2051_2_s_m06_1              0.413032               1.288057   \n",
       "180329_e0022_p01_2051_3_s_m06_1              0.689089               1.192239   \n",
       "180329_e0022_p01_2098_1_s_m06_1              0.899505               0.538206   \n",
       "180329_e0022_p01_2098_2_s_m06_1              0.497168               0.588497   \n",
       "\n",
       "Protein                          sp|Q14204|DYHC1_HUMAN  \n",
       "180329_e0022_p01_2051_1_s_m06_1               0.337435  \n",
       "180329_e0022_p01_2051_2_s_m06_1               0.408416  \n",
       "180329_e0022_p01_2051_3_s_m06_1               0.518223  \n",
       "180329_e0022_p01_2098_1_s_m06_1               1.205291  \n",
       "180329_e0022_p01_2098_2_s_m06_1               1.159425  \n",
       "\n",
       "[5 rows x 4020 columns]"
      ]
     },
     "execution_count": 57,
     "metadata": {},
     "output_type": "execute_result"
    }
   ],
   "source": [
    "df_median_norm.head()"
   ]
  },
  {
   "cell_type": "code",
   "execution_count": 60,
   "metadata": {
    "ExecuteTime": {
     "end_time": "2020-03-14T04:41:08.775761Z",
     "start_time": "2020-03-14T04:40:31.029602Z"
    }
   },
   "outputs": [],
   "source": [
    "df_median_norm.to_csv(\"../data/protein/E0022_P06_log_transformed_median.tsv\", sep='\\t')"
   ]
  },
  {
   "cell_type": "markdown",
   "metadata": {},
   "source": [
    "## quantile normalisation"
   ]
  },
  {
   "cell_type": "code",
   "execution_count": null,
   "metadata": {
    "ExecuteTime": {
     "end_time": "2020-03-31T03:43:53.532134Z",
     "start_time": "2020-03-31T03:43:43.468344Z"
    }
   },
   "outputs": [],
   "source": [
    "df = pd.read_csv(\"../data/protein/FromDiffacto_E0022_P06_log_transformed.tsv\", sep='\\t')\n",
    "\n",
    "df = df.drop(['N.Pept', 'Q.Pept', 'S/N', 'P(PECA)'], axis=1).set_index('Protein').T"
   ]
  },
  {
   "cell_type": "code",
   "execution_count": 17,
   "metadata": {
    "ExecuteTime": {
     "end_time": "2020-03-31T03:54:34.001787Z",
     "start_time": "2020-03-31T03:54:25.837937Z"
    }
   },
   "outputs": [
    {
     "name": "stderr",
     "output_type": "stream",
     "text": [
      "/Users/scai/anaconda3/lib/python3.7/site-packages/sklearn/preprocessing/data.py:2553: FutureWarning: The default value of `copy` will change from False to True in 0.23 in order to make it more consistent with the default `copy` values of other functions in :mod:`sklearn.preprocessing.data` and prevent unexpected side effects by modifying the value of `X` inplace. To avoid inplace modifications of `X`, it is recommended to explicitly set `copy=True`\n",
      "  FutureWarning)\n"
     ]
    }
   ],
   "source": [
    "df_quant_norm = pd.DataFrame(quantile_transform(df), columns=df.columns, index=df.index)"
   ]
  },
  {
   "cell_type": "code",
   "execution_count": 5,
   "metadata": {
    "ExecuteTime": {
     "end_time": "2020-03-31T03:43:53.532134Z",
     "start_time": "2020-03-31T03:43:43.468344Z"
    }
   },
   "outputs": [],
   "source": [
    "df_quant_norm.values[np.isnan(df)] = np.nan"
   ]
  },
  {
   "cell_type": "code",
   "execution_count": 18,
   "metadata": {
    "ExecuteTime": {
     "end_time": "2020-03-31T03:54:36.321173Z",
     "start_time": "2020-03-31T03:54:36.301049Z"
    }
   },
   "outputs": [
    {
     "data": {
      "text/html": [
       "<div>\n",
       "<style scoped>\n",
       "    .dataframe tbody tr th:only-of-type {\n",
       "        vertical-align: middle;\n",
       "    }\n",
       "\n",
       "    .dataframe tbody tr th {\n",
       "        vertical-align: top;\n",
       "    }\n",
       "\n",
       "    .dataframe thead th {\n",
       "        text-align: right;\n",
       "    }\n",
       "</style>\n",
       "<table border=\"1\" class=\"dataframe\">\n",
       "  <thead>\n",
       "    <tr style=\"text-align: right;\">\n",
       "      <th>Protein</th>\n",
       "      <th>1433B_HUMAN</th>\n",
       "      <th>1433E_HUMAN</th>\n",
       "      <th>1433F_HUMAN</th>\n",
       "      <th>1433G_HUMAN</th>\n",
       "      <th>1433S_HUMAN</th>\n",
       "      <th>1433T_HUMAN</th>\n",
       "      <th>1433Z_HUMAN</th>\n",
       "      <th>1A03_HUMAN</th>\n",
       "      <th>1A24_HUMAN</th>\n",
       "      <th>2A5D_HUMAN</th>\n",
       "      <th>...</th>\n",
       "      <th>ZO2_HUMAN</th>\n",
       "      <th>ZPR1_HUMAN</th>\n",
       "      <th>ZRAB2_HUMAN</th>\n",
       "      <th>ZW10_HUMAN</th>\n",
       "      <th>ZYX_HUMAN</th>\n",
       "      <th>sp|P49327|FAS_HUMAN</th>\n",
       "      <th>sp|P78527|PRKDC_HUMAN</th>\n",
       "      <th>sp|Q00610|CLH1_HUMAN</th>\n",
       "      <th>sp|Q13813|SPTN1_HUMAN</th>\n",
       "      <th>sp|Q14204|DYHC1_HUMAN</th>\n",
       "    </tr>\n",
       "  </thead>\n",
       "  <tbody>\n",
       "    <tr>\n",
       "      <th>180329_e0022_p01_2051_1_s_m06_1</th>\n",
       "      <td>0.941137</td>\n",
       "      <td>0.456338</td>\n",
       "      <td>0.660549</td>\n",
       "      <td>0.519858</td>\n",
       "      <td>0.841361</td>\n",
       "      <td>0.648044</td>\n",
       "      <td>0.896659</td>\n",
       "      <td>NaN</td>\n",
       "      <td>NaN</td>\n",
       "      <td>0.474474</td>\n",
       "      <td>...</td>\n",
       "      <td>0.907599</td>\n",
       "      <td>0.460068</td>\n",
       "      <td>0.346858</td>\n",
       "      <td>0.813499</td>\n",
       "      <td>0.600664</td>\n",
       "      <td>0.776720</td>\n",
       "      <td>0.720722</td>\n",
       "      <td>0.750598</td>\n",
       "      <td>0.976999</td>\n",
       "      <td>0.755890</td>\n",
       "    </tr>\n",
       "    <tr>\n",
       "      <th>180329_e0022_p01_2051_2_s_m06_1</th>\n",
       "      <td>0.913877</td>\n",
       "      <td>0.535447</td>\n",
       "      <td>0.612584</td>\n",
       "      <td>0.575414</td>\n",
       "      <td>0.853123</td>\n",
       "      <td>0.703070</td>\n",
       "      <td>0.902583</td>\n",
       "      <td>NaN</td>\n",
       "      <td>NaN</td>\n",
       "      <td>0.415916</td>\n",
       "      <td>...</td>\n",
       "      <td>0.908823</td>\n",
       "      <td>0.455556</td>\n",
       "      <td>0.376730</td>\n",
       "      <td>0.758340</td>\n",
       "      <td>0.612982</td>\n",
       "      <td>0.769927</td>\n",
       "      <td>0.717877</td>\n",
       "      <td>0.781520</td>\n",
       "      <td>0.973739</td>\n",
       "      <td>0.766078</td>\n",
       "    </tr>\n",
       "    <tr>\n",
       "      <th>180329_e0022_p01_2051_3_s_m06_1</th>\n",
       "      <td>0.959960</td>\n",
       "      <td>0.560257</td>\n",
       "      <td>0.732291</td>\n",
       "      <td>0.413816</td>\n",
       "      <td>0.777220</td>\n",
       "      <td>0.695459</td>\n",
       "      <td>0.857543</td>\n",
       "      <td>NaN</td>\n",
       "      <td>NaN</td>\n",
       "      <td>0.769420</td>\n",
       "      <td>...</td>\n",
       "      <td>0.826275</td>\n",
       "      <td>0.373980</td>\n",
       "      <td>0.253813</td>\n",
       "      <td>0.880619</td>\n",
       "      <td>0.532856</td>\n",
       "      <td>0.826792</td>\n",
       "      <td>0.815296</td>\n",
       "      <td>0.868020</td>\n",
       "      <td>0.965383</td>\n",
       "      <td>0.802784</td>\n",
       "    </tr>\n",
       "    <tr>\n",
       "      <th>180329_e0022_p01_2098_1_s_m06_1</th>\n",
       "      <td>0.908055</td>\n",
       "      <td>0.886903</td>\n",
       "      <td>0.906793</td>\n",
       "      <td>0.721381</td>\n",
       "      <td>0.705692</td>\n",
       "      <td>0.938605</td>\n",
       "      <td>0.895979</td>\n",
       "      <td>NaN</td>\n",
       "      <td>0.946814</td>\n",
       "      <td>0.828328</td>\n",
       "      <td>...</td>\n",
       "      <td>0.844816</td>\n",
       "      <td>0.849546</td>\n",
       "      <td>0.515229</td>\n",
       "      <td>0.803796</td>\n",
       "      <td>0.831552</td>\n",
       "      <td>0.947884</td>\n",
       "      <td>0.845834</td>\n",
       "      <td>0.973819</td>\n",
       "      <td>0.916920</td>\n",
       "      <td>0.986593</td>\n",
       "    </tr>\n",
       "    <tr>\n",
       "      <th>180329_e0022_p01_2098_2_s_m06_1</th>\n",
       "      <td>0.804724</td>\n",
       "      <td>0.839597</td>\n",
       "      <td>0.829818</td>\n",
       "      <td>0.758725</td>\n",
       "      <td>0.586030</td>\n",
       "      <td>0.870713</td>\n",
       "      <td>0.709676</td>\n",
       "      <td>NaN</td>\n",
       "      <td>0.587217</td>\n",
       "      <td>0.568569</td>\n",
       "      <td>...</td>\n",
       "      <td>0.855956</td>\n",
       "      <td>0.827337</td>\n",
       "      <td>0.540467</td>\n",
       "      <td>0.739647</td>\n",
       "      <td>0.767617</td>\n",
       "      <td>0.857196</td>\n",
       "      <td>0.560527</td>\n",
       "      <td>0.818825</td>\n",
       "      <td>0.851349</td>\n",
       "      <td>0.959152</td>\n",
       "    </tr>\n",
       "  </tbody>\n",
       "</table>\n",
       "<p>5 rows × 4020 columns</p>\n",
       "</div>"
      ],
      "text/plain": [
       "Protein                          1433B_HUMAN  1433E_HUMAN  1433F_HUMAN  \\\n",
       "180329_e0022_p01_2051_1_s_m06_1     0.941137     0.456338     0.660549   \n",
       "180329_e0022_p01_2051_2_s_m06_1     0.913877     0.535447     0.612584   \n",
       "180329_e0022_p01_2051_3_s_m06_1     0.959960     0.560257     0.732291   \n",
       "180329_e0022_p01_2098_1_s_m06_1     0.908055     0.886903     0.906793   \n",
       "180329_e0022_p01_2098_2_s_m06_1     0.804724     0.839597     0.829818   \n",
       "\n",
       "Protein                          1433G_HUMAN  1433S_HUMAN  1433T_HUMAN  \\\n",
       "180329_e0022_p01_2051_1_s_m06_1     0.519858     0.841361     0.648044   \n",
       "180329_e0022_p01_2051_2_s_m06_1     0.575414     0.853123     0.703070   \n",
       "180329_e0022_p01_2051_3_s_m06_1     0.413816     0.777220     0.695459   \n",
       "180329_e0022_p01_2098_1_s_m06_1     0.721381     0.705692     0.938605   \n",
       "180329_e0022_p01_2098_2_s_m06_1     0.758725     0.586030     0.870713   \n",
       "\n",
       "Protein                          1433Z_HUMAN  1A03_HUMAN  1A24_HUMAN  \\\n",
       "180329_e0022_p01_2051_1_s_m06_1     0.896659         NaN         NaN   \n",
       "180329_e0022_p01_2051_2_s_m06_1     0.902583         NaN         NaN   \n",
       "180329_e0022_p01_2051_3_s_m06_1     0.857543         NaN         NaN   \n",
       "180329_e0022_p01_2098_1_s_m06_1     0.895979         NaN    0.946814   \n",
       "180329_e0022_p01_2098_2_s_m06_1     0.709676         NaN    0.587217   \n",
       "\n",
       "Protein                          2A5D_HUMAN  ...  ZO2_HUMAN  ZPR1_HUMAN  \\\n",
       "180329_e0022_p01_2051_1_s_m06_1    0.474474  ...   0.907599    0.460068   \n",
       "180329_e0022_p01_2051_2_s_m06_1    0.415916  ...   0.908823    0.455556   \n",
       "180329_e0022_p01_2051_3_s_m06_1    0.769420  ...   0.826275    0.373980   \n",
       "180329_e0022_p01_2098_1_s_m06_1    0.828328  ...   0.844816    0.849546   \n",
       "180329_e0022_p01_2098_2_s_m06_1    0.568569  ...   0.855956    0.827337   \n",
       "\n",
       "Protein                          ZRAB2_HUMAN  ZW10_HUMAN  ZYX_HUMAN  \\\n",
       "180329_e0022_p01_2051_1_s_m06_1     0.346858    0.813499   0.600664   \n",
       "180329_e0022_p01_2051_2_s_m06_1     0.376730    0.758340   0.612982   \n",
       "180329_e0022_p01_2051_3_s_m06_1     0.253813    0.880619   0.532856   \n",
       "180329_e0022_p01_2098_1_s_m06_1     0.515229    0.803796   0.831552   \n",
       "180329_e0022_p01_2098_2_s_m06_1     0.540467    0.739647   0.767617   \n",
       "\n",
       "Protein                          sp|P49327|FAS_HUMAN  sp|P78527|PRKDC_HUMAN  \\\n",
       "180329_e0022_p01_2051_1_s_m06_1             0.776720               0.720722   \n",
       "180329_e0022_p01_2051_2_s_m06_1             0.769927               0.717877   \n",
       "180329_e0022_p01_2051_3_s_m06_1             0.826792               0.815296   \n",
       "180329_e0022_p01_2098_1_s_m06_1             0.947884               0.845834   \n",
       "180329_e0022_p01_2098_2_s_m06_1             0.857196               0.560527   \n",
       "\n",
       "Protein                          sp|Q00610|CLH1_HUMAN  sp|Q13813|SPTN1_HUMAN  \\\n",
       "180329_e0022_p01_2051_1_s_m06_1              0.750598               0.976999   \n",
       "180329_e0022_p01_2051_2_s_m06_1              0.781520               0.973739   \n",
       "180329_e0022_p01_2051_3_s_m06_1              0.868020               0.965383   \n",
       "180329_e0022_p01_2098_1_s_m06_1              0.973819               0.916920   \n",
       "180329_e0022_p01_2098_2_s_m06_1              0.818825               0.851349   \n",
       "\n",
       "Protein                          sp|Q14204|DYHC1_HUMAN  \n",
       "180329_e0022_p01_2051_1_s_m06_1               0.755890  \n",
       "180329_e0022_p01_2051_2_s_m06_1               0.766078  \n",
       "180329_e0022_p01_2051_3_s_m06_1               0.802784  \n",
       "180329_e0022_p01_2098_1_s_m06_1               0.986593  \n",
       "180329_e0022_p01_2098_2_s_m06_1               0.959152  \n",
       "\n",
       "[5 rows x 4020 columns]"
      ]
     },
     "execution_count": 18,
     "metadata": {},
     "output_type": "execute_result"
    }
   ],
   "source": [
    "df_quant_norm.head()"
   ]
  },
  {
   "cell_type": "code",
   "execution_count": 19,
   "metadata": {
    "ExecuteTime": {
     "end_time": "2020-03-31T03:54:47.905069Z",
     "start_time": "2020-03-31T03:54:47.897566Z"
    }
   },
   "outputs": [
    {
     "data": {
      "text/plain": [
       "count    7093.000000\n",
       "mean        0.500001\n",
       "std         0.288734\n",
       "min         0.000000\n",
       "25%         0.249918\n",
       "50%         0.499895\n",
       "75%         0.750258\n",
       "max         1.000000\n",
       "Name: 1433B_HUMAN, dtype: float64"
      ]
     },
     "execution_count": 19,
     "metadata": {},
     "output_type": "execute_result"
    }
   ],
   "source": [
    "df_quant_norm['1433B_HUMAN'].describe()"
   ]
  },
  {
   "cell_type": "code",
   "execution_count": 20,
   "metadata": {
    "ExecuteTime": {
     "end_time": "2020-03-31T03:54:51.007770Z",
     "start_time": "2020-03-31T03:54:50.999920Z"
    }
   },
   "outputs": [
    {
     "data": {
      "text/plain": [
       "count    7135.000000\n",
       "mean        0.499999\n",
       "std         0.288733\n",
       "min         0.000000\n",
       "25%         0.250157\n",
       "50%         0.500132\n",
       "75%         0.750236\n",
       "max         1.000000\n",
       "Name: 1433E_HUMAN, dtype: float64"
      ]
     },
     "execution_count": 20,
     "metadata": {},
     "output_type": "execute_result"
    }
   ],
   "source": [
    "df_quant_norm['1433E_HUMAN'].describe()"
   ]
  },
  {
   "cell_type": "code",
   "execution_count": 21,
   "metadata": {
    "ExecuteTime": {
     "end_time": "2020-03-31T03:55:57.246018Z",
     "start_time": "2020-03-31T03:55:20.332726Z"
    }
   },
   "outputs": [],
   "source": [
    "df_quant_norm.to_csv(\"../data/protein/E0022_P06_log_transformed_quant.tsv\", sep='\\t')"
   ]
  },
  {
   "cell_type": "markdown",
   "metadata": {
    "heading_collapsed": true
   },
   "source": [
    "# convert P06 peptide"
   ]
  },
  {
   "cell_type": "code",
   "execution_count": 20,
   "metadata": {
    "ExecuteTime": {
     "end_time": "2020-03-13T05:25:13.380413Z",
     "start_time": "2020-03-13T05:16:12.425141Z"
    },
    "hidden": true
   },
   "outputs": [],
   "source": [
    "df = pd.read_csv(\"../data/protein/E0022_P06_log_transformed.csv\")\n"
   ]
  },
  {
   "cell_type": "code",
   "execution_count": 23,
   "metadata": {
    "ExecuteTime": {
     "end_time": "2020-03-13T05:40:02.179734Z",
     "start_time": "2020-03-13T05:40:00.783233Z"
    },
    "hidden": true
   },
   "outputs": [],
   "source": [
    "df = df.rename(columns={'Unnamed: 0': 'Automatic_MS_filename'})"
   ]
  },
  {
   "cell_type": "code",
   "execution_count": 26,
   "metadata": {
    "ExecuteTime": {
     "end_time": "2020-03-13T05:41:04.446511Z",
     "start_time": "2020-03-13T05:41:00.978091Z"
    },
    "hidden": true
   },
   "outputs": [],
   "source": [
    "pickle.dump(df, open(\"../data/protein/E0022_P06_log_transformed_peptide.pkl\", \"wb\"))"
   ]
  },
  {
   "cell_type": "code",
   "execution_count": 31,
   "metadata": {
    "ExecuteTime": {
     "end_time": "2020-03-13T06:32:36.463685Z",
     "start_time": "2020-03-13T06:32:29.618164Z"
    },
    "hidden": true
   },
   "outputs": [],
   "source": [
    "df = pickle.load(open(\"../data/protein/E0022_P06_log_transformed_peptide.pkl\", \"rb\"))"
   ]
  },
  {
   "cell_type": "code",
   "execution_count": 32,
   "metadata": {
    "ExecuteTime": {
     "end_time": "2020-03-13T06:32:37.040309Z",
     "start_time": "2020-03-13T06:32:37.020436Z"
    },
    "hidden": true
   },
   "outputs": [
    {
     "data": {
      "text/plain": [
       "(7140, 36857)"
      ]
     },
     "execution_count": 32,
     "metadata": {},
     "output_type": "execute_result"
    }
   ],
   "source": [
    "df.shape"
   ]
  },
  {
   "cell_type": "code",
   "execution_count": 33,
   "metadata": {
    "ExecuteTime": {
     "end_time": "2020-03-13T06:32:44.165731Z",
     "start_time": "2020-03-13T06:32:44.091189Z"
    },
    "hidden": true
   },
   "outputs": [
    {
     "data": {
      "text/html": [
       "<div>\n",
       "<style scoped>\n",
       "    .dataframe tbody tr th:only-of-type {\n",
       "        vertical-align: middle;\n",
       "    }\n",
       "\n",
       "    .dataframe tbody tr th {\n",
       "        vertical-align: top;\n",
       "    }\n",
       "\n",
       "    .dataframe thead th {\n",
       "        text-align: right;\n",
       "    }\n",
       "</style>\n",
       "<table border=\"1\" class=\"dataframe\">\n",
       "  <thead>\n",
       "    <tr style=\"text-align: right;\">\n",
       "      <th></th>\n",
       "      <th>Automatic_MS_filename</th>\n",
       "      <th>1433B_HUMAN=AVTEQGHELSNEER=AVTEQGHELSNEER</th>\n",
       "      <th>1433B_HUMAN=EKIEAELQDICNDVLELLDK=EKIEAELQDIC(UniMod:4)NDVLELLDK</th>\n",
       "      <th>1433B_HUMAN=IEAELQDICNDVLELLDK=IEAELQDIC(UniMod:4)NDVLELLDK</th>\n",
       "      <th>1433B_HUMAN=QTTVSNSQQAYQEAFEISK=QTTVSNSQQAYQEAFEISK</th>\n",
       "      <th>1433B_HUMAN=QTTVSNSQQAYQEAFEISKK=QTTVSNSQQAYQEAFEISKK</th>\n",
       "      <th>1433B_HUMAN=TAFDEAIAELDTLNEESYK=TAFDEAIAELDTLNEESYK</th>\n",
       "      <th>1433B_HUMAN=VISSIEQKTER=VISSIEQKTER</th>\n",
       "      <th>1433B_HUMAN=VISSIEQKTERNEK=VISSIEQKTERNEK</th>\n",
       "      <th>1433B_HUMAN=YLIPNATQPESK=YLIPNATQPESK</th>\n",
       "      <th>...</th>\n",
       "      <th>sp|Q13813|SPTN1_HUMAN=DLAALEDKVK=DLAALEDKVK</th>\n",
       "      <th>sp|Q13813|SPTN1_HUMAN=DLASVQALLR=DLASVQALLR</th>\n",
       "      <th>sp|Q13813|SPTN1_HUMAN=ELPTAFDYVEFTR=ELPTAFDYVEFTR</th>\n",
       "      <th>sp|Q13813|SPTN1_HUMAN=LGESQTLQQFSR=LGESQTLQQFSR</th>\n",
       "      <th>sp|Q13813|SPTN1_HUMAN=REELITNWEQIR=REELITNWEQIR</th>\n",
       "      <th>sp|Q13813|SPTN1_HUMAN=SLQQLAEER=SLQQLAEER</th>\n",
       "      <th>sp|Q13813|SPTN1_HUMAN=SSEEIESAFR=SSEEIESAFR</th>\n",
       "      <th>sp|Q14204|DYHC1_HUMAN=FLSDPQVHTVLVER=FLSDPQVHTVLVER</th>\n",
       "      <th>sp|Q14204|DYHC1_HUMAN=ILDDDTIITTLENLKR=ILDDDTIITTLENLKR</th>\n",
       "      <th>sp|Q14204|DYHC1_HUMAN=VTFVNFTVTR=VTFVNFTVTR</th>\n",
       "    </tr>\n",
       "  </thead>\n",
       "  <tbody>\n",
       "    <tr>\n",
       "      <th>0</th>\n",
       "      <td>180329_e0022_p01_2051_1_s_m06_1</td>\n",
       "      <td>15.235416</td>\n",
       "      <td>NaN</td>\n",
       "      <td>14.343949</td>\n",
       "      <td>13.945810</td>\n",
       "      <td>12.141469</td>\n",
       "      <td>14.437037</td>\n",
       "      <td>NaN</td>\n",
       "      <td>NaN</td>\n",
       "      <td>15.680744</td>\n",
       "      <td>...</td>\n",
       "      <td>14.654972</td>\n",
       "      <td>15.632228</td>\n",
       "      <td>16.022693</td>\n",
       "      <td>15.676040</td>\n",
       "      <td>15.757781</td>\n",
       "      <td>16.014740</td>\n",
       "      <td>15.537855</td>\n",
       "      <td>13.228819</td>\n",
       "      <td>13.423772</td>\n",
       "      <td>14.089947</td>\n",
       "    </tr>\n",
       "    <tr>\n",
       "      <th>1</th>\n",
       "      <td>180329_e0022_p01_2051_2_s_m06_1</td>\n",
       "      <td>15.311500</td>\n",
       "      <td>NaN</td>\n",
       "      <td>14.429799</td>\n",
       "      <td>14.111951</td>\n",
       "      <td>12.183015</td>\n",
       "      <td>13.350663</td>\n",
       "      <td>10.764872</td>\n",
       "      <td>NaN</td>\n",
       "      <td>15.690053</td>\n",
       "      <td>...</td>\n",
       "      <td>14.722487</td>\n",
       "      <td>15.552819</td>\n",
       "      <td>15.943179</td>\n",
       "      <td>15.613243</td>\n",
       "      <td>15.659550</td>\n",
       "      <td>15.922584</td>\n",
       "      <td>15.511753</td>\n",
       "      <td>13.431889</td>\n",
       "      <td>13.485075</td>\n",
       "      <td>13.918118</td>\n",
       "    </tr>\n",
       "    <tr>\n",
       "      <th>2</th>\n",
       "      <td>180329_e0022_p01_2051_3_s_m06_1</td>\n",
       "      <td>15.143742</td>\n",
       "      <td>NaN</td>\n",
       "      <td>14.557524</td>\n",
       "      <td>14.263122</td>\n",
       "      <td>11.669771</td>\n",
       "      <td>14.712634</td>\n",
       "      <td>NaN</td>\n",
       "      <td>NaN</td>\n",
       "      <td>15.960726</td>\n",
       "      <td>...</td>\n",
       "      <td>14.075897</td>\n",
       "      <td>16.031077</td>\n",
       "      <td>15.774272</td>\n",
       "      <td>15.493230</td>\n",
       "      <td>15.583347</td>\n",
       "      <td>15.756687</td>\n",
       "      <td>15.526469</td>\n",
       "      <td>13.430453</td>\n",
       "      <td>13.606521</td>\n",
       "      <td>14.111217</td>\n",
       "    </tr>\n",
       "    <tr>\n",
       "      <th>3</th>\n",
       "      <td>180329_e0022_p01_2098_1_s_m06_1</td>\n",
       "      <td>15.030667</td>\n",
       "      <td>11.968667</td>\n",
       "      <td>14.040290</td>\n",
       "      <td>13.162391</td>\n",
       "      <td>12.110483</td>\n",
       "      <td>14.772830</td>\n",
       "      <td>NaN</td>\n",
       "      <td>8.924813</td>\n",
       "      <td>15.674137</td>\n",
       "      <td>...</td>\n",
       "      <td>14.195065</td>\n",
       "      <td>15.475100</td>\n",
       "      <td>15.362526</td>\n",
       "      <td>15.220832</td>\n",
       "      <td>15.199749</td>\n",
       "      <td>15.560393</td>\n",
       "      <td>15.019374</td>\n",
       "      <td>14.852139</td>\n",
       "      <td>14.529309</td>\n",
       "      <td>14.849943</td>\n",
       "    </tr>\n",
       "    <tr>\n",
       "      <th>4</th>\n",
       "      <td>180329_e0022_p01_2098_2_s_m06_1</td>\n",
       "      <td>14.790043</td>\n",
       "      <td>NaN</td>\n",
       "      <td>13.549424</td>\n",
       "      <td>11.716819</td>\n",
       "      <td>11.544964</td>\n",
       "      <td>14.122585</td>\n",
       "      <td>11.032046</td>\n",
       "      <td>NaN</td>\n",
       "      <td>15.239636</td>\n",
       "      <td>...</td>\n",
       "      <td>14.022975</td>\n",
       "      <td>14.938707</td>\n",
       "      <td>15.277760</td>\n",
       "      <td>14.877476</td>\n",
       "      <td>15.069869</td>\n",
       "      <td>15.388186</td>\n",
       "      <td>14.603858</td>\n",
       "      <td>14.608197</td>\n",
       "      <td>14.147920</td>\n",
       "      <td>14.411842</td>\n",
       "    </tr>\n",
       "  </tbody>\n",
       "</table>\n",
       "<p>5 rows × 36857 columns</p>\n",
       "</div>"
      ],
      "text/plain": [
       "             Automatic_MS_filename  1433B_HUMAN=AVTEQGHELSNEER=AVTEQGHELSNEER  \\\n",
       "0  180329_e0022_p01_2051_1_s_m06_1                                  15.235416   \n",
       "1  180329_e0022_p01_2051_2_s_m06_1                                  15.311500   \n",
       "2  180329_e0022_p01_2051_3_s_m06_1                                  15.143742   \n",
       "3  180329_e0022_p01_2098_1_s_m06_1                                  15.030667   \n",
       "4  180329_e0022_p01_2098_2_s_m06_1                                  14.790043   \n",
       "\n",
       "   1433B_HUMAN=EKIEAELQDICNDVLELLDK=EKIEAELQDIC(UniMod:4)NDVLELLDK  \\\n",
       "0                                                NaN                 \n",
       "1                                                NaN                 \n",
       "2                                                NaN                 \n",
       "3                                          11.968667                 \n",
       "4                                                NaN                 \n",
       "\n",
       "   1433B_HUMAN=IEAELQDICNDVLELLDK=IEAELQDIC(UniMod:4)NDVLELLDK  \\\n",
       "0                                          14.343949             \n",
       "1                                          14.429799             \n",
       "2                                          14.557524             \n",
       "3                                          14.040290             \n",
       "4                                          13.549424             \n",
       "\n",
       "   1433B_HUMAN=QTTVSNSQQAYQEAFEISK=QTTVSNSQQAYQEAFEISK  \\\n",
       "0                                          13.945810     \n",
       "1                                          14.111951     \n",
       "2                                          14.263122     \n",
       "3                                          13.162391     \n",
       "4                                          11.716819     \n",
       "\n",
       "   1433B_HUMAN=QTTVSNSQQAYQEAFEISKK=QTTVSNSQQAYQEAFEISKK  \\\n",
       "0                                          12.141469       \n",
       "1                                          12.183015       \n",
       "2                                          11.669771       \n",
       "3                                          12.110483       \n",
       "4                                          11.544964       \n",
       "\n",
       "   1433B_HUMAN=TAFDEAIAELDTLNEESYK=TAFDEAIAELDTLNEESYK  \\\n",
       "0                                          14.437037     \n",
       "1                                          13.350663     \n",
       "2                                          14.712634     \n",
       "3                                          14.772830     \n",
       "4                                          14.122585     \n",
       "\n",
       "   1433B_HUMAN=VISSIEQKTER=VISSIEQKTER  \\\n",
       "0                                  NaN   \n",
       "1                            10.764872   \n",
       "2                                  NaN   \n",
       "3                                  NaN   \n",
       "4                            11.032046   \n",
       "\n",
       "   1433B_HUMAN=VISSIEQKTERNEK=VISSIEQKTERNEK  \\\n",
       "0                                        NaN   \n",
       "1                                        NaN   \n",
       "2                                        NaN   \n",
       "3                                   8.924813   \n",
       "4                                        NaN   \n",
       "\n",
       "   1433B_HUMAN=YLIPNATQPESK=YLIPNATQPESK  ...  \\\n",
       "0                              15.680744  ...   \n",
       "1                              15.690053  ...   \n",
       "2                              15.960726  ...   \n",
       "3                              15.674137  ...   \n",
       "4                              15.239636  ...   \n",
       "\n",
       "   sp|Q13813|SPTN1_HUMAN=DLAALEDKVK=DLAALEDKVK  \\\n",
       "0                                    14.654972   \n",
       "1                                    14.722487   \n",
       "2                                    14.075897   \n",
       "3                                    14.195065   \n",
       "4                                    14.022975   \n",
       "\n",
       "   sp|Q13813|SPTN1_HUMAN=DLASVQALLR=DLASVQALLR  \\\n",
       "0                                    15.632228   \n",
       "1                                    15.552819   \n",
       "2                                    16.031077   \n",
       "3                                    15.475100   \n",
       "4                                    14.938707   \n",
       "\n",
       "   sp|Q13813|SPTN1_HUMAN=ELPTAFDYVEFTR=ELPTAFDYVEFTR  \\\n",
       "0                                          16.022693   \n",
       "1                                          15.943179   \n",
       "2                                          15.774272   \n",
       "3                                          15.362526   \n",
       "4                                          15.277760   \n",
       "\n",
       "   sp|Q13813|SPTN1_HUMAN=LGESQTLQQFSR=LGESQTLQQFSR  \\\n",
       "0                                        15.676040   \n",
       "1                                        15.613243   \n",
       "2                                        15.493230   \n",
       "3                                        15.220832   \n",
       "4                                        14.877476   \n",
       "\n",
       "   sp|Q13813|SPTN1_HUMAN=REELITNWEQIR=REELITNWEQIR  \\\n",
       "0                                        15.757781   \n",
       "1                                        15.659550   \n",
       "2                                        15.583347   \n",
       "3                                        15.199749   \n",
       "4                                        15.069869   \n",
       "\n",
       "   sp|Q13813|SPTN1_HUMAN=SLQQLAEER=SLQQLAEER  \\\n",
       "0                                  16.014740   \n",
       "1                                  15.922584   \n",
       "2                                  15.756687   \n",
       "3                                  15.560393   \n",
       "4                                  15.388186   \n",
       "\n",
       "   sp|Q13813|SPTN1_HUMAN=SSEEIESAFR=SSEEIESAFR  \\\n",
       "0                                    15.537855   \n",
       "1                                    15.511753   \n",
       "2                                    15.526469   \n",
       "3                                    15.019374   \n",
       "4                                    14.603858   \n",
       "\n",
       "   sp|Q14204|DYHC1_HUMAN=FLSDPQVHTVLVER=FLSDPQVHTVLVER  \\\n",
       "0                                          13.228819     \n",
       "1                                          13.431889     \n",
       "2                                          13.430453     \n",
       "3                                          14.852139     \n",
       "4                                          14.608197     \n",
       "\n",
       "   sp|Q14204|DYHC1_HUMAN=ILDDDTIITTLENLKR=ILDDDTIITTLENLKR  \\\n",
       "0                                          13.423772         \n",
       "1                                          13.485075         \n",
       "2                                          13.606521         \n",
       "3                                          14.529309         \n",
       "4                                          14.147920         \n",
       "\n",
       "   sp|Q14204|DYHC1_HUMAN=VTFVNFTVTR=VTFVNFTVTR  \n",
       "0                                    14.089947  \n",
       "1                                    13.918118  \n",
       "2                                    14.111217  \n",
       "3                                    14.849943  \n",
       "4                                    14.411842  \n",
       "\n",
       "[5 rows x 36857 columns]"
      ]
     },
     "execution_count": 33,
     "metadata": {},
     "output_type": "execute_result"
    }
   ],
   "source": [
    "df.head()"
   ]
  },
  {
   "cell_type": "code",
   "execution_count": 34,
   "metadata": {
    "ExecuteTime": {
     "end_time": "2020-03-13T09:35:27.209531Z",
     "start_time": "2020-03-13T09:35:20.665822Z"
    },
    "hidden": true
   },
   "outputs": [
    {
     "data": {
      "text/plain": [
       "Automatic_MS_filename                                                           0\n",
       "1433B_HUMAN=AVTEQGHELSNEER=AVTEQGHELSNEER                                    1038\n",
       "1433B_HUMAN=EKIEAELQDICNDVLELLDK=EKIEAELQDIC(UniMod:4)NDVLELLDK              6808\n",
       "1433B_HUMAN=IEAELQDICNDVLELLDK=IEAELQDIC(UniMod:4)NDVLELLDK                  4147\n",
       "1433B_HUMAN=QTTVSNSQQAYQEAFEISK=QTTVSNSQQAYQEAFEISK                          2251\n",
       "1433B_HUMAN=QTTVSNSQQAYQEAFEISKK=QTTVSNSQQAYQEAFEISKK                        5009\n",
       "1433B_HUMAN=TAFDEAIAELDTLNEESYK=TAFDEAIAELDTLNEESYK                          3914\n",
       "1433B_HUMAN=VISSIEQKTER=VISSIEQKTER                                          4678\n",
       "1433B_HUMAN=VISSIEQKTERNEK=VISSIEQKTERNEK                                    5394\n",
       "1433B_HUMAN=YLIPNATQPESK=YLIPNATQPESK                                         590\n",
       "1433B_HUMAN=YLSEVASGDNK=YLSEVASGDNK                                           183\n",
       "1433B_HUMAN=YLSEVASGDNKQTTVSNSQQAYQEAFEISK=YLSEVASGDNKQTTVSNSQQAYQEAFEISK    3540\n",
       "1433E_HUMAN=AAFDDAIAELDTLSEESYK=AAFDDAIAELDTLSEESYK                          1625\n",
       "1433E_HUMAN=AASDIAMTELPPTHPIR=AASDIAMTELPPTHPIR                              1154\n",
       "1433E_HUMAN=EAAENSLVAYK=EAAENSLVAYK                                            11\n",
       "1433E_HUMAN=EALQDVEDENQ=EALQDVEDENQ                                          3349\n",
       "1433E_HUMAN=EDLVYQAK=EDLVYQAK                                                2278\n",
       "1433E_HUMAN=HLIPAANTGESK=HLIPAANTGESK                                         352\n",
       "1433E_HUMAN=IISSIEQK=IISSIEQK                                                 581\n",
       "1433E_HUMAN=IISSIEQKEENK=IISSIEQKEENK                                        6890\n",
       "1433E_HUMAN=IISSIEQKEENKGGEDK=IISSIEQKEENKGGEDK                              4667\n",
       "1433E_HUMAN=KVAGMDVELTVEER=KVAGMDVELTVEER                                    3395\n",
       "1433E_HUMAN=LAEQAERYDEMVESMK=LAEQAERYDEMVESMK                                5740\n",
       "1433E_HUMAN=LICCDILDVLDK=LIC(UniMod:4)C(UniMod:4)DILDVLDK                     707\n",
       "1433E_HUMAN=NLLSVAYKNVIGAR=NLLSVAYKNVIGAR                                    2679\n",
       "1433E_HUMAN=QMVETELK=QM(UniMod:35)VETELK                                     5856\n",
       "1433E_HUMAN=QMVETELK=QMVETELK                                                 565\n",
       "1433E_HUMAN=VAGMDVELTVEER=VAGM(UniMod:35)DVELTVEER                           6884\n",
       "1433E_HUMAN=VAGMDVELTVEER=VAGMDVELTVEER                                      4819\n",
       "1433E_HUMAN=YDEMVESMK=YDEMVESMK                                              5726\n",
       "                                                                             ... \n",
       "ZYX_HUMAN=VNPFRPGDSEPPPAPGAQR=VNPFRPGDSEPPPAPGAQR                            1770\n",
       "ZYX_HUMAN=VSSGYVPPPVATPFSSK=VSSGYVPPPVATPFSSK                                3270\n",
       "sp|P21333|FLNA_HUMAN=AFGPGLQGGSAGSPAR=AFGPGLQGGSAGSPAR                        108\n",
       "sp|P35579|MYH9_HUMAN=VSHLLGINVTDFTR=VSHLLGINVTDFTR                             79\n",
       "sp|P49327|FAS_HUMAN=GTPLISPLIK=GTPLISPLIK                                     293\n",
       "sp|P49327|FAS_HUMAN=HGLYLPTR=HGLYLPTR                                        1976\n",
       "sp|P49327|FAS_HUMAN=LHLSGIDANPNALFPPVEFPAPR=LHLSGIDANPNALFPPVEFPAPR           857\n",
       "sp|P49327|FAS_HUMAN=LQVVDQPLPVR=LQVVDQPLPVR                                   379\n",
       "sp|P49327|FAS_HUMAN=SLLVNPEGPTLMR=SLLVNPEGPTLMR                              1837\n",
       "sp|P49327|FAS_HUMAN=TLLEGSGLESIISIIHSSLAEPR=TLLEGSGLESIISIIHSSLAEPR          1399\n",
       "sp|P49327|FAS_HUMAN=VLEALLPLK=VLEALLPLK                                      1104\n",
       "sp|P49327|FAS_HUMAN=VLEALLPLKGLEER=VLEALLPLKGLEER                            1446\n",
       "sp|P78527|PRKDC_HUMAN=ATQQQHDFTLTQTADGR=ATQQQHDFTLTQTADGR                     278\n",
       "sp|P78527|PRKDC_HUMAN=HGDLPDIQIK=HGDLPDIQIK                                   994\n",
       "sp|P78527|PRKDC_HUMAN=LLEEALLR=LLEEALLR                                       154\n",
       "sp|P78527|PRKDC_HUMAN=NELEIPGQYDGR=NELEIPGQYDGR                               968\n",
       "sp|P78527|PRKDC_HUMAN=NLSSNEAISLEEIR=NLSSNEAISLEEIR                          1108\n",
       "sp|P78527|PRKDC_HUMAN=QITQSALLAEAR=QITQSALLAEAR                               109\n",
       "sp|Q00610|CLH1_HUMAN=LASTLVHLGEYQAAVDGAR=LASTLVHLGEYQAAVDGAR                   63\n",
       "sp|Q00610|CLH1_HUMAN=NNLAGAEELFAR=NNLAGAEELFAR                                 22\n",
       "sp|Q13813|SPTN1_HUMAN=DLAALEDKVK=DLAALEDKVK                                   773\n",
       "sp|Q13813|SPTN1_HUMAN=DLASVQALLR=DLASVQALLR                                   381\n",
       "sp|Q13813|SPTN1_HUMAN=ELPTAFDYVEFTR=ELPTAFDYVEFTR                             292\n",
       "sp|Q13813|SPTN1_HUMAN=LGESQTLQQFSR=LGESQTLQQFSR                               177\n",
       "sp|Q13813|SPTN1_HUMAN=REELITNWEQIR=REELITNWEQIR                               220\n",
       "sp|Q13813|SPTN1_HUMAN=SLQQLAEER=SLQQLAEER                                     177\n",
       "sp|Q13813|SPTN1_HUMAN=SSEEIESAFR=SSEEIESAFR                                   204\n",
       "sp|Q14204|DYHC1_HUMAN=FLSDPQVHTVLVER=FLSDPQVHTVLVER                           728\n",
       "sp|Q14204|DYHC1_HUMAN=ILDDDTIITTLENLKR=ILDDDTIITTLENLKR                      1139\n",
       "sp|Q14204|DYHC1_HUMAN=VTFVNFTVTR=VTFVNFTVTR                                   620\n",
       "Length: 36857, dtype: int64"
      ]
     },
     "execution_count": 34,
     "metadata": {},
     "output_type": "execute_result"
    }
   ],
   "source": [
    "pd.isna(df).sum()"
   ]
  },
  {
   "cell_type": "markdown",
   "metadata": {},
   "source": [
    "# only tissue"
   ]
  },
  {
   "cell_type": "markdown",
   "metadata": {},
   "source": [
    "## use meta classifications"
   ]
  },
  {
   "cell_type": "code",
   "execution_count": 3,
   "metadata": {
    "ExecuteTime": {
     "end_time": "2020-03-13T12:48:22.146420Z",
     "start_time": "2020-03-13T12:48:22.075437Z"
    }
   },
   "outputs": [],
   "source": [
    "meta = pd.read_csv(\"../data/E0022_P06_final_sample_map.txt\", sep='\\t')"
   ]
  },
  {
   "cell_type": "code",
   "execution_count": 10,
   "metadata": {
    "ExecuteTime": {
     "end_time": "2020-03-13T12:51:16.434998Z",
     "start_time": "2020-03-13T12:51:16.431191Z"
    }
   },
   "outputs": [
    {
     "data": {
      "text/plain": [
       "Index(['Automatic_MS_filename', 'Batch', 'Code', 'Daisy_chain', 'Date',\n",
       "       'Instrument', 'Replicate', 'Cell_line', 'Cancer_type', 'Tissue_type',\n",
       "       'SIDM', 'growth_properties', 'MSI_status', 'methylation_data',\n",
       "       'expression_data', 'cnv_data', 'crispr_ko_data', 'fusion_data',\n",
       "       'drug_data', 'cancer_type_detail', 'sample_site', 'gender', 'ethnicity',\n",
       "       'smoking_status', 'BROAD_ID', 'COSMIC_ID', 'CCLE_ID'],\n",
       "      dtype='object')"
      ]
     },
     "execution_count": 10,
     "metadata": {},
     "output_type": "execute_result"
    }
   ],
   "source": [
    "meta.columns"
   ]
  },
  {
   "cell_type": "code",
   "execution_count": 21,
   "metadata": {
    "ExecuteTime": {
     "end_time": "2020-03-13T12:59:26.346533Z",
     "start_time": "2020-03-13T12:59:26.336657Z"
    }
   },
   "outputs": [],
   "source": [
    "cancer_type = meta[['Cell_line',\n",
    "                    'Cancer_type']].drop_duplicates().reset_index(drop=True)\n",
    "cancer_type_df = pd.concat([\n",
    "    cancer_type.drop(['Cancer_type'], axis=1),\n",
    "    pd.get_dummies(cancer_type['Cancer_type'])\n",
    "],\n",
    "                           axis=1)"
   ]
  },
  {
   "cell_type": "code",
   "execution_count": 25,
   "metadata": {
    "ExecuteTime": {
     "end_time": "2020-03-13T13:00:23.487243Z",
     "start_time": "2020-03-13T13:00:23.443305Z"
    }
   },
   "outputs": [],
   "source": [
    "cancer_type_df.to_csv(\"../data/cancer_type_cell_line.csv\", index=False)"
   ]
  },
  {
   "cell_type": "code",
   "execution_count": 26,
   "metadata": {
    "ExecuteTime": {
     "end_time": "2020-03-13T13:01:19.672001Z",
     "start_time": "2020-03-13T13:01:19.633713Z"
    }
   },
   "outputs": [],
   "source": [
    "tissue_type = meta[['Cell_line',\n",
    "                    'Tissue_type']].drop_duplicates().reset_index(drop=True)\n",
    "tissue_type_df = pd.concat([\n",
    "    tissue_type.drop(['Tissue_type'], axis=1),\n",
    "    pd.get_dummies(tissue_type['Tissue_type'])\n",
    "],\n",
    "                           axis=1)\n",
    "tissue_type_df.to_csv(\"../data/tissue_type_cell_line.csv\", index=False)"
   ]
  },
  {
   "cell_type": "markdown",
   "metadata": {},
   "source": [
    "## use IC50 classification"
   ]
  },
  {
   "cell_type": "code",
   "execution_count": 27,
   "metadata": {
    "ExecuteTime": {
     "end_time": "2020-03-14T02:14:29.664475Z",
     "start_time": "2020-03-14T02:14:28.288642Z"
    }
   },
   "outputs": [],
   "source": [
    "ic50 = pd.read_csv(\n",
    "    \"../data/drug/DrugResponse_PANCANCER_GDSC1_GDSC2_IC_20191119.csv\")\n",
    "ic50 = ic50.sort_values(by=['Dataset version'])\n",
    "ic50 = ic50.drop_duplicates(\n",
    "    ['Drug Id', 'Cell line name'], keep='last').sort_values(\n",
    "        by=['Drug Id', 'Cell line name']).reset_index(drop=True)"
   ]
  },
  {
   "cell_type": "code",
   "execution_count": 35,
   "metadata": {
    "ExecuteTime": {
     "end_time": "2020-03-14T02:16:19.698421Z",
     "start_time": "2020-03-14T02:16:19.646139Z"
    }
   },
   "outputs": [],
   "source": [
    "ic50_tissue = ic50[['Cell line name','Tissue']].drop_duplicates().reset_index(drop=True)"
   ]
  },
  {
   "cell_type": "code",
   "execution_count": 38,
   "metadata": {
    "ExecuteTime": {
     "end_time": "2020-03-14T02:18:44.520281Z",
     "start_time": "2020-03-14T02:18:44.515259Z"
    }
   },
   "outputs": [],
   "source": [
    "ic50_tissue_df = pd.concat([\n",
    "    ic50_tissue.drop(['Tissue'], axis=1),\n",
    "    pd.get_dummies(ic50_tissue['Tissue'])\n",
    "],\n",
    "                           axis=1)"
   ]
  },
  {
   "cell_type": "code",
   "execution_count": 41,
   "metadata": {
    "ExecuteTime": {
     "end_time": "2020-03-14T02:23:11.930040Z",
     "start_time": "2020-03-14T02:23:11.926794Z"
    }
   },
   "outputs": [],
   "source": [
    "ic50_tissue_df = ic50_tissue_df.rename(columns={'Cell line name': 'Cell_line'})"
   ]
  },
  {
   "cell_type": "code",
   "execution_count": 43,
   "metadata": {
    "ExecuteTime": {
     "end_time": "2020-03-14T02:23:14.729294Z",
     "start_time": "2020-03-14T02:23:14.713137Z"
    }
   },
   "outputs": [],
   "source": [
    "ic50_tissue_df.to_csv(\"../data/tissue_ic50_cell_line.csv\", index=False)"
   ]
  },
  {
   "cell_type": "markdown",
   "metadata": {},
   "source": [
    "# tissue + protein"
   ]
  },
  {
   "cell_type": "code",
   "execution_count": 11,
   "metadata": {
    "ExecuteTime": {
     "end_time": "2020-04-27T01:20:25.396231Z",
     "start_time": "2020-04-27T01:20:24.510800Z"
    }
   },
   "outputs": [],
   "source": [
    "meta = pd.read_csv(\"../data/E0022_P06_final_sample_map_no_control.txt\",\n",
    "                   sep='\\t')\n",
    "protein = pd.read_csv(\n",
    "    \"../data/protein/E0022_P06_Protein_Matrix_ProNorM_no_control.txt\",\n",
    "    sep='\\t')"
   ]
  },
  {
   "cell_type": "code",
   "execution_count": 14,
   "metadata": {
    "ExecuteTime": {
     "end_time": "2020-04-27T01:21:31.058187Z",
     "start_time": "2020-04-27T01:21:31.049012Z"
    }
   },
   "outputs": [],
   "source": [
    "tissue_type = meta[['Cell_line',\n",
    "                    'Tissue_type']].drop_duplicates().reset_index(drop=True)\n",
    "tissue_type_df = pd.concat([\n",
    "    tissue_type.drop(['Tissue_type'], axis=1),\n",
    "    pd.get_dummies(tissue_type['Tissue_type'])\n",
    "],\n",
    "                           axis=1)"
   ]
  },
  {
   "cell_type": "code",
   "execution_count": 16,
   "metadata": {
    "ExecuteTime": {
     "end_time": "2020-04-27T01:22:14.157376Z",
     "start_time": "2020-04-27T01:22:14.132856Z"
    }
   },
   "outputs": [],
   "source": [
    "protein_tissue = pd.merge(protein, tissue_type_df, on=['Cell_line'])"
   ]
  },
  {
   "cell_type": "code",
   "execution_count": 23,
   "metadata": {
    "ExecuteTime": {
     "end_time": "2020-04-27T01:24:39.820900Z",
     "start_time": "2020-04-27T01:24:35.213645Z"
    }
   },
   "outputs": [],
   "source": [
    "protein_tissue.to_csv(\"../data/protein_tissue/protein_tissue.tsv\", index=False, sep='\\t')"
   ]
  },
  {
   "cell_type": "markdown",
   "metadata": {},
   "source": [
    "# select drugs for feature importance"
   ]
  },
  {
   "cell_type": "code",
   "execution_count": 278,
   "metadata": {
    "ExecuteTime": {
     "end_time": "2020-06-08T12:23:18.333732Z",
     "start_time": "2020-06-08T12:23:17.315368Z"
    }
   },
   "outputs": [
    {
     "data": {
      "text/plain": [
       "0.5220219655937622"
      ]
     },
     "execution_count": 278,
     "metadata": {},
     "output_type": "execute_result"
    }
   ],
   "source": [
    "drug_meta = pd.read_csv(\"../data/drug/drug_info.csv\", low_memory=False)\n",
    "scores_multi_rna = pd.read_csv(\n",
    "    \"../work_dirs/rna/MultiDrug/scores_202006072037_res.csv\"\n",
    ")\n",
    "scores_multi_rna_test = scores_multi_rna[\n",
    "    scores_multi_rna['run'] == 'test'].reset_index(drop=True)\n",
    "scores_multi_rna_test[scores_multi_rna_test['epoch'] ==\n",
    "                               210]['corr'].median()\n",
    "\n",
    "scores_multi_protein = pd.read_csv(\n",
    "    \"../work_dirs/protein/MultiDrug/scores_202006060123_resx_ruv_zero_300.csv\"\n",
    ")\n",
    "scores_multi_protein_test = scores_multi_protein[\n",
    "    scores_multi_protein['run'] == 'test'].reset_index(drop=True)\n",
    "scores_multi_protein_test[scores_multi_protein_test['epoch'] ==\n",
    "                               70]['corr'].median()"
   ]
  },
  {
   "cell_type": "code",
   "execution_count": 279,
   "metadata": {
    "ExecuteTime": {
     "end_time": "2020-06-08T12:23:18.350954Z",
     "start_time": "2020-06-08T12:23:18.335183Z"
    }
   },
   "outputs": [],
   "source": [
    "multi_res_rna = scores_multi_rna_test[scores_multi_rna_test['epoch'] == 210][[\n",
    "    'drug_id', 'corr'\n",
    "]]\n",
    "multi_res_rna['Model'] = 'RNA+MultiDrugNN'\n",
    "\n",
    "multi_res_protein = scores_multi_protein_test[\n",
    "    scores_multi_protein_test['epoch'] == 70][['drug_id', 'corr']]\n",
    "multi_res_protein['Model'] = 'Protein+MultiDrugNN'\n",
    "\n",
    "tmp = pd.merge(multi_res_rna[['drug_id', 'corr']],\n",
    "               multi_res_protein[['drug_id', 'corr']],\n",
    "               on=['drug_id'],\n",
    "               suffixes=['_RNA', '_protein'])\n",
    "\n",
    "tmp.columns = ['drug_id', 'RNA_correlation', 'MultiDrug_correlation']\n",
    "\n",
    "tmp['delta'] = tmp['MultiDrug_correlation'] - tmp['RNA_correlation']\n",
    "\n",
    "tmp = pd.merge(drug_meta, tmp, on=['drug_id'])"
   ]
  },
  {
   "cell_type": "code",
   "execution_count": 281,
   "metadata": {
    "ExecuteTime": {
     "end_time": "2020-06-08T12:23:32.656191Z",
     "start_time": "2020-06-08T12:23:32.653866Z"
    }
   },
   "outputs": [],
   "source": [
    "combined = tmp"
   ]
  },
  {
   "cell_type": "code",
   "execution_count": 282,
   "metadata": {
    "ExecuteTime": {
     "end_time": "2020-06-08T12:23:33.382416Z",
     "start_time": "2020-06-08T12:23:33.354077Z"
    }
   },
   "outputs": [
    {
     "data": {
      "text/html": [
       "<div>\n",
       "<style scoped>\n",
       "    .dataframe tbody tr th:only-of-type {\n",
       "        vertical-align: middle;\n",
       "    }\n",
       "\n",
       "    .dataframe tbody tr th {\n",
       "        vertical-align: top;\n",
       "    }\n",
       "\n",
       "    .dataframe thead th {\n",
       "        text-align: right;\n",
       "    }\n",
       "</style>\n",
       "<table border=\"1\" class=\"dataframe\">\n",
       "  <thead>\n",
       "    <tr style=\"text-align: right;\">\n",
       "      <th></th>\n",
       "      <th>drug_id</th>\n",
       "      <th>cell_line_name</th>\n",
       "      <th>model_synonyms</th>\n",
       "      <th>cancer_type_detail</th>\n",
       "      <th>drug_name</th>\n",
       "      <th>putative_gene_target</th>\n",
       "      <th>use_in_publications</th>\n",
       "      <th>model_type</th>\n",
       "      <th>drug_synonyms</th>\n",
       "      <th>RRID</th>\n",
       "      <th>dataset</th>\n",
       "      <th>drug_owner</th>\n",
       "      <th>BROAD_ID</th>\n",
       "      <th>target_pathway</th>\n",
       "      <th>sample_site</th>\n",
       "      <th>growth_properties</th>\n",
       "      <th>webrelease</th>\n",
       "      <th>COSMIC_ID</th>\n",
       "      <th>PUBCHEM</th>\n",
       "      <th>FDA_Approved</th>\n",
       "      <th>sensitive_count</th>\n",
       "      <th>RNA_correlation</th>\n",
       "      <th>MultiDrug_correlation</th>\n",
       "      <th>delta</th>\n",
       "    </tr>\n",
       "  </thead>\n",
       "  <tbody>\n",
       "    <tr>\n",
       "      <th>435</th>\n",
       "      <td>1867</td>\n",
       "      <td>201T</td>\n",
       "      <td>NaN</td>\n",
       "      <td>Lung Adenocarcinoma</td>\n",
       "      <td>Panobinostat</td>\n",
       "      <td>HDAC1</td>\n",
       "      <td>Y</td>\n",
       "      <td>Cell Line</td>\n",
       "      <td>LBH589, Faridak, Farydak, LBH-589, PANOBINOSTA...</td>\n",
       "      <td>CVCL_X481</td>\n",
       "      <td>GDSC2</td>\n",
       "      <td>GDSC</td>\n",
       "      <td>ACH-002089</td>\n",
       "      <td>Chromatin histone acetylation</td>\n",
       "      <td>Unknown</td>\n",
       "      <td>Unknown</td>\n",
       "      <td>N</td>\n",
       "      <td>1287381</td>\n",
       "      <td>6918837, 23725423</td>\n",
       "      <td>Yes</td>\n",
       "      <td>493</td>\n",
       "      <td>0.716533</td>\n",
       "      <td>0.749614</td>\n",
       "      <td>0.033081</td>\n",
       "    </tr>\n",
       "    <tr>\n",
       "      <th>506</th>\n",
       "      <td>2018</td>\n",
       "      <td>22RV1</td>\n",
       "      <td>CWR22-Rv1;CWR22-R1</td>\n",
       "      <td>Prostate Carcinoma</td>\n",
       "      <td>PDGFR_5313</td>\n",
       "      <td>PDGFRA;PDGFRB</td>\n",
       "      <td>Y</td>\n",
       "      <td>Cell Line</td>\n",
       "      <td>SN1062263187, PDGFR_5313</td>\n",
       "      <td>CVCL_1045</td>\n",
       "      <td>GDSC2</td>\n",
       "      <td>AZ</td>\n",
       "      <td>ACH-000956</td>\n",
       "      <td>RTK signaling</td>\n",
       "      <td>Prostate</td>\n",
       "      <td>Adherent</td>\n",
       "      <td>N</td>\n",
       "      <td>924100</td>\n",
       "      <td>NaN</td>\n",
       "      <td>NotConfirmed</td>\n",
       "      <td>60</td>\n",
       "      <td>0.710503</td>\n",
       "      <td>0.747230</td>\n",
       "      <td>0.036728</td>\n",
       "    </tr>\n",
       "    <tr>\n",
       "      <th>438</th>\n",
       "      <td>1909</td>\n",
       "      <td>201T</td>\n",
       "      <td>NaN</td>\n",
       "      <td>Lung Adenocarcinoma</td>\n",
       "      <td>Venetoclax</td>\n",
       "      <td>BCL2</td>\n",
       "      <td>Y</td>\n",
       "      <td>Cell Line</td>\n",
       "      <td>ABT-199, Veneclexta, GDC-0199</td>\n",
       "      <td>CVCL_X481</td>\n",
       "      <td>GDSC2</td>\n",
       "      <td>GDSC</td>\n",
       "      <td>ACH-002089</td>\n",
       "      <td>Apoptosis regulation</td>\n",
       "      <td>Unknown</td>\n",
       "      <td>Unknown</td>\n",
       "      <td>Y</td>\n",
       "      <td>1287381</td>\n",
       "      <td>49846579</td>\n",
       "      <td>Yes</td>\n",
       "      <td>345</td>\n",
       "      <td>0.709570</td>\n",
       "      <td>0.739317</td>\n",
       "      <td>0.029747</td>\n",
       "    </tr>\n",
       "    <tr>\n",
       "      <th>468</th>\n",
       "      <td>1946</td>\n",
       "      <td>22RV1</td>\n",
       "      <td>CWR22-Rv1;CWR22-R1</td>\n",
       "      <td>Prostate Carcinoma</td>\n",
       "      <td>MIK-665 / S-64315</td>\n",
       "      <td>MCL1</td>\n",
       "      <td>Y</td>\n",
       "      <td>Cell Line</td>\n",
       "      <td>SN1055540934, MCL1_Servier</td>\n",
       "      <td>CVCL_1045</td>\n",
       "      <td>GDSC2</td>\n",
       "      <td>AZ</td>\n",
       "      <td>ACH-000956</td>\n",
       "      <td>Apoptosis regulation</td>\n",
       "      <td>Prostate</td>\n",
       "      <td>Adherent</td>\n",
       "      <td>N</td>\n",
       "      <td>924100</td>\n",
       "      <td>NaN</td>\n",
       "      <td>NotConfirmed</td>\n",
       "      <td>396</td>\n",
       "      <td>0.737909</td>\n",
       "      <td>0.732891</td>\n",
       "      <td>-0.005018</td>\n",
       "    </tr>\n",
       "    <tr>\n",
       "      <th>640</th>\n",
       "      <td>2359</td>\n",
       "      <td>22RV1</td>\n",
       "      <td>CWR22-Rv1;CWR22-R1</td>\n",
       "      <td>Prostate Carcinoma</td>\n",
       "      <td>GSK2830371</td>\n",
       "      <td>PPM1D</td>\n",
       "      <td>Y</td>\n",
       "      <td>Cell Line</td>\n",
       "      <td>None</td>\n",
       "      <td>CVCL_1045</td>\n",
       "      <td>GDSC2</td>\n",
       "      <td>baylor.college.of.medicine.peggy.goodell</td>\n",
       "      <td>ACH-000956</td>\n",
       "      <td>Other</td>\n",
       "      <td>Prostate</td>\n",
       "      <td>Adherent</td>\n",
       "      <td>N</td>\n",
       "      <td>924100</td>\n",
       "      <td>70983932</td>\n",
       "      <td>NotConfirmed</td>\n",
       "      <td>1</td>\n",
       "      <td>0.767385</td>\n",
       "      <td>0.726658</td>\n",
       "      <td>-0.040726</td>\n",
       "    </tr>\n",
       "    <tr>\n",
       "      <th>...</th>\n",
       "      <td>...</td>\n",
       "      <td>...</td>\n",
       "      <td>...</td>\n",
       "      <td>...</td>\n",
       "      <td>...</td>\n",
       "      <td>...</td>\n",
       "      <td>...</td>\n",
       "      <td>...</td>\n",
       "      <td>...</td>\n",
       "      <td>...</td>\n",
       "      <td>...</td>\n",
       "      <td>...</td>\n",
       "      <td>...</td>\n",
       "      <td>...</td>\n",
       "      <td>...</td>\n",
       "      <td>...</td>\n",
       "      <td>...</td>\n",
       "      <td>...</td>\n",
       "      <td>...</td>\n",
       "      <td>...</td>\n",
       "      <td>...</td>\n",
       "      <td>...</td>\n",
       "      <td>...</td>\n",
       "      <td>...</td>\n",
       "    </tr>\n",
       "    <tr>\n",
       "      <th>112</th>\n",
       "      <td>255</td>\n",
       "      <td>201T</td>\n",
       "      <td>NaN</td>\n",
       "      <td>Lung Adenocarcinoma</td>\n",
       "      <td>CP724714</td>\n",
       "      <td>ERBB2</td>\n",
       "      <td>Y</td>\n",
       "      <td>Cell Line</td>\n",
       "      <td>CP-724714</td>\n",
       "      <td>CVCL_X481</td>\n",
       "      <td>GDSC1</td>\n",
       "      <td>Nathanael.Gray</td>\n",
       "      <td>ACH-002089</td>\n",
       "      <td>RTK signaling</td>\n",
       "      <td>Unknown</td>\n",
       "      <td>Unknown</td>\n",
       "      <td>Y</td>\n",
       "      <td>1287381</td>\n",
       "      <td>9874913</td>\n",
       "      <td>NotConfirmed</td>\n",
       "      <td>31</td>\n",
       "      <td>0.286468</td>\n",
       "      <td>0.214224</td>\n",
       "      <td>-0.072243</td>\n",
       "    </tr>\n",
       "    <tr>\n",
       "      <th>3</th>\n",
       "      <td>6</td>\n",
       "      <td>697</td>\n",
       "      <td>Line 697;EU-3</td>\n",
       "      <td>B Acute Lymphoblastic Leukemia</td>\n",
       "      <td>PHA-665752</td>\n",
       "      <td>MET</td>\n",
       "      <td>Y</td>\n",
       "      <td>Cell Line</td>\n",
       "      <td>PHA665752, PHA 665752</td>\n",
       "      <td>CVCL_0079</td>\n",
       "      <td>GDSC1</td>\n",
       "      <td>MGH</td>\n",
       "      <td>ACH-000070</td>\n",
       "      <td>RTK signaling</td>\n",
       "      <td>Bone marrow</td>\n",
       "      <td>Suspension</td>\n",
       "      <td>Y</td>\n",
       "      <td>906800</td>\n",
       "      <td>10461815</td>\n",
       "      <td>NotConfirmed</td>\n",
       "      <td>10</td>\n",
       "      <td>0.256390</td>\n",
       "      <td>0.203628</td>\n",
       "      <td>-0.052762</td>\n",
       "    </tr>\n",
       "    <tr>\n",
       "      <th>71</th>\n",
       "      <td>180</td>\n",
       "      <td>201T</td>\n",
       "      <td>NaN</td>\n",
       "      <td>Lung Adenocarcinoma</td>\n",
       "      <td>Thapsigargin</td>\n",
       "      <td>ATP2A2</td>\n",
       "      <td>Y</td>\n",
       "      <td>Cell Line</td>\n",
       "      <td>Octanoic acid</td>\n",
       "      <td>CVCL_X481</td>\n",
       "      <td>GDSC1</td>\n",
       "      <td>MGH</td>\n",
       "      <td>ACH-002089</td>\n",
       "      <td>Other</td>\n",
       "      <td>Unknown</td>\n",
       "      <td>Unknown</td>\n",
       "      <td>Y</td>\n",
       "      <td>1287381</td>\n",
       "      <td>446378</td>\n",
       "      <td>NotConfirmed</td>\n",
       "      <td>774</td>\n",
       "      <td>0.322042</td>\n",
       "      <td>0.188744</td>\n",
       "      <td>-0.133299</td>\n",
       "    </tr>\n",
       "    <tr>\n",
       "      <th>90</th>\n",
       "      <td>207</td>\n",
       "      <td>201T</td>\n",
       "      <td>NaN</td>\n",
       "      <td>Lung Adenocarcinoma</td>\n",
       "      <td>AS601245</td>\n",
       "      <td>MAPK8;MAPK9</td>\n",
       "      <td>Y</td>\n",
       "      <td>Cell Line</td>\n",
       "      <td>NaN</td>\n",
       "      <td>CVCL_X481</td>\n",
       "      <td>GDSC1</td>\n",
       "      <td>MGH</td>\n",
       "      <td>ACH-002089</td>\n",
       "      <td>JNK and p38 signaling</td>\n",
       "      <td>Unknown</td>\n",
       "      <td>Unknown</td>\n",
       "      <td>Y</td>\n",
       "      <td>1287381</td>\n",
       "      <td>10109823</td>\n",
       "      <td>NotConfirmed</td>\n",
       "      <td>451</td>\n",
       "      <td>0.339630</td>\n",
       "      <td>0.153889</td>\n",
       "      <td>-0.185741</td>\n",
       "    </tr>\n",
       "    <tr>\n",
       "      <th>57</th>\n",
       "      <td>163</td>\n",
       "      <td>201T</td>\n",
       "      <td>NaN</td>\n",
       "      <td>Lung Adenocarcinoma</td>\n",
       "      <td>JQ1</td>\n",
       "      <td>BRD2;BRD3;BRD4;BRDT</td>\n",
       "      <td>Y</td>\n",
       "      <td>Cell Line</td>\n",
       "      <td>JQ-1, (+)-JQ-1</td>\n",
       "      <td>CVCL_X481</td>\n",
       "      <td>GDSC1</td>\n",
       "      <td>MGH</td>\n",
       "      <td>ACH-002089</td>\n",
       "      <td>Chromatin other</td>\n",
       "      <td>Unknown</td>\n",
       "      <td>Unknown</td>\n",
       "      <td>Y</td>\n",
       "      <td>1287381</td>\n",
       "      <td>46907787</td>\n",
       "      <td>NotConfirmed</td>\n",
       "      <td>618</td>\n",
       "      <td>0.163688</td>\n",
       "      <td>0.133832</td>\n",
       "      <td>-0.029856</td>\n",
       "    </tr>\n",
       "  </tbody>\n",
       "</table>\n",
       "<p>651 rows × 24 columns</p>\n",
       "</div>"
      ],
      "text/plain": [
       "     drug_id cell_line_name      model_synonyms  \\\n",
       "435     1867           201T                 NaN   \n",
       "506     2018          22RV1  CWR22-Rv1;CWR22-R1   \n",
       "438     1909           201T                 NaN   \n",
       "468     1946          22RV1  CWR22-Rv1;CWR22-R1   \n",
       "640     2359          22RV1  CWR22-Rv1;CWR22-R1   \n",
       "..       ...            ...                 ...   \n",
       "112      255           201T                 NaN   \n",
       "3          6            697       Line 697;EU-3   \n",
       "71       180           201T                 NaN   \n",
       "90       207           201T                 NaN   \n",
       "57       163           201T                 NaN   \n",
       "\n",
       "                 cancer_type_detail          drug_name putative_gene_target  \\\n",
       "435             Lung Adenocarcinoma       Panobinostat                HDAC1   \n",
       "506              Prostate Carcinoma         PDGFR_5313        PDGFRA;PDGFRB   \n",
       "438             Lung Adenocarcinoma         Venetoclax                 BCL2   \n",
       "468              Prostate Carcinoma  MIK-665 / S-64315                 MCL1   \n",
       "640              Prostate Carcinoma         GSK2830371                PPM1D   \n",
       "..                              ...                ...                  ...   \n",
       "112             Lung Adenocarcinoma           CP724714                ERBB2   \n",
       "3    B Acute Lymphoblastic Leukemia         PHA-665752                  MET   \n",
       "71              Lung Adenocarcinoma       Thapsigargin               ATP2A2   \n",
       "90              Lung Adenocarcinoma           AS601245          MAPK8;MAPK9   \n",
       "57              Lung Adenocarcinoma                JQ1  BRD2;BRD3;BRD4;BRDT   \n",
       "\n",
       "    use_in_publications model_type  \\\n",
       "435                   Y  Cell Line   \n",
       "506                   Y  Cell Line   \n",
       "438                   Y  Cell Line   \n",
       "468                   Y  Cell Line   \n",
       "640                   Y  Cell Line   \n",
       "..                  ...        ...   \n",
       "112                   Y  Cell Line   \n",
       "3                     Y  Cell Line   \n",
       "71                    Y  Cell Line   \n",
       "90                    Y  Cell Line   \n",
       "57                    Y  Cell Line   \n",
       "\n",
       "                                         drug_synonyms       RRID dataset  \\\n",
       "435  LBH589, Faridak, Farydak, LBH-589, PANOBINOSTA...  CVCL_X481   GDSC2   \n",
       "506                           SN1062263187, PDGFR_5313  CVCL_1045   GDSC2   \n",
       "438                      ABT-199, Veneclexta, GDC-0199  CVCL_X481   GDSC2   \n",
       "468                         SN1055540934, MCL1_Servier  CVCL_1045   GDSC2   \n",
       "640                                               None  CVCL_1045   GDSC2   \n",
       "..                                                 ...        ...     ...   \n",
       "112                                          CP-724714  CVCL_X481   GDSC1   \n",
       "3                                PHA665752, PHA 665752  CVCL_0079   GDSC1   \n",
       "71                                       Octanoic acid  CVCL_X481   GDSC1   \n",
       "90                                                 NaN  CVCL_X481   GDSC1   \n",
       "57                                      JQ-1, (+)-JQ-1  CVCL_X481   GDSC1   \n",
       "\n",
       "                                   drug_owner    BROAD_ID  \\\n",
       "435                                      GDSC  ACH-002089   \n",
       "506                                        AZ  ACH-000956   \n",
       "438                                      GDSC  ACH-002089   \n",
       "468                                        AZ  ACH-000956   \n",
       "640  baylor.college.of.medicine.peggy.goodell  ACH-000956   \n",
       "..                                        ...         ...   \n",
       "112                            Nathanael.Gray  ACH-002089   \n",
       "3                                         MGH  ACH-000070   \n",
       "71                                        MGH  ACH-002089   \n",
       "90                                        MGH  ACH-002089   \n",
       "57                                        MGH  ACH-002089   \n",
       "\n",
       "                    target_pathway  sample_site growth_properties webrelease  \\\n",
       "435  Chromatin histone acetylation      Unknown           Unknown          N   \n",
       "506                  RTK signaling     Prostate          Adherent          N   \n",
       "438           Apoptosis regulation      Unknown           Unknown          Y   \n",
       "468           Apoptosis regulation     Prostate          Adherent          N   \n",
       "640                          Other     Prostate          Adherent          N   \n",
       "..                             ...          ...               ...        ...   \n",
       "112                  RTK signaling      Unknown           Unknown          Y   \n",
       "3                    RTK signaling  Bone marrow        Suspension          Y   \n",
       "71                           Other      Unknown           Unknown          Y   \n",
       "90           JNK and p38 signaling      Unknown           Unknown          Y   \n",
       "57                 Chromatin other      Unknown           Unknown          Y   \n",
       "\n",
       "     COSMIC_ID            PUBCHEM  FDA_Approved  sensitive_count  \\\n",
       "435    1287381  6918837, 23725423           Yes              493   \n",
       "506     924100                NaN  NotConfirmed               60   \n",
       "438    1287381           49846579           Yes              345   \n",
       "468     924100                NaN  NotConfirmed              396   \n",
       "640     924100           70983932  NotConfirmed                1   \n",
       "..         ...                ...           ...              ...   \n",
       "112    1287381            9874913  NotConfirmed               31   \n",
       "3       906800           10461815  NotConfirmed               10   \n",
       "71     1287381             446378  NotConfirmed              774   \n",
       "90     1287381           10109823  NotConfirmed              451   \n",
       "57     1287381           46907787  NotConfirmed              618   \n",
       "\n",
       "     RNA_correlation  MultiDrug_correlation     delta  \n",
       "435         0.716533               0.749614  0.033081  \n",
       "506         0.710503               0.747230  0.036728  \n",
       "438         0.709570               0.739317  0.029747  \n",
       "468         0.737909               0.732891 -0.005018  \n",
       "640         0.767385               0.726658 -0.040726  \n",
       "..               ...                    ...       ...  \n",
       "112         0.286468               0.214224 -0.072243  \n",
       "3           0.256390               0.203628 -0.052762  \n",
       "71          0.322042               0.188744 -0.133299  \n",
       "90          0.339630               0.153889 -0.185741  \n",
       "57          0.163688               0.133832 -0.029856  \n",
       "\n",
       "[651 rows x 24 columns]"
      ]
     },
     "execution_count": 282,
     "metadata": {},
     "output_type": "execute_result"
    }
   ],
   "source": [
    "combined.sort_values(by=['MultiDrug_correlation'], ascending=False)"
   ]
  },
  {
   "cell_type": "code",
   "execution_count": 284,
   "metadata": {
    "ExecuteTime": {
     "end_time": "2020-06-08T12:23:46.301086Z",
     "start_time": "2020-06-08T12:23:46.285265Z"
    }
   },
   "outputs": [
    {
     "data": {
      "text/html": [
       "<div>\n",
       "<style scoped>\n",
       "    .dataframe tbody tr th:only-of-type {\n",
       "        vertical-align: middle;\n",
       "    }\n",
       "\n",
       "    .dataframe tbody tr th {\n",
       "        vertical-align: top;\n",
       "    }\n",
       "\n",
       "    .dataframe thead th {\n",
       "        text-align: right;\n",
       "    }\n",
       "</style>\n",
       "<table border=\"1\" class=\"dataframe\">\n",
       "  <thead>\n",
       "    <tr style=\"text-align: right;\">\n",
       "      <th></th>\n",
       "      <th>drug_id</th>\n",
       "      <th>cell_line_name</th>\n",
       "      <th>model_synonyms</th>\n",
       "      <th>cancer_type_detail</th>\n",
       "      <th>drug_name</th>\n",
       "      <th>putative_gene_target</th>\n",
       "      <th>use_in_publications</th>\n",
       "      <th>model_type</th>\n",
       "      <th>drug_synonyms</th>\n",
       "      <th>RRID</th>\n",
       "      <th>dataset</th>\n",
       "      <th>drug_owner</th>\n",
       "      <th>BROAD_ID</th>\n",
       "      <th>target_pathway</th>\n",
       "      <th>sample_site</th>\n",
       "      <th>growth_properties</th>\n",
       "      <th>webrelease</th>\n",
       "      <th>COSMIC_ID</th>\n",
       "      <th>PUBCHEM</th>\n",
       "      <th>FDA_Approved</th>\n",
       "      <th>sensitive_count</th>\n",
       "      <th>RNA_correlation</th>\n",
       "      <th>MultiDrug_correlation</th>\n",
       "      <th>delta</th>\n",
       "    </tr>\n",
       "  </thead>\n",
       "  <tbody>\n",
       "    <tr>\n",
       "      <th>295</th>\n",
       "      <td>1114</td>\n",
       "      <td>22RV1</td>\n",
       "      <td>CWR22-Rv1;CWR22-R1</td>\n",
       "      <td>Prostate Carcinoma</td>\n",
       "      <td>Cetuximab</td>\n",
       "      <td>EGFR</td>\n",
       "      <td>Y</td>\n",
       "      <td>Cell Line</td>\n",
       "      <td>Erbitux, IMC-C225, C225, IMC-225, L01XC06</td>\n",
       "      <td>CVCL_1045</td>\n",
       "      <td>GDSC1</td>\n",
       "      <td>GDSC</td>\n",
       "      <td>ACH-000956</td>\n",
       "      <td>EGFR signaling</td>\n",
       "      <td>Prostate</td>\n",
       "      <td>Adherent</td>\n",
       "      <td>Y</td>\n",
       "      <td>924100</td>\n",
       "      <td>85668777</td>\n",
       "      <td>Yes</td>\n",
       "      <td>44</td>\n",
       "      <td>0.528036</td>\n",
       "      <td>0.508472</td>\n",
       "      <td>-0.019564</td>\n",
       "    </tr>\n",
       "  </tbody>\n",
       "</table>\n",
       "</div>"
      ],
      "text/plain": [
       "     drug_id cell_line_name      model_synonyms  cancer_type_detail  \\\n",
       "295     1114          22RV1  CWR22-Rv1;CWR22-R1  Prostate Carcinoma   \n",
       "\n",
       "     drug_name putative_gene_target use_in_publications model_type  \\\n",
       "295  Cetuximab                 EGFR                   Y  Cell Line   \n",
       "\n",
       "                                 drug_synonyms       RRID dataset drug_owner  \\\n",
       "295  Erbitux, IMC-C225, C225, IMC-225, L01XC06  CVCL_1045   GDSC1       GDSC   \n",
       "\n",
       "       BROAD_ID  target_pathway sample_site growth_properties webrelease  \\\n",
       "295  ACH-000956  EGFR signaling    Prostate          Adherent          Y   \n",
       "\n",
       "     COSMIC_ID   PUBCHEM FDA_Approved  sensitive_count  RNA_correlation  \\\n",
       "295     924100  85668777          Yes               44         0.528036   \n",
       "\n",
       "     MultiDrug_correlation     delta  \n",
       "295               0.508472 -0.019564  "
      ]
     },
     "execution_count": 284,
     "metadata": {},
     "output_type": "execute_result"
    }
   ],
   "source": [
    "combined[combined['drug_id'] == 1114]"
   ]
  },
  {
   "cell_type": "code",
   "execution_count": 288,
   "metadata": {
    "ExecuteTime": {
     "end_time": "2020-06-08T12:24:27.022677Z",
     "start_time": "2020-06-08T12:24:27.016641Z"
    }
   },
   "outputs": [
    {
     "data": {
      "text/plain": [
       "(435,)"
      ]
     },
     "execution_count": 288,
     "metadata": {},
     "output_type": "execute_result"
    }
   ],
   "source": [
    "combined[(combined['MultiDrug_correlation'] > 0.4)\n",
    "         & (combined['sensitive_count'] > 20)].sort_values(\n",
    "             by=['MultiDrug_correlation'])['drug_id'].shape"
   ]
  },
  {
   "cell_type": "code",
   "execution_count": 207,
   "metadata": {
    "ExecuteTime": {
     "end_time": "2020-04-16T10:55:08.102493Z",
     "start_time": "2020-04-16T10:55:08.096431Z"
    }
   },
   "outputs": [],
   "source": [
    "drugs = sorted([1909, 1114, 1373, 1919, 1377, 119, 427, 1377, 1910])"
   ]
  },
  {
   "cell_type": "code",
   "execution_count": 206,
   "metadata": {
    "ExecuteTime": {
     "end_time": "2020-04-16T10:54:29.437877Z",
     "start_time": "2020-04-16T10:54:29.424639Z"
    }
   },
   "outputs": [
    {
     "data": {
      "text/plain": [
       "(400, 12)"
      ]
     },
     "execution_count": 206,
     "metadata": {},
     "output_type": "execute_result"
    }
   ],
   "source": [
    "combined[(combined['MultiDrug_correlation'] > 0.3)\n",
    "         & (combined['sensitive_count'] > 0.5)].sort_values(\n",
    "             by=['MultiDrug_correlation']).shape"
   ]
  },
  {
   "cell_type": "code",
   "execution_count": 202,
   "metadata": {
    "ExecuteTime": {
     "end_time": "2020-04-16T03:46:24.919400Z",
     "start_time": "2020-04-16T03:46:24.764114Z"
    }
   },
   "outputs": [
    {
     "data": {
      "text/plain": [
       "<matplotlib.axes._subplots.AxesSubplot at 0x103f50f28>"
      ]
     },
     "execution_count": 202,
     "metadata": {},
     "output_type": "execute_result"
    },
    {
     "data": {
      "image/png": "[encoded data removed]",
      "text/plain": [
       "<Figure size 432x288 with 1 Axes>"
      ]
     },
     "metadata": {
      "needs_background": "light"
     },
     "output_type": "display_data"
    }
   ],
   "source": [
    "sns.distplot(combined['sensitive_ratio'], kde=False)"
   ]
  },
  {
   "cell_type": "code",
   "execution_count": 289,
   "metadata": {
    "ExecuteTime": {
     "end_time": "2020-06-08T12:24:45.684873Z",
     "start_time": "2020-06-08T12:24:45.672740Z"
    }
   },
   "outputs": [],
   "source": [
    "combined.to_csv(\"../data/drug/final_drug_scores.tsv\", index=False, sep='\\t')"
   ]
  },
  {
   "cell_type": "markdown",
   "metadata": {},
   "source": [
    "# multi-omic"
   ]
  },
  {
   "cell_type": "code",
   "execution_count": 406,
   "metadata": {
    "ExecuteTime": {
     "end_time": "2020-06-14T08:23:53.573477Z",
     "start_time": "2020-06-14T08:23:53.537489Z"
    }
   },
   "outputs": [],
   "source": [
    "meta = pd.read_csv(\"../data/E0022_P06_final_sample_map_no_control.txt\", sep='\\t')\n",
    "SIDM_mapping = meta[['SIDM', 'Cell_line']].drop_duplicates().set_index('SIDM').to_dict()['Cell_line']"
   ]
  },
  {
   "cell_type": "code",
   "execution_count": 441,
   "metadata": {
    "ExecuteTime": {
     "end_time": "2020-06-14T08:33:49.052388Z",
     "start_time": "2020-06-14T08:33:47.422753Z"
    }
   },
   "outputs": [],
   "source": [
    "mutation = pd.read_csv(\"../data/genomic/WES_variants.csv\")\n",
    "mutation = mutation[['model_id', 'Gene']].groupby(['model_id', 'Gene']).size().reset_index(name='count')\n",
    "\n",
    "mutation_wide = pd.pivot(mutation, index='model_id', columns='Gene', values='count').fillna(0)\n",
    "\n",
    "mutation_wide.index.name = 'Cell_line'\n",
    "mutation_wide.index = mutation_wide.index.map(SIDM_mapping)\n",
    "mutation_wide = mutation_wide[~pd.isna(mutation_wide.index)]\n",
    "mutation_wide = mutation_wide.T\n",
    "mutation_wide.index.name = 'GENE_ID'\n",
    "mutation_wide[mutation_wide>1] = 1"
   ]
  },
  {
   "cell_type": "code",
   "execution_count": 415,
   "metadata": {
    "ExecuteTime": {
     "end_time": "2020-06-14T08:26:54.596208Z",
     "start_time": "2020-06-14T08:26:52.897042Z"
    }
   },
   "outputs": [],
   "source": [
    "cna_raw = pd.read_csv(\"../data/cna/copynumber_total_new_map.csv\", index_col=0).T\n",
    "cna_raw.index.name='SIDM'\n",
    "\n",
    "cna_raw = cna_raw.reset_index()\n",
    "\n",
    "cna_sample = pd.merge(cna_raw,\n",
    "                      meta[['SIDM',\n",
    "                            'Cell_line']].drop_duplicates()).drop(['SIDM'],\n",
    "                                                                  axis=1)\n",
    "\n",
    "cna_sample = cna_sample.set_index('Cell_line')\n",
    "cna_sample = cna_sample.T\n",
    "\n",
    "cna_sample.index.name = 'GENE_ID'\n",
    "\n",
    "cna_sample = cna_sample.reset_index()"
   ]
  },
  {
   "cell_type": "code",
   "execution_count": 420,
   "metadata": {
    "ExecuteTime": {
     "end_time": "2020-06-14T08:27:33.797971Z",
     "start_time": "2020-06-14T08:27:31.396579Z"
    }
   },
   "outputs": [],
   "source": [
    "rna_raw = pd.read_csv(\"../data/rna/rnaseq_voom.csv\", index_col=0).T\n",
    "\n",
    "rna_raw.index.name='SIDM'\n",
    "\n",
    "rna_raw = rna_raw.reset_index()\n",
    "\n",
    "rna_sample = pd.merge(rna_raw,\n",
    "                      meta[['SIDM',\n",
    "                            'Cell_line']].drop_duplicates()).drop(['SIDM'],\n",
    "                                                                  axis=1)\n",
    "\n",
    "rna_sample = rna_sample.set_index('Cell_line')\n",
    "rna_sample = rna_sample.T\n",
    "\n",
    "rna_sample.index.name = 'GENE_ID'\n",
    "\n",
    "# del rna_sample.columns.name\n",
    "rna_sample = rna_sample.reset_index()"
   ]
  },
  {
   "cell_type": "code",
   "execution_count": 455,
   "metadata": {
    "ExecuteTime": {
     "end_time": "2020-06-14T08:42:04.954455Z",
     "start_time": "2020-06-14T08:42:03.048876Z"
    }
   },
   "outputs": [],
   "source": [
    "methy = pd.read_csv(\"../data/methylation/methy_beta_gene_promoter.csv\", index_col=0).T\n",
    "methy.index.name='SIDM'\n",
    "methy = methy.reset_index()\n",
    "methy_sample = pd.merge(methy,\n",
    "                      meta[['SIDM',\n",
    "                            'Cell_line']].drop_duplicates()).drop(['SIDM'],\n",
    "                                                                  axis=1)\n",
    "\n",
    "methy_sample = methy_sample.set_index('Cell_line')\n",
    "methy_sample = methy_sample.T\n",
    "\n",
    "methy_sample.index.name = 'GENE_ID'\n",
    "\n",
    "# del methy_sample.columns.name\n",
    "methy_sample = methy_sample.reset_index()"
   ]
  },
  {
   "cell_type": "code",
   "execution_count": 421,
   "metadata": {
    "ExecuteTime": {
     "end_time": "2020-06-14T08:27:37.722405Z",
     "start_time": "2020-06-14T08:27:36.905713Z"
    }
   },
   "outputs": [],
   "source": [
    "name_map = pd.read_csv(\"../data/misc/HUMAN_9606_idmapping.gene_prot.dat\",\n",
    "                       sep='\\t',\n",
    "                       names=['ID', 'type', 'code'])\n",
    "name_map = name_map.drop_duplicates(['ID', 'type'])\n",
    "name_map = pd.pivot(name_map, index='ID', columns='type', values='code').dropna()\n",
    "\n",
    "name_map_dict = dict(zip(name_map['UniProtKB-ID'].values, name_map['Gene_Name'].values))"
   ]
  },
  {
   "cell_type": "code",
   "execution_count": 422,
   "metadata": {
    "ExecuteTime": {
     "end_time": "2020-06-14T08:27:38.615830Z",
     "start_time": "2020-06-14T08:27:37.724487Z"
    }
   },
   "outputs": [],
   "source": [
    "protein_sample_avg_median = pd.read_csv(\n",
    "    \"../data/protein/E0022_P06_Protein_Matrix_ProNorM_no_control_update.txt\", sep='\\t')\n",
    "protein_sample_avg_median = protein_sample_avg_median.set_index('Cell_line')\n",
    "\n",
    "protein_sample_avg_median = protein_sample_avg_median.T"
   ]
  },
  {
   "cell_type": "code",
   "execution_count": 423,
   "metadata": {
    "ExecuteTime": {
     "end_time": "2020-06-14T08:27:38.643162Z",
     "start_time": "2020-06-14T08:27:38.617621Z"
    }
   },
   "outputs": [],
   "source": [
    "protein_sample_avg_median.index.name = 'UniProtKB-ID'\n",
    "# del protein_sample_avg_median.columns.name\n",
    "protein_sample_avg_median = protein_sample_avg_median.reset_index()"
   ]
  },
  {
   "cell_type": "code",
   "execution_count": 424,
   "metadata": {
    "ExecuteTime": {
     "end_time": "2020-06-14T08:27:38.791144Z",
     "start_time": "2020-06-14T08:27:38.644959Z"
    }
   },
   "outputs": [],
   "source": [
    "protein = pd.merge(name_map, protein_sample_avg_median, on=['UniProtKB-ID']).drop(['UniProtKB-ID'], axis=1)\n",
    "protein = protein.set_index('Gene_Name')\n",
    "protein.index.name = 'GENE_ID'\n",
    "protein = protein.reset_index()\n",
    "protein = protein.drop_duplicates(['GENE_ID'])\n",
    "protein.columns.name = 'Cell_line'"
   ]
  },
  {
   "cell_type": "markdown",
   "metadata": {
    "heading_collapsed": true
   },
   "source": [
    "## all 4"
   ]
  },
  {
   "cell_type": "code",
   "execution_count": 24,
   "metadata": {
    "ExecuteTime": {
     "end_time": "2020-04-10T11:48:33.520444Z",
     "start_time": "2020-04-10T11:48:33.506098Z"
    },
    "hidden": true
   },
   "outputs": [],
   "source": [
    "common_genes = set(rna_sample['GENE_ID']).intersection(\n",
    "    set(methy_sample['GENE_ID'])).intersection(set(protein['GENE_ID'])).intersection(set(cna_sample['GENE_ID']))\n",
    "common_samples = set(rna_sample.columns).intersection(\n",
    "    set(methy_sample.columns)).intersection(set(protein.columns)).intersection(set(cna_sample.columns))\n",
    "common_samples = sorted(list(common_samples))"
   ]
  },
  {
   "cell_type": "code",
   "execution_count": 49,
   "metadata": {
    "ExecuteTime": {
     "end_time": "2020-04-07T11:59:40.209392Z",
     "start_time": "2020-04-07T11:59:40.018247Z"
    },
    "hidden": true
   },
   "outputs": [],
   "source": [
    "cna_sample = cna_sample[cna_sample['GENE_ID'].isin(common_genes)].sort_values(by=['GENE_ID'])\n",
    "rna_sample = rna_sample[rna_sample['GENE_ID'].isin(common_genes)].sort_values(by=['GENE_ID'])\n",
    "methy_sample = methy_sample[methy_sample['GENE_ID'].isin(common_genes)].sort_values(by=['GENE_ID'])\n",
    "protein = protein[protein['GENE_ID'].isin(common_genes)].sort_values(by=['GENE_ID'])\n",
    "\n",
    "cna_sample = cna_sample[common_samples]\n",
    "rna_sample = rna_sample[common_samples]\n",
    "methy_sample = methy_sample[common_samples]\n",
    "protein = protein[common_samples]\n",
    "\n",
    "cna_sample = cna_sample.set_index(['GENE_ID'])\n",
    "rna_sample = rna_sample.set_index(['GENE_ID'])\n",
    "methy_sample = methy_sample.set_index(['GENE_ID'])\n",
    "protein = protein.set_index(['GENE_ID'])"
   ]
  },
  {
   "cell_type": "code",
   "execution_count": 220,
   "metadata": {
    "ExecuteTime": {
     "end_time": "2020-03-28T00:41:14.354129Z",
     "start_time": "2020-03-28T00:41:14.244364Z"
    },
    "hidden": true
   },
   "outputs": [],
   "source": [
    "pca = PCA(n_components=3)\n",
    "pca.fit(rna_sample)\n",
    "rna_pca = pd.DataFrame(pca.components_, columns=rna_sample.columns)\n",
    "pca = PCA(n_components=3)\n",
    "pca.fit(protein)\n",
    "protein_pca = pd.DataFrame(pca.components_, columns=protein.columns)"
   ]
  },
  {
   "cell_type": "code",
   "execution_count": 50,
   "metadata": {
    "ExecuteTime": {
     "end_time": "2020-04-07T11:59:43.388308Z",
     "start_time": "2020-04-07T11:59:43.383486Z"
    },
    "hidden": true
   },
   "outputs": [
    {
     "name": "stdout",
     "output_type": "stream",
     "text": [
      "(2682, 855)\n",
      "(2682, 855)\n",
      "(2682, 855)\n",
      "(2682, 855)\n"
     ]
    }
   ],
   "source": [
    "print(cna_sample.shape)\n",
    "print(rna_sample.shape)\n",
    "print(methy_sample.shape)\n",
    "print(protein.shape)"
   ]
  },
  {
   "cell_type": "code",
   "execution_count": 222,
   "metadata": {
    "ExecuteTime": {
     "end_time": "2020-03-28T00:41:33.541119Z",
     "start_time": "2020-03-28T00:41:21.223373Z"
    },
    "hidden": true
   },
   "outputs": [],
   "source": [
    "rna_pca.to_csv(\"../data/iprofun/rna_pca.tsv\", index=False, sep='\\t')\n",
    "protein_pca.to_csv(\"../data/iprofun/protein_pca.tsv\", index=False, sep='\\t')\n",
    "\n",
    "cna_sample.to_csv(\"../data/iprofun/cna.tsv\", sep='\\t')\n",
    "rna_sample.to_csv(\"../data/iprofun/rna.tsv\", sep='\\t')\n",
    "methy_sample.to_csv(\"../data/iprofun/methy.tsv\", sep='\\t')\n",
    "protein.to_csv(\"../data/iprofun/protein.tsv\", sep='\\t')"
   ]
  },
  {
   "cell_type": "markdown",
   "metadata": {
    "heading_collapsed": true
   },
   "source": [
    "## all 4 union gene union cell lines"
   ]
  },
  {
   "cell_type": "code",
   "execution_count": 30,
   "metadata": {
    "ExecuteTime": {
     "end_time": "2020-04-10T11:52:56.475440Z",
     "start_time": "2020-04-10T11:52:56.449398Z"
    },
    "hidden": true
   },
   "outputs": [],
   "source": [
    "union_genes = sorted(set(rna_sample['GENE_ID']).union(\n",
    "    set(methy_sample['GENE_ID'])).union(set(protein['GENE_ID'])).union(set(cna_sample['GENE_ID'])))\n",
    "union_samples = sorted(set(rna_sample.columns).union(\n",
    "    set(methy_sample.columns)).union(set(protein.columns)).union(set(cna_sample.columns)))\n"
   ]
  },
  {
   "cell_type": "code",
   "execution_count": null,
   "metadata": {
    "hidden": true
   },
   "outputs": [],
   "source": []
  },
  {
   "cell_type": "markdown",
   "metadata": {
    "heading_collapsed": true
   },
   "source": [
    "## cna + rna + protein"
   ]
  },
  {
   "cell_type": "code",
   "execution_count": 122,
   "metadata": {
    "ExecuteTime": {
     "end_time": "2020-04-10T12:21:39.189585Z",
     "start_time": "2020-04-10T12:21:39.178561Z"
    },
    "hidden": true
   },
   "outputs": [],
   "source": [
    "common_genes = set(rna_sample['GENE_ID']).intersection(set(protein['GENE_ID'])).intersection(set(cna_sample['GENE_ID']))\n",
    "common_samples = set(rna_sample.columns).intersection(set(protein.columns)).intersection(set(cna_sample.columns))\n",
    "common_samples = sorted(list(common_samples))"
   ]
  },
  {
   "cell_type": "code",
   "execution_count": 123,
   "metadata": {
    "ExecuteTime": {
     "end_time": "2020-04-10T12:21:39.687024Z",
     "start_time": "2020-04-10T12:21:39.538144Z"
    },
    "hidden": true
   },
   "outputs": [],
   "source": [
    "cna_sample = cna_sample[cna_sample['GENE_ID'].isin(common_genes)].sort_values(by=['GENE_ID'])\n",
    "rna_sample = rna_sample[rna_sample['GENE_ID'].isin(common_genes)].sort_values(by=['GENE_ID'])\n",
    "protein = protein[protein['GENE_ID'].isin(common_genes)].sort_values(by=['GENE_ID'])\n",
    "\n",
    "cna_sample = cna_sample[common_samples]\n",
    "rna_sample = rna_sample[common_samples]\n",
    "protein = protein[common_samples]"
   ]
  },
  {
   "cell_type": "code",
   "execution_count": 124,
   "metadata": {
    "ExecuteTime": {
     "end_time": "2020-04-10T12:21:46.764151Z",
     "start_time": "2020-04-10T12:21:39.739813Z"
    },
    "hidden": true
   },
   "outputs": [],
   "source": [
    "cna_sample = cna_sample.set_index(['GENE_ID'])\n",
    "rna_sample = rna_sample.set_index(['GENE_ID'])\n",
    "protein = protein.set_index(['GENE_ID'])\n",
    "# cna_sample.T.to_csv(\"../data/multiomic/cna.tsv\", sep='\\t')\n",
    "# rna_sample.T.to_csv(\"../data/multiomic/rna.tsv\", sep='\\t')\n",
    "# protein.T.to_csv(\"../data/multiomic/protein.tsv\", sep='\\t')"
   ]
  },
  {
   "cell_type": "markdown",
   "metadata": {
    "ExecuteTime": {
     "end_time": "2020-04-10T12:03:18.941081Z",
     "start_time": "2020-04-10T12:03:18.939060Z"
    },
    "heading_collapsed": true,
    "hidden": true
   },
   "source": [
    "### cna+rna+protein common concat"
   ]
  },
  {
   "cell_type": "code",
   "execution_count": 199,
   "metadata": {
    "ExecuteTime": {
     "end_time": "2020-04-09T02:18:12.585001Z",
     "start_time": "2020-04-09T02:18:12.521942Z"
    },
    "hidden": true
   },
   "outputs": [],
   "source": [
    "cna_sample['GENE_ID'] = cna_sample['GENE_ID'].map(lambda x:f\"CNA_{x}\")\n",
    "rna_sample['GENE_ID'] = rna_sample['GENE_ID'].map(lambda x:f\"RNA_{x}\")\n",
    "protein['GENE_ID'] = protein['GENE_ID'].map(lambda x:f\"PROTEIN_{x}\")\n",
    "cna_sample = cna_sample.set_index(['GENE_ID'])\n",
    "rna_sample = rna_sample.set_index(['GENE_ID'])\n",
    "protein = protein.set_index(['GENE_ID'])\n",
    "combined_df = pd.concat([cna_sample, rna_sample, protein])"
   ]
  },
  {
   "cell_type": "code",
   "execution_count": 201,
   "metadata": {
    "ExecuteTime": {
     "end_time": "2020-04-09T02:18:41.644859Z",
     "start_time": "2020-04-09T02:18:32.140583Z"
    },
    "hidden": true
   },
   "outputs": [],
   "source": [
    "combined_df.T.to_csv(\"../data/multiomic/crp_common_concat.tsv\", sep='\\t')"
   ]
  },
  {
   "cell_type": "markdown",
   "metadata": {
    "heading_collapsed": true,
    "hidden": true
   },
   "source": [
    "### cna+rna+protein common + methy"
   ]
  },
  {
   "cell_type": "code",
   "execution_count": 125,
   "metadata": {
    "ExecuteTime": {
     "end_time": "2020-04-10T12:21:49.007638Z",
     "start_time": "2020-04-10T12:21:49.002079Z"
    },
    "hidden": true
   },
   "outputs": [],
   "source": [
    "methy_zero_genes = list(set(common_genes) - set(methy_sample['GENE_ID']))\n",
    "methy_zero_samples = list(set(common_samples) - set(methy_sample.columns))"
   ]
  },
  {
   "cell_type": "code",
   "execution_count": 126,
   "metadata": {
    "ExecuteTime": {
     "end_time": "2020-04-10T12:21:49.374297Z",
     "start_time": "2020-04-10T12:21:49.370707Z"
    },
    "hidden": true
   },
   "outputs": [],
   "source": [
    "tmp = pd.DataFrame({'GENE_ID':methy_zero_genes})\n",
    "\n",
    "for col in common_samples:\n",
    "    if col != 'GENE_ID':\n",
    "        tmp[col] = 0\n",
    "\n",
    "for col in methy_zero_samples:\n",
    "    methy_sample[col]=0\n",
    "\n",
    "methy_sample = methy_sample[common_samples]\n",
    "methy_sample = methy_sample[methy_sample['GENE_ID'].isin(common_genes)]\n",
    "tmp = tmp[common_samples]\n",
    "methy_filled = pd.concat([methy_sample, tmp])"
   ]
  },
  {
   "cell_type": "code",
   "execution_count": 130,
   "metadata": {
    "ExecuteTime": {
     "end_time": "2020-04-10T12:21:51.523843Z",
     "start_time": "2020-04-10T12:21:51.449123Z"
    },
    "hidden": true
   },
   "outputs": [],
   "source": [
    "methy_filled = methy_filled.set_index(['GENE_ID'])"
   ]
  },
  {
   "cell_type": "code",
   "execution_count": 134,
   "metadata": {
    "ExecuteTime": {
     "end_time": "2020-04-10T12:22:43.806206Z",
     "start_time": "2020-04-10T12:22:41.061580Z"
    },
    "hidden": true
   },
   "outputs": [],
   "source": [
    "methy_filled.T.to_csv(\"../data/multiomic/methylation.tsv\", sep='\\t')"
   ]
  },
  {
   "cell_type": "markdown",
   "metadata": {
    "heading_collapsed": true
   },
   "source": [
    "## cna+rna+protein concat"
   ]
  },
  {
   "cell_type": "code",
   "execution_count": 163,
   "metadata": {
    "ExecuteTime": {
     "end_time": "2020-04-08T10:58:26.033727Z",
     "start_time": "2020-04-08T10:58:26.030030Z"
    },
    "hidden": true
   },
   "outputs": [],
   "source": [
    "common_samples = set(rna_sample.columns).intersection(set(protein.columns)).intersection(set(cna_sample.columns))\n",
    "common_samples = sorted(list(common_samples))"
   ]
  },
  {
   "cell_type": "code",
   "execution_count": 164,
   "metadata": {
    "ExecuteTime": {
     "end_time": "2020-04-08T10:58:26.222679Z",
     "start_time": "2020-04-08T10:58:26.035849Z"
    },
    "hidden": true
   },
   "outputs": [],
   "source": [
    "cna_sample = cna_sample[common_samples]\n",
    "rna_sample = rna_sample[common_samples]\n",
    "protein = protein[common_samples]"
   ]
  },
  {
   "cell_type": "code",
   "execution_count": 165,
   "metadata": {
    "ExecuteTime": {
     "end_time": "2020-04-08T10:58:26.244973Z",
     "start_time": "2020-04-08T10:58:26.224500Z"
    },
    "hidden": true
   },
   "outputs": [],
   "source": [
    "cna_sample['GENE_ID'] = cna_sample['GENE_ID'].map(lambda x:f\"CNA_{x}\")\n",
    "rna_sample['GENE_ID'] = rna_sample['GENE_ID'].map(lambda x:f\"RNA_{x}\")\n",
    "protein['GENE_ID'] = protein['GENE_ID'].map(lambda x:f\"PROTEIN_{x}\")"
   ]
  },
  {
   "cell_type": "code",
   "execution_count": 166,
   "metadata": {
    "ExecuteTime": {
     "end_time": "2020-04-08T10:58:28.617286Z",
     "start_time": "2020-04-08T10:58:28.469863Z"
    },
    "hidden": true
   },
   "outputs": [],
   "source": [
    "cna_sample = cna_sample.set_index(['GENE_ID'])\n",
    "rna_sample = rna_sample.set_index(['GENE_ID'])\n",
    "protein = protein.set_index(['GENE_ID'])"
   ]
  },
  {
   "cell_type": "code",
   "execution_count": 168,
   "metadata": {
    "ExecuteTime": {
     "end_time": "2020-04-08T10:58:56.106281Z",
     "start_time": "2020-04-08T10:58:55.931736Z"
    },
    "hidden": true
   },
   "outputs": [],
   "source": [
    "combined_df = pd.concat([cna_sample, rna_sample, protein])"
   ]
  },
  {
   "cell_type": "code",
   "execution_count": 171,
   "metadata": {
    "ExecuteTime": {
     "end_time": "2020-04-08T11:00:28.987839Z",
     "start_time": "2020-04-08T10:59:37.531339Z"
    },
    "hidden": true
   },
   "outputs": [],
   "source": [
    "combined_df.T.to_csv(\"../data/multiomic/crp_concat.tsv\", sep='\\t')"
   ]
  },
  {
   "cell_type": "markdown",
   "metadata": {
    "heading_collapsed": true
   },
   "source": [
    "## RNA + Protein"
   ]
  },
  {
   "cell_type": "code",
   "execution_count": 185,
   "metadata": {
    "ExecuteTime": {
     "end_time": "2020-04-15T08:40:03.960352Z",
     "start_time": "2020-04-15T08:40:03.952655Z"
    },
    "hidden": true
   },
   "outputs": [],
   "source": [
    "common_genes = set(rna_sample['GENE_ID']).intersection(set(protein['GENE_ID']))\n",
    "common_samples = set(rna_sample.columns).intersection(set(protein.columns))\n",
    "common_samples = sorted(list(common_samples))"
   ]
  },
  {
   "cell_type": "code",
   "execution_count": 104,
   "metadata": {
    "ExecuteTime": {
     "end_time": "2020-04-08T01:28:22.849356Z",
     "start_time": "2020-04-08T01:28:22.719125Z"
    },
    "hidden": true
   },
   "outputs": [],
   "source": [
    "rna_sample = rna_sample[rna_sample['GENE_ID'].isin(common_genes)].sort_values(by=['GENE_ID'])\n",
    "protein = protein[protein['GENE_ID'].isin(common_genes)].sort_values(by=['GENE_ID'])\n",
    "\n",
    "rna_sample = rna_sample[common_samples]\n",
    "protein = protein[common_samples]\n",
    "\n",
    "rna_sample = rna_sample.set_index(['GENE_ID'])\n",
    "protein = protein.set_index(['GENE_ID'])"
   ]
  },
  {
   "cell_type": "code",
   "execution_count": 105,
   "metadata": {
    "ExecuteTime": {
     "end_time": "2020-04-08T01:28:23.422378Z",
     "start_time": "2020-04-08T01:28:23.419346Z"
    },
    "hidden": true
   },
   "outputs": [
    {
     "name": "stdout",
     "output_type": "stream",
     "text": [
      "(3349, 965)\n",
      "(3349, 965)\n"
     ]
    }
   ],
   "source": [
    "print(rna_sample.shape)\n",
    "print(protein.shape)"
   ]
  },
  {
   "cell_type": "code",
   "execution_count": 106,
   "metadata": {
    "ExecuteTime": {
     "end_time": "2020-04-08T01:29:05.303526Z",
     "start_time": "2020-04-08T01:29:01.746655Z"
    },
    "hidden": true
   },
   "outputs": [],
   "source": [
    "rna_sample.T.to_csv(\"../data/rna/rna_common.tsv\", sep='\\t')\n",
    "# protein.T.to_csv(\"../data/multiomic/protein.tsv\", sep='\\t')"
   ]
  },
  {
   "cell_type": "markdown",
   "metadata": {
    "hidden": true
   },
   "source": [
    "### rna_common_comp"
   ]
  },
  {
   "cell_type": "code",
   "execution_count": 145,
   "metadata": {
    "ExecuteTime": {
     "end_time": "2020-04-14T02:42:05.522001Z",
     "start_time": "2020-04-14T02:42:05.514237Z"
    },
    "hidden": true
   },
   "outputs": [],
   "source": [
    "common_genes = set(rna_sample['GENE_ID']).intersection(set(protein['GENE_ID']))\n",
    "common_samples = set(rna_sample.columns).intersection(set(protein.columns))\n",
    "common_samples = sorted(list(common_samples))"
   ]
  },
  {
   "cell_type": "code",
   "execution_count": 187,
   "metadata": {
    "ExecuteTime": {
     "end_time": "2020-04-15T08:40:40.778019Z",
     "start_time": "2020-04-15T08:40:40.568001Z"
    },
    "hidden": true
   },
   "outputs": [],
   "source": [
    "rna_sample = rna_sample[~rna_sample['GENE_ID'].isin(common_genes)].sort_values(by=['GENE_ID'])\n",
    "rna_sample = rna_sample[common_samples]\n",
    "rna_sample = rna_sample.set_index(['GENE_ID'])"
   ]
  },
  {
   "cell_type": "code",
   "execution_count": 148,
   "metadata": {
    "ExecuteTime": {
     "end_time": "2020-04-14T02:43:08.232288Z",
     "start_time": "2020-04-14T02:42:53.684524Z"
    },
    "hidden": true
   },
   "outputs": [],
   "source": [
    "rna_sample.T.to_csv(\"../data/rna/rna_common_comp.tsv\", sep='\\t')"
   ]
  },
  {
   "cell_type": "markdown",
   "metadata": {
    "heading_collapsed": true
   },
   "source": [
    "## correlation"
   ]
  },
  {
   "cell_type": "code",
   "execution_count": 17,
   "metadata": {
    "ExecuteTime": {
     "end_time": "2020-04-02T11:29:49.178742Z",
     "start_time": "2020-04-02T11:29:49.176601Z"
    },
    "hidden": true
   },
   "outputs": [],
   "source": [
    "df_list = []"
   ]
  },
  {
   "cell_type": "code",
   "execution_count": null,
   "metadata": {
    "ExecuteTime": {
     "end_time": "2020-04-02T11:41:07.067779Z",
     "start_time": "2020-04-02T11:41:05.291078Z"
    },
    "hidden": true
   },
   "outputs": [],
   "source": [
    "for gene in cna_sample.columns:\n",
    "    df_list.append({\n",
    "        'gene': gene,\n",
    "        'corr_RNA': spearmanr(cna_sample[gene], rna_sample[gene])[0],\n",
    "        'corr_protein': spearmanr(cna_sample[gene], protein[gene])[0]\n",
    "    })\n",
    "df = pd.DataFrame(df_list)"
   ]
  },
  {
   "cell_type": "code",
   "execution_count": 26,
   "metadata": {
    "ExecuteTime": {
     "end_time": "2020-04-02T11:42:33.224633Z",
     "start_time": "2020-04-02T11:42:33.028982Z"
    },
    "hidden": true
   },
   "outputs": [
    {
     "data": {
      "text/plain": [
       "<matplotlib.axes._subplots.AxesSubplot at 0x1a2a8809b0>"
      ]
     },
     "execution_count": 26,
     "metadata": {},
     "output_type": "execute_result"
    },
    {
     "data": {
      "image/png": "[encoded data removed]",
      "text/plain": [
       "<Figure size 432x288 with 1 Axes>"
      ]
     },
     "metadata": {
      "needs_background": "light"
     },
     "output_type": "display_data"
    }
   ],
   "source": [
    "sns.scatterplot(x='corr_RNA', y='corr_protein', data=df)"
   ]
  },
  {
   "cell_type": "markdown",
   "metadata": {},
   "source": [
    "## all omic individually"
   ]
  },
  {
   "cell_type": "code",
   "execution_count": 450,
   "metadata": {
    "ExecuteTime": {
     "end_time": "2020-06-14T08:41:04.592788Z",
     "start_time": "2020-06-14T08:40:50.985029Z"
    }
   },
   "outputs": [],
   "source": [
    "mutation_wide.T.to_csv(\"../data/genomic/WES_variants_processed.csv\")"
   ]
  },
  {
   "cell_type": "code",
   "execution_count": 454,
   "metadata": {
    "ExecuteTime": {
     "end_time": "2020-06-14T08:41:55.686089Z",
     "start_time": "2020-06-14T08:41:51.314945Z"
    }
   },
   "outputs": [],
   "source": [
    "cna_sample.set_index(['GENE_ID']).T.to_csv(\"../data/cna/copynumber_processed.csv\")"
   ]
  },
  {
   "cell_type": "code",
   "execution_count": 457,
   "metadata": {
    "ExecuteTime": {
     "end_time": "2020-06-14T08:42:51.908415Z",
     "start_time": "2020-06-14T08:42:39.196919Z"
    }
   },
   "outputs": [],
   "source": [
    "methy_sample.set_index(['GENE_ID']).T.to_csv(\"../data/methylation/methy_beta_gene_promoter_processed.csv\")"
   ]
  },
  {
   "cell_type": "code",
   "execution_count": 463,
   "metadata": {
    "ExecuteTime": {
     "end_time": "2020-06-14T09:02:15.468122Z",
     "start_time": "2020-06-14T09:02:05.313543Z"
    }
   },
   "outputs": [],
   "source": [
    "d = pd.read_csv(\"../data/genomic/WES_variants_processed.csv.gz\")"
   ]
  },
  {
   "cell_type": "code",
   "execution_count": 464,
   "metadata": {
    "ExecuteTime": {
     "end_time": "2020-06-14T09:02:16.214177Z",
     "start_time": "2020-06-14T09:02:16.169072Z"
    }
   },
   "outputs": [
    {
     "data": {
      "text/html": [
       "<div>\n",
       "<style scoped>\n",
       "    .dataframe tbody tr th:only-of-type {\n",
       "        vertical-align: middle;\n",
       "    }\n",
       "\n",
       "    .dataframe tbody tr th {\n",
       "        vertical-align: top;\n",
       "    }\n",
       "\n",
       "    .dataframe thead th {\n",
       "        text-align: right;\n",
       "    }\n",
       "</style>\n",
       "<table border=\"1\" class=\"dataframe\">\n",
       "  <thead>\n",
       "    <tr style=\"text-align: right;\">\n",
       "      <th></th>\n",
       "      <th>Cell_line</th>\n",
       "      <th>A1BG</th>\n",
       "      <th>A1CF</th>\n",
       "      <th>A2M</th>\n",
       "      <th>A2ML1</th>\n",
       "      <th>A4D226</th>\n",
       "      <th>A4GALT</th>\n",
       "      <th>A4GNT</th>\n",
       "      <th>AAAS</th>\n",
       "      <th>AACS</th>\n",
       "      <th>AADAC</th>\n",
       "      <th>AADACL2</th>\n",
       "      <th>AADACL3</th>\n",
       "      <th>AADACL4</th>\n",
       "      <th>AADAT</th>\n",
       "      <th>AAGAB</th>\n",
       "      <th>AAK1</th>\n",
       "      <th>AAMP</th>\n",
       "      <th>AANAT</th>\n",
       "      <th>AARS</th>\n",
       "      <th>AARS2</th>\n",
       "      <th>AARSD1</th>\n",
       "      <th>AASDH</th>\n",
       "      <th>AASDHPPT</th>\n",
       "      <th>AASS</th>\n",
       "      <th>...</th>\n",
       "      <th>ZSCAN5A</th>\n",
       "      <th>ZSCAN5B</th>\n",
       "      <th>ZSCAN5C</th>\n",
       "      <th>ZSCAN5D</th>\n",
       "      <th>ZSWIM1</th>\n",
       "      <th>ZSWIM2</th>\n",
       "      <th>ZSWIM3</th>\n",
       "      <th>ZSWIM4</th>\n",
       "      <th>ZSWIM5</th>\n",
       "      <th>ZSWIM6</th>\n",
       "      <th>ZSWIM7</th>\n",
       "      <th>ZUFSP</th>\n",
       "      <th>ZW10</th>\n",
       "      <th>ZWILCH</th>\n",
       "      <th>ZWINT</th>\n",
       "      <th>ZXDA</th>\n",
       "      <th>ZXDB</th>\n",
       "      <th>ZXDC</th>\n",
       "      <th>ZYG11A</th>\n",
       "      <th>ZYG11B</th>\n",
       "      <th>ZYX</th>\n",
       "      <th>ZZEF1</th>\n",
       "      <th>ZZZ3</th>\n",
       "      <th>hCG_17324</th>\n",
       "      <th>hsa-mir-4763</th>\n",
       "    </tr>\n",
       "  </thead>\n",
       "  <tbody>\n",
       "    <tr>\n",
       "      <th>0</th>\n",
       "      <td>K052</td>\n",
       "      <td>0.0</td>\n",
       "      <td>0.0</td>\n",
       "      <td>0.0</td>\n",
       "      <td>0.0</td>\n",
       "      <td>0.0</td>\n",
       "      <td>0.0</td>\n",
       "      <td>0.0</td>\n",
       "      <td>0.0</td>\n",
       "      <td>0.0</td>\n",
       "      <td>0.0</td>\n",
       "      <td>0.0</td>\n",
       "      <td>0.0</td>\n",
       "      <td>0.0</td>\n",
       "      <td>0.0</td>\n",
       "      <td>0.0</td>\n",
       "      <td>0.0</td>\n",
       "      <td>0.0</td>\n",
       "      <td>0.0</td>\n",
       "      <td>0.0</td>\n",
       "      <td>0.0</td>\n",
       "      <td>0.0</td>\n",
       "      <td>0.0</td>\n",
       "      <td>0.0</td>\n",
       "      <td>0.0</td>\n",
       "      <td>...</td>\n",
       "      <td>0.0</td>\n",
       "      <td>0.0</td>\n",
       "      <td>0.0</td>\n",
       "      <td>0.0</td>\n",
       "      <td>0.0</td>\n",
       "      <td>0.0</td>\n",
       "      <td>0.0</td>\n",
       "      <td>0.0</td>\n",
       "      <td>0.0</td>\n",
       "      <td>0.0</td>\n",
       "      <td>0.0</td>\n",
       "      <td>0.0</td>\n",
       "      <td>0.0</td>\n",
       "      <td>0.0</td>\n",
       "      <td>0.0</td>\n",
       "      <td>0.0</td>\n",
       "      <td>0.0</td>\n",
       "      <td>0.0</td>\n",
       "      <td>0.0</td>\n",
       "      <td>0.0</td>\n",
       "      <td>0.0</td>\n",
       "      <td>0.0</td>\n",
       "      <td>0.0</td>\n",
       "      <td>0.0</td>\n",
       "      <td>0.0</td>\n",
       "    </tr>\n",
       "    <tr>\n",
       "      <th>1</th>\n",
       "      <td>TE-12</td>\n",
       "      <td>0.0</td>\n",
       "      <td>0.0</td>\n",
       "      <td>0.0</td>\n",
       "      <td>0.0</td>\n",
       "      <td>0.0</td>\n",
       "      <td>0.0</td>\n",
       "      <td>0.0</td>\n",
       "      <td>0.0</td>\n",
       "      <td>0.0</td>\n",
       "      <td>0.0</td>\n",
       "      <td>0.0</td>\n",
       "      <td>0.0</td>\n",
       "      <td>0.0</td>\n",
       "      <td>0.0</td>\n",
       "      <td>0.0</td>\n",
       "      <td>0.0</td>\n",
       "      <td>0.0</td>\n",
       "      <td>0.0</td>\n",
       "      <td>0.0</td>\n",
       "      <td>0.0</td>\n",
       "      <td>0.0</td>\n",
       "      <td>0.0</td>\n",
       "      <td>0.0</td>\n",
       "      <td>0.0</td>\n",
       "      <td>...</td>\n",
       "      <td>0.0</td>\n",
       "      <td>0.0</td>\n",
       "      <td>0.0</td>\n",
       "      <td>0.0</td>\n",
       "      <td>0.0</td>\n",
       "      <td>0.0</td>\n",
       "      <td>0.0</td>\n",
       "      <td>0.0</td>\n",
       "      <td>0.0</td>\n",
       "      <td>0.0</td>\n",
       "      <td>0.0</td>\n",
       "      <td>0.0</td>\n",
       "      <td>0.0</td>\n",
       "      <td>0.0</td>\n",
       "      <td>0.0</td>\n",
       "      <td>0.0</td>\n",
       "      <td>0.0</td>\n",
       "      <td>0.0</td>\n",
       "      <td>0.0</td>\n",
       "      <td>0.0</td>\n",
       "      <td>0.0</td>\n",
       "      <td>0.0</td>\n",
       "      <td>0.0</td>\n",
       "      <td>0.0</td>\n",
       "      <td>0.0</td>\n",
       "    </tr>\n",
       "    <tr>\n",
       "      <th>2</th>\n",
       "      <td>TMK-1</td>\n",
       "      <td>0.0</td>\n",
       "      <td>0.0</td>\n",
       "      <td>1.0</td>\n",
       "      <td>0.0</td>\n",
       "      <td>0.0</td>\n",
       "      <td>0.0</td>\n",
       "      <td>0.0</td>\n",
       "      <td>0.0</td>\n",
       "      <td>0.0</td>\n",
       "      <td>0.0</td>\n",
       "      <td>0.0</td>\n",
       "      <td>0.0</td>\n",
       "      <td>0.0</td>\n",
       "      <td>0.0</td>\n",
       "      <td>0.0</td>\n",
       "      <td>0.0</td>\n",
       "      <td>0.0</td>\n",
       "      <td>0.0</td>\n",
       "      <td>0.0</td>\n",
       "      <td>0.0</td>\n",
       "      <td>0.0</td>\n",
       "      <td>0.0</td>\n",
       "      <td>0.0</td>\n",
       "      <td>0.0</td>\n",
       "      <td>...</td>\n",
       "      <td>0.0</td>\n",
       "      <td>0.0</td>\n",
       "      <td>0.0</td>\n",
       "      <td>0.0</td>\n",
       "      <td>0.0</td>\n",
       "      <td>0.0</td>\n",
       "      <td>0.0</td>\n",
       "      <td>0.0</td>\n",
       "      <td>0.0</td>\n",
       "      <td>0.0</td>\n",
       "      <td>0.0</td>\n",
       "      <td>0.0</td>\n",
       "      <td>0.0</td>\n",
       "      <td>0.0</td>\n",
       "      <td>0.0</td>\n",
       "      <td>0.0</td>\n",
       "      <td>0.0</td>\n",
       "      <td>0.0</td>\n",
       "      <td>0.0</td>\n",
       "      <td>0.0</td>\n",
       "      <td>0.0</td>\n",
       "      <td>0.0</td>\n",
       "      <td>0.0</td>\n",
       "      <td>0.0</td>\n",
       "      <td>1.0</td>\n",
       "    </tr>\n",
       "    <tr>\n",
       "      <th>3</th>\n",
       "      <td>STS-0421</td>\n",
       "      <td>0.0</td>\n",
       "      <td>0.0</td>\n",
       "      <td>0.0</td>\n",
       "      <td>0.0</td>\n",
       "      <td>0.0</td>\n",
       "      <td>0.0</td>\n",
       "      <td>0.0</td>\n",
       "      <td>0.0</td>\n",
       "      <td>0.0</td>\n",
       "      <td>0.0</td>\n",
       "      <td>0.0</td>\n",
       "      <td>0.0</td>\n",
       "      <td>0.0</td>\n",
       "      <td>0.0</td>\n",
       "      <td>0.0</td>\n",
       "      <td>0.0</td>\n",
       "      <td>0.0</td>\n",
       "      <td>0.0</td>\n",
       "      <td>0.0</td>\n",
       "      <td>0.0</td>\n",
       "      <td>0.0</td>\n",
       "      <td>0.0</td>\n",
       "      <td>0.0</td>\n",
       "      <td>0.0</td>\n",
       "      <td>...</td>\n",
       "      <td>0.0</td>\n",
       "      <td>0.0</td>\n",
       "      <td>0.0</td>\n",
       "      <td>0.0</td>\n",
       "      <td>0.0</td>\n",
       "      <td>0.0</td>\n",
       "      <td>0.0</td>\n",
       "      <td>0.0</td>\n",
       "      <td>0.0</td>\n",
       "      <td>0.0</td>\n",
       "      <td>0.0</td>\n",
       "      <td>0.0</td>\n",
       "      <td>0.0</td>\n",
       "      <td>0.0</td>\n",
       "      <td>0.0</td>\n",
       "      <td>0.0</td>\n",
       "      <td>0.0</td>\n",
       "      <td>0.0</td>\n",
       "      <td>0.0</td>\n",
       "      <td>0.0</td>\n",
       "      <td>0.0</td>\n",
       "      <td>0.0</td>\n",
       "      <td>0.0</td>\n",
       "      <td>0.0</td>\n",
       "      <td>0.0</td>\n",
       "    </tr>\n",
       "    <tr>\n",
       "      <th>4</th>\n",
       "      <td>PL4</td>\n",
       "      <td>0.0</td>\n",
       "      <td>0.0</td>\n",
       "      <td>0.0</td>\n",
       "      <td>0.0</td>\n",
       "      <td>0.0</td>\n",
       "      <td>0.0</td>\n",
       "      <td>0.0</td>\n",
       "      <td>0.0</td>\n",
       "      <td>0.0</td>\n",
       "      <td>0.0</td>\n",
       "      <td>0.0</td>\n",
       "      <td>0.0</td>\n",
       "      <td>0.0</td>\n",
       "      <td>0.0</td>\n",
       "      <td>0.0</td>\n",
       "      <td>0.0</td>\n",
       "      <td>0.0</td>\n",
       "      <td>0.0</td>\n",
       "      <td>0.0</td>\n",
       "      <td>0.0</td>\n",
       "      <td>0.0</td>\n",
       "      <td>0.0</td>\n",
       "      <td>0.0</td>\n",
       "      <td>0.0</td>\n",
       "      <td>...</td>\n",
       "      <td>0.0</td>\n",
       "      <td>0.0</td>\n",
       "      <td>0.0</td>\n",
       "      <td>0.0</td>\n",
       "      <td>0.0</td>\n",
       "      <td>0.0</td>\n",
       "      <td>0.0</td>\n",
       "      <td>0.0</td>\n",
       "      <td>0.0</td>\n",
       "      <td>0.0</td>\n",
       "      <td>0.0</td>\n",
       "      <td>0.0</td>\n",
       "      <td>0.0</td>\n",
       "      <td>0.0</td>\n",
       "      <td>0.0</td>\n",
       "      <td>0.0</td>\n",
       "      <td>0.0</td>\n",
       "      <td>0.0</td>\n",
       "      <td>0.0</td>\n",
       "      <td>0.0</td>\n",
       "      <td>0.0</td>\n",
       "      <td>0.0</td>\n",
       "      <td>0.0</td>\n",
       "      <td>0.0</td>\n",
       "      <td>0.0</td>\n",
       "    </tr>\n",
       "  </tbody>\n",
       "</table>\n",
       "<p>5 rows × 19100 columns</p>\n",
       "</div>"
      ],
      "text/plain": [
       "  Cell_line  A1BG  A1CF  A2M  A2ML1  A4D226  A4GALT  A4GNT  AAAS  AACS  AADAC  \\\n",
       "0      K052   0.0   0.0  0.0    0.0     0.0     0.0    0.0   0.0   0.0    0.0   \n",
       "1     TE-12   0.0   0.0  0.0    0.0     0.0     0.0    0.0   0.0   0.0    0.0   \n",
       "2     TMK-1   0.0   0.0  1.0    0.0     0.0     0.0    0.0   0.0   0.0    0.0   \n",
       "3  STS-0421   0.0   0.0  0.0    0.0     0.0     0.0    0.0   0.0   0.0    0.0   \n",
       "4       PL4   0.0   0.0  0.0    0.0     0.0     0.0    0.0   0.0   0.0    0.0   \n",
       "\n",
       "   AADACL2  AADACL3  AADACL4  AADAT  AAGAB  AAK1  AAMP  AANAT  AARS  AARS2  \\\n",
       "0      0.0      0.0      0.0    0.0    0.0   0.0   0.0    0.0   0.0    0.0   \n",
       "1      0.0      0.0      0.0    0.0    0.0   0.0   0.0    0.0   0.0    0.0   \n",
       "2      0.0      0.0      0.0    0.0    0.0   0.0   0.0    0.0   0.0    0.0   \n",
       "3      0.0      0.0      0.0    0.0    0.0   0.0   0.0    0.0   0.0    0.0   \n",
       "4      0.0      0.0      0.0    0.0    0.0   0.0   0.0    0.0   0.0    0.0   \n",
       "\n",
       "   AARSD1  AASDH  AASDHPPT  AASS  ...  ZSCAN5A  ZSCAN5B  ZSCAN5C  ZSCAN5D  \\\n",
       "0     0.0    0.0       0.0   0.0  ...      0.0      0.0      0.0      0.0   \n",
       "1     0.0    0.0       0.0   0.0  ...      0.0      0.0      0.0      0.0   \n",
       "2     0.0    0.0       0.0   0.0  ...      0.0      0.0      0.0      0.0   \n",
       "3     0.0    0.0       0.0   0.0  ...      0.0      0.0      0.0      0.0   \n",
       "4     0.0    0.0       0.0   0.0  ...      0.0      0.0      0.0      0.0   \n",
       "\n",
       "   ZSWIM1  ZSWIM2  ZSWIM3  ZSWIM4  ZSWIM5  ZSWIM6  ZSWIM7  ZUFSP  ZW10  \\\n",
       "0     0.0     0.0     0.0     0.0     0.0     0.0     0.0    0.0   0.0   \n",
       "1     0.0     0.0     0.0     0.0     0.0     0.0     0.0    0.0   0.0   \n",
       "2     0.0     0.0     0.0     0.0     0.0     0.0     0.0    0.0   0.0   \n",
       "3     0.0     0.0     0.0     0.0     0.0     0.0     0.0    0.0   0.0   \n",
       "4     0.0     0.0     0.0     0.0     0.0     0.0     0.0    0.0   0.0   \n",
       "\n",
       "   ZWILCH  ZWINT  ZXDA  ZXDB  ZXDC  ZYG11A  ZYG11B  ZYX  ZZEF1  ZZZ3  \\\n",
       "0     0.0    0.0   0.0   0.0   0.0     0.0     0.0  0.0    0.0   0.0   \n",
       "1     0.0    0.0   0.0   0.0   0.0     0.0     0.0  0.0    0.0   0.0   \n",
       "2     0.0    0.0   0.0   0.0   0.0     0.0     0.0  0.0    0.0   0.0   \n",
       "3     0.0    0.0   0.0   0.0   0.0     0.0     0.0  0.0    0.0   0.0   \n",
       "4     0.0    0.0   0.0   0.0   0.0     0.0     0.0  0.0    0.0   0.0   \n",
       "\n",
       "   hCG_17324  hsa-mir-4763  \n",
       "0        0.0           0.0  \n",
       "1        0.0           0.0  \n",
       "2        0.0           1.0  \n",
       "3        0.0           0.0  \n",
       "4        0.0           0.0  \n",
       "\n",
       "[5 rows x 19100 columns]"
      ]
     },
     "execution_count": 464,
     "metadata": {},
     "output_type": "execute_result"
    }
   ],
   "source": [
    "d.head()"
   ]
  },
  {
   "cell_type": "markdown",
   "metadata": {
    "heading_collapsed": true
   },
   "source": [
    "# combined GO"
   ]
  },
  {
   "cell_type": "code",
   "execution_count": 241,
   "metadata": {
    "ExecuteTime": {
     "end_time": "2020-03-29T02:43:18.632203Z",
     "start_time": "2020-03-29T02:43:17.246042Z"
    },
    "hidden": true
   },
   "outputs": [],
   "source": [
    "df_list = []\n",
    "for fp in glob.glob(\"../data/iprofun/goseq/*.tsv\"):\n",
    "    tissue = re.search(r\"..\\/data\\/iprofun\\/goseq\\/(.*)_(.*)\\.tsv\", fp).group(1)\n",
    "    source = re.search(r\"..\\/data\\/iprofun\\/goseq\\/(.*)_(.*)\\.tsv\", fp).group(2)\n",
    "    df = pd.read_csv(fp, sep='\\t')\n",
    "    df['tissue'] = tissue\n",
    "    df['source'] = source\n",
    "    df_list.append(df)\n",
    "df_all = pd.concat(df_list)"
   ]
  },
  {
   "cell_type": "code",
   "execution_count": 243,
   "metadata": {
    "ExecuteTime": {
     "end_time": "2020-03-29T02:44:00.340320Z",
     "start_time": "2020-03-29T02:43:57.658970Z"
    },
    "hidden": true
   },
   "outputs": [],
   "source": [
    "df_all.to_csv(\"../data/iprofun/go_seq_combinded.tsv\", sep='\\t', index=False)"
   ]
  },
  {
   "cell_type": "markdown",
   "metadata": {},
   "source": [
    "# remove control"
   ]
  },
  {
   "cell_type": "code",
   "execution_count": 41,
   "metadata": {
    "ExecuteTime": {
     "end_time": "2020-04-02T11:59:10.616342Z",
     "start_time": "2020-04-02T11:59:10.478558Z"
    }
   },
   "outputs": [],
   "source": [
    "meta = pd.read_csv(\"../data/E0022_P06_final_sample_map.txt\", sep='\\t')\n",
    "meta = meta[~meta['Cell_line'].str.startswith('Control_')]\n",
    "meta.to_csv(\"../data/protein/E0022_P06_final_sample_map_no_control.txt\", sep='\\t', index=False)"
   ]
  },
  {
   "cell_type": "code",
   "execution_count": 42,
   "metadata": {
    "ExecuteTime": {
     "end_time": "2020-04-02T11:59:16.899301Z",
     "start_time": "2020-04-02T11:59:11.412107Z"
    }
   },
   "outputs": [],
   "source": [
    "protein_raw = pd.read_csv(\"../data/protein/E0022_P06_Protein_Matrix_Raw.tsv\", sep='\\t')\n",
    "protein_raw = protein_raw[~protein_raw['Cell_line'].str.startswith('Control_')]\n",
    "protein_raw.to_csv(\"../data/protein/E0022_P06_Protein_Matrix_Raw_no_control.txt\", sep='\\t', index=False)"
   ]
  },
  {
   "cell_type": "code",
   "execution_count": 43,
   "metadata": {
    "ExecuteTime": {
     "end_time": "2020-04-02T11:59:22.661413Z",
     "start_time": "2020-04-02T11:59:17.637005Z"
    }
   },
   "outputs": [],
   "source": [
    "protein_median = pd.read_csv(\"../data/protein/E0022_P06_Protein_Matrix_Median.tsv\", sep='\\t')\n",
    "protein_median = protein_median[~protein_median['Cell_line'].str.startswith('Control_')]\n",
    "protein_median.to_csv(\"../data/protein/E0022_P06_Protein_Matrix_Median_no_control.txt\", sep='\\t', index=False)"
   ]
  },
  {
   "cell_type": "code",
   "execution_count": 62,
   "metadata": {
    "ExecuteTime": {
     "end_time": "2020-05-26T10:48:17.982987Z",
     "start_time": "2020-05-26T10:48:13.408635Z"
    }
   },
   "outputs": [],
   "source": [
    "protein_RUV = pd.read_csv(\"../data/protein/E0022_P06_Protein_Matrix_ProNorM_update.tsv\", sep='\\t')\n",
    "protein_RUV = protein_RUV[~protein_RUV['Cell_line'].str.startswith('Control_')]\n",
    "protein_RUV.to_csv(\"../data/protein/E0022_P06_Protein_Matrix_ProNorM_no_control_update.txt\", sep='\\t', index=False)"
   ]
  },
  {
   "cell_type": "code",
   "execution_count": 45,
   "metadata": {
    "ExecuteTime": {
     "end_time": "2020-04-02T11:59:39.609117Z",
     "start_time": "2020-04-02T11:59:39.591416Z"
    }
   },
   "outputs": [],
   "source": [
    "protein_raw = protein_raw.set_index('Cell_line')"
   ]
  },
  {
   "cell_type": "code",
   "execution_count": 46,
   "metadata": {
    "ExecuteTime": {
     "end_time": "2020-04-02T11:59:42.589775Z",
     "start_time": "2020-04-02T11:59:42.133403Z"
    }
   },
   "outputs": [],
   "source": [
    "protein_raw_median = protein_raw.apply(lambda row:row-np.nanmedian(row), axis=1)"
   ]
  },
  {
   "cell_type": "code",
   "execution_count": 49,
   "metadata": {
    "ExecuteTime": {
     "end_time": "2020-04-02T12:00:23.332785Z",
     "start_time": "2020-04-02T12:00:17.888264Z"
    }
   },
   "outputs": [],
   "source": [
    "protein_raw_median.to_csv(\"../data/E0022_P06_Protein_Matrix_RawMedian_no_control.txt\", sep='\\t')"
   ]
  },
  {
   "cell_type": "code",
   "execution_count": 33,
   "metadata": {
    "ExecuteTime": {
     "end_time": "2020-04-02T11:56:20.142191Z",
     "start_time": "2020-04-02T11:56:20.138549Z"
    }
   },
   "outputs": [
    {
     "data": {
      "text/plain": [
       "(979, 3144)"
      ]
     },
     "execution_count": 33,
     "metadata": {},
     "output_type": "execute_result"
    }
   ],
   "source": [
    "protein_median.shape"
   ]
  },
  {
   "cell_type": "code",
   "execution_count": 34,
   "metadata": {
    "ExecuteTime": {
     "end_time": "2020-04-02T11:56:25.720970Z",
     "start_time": "2020-04-02T11:56:25.717613Z"
    }
   },
   "outputs": [
    {
     "data": {
      "text/plain": [
       "(979, 3596)"
      ]
     },
     "execution_count": 34,
     "metadata": {},
     "output_type": "execute_result"
    }
   ],
   "source": [
    "protein_raw.shape"
   ]
  },
  {
   "cell_type": "code",
   "execution_count": 36,
   "metadata": {
    "ExecuteTime": {
     "end_time": "2020-04-02T11:57:03.414388Z",
     "start_time": "2020-04-02T11:57:03.410807Z"
    }
   },
   "outputs": [
    {
     "data": {
      "text/plain": [
       "(979, 3432)"
      ]
     },
     "execution_count": 36,
     "metadata": {},
     "output_type": "execute_result"
    }
   ],
   "source": [
    "protein_RUV.shape"
   ]
  },
  {
   "cell_type": "markdown",
   "metadata": {},
   "source": [
    "# RUV TR"
   ]
  },
  {
   "cell_type": "code",
   "execution_count": 44,
   "metadata": {
    "ExecuteTime": {
     "end_time": "2020-04-05T01:10:20.909994Z",
     "start_time": "2020-04-05T01:10:20.897407Z"
    }
   },
   "outputs": [
    {
     "data": {
      "text/plain": [
       "784404"
      ]
     },
     "execution_count": 44,
     "metadata": {},
     "output_type": "execute_result"
    }
   ],
   "source": [
    "pd.isna(protein_RUV).sum().sum()"
   ]
  },
  {
   "cell_type": "code",
   "execution_count": 31,
   "metadata": {
    "ExecuteTime": {
     "end_time": "2020-04-05T00:10:28.946629Z",
     "start_time": "2020-04-05T00:10:22.651760Z"
    }
   },
   "outputs": [],
   "source": [
    "protein_rep = pd.read_csv(\"../data/protein/E0022_P06_Protein_Matrix_Replicate_ProNorM.tsv\", sep='\\t')"
   ]
  },
  {
   "cell_type": "code",
   "execution_count": 36,
   "metadata": {
    "ExecuteTime": {
     "end_time": "2020-04-05T00:16:13.155824Z",
     "start_time": "2020-04-05T00:16:12.708527Z"
    }
   },
   "outputs": [],
   "source": [
    "protein_rep = protein_rep.rename(columns={'Unnamed: 0': 'Automatic_MS_filename'})\n",
    "protein_rep_merge = pd.merge(protein_rep, meta[['Automatic_MS_filename', 'Cell_line']])\n",
    "protein_rep_merge_tr = protein_rep_merge[['Automatic_MS_filename', 'Cell_line']]"
   ]
  },
  {
   "cell_type": "code",
   "execution_count": null,
   "metadata": {
    "ExecuteTime": {
     "end_time": "2020-04-05T00:24:19.678067Z",
     "start_time": "2020-04-05T00:18:42.109324Z"
    }
   },
   "outputs": [],
   "source": [
    "protein_rep_merge_tr = protein_rep_merge.groupby('Cell_line').transform(\n",
    "    lambda x: x.fillna(x.mean()))"
   ]
  },
  {
   "cell_type": "code",
   "execution_count": 41,
   "metadata": {
    "ExecuteTime": {
     "end_time": "2020-04-05T01:02:40.951288Z",
     "start_time": "2020-04-05T00:25:13.678561Z"
    }
   },
   "outputs": [
    {
     "name": "stderr",
     "output_type": "stream",
     "text": [
      "/Users/scai/anaconda3/envs/sklearn22/lib/python3.6/site-packages/ipykernel_launcher.py:3: TqdmDeprecationWarning:\n",
      "\n",
      "This function will be removed in tqdm==5.0.0\n",
      "Please use `tqdm.notebook.tqdm` instead of `tqdm.tqdm_notebook`\n",
      "\n"
     ]
    },
    {
     "data": {
      "application/vnd.jupyter.widget-view+json": {
       "model_id": "b91df00167074589b1b2eba2a4db4a9d",
       "version_major": 2,
       "version_minor": 0
      },
      "text/plain": [
       "HBox(children=(FloatProgress(value=0.0, max=3431.0), HTML(value='')))"
      ]
     },
     "metadata": {},
     "output_type": "display_data"
    },
    {
     "name": "stderr",
     "output_type": "stream",
     "text": [
      "/Users/scai/anaconda3/envs/sklearn22/lib/python3.6/site-packages/ipykernel_launcher.py:6: SettingWithCopyWarning:\n",
      "\n",
      "\n",
      "A value is trying to be set on a copy of a slice from a DataFrame.\n",
      "Try using .loc[row_indexer,col_indexer] = value instead\n",
      "\n",
      "See the caveats in the documentation: https://pandas.pydata.org/pandas-docs/stable/user_guide/indexing.html#returning-a-view-versus-a-copy\n",
      "\n"
     ]
    },
    {
     "name": "stdout",
     "output_type": "stream",
     "text": [
      "\n"
     ]
    }
   ],
   "source": [
    "for col in tqdm_notebook(\n",
    "        protein_rep_merge.drop(['Automatic_MS_filename', 'Cell_line'],\n",
    "                               axis=1).columns):\n",
    "    subset = ['Cell_line'] + [col]\n",
    "    protein_rep_merge_tr[col] = protein_rep_merge[subset].groupby(\n",
    "        'Cell_line').transform(lambda x: x.fillna(x.mean()))[col]"
   ]
  },
  {
   "cell_type": "code",
   "execution_count": 46,
   "metadata": {
    "ExecuteTime": {
     "end_time": "2020-04-05T01:10:55.143739Z",
     "start_time": "2020-04-05T01:10:54.853704Z"
    }
   },
   "outputs": [
    {
     "data": {
      "text/plain": [
       "7158495"
      ]
     },
     "execution_count": 46,
     "metadata": {},
     "output_type": "execute_result"
    }
   ],
   "source": [
    "pd.isna(protein_rep).sum().sum()"
   ]
  },
  {
   "cell_type": "code",
   "execution_count": 45,
   "metadata": {
    "ExecuteTime": {
     "end_time": "2020-04-05T01:10:33.442073Z",
     "start_time": "2020-04-05T01:10:33.131593Z"
    }
   },
   "outputs": [
    {
     "data": {
      "text/plain": [
       "4807376"
      ]
     },
     "execution_count": 45,
     "metadata": {},
     "output_type": "execute_result"
    }
   ],
   "source": [
    "pd.isna(protein_rep_merge_tr).sum().sum()"
   ]
  },
  {
   "cell_type": "code",
   "execution_count": 52,
   "metadata": {
    "ExecuteTime": {
     "end_time": "2020-04-05T01:13:06.850820Z",
     "start_time": "2020-04-05T01:12:40.107442Z"
    }
   },
   "outputs": [],
   "source": [
    "protein_rep_merge_tr.to_csv(\n",
    "    \"../data/protein/E0022_P06_Protein_Matrix_Replicate_ProNorM_TR.tsv\",\n",
    "    sep='\\t',\n",
    "    index=False)"
   ]
  },
  {
   "cell_type": "markdown",
   "metadata": {},
   "source": [
    "# separate train test"
   ]
  },
  {
   "cell_type": "code",
   "execution_count": 22,
   "metadata": {
    "ExecuteTime": {
     "end_time": "2020-04-07T05:09:41.278075Z",
     "start_time": "2020-04-07T05:09:41.232279Z"
    }
   },
   "outputs": [],
   "source": [
    "meta = pd.read_csv(\"../data/E0022_P06_final_sample_map_no_control.txt\", sep='\\t')"
   ]
  },
  {
   "cell_type": "code",
   "execution_count": 23,
   "metadata": {
    "ExecuteTime": {
     "end_time": "2020-04-07T05:09:42.444412Z",
     "start_time": "2020-04-07T05:09:41.441742Z"
    }
   },
   "outputs": [],
   "source": [
    "data_sample = pd.read_csv(\"../data/protein/E0022_P06_Protein_Matrix_ProNorM_no_control.txt\", sep='\\t')"
   ]
  },
  {
   "cell_type": "code",
   "execution_count": 24,
   "metadata": {
    "ExecuteTime": {
     "end_time": "2020-04-07T05:09:42.470383Z",
     "start_time": "2020-04-07T05:09:42.446518Z"
    }
   },
   "outputs": [
    {
     "data": {
      "text/html": [
       "<div>\n",
       "<style scoped>\n",
       "    .dataframe tbody tr th:only-of-type {\n",
       "        vertical-align: middle;\n",
       "    }\n",
       "\n",
       "    .dataframe tbody tr th {\n",
       "        vertical-align: top;\n",
       "    }\n",
       "\n",
       "    .dataframe thead th {\n",
       "        text-align: right;\n",
       "    }\n",
       "</style>\n",
       "<table border=\"1\" class=\"dataframe\">\n",
       "  <thead>\n",
       "    <tr style=\"text-align: right;\">\n",
       "      <th></th>\n",
       "      <th>Cell_line</th>\n",
       "      <th>1433B_HUMAN</th>\n",
       "      <th>1433E_HUMAN</th>\n",
       "      <th>1433F_HUMAN</th>\n",
       "      <th>1433G_HUMAN</th>\n",
       "      <th>1433S_HUMAN</th>\n",
       "      <th>1433T_HUMAN</th>\n",
       "      <th>1433Z_HUMAN</th>\n",
       "      <th>1A03_HUMAN</th>\n",
       "      <th>2A5E_HUMAN</th>\n",
       "      <th>...</th>\n",
       "      <th>ZN687_HUMAN</th>\n",
       "      <th>ZN706_HUMAN</th>\n",
       "      <th>ZN768_HUMAN</th>\n",
       "      <th>ZNT9_HUMAN</th>\n",
       "      <th>ZO1_HUMAN</th>\n",
       "      <th>ZO2_HUMAN</th>\n",
       "      <th>ZPR1_HUMAN</th>\n",
       "      <th>ZRAB2_HUMAN</th>\n",
       "      <th>ZW10_HUMAN</th>\n",
       "      <th>ZYX_HUMAN</th>\n",
       "    </tr>\n",
       "  </thead>\n",
       "  <tbody>\n",
       "    <tr>\n",
       "      <th>0</th>\n",
       "      <td>201T</td>\n",
       "      <td>0.096927</td>\n",
       "      <td>-0.568128</td>\n",
       "      <td>-0.835446</td>\n",
       "      <td>0.391788</td>\n",
       "      <td>2.414299</td>\n",
       "      <td>-0.442038</td>\n",
       "      <td>0.025630</td>\n",
       "      <td>NaN</td>\n",
       "      <td>-0.446093</td>\n",
       "      <td>...</td>\n",
       "      <td>NaN</td>\n",
       "      <td>-1.016997</td>\n",
       "      <td>NaN</td>\n",
       "      <td>NaN</td>\n",
       "      <td>0.029303</td>\n",
       "      <td>-0.166752</td>\n",
       "      <td>-0.307667</td>\n",
       "      <td>-0.180132</td>\n",
       "      <td>-0.486825</td>\n",
       "      <td>0.804064</td>\n",
       "    </tr>\n",
       "    <tr>\n",
       "      <th>1</th>\n",
       "      <td>22RV1</td>\n",
       "      <td>-1.022789</td>\n",
       "      <td>-0.798627</td>\n",
       "      <td>-0.891601</td>\n",
       "      <td>-0.144772</td>\n",
       "      <td>0.543382</td>\n",
       "      <td>-1.017627</td>\n",
       "      <td>-0.993086</td>\n",
       "      <td>NaN</td>\n",
       "      <td>-0.281980</td>\n",
       "      <td>...</td>\n",
       "      <td>-1.445538</td>\n",
       "      <td>-0.977582</td>\n",
       "      <td>NaN</td>\n",
       "      <td>0.526681</td>\n",
       "      <td>-0.639151</td>\n",
       "      <td>-0.618681</td>\n",
       "      <td>-1.569439</td>\n",
       "      <td>-0.550486</td>\n",
       "      <td>-0.281257</td>\n",
       "      <td>-2.002678</td>\n",
       "    </tr>\n",
       "    <tr>\n",
       "      <th>2</th>\n",
       "      <td>23132-87</td>\n",
       "      <td>0.645785</td>\n",
       "      <td>0.030623</td>\n",
       "      <td>0.532326</td>\n",
       "      <td>0.092527</td>\n",
       "      <td>1.155763</td>\n",
       "      <td>-0.271380</td>\n",
       "      <td>1.490791</td>\n",
       "      <td>NaN</td>\n",
       "      <td>-0.361528</td>\n",
       "      <td>...</td>\n",
       "      <td>NaN</td>\n",
       "      <td>0.624945</td>\n",
       "      <td>NaN</td>\n",
       "      <td>NaN</td>\n",
       "      <td>0.014229</td>\n",
       "      <td>-0.018313</td>\n",
       "      <td>-0.640891</td>\n",
       "      <td>-0.512361</td>\n",
       "      <td>-0.281383</td>\n",
       "      <td>-0.429577</td>\n",
       "    </tr>\n",
       "    <tr>\n",
       "      <th>3</th>\n",
       "      <td>42-MG-BA</td>\n",
       "      <td>1.186552</td>\n",
       "      <td>-0.006448</td>\n",
       "      <td>0.391617</td>\n",
       "      <td>0.973264</td>\n",
       "      <td>NaN</td>\n",
       "      <td>0.236020</td>\n",
       "      <td>0.392404</td>\n",
       "      <td>NaN</td>\n",
       "      <td>0.951932</td>\n",
       "      <td>...</td>\n",
       "      <td>NaN</td>\n",
       "      <td>NaN</td>\n",
       "      <td>NaN</td>\n",
       "      <td>NaN</td>\n",
       "      <td>0.154674</td>\n",
       "      <td>-0.709740</td>\n",
       "      <td>0.520885</td>\n",
       "      <td>-0.003729</td>\n",
       "      <td>0.130263</td>\n",
       "      <td>0.731147</td>\n",
       "    </tr>\n",
       "    <tr>\n",
       "      <th>4</th>\n",
       "      <td>451Lu</td>\n",
       "      <td>-1.310509</td>\n",
       "      <td>-0.954998</td>\n",
       "      <td>-0.798605</td>\n",
       "      <td>-0.647663</td>\n",
       "      <td>NaN</td>\n",
       "      <td>-1.247045</td>\n",
       "      <td>-1.012624</td>\n",
       "      <td>NaN</td>\n",
       "      <td>NaN</td>\n",
       "      <td>...</td>\n",
       "      <td>0.348791</td>\n",
       "      <td>-0.065898</td>\n",
       "      <td>NaN</td>\n",
       "      <td>NaN</td>\n",
       "      <td>-1.028514</td>\n",
       "      <td>-1.287335</td>\n",
       "      <td>-0.607586</td>\n",
       "      <td>-0.574125</td>\n",
       "      <td>-0.394942</td>\n",
       "      <td>-1.037238</td>\n",
       "    </tr>\n",
       "  </tbody>\n",
       "</table>\n",
       "<p>5 rows × 3432 columns</p>\n",
       "</div>"
      ],
      "text/plain": [
       "  Cell_line  1433B_HUMAN  1433E_HUMAN  1433F_HUMAN  1433G_HUMAN  1433S_HUMAN  \\\n",
       "0      201T     0.096927    -0.568128    -0.835446     0.391788     2.414299   \n",
       "1     22RV1    -1.022789    -0.798627    -0.891601    -0.144772     0.543382   \n",
       "2  23132-87     0.645785     0.030623     0.532326     0.092527     1.155763   \n",
       "3  42-MG-BA     1.186552    -0.006448     0.391617     0.973264          NaN   \n",
       "4     451Lu    -1.310509    -0.954998    -0.798605    -0.647663          NaN   \n",
       "\n",
       "   1433T_HUMAN  1433Z_HUMAN  1A03_HUMAN  2A5E_HUMAN  ...  ZN687_HUMAN  \\\n",
       "0    -0.442038     0.025630         NaN   -0.446093  ...          NaN   \n",
       "1    -1.017627    -0.993086         NaN   -0.281980  ...    -1.445538   \n",
       "2    -0.271380     1.490791         NaN   -0.361528  ...          NaN   \n",
       "3     0.236020     0.392404         NaN    0.951932  ...          NaN   \n",
       "4    -1.247045    -1.012624         NaN         NaN  ...     0.348791   \n",
       "\n",
       "   ZN706_HUMAN  ZN768_HUMAN  ZNT9_HUMAN  ZO1_HUMAN  ZO2_HUMAN  ZPR1_HUMAN  \\\n",
       "0    -1.016997          NaN         NaN   0.029303  -0.166752   -0.307667   \n",
       "1    -0.977582          NaN    0.526681  -0.639151  -0.618681   -1.569439   \n",
       "2     0.624945          NaN         NaN   0.014229  -0.018313   -0.640891   \n",
       "3          NaN          NaN         NaN   0.154674  -0.709740    0.520885   \n",
       "4    -0.065898          NaN         NaN  -1.028514  -1.287335   -0.607586   \n",
       "\n",
       "   ZRAB2_HUMAN  ZW10_HUMAN  ZYX_HUMAN  \n",
       "0    -0.180132   -0.486825   0.804064  \n",
       "1    -0.550486   -0.281257  -2.002678  \n",
       "2    -0.512361   -0.281383  -0.429577  \n",
       "3    -0.003729    0.130263   0.731147  \n",
       "4    -0.574125   -0.394942  -1.037238  \n",
       "\n",
       "[5 rows x 3432 columns]"
      ]
     },
     "execution_count": 24,
     "metadata": {},
     "output_type": "execute_result"
    }
   ],
   "source": [
    "data_sample.head()"
   ]
  },
  {
   "cell_type": "code",
   "execution_count": 25,
   "metadata": {
    "ExecuteTime": {
     "end_time": "2020-04-07T05:09:42.983307Z",
     "start_time": "2020-04-07T05:09:42.980988Z"
    }
   },
   "outputs": [],
   "source": [
    "seed = 42"
   ]
  },
  {
   "cell_type": "code",
   "execution_count": 26,
   "metadata": {
    "ExecuteTime": {
     "end_time": "2020-04-07T05:09:43.288827Z",
     "start_time": "2020-04-07T05:09:43.284513Z"
    }
   },
   "outputs": [],
   "source": [
    "cell_lines_train, cell_lines_test = train_test_split(sorted(data_sample['Cell_line'].unique()),\n",
    "                                                     test_size=0.2,\n",
    "                                                     random_state=seed)"
   ]
  },
  {
   "cell_type": "code",
   "execution_count": 29,
   "metadata": {
    "ExecuteTime": {
     "end_time": "2020-04-07T05:11:11.492274Z",
     "start_time": "2020-04-07T05:11:07.890626Z"
    }
   },
   "outputs": [],
   "source": [
    "data_sample[data_sample['Cell_line'].isin(cell_lines_train)].reset_index(\n",
    "    drop=True).to_csv(\"../data/protein/E0022_P06_Protein_Matrix_ProNorM_no_control_train.txt\",\n",
    "                      sep='\\t',\n",
    "                      index=False)"
   ]
  },
  {
   "cell_type": "code",
   "execution_count": 30,
   "metadata": {
    "ExecuteTime": {
     "end_time": "2020-04-07T05:11:12.523619Z",
     "start_time": "2020-04-07T05:11:11.493891Z"
    }
   },
   "outputs": [],
   "source": [
    "data_sample[data_sample['Cell_line'].isin(cell_lines_test)].reset_index(\n",
    "    drop=True).to_csv(\"../data/protein/E0022_P06_Protein_Matrix_ProNorM_no_control_test.txt\",\n",
    "                      sep='\\t',\n",
    "                      index=False)"
   ]
  },
  {
   "cell_type": "code",
   "execution_count": null,
   "metadata": {},
   "outputs": [],
   "source": []
  },
  {
   "cell_type": "code",
   "execution_count": 14,
   "metadata": {
    "ExecuteTime": {
     "end_time": "2020-04-07T05:00:15.622742Z",
     "start_time": "2020-04-07T05:00:12.322938Z"
    }
   },
   "outputs": [],
   "source": [
    "data_raw = pd.read_csv(\"../data/rna/rnaseq_voom.csv\", index_col=0).T\n",
    "data_raw.index.name = 'SIDM'\n",
    "data_raw = data_raw.reset_index()\n",
    "data_sample = pd.merge(data_raw, meta[['SIDM', 'Cell_line']].drop_duplicates()).drop(['SIDM'],\n",
    "                                                                                     axis=1)\n",
    "data_sample = data_sample.sort_values(by=['Cell_line'])\n",
    "data_sample = data_sample.set_index(['Cell_line'])\n",
    "data_sample = data_sample.reset_index()"
   ]
  },
  {
   "cell_type": "code",
   "execution_count": 17,
   "metadata": {
    "ExecuteTime": {
     "end_time": "2020-04-07T05:01:00.122485Z",
     "start_time": "2020-04-07T05:01:00.062347Z"
    }
   },
   "outputs": [
    {
     "data": {
      "text/html": [
       "<div>\n",
       "<style scoped>\n",
       "    .dataframe tbody tr th:only-of-type {\n",
       "        vertical-align: middle;\n",
       "    }\n",
       "\n",
       "    .dataframe tbody tr th {\n",
       "        vertical-align: top;\n",
       "    }\n",
       "\n",
       "    .dataframe thead th {\n",
       "        text-align: right;\n",
       "    }\n",
       "</style>\n",
       "<table border=\"1\" class=\"dataframe\">\n",
       "  <thead>\n",
       "    <tr style=\"text-align: right;\">\n",
       "      <th></th>\n",
       "      <th>Cell_line</th>\n",
       "      <th>TSPAN6</th>\n",
       "      <th>DPM1</th>\n",
       "      <th>SCYL3</th>\n",
       "      <th>C1orf112</th>\n",
       "      <th>FGR</th>\n",
       "      <th>CFH</th>\n",
       "      <th>FUCA2</th>\n",
       "      <th>GCLC</th>\n",
       "      <th>NFYA</th>\n",
       "      <th>...</th>\n",
       "      <th>ACACA</th>\n",
       "      <th>C11orf98</th>\n",
       "      <th>MRM1</th>\n",
       "      <th>GOLGA6L10</th>\n",
       "      <th>HIST1H3H</th>\n",
       "      <th>MRPL45</th>\n",
       "      <th>GATD3B</th>\n",
       "      <th>PLAC4</th>\n",
       "      <th>CCDC163</th>\n",
       "      <th>PAGR1</th>\n",
       "    </tr>\n",
       "  </thead>\n",
       "  <tbody>\n",
       "    <tr>\n",
       "      <th>0</th>\n",
       "      <td>201T</td>\n",
       "      <td>6.08893</td>\n",
       "      <td>5.72534</td>\n",
       "      <td>4.62169</td>\n",
       "      <td>3.00630</td>\n",
       "      <td>-8.17803</td>\n",
       "      <td>6.90997</td>\n",
       "      <td>7.96241</td>\n",
       "      <td>7.52120</td>\n",
       "      <td>5.91700</td>\n",
       "      <td>...</td>\n",
       "      <td>7.80127</td>\n",
       "      <td>2.63854</td>\n",
       "      <td>3.09699</td>\n",
       "      <td>2.28651</td>\n",
       "      <td>-1.39011</td>\n",
       "      <td>5.93807</td>\n",
       "      <td>-0.63617</td>\n",
       "      <td>-4.67719</td>\n",
       "      <td>0.47572</td>\n",
       "      <td>1.06811</td>\n",
       "    </tr>\n",
       "    <tr>\n",
       "      <th>1</th>\n",
       "      <td>22RV1</td>\n",
       "      <td>2.87481</td>\n",
       "      <td>5.32473</td>\n",
       "      <td>4.75520</td>\n",
       "      <td>5.15319</td>\n",
       "      <td>-5.74522</td>\n",
       "      <td>-3.13134</td>\n",
       "      <td>5.93753</td>\n",
       "      <td>7.73612</td>\n",
       "      <td>6.32057</td>\n",
       "      <td>...</td>\n",
       "      <td>8.32831</td>\n",
       "      <td>2.68690</td>\n",
       "      <td>3.28429</td>\n",
       "      <td>0.13659</td>\n",
       "      <td>1.42523</td>\n",
       "      <td>5.32288</td>\n",
       "      <td>2.12034</td>\n",
       "      <td>-4.02007</td>\n",
       "      <td>2.76399</td>\n",
       "      <td>3.69831</td>\n",
       "    </tr>\n",
       "    <tr>\n",
       "      <th>2</th>\n",
       "      <td>23132-87</td>\n",
       "      <td>3.45790</td>\n",
       "      <td>6.15659</td>\n",
       "      <td>5.60868</td>\n",
       "      <td>4.60965</td>\n",
       "      <td>-6.87175</td>\n",
       "      <td>-0.99893</td>\n",
       "      <td>8.13516</td>\n",
       "      <td>7.66560</td>\n",
       "      <td>5.54338</td>\n",
       "      <td>...</td>\n",
       "      <td>7.95904</td>\n",
       "      <td>2.76943</td>\n",
       "      <td>2.98955</td>\n",
       "      <td>2.11842</td>\n",
       "      <td>1.25245</td>\n",
       "      <td>5.47300</td>\n",
       "      <td>-0.45724</td>\n",
       "      <td>-0.46003</td>\n",
       "      <td>2.93994</td>\n",
       "      <td>3.12995</td>\n",
       "    </tr>\n",
       "    <tr>\n",
       "      <th>3</th>\n",
       "      <td>42-MG-BA</td>\n",
       "      <td>5.22289</td>\n",
       "      <td>6.19178</td>\n",
       "      <td>3.34193</td>\n",
       "      <td>4.03735</td>\n",
       "      <td>-5.07341</td>\n",
       "      <td>-0.70395</td>\n",
       "      <td>6.32845</td>\n",
       "      <td>4.27009</td>\n",
       "      <td>5.54099</td>\n",
       "      <td>...</td>\n",
       "      <td>6.80444</td>\n",
       "      <td>2.82702</td>\n",
       "      <td>2.08750</td>\n",
       "      <td>0.79449</td>\n",
       "      <td>1.11228</td>\n",
       "      <td>4.81609</td>\n",
       "      <td>2.10370</td>\n",
       "      <td>-1.21831</td>\n",
       "      <td>2.34013</td>\n",
       "      <td>3.26198</td>\n",
       "    </tr>\n",
       "    <tr>\n",
       "      <th>4</th>\n",
       "      <td>451Lu</td>\n",
       "      <td>4.83637</td>\n",
       "      <td>6.09929</td>\n",
       "      <td>3.76191</td>\n",
       "      <td>5.16142</td>\n",
       "      <td>-5.07890</td>\n",
       "      <td>-3.32855</td>\n",
       "      <td>7.12019</td>\n",
       "      <td>5.05077</td>\n",
       "      <td>5.69443</td>\n",
       "      <td>...</td>\n",
       "      <td>7.32499</td>\n",
       "      <td>2.33684</td>\n",
       "      <td>2.78302</td>\n",
       "      <td>0.58247</td>\n",
       "      <td>-1.83180</td>\n",
       "      <td>4.46026</td>\n",
       "      <td>3.13682</td>\n",
       "      <td>-3.29502</td>\n",
       "      <td>1.43244</td>\n",
       "      <td>2.60694</td>\n",
       "    </tr>\n",
       "    <tr>\n",
       "      <th>...</th>\n",
       "      <td>...</td>\n",
       "      <td>...</td>\n",
       "      <td>...</td>\n",
       "      <td>...</td>\n",
       "      <td>...</td>\n",
       "      <td>...</td>\n",
       "      <td>...</td>\n",
       "      <td>...</td>\n",
       "      <td>...</td>\n",
       "      <td>...</td>\n",
       "      <td>...</td>\n",
       "      <td>...</td>\n",
       "      <td>...</td>\n",
       "      <td>...</td>\n",
       "      <td>...</td>\n",
       "      <td>...</td>\n",
       "      <td>...</td>\n",
       "      <td>...</td>\n",
       "      <td>...</td>\n",
       "      <td>...</td>\n",
       "      <td>...</td>\n",
       "    </tr>\n",
       "    <tr>\n",
       "      <th>954</th>\n",
       "      <td>WM793B</td>\n",
       "      <td>3.80434</td>\n",
       "      <td>6.68170</td>\n",
       "      <td>4.65719</td>\n",
       "      <td>4.50685</td>\n",
       "      <td>-4.29601</td>\n",
       "      <td>-1.40111</td>\n",
       "      <td>6.90516</td>\n",
       "      <td>5.21393</td>\n",
       "      <td>6.19010</td>\n",
       "      <td>...</td>\n",
       "      <td>6.43315</td>\n",
       "      <td>2.29484</td>\n",
       "      <td>2.53666</td>\n",
       "      <td>0.46814</td>\n",
       "      <td>-1.62472</td>\n",
       "      <td>4.94729</td>\n",
       "      <td>1.74381</td>\n",
       "      <td>-2.68505</td>\n",
       "      <td>-0.17287</td>\n",
       "      <td>2.32915</td>\n",
       "    </tr>\n",
       "    <tr>\n",
       "      <th>956</th>\n",
       "      <td>WSU-NHL</td>\n",
       "      <td>-2.01899</td>\n",
       "      <td>5.59459</td>\n",
       "      <td>4.88585</td>\n",
       "      <td>6.21005</td>\n",
       "      <td>2.40446</td>\n",
       "      <td>-6.67498</td>\n",
       "      <td>5.37029</td>\n",
       "      <td>5.66020</td>\n",
       "      <td>6.13733</td>\n",
       "      <td>...</td>\n",
       "      <td>7.80084</td>\n",
       "      <td>3.17232</td>\n",
       "      <td>4.69666</td>\n",
       "      <td>0.24427</td>\n",
       "      <td>1.09434</td>\n",
       "      <td>6.08776</td>\n",
       "      <td>2.72933</td>\n",
       "      <td>-2.54209</td>\n",
       "      <td>2.90998</td>\n",
       "      <td>2.95140</td>\n",
       "    </tr>\n",
       "    <tr>\n",
       "      <th>958</th>\n",
       "      <td>YH-13</td>\n",
       "      <td>5.06931</td>\n",
       "      <td>5.00097</td>\n",
       "      <td>3.85626</td>\n",
       "      <td>4.09650</td>\n",
       "      <td>-3.30933</td>\n",
       "      <td>7.93102</td>\n",
       "      <td>7.32920</td>\n",
       "      <td>4.22332</td>\n",
       "      <td>5.73316</td>\n",
       "      <td>...</td>\n",
       "      <td>7.78482</td>\n",
       "      <td>1.74384</td>\n",
       "      <td>3.01396</td>\n",
       "      <td>1.12701</td>\n",
       "      <td>1.01117</td>\n",
       "      <td>5.09681</td>\n",
       "      <td>1.79803</td>\n",
       "      <td>-2.38564</td>\n",
       "      <td>0.28310</td>\n",
       "      <td>2.97658</td>\n",
       "    </tr>\n",
       "    <tr>\n",
       "      <th>961</th>\n",
       "      <td>ZR-75-30</td>\n",
       "      <td>5.12948</td>\n",
       "      <td>5.89760</td>\n",
       "      <td>5.84290</td>\n",
       "      <td>4.62974</td>\n",
       "      <td>-5.24043</td>\n",
       "      <td>-5.14223</td>\n",
       "      <td>5.69290</td>\n",
       "      <td>6.95877</td>\n",
       "      <td>5.64459</td>\n",
       "      <td>...</td>\n",
       "      <td>8.73200</td>\n",
       "      <td>2.75130</td>\n",
       "      <td>2.11248</td>\n",
       "      <td>2.18850</td>\n",
       "      <td>1.46661</td>\n",
       "      <td>8.24556</td>\n",
       "      <td>2.27553</td>\n",
       "      <td>-1.26376</td>\n",
       "      <td>1.24042</td>\n",
       "      <td>3.45537</td>\n",
       "    </tr>\n",
       "    <tr>\n",
       "      <th>964</th>\n",
       "      <td>no-11</td>\n",
       "      <td>6.63995</td>\n",
       "      <td>6.08421</td>\n",
       "      <td>3.83516</td>\n",
       "      <td>4.15447</td>\n",
       "      <td>-3.66659</td>\n",
       "      <td>7.14975</td>\n",
       "      <td>7.47014</td>\n",
       "      <td>2.95761</td>\n",
       "      <td>5.75518</td>\n",
       "      <td>...</td>\n",
       "      <td>7.80850</td>\n",
       "      <td>1.27333</td>\n",
       "      <td>2.20527</td>\n",
       "      <td>0.97280</td>\n",
       "      <td>-0.80148</td>\n",
       "      <td>4.61557</td>\n",
       "      <td>3.10731</td>\n",
       "      <td>-4.15712</td>\n",
       "      <td>1.66830</td>\n",
       "      <td>3.46918</td>\n",
       "    </tr>\n",
       "  </tbody>\n",
       "</table>\n",
       "<p>773 rows × 15321 columns</p>\n",
       "</div>"
      ],
      "text/plain": [
       "    Cell_line   TSPAN6     DPM1    SCYL3  C1orf112      FGR      CFH    FUCA2  \\\n",
       "0        201T  6.08893  5.72534  4.62169   3.00630 -8.17803  6.90997  7.96241   \n",
       "1       22RV1  2.87481  5.32473  4.75520   5.15319 -5.74522 -3.13134  5.93753   \n",
       "2    23132-87  3.45790  6.15659  5.60868   4.60965 -6.87175 -0.99893  8.13516   \n",
       "3    42-MG-BA  5.22289  6.19178  3.34193   4.03735 -5.07341 -0.70395  6.32845   \n",
       "4       451Lu  4.83637  6.09929  3.76191   5.16142 -5.07890 -3.32855  7.12019   \n",
       "..        ...      ...      ...      ...       ...      ...      ...      ...   \n",
       "954    WM793B  3.80434  6.68170  4.65719   4.50685 -4.29601 -1.40111  6.90516   \n",
       "956   WSU-NHL -2.01899  5.59459  4.88585   6.21005  2.40446 -6.67498  5.37029   \n",
       "958     YH-13  5.06931  5.00097  3.85626   4.09650 -3.30933  7.93102  7.32920   \n",
       "961  ZR-75-30  5.12948  5.89760  5.84290   4.62974 -5.24043 -5.14223  5.69290   \n",
       "964     no-11  6.63995  6.08421  3.83516   4.15447 -3.66659  7.14975  7.47014   \n",
       "\n",
       "        GCLC     NFYA  ...    ACACA  C11orf98     MRM1  GOLGA6L10  HIST1H3H  \\\n",
       "0    7.52120  5.91700  ...  7.80127   2.63854  3.09699    2.28651  -1.39011   \n",
       "1    7.73612  6.32057  ...  8.32831   2.68690  3.28429    0.13659   1.42523   \n",
       "2    7.66560  5.54338  ...  7.95904   2.76943  2.98955    2.11842   1.25245   \n",
       "3    4.27009  5.54099  ...  6.80444   2.82702  2.08750    0.79449   1.11228   \n",
       "4    5.05077  5.69443  ...  7.32499   2.33684  2.78302    0.58247  -1.83180   \n",
       "..       ...      ...  ...      ...       ...      ...        ...       ...   \n",
       "954  5.21393  6.19010  ...  6.43315   2.29484  2.53666    0.46814  -1.62472   \n",
       "956  5.66020  6.13733  ...  7.80084   3.17232  4.69666    0.24427   1.09434   \n",
       "958  4.22332  5.73316  ...  7.78482   1.74384  3.01396    1.12701   1.01117   \n",
       "961  6.95877  5.64459  ...  8.73200   2.75130  2.11248    2.18850   1.46661   \n",
       "964  2.95761  5.75518  ...  7.80850   1.27333  2.20527    0.97280  -0.80148   \n",
       "\n",
       "      MRPL45   GATD3B    PLAC4  CCDC163    PAGR1  \n",
       "0    5.93807 -0.63617 -4.67719  0.47572  1.06811  \n",
       "1    5.32288  2.12034 -4.02007  2.76399  3.69831  \n",
       "2    5.47300 -0.45724 -0.46003  2.93994  3.12995  \n",
       "3    4.81609  2.10370 -1.21831  2.34013  3.26198  \n",
       "4    4.46026  3.13682 -3.29502  1.43244  2.60694  \n",
       "..       ...      ...      ...      ...      ...  \n",
       "954  4.94729  1.74381 -2.68505 -0.17287  2.32915  \n",
       "956  6.08776  2.72933 -2.54209  2.90998  2.95140  \n",
       "958  5.09681  1.79803 -2.38564  0.28310  2.97658  \n",
       "961  8.24556  2.27553 -1.26376  1.24042  3.45537  \n",
       "964  4.61557  3.10731 -4.15712  1.66830  3.46918  \n",
       "\n",
       "[773 rows x 15321 columns]"
      ]
     },
     "execution_count": 17,
     "metadata": {},
     "output_type": "execute_result"
    }
   ],
   "source": [
    "data_sample[data_sample['Cell_line'].isin(cell_lines_train)]"
   ]
  },
  {
   "cell_type": "code",
   "execution_count": 21,
   "metadata": {
    "ExecuteTime": {
     "end_time": "2020-04-07T05:03:48.867225Z",
     "start_time": "2020-04-07T05:03:32.280844Z"
    }
   },
   "outputs": [],
   "source": [
    "data_sample[data_sample['Cell_line'].isin(cell_lines_train)].reset_index(\n",
    "    drop=True).to_csv(\"../data/rna/rnaseq_voom_train.tsv\",\n",
    "                      sep='\\t',\n",
    "                      index=False)"
   ]
  },
  {
   "cell_type": "code",
   "execution_count": 20,
   "metadata": {
    "ExecuteTime": {
     "end_time": "2020-04-07T05:03:17.702630Z",
     "start_time": "2020-04-07T05:03:13.497690Z"
    }
   },
   "outputs": [],
   "source": [
    "data_sample[data_sample['Cell_line'].isin(cell_lines_test)].reset_index(\n",
    "    drop=True).to_csv(\"../data/rna/rnaseq_voom_test.tsv\",\n",
    "                      sep='\\t',\n",
    "                      index=False)"
   ]
  },
  {
   "cell_type": "markdown",
   "metadata": {},
   "source": [
    "# 1 percentile imputation"
   ]
  },
  {
   "cell_type": "markdown",
   "metadata": {},
   "source": [
    "## all sanger"
   ]
  },
  {
   "cell_type": "code",
   "execution_count": 47,
   "metadata": {
    "ExecuteTime": {
     "end_time": "2020-06-04T02:24:53.169214Z",
     "start_time": "2020-06-04T02:24:52.404585Z"
    }
   },
   "outputs": [],
   "source": [
    "data_sample = pd.read_csv(\"../data/protein/E0022_P06_Protein_Matrix_ProNorM_no_control_update.txt\", sep='\\t')"
   ]
  },
  {
   "cell_type": "code",
   "execution_count": 48,
   "metadata": {
    "ExecuteTime": {
     "end_time": "2020-06-04T02:24:53.597871Z",
     "start_time": "2020-06-04T02:24:53.579103Z"
    }
   },
   "outputs": [],
   "source": [
    "data_sample = data_sample.drop(['Cell_line'],axis=1)"
   ]
  },
  {
   "cell_type": "code",
   "execution_count": 49,
   "metadata": {
    "ExecuteTime": {
     "end_time": "2020-06-04T02:24:54.129222Z",
     "start_time": "2020-06-04T02:24:54.045878Z"
    }
   },
   "outputs": [],
   "source": [
    "data_sample_flat = data_sample.values.flatten()\n",
    "data_sample_flat = data_sample_flat[~np.isnan(data_sample_flat)]"
   ]
  },
  {
   "cell_type": "code",
   "execution_count": 50,
   "metadata": {
    "ExecuteTime": {
     "end_time": "2020-06-04T02:24:54.479604Z",
     "start_time": "2020-06-04T02:24:54.439383Z"
    }
   },
   "outputs": [
    {
     "data": {
      "text/plain": [
       "-2.2426022076053904"
      ]
     },
     "execution_count": 50,
     "metadata": {},
     "output_type": "execute_result"
    }
   ],
   "source": [
    "np.percentile(data_sample_flat, 1)"
   ]
  },
  {
   "cell_type": "markdown",
   "metadata": {},
   "source": [
    "## sanger vs ccle"
   ]
  },
  {
   "cell_type": "code",
   "execution_count": 468,
   "metadata": {
    "ExecuteTime": {
     "end_time": "2020-04-17T02:57:01.665208Z",
     "start_time": "2020-04-17T02:57:01.188368Z"
    }
   },
   "outputs": [],
   "source": [
    "data_sample = pd.read_csv(\"../data/ccle/protein_matrix_common_ruv.tsv\", sep='\\t')"
   ]
  },
  {
   "cell_type": "code",
   "execution_count": 469,
   "metadata": {
    "ExecuteTime": {
     "end_time": "2020-04-17T02:57:13.412721Z",
     "start_time": "2020-04-17T02:57:13.377661Z"
    }
   },
   "outputs": [
    {
     "data": {
      "text/plain": [
       "-2.27000832473339"
      ]
     },
     "execution_count": 469,
     "metadata": {},
     "output_type": "execute_result"
    }
   ],
   "source": [
    "data_sample = data_sample.drop(['Cell_line'],axis=1)\n",
    "data_sample_flat = data_sample.values.flatten()\n",
    "data_sample_flat = data_sample_flat[~np.isnan(data_sample_flat)]\n",
    "np.percentile(data_sample_flat, 1)"
   ]
  },
  {
   "cell_type": "markdown",
   "metadata": {},
   "source": [
    "# CCLE drug mapping"
   ]
  },
  {
   "cell_type": "code",
   "execution_count": 337,
   "metadata": {
    "ExecuteTime": {
     "end_time": "2020-06-11T01:06:14.001867Z",
     "start_time": "2020-06-11T01:06:06.513537Z"
    }
   },
   "outputs": [
    {
     "name": "stdout",
     "output_type": "stream",
     "text": [
      "Number of common cell lines:  295\n"
     ]
    }
   ],
   "source": [
    "meta = pd.read_csv(\"../data/E0022_P06_final_sample_map_no_control.txt\", sep='\\t')\n",
    "protein_RUV = pd.read_csv(\"../data/protein/E0022_P06_Protein_Matrix_ProNorM_no_control_update.txt\", sep='\\t')\n",
    "ic50 = pd.read_csv(\n",
    "    \"../data/drug/drug_final_processed.csv.gz\", low_memory=False)\n",
    "\n",
    "df_broad = pd.read_csv('../data/ccle/protein_quant_current_normalized.csv')\n",
    "df_broad = df_broad.drop(\n",
    "    ['Protein_Id', 'Gene_Symbol', 'Description', 'Group_ID', 'Uniprot_Acc'],\n",
    "    axis=1).rename(columns={\n",
    "        'Uniprot': 'Protein'\n",
    "    }).set_index('Protein')\n",
    "df_broad = df_broad.drop([\n",
    "    'SW948_LARGE_INTESTINE_TenPx11', 'CAL120_BREAST_TenPx02',\n",
    "    'HCT15_LARGE_INTESTINE_TenPx30'\n",
    "],\n",
    "                         axis=1)\n",
    "rename_dict = {}\n",
    "for x in df_broad.columns.to_list():\n",
    "    rename_dict[x] = x.split('_TenPx')[0]\n",
    "df_broad = df_broad.rename(columns=rename_dict)\n",
    "df_broad = df_broad.drop(\n",
    "    [x for x in df_broad.columns.tolist() if 'TenPx' in x],\n",
    "    axis=1).transpose()\n",
    "\n",
    "curr_dict = meta[['CCLE_ID','Cell_line']].drop_duplicates().set_index('CCLE_ID').to_dict()['Cell_line']\n",
    "df_broad_sanger_name = df_broad.index.map(curr_dict)\n",
    "\n",
    "common_lines_broad = [x for x in df_broad_sanger_name if x in protein_RUV['Cell_line'].values]\n",
    "print('Number of common cell lines: ',len(common_lines_broad))\n",
    "\n",
    "len(set(common_lines_broad))\n",
    "df_broad_common = df_broad[df_broad.index.map(curr_dict).isin(common_lines_broad)]"
   ]
  },
  {
   "cell_type": "code",
   "execution_count": 338,
   "metadata": {
    "ExecuteTime": {
     "end_time": "2020-06-11T01:06:14.065804Z",
     "start_time": "2020-06-11T01:06:14.003678Z"
    }
   },
   "outputs": [],
   "source": [
    "meta_cell = pd.read_csv(\"../data/ccle/secondary-screen-cell-line-info.csv\")\n",
    "meta_drug = pd.read_csv(\"../data/ccle/secondary-screen-replicate-collapsed-treatment-info.csv\")"
   ]
  },
  {
   "cell_type": "code",
   "execution_count": 339,
   "metadata": {
    "ExecuteTime": {
     "end_time": "2020-06-11T01:06:17.702758Z",
     "start_time": "2020-06-11T01:06:14.068185Z"
    }
   },
   "outputs": [],
   "source": [
    "ccle_drug = pd.read_csv(\"../data/ccle/secondary-screen-dose-response-curve-parameters.csv\", low_memory=False)\n",
    "ccle_drug = ccle_drug.sort_values(by=['screen_id']).drop_duplicates(['broad_id', 'ccle_name'], keep='last')\n"
   ]
  },
  {
   "cell_type": "code",
   "execution_count": 340,
   "metadata": {
    "ExecuteTime": {
     "end_time": "2020-06-11T01:06:18.544088Z",
     "start_time": "2020-06-11T01:06:17.704596Z"
    }
   },
   "outputs": [],
   "source": [
    "ccle_drug = ccle_drug.rename(columns={'broad_id':'drug_id'})\n",
    "ccle_drug['cell_line_name'] = ccle_drug['ccle_name'].map(curr_dict)\n",
    "ccle_drug = ccle_drug.sort_values(by=['screen_id']).drop_duplicates(['drug_id', 'cell_line_name'], keep='last')\n",
    "ccle_drug = ccle_drug[~pd.isna(ccle_drug['cell_line_name'])]"
   ]
  },
  {
   "cell_type": "code",
   "execution_count": 341,
   "metadata": {
    "ExecuteTime": {
     "end_time": "2020-06-11T01:06:18.937566Z",
     "start_time": "2020-06-11T01:06:18.545625Z"
    }
   },
   "outputs": [],
   "source": [
    "ccle_drug = ccle_drug.replace([np.inf, -np.inf], np.nan)\n",
    "# ccle_drug = ccle_drug[~pd.isna(ccle_drug['ic50'])]\n",
    "\n",
    "ccle_drug = ccle_drug[ccle_drug['auc']<3]\n",
    "# ccle_drug = ccle_drug[ccle_drug['ic50']<4]\n",
    "\n",
    "ccle_drug = ccle_drug[ccle_drug['cell_line_name'].isin(common_lines_broad)]\n",
    "\n",
    "# ccle_drug['AUC_norm_scaled'] = MinMaxScaler().fit_transform(ccle_drug['auc'].values.reshape(-1,1))\n",
    "# ccle_drug['IC50_norm_scaled'] = MinMaxScaler().fit_transform(ccle_drug['ic50'].values.reshape(-1,1))"
   ]
  },
  {
   "cell_type": "code",
   "execution_count": 342,
   "metadata": {
    "ExecuteTime": {
     "end_time": "2020-06-11T01:06:18.958003Z",
     "start_time": "2020-06-11T01:06:18.939271Z"
    }
   },
   "outputs": [],
   "source": [
    "ccle_drug_counts = ccle_drug.groupby(['drug_id']).size().sort_values()"
   ]
  },
  {
   "cell_type": "code",
   "execution_count": 343,
   "metadata": {
    "ExecuteTime": {
     "end_time": "2020-06-11T01:06:19.162321Z",
     "start_time": "2020-06-11T01:06:18.959386Z"
    }
   },
   "outputs": [
    {
     "data": {
      "text/plain": [
       "Text(0, 0.5, 'Number of drugs')"
      ]
     },
     "execution_count": 343,
     "metadata": {},
     "output_type": "execute_result"
    },
    {
     "data": {
      "image/png": "[encoded data removed]",
      "text/plain": [
       "<Figure size 432x288 with 1 Axes>"
      ]
     },
     "metadata": {
      "needs_background": "light"
     },
     "output_type": "display_data"
    }
   ],
   "source": [
    "sns.distplot(ccle_drug_counts, kde=False)\n",
    "plt.xlabel(\"Number of cell lines tested\")\n",
    "plt.ylabel(\"Number of drugs\")"
   ]
  },
  {
   "cell_type": "code",
   "execution_count": 344,
   "metadata": {
    "ExecuteTime": {
     "end_time": "2020-06-11T01:06:19.829888Z",
     "start_time": "2020-06-11T01:06:19.826179Z"
    }
   },
   "outputs": [],
   "source": [
    "selected_drugs = ccle_drug_counts[ccle_drug_counts>150].index.values"
   ]
  },
  {
   "cell_type": "code",
   "execution_count": 345,
   "metadata": {
    "ExecuteTime": {
     "end_time": "2020-06-11T01:06:20.070468Z",
     "start_time": "2020-06-11T01:06:20.016313Z"
    }
   },
   "outputs": [],
   "source": [
    "ccle_drug = ccle_drug[ccle_drug['drug_id'].isin(selected_drugs)]"
   ]
  },
  {
   "cell_type": "code",
   "execution_count": 346,
   "metadata": {
    "ExecuteTime": {
     "end_time": "2020-06-11T01:06:20.214168Z",
     "start_time": "2020-06-11T01:06:20.194133Z"
    }
   },
   "outputs": [
    {
     "data": {
      "text/plain": [
       "screen_id\n",
       "HTS002    217765\n",
       "MTS005       340\n",
       "MTS006     12172\n",
       "MTS010     26653\n",
       "dtype: int64"
      ]
     },
     "execution_count": 346,
     "metadata": {},
     "output_type": "execute_result"
    }
   ],
   "source": [
    "ccle_drug.groupby(['screen_id']).size()"
   ]
  },
  {
   "cell_type": "code",
   "execution_count": 347,
   "metadata": {
    "ExecuteTime": {
     "end_time": "2020-06-11T01:06:20.442153Z",
     "start_time": "2020-06-11T01:06:20.392454Z"
    }
   },
   "outputs": [
    {
     "data": {
      "text/html": [
       "<div>\n",
       "<style scoped>\n",
       "    .dataframe tbody tr th:only-of-type {\n",
       "        vertical-align: middle;\n",
       "    }\n",
       "\n",
       "    .dataframe tbody tr th {\n",
       "        vertical-align: top;\n",
       "    }\n",
       "\n",
       "    .dataframe thead th {\n",
       "        text-align: right;\n",
       "    }\n",
       "</style>\n",
       "<table border=\"1\" class=\"dataframe\">\n",
       "  <thead>\n",
       "    <tr style=\"text-align: right;\">\n",
       "      <th></th>\n",
       "      <th>drug_id</th>\n",
       "      <th>depmap_id</th>\n",
       "      <th>ccle_name</th>\n",
       "      <th>screen_id</th>\n",
       "      <th>upper_limit</th>\n",
       "      <th>lower_limit</th>\n",
       "      <th>slope</th>\n",
       "      <th>r2</th>\n",
       "      <th>auc</th>\n",
       "      <th>ec50</th>\n",
       "      <th>ic50</th>\n",
       "      <th>name</th>\n",
       "      <th>moa</th>\n",
       "      <th>target</th>\n",
       "      <th>disease.area</th>\n",
       "      <th>indication</th>\n",
       "      <th>smiles</th>\n",
       "      <th>phase</th>\n",
       "      <th>passed_str_profiling</th>\n",
       "      <th>row_name</th>\n",
       "      <th>cell_line_name</th>\n",
       "    </tr>\n",
       "  </thead>\n",
       "  <tbody>\n",
       "    <tr>\n",
       "      <th>696822</th>\n",
       "      <td>BRD-K95142244-001-01-5</td>\n",
       "      <td>ACH-000970</td>\n",
       "      <td>SNUC5_LARGE_INTESTINE</td>\n",
       "      <td>MTS010</td>\n",
       "      <td>1</td>\n",
       "      <td>1.495143</td>\n",
       "      <td>2.453189</td>\n",
       "      <td>0.492087</td>\n",
       "      <td>1.0</td>\n",
       "      <td>0.019515</td>\n",
       "      <td>NaN</td>\n",
       "      <td>talazoparib</td>\n",
       "      <td>PARP inhibitor</td>\n",
       "      <td>PARP2</td>\n",
       "      <td>NaN</td>\n",
       "      <td>NaN</td>\n",
       "      <td>Cn1ncnc1[C@@H]1[C@H](Nc2cc(F)cc3c2c1n[nH]c3=O)...</td>\n",
       "      <td>Phase 3</td>\n",
       "      <td>True</td>\n",
       "      <td>ACH-000970</td>\n",
       "      <td>SNU-C5</td>\n",
       "    </tr>\n",
       "  </tbody>\n",
       "</table>\n",
       "</div>"
      ],
      "text/plain": [
       "                       drug_id   depmap_id              ccle_name screen_id  \\\n",
       "696822  BRD-K95142244-001-01-5  ACH-000970  SNUC5_LARGE_INTESTINE    MTS010   \n",
       "\n",
       "        upper_limit  lower_limit     slope        r2  auc      ec50  ic50  \\\n",
       "696822            1     1.495143  2.453189  0.492087  1.0  0.019515   NaN   \n",
       "\n",
       "               name             moa target disease.area indication  \\\n",
       "696822  talazoparib  PARP inhibitor  PARP2          NaN        NaN   \n",
       "\n",
       "                                                   smiles    phase  \\\n",
       "696822  Cn1ncnc1[C@@H]1[C@H](Nc2cc(F)cc3c2c1n[nH]c3=O)...  Phase 3   \n",
       "\n",
       "        passed_str_profiling    row_name cell_line_name  \n",
       "696822                  True  ACH-000970         SNU-C5  "
      ]
     },
     "execution_count": 347,
     "metadata": {},
     "output_type": "execute_result"
    }
   ],
   "source": [
    "ccle_drug[(ccle_drug['drug_id']=='BRD-K95142244-001-01-5') & (ccle_drug['cell_line_name']=='SNU-C5')]"
   ]
  },
  {
   "cell_type": "code",
   "execution_count": 348,
   "metadata": {
    "ExecuteTime": {
     "end_time": "2020-06-11T01:06:24.289654Z",
     "start_time": "2020-06-11T01:06:24.286343Z"
    }
   },
   "outputs": [
    {
     "data": {
      "text/plain": [
       "(256930, 21)"
      ]
     },
     "execution_count": 348,
     "metadata": {},
     "output_type": "execute_result"
    }
   ],
   "source": [
    "ccle_drug.shape"
   ]
  },
  {
   "cell_type": "code",
   "execution_count": 350,
   "metadata": {
    "ExecuteTime": {
     "end_time": "2020-06-11T01:06:56.041499Z",
     "start_time": "2020-06-11T01:06:56.002398Z"
    }
   },
   "outputs": [],
   "source": [
    "ccle_drug = ccle_drug.rename(columns={'name':'drug_name'})"
   ]
  },
  {
   "cell_type": "code",
   "execution_count": 351,
   "metadata": {
    "ExecuteTime": {
     "end_time": "2020-06-11T01:07:09.641044Z",
     "start_time": "2020-06-11T01:07:08.913071Z"
    }
   },
   "outputs": [],
   "source": [
    "ccle_drug[['cell_line_name', 'drug_id','drug_name', 'auc'\n",
    "           ]].to_csv(\"../data/ccle/drug_all_ccle_secondary_processed_auc.csv\",\n",
    "                     index=False)"
   ]
  },
  {
   "cell_type": "code",
   "execution_count": 496,
   "metadata": {
    "ExecuteTime": {
     "end_time": "2020-05-09T05:45:47.573479Z",
     "start_time": "2020-05-09T05:45:47.402881Z"
    }
   },
   "outputs": [],
   "source": [
    "ccle_drug[['cell_line_name', 'Drug Id', 'IC50_norm_scaled'\n",
    "           ]].to_csv(\"../data/ccle/drug_all_ccle_secondary_processed_ic50.csv\",\n",
    "                     index=False)"
   ]
  },
  {
   "cell_type": "code",
   "execution_count": 198,
   "metadata": {
    "ExecuteTime": {
     "end_time": "2020-05-08T15:44:57.852764Z",
     "start_time": "2020-05-08T15:44:57.843485Z"
    }
   },
   "outputs": [],
   "source": [
    "train_cell_lines, test_cell_lines = train_test_split(\n",
    "    ccle_drug['Cell line name'].unique(), test_size=0.2, random_state=42)"
   ]
  },
  {
   "cell_type": "code",
   "execution_count": 22,
   "metadata": {
    "ExecuteTime": {
     "end_time": "2020-05-08T09:48:59.925679Z",
     "start_time": "2020-05-08T09:48:59.920221Z"
    }
   },
   "outputs": [],
   "source": [
    "pd.DataFrame({\n",
    "    'Cell_line': train_cell_lines\n",
    "}).to_csv(\"../data/misc/vs_ccle_common_cell_line_train_secondary.tsv\",\n",
    "          sep='\\t',\n",
    "          index=False)\n",
    "pd.DataFrame({\n",
    "    'Cell_line': test_cell_lines\n",
    "}).to_csv(\"../data/misc/vs_ccle_common_cell_line_test_secondary.tsv\",\n",
    "          sep='\\t',\n",
    "          index=False)"
   ]
  },
  {
   "cell_type": "markdown",
   "metadata": {},
   "source": [
    "# cancer type"
   ]
  },
  {
   "cell_type": "markdown",
   "metadata": {},
   "source": [
    "## cell line level"
   ]
  },
  {
   "cell_type": "markdown",
   "metadata": {
    "ExecuteTime": {
     "end_time": "2020-04-28T12:12:49.920985Z",
     "start_time": "2020-04-28T12:12:49.918762Z"
    }
   },
   "source": [
    "### protein"
   ]
  },
  {
   "cell_type": "code",
   "execution_count": 4,
   "metadata": {
    "ExecuteTime": {
     "end_time": "2020-04-27T00:18:14.548914Z",
     "start_time": "2020-04-27T00:18:13.564136Z"
    }
   },
   "outputs": [],
   "source": [
    "protein_sample = pd.read_csv(\"../data/protein/E0022_P06_Protein_Matrix_ProNorM_no_control.txt\",sep='\\t')\n",
    "\n",
    "meta = pd.read_csv(\"../data/E0022_P06_final_sample_map_no_control.txt\",sep='\\t')\n",
    "\n",
    "cancer_type_map = meta[[\n",
    "    'Cell_line', 'Cancer_type', 'Tissue_type'\n",
    "]].drop_duplicates().set_index('Cell_line').to_dict()['Cancer_type']\n",
    "tissue_type_map = meta[[\n",
    "    'Cell_line', 'Cancer_type', 'Tissue_type'\n",
    "]].drop_duplicates().set_index('Cell_line').to_dict()['Tissue_type']\n",
    "\n",
    "protein_sample['Cancer_type'] = protein_sample['Cell_line'].map(cancer_type_map)\n",
    "protein_sample['Tissue_type'] = protein_sample['Cell_line'].map(tissue_type_map)"
   ]
  },
  {
   "cell_type": "code",
   "execution_count": 8,
   "metadata": {
    "ExecuteTime": {
     "end_time": "2020-04-27T00:18:14.646518Z",
     "start_time": "2020-04-27T00:18:14.615294Z"
    }
   },
   "outputs": [
    {
     "data": {
      "text/plain": [
       "Cancer_type\n",
       "Acute Myeloid Leukemia                30\n",
       "B-Cell Non-Hodgkin's Lymphoma         40\n",
       "B-Lymphoblastic Leukemia              18\n",
       "Biliary Tract Carcinoma                5\n",
       "Bladder Carcinoma                     19\n",
       "Breast Carcinoma                      51\n",
       "Burkitt's Lymphoma                    13\n",
       "Cervical Carcinoma                    13\n",
       "Chondrosarcoma                         6\n",
       "Chronic Myelogenous Leukemia          10\n",
       "Colorectal Carcinoma                  49\n",
       "Endometrial Carcinoma                 10\n",
       "Esophageal Carcinoma                   9\n",
       "Esophageal Squamous Cell Carcinoma    26\n",
       "Ewing's Sarcoma                       24\n",
       "Gastric Carcinoma                     28\n",
       "Glioblastoma                          38\n",
       "Glioma                                15\n",
       "Head and Neck Carcinoma               18\n",
       "Hepatocellular Carcinoma              17\n",
       "Hodgkin's Lymphoma                     7\n",
       "Kidney Carcinoma                      32\n",
       "Melanoma                              51\n",
       "Mesothelioma                          21\n",
       "Neuroblastoma                         30\n",
       "Non-Cancerous                          8\n",
       "Non-Small Cell Lung Carcinoma         86\n",
       "Oral Cavity Carcinoma                 23\n",
       "Osteosarcoma                          11\n",
       "Other Blood Carcinomas                 8\n",
       "Other Solid Carcinomas                50\n",
       "Ovarian Carcinoma                     40\n",
       "Pancreatic Carcinoma                  30\n",
       "Plasma Cell Myeloma                   15\n",
       "Prostate Carcinoma                     6\n",
       "Rhabdomyosarcoma                       7\n",
       "Small Cell Lung Carcinoma             60\n",
       "Squamous Cell Lung Carcinoma          15\n",
       "T-Cell Non-Hodgkin's Lymphoma          6\n",
       "T-Lymphoblastic Leukemia              18\n",
       "Thyroid Gland Carcinoma               16\n",
       "dtype: int64"
      ]
     },
     "execution_count": 8,
     "metadata": {},
     "output_type": "execute_result"
    }
   ],
   "source": [
    "type_count = protein_sample.groupby(['Cancer_type']).size()\n",
    "selected_types = type_count.index.values\n",
    "# selected_types = type_count[type_count > 20].index.values\n",
    "protein_sample[protein_sample['Cancer_type'].isin(selected_types)].groupby(['Cancer_type']).size()"
   ]
  },
  {
   "cell_type": "code",
   "execution_count": 9,
   "metadata": {
    "ExecuteTime": {
     "end_time": "2020-04-27T00:18:31.681759Z",
     "start_time": "2020-04-27T00:18:31.665362Z"
    }
   },
   "outputs": [
    {
     "data": {
      "text/plain": [
       "Tissue_type\n",
       "Adrenal Gland                    1\n",
       "Biliary Tract                    5\n",
       "Bladder                         19\n",
       "Bone                            42\n",
       "Breast                          51\n",
       "Central Nervous System          58\n",
       "Cervix                          14\n",
       "Endometrium                     11\n",
       "Esophagus                       35\n",
       "Haematopoietic and Lymphoid    171\n",
       "Head and Neck                   41\n",
       "Kidney                          33\n",
       "Large Intestine                 49\n",
       "Liver                           17\n",
       "Lung                           194\n",
       "Ovary                           41\n",
       "Pancreas                        31\n",
       "Peripheral Nervous System       30\n",
       "Placenta                         2\n",
       "Prostate                         8\n",
       "Skin                            53\n",
       "Small Intestine                  1\n",
       "Soft Tissue                     18\n",
       "Stomach                         28\n",
       "Testis                           3\n",
       "Thyroid                         16\n",
       "Uterus                           3\n",
       "Vulva                            4\n",
       "dtype: int64"
      ]
     },
     "execution_count": 9,
     "metadata": {},
     "output_type": "execute_result"
    }
   ],
   "source": [
    "type_count = protein_sample.groupby(['Tissue_type']).size()\n",
    "selected_types = type_count.index.values\n",
    "# selected_types = type_count[type_count > 20].index.values\n",
    "protein_sample[protein_sample['Tissue_type'].isin(selected_types)].groupby(['Tissue_type']).size()"
   ]
  },
  {
   "cell_type": "code",
   "execution_count": 17,
   "metadata": {
    "ExecuteTime": {
     "end_time": "2020-04-22T08:29:39.804132Z",
     "start_time": "2020-04-22T08:29:39.779760Z"
    }
   },
   "outputs": [
    {
     "data": {
      "text/html": [
       "<div>\n",
       "<style scoped>\n",
       "    .dataframe tbody tr th:only-of-type {\n",
       "        vertical-align: middle;\n",
       "    }\n",
       "\n",
       "    .dataframe tbody tr th {\n",
       "        vertical-align: top;\n",
       "    }\n",
       "\n",
       "    .dataframe thead th {\n",
       "        text-align: right;\n",
       "    }\n",
       "</style>\n",
       "<table border=\"1\" class=\"dataframe\">\n",
       "  <thead>\n",
       "    <tr style=\"text-align: right;\">\n",
       "      <th></th>\n",
       "      <th>Cell_line</th>\n",
       "      <th>1433B_HUMAN</th>\n",
       "      <th>1433E_HUMAN</th>\n",
       "      <th>1433F_HUMAN</th>\n",
       "      <th>1433G_HUMAN</th>\n",
       "      <th>1433S_HUMAN</th>\n",
       "      <th>1433T_HUMAN</th>\n",
       "      <th>1433Z_HUMAN</th>\n",
       "      <th>1A03_HUMAN</th>\n",
       "      <th>2A5E_HUMAN</th>\n",
       "      <th>...</th>\n",
       "      <th>ZN768_HUMAN</th>\n",
       "      <th>ZNT9_HUMAN</th>\n",
       "      <th>ZO1_HUMAN</th>\n",
       "      <th>ZO2_HUMAN</th>\n",
       "      <th>ZPR1_HUMAN</th>\n",
       "      <th>ZRAB2_HUMAN</th>\n",
       "      <th>ZW10_HUMAN</th>\n",
       "      <th>ZYX_HUMAN</th>\n",
       "      <th>Cancer_type</th>\n",
       "      <th>super_type</th>\n",
       "    </tr>\n",
       "  </thead>\n",
       "  <tbody>\n",
       "    <tr>\n",
       "      <th>37</th>\n",
       "      <td>ARH-77</td>\n",
       "      <td>0.660209</td>\n",
       "      <td>0.043053</td>\n",
       "      <td>0.199418</td>\n",
       "      <td>0.452744</td>\n",
       "      <td>-0.439870</td>\n",
       "      <td>-0.067828</td>\n",
       "      <td>0.464885</td>\n",
       "      <td>NaN</td>\n",
       "      <td>0.136659</td>\n",
       "      <td>...</td>\n",
       "      <td>NaN</td>\n",
       "      <td>-1.078215</td>\n",
       "      <td>-0.594837</td>\n",
       "      <td>-0.713008</td>\n",
       "      <td>-0.049305</td>\n",
       "      <td>0.301080</td>\n",
       "      <td>-0.009459</td>\n",
       "      <td>-0.391067</td>\n",
       "      <td>Non-Cancerous</td>\n",
       "      <td>Non-Cancerous</td>\n",
       "    </tr>\n",
       "    <tr>\n",
       "      <th>60</th>\n",
       "      <td>BPH-1</td>\n",
       "      <td>-2.100723</td>\n",
       "      <td>-2.464104</td>\n",
       "      <td>-1.601723</td>\n",
       "      <td>-2.677680</td>\n",
       "      <td>-0.396239</td>\n",
       "      <td>-2.447908</td>\n",
       "      <td>-2.351634</td>\n",
       "      <td>-0.652941</td>\n",
       "      <td>NaN</td>\n",
       "      <td>...</td>\n",
       "      <td>NaN</td>\n",
       "      <td>NaN</td>\n",
       "      <td>-0.869613</td>\n",
       "      <td>-0.306671</td>\n",
       "      <td>NaN</td>\n",
       "      <td>-0.742041</td>\n",
       "      <td>-1.047083</td>\n",
       "      <td>NaN</td>\n",
       "      <td>Non-Cancerous</td>\n",
       "      <td>Non-Cancerous</td>\n",
       "    </tr>\n",
       "    <tr>\n",
       "      <th>312</th>\n",
       "      <td>Hs-445</td>\n",
       "      <td>0.837032</td>\n",
       "      <td>0.692045</td>\n",
       "      <td>1.105064</td>\n",
       "      <td>0.205355</td>\n",
       "      <td>-0.523317</td>\n",
       "      <td>0.139277</td>\n",
       "      <td>0.590428</td>\n",
       "      <td>NaN</td>\n",
       "      <td>0.138526</td>\n",
       "      <td>...</td>\n",
       "      <td>-0.97427</td>\n",
       "      <td>0.434917</td>\n",
       "      <td>-0.539679</td>\n",
       "      <td>-0.610124</td>\n",
       "      <td>-0.269323</td>\n",
       "      <td>0.340105</td>\n",
       "      <td>-0.491039</td>\n",
       "      <td>-0.693175</td>\n",
       "      <td>Non-Cancerous</td>\n",
       "      <td>Non-Cancerous</td>\n",
       "    </tr>\n",
       "    <tr>\n",
       "      <th>332</th>\n",
       "      <td>IM-9</td>\n",
       "      <td>-0.558581</td>\n",
       "      <td>-0.654748</td>\n",
       "      <td>-0.667230</td>\n",
       "      <td>-0.058786</td>\n",
       "      <td>-0.885628</td>\n",
       "      <td>-1.010095</td>\n",
       "      <td>-0.787833</td>\n",
       "      <td>NaN</td>\n",
       "      <td>0.000007</td>\n",
       "      <td>...</td>\n",
       "      <td>NaN</td>\n",
       "      <td>NaN</td>\n",
       "      <td>-1.439088</td>\n",
       "      <td>-1.825412</td>\n",
       "      <td>-0.126959</td>\n",
       "      <td>-0.008493</td>\n",
       "      <td>0.013228</td>\n",
       "      <td>-0.750119</td>\n",
       "      <td>Non-Cancerous</td>\n",
       "      <td>Non-Cancerous</td>\n",
       "    </tr>\n",
       "    <tr>\n",
       "      <th>466</th>\n",
       "      <td>MC-CAR</td>\n",
       "      <td>0.694135</td>\n",
       "      <td>0.143998</td>\n",
       "      <td>0.812153</td>\n",
       "      <td>0.455495</td>\n",
       "      <td>-0.749516</td>\n",
       "      <td>0.289045</td>\n",
       "      <td>0.730099</td>\n",
       "      <td>NaN</td>\n",
       "      <td>0.570707</td>\n",
       "      <td>...</td>\n",
       "      <td>NaN</td>\n",
       "      <td>NaN</td>\n",
       "      <td>0.156297</td>\n",
       "      <td>-1.897779</td>\n",
       "      <td>-0.153325</td>\n",
       "      <td>0.142367</td>\n",
       "      <td>-0.506160</td>\n",
       "      <td>NaN</td>\n",
       "      <td>Non-Cancerous</td>\n",
       "      <td>Non-Cancerous</td>\n",
       "    </tr>\n",
       "    <tr>\n",
       "      <th>747</th>\n",
       "      <td>PWR-1E</td>\n",
       "      <td>1.198796</td>\n",
       "      <td>1.382524</td>\n",
       "      <td>1.156196</td>\n",
       "      <td>0.533611</td>\n",
       "      <td>0.107856</td>\n",
       "      <td>1.178186</td>\n",
       "      <td>1.716622</td>\n",
       "      <td>NaN</td>\n",
       "      <td>NaN</td>\n",
       "      <td>...</td>\n",
       "      <td>NaN</td>\n",
       "      <td>NaN</td>\n",
       "      <td>0.359767</td>\n",
       "      <td>0.761508</td>\n",
       "      <td>-0.487469</td>\n",
       "      <td>0.142059</td>\n",
       "      <td>0.447760</td>\n",
       "      <td>1.578446</td>\n",
       "      <td>Non-Cancerous</td>\n",
       "      <td>Non-Cancerous</td>\n",
       "    </tr>\n",
       "    <tr>\n",
       "      <th>777</th>\n",
       "      <td>RPMI-6666</td>\n",
       "      <td>0.063209</td>\n",
       "      <td>-0.341794</td>\n",
       "      <td>-0.319615</td>\n",
       "      <td>0.084570</td>\n",
       "      <td>-1.648887</td>\n",
       "      <td>-0.474941</td>\n",
       "      <td>-0.286230</td>\n",
       "      <td>1.725357</td>\n",
       "      <td>-0.257602</td>\n",
       "      <td>...</td>\n",
       "      <td>NaN</td>\n",
       "      <td>NaN</td>\n",
       "      <td>0.041868</td>\n",
       "      <td>-0.641296</td>\n",
       "      <td>0.389000</td>\n",
       "      <td>-0.127427</td>\n",
       "      <td>-0.013431</td>\n",
       "      <td>-0.098325</td>\n",
       "      <td>Non-Cancerous</td>\n",
       "      <td>Non-Cancerous</td>\n",
       "    </tr>\n",
       "    <tr>\n",
       "      <th>962</th>\n",
       "      <td>WIL2-NS</td>\n",
       "      <td>0.807711</td>\n",
       "      <td>0.597469</td>\n",
       "      <td>0.713792</td>\n",
       "      <td>0.293051</td>\n",
       "      <td>-0.778489</td>\n",
       "      <td>0.298858</td>\n",
       "      <td>-0.097781</td>\n",
       "      <td>NaN</td>\n",
       "      <td>0.358525</td>\n",
       "      <td>...</td>\n",
       "      <td>NaN</td>\n",
       "      <td>NaN</td>\n",
       "      <td>NaN</td>\n",
       "      <td>-0.691702</td>\n",
       "      <td>-0.230527</td>\n",
       "      <td>0.005078</td>\n",
       "      <td>-0.341519</td>\n",
       "      <td>-0.041184</td>\n",
       "      <td>Non-Cancerous</td>\n",
       "      <td>Non-Cancerous</td>\n",
       "    </tr>\n",
       "  </tbody>\n",
       "</table>\n",
       "<p>8 rows × 3434 columns</p>\n",
       "</div>"
      ],
      "text/plain": [
       "     Cell_line  1433B_HUMAN  1433E_HUMAN  1433F_HUMAN  1433G_HUMAN  \\\n",
       "37      ARH-77     0.660209     0.043053     0.199418     0.452744   \n",
       "60       BPH-1    -2.100723    -2.464104    -1.601723    -2.677680   \n",
       "312     Hs-445     0.837032     0.692045     1.105064     0.205355   \n",
       "332       IM-9    -0.558581    -0.654748    -0.667230    -0.058786   \n",
       "466     MC-CAR     0.694135     0.143998     0.812153     0.455495   \n",
       "747     PWR-1E     1.198796     1.382524     1.156196     0.533611   \n",
       "777  RPMI-6666     0.063209    -0.341794    -0.319615     0.084570   \n",
       "962    WIL2-NS     0.807711     0.597469     0.713792     0.293051   \n",
       "\n",
       "     1433S_HUMAN  1433T_HUMAN  1433Z_HUMAN  1A03_HUMAN  2A5E_HUMAN  ...  \\\n",
       "37     -0.439870    -0.067828     0.464885         NaN    0.136659  ...   \n",
       "60     -0.396239    -2.447908    -2.351634   -0.652941         NaN  ...   \n",
       "312    -0.523317     0.139277     0.590428         NaN    0.138526  ...   \n",
       "332    -0.885628    -1.010095    -0.787833         NaN    0.000007  ...   \n",
       "466    -0.749516     0.289045     0.730099         NaN    0.570707  ...   \n",
       "747     0.107856     1.178186     1.716622         NaN         NaN  ...   \n",
       "777    -1.648887    -0.474941    -0.286230    1.725357   -0.257602  ...   \n",
       "962    -0.778489     0.298858    -0.097781         NaN    0.358525  ...   \n",
       "\n",
       "     ZN768_HUMAN  ZNT9_HUMAN  ZO1_HUMAN  ZO2_HUMAN  ZPR1_HUMAN  ZRAB2_HUMAN  \\\n",
       "37           NaN   -1.078215  -0.594837  -0.713008   -0.049305     0.301080   \n",
       "60           NaN         NaN  -0.869613  -0.306671         NaN    -0.742041   \n",
       "312     -0.97427    0.434917  -0.539679  -0.610124   -0.269323     0.340105   \n",
       "332          NaN         NaN  -1.439088  -1.825412   -0.126959    -0.008493   \n",
       "466          NaN         NaN   0.156297  -1.897779   -0.153325     0.142367   \n",
       "747          NaN         NaN   0.359767   0.761508   -0.487469     0.142059   \n",
       "777          NaN         NaN   0.041868  -0.641296    0.389000    -0.127427   \n",
       "962          NaN         NaN        NaN  -0.691702   -0.230527     0.005078   \n",
       "\n",
       "     ZW10_HUMAN  ZYX_HUMAN    Cancer_type     super_type  \n",
       "37    -0.009459  -0.391067  Non-Cancerous  Non-Cancerous  \n",
       "60    -1.047083        NaN  Non-Cancerous  Non-Cancerous  \n",
       "312   -0.491039  -0.693175  Non-Cancerous  Non-Cancerous  \n",
       "332    0.013228  -0.750119  Non-Cancerous  Non-Cancerous  \n",
       "466   -0.506160        NaN  Non-Cancerous  Non-Cancerous  \n",
       "747    0.447760   1.578446  Non-Cancerous  Non-Cancerous  \n",
       "777   -0.013431  -0.098325  Non-Cancerous  Non-Cancerous  \n",
       "962   -0.341519  -0.041184  Non-Cancerous  Non-Cancerous  \n",
       "\n",
       "[8 rows x 3434 columns]"
      ]
     },
     "execution_count": 17,
     "metadata": {},
     "output_type": "execute_result"
    }
   ],
   "source": [
    "protein_sample[protein_sample['Cancer_type'] == 'Non-Cancerous']"
   ]
  },
  {
   "cell_type": "code",
   "execution_count": 51,
   "metadata": {
    "ExecuteTime": {
     "end_time": "2020-04-23T13:18:09.846050Z",
     "start_time": "2020-04-23T13:18:05.434559Z"
    }
   },
   "outputs": [],
   "source": [
    "protein_sample.to_csv(\"../data/cancer_type/cancer_tissue_type_protein.tsv\", sep='\\t', index=False)"
   ]
  },
  {
   "cell_type": "markdown",
   "metadata": {},
   "source": [
    "### RNA"
   ]
  },
  {
   "cell_type": "code",
   "execution_count": 77,
   "metadata": {
    "ExecuteTime": {
     "end_time": "2020-04-28T12:14:18.108074Z",
     "start_time": "2020-04-28T12:14:14.720634Z"
    }
   },
   "outputs": [],
   "source": [
    "data_raw = pd.read_csv('../data/rna/rnaseq_voom.csv', index_col=0).T\n",
    "data_raw.index.name = 'SIDM'\n",
    "data_raw = data_raw.reset_index()\n",
    "rna_sample = pd.merge(data_raw, meta[['SIDM', 'Cell_line']].drop_duplicates()).drop(['SIDM'],\n",
    "                                                                                         axis=1)\n",
    "meta = pd.read_csv(\"../data/E0022_P06_final_sample_map_no_control.txt\",sep='\\t')\n",
    "\n",
    "cancer_type_map = meta[[\n",
    "    'Cell_line', 'Cancer_type', 'Tissue_type'\n",
    "]].drop_duplicates().set_index('Cell_line').to_dict()['Cancer_type']\n",
    "tissue_type_map = meta[[\n",
    "    'Cell_line', 'Cancer_type', 'Tissue_type'\n",
    "]].drop_duplicates().set_index('Cell_line').to_dict()['Tissue_type']\n",
    "\n",
    "rna_sample['Cancer_type'] = rna_sample['Cell_line'].map(cancer_type_map)\n",
    "rna_sample['Tissue_type'] = rna_sample['Cell_line'].map(tissue_type_map)"
   ]
  },
  {
   "cell_type": "code",
   "execution_count": 83,
   "metadata": {
    "ExecuteTime": {
     "end_time": "2020-04-28T12:42:39.823446Z",
     "start_time": "2020-04-28T12:42:39.737362Z"
    }
   },
   "outputs": [],
   "source": [
    "rna_sample = rna_sample.sort_values(by='Cell_line')"
   ]
  },
  {
   "cell_type": "code",
   "execution_count": 80,
   "metadata": {
    "ExecuteTime": {
     "end_time": "2020-04-28T12:15:33.921009Z",
     "start_time": "2020-04-28T12:15:13.426350Z"
    }
   },
   "outputs": [],
   "source": [
    "rna_sample.to_csv(\"../data/cancer_type/cancer_tissue_type_rna.tsv\", sep='\\t', index=False)"
   ]
  },
  {
   "cell_type": "markdown",
   "metadata": {},
   "source": [
    "## rep level"
   ]
  },
  {
   "cell_type": "code",
   "execution_count": 52,
   "metadata": {
    "ExecuteTime": {
     "end_time": "2020-04-23T13:20:42.610390Z",
     "start_time": "2020-04-23T13:20:35.977251Z"
    }
   },
   "outputs": [],
   "source": [
    "protein_sample = pd.read_csv(\"../data/protein/E0022_P06_Protein_Matrix_Replicate_ProNorM_TR.tsv.gz\",sep='\\t')"
   ]
  },
  {
   "cell_type": "code",
   "execution_count": 53,
   "metadata": {
    "ExecuteTime": {
     "end_time": "2020-04-23T13:20:55.000746Z",
     "start_time": "2020-04-23T13:20:54.987122Z"
    }
   },
   "outputs": [],
   "source": [
    "cancer_type_map = meta[[\n",
    "    'Cell_line', 'Cancer_type', 'Tissue_type'\n",
    "]].drop_duplicates().set_index('Cell_line').to_dict()['Cancer_type']\n",
    "tissue_type_map = meta[[\n",
    "    'Cell_line', 'Cancer_type', 'Tissue_type'\n",
    "]].drop_duplicates().set_index('Cell_line').to_dict()['Tissue_type']"
   ]
  },
  {
   "cell_type": "code",
   "execution_count": 54,
   "metadata": {
    "ExecuteTime": {
     "end_time": "2020-04-23T13:20:55.827012Z",
     "start_time": "2020-04-23T13:20:55.818407Z"
    }
   },
   "outputs": [],
   "source": [
    "protein_sample['Cancer_type'] = protein_sample['Cell_line'].map(cancer_type_map)\n",
    "protein_sample['Tissue_type'] = protein_sample['Cell_line'].map(tissue_type_map)"
   ]
  },
  {
   "cell_type": "code",
   "execution_count": 56,
   "metadata": {
    "ExecuteTime": {
     "end_time": "2020-04-23T13:21:03.104909Z",
     "start_time": "2020-04-23T13:21:03.098653Z"
    }
   },
   "outputs": [
    {
     "data": {
      "text/plain": [
       "Tissue_type\n",
       "Adrenal Gland                     6\n",
       "Biliary Tract                    32\n",
       "Bladder                         117\n",
       "Bone                            255\n",
       "Breast                          319\n",
       "Central Nervous System          352\n",
       "Cervix                           86\n",
       "Endometrium                      68\n",
       "Esophagus                       224\n",
       "Haematopoietic and Lymphoid    1052\n",
       "Head and Neck                   246\n",
       "Kidney                          208\n",
       "Large Intestine                 309\n",
       "Liver                           104\n",
       "Lung                           1197\n",
       "Ovary                           248\n",
       "Pancreas                        192\n",
       "Peripheral Nervous System       188\n",
       "Placenta                         14\n",
       "Prostate                         49\n",
       "Skin                            323\n",
       "Small Intestine                   6\n",
       "Soft Tissue                     114\n",
       "Stomach                         178\n",
       "Testis                           22\n",
       "Thyroid                          97\n",
       "Uterus                           18\n",
       "Vulva                            22\n",
       "dtype: int64"
      ]
     },
     "execution_count": 56,
     "metadata": {},
     "output_type": "execute_result"
    }
   ],
   "source": [
    "protein_sample.groupby(['Tissue_type']).size()"
   ]
  },
  {
   "cell_type": "code",
   "execution_count": 57,
   "metadata": {
    "ExecuteTime": {
     "end_time": "2020-04-23T13:21:36.496553Z",
     "start_time": "2020-04-23T13:21:11.282350Z"
    }
   },
   "outputs": [],
   "source": [
    "protein_sample.to_csv(\"../data/cancer_type/cancer_tissue_type_protein_rep.tsv\", sep='\\t', index=False)"
   ]
  },
  {
   "cell_type": "code",
   "execution_count": null,
   "metadata": {},
   "outputs": [],
   "source": [
    "#"
   ]
  },
  {
   "cell_type": "markdown",
   "metadata": {},
   "source": [
    "# combine ToppGene"
   ]
  },
  {
   "cell_type": "code",
   "execution_count": 38,
   "metadata": {
    "ExecuteTime": {
     "end_time": "2020-04-28T07:34:19.987616Z",
     "start_time": "2020-04-28T07:32:49.733223Z"
    }
   },
   "outputs": [],
   "source": [
    "writer = pd.ExcelWriter('../data/toppgene/all_GO.xlsx', engine='xlsxwriter')\n",
    "for fp in glob.glob(\"../data/toppgene/*tsv\"):\n",
    "    tissue = fp.replace(\"../data/toppgene/\", \"\").replace(\".tsv\", \"\")\n",
    "    df = pd.read_csv(fp, sep='\\t', encoding='unicode_escape')\n",
    "    df.to_excel(writer, sheet_name=tissue, index=False)\n",
    "writer.save()"
   ]
  },
  {
   "cell_type": "code",
   "execution_count": 37,
   "metadata": {
    "ExecuteTime": {
     "end_time": "2020-04-28T07:31:26.378339Z",
     "start_time": "2020-04-28T07:30:51.006072Z"
    }
   },
   "outputs": [],
   "source": []
  },
  {
   "cell_type": "markdown",
   "metadata": {},
   "source": [
    "# merge drug type"
   ]
  },
  {
   "cell_type": "code",
   "execution_count": 17,
   "metadata": {
    "ExecuteTime": {
     "end_time": "2020-05-04T10:59:15.062552Z",
     "start_time": "2020-05-04T10:59:15.051234Z"
    }
   },
   "outputs": [],
   "source": [
    "drug_type = pd.read_csv(\"../data/drug/Dataset_EV2.csv\")\n",
    "drug_meta = pd.read_csv(\"../data/drug/202004092336_drug_scores.tsv\", sep='\\t')"
   ]
  },
  {
   "cell_type": "code",
   "execution_count": 19,
   "metadata": {
    "ExecuteTime": {
     "end_time": "2020-05-04T10:59:35.256700Z",
     "start_time": "2020-05-04T10:59:35.251901Z"
    }
   },
   "outputs": [],
   "source": [
    "drug_type_map = drug_type.set_index(['Drug ID']).to_dict()['Drug Type']"
   ]
  },
  {
   "cell_type": "code",
   "execution_count": 20,
   "metadata": {
    "ExecuteTime": {
     "end_time": "2020-05-04T10:59:46.048173Z",
     "start_time": "2020-05-04T10:59:46.043571Z"
    }
   },
   "outputs": [],
   "source": [
    "drug_meta['Drug_Type'] = drug_meta['Drug Id'].map(drug_type_map)"
   ]
  },
  {
   "cell_type": "code",
   "execution_count": 21,
   "metadata": {
    "ExecuteTime": {
     "end_time": "2020-05-04T11:01:04.827412Z",
     "start_time": "2020-05-04T11:01:04.816563Z"
    }
   },
   "outputs": [],
   "source": [
    "drug_meta.to_csv(\"../data/drug/202004092336_drug_scores.tsv\", index=False, sep='\\t')"
   ]
  },
  {
   "cell_type": "markdown",
   "metadata": {},
   "source": [
    "# FDA approval"
   ]
  },
  {
   "cell_type": "code",
   "execution_count": 18,
   "metadata": {
    "ExecuteTime": {
     "end_time": "2020-05-14T10:31:50.701888Z",
     "start_time": "2020-05-14T10:31:50.693923Z"
    }
   },
   "outputs": [],
   "source": [
    "drug_meta = pd.read_csv(\"../data/drug/screened_compunds_rel_8.2.csv\")\n",
    "fda_approval = [x.lower() for x in pd.read_csv(\"../data/drug/FDA_approved.csv\")['DRUG_NAME'].values]"
   ]
  },
  {
   "cell_type": "code",
   "execution_count": 27,
   "metadata": {
    "ExecuteTime": {
     "end_time": "2020-05-14T10:34:56.330815Z",
     "start_time": "2020-05-14T10:34:56.328160Z"
    }
   },
   "outputs": [],
   "source": [
    "drug_meta['FDA_Approved'] = 'Yes'"
   ]
  },
  {
   "cell_type": "code",
   "execution_count": 35,
   "metadata": {
    "ExecuteTime": {
     "end_time": "2020-05-14T10:36:43.819557Z",
     "start_time": "2020-05-14T10:36:43.567234Z"
    }
   },
   "outputs": [],
   "source": [
    "for index, row in drug_meta.iterrows():\n",
    "    drug_names = [row['DRUG_NAME'].lower()]\n",
    "    if not pd.isna(row['SYNONYMS']):\n",
    "        drug_names.extend([x.strip().lower() for x in row['SYNONYMS'].split(',')])\n",
    "    fda_approved = False\n",
    "    for name in drug_names:\n",
    "        for fda_name in fda_approval:\n",
    "            if name in fda_name:\n",
    "                fda_approved = True\n",
    "                break\n",
    "    if fda_approved:\n",
    "        drug_meta.loc[index, 'FDA_Approved'] = 'Yes'\n",
    "    else:\n",
    "        drug_meta.loc[index, 'FDA_Approved'] = 'NotConfirmed'"
   ]
  },
  {
   "cell_type": "code",
   "execution_count": 36,
   "metadata": {
    "ExecuteTime": {
     "end_time": "2020-05-14T10:36:43.947912Z",
     "start_time": "2020-05-14T10:36:43.943009Z"
    }
   },
   "outputs": [
    {
     "data": {
      "text/plain": [
       "FDA_Approved\n",
       "NotConfirmed    420\n",
       "Yes              98\n",
       "dtype: int64"
      ]
     },
     "execution_count": 36,
     "metadata": {},
     "output_type": "execute_result"
    }
   ],
   "source": [
    "drug_meta.groupby(['FDA_Approved']).size()"
   ]
  },
  {
   "cell_type": "code",
   "execution_count": 38,
   "metadata": {
    "ExecuteTime": {
     "end_time": "2020-05-14T10:37:56.446997Z",
     "start_time": "2020-05-14T10:37:56.441191Z"
    }
   },
   "outputs": [],
   "source": [
    "drug_meta.to_csv(\"../data/drug/screened_compunds_rel_8.2.csv\", index=False)\n"
   ]
  },
  {
   "cell_type": "markdown",
   "metadata": {},
   "source": [
    "# CRISPR"
   ]
  },
  {
   "cell_type": "code",
   "execution_count": 67,
   "metadata": {
    "ExecuteTime": {
     "end_time": "2020-05-29T01:42:51.274311Z",
     "start_time": "2020-05-29T01:42:51.166487Z"
    }
   },
   "outputs": [],
   "source": [
    "meta = pd.read_csv(\"../data/E0022_P06_final_sample_map_no_control.txt\", sep='\\t')\n",
    "\n",
    "cell_line_name_map = meta[['SIDM','Cell_line']].drop_duplicates().set_index('SIDM').to_dict()['Cell_line']\n",
    "cell_line_name_map_broad = meta[[\n",
    "    'BROAD_ID', 'Cell_line'\n",
    "]].drop_duplicates().set_index('BROAD_ID').to_dict()['Cell_line']"
   ]
  },
  {
   "cell_type": "code",
   "execution_count": 68,
   "metadata": {
    "ExecuteTime": {
     "end_time": "2020-05-29T01:42:52.171878Z",
     "start_time": "2020-05-29T01:42:52.130274Z"
    }
   },
   "outputs": [],
   "source": [
    "cell_line_name_map.update(cell_line_name_map_broad)\n",
    "\n",
    "crispr = pd.read_csv(\"../data/crispr/CRISPRcleanR_FC_SIDM.csv\", index_col=0)\n",
    "\n",
    "col_mapped = [x for x in crispr.columns if x in cell_line_name_map]\n",
    "\n",
    "crispr = crispr[col_mapped]\n",
    "\n",
    "crispr.columns = [cell_line_name_map[x] for x in col_mapped]\n",
    "\n",
    "crispr.index.name = 'Gene'\n",
    "\n",
    "crispr = crispr.reset_index()\n",
    "\n",
    "crispr.to_csv(\"../data/crispr/final_crispr.csv\", index=False)"
   ]
  },
  {
   "cell_type": "code",
   "execution_count": null,
   "metadata": {},
   "outputs": [],
   "source": [
    "crispr.to_csv(\"../data/crispr/final_crispr.csv\", index=False)"
   ]
  },
  {
   "cell_type": "code",
   "execution_count": 40,
   "metadata": {
    "ExecuteTime": {
     "end_time": "2020-05-26T10:25:18.873269Z",
     "start_time": "2020-05-26T10:25:18.040894Z"
    }
   },
   "outputs": [],
   "source": [
    "crispr_melt = crispr.melt(id_vars='Gene', var_name='Cell line name', value_name='logFC')"
   ]
  },
  {
   "cell_type": "code",
   "execution_count": 41,
   "metadata": {
    "ExecuteTime": {
     "end_time": "2020-05-26T10:25:23.853011Z",
     "start_time": "2020-05-26T10:25:22.819145Z"
    }
   },
   "outputs": [],
   "source": [
    "crispr_melt['Cell line name'] = crispr_melt['Cell line name'].map(cell_line_name_map)"
   ]
  },
  {
   "cell_type": "code",
   "execution_count": 43,
   "metadata": {
    "ExecuteTime": {
     "end_time": "2020-05-26T10:27:58.104707Z",
     "start_time": "2020-05-26T10:27:33.975527Z"
    }
   },
   "outputs": [],
   "source": [
    "crispr_melt.to_csv(\"../data/crispr/final_crispr_long.csv\", index=False)"
   ]
  },
  {
   "cell_type": "markdown",
   "metadata": {},
   "source": [
    "## MOFA factor"
   ]
  },
  {
   "cell_type": "code",
   "execution_count": 76,
   "metadata": {
    "ExecuteTime": {
     "end_time": "2020-05-29T01:44:57.755928Z",
     "start_time": "2020-05-29T01:44:57.716033Z"
    }
   },
   "outputs": [],
   "source": [
    "meta = pd.read_csv(\"../data/E0022_P06_final_sample_map_no_control.txt\", sep='\\t')\n",
    "\n",
    "cell_line_name_map = meta[['SIDM','Cell_line']].drop_duplicates().set_index('SIDM').to_dict()['Cell_line']\n",
    "cell_line_name_map_broad = meta[[\n",
    "    'BROAD_ID', 'Cell_line'\n",
    "]].drop_duplicates().set_index('BROAD_ID').to_dict()['Cell_line']\n",
    "cell_line_name_map.update(cell_line_name_map_broad)\n"
   ]
  },
  {
   "cell_type": "code",
   "execution_count": 74,
   "metadata": {
    "ExecuteTime": {
     "end_time": "2020-05-29T01:44:39.601152Z",
     "start_time": "2020-05-29T01:44:39.582000Z"
    }
   },
   "outputs": [],
   "source": [
    "mofa_factors = pd.read_csv(\"../data/crispr/MultiOmics_Sanger&CMRI_factors_largek.csv\", index_col=0)"
   ]
  },
  {
   "cell_type": "code",
   "execution_count": 78,
   "metadata": {
    "ExecuteTime": {
     "end_time": "2020-05-29T01:45:14.540948Z",
     "start_time": "2020-05-29T01:45:14.536074Z"
    }
   },
   "outputs": [],
   "source": [
    "mofa_factors.index = mofa_factors.index.map(cell_line_name_map)"
   ]
  },
  {
   "cell_type": "code",
   "execution_count": 80,
   "metadata": {
    "ExecuteTime": {
     "end_time": "2020-05-29T01:45:38.073570Z",
     "start_time": "2020-05-29T01:45:38.070320Z"
    }
   },
   "outputs": [],
   "source": [
    "mofa_factors.index.name = 'Cell_line'\n",
    "mofa_factors = mofa_factors.reset_index()"
   ]
  },
  {
   "cell_type": "code",
   "execution_count": 83,
   "metadata": {
    "ExecuteTime": {
     "end_time": "2020-05-29T01:55:09.565087Z",
     "start_time": "2020-05-29T01:55:09.458293Z"
    }
   },
   "outputs": [],
   "source": [
    "mofa_factors.to_csv(\"../data/crispr/mofa_largek_processed.tsv\", index=False, sep='\\t')"
   ]
  },
  {
   "cell_type": "markdown",
   "metadata": {},
   "source": [
    "# new drug"
   ]
  },
  {
   "cell_type": "code",
   "execution_count": 5,
   "metadata": {
    "ExecuteTime": {
     "end_time": "2020-06-04T16:07:58.792607Z",
     "start_time": "2020-06-04T16:07:58.762665Z"
    }
   },
   "outputs": [],
   "source": [
    "meta = pd.read_csv(\"../data/E0022_P06_final_sample_map_no_control.txt\", sep='\\t')"
   ]
  },
  {
   "cell_type": "code",
   "execution_count": 33,
   "metadata": {
    "ExecuteTime": {
     "end_time": "2020-06-05T03:02:43.439807Z",
     "start_time": "2020-06-05T03:02:38.955146Z"
    }
   },
   "outputs": [],
   "source": [
    "ic50 = pd.read_csv(\"../data/drug/DrugResponse_PANCANCER_GDSC1_GDSC2_20200605.csv.gz\", low_memory=False)"
   ]
  },
  {
   "cell_type": "code",
   "execution_count": 35,
   "metadata": {
    "ExecuteTime": {
     "end_time": "2020-06-05T03:03:10.119295Z",
     "start_time": "2020-06-05T03:03:08.903398Z"
    }
   },
   "outputs": [],
   "source": [
    "ic50 = ic50.sort_values(by=['dataset']).reset_index(drop=True)\n",
    "ic50 = ic50.drop_duplicates(\n",
    "    ['drug_id', 'cell_line_name'], keep='last').sort_values(\n",
    "        by=['drug_id', 'cell_line_name']).reset_index(drop=True)\n",
    "ic50 = ic50[ic50['cell_line_name'].isin(meta['Cell_line'].unique())]"
   ]
  },
  {
   "cell_type": "code",
   "execution_count": 37,
   "metadata": {
    "ExecuteTime": {
     "end_time": "2020-06-05T03:03:15.247649Z",
     "start_time": "2020-06-05T03:03:15.223243Z"
    }
   },
   "outputs": [],
   "source": [
    "ic50['IC50_raw'] = np.exp(ic50['ln_IC50'])\n",
    "\n",
    "ic50['IC50_norm_raw'] = ic50['IC50_raw'] / ic50['max_screening_conc']\n",
    "\n",
    "ic50['IC50_norm'] = np.log(ic50['IC50_norm_raw'])\n",
    "\n",
    "ic50['sensitive'] = (ic50['IC50_raw'] < ic50['max_screening_conc']).astype(int)\n",
    "\n",
    "ic50['IC50_norm_scaled'] = MinMaxScaler().fit_transform(ic50['IC50_norm'].values.reshape(-1,1))"
   ]
  },
  {
   "cell_type": "code",
   "execution_count": 21,
   "metadata": {
    "ExecuteTime": {
     "end_time": "2020-06-04T16:11:16.776318Z",
     "start_time": "2020-06-04T16:11:16.745926Z"
    }
   },
   "outputs": [
    {
     "data": {
      "text/html": [
       "<div>\n",
       "<style scoped>\n",
       "    .dataframe tbody tr th:only-of-type {\n",
       "        vertical-align: middle;\n",
       "    }\n",
       "\n",
       "    .dataframe tbody tr th {\n",
       "        vertical-align: top;\n",
       "    }\n",
       "\n",
       "    .dataframe thead th {\n",
       "        text-align: right;\n",
       "    }\n",
       "</style>\n",
       "<table border=\"1\" class=\"dataframe\">\n",
       "  <thead>\n",
       "    <tr style=\"text-align: right;\">\n",
       "      <th></th>\n",
       "      <th>num_replicates</th>\n",
       "      <th>RMSE</th>\n",
       "      <th>drug_id</th>\n",
       "      <th>sample_treatment</th>\n",
       "      <th>putative_target</th>\n",
       "      <th>model_treatment</th>\n",
       "      <th>model_name</th>\n",
       "      <th>msi_status</th>\n",
       "      <th>CHEMBL</th>\n",
       "      <th>cell_line_name</th>\n",
       "      <th>model_synonyms</th>\n",
       "      <th>cancer_type_detail</th>\n",
       "      <th>drug_name</th>\n",
       "      <th>putative_gene_target</th>\n",
       "      <th>use_in_publications</th>\n",
       "      <th>model_type</th>\n",
       "      <th>drug_synonyms</th>\n",
       "      <th>RRID</th>\n",
       "      <th>dataset</th>\n",
       "      <th>ln_IC50</th>\n",
       "      <th>model_id</th>\n",
       "      <th>drug_owner</th>\n",
       "      <th>BROAD_ID</th>\n",
       "      <th>master_cell_id</th>\n",
       "      <th>sample_treatment_details</th>\n",
       "      <th>max_screening_conc</th>\n",
       "      <th>cancer_type</th>\n",
       "      <th>target_pathway</th>\n",
       "      <th>tissue</th>\n",
       "      <th>sample_site</th>\n",
       "      <th>growth_properties</th>\n",
       "      <th>webrelease</th>\n",
       "      <th>COSMIC_ID</th>\n",
       "      <th>AUC</th>\n",
       "      <th>PUBCHEM</th>\n",
       "      <th>IC50_raw</th>\n",
       "      <th>IC50_norm_raw</th>\n",
       "      <th>IC50_norm</th>\n",
       "      <th>sensitive</th>\n",
       "      <th>IC50_norm_scaled</th>\n",
       "    </tr>\n",
       "  </thead>\n",
       "  <tbody>\n",
       "    <tr>\n",
       "      <th>0</th>\n",
       "      <td>1.0</td>\n",
       "      <td>0.049765</td>\n",
       "      <td>1</td>\n",
       "      <td>Unknown</td>\n",
       "      <td>EGFR</td>\n",
       "      <td>NaN</td>\n",
       "      <td>697</td>\n",
       "      <td>MSS</td>\n",
       "      <td>CHEMBL553</td>\n",
       "      <td>697</td>\n",
       "      <td>Line 697;EU-3</td>\n",
       "      <td>B Acute Lymphoblastic Leukemia</td>\n",
       "      <td>Erlotinib</td>\n",
       "      <td>EGFR</td>\n",
       "      <td>Y</td>\n",
       "      <td>Cell Line</td>\n",
       "      <td>Tarceva, RG-1415, CP-358774, OSI-774, Ro-50823...</td>\n",
       "      <td>CVCL_0079</td>\n",
       "      <td>GDSC1</td>\n",
       "      <td>0.742910</td>\n",
       "      <td>SIDM01076</td>\n",
       "      <td>MGH</td>\n",
       "      <td>ACH-000070</td>\n",
       "      <td>63</td>\n",
       "      <td>NaN</td>\n",
       "      <td>2.0</td>\n",
       "      <td>B-Lymphoblastic Leukemia</td>\n",
       "      <td>EGFR signaling</td>\n",
       "      <td>Haematopoietic and Lymphoid</td>\n",
       "      <td>Bone marrow</td>\n",
       "      <td>Suspension</td>\n",
       "      <td>Y</td>\n",
       "      <td>906800</td>\n",
       "      <td>0.913203</td>\n",
       "      <td>176870</td>\n",
       "      <td>2.102044</td>\n",
       "      <td>1.051022</td>\n",
       "      <td>0.049763</td>\n",
       "      <td>0</td>\n",
       "      <td>0.614742</td>\n",
       "    </tr>\n",
       "    <tr>\n",
       "      <th>1</th>\n",
       "      <td>1.0</td>\n",
       "      <td>0.041886</td>\n",
       "      <td>1</td>\n",
       "      <td>None</td>\n",
       "      <td>EGFR</td>\n",
       "      <td>NaN</td>\n",
       "      <td>8-MG-BA</td>\n",
       "      <td>MSS</td>\n",
       "      <td>CHEMBL553</td>\n",
       "      <td>8-MG-BA</td>\n",
       "      <td>NaN</td>\n",
       "      <td>Glioblastoma</td>\n",
       "      <td>Erlotinib</td>\n",
       "      <td>EGFR</td>\n",
       "      <td>Y</td>\n",
       "      <td>Cell Line</td>\n",
       "      <td>Tarceva, RG-1415, CP-358774, OSI-774, Ro-50823...</td>\n",
       "      <td>CVCL_1052</td>\n",
       "      <td>GDSC1</td>\n",
       "      <td>2.494777</td>\n",
       "      <td>SIDM00998</td>\n",
       "      <td>MGH</td>\n",
       "      <td>ACH-000137</td>\n",
       "      <td>1207</td>\n",
       "      <td>NaN</td>\n",
       "      <td>2.0</td>\n",
       "      <td>Glioblastoma</td>\n",
       "      <td>EGFR signaling</td>\n",
       "      <td>Central Nervous System</td>\n",
       "      <td>Frontal Brain lobe</td>\n",
       "      <td>Adherent</td>\n",
       "      <td>Y</td>\n",
       "      <td>687562</td>\n",
       "      <td>0.980211</td>\n",
       "      <td>176870</td>\n",
       "      <td>12.119031</td>\n",
       "      <td>6.059515</td>\n",
       "      <td>1.801630</td>\n",
       "      <td>0</td>\n",
       "      <td>0.719434</td>\n",
       "    </tr>\n",
       "    <tr>\n",
       "      <th>3</th>\n",
       "      <td>2.0</td>\n",
       "      <td>0.135201</td>\n",
       "      <td>1</td>\n",
       "      <td>Unknown</td>\n",
       "      <td>EGFR</td>\n",
       "      <td>NaN</td>\n",
       "      <td>A253</td>\n",
       "      <td>MSS</td>\n",
       "      <td>CHEMBL553</td>\n",
       "      <td>A253</td>\n",
       "      <td>NaN</td>\n",
       "      <td>Salivary Gland Squamous Cell Carcinoma</td>\n",
       "      <td>Erlotinib</td>\n",
       "      <td>EGFR</td>\n",
       "      <td>Y</td>\n",
       "      <td>Cell Line</td>\n",
       "      <td>Tarceva, RG-1415, CP-358774, OSI-774, Ro-50823...</td>\n",
       "      <td>CVCL_1060</td>\n",
       "      <td>GDSC1</td>\n",
       "      <td>0.164247</td>\n",
       "      <td>SIDM00796</td>\n",
       "      <td>MGH</td>\n",
       "      <td>ACH-000740</td>\n",
       "      <td>2089</td>\n",
       "      <td>NaN</td>\n",
       "      <td>2.0</td>\n",
       "      <td>Head and Neck Carcinoma</td>\n",
       "      <td>EGFR signaling</td>\n",
       "      <td>Head and Neck</td>\n",
       "      <td>Submaxillary salivary gland</td>\n",
       "      <td>Adherent</td>\n",
       "      <td>Y</td>\n",
       "      <td>906794</td>\n",
       "      <td>0.817106</td>\n",
       "      <td>176870</td>\n",
       "      <td>1.178506</td>\n",
       "      <td>0.589253</td>\n",
       "      <td>-0.528900</td>\n",
       "      <td>1</td>\n",
       "      <td>0.580161</td>\n",
       "    </tr>\n",
       "    <tr>\n",
       "      <th>4</th>\n",
       "      <td>1.0</td>\n",
       "      <td>0.053414</td>\n",
       "      <td>1</td>\n",
       "      <td>Unknown</td>\n",
       "      <td>EGFR</td>\n",
       "      <td>NaN</td>\n",
       "      <td>A3-KAW</td>\n",
       "      <td>MSS</td>\n",
       "      <td>CHEMBL553</td>\n",
       "      <td>A3-KAW</td>\n",
       "      <td>A3/Kawakami</td>\n",
       "      <td>Diffuse Large B-Cell Lymphoma</td>\n",
       "      <td>Erlotinib</td>\n",
       "      <td>EGFR</td>\n",
       "      <td>Y</td>\n",
       "      <td>Cell Line</td>\n",
       "      <td>Tarceva, RG-1415, CP-358774, OSI-774, Ro-50823...</td>\n",
       "      <td>CVCL_1062</td>\n",
       "      <td>GDSC1</td>\n",
       "      <td>1.110712</td>\n",
       "      <td>SIDM00495</td>\n",
       "      <td>MGH</td>\n",
       "      <td>ACH-000697</td>\n",
       "      <td>1511</td>\n",
       "      <td>NaN</td>\n",
       "      <td>2.0</td>\n",
       "      <td>B-Cell Non-Hodgkin's Lymphoma</td>\n",
       "      <td>EGFR signaling</td>\n",
       "      <td>Haematopoietic and Lymphoid</td>\n",
       "      <td>Ascites</td>\n",
       "      <td>Suspension</td>\n",
       "      <td>Y</td>\n",
       "      <td>910935</td>\n",
       "      <td>0.950440</td>\n",
       "      <td>176870</td>\n",
       "      <td>3.036521</td>\n",
       "      <td>1.518260</td>\n",
       "      <td>0.417565</td>\n",
       "      <td>0</td>\n",
       "      <td>0.636722</td>\n",
       "    </tr>\n",
       "    <tr>\n",
       "      <th>5</th>\n",
       "      <td>1.0</td>\n",
       "      <td>0.130232</td>\n",
       "      <td>1</td>\n",
       "      <td>Unknown</td>\n",
       "      <td>EGFR</td>\n",
       "      <td>NaN</td>\n",
       "      <td>A388</td>\n",
       "      <td>MSS</td>\n",
       "      <td>CHEMBL553</td>\n",
       "      <td>A388</td>\n",
       "      <td>NaN</td>\n",
       "      <td>Squamous Cell Carcinoma</td>\n",
       "      <td>Erlotinib</td>\n",
       "      <td>EGFR</td>\n",
       "      <td>Y</td>\n",
       "      <td>Cell Line</td>\n",
       "      <td>Tarceva, RG-1415, CP-358774, OSI-774, Ro-50823...</td>\n",
       "      <td>CVCL_1063</td>\n",
       "      <td>GDSC1</td>\n",
       "      <td>-0.080422</td>\n",
       "      <td>SIDM00794</td>\n",
       "      <td>MGH</td>\n",
       "      <td>ACH-001442</td>\n",
       "      <td>948</td>\n",
       "      <td>NaN</td>\n",
       "      <td>2.0</td>\n",
       "      <td>Other Solid Carcinomas</td>\n",
       "      <td>EGFR signaling</td>\n",
       "      <td>Skin</td>\n",
       "      <td>Lymph node</td>\n",
       "      <td>Adherent</td>\n",
       "      <td>Y</td>\n",
       "      <td>910697</td>\n",
       "      <td>0.771519</td>\n",
       "      <td>176870</td>\n",
       "      <td>0.922727</td>\n",
       "      <td>0.461363</td>\n",
       "      <td>-0.773570</td>\n",
       "      <td>1</td>\n",
       "      <td>0.565539</td>\n",
       "    </tr>\n",
       "  </tbody>\n",
       "</table>\n",
       "</div>"
      ],
      "text/plain": [
       "   num_replicates      RMSE  drug_id sample_treatment putative_target  \\\n",
       "0             1.0  0.049765        1          Unknown            EGFR   \n",
       "1             1.0  0.041886        1             None            EGFR   \n",
       "3             2.0  0.135201        1          Unknown            EGFR   \n",
       "4             1.0  0.053414        1          Unknown            EGFR   \n",
       "5             1.0  0.130232        1          Unknown            EGFR   \n",
       "\n",
       "   model_treatment model_name msi_status     CHEMBL cell_line_name  \\\n",
       "0              NaN        697        MSS  CHEMBL553            697   \n",
       "1              NaN    8-MG-BA        MSS  CHEMBL553        8-MG-BA   \n",
       "3              NaN       A253        MSS  CHEMBL553           A253   \n",
       "4              NaN     A3-KAW        MSS  CHEMBL553         A3-KAW   \n",
       "5              NaN       A388        MSS  CHEMBL553           A388   \n",
       "\n",
       "  model_synonyms                      cancer_type_detail  drug_name  \\\n",
       "0  Line 697;EU-3          B Acute Lymphoblastic Leukemia  Erlotinib   \n",
       "1            NaN                            Glioblastoma  Erlotinib   \n",
       "3            NaN  Salivary Gland Squamous Cell Carcinoma  Erlotinib   \n",
       "4    A3/Kawakami           Diffuse Large B-Cell Lymphoma  Erlotinib   \n",
       "5            NaN                 Squamous Cell Carcinoma  Erlotinib   \n",
       "\n",
       "  putative_gene_target use_in_publications model_type  \\\n",
       "0                 EGFR                   Y  Cell Line   \n",
       "1                 EGFR                   Y  Cell Line   \n",
       "3                 EGFR                   Y  Cell Line   \n",
       "4                 EGFR                   Y  Cell Line   \n",
       "5                 EGFR                   Y  Cell Line   \n",
       "\n",
       "                                       drug_synonyms       RRID dataset  \\\n",
       "0  Tarceva, RG-1415, CP-358774, OSI-774, Ro-50823...  CVCL_0079   GDSC1   \n",
       "1  Tarceva, RG-1415, CP-358774, OSI-774, Ro-50823...  CVCL_1052   GDSC1   \n",
       "3  Tarceva, RG-1415, CP-358774, OSI-774, Ro-50823...  CVCL_1060   GDSC1   \n",
       "4  Tarceva, RG-1415, CP-358774, OSI-774, Ro-50823...  CVCL_1062   GDSC1   \n",
       "5  Tarceva, RG-1415, CP-358774, OSI-774, Ro-50823...  CVCL_1063   GDSC1   \n",
       "\n",
       "    ln_IC50   model_id drug_owner    BROAD_ID  master_cell_id  \\\n",
       "0  0.742910  SIDM01076        MGH  ACH-000070              63   \n",
       "1  2.494777  SIDM00998        MGH  ACH-000137            1207   \n",
       "3  0.164247  SIDM00796        MGH  ACH-000740            2089   \n",
       "4  1.110712  SIDM00495        MGH  ACH-000697            1511   \n",
       "5 -0.080422  SIDM00794        MGH  ACH-001442             948   \n",
       "\n",
       "  sample_treatment_details  max_screening_conc                    cancer_type  \\\n",
       "0                      NaN                 2.0       B-Lymphoblastic Leukemia   \n",
       "1                      NaN                 2.0                   Glioblastoma   \n",
       "3                      NaN                 2.0        Head and Neck Carcinoma   \n",
       "4                      NaN                 2.0  B-Cell Non-Hodgkin's Lymphoma   \n",
       "5                      NaN                 2.0         Other Solid Carcinomas   \n",
       "\n",
       "   target_pathway                       tissue                  sample_site  \\\n",
       "0  EGFR signaling  Haematopoietic and Lymphoid                  Bone marrow   \n",
       "1  EGFR signaling       Central Nervous System           Frontal Brain lobe   \n",
       "3  EGFR signaling                Head and Neck  Submaxillary salivary gland   \n",
       "4  EGFR signaling  Haematopoietic and Lymphoid                      Ascites   \n",
       "5  EGFR signaling                         Skin                   Lymph node   \n",
       "\n",
       "  growth_properties webrelease  COSMIC_ID       AUC PUBCHEM   IC50_raw  \\\n",
       "0        Suspension          Y     906800  0.913203  176870   2.102044   \n",
       "1          Adherent          Y     687562  0.980211  176870  12.119031   \n",
       "3          Adherent          Y     906794  0.817106  176870   1.178506   \n",
       "4        Suspension          Y     910935  0.950440  176870   3.036521   \n",
       "5          Adherent          Y     910697  0.771519  176870   0.922727   \n",
       "\n",
       "   IC50_norm_raw  IC50_norm  sensitive  IC50_norm_scaled  \n",
       "0       1.051022   0.049763          0          0.614742  \n",
       "1       6.059515   1.801630          0          0.719434  \n",
       "3       0.589253  -0.528900          1          0.580161  \n",
       "4       1.518260   0.417565          0          0.636722  \n",
       "5       0.461363  -0.773570          1          0.565539  "
      ]
     },
     "execution_count": 21,
     "metadata": {},
     "output_type": "execute_result"
    }
   ],
   "source": [
    "ic50.head()"
   ]
  },
  {
   "cell_type": "code",
   "execution_count": 25,
   "metadata": {
    "ExecuteTime": {
     "end_time": "2020-06-04T16:12:04.001639Z",
     "start_time": "2020-06-04T16:12:03.830350Z"
    }
   },
   "outputs": [
    {
     "data": {
      "text/plain": [
       "<matplotlib.axes._subplots.AxesSubplot at 0x7f96a8f65220>"
      ]
     },
     "execution_count": 25,
     "metadata": {},
     "output_type": "execute_result"
    },
    {
     "data": {
      "image/png": "[encoded data removed]",
      "text/plain": [
       "<Figure size 432x288 with 1 Axes>"
      ]
     },
     "metadata": {
      "needs_background": "light"
     },
     "output_type": "display_data"
    }
   ],
   "source": [
    "sns.distplot(ic50.groupby(['drug_id']).size(), kde=False)"
   ]
  },
  {
   "cell_type": "code",
   "execution_count": 26,
   "metadata": {
    "ExecuteTime": {
     "end_time": "2020-06-04T16:12:11.837616Z",
     "start_time": "2020-06-04T16:12:11.807250Z"
    }
   },
   "outputs": [
    {
     "data": {
      "text/plain": [
       "dataset\n",
       "GDSC1    269205\n",
       "GDSC2    279324\n",
       "dtype: int64"
      ]
     },
     "execution_count": 26,
     "metadata": {},
     "output_type": "execute_result"
    }
   ],
   "source": [
    "ic50.groupby(['dataset']).size()"
   ]
  },
  {
   "cell_type": "code",
   "execution_count": 29,
   "metadata": {
    "ExecuteTime": {
     "end_time": "2020-06-04T16:12:19.112791Z",
     "start_time": "2020-06-04T16:12:19.101405Z"
    }
   },
   "outputs": [],
   "source": [
    "tmp = ic50.groupby(['drug_id']).size()"
   ]
  },
  {
   "cell_type": "code",
   "execution_count": 31,
   "metadata": {
    "ExecuteTime": {
     "end_time": "2020-06-04T16:12:35.415021Z",
     "start_time": "2020-06-04T16:12:35.408836Z"
    }
   },
   "outputs": [
    {
     "data": {
      "text/plain": [
       "drug_id\n",
       "1507    260\n",
       "2169    274\n",
       "1096    275\n",
       "1553    275\n",
       "1593    275\n",
       "3       350\n",
       "2220    371\n",
       "2252    371\n",
       "2235    372\n",
       "2243    372\n",
       "83      376\n",
       "dtype: int64"
      ]
     },
     "execution_count": 31,
     "metadata": {},
     "output_type": "execute_result"
    }
   ],
   "source": [
    "tmp[(tmp > 250)&(tmp < 380)].sort_values()"
   ]
  },
  {
   "cell_type": "code",
   "execution_count": 28,
   "metadata": {
    "ExecuteTime": {
     "end_time": "2020-06-03T11:32:13.469822Z",
     "start_time": "2020-06-03T11:32:13.464691Z"
    }
   },
   "outputs": [
    {
     "data": {
      "text/plain": [
       "DRUG_ID\n",
       "2638     29\n",
       "2502     29\n",
       "2459     29\n",
       "2265     30\n",
       "2261    225\n",
       "       ... \n",
       "1046    990\n",
       "1529    990\n",
       "1050    991\n",
       "1038    991\n",
       "1060    991\n",
       "Length: 727, dtype: int64"
      ]
     },
     "execution_count": 28,
     "metadata": {},
     "output_type": "execute_result"
    }
   ],
   "source": [
    "tmp.sort_values()"
   ]
  },
  {
   "cell_type": "code",
   "execution_count": 45,
   "metadata": {
    "ExecuteTime": {
     "end_time": "2020-06-04T02:10:20.109019Z",
     "start_time": "2020-06-04T02:10:20.072162Z"
    }
   },
   "outputs": [
    {
     "data": {
      "text/html": [
       "<div>\n",
       "<style scoped>\n",
       "    .dataframe tbody tr th:only-of-type {\n",
       "        vertical-align: middle;\n",
       "    }\n",
       "\n",
       "    .dataframe tbody tr th {\n",
       "        vertical-align: top;\n",
       "    }\n",
       "\n",
       "    .dataframe thead th {\n",
       "        text-align: right;\n",
       "    }\n",
       "</style>\n",
       "<table border=\"1\" class=\"dataframe\">\n",
       "  <thead>\n",
       "    <tr style=\"text-align: right;\">\n",
       "      <th></th>\n",
       "      <th>DRUG_NAME</th>\n",
       "      <th>CELL_LINE_NAME</th>\n",
       "      <th>WEBRELEASE</th>\n",
       "      <th>DRUG_ID</th>\n",
       "      <th>RMSE</th>\n",
       "      <th>MAX_CONC</th>\n",
       "      <th>SANGER_MODEL_ID</th>\n",
       "      <th>LN_IC50</th>\n",
       "      <th>AUC</th>\n",
       "      <th>DATASET</th>\n",
       "      <th>COSMIC_ID</th>\n",
       "      <th>IC50_raw</th>\n",
       "      <th>IC50_norm_raw</th>\n",
       "      <th>IC50_norm</th>\n",
       "      <th>sensitive</th>\n",
       "      <th>IC50_norm_scaled</th>\n",
       "    </tr>\n",
       "  </thead>\n",
       "  <tbody>\n",
       "    <tr>\n",
       "      <th>0</th>\n",
       "      <td>Erlotinib</td>\n",
       "      <td>697</td>\n",
       "      <td>Y</td>\n",
       "      <td>1</td>\n",
       "      <td>0.049765</td>\n",
       "      <td>2.0</td>\n",
       "      <td>SIDM01076</td>\n",
       "      <td>0.742914</td>\n",
       "      <td>0.913203</td>\n",
       "      <td>GDSC1</td>\n",
       "      <td>906800</td>\n",
       "      <td>2.102052</td>\n",
       "      <td>1.051026</td>\n",
       "      <td>0.049767</td>\n",
       "      <td>0</td>\n",
       "      <td>0.614742</td>\n",
       "    </tr>\n",
       "    <tr>\n",
       "      <th>1</th>\n",
       "      <td>Erlotinib</td>\n",
       "      <td>8-MG-BA</td>\n",
       "      <td>Y</td>\n",
       "      <td>1</td>\n",
       "      <td>0.041886</td>\n",
       "      <td>2.0</td>\n",
       "      <td>SIDM00998</td>\n",
       "      <td>2.494802</td>\n",
       "      <td>0.980211</td>\n",
       "      <td>GDSC1</td>\n",
       "      <td>687562</td>\n",
       "      <td>12.119334</td>\n",
       "      <td>6.059667</td>\n",
       "      <td>1.801655</td>\n",
       "      <td>0</td>\n",
       "      <td>0.719435</td>\n",
       "    </tr>\n",
       "    <tr>\n",
       "      <th>2</th>\n",
       "      <td>Erlotinib</td>\n",
       "      <td>A101D</td>\n",
       "      <td>Y</td>\n",
       "      <td>1</td>\n",
       "      <td>0.154550</td>\n",
       "      <td>2.0</td>\n",
       "      <td>SIDM00801</td>\n",
       "      <td>2.325466</td>\n",
       "      <td>0.940629</td>\n",
       "      <td>GDSC1</td>\n",
       "      <td>910921</td>\n",
       "      <td>10.231447</td>\n",
       "      <td>5.115723</td>\n",
       "      <td>1.632319</td>\n",
       "      <td>0</td>\n",
       "      <td>0.709316</td>\n",
       "    </tr>\n",
       "    <tr>\n",
       "      <th>3</th>\n",
       "      <td>Erlotinib</td>\n",
       "      <td>A253</td>\n",
       "      <td>Y</td>\n",
       "      <td>1</td>\n",
       "      <td>0.135200</td>\n",
       "      <td>2.0</td>\n",
       "      <td>SIDM00796</td>\n",
       "      <td>0.164247</td>\n",
       "      <td>0.817106</td>\n",
       "      <td>GDSC1</td>\n",
       "      <td>906794</td>\n",
       "      <td>1.178505</td>\n",
       "      <td>0.589253</td>\n",
       "      <td>-0.528900</td>\n",
       "      <td>1</td>\n",
       "      <td>0.580161</td>\n",
       "    </tr>\n",
       "    <tr>\n",
       "      <th>4</th>\n",
       "      <td>Erlotinib</td>\n",
       "      <td>A3-KAW</td>\n",
       "      <td>Y</td>\n",
       "      <td>1</td>\n",
       "      <td>0.053414</td>\n",
       "      <td>2.0</td>\n",
       "      <td>SIDM00495</td>\n",
       "      <td>1.110715</td>\n",
       "      <td>0.950440</td>\n",
       "      <td>GDSC1</td>\n",
       "      <td>910935</td>\n",
       "      <td>3.036529</td>\n",
       "      <td>1.518264</td>\n",
       "      <td>0.417568</td>\n",
       "      <td>0</td>\n",
       "      <td>0.636722</td>\n",
       "    </tr>\n",
       "    <tr>\n",
       "      <th>...</th>\n",
       "      <td>...</td>\n",
       "      <td>...</td>\n",
       "      <td>...</td>\n",
       "      <td>...</td>\n",
       "      <td>...</td>\n",
       "      <td>...</td>\n",
       "      <td>...</td>\n",
       "      <td>...</td>\n",
       "      <td>...</td>\n",
       "      <td>...</td>\n",
       "      <td>...</td>\n",
       "      <td>...</td>\n",
       "      <td>...</td>\n",
       "      <td>...</td>\n",
       "      <td>...</td>\n",
       "      <td>...</td>\n",
       "    </tr>\n",
       "    <tr>\n",
       "      <th>543671</th>\n",
       "      <td>AZD5991</td>\n",
       "      <td>PSN1</td>\n",
       "      <td>N</td>\n",
       "      <td>2638</td>\n",
       "      <td>0.075639</td>\n",
       "      <td>10.0</td>\n",
       "      <td>SIDM00469</td>\n",
       "      <td>2.467330</td>\n",
       "      <td>0.842019</td>\n",
       "      <td>GDSC2</td>\n",
       "      <td>910546</td>\n",
       "      <td>11.790925</td>\n",
       "      <td>1.179093</td>\n",
       "      <td>0.164745</td>\n",
       "      <td>0</td>\n",
       "      <td>0.621613</td>\n",
       "    </tr>\n",
       "    <tr>\n",
       "      <th>543672</th>\n",
       "      <td>AZD5991</td>\n",
       "      <td>SU8686</td>\n",
       "      <td>N</td>\n",
       "      <td>2638</td>\n",
       "      <td>0.058714</td>\n",
       "      <td>10.0</td>\n",
       "      <td>SIDM01188</td>\n",
       "      <td>5.759466</td>\n",
       "      <td>0.937823</td>\n",
       "      <td>GDSC2</td>\n",
       "      <td>1240218</td>\n",
       "      <td>317.178984</td>\n",
       "      <td>31.717898</td>\n",
       "      <td>3.456881</td>\n",
       "      <td>0</td>\n",
       "      <td>0.818352</td>\n",
       "    </tr>\n",
       "    <tr>\n",
       "      <th>543673</th>\n",
       "      <td>AZD5991</td>\n",
       "      <td>SUIT-2</td>\n",
       "      <td>N</td>\n",
       "      <td>2638</td>\n",
       "      <td>0.072388</td>\n",
       "      <td>10.0</td>\n",
       "      <td>SIDM00371</td>\n",
       "      <td>4.074914</td>\n",
       "      <td>0.907596</td>\n",
       "      <td>GDSC2</td>\n",
       "      <td>1240219</td>\n",
       "      <td>58.845428</td>\n",
       "      <td>5.884543</td>\n",
       "      <td>1.772329</td>\n",
       "      <td>0</td>\n",
       "      <td>0.717683</td>\n",
       "    </tr>\n",
       "    <tr>\n",
       "      <th>543674</th>\n",
       "      <td>AZD5991</td>\n",
       "      <td>SW1990</td>\n",
       "      <td>N</td>\n",
       "      <td>2638</td>\n",
       "      <td>0.077521</td>\n",
       "      <td>10.0</td>\n",
       "      <td>SIDM01165</td>\n",
       "      <td>3.757604</td>\n",
       "      <td>0.867888</td>\n",
       "      <td>GDSC2</td>\n",
       "      <td>910907</td>\n",
       "      <td>42.845665</td>\n",
       "      <td>4.284566</td>\n",
       "      <td>1.455019</td>\n",
       "      <td>0</td>\n",
       "      <td>0.698720</td>\n",
       "    </tr>\n",
       "    <tr>\n",
       "      <th>543675</th>\n",
       "      <td>AZD5991</td>\n",
       "      <td>YAPC</td>\n",
       "      <td>N</td>\n",
       "      <td>2638</td>\n",
       "      <td>0.039551</td>\n",
       "      <td>10.0</td>\n",
       "      <td>SIDM00411</td>\n",
       "      <td>4.620842</td>\n",
       "      <td>0.932030</td>\n",
       "      <td>GDSC2</td>\n",
       "      <td>909904</td>\n",
       "      <td>101.579503</td>\n",
       "      <td>10.157950</td>\n",
       "      <td>2.318257</td>\n",
       "      <td>0</td>\n",
       "      <td>0.750307</td>\n",
       "    </tr>\n",
       "  </tbody>\n",
       "</table>\n",
       "<p>543676 rows × 16 columns</p>\n",
       "</div>"
      ],
      "text/plain": [
       "        DRUG_NAME CELL_LINE_NAME WEBRELEASE  DRUG_ID      RMSE  MAX_CONC  \\\n",
       "0       Erlotinib            697          Y        1  0.049765       2.0   \n",
       "1       Erlotinib        8-MG-BA          Y        1  0.041886       2.0   \n",
       "2       Erlotinib          A101D          Y        1  0.154550       2.0   \n",
       "3       Erlotinib           A253          Y        1  0.135200       2.0   \n",
       "4       Erlotinib         A3-KAW          Y        1  0.053414       2.0   \n",
       "...           ...            ...        ...      ...       ...       ...   \n",
       "543671    AZD5991           PSN1          N     2638  0.075639      10.0   \n",
       "543672    AZD5991         SU8686          N     2638  0.058714      10.0   \n",
       "543673    AZD5991         SUIT-2          N     2638  0.072388      10.0   \n",
       "543674    AZD5991         SW1990          N     2638  0.077521      10.0   \n",
       "543675    AZD5991           YAPC          N     2638  0.039551      10.0   \n",
       "\n",
       "       SANGER_MODEL_ID   LN_IC50       AUC DATASET  COSMIC_ID    IC50_raw  \\\n",
       "0            SIDM01076  0.742914  0.913203   GDSC1     906800    2.102052   \n",
       "1            SIDM00998  2.494802  0.980211   GDSC1     687562   12.119334   \n",
       "2            SIDM00801  2.325466  0.940629   GDSC1     910921   10.231447   \n",
       "3            SIDM00796  0.164247  0.817106   GDSC1     906794    1.178505   \n",
       "4            SIDM00495  1.110715  0.950440   GDSC1     910935    3.036529   \n",
       "...                ...       ...       ...     ...        ...         ...   \n",
       "543671       SIDM00469  2.467330  0.842019   GDSC2     910546   11.790925   \n",
       "543672       SIDM01188  5.759466  0.937823   GDSC2    1240218  317.178984   \n",
       "543673       SIDM00371  4.074914  0.907596   GDSC2    1240219   58.845428   \n",
       "543674       SIDM01165  3.757604  0.867888   GDSC2     910907   42.845665   \n",
       "543675       SIDM00411  4.620842  0.932030   GDSC2     909904  101.579503   \n",
       "\n",
       "        IC50_norm_raw  IC50_norm  sensitive  IC50_norm_scaled  \n",
       "0            1.051026   0.049767          0          0.614742  \n",
       "1            6.059667   1.801655          0          0.719435  \n",
       "2            5.115723   1.632319          0          0.709316  \n",
       "3            0.589253  -0.528900          1          0.580161  \n",
       "4            1.518264   0.417568          0          0.636722  \n",
       "...               ...        ...        ...               ...  \n",
       "543671       1.179093   0.164745          0          0.621613  \n",
       "543672      31.717898   3.456881          0          0.818352  \n",
       "543673       5.884543   1.772329          0          0.717683  \n",
       "543674       4.284566   1.455019          0          0.698720  \n",
       "543675      10.157950   2.318257          0          0.750307  \n",
       "\n",
       "[543676 rows x 16 columns]"
      ]
     },
     "execution_count": 45,
     "metadata": {},
     "output_type": "execute_result"
    }
   ],
   "source": [
    "ic50"
   ]
  },
  {
   "cell_type": "code",
   "execution_count": 32,
   "metadata": {
    "ExecuteTime": {
     "end_time": "2020-06-04T16:12:53.346689Z",
     "start_time": "2020-06-04T16:12:43.749747Z"
    }
   },
   "outputs": [],
   "source": [
    "ic50.to_csv(\"../data/drug/drug_final_processed.csv\", index=False)"
   ]
  },
  {
   "cell_type": "markdown",
   "metadata": {},
   "source": [
    "## growth normalised"
   ]
  },
  {
   "cell_type": "code",
   "execution_count": 68,
   "metadata": {
    "ExecuteTime": {
     "end_time": "2020-06-05T04:36:00.073374Z",
     "start_time": "2020-06-05T04:35:59.925669Z"
    }
   },
   "outputs": [],
   "source": [
    "sample_info = pd.read_excel(\"../data/SamplesheetApril2020.xlsx\",\n",
    "                            sheet_name='Sheet1')\n",
    "sample_info = sample_info.rename(columns={'model_name': 'cell_line_name'})\n",
    "sample_info['growth'] = MinMaxScaler((0.1, 2.5)).fit_transform(\n",
    "    SimpleImputer().fit_transform(sample_info['growth'].values.reshape(\n",
    "        -1, 1))).flatten()\n",
    "growth_map = sample_info.set_index('cell_line_name').to_dict()['growth']"
   ]
  },
  {
   "cell_type": "code",
   "execution_count": 69,
   "metadata": {
    "ExecuteTime": {
     "end_time": "2020-06-05T04:36:01.103267Z",
     "start_time": "2020-06-05T04:36:01.076851Z"
    }
   },
   "outputs": [],
   "source": [
    "meta = pd.read_csv(\"../data/E0022_P06_final_sample_map_no_control.txt\", sep='\\t')"
   ]
  },
  {
   "cell_type": "code",
   "execution_count": 70,
   "metadata": {
    "ExecuteTime": {
     "end_time": "2020-06-05T04:36:05.972552Z",
     "start_time": "2020-06-05T04:36:01.663532Z"
    }
   },
   "outputs": [],
   "source": [
    "ic50 = pd.read_csv(\"../data/drug/DrugResponse_PANCANCER_GDSC1_GDSC2_20200605.csv.gz\", low_memory=False)"
   ]
  },
  {
   "cell_type": "code",
   "execution_count": 71,
   "metadata": {
    "ExecuteTime": {
     "end_time": "2020-06-05T04:36:07.776185Z",
     "start_time": "2020-06-05T04:36:06.533852Z"
    }
   },
   "outputs": [],
   "source": [
    "ic50 = ic50.sort_values(by=['dataset']).reset_index(drop=True)\n",
    "ic50 = ic50.drop_duplicates(\n",
    "    ['drug_id', 'cell_line_name'], keep='last').sort_values(\n",
    "        by=['drug_id', 'cell_line_name']).reset_index(drop=True)\n",
    "ic50 = ic50[ic50['cell_line_name'].isin(meta['Cell_line'].unique())]"
   ]
  },
  {
   "cell_type": "code",
   "execution_count": 72,
   "metadata": {
    "ExecuteTime": {
     "end_time": "2020-06-05T04:36:18.903624Z",
     "start_time": "2020-06-05T04:36:08.311850Z"
    }
   },
   "outputs": [],
   "source": [
    "ic50['ln_IC50'] = ic50.apply(lambda row:row['ln_IC50'] / growth_map[row['cell_line_name']], axis=1)"
   ]
  },
  {
   "cell_type": "code",
   "execution_count": 73,
   "metadata": {
    "ExecuteTime": {
     "end_time": "2020-06-05T04:36:19.680854Z",
     "start_time": "2020-06-05T04:36:19.656688Z"
    }
   },
   "outputs": [],
   "source": [
    "ic50['IC50_raw'] = np.exp(ic50['ln_IC50'])\n",
    "\n",
    "ic50['IC50_norm_raw'] = ic50['IC50_raw'] / ic50['max_screening_conc']\n",
    "\n",
    "ic50['IC50_norm'] = np.log(ic50['IC50_norm_raw'])\n",
    "\n",
    "ic50['sensitive'] = (ic50['IC50_raw'] < ic50['max_screening_conc']).astype(int)\n",
    "\n",
    "ic50['IC50_norm_scaled'] = MinMaxScaler().fit_transform(ic50['IC50_norm'].values.reshape(-1,1))"
   ]
  },
  {
   "cell_type": "code",
   "execution_count": 75,
   "metadata": {
    "ExecuteTime": {
     "end_time": "2020-06-05T04:37:03.194157Z",
     "start_time": "2020-06-05T04:36:53.343913Z"
    }
   },
   "outputs": [],
   "source": [
    "ic50.to_csv(\"../data/drug/drug_final_processed_growth_norm.csv\", index=False)"
   ]
  },
  {
   "cell_type": "markdown",
   "metadata": {},
   "source": [
    "## regress out"
   ]
  },
  {
   "cell_type": "code",
   "execution_count": 140,
   "metadata": {
    "ExecuteTime": {
     "end_time": "2020-06-05T08:15:12.907936Z",
     "start_time": "2020-06-05T08:15:12.756027Z"
    }
   },
   "outputs": [],
   "source": [
    "sample_info = pd.read_excel(\"../data/SamplesheetApril2020.xlsx\",\n",
    "                            sheet_name='Sheet1')\n",
    "sample_info = sample_info.rename(columns={'model_name': 'cell_line_name'})\n",
    "sample_info['growth'] = SimpleImputer().fit_transform(\n",
    "    sample_info['growth'].values.reshape(-1, 1)).flatten()\n",
    "growth_map = sample_info.set_index('cell_line_name').to_dict()['growth']"
   ]
  },
  {
   "cell_type": "code",
   "execution_count": 141,
   "metadata": {
    "ExecuteTime": {
     "end_time": "2020-06-05T08:15:13.896787Z",
     "start_time": "2020-06-05T08:15:13.866543Z"
    }
   },
   "outputs": [],
   "source": [
    "meta = pd.read_csv(\"../data/E0022_P06_final_sample_map_no_control.txt\", sep='\\t')"
   ]
  },
  {
   "cell_type": "code",
   "execution_count": 142,
   "metadata": {
    "ExecuteTime": {
     "end_time": "2020-06-05T08:15:22.634561Z",
     "start_time": "2020-06-05T08:15:18.091276Z"
    }
   },
   "outputs": [],
   "source": [
    "ic50 = pd.read_csv(\"../data/drug/DrugResponse_PANCANCER_GDSC1_GDSC2_20200605.csv.gz\", low_memory=False)"
   ]
  },
  {
   "cell_type": "code",
   "execution_count": 143,
   "metadata": {
    "ExecuteTime": {
     "end_time": "2020-06-05T08:15:23.883550Z",
     "start_time": "2020-06-05T08:15:22.636351Z"
    }
   },
   "outputs": [],
   "source": [
    "ic50 = ic50.sort_values(by=['dataset']).reset_index(drop=True)\n",
    "ic50 = ic50.drop_duplicates(\n",
    "    ['drug_id', 'cell_line_name'], keep='last').sort_values(\n",
    "        by=['drug_id', 'cell_line_name']).reset_index(drop=True)\n",
    "ic50 = ic50[ic50['cell_line_name'].isin(meta['Cell_line'].unique())]"
   ]
  },
  {
   "cell_type": "code",
   "execution_count": 144,
   "metadata": {
    "ExecuteTime": {
     "end_time": "2020-06-05T08:15:24.039736Z",
     "start_time": "2020-06-05T08:15:23.885546Z"
    }
   },
   "outputs": [],
   "source": [
    "ic50_wide = pd.pivot(ic50, index='cell_line_name', columns='drug_id', values='ln_IC50')"
   ]
  },
  {
   "cell_type": "code",
   "execution_count": 145,
   "metadata": {
    "ExecuteTime": {
     "end_time": "2020-06-05T08:15:24.052083Z",
     "start_time": "2020-06-05T08:15:24.041551Z"
    }
   },
   "outputs": [],
   "source": [
    "ic50_wide = pd.merge(ic50_wide, sample_info[['cell_line_name', 'growth']], on=['cell_line_name'])"
   ]
  },
  {
   "cell_type": "code",
   "execution_count": 146,
   "metadata": {
    "ExecuteTime": {
     "end_time": "2020-06-05T08:15:24.058537Z",
     "start_time": "2020-06-05T08:15:24.053509Z"
    }
   },
   "outputs": [],
   "source": [
    "ic50_wide = ic50_wide.set_index('cell_line_name')"
   ]
  },
  {
   "cell_type": "code",
   "execution_count": 147,
   "metadata": {
    "ExecuteTime": {
     "end_time": "2020-06-05T08:15:27.328059Z",
     "start_time": "2020-06-05T08:15:24.060100Z"
    }
   },
   "outputs": [],
   "source": [
    "for drug_id in ic50_wide.columns:\n",
    "    if drug_id == 'growth':\n",
    "        continue\n",
    "    y = ic50_wide[~ic50_wide[drug_id].isna()][drug_id]\n",
    "    x = ic50_wide[~ic50_wide[drug_id].isna()]['growth'].values.reshape(-1, 1)\n",
    "    lr = LinearRegression()\n",
    "    lr.fit(x, y)\n",
    "    y_pred = lr.predict(x)\n",
    "    residual = y - y_pred\n",
    "    ic50_wide.loc[~ic50_wide[drug_id].isna(), drug_id] = residual.values"
   ]
  },
  {
   "cell_type": "code",
   "execution_count": 148,
   "metadata": {
    "ExecuteTime": {
     "end_time": "2020-06-05T08:15:27.526634Z",
     "start_time": "2020-06-05T08:15:27.329552Z"
    }
   },
   "outputs": [
    {
     "data": {
      "text/html": [
       "<div>\n",
       "<style scoped>\n",
       "    .dataframe tbody tr th:only-of-type {\n",
       "        vertical-align: middle;\n",
       "    }\n",
       "\n",
       "    .dataframe tbody tr th {\n",
       "        vertical-align: top;\n",
       "    }\n",
       "\n",
       "    .dataframe thead th {\n",
       "        text-align: right;\n",
       "    }\n",
       "</style>\n",
       "<table border=\"1\" class=\"dataframe\">\n",
       "  <thead>\n",
       "    <tr style=\"text-align: right;\">\n",
       "      <th>drug_id</th>\n",
       "      <th>1</th>\n",
       "      <th>3</th>\n",
       "      <th>5</th>\n",
       "      <th>6</th>\n",
       "      <th>9</th>\n",
       "      <th>11</th>\n",
       "      <th>17</th>\n",
       "      <th>29</th>\n",
       "      <th>30</th>\n",
       "      <th>32</th>\n",
       "      <th>34</th>\n",
       "      <th>35</th>\n",
       "      <th>37</th>\n",
       "      <th>38</th>\n",
       "      <th>41</th>\n",
       "      <th>45</th>\n",
       "      <th>51</th>\n",
       "      <th>52</th>\n",
       "      <th>53</th>\n",
       "      <th>54</th>\n",
       "      <th>55</th>\n",
       "      <th>56</th>\n",
       "      <th>59</th>\n",
       "      <th>60</th>\n",
       "      <th>62</th>\n",
       "      <th>...</th>\n",
       "      <th>2325</th>\n",
       "      <th>2326</th>\n",
       "      <th>2327</th>\n",
       "      <th>2328</th>\n",
       "      <th>2329</th>\n",
       "      <th>2330</th>\n",
       "      <th>2331</th>\n",
       "      <th>2332</th>\n",
       "      <th>2333</th>\n",
       "      <th>2354</th>\n",
       "      <th>2359</th>\n",
       "      <th>2363</th>\n",
       "      <th>2365</th>\n",
       "      <th>2459</th>\n",
       "      <th>2460</th>\n",
       "      <th>2463</th>\n",
       "      <th>2466</th>\n",
       "      <th>2502</th>\n",
       "      <th>2503</th>\n",
       "      <th>2504</th>\n",
       "      <th>2505</th>\n",
       "      <th>2508</th>\n",
       "      <th>2509</th>\n",
       "      <th>2510</th>\n",
       "      <th>2638</th>\n",
       "    </tr>\n",
       "    <tr>\n",
       "      <th>cell_line_name</th>\n",
       "      <th></th>\n",
       "      <th></th>\n",
       "      <th></th>\n",
       "      <th></th>\n",
       "      <th></th>\n",
       "      <th></th>\n",
       "      <th></th>\n",
       "      <th></th>\n",
       "      <th></th>\n",
       "      <th></th>\n",
       "      <th></th>\n",
       "      <th></th>\n",
       "      <th></th>\n",
       "      <th></th>\n",
       "      <th></th>\n",
       "      <th></th>\n",
       "      <th></th>\n",
       "      <th></th>\n",
       "      <th></th>\n",
       "      <th></th>\n",
       "      <th></th>\n",
       "      <th></th>\n",
       "      <th></th>\n",
       "      <th></th>\n",
       "      <th></th>\n",
       "      <th></th>\n",
       "      <th></th>\n",
       "      <th></th>\n",
       "      <th></th>\n",
       "      <th></th>\n",
       "      <th></th>\n",
       "      <th></th>\n",
       "      <th></th>\n",
       "      <th></th>\n",
       "      <th></th>\n",
       "      <th></th>\n",
       "      <th></th>\n",
       "      <th></th>\n",
       "      <th></th>\n",
       "      <th></th>\n",
       "      <th></th>\n",
       "      <th></th>\n",
       "      <th></th>\n",
       "      <th></th>\n",
       "      <th></th>\n",
       "      <th></th>\n",
       "      <th></th>\n",
       "      <th></th>\n",
       "      <th></th>\n",
       "      <th></th>\n",
       "      <th></th>\n",
       "    </tr>\n",
       "  </thead>\n",
       "  <tbody>\n",
       "    <tr>\n",
       "      <th>201T</th>\n",
       "      <td>NaN</td>\n",
       "      <td>NaN</td>\n",
       "      <td>NaN</td>\n",
       "      <td>NaN</td>\n",
       "      <td>NaN</td>\n",
       "      <td>NaN</td>\n",
       "      <td>NaN</td>\n",
       "      <td>NaN</td>\n",
       "      <td>NaN</td>\n",
       "      <td>NaN</td>\n",
       "      <td>NaN</td>\n",
       "      <td>NaN</td>\n",
       "      <td>NaN</td>\n",
       "      <td>NaN</td>\n",
       "      <td>NaN</td>\n",
       "      <td>NaN</td>\n",
       "      <td>NaN</td>\n",
       "      <td>NaN</td>\n",
       "      <td>NaN</td>\n",
       "      <td>NaN</td>\n",
       "      <td>NaN</td>\n",
       "      <td>NaN</td>\n",
       "      <td>NaN</td>\n",
       "      <td>NaN</td>\n",
       "      <td>NaN</td>\n",
       "      <td>...</td>\n",
       "      <td>5.870982</td>\n",
       "      <td>5.901380</td>\n",
       "      <td>5.996507</td>\n",
       "      <td>5.636945</td>\n",
       "      <td>5.997801</td>\n",
       "      <td>4.637606</td>\n",
       "      <td>1.309036</td>\n",
       "      <td>2.721478</td>\n",
       "      <td>4.181515</td>\n",
       "      <td>NaN</td>\n",
       "      <td>NaN</td>\n",
       "      <td>NaN</td>\n",
       "      <td>5.638761</td>\n",
       "      <td>NaN</td>\n",
       "      <td>-3.627500</td>\n",
       "      <td>5.184041</td>\n",
       "      <td>-0.422523</td>\n",
       "      <td>NaN</td>\n",
       "      <td>NaN</td>\n",
       "      <td>NaN</td>\n",
       "      <td>NaN</td>\n",
       "      <td>NaN</td>\n",
       "      <td>NaN</td>\n",
       "      <td>NaN</td>\n",
       "      <td>NaN</td>\n",
       "    </tr>\n",
       "    <tr>\n",
       "      <th>22RV1</th>\n",
       "      <td>NaN</td>\n",
       "      <td>NaN</td>\n",
       "      <td>NaN</td>\n",
       "      <td>NaN</td>\n",
       "      <td>NaN</td>\n",
       "      <td>NaN</td>\n",
       "      <td>NaN</td>\n",
       "      <td>NaN</td>\n",
       "      <td>NaN</td>\n",
       "      <td>NaN</td>\n",
       "      <td>NaN</td>\n",
       "      <td>NaN</td>\n",
       "      <td>NaN</td>\n",
       "      <td>NaN</td>\n",
       "      <td>NaN</td>\n",
       "      <td>NaN</td>\n",
       "      <td>NaN</td>\n",
       "      <td>NaN</td>\n",
       "      <td>NaN</td>\n",
       "      <td>NaN</td>\n",
       "      <td>NaN</td>\n",
       "      <td>NaN</td>\n",
       "      <td>NaN</td>\n",
       "      <td>NaN</td>\n",
       "      <td>NaN</td>\n",
       "      <td>...</td>\n",
       "      <td>6.787820</td>\n",
       "      <td>6.072041</td>\n",
       "      <td>5.858659</td>\n",
       "      <td>3.540457</td>\n",
       "      <td>6.786412</td>\n",
       "      <td>4.742216</td>\n",
       "      <td>0.555244</td>\n",
       "      <td>2.990707</td>\n",
       "      <td>2.973256</td>\n",
       "      <td>1.674832</td>\n",
       "      <td>6.409723</td>\n",
       "      <td>4.921199</td>\n",
       "      <td>5.401424</td>\n",
       "      <td>NaN</td>\n",
       "      <td>-0.768656</td>\n",
       "      <td>NaN</td>\n",
       "      <td>-0.725752</td>\n",
       "      <td>NaN</td>\n",
       "      <td>4.676666</td>\n",
       "      <td>4.450442</td>\n",
       "      <td>4.757823</td>\n",
       "      <td>-0.212632</td>\n",
       "      <td>0.494102</td>\n",
       "      <td>4.664021</td>\n",
       "      <td>NaN</td>\n",
       "    </tr>\n",
       "    <tr>\n",
       "      <th>23132-87</th>\n",
       "      <td>NaN</td>\n",
       "      <td>NaN</td>\n",
       "      <td>NaN</td>\n",
       "      <td>NaN</td>\n",
       "      <td>NaN</td>\n",
       "      <td>NaN</td>\n",
       "      <td>NaN</td>\n",
       "      <td>NaN</td>\n",
       "      <td>NaN</td>\n",
       "      <td>NaN</td>\n",
       "      <td>NaN</td>\n",
       "      <td>NaN</td>\n",
       "      <td>NaN</td>\n",
       "      <td>NaN</td>\n",
       "      <td>NaN</td>\n",
       "      <td>NaN</td>\n",
       "      <td>NaN</td>\n",
       "      <td>NaN</td>\n",
       "      <td>NaN</td>\n",
       "      <td>NaN</td>\n",
       "      <td>NaN</td>\n",
       "      <td>NaN</td>\n",
       "      <td>NaN</td>\n",
       "      <td>NaN</td>\n",
       "      <td>NaN</td>\n",
       "      <td>...</td>\n",
       "      <td>NaN</td>\n",
       "      <td>NaN</td>\n",
       "      <td>NaN</td>\n",
       "      <td>NaN</td>\n",
       "      <td>NaN</td>\n",
       "      <td>NaN</td>\n",
       "      <td>NaN</td>\n",
       "      <td>NaN</td>\n",
       "      <td>NaN</td>\n",
       "      <td>NaN</td>\n",
       "      <td>NaN</td>\n",
       "      <td>NaN</td>\n",
       "      <td>NaN</td>\n",
       "      <td>NaN</td>\n",
       "      <td>-2.620696</td>\n",
       "      <td>NaN</td>\n",
       "      <td>0.556695</td>\n",
       "      <td>NaN</td>\n",
       "      <td>5.438592</td>\n",
       "      <td>5.793948</td>\n",
       "      <td>5.793286</td>\n",
       "      <td>2.771553</td>\n",
       "      <td>4.419663</td>\n",
       "      <td>4.577746</td>\n",
       "      <td>NaN</td>\n",
       "    </tr>\n",
       "    <tr>\n",
       "      <th>42-MG-BA</th>\n",
       "      <td>NaN</td>\n",
       "      <td>NaN</td>\n",
       "      <td>NaN</td>\n",
       "      <td>NaN</td>\n",
       "      <td>NaN</td>\n",
       "      <td>NaN</td>\n",
       "      <td>NaN</td>\n",
       "      <td>NaN</td>\n",
       "      <td>NaN</td>\n",
       "      <td>NaN</td>\n",
       "      <td>NaN</td>\n",
       "      <td>NaN</td>\n",
       "      <td>NaN</td>\n",
       "      <td>NaN</td>\n",
       "      <td>NaN</td>\n",
       "      <td>NaN</td>\n",
       "      <td>NaN</td>\n",
       "      <td>NaN</td>\n",
       "      <td>NaN</td>\n",
       "      <td>NaN</td>\n",
       "      <td>NaN</td>\n",
       "      <td>NaN</td>\n",
       "      <td>NaN</td>\n",
       "      <td>NaN</td>\n",
       "      <td>NaN</td>\n",
       "      <td>...</td>\n",
       "      <td>NaN</td>\n",
       "      <td>NaN</td>\n",
       "      <td>NaN</td>\n",
       "      <td>NaN</td>\n",
       "      <td>NaN</td>\n",
       "      <td>NaN</td>\n",
       "      <td>NaN</td>\n",
       "      <td>NaN</td>\n",
       "      <td>NaN</td>\n",
       "      <td>NaN</td>\n",
       "      <td>NaN</td>\n",
       "      <td>NaN</td>\n",
       "      <td>NaN</td>\n",
       "      <td>NaN</td>\n",
       "      <td>-2.458343</td>\n",
       "      <td>NaN</td>\n",
       "      <td>-0.464562</td>\n",
       "      <td>NaN</td>\n",
       "      <td>3.518116</td>\n",
       "      <td>4.709746</td>\n",
       "      <td>2.136491</td>\n",
       "      <td>2.214111</td>\n",
       "      <td>-0.470880</td>\n",
       "      <td>2.102269</td>\n",
       "      <td>NaN</td>\n",
       "    </tr>\n",
       "    <tr>\n",
       "      <th>451Lu</th>\n",
       "      <td>NaN</td>\n",
       "      <td>NaN</td>\n",
       "      <td>NaN</td>\n",
       "      <td>NaN</td>\n",
       "      <td>NaN</td>\n",
       "      <td>NaN</td>\n",
       "      <td>NaN</td>\n",
       "      <td>NaN</td>\n",
       "      <td>NaN</td>\n",
       "      <td>NaN</td>\n",
       "      <td>NaN</td>\n",
       "      <td>NaN</td>\n",
       "      <td>NaN</td>\n",
       "      <td>NaN</td>\n",
       "      <td>NaN</td>\n",
       "      <td>NaN</td>\n",
       "      <td>NaN</td>\n",
       "      <td>NaN</td>\n",
       "      <td>NaN</td>\n",
       "      <td>NaN</td>\n",
       "      <td>NaN</td>\n",
       "      <td>NaN</td>\n",
       "      <td>NaN</td>\n",
       "      <td>NaN</td>\n",
       "      <td>NaN</td>\n",
       "      <td>...</td>\n",
       "      <td>5.831446</td>\n",
       "      <td>4.946957</td>\n",
       "      <td>6.305027</td>\n",
       "      <td>6.003010</td>\n",
       "      <td>5.940172</td>\n",
       "      <td>6.067511</td>\n",
       "      <td>1.819962</td>\n",
       "      <td>5.750885</td>\n",
       "      <td>4.157291</td>\n",
       "      <td>NaN</td>\n",
       "      <td>NaN</td>\n",
       "      <td>NaN</td>\n",
       "      <td>6.310095</td>\n",
       "      <td>NaN</td>\n",
       "      <td>-2.283345</td>\n",
       "      <td>4.571119</td>\n",
       "      <td>0.707160</td>\n",
       "      <td>NaN</td>\n",
       "      <td>NaN</td>\n",
       "      <td>NaN</td>\n",
       "      <td>NaN</td>\n",
       "      <td>NaN</td>\n",
       "      <td>NaN</td>\n",
       "      <td>NaN</td>\n",
       "      <td>NaN</td>\n",
       "    </tr>\n",
       "    <tr>\n",
       "      <th>...</th>\n",
       "      <td>...</td>\n",
       "      <td>...</td>\n",
       "      <td>...</td>\n",
       "      <td>...</td>\n",
       "      <td>...</td>\n",
       "      <td>...</td>\n",
       "      <td>...</td>\n",
       "      <td>...</td>\n",
       "      <td>...</td>\n",
       "      <td>...</td>\n",
       "      <td>...</td>\n",
       "      <td>...</td>\n",
       "      <td>...</td>\n",
       "      <td>...</td>\n",
       "      <td>...</td>\n",
       "      <td>...</td>\n",
       "      <td>...</td>\n",
       "      <td>...</td>\n",
       "      <td>...</td>\n",
       "      <td>...</td>\n",
       "      <td>...</td>\n",
       "      <td>...</td>\n",
       "      <td>...</td>\n",
       "      <td>...</td>\n",
       "      <td>...</td>\n",
       "      <td>...</td>\n",
       "      <td>...</td>\n",
       "      <td>...</td>\n",
       "      <td>...</td>\n",
       "      <td>...</td>\n",
       "      <td>...</td>\n",
       "      <td>...</td>\n",
       "      <td>...</td>\n",
       "      <td>...</td>\n",
       "      <td>...</td>\n",
       "      <td>...</td>\n",
       "      <td>...</td>\n",
       "      <td>...</td>\n",
       "      <td>...</td>\n",
       "      <td>...</td>\n",
       "      <td>...</td>\n",
       "      <td>...</td>\n",
       "      <td>...</td>\n",
       "      <td>...</td>\n",
       "      <td>...</td>\n",
       "      <td>...</td>\n",
       "      <td>...</td>\n",
       "      <td>...</td>\n",
       "      <td>...</td>\n",
       "      <td>...</td>\n",
       "      <td>...</td>\n",
       "    </tr>\n",
       "    <tr>\n",
       "      <th>YT</th>\n",
       "      <td>2.908260</td>\n",
       "      <td>-0.268395</td>\n",
       "      <td>2.698757</td>\n",
       "      <td>2.474392</td>\n",
       "      <td>1.098876</td>\n",
       "      <td>-0.061054</td>\n",
       "      <td>4.990366</td>\n",
       "      <td>1.853297</td>\n",
       "      <td>2.726187</td>\n",
       "      <td>2.765275</td>\n",
       "      <td>2.226785</td>\n",
       "      <td>2.858785</td>\n",
       "      <td>2.816411</td>\n",
       "      <td>2.543693</td>\n",
       "      <td>3.637532</td>\n",
       "      <td>1.846060</td>\n",
       "      <td>2.380412</td>\n",
       "      <td>1.085639</td>\n",
       "      <td>-0.023284</td>\n",
       "      <td>2.113494</td>\n",
       "      <td>3.842999</td>\n",
       "      <td>3.845487</td>\n",
       "      <td>4.260833</td>\n",
       "      <td>0.756876</td>\n",
       "      <td>3.850969</td>\n",
       "      <td>...</td>\n",
       "      <td>1.666867</td>\n",
       "      <td>4.628862</td>\n",
       "      <td>3.785652</td>\n",
       "      <td>2.918595</td>\n",
       "      <td>4.501810</td>\n",
       "      <td>2.196095</td>\n",
       "      <td>-2.399643</td>\n",
       "      <td>1.281605</td>\n",
       "      <td>1.563641</td>\n",
       "      <td>-4.303745</td>\n",
       "      <td>2.975300</td>\n",
       "      <td>1.167491</td>\n",
       "      <td>1.120026</td>\n",
       "      <td>NaN</td>\n",
       "      <td>-2.718116</td>\n",
       "      <td>NaN</td>\n",
       "      <td>-1.644927</td>\n",
       "      <td>NaN</td>\n",
       "      <td>2.734761</td>\n",
       "      <td>4.700374</td>\n",
       "      <td>2.852202</td>\n",
       "      <td>-0.624989</td>\n",
       "      <td>0.787039</td>\n",
       "      <td>2.770210</td>\n",
       "      <td>NaN</td>\n",
       "    </tr>\n",
       "    <tr>\n",
       "      <th>ZR-75-30</th>\n",
       "      <td>NaN</td>\n",
       "      <td>NaN</td>\n",
       "      <td>NaN</td>\n",
       "      <td>NaN</td>\n",
       "      <td>NaN</td>\n",
       "      <td>NaN</td>\n",
       "      <td>NaN</td>\n",
       "      <td>NaN</td>\n",
       "      <td>NaN</td>\n",
       "      <td>NaN</td>\n",
       "      <td>NaN</td>\n",
       "      <td>NaN</td>\n",
       "      <td>NaN</td>\n",
       "      <td>NaN</td>\n",
       "      <td>NaN</td>\n",
       "      <td>NaN</td>\n",
       "      <td>NaN</td>\n",
       "      <td>NaN</td>\n",
       "      <td>NaN</td>\n",
       "      <td>NaN</td>\n",
       "      <td>NaN</td>\n",
       "      <td>NaN</td>\n",
       "      <td>NaN</td>\n",
       "      <td>NaN</td>\n",
       "      <td>NaN</td>\n",
       "      <td>...</td>\n",
       "      <td>7.860491</td>\n",
       "      <td>7.339176</td>\n",
       "      <td>7.239524</td>\n",
       "      <td>5.574615</td>\n",
       "      <td>7.959680</td>\n",
       "      <td>7.788697</td>\n",
       "      <td>2.467134</td>\n",
       "      <td>6.139153</td>\n",
       "      <td>4.679489</td>\n",
       "      <td>3.733677</td>\n",
       "      <td>7.857623</td>\n",
       "      <td>5.264153</td>\n",
       "      <td>4.517664</td>\n",
       "      <td>NaN</td>\n",
       "      <td>5.370678</td>\n",
       "      <td>NaN</td>\n",
       "      <td>-0.679805</td>\n",
       "      <td>NaN</td>\n",
       "      <td>5.851197</td>\n",
       "      <td>6.041822</td>\n",
       "      <td>5.735743</td>\n",
       "      <td>5.627451</td>\n",
       "      <td>2.403586</td>\n",
       "      <td>6.918636</td>\n",
       "      <td>NaN</td>\n",
       "    </tr>\n",
       "    <tr>\n",
       "      <th>huH-1</th>\n",
       "      <td>NaN</td>\n",
       "      <td>NaN</td>\n",
       "      <td>NaN</td>\n",
       "      <td>NaN</td>\n",
       "      <td>NaN</td>\n",
       "      <td>NaN</td>\n",
       "      <td>NaN</td>\n",
       "      <td>NaN</td>\n",
       "      <td>NaN</td>\n",
       "      <td>NaN</td>\n",
       "      <td>NaN</td>\n",
       "      <td>NaN</td>\n",
       "      <td>NaN</td>\n",
       "      <td>NaN</td>\n",
       "      <td>NaN</td>\n",
       "      <td>NaN</td>\n",
       "      <td>NaN</td>\n",
       "      <td>NaN</td>\n",
       "      <td>NaN</td>\n",
       "      <td>NaN</td>\n",
       "      <td>NaN</td>\n",
       "      <td>NaN</td>\n",
       "      <td>NaN</td>\n",
       "      <td>NaN</td>\n",
       "      <td>NaN</td>\n",
       "      <td>...</td>\n",
       "      <td>NaN</td>\n",
       "      <td>NaN</td>\n",
       "      <td>NaN</td>\n",
       "      <td>NaN</td>\n",
       "      <td>NaN</td>\n",
       "      <td>NaN</td>\n",
       "      <td>NaN</td>\n",
       "      <td>NaN</td>\n",
       "      <td>NaN</td>\n",
       "      <td>NaN</td>\n",
       "      <td>NaN</td>\n",
       "      <td>NaN</td>\n",
       "      <td>NaN</td>\n",
       "      <td>NaN</td>\n",
       "      <td>-0.447768</td>\n",
       "      <td>NaN</td>\n",
       "      <td>0.766528</td>\n",
       "      <td>NaN</td>\n",
       "      <td>6.628048</td>\n",
       "      <td>6.388593</td>\n",
       "      <td>3.923482</td>\n",
       "      <td>3.881492</td>\n",
       "      <td>4.391250</td>\n",
       "      <td>5.750049</td>\n",
       "      <td>NaN</td>\n",
       "    </tr>\n",
       "    <tr>\n",
       "      <th>no-10</th>\n",
       "      <td>3.316059</td>\n",
       "      <td>NaN</td>\n",
       "      <td>2.610164</td>\n",
       "      <td>3.461046</td>\n",
       "      <td>-2.773244</td>\n",
       "      <td>-5.440459</td>\n",
       "      <td>2.386766</td>\n",
       "      <td>2.347578</td>\n",
       "      <td>0.804477</td>\n",
       "      <td>2.710215</td>\n",
       "      <td>3.438866</td>\n",
       "      <td>2.308735</td>\n",
       "      <td>3.675696</td>\n",
       "      <td>2.981811</td>\n",
       "      <td>0.730689</td>\n",
       "      <td>-0.553834</td>\n",
       "      <td>-1.275568</td>\n",
       "      <td>NaN</td>\n",
       "      <td>-4.460548</td>\n",
       "      <td>1.254658</td>\n",
       "      <td>0.236152</td>\n",
       "      <td>1.189016</td>\n",
       "      <td>2.535871</td>\n",
       "      <td>-3.356561</td>\n",
       "      <td>1.320255</td>\n",
       "      <td>...</td>\n",
       "      <td>5.939381</td>\n",
       "      <td>6.281612</td>\n",
       "      <td>6.320535</td>\n",
       "      <td>6.233836</td>\n",
       "      <td>6.233310</td>\n",
       "      <td>5.348504</td>\n",
       "      <td>2.474701</td>\n",
       "      <td>5.832753</td>\n",
       "      <td>5.766394</td>\n",
       "      <td>NaN</td>\n",
       "      <td>NaN</td>\n",
       "      <td>NaN</td>\n",
       "      <td>4.520830</td>\n",
       "      <td>NaN</td>\n",
       "      <td>3.479456</td>\n",
       "      <td>3.849512</td>\n",
       "      <td>-0.405675</td>\n",
       "      <td>NaN</td>\n",
       "      <td>NaN</td>\n",
       "      <td>NaN</td>\n",
       "      <td>NaN</td>\n",
       "      <td>NaN</td>\n",
       "      <td>NaN</td>\n",
       "      <td>NaN</td>\n",
       "      <td>NaN</td>\n",
       "    </tr>\n",
       "    <tr>\n",
       "      <th>no-11</th>\n",
       "      <td>1.851850</td>\n",
       "      <td>-4.583701</td>\n",
       "      <td>2.369846</td>\n",
       "      <td>3.923896</td>\n",
       "      <td>-0.473464</td>\n",
       "      <td>-3.511284</td>\n",
       "      <td>3.504893</td>\n",
       "      <td>4.547182</td>\n",
       "      <td>1.049980</td>\n",
       "      <td>2.211105</td>\n",
       "      <td>3.354976</td>\n",
       "      <td>1.857180</td>\n",
       "      <td>3.491180</td>\n",
       "      <td>3.549035</td>\n",
       "      <td>1.465236</td>\n",
       "      <td>0.931759</td>\n",
       "      <td>-0.663318</td>\n",
       "      <td>3.511116</td>\n",
       "      <td>-3.518197</td>\n",
       "      <td>3.381137</td>\n",
       "      <td>2.817206</td>\n",
       "      <td>1.787532</td>\n",
       "      <td>5.483060</td>\n",
       "      <td>-2.065865</td>\n",
       "      <td>2.312638</td>\n",
       "      <td>...</td>\n",
       "      <td>4.819473</td>\n",
       "      <td>6.153195</td>\n",
       "      <td>6.971575</td>\n",
       "      <td>5.330206</td>\n",
       "      <td>7.288959</td>\n",
       "      <td>5.761047</td>\n",
       "      <td>3.300689</td>\n",
       "      <td>6.034063</td>\n",
       "      <td>6.792061</td>\n",
       "      <td>NaN</td>\n",
       "      <td>NaN</td>\n",
       "      <td>NaN</td>\n",
       "      <td>6.221525</td>\n",
       "      <td>NaN</td>\n",
       "      <td>1.914627</td>\n",
       "      <td>5.215574</td>\n",
       "      <td>-0.507308</td>\n",
       "      <td>NaN</td>\n",
       "      <td>NaN</td>\n",
       "      <td>NaN</td>\n",
       "      <td>NaN</td>\n",
       "      <td>NaN</td>\n",
       "      <td>NaN</td>\n",
       "      <td>NaN</td>\n",
       "      <td>NaN</td>\n",
       "    </tr>\n",
       "  </tbody>\n",
       "</table>\n",
       "<p>976 rows × 748 columns</p>\n",
       "</div>"
      ],
      "text/plain": [
       "drug_id             1         3         5         6         9         11    \\\n",
       "cell_line_name                                                               \n",
       "201T                 NaN       NaN       NaN       NaN       NaN       NaN   \n",
       "22RV1                NaN       NaN       NaN       NaN       NaN       NaN   \n",
       "23132-87             NaN       NaN       NaN       NaN       NaN       NaN   \n",
       "42-MG-BA             NaN       NaN       NaN       NaN       NaN       NaN   \n",
       "451Lu                NaN       NaN       NaN       NaN       NaN       NaN   \n",
       "...                  ...       ...       ...       ...       ...       ...   \n",
       "YT              2.908260 -0.268395  2.698757  2.474392  1.098876 -0.061054   \n",
       "ZR-75-30             NaN       NaN       NaN       NaN       NaN       NaN   \n",
       "huH-1                NaN       NaN       NaN       NaN       NaN       NaN   \n",
       "no-10           3.316059       NaN  2.610164  3.461046 -2.773244 -5.440459   \n",
       "no-11           1.851850 -4.583701  2.369846  3.923896 -0.473464 -3.511284   \n",
       "\n",
       "drug_id             17        29        30        32        34        35    \\\n",
       "cell_line_name                                                               \n",
       "201T                 NaN       NaN       NaN       NaN       NaN       NaN   \n",
       "22RV1                NaN       NaN       NaN       NaN       NaN       NaN   \n",
       "23132-87             NaN       NaN       NaN       NaN       NaN       NaN   \n",
       "42-MG-BA             NaN       NaN       NaN       NaN       NaN       NaN   \n",
       "451Lu                NaN       NaN       NaN       NaN       NaN       NaN   \n",
       "...                  ...       ...       ...       ...       ...       ...   \n",
       "YT              4.990366  1.853297  2.726187  2.765275  2.226785  2.858785   \n",
       "ZR-75-30             NaN       NaN       NaN       NaN       NaN       NaN   \n",
       "huH-1                NaN       NaN       NaN       NaN       NaN       NaN   \n",
       "no-10           2.386766  2.347578  0.804477  2.710215  3.438866  2.308735   \n",
       "no-11           3.504893  4.547182  1.049980  2.211105  3.354976  1.857180   \n",
       "\n",
       "drug_id             37        38        41        45        51        52    \\\n",
       "cell_line_name                                                               \n",
       "201T                 NaN       NaN       NaN       NaN       NaN       NaN   \n",
       "22RV1                NaN       NaN       NaN       NaN       NaN       NaN   \n",
       "23132-87             NaN       NaN       NaN       NaN       NaN       NaN   \n",
       "42-MG-BA             NaN       NaN       NaN       NaN       NaN       NaN   \n",
       "451Lu                NaN       NaN       NaN       NaN       NaN       NaN   \n",
       "...                  ...       ...       ...       ...       ...       ...   \n",
       "YT              2.816411  2.543693  3.637532  1.846060  2.380412  1.085639   \n",
       "ZR-75-30             NaN       NaN       NaN       NaN       NaN       NaN   \n",
       "huH-1                NaN       NaN       NaN       NaN       NaN       NaN   \n",
       "no-10           3.675696  2.981811  0.730689 -0.553834 -1.275568       NaN   \n",
       "no-11           3.491180  3.549035  1.465236  0.931759 -0.663318  3.511116   \n",
       "\n",
       "drug_id             53        54        55        56        59        60    \\\n",
       "cell_line_name                                                               \n",
       "201T                 NaN       NaN       NaN       NaN       NaN       NaN   \n",
       "22RV1                NaN       NaN       NaN       NaN       NaN       NaN   \n",
       "23132-87             NaN       NaN       NaN       NaN       NaN       NaN   \n",
       "42-MG-BA             NaN       NaN       NaN       NaN       NaN       NaN   \n",
       "451Lu                NaN       NaN       NaN       NaN       NaN       NaN   \n",
       "...                  ...       ...       ...       ...       ...       ...   \n",
       "YT             -0.023284  2.113494  3.842999  3.845487  4.260833  0.756876   \n",
       "ZR-75-30             NaN       NaN       NaN       NaN       NaN       NaN   \n",
       "huH-1                NaN       NaN       NaN       NaN       NaN       NaN   \n",
       "no-10          -4.460548  1.254658  0.236152  1.189016  2.535871 -3.356561   \n",
       "no-11          -3.518197  3.381137  2.817206  1.787532  5.483060 -2.065865   \n",
       "\n",
       "drug_id             62    ...      2325      2326      2327      2328  \\\n",
       "cell_line_name            ...                                           \n",
       "201T                 NaN  ...  5.870982  5.901380  5.996507  5.636945   \n",
       "22RV1                NaN  ...  6.787820  6.072041  5.858659  3.540457   \n",
       "23132-87             NaN  ...       NaN       NaN       NaN       NaN   \n",
       "42-MG-BA             NaN  ...       NaN       NaN       NaN       NaN   \n",
       "451Lu                NaN  ...  5.831446  4.946957  6.305027  6.003010   \n",
       "...                  ...  ...       ...       ...       ...       ...   \n",
       "YT              3.850969  ...  1.666867  4.628862  3.785652  2.918595   \n",
       "ZR-75-30             NaN  ...  7.860491  7.339176  7.239524  5.574615   \n",
       "huH-1                NaN  ...       NaN       NaN       NaN       NaN   \n",
       "no-10           1.320255  ...  5.939381  6.281612  6.320535  6.233836   \n",
       "no-11           2.312638  ...  4.819473  6.153195  6.971575  5.330206   \n",
       "\n",
       "drug_id             2329      2330      2331      2332      2333      2354  \\\n",
       "cell_line_name                                                               \n",
       "201T            5.997801  4.637606  1.309036  2.721478  4.181515       NaN   \n",
       "22RV1           6.786412  4.742216  0.555244  2.990707  2.973256  1.674832   \n",
       "23132-87             NaN       NaN       NaN       NaN       NaN       NaN   \n",
       "42-MG-BA             NaN       NaN       NaN       NaN       NaN       NaN   \n",
       "451Lu           5.940172  6.067511  1.819962  5.750885  4.157291       NaN   \n",
       "...                  ...       ...       ...       ...       ...       ...   \n",
       "YT              4.501810  2.196095 -2.399643  1.281605  1.563641 -4.303745   \n",
       "ZR-75-30        7.959680  7.788697  2.467134  6.139153  4.679489  3.733677   \n",
       "huH-1                NaN       NaN       NaN       NaN       NaN       NaN   \n",
       "no-10           6.233310  5.348504  2.474701  5.832753  5.766394       NaN   \n",
       "no-11           7.288959  5.761047  3.300689  6.034063  6.792061       NaN   \n",
       "\n",
       "drug_id             2359      2363      2365  2459      2460      2463  \\\n",
       "cell_line_name                                                           \n",
       "201T                 NaN       NaN  5.638761   NaN -3.627500  5.184041   \n",
       "22RV1           6.409723  4.921199  5.401424   NaN -0.768656       NaN   \n",
       "23132-87             NaN       NaN       NaN   NaN -2.620696       NaN   \n",
       "42-MG-BA             NaN       NaN       NaN   NaN -2.458343       NaN   \n",
       "451Lu                NaN       NaN  6.310095   NaN -2.283345  4.571119   \n",
       "...                  ...       ...       ...   ...       ...       ...   \n",
       "YT              2.975300  1.167491  1.120026   NaN -2.718116       NaN   \n",
       "ZR-75-30        7.857623  5.264153  4.517664   NaN  5.370678       NaN   \n",
       "huH-1                NaN       NaN       NaN   NaN -0.447768       NaN   \n",
       "no-10                NaN       NaN  4.520830   NaN  3.479456  3.849512   \n",
       "no-11                NaN       NaN  6.221525   NaN  1.914627  5.215574   \n",
       "\n",
       "drug_id             2466  2502      2503      2504      2505      2508  \\\n",
       "cell_line_name                                                           \n",
       "201T           -0.422523   NaN       NaN       NaN       NaN       NaN   \n",
       "22RV1          -0.725752   NaN  4.676666  4.450442  4.757823 -0.212632   \n",
       "23132-87        0.556695   NaN  5.438592  5.793948  5.793286  2.771553   \n",
       "42-MG-BA       -0.464562   NaN  3.518116  4.709746  2.136491  2.214111   \n",
       "451Lu           0.707160   NaN       NaN       NaN       NaN       NaN   \n",
       "...                  ...   ...       ...       ...       ...       ...   \n",
       "YT             -1.644927   NaN  2.734761  4.700374  2.852202 -0.624989   \n",
       "ZR-75-30       -0.679805   NaN  5.851197  6.041822  5.735743  5.627451   \n",
       "huH-1           0.766528   NaN  6.628048  6.388593  3.923482  3.881492   \n",
       "no-10          -0.405675   NaN       NaN       NaN       NaN       NaN   \n",
       "no-11          -0.507308   NaN       NaN       NaN       NaN       NaN   \n",
       "\n",
       "drug_id             2509      2510  2638  \n",
       "cell_line_name                            \n",
       "201T                 NaN       NaN   NaN  \n",
       "22RV1           0.494102  4.664021   NaN  \n",
       "23132-87        4.419663  4.577746   NaN  \n",
       "42-MG-BA       -0.470880  2.102269   NaN  \n",
       "451Lu                NaN       NaN   NaN  \n",
       "...                  ...       ...   ...  \n",
       "YT              0.787039  2.770210   NaN  \n",
       "ZR-75-30        2.403586  6.918636   NaN  \n",
       "huH-1           4.391250  5.750049   NaN  \n",
       "no-10                NaN       NaN   NaN  \n",
       "no-11                NaN       NaN   NaN  \n",
       "\n",
       "[976 rows x 748 columns]"
      ]
     },
     "execution_count": 148,
     "metadata": {},
     "output_type": "execute_result"
    }
   ],
   "source": [
    "pd.pivot(ic50, index='cell_line_name', columns='drug_id', values='ln_IC50')"
   ]
  },
  {
   "cell_type": "code",
   "execution_count": 149,
   "metadata": {
    "ExecuteTime": {
     "end_time": "2020-06-05T08:15:27.575494Z",
     "start_time": "2020-06-05T08:15:27.529859Z"
    }
   },
   "outputs": [],
   "source": [
    "ic50_corrected = pd.melt(ic50_wide.drop(['growth'], axis=1).reset_index(),\n",
    "                         id_vars='cell_line_name',\n",
    "                         var_name='drug_id',\n",
    "                         value_name='ln_IC50')"
   ]
  },
  {
   "cell_type": "code",
   "execution_count": 150,
   "metadata": {
    "ExecuteTime": {
     "end_time": "2020-06-05T08:15:28.765791Z",
     "start_time": "2020-06-05T08:15:27.577363Z"
    }
   },
   "outputs": [],
   "source": [
    "ic50_corrected = pd.merge(ic50_corrected,\n",
    "                          ic50.drop(['ln_IC50'], axis=1),\n",
    "                          on=['cell_line_name', 'drug_id'])"
   ]
  },
  {
   "cell_type": "code",
   "execution_count": 151,
   "metadata": {
    "ExecuteTime": {
     "end_time": "2020-06-05T08:15:28.798345Z",
     "start_time": "2020-06-05T08:15:28.767286Z"
    }
   },
   "outputs": [],
   "source": [
    "ic50 = ic50_corrected"
   ]
  },
  {
   "cell_type": "code",
   "execution_count": 152,
   "metadata": {
    "ExecuteTime": {
     "end_time": "2020-06-05T08:15:28.827296Z",
     "start_time": "2020-06-05T08:15:28.799620Z"
    }
   },
   "outputs": [],
   "source": [
    "ic50['IC50_raw'] = np.exp(ic50['ln_IC50'])\n",
    "\n",
    "ic50['IC50_norm_raw'] = ic50['IC50_raw'] / ic50['max_screening_conc']\n",
    "\n",
    "ic50['IC50_norm'] = np.log(ic50['IC50_norm_raw'])\n",
    "\n",
    "ic50['sensitive'] = (ic50['IC50_raw'] < ic50['max_screening_conc']).astype(int)\n",
    "\n",
    "ic50['IC50_norm_scaled'] = MinMaxScaler().fit_transform(ic50['IC50_norm'].values.reshape(-1,1))"
   ]
  },
  {
   "cell_type": "code",
   "execution_count": 153,
   "metadata": {
    "ExecuteTime": {
     "end_time": "2020-06-05T08:15:38.370147Z",
     "start_time": "2020-06-05T08:15:28.828894Z"
    }
   },
   "outputs": [],
   "source": [
    "ic50.to_csv(\"../data/drug/drug_final_processed_growth_corrected.csv\", index=False)"
   ]
  },
  {
   "cell_type": "markdown",
   "metadata": {},
   "source": [
    "## regress out PC1"
   ]
  },
  {
   "cell_type": "code",
   "execution_count": 154,
   "metadata": {
    "ExecuteTime": {
     "end_time": "2020-06-05T11:40:01.923794Z",
     "start_time": "2020-06-05T11:40:01.889533Z"
    }
   },
   "outputs": [],
   "source": [
    "meta = pd.read_csv(\"../data/E0022_P06_final_sample_map_no_control.txt\", sep='\\t')"
   ]
  },
  {
   "cell_type": "code",
   "execution_count": 155,
   "metadata": {
    "ExecuteTime": {
     "end_time": "2020-06-05T11:40:07.070490Z",
     "start_time": "2020-06-05T11:40:02.322398Z"
    }
   },
   "outputs": [],
   "source": [
    "ic50 = pd.read_csv(\"../data/drug/DrugResponse_PANCANCER_GDSC1_GDSC2_20200605.csv.gz\", low_memory=False)"
   ]
  },
  {
   "cell_type": "code",
   "execution_count": 156,
   "metadata": {
    "ExecuteTime": {
     "end_time": "2020-06-05T11:40:08.266827Z",
     "start_time": "2020-06-05T11:40:07.072456Z"
    }
   },
   "outputs": [],
   "source": [
    "ic50 = ic50.sort_values(by=['dataset']).reset_index(drop=True)\n",
    "ic50 = ic50.drop_duplicates(\n",
    "    ['drug_id', 'cell_line_name'], keep='last').sort_values(\n",
    "        by=['drug_id', 'cell_line_name']).reset_index(drop=True)\n",
    "ic50 = ic50[ic50['cell_line_name'].isin(meta['Cell_line'].unique())]"
   ]
  },
  {
   "cell_type": "code",
   "execution_count": 166,
   "metadata": {
    "ExecuteTime": {
     "end_time": "2020-06-05T11:42:39.639604Z",
     "start_time": "2020-06-05T11:42:39.486186Z"
    }
   },
   "outputs": [],
   "source": [
    "ic50_wide = pd.pivot(ic50, index='cell_line_name', columns='drug_id', values='ln_IC50')"
   ]
  },
  {
   "cell_type": "code",
   "execution_count": 160,
   "metadata": {
    "ExecuteTime": {
     "end_time": "2020-06-05T11:41:16.378652Z",
     "start_time": "2020-06-05T11:41:14.558358Z"
    }
   },
   "outputs": [],
   "source": [
    "ic50_wide_knn = pd.DataFrame(KNNImputer().fit_transform(ic50_wide),\n",
    "                             index=ic50_wide.index,\n",
    "                             columns=ic50_wide.columns)"
   ]
  },
  {
   "cell_type": "code",
   "execution_count": 165,
   "metadata": {
    "ExecuteTime": {
     "end_time": "2020-06-05T11:42:35.162329Z",
     "start_time": "2020-06-05T11:42:35.139697Z"
    }
   },
   "outputs": [],
   "source": [
    "pca = PCA(n_components=1)\n",
    "pca.fit(ic50_wide_knn)\n",
    "df_pca = pd.DataFrame(\n",
    "    pca.transform(ic50_wide_knn),\n",
    "    index=ic50_wide_knn.index,\n",
    "    columns=[f\"PC{x+1}\" for x in range(pca.components_.T.shape[1])])"
   ]
  },
  {
   "cell_type": "code",
   "execution_count": 167,
   "metadata": {
    "ExecuteTime": {
     "end_time": "2020-06-05T11:42:41.060270Z",
     "start_time": "2020-06-05T11:42:41.048973Z"
    }
   },
   "outputs": [],
   "source": [
    "ic50_wide = pd.merge(ic50_wide, df_pca.reset_index(), on=['cell_line_name'])"
   ]
  },
  {
   "cell_type": "code",
   "execution_count": 170,
   "metadata": {
    "ExecuteTime": {
     "end_time": "2020-06-05T11:43:37.478447Z",
     "start_time": "2020-06-05T11:43:37.474606Z"
    }
   },
   "outputs": [],
   "source": [
    "ic50_wide = ic50_wide.set_index('cell_line_name')"
   ]
  },
  {
   "cell_type": "code",
   "execution_count": 171,
   "metadata": {
    "ExecuteTime": {
     "end_time": "2020-06-05T11:43:41.879717Z",
     "start_time": "2020-06-05T11:43:38.190893Z"
    }
   },
   "outputs": [],
   "source": [
    "for drug_id in ic50_wide.columns:\n",
    "    if drug_id == 'PC1':\n",
    "        continue\n",
    "    y = ic50_wide[~ic50_wide[drug_id].isna()][drug_id]\n",
    "    x = ic50_wide[~ic50_wide[drug_id].isna()]['PC1'].values.reshape(-1, 1)\n",
    "    lr = LinearRegression()\n",
    "    lr.fit(x, y)\n",
    "    y_pred = lr.predict(x)\n",
    "    residual = y - y_pred\n",
    "    ic50_wide.loc[~ic50_wide[drug_id].isna(), drug_id] = residual.values"
   ]
  },
  {
   "cell_type": "code",
   "execution_count": 174,
   "metadata": {
    "ExecuteTime": {
     "end_time": "2020-06-05T11:44:26.744524Z",
     "start_time": "2020-06-05T11:44:26.659051Z"
    }
   },
   "outputs": [],
   "source": [
    "ic50_corrected = pd.melt(ic50_wide.drop(['PC1'], axis=1).reset_index(),\n",
    "                         id_vars='cell_line_name',\n",
    "                         var_name='drug_id',\n",
    "                         value_name='ln_IC50')"
   ]
  },
  {
   "cell_type": "code",
   "execution_count": 175,
   "metadata": {
    "ExecuteTime": {
     "end_time": "2020-06-05T11:44:30.644799Z",
     "start_time": "2020-06-05T11:44:29.443188Z"
    }
   },
   "outputs": [],
   "source": [
    "ic50_corrected = pd.merge(ic50_corrected,\n",
    "                          ic50.drop(['ln_IC50'], axis=1),\n",
    "                          on=['cell_line_name', 'drug_id'])"
   ]
  },
  {
   "cell_type": "code",
   "execution_count": 176,
   "metadata": {
    "ExecuteTime": {
     "end_time": "2020-06-05T11:44:31.463201Z",
     "start_time": "2020-06-05T11:44:31.428495Z"
    }
   },
   "outputs": [],
   "source": [
    "ic50 = ic50_corrected"
   ]
  },
  {
   "cell_type": "code",
   "execution_count": 177,
   "metadata": {
    "ExecuteTime": {
     "end_time": "2020-06-05T11:44:32.447581Z",
     "start_time": "2020-06-05T11:44:32.424733Z"
    }
   },
   "outputs": [],
   "source": [
    "ic50['IC50_raw'] = np.exp(ic50['ln_IC50'])\n",
    "\n",
    "ic50['IC50_norm_raw'] = ic50['IC50_raw'] / ic50['max_screening_conc']\n",
    "\n",
    "ic50['IC50_norm'] = np.log(ic50['IC50_norm_raw'])\n",
    "\n",
    "ic50['sensitive'] = (ic50['IC50_raw'] < ic50['max_screening_conc']).astype(int)\n",
    "\n",
    "ic50['IC50_norm_scaled'] = MinMaxScaler().fit_transform(ic50['IC50_norm'].values.reshape(-1,1))"
   ]
  },
  {
   "cell_type": "code",
   "execution_count": 178,
   "metadata": {
    "ExecuteTime": {
     "end_time": "2020-06-05T11:44:44.639047Z",
     "start_time": "2020-06-05T11:44:34.848279Z"
    }
   },
   "outputs": [],
   "source": [
    "ic50.to_csv(\"../data/drug/drug_final_processed_pc1_corrected.csv\", index=False)"
   ]
  },
  {
   "cell_type": "markdown",
   "metadata": {},
   "source": [
    "## FDA"
   ]
  },
  {
   "cell_type": "code",
   "execution_count": 243,
   "metadata": {
    "ExecuteTime": {
     "end_time": "2020-06-08T12:12:32.270364Z",
     "start_time": "2020-06-08T12:12:32.264791Z"
    }
   },
   "outputs": [],
   "source": [
    "fda_approval = [x.lower() for x in pd.read_csv(\"../data/drug/FDA_approved.csv\")['DRUG_NAME'].values]"
   ]
  },
  {
   "cell_type": "code",
   "execution_count": 269,
   "metadata": {
    "ExecuteTime": {
     "end_time": "2020-06-08T12:22:39.788604Z",
     "start_time": "2020-06-08T12:22:34.669865Z"
    }
   },
   "outputs": [],
   "source": [
    "ic50 = pd.read_csv(\"../data/drug/drug_final_processed.csv.gz\", low_memory=False)"
   ]
  },
  {
   "cell_type": "code",
   "execution_count": 270,
   "metadata": {
    "ExecuteTime": {
     "end_time": "2020-06-08T12:22:39.802529Z",
     "start_time": "2020-06-08T12:22:39.790214Z"
    }
   },
   "outputs": [],
   "source": [
    "sensitive_count_map = ic50.groupby(['drug_id'])['sensitive'].sum().reset_index(\n",
    "    name='sensitive_count').set_index('drug_id').to_dict()['sensitive_count']"
   ]
  },
  {
   "cell_type": "code",
   "execution_count": 271,
   "metadata": {
    "ExecuteTime": {
     "end_time": "2020-06-08T12:22:39.858899Z",
     "start_time": "2020-06-08T12:22:39.804498Z"
    }
   },
   "outputs": [],
   "source": [
    "ic50 = ic50.drop_duplicates(subset=['drug_id'])"
   ]
  },
  {
   "cell_type": "code",
   "execution_count": 272,
   "metadata": {
    "ExecuteTime": {
     "end_time": "2020-06-08T12:22:39.864020Z",
     "start_time": "2020-06-08T12:22:39.860819Z"
    }
   },
   "outputs": [],
   "source": [
    "ic50['FDA_Approved'] = 'Yes'"
   ]
  },
  {
   "cell_type": "code",
   "execution_count": 273,
   "metadata": {
    "ExecuteTime": {
     "end_time": "2020-06-08T12:22:40.919837Z",
     "start_time": "2020-06-08T12:22:40.560384Z"
    }
   },
   "outputs": [],
   "source": [
    "for index, row in ic50.iterrows():\n",
    "    drug_names = [row['drug_name'].lower()]\n",
    "    if not pd.isna(row['drug_synonyms']):\n",
    "        drug_names.extend([x.strip().lower() for x in row['drug_synonyms'].split(',')])\n",
    "    fda_approved = False\n",
    "    for name in drug_names:\n",
    "        for fda_name in fda_approval:\n",
    "            if name in fda_name:\n",
    "                fda_approved = True\n",
    "                break\n",
    "    if fda_approved:\n",
    "        ic50.loc[index, 'FDA_Approved'] = 'Yes'\n",
    "    else:\n",
    "        ic50.loc[index, 'FDA_Approved'] = 'NotConfirmed'"
   ]
  },
  {
   "cell_type": "code",
   "execution_count": 274,
   "metadata": {
    "ExecuteTime": {
     "end_time": "2020-06-08T12:22:41.476302Z",
     "start_time": "2020-06-08T12:22:41.471270Z"
    }
   },
   "outputs": [
    {
     "data": {
      "text/plain": [
       "FDA_Approved\n",
       "NotConfirmed    628\n",
       "Yes             120\n",
       "dtype: int64"
      ]
     },
     "execution_count": 274,
     "metadata": {},
     "output_type": "execute_result"
    }
   ],
   "source": [
    "ic50.groupby(['FDA_Approved']).size()"
   ]
  },
  {
   "cell_type": "code",
   "execution_count": 275,
   "metadata": {
    "ExecuteTime": {
     "end_time": "2020-06-08T12:22:42.234954Z",
     "start_time": "2020-06-08T12:22:42.230740Z"
    }
   },
   "outputs": [],
   "source": [
    "ic50 = ic50.drop([\n",
    "    'num_replicates', 'RMSE', 'sample_treatment', 'putative_target',\n",
    "    'model_treatment', 'model_name', 'msi_status', 'CHEMBL', 'ln_IC50',\n",
    "    'model_id', 'master_cell_id', 'sample_treatment_details',\n",
    "    'max_screening_conc', 'cancer_type', 'tissue', 'AUC', 'IC50_raw',\n",
    "    'IC50_norm_raw', 'IC50_norm', 'sensitive', 'IC50_norm_scaled'\n",
    "],\n",
    "                 axis=1)"
   ]
  },
  {
   "cell_type": "code",
   "execution_count": 276,
   "metadata": {
    "ExecuteTime": {
     "end_time": "2020-06-08T12:23:08.100676Z",
     "start_time": "2020-06-08T12:23:08.095605Z"
    }
   },
   "outputs": [],
   "source": [
    "ic50['sensitive_count'] = ic50['drug_id'].map(sensitive_count_map)"
   ]
  },
  {
   "cell_type": "code",
   "execution_count": 277,
   "metadata": {
    "ExecuteTime": {
     "end_time": "2020-06-08T12:23:09.771922Z",
     "start_time": "2020-06-08T12:23:09.762552Z"
    }
   },
   "outputs": [],
   "source": [
    "ic50.to_csv(\"../data/drug/drug_info.csv\", index=False)"
   ]
  },
  {
   "cell_type": "markdown",
   "metadata": {},
   "source": [
    "# DL output"
   ]
  },
  {
   "cell_type": "code",
   "execution_count": 231,
   "metadata": {
    "ExecuteTime": {
     "end_time": "2020-06-08T10:38:07.281312Z",
     "start_time": "2020-06-08T10:38:06.860277Z"
    }
   },
   "outputs": [],
   "source": [
    "dl_df = pd.read_csv(\"../work_dirs/protein/MultiDrug/scores_202006061203_resx_ruv_zero_300_pc1_corrected.csv\")"
   ]
  },
  {
   "cell_type": "code",
   "execution_count": 232,
   "metadata": {
    "ExecuteTime": {
     "end_time": "2020-06-08T10:38:07.287207Z",
     "start_time": "2020-06-08T10:38:07.282926Z"
    }
   },
   "outputs": [],
   "source": [
    "def deep_learning_cv_score(df):\n",
    "    scores_cv_long = []\n",
    "    for i in range(5):\n",
    "        scores_multi_protein_cv_c = df[\n",
    "            df['run'] == f'cv_{i}'].reset_index(drop=True)\n",
    "\n",
    "        max_epoch = scores_multi_protein_cv_c.groupby(\n",
    "            ['epoch']).median()['corr'].reset_index()\n",
    "        max_epoch = np.squeeze(max_epoch[max_epoch['corr'] ==\n",
    "                                         max_epoch['corr'].max()]['epoch'])\n",
    "        scores_cv_long.append(df[\n",
    "            (df['run'] == f'cv_{i}')\n",
    "            & (df['epoch'] == max_epoch)].reset_index(drop=True))\n",
    "    scores_cv_long = pd.concat(scores_cv_long).drop(['epoch', 'mae'], axis=1)\n",
    "    return scores_cv_long"
   ]
  },
  {
   "cell_type": "code",
   "execution_count": 233,
   "metadata": {
    "ExecuteTime": {
     "end_time": "2020-06-08T10:38:07.936434Z",
     "start_time": "2020-06-08T10:38:07.289187Z"
    }
   },
   "outputs": [],
   "source": [
    "res = pd.concat([\n",
    "    deep_learning_cv_score(dl_df[dl_df['run'] != 'test']),\n",
    "    dl_df[(dl_df['run'] == 'test')&(dl_df['epoch'] == 70)].drop(['epoch', 'mae'], axis=1)\n",
    "])"
   ]
  },
  {
   "cell_type": "code",
   "execution_count": 234,
   "metadata": {
    "ExecuteTime": {
     "end_time": "2020-06-08T10:38:08.509988Z",
     "start_time": "2020-06-08T10:38:08.506148Z"
    }
   },
   "outputs": [
    {
     "data": {
      "text/plain": [
       "0.30532035277723213"
      ]
     },
     "execution_count": 234,
     "metadata": {},
     "output_type": "execute_result"
    }
   ],
   "source": [
    "res['corr'].median()"
   ]
  },
  {
   "cell_type": "code",
   "execution_count": 235,
   "metadata": {
    "ExecuteTime": {
     "end_time": "2020-06-08T10:38:12.860651Z",
     "start_time": "2020-06-08T10:38:12.854300Z"
    }
   },
   "outputs": [],
   "source": [
    "res_wide = pd.pivot(res, index='drug_id', columns='run', values='corr')"
   ]
  },
  {
   "cell_type": "code",
   "execution_count": 236,
   "metadata": {
    "ExecuteTime": {
     "end_time": "2020-06-08T10:38:16.646013Z",
     "start_time": "2020-06-08T10:38:16.634521Z"
    }
   },
   "outputs": [],
   "source": [
    "res_wide.to_csv(\"../result_files/score_dl_ic50_pc1_corrected.csv\")"
   ]
  },
  {
   "cell_type": "markdown",
   "metadata": {},
   "source": [
    "# ccle common drugs"
   ]
  },
  {
   "cell_type": "code",
   "execution_count": 373,
   "metadata": {
    "ExecuteTime": {
     "end_time": "2020-06-11T08:56:54.784724Z",
     "start_time": "2020-06-11T08:56:49.241017Z"
    }
   },
   "outputs": [],
   "source": [
    "ccle_drug = pd.read_csv(\"../data/ccle/drug_all_ccle_secondary_processed_auc.csv\")\n",
    "sanger_drug = pd.read_csv(\"../data/drug/drug_final_processed.csv.gz\", low_memory=False)"
   ]
  },
  {
   "cell_type": "code",
   "execution_count": 381,
   "metadata": {
    "ExecuteTime": {
     "end_time": "2020-06-11T08:58:26.458281Z",
     "start_time": "2020-06-11T08:58:26.423299Z"
    }
   },
   "outputs": [],
   "source": [
    "ccle_drug_name = ccle_drug.drop_duplicates(['drug_id']).reset_index(drop=True)\n",
    "sanger_drug_name = sanger_drug.drop_duplicates(['drug_id']).reset_index(drop=True)\n"
   ]
  },
  {
   "cell_type": "code",
   "execution_count": 385,
   "metadata": {
    "ExecuteTime": {
     "end_time": "2020-06-11T08:59:47.921016Z",
     "start_time": "2020-06-11T08:59:46.225927Z"
    }
   },
   "outputs": [],
   "source": [
    "sanger_common_index = []\n",
    "ccle_drug_name_common = []\n",
    "for index, row in sanger_drug_name.iterrows():\n",
    "    if row['drug_name'].lower() in ccle_drug_name['drug_name'].unique():\n",
    "        sanger_common_index.append(index)\n",
    "        ccle_drug_name_common.append(row['drug_name'].lower())\n",
    "    elif not pd.isna(row['drug_synonyms']):\n",
    "        for syn in row['drug_synonyms']:\n",
    "            if syn.lower() in ccle_drug_name['drug_name'].unique():\n",
    "                sanger_common_index.append(index)\n",
    "                ccle_drug_name_common.append(syn)\n",
    "                break\n",
    "    "
   ]
  },
  {
   "cell_type": "code",
   "execution_count": 389,
   "metadata": {
    "ExecuteTime": {
     "end_time": "2020-06-11T09:00:50.349079Z",
     "start_time": "2020-06-11T09:00:50.345162Z"
    }
   },
   "outputs": [],
   "source": [
    "sanger_drug_id_common = sanger_drug_name.iloc[sanger_common_index,2]"
   ]
  },
  {
   "cell_type": "code",
   "execution_count": 391,
   "metadata": {
    "ExecuteTime": {
     "end_time": "2020-06-11T09:01:13.794499Z",
     "start_time": "2020-06-11T09:01:13.732447Z"
    }
   },
   "outputs": [],
   "source": [
    "sanger_drug_common = sanger_drug[sanger_drug['drug_id'].isin(sanger_drug_id_common)]"
   ]
  },
  {
   "cell_type": "code",
   "execution_count": 393,
   "metadata": {
    "ExecuteTime": {
     "end_time": "2020-06-11T09:01:44.034307Z",
     "start_time": "2020-06-11T09:01:44.021968Z"
    }
   },
   "outputs": [],
   "source": [
    "ccle_drug_common = ccle_drug[ccle_drug['drug_name'].isin(ccle_drug_name_common)]"
   ]
  },
  {
   "cell_type": "code",
   "execution_count": 397,
   "metadata": {
    "ExecuteTime": {
     "end_time": "2020-06-11T09:03:00.670111Z",
     "start_time": "2020-06-11T09:02:58.560482Z"
    }
   },
   "outputs": [],
   "source": [
    "sanger_drug_common.to_csv(\"../data/drug/ccle_common_final_drug.csv\", index=False)"
   ]
  },
  {
   "cell_type": "code",
   "execution_count": 399,
   "metadata": {
    "ExecuteTime": {
     "end_time": "2020-06-11T09:04:42.281104Z",
     "start_time": "2020-06-11T09:04:42.202227Z"
    }
   },
   "outputs": [],
   "source": [
    "ccle_drug_common.to_csv(\"../data/ccle/sanger_common_final_drug_auc.csv\", index=False)"
   ]
  },
  {
   "cell_type": "code",
   "execution_count": null,
   "metadata": {},
   "outputs": [],
   "source": []
  }
 ],
 "metadata": {
  "kernelspec": {
   "display_name": "Python 3",
   "language": "python",
   "name": "python3"
  },
  "language_info": {
   "codemirror_mode": {
    "name": "ipython",
    "version": 3
   },
   "file_extension": ".py",
   "mimetype": "text/x-python",
   "name": "python",
   "nbconvert_exporter": "python",
   "pygments_lexer": "ipython3",
   "version": "3.8.2"
  },
  "toc": {
   "base_numbering": 1,
   "nav_menu": {},
   "number_sections": true,
   "sideBar": true,
   "skip_h1_title": false,
   "title_cell": "Table of Contents",
   "title_sidebar": "Contents",
   "toc_cell": false,
   "toc_position": {
    "height": "calc(100% - 180px)",
    "left": "10px",
    "top": "150px",
    "width": "349px"
   },
   "toc_section_display": true,
   "toc_window_display": true
  }
 },
 "nbformat": 4,
 "nbformat_minor": 2
}
