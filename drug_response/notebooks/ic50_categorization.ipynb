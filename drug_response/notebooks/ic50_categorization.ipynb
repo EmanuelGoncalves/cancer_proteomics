{
 "cells": [
  {
   "cell_type": "code",
   "execution_count": 4,
   "metadata": {
    "ExecuteTime": {
     "end_time": "2020-03-16T04:01:58.170499Z",
     "start_time": "2020-03-16T04:01:58.168002Z"
    }
   },
   "outputs": [],
   "source": [
    "import pandas as pd\n",
    "import numpy as np\n",
    "from sklearn.preprocessing import MinMaxScaler"
   ]
  },
  {
   "cell_type": "code",
   "execution_count": 3,
   "metadata": {
    "ExecuteTime": {
     "end_time": "2020-03-16T03:58:29.923293Z",
     "start_time": "2020-03-16T03:58:28.586658Z"
    }
   },
   "outputs": [],
   "source": [
    "ic50 = pd.read_csv(\n",
    "    \"../data/drug/DrugResponse_PANCANCER_GDSC1_GDSC2_IC_20191119.csv\")\n",
    "ic50 = ic50.sort_values(by=['Dataset version'])\n",
    "ic50 = ic50.drop_duplicates(\n",
    "    ['Drug Id', 'Cell line name'], keep='last').sort_values(\n",
    "        by=['Drug Id', 'Cell line name']).reset_index(drop=True)"
   ]
  },
  {
   "cell_type": "code",
   "execution_count": 14,
   "metadata": {
    "ExecuteTime": {
     "end_time": "2020-03-16T04:07:38.383322Z",
     "start_time": "2020-03-16T04:07:38.376492Z"
    }
   },
   "outputs": [],
   "source": [
    "ic50['IC50_norm'] = 0"
   ]
  },
  {
   "cell_type": "code",
   "execution_count": 15,
   "metadata": {
    "ExecuteTime": {
     "end_time": "2020-03-16T04:07:42.157161Z",
     "start_time": "2020-03-16T04:07:39.644762Z"
    }
   },
   "outputs": [],
   "source": [
    "for drug in ic50['Drug Id'].unique():\n",
    "    scaler = MinMaxScaler()\n",
    "    ic50.loc[ic50['Drug Id'] == drug, 'IC50_norm'] = scaler.fit_transform(\n",
    "        ic50[ic50['Drug Id'] == drug]['IC50'].values.reshape(-1, 1))"
   ]
  },
  {
   "cell_type": "code",
   "execution_count": 17,
   "metadata": {
    "ExecuteTime": {
     "end_time": "2020-03-16T04:08:06.929835Z",
     "start_time": "2020-03-16T04:08:06.913910Z"
    }
   },
   "outputs": [],
   "source": [
    "tmp = ic50.groupby(['Drug Id'])['IC50_norm'].agg(np.median).reset_index()\n",
    "ic50_median = dict(zip(tmp['Drug Id'].values, tmp['IC50_norm'].values))"
   ]
  },
  {
   "cell_type": "code",
   "execution_count": 18,
   "metadata": {
    "ExecuteTime": {
     "end_time": "2020-03-16T04:08:13.456615Z",
     "start_time": "2020-03-16T04:08:07.308826Z"
    }
   },
   "outputs": [],
   "source": [
    "ic50['rel_sensitive'] = ic50.apply(\n",
    "    lambda row: row['IC50_norm'] < ic50_median[row['Drug Id']], axis=1)\n",
    "ic50['rel_sensitive'] = ic50['rel_sensitive'].astype(int)"
   ]
  },
  {
   "cell_type": "code",
   "execution_count": 19,
   "metadata": {
    "ExecuteTime": {
     "end_time": "2020-03-16T04:08:15.000366Z",
     "start_time": "2020-03-16T04:08:14.982095Z"
    }
   },
   "outputs": [
    {
     "data": {
      "text/plain": [
       "count    363120.000000\n",
       "mean          0.499716\n",
       "std           0.500001\n",
       "min           0.000000\n",
       "25%           0.000000\n",
       "50%           0.000000\n",
       "75%           1.000000\n",
       "max           1.000000\n",
       "Name: rel_sensitive, dtype: float64"
      ]
     },
     "execution_count": 19,
     "metadata": {},
     "output_type": "execute_result"
    }
   ],
   "source": [
    "ic50['rel_sensitive'].describe()"
   ]
  },
  {
   "cell_type": "code",
   "execution_count": 23,
   "metadata": {
    "ExecuteTime": {
     "end_time": "2020-03-16T04:10:25.408858Z",
     "start_time": "2020-03-16T04:10:20.414308Z"
    }
   },
   "outputs": [],
   "source": [
    "ic50.to_csv(\"../data/drug/ic50_processed_median.csv\", index=False)"
   ]
  },
  {
   "cell_type": "code",
   "execution_count": 22,
   "metadata": {
    "ExecuteTime": {
     "end_time": "2020-03-16T04:10:02.271850Z",
     "start_time": "2020-03-16T04:10:02.252910Z"
    }
   },
   "outputs": [
    {
     "data": {
      "text/plain": [
       "count    363120.000000\n",
       "mean          0.544308\n",
       "std           0.194840\n",
       "min           0.000000\n",
       "25%           0.405692\n",
       "50%           0.553786\n",
       "75%           0.693729\n",
       "max           1.000000\n",
       "Name: IC50_norm, dtype: float64"
      ]
     },
     "execution_count": 22,
     "metadata": {},
     "output_type": "execute_result"
    }
   ],
   "source": [
    "ic50['IC50_norm'].describe()"
   ]
  },
  {
   "cell_type": "code",
   "execution_count": null,
   "metadata": {},
   "outputs": [],
   "source": []
  }
 ],
 "metadata": {
  "kernelspec": {
   "display_name": "Python 3",
   "language": "python",
   "name": "python3"
  },
  "language_info": {
   "codemirror_mode": {
    "name": "ipython",
    "version": 3
   },
   "file_extension": ".py",
   "mimetype": "text/x-python",
   "name": "python",
   "nbconvert_exporter": "python",
   "pygments_lexer": "ipython3",
   "version": "3.7.3"
  },
  "toc": {
   "base_numbering": 1,
   "nav_menu": {},
   "number_sections": true,
   "sideBar": true,
   "skip_h1_title": false,
   "title_cell": "Table of Contents",
   "title_sidebar": "Contents",
   "toc_cell": false,
   "toc_position": {},
   "toc_section_display": true,
   "toc_window_display": false
  }
 },
 "nbformat": 4,
 "nbformat_minor": 2
}
