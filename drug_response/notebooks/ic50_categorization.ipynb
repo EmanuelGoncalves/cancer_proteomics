{
 "cells": [
  {
   "cell_type": "code",
   "execution_count": 46,
   "metadata": {
    "ExecuteTime": {
     "end_time": "2020-04-03T02:41:34.426199Z",
     "start_time": "2020-04-03T02:41:33.888388Z"
    }
   },
   "outputs": [],
   "source": [
    "import pandas as pd\n",
    "import numpy as np\n",
    "from sklearn.preprocessing import MinMaxScaler\n",
    "import math\n",
    "import seaborn as sns"
   ]
  },
  {
   "cell_type": "code",
   "execution_count": 37,
   "metadata": {
    "ExecuteTime": {
     "end_time": "2020-04-03T01:38:10.106438Z",
     "start_time": "2020-04-03T01:38:08.706624Z"
    }
   },
   "outputs": [],
   "source": [
    "ic50 = pd.read_csv(\n",
    "    \"../data/drug/DrugResponse_PANCANCER_GDSC1_GDSC2_IC_20191119.csv\")\n",
    "\n",
    "ic50 = ic50.sort_values(by=['Dataset version']).reset_index(drop=True)\n",
    "ic50 = ic50.drop_duplicates(\n",
    "    ['Drug Id', 'Cell line name'], keep='last').sort_values(\n",
    "        by=['Drug Id', 'Cell line name']).reset_index(drop=True)"
   ]
  },
  {
   "cell_type": "code",
   "execution_count": 38,
   "metadata": {
    "ExecuteTime": {
     "end_time": "2020-04-03T01:38:10.496949Z",
     "start_time": "2020-04-03T01:38:10.492260Z"
    }
   },
   "outputs": [],
   "source": [
    "ic50['IC50_raw'] = np.exp(ic50['IC50'])"
   ]
  },
  {
   "cell_type": "code",
   "execution_count": 39,
   "metadata": {
    "ExecuteTime": {
     "end_time": "2020-04-03T01:38:10.686085Z",
     "start_time": "2020-04-03T01:38:10.681151Z"
    }
   },
   "outputs": [],
   "source": [
    "ic50['IC50_norm_raw'] = ic50['IC50_raw'] / ic50['Max conc']"
   ]
  },
  {
   "cell_type": "code",
   "execution_count": 41,
   "metadata": {
    "ExecuteTime": {
     "end_time": "2020-04-03T01:38:17.994780Z",
     "start_time": "2020-04-03T01:38:17.989867Z"
    }
   },
   "outputs": [],
   "source": [
    "ic50['IC50_norm'] = np.log(ic50['IC50_norm_raw'])"
   ]
  },
  {
   "cell_type": "code",
   "execution_count": 53,
   "metadata": {
    "ExecuteTime": {
     "end_time": "2020-04-03T02:44:23.524685Z",
     "start_time": "2020-04-03T02:44:23.507675Z"
    }
   },
   "outputs": [
    {
     "data": {
      "text/html": [
       "<div>\n",
       "<style scoped>\n",
       "    .dataframe tbody tr th:only-of-type {\n",
       "        vertical-align: middle;\n",
       "    }\n",
       "\n",
       "    .dataframe tbody tr th {\n",
       "        vertical-align: top;\n",
       "    }\n",
       "\n",
       "    .dataframe thead th {\n",
       "        text-align: right;\n",
       "    }\n",
       "</style>\n",
       "<table border=\"1\" class=\"dataframe\">\n",
       "  <thead>\n",
       "    <tr style=\"text-align: right;\">\n",
       "      <th></th>\n",
       "      <th>Drug name</th>\n",
       "      <th>Drug Id</th>\n",
       "      <th>Cell line name</th>\n",
       "      <th>Cosmic sample Id</th>\n",
       "      <th>TCGA classification</th>\n",
       "      <th>Tissue</th>\n",
       "      <th>Tissue sub-type</th>\n",
       "      <th>IC50</th>\n",
       "      <th>AUC</th>\n",
       "      <th>Max conc</th>\n",
       "      <th>RMSE</th>\n",
       "      <th>Z score</th>\n",
       "      <th>Dataset version</th>\n",
       "      <th>IC50_raw</th>\n",
       "      <th>IC50_norm_raw</th>\n",
       "      <th>IC50_norm</th>\n",
       "      <th>sensitive</th>\n",
       "      <th>IC50_norm_scaled</th>\n",
       "    </tr>\n",
       "  </thead>\n",
       "  <tbody>\n",
       "    <tr>\n",
       "      <th>0</th>\n",
       "      <td>Erlotinib</td>\n",
       "      <td>1</td>\n",
       "      <td>697</td>\n",
       "      <td>906800</td>\n",
       "      <td>UNCLASSIFIED</td>\n",
       "      <td>blood</td>\n",
       "      <td>lymphoblastic_leukemia</td>\n",
       "      <td>0.742914</td>\n",
       "      <td>0.913203</td>\n",
       "      <td>2.0</td>\n",
       "      <td>0.049765</td>\n",
       "      <td>-1.738051</td>\n",
       "      <td>GDSC1</td>\n",
       "      <td>2.102051</td>\n",
       "      <td>1.051026</td>\n",
       "      <td>0.049767</td>\n",
       "      <td>0</td>\n",
       "      <td>0.571578</td>\n",
       "    </tr>\n",
       "    <tr>\n",
       "      <th>1</th>\n",
       "      <td>Erlotinib</td>\n",
       "      <td>1</td>\n",
       "      <td>8-MG-BA</td>\n",
       "      <td>687562</td>\n",
       "      <td>GBM</td>\n",
       "      <td>nervous_system</td>\n",
       "      <td>glioma</td>\n",
       "      <td>2.494802</td>\n",
       "      <td>0.980211</td>\n",
       "      <td>2.0</td>\n",
       "      <td>0.041886</td>\n",
       "      <td>-0.096714</td>\n",
       "      <td>GDSC1</td>\n",
       "      <td>12.119336</td>\n",
       "      <td>6.059668</td>\n",
       "      <td>1.801655</td>\n",
       "      <td>0</td>\n",
       "      <td>0.675950</td>\n",
       "    </tr>\n",
       "    <tr>\n",
       "      <th>2</th>\n",
       "      <td>Erlotinib</td>\n",
       "      <td>1</td>\n",
       "      <td>A101D</td>\n",
       "      <td>910921</td>\n",
       "      <td>SKCM</td>\n",
       "      <td>skin</td>\n",
       "      <td>melanoma</td>\n",
       "      <td>2.325466</td>\n",
       "      <td>0.940629</td>\n",
       "      <td>2.0</td>\n",
       "      <td>0.154550</td>\n",
       "      <td>-0.255364</td>\n",
       "      <td>GDSC1</td>\n",
       "      <td>10.231446</td>\n",
       "      <td>5.115723</td>\n",
       "      <td>1.632319</td>\n",
       "      <td>0</td>\n",
       "      <td>0.665862</td>\n",
       "    </tr>\n",
       "    <tr>\n",
       "      <th>3</th>\n",
       "      <td>Erlotinib</td>\n",
       "      <td>1</td>\n",
       "      <td>A253</td>\n",
       "      <td>906794</td>\n",
       "      <td>UNCLASSIFIED</td>\n",
       "      <td>aero_digestive_tract</td>\n",
       "      <td>head_and_neck</td>\n",
       "      <td>0.164247</td>\n",
       "      <td>0.817106</td>\n",
       "      <td>2.0</td>\n",
       "      <td>0.135200</td>\n",
       "      <td>-2.280201</td>\n",
       "      <td>GDSC1</td>\n",
       "      <td>1.178505</td>\n",
       "      <td>0.589253</td>\n",
       "      <td>-0.528900</td>\n",
       "      <td>1</td>\n",
       "      <td>0.537103</td>\n",
       "    </tr>\n",
       "    <tr>\n",
       "      <th>4</th>\n",
       "      <td>Erlotinib</td>\n",
       "      <td>1</td>\n",
       "      <td>A3-KAW</td>\n",
       "      <td>910935</td>\n",
       "      <td>DLBC</td>\n",
       "      <td>blood</td>\n",
       "      <td>B_cell_lymphoma</td>\n",
       "      <td>1.110715</td>\n",
       "      <td>0.950440</td>\n",
       "      <td>2.0</td>\n",
       "      <td>0.053414</td>\n",
       "      <td>-1.393460</td>\n",
       "      <td>GDSC1</td>\n",
       "      <td>3.036528</td>\n",
       "      <td>1.518264</td>\n",
       "      <td>0.417567</td>\n",
       "      <td>0</td>\n",
       "      <td>0.593491</td>\n",
       "    </tr>\n",
       "  </tbody>\n",
       "</table>\n",
       "</div>"
      ],
      "text/plain": [
       "   Drug name  Drug Id Cell line name  Cosmic sample Id TCGA classification  \\\n",
       "0  Erlotinib        1            697            906800        UNCLASSIFIED   \n",
       "1  Erlotinib        1        8-MG-BA            687562                 GBM   \n",
       "2  Erlotinib        1          A101D            910921                SKCM   \n",
       "3  Erlotinib        1           A253            906794        UNCLASSIFIED   \n",
       "4  Erlotinib        1         A3-KAW            910935                DLBC   \n",
       "\n",
       "                 Tissue         Tissue sub-type      IC50       AUC  Max conc  \\\n",
       "0                 blood  lymphoblastic_leukemia  0.742914  0.913203       2.0   \n",
       "1        nervous_system                  glioma  2.494802  0.980211       2.0   \n",
       "2                  skin                melanoma  2.325466  0.940629       2.0   \n",
       "3  aero_digestive_tract           head_and_neck  0.164247  0.817106       2.0   \n",
       "4                 blood         B_cell_lymphoma  1.110715  0.950440       2.0   \n",
       "\n",
       "       RMSE   Z score Dataset version   IC50_raw  IC50_norm_raw  IC50_norm  \\\n",
       "0  0.049765 -1.738051           GDSC1   2.102051       1.051026   0.049767   \n",
       "1  0.041886 -0.096714           GDSC1  12.119336       6.059668   1.801655   \n",
       "2  0.154550 -0.255364           GDSC1  10.231446       5.115723   1.632319   \n",
       "3  0.135200 -2.280201           GDSC1   1.178505       0.589253  -0.528900   \n",
       "4  0.053414 -1.393460           GDSC1   3.036528       1.518264   0.417567   \n",
       "\n",
       "   sensitive  IC50_norm_scaled  \n",
       "0          0          0.571578  \n",
       "1          0          0.675950  \n",
       "2          0          0.665862  \n",
       "3          1          0.537103  \n",
       "4          0          0.593491  "
      ]
     },
     "execution_count": 53,
     "metadata": {},
     "output_type": "execute_result"
    }
   ],
   "source": [
    "ic50.head()"
   ]
  },
  {
   "cell_type": "code",
   "execution_count": 43,
   "metadata": {
    "ExecuteTime": {
     "end_time": "2020-04-03T01:38:30.772295Z",
     "start_time": "2020-04-03T01:38:30.766040Z"
    }
   },
   "outputs": [],
   "source": [
    "ic50['sensitive'] = (ic50['IC50_raw'] < ic50['Max conc']).astype(int)"
   ]
  },
  {
   "cell_type": "code",
   "execution_count": 52,
   "metadata": {
    "ExecuteTime": {
     "end_time": "2020-04-03T02:44:22.512920Z",
     "start_time": "2020-04-03T02:44:16.166419Z"
    }
   },
   "outputs": [],
   "source": [
    "ic50.to_csv(\"../data/drug/ic50_processed.csv\", index=False)"
   ]
  },
  {
   "cell_type": "code",
   "execution_count": 45,
   "metadata": {
    "ExecuteTime": {
     "end_time": "2020-04-03T02:41:07.912799Z",
     "start_time": "2020-04-03T02:41:07.834804Z"
    }
   },
   "outputs": [
    {
     "data": {
      "text/plain": [
       "count    363120.000000\n",
       "mean          0.521027\n",
       "std           2.152474\n",
       "min          -9.544189\n",
       "25%          -0.792537\n",
       "50%           0.877450\n",
       "75%           2.191838\n",
       "max           7.240840\n",
       "Name: IC50_norm, dtype: float64"
      ]
     },
     "execution_count": 45,
     "metadata": {},
     "output_type": "execute_result"
    }
   ],
   "source": [
    "ic50['IC50_norm'].describe()"
   ]
  },
  {
   "cell_type": "code",
   "execution_count": 51,
   "metadata": {
    "ExecuteTime": {
     "end_time": "2020-04-03T02:44:12.134201Z",
     "start_time": "2020-04-03T02:44:12.126765Z"
    }
   },
   "outputs": [],
   "source": [
    "ic50['IC50_norm_scaled'] = MinMaxScaler().fit_transform(ic50['IC50_norm'].values.reshape(-1,1))"
   ]
  },
  {
   "cell_type": "code",
   "execution_count": 47,
   "metadata": {
    "ExecuteTime": {
     "end_time": "2020-04-03T02:41:43.842333Z",
     "start_time": "2020-04-03T02:41:43.477154Z"
    }
   },
   "outputs": [
    {
     "data": {
      "text/plain": [
       "<matplotlib.axes._subplots.AxesSubplot at 0x1a186e1390>"
      ]
     },
     "execution_count": 47,
     "metadata": {},
     "output_type": "execute_result"
    },
    {
     "data": {
      "image/png": "[encoded data removed]",
      "text/plain": [
       "<Figure size 432x288 with 1 Axes>"
      ]
     },
     "metadata": {
      "needs_background": "light"
     },
     "output_type": "display_data"
    }
   ],
   "source": [
    "sns.distplot(ic50['IC50_norm'])"
   ]
  },
  {
   "cell_type": "code",
   "execution_count": 50,
   "metadata": {
    "ExecuteTime": {
     "end_time": "2020-04-03T02:42:55.760612Z",
     "start_time": "2020-04-03T02:42:55.377759Z"
    }
   },
   "outputs": [
    {
     "data": {
      "text/plain": [
       "<matplotlib.axes._subplots.AxesSubplot at 0x1a19f9c1d0>"
      ]
     },
     "execution_count": 50,
     "metadata": {},
     "output_type": "execute_result"
    },
    {
     "data": {
      "image/png": "[encoded data removed]",
      "text/plain": [
       "<Figure size 432x288 with 1 Axes>"
      ]
     },
     "metadata": {
      "needs_background": "light"
     },
     "output_type": "display_data"
    }
   ],
   "source": [
    "sns.distplot(MinMaxScaler().fit_transform(ic50['IC50_norm'].values.reshape(-1,1)))"
   ]
  },
  {
   "cell_type": "code",
   "execution_count": null,
   "metadata": {},
   "outputs": [],
   "source": []
  }
 ],
 "metadata": {
  "kernelspec": {
   "display_name": "Python 3",
   "language": "python",
   "name": "python3"
  },
  "language_info": {
   "codemirror_mode": {
    "name": "ipython",
    "version": 3
   },
   "file_extension": ".py",
   "mimetype": "text/x-python",
   "name": "python",
   "nbconvert_exporter": "python",
   "pygments_lexer": "ipython3",
   "version": "3.8.2"
  },
  "toc": {
   "base_numbering": 1,
   "nav_menu": {},
   "number_sections": true,
   "sideBar": true,
   "skip_h1_title": false,
   "title_cell": "Table of Contents",
   "title_sidebar": "Contents",
   "toc_cell": false,
   "toc_position": {},
   "toc_section_display": true,
   "toc_window_display": true
  }
 },
 "nbformat": 4,
 "nbformat_minor": 2
}
