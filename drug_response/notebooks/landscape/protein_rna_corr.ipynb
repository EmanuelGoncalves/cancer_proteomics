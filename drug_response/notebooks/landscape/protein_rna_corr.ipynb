{
 "cells": [
  {
   "cell_type": "code",
   "execution_count": 1,
   "metadata": {
    "ExecuteTime": {
     "end_time": "2020-08-16T11:32:53.108564Z",
     "start_time": "2020-08-16T11:32:49.410291Z"
    }
   },
   "outputs": [],
   "source": [
    "import pandas as pd\n",
    "import numpy as np\n",
    "import seaborn as sns\n",
    "import matplotlib.pyplot as plt\n",
    "from scipy.stats import ttest_ind\n",
    "from sklearn.metrics import r2_score\n",
    "from scipy.stats import pearsonr, spearmanr\n",
    "import plotly.express as px\n",
    "import plotly.graph_objects as go\n",
    "import matplotlib.patches as mpatches\n",
    "from scipy.stats import ttest_ind, ttest_1samp, ttest_rel\n",
    "import matplotlib as mpl\n",
    "import umap\n",
    "from sklearn.decomposition import PCA\n",
    "from sklearn.manifold import TSNE\n",
    "from joblib import Parallel, delayed\n",
    "from tqdm.notebook import tqdm\n",
    "import pickle\n",
    "import matplotlib.ticker as mtick\n",
    "import math\n",
    "from itertools import combinations\n",
    "import random\n",
    "from sklearn.linear_model import LinearRegression\n",
    "import qgrid"
   ]
  },
  {
   "cell_type": "code",
   "execution_count": 2,
   "metadata": {
    "ExecuteTime": {
     "end_time": "2020-08-16T11:32:53.113540Z",
     "start_time": "2020-08-16T11:32:53.110176Z"
    }
   },
   "outputs": [],
   "source": [
    "plt.rcParams['font.family'] = 'Helvetica'\n",
    "plt.rcParams[\"axes.labelweight\"] = \"bold\"\n",
    "plt.rcParams['font.size'] = 18\n",
    "plt.rcParams['axes.linewidth'] = 2\n",
    "plt.rcParams['figure.figsize'] = (10.0, 7.0)\n",
    "plt.rcParams['pdf.fonttype'] = 42\n",
    "plt.rcParams['ps.fonttype'] = 42\n",
    "sns.set_palette(\"Dark2\")"
   ]
  },
  {
   "cell_type": "code",
   "execution_count": 3,
   "metadata": {
    "ExecuteTime": {
     "end_time": "2020-08-16T11:32:53.117017Z",
     "start_time": "2020-08-16T11:32:53.115421Z"
    }
   },
   "outputs": [],
   "source": [
    "seed = 42"
   ]
  },
  {
   "cell_type": "markdown",
   "metadata": {},
   "source": [
    "# load"
   ]
  },
  {
   "cell_type": "code",
   "execution_count": 12,
   "metadata": {
    "ExecuteTime": {
     "end_time": "2020-08-16T11:34:26.994583Z",
     "start_time": "2020-08-16T11:34:26.968260Z"
    }
   },
   "outputs": [],
   "source": [
    "meta = pd.read_csv('../../data/E0022_P06_final_sample_map_no_control.txt',\n",
    "                   sep='\\t')"
   ]
  },
  {
   "cell_type": "code",
   "execution_count": 28,
   "metadata": {
    "ExecuteTime": {
     "end_time": "2020-08-16T11:39:18.739173Z",
     "start_time": "2020-08-16T11:39:17.686622Z"
    }
   },
   "outputs": [],
   "source": [
    "protein_ruv = pd.read_csv(\n",
    "    \"../../data/protein/E0022_P06_Protein_Matrix_ProNorM_no_control_update.txt\",\n",
    "    sep='\\t').set_index('Cell_line')"
   ]
  },
  {
   "cell_type": "code",
   "execution_count": 13,
   "metadata": {
    "ExecuteTime": {
     "end_time": "2020-08-16T11:34:30.717191Z",
     "start_time": "2020-08-16T11:34:28.483122Z"
    }
   },
   "outputs": [],
   "source": [
    "rna_raw = pd.read_csv(\"../../data/rna/rnaseq_voom.csv\", index_col=0).T\n",
    "\n",
    "rna_raw.index.name = 'SIDM'\n",
    "\n",
    "rna_raw = rna_raw.reset_index()\n",
    "rna_sample = pd.merge(rna_raw,\n",
    "                      meta[['SIDM',\n",
    "                            'Cell_line']].drop_duplicates()).drop(['SIDM'],\n",
    "                                                                  axis=1)\n",
    "\n",
    "rna_sample = rna_sample.set_index(['Cell_line'])"
   ]
  },
  {
   "cell_type": "code",
   "execution_count": 16,
   "metadata": {
    "ExecuteTime": {
     "end_time": "2020-08-16T11:35:18.927120Z",
     "start_time": "2020-08-16T11:35:18.167221Z"
    }
   },
   "outputs": [],
   "source": [
    "name_map = pd.read_csv(\"../../data/misc/HUMAN_9606_idmapping.gene_prot.dat\",\n",
    "                       sep='\\t',\n",
    "                       names=['ID', 'type', 'code'])\n",
    "name_map = name_map.drop_duplicates(['ID', 'type'])\n",
    "name_map = pd.pivot(name_map, index='ID', columns='type', values='code').dropna()\n",
    "\n",
    "protein2rna_map = dict(zip(name_map['UniProtKB-ID'].values, name_map['Gene_Name'].values))\n",
    "rna2protein_map = {v: k for k, v in protein2rna_map.items()}"
   ]
  },
  {
   "cell_type": "markdown",
   "metadata": {},
   "source": [
    "# query"
   ]
  },
  {
   "cell_type": "code",
   "execution_count": 19,
   "metadata": {
    "ExecuteTime": {
     "end_time": "2020-08-16T11:37:11.723063Z",
     "start_time": "2020-08-16T11:37:11.720361Z"
    }
   },
   "outputs": [],
   "source": [
    "def rna_protein_corr(rna_df, protein_df, gene):\n",
    "    protein = rna2protein_map[gene]\n",
    "    tmp = pd.merge(rna_df[[gene]].reset_index(), protein_df[[protein]].reset_index())\n",
    "    tmp = tmp.dropna()\n",
    "    print(pearsonr(tmp[gene], tmp[protein]))"
   ]
  },
  {
   "cell_type": "code",
   "execution_count": 29,
   "metadata": {
    "ExecuteTime": {
     "end_time": "2020-08-16T11:39:21.074133Z",
     "start_time": "2020-08-16T11:39:21.063932Z"
    }
   },
   "outputs": [
    {
     "name": "stdout",
     "output_type": "stream",
     "text": [
      "(0.19730767147142292, 6.452146425653215e-10)\n"
     ]
    }
   ],
   "source": [
    "rna_protein_corr(rna_sample, protein_ruv, gene='NOC2L')"
   ]
  }
 ],
 "metadata": {
  "kernelspec": {
   "display_name": "Python 3",
   "language": "python",
   "name": "python3"
  },
  "language_info": {
   "codemirror_mode": {
    "name": "ipython",
    "version": 3
   },
   "file_extension": ".py",
   "mimetype": "text/x-python",
   "name": "python",
   "nbconvert_exporter": "python",
   "pygments_lexer": "ipython3",
   "version": "3.8.5"
  },
  "toc": {
   "base_numbering": 1,
   "nav_menu": {},
   "number_sections": true,
   "sideBar": true,
   "skip_h1_title": false,
   "title_cell": "Table of Contents",
   "title_sidebar": "Contents",
   "toc_cell": false,
   "toc_position": {},
   "toc_section_display": true,
   "toc_window_display": false
  }
 },
 "nbformat": 4,
 "nbformat_minor": 4
}
