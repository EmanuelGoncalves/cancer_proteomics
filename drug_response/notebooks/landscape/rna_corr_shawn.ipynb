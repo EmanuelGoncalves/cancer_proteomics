{
 "cells": [
  {
   "cell_type": "code",
   "execution_count": 1,
   "metadata": {
    "ExecuteTime": {
     "end_time": "2020-09-30T05:04:24.727427Z",
     "start_time": "2020-09-30T05:04:21.697678Z"
    }
   },
   "outputs": [],
   "source": [
    "import pandas as pd\n",
    "import numpy as np\n",
    "import seaborn as sns\n",
    "import matplotlib.pyplot as plt\n",
    "from scipy.stats import ttest_ind\n",
    "from sklearn.metrics import r2_score\n",
    "from scipy.stats import pearsonr, spearmanr\n",
    "import plotly.express as px\n",
    "import plotly.graph_objects as go\n",
    "import matplotlib.patches as mpatches\n",
    "from scipy.stats import ttest_ind, ttest_1samp, ttest_rel\n",
    "import matplotlib as mpl\n",
    "import umap\n",
    "from sklearn.decomposition import PCA\n",
    "from sklearn.manifold import TSNE\n",
    "from joblib import Parallel, delayed\n",
    "from tqdm.notebook import tqdm\n",
    "import pickle\n",
    "import matplotlib.ticker as mtick\n",
    "import math\n",
    "from itertools import combinations\n",
    "import random\n",
    "from sklearn.linear_model import LinearRegression\n",
    "import qgrid"
   ]
  },
  {
   "cell_type": "code",
   "execution_count": 5,
   "metadata": {
    "ExecuteTime": {
     "end_time": "2020-09-30T05:05:04.327224Z",
     "start_time": "2020-09-30T05:05:04.297501Z"
    }
   },
   "outputs": [],
   "source": [
    "meta = pd.read_csv('../../data/E0022_P06_final_sample_map_no_control.txt',\n",
    "                   sep='\\t')"
   ]
  },
  {
   "cell_type": "code",
   "execution_count": 6,
   "metadata": {
    "ExecuteTime": {
     "end_time": "2020-09-30T05:05:08.602488Z",
     "start_time": "2020-09-30T05:05:04.836652Z"
    }
   },
   "outputs": [],
   "source": [
    "protein_ruv = pd.read_csv(\n",
    "    \"../../data/protein/E0022_P06_Protein_Matrix_ProNorM_no_control_update.txt\",\n",
    "    sep='\\t').set_index('Cell_line')\n",
    "name_map = pd.read_csv(\"../../data/misc/HUMAN_9606_idmapping.gene_prot.dat\",\n",
    "                       sep='\\t',\n",
    "                       names=['ID', 'type', 'code'])\n",
    "name_map = name_map.drop_duplicates(['ID', 'type'])\n",
    "name_map = pd.pivot(name_map, index='ID', columns='type', values='code').dropna()\n",
    "\n",
    "name_map_dict = dict(zip(name_map['UniProtKB-ID'].values, name_map['Gene_Name'].values))\n",
    "rna_raw = pd.read_csv(\"../../data/rna/rnaseq_voom.csv\", index_col=0).T\n",
    "\n",
    "rna_raw.index.name = 'SIDM'\n",
    "\n",
    "rna_raw = rna_raw.reset_index()\n",
    "rna_sample = pd.merge(rna_raw,\n",
    "                      meta[['SIDM',\n",
    "                            'Cell_line']].drop_duplicates()).drop(['SIDM'],\n",
    "                                                                  axis=1)\n",
    "\n",
    "rna_sample = rna_sample.set_index(['Cell_line'])"
   ]
  },
  {
   "cell_type": "code",
   "execution_count": 13,
   "metadata": {
    "ExecuteTime": {
     "end_time": "2020-09-30T05:08:52.779109Z",
     "start_time": "2020-09-30T05:08:41.107435Z"
    },
    "code_folding": []
   },
   "outputs": [],
   "source": [
    "res_df = []\n",
    "for protein in tqdm(protein_ruv.columns):\n",
    "    gene = name_map_dict[protein]\n",
    "    if gene not in rna_sample.columns:\n",
    "        continue\n",
    "    tmp_df = pd.merge(protein_ruv[[protein]], rna_sample[[gene]], on='Cell_line').dropna()\n",
    "    corr, pvalue = pearsonr(tmp_df.iloc[:,0], tmp_df.iloc[:,1])\n",
    "    res_df.append({'protein':protein,'gene':gene, 'pearsonr':corr,'pvalue':pvalue})\n",
    "res_df = pd.DataFrame(res_df)"
   ]
  },
  {
   "cell_type": "code",
   "execution_count": 22,
   "metadata": {
    "ExecuteTime": {
     "end_time": "2020-10-07T03:31:53.227307Z",
     "start_time": "2020-10-07T03:31:53.181890Z"
    }
   },
   "outputs": [
    {
     "data": {
      "text/html": [
       "<div>\n",
       "<style scoped>\n",
       "    .dataframe tbody tr th:only-of-type {\n",
       "        vertical-align: middle;\n",
       "    }\n",
       "\n",
       "    .dataframe tbody tr th {\n",
       "        vertical-align: top;\n",
       "    }\n",
       "\n",
       "    .dataframe thead th {\n",
       "        text-align: right;\n",
       "    }\n",
       "</style>\n",
       "<table border=\"1\" class=\"dataframe\">\n",
       "  <thead>\n",
       "    <tr style=\"text-align: right;\">\n",
       "      <th></th>\n",
       "      <th>protein</th>\n",
       "      <th>gene</th>\n",
       "      <th>pearsonr</th>\n",
       "      <th>pvalue</th>\n",
       "    </tr>\n",
       "  </thead>\n",
       "  <tbody>\n",
       "    <tr>\n",
       "      <th>739</th>\n",
       "      <td>DKC1_HUMAN</td>\n",
       "      <td>DKC1</td>\n",
       "      <td>0.252598</td>\n",
       "      <td>1.636436e-15</td>\n",
       "    </tr>\n",
       "  </tbody>\n",
       "</table>\n",
       "</div>"
      ],
      "text/plain": [
       "        protein  gene  pearsonr        pvalue\n",
       "739  DKC1_HUMAN  DKC1  0.252598  1.636436e-15"
      ]
     },
     "execution_count": 22,
     "metadata": {},
     "output_type": "execute_result"
    }
   ],
   "source": [
    "res_df.query('gene == \"DKC1\"')"
   ]
  },
  {
   "cell_type": "code",
   "execution_count": 16,
   "metadata": {
    "ExecuteTime": {
     "end_time": "2020-09-30T05:09:47.700575Z",
     "start_time": "2020-09-30T05:09:47.676888Z"
    }
   },
   "outputs": [],
   "source": [
    "res_df.to_csv(\"../../result_files/rna_corr_shawn.csv\", index=False)"
   ]
  },
  {
   "cell_type": "code",
   "execution_count": null,
   "metadata": {},
   "outputs": [],
   "source": []
  }
 ],
 "metadata": {
  "kernelspec": {
   "display_name": "Python 3",
   "language": "python",
   "name": "python3"
  },
  "language_info": {
   "codemirror_mode": {
    "name": "ipython",
    "version": 3
   },
   "file_extension": ".py",
   "mimetype": "text/x-python",
   "name": "python",
   "nbconvert_exporter": "python",
   "pygments_lexer": "ipython3",
   "version": "3.8.5"
  },
  "toc": {
   "base_numbering": 1,
   "nav_menu": {},
   "number_sections": true,
   "sideBar": true,
   "skip_h1_title": false,
   "title_cell": "Table of Contents",
   "title_sidebar": "Contents",
   "toc_cell": false,
   "toc_position": {},
   "toc_section_display": true,
   "toc_window_display": false
  }
 },
 "nbformat": 4,
 "nbformat_minor": 4
}
