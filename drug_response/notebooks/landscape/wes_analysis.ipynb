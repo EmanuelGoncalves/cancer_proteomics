{
 "cells": [
  {
   "cell_type": "code",
   "execution_count": 19,
   "metadata": {
    "ExecuteTime": {
     "end_time": "2020-08-21T08:23:48.531952Z",
     "start_time": "2020-08-21T08:23:48.529996Z"
    }
   },
   "outputs": [],
   "source": [
    "import pandas as pd\n",
    "import seaborn as sns\n",
    "import qgrid\n",
    "import glob"
   ]
  },
  {
   "cell_type": "code",
   "execution_count": 2,
   "metadata": {
    "ExecuteTime": {
     "end_time": "2020-08-21T04:39:29.884680Z",
     "start_time": "2020-08-21T04:39:19.997133Z"
    }
   },
   "outputs": [],
   "source": [
    "wes_df = pd.read_csv(\"../../data/genomic/WES_variants_processed.csv.gz\")"
   ]
  },
  {
   "cell_type": "code",
   "execution_count": 6,
   "metadata": {
    "ExecuteTime": {
     "end_time": "2020-08-21T04:40:43.549053Z",
     "start_time": "2020-08-21T04:40:42.632880Z"
    }
   },
   "outputs": [],
   "source": [
    "wes_df_long = pd.melt(wes_df, id_vars='Cell_line', var_name='Gene', value_name='mut')"
   ]
  },
  {
   "cell_type": "code",
   "execution_count": 16,
   "metadata": {
    "ExecuteTime": {
     "end_time": "2020-08-21T04:42:53.402987Z",
     "start_time": "2020-08-21T04:42:52.458878Z"
    }
   },
   "outputs": [],
   "source": [
    "wes_df_long = wes_df_long.groupby('Gene').sum().reset_index()\n",
    "wes_df_long = wes_df_long.sort_values(by='mut',ascending=False)"
   ]
  },
  {
   "cell_type": "code",
   "execution_count": 18,
   "metadata": {
    "ExecuteTime": {
     "end_time": "2020-08-21T04:43:03.149942Z",
     "start_time": "2020-08-21T04:43:03.097945Z"
    }
   },
   "outputs": [
    {
     "data": {
      "application/vnd.jupyter.widget-view+json": {
       "model_id": "cd7d073085c14b0bbdc549bd3f6732e9",
       "version_major": 2,
       "version_minor": 0
      },
      "text/plain": [
       "QgridWidget(grid_options={'fullWidthRows': True, 'syncColumnCellResize': True, 'forceFitColumns': True, 'defau…"
      ]
     },
     "metadata": {},
     "output_type": "display_data"
    }
   ],
   "source": [
    "qgrid.show_grid(wes_df_long)"
   ]
  },
  {
   "cell_type": "code",
   "execution_count": 60,
   "metadata": {
    "ExecuteTime": {
     "end_time": "2020-08-22T01:05:14.621508Z",
     "start_time": "2020-08-22T01:05:14.618611Z"
    }
   },
   "outputs": [],
   "source": [
    "proteins = []\n",
    "for fp in glob.glob(\"../../result_files/de/protein_q1/*.csv\"):\n",
    "    filename = fp.replace(\"../../result_files/de/protein_q1/\", \"\")\n",
    "    protein = filename.split('_')[0]\n",
    "    proteins.append(protein)"
   ]
  },
  {
   "cell_type": "code",
   "execution_count": 61,
   "metadata": {
    "ExecuteTime": {
     "end_time": "2020-08-22T01:05:14.806976Z",
     "start_time": "2020-08-22T01:05:14.803832Z"
    }
   },
   "outputs": [],
   "source": [
    "rnas = []\n",
    "for fp in glob.glob(\"../../result_files/de/rna/*.csv\"):\n",
    "    filename = fp.replace(\"../../result_files/de/rna/\", \"\")\n",
    "    rna = filename.split('_')[0]\n",
    "    rnas.append(rna)"
   ]
  },
  {
   "cell_type": "code",
   "execution_count": 62,
   "metadata": {
    "ExecuteTime": {
     "end_time": "2020-08-22T01:05:14.972834Z",
     "start_time": "2020-08-22T01:05:14.968400Z"
    }
   },
   "outputs": [],
   "source": [
    "cancer_drivers = pd.read_csv(\"../../data/cancer_driver.csv\")['Gene'].unique()"
   ]
  },
  {
   "cell_type": "code",
   "execution_count": 63,
   "metadata": {
    "ExecuteTime": {
     "end_time": "2020-08-22T01:05:15.120975Z",
     "start_time": "2020-08-22T01:05:15.118668Z"
    }
   },
   "outputs": [],
   "source": [
    "protein_only = list(set(proteins) - set(rnas))"
   ]
  },
  {
   "cell_type": "code",
   "execution_count": 64,
   "metadata": {
    "ExecuteTime": {
     "end_time": "2020-08-22T01:05:15.321319Z",
     "start_time": "2020-08-22T01:05:15.318622Z"
    }
   },
   "outputs": [],
   "source": [
    "protein_only_cancer = [x for x in protein_only if x in cancer_drivers]"
   ]
  },
  {
   "cell_type": "code",
   "execution_count": 65,
   "metadata": {
    "ExecuteTime": {
     "end_time": "2020-08-22T01:05:15.686933Z",
     "start_time": "2020-08-22T01:05:15.683769Z"
    }
   },
   "outputs": [
    {
     "data": {
      "text/plain": [
       "['RPL22', 'ARID1A', 'MSH2', 'SMARCA4', 'RBM10', 'TP53']"
      ]
     },
     "execution_count": 65,
     "metadata": {},
     "output_type": "execute_result"
    }
   ],
   "source": [
    "protein_only_cancer"
   ]
  },
  {
   "cell_type": "code",
   "execution_count": null,
   "metadata": {},
   "outputs": [],
   "source": []
  }
 ],
 "metadata": {
  "kernelspec": {
   "display_name": "Python 3",
   "language": "python",
   "name": "python3"
  },
  "language_info": {
   "codemirror_mode": {
    "name": "ipython",
    "version": 3
   },
   "file_extension": ".py",
   "mimetype": "text/x-python",
   "name": "python",
   "nbconvert_exporter": "python",
   "pygments_lexer": "ipython3",
   "version": "3.8.5"
  },
  "toc": {
   "base_numbering": 1,
   "nav_menu": {},
   "number_sections": true,
   "sideBar": true,
   "skip_h1_title": false,
   "title_cell": "Table of Contents",
   "title_sidebar": "Contents",
   "toc_cell": false,
   "toc_position": {},
   "toc_section_display": true,
   "toc_window_display": false
  }
 },
 "nbformat": 4,
 "nbformat_minor": 4
}
