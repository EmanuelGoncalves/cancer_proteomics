{
 "cells": [
  {
   "cell_type": "code",
   "execution_count": 5,
   "metadata": {
    "ExecuteTime": {
     "end_time": "2020-08-13T00:38:11.714985Z",
     "start_time": "2020-08-13T00:38:11.672808Z"
    }
   },
   "outputs": [],
   "source": [
    "import pandas as pd\n",
    "import numpy as np\n",
    "import qgrid"
   ]
  },
  {
   "cell_type": "markdown",
   "metadata": {},
   "source": [
    "# alex Ewing"
   ]
  },
  {
   "cell_type": "code",
   "execution_count": 3,
   "metadata": {
    "ExecuteTime": {
     "end_time": "2020-08-13T00:37:47.150629Z",
     "start_time": "2020-08-13T00:37:46.384066Z"
    }
   },
   "outputs": [],
   "source": [
    "protein_ruv = pd.read_csv(\"../data/protein/E0022_P06_Protein_Matrix_ProNorM_no_control_update.txt\", sep='\\t')"
   ]
  },
  {
   "cell_type": "code",
   "execution_count": 22,
   "metadata": {
    "ExecuteTime": {
     "end_time": "2020-08-13T00:45:41.812031Z",
     "start_time": "2020-08-13T00:45:41.789914Z"
    }
   },
   "outputs": [
    {
     "data": {
      "text/html": [
       "<div>\n",
       "<style scoped>\n",
       "    .dataframe tbody tr th:only-of-type {\n",
       "        vertical-align: middle;\n",
       "    }\n",
       "\n",
       "    .dataframe tbody tr th {\n",
       "        vertical-align: top;\n",
       "    }\n",
       "\n",
       "    .dataframe thead th {\n",
       "        text-align: right;\n",
       "    }\n",
       "</style>\n",
       "<table border=\"1\" class=\"dataframe\">\n",
       "  <thead>\n",
       "    <tr style=\"text-align: right;\">\n",
       "      <th></th>\n",
       "      <th>Cell_line</th>\n",
       "      <th>1433B_HUMAN</th>\n",
       "      <th>1433E_HUMAN</th>\n",
       "      <th>1433F_HUMAN</th>\n",
       "      <th>1433G_HUMAN</th>\n",
       "      <th>1433S_HUMAN</th>\n",
       "      <th>1433T_HUMAN</th>\n",
       "      <th>1433Z_HUMAN</th>\n",
       "      <th>1A03_HUMAN</th>\n",
       "      <th>2A5E_HUMAN</th>\n",
       "      <th>...</th>\n",
       "      <th>ZN687_HUMAN</th>\n",
       "      <th>ZN706_HUMAN</th>\n",
       "      <th>ZN768_HUMAN</th>\n",
       "      <th>ZNT9_HUMAN</th>\n",
       "      <th>ZO1_HUMAN</th>\n",
       "      <th>ZO2_HUMAN</th>\n",
       "      <th>ZPR1_HUMAN</th>\n",
       "      <th>ZRAB2_HUMAN</th>\n",
       "      <th>ZW10_HUMAN</th>\n",
       "      <th>ZYX_HUMAN</th>\n",
       "    </tr>\n",
       "  </thead>\n",
       "  <tbody>\n",
       "    <tr>\n",
       "      <th>492</th>\n",
       "      <td>MHH-CALL-2</td>\n",
       "      <td>-0.661929</td>\n",
       "      <td>-0.226836</td>\n",
       "      <td>-0.313899</td>\n",
       "      <td>0.566007</td>\n",
       "      <td>0.446821</td>\n",
       "      <td>0.079242</td>\n",
       "      <td>-0.202228</td>\n",
       "      <td>NaN</td>\n",
       "      <td>-0.546938</td>\n",
       "      <td>...</td>\n",
       "      <td>NaN</td>\n",
       "      <td>0.425382</td>\n",
       "      <td>NaN</td>\n",
       "      <td>NaN</td>\n",
       "      <td>0.075635</td>\n",
       "      <td>-0.090694</td>\n",
       "      <td>0.331061</td>\n",
       "      <td>-0.278225</td>\n",
       "      <td>-0.417193</td>\n",
       "      <td>0.311210</td>\n",
       "    </tr>\n",
       "    <tr>\n",
       "      <th>493</th>\n",
       "      <td>MHH-CALL-4</td>\n",
       "      <td>0.454273</td>\n",
       "      <td>-0.003212</td>\n",
       "      <td>0.561957</td>\n",
       "      <td>0.321948</td>\n",
       "      <td>-0.069949</td>\n",
       "      <td>0.857462</td>\n",
       "      <td>1.169511</td>\n",
       "      <td>-0.272983</td>\n",
       "      <td>NaN</td>\n",
       "      <td>...</td>\n",
       "      <td>0.424473</td>\n",
       "      <td>1.380797</td>\n",
       "      <td>NaN</td>\n",
       "      <td>NaN</td>\n",
       "      <td>0.679367</td>\n",
       "      <td>-0.870657</td>\n",
       "      <td>-0.144519</td>\n",
       "      <td>0.271667</td>\n",
       "      <td>-0.336506</td>\n",
       "      <td>-0.619157</td>\n",
       "    </tr>\n",
       "    <tr>\n",
       "      <th>494</th>\n",
       "      <td>MHH-ES-1</td>\n",
       "      <td>0.850241</td>\n",
       "      <td>2.122204</td>\n",
       "      <td>0.968796</td>\n",
       "      <td>0.191270</td>\n",
       "      <td>-1.010971</td>\n",
       "      <td>0.817766</td>\n",
       "      <td>0.784325</td>\n",
       "      <td>NaN</td>\n",
       "      <td>0.635510</td>\n",
       "      <td>...</td>\n",
       "      <td>NaN</td>\n",
       "      <td>0.112566</td>\n",
       "      <td>NaN</td>\n",
       "      <td>NaN</td>\n",
       "      <td>-0.787002</td>\n",
       "      <td>-1.186665</td>\n",
       "      <td>0.293479</td>\n",
       "      <td>0.440871</td>\n",
       "      <td>-0.031248</td>\n",
       "      <td>-0.621782</td>\n",
       "    </tr>\n",
       "    <tr>\n",
       "      <th>495</th>\n",
       "      <td>MHH-NB-11</td>\n",
       "      <td>-0.513363</td>\n",
       "      <td>-0.053777</td>\n",
       "      <td>0.145524</td>\n",
       "      <td>0.897288</td>\n",
       "      <td>-1.251456</td>\n",
       "      <td>0.483272</td>\n",
       "      <td>-0.051370</td>\n",
       "      <td>NaN</td>\n",
       "      <td>0.779292</td>\n",
       "      <td>...</td>\n",
       "      <td>0.607825</td>\n",
       "      <td>0.498703</td>\n",
       "      <td>NaN</td>\n",
       "      <td>NaN</td>\n",
       "      <td>-0.182007</td>\n",
       "      <td>-0.849312</td>\n",
       "      <td>-0.043105</td>\n",
       "      <td>-0.153186</td>\n",
       "      <td>-0.165475</td>\n",
       "      <td>-0.764088</td>\n",
       "    </tr>\n",
       "    <tr>\n",
       "      <th>496</th>\n",
       "      <td>MHH-PREB-1</td>\n",
       "      <td>1.362216</td>\n",
       "      <td>1.542737</td>\n",
       "      <td>0.805156</td>\n",
       "      <td>1.517034</td>\n",
       "      <td>-3.032891</td>\n",
       "      <td>0.931104</td>\n",
       "      <td>1.019546</td>\n",
       "      <td>NaN</td>\n",
       "      <td>-0.132816</td>\n",
       "      <td>...</td>\n",
       "      <td>0.143643</td>\n",
       "      <td>0.019056</td>\n",
       "      <td>NaN</td>\n",
       "      <td>NaN</td>\n",
       "      <td>-0.171590</td>\n",
       "      <td>0.494682</td>\n",
       "      <td>-0.188780</td>\n",
       "      <td>0.868530</td>\n",
       "      <td>0.181644</td>\n",
       "      <td>NaN</td>\n",
       "    </tr>\n",
       "  </tbody>\n",
       "</table>\n",
       "<p>5 rows × 3426 columns</p>\n",
       "</div>"
      ],
      "text/plain": [
       "      Cell_line  1433B_HUMAN  1433E_HUMAN  1433F_HUMAN  1433G_HUMAN  \\\n",
       "492  MHH-CALL-2    -0.661929    -0.226836    -0.313899     0.566007   \n",
       "493  MHH-CALL-4     0.454273    -0.003212     0.561957     0.321948   \n",
       "494    MHH-ES-1     0.850241     2.122204     0.968796     0.191270   \n",
       "495   MHH-NB-11    -0.513363    -0.053777     0.145524     0.897288   \n",
       "496  MHH-PREB-1     1.362216     1.542737     0.805156     1.517034   \n",
       "\n",
       "     1433S_HUMAN  1433T_HUMAN  1433Z_HUMAN  1A03_HUMAN  2A5E_HUMAN  ...  \\\n",
       "492     0.446821     0.079242    -0.202228         NaN   -0.546938  ...   \n",
       "493    -0.069949     0.857462     1.169511   -0.272983         NaN  ...   \n",
       "494    -1.010971     0.817766     0.784325         NaN    0.635510  ...   \n",
       "495    -1.251456     0.483272    -0.051370         NaN    0.779292  ...   \n",
       "496    -3.032891     0.931104     1.019546         NaN   -0.132816  ...   \n",
       "\n",
       "     ZN687_HUMAN  ZN706_HUMAN  ZN768_HUMAN  ZNT9_HUMAN  ZO1_HUMAN  ZO2_HUMAN  \\\n",
       "492          NaN     0.425382          NaN         NaN   0.075635  -0.090694   \n",
       "493     0.424473     1.380797          NaN         NaN   0.679367  -0.870657   \n",
       "494          NaN     0.112566          NaN         NaN  -0.787002  -1.186665   \n",
       "495     0.607825     0.498703          NaN         NaN  -0.182007  -0.849312   \n",
       "496     0.143643     0.019056          NaN         NaN  -0.171590   0.494682   \n",
       "\n",
       "     ZPR1_HUMAN  ZRAB2_HUMAN  ZW10_HUMAN  ZYX_HUMAN  \n",
       "492    0.331061    -0.278225   -0.417193   0.311210  \n",
       "493   -0.144519     0.271667   -0.336506  -0.619157  \n",
       "494    0.293479     0.440871   -0.031248  -0.621782  \n",
       "495   -0.043105    -0.153186   -0.165475  -0.764088  \n",
       "496   -0.188780     0.868530    0.181644        NaN  \n",
       "\n",
       "[5 rows x 3426 columns]"
      ]
     },
     "execution_count": 22,
     "metadata": {},
     "output_type": "execute_result"
    }
   ],
   "source": [
    "protein_ruv[protein_ruv['Cell_line'].str.startswith('MH')]"
   ]
  },
  {
   "cell_type": "code",
   "execution_count": 23,
   "metadata": {
    "ExecuteTime": {
     "end_time": "2020-08-13T00:45:51.069291Z",
     "start_time": "2020-08-13T00:45:51.066469Z"
    }
   },
   "outputs": [],
   "source": [
    "cell_lines = [\n",
    "    'SK-PN-DW', 'TC-71', 'CADO-ES1', 'SK-ES-1', 'A673', 'RH-1', 'MC-IXC',\n",
    "    'EW-7', 'EW-3', 'EW-24', 'EW-22', 'EW-18', 'EW-16', 'EW-13', 'EW-12',\n",
    "    'EW-11', 'EW-1', 'ES8', 'ES7', 'ES6', 'ES5', 'ES4', 'ES3', 'ES1',\n",
    "    'MHH-ES-1'\n",
    "]"
   ]
  },
  {
   "cell_type": "code",
   "execution_count": 25,
   "metadata": {
    "ExecuteTime": {
     "end_time": "2020-08-13T00:46:15.078690Z",
     "start_time": "2020-08-13T00:46:15.075311Z"
    }
   },
   "outputs": [],
   "source": [
    "protein_ruv_ewing = protein_ruv[protein_ruv['Cell_line'].isin(cell_lines)]"
   ]
  },
  {
   "cell_type": "code",
   "execution_count": 28,
   "metadata": {
    "ExecuteTime": {
     "end_time": "2020-08-13T01:09:25.719073Z",
     "start_time": "2020-08-13T01:09:25.600181Z"
    }
   },
   "outputs": [],
   "source": [
    "protein_ruv_ewing.to_csv(\"../data/protein/E0022_Ewing_for_Alex.tsv\", index=False, sep='\\t')"
   ]
  },
  {
   "cell_type": "markdown",
   "metadata": {},
   "source": [
    "# oral"
   ]
  },
  {
   "cell_type": "code",
   "execution_count": 33,
   "metadata": {
    "ExecuteTime": {
     "end_time": "2020-08-13T11:54:57.882355Z",
     "start_time": "2020-08-13T11:54:57.853574Z"
    }
   },
   "outputs": [],
   "source": [
    "meta = pd.read_csv(\"../data/E0022_P06_final_sample_map_no_control.txt\",sep='\\t')"
   ]
  },
  {
   "cell_type": "code",
   "execution_count": 40,
   "metadata": {
    "ExecuteTime": {
     "end_time": "2020-08-13T11:56:00.078836Z",
     "start_time": "2020-08-13T11:56:00.074844Z"
    }
   },
   "outputs": [],
   "source": [
    "oral_lines = meta[meta['Cancer_type']=='Oral Cavity Carcinoma']['Cell_line'].unique()"
   ]
  },
  {
   "cell_type": "code",
   "execution_count": 30,
   "metadata": {
    "ExecuteTime": {
     "end_time": "2020-08-13T11:54:34.176773Z",
     "start_time": "2020-08-13T11:54:28.500895Z"
    }
   },
   "outputs": [],
   "source": [
    "drug_df = pd.read_csv(\"../data/drug/drug_final_processed_eg_id.csv.gz\", low_memory=False)"
   ]
  },
  {
   "cell_type": "code",
   "execution_count": 43,
   "metadata": {
    "ExecuteTime": {
     "end_time": "2020-08-13T11:56:41.133583Z",
     "start_time": "2020-08-13T11:56:41.091940Z"
    }
   },
   "outputs": [],
   "source": [
    "drug_oral=drug_df[drug_df['cell_line_name'].isin(oral_lines)]"
   ]
  },
  {
   "cell_type": "code",
   "execution_count": 52,
   "metadata": {
    "ExecuteTime": {
     "end_time": "2020-08-13T12:08:37.901321Z",
     "start_time": "2020-08-13T12:08:37.879456Z"
    }
   },
   "outputs": [
    {
     "data": {
      "application/vnd.jupyter.widget-view+json": {
       "model_id": "1a9ad79ab11e4fd99c6abcb7913e2063",
       "version_major": 2,
       "version_minor": 0
      },
      "text/plain": [
       "QgridWidget(grid_options={'fullWidthRows': True, 'syncColumnCellResize': True, 'forceFitColumns': True, 'defau…"
      ]
     },
     "metadata": {},
     "output_type": "display_data"
    }
   ],
   "source": [
    "qgrid.show_grid(drug_oral.groupby(['drug_id'])['ln_IC50'].mean().sort_values().reset_index())"
   ]
  },
  {
   "cell_type": "code",
   "execution_count": 50,
   "metadata": {
    "ExecuteTime": {
     "end_time": "2020-08-13T12:04:26.063306Z",
     "start_time": "2020-08-13T12:04:26.045382Z"
    }
   },
   "outputs": [
    {
     "data": {
      "text/html": [
       "<div>\n",
       "<style scoped>\n",
       "    .dataframe tbody tr th:only-of-type {\n",
       "        vertical-align: middle;\n",
       "    }\n",
       "\n",
       "    .dataframe tbody tr th {\n",
       "        vertical-align: top;\n",
       "    }\n",
       "\n",
       "    .dataframe thead th {\n",
       "        text-align: right;\n",
       "    }\n",
       "</style>\n",
       "<table border=\"1\" class=\"dataframe\">\n",
       "  <thead>\n",
       "    <tr style=\"text-align: right;\">\n",
       "      <th></th>\n",
       "      <th>num_replicates</th>\n",
       "      <th>RMSE</th>\n",
       "      <th>drug_id</th>\n",
       "      <th>sample_treatment</th>\n",
       "      <th>putative_target</th>\n",
       "      <th>model_treatment</th>\n",
       "      <th>model_name</th>\n",
       "      <th>msi_status</th>\n",
       "      <th>CHEMBL</th>\n",
       "      <th>cell_line_name</th>\n",
       "      <th>...</th>\n",
       "      <th>growth_properties</th>\n",
       "      <th>webrelease</th>\n",
       "      <th>COSMIC_ID</th>\n",
       "      <th>AUC</th>\n",
       "      <th>PUBCHEM</th>\n",
       "      <th>IC50_raw</th>\n",
       "      <th>IC50_norm_raw</th>\n",
       "      <th>IC50_norm</th>\n",
       "      <th>sensitive</th>\n",
       "      <th>IC50_norm_scaled</th>\n",
       "    </tr>\n",
       "  </thead>\n",
       "  <tbody>\n",
       "  </tbody>\n",
       "</table>\n",
       "<p>0 rows × 40 columns</p>\n",
       "</div>"
      ],
      "text/plain": [
       "Empty DataFrame\n",
       "Columns: [num_replicates, RMSE, drug_id, sample_treatment, putative_target, model_treatment, model_name, msi_status, CHEMBL, cell_line_name, model_synonyms, cancer_type_detail, drug_name, putative_gene_target, use_in_publications, model_type, drug_synonyms, RRID, dataset, ln_IC50, model_id, drug_owner, BROAD_ID, master_cell_id, sample_treatment_details, max_screening_conc, cancer_type, target_pathway, tissue, sample_site, growth_properties, webrelease, COSMIC_ID, AUC, PUBCHEM, IC50_raw, IC50_norm_raw, IC50_norm, sensitive, IC50_norm_scaled]\n",
       "Index: []\n",
       "\n",
       "[0 rows x 40 columns]"
      ]
     },
     "execution_count": 50,
     "metadata": {},
     "output_type": "execute_result"
    }
   ],
   "source": [
    "drug_oral[drug_oral['drug_id'].str.contains('Nimotuzumab')]"
   ]
  }
 ],
 "metadata": {
  "kernelspec": {
   "display_name": "Python 3",
   "language": "python",
   "name": "python3"
  },
  "language_info": {
   "codemirror_mode": {
    "name": "ipython",
    "version": 3
   },
   "file_extension": ".py",
   "mimetype": "text/x-python",
   "name": "python",
   "nbconvert_exporter": "python",
   "pygments_lexer": "ipython3",
   "version": "3.8.5"
  },
  "toc": {
   "base_numbering": 1,
   "nav_menu": {},
   "number_sections": true,
   "sideBar": true,
   "skip_h1_title": false,
   "title_cell": "Table of Contents",
   "title_sidebar": "Contents",
   "toc_cell": false,
   "toc_position": {},
   "toc_section_display": true,
   "toc_window_display": false
  }
 },
 "nbformat": 4,
 "nbformat_minor": 4
}
