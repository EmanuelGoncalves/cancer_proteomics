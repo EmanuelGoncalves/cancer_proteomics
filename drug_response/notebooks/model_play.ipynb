{
 "cells": [
  {
   "cell_type": "code",
   "execution_count": 7,
   "metadata": {
    "ExecuteTime": {
     "end_time": "2020-03-13T12:06:09.203224Z",
     "start_time": "2020-03-13T12:06:09.110146Z"
    }
   },
   "outputs": [
    {
     "name": "stderr",
     "output_type": "stream",
     "text": [
      "/Users/scai/anaconda3/lib/python3.7/importlib/_bootstrap.py:219: RuntimeWarning: numpy.ufunc size changed, may indicate binary incompatibility. Expected 192 from C header, got 216 from PyObject\n",
      "  return f(*args, **kwds)\n"
     ]
    }
   ],
   "source": [
    "from lightgbm import LGBMRegressor\n",
    "import pandas as pd\n",
    "import numpy as np\n",
    "from sklearn.model_selection import train_test_split, cross_val_score, GridSearchCV\n",
    "from sklearn.metrics import mean_squared_error\n",
    "import pickle\n",
    "from sklearn.svm import SVR"
   ]
  },
  {
   "cell_type": "code",
   "execution_count": 2,
   "metadata": {
    "ExecuteTime": {
     "end_time": "2020-03-13T12:03:55.283438Z",
     "start_time": "2020-03-13T12:03:55.281159Z"
    }
   },
   "outputs": [],
   "source": [
    "seed = 42"
   ]
  },
  {
   "cell_type": "markdown",
   "metadata": {},
   "source": [
    "# Load data"
   ]
  },
  {
   "cell_type": "code",
   "execution_count": 4,
   "metadata": {
    "ExecuteTime": {
     "end_time": "2020-03-13T12:05:19.393102Z",
     "start_time": "2020-03-13T12:05:17.824912Z"
    }
   },
   "outputs": [],
   "source": [
    "meta = pd.read_csv(\"../data/E0022_P01-P05_sample_map.txt\", sep='\\t')\n",
    "# protein_raw = pickle.load(open(\"../data/protein/E0022_P06_log_transformed_peptide.pkl\", \"rb\"))\n",
    "protein_raw = pd.read_csv(\"../data/E0022_P06_final_sample_map.txt\", sep='\\t')\n",
    "ic50 = pd.read_csv(\"../data/drug/DrugResponse_PANCANCER_GDSC1_GDSC2_IC_20191119.csv\")\n",
    "ic50 = ic50.sort_values(by=['Dataset version'])\n",
    "ic50 = ic50.drop_duplicates(\n",
    "    ['Drug Id', 'Cell line name'], keep='last').sort_values(\n",
    "        by=['Drug Id', 'Cell line name']).reset_index(drop=True)\n",
    "\n",
    "\n",
    "protein_raw = protein_raw.rename(columns={'Unnamed: 0': 'Automatic_MS_filename'})\n",
    "protein_raw_merge = pd.merge(protein_raw, meta[['Automatic_MS_filename', 'Cell_line']])\n",
    "\n",
    "protein_sample_avg = protein_raw_merge.drop(['Automatic_MS_filename'],\n",
    "                                      axis=1).groupby(['Cell_line']).agg(np.nanmean).reset_index()"
   ]
  },
  {
   "cell_type": "markdown",
   "metadata": {},
   "source": [
    "# two drugs - 201 and 1001"
   ]
  },
  {
   "cell_type": "markdown",
   "metadata": {},
   "source": [
    "## 201 - most effective"
   ]
  },
  {
   "cell_type": "code",
   "execution_count": 6,
   "metadata": {
    "ExecuteTime": {
     "end_time": "2020-03-13T12:05:34.705806Z",
     "start_time": "2020-03-13T12:05:34.689406Z"
    }
   },
   "outputs": [],
   "source": [
    "drug_id = 201\n",
    "tmp_df = pd.merge(\n",
    "    protein_sample_avg,\n",
    "    ic50[ic50['Drug Id'] == drug_id][['Cell line name', 'IC50']],\n",
    "    how='inner',\n",
    "    left_on='Cell_line',\n",
    "    right_on='Cell line name')\n",
    "\n",
    "X = tmp_df.drop(['Cell_line', 'Cell line name', 'IC50'], axis=1)\n",
    "y = tmp_df['IC50']\n",
    "\n",
    "X_train, X_test, y_train, y_test = train_test_split(X, y, test_size=0.1)"
   ]
  },
  {
   "cell_type": "code",
   "execution_count": 9,
   "metadata": {
    "ExecuteTime": {
     "end_time": "2020-03-13T12:08:16.039670Z",
     "start_time": "2020-03-13T12:08:13.695547Z"
    }
   },
   "outputs": [
    {
     "data": {
      "text/plain": [
       "GridSearchCV(cv=5, error_score='raise-deprecating',\n",
       "             estimator=SVR(C=1.0, cache_size=200, coef0=0.0, degree=3,\n",
       "                           epsilon=0.1, gamma='auto_deprecated', kernel='rbf',\n",
       "                           max_iter=-1, shrinking=True, tol=0.001,\n",
       "                           verbose=False),\n",
       "             iid='warn', n_jobs=-1,\n",
       "             param_grid={'C': [100000.0, 1000000.0], 'gamma': [1e-10, 1e-09]},\n",
       "             pre_dispatch='2*n_jobs', refit=True, return_train_score=False,\n",
       "             scoring='neg_mean_absolute_error', verbose=0)"
      ]
     },
     "execution_count": 9,
     "metadata": {},
     "output_type": "execute_result"
    }
   ],
   "source": [
    "params = {'C': [1e5, 1e6], 'gamma': [1e-10, 1e-9]}\n",
    "rcv = GridSearchCV(SVR(), params, scoring='neg_mean_absolute_error', cv=5, n_jobs=-1)\n",
    "rcv.fit(X, y)"
   ]
  },
  {
   "cell_type": "code",
   "execution_count": 12,
   "metadata": {
    "ExecuteTime": {
     "end_time": "2020-03-13T12:09:10.103410Z",
     "start_time": "2020-03-13T12:09:10.099410Z"
    }
   },
   "outputs": [
    {
     "data": {
      "text/plain": [
       "[-1.5085251231906023,\n",
       " -1.399607793604044,\n",
       " -1.4528304436687496,\n",
       " -1.503865210826909,\n",
       " -1.4912633450340462]"
      ]
     },
     "execution_count": 12,
     "metadata": {},
     "output_type": "execute_result"
    }
   ],
   "source": [
    "[rcv.cv_results_[f'split{i}_test_score'][rcv.best_index_] for i in range(5)]"
   ]
  },
  {
   "cell_type": "code",
   "execution_count": 43,
   "metadata": {
    "ExecuteTime": {
     "end_time": "2020-03-05T03:23:32.124481Z",
     "start_time": "2020-03-05T03:23:32.120226Z"
    }
   },
   "outputs": [
    {
     "data": {
      "text/plain": [
       "3.364149487082684"
      ]
     },
     "execution_count": 43,
     "metadata": {},
     "output_type": "execute_result"
    }
   ],
   "source": [
    "mean_squared_error(y_test, y_pred)"
   ]
  },
  {
   "cell_type": "markdown",
   "metadata": {},
   "source": [
    "## 1001"
   ]
  },
  {
   "cell_type": "code",
   "execution_count": 45,
   "metadata": {
    "ExecuteTime": {
     "end_time": "2020-03-05T03:25:23.898399Z",
     "start_time": "2020-03-05T03:25:23.814242Z"
    }
   },
   "outputs": [],
   "source": [
    "drug_id = 1001\n",
    "tmp_df = pd.merge(\n",
    "    protein_sample_avg,\n",
    "    ic50_shuffle[ic50_shuffle['Drug Id'] == drug_id][['Cell line name', 'IC50']],\n",
    "    how='inner',\n",
    "    left_on='Cell_line',\n",
    "    right_on='Cell line name')\n",
    "\n",
    "X = tmp_df.drop(['Cell_line', 'Cell line name', 'IC50'], axis=1)\n",
    "y = tmp_df['IC50']\n",
    "\n",
    "X_train, X_test, y_train, y_test = train_test_split(X, y, test_size=0.1)"
   ]
  },
  {
   "cell_type": "code",
   "execution_count": 46,
   "metadata": {
    "ExecuteTime": {
     "end_time": "2020-03-05T03:25:47.480748Z",
     "start_time": "2020-03-05T03:25:27.111870Z"
    }
   },
   "outputs": [],
   "source": [
    "reg = LGBMRegressor()\n",
    "reg.fit(X_train, y_train)\n",
    "\n",
    "y_pred = reg.predict(X_test)"
   ]
  },
  {
   "cell_type": "code",
   "execution_count": 47,
   "metadata": {
    "ExecuteTime": {
     "end_time": "2020-03-05T03:25:49.227196Z",
     "start_time": "2020-03-05T03:25:49.222430Z"
    }
   },
   "outputs": [
    {
     "data": {
      "text/plain": [
       "1.2540908072460701"
      ]
     },
     "execution_count": 47,
     "metadata": {},
     "output_type": "execute_result"
    }
   ],
   "source": [
    "mean_squared_error(y_test, y_pred)"
   ]
  },
  {
   "cell_type": "code",
   "execution_count": null,
   "metadata": {},
   "outputs": [],
   "source": []
  }
 ],
 "metadata": {
  "kernelspec": {
   "display_name": "Python 3",
   "language": "python",
   "name": "python3"
  },
  "language_info": {
   "codemirror_mode": {
    "name": "ipython",
    "version": 3
   },
   "file_extension": ".py",
   "mimetype": "text/x-python",
   "name": "python",
   "nbconvert_exporter": "python",
   "pygments_lexer": "ipython3",
   "version": "3.7.3"
  },
  "toc": {
   "base_numbering": 1,
   "nav_menu": {},
   "number_sections": true,
   "sideBar": true,
   "skip_h1_title": false,
   "title_cell": "Table of Contents",
   "title_sidebar": "Contents",
   "toc_cell": false,
   "toc_position": {},
   "toc_section_display": true,
   "toc_window_display": true
  }
 },
 "nbformat": 4,
 "nbformat_minor": 2
}
