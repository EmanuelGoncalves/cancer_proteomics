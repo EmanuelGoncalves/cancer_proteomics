{
 "cells": [
  {
   "cell_type": "code",
   "execution_count": 41,
   "metadata": {
    "ExecuteTime": {
     "end_time": "2020-03-05T03:23:14.882120Z",
     "start_time": "2020-03-05T03:23:14.879418Z"
    }
   },
   "outputs": [],
   "source": [
    "from lightgbm import LGBMRegressor\n",
    "import pandas as pd\n",
    "import numpy as np\n",
    "from sklearn.model_selection import train_test_split, cross_val_score\n",
    "from sklearn.metrics import mean_squared_error"
   ]
  },
  {
   "cell_type": "code",
   "execution_count": 34,
   "metadata": {
    "ExecuteTime": {
     "end_time": "2020-03-05T01:14:12.535054Z",
     "start_time": "2020-03-05T01:14:12.532666Z"
    }
   },
   "outputs": [],
   "source": [
    "seed = 42"
   ]
  },
  {
   "cell_type": "markdown",
   "metadata": {},
   "source": [
    "# Load data"
   ]
  },
  {
   "cell_type": "code",
   "execution_count": 17,
   "metadata": {
    "ExecuteTime": {
     "end_time": "2020-03-05T01:04:49.887725Z",
     "start_time": "2020-03-05T01:04:40.492184Z"
    }
   },
   "outputs": [],
   "source": [
    "meta = pd.read_csv(\"../data/E0022_P01-P05_sample_map.txt\", sep='\\t')\n",
    "protein_raw = pd.read_csv(\"../data/E0022_P05_protein_intensities.txt\", sep='\\t')\n",
    "ic50 = pd.read_csv(\"../data/DrugResponse_PANCANCER_GDSC1_GDSC2_IC_20191119.csv\")\n",
    "\n",
    "protein_raw = protein_raw.rename(columns={'Unnamed: 0': 'Automatic_MS_filename'})\n",
    "protein_raw_merge = pd.merge(protein_raw, meta[['Automatic_MS_filename', 'Cell_line']])\n",
    "\n",
    "protein_sample_avg = protein_raw_merge.drop(['Automatic_MS_filename'],\n",
    "                                      axis=1).groupby(['Cell_line']).agg(np.nanmean).reset_index()"
   ]
  },
  {
   "cell_type": "code",
   "execution_count": 18,
   "metadata": {
    "ExecuteTime": {
     "end_time": "2020-03-05T01:04:50.490203Z",
     "start_time": "2020-03-05T01:04:50.299193Z"
    }
   },
   "outputs": [],
   "source": [
    "# shuffle so that we randomly pick data version\n",
    "ic50_shuffle = ic50.sample(frac=1).reset_index(drop=True).drop_duplicates(\n",
    "    ['Drug Id', 'Cell line name'])"
   ]
  },
  {
   "cell_type": "markdown",
   "metadata": {},
   "source": [
    "# two drugs - 201 and 1001"
   ]
  },
  {
   "cell_type": "markdown",
   "metadata": {},
   "source": [
    "## 201 - most effective"
   ]
  },
  {
   "cell_type": "code",
   "execution_count": 30,
   "metadata": {
    "ExecuteTime": {
     "end_time": "2020-03-05T01:12:02.927604Z",
     "start_time": "2020-03-05T01:12:02.911807Z"
    }
   },
   "outputs": [],
   "source": [
    "drug_id = 201\n",
    "tmp_df = pd.merge(\n",
    "    protein_sample_avg,\n",
    "    ic50_shuffle[ic50_shuffle['Drug Id'] == drug_id][['Cell line name', 'IC50']],\n",
    "    how='inner',\n",
    "    left_on='Cell_line',\n",
    "    right_on='Cell line name')\n",
    "\n",
    "X = tmp_df.drop(['Cell_line', 'Cell line name', 'IC50'], axis=1)\n",
    "y = tmp_df['IC50']\n",
    "\n",
    "X_train, X_test, y_train, y_test = train_test_split(X, y, test_size=0.1)"
   ]
  },
  {
   "cell_type": "code",
   "execution_count": 38,
   "metadata": {
    "ExecuteTime": {
     "end_time": "2020-03-05T03:22:06.865461Z",
     "start_time": "2020-03-05T03:21:49.379450Z"
    }
   },
   "outputs": [
    {
     "data": {
      "text/plain": [
       "LGBMRegressor(boosting_type='gbdt', class_weight=None, colsample_bytree=1.0,\n",
       "              importance_type='split', learning_rate=0.1, max_depth=-1,\n",
       "              min_child_samples=20, min_child_weight=0.001, min_split_gain=0.0,\n",
       "              n_estimators=100, n_jobs=-1, num_leaves=31, objective=None,\n",
       "              random_state=None, reg_alpha=0.0, reg_lambda=0.0, silent=True,\n",
       "              subsample=1.0, subsample_for_bin=200000, subsample_freq=0)"
      ]
     },
     "execution_count": 38,
     "metadata": {},
     "output_type": "execute_result"
    }
   ],
   "source": [
    "reg = LGBMRegressor()\n",
    "reg.fit(X_train, y_train)\n",
    "\n",
    "y_pred = reg.predict(X_test)"
   ]
  },
  {
   "cell_type": "code",
   "execution_count": 43,
   "metadata": {
    "ExecuteTime": {
     "end_time": "2020-03-05T03:23:32.124481Z",
     "start_time": "2020-03-05T03:23:32.120226Z"
    }
   },
   "outputs": [
    {
     "data": {
      "text/plain": [
       "3.364149487082684"
      ]
     },
     "execution_count": 43,
     "metadata": {},
     "output_type": "execute_result"
    }
   ],
   "source": [
    "mean_squared_error(y_test, y_pred)"
   ]
  },
  {
   "cell_type": "markdown",
   "metadata": {},
   "source": [
    "## 1001"
   ]
  },
  {
   "cell_type": "code",
   "execution_count": 45,
   "metadata": {
    "ExecuteTime": {
     "end_time": "2020-03-05T03:25:23.898399Z",
     "start_time": "2020-03-05T03:25:23.814242Z"
    }
   },
   "outputs": [],
   "source": [
    "drug_id = 1001\n",
    "tmp_df = pd.merge(\n",
    "    protein_sample_avg,\n",
    "    ic50_shuffle[ic50_shuffle['Drug Id'] == drug_id][['Cell line name', 'IC50']],\n",
    "    how='inner',\n",
    "    left_on='Cell_line',\n",
    "    right_on='Cell line name')\n",
    "\n",
    "X = tmp_df.drop(['Cell_line', 'Cell line name', 'IC50'], axis=1)\n",
    "y = tmp_df['IC50']\n",
    "\n",
    "X_train, X_test, y_train, y_test = train_test_split(X, y, test_size=0.1)"
   ]
  },
  {
   "cell_type": "code",
   "execution_count": 46,
   "metadata": {
    "ExecuteTime": {
     "end_time": "2020-03-05T03:25:47.480748Z",
     "start_time": "2020-03-05T03:25:27.111870Z"
    }
   },
   "outputs": [],
   "source": [
    "reg = LGBMRegressor()\n",
    "reg.fit(X_train, y_train)\n",
    "\n",
    "y_pred = reg.predict(X_test)"
   ]
  },
  {
   "cell_type": "code",
   "execution_count": 47,
   "metadata": {
    "ExecuteTime": {
     "end_time": "2020-03-05T03:25:49.227196Z",
     "start_time": "2020-03-05T03:25:49.222430Z"
    }
   },
   "outputs": [
    {
     "data": {
      "text/plain": [
       "1.2540908072460701"
      ]
     },
     "execution_count": 47,
     "metadata": {},
     "output_type": "execute_result"
    }
   ],
   "source": [
    "mean_squared_error(y_test, y_pred)"
   ]
  },
  {
   "cell_type": "code",
   "execution_count": null,
   "metadata": {},
   "outputs": [],
   "source": []
  }
 ],
 "metadata": {
  "kernelspec": {
   "display_name": "Python 3",
   "language": "python",
   "name": "python3"
  },
  "language_info": {
   "codemirror_mode": {
    "name": "ipython",
    "version": 3
   },
   "file_extension": ".py",
   "mimetype": "text/x-python",
   "name": "python",
   "nbconvert_exporter": "python",
   "pygments_lexer": "ipython3",
   "version": "3.7.3"
  },
  "toc": {
   "base_numbering": 1,
   "nav_menu": {},
   "number_sections": true,
   "sideBar": true,
   "skip_h1_title": false,
   "title_cell": "Table of Contents",
   "title_sidebar": "Contents",
   "toc_cell": false,
   "toc_position": {},
   "toc_section_display": true,
   "toc_window_display": true
  }
 },
 "nbformat": 4,
 "nbformat_minor": 2
}
