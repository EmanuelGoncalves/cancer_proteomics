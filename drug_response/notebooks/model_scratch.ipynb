{
 "cells": [
  {
   "cell_type": "code",
   "execution_count": 19,
   "metadata": {
    "ExecuteTime": {
     "end_time": "2020-04-21T01:31:03.270357Z",
     "start_time": "2020-04-21T01:31:03.267250Z"
    }
   },
   "outputs": [],
   "source": [
    "import pandas as pd\n",
    "from sklearn.tree import DecisionTreeRegressor, plot_tree\n",
    "from sklearn.impute import SimpleImputer\n",
    "import numpy as np\n",
    "from scipy.stats import pearsonr"
   ]
  },
  {
   "cell_type": "code",
   "execution_count": 3,
   "metadata": {
    "ExecuteTime": {
     "end_time": "2020-04-21T01:25:07.193932Z",
     "start_time": "2020-04-21T01:25:04.927617Z"
    }
   },
   "outputs": [],
   "source": [
    "meta = pd.read_csv('../data/E0022_P06_final_sample_map_no_control.txt', sep='\\t')\n",
    "\n",
    "ic50 = pd.read_csv('../data/drug/ic50_processed.csv')\n",
    "\n",
    "data_sample = pd.read_csv('../data/protein/E0022_P06_Protein_Matrix_ProNorM_no_control.txt', sep='\\t')"
   ]
  },
  {
   "cell_type": "code",
   "execution_count": 4,
   "metadata": {
    "ExecuteTime": {
     "end_time": "2020-04-21T01:26:05.247074Z",
     "start_time": "2020-04-21T01:26:04.035204Z"
    }
   },
   "outputs": [],
   "source": [
    "min_cell_lines = 300\n",
    "ic50_counts = ic50.groupby(['Drug Id']).size()\n",
    "selected_drugs = ic50_counts[ic50_counts > min_cell_lines].index.values\n",
    "\n",
    "ic50_selected = ic50[ic50['Drug Id'].isin(selected_drugs)]\n",
    "\n",
    "cell_lines_train = pd.read_csv(\n",
    "    '../data/protein/E0022_P06_Protein_Matrix_ProNorM_no_control_train.txt',\n",
    "    sep='\\t')['Cell_line'].values\n",
    "cell_lines_test = pd.read_csv(\n",
    "    '../data/protein/E0022_P06_Protein_Matrix_ProNorM_no_control_test.csv',\n",
    "    sep='\\t')['Cell_line'].values\n",
    "\n",
    "ic50_selected_train = ic50_selected[ic50_selected['Cell line name'].isin(\n",
    "    cell_lines_train)]\n",
    "ic50_selected_test = ic50_selected[ic50_selected['Cell line name'].isin(\n",
    "    cell_lines_test)]"
   ]
  },
  {
   "cell_type": "code",
   "execution_count": 24,
   "metadata": {
    "ExecuteTime": {
     "end_time": "2020-04-21T01:33:06.567369Z",
     "start_time": "2020-04-21T01:33:06.565099Z"
    }
   },
   "outputs": [],
   "source": [
    "drug_id = 1909\n",
    "target = 'IC50_norm_scaled'"
   ]
  },
  {
   "cell_type": "code",
   "execution_count": 25,
   "metadata": {
    "ExecuteTime": {
     "end_time": "2020-04-21T01:33:06.932402Z",
     "start_time": "2020-04-21T01:33:06.906572Z"
    }
   },
   "outputs": [],
   "source": [
    "tmp_df_train = pd.merge(\n",
    "    data_sample,\n",
    "    ic50_selected_train[ic50_selected_train['Drug Id'] == drug_id][[\n",
    "        'Cell line name', target\n",
    "    ]],\n",
    "    how='inner',\n",
    "    left_on='Cell_line',\n",
    "    right_on='Cell line name')\n",
    "\n",
    "tmp_df_test = pd.merge(\n",
    "    data_sample,\n",
    "    ic50_selected_test[ic50_selected_test['Drug Id'] == drug_id][[\n",
    "        'Cell line name', target\n",
    "    ]],\n",
    "    how='inner',\n",
    "    left_on='Cell_line',\n",
    "    right_on='Cell line name')"
   ]
  },
  {
   "cell_type": "code",
   "execution_count": 26,
   "metadata": {
    "ExecuteTime": {
     "end_time": "2020-04-21T01:33:07.215103Z",
     "start_time": "2020-04-21T01:33:07.178154Z"
    }
   },
   "outputs": [],
   "source": [
    "X_train = tmp_df_train.drop(['Cell_line', 'Cell line name', target], axis=1)\n",
    "X_test = tmp_df_test.drop(['Cell_line', 'Cell line name', target], axis=1)\n",
    "\n",
    "y_train = tmp_df_train[target]\n",
    "y_test = tmp_df_test[target]"
   ]
  },
  {
   "cell_type": "code",
   "execution_count": 27,
   "metadata": {
    "ExecuteTime": {
     "end_time": "2020-04-21T01:33:07.857800Z",
     "start_time": "2020-04-21T01:33:07.854988Z"
    }
   },
   "outputs": [],
   "source": [
    "imputer = SimpleImputer(missing_values=np.nan, strategy='constant', fill_value=-2.242616)"
   ]
  },
  {
   "cell_type": "code",
   "execution_count": 28,
   "metadata": {
    "ExecuteTime": {
     "end_time": "2020-04-21T01:33:08.330482Z",
     "start_time": "2020-04-21T01:33:08.328196Z"
    }
   },
   "outputs": [],
   "source": [
    "reg = DecisionTreeRegressor()"
   ]
  },
  {
   "cell_type": "code",
   "execution_count": 29,
   "metadata": {
    "ExecuteTime": {
     "end_time": "2020-04-21T01:33:10.009744Z",
     "start_time": "2020-04-21T01:33:08.688946Z"
    }
   },
   "outputs": [
    {
     "data": {
      "text/plain": [
       "DecisionTreeRegressor(ccp_alpha=0.0, criterion='mse', max_depth=None,\n",
       "                      max_features=None, max_leaf_nodes=None,\n",
       "                      min_impurity_decrease=0.0, min_impurity_split=None,\n",
       "                      min_samples_leaf=1, min_samples_split=2,\n",
       "                      min_weight_fraction_leaf=0.0, presort='deprecated',\n",
       "                      random_state=None, splitter='best')"
      ]
     },
     "execution_count": 29,
     "metadata": {},
     "output_type": "execute_result"
    }
   ],
   "source": [
    "reg.fit(imputer.fit_transform(X_train), y_train)"
   ]
  },
  {
   "cell_type": "code",
   "execution_count": 31,
   "metadata": {
    "ExecuteTime": {
     "end_time": "2020-04-21T01:33:28.845249Z",
     "start_time": "2020-04-21T01:33:28.841921Z"
    }
   },
   "outputs": [
    {
     "data": {
      "text/plain": [
       "21"
      ]
     },
     "execution_count": 31,
     "metadata": {},
     "output_type": "execute_result"
    }
   ],
   "source": [
    "reg.get_depth()"
   ]
  },
  {
   "cell_type": "code",
   "execution_count": 32,
   "metadata": {
    "ExecuteTime": {
     "end_time": "2020-04-21T01:33:28.864178Z",
     "start_time": "2020-04-21T01:33:28.847464Z"
    }
   },
   "outputs": [
    {
     "data": {
      "text/plain": [
       "(0.4677326217349733, 3.864377170012069e-09)"
      ]
     },
     "execution_count": 32,
     "metadata": {},
     "output_type": "execute_result"
    }
   ],
   "source": [
    "pearsonr(reg.predict(imputer.transform(X_test)), y_test)"
   ]
  },
  {
   "cell_type": "code",
   "execution_count": null,
   "metadata": {},
   "outputs": [],
   "source": []
  }
 ],
 "metadata": {
  "kernelspec": {
   "display_name": "Python 3",
   "language": "python",
   "name": "python3"
  },
  "language_info": {
   "codemirror_mode": {
    "name": "ipython",
    "version": 3
   },
   "file_extension": ".py",
   "mimetype": "text/x-python",
   "name": "python",
   "nbconvert_exporter": "python",
   "pygments_lexer": "ipython3",
   "version": "3.6.10"
  },
  "toc": {
   "base_numbering": 1,
   "nav_menu": {},
   "number_sections": true,
   "sideBar": true,
   "skip_h1_title": false,
   "title_cell": "Table of Contents",
   "title_sidebar": "Contents",
   "toc_cell": false,
   "toc_position": {},
   "toc_section_display": true,
   "toc_window_display": false
  }
 },
 "nbformat": 4,
 "nbformat_minor": 4
}
