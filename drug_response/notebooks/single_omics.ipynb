{
 "cells": [
  {
   "cell_type": "code",
   "execution_count": 2,
   "metadata": {
    "ExecuteTime": {
     "end_time": "2020-10-14T02:27:53.541121Z",
     "start_time": "2020-10-14T02:27:51.692709Z"
    }
   },
   "outputs": [],
   "source": [
    "import pandas as pd\n",
    "import numpy as np\n",
    "import seaborn as sns\n",
    "import matplotlib.pyplot as plt\n",
    "from scipy.stats import ttest_ind\n",
    "from sklearn.metrics import r2_score\n",
    "from scipy.stats import pearsonr, spearmanr\n",
    "import plotly.express as px\n",
    "import plotly.graph_objects as go\n",
    "import matplotlib.patches as mpatches\n",
    "from scipy.stats import ttest_ind, ttest_1samp, ttest_rel\n",
    "import matplotlib as mpl"
   ]
  },
  {
   "cell_type": "code",
   "execution_count": 3,
   "metadata": {
    "ExecuteTime": {
     "end_time": "2020-10-14T02:27:53.549028Z",
     "start_time": "2020-10-14T02:27:53.543510Z"
    }
   },
   "outputs": [],
   "source": [
    "# mpl.rcParams['font.family'] = 'Avenir'\n",
    "plt.rc('font', family='Helvetica')\n",
    "plt.rcParams['font.size'] = 18\n",
    "plt.rcParams['axes.linewidth'] = 2\n",
    "plt.rcParams['figure.figsize'] = (10.0, 7.0)\n",
    "plt.rcParams['pdf.fonttype'] = 42\n",
    "plt.rcParams['ps.fonttype'] = 42\n",
    "sns.set_palette(\"Dark2\")"
   ]
  },
  {
   "cell_type": "code",
   "execution_count": 4,
   "metadata": {
    "ExecuteTime": {
     "end_time": "2020-10-14T02:27:53.556870Z",
     "start_time": "2020-10-14T02:27:53.551738Z"
    }
   },
   "outputs": [],
   "source": [
    "def deep_learning_cv_score(df, drug_id=None):\n",
    "    if drug_id:\n",
    "        df = df[df['drug_id'].str.startswith(str(drug_id))]\n",
    "    scores_cv_long = []\n",
    "    if 'score' in df.columns:\n",
    "        col = 'score'\n",
    "    else:\n",
    "        col = 'val_score'\n",
    "    for i in range(5):\n",
    "        scores_multi_protein_cv_c = df[df['run'] == f'cv_{i}'].reset_index(\n",
    "            drop=True)\n",
    "\n",
    "        max_epoch = scores_multi_protein_cv_c.groupby(\n",
    "            ['epoch']).median()[col].reset_index()\n",
    "        max_epoch = np.squeeze(\n",
    "            max_epoch[max_epoch[col] == max_epoch[col].max()]['epoch'])\n",
    "        scores_cv_long.append(\n",
    "            df[(df['run'] == f'cv_{i}')\n",
    "               & (df['epoch'] == max_epoch)].reset_index(drop=True))\n",
    "    scores_cv_long = pd.concat(scores_cv_long).drop(['epoch', 'mae'], axis=1)\n",
    "    scores_cv_long['model'] = 'DL'\n",
    "    return scores_cv_long"
   ]
  },
  {
   "cell_type": "markdown",
   "metadata": {},
   "source": [
    "# load data"
   ]
  },
  {
   "cell_type": "markdown",
   "metadata": {},
   "source": [
    "## ENet"
   ]
  },
  {
   "cell_type": "code",
   "execution_count": 5,
   "metadata": {
    "ExecuteTime": {
     "end_time": "2020-09-20T05:26:32.935428Z",
     "start_time": "2020-09-20T05:26:32.890218Z"
    }
   },
   "outputs": [
    {
     "name": "stdout",
     "output_type": "stream",
     "text": [
      "0.13754336040806406\n",
      "0.2947270736571411\n",
      "0.5078212478585235\n",
      "0.4894675984921839\n",
      "0.5023948170952582\n",
      "0.38707759984173673\n"
     ]
    }
   ],
   "source": [
    "wes_df_enet = pd.read_csv(\"../work_dirs/wes/ElasticNet/scores_202009171033_ruv_min_300_eg_id.csv\")\n",
    "wes_df_enet['data'] = 'WES'\n",
    "print(wes_df_enet['test_corr'].median())\n",
    "cna_df_enet = pd.read_csv(\"../work_dirs/cna/ElasticNet/scores_202009170020_ruv_min_300_eg_id.csv\")\n",
    "cna_df_enet['data'] = 'Copy Number'\n",
    "print(cna_df_enet['test_corr'].median())\n",
    "methy_df_enet = pd.read_csv(\"../work_dirs/methylation/ElasticNet/scores_202009171139_ruv_min_300_eg_id.csv\")\n",
    "methy_df_enet['data'] = 'Methylation'\n",
    "print(methy_df_enet['test_corr'].median())\n",
    "\n",
    "rna_df_enet = pd.read_csv(\"../work_dirs/rna/ElasticNet/scores_202006201358_rna_300_eg_id.csv\")\n",
    "rna_df_enet['data'] = 'Transcriptome'\n",
    "print(rna_df_enet['test_corr'].median())\n",
    "\n",
    "protein_df_enet = pd.read_csv(\"../work_dirs/protein/ElasticNet/scores_202006201223_ruv_min_300_eg_id.csv\")\n",
    "protein_df_enet['data'] = 'Proteome'\n",
    "print(protein_df_enet['test_corr'].median())\n",
    "\n",
    "tissue_df_enet = pd.read_csv(\"../work_dirs/meta_info/tissue_ic50/ElasticNet/scores_202007311343_tissue.csv\")\n",
    "tissue_df_enet['data'] = 'Tissue'\n",
    "print(tissue_df_enet['test_corr'].median())\n",
    "\n",
    "# mobem_df_enet = pd.read_csv(\"../work_dirs/mobem/ElasticNet/scores_202007202323_mobem_eg_id.csv\")\n",
    "# print(mobem_df_enet['test_corr'].median())\n",
    "# mobem_df_enet['data'] = 'mobem'\n",
    "\n",
    "# mobem_df_enet_en = pd.read_csv(\"../work_dirs/mobem/ElasticNet/scores_202007311324_mobem_eg_id.csv\")\n",
    "# print(mobem_df_enet_en['test_corr'].median())"
   ]
  },
  {
   "cell_type": "markdown",
   "metadata": {},
   "source": [
    "## RF"
   ]
  },
  {
   "cell_type": "code",
   "execution_count": 6,
   "metadata": {
    "ExecuteTime": {
     "end_time": "2020-09-20T05:26:33.578531Z",
     "start_time": "2020-09-20T05:26:33.526374Z"
    }
   },
   "outputs": [
    {
     "name": "stdout",
     "output_type": "stream",
     "text": [
      "0.08272009824760983\n",
      "0.3154699049821552\n",
      "0.5072752701998318\n",
      "0.5140950194648921\n",
      "0.5101889609650684\n",
      "0.4117131718838183\n",
      "0.38707759984173673\n",
      "0.40970508937011074\n",
      "0.3992240527843818\n"
     ]
    }
   ],
   "source": [
    "wes_df_rf = pd.read_csv(\"../work_dirs/wes/RandomForest/scores_202006211819_ruv_min_300_eg_id.csv\")\n",
    "wes_df_rf['data'] = 'WES'\n",
    "print(wes_df_rf['test_corr'].median())\n",
    "cna_df_rf = pd.read_csv(\"../work_dirs/cna/RandomForest/scores_202006211819_ruv_min_300_eg_id.csv\")\n",
    "cna_df_rf['data'] = 'Copy Number'\n",
    "print(cna_df_rf['test_corr'].median())\n",
    "methy_df_rf = pd.read_csv(\"../work_dirs/methylation/RandomForest/scores_202006211818_ruv_min_300_eg_id.csv\")\n",
    "methy_df_rf['data'] = 'Methylation'\n",
    "print(methy_df_rf['test_corr'].median())\n",
    "\n",
    "rna_df_rf = pd.read_csv(\"../work_dirs/rna/RandomForest/scores_202006191030_rna_300_eg_id.csv\")\n",
    "rna_df_rf['data'] = 'Transcriptome'\n",
    "print(rna_df_rf['test_corr'].median())\n",
    "\n",
    "protein_df_rf = pd.read_csv(\"../work_dirs/protein/RandomForest/scores_202006181311_ruv_min_300_eg_id.csv\")\n",
    "protein_df_rf['data'] = 'Proteome'\n",
    "print(protein_df_rf['test_corr'].median())\n",
    "\n",
    "tissue_df_rf = pd.read_csv(\"../work_dirs/meta_info/tissue_ic50/RandomForest/scores_202007202320_tissue.csv\")\n",
    "tissue_df_rf['data'] = 'Tissue'\n",
    "\n",
    "print(tissue_df_rf['test_corr'].median())\n",
    "tissue_df_rf_en = pd.read_csv(\"../work_dirs/meta_info/tissue_ic50/ElasticNet/scores_202007311343_tissue.csv\")\n",
    "print(tissue_df_rf_en['test_corr'].median())\n",
    "\n",
    "mobem_df_rf = pd.read_csv(\"../work_dirs/mobem/RandomForest/scores_202007202323_mobem_eg_id.csv\")\n",
    "print(mobem_df_rf['test_corr'].median())\n",
    "mobem_df_rf['data'] = 'mobem'\n",
    "\n",
    "mobem_df_rf_en = pd.read_csv(\"../work_dirs/mobem/ElasticNet/scores_202007311324_mobem_eg_id.csv\")\n",
    "print(mobem_df_rf_en['test_corr'].median())"
   ]
  },
  {
   "cell_type": "code",
   "execution_count": 7,
   "metadata": {
    "ExecuteTime": {
     "end_time": "2020-09-20T05:26:33.759521Z",
     "start_time": "2020-09-20T05:26:33.756319Z"
    }
   },
   "outputs": [],
   "source": [
    "data = {\n",
    "    'Tissue': tissue_df_rf['test_corr'].values,\n",
    "    'mobem': mobem_df_rf['test_corr'].values,\n",
    "    'WES': wes_df_rf['test_corr'].values,\n",
    "    'Copy Number': cna_df_rf['test_corr'].values,\n",
    "    'Methylation': methy_df_rf['test_corr'].values,\n",
    "    'Transcriptome': rna_df_rf['test_corr'].values,\n",
    "    'Proteome': protein_df_rf['test_corr'].values\n",
    "}\n",
    "data_list = list(data.keys())"
   ]
  },
  {
   "cell_type": "markdown",
   "metadata": {},
   "source": [
    "## DL"
   ]
  },
  {
   "cell_type": "code",
   "execution_count": 8,
   "metadata": {
    "ExecuteTime": {
     "end_time": "2020-09-20T05:26:34.879523Z",
     "start_time": "2020-09-20T05:26:34.873416Z"
    },
    "code_folding": [
     0
    ]
   },
   "outputs": [],
   "source": [
    "def multidrug_score(scores_multi):\n",
    "    scores_multi_test = scores_multi[\n",
    "    scores_multi['run'] == 'test'].reset_index(drop=True)\n",
    "\n",
    "    max_epoch = scores_multi_test.groupby(\n",
    "        ['epoch']).median()['corr'].reset_index()\n",
    "\n",
    "    print(max_epoch[max_epoch['corr'] == max_epoch['corr'].max()])\n",
    "    cv_max_epoches = []\n",
    "    cv_max_epoches_scores = []\n",
    "    for i in range(5):\n",
    "        scores_multi_cv = scores_multi[\n",
    "            scores_multi['run'] == f'cv_{i}'].reset_index(drop=True)\n",
    "\n",
    "        max_epoch = scores_multi_cv.groupby(\n",
    "            ['epoch']).median()['corr'].reset_index()\n",
    "        cv_max_epoches_scores.append(max_epoch['corr'].max())\n",
    "        max_epoch = np.squeeze(\n",
    "            max_epoch[max_epoch['corr'] == max_epoch['corr'].max()]['epoch'])\n",
    "        cv_max_epoches.append(max_epoch)\n",
    "    print(cv_max_epoches)\n",
    "    print(np.average(cv_max_epoches_scores))\n",
    "    cv_epoch = int(np.mean(cv_max_epoches))\n",
    "    print(f\"cv eooch {cv_epoch}\")\n",
    "    scores_multi_cv = scores_multi[\n",
    "        (scores_multi['run'] != 'test')\n",
    "        & (scores_multi['epoch'] == cv_epoch)].drop(\n",
    "            ['epoch'], axis=1).reset_index(drop=True)\n",
    "    print(\n",
    "        scores_multi_cv.groupby(['drug_id']).mean()['corr'].median())"
   ]
  },
  {
   "cell_type": "code",
   "execution_count": 9,
   "metadata": {
    "ExecuteTime": {
     "end_time": "2020-09-20T05:26:35.068276Z",
     "start_time": "2020-09-20T05:26:35.063201Z"
    },
    "code_folding": [
     0
    ]
   },
   "outputs": [],
   "source": [
    "def multidrug_score_one_drug(scores_multi, drug_id):\n",
    "    scores_multi = scores_multi[scores_multi['drug_id'] == drug_id]\n",
    "    scores_multi_test = scores_multi[scores_multi['run'] ==\n",
    "                                     'test'].reset_index(drop=True)\n",
    "\n",
    "    max_epoch = scores_multi_test.groupby(['epoch'\n",
    "                                           ]).median()['corr'].reset_index()\n",
    "\n",
    "    print(max_epoch[max_epoch['corr'] == max_epoch['corr'].max()])\n",
    "    cv_max_epoches = []\n",
    "    cv_max_epoches_scores = []\n",
    "    for i in range(5):\n",
    "        scores_multi_cv = scores_multi[scores_multi['run'] ==\n",
    "                                       f'cv_{i}'].reset_index(drop=True)\n",
    "\n",
    "        max_epoch = scores_multi_cv.groupby(['epoch'\n",
    "                                             ]).median()['corr'].reset_index()\n",
    "        cv_max_epoches_scores.append(max_epoch['corr'].max())\n",
    "        max_epoch = np.squeeze(\n",
    "            max_epoch[max_epoch['corr'] == max_epoch['corr'].max()]['epoch'])\n",
    "        cv_max_epoches.append(max_epoch)\n",
    "    print(cv_max_epoches)\n",
    "    print(np.average(cv_max_epoches_scores))\n",
    "    cv_epoch = int(np.mean(cv_max_epoches))\n",
    "    print(f\"cv eooch {cv_epoch}\")\n"
   ]
  },
  {
   "cell_type": "code",
   "execution_count": 109,
   "metadata": {
    "ExecuteTime": {
     "end_time": "2020-09-30T12:51:06.176093Z",
     "start_time": "2020-09-30T12:51:06.172509Z"
    }
   },
   "outputs": [],
   "source": [
    "def get_dl_test_score(scores_df):\n",
    "    max_epoch = scores_df[scores_df['run'] == 'test'].groupby(\n",
    "        ['epoch']).median()['corr'].reset_index()\n",
    "    epoch = max_epoch[max_epoch['corr'] ==\n",
    "                      max_epoch['corr'].max()]['epoch'].values[0]\n",
    "    tmp_test = scores_df[(scores_df['run'] == 'test')\n",
    "                         & (scores_df['epoch'] == epoch)][[\n",
    "                             'drug_id', 'corr'\n",
    "                         ]].rename(columns={\n",
    "                             'corr': 'test_corr'\n",
    "                         }).reset_index(drop=True)\n",
    "    return tmp_test"
   ]
  },
  {
   "cell_type": "code",
   "execution_count": 10,
   "metadata": {
    "ExecuteTime": {
     "end_time": "2020-09-20T05:26:35.920014Z",
     "start_time": "2020-09-20T05:26:35.245883Z"
    }
   },
   "outputs": [
    {
     "name": "stdout",
     "output_type": "stream",
     "text": [
      "    epoch      corr\n",
      "87     88  0.413652\n",
      "[122, 81, 74, 107, 117]\n",
      "0.381710948367155\n",
      "cv eooch 100\n",
      "0.3831378679311406\n"
     ]
    }
   ],
   "source": [
    "scores_multi_tissue = pd.read_csv(\n",
    "    \"../work_dirs/meta_info/tissue_ic50/MultiDrug/scores_202007311540_res_eg_id.csv\")\n",
    "multidrug_score(scores_multi_tissue)\n",
    "tissue_epoch = 90"
   ]
  },
  {
   "cell_type": "code",
   "execution_count": 11,
   "metadata": {
    "ExecuteTime": {
     "end_time": "2020-09-20T05:26:36.609161Z",
     "start_time": "2020-09-20T05:26:35.922039Z"
    }
   },
   "outputs": [
    {
     "name": "stdout",
     "output_type": "stream",
     "text": [
      "    epoch      corr\n",
      "47     48  0.392914\n",
      "[64, 60, 104, 59, 86]\n",
      "0.34052158898063695\n",
      "cv eooch 74\n",
      "0.3361292405812141\n"
     ]
    }
   ],
   "source": [
    "scores_multi_mobem = pd.read_csv(\n",
    "    \"../work_dirs/mobem/MultiDrug/scores_202007311540_res_eg_id.csv\")\n",
    "multidrug_score(scores_multi_mobem)\n",
    "mobem_epoch = 50"
   ]
  },
  {
   "cell_type": "code",
   "execution_count": 12,
   "metadata": {
    "ExecuteTime": {
     "end_time": "2020-09-20T05:26:37.872097Z",
     "start_time": "2020-09-20T05:26:36.611053Z"
    }
   },
   "outputs": [
    {
     "name": "stdout",
     "output_type": "stream",
     "text": [
      "    epoch      corr\n",
      "91     92  0.148591\n",
      "[156, 233, 97, 86, 250]\n",
      "0.14466397323006314\n",
      "cv eooch 164\n",
      "0.12235275135072676\n"
     ]
    }
   ],
   "source": [
    "scores_multi_wes = pd.read_csv(\n",
    "    \"../work_dirs/wes/MultiDrug/scores_202006182116_res_eg_id.csv\")\n",
    "multidrug_score(scores_multi_wes)\n",
    "wes_epoch = 160"
   ]
  },
  {
   "cell_type": "code",
   "execution_count": 13,
   "metadata": {
    "ExecuteTime": {
     "end_time": "2020-09-20T05:26:39.090914Z",
     "start_time": "2020-09-20T05:26:37.873989Z"
    }
   },
   "outputs": [
    {
     "name": "stdout",
     "output_type": "stream",
     "text": [
      "     epoch      corr\n",
      "295    296  0.367152\n",
      "[240, 282, 294, 285, 278]\n",
      "0.3246442504658926\n",
      "cv eooch 275\n",
      "0.30834946984118006\n"
     ]
    }
   ],
   "source": [
    "scores_multi_cna = pd.read_csv(\n",
    "    \"../work_dirs/cna/MultiDrug/scores_202006190142_res_eg_id.csv\")\n",
    "multidrug_score(scores_multi_cna)\n",
    "cna_epoch = 270"
   ]
  },
  {
   "cell_type": "code",
   "execution_count": 14,
   "metadata": {
    "ExecuteTime": {
     "end_time": "2020-09-20T05:26:41.117988Z",
     "start_time": "2020-09-20T05:26:39.093007Z"
    }
   },
   "outputs": [
    {
     "name": "stdout",
     "output_type": "stream",
     "text": [
      "     epoch      corr\n",
      "283    284  0.512108\n",
      "[404, 299, 495, 463, 493]\n",
      "0.4747521515542289\n",
      "cv eooch 430\n",
      "0.4687294939111789\n"
     ]
    }
   ],
   "source": [
    "scores_multi_methylation = pd.read_csv(\n",
    "    \"../work_dirs/methylation/MultiDrug/scores_202006190143_res_eg_id.csv\")\n",
    "multidrug_score(scores_multi_methylation)\n",
    "methylation_epoch = 300"
   ]
  },
  {
   "cell_type": "code",
   "execution_count": 15,
   "metadata": {
    "ExecuteTime": {
     "end_time": "2020-09-20T05:26:42.317166Z",
     "start_time": "2020-09-20T05:26:41.119638Z"
    }
   },
   "outputs": [
    {
     "name": "stdout",
     "output_type": "stream",
     "text": [
      "     epoch      corr\n",
      "229    230  0.528858\n",
      "[287, 195, 271, 207, 297]\n",
      "0.4994019394509942\n",
      "cv eooch 251\n",
      "0.49077381190774894\n"
     ]
    }
   ],
   "source": [
    "scores_multi_rna = pd.read_csv(\n",
    "    \"../work_dirs/rna/MultiDrug/scores_202006181624_res_eg_id.csv\")\n",
    "multidrug_score(scores_multi_rna)\n",
    "rna_epoch = 240"
   ]
  },
  {
   "cell_type": "code",
   "execution_count": 16,
   "metadata": {
    "ExecuteTime": {
     "end_time": "2020-09-20T05:26:42.779136Z",
     "start_time": "2020-09-20T05:26:42.318824Z"
    }
   },
   "outputs": [
    {
     "name": "stdout",
     "output_type": "stream",
     "text": [
      "    epoch     corr\n",
      "65     66  0.51924\n",
      "[65, 72, 99, 87, 70]\n",
      "0.49822498229017914\n",
      "cv eooch 78\n",
      "0.49630605600234623\n"
     ]
    }
   ],
   "source": [
    "scores_multi_protein = pd.read_csv(\n",
    "    \"../work_dirs/protein/MultiDrug/scores_202006191021_resx_ruv_zero_300_eg_id.csv\")\n",
    "multidrug_score(scores_multi_protein)\n",
    "protein_epoch = 70"
   ]
  },
  {
   "cell_type": "code",
   "execution_count": 17,
   "metadata": {
    "ExecuteTime": {
     "end_time": "2020-09-20T05:26:42.816978Z",
     "start_time": "2020-09-20T05:26:42.781826Z"
    }
   },
   "outputs": [],
   "source": [
    "scores_multi_mobem_test = scores_multi_mobem[\n",
    "    (scores_multi_mobem['run'] == 'test')\n",
    "    & (scores_multi_mobem['epoch'] == mobem_epoch)][['drug_id',\n",
    "                                           'corr']].rename(columns={\n",
    "                                               'corr': 'test_corr'\n",
    "                                           }).reset_index(drop=True)\n",
    "scores_multi_mobem_test['data'] = 'mobem'"
   ]
  },
  {
   "cell_type": "code",
   "execution_count": 18,
   "metadata": {
    "ExecuteTime": {
     "end_time": "2020-09-20T05:26:42.852913Z",
     "start_time": "2020-09-20T05:26:42.818700Z"
    }
   },
   "outputs": [],
   "source": [
    "scores_multi_tissue_test = scores_multi_tissue[\n",
    "    (scores_multi_tissue['run'] == 'test')\n",
    "    & (scores_multi_tissue['epoch'] == tissue_epoch)][['drug_id',\n",
    "                                           'corr']].rename(columns={\n",
    "                                               'corr': 'test_corr'\n",
    "                                           }).reset_index(drop=True)\n",
    "scores_multi_tissue_test['data'] = 'Tissue'"
   ]
  },
  {
   "cell_type": "code",
   "execution_count": 110,
   "metadata": {
    "ExecuteTime": {
     "end_time": "2020-09-30T12:51:12.036110Z",
     "start_time": "2020-09-30T12:51:11.299588Z"
    }
   },
   "outputs": [],
   "source": [
    "scores_multi_wes_test = get_dl_test_score(scores_multi_wes)\n",
    "scores_multi_wes_test['data'] = 'WES'\n",
    "\n",
    "scores_multi_cna_test = get_dl_test_score(scores_multi_cna)\n",
    "scores_multi_cna_test['data'] = 'Copy Number'\n",
    "\n",
    "scores_multi_methylation_test = get_dl_test_score(scores_multi_methylation)\n",
    "scores_multi_methylation_test['data'] = 'Methylation'\n",
    "\n",
    "scores_multi_rna_test = get_dl_test_score(scores_multi_rna)\n",
    "scores_multi_rna_test['data'] = 'Transcriptome'\n",
    "\n",
    "scores_multi_protein_test = get_dl_test_score(scores_multi_protein)\n",
    "scores_multi_protein_test['data'] = 'Proteome'"
   ]
  },
  {
   "cell_type": "markdown",
   "metadata": {
    "heading_collapsed": true
   },
   "source": [
    "# pairwise correlation"
   ]
  },
  {
   "cell_type": "code",
   "execution_count": 17,
   "metadata": {
    "ExecuteTime": {
     "end_time": "2020-06-15T04:35:36.209348Z",
     "start_time": "2020-06-15T04:35:36.195247Z"
    },
    "hidden": true
   },
   "outputs": [
    {
     "name": "stdout",
     "output_type": "stream",
     "text": [
      "WES/Copy Number R: 0.3742/0.3458\n",
      "WES/Methylation R: 0.3097/0.3057\n",
      "WES/Transcriptome R: 0.3241/0.3038\n",
      "WES/Proteome R: 0.3143/0.2986\n",
      "Copy Number/Methylation R: 0.7641/0.7704\n",
      "Copy Number/Transcriptome R: 0.7869/0.7950\n",
      "Copy Number/Proteome R: 0.8060/0.8176\n",
      "Methylation/Transcriptome R: 0.9380/0.9384\n",
      "Methylation/Proteome R: 0.8927/0.8938\n",
      "Transcriptome/Proteome R: 0.9244/0.9299\n"
     ]
    }
   ],
   "source": [
    "for i in range(len(data_list)):\n",
    "    for j in range(i+1, len(data_list)):\n",
    "        print(\n",
    "            f\"{data_list[i]}/{data_list[j]} R: {pearsonr(data[data_list[i]], data[data_list[j]])[0]:.4f}/{spearmanr(data[data_list[i]], data[data_list[j]])[0]:.4f}\"\n",
    "        )"
   ]
  },
  {
   "cell_type": "markdown",
   "metadata": {
    "heading_collapsed": true
   },
   "source": [
    "# box plot"
   ]
  },
  {
   "cell_type": "code",
   "execution_count": null,
   "metadata": {
    "hidden": true
   },
   "outputs": [],
   "source": [
    "single_omic = pd.concat([wes_df, cna_df, methy_df, rna_df, protein_df])"
   ]
  },
  {
   "cell_type": "markdown",
   "metadata": {
    "hidden": true
   },
   "source": [
    "## RF box"
   ]
  },
  {
   "cell_type": "code",
   "execution_count": 66,
   "metadata": {
    "ExecuteTime": {
     "end_time": "2020-06-15T13:11:05.531514Z",
     "start_time": "2020-06-15T13:11:03.209925Z"
    },
    "hidden": true
   },
   "outputs": [
    {
     "data": {
      "image/png": "[encoded data removed]",
      "text/plain": [
       "<Figure size 720x504 with 1 Axes>"
      ]
     },
     "metadata": {
      "needs_background": "light"
     },
     "output_type": "display_data"
    }
   ],
   "source": [
    "ga = sns.boxplot('data',\n",
    "                 'test_corr',\n",
    "                 data=single_omic,\n",
    "                 orient='v',\n",
    "                 linewidth=2)\n",
    "for patch in ga.artists:\n",
    "    r, g, b, a = patch.get_facecolor()\n",
    "    patch.set_facecolor((r, g, b, .3))\n",
    "\n",
    "sns.swarmplot('data', 'test_corr', data=single_omic, orient='vh', alpha=.8)\n",
    "\n",
    "x1, x2 = 2, 3  # columns 'Sat' and 'Sun' (first column: 0, see plt.xticks())\n",
    "y, w, col = single_omic['test_corr'].max() + 0.02, 0.02, 'k'\n",
    "plt.plot([x1, x1, x2, x2], [y, y + w, y + w, y], lw=1.5, c=col)\n",
    "plt.text((x1 + x2) * .5,\n",
    "         y + w + 0.025,\n",
    "         r\"$R=0.938}$\",\n",
    "         ha='center',\n",
    "         va='center',\n",
    "         color=col)\n",
    "\n",
    "x1, x2 = 2, 4  # columns 'Sat' and 'Sun' (first column: 0, see plt.xticks())\n",
    "y, w, col = single_omic['test_corr'].max() + 0.05, 0.05, 'k'\n",
    "plt.plot([x1, x1, x2, x2], [y, y + w, y + w, y], lw=1.5, c=col)\n",
    "plt.text((x1 + x2) * .5,\n",
    "         y + w + 0.025,\n",
    "         r\"$R=0.893$\",\n",
    "         ha='center',\n",
    "         va='center',\n",
    "         color=col)\n",
    "\n",
    "x1, x2 = 1, 2  # columns 'Sat' and 'Sun' (first column: 0, see plt.xticks())\n",
    "y, w, col = -0.1 - 0.02, 0.02, 'k'\n",
    "plt.plot([x1, x1, x2, x2], [y, y - w, y - w, y], lw=1.5, c=col)\n",
    "plt.text((x1 + x2) * .5,\n",
    "         y - w - 0.035,\n",
    "         r\"$R=0.764}$\",\n",
    "         ha='center',\n",
    "         va='center',\n",
    "         color=col)\n",
    "x1, x2 = 1, 3  # columns 'Sat' and 'Sun' (first column: 0, see plt.xticks())\n",
    "y, w, col = -0.1 - 0.06, 0.05, 'k'\n",
    "plt.plot([x1, x1, x2, x2], [y, y - w, y - w, y], lw=1.5, c=col)\n",
    "plt.text((x1 + x2) * .5,\n",
    "         y - w - 0.035,\n",
    "         r\"$R=0.787}$\",\n",
    "         ha='center',\n",
    "         va='center',\n",
    "         color=col)\n",
    "x1, x2 = 1, 4  # columns 'Sat' and 'Sun' (first column: 0, see plt.xticks())\n",
    "y, w, col = -0.1 - 0.12, 0.05, 'k'\n",
    "plt.plot([x1, x1, x2, x2], [y, y - w, y - w, y], lw=1.5, c=col)\n",
    "plt.text((x1 + x2) * .5,\n",
    "         y - w - 0.035,\n",
    "         r\"$R=0.806}$\",\n",
    "         ha='center',\n",
    "         va='center',\n",
    "         color=col)\n",
    "\n",
    "x1, x2 = 3, 4  # columns 'Sat' and 'Sun' (first column: 0, see plt.xticks())\n",
    "y, w, col = 0.1 - 0.06, 0.02, 'k'\n",
    "plt.plot([x1, x1, x2, x2], [y, y - w, y - w, y], lw=1.5, c=col)\n",
    "plt.text((x1 + x2) * .5,\n",
    "         y - w - 0.035,\n",
    "         r\"$R=0.924}$\",\n",
    "         ha='center',\n",
    "         va='center',\n",
    "         color=col)\n",
    "\n",
    "for i in range(len(data_list)):\n",
    "    plt.text(\n",
    "        i,\n",
    "        -0.45,\n",
    "        f\"$\\mu={single_omic[single_omic['data']==data_list[i]]['test_corr'].mean():.3f}$\",\n",
    "        ha='center',\n",
    "        va='center')\n",
    "\n",
    "plt.ylabel(\"Predictive power\")\n",
    "plt.xlabel(\"\")\n",
    "plt.title(\"Overview of predictive power on drug response\")\n",
    "plt.savefig(\"../plots/Fig4A.pdf\", dpi=500)"
   ]
  },
  {
   "cell_type": "markdown",
   "metadata": {},
   "source": [
    "# bar plot"
   ]
  },
  {
   "cell_type": "markdown",
   "metadata": {},
   "source": [
    "## test"
   ]
  },
  {
   "cell_type": "code",
   "execution_count": 111,
   "metadata": {
    "ExecuteTime": {
     "end_time": "2020-09-30T12:51:13.594372Z",
     "start_time": "2020-09-30T12:51:13.586991Z"
    }
   },
   "outputs": [],
   "source": [
    "single_omic_enet = pd.concat(\n",
    "    [tissue_df_enet, wes_df_enet, cna_df_enet, methy_df_enet, rna_df_enet,\n",
    "     protein_df_enet])[['drug_id', 'test_corr', 'data']]\n",
    "single_omic_enet['model'] = 'ElasticNet'"
   ]
  },
  {
   "cell_type": "code",
   "execution_count": 112,
   "metadata": {
    "ExecuteTime": {
     "end_time": "2020-09-30T12:51:14.011255Z",
     "start_time": "2020-09-30T12:51:14.001988Z"
    }
   },
   "outputs": [],
   "source": [
    "single_omic_rf = pd.concat(\n",
    "    [tissue_df_rf, wes_df_rf, cna_df_rf, methy_df_rf, rna_df_rf,\n",
    "     protein_df_rf])[['drug_id', 'test_corr', 'data']]\n",
    "single_omic_rf['model'] = 'RF'"
   ]
  },
  {
   "cell_type": "code",
   "execution_count": 113,
   "metadata": {
    "ExecuteTime": {
     "end_time": "2020-09-30T12:51:14.430945Z",
     "start_time": "2020-09-30T12:51:14.423639Z"
    }
   },
   "outputs": [],
   "source": [
    "single_omic_dl = pd.concat([\n",
    "    scores_multi_tissue_test, scores_multi_wes_test,\n",
    "    scores_multi_cna_test, scores_multi_methylation_test,\n",
    "    scores_multi_rna_test, scores_multi_protein_test\n",
    "])\n",
    "single_omic_dl['model'] = 'DL'"
   ]
  },
  {
   "cell_type": "code",
   "execution_count": 114,
   "metadata": {
    "ExecuteTime": {
     "end_time": "2020-09-30T12:51:15.000802Z",
     "start_time": "2020-09-30T12:51:14.994387Z"
    }
   },
   "outputs": [],
   "source": [
    "single_omic_all = pd.concat([single_omic_enet, single_omic_rf, single_omic_dl])"
   ]
  },
  {
   "cell_type": "code",
   "execution_count": 115,
   "metadata": {
    "ExecuteTime": {
     "end_time": "2020-09-30T12:51:16.597998Z",
     "start_time": "2020-09-30T12:51:15.940122Z"
    }
   },
   "outputs": [
    {
     "data": {
      "text/plain": [
       "<matplotlib.axes._subplots.AxesSubplot at 0x7f8606213a30>"
      ]
     },
     "execution_count": 115,
     "metadata": {},
     "output_type": "execute_result"
    },
    {
     "data": {
      "image/png": "[encoded data removed]",
      "text/plain": [
       "<Figure size 720x504 with 1 Axes>"
      ]
     },
     "metadata": {
      "needs_background": "light"
     },
     "output_type": "display_data"
    }
   ],
   "source": [
    "sns.barplot('data',\n",
    "            'test_corr',\n",
    "            hue='model',\n",
    "            data=single_omic_all,\n",
    "            orient='v',\n",
    "            linewidth=2,\n",
    "            capsize=.1,\n",
    "            edgecolor='black')"
   ]
  },
  {
   "cell_type": "code",
   "execution_count": 25,
   "metadata": {
    "ExecuteTime": {
     "end_time": "2020-09-20T05:26:44.286270Z",
     "start_time": "2020-09-20T05:26:44.271242Z"
    }
   },
   "outputs": [
    {
     "name": "stdout",
     "output_type": "stream",
     "text": [
      "test_corr    0.495846\n",
      "dtype: float64\n",
      "test_corr    0.503944\n",
      "dtype: float64\n"
     ]
    }
   ],
   "source": [
    "print(single_omic_all[(single_omic_all['data']=='Proteome')&(single_omic_all['model']=='RF')].mean())\n",
    "\n",
    "print(single_omic_all[(single_omic_all['data']=='Proteome')&(single_omic_all['model']=='DL')].mean())"
   ]
  },
  {
   "cell_type": "code",
   "execution_count": 122,
   "metadata": {
    "ExecuteTime": {
     "end_time": "2020-09-30T12:56:36.468341Z",
     "start_time": "2020-09-30T12:56:36.456774Z"
    }
   },
   "outputs": [
    {
     "data": {
      "text/html": [
       "<div>\n",
       "<style scoped>\n",
       "    .dataframe tbody tr th:only-of-type {\n",
       "        vertical-align: middle;\n",
       "    }\n",
       "\n",
       "    .dataframe tbody tr th {\n",
       "        vertical-align: top;\n",
       "    }\n",
       "\n",
       "    .dataframe thead th {\n",
       "        text-align: right;\n",
       "    }\n",
       "</style>\n",
       "<table border=\"1\" class=\"dataframe\">\n",
       "  <thead>\n",
       "    <tr style=\"text-align: right;\">\n",
       "      <th></th>\n",
       "      <th></th>\n",
       "      <th>score</th>\n",
       "    </tr>\n",
       "    <tr>\n",
       "      <th>data</th>\n",
       "      <th>model</th>\n",
       "      <th></th>\n",
       "    </tr>\n",
       "  </thead>\n",
       "  <tbody>\n",
       "    <tr>\n",
       "      <th rowspan=\"3\" valign=\"top\">Copy Number</th>\n",
       "      <th>DL</th>\n",
       "      <td>0.367152</td>\n",
       "    </tr>\n",
       "    <tr>\n",
       "      <th>ElasticNet</th>\n",
       "      <td>0.294727</td>\n",
       "    </tr>\n",
       "    <tr>\n",
       "      <th>RF</th>\n",
       "      <td>0.315470</td>\n",
       "    </tr>\n",
       "    <tr>\n",
       "      <th rowspan=\"3\" valign=\"top\">Methylation</th>\n",
       "      <th>DL</th>\n",
       "      <td>0.512108</td>\n",
       "    </tr>\n",
       "    <tr>\n",
       "      <th>ElasticNet</th>\n",
       "      <td>0.507821</td>\n",
       "    </tr>\n",
       "    <tr>\n",
       "      <th>RF</th>\n",
       "      <td>0.507275</td>\n",
       "    </tr>\n",
       "    <tr>\n",
       "      <th rowspan=\"3\" valign=\"top\">Proteome</th>\n",
       "      <th>DL</th>\n",
       "      <td>0.519240</td>\n",
       "    </tr>\n",
       "    <tr>\n",
       "      <th>ElasticNet</th>\n",
       "      <td>0.502395</td>\n",
       "    </tr>\n",
       "    <tr>\n",
       "      <th>RF</th>\n",
       "      <td>0.510189</td>\n",
       "    </tr>\n",
       "    <tr>\n",
       "      <th rowspan=\"3\" valign=\"top\">Tissue</th>\n",
       "      <th>DL</th>\n",
       "      <td>0.412387</td>\n",
       "    </tr>\n",
       "    <tr>\n",
       "      <th>ElasticNet</th>\n",
       "      <td>0.387078</td>\n",
       "    </tr>\n",
       "    <tr>\n",
       "      <th>RF</th>\n",
       "      <td>0.411713</td>\n",
       "    </tr>\n",
       "    <tr>\n",
       "      <th rowspan=\"3\" valign=\"top\">Transcriptome</th>\n",
       "      <th>DL</th>\n",
       "      <td>0.528858</td>\n",
       "    </tr>\n",
       "    <tr>\n",
       "      <th>ElasticNet</th>\n",
       "      <td>0.489468</td>\n",
       "    </tr>\n",
       "    <tr>\n",
       "      <th>RF</th>\n",
       "      <td>0.514095</td>\n",
       "    </tr>\n",
       "    <tr>\n",
       "      <th rowspan=\"3\" valign=\"top\">WES</th>\n",
       "      <th>DL</th>\n",
       "      <td>0.148591</td>\n",
       "    </tr>\n",
       "    <tr>\n",
       "      <th>ElasticNet</th>\n",
       "      <td>0.137345</td>\n",
       "    </tr>\n",
       "    <tr>\n",
       "      <th>RF</th>\n",
       "      <td>0.082720</td>\n",
       "    </tr>\n",
       "  </tbody>\n",
       "</table>\n",
       "</div>"
      ],
      "text/plain": [
       "                             score\n",
       "data          model               \n",
       "Copy Number   DL          0.367152\n",
       "              ElasticNet  0.294727\n",
       "              RF          0.315470\n",
       "Methylation   DL          0.512108\n",
       "              ElasticNet  0.507821\n",
       "              RF          0.507275\n",
       "Proteome      DL          0.519240\n",
       "              ElasticNet  0.502395\n",
       "              RF          0.510189\n",
       "Tissue        DL          0.412387\n",
       "              ElasticNet  0.387078\n",
       "              RF          0.411713\n",
       "Transcriptome DL          0.528858\n",
       "              ElasticNet  0.489468\n",
       "              RF          0.514095\n",
       "WES           DL          0.148591\n",
       "              ElasticNet  0.137345\n",
       "              RF          0.082720"
      ]
     },
     "execution_count": 122,
     "metadata": {},
     "output_type": "execute_result"
    }
   ],
   "source": [
    "single_omic_all.groupby(['data','model']).median()"
   ]
  },
  {
   "cell_type": "code",
   "execution_count": 117,
   "metadata": {
    "ExecuteTime": {
     "end_time": "2020-09-30T12:51:24.320470Z",
     "start_time": "2020-09-30T12:51:24.313620Z"
    }
   },
   "outputs": [],
   "source": [
    "single_omic_all = single_omic_all.rename(columns={'test_corr':'score'}).fillna(0)\n",
    "single_omic_all[\"score\"] = single_omic_all[\"score\"].astype(float)\n"
   ]
  },
  {
   "cell_type": "code",
   "execution_count": 118,
   "metadata": {
    "ExecuteTime": {
     "end_time": "2020-09-30T12:51:25.337586Z",
     "start_time": "2020-09-30T12:51:24.777751Z"
    }
   },
   "outputs": [
    {
     "data": {
      "text/plain": [
       "<matplotlib.axes._subplots.AxesSubplot at 0x7f8606bcdd60>"
      ]
     },
     "execution_count": 118,
     "metadata": {},
     "output_type": "execute_result"
    },
    {
     "data": {
      "image/png": "[encoded data removed]",
      "text/plain": [
       "<Figure size 720x504 with 1 Axes>"
      ]
     },
     "metadata": {
      "needs_background": "light"
     },
     "output_type": "display_data"
    }
   ],
   "source": [
    "sns.boxplot(x='score', y='data', hue='model', data=single_omic_all)"
   ]
  },
  {
   "cell_type": "code",
   "execution_count": 119,
   "metadata": {
    "ExecuteTime": {
     "end_time": "2020-09-30T12:51:39.676759Z",
     "start_time": "2020-09-30T12:51:39.629785Z"
    }
   },
   "outputs": [],
   "source": [
    "single_omic_all.to_csv('../plots/plot_data/Fig3B_ml_benchmark_testset.csv', index=False)"
   ]
  },
  {
   "cell_type": "code",
   "execution_count": 5,
   "metadata": {
    "ExecuteTime": {
     "end_time": "2020-10-14T03:38:09.003282Z",
     "start_time": "2020-10-14T03:38:08.989887Z"
    }
   },
   "outputs": [],
   "source": [
    "single_omic_all = pd.read_csv('../plots/plot_data/Fig3B_ml_benchmark_testset.csv')"
   ]
  },
  {
   "cell_type": "code",
   "execution_count": 7,
   "metadata": {
    "ExecuteTime": {
     "end_time": "2020-10-14T03:38:30.172166Z",
     "start_time": "2020-10-14T03:38:30.159632Z"
    }
   },
   "outputs": [
    {
     "data": {
      "text/html": [
       "<div>\n",
       "<style scoped>\n",
       "    .dataframe tbody tr th:only-of-type {\n",
       "        vertical-align: middle;\n",
       "    }\n",
       "\n",
       "    .dataframe tbody tr th {\n",
       "        vertical-align: top;\n",
       "    }\n",
       "\n",
       "    .dataframe thead th {\n",
       "        text-align: right;\n",
       "    }\n",
       "</style>\n",
       "<table border=\"1\" class=\"dataframe\">\n",
       "  <thead>\n",
       "    <tr style=\"text-align: right;\">\n",
       "      <th></th>\n",
       "      <th></th>\n",
       "      <th>score</th>\n",
       "    </tr>\n",
       "    <tr>\n",
       "      <th>data</th>\n",
       "      <th>model</th>\n",
       "      <th></th>\n",
       "    </tr>\n",
       "  </thead>\n",
       "  <tbody>\n",
       "    <tr>\n",
       "      <th rowspan=\"3\" valign=\"top\">Copy Number</th>\n",
       "      <th>DL</th>\n",
       "      <td>0.367152</td>\n",
       "    </tr>\n",
       "    <tr>\n",
       "      <th>ElasticNet</th>\n",
       "      <td>0.294727</td>\n",
       "    </tr>\n",
       "    <tr>\n",
       "      <th>RF</th>\n",
       "      <td>0.315470</td>\n",
       "    </tr>\n",
       "    <tr>\n",
       "      <th rowspan=\"3\" valign=\"top\">Methylation</th>\n",
       "      <th>DL</th>\n",
       "      <td>0.512108</td>\n",
       "    </tr>\n",
       "    <tr>\n",
       "      <th>ElasticNet</th>\n",
       "      <td>0.507821</td>\n",
       "    </tr>\n",
       "    <tr>\n",
       "      <th>RF</th>\n",
       "      <td>0.507275</td>\n",
       "    </tr>\n",
       "    <tr>\n",
       "      <th rowspan=\"3\" valign=\"top\">Proteome</th>\n",
       "      <th>DL</th>\n",
       "      <td>0.519240</td>\n",
       "    </tr>\n",
       "    <tr>\n",
       "      <th>ElasticNet</th>\n",
       "      <td>0.502395</td>\n",
       "    </tr>\n",
       "    <tr>\n",
       "      <th>RF</th>\n",
       "      <td>0.510189</td>\n",
       "    </tr>\n",
       "    <tr>\n",
       "      <th rowspan=\"3\" valign=\"top\">Tissue</th>\n",
       "      <th>DL</th>\n",
       "      <td>0.412387</td>\n",
       "    </tr>\n",
       "    <tr>\n",
       "      <th>ElasticNet</th>\n",
       "      <td>0.387078</td>\n",
       "    </tr>\n",
       "    <tr>\n",
       "      <th>RF</th>\n",
       "      <td>0.411713</td>\n",
       "    </tr>\n",
       "    <tr>\n",
       "      <th rowspan=\"3\" valign=\"top\">Transcriptome</th>\n",
       "      <th>DL</th>\n",
       "      <td>0.528858</td>\n",
       "    </tr>\n",
       "    <tr>\n",
       "      <th>ElasticNet</th>\n",
       "      <td>0.489468</td>\n",
       "    </tr>\n",
       "    <tr>\n",
       "      <th>RF</th>\n",
       "      <td>0.514095</td>\n",
       "    </tr>\n",
       "    <tr>\n",
       "      <th rowspan=\"3\" valign=\"top\">WES</th>\n",
       "      <th>DL</th>\n",
       "      <td>0.148591</td>\n",
       "    </tr>\n",
       "    <tr>\n",
       "      <th>ElasticNet</th>\n",
       "      <td>0.137345</td>\n",
       "    </tr>\n",
       "    <tr>\n",
       "      <th>RF</th>\n",
       "      <td>0.082720</td>\n",
       "    </tr>\n",
       "  </tbody>\n",
       "</table>\n",
       "</div>"
      ],
      "text/plain": [
       "                             score\n",
       "data          model               \n",
       "Copy Number   DL          0.367152\n",
       "              ElasticNet  0.294727\n",
       "              RF          0.315470\n",
       "Methylation   DL          0.512108\n",
       "              ElasticNet  0.507821\n",
       "              RF          0.507275\n",
       "Proteome      DL          0.519240\n",
       "              ElasticNet  0.502395\n",
       "              RF          0.510189\n",
       "Tissue        DL          0.412387\n",
       "              ElasticNet  0.387078\n",
       "              RF          0.411713\n",
       "Transcriptome DL          0.528858\n",
       "              ElasticNet  0.489468\n",
       "              RF          0.514095\n",
       "WES           DL          0.148591\n",
       "              ElasticNet  0.137345\n",
       "              RF          0.082720"
      ]
     },
     "execution_count": 7,
     "metadata": {},
     "output_type": "execute_result"
    }
   ],
   "source": [
    "single_omic_all.groupby(['data','model']).median()"
   ]
  },
  {
   "cell_type": "code",
   "execution_count": 8,
   "metadata": {
    "ExecuteTime": {
     "end_time": "2020-10-14T07:09:50.602649Z",
     "start_time": "2020-10-14T07:09:50.599700Z"
    }
   },
   "outputs": [
    {
     "data": {
      "text/plain": [
       "0.16382540336640572"
      ]
     },
     "execution_count": 8,
     "metadata": {},
     "output_type": "execute_result"
    }
   ],
   "source": [
    "(0.367152-0.315470)/0.315470"
   ]
  },
  {
   "cell_type": "markdown",
   "metadata": {},
   "source": [
    "## test + CV"
   ]
  },
  {
   "cell_type": "markdown",
   "metadata": {},
   "source": [
    "### load CV data"
   ]
  },
  {
   "cell_type": "code",
   "execution_count": 26,
   "metadata": {
    "ExecuteTime": {
     "end_time": "2020-09-20T05:26:45.144341Z",
     "start_time": "2020-09-20T05:26:45.141945Z"
    }
   },
   "outputs": [],
   "source": [
    "col = ['drug_id', 'cv0_corr', 'cv1_corr', 'cv2_corr', 'cv3_corr', 'cv4_corr']"
   ]
  },
  {
   "cell_type": "markdown",
   "metadata": {},
   "source": [
    "#### ENet"
   ]
  },
  {
   "cell_type": "code",
   "execution_count": 27,
   "metadata": {
    "ExecuteTime": {
     "end_time": "2020-09-20T05:26:45.622416Z",
     "start_time": "2020-09-20T05:26:45.611762Z"
    }
   },
   "outputs": [],
   "source": [
    "scores_enet_tissue_cv = pd.read_csv(\n",
    "    \"../work_dirs/meta_info/tissue_ic50/ElasticNet/scores_202007311343_tissue.csv\"\n",
    ")[col]\n",
    "scores_enet_tissue_cv_long = pd.melt(\n",
    "    scores_enet_tissue_cv,\n",
    "    id_vars='drug_id',\n",
    "    value_vars=['cv0_corr', 'cv1_corr', 'cv2_corr', 'cv3_corr', 'cv4_corr'],\n",
    "    var_name='run',\n",
    "    value_name='val_score')\n",
    "scores_enet_tissue_cv_long['model'] = 'ElasticNet'\n",
    "scores_enet_tissue_cv_long['data'] = 'Tissue'"
   ]
  },
  {
   "cell_type": "code",
   "execution_count": 28,
   "metadata": {
    "ExecuteTime": {
     "end_time": "2020-09-20T05:26:46.067645Z",
     "start_time": "2020-09-20T05:26:46.006143Z"
    }
   },
   "outputs": [],
   "source": [
    "scores_enet_mobem_cv = pd.read_csv(\n",
    "    \"../work_dirs/mobem/ElasticNet/scores_202007311324_mobem_eg_id.csv\"\n",
    ")[col]\n",
    "scores_enet_mobem_cv_long = pd.melt(\n",
    "    scores_enet_mobem_cv,\n",
    "    id_vars='drug_id',\n",
    "    value_vars=['cv0_corr', 'cv1_corr', 'cv2_corr', 'cv3_corr', 'cv4_corr'],\n",
    "    var_name='run',\n",
    "    value_name='val_score')\n",
    "scores_enet_mobem_cv_long['model'] = 'ElasticNet'\n",
    "scores_enet_mobem_cv_long['data'] = 'mobem'"
   ]
  },
  {
   "cell_type": "code",
   "execution_count": 29,
   "metadata": {
    "ExecuteTime": {
     "end_time": "2020-09-20T05:26:46.201490Z",
     "start_time": "2020-09-20T05:26:46.189069Z"
    }
   },
   "outputs": [],
   "source": [
    "scores_enet_wes_cv = pd.read_csv(\n",
    "    \"../work_dirs/wes/ElasticNet/scores_202009171033_ruv_min_300_eg_id.csv\"\n",
    ")[col]\n",
    "scores_enet_wes_cv_long = pd.melt(\n",
    "    scores_enet_wes_cv,\n",
    "    id_vars='drug_id',\n",
    "    value_vars=['cv0_corr', 'cv1_corr', 'cv2_corr', 'cv3_corr', 'cv4_corr'],\n",
    "    var_name='run',\n",
    "    value_name='val_score')\n",
    "scores_enet_wes_cv_long['model'] = 'ElasticNet'\n",
    "scores_enet_wes_cv_long['data'] = 'WES'"
   ]
  },
  {
   "cell_type": "code",
   "execution_count": 30,
   "metadata": {
    "ExecuteTime": {
     "end_time": "2020-09-20T05:26:46.370707Z",
     "start_time": "2020-09-20T05:26:46.358590Z"
    }
   },
   "outputs": [],
   "source": [
    "scores_enet_cna_cv = pd.read_csv(\n",
    "    \"../work_dirs/cna/ElasticNet/scores_202009170020_ruv_min_300_eg_id.csv\"\n",
    ")[col]\n",
    "scores_enet_cna_cv_long = pd.melt(\n",
    "    scores_enet_cna_cv,\n",
    "    id_vars='drug_id',\n",
    "    value_vars=['cv0_corr', 'cv1_corr', 'cv2_corr', 'cv3_corr', 'cv4_corr'],\n",
    "    var_name='run',\n",
    "    value_name='val_score')\n",
    "scores_enet_cna_cv_long['model'] = 'ElasticNet'\n",
    "scores_enet_cna_cv_long['data'] = 'Copy Number'"
   ]
  },
  {
   "cell_type": "code",
   "execution_count": 31,
   "metadata": {
    "ExecuteTime": {
     "end_time": "2020-09-20T05:26:46.537418Z",
     "start_time": "2020-09-20T05:26:46.524778Z"
    }
   },
   "outputs": [],
   "source": [
    "scores_enet_methylation_cv = pd.read_csv(\n",
    "    \"../work_dirs/methylation/ElasticNet/scores_202009171139_ruv_min_300_eg_id.csv\"\n",
    ")[col]\n",
    "scores_enet_methylation_cv_long = pd.melt(\n",
    "    scores_enet_methylation_cv,\n",
    "    id_vars='drug_id',\n",
    "    value_vars=['cv0_corr', 'cv1_corr', 'cv2_corr', 'cv3_corr', 'cv4_corr'],\n",
    "    var_name='run',\n",
    "    value_name='val_score')\n",
    "scores_enet_methylation_cv_long['model'] = 'ElasticNet'\n",
    "scores_enet_methylation_cv_long['data'] = 'Methylation'"
   ]
  },
  {
   "cell_type": "code",
   "execution_count": 32,
   "metadata": {
    "ExecuteTime": {
     "end_time": "2020-09-20T05:26:46.713457Z",
     "start_time": "2020-09-20T05:26:46.700259Z"
    }
   },
   "outputs": [],
   "source": [
    "scores_enet_rna_cv = pd.read_csv(\n",
    "    \"../work_dirs/rna/ElasticNet/scores_202006201358_rna_300_eg_id.csv\"\n",
    ")[col]\n",
    "scores_enet_rna_cv_long = pd.melt(\n",
    "    scores_enet_rna_cv,\n",
    "    id_vars='drug_id',\n",
    "    value_vars=['cv0_corr', 'cv1_corr', 'cv2_corr', 'cv3_corr', 'cv4_corr'],\n",
    "    var_name='run',\n",
    "    value_name='val_score')\n",
    "scores_enet_rna_cv_long['model'] = 'ElasticNet'\n",
    "scores_enet_rna_cv_long['data'] = 'Transcriptome'"
   ]
  },
  {
   "cell_type": "code",
   "execution_count": 33,
   "metadata": {
    "ExecuteTime": {
     "end_time": "2020-09-20T05:26:46.877850Z",
     "start_time": "2020-09-20T05:26:46.865727Z"
    }
   },
   "outputs": [],
   "source": [
    "scores_enet_protein_cv = pd.read_csv(\n",
    "    \"../work_dirs/protein/ElasticNet/scores_202006201223_ruv_min_300_eg_id.csv\"\n",
    ")[col]\n",
    "scores_enet_protein_cv_long = pd.melt(\n",
    "    scores_enet_protein_cv,\n",
    "    id_vars='drug_id',\n",
    "    value_vars=['cv0_corr', 'cv1_corr', 'cv2_corr', 'cv3_corr', 'cv4_corr'],\n",
    "    var_name='run',\n",
    "    value_name='val_score')\n",
    "scores_enet_protein_cv_long['model'] = 'ElasticNet'\n",
    "scores_enet_protein_cv_long['data'] = 'Proteome'"
   ]
  },
  {
   "cell_type": "code",
   "execution_count": null,
   "metadata": {},
   "outputs": [],
   "source": []
  },
  {
   "cell_type": "markdown",
   "metadata": {},
   "source": [
    "#### RF"
   ]
  },
  {
   "cell_type": "code",
   "execution_count": 34,
   "metadata": {
    "ExecuteTime": {
     "end_time": "2020-09-20T05:26:47.602660Z",
     "start_time": "2020-09-20T05:26:47.590726Z"
    }
   },
   "outputs": [],
   "source": [
    "scores_rf_tissue_cv = pd.read_csv(\n",
    "    \"../work_dirs/meta_info/tissue_ic50/RandomForest/scores_202007202320_tissue.csv\"\n",
    ")[col]\n",
    "scores_rf_tissue_cv_long = pd.melt(\n",
    "    scores_rf_tissue_cv,\n",
    "    id_vars='drug_id',\n",
    "    value_vars=['cv0_corr', 'cv1_corr', 'cv2_corr', 'cv3_corr', 'cv4_corr'],\n",
    "    var_name='run',\n",
    "    value_name='val_score')\n",
    "scores_rf_tissue_cv_long['model'] = 'RF'\n",
    "scores_rf_tissue_cv_long['data'] = 'Tissue'"
   ]
  },
  {
   "cell_type": "code",
   "execution_count": 35,
   "metadata": {
    "ExecuteTime": {
     "end_time": "2020-09-20T05:26:47.772337Z",
     "start_time": "2020-09-20T05:26:47.760780Z"
    }
   },
   "outputs": [],
   "source": [
    "scores_rf_mobem_cv = pd.read_csv(\n",
    "    \"../work_dirs/mobem/RandomForest/scores_202007202323_mobem_eg_id.csv\"\n",
    ")[col]\n",
    "scores_rf_mobem_cv_long = pd.melt(\n",
    "    scores_rf_mobem_cv,\n",
    "    id_vars='drug_id',\n",
    "    value_vars=['cv0_corr', 'cv1_corr', 'cv2_corr', 'cv3_corr', 'cv4_corr'],\n",
    "    var_name='run',\n",
    "    value_name='val_score')\n",
    "scores_rf_mobem_cv_long['model'] = 'RF'\n",
    "scores_rf_mobem_cv_long['data'] = 'mobem'"
   ]
  },
  {
   "cell_type": "code",
   "execution_count": 36,
   "metadata": {
    "ExecuteTime": {
     "end_time": "2020-09-20T05:26:47.937378Z",
     "start_time": "2020-09-20T05:26:47.925718Z"
    }
   },
   "outputs": [],
   "source": [
    "scores_rf_wes_cv = pd.read_csv(\n",
    "    \"../work_dirs/wes/RandomForest/scores_202006211819_ruv_min_300_eg_id.csv\"\n",
    ")[col]\n",
    "scores_rf_wes_cv_long = pd.melt(\n",
    "    scores_rf_wes_cv,\n",
    "    id_vars='drug_id',\n",
    "    value_vars=['cv0_corr', 'cv1_corr', 'cv2_corr', 'cv3_corr', 'cv4_corr'],\n",
    "    var_name='run',\n",
    "    value_name='val_score')\n",
    "scores_rf_wes_cv_long['model'] = 'RF'\n",
    "scores_rf_wes_cv_long['data'] = 'WES'"
   ]
  },
  {
   "cell_type": "code",
   "execution_count": 37,
   "metadata": {
    "ExecuteTime": {
     "end_time": "2020-09-20T05:26:48.098867Z",
     "start_time": "2020-09-20T05:26:48.086553Z"
    }
   },
   "outputs": [],
   "source": [
    "scores_rf_cna_cv = pd.read_csv(\n",
    "    \"../work_dirs/cna/RandomForest/scores_202006211819_ruv_min_300_eg_id.csv\"\n",
    ")[col]\n",
    "scores_rf_cna_cv_long = pd.melt(\n",
    "    scores_rf_cna_cv,\n",
    "    id_vars='drug_id',\n",
    "    value_vars=['cv0_corr', 'cv1_corr', 'cv2_corr', 'cv3_corr', 'cv4_corr'],\n",
    "    var_name='run',\n",
    "    value_name='val_score')\n",
    "scores_rf_cna_cv_long['model'] = 'RF'\n",
    "scores_rf_cna_cv_long['data'] = 'Copy Number'"
   ]
  },
  {
   "cell_type": "code",
   "execution_count": 38,
   "metadata": {
    "ExecuteTime": {
     "end_time": "2020-09-20T05:26:48.271046Z",
     "start_time": "2020-09-20T05:26:48.257971Z"
    }
   },
   "outputs": [],
   "source": [
    "scores_rf_methylation_cv = pd.read_csv(\n",
    "    \"../work_dirs/methylation/RandomForest/scores_202006211818_ruv_min_300_eg_id.csv\"\n",
    ")[col]\n",
    "scores_rf_methylation_cv_long = pd.melt(\n",
    "    scores_rf_methylation_cv,\n",
    "    id_vars='drug_id',\n",
    "    value_vars=['cv0_corr', 'cv1_corr', 'cv2_corr', 'cv3_corr', 'cv4_corr'],\n",
    "    var_name='run',\n",
    "    value_name='val_score')\n",
    "scores_rf_methylation_cv_long['model'] = 'RF'\n",
    "scores_rf_methylation_cv_long['data'] = 'Methylation'"
   ]
  },
  {
   "cell_type": "code",
   "execution_count": 39,
   "metadata": {
    "ExecuteTime": {
     "end_time": "2020-09-20T05:26:48.444676Z",
     "start_time": "2020-09-20T05:26:48.431924Z"
    }
   },
   "outputs": [],
   "source": [
    "scores_rf_rna_cv = pd.read_csv(\n",
    "    \"../work_dirs/rna/RandomForest/scores_202006191030_rna_300_eg_id.csv\"\n",
    ")[col]\n",
    "scores_rf_rna_cv_long = pd.melt(\n",
    "    scores_rf_rna_cv,\n",
    "    id_vars='drug_id',\n",
    "    value_vars=['cv0_corr', 'cv1_corr', 'cv2_corr', 'cv3_corr', 'cv4_corr'],\n",
    "    var_name='run',\n",
    "    value_name='val_score')\n",
    "scores_rf_rna_cv_long['model'] = 'RF'\n",
    "scores_rf_rna_cv_long['data'] = 'Transcriptome'"
   ]
  },
  {
   "cell_type": "code",
   "execution_count": 40,
   "metadata": {
    "ExecuteTime": {
     "end_time": "2020-09-20T05:26:48.622393Z",
     "start_time": "2020-09-20T05:26:48.609682Z"
    }
   },
   "outputs": [],
   "source": [
    "scores_rf_protein_cv = pd.read_csv(\n",
    "    \"../work_dirs/protein/RandomForest/scores_202006181311_ruv_min_300_eg_id.csv\"\n",
    ")[col]\n",
    "scores_rf_protein_cv_long = pd.melt(\n",
    "    scores_rf_protein_cv,\n",
    "    id_vars='drug_id',\n",
    "    value_vars=['cv0_corr', 'cv1_corr', 'cv2_corr', 'cv3_corr', 'cv4_corr'],\n",
    "    var_name='run',\n",
    "    value_name='val_score')\n",
    "scores_rf_protein_cv_long['model'] = 'RF'\n",
    "scores_rf_protein_cv_long['data'] = 'Proteome'"
   ]
  },
  {
   "cell_type": "markdown",
   "metadata": {},
   "source": [
    "#### DL"
   ]
  },
  {
   "cell_type": "code",
   "execution_count": 41,
   "metadata": {
    "ExecuteTime": {
     "end_time": "2020-09-20T05:26:49.904152Z",
     "start_time": "2020-09-20T05:26:49.163041Z"
    }
   },
   "outputs": [],
   "source": [
    "scores_multi_tissue_cv = pd.read_csv(\n",
    "    \"../work_dirs/meta_info/tissue_ic50/MultiDrug/scores_202007311540_res_eg_id.csv\")\n",
    "scores_multi_tissue_cv = scores_multi_tissue_cv[\n",
    "    scores_multi_tissue_cv['run'] != 'test'].reset_index(drop=True).rename(\n",
    "        columns={'corr': 'val_score'})\n",
    "scores_dl_tissue_cv_long = deep_learning_cv_score(scores_multi_tissue_cv)\n",
    "scores_dl_tissue_cv_long['data'] = 'Tissue'"
   ]
  },
  {
   "cell_type": "code",
   "execution_count": 42,
   "metadata": {
    "ExecuteTime": {
     "end_time": "2020-09-20T05:26:50.614482Z",
     "start_time": "2020-09-20T05:26:49.905914Z"
    }
   },
   "outputs": [],
   "source": [
    "scores_multi_mobem_cv = pd.read_csv(\n",
    "    \"../work_dirs/mobem/MultiDrug/scores_202007311540_res_eg_id.csv\")\n",
    "scores_multi_mobem_cv = scores_multi_mobem_cv[\n",
    "    scores_multi_mobem_cv['run'] != 'test'].reset_index(drop=True).rename(\n",
    "        columns={'corr': 'val_score'})\n",
    "scores_dl_mobem_cv_long = deep_learning_cv_score(scores_multi_mobem_cv)\n",
    "scores_dl_mobem_cv_long['data'] = 'mobem'"
   ]
  },
  {
   "cell_type": "code",
   "execution_count": 43,
   "metadata": {
    "ExecuteTime": {
     "end_time": "2020-09-20T05:26:52.019375Z",
     "start_time": "2020-09-20T05:26:50.616720Z"
    }
   },
   "outputs": [],
   "source": [
    "scores_multi_wes_cv = pd.read_csv(\n",
    "    \"../work_dirs/wes/MultiDrug/scores_202006182116_res_eg_id.csv\")\n",
    "scores_multi_wes_cv = scores_multi_wes_cv[\n",
    "    scores_multi_wes_cv['run'] != 'test'].reset_index(drop=True).rename(\n",
    "        columns={'corr': 'val_score'})\n",
    "scores_dl_wes_cv_long = deep_learning_cv_score(scores_multi_wes_cv)\n",
    "scores_dl_wes_cv_long['data'] = 'WES'"
   ]
  },
  {
   "cell_type": "code",
   "execution_count": 44,
   "metadata": {
    "ExecuteTime": {
     "end_time": "2020-09-20T05:26:53.481128Z",
     "start_time": "2020-09-20T05:26:52.021421Z"
    }
   },
   "outputs": [],
   "source": [
    "scores_multi_cna_cv = pd.read_csv(\n",
    "    \"../work_dirs/cna/MultiDrug/scores_202006190142_res_eg_id.csv\")\n",
    "scores_multi_cna_cv = scores_multi_cna_cv[\n",
    "    scores_multi_cna_cv['run'] != 'test'].reset_index(drop=True).rename(\n",
    "        columns={'corr': 'val_score'})\n",
    "scores_dl_cna_cv_long = deep_learning_cv_score(scores_multi_cna_cv)\n",
    "scores_dl_cna_cv_long['data'] = 'Copy Number'"
   ]
  },
  {
   "cell_type": "code",
   "execution_count": 45,
   "metadata": {
    "ExecuteTime": {
     "end_time": "2020-09-20T05:26:55.749656Z",
     "start_time": "2020-09-20T05:26:53.482442Z"
    }
   },
   "outputs": [],
   "source": [
    "scores_multi_methylation_cv = pd.read_csv(\n",
    "    \"../work_dirs/methylation/MultiDrug/scores_202006190143_res_eg_id.csv\")\n",
    "scores_multi_methylation_cv = scores_multi_methylation_cv[\n",
    "    scores_multi_methylation_cv['run'] != 'test'].reset_index(drop=True).rename(\n",
    "        columns={'corr': 'val_score'})\n",
    "scores_dl_methylation_cv_long = deep_learning_cv_score(scores_multi_methylation_cv)\n",
    "scores_dl_methylation_cv_long['data'] = 'Methylation'"
   ]
  },
  {
   "cell_type": "code",
   "execution_count": 46,
   "metadata": {
    "ExecuteTime": {
     "end_time": "2020-09-20T05:26:57.129838Z",
     "start_time": "2020-09-20T05:26:55.751160Z"
    }
   },
   "outputs": [],
   "source": [
    "scores_multi_rna_cv = pd.read_csv(\n",
    "    \"../work_dirs/rna/MultiDrug/scores_202006181624_res_eg_id.csv\")\n",
    "scores_multi_rna_cv = scores_multi_rna_cv[\n",
    "    scores_multi_rna_cv['run'] != 'test'].reset_index(drop=True).rename(\n",
    "        columns={'corr': 'val_score'})\n",
    "scores_dl_rna_cv_long = deep_learning_cv_score(scores_multi_rna_cv)\n",
    "scores_dl_rna_cv_long['data'] = 'Transcriptome'"
   ]
  },
  {
   "cell_type": "code",
   "execution_count": 47,
   "metadata": {
    "ExecuteTime": {
     "end_time": "2020-09-20T05:26:57.633082Z",
     "start_time": "2020-09-20T05:26:57.131385Z"
    }
   },
   "outputs": [],
   "source": [
    "scores_multi_protein_cv = pd.read_csv(\n",
    "    \"../work_dirs/protein/MultiDrug/scores_202006191021_resx_ruv_zero_300_eg_id.csv\")\n",
    "scores_multi_protein_cv = scores_multi_protein_cv[\n",
    "    scores_multi_protein_cv['run'] != 'test'].reset_index(drop=True).rename(\n",
    "        columns={'corr': 'val_score'})\n",
    "scores_dl_protein_cv_long = deep_learning_cv_score(scores_multi_protein_cv)\n",
    "scores_dl_protein_cv_long['data'] = 'Proteome'"
   ]
  },
  {
   "cell_type": "markdown",
   "metadata": {},
   "source": [
    "### plot"
   ]
  },
  {
   "cell_type": "code",
   "execution_count": 48,
   "metadata": {
    "ExecuteTime": {
     "end_time": "2020-09-20T05:26:57.650518Z",
     "start_time": "2020-09-20T05:26:57.636031Z"
    }
   },
   "outputs": [],
   "source": [
    "df_cv_all = pd.concat([\n",
    "    scores_enet_wes_cv_long, scores_enet_cna_cv_long,\n",
    "    scores_enet_methylation_cv_long, scores_enet_rna_cv_long, scores_enet_protein_cv_long,\n",
    "    scores_rf_wes_cv_long, scores_rf_cna_cv_long,\n",
    "    scores_rf_methylation_cv_long, scores_rf_rna_cv_long, scores_rf_protein_cv_long,\n",
    "    scores_dl_wes_cv_long, scores_dl_cna_cv_long,\n",
    "    scores_dl_methylation_cv_long, scores_dl_rna_cv_long, scores_dl_protein_cv_long\n",
    "])"
   ]
  },
  {
   "cell_type": "code",
   "execution_count": 49,
   "metadata": {
    "ExecuteTime": {
     "end_time": "2020-09-20T05:26:57.664583Z",
     "start_time": "2020-09-20T05:26:57.652271Z"
    }
   },
   "outputs": [],
   "source": [
    "df_cv_all = pd.concat([\n",
    "    scores_enet_tissue_cv_long,\n",
    "    scores_enet_wes_cv_long, scores_enet_cna_cv_long,\n",
    "    scores_enet_methylation_cv_long, scores_enet_rna_cv_long, scores_enet_protein_cv_long,\n",
    "    scores_rf_tissue_cv_long,\n",
    "    scores_rf_wes_cv_long, scores_rf_cna_cv_long,\n",
    "    scores_rf_methylation_cv_long, scores_rf_rna_cv_long, scores_rf_protein_cv_long,\n",
    "    scores_dl_tissue_cv_long,\n",
    "    scores_dl_wes_cv_long, scores_dl_cna_cv_long,\n",
    "    scores_dl_methylation_cv_long, scores_dl_rna_cv_long, scores_dl_protein_cv_long\n",
    "])"
   ]
  },
  {
   "cell_type": "code",
   "execution_count": 50,
   "metadata": {
    "ExecuteTime": {
     "end_time": "2020-09-20T05:26:57.678440Z",
     "start_time": "2020-09-20T05:26:57.665981Z"
    }
   },
   "outputs": [],
   "source": [
    "df_cv_test_all = pd.concat([\n",
    "    df_cv_all.drop(['run'], axis=1).rename(columns={'val_score': 'score'}),\n",
    "    single_omic_all.rename(columns={'test_corr': 'score'})\n",
    "])"
   ]
  },
  {
   "cell_type": "code",
   "execution_count": 52,
   "metadata": {
    "ExecuteTime": {
     "end_time": "2020-09-20T05:27:08.447886Z",
     "start_time": "2020-09-20T05:27:07.148507Z"
    }
   },
   "outputs": [
    {
     "data": {
      "image/png": "[encoded data removed]",
      "text/plain": [
       "<Figure size 864x576 with 1 Axes>"
      ]
     },
     "metadata": {
      "needs_background": "light"
     },
     "output_type": "display_data"
    }
   ],
   "source": [
    "fig = plt.figure(figsize=(12,8))\n",
    "sns.barplot('data',\n",
    "            'score',\n",
    "            hue='model',\n",
    "            data=df_cv_test_all,\n",
    "            orient='v',\n",
    "            linewidth=2,\n",
    "            capsize=.1,\n",
    "            palette=['#007fff','#ffbf00', '#02ba24'],\n",
    "            edgecolor='black')\n",
    "plt.ylabel(\"Predictive performance\")\n",
    "plt.xlabel(\"\")\n",
    "plt.title(\"Machine learning benchmark on predictive performance\")\n",
    "fig.autofmt_xdate(rotation=45, ha='center')\n",
    "patches = [mpatches.Patch(facecolor=\"#007fff\",\n",
    "                                 label=\"ElasticNet\",\n",
    "                                 linewidth=2,\n",
    "                                 edgecolor='black'),\n",
    "          mpatches.Patch(facecolor=\"#ffbf00\",\n",
    "                                 label=\"RandomForest\",\n",
    "                                 linewidth=2,\n",
    "                                 edgecolor='black'),\n",
    "          mpatches.Patch(facecolor=\"#02ba24\",\n",
    "                                 label=\"DeepOmicNet\",\n",
    "                                 linewidth=2,\n",
    "                                 edgecolor='black')]\n",
    "plt.legend(handles=patches, bbox_to_anchor=(1.03, 1), loc='upper left')\n",
    "plt.grid(axis='y')\n",
    "plt.savefig(\"../plots/drug/ENet_vs_RF_vs_DL_all_omics.pdf\", dpi=500)"
   ]
  },
  {
   "cell_type": "code",
   "execution_count": 72,
   "metadata": {
    "ExecuteTime": {
     "end_time": "2020-09-18T03:27:54.690528Z",
     "start_time": "2020-09-18T03:27:54.457810Z"
    }
   },
   "outputs": [],
   "source": [
    "df_cv_test_all.to_csv('../plots/plot_data/Fig3B_ml_benchmark.csv', index=False)"
   ]
  },
  {
   "cell_type": "code",
   "execution_count": 114,
   "metadata": {
    "ExecuteTime": {
     "end_time": "2020-08-10T14:41:01.368944Z",
     "start_time": "2020-08-10T14:41:01.306800Z"
    },
    "scrolled": true
   },
   "outputs": [
    {
     "name": "stdout",
     "output_type": "stream",
     "text": [
      "score    0.075124\n",
      "dtype: float64\n",
      "score    0.133156\n",
      "dtype: float64\n"
     ]
    }
   ],
   "source": [
    "print(df_cv_test_all[(df_cv_test_all['data']=='WES')&(df_cv_test_all['model']=='RF')].mean())\n",
    "\n",
    "print(df_cv_test_all[(df_cv_test_all['data']=='WES')&(df_cv_test_all['model']=='DL')].mean())"
   ]
  },
  {
   "cell_type": "code",
   "execution_count": 77,
   "metadata": {
    "ExecuteTime": {
     "end_time": "2020-09-08T02:27:54.578987Z",
     "start_time": "2020-09-08T02:27:54.531168Z"
    }
   },
   "outputs": [
    {
     "name": "stdout",
     "output_type": "stream",
     "text": [
      "score    0.487209\n",
      "dtype: float64\n",
      "score    0.494282\n",
      "dtype: float64\n"
     ]
    }
   ],
   "source": [
    "print(df_cv_test_all[(df_cv_test_all['data']=='Transcriptome')&(df_cv_test_all['model']=='RF')].mean())\n",
    "\n",
    "print(df_cv_test_all[(df_cv_test_all['data']=='Transcriptome')&(df_cv_test_all['model']=='DL')].mean())"
   ]
  },
  {
   "cell_type": "code",
   "execution_count": 74,
   "metadata": {
    "ExecuteTime": {
     "end_time": "2020-09-08T02:27:28.155182Z",
     "start_time": "2020-09-08T02:27:27.943373Z"
    }
   },
   "outputs": [
    {
     "name": "stdout",
     "output_type": "stream",
     "text": [
      "score    0.485037\n",
      "dtype: float64\n",
      "score    0.488701\n",
      "dtype: float64\n"
     ]
    }
   ],
   "source": [
    "print(df_cv_test_all[(df_cv_test_all['data']=='Proteome')&(df_cv_test_all['model']=='RF')].mean())\n",
    "\n",
    "print(df_cv_test_all[(df_cv_test_all['data']=='Proteome')&(df_cv_test_all['model']=='DL')].mean())"
   ]
  },
  {
   "cell_type": "markdown",
   "metadata": {},
   "source": [
    "# specific drugs"
   ]
  },
  {
   "cell_type": "markdown",
   "metadata": {},
   "source": [
    "## Motesanib - 1029"
   ]
  },
  {
   "cell_type": "code",
   "execution_count": 54,
   "metadata": {
    "ExecuteTime": {
     "end_time": "2020-09-24T00:51:56.143513Z",
     "start_time": "2020-09-24T00:51:56.137009Z"
    }
   },
   "outputs": [],
   "source": [
    "def single_omic_score(df, drug_id, test_epoch=None, data='WES'):\n",
    "    df = df[df['drug_id'].str.startswith(str(drug_id))]\n",
    "    df = df.rename(columns={'corr': 'score'})\n",
    "    cv_scores = deep_learning_cv_score(\n",
    "        df[df['run'] != 'test'].reset_index(drop=True), drug_id)\n",
    "    test_score = df[(df['run'] == 'test')\n",
    "                    & (df['epoch'] == test_epoch)]['score'].values[0]\n",
    "    test_df = pd.DataFrame({\n",
    "        'drug_id': [drug_id],\n",
    "        'run': ['test'],\n",
    "        'score': [test_score],\n",
    "        'model': ['DL']\n",
    "    })\n",
    "    res = pd.concat([cv_scores, test_df])\n",
    "    res['data'] = data\n",
    "    return res"
   ]
  },
  {
   "cell_type": "code",
   "execution_count": 55,
   "metadata": {
    "ExecuteTime": {
     "end_time": "2020-09-24T00:51:58.702018Z",
     "start_time": "2020-09-24T00:51:56.642618Z"
    }
   },
   "outputs": [],
   "source": [
    "drug_id = '1029;Motesanib;GDSC2'\n",
    "combined = pd.concat([\n",
    "    single_omic_score(scores_multi_wes,\n",
    "                      drug_id,\n",
    "                      test_epoch=200,\n",
    "                      data=\"WES\"),\n",
    "    single_omic_score(scores_multi_cna,\n",
    "                      drug_id,\n",
    "                      test_epoch=260,\n",
    "                      data=\"CNA\"),\n",
    "    single_omic_score(scores_multi_methylation,\n",
    "                      drug_id,\n",
    "                      test_epoch=385,\n",
    "                      data=\"Methylation\"),\n",
    "    single_omic_score(scores_multi_rna,\n",
    "                      drug_id,\n",
    "                      test_epoch=210,\n",
    "                      data=\"RNA\"),\n",
    "    single_omic_score(scores_multi_protein,\n",
    "                      drug_id,\n",
    "                      test_epoch=70,\n",
    "                      data=\"Protein\")\n",
    "])"
   ]
  },
  {
   "cell_type": "code",
   "execution_count": 56,
   "metadata": {
    "ExecuteTime": {
     "end_time": "2020-09-24T00:52:00.664324Z",
     "start_time": "2020-09-24T00:51:59.037644Z"
    },
    "code_folding": []
   },
   "outputs": [],
   "source": [
    "drug_id = '1008;Methotrexate;GDSC2'\n",
    "combined = pd.concat([\n",
    "    single_omic_score(scores_multi_wes,\n",
    "                      drug_id,\n",
    "                      test_epoch=200,\n",
    "                      data=\"WES\"),\n",
    "    single_omic_score(scores_multi_cna,\n",
    "                      drug_id,\n",
    "                      test_epoch=260,\n",
    "                      data=\"CNA\"),\n",
    "    single_omic_score(scores_multi_methylation,\n",
    "                      drug_id,\n",
    "                      test_epoch=385,\n",
    "                      data=\"Methylation\"),\n",
    "    single_omic_score(scores_multi_rna,\n",
    "                      drug_id,\n",
    "                      test_epoch=210,\n",
    "                      data=\"RNA\"),\n",
    "    single_omic_score(scores_multi_protein,\n",
    "                      drug_id,\n",
    "                      test_epoch=70,\n",
    "                      data=\"Protein\")\n",
    "])"
   ]
  },
  {
   "cell_type": "code",
   "execution_count": 45,
   "metadata": {
    "ExecuteTime": {
     "end_time": "2020-06-20T14:55:45.350354Z",
     "start_time": "2020-06-20T14:55:43.816545Z"
    }
   },
   "outputs": [],
   "source": [
    "drug_id = '2255;RK-33;GDSC2'\n",
    "combined = pd.concat([\n",
    "    single_omic_score(scores_multi_wes,\n",
    "                      drug_id,\n",
    "                      test_epoch=200,\n",
    "                      data=\"WES\"),\n",
    "    single_omic_score(scores_multi_cna,\n",
    "                      drug_id,\n",
    "                      test_epoch=260,\n",
    "                      data=\"CNA\"),\n",
    "    single_omic_score(scores_multi_methylation,\n",
    "                      drug_id,\n",
    "                      test_epoch=385,\n",
    "                      data=\"Methylation\"),\n",
    "    single_omic_score(scores_multi_rna,\n",
    "                      drug_id,\n",
    "                      test_epoch=210,\n",
    "                      data=\"RNA\"),\n",
    "    single_omic_score(scores_multi_protein,\n",
    "                      drug_id,\n",
    "                      test_epoch=70,\n",
    "                      data=\"Protein\")\n",
    "])"
   ]
  },
  {
   "cell_type": "code",
   "execution_count": 60,
   "metadata": {
    "ExecuteTime": {
     "end_time": "2020-09-24T00:54:02.612725Z",
     "start_time": "2020-09-24T00:54:02.354530Z"
    }
   },
   "outputs": [
    {
     "data": {
      "text/plain": [
       "Text(0.5, 1.0, 'Predictive performance comparison for Methotrexate')"
      ]
     },
     "execution_count": 60,
     "metadata": {},
     "output_type": "execute_result"
    },
    {
     "data": {
      "image/png": "[encoded data removed]",
      "text/plain": [
       "<Figure size 720x504 with 1 Axes>"
      ]
     },
     "metadata": {
      "needs_background": "light"
     },
     "output_type": "display_data"
    }
   ],
   "source": [
    "sns.barplot(x='data',\n",
    "            y='score',\n",
    "            data=combined,\n",
    "            capsize=.2,\n",
    "            linewidth=2,\n",
    "            edgecolor=\"black\")\n",
    "plt.ylabel(\"Predictive performance\")\n",
    "plt.xlabel(\"\")\n",
    "plt.title(f\"Predictive performance comparison for {drug_id.split(';')[1]}\")\n",
    "# plt.savefig(f\"../plots/drug/{drug_id}_omic.pdf\", dpi=500)"
   ]
  },
  {
   "cell_type": "code",
   "execution_count": null,
   "metadata": {},
   "outputs": [],
   "source": []
  }
 ],
 "metadata": {
  "kernelspec": {
   "display_name": "Python 3",
   "language": "python",
   "name": "python3"
  },
  "language_info": {
   "codemirror_mode": {
    "name": "ipython",
    "version": 3
   },
   "file_extension": ".py",
   "mimetype": "text/x-python",
   "name": "python",
   "nbconvert_exporter": "python",
   "pygments_lexer": "ipython3",
   "version": "3.8.5"
  },
  "toc": {
   "base_numbering": 1,
   "nav_menu": {},
   "number_sections": true,
   "sideBar": true,
   "skip_h1_title": false,
   "title_cell": "Table of Contents",
   "title_sidebar": "Contents",
   "toc_cell": false,
   "toc_position": {
    "height": "calc(100% - 180px)",
    "left": "10px",
    "top": "150px",
    "width": "341.391px"
   },
   "toc_section_display": true,
   "toc_window_display": true
  }
 },
 "nbformat": 4,
 "nbformat_minor": 4
}
