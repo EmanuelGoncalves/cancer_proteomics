{
 "cells": [
  {
   "cell_type": "code",
   "execution_count": 1,
   "metadata": {
    "ExecuteTime": {
     "end_time": "2020-10-22T03:34:59.160893Z",
     "start_time": "2020-10-22T03:34:56.064344Z"
    }
   },
   "outputs": [],
   "source": [
    "import pandas as pd"
   ]
  },
  {
   "cell_type": "markdown",
   "metadata": {},
   "source": [
    "# SuppTable4 - all DeeProM result"
   ]
  },
  {
   "cell_type": "code",
   "execution_count": 2,
   "metadata": {
    "ExecuteTime": {
     "end_time": "2020-10-22T03:42:42.041232Z",
     "start_time": "2020-10-22T03:40:04.227756Z"
    }
   },
   "outputs": [],
   "source": [
    "lm_res_drug = pd.read_csv(\"../result_files/lm/lm_sklearn_degr_drug_annotated.csv.gz\")\n",
    "lm_res_crispr = pd.read_csv(\"../result_files/lm/lm_sklearn_degr_crispr_annotated.csv.gz\")"
   ]
  },
  {
   "cell_type": "code",
   "execution_count": 4,
   "metadata": {
    "ExecuteTime": {
     "end_time": "2020-10-22T03:44:10.745168Z",
     "start_time": "2020-10-22T03:44:10.595830Z"
    }
   },
   "outputs": [],
   "source": [
    "lm_res_drug_final = lm_res_drug.query(\"(fdr < 0.1 or nc_fdr < 0.001) and skew < -1 and r2 > 0.4\")"
   ]
  },
  {
   "cell_type": "code",
   "execution_count": 7,
   "metadata": {
    "ExecuteTime": {
     "end_time": "2020-10-22T03:45:50.884242Z",
     "start_time": "2020-10-22T03:45:50.880301Z"
    }
   },
   "outputs": [],
   "source": [
    "lm_res_drug_final = lm_res_drug_final.drop(['lr', 'covs'], axis=1)"
   ]
  },
  {
   "cell_type": "code",
   "execution_count": 9,
   "metadata": {
    "ExecuteTime": {
     "end_time": "2020-10-22T03:46:36.374248Z",
     "start_time": "2020-10-22T03:46:36.251409Z"
    }
   },
   "outputs": [],
   "source": [
    "lm_res_drug_final.to_csv(\"../result_files/DeeProM_result_drug.csv\", index=False)"
   ]
  },
  {
   "cell_type": "code",
   "execution_count": 15,
   "metadata": {
    "ExecuteTime": {
     "end_time": "2020-10-22T03:47:28.717283Z",
     "start_time": "2020-10-22T03:47:28.711469Z"
    }
   },
   "outputs": [],
   "source": [
    "lm_res_crispr_final = lm_res_crispr.query(\"(fdr < 0.1 or nc_fdr < 0.001) and skew < -2 and r2 > 0.4\")"
   ]
  },
  {
   "cell_type": "code",
   "execution_count": 16,
   "metadata": {
    "ExecuteTime": {
     "end_time": "2020-10-22T03:47:32.215021Z",
     "start_time": "2020-10-22T03:47:32.211275Z"
    }
   },
   "outputs": [],
   "source": [
    "lm_res_crispr_final = lm_res_crispr_final.drop(['lr', 'covs'], axis=1)"
   ]
  },
  {
   "cell_type": "code",
   "execution_count": 18,
   "metadata": {
    "ExecuteTime": {
     "end_time": "2020-10-22T03:47:43.244559Z",
     "start_time": "2020-10-22T03:47:43.222447Z"
    }
   },
   "outputs": [],
   "source": [
    "lm_res_crispr_final.to_csv(\"../result_files/DeeProM_result_crispr.csv\", index=False)"
   ]
  },
  {
   "cell_type": "code",
   "execution_count": null,
   "metadata": {},
   "outputs": [],
   "source": []
  }
 ],
 "metadata": {
  "kernelspec": {
   "display_name": "Python 3",
   "language": "python",
   "name": "python3"
  },
  "language_info": {
   "codemirror_mode": {
    "name": "ipython",
    "version": 3
   },
   "file_extension": ".py",
   "mimetype": "text/x-python",
   "name": "python",
   "nbconvert_exporter": "python",
   "pygments_lexer": "ipython3",
   "version": "3.8.5"
  },
  "toc": {
   "base_numbering": 1,
   "nav_menu": {},
   "number_sections": true,
   "sideBar": true,
   "skip_h1_title": false,
   "title_cell": "Table of Contents",
   "title_sidebar": "Contents",
   "toc_cell": false,
   "toc_position": {},
   "toc_section_display": true,
   "toc_window_display": false
  }
 },
 "nbformat": 4,
 "nbformat_minor": 4
}
