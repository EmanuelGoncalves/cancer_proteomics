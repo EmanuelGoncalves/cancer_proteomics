{
 "cells": [
  {
   "cell_type": "code",
   "execution_count": 1,
   "metadata": {
    "ExecuteTime": {
     "end_time": "2022-04-13T04:21:50.394224Z",
     "start_time": "2022-04-13T04:21:44.027506Z"
    }
   },
   "outputs": [],
   "source": [
    "import pandas as pd\n",
    "import numpy as np\n",
    "import seaborn as sns\n",
    "import matplotlib.pyplot as plt\n",
    "from scipy.stats import ttest_ind\n",
    "from sklearn.metrics import r2_score\n",
    "from scipy.stats import pearsonr, spearmanr\n",
    "import plotly.express as px\n",
    "import plotly.graph_objects as go\n",
    "import matplotlib.patches as mpatches\n",
    "from scipy.stats import ttest_ind, ttest_1samp, ttest_rel\n",
    "import matplotlib as mpl\n",
    "import umap\n",
    "from sklearn.decomposition import PCA\n",
    "from sklearn.manifold import TSNE\n",
    "from joblib import Parallel, delayed\n",
    "from tqdm.notebook import tqdm\n",
    "import pickle\n",
    "import matplotlib.ticker as mtick\n",
    "import math\n",
    "from itertools import combinations\n",
    "import random\n",
    "from sklearn.linear_model import LinearRegression\n",
    "import qgrid"
   ]
  },
  {
   "cell_type": "code",
   "execution_count": 8,
   "metadata": {
    "ExecuteTime": {
     "end_time": "2022-04-13T04:24:46.273985Z",
     "start_time": "2022-04-13T04:24:46.240154Z"
    },
    "code_folding": []
   },
   "outputs": [],
   "source": [
    "meta_sample = pd.read_csv(\"../../data/protein/e0022_diann_051021_sample_mapping_replicates.txt\", sep='\\t')\n",
    "meta_sample = meta_sample[~meta_sample['Cell_line'].str.contains('Control')].reset_index(drop=True)\n",
    "meta = meta_sample.drop_duplicates(['Cell_line']).reset_index(drop=True)"
   ]
  },
  {
   "cell_type": "code",
   "execution_count": 9,
   "metadata": {
    "ExecuteTime": {
     "end_time": "2022-04-13T04:24:50.807390Z",
     "start_time": "2022-04-13T04:24:46.893553Z"
    }
   },
   "outputs": [],
   "source": [
    "protein_ruv = pd.read_csv(\n",
    "    \"../../data/protein/e0022_diann_051021_working_matrix_averaged_processed.txt\",\n",
    "    sep='\\t').set_index('Cell_line')\n",
    "name_map_df = pd.read_csv(f\"../../data/misc/uniprot_human_idmap.tab.gz\",\n",
    "                       sep='\\t')\n",
    "name_map_dict = name_map_df.set_index(\"Entry name\").to_dict()['Gene names  (primary )']\n",
    "protein2rna_map = name_map_dict\n",
    "rna2protein_map = name_map_df.set_index(\"Gene names  (primary )\").to_dict()['Entry name']\n",
    "\n",
    "rna_raw = pd.read_csv(\"../../data/rna/rnaseq_voom.csv\", index_col=0).T\n",
    "\n",
    "rna_raw.index.name = 'SIDM'\n",
    "\n",
    "rna_raw = rna_raw.reset_index()\n",
    "rna_sample = pd.merge(rna_raw,\n",
    "                      meta[['SIDM',\n",
    "                            'Cell_line']].drop_duplicates()).drop(['SIDM'],\n",
    "                                                                  axis=1)\n",
    "\n",
    "rna_sample = rna_sample.set_index(['Cell_line'])"
   ]
  },
  {
   "cell_type": "code",
   "execution_count": 14,
   "metadata": {
    "ExecuteTime": {
     "end_time": "2021-10-19T04:06:15.668628Z",
     "start_time": "2021-10-19T03:34:09.832968Z"
    }
   },
   "outputs": [],
   "source": [
    "genes = rna_sample.columns\n",
    "gexp_t = pd.DataFrame(\n",
    "    {i: Utils.gkn(rna_sample.T.loc[i].dropna()).to_dict() for i in genes}\n",
    ")"
   ]
  },
  {
   "cell_type": "code",
   "execution_count": 18,
   "metadata": {
    "ExecuteTime": {
     "end_time": "2021-10-19T04:15:14.331634Z",
     "start_time": "2021-10-19T04:15:14.329403Z"
    }
   },
   "outputs": [],
   "source": [
    "rna_sample = gexp_t.T"
   ]
  },
  {
   "cell_type": "code",
   "execution_count": 21,
   "metadata": {
    "ExecuteTime": {
     "end_time": "2021-10-19T04:15:36.676845Z",
     "start_time": "2021-10-19T04:15:36.674518Z"
    }
   },
   "outputs": [],
   "source": [
    "rna_sample.index.name = 'Cell_line'"
   ]
  },
  {
   "cell_type": "code",
   "execution_count": 22,
   "metadata": {
    "ExecuteTime": {
     "end_time": "2021-10-19T04:16:00.162108Z",
     "start_time": "2021-10-19T04:15:37.453622Z"
    },
    "code_folding": []
   },
   "outputs": [
    {
     "data": {
      "application/vnd.jupyter.widget-view+json": {
       "model_id": "a0805411147e4a5f92b3d0c5bff067f9",
       "version_major": 2,
       "version_minor": 0
      },
      "text/plain": [
       "  0%|          | 0/6692 [00:00<?, ?it/s]"
      ]
     },
     "metadata": {},
     "output_type": "display_data"
    }
   ],
   "source": [
    "res_df = []\n",
    "not_mapped = []\n",
    "for protein in tqdm(protein_ruv.columns):\n",
    "    if protein not in name_map_dict:\n",
    "        not_mapped.append(protein)\n",
    "        continue\n",
    "    gene = name_map_dict[protein]\n",
    "    if gene not in rna_sample.columns:\n",
    "        continue\n",
    "    tmp_df = pd.merge(protein_ruv[[protein]],\n",
    "                      rna_sample[[gene]],\n",
    "                      on='Cell_line').dropna()\n",
    "    if tmp_df.shape[0] < 2:\n",
    "        continue\n",
    "    corr, pvalue = pearsonr(tmp_df.iloc[:, 0], tmp_df.iloc[:, 1])\n",
    "    res_df.append({\n",
    "        'protein': protein,\n",
    "        'gene': gene,\n",
    "        'pearsonr': corr,\n",
    "        'pvalue': pvalue\n",
    "    })\n",
    "res_df = pd.DataFrame(res_df)"
   ]
  },
  {
   "cell_type": "code",
   "execution_count": 23,
   "metadata": {
    "ExecuteTime": {
     "end_time": "2021-10-19T04:16:09.065430Z",
     "start_time": "2021-10-19T04:16:09.061476Z"
    }
   },
   "outputs": [
    {
     "data": {
      "text/plain": [
       "['DRB1_HUMAN',\n",
       " 'SCP2_HUMAN',\n",
       " 'UTRN_HUMAN',\n",
       " 'GTPB4_HUMAN',\n",
       " 'PALS2_HUMAN',\n",
       " 'PALS1_HUMAN',\n",
       " 'UTP25_HUMAN',\n",
       " 'EPB41_HUMAN',\n",
       " 'STEEP_HUMAN',\n",
       " 'DAA10_HUMAN',\n",
       " 'PBIR2_HUMAN',\n",
       " 'H3PS2_HUMAN',\n",
       " 'MIX23_HUMAN',\n",
       " 'NOPC1_HUMAN',\n",
       " 'EMC5_HUMAN',\n",
       " 'SCD_HUMAN',\n",
       " 'STYL2_HUMAN',\n",
       " 'PBIR1_HUMAN',\n",
       " 'ATPMK_HUMAN',\n",
       " 'Q9HB66_HUMAN']"
      ]
     },
     "execution_count": 23,
     "metadata": {},
     "output_type": "execute_result"
    }
   ],
   "source": [
    "not_mapped"
   ]
  },
  {
   "cell_type": "code",
   "execution_count": 24,
   "metadata": {
    "ExecuteTime": {
     "end_time": "2021-10-19T04:16:13.247135Z",
     "start_time": "2021-10-19T04:16:13.236187Z"
    }
   },
   "outputs": [
    {
     "data": {
      "text/html": [
       "<div>\n",
       "<style scoped>\n",
       "    .dataframe tbody tr th:only-of-type {\n",
       "        vertical-align: middle;\n",
       "    }\n",
       "\n",
       "    .dataframe tbody tr th {\n",
       "        vertical-align: top;\n",
       "    }\n",
       "\n",
       "    .dataframe thead th {\n",
       "        text-align: right;\n",
       "    }\n",
       "</style>\n",
       "<table border=\"1\" class=\"dataframe\">\n",
       "  <thead>\n",
       "    <tr style=\"text-align: right;\">\n",
       "      <th></th>\n",
       "      <th>protein</th>\n",
       "      <th>gene</th>\n",
       "      <th>pearsonr</th>\n",
       "      <th>pvalue</th>\n",
       "    </tr>\n",
       "  </thead>\n",
       "  <tbody>\n",
       "    <tr>\n",
       "      <th>1577</th>\n",
       "      <td>DKC1_HUMAN</td>\n",
       "      <td>DKC1</td>\n",
       "      <td>0.294594</td>\n",
       "      <td>3.548964e-20</td>\n",
       "    </tr>\n",
       "  </tbody>\n",
       "</table>\n",
       "</div>"
      ],
      "text/plain": [
       "         protein  gene  pearsonr        pvalue\n",
       "1577  DKC1_HUMAN  DKC1  0.294594  3.548964e-20"
      ]
     },
     "execution_count": 24,
     "metadata": {},
     "output_type": "execute_result"
    }
   ],
   "source": [
    "res_df.query('gene == \"DKC1\"')"
   ]
  },
  {
   "cell_type": "code",
   "execution_count": 9,
   "metadata": {
    "ExecuteTime": {
     "end_time": "2021-10-18T06:19:10.874112Z",
     "start_time": "2021-10-18T06:19:10.834997Z"
    }
   },
   "outputs": [],
   "source": [
    "res_df.to_csv(\"../../result_files/rna_corr_shawn.csv\", index=False)"
   ]
  },
  {
   "cell_type": "code",
   "execution_count": 30,
   "metadata": {
    "ExecuteTime": {
     "end_time": "2021-10-19T04:21:01.353554Z",
     "start_time": "2021-10-19T04:21:01.346944Z"
    }
   },
   "outputs": [
    {
     "name": "stderr",
     "output_type": "stream",
     "text": [
      "<ipython-input-30-0920ab456271>:1: FutureWarning:\n",
      "\n",
      "Dropping of nuisance columns in DataFrame reductions (with 'numeric_only=None') is deprecated; in a future version this will raise TypeError.  Select only valid columns before calling the reduction.\n",
      "\n"
     ]
    },
    {
     "data": {
      "text/plain": [
       "pearsonr    4.216646e-01\n",
       "pvalue      1.158843e-14\n",
       "dtype: float64"
      ]
     },
     "execution_count": 30,
     "metadata": {},
     "output_type": "execute_result"
    }
   ],
   "source": [
    "res_df.median()"
   ]
  },
  {
   "cell_type": "code",
   "execution_count": 2,
   "metadata": {
    "ExecuteTime": {
     "end_time": "2022-04-13T04:21:55.972528Z",
     "start_time": "2022-04-13T04:21:55.956716Z"
    }
   },
   "outputs": [],
   "source": [
    "res_df_no_norm = pd.read_csv(\"../../result_files/rna_corr_shawn.csv\")"
   ]
  },
  {
   "cell_type": "code",
   "execution_count": 3,
   "metadata": {
    "ExecuteTime": {
     "end_time": "2022-04-13T04:21:58.177528Z",
     "start_time": "2022-04-13T04:21:57.929391Z"
    }
   },
   "outputs": [
    {
     "name": "stderr",
     "output_type": "stream",
     "text": [
      "/var/folders/7r/70gsq7hd1p5f6d8cgzf0ftb80000gr/T/ipykernel_28863/4285200526.py:1: FutureWarning: Dropping of nuisance columns in DataFrame reductions (with 'numeric_only=None') is deprecated; in a future version this will raise TypeError.  Select only valid columns before calling the reduction.\n",
      "  res_df_no_norm.median()\n"
     ]
    },
    {
     "data": {
      "text/plain": [
       "pearsonr    4.161678e-01\n",
       "pvalue      3.509480e-14\n",
       "dtype: float64"
      ]
     },
     "execution_count": 3,
     "metadata": {},
     "output_type": "execute_result"
    }
   ],
   "source": [
    "res_df_no_norm.median()"
   ]
  },
  {
   "cell_type": "code",
   "execution_count": 6,
   "metadata": {
    "ExecuteTime": {
     "end_time": "2022-04-13T04:22:20.457036Z",
     "start_time": "2022-04-13T04:22:20.442659Z"
    }
   },
   "outputs": [
    {
     "data": {
      "text/html": [
       "<div>\n",
       "<style scoped>\n",
       "    .dataframe tbody tr th:only-of-type {\n",
       "        vertical-align: middle;\n",
       "    }\n",
       "\n",
       "    .dataframe tbody tr th {\n",
       "        vertical-align: top;\n",
       "    }\n",
       "\n",
       "    .dataframe thead th {\n",
       "        text-align: right;\n",
       "    }\n",
       "</style>\n",
       "<table border=\"1\" class=\"dataframe\">\n",
       "  <thead>\n",
       "    <tr style=\"text-align: right;\">\n",
       "      <th></th>\n",
       "      <th>protein</th>\n",
       "      <th>gene</th>\n",
       "      <th>pearsonr</th>\n",
       "      <th>pvalue</th>\n",
       "    </tr>\n",
       "  </thead>\n",
       "  <tbody>\n",
       "    <tr>\n",
       "      <th>0</th>\n",
       "      <td>SRP14_HUMAN</td>\n",
       "      <td>SRP14</td>\n",
       "      <td>0.313829</td>\n",
       "      <td>8.130545e-23</td>\n",
       "    </tr>\n",
       "    <tr>\n",
       "      <th>1</th>\n",
       "      <td>ZFP91_HUMAN</td>\n",
       "      <td>ZFP91</td>\n",
       "      <td>0.262407</td>\n",
       "      <td>1.988657e-11</td>\n",
       "    </tr>\n",
       "    <tr>\n",
       "      <th>2</th>\n",
       "      <td>IRS2_HUMAN</td>\n",
       "      <td>IRS2</td>\n",
       "      <td>0.488880</td>\n",
       "      <td>2.521380e-12</td>\n",
       "    </tr>\n",
       "    <tr>\n",
       "      <th>3</th>\n",
       "      <td>RL4_HUMAN</td>\n",
       "      <td>RPL4</td>\n",
       "      <td>0.304117</td>\n",
       "      <td>1.852472e-21</td>\n",
       "    </tr>\n",
       "    <tr>\n",
       "      <th>4</th>\n",
       "      <td>SAMD1_HUMAN</td>\n",
       "      <td>SAMD1</td>\n",
       "      <td>0.515297</td>\n",
       "      <td>2.031825e-50</td>\n",
       "    </tr>\n",
       "    <tr>\n",
       "      <th>...</th>\n",
       "      <td>...</td>\n",
       "      <td>...</td>\n",
       "      <td>...</td>\n",
       "      <td>...</td>\n",
       "    </tr>\n",
       "    <tr>\n",
       "      <th>6423</th>\n",
       "      <td>NEGR1_HUMAN</td>\n",
       "      <td>NEGR1</td>\n",
       "      <td>0.470450</td>\n",
       "      <td>4.105341e-07</td>\n",
       "    </tr>\n",
       "    <tr>\n",
       "      <th>6424</th>\n",
       "      <td>MOT2_HUMAN</td>\n",
       "      <td>SLC16A7</td>\n",
       "      <td>0.562501</td>\n",
       "      <td>3.539948e-06</td>\n",
       "    </tr>\n",
       "    <tr>\n",
       "      <th>6425</th>\n",
       "      <td>LAPM5_HUMAN</td>\n",
       "      <td>LAPTM5</td>\n",
       "      <td>0.139067</td>\n",
       "      <td>3.737976e-01</td>\n",
       "    </tr>\n",
       "    <tr>\n",
       "      <th>6426</th>\n",
       "      <td>ZN462_HUMAN</td>\n",
       "      <td>ZNF462</td>\n",
       "      <td>0.196250</td>\n",
       "      <td>3.554960e-02</td>\n",
       "    </tr>\n",
       "    <tr>\n",
       "      <th>6427</th>\n",
       "      <td>PCKGC_HUMAN</td>\n",
       "      <td>PCK1</td>\n",
       "      <td>-0.523731</td>\n",
       "      <td>3.650467e-01</td>\n",
       "    </tr>\n",
       "  </tbody>\n",
       "</table>\n",
       "<p>6428 rows × 4 columns</p>\n",
       "</div>"
      ],
      "text/plain": [
       "          protein     gene  pearsonr        pvalue\n",
       "0     SRP14_HUMAN    SRP14  0.313829  8.130545e-23\n",
       "1     ZFP91_HUMAN    ZFP91  0.262407  1.988657e-11\n",
       "2      IRS2_HUMAN     IRS2  0.488880  2.521380e-12\n",
       "3       RL4_HUMAN     RPL4  0.304117  1.852472e-21\n",
       "4     SAMD1_HUMAN    SAMD1  0.515297  2.031825e-50\n",
       "...           ...      ...       ...           ...\n",
       "6423  NEGR1_HUMAN    NEGR1  0.470450  4.105341e-07\n",
       "6424   MOT2_HUMAN  SLC16A7  0.562501  3.539948e-06\n",
       "6425  LAPM5_HUMAN   LAPTM5  0.139067  3.737976e-01\n",
       "6426  ZN462_HUMAN   ZNF462  0.196250  3.554960e-02\n",
       "6427  PCKGC_HUMAN     PCK1 -0.523731  3.650467e-01\n",
       "\n",
       "[6428 rows x 4 columns]"
      ]
     },
     "execution_count": 6,
     "metadata": {},
     "output_type": "execute_result"
    }
   ],
   "source": [
    "res_df_no_norm.drop_duplicates('gene')"
   ]
  },
  {
   "cell_type": "code",
   "execution_count": null,
   "metadata": {},
   "outputs": [],
   "source": []
  }
 ],
 "metadata": {
  "kernelspec": {
   "display_name": "Python 3 (ipykernel)",
   "language": "python",
   "name": "python3"
  },
  "language_info": {
   "codemirror_mode": {
    "name": "ipython",
    "version": 3
   },
   "file_extension": ".py",
   "mimetype": "text/x-python",
   "name": "python",
   "nbconvert_exporter": "python",
   "pygments_lexer": "ipython3",
   "version": "3.9.7"
  },
  "toc": {
   "base_numbering": 1,
   "nav_menu": {},
   "number_sections": true,
   "sideBar": true,
   "skip_h1_title": false,
   "title_cell": "Table of Contents",
   "title_sidebar": "Contents",
   "toc_cell": false,
   "toc_position": {},
   "toc_section_display": true,
   "toc_window_display": false
  }
 },
 "nbformat": 4,
 "nbformat_minor": 4
}
