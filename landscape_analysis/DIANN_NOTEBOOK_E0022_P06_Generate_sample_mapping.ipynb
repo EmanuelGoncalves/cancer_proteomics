{
 "cells": [
  {
   "cell_type": "markdown",
   "metadata": {},
   "source": [
    "# DIANN-E0022_P06_Generate_sample_mapping"
   ]
  },
  {
   "cell_type": "markdown",
   "metadata": {},
   "source": [
    "Completed by Rebecca Poulos."
   ]
  },
  {
   "cell_type": "markdown",
   "metadata": {},
   "source": [
    "Checked on 09/07/21. Checks included high level overall script (given script was already checked in previous version) and detailed check of all changes made. Also see reconcilation with old version at the end. "
   ]
  },
  {
   "cell_type": "markdown",
   "metadata": {},
   "source": [
    "## Generate sample mapping"
   ]
  },
  {
   "cell_type": "markdown",
   "metadata": {},
   "source": [
    "### Import libraries"
   ]
  },
  {
   "cell_type": "code",
   "execution_count": 1,
   "metadata": {},
   "outputs": [],
   "source": [
    "import pandas as pd\n",
    "import numpy as np\n",
    "import seaborn as sns\n",
    "import matplotlib\n",
    "import matplotlib.pyplot as plt\n",
    "from matplotlib.patches import PathPatch\n",
    "from matplotlib import gridspec\n",
    "from matplotlib import mlab\n",
    "from matplotlib.ticker import ScalarFormatter\n",
    "import matplotlib.patheffects as PathEffects\n",
    "from matplotlib.patches import Patch\n",
    "from datetime import datetime\n",
    "import datetime as dt"
   ]
  },
  {
   "cell_type": "code",
   "execution_count": 2,
   "metadata": {},
   "outputs": [],
   "source": [
    "matplotlib.rcParams['pdf.fonttype'] = 42\n",
    "matplotlib.rcParams['ps.fonttype'] = 42\n",
    "sns.set(style='white', font_scale=1)"
   ]
  },
  {
   "cell_type": "code",
   "execution_count": 3,
   "metadata": {},
   "outputs": [],
   "source": [
    "outline_props = dict(color='black',linewidth=0.25)"
   ]
  },
  {
   "cell_type": "markdown",
   "metadata": {},
   "source": [
    "### Define colours"
   ]
  },
  {
   "cell_type": "code",
   "execution_count": 4,
   "metadata": {},
   "outputs": [],
   "source": [
    "instrument_colours={\n",
    "    'M01':'#66c2a5', \n",
    "    'M02':'#fc8d62', \n",
    "    'M03':'#8da0cb', \n",
    "    'M04':'#e78ac3', \n",
    "    'M05':'#a6d854', \n",
    "    'M06':'#ffd92f'\n",
    "}\n",
    "\n",
    "batch_colours={\n",
    "    'P01':'#7fc97f', \n",
    "    'P02':'#beaed4', \n",
    "    'P03':'#fdc086', \n",
    "    'P04':'#386cb0', \n",
    "    'P05':'#f0027f', \n",
    "    'P06':'#bf5b17'\n",
    "}\n",
    "\n",
    "hek_colours = {\n",
    "    'Control_HEK293T_lys': '#d8b365',\n",
    "    'Control_HEK293T_std_H002': '#5ab4ac',\n",
    "    'Control_HEK293T_std_H003': '#addad6'\n",
    "}"
   ]
  },
  {
   "cell_type": "code",
   "execution_count": 5,
   "metadata": {},
   "outputs": [],
   "source": [
    "instrument_patch = []\n",
    "for instrument in instrument_colours:\n",
    "    instrument_patch.append(Patch(facecolor=instrument_colours[instrument], edgecolor='black', label=''))\n",
    "\n",
    "batch_patch = []\n",
    "for batch in batch_colours:\n",
    "    batch_patch.append(Patch(facecolor=batch_colours[batch], edgecolor='black', label=''))"
   ]
  },
  {
   "cell_type": "markdown",
   "metadata": {},
   "source": [
    "### Generate sample lists"
   ]
  },
  {
   "cell_type": "markdown",
   "metadata": {},
   "source": [
    "##### P02"
   ]
  },
  {
   "cell_type": "code",
   "execution_count": 6,
   "metadata": {},
   "outputs": [
    {
     "name": "stdout",
     "output_type": "stream",
     "text": [
      "Files in Batch 2: 885\n"
     ]
    }
   ],
   "source": [
    "df_p02 = pd.read_excel('Generate_sample_mapping/E0022_P01_P02-Sanger_TA.xlsx', sheet_name='Tracking', parse_dates=False)\n",
    "p02_files = df_p02[lambda x: (x.File_QC_check == 'Processing') & (x.Acq_Type == 'S')]['Automatic_MS_filename'].tolist()\n",
    "p02_files_to_exclude = list(set(df_p02[lambda x: (x.File_QC_check != 'Processing') & (x.Acq_Type == 'S')]['Automatic_MS_filename'].tolist()))\n",
    "print('Files in Batch 2:',len(p02_files))"
   ]
  },
  {
   "cell_type": "markdown",
   "metadata": {},
   "source": [
    "##### P03"
   ]
  },
  {
   "cell_type": "code",
   "execution_count": 7,
   "metadata": {},
   "outputs": [
    {
     "name": "stdout",
     "output_type": "stream",
     "text": [
      "Files in Batch 3: 3081\n"
     ]
    }
   ],
   "source": [
    "df_p03 = pd.read_excel('Generate_sample_mapping/E0022_P03_TA.xlsx', sheet_name='Tracking', parse_dates=False)\n",
    "p03_files = df_p03[lambda x: (x.File_QC_check == 'Processing') & (x.Acq_Type == 'S')]['Automatic_MS_filename'].tolist()\n",
    "p03_files_to_exclude = list(set(df_p03[lambda x: (x.File_QC_check != 'Processing') & (x.Acq_Type == 'S')]['Automatic_MS_filename'].tolist()))\n",
    "print('Files in Batch 3:',len(p03_files))"
   ]
  },
  {
   "cell_type": "markdown",
   "metadata": {},
   "source": [
    "##### P04"
   ]
  },
  {
   "cell_type": "code",
   "execution_count": 8,
   "metadata": {},
   "outputs": [
    {
     "name": "stdout",
     "output_type": "stream",
     "text": [
      "Files in Batch 4: 2105\n"
     ]
    }
   ],
   "source": [
    "df_p04 = pd.read_excel('Generate_sample_mapping/E0022_P04_TA.xlsx', sheet_name='Tracking', parse_dates=False)\n",
    "p04_files = df_p04[lambda x: (x.File_QC_check == 'Processing') & (x.Acq_Type == 'S')]['Automatic_MS_filename'].tolist()\n",
    "p04_files_to_exclude = list(set(df_p04[lambda x: (x.File_QC_check != 'Processing') & (x.Acq_Type == 'S')]['Automatic_MS_filename'].tolist()))\n",
    "print('Files in Batch 4:',len(p04_files))"
   ]
  },
  {
   "cell_type": "markdown",
   "metadata": {},
   "source": [
    "##### P05"
   ]
  },
  {
   "cell_type": "code",
   "execution_count": 9,
   "metadata": {},
   "outputs": [
    {
     "name": "stdout",
     "output_type": "stream",
     "text": [
      "Files in Batch 5: 927\n"
     ]
    }
   ],
   "source": [
    "df_p05 = pd.read_excel('Generate_sample_mapping/E0022_P05_TA.xlsx', sheet_name='Tracking', parse_dates=False)\n",
    "p05_files = df_p05[lambda x: (x.File_QC_check == 'Processing') & (x.Acq_Type == 'S')]['Automatic_MS_filename'].tolist()\n",
    "p05_files_to_exclude = list(set(df_p05[lambda x: (x.File_QC_check != 'Processing') & (x.Acq_Type == 'S')]['Automatic_MS_filename'].tolist()))\n",
    "p05_files = [x for x in p05_files if '-K_' not in x]\n",
    "print('Files in Batch 5:',len(p05_files))"
   ]
  },
  {
   "cell_type": "markdown",
   "metadata": {},
   "source": [
    "##### P06"
   ]
  },
  {
   "cell_type": "code",
   "execution_count": 10,
   "metadata": {},
   "outputs": [
    {
     "name": "stdout",
     "output_type": "stream",
     "text": [
      "Files in Batch 6: 278\n"
     ]
    }
   ],
   "source": [
    "df_p06 = pd.read_excel('Generate_sample_mapping/E0022_P06_TA.xlsx', sheet_name='Tracking', parse_dates=False).rename(columns={' ':'Automatic_MS_filename'})\n",
    "p06_files = df_p06[lambda x: (x.File_QC_check == 'Processing') & (x.Acq_Type == 'S')]['Automatic_MS_filename'].tolist()\n",
    "p06_files_to_exclude = list(set(df_p06[lambda x: (x.File_QC_check != 'Processing') & (x.Acq_Type == 'S')]['Automatic_MS_filename'].tolist()))\n",
    "print('Files in Batch 6:',len(p06_files))"
   ]
  },
  {
   "cell_type": "markdown",
   "metadata": {},
   "source": [
    "##### P01 - P06"
   ]
  },
  {
   "cell_type": "code",
   "execution_count": 11,
   "metadata": {},
   "outputs": [
    {
     "name": "stdout",
     "output_type": "stream",
     "text": [
      "Total files to be processed: 7276\n"
     ]
    }
   ],
   "source": [
    "sample_keys = p02_files + p03_files + p04_files + p05_files + p06_files\n",
    "sample_keys = [x.lower() for x in sample_keys]\n",
    "print('Total files to be processed:',len(sample_keys))"
   ]
  },
  {
   "cell_type": "markdown",
   "metadata": {},
   "source": [
    "##### Reconciliation between sample keys and processing folder"
   ]
  },
  {
   "cell_type": "code",
   "execution_count": 12,
   "metadata": {},
   "outputs": [
    {
     "name": "stdout",
     "output_type": "stream",
     "text": [
      "Number of files in processing folder: 7743\n"
     ]
    }
   ],
   "source": [
    "processing_files = pd.read_csv('Generate_sample_mapping/E0022_processing_folder_080721.txt', header=None)[0].tolist()\n",
    "processing_files = [x.replace('.wiff.dia','').lower() for x in processing_files]\n",
    "print('Number of files in processing folder:',len(processing_files))"
   ]
  },
  {
   "cell_type": "code",
   "execution_count": 13,
   "metadata": {},
   "outputs": [],
   "source": [
    "p02_files_to_exclude = [x.lower() for x in p02_files_to_exclude if str(x) != 'nan']\n",
    "p03_files_to_exclude = [x.lower() for x in p03_files_to_exclude if str(x) != 'nan']\n",
    "p04_files_to_exclude = [x.lower() for x in p04_files_to_exclude if str(x) != 'nan']\n",
    "p05_files_to_exclude = [x.lower() for x in p05_files_to_exclude if str(x) != 'nan']\n",
    "p06_files_to_exclude = [x.lower() for x in p06_files_to_exclude if str(x) != 'nan']\n",
    "files_to_exclude = list(set(p02_files_to_exclude + p03_files_to_exclude + p04_files_to_exclude + p05_files_to_exclude + p06_files_to_exclude))"
   ]
  },
  {
   "cell_type": "code",
   "execution_count": 14,
   "metadata": {
    "scrolled": false
   },
   "outputs": [
    {
     "name": "stdout",
     "output_type": "stream",
     "text": [
      "180914_e0022_p02_hek_h002_s_m06_1\n",
      "180914_e0022_p02_hek_h002_s_m06_2\n",
      "180914_e0022_p02_hek_h002_s_m06_3\n",
      "\n",
      "Number of files in processing folder that aren't captured in the Sanger list for processing: 472\n"
     ]
    }
   ],
   "source": [
    "num = 0\n",
    "for x in processing_files:\n",
    "    if x not in sample_keys:\n",
    "        if x not in files_to_exclude and '-k_' not in x:\n",
    "            print(x)\n",
    "        else:\n",
    "            num += 1\n",
    "print('\\nNumber of files in processing folder that aren\\'t captured in the Sanger list for processing:',num)\n",
    "\n",
    "# HEK file mismatch is due to space that has since been removed, this is accounted for later in Notebook"
   ]
  },
  {
   "cell_type": "code",
   "execution_count": 15,
   "metadata": {},
   "outputs": [
    {
     "name": "stdout",
     "output_type": "stream",
     "text": [
      "180914_e0022_p02_ hek_h002 _s_m06_1\n",
      "180914_e0022_p02_ hek_h002 _s_m06_2\n",
      "180914_e0022_p02_ hek_h002 _s_m06_3\n",
      "190714_8730_005re_00ewg_m04_s_1\n",
      "190715_5650_00840_00exs_m03_s_1\n",
      "190730_8916_00ejc_00feh_m03_s_1\n",
      "191030_b4-t1-16_00jr1_00l2t_m05_s_1\n",
      "191123_b24-t1-16_00jzx_00mt7_m06_s_1\n",
      "\n",
      "Number of files in Sanger list that aren't in the processing folder: 8\n"
     ]
    }
   ],
   "source": [
    "num = 0\n",
    "for x in sample_keys:\n",
    "    if x not in processing_files:\n",
    "        print(x)\n",
    "        num += 1\n",
    "print('\\nNumber of files in Sanger list that aren\\'t in the processing folder:',num)\n",
    "\n",
    "# First 3 files are the HEK files described above\n",
    "# Last 5 files were small / empty and therefore were discarded, this is accounted for later in Notebook"
   ]
  },
  {
   "cell_type": "code",
   "execution_count": 16,
   "metadata": {},
   "outputs": [
    {
     "data": {
      "text/plain": [
       "472"
      ]
     },
     "execution_count": 16,
     "metadata": {},
     "output_type": "execute_result"
    }
   ],
   "source": [
    "7743 - (7276 - 5)"
   ]
  },
  {
   "cell_type": "markdown",
   "metadata": {},
   "source": [
    "### Generate run info"
   ]
  },
  {
   "cell_type": "code",
   "execution_count": 17,
   "metadata": {},
   "outputs": [],
   "source": [
    "def get_naming_dictionaries(input_file):\n",
    "    dict_lims_to_code = pd.read_excel(input_file, sheet_name='Prep')[['Original_code','LIMS_ID1']].drop_duplicates().set_index('LIMS_ID1').dropna()\n",
    "    dict_lims_to_code['Original_code'] = dict_lims_to_code['Original_code'].astype(str)\n",
    "    dict_lims_to_code['Original_code'] = dict_lims_to_code['Original_code'].str.replace('\\.0','')\n",
    "    dict_lims_to_code = dict_lims_to_code.to_dict()['Original_code']\n",
    "    return dict_lims_to_code"
   ]
  },
  {
   "cell_type": "markdown",
   "metadata": {},
   "source": [
    "##### P02"
   ]
  },
  {
   "cell_type": "code",
   "execution_count": 18,
   "metadata": {},
   "outputs": [],
   "source": [
    "p02_run_info = df_p02.set_index('Automatic_MS_filename')[lambda x: (x.File_QC_check == 'Processing') & (x.Acq_Type == 'S')]\n",
    "p02_run_info.index = p02_run_info.index.str.lower()\n",
    "p02_run_info = p02_run_info[lambda x: x.index.isin(sample_keys)][['General_sample_info','Date run','MS_used','Replicate']]\n",
    "p02_run_info['Date'] = pd.to_datetime(p02_run_info['Date run'])\n",
    "p02_run_info = p02_run_info.drop('Date run', axis=1)\n",
    "p02_run_info['Batch'] = 'P02'"
   ]
  },
  {
   "cell_type": "code",
   "execution_count": 19,
   "metadata": {},
   "outputs": [],
   "source": [
    "p02_run_info[['Code','Replicate']] = p02_run_info['General_sample_info'].str.split('_', expand=True)\n",
    "p02_run_info.loc[p02_run_info[lambda x: x.Code == '8070'].index.tolist(),'Code'] = '3337' # Checked, per spreadsheet documentation\n",
    "p02_run_info = p02_run_info.drop('General_sample_info', axis=1)\n",
    "p02_run_info['Daisy_chain'] = 'No'"
   ]
  },
  {
   "cell_type": "markdown",
   "metadata": {},
   "source": [
    "##### P03"
   ]
  },
  {
   "cell_type": "code",
   "execution_count": 20,
   "metadata": {},
   "outputs": [],
   "source": [
    "p03_run_info = df_p03.set_index('Automatic_MS_filename')[lambda x: (x.File_QC_check == 'Processing') & (x.Acq_Type == 'S')]\n",
    "p03_run_info.index = p03_run_info.index.str.lower()\n",
    "p03_run_info = p03_run_info[lambda x: x.index.isin(sample_keys)][['LIMS-ID1','Date run','MS_used','Replicate']]\n",
    "p03_run_info['Batch'] = 'P03'\n",
    "p03_run_info.loc['190820_hek-qcs_000f2_00gz3_m05_s_1','MS_used'] = 'M04'# Checked, per correspondence with Peter"
   ]
  },
  {
   "cell_type": "code",
   "execution_count": 21,
   "metadata": {},
   "outputs": [],
   "source": [
    "p03_lims_to_code = get_naming_dictionaries('Generate_sample_mapping/E0022_P03_TA.xlsx')"
   ]
  },
  {
   "cell_type": "markdown",
   "metadata": {},
   "source": [
    "##### P04"
   ]
  },
  {
   "cell_type": "code",
   "execution_count": 22,
   "metadata": {},
   "outputs": [],
   "source": [
    "p04_run_info = df_p04.set_index('Automatic_MS_filename')[lambda x: (x.File_QC_check == 'Processing') & (x.Acq_Type == 'S')]\n",
    "p04_run_info.index = p04_run_info.index.str.lower()\n",
    "p04_run_info = p04_run_info[lambda x: x.index.isin(sample_keys)][['LIMS-ID1','Date run','MS_used','Replicate']]\n",
    "p04_run_info['Batch'] = 'P04'"
   ]
  },
  {
   "cell_type": "code",
   "execution_count": 23,
   "metadata": {},
   "outputs": [],
   "source": [
    "p04_lims_to_code = get_naming_dictionaries('Generate_sample_mapping/E0022_P04_TA.xlsx')\n",
    "DC_dict_P04 = pd.read_excel('Generate_sample_mapping/E0022_P04_TA.xlsx', sheet_name='Sanger_info')[['Pellet Count', 'Cell ID Used']].dropna()\n",
    "DC_dict_P04['Pellet Count'] = DC_dict_P04['Pellet Count'].astype(str)\n",
    "DC_dict_P04['Cell ID Used'] = DC_dict_P04['Cell ID Used'].astype(str)\n",
    "DC_dict_P04 = DC_dict_P04[lambda x: x['Pellet Count'].str.contains('DC-P0')].set_index('Pellet Count').to_dict()['Cell ID Used']"
   ]
  },
  {
   "cell_type": "markdown",
   "metadata": {},
   "source": [
    "##### P05"
   ]
  },
  {
   "cell_type": "code",
   "execution_count": 24,
   "metadata": {},
   "outputs": [],
   "source": [
    "p05_run_info = df_p05.set_index('Automatic_MS_filename')[lambda x: (x.File_QC_check == 'Processing') & (x.Acq_Type == 'S')]\n",
    "p05_run_info.index = p05_run_info.index.str.lower()\n",
    "p05_run_info = p05_run_info[lambda x: x.index.isin(sample_keys)][['LIMS-ID1','Date run','MS_used','Replicate']]\n",
    "p05_run_info['Batch'] = 'P05'"
   ]
  },
  {
   "cell_type": "code",
   "execution_count": 25,
   "metadata": {},
   "outputs": [],
   "source": [
    "p05_lims_to_code = get_naming_dictionaries('Generate_sample_mapping/E0022_P05_TA.xlsx')\n",
    "DC_dict_P05 = pd.read_excel('Generate_sample_mapping/E0022_P05_TA.xlsx', sheet_name='Sanger_info')[['Unnamed: 12', 'Cell ID Used']].dropna()\n",
    "DC_dict_P05['Unnamed: 12'] = DC_dict_P05['Unnamed: 12'].astype(str)\n",
    "DC_dict_P05['Cell ID Used'] = DC_dict_P05['Cell ID Used'].astype(str)\n",
    "DC_dict_P05 = DC_dict_P05[lambda x: x['Unnamed: 12'].str.contains('DC-P0')].set_index('Unnamed: 12').to_dict()['Cell ID Used']"
   ]
  },
  {
   "cell_type": "markdown",
   "metadata": {},
   "source": [
    "##### P06"
   ]
  },
  {
   "cell_type": "code",
   "execution_count": 26,
   "metadata": {},
   "outputs": [],
   "source": [
    "p06_run_info = df_p06.set_index('Automatic_MS_filename')[lambda x: (x.File_QC_check == 'Processing') & (x.Acq_Type == 'S')]\n",
    "p06_run_info.index = p06_run_info.index.str.lower()\n",
    "p06_run_info = p06_run_info[lambda x: x.index.isin(sample_keys)][['LIMS-ID1','Date run','MS_used','Replicate']]\n",
    "p06_run_info['Batch'] = 'P06'"
   ]
  },
  {
   "cell_type": "code",
   "execution_count": 27,
   "metadata": {},
   "outputs": [],
   "source": [
    "p06_lims_to_code = get_naming_dictionaries('Generate_sample_mapping/E0022_P06_TA.xlsx')\n",
    "DC_dict_P06 = pd.read_excel('Generate_sample_mapping/E0022_P06_TA.xlsx', sheet_name='Sample_info')[['Batch.1', 'Cell ID Used']].dropna()\n",
    "DC_dict_P06['Batch.1'] = DC_dict_P06['Batch.1'].astype(str)\n",
    "DC_dict_P06['Cell ID Used'] = DC_dict_P06['Cell ID Used'].astype(str)\n",
    "DC_dict_P06 = DC_dict_P06[lambda x: x['Batch.1'].str.contains('DC-P0')].set_index('Batch.1').to_dict()['Cell ID Used']"
   ]
  },
  {
   "cell_type": "markdown",
   "metadata": {},
   "source": [
    "##### P03 - P06"
   ]
  },
  {
   "cell_type": "code",
   "execution_count": 28,
   "metadata": {},
   "outputs": [],
   "source": [
    "p3to6_run_info = pd.concat([p03_run_info, p04_run_info, p05_run_info, p06_run_info])\n",
    "master_lims_to_code = dict(p03_lims_to_code)\n",
    "master_lims_to_code.update(p04_lims_to_code)\n",
    "master_lims_to_code.update(p05_lims_to_code)\n",
    "master_lims_to_code.update(p06_lims_to_code)\n",
    "del master_lims_to_code[np.nan]\n",
    "p3to6_run_info['Code'] = p3to6_run_info['LIMS-ID1'].map(master_lims_to_code)\n",
    "p3to6_run_info['Daisy_chain'] = 'No'\n",
    "p3to6_run_info.loc[p3to6_run_info[lambda x: x.Code.str.contains('E0022-P02-')].index.tolist(),'Daisy_chain'] = 'Yes'\n",
    "p3to6_run_info.loc[p3to6_run_info[lambda x: x.Code.str.contains('DC-P0')].index.tolist(),'Daisy_chain'] = 'Yes'\n",
    "p3to6_run_info['Code'] = p3to6_run_info['Code'].str.replace('E0022-P02-','')"
   ]
  },
  {
   "cell_type": "code",
   "execution_count": 29,
   "metadata": {},
   "outputs": [],
   "source": [
    "DC_dict = dict(DC_dict_P04)\n",
    "DC_dict.update(DC_dict_P05)\n",
    "DC_dict.update(DC_dict_P06)\n",
    "dc_files = p3to6_run_info[lambda x: x.Code.str.contains('DC-')].index.tolist()\n",
    "for file in dc_files:\n",
    "    p3to6_run_info.loc[file,'Code'] = str(int(float(DC_dict[p3to6_run_info.loc[file,'Code']])))"
   ]
  },
  {
   "cell_type": "markdown",
   "metadata": {},
   "source": [
    "### Compile sample map"
   ]
  },
  {
   "cell_type": "markdown",
   "metadata": {},
   "source": [
    "##### Assign samples to remove"
   ]
  },
  {
   "cell_type": "code",
   "execution_count": 30,
   "metadata": {},
   "outputs": [],
   "source": [
    "cell_lines_to_remove = [\n",
    "    'GT3TKB', #removed from the core set\n",
    "    'HCC-56', #removed from the core set (sent in Batch 1 but not repeated in Batch 5)\n",
    "    'BB49-HNC', #failed SNP status test\n",
    "    'NCI-H1395', #failed SNP status test\n",
    "    'M14', #failed SNP status test\n",
    "    'CMK', #failed SNP status test\n",
    "    'HPAF-II', #failed SNP status test\n",
    "    'CL-34', #failed SNP status test\n",
    "    'BICR10', #failed SNP status test\n",
    "    'A101D', #failed SNP status test\n",
    "    'NCI-H630', #removed from ATCC since contaminated\n",
    "    'SU-DHL-5' #all cell pellets processed poorly\n",
    "]\n",
    "\n",
    "slow_growing_cell_lines = [\n",
    "    'CHP-134', #confirmed by Sanger\n",
    "    'CP67-MEL', #confirmed by Sanger\n",
    "    'EHEB', #confirmed by Sanger\n",
    "    'HCC202', #confirmed by Sanger\n",
    "    'NCI-H128', #confirmed by Sanger\n",
    "    'NCI-H187', #confirmed by Sanger\n",
    "    'NCI-H2196', #confirmed by Sanger\n",
    "    'RERF-LC-FM', #confirmed by Sanger\n",
    "    'RPMI-2650', #confirmed by Sanger\n",
    "    'SK-MEL-31' #confirmed by Sanger\n",
    "]"
   ]
  },
  {
   "cell_type": "markdown",
   "metadata": {},
   "source": [
    "##### Generate sample map"
   ]
  },
  {
   "cell_type": "code",
   "execution_count": 31,
   "metadata": {},
   "outputs": [],
   "source": [
    "df_sample_map = pd.concat([p02_run_info, p3to6_run_info], sort=True)"
   ]
  },
  {
   "cell_type": "markdown",
   "metadata": {},
   "source": [
    "##### Get cell line names"
   ]
  },
  {
   "cell_type": "code",
   "execution_count": 32,
   "metadata": {},
   "outputs": [
    {
     "name": "stdout",
     "output_type": "stream",
     "text": [
      "Imported master dataset for # samples: 1032\n"
     ]
    }
   ],
   "source": [
    "sample_sheet = pd.read_excel('Generate_sample_mapping/samplesheet_Apr19.xlsx')[['Cell Line Name','Cell ID Used']]\n",
    "p05_sample_sheet = pd.read_excel('Generate_sample_mapping/Copy of Copy of Proteomics_Batch5_details_Jun2019.xlsx')[['Cell Line Name','Cell ID Used']]\n",
    "p06_sample_sheet = pd.read_excel('Generate_sample_mapping/Copy of Copy of Proteomics_Batch6_details_Dec2019.xlsx')[['Cell Line Name','Cell ID Used']]\n",
    "\n",
    "master_sample_sheet = pd.concat([sample_sheet,p05_sample_sheet, p06_sample_sheet])\n",
    "master_sample_sheet = master_sample_sheet[lambda x: ~x['Cell ID Used'].isna()]\n",
    "master_sample_sheet['Cell ID Used'] = master_sample_sheet['Cell ID Used'].astype(int).astype(str)\n",
    "master_sample_sheet = master_sample_sheet[lambda x: ~x['Cell Line Name'].isin(slow_growing_cell_lines)]\n",
    "\n",
    "dict_code_to_name = master_sample_sheet.set_index('Cell ID Used').to_dict()['Cell Line Name']\n",
    "dict_code_to_name['5911'] = 'LS1034' # Checked\n",
    "print('Imported master dataset for # samples:', master_sample_sheet.shape[0])"
   ]
  },
  {
   "cell_type": "code",
   "execution_count": 33,
   "metadata": {},
   "outputs": [
    {
     "name": "stdout",
     "output_type": "stream",
     "text": [
      "5911   LS-1034   LS1034\n"
     ]
    }
   ],
   "source": [
    "# Checking cell line name mapping with another dataset\n",
    "check_dict = pd.read_excel('Generate_sample_mapping/Proteomics_SNP_19Feb20.xlsx', sheet_name='Full List')[['Cell ID Used','Cell Line Name']]\n",
    "check_dict['Cell ID Used'] = check_dict['Cell ID Used'].astype(str)\n",
    "check_dict = check_dict.set_index('Cell ID Used').to_dict()['Cell Line Name']\n",
    "for val in dict_code_to_name:\n",
    "    if val in list(df_sample_map['Code'].unique()):\n",
    "        if dict_code_to_name[val] != check_dict[val]:\n",
    "            print(val,' ',check_dict[val],' ',dict_code_to_name[val])\n",
    "# Known mismatch in LS-1034 / LS1034            "
   ]
  },
  {
   "cell_type": "code",
   "execution_count": 34,
   "metadata": {},
   "outputs": [],
   "source": [
    "df_sample_map['Cell_line'] = df_sample_map['Code'].map(dict_code_to_name)"
   ]
  },
  {
   "cell_type": "markdown",
   "metadata": {},
   "source": [
    "##### Remove cell lines that had failed STR profiling as at 080721"
   ]
  },
  {
   "cell_type": "code",
   "execution_count": 35,
   "metadata": {},
   "outputs": [
    {
     "name": "stdout",
     "output_type": "stream",
     "text": [
      "Number of cell lines profiled: 995\n",
      "Number of cell lines discarded: 37\n",
      "Number of cell lines kept: 958\n"
     ]
    }
   ],
   "source": [
    "df_str = pd.read_excel('Generate_sample_mapping/STR_profiling_results_annotated.xlsx')\n",
    "str_discard = df_str[lambda x: x.DIANN == 'Discard']['Cell Name'].unique().tolist()\n",
    "str_keep = df_str[lambda x: x.DIANN == 'Keep']['Cell Name'].unique().tolist()\n",
    "\n",
    "print('Number of cell lines profiled:',len(df_str['Cell Name'].tolist()))\n",
    "print('Number of cell lines discarded:', len(str_discard))\n",
    "print('Number of cell lines kept:', len(str_keep))\n",
    "\n",
    "# Note that STR profiling results do include duplicates!"
   ]
  },
  {
   "cell_type": "code",
   "execution_count": 36,
   "metadata": {},
   "outputs": [
    {
     "data": {
      "text/plain": [
       "995"
      ]
     },
     "execution_count": 36,
     "metadata": {},
     "output_type": "execute_result"
    }
   ],
   "source": [
    "37 + 958"
   ]
  },
  {
   "cell_type": "code",
   "execution_count": 37,
   "metadata": {
    "scrolled": true
   },
   "outputs": [
    {
     "name": "stdout",
     "output_type": "stream",
     "text": [
      "NCI-H1417 [55ng/ul]\n",
      "OCI-AML-3\n",
      "ST-486\n",
      "VM-CUB-1**\n"
     ]
    }
   ],
   "source": [
    "curr_cell_line = df_sample_map[lambda x: ~x.Cell_line.isna()]['Cell_line'].unique().tolist()\n",
    "for x in str_discard:\n",
    "    if x not in curr_cell_line:\n",
    "        print(x)"
   ]
  },
  {
   "cell_type": "code",
   "execution_count": 38,
   "metadata": {},
   "outputs": [
    {
     "data": {
      "text/plain": [
       "[]"
      ]
     },
     "execution_count": 38,
     "metadata": {},
     "output_type": "execute_result"
    }
   ],
   "source": [
    "str_discard.remove('NCI-H1417 [55ng/ul]')\n",
    "str_discard.remove('OCI-AML-3')\n",
    "str_discard.remove('ST-486')\n",
    "str_discard.remove('VM-CUB-1**')\n",
    "\n",
    "str_discard.append('NCI-H1417') # Checked\n",
    "str_discard.append('OCI-AML3') # Checked\n",
    "str_discard.append('ST486') # Checked\n",
    "str_discard.append('VM-CUB-1') # Checked\n",
    "\n",
    "str_discard = list(set(str_discard))\n",
    "\n",
    "[x for x in str_discard if x not in curr_cell_line]"
   ]
  },
  {
   "cell_type": "code",
   "execution_count": 39,
   "metadata": {},
   "outputs": [],
   "source": [
    "df_sample_map = df_sample_map[lambda x: ~x['Cell_line'].isin(str_discard)]"
   ]
  },
  {
   "cell_type": "markdown",
   "metadata": {},
   "source": [
    "##### Remove pre-defined cell lines and duplicate runs"
   ]
  },
  {
   "cell_type": "code",
   "execution_count": 40,
   "metadata": {},
   "outputs": [],
   "source": [
    "df_sample_map = df_sample_map[lambda x: ~x['Cell_line'].isin(cell_lines_to_remove)]"
   ]
  },
  {
   "cell_type": "code",
   "execution_count": 41,
   "metadata": {},
   "outputs": [],
   "source": [
    "P02_cell_lines_that_were_rerun = ['K-562', 'MFH-ino', 'ML-2', 'MONO-MAC-6', 'NCI-H1355', 'TK10', 'VM-CUB-1'] # Checked empirically that these cells were run in P02 and P05\n",
    "rerun_files_to_remove = df_sample_map[lambda x: (x.Cell_line.isin(P02_cell_lines_that_were_rerun) & (x.Batch == 'P02'))].index.tolist()\n",
    "df_sample_map = df_sample_map[lambda x: ~x.index.isin(rerun_files_to_remove)]"
   ]
  },
  {
   "cell_type": "markdown",
   "metadata": {},
   "source": [
    "##### Get cell line metadata"
   ]
  },
  {
   "cell_type": "code",
   "execution_count": 42,
   "metadata": {},
   "outputs": [],
   "source": [
    "model_list = pd.read_csv('Generate_sample_mapping/model_list_20200204.csv')[lambda x: x['model_type'] == 'Cell Line']\n",
    "model_list.loc[model_list[lambda x: x.model_name == 'SC-1'].index.tolist()[0],'model_name'] = 'Sci-1' # Checked, confirmed by email from Sanger\n",
    "model_list = model_list[lambda x: ~x.model_name.isin(cell_lines_to_remove)]\n",
    "model_dict = model_list.set_index('model_name').to_dict()"
   ]
  },
  {
   "cell_type": "code",
   "execution_count": 43,
   "metadata": {},
   "outputs": [],
   "source": [
    "df_sample_map['SIDM'] = df_sample_map['Cell_line'].map(model_dict['model_id'])"
   ]
  },
  {
   "cell_type": "code",
   "execution_count": 44,
   "metadata": {},
   "outputs": [
    {
     "name": "stdout",
     "output_type": "stream",
     "text": [
      "SIDM, full list: 1780\n",
      "SIDM, duplicates removed: 1780\n",
      "\n",
      "Cell line name, full list: 1780\n",
      "Cell line name, duplicates removed: 1778\n",
      "\n",
      "Cell lines with duplicate names but different SIDM:\n",
      "MS-1\n",
      "ML-1\n"
     ]
    }
   ],
   "source": [
    "# Check SIDM and cell line name mapping\n",
    "tmp_df = pd.read_csv('Generate_sample_mapping/model_list_20200204.csv')\n",
    "\n",
    "print('SIDM, full list:',len(tmp_df['model_id'].tolist()))\n",
    "print('SIDM, duplicates removed:',len(tmp_df['model_id'].unique().tolist()))\n",
    "print('\\nCell line name, full list:',len(tmp_df['model_name'].tolist()))\n",
    "print('Cell line name, duplicates removed:',len(tmp_df['model_name'].unique().tolist()))\n",
    "\n",
    "print('\\nCell lines with duplicate names but different SIDM:')\n",
    "curr_list = tmp_df['model_name'].tolist()\n",
    "set_curr_list = set(curr_list)\n",
    "for x in set_curr_list:\n",
    "    if curr_list.count(x) > 1:\n",
    "        print(x)"
   ]
  },
  {
   "cell_type": "code",
   "execution_count": 45,
   "metadata": {},
   "outputs": [
    {
     "data": {
      "text/plain": [
       "['SIDM00442']"
      ]
     },
     "execution_count": 45,
     "metadata": {},
     "output_type": "execute_result"
    }
   ],
   "source": [
    "df_sample_map[lambda x: x.Cell_line == 'ML-1']['SIDM'].unique().tolist() # Should be SIDM00442 per Samplesheet_Apr19_1001_cell_lines.xlsx"
   ]
  },
  {
   "cell_type": "code",
   "execution_count": 46,
   "metadata": {},
   "outputs": [
    {
     "data": {
      "text/plain": [
       "['SIDM00245']"
      ]
     },
     "execution_count": 46,
     "metadata": {},
     "output_type": "execute_result"
    }
   ],
   "source": [
    "df_sample_map[lambda x: x.Cell_line == 'MS-1']['SIDM'].unique().tolist() # Should be SIDM00245 per Samplesheet_Apr19_1001_cell_lines.xlsx"
   ]
  },
  {
   "cell_type": "markdown",
   "metadata": {},
   "source": [
    "##### Annotate HEK files"
   ]
  },
  {
   "cell_type": "code",
   "execution_count": 47,
   "metadata": {},
   "outputs": [],
   "source": [
    "hek_files = df_sample_map[lambda x: (x.Cell_line.isna()) & (x.Code.str.contains('HEK'))].index.tolist()\n",
    "h002_hek = df_sample_map.loc[hek_files][lambda x: (x.Code.str.contains('H002')) | (x.index.str.contains('h002'))].index.tolist()\n",
    "h003_hek = df_sample_map.loc[hek_files][lambda x: x.Code.str.contains('H003')].index.tolist()\n",
    "lys_hek = [x for x in hek_files if x not in h002_hek and x not in h003_hek]\n",
    "df_sample_map.loc[h002_hek,'Cell_line'] = 'Control_HEK293T_std_H002'\n",
    "df_sample_map.loc[h003_hek,'Cell_line'] = 'Control_HEK293T_std_H003'\n",
    "df_sample_map.loc[lys_hek,'Cell_line'] = 'Control_HEK293T_lys'\n",
    "df_sample_map.loc[hek_files] = df_sample_map.loc[hek_files].replace(np.nan,'Control_HEK293T')"
   ]
  },
  {
   "cell_type": "code",
   "execution_count": 48,
   "metadata": {},
   "outputs": [],
   "source": [
    "# Manually correct this labelling error by Proteomics team # Checked\n",
    "df_sample_map.loc['190618_hek-qcs_008sv_00c68_m02_s_1','Code'] = 'HEK'\n",
    "df_sample_map.loc['190618_hek-qcs_008sv_00c68_m02_s_1','Daisy_chain'] = 'No'\n",
    "df_sample_map.loc['190618_hek-qcs_008sv_00c68_m02_s_1','Cell_line'] = 'Control_HEK293T_std_H002'\n",
    "df_sample_map.loc['190618_hek-qcs_008sv_00c68_m02_s_1','SIDM'] = 'Control_HEK293T'"
   ]
  },
  {
   "cell_type": "markdown",
   "metadata": {},
   "source": [
    "##### Assign replicate numbers"
   ]
  },
  {
   "cell_type": "code",
   "execution_count": 49,
   "metadata": {
    "scrolled": true
   },
   "outputs": [],
   "source": [
    "reps = df_sample_map[lambda x: ~x.Cell_line.str.contains('Control_HEK293T') & (x.Batch != 'P02')].reset_index()[['Cell_line','LIMS-ID1']].drop_duplicates()\n",
    "for cell_line in reps['Cell_line'].unique().tolist():\n",
    "    num = 0\n",
    "    for lims_id in reps[lambda x: x.Cell_line == cell_line]['LIMS-ID1'].unique().tolist():\n",
    "        num += 1\n",
    "        for file in df_sample_map[lambda x: (x['Cell_line'] == cell_line) & (x['LIMS-ID1'] == lims_id) & (x.Daisy_chain == 'No')].index.tolist():\n",
    "            df_sample_map.loc[file,'Replicate'] = num\n",
    "final_hek_files = df_sample_map[lambda x: x.SIDM == 'Control_HEK293T'].index.tolist()\n",
    "df_sample_map.loc[final_hek_files,'Replicate'] = 1"
   ]
  },
  {
   "cell_type": "markdown",
   "metadata": {},
   "source": [
    "##### Get proteomic metadata"
   ]
  },
  {
   "cell_type": "code",
   "execution_count": 50,
   "metadata": {},
   "outputs": [],
   "source": [
    "df_sample_map['Date'] = df_sample_map.index\n",
    "df_sample_map[['Date','Other']] = df_sample_map['Date'].str.split('_', 1, expand=True)\n",
    "df_sample_map['Date'] = df_sample_map['Date'].astype(str)\n",
    "df_sample_map['Year'] = df_sample_map['Date'].str[:2]\n",
    "df_sample_map['Month'] = df_sample_map['Date'].str[2:4]\n",
    "df_sample_map['Day'] = df_sample_map['Date'].str[-2:]\n",
    "df_sample_map['Date'] = df_sample_map['Day']+'/'+df_sample_map['Month']+'/20'+df_sample_map['Year']\n",
    "df_sample_map['Date'] = pd.to_datetime(df_sample_map['Date'], dayfirst=True)\n",
    "df_sample_map = df_sample_map.drop(['Other','LIMS-ID1','Date run','Year','Month','Day'], axis=1)\n",
    "df_sample_map = df_sample_map.rename(columns={'MS_used':'Instrument'})"
   ]
  },
  {
   "cell_type": "code",
   "execution_count": 51,
   "metadata": {},
   "outputs": [
    {
     "name": "stdout",
     "output_type": "stream",
     "text": [
      "Number of cell lines in analysis: 950\n"
     ]
    }
   ],
   "source": [
    "actual_cell_lines = df_sample_map[lambda x: ~x['Cell_line'].str.contains('Control_HEK293T')]['Cell_line'].unique().tolist()\n",
    "print('Number of cell lines in analysis:', len(actual_cell_lines))"
   ]
  },
  {
   "cell_type": "code",
   "execution_count": 52,
   "metadata": {
    "scrolled": false
   },
   "outputs": [
    {
     "data": {
      "text/plain": [
       "Batch          0\n",
       "Code           0\n",
       "Daisy_chain    0\n",
       "Date           0\n",
       "Instrument     0\n",
       "Replicate      0\n",
       "Cell_line      0\n",
       "SIDM           0\n",
       "dtype: int64"
      ]
     },
     "execution_count": 52,
     "metadata": {},
     "output_type": "execute_result"
    }
   ],
   "source": [
    "df_sample_map.isna().sum()"
   ]
  },
  {
   "cell_type": "markdown",
   "metadata": {},
   "source": [
    "##### Reconciliation with master list of cell lines"
   ]
  },
  {
   "cell_type": "code",
   "execution_count": 53,
   "metadata": {},
   "outputs": [
    {
     "name": "stdout",
     "output_type": "stream",
     "text": [
      "Number of cell lines in master list: 1001\n"
     ]
    }
   ],
   "source": [
    "master_list_1001 = pd.read_excel('Generate_sample_mapping/Samplesheet_Apr19_1001_cell_lines.xlsx', sheet_name='Sheet1')['Cell Line Name'].unique().tolist()\n",
    "master_list_1001.remove('SC-1') # Checked, per email confirmation from Sanger\n",
    "master_list_1001.append('Sci-1') # Checked, per email confirmation from Sanger\n",
    "master_list_1001.remove('KO52') # Checked, per email confirmation from Sanger\n",
    "master_list_1001.append('K052') # Checked, per email confirmation from Sanger\n",
    "master_list_1001.remove('LS-1034') # Checked, matches SIDM\n",
    "master_list_1001.append('LS1034') # Checked, matches SIDM\n",
    "print('Number of cell lines in master list:',len(master_list_1001))"
   ]
  },
  {
   "cell_type": "code",
   "execution_count": 54,
   "metadata": {},
   "outputs": [],
   "source": [
    "for x in master_list_1001:\n",
    "    if x not in actual_cell_lines and x not in cell_lines_to_remove and x not in slow_growing_cell_lines:\n",
    "        if x not in str_discard:\n",
    "            print(x)"
   ]
  },
  {
   "cell_type": "code",
   "execution_count": 55,
   "metadata": {},
   "outputs": [],
   "source": [
    "for x in actual_cell_lines:\n",
    "    if x not in master_list_1001:\n",
    "        print(x)"
   ]
  },
  {
   "cell_type": "code",
   "execution_count": 56,
   "metadata": {},
   "outputs": [
    {
     "name": "stdout",
     "output_type": "stream",
     "text": [
      "Number of cell lines to remove (various reasons): 12\n",
      "Number of slow-growing cell lines: 10\n",
      "Number of cells that failed STR profiling but not previously accounted for: 29\n"
     ]
    }
   ],
   "source": [
    "print('Number of cell lines to remove (various reasons):',len(cell_lines_to_remove))\n",
    "print('Number of slow-growing cell lines:',len(slow_growing_cell_lines))\n",
    "print('Number of cells that failed STR profiling but not previously accounted for:',len([x for x in str_discard if x not in cell_lines_to_remove]))"
   ]
  },
  {
   "cell_type": "code",
   "execution_count": 57,
   "metadata": {},
   "outputs": [],
   "source": [
    "# Total set = 1001\n",
    "# Minus 12 from cell_lines_to_remove (SNP status failure or poor quality)\n",
    "# Minus 10 from slow_growing_cell_lines\n",
    "# Minus 29 from str_discard (but not in cell_lines_to_remove)\n",
    "# Equals 950 cell lines in final set"
   ]
  },
  {
   "cell_type": "code",
   "execution_count": 58,
   "metadata": {
    "scrolled": true
   },
   "outputs": [
    {
     "data": {
      "text/plain": [
       "950"
      ]
     },
     "execution_count": 58,
     "metadata": {},
     "output_type": "execute_result"
    }
   ],
   "source": [
    "1001 - 12 - 10 - 29"
   ]
  },
  {
   "cell_type": "code",
   "execution_count": 59,
   "metadata": {},
   "outputs": [
    {
     "data": {
      "text/html": [
       "<div>\n",
       "<style scoped>\n",
       "    .dataframe tbody tr th:only-of-type {\n",
       "        vertical-align: middle;\n",
       "    }\n",
       "\n",
       "    .dataframe tbody tr th {\n",
       "        vertical-align: top;\n",
       "    }\n",
       "\n",
       "    .dataframe thead th {\n",
       "        text-align: right;\n",
       "    }\n",
       "</style>\n",
       "<table border=\"1\" class=\"dataframe\">\n",
       "  <thead>\n",
       "    <tr style=\"text-align: right;\">\n",
       "      <th></th>\n",
       "      <th>Cell_line</th>\n",
       "      <th>SIDM</th>\n",
       "      <th>Check_SIDM</th>\n",
       "    </tr>\n",
       "    <tr>\n",
       "      <th>Automatic_MS_filename</th>\n",
       "      <th></th>\n",
       "      <th></th>\n",
       "      <th></th>\n",
       "    </tr>\n",
       "  </thead>\n",
       "  <tbody>\n",
       "    <tr>\n",
       "      <th>190907_b22-t1-10_00dc0_00i2l_m02_s_1</th>\n",
       "      <td>LS1034</td>\n",
       "      <td>SIDM00681</td>\n",
       "      <td>LS-1034</td>\n",
       "    </tr>\n",
       "    <tr>\n",
       "      <th>191105_b18-t1-6_00jwz_00ll3_m05_s_1</th>\n",
       "      <td>K052</td>\n",
       "      <td>SIDM00018</td>\n",
       "      <td>KO52</td>\n",
       "    </tr>\n",
       "    <tr>\n",
       "      <th>200124_b5-10-t1-1_00q46_00qm8_m03_s_1</th>\n",
       "      <td>Sci-1</td>\n",
       "      <td>SIDM00400</td>\n",
       "      <td>SC-1</td>\n",
       "    </tr>\n",
       "  </tbody>\n",
       "</table>\n",
       "</div>"
      ],
      "text/plain": [
       "                                      Cell_line       SIDM Check_SIDM\n",
       "Automatic_MS_filename                                                \n",
       "190907_b22-t1-10_00dc0_00i2l_m02_s_1     LS1034  SIDM00681    LS-1034\n",
       "191105_b18-t1-6_00jwz_00ll3_m05_s_1        K052  SIDM00018       KO52\n",
       "200124_b5-10-t1-1_00q46_00qm8_m03_s_1     Sci-1  SIDM00400       SC-1"
      ]
     },
     "execution_count": 59,
     "metadata": {},
     "output_type": "execute_result"
    }
   ],
   "source": [
    "# Check SIDM again\n",
    "tmp_df = pd.read_excel('Generate_sample_mapping/Samplesheet_Apr19_1001_cell_lines.xlsx')[lambda x: ~x['Cell_Line_Master::SIDM'].isna()]\n",
    "curr_dict = tmp_df.set_index('Cell_Line_Master::SIDM').to_dict()['Cell Line Name']\n",
    "curr_df = df_sample_map[lambda x: ~x.Cell_line.str.contains('Control_HEK293T')][['Cell_line','SIDM']].drop_duplicates()\n",
    "curr_df['Check_SIDM'] = curr_df['SIDM'].map(curr_dict)\n",
    "curr_df[lambda x: x.Cell_line != x.Check_SIDM]\n",
    "# These cell lines are known name differences noted above, therefore SIDM mapping is okay"
   ]
  },
  {
   "cell_type": "markdown",
   "metadata": {},
   "source": [
    "### Check numbers of replicates for each cell line"
   ]
  },
  {
   "cell_type": "markdown",
   "metadata": {},
   "source": [
    "##### Biological replicates"
   ]
  },
  {
   "cell_type": "code",
   "execution_count": 60,
   "metadata": {},
   "outputs": [
    {
     "data": {
      "image/png": "[encoded data removed]",
      "text/plain": [
       "<Figure size 432x288 with 1 Axes>"
      ]
     },
     "metadata": {},
     "output_type": "display_data"
    },
    {
     "data": {
      "text/html": [
       "<div>\n",
       "<style scoped>\n",
       "    .dataframe tbody tr th:only-of-type {\n",
       "        vertical-align: middle;\n",
       "    }\n",
       "\n",
       "    .dataframe tbody tr th {\n",
       "        vertical-align: top;\n",
       "    }\n",
       "\n",
       "    .dataframe thead th {\n",
       "        text-align: right;\n",
       "    }\n",
       "</style>\n",
       "<table border=\"1\" class=\"dataframe\">\n",
       "  <thead>\n",
       "    <tr style=\"text-align: right;\">\n",
       "      <th></th>\n",
       "      <th>Rep</th>\n",
       "    </tr>\n",
       "    <tr>\n",
       "      <th>Cell_line</th>\n",
       "      <th></th>\n",
       "    </tr>\n",
       "  </thead>\n",
       "  <tbody>\n",
       "    <tr>\n",
       "      <th>A431</th>\n",
       "      <td>2</td>\n",
       "    </tr>\n",
       "    <tr>\n",
       "      <th>BICR22</th>\n",
       "      <td>2</td>\n",
       "    </tr>\n",
       "    <tr>\n",
       "      <th>CHSA8926</th>\n",
       "      <td>2</td>\n",
       "    </tr>\n",
       "    <tr>\n",
       "      <th>ES6</th>\n",
       "      <td>2</td>\n",
       "    </tr>\n",
       "    <tr>\n",
       "      <th>MOLM-13</th>\n",
       "      <td>2</td>\n",
       "    </tr>\n",
       "    <tr>\n",
       "      <th>NCI-H1650</th>\n",
       "      <td>2</td>\n",
       "    </tr>\n",
       "    <tr>\n",
       "      <th>TMK-1</th>\n",
       "      <td>2</td>\n",
       "    </tr>\n",
       "  </tbody>\n",
       "</table>\n",
       "</div>"
      ],
      "text/plain": [
       "           Rep\n",
       "Cell_line     \n",
       "A431         2\n",
       "BICR22       2\n",
       "CHSA8926     2\n",
       "ES6          2\n",
       "MOLM-13      2\n",
       "NCI-H1650    2\n",
       "TMK-1        2"
      ]
     },
     "execution_count": 60,
     "metadata": {},
     "output_type": "execute_result"
    }
   ],
   "source": [
    "df_rep_bio = df_sample_map[lambda x: (x.Daisy_chain == 'No') & (~x.Cell_line.str.contains('Control_HEK293T'))][['Cell_line','Replicate']].groupby(['Cell_line','Replicate']).size().to_frame('Rep')\n",
    "df_rep_bio = df_rep_bio.reset_index().groupby('Cell_line').size().to_frame('Rep')\n",
    "plot = sns.distplot(df_rep_bio['Rep'], kde=False, color='blue')\n",
    "plot.set_xlim(0,15)\n",
    "plot.set_xlabel('Biological replicates', weight='bold')\n",
    "plot.set_ylabel('Frequency', weight='bold')\n",
    "plot.set_title('Biological replicates per cell line', weight='bold', fontsize=14)\n",
    "counts = df_rep_bio.groupby('Rep').size().to_frame('Count')\n",
    "for p in counts.index.tolist():\n",
    "    plot.text(p, counts.loc[p,'Count'], counts.loc[p,'Count'], ha='center', weight='bold')\n",
    "plt.show()\n",
    "df_rep_bio.to_csv('Generate_sample_mapping/E0022_biological_replicates_per_cell_line.txt', sep='\\t')\n",
    "df_rep_bio[lambda x: x.Rep != 3]"
   ]
  },
  {
   "cell_type": "markdown",
   "metadata": {},
   "source": [
    "These samples each had a dodgy cell pellet that we have decided not to re-source. Analysis will be completed with only 2 biological replicates. "
   ]
  },
  {
   "cell_type": "markdown",
   "metadata": {},
   "source": [
    "##### Technical replicates"
   ]
  },
  {
   "cell_type": "code",
   "execution_count": 61,
   "metadata": {},
   "outputs": [
    {
     "data": {
      "image/png": "[encoded data removed]",
      "text/plain": [
       "<Figure size 432x288 with 1 Axes>"
      ]
     },
     "metadata": {},
     "output_type": "display_data"
    },
    {
     "data": {
      "text/html": [
       "<div>\n",
       "<style scoped>\n",
       "    .dataframe tbody tr th:only-of-type {\n",
       "        vertical-align: middle;\n",
       "    }\n",
       "\n",
       "    .dataframe tbody tr th {\n",
       "        vertical-align: top;\n",
       "    }\n",
       "\n",
       "    .dataframe thead th {\n",
       "        text-align: right;\n",
       "    }\n",
       "</style>\n",
       "<table border=\"1\" class=\"dataframe\">\n",
       "  <thead>\n",
       "    <tr style=\"text-align: right;\">\n",
       "      <th></th>\n",
       "      <th></th>\n",
       "      <th>Rep</th>\n",
       "    </tr>\n",
       "    <tr>\n",
       "      <th>Cell_line</th>\n",
       "      <th>Replicate</th>\n",
       "      <th></th>\n",
       "    </tr>\n",
       "  </thead>\n",
       "  <tbody>\n",
       "    <tr>\n",
       "      <th>J82</th>\n",
       "      <th>3</th>\n",
       "      <td>1</td>\n",
       "    </tr>\n",
       "    <tr>\n",
       "      <th>NCI-H1341</th>\n",
       "      <th>3</th>\n",
       "      <td>1</td>\n",
       "    </tr>\n",
       "    <tr>\n",
       "      <th>NCI-H2818</th>\n",
       "      <th>3</th>\n",
       "      <td>1</td>\n",
       "    </tr>\n",
       "  </tbody>\n",
       "</table>\n",
       "</div>"
      ],
      "text/plain": [
       "                     Rep\n",
       "Cell_line Replicate     \n",
       "J82       3            1\n",
       "NCI-H1341 3            1\n",
       "NCI-H2818 3            1"
      ]
     },
     "execution_count": 61,
     "metadata": {},
     "output_type": "execute_result"
    }
   ],
   "source": [
    "df_rep_tech = df_sample_map[lambda x: (x.Daisy_chain == 'No') & (~x.Cell_line.str.contains('Control_HEK293T'))][['Cell_line','Replicate']].groupby(['Cell_line','Replicate']).size().to_frame('Rep')\n",
    "plot = sns.distplot(df_rep_tech['Rep'], kde=False, color='blue')\n",
    "plot.set_xlim(0,15)\n",
    "plot.set_xlabel('Technical replicates', weight='bold')\n",
    "plot.set_ylabel('Frequency', weight='bold')\n",
    "plot.set_title('Technical replicates per cell line', weight='bold', fontsize=14)\n",
    "counts = df_rep_tech.groupby('Rep').size().to_frame('Count')\n",
    "for p in counts.index.tolist():\n",
    "    plot.text(p, counts.loc[p,'Count'], counts.loc[p,'Count'], ha='center', weight='bold')\n",
    "plt.show()\n",
    "df_rep_tech.to_csv('Generate_sample_mapping/E0022_technical_replicates_per_cell_line.txt', sep='\\t')\n",
    "df_rep_tech[lambda x: x.Rep != 2]"
   ]
  },
  {
   "cell_type": "markdown",
   "metadata": {},
   "source": [
    "Despite getting one good MS run from a cell pellet of each of these samples, we couldn't get a second good one. We have decided not to re-source."
   ]
  },
  {
   "cell_type": "markdown",
   "metadata": {},
   "source": [
    "### Finalise dataset according to SWON"
   ]
  },
  {
   "cell_type": "code",
   "execution_count": 62,
   "metadata": {},
   "outputs": [],
   "source": [
    "empty_files = [ \n",
    "    '190714_8730_005re_00ewg_m04_s_1',\n",
    "    '190715_5650_00840_00exs_m03_s_1',\n",
    "    '190730_8916_00ejc_00feh_m03_s_1',\n",
    "    '191030_b4-t1-16_00jr1_00l2t_m05_s_1',\n",
    "    '191123_b24-t1-16_00jzx_00mt7_m06_s_1'\n",
    "] # Confirmed by Michael Hecker on 080721 as empty or very small\n",
    "df_sample_map = df_sample_map[lambda x: ~x.index.isin(empty_files)]"
   ]
  },
  {
   "cell_type": "code",
   "execution_count": 63,
   "metadata": {},
   "outputs": [],
   "source": [
    "files_with_spaces_that_caused_problems = [\n",
    "'180914_e0022_p02_ hek_h002 _s_m06_1',\n",
    "'180914_e0022_p02_ hek_h002 _s_m06_2',\n",
    "'180914_e0022_p02_ hek_h002 _s_m06_3']\n",
    "for file in files_with_spaces_that_caused_problems:\n",
    "    df_sample_map.index = df_sample_map.index.str.replace(file,file.replace(' ',''))"
   ]
  },
  {
   "cell_type": "code",
   "execution_count": 64,
   "metadata": {},
   "outputs": [],
   "source": [
    "df_sample_map.to_csv('Generate_sample_mapping/E0022_P06_sample_map.txt', sep='\\t')"
   ]
  },
  {
   "cell_type": "markdown",
   "metadata": {},
   "source": [
    "### Sample mapping stats"
   ]
  },
  {
   "cell_type": "code",
   "execution_count": 65,
   "metadata": {},
   "outputs": [
    {
     "name": "stdout",
     "output_type": "stream",
     "text": [
      "Number of non-HEK cell lines analysed: 950\n"
     ]
    }
   ],
   "source": [
    "print('Number of non-HEK cell lines analysed:',len([x for x in df_sample_map['Cell_line'].unique().tolist() if 'Control_HEK293T' not in x]))"
   ]
  },
  {
   "cell_type": "code",
   "execution_count": 66,
   "metadata": {},
   "outputs": [
    {
     "data": {
      "image/png": "[encoded data removed]",
      "text/plain": [
       "<Figure size 432x288 with 1 Axes>"
      ]
     },
     "metadata": {},
     "output_type": "display_data"
    }
   ],
   "source": [
    "plot = sns.barplot(x='Instrument', y='Count', data=df_sample_map.groupby('Instrument').size().to_frame('Count').reset_index(), hue='Instrument', palette=instrument_colours, dodge=False)\n",
    "plot.legend_.remove()\n",
    "plot.set_xlabel('Instrument used', weight='bold')\n",
    "plot.set_ylabel('Frequency', weight='bold')\n",
    "plt.show()"
   ]
  },
  {
   "cell_type": "code",
   "execution_count": 67,
   "metadata": {},
   "outputs": [],
   "source": [
    "df_sample_map = pd.read_csv('Generate_sample_mapping/E0022_P06_sample_map.txt', sep='\\t').set_index('Automatic_MS_filename')"
   ]
  },
  {
   "cell_type": "code",
   "execution_count": 68,
   "metadata": {},
   "outputs": [],
   "source": [
    "df_sample_map['Date'] = df_sample_map['Date'].apply(pd.to_datetime)"
   ]
  },
  {
   "cell_type": "code",
   "execution_count": 69,
   "metadata": {
    "scrolled": false
   },
   "outputs": [
    {
     "data": {
      "image/png": "[encoded data removed]",
      "text/plain": [
       "<Figure size 1008x288 with 1 Axes>"
      ]
     },
     "metadata": {},
     "output_type": "display_data"
    }
   ],
   "source": [
    "curr_df = df_sample_map.copy()\n",
    "curr_df['Batch'] = curr_df['Batch'].str.replace('P0','')\n",
    "curr_df['Batch'] = curr_df['Batch'].astype(float)\n",
    "fig = plt.figure(figsize=[14,4])\n",
    "for batch in df_sample_map['Batch'].unique().tolist():\n",
    "    plot = sns.scatterplot(x='Date', y='Batch', data=curr_df[lambda x: x.Batch == int(batch.replace('P0',''))][lambda x: x.Daisy_chain == 'No'], palette=instrument_colours, hue='Instrument', marker='|', s=700)\n",
    "    plot = sns.scatterplot(x='Date', y='Batch', data=curr_df[lambda x: x.Batch == int(batch.replace('P0',''))][lambda x: x.Daisy_chain == 'Yes'], color='grey', edgecolor='black', marker='.', s=100)\n",
    "plot.set_xlim(pd.Timestamp('2018-08-01'),pd.Timestamp('2020-02-01'))\n",
    "plot.set_xlabel('Date', weight='bold')\n",
    "plot.set_ylabel('Batch', weight='bold')\n",
    "plot.set_yticklabels(['','P02','P03','P04','P05','P06'])\n",
    "plot.set_ylim(1,7)\n",
    "plot.legend_.remove()\n",
    "plot.text(0.915,0.4, 'Grey dots indicate\\ndaisy-chain samples\\nfrom the previous batch', transform=plt.gcf().transFigure)\n",
    "plt.legend(instrument_patch, list(instrument_colours.keys()), frameon=False, bbox_to_anchor=[1.02,1])\n",
    "plt.show()"
   ]
  },
  {
   "cell_type": "code",
   "execution_count": 70,
   "metadata": {},
   "outputs": [
    {
     "data": {
      "image/png": "[encoded data removed]",
      "text/plain": [
       "<Figure size 1008x288 with 1 Axes>"
      ]
     },
     "metadata": {},
     "output_type": "display_data"
    }
   ],
   "source": [
    "curr_df = df_sample_map.copy()\n",
    "curr_df['Instrument'] = curr_df['Instrument'].str.replace('M0','')\n",
    "curr_df['Instrument'] = curr_df['Instrument'].astype(float)\n",
    "fig = plt.figure(figsize=[14,4])\n",
    "for instrument in df_sample_map['Instrument'].unique().tolist():\n",
    "    plot = sns.scatterplot(x='Date', y='Instrument', data=curr_df[lambda x: x.Instrument == int(instrument.replace('M0',''))][lambda x: x.Daisy_chain == 'No'], palette=batch_colours, hue='Batch', marker='|', s=700)\n",
    "    plot = sns.scatterplot(x='Date', y='Instrument', data=curr_df[lambda x: x.Instrument == int(instrument.replace('M0',''))][lambda x: x.Daisy_chain == 'Yes'], color='grey', edgecolor='black', marker='.', s=100)\n",
    "plot.set_xlim(pd.Timestamp('2018-08-01'),pd.Timestamp('2020-02-01'))\n",
    "plot.set_xlabel('Date', weight='bold')\n",
    "plot.set_ylabel('Instrument', weight='bold')\n",
    "plot.set_yticklabels(['','M01','M02','M03','M04','M05','M06'])\n",
    "plot.set_ylim(0,7)\n",
    "plot.legend_.remove()\n",
    "plot.text(0.915,0.4, 'Grey dots indicate\\ndaisy-chain samples\\nfrom the previous batch', transform=plt.gcf().transFigure)\n",
    "plt.legend(batch_patch, list(batch_colours.keys()), frameon=False, bbox_to_anchor=[1.1,1])\n",
    "plt.show()"
   ]
  },
  {
   "cell_type": "markdown",
   "metadata": {},
   "source": [
    "##### Compare with OSW mapping"
   ]
  },
  {
   "cell_type": "code",
   "execution_count": 71,
   "metadata": {},
   "outputs": [],
   "source": [
    "df_sample_map = pd.read_csv('Generate_sample_mapping/E0022_P06_sample_map.txt', sep='\\t').set_index('Automatic_MS_filename')\n",
    "curr = pd.read_csv('Generate_sample_mapping/OSW-version_E0022_P06_sample_map.txt', sep='\\t').set_index('Automatic_MS_filename')"
   ]
  },
  {
   "cell_type": "code",
   "execution_count": 72,
   "metadata": {},
   "outputs": [],
   "source": [
    "old_run_files_now_excluded = []\n",
    "for x in curr.index.tolist():\n",
    "    if x not in df_sample_map.index.tolist():\n",
    "        old_run_files_now_excluded.append(x)\n",
    "        \n",
    "new_files_not_run_before = []\n",
    "for x in df_sample_map.index.tolist():\n",
    "    if x not in curr.index.tolist():\n",
    "        new_files_not_run_before.append(x)"
   ]
  },
  {
   "cell_type": "code",
   "execution_count": 73,
   "metadata": {},
   "outputs": [],
   "source": [
    "excluded_cell_lines = curr.loc[old_run_files_now_excluded]['Cell_line'].unique().tolist()\n",
    "for x in excluded_cell_lines:\n",
    "    if x not in str_discard:\n",
    "        print(x)"
   ]
  },
  {
   "cell_type": "code",
   "execution_count": 74,
   "metadata": {},
   "outputs": [
    {
     "data": {
      "text/html": [
       "<div>\n",
       "<style scoped>\n",
       "    .dataframe tbody tr th:only-of-type {\n",
       "        vertical-align: middle;\n",
       "    }\n",
       "\n",
       "    .dataframe tbody tr th {\n",
       "        vertical-align: top;\n",
       "    }\n",
       "\n",
       "    .dataframe thead th {\n",
       "        text-align: right;\n",
       "    }\n",
       "</style>\n",
       "<table border=\"1\" class=\"dataframe\">\n",
       "  <thead>\n",
       "    <tr style=\"text-align: right;\">\n",
       "      <th></th>\n",
       "      <th>Batch</th>\n",
       "      <th>Code</th>\n",
       "      <th>Daisy_chain</th>\n",
       "      <th>Date</th>\n",
       "      <th>Instrument</th>\n",
       "      <th>Replicate</th>\n",
       "      <th>Cell_line</th>\n",
       "      <th>SIDM</th>\n",
       "    </tr>\n",
       "    <tr>\n",
       "      <th>Automatic_MS_filename</th>\n",
       "      <th></th>\n",
       "      <th></th>\n",
       "      <th></th>\n",
       "      <th></th>\n",
       "      <th></th>\n",
       "      <th></th>\n",
       "      <th></th>\n",
       "      <th></th>\n",
       "    </tr>\n",
       "  </thead>\n",
       "  <tbody>\n",
       "    <tr>\n",
       "      <th>191012_b44-t1-4_00dlm_00jhh_m03_s_1</th>\n",
       "      <td>P04</td>\n",
       "      <td>7089</td>\n",
       "      <td>No</td>\n",
       "      <td>2019-10-12</td>\n",
       "      <td>M03</td>\n",
       "      <td>1.0</td>\n",
       "      <td>NCI-H1755</td>\n",
       "      <td>SIDM00738</td>\n",
       "    </tr>\n",
       "    <tr>\n",
       "      <th>191012_b44-t1-5_00dln_00jhi_m03_s_1</th>\n",
       "      <td>P04</td>\n",
       "      <td>2415</td>\n",
       "      <td>No</td>\n",
       "      <td>2019-10-12</td>\n",
       "      <td>M03</td>\n",
       "      <td>1.0</td>\n",
       "      <td>K5</td>\n",
       "      <td>SIDM00056</td>\n",
       "    </tr>\n",
       "  </tbody>\n",
       "</table>\n",
       "</div>"
      ],
      "text/plain": [
       "                                    Batch  Code Daisy_chain        Date  \\\n",
       "Automatic_MS_filename                                                     \n",
       "191012_b44-t1-4_00dlm_00jhh_m03_s_1   P04  7089          No  2019-10-12   \n",
       "191012_b44-t1-5_00dln_00jhi_m03_s_1   P04  2415          No  2019-10-12   \n",
       "\n",
       "                                    Instrument  Replicate  Cell_line  \\\n",
       "Automatic_MS_filename                                                  \n",
       "191012_b44-t1-4_00dlm_00jhh_m03_s_1        M03        1.0  NCI-H1755   \n",
       "191012_b44-t1-5_00dln_00jhi_m03_s_1        M03        1.0         K5   \n",
       "\n",
       "                                          SIDM  \n",
       "Automatic_MS_filename                           \n",
       "191012_b44-t1-4_00dlm_00jhh_m03_s_1  SIDM00738  \n",
       "191012_b44-t1-5_00dln_00jhi_m03_s_1  SIDM00056  "
      ]
     },
     "execution_count": 74,
     "metadata": {},
     "output_type": "execute_result"
    }
   ],
   "source": [
    "df_sample_map.loc[new_files_not_run_before] # These files failed TOFFEE conversion but look okay for DIANN so are now in the dataset\n",
    "# Checked with MH on 090721"
   ]
  },
  {
   "cell_type": "code",
   "execution_count": 75,
   "metadata": {
    "scrolled": true
   },
   "outputs": [
    {
     "name": "stdout",
     "output_type": "stream",
     "text": [
      "190618_hek-qcs_008sv_00c68_m02_s_1 Code HEK 3383\n",
      "190618_hek-qcs_008sv_00c68_m02_s_1 Daisy_chain No Yes\n",
      "190618_hek-qcs_008sv_00c68_m02_s_1 Cell_line Control_HEK293T_std_H002 NCI-H526\n",
      "190618_hek-qcs_008sv_00c68_m02_s_1 SIDM Control_HEK293T SIDM01128\n"
     ]
    }
   ],
   "source": [
    "common_files = [x for x in df_sample_map.index.tolist() if x in curr.index.tolist()]\n",
    "df_1 = df_sample_map.loc[common_files]\n",
    "df_2 = curr.loc[common_files][['Batch','Code','Daisy_chain','Date','Instrument','Replicate','Cell_line','SIDM']]\n",
    "for x in df_1.index.tolist():\n",
    "    for y in df_1.columns.tolist():\n",
    "        if df_1.loc[x,y] != df_2.loc[x,y]:\n",
    "            print(x,y,df_1.loc[x,y], df_2.loc[x,y])\n",
    "# Known differences due to labelling mixup that is corrected above"
   ]
  },
  {
   "cell_type": "code",
   "execution_count": 76,
   "metadata": {},
   "outputs": [
    {
     "data": {
      "text/plain": [
       "(6981, 8)"
      ]
     },
     "execution_count": 76,
     "metadata": {},
     "output_type": "execute_result"
    }
   ],
   "source": [
    "df_sample_map.shape"
   ]
  }
 ],
 "metadata": {
  "kernelspec": {
   "display_name": "Python 3",
   "language": "python",
   "name": "python3"
  },
  "language_info": {
   "codemirror_mode": {
    "name": "ipython",
    "version": 3
   },
   "file_extension": ".py",
   "mimetype": "text/x-python",
   "name": "python",
   "nbconvert_exporter": "python",
   "pygments_lexer": "ipython3",
   "version": "3.8.8"
  }
 },
 "nbformat": 4,
 "nbformat_minor": 2
}
