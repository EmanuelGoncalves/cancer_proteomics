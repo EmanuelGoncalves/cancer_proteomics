{
 "cells": [
  {
   "cell_type": "markdown",
   "metadata": {},
   "source": [
    "# E0022_P06_Generate-final-datasets"
   ]
  },
  {
   "cell_type": "markdown",
   "metadata": {},
   "source": [
    "Completed by Rebecca Poulos."
   ]
  },
  {
   "cell_type": "markdown",
   "metadata": {},
   "source": [
    "Checked on 08/04/2020."
   ]
  },
  {
   "cell_type": "code",
   "execution_count": 1,
   "metadata": {},
   "outputs": [],
   "source": [
    "source_folder = '/Users/rpoulos/Documents/E0022_Project/E0022_github_source_folder/'"
   ]
  },
  {
   "cell_type": "markdown",
   "metadata": {},
   "source": [
    "### Import libraries"
   ]
  },
  {
   "cell_type": "code",
   "execution_count": 3,
   "metadata": {},
   "outputs": [],
   "source": [
    "import pandas as pd\n",
    "import numpy as np\n",
    "from numpy import array\n",
    "import scipy.stats\n",
    "import random\n",
    "from random import shuffle\n",
    "import seaborn as sns\n",
    "import matplotlib\n",
    "import matplotlib.pyplot as plt\n",
    "from matplotlib.patches import PathPatch\n",
    "from matplotlib import gridspec\n",
    "from matplotlib import mlab\n",
    "from matplotlib.ticker import ScalarFormatter\n",
    "import matplotlib.patheffects as PathEffects\n",
    "import sklearn\n",
    "from sklearn.decomposition import PCA\n",
    "from sklearn.manifold import TSNE\n",
    "from sklearn.preprocessing import StandardScaler\n",
    "from sklearn.linear_model import LinearRegression\n",
    "from sklearn.metrics import mean_squared_error, r2_score,  mean_absolute_error\n",
    "from sklearn.model_selection import train_test_split\n",
    "from sklearn.neural_network import MLPRegressor as mlpr\n",
    "from sklearn.linear_model import Lasso as lasso\n",
    "from sklearn.model_selection import GridSearchCV\n",
    "from sklearn.metrics.pairwise import nan_euclidean_distances\n",
    "# from Bio import SeqIO\n",
    "from matplotlib.patches import Patch\n",
    "from datetime import datetime\n",
    "import datetime as dt\n",
    "from sklearn.manifold import MDS\n",
    "from sklearn import linear_model\n",
    "import itertools"
   ]
  },
  {
   "cell_type": "code",
   "execution_count": 4,
   "metadata": {},
   "outputs": [],
   "source": [
    "matplotlib.rcParams['pdf.fonttype'] = 42\n",
    "matplotlib.rcParams['ps.fonttype'] = 42\n",
    "sns.set(style='white', font_scale=1)"
   ]
  },
  {
   "cell_type": "code",
   "execution_count": 5,
   "metadata": {},
   "outputs": [],
   "source": [
    "outline_props = dict(color='black',linewidth=1)"
   ]
  },
  {
   "cell_type": "markdown",
   "metadata": {},
   "source": [
    "### Import sample mapping"
   ]
  },
  {
   "cell_type": "code",
   "execution_count": 6,
   "metadata": {},
   "outputs": [
    {
     "name": "stdout",
     "output_type": "stream",
     "text": [
      "Number of MS files in study: 7116\n"
     ]
    }
   ],
   "source": [
    "df_sample_map = pd.read_csv('E0022_P06_final_sample_map.txt', sep='\\t').set_index('Automatic_MS_filename')\n",
    "dict_sample_map = df_sample_map.to_dict()\n",
    "print('Number of MS files in study:',len(df_sample_map))"
   ]
  },
  {
   "cell_type": "code",
   "execution_count": 7,
   "metadata": {},
   "outputs": [
    {
     "name": "stdout",
     "output_type": "stream",
     "text": [
      "Number of cell lines in study: 979\n"
     ]
    }
   ],
   "source": [
    "df_cell_map = df_sample_map.drop(['Batch','Code','Daisy_chain','Date','Instrument','Replicate'], axis=1).drop_duplicates().set_index('Cell_line')\n",
    "dict_cell_map = df_cell_map.to_dict()\n",
    "print('Number of cell lines in study:',len(df_cell_map[lambda x: ~x.index.str.contains('Control_HEK293T')]))"
   ]
  },
  {
   "cell_type": "markdown",
   "metadata": {},
   "source": [
    "### Import raw peptide data matrix"
   ]
  },
  {
   "cell_type": "code",
   "execution_count": 9,
   "metadata": {},
   "outputs": [],
   "source": [
    "df_pept_raw = pd.read_csv(source_folder+'E0022_P06_raw_peptide_matrix.csv.gz')\n",
    "df_pept_raw = df_pept_raw.rename(columns={'Unnamed: 0':'index'}).set_index('index').transpose().reset_index().rename(columns={'index':'Identifier'}).set_index('Identifier').transpose()\n",
    "df_pept_raw = df_pept_raw.loc[df_sample_map.index.tolist()].apply(np.log2)"
   ]
  },
  {
   "cell_type": "markdown",
   "metadata": {},
   "source": [
    "### Identify shared peptides"
   ]
  },
  {
   "cell_type": "code",
   "execution_count": null,
   "metadata": {},
   "outputs": [],
   "source": [
    "peptide_dict = {}\n",
    "peptide_list = df_pept_raw.columns.tolist()\n",
    "mod_peptide_list = []\n",
    "for peptide in peptide_list:\n",
    "    curr_peptide = peptide.split('=')[2]\n",
    "    mod_peptide = curr_peptide.replace('I','X')\n",
    "    mod_peptide = mod_peptide.replace('L','X')\n",
    "    peptide_dict[peptide] = [curr_peptide, mod_peptide]\n",
    "    mod_peptide_list.append(mod_peptide)\n",
    "bad_peptides = list(set([x for x in mod_peptide_list if mod_peptide_list.count(x) > 1]))\n",
    "print('Number of common peptides to be discarded due to I/L problem:',len(bad_peptides))\n",
    "peptides_to_remove = []\n",
    "for peptide in peptide_dict:\n",
    "    for bad_peptide in bad_peptides:\n",
    "        if bad_peptide in peptide_dict[peptide]:\n",
    "            peptides_to_remove.append(peptide)\n",
    "peptides_to_remove = list(set(peptides_to_remove))\n",
    "print('Total number of peptides to be discarded due to I/L problem:',len(peptides_to_remove))"
   ]
  },
  {
   "cell_type": "markdown",
   "metadata": {},
   "source": [
    "### Generate peptide datasets"
   ]
  },
  {
   "cell_type": "code",
   "execution_count": null,
   "metadata": {},
   "outputs": [],
   "source": [
    "def finalise_peptide_dataset(dtaframe, output_file):\n",
    "    dtaframe = dtaframe[[x for x in dtaframe.columns.tolist() if x not in peptides_to_remove]]\n",
    "#     dtaframe.to_csv(source_folder+'final_datasets_080420/'+output_file, sep='\\t', compression='gzip')\n",
    "    print('Number of samples: ',dtaframe.shape[0])\n",
    "    print('Number of peptides: ',dtaframe.shape[1])\n",
    "    print('Missing values (%): ',format(dtaframe.isna().sum().sum()/dtaframe.size*100,'.2f'))\n",
    "    return dtaframe"
   ]
  },
  {
   "cell_type": "code",
   "execution_count": null,
   "metadata": {},
   "outputs": [],
   "source": [
    "def generate_peptide_datasets(input_dtaframe, output_diffacto_file):\n",
    "    protein_df = input_dtaframe.transpose().reset_index()\n",
    "    protein_df[['Protein','Peptide','ModPeptide']] = protein_df['Identifier'].str.split('=',expand=True)\n",
    "    protein_df = protein_df.drop(['Identifier','ModPeptide'],axis=1).set_index('Protein').reset_index().set_index('Peptide').reset_index().rename(columns={'Peptide':'','Protein':''})\n",
    "    protein_df.to_csv(source_folder+'final_datasets_080420/'+output_diffacto_file,index=False)"
   ]
  },
  {
   "cell_type": "markdown",
   "metadata": {},
   "source": [
    "##### Finalise raw peptide matrix"
   ]
  },
  {
   "cell_type": "code",
   "execution_count": 10,
   "metadata": {},
   "outputs": [
    {
     "name": "stdout",
     "output_type": "stream",
     "text": [
      "Number of samples:  7116\n",
      "Number of peptides:  36834\n",
      "Missing values (%):  57.02\n"
     ]
    }
   ],
   "source": [
    "df_pept_raw = finalise_peptide_dataset(df_pept_raw, 'E0022_P06_Peptide_Matrix_Raw.tsv.gz')\n",
    "generate_peptide_datasets(df_pept_raw, 'Interim_E0022_P06_Peptide_Matrix_Raw_forDiffacto.txt')"
   ]
  },
  {
   "cell_type": "markdown",
   "metadata": {},
   "source": [
    "##### Import median normalised peptide matrix"
   ]
  },
  {
   "cell_type": "code",
   "execution_count": 11,
   "metadata": {},
   "outputs": [
    {
     "name": "stdout",
     "output_type": "stream",
     "text": [
      "Number of samples:  7116\n",
      "Number of peptides:  36834\n",
      "Missing values (%):  57.02\n"
     ]
    }
   ],
   "source": [
    "curr_df = df_pept_raw.transpose()\n",
    "overall_median = np.log2(curr_df.median().mean())\n",
    "med_norm_vals = curr_df.apply(np.log2).median()-overall_median\n",
    "df_pept_median = curr_df.apply(np.log2).subtract(med_norm_vals).transpose()\n",
    "df_pept_median = finalise_peptide_dataset(df_pept_median, 'E0022_P06_Peptide_Matrix_Median.tsv.gz')\n",
    "generate_peptide_datasets(df_pept_median, 'Interim_E0022_P06_Peptide_Matrix_Median_forDiffacto.txt')"
   ]
  },
  {
   "cell_type": "markdown",
   "metadata": {},
   "source": [
    "##### Import peptide matrix after ProNorM"
   ]
  },
  {
   "cell_type": "code",
   "execution_count": 12,
   "metadata": {},
   "outputs": [
    {
     "name": "stdout",
     "output_type": "stream",
     "text": [
      "Number of samples:  7116\n",
      "Number of peptides:  36806\n",
      "Missing values (%):  56.99\n"
     ]
    }
   ],
   "source": [
    "df_pept = pd.read_csv(source_folder+'FromRUV_E0022_P06_dataset_normalised_k4_postqc.csv.gz')\n",
    "df_pept = df_pept.rename(columns={'Unnamed: 0':'index'}).set_index('index').transpose().reset_index().rename(columns={'index':'Identifier'}).set_index('Identifier').transpose().dropna(how='all',axis=1)\n",
    "df_pept = finalise_peptide_dataset(df_pept, 'E0022_P06_Peptide_Matrix_RUV.tsv.gz')\n",
    "generate_peptide_datasets(df_pept, 'Interim_E0022_P06_Peptide_Matrix_RUV_forDiffacto.txt')"
   ]
  },
  {
   "cell_type": "code",
   "execution_count": 13,
   "metadata": {},
   "outputs": [
    {
     "name": "stdout",
     "output_type": "stream",
     "text": [
      "Number of samples:  7116\n",
      "Number of peptides:  36806\n",
      "Missing values (%):  42.80\n"
     ]
    }
   ],
   "source": [
    "df_pept_TR = pd.read_csv(source_folder+'E0022_P06_ruv_k4_qc_techRep.csv.gz', sep='\\t')\n",
    "df_pept_TR = df_pept_TR.rename(columns={'Unnamed: 0':'index'}).set_index('index').transpose().reset_index().rename(columns={'index':'Identifier'}).set_index('Identifier').transpose().dropna(how='all',axis=1)\n",
    "df_pept_TR = finalise_peptide_dataset(df_pept_TR, 'E0022_P06_Peptide_Matrix_ProNorM.tsv.gz')\n",
    "generate_peptide_datasets(df_pept_TR, 'Interim_E0022_P06_Peptide_Matrix_TR_forDiffacto.txt')"
   ]
  },
  {
   "cell_type": "markdown",
   "metadata": {},
   "source": [
    "##### Identify peptides to exclude"
   ]
  },
  {
   "cell_type": "code",
   "execution_count": 14,
   "metadata": {},
   "outputs": [
    {
     "name": "stdout",
     "output_type": "stream",
     "text": [
      "Number of iRT peptides: 67\n",
      "Number of non-human peptides: 3\n"
     ]
    }
   ],
   "source": [
    "iRT_peptides = [x for x in df_pept_raw.columns.tolist() if 'RMIS' in x or 'Biognosys' in x]\n",
    "non_human_peptides = [x for x in df_pept_raw.columns.tolist() if x not in iRT_peptides and '_HUMAN' not in x]\n",
    "print('Number of iRT peptides:', len(iRT_peptides))\n",
    "print('Number of non-human peptides:', len(non_human_peptides))\n",
    "peptides_to_exclude = iRT_peptides+non_human_peptides\n",
    "pd.DataFrame(index=peptides_to_exclude).reset_index().to_csv(source_folder+'final_datasets_080420/E0022_P06_peptides_to_exclude.txt', index=False, header=None, sep='\\t')\n",
    "proteins_to_exclude = list(set([x.split('=')[0] for x in peptides_to_exclude]))"
   ]
  },
  {
   "cell_type": "markdown",
   "metadata": {},
   "source": [
    "### Run Diffacto"
   ]
  },
  {
   "cell_type": "markdown",
   "metadata": {},
   "source": [
    "Modify the file paths below as appropriate:\n",
    "\n",
    "python3 diffacto/diffacto.py -i source_folder+final_datasets_080420/Interim_E0022_P06_Peptide_Matrix_Raw_forDiffacto.txt -log2 True -impute_threshold 1.1 -out source_folder+final_datasets_080420/Interim_E0022_P06_Peptide_Matrix_Raw_fromDiffacto.tsv\n",
    "\n",
    "python3 diffacto/diffacto.py -i source_folder+final_datasets_080420/Interim_E0022_P06_Peptide_Matrix_Median_forDiffacto.txt -log2 True -impute_threshold 1.1 -out source_folder+final_datasets_080420/Interim_E0022_P06_Peptide_Matrix_Median_fromDiffacto.tsv\n",
    "\n",
    "python3 diffacto/diffacto.py -i source_folder+final_datasets_080420/Interim_E0022_P06_Peptide_Matrix_RUV_forDiffacto.txt -log2 True -impute_threshold 1.1 -out source_folder+final_datasets_080420/Interim_E0022_P06_Peptide_Matrix_RUV_fromDiffacto.tsv\n",
    "\n",
    "python3 diffacto/diffacto.py -i source_folder+final_datasets_080420/Interim_E0022_P06_Peptide_Matrix_TR_forDiffacto.txt -log2 True -impute_threshold 1.1 -out source_folder+final_datasets_080420/Interim_E0022_P06_Peptide_Matrix_TR_fromDiffacto.tsv"
   ]
  },
  {
   "cell_type": "markdown",
   "metadata": {},
   "source": [
    "### Generate protein datasets"
   ]
  },
  {
   "cell_type": "code",
   "execution_count": 15,
   "metadata": {},
   "outputs": [],
   "source": [
    "def import_protein_matrix(filename, title, num, peptide_matrix):\n",
    "    df_prot = pd.read_csv(filename, sep='\\t')\n",
    "    df_prot.loc[df_prot[lambda x: x['S/N'] == -np.inf].index.tolist(),'S/N'] = -200\n",
    "    threshold = -20\n",
    "    ax = fig.add_subplot(1,3,num)\n",
    "    plot = sns.distplot(df_prot['S/N'], color='blue', bins=100)\n",
    "    plot.axvline(x=threshold, linestyle='--', color='red', linewidth=2)\n",
    "    plot.set_xlabel('S/N', weight='bold')\n",
    "    plot.set_ylabel('Frequency', weight='bold')\n",
    "    plot.set_title(title, fontsize=14, weight='bold')\n",
    "    plot.set_xlim(-150,100)\n",
    "    df_prot = df_prot[lambda x: x['S/N'] > threshold]\n",
    "    df_prot = df_prot.drop(['N.Pept','Q.Pept','S/N','P(PECA)'], axis=1).set_index('Protein').transpose()\n",
    "    df_prot = df_prot[[x for x in df_prot.columns.tolist() if x not in proteins_to_exclude]]\n",
    "    plot.text(0.05,0.95, 'Proteins: '+str(df_prot.shape[1]), color='red', weight='bold', transform=plot.transAxes)\n",
    "    plot.text(0.05,0.9, 'S/N threshold: '+str(threshold), color='red', weight='bold', transform=plot.transAxes)\n",
    "    curr_df = peptide_matrix.transpose().reset_index()\n",
    "    curr_df[['Protein','Peptide','ModifiedPeptide']] = curr_df['Identifier'].str.split('=', expand=True)\n",
    "    curr_df = curr_df.drop(['Peptide','ModifiedPeptide','Identifier'],axis=1).groupby('Protein').count().transpose()[df_prot.columns.tolist()]\n",
    "    df_prot[curr_df == 1] = np.nan\n",
    "    df_prot.to_csv(source_folder+'final_datasets_080420/E0022_P06_Protein_Matrix_Replicate_'+title+'.tsv.gz', sep='\\t', compression='gzip')\n",
    "    df_prot_ave = df_prot.join(df_sample_map['Cell_line']).groupby('Cell_line').mean()\n",
    "    plot.text(0.05,0.85, 'Missing (%): '+format(df_prot_ave.isna().sum().sum()/df_prot_ave.size*100,'.2f'), color='red', weight='bold', transform=plot.transAxes)\n",
    "    plot.text(0.05,0.8, 'Total IDs: '+f'{(df_prot_ave.count().sum()):,}', color='red', weight='bold', transform=plot.transAxes)\n",
    "    df_prot_ave.to_csv(source_folder+'final_datasets_080420/E0022_P06_Protein_Matrix_'+title+'.tsv.gz', sep='\\t', compression='gzip')\n",
    "    return df_prot_ave"
   ]
  },
  {
   "cell_type": "code",
   "execution_count": 16,
   "metadata": {
    "scrolled": false
   },
   "outputs": [
    {
     "data": {
      "image/png": "[encoded data removed]",
      "text/plain": [
       "<Figure size 1152x432 with 3 Axes>"
      ]
     },
     "metadata": {},
     "output_type": "display_data"
    }
   ],
   "source": [
    "fig = plt.figure(figsize=[16,6])\n",
    "df_prot_raw = import_protein_matrix(source_folder+'final_datasets_080420/Interim_E0022_P06_Peptide_Matrix_Raw_fromDiffacto.tsv', 'Raw', 1, df_pept_raw)\n",
    "df_prot_median = import_protein_matrix(source_folder+'final_datasets_080420/Interim_E0022_P06_Peptide_Matrix_Median_fromDiffacto.tsv', 'Median', 2, df_pept_median)\n",
    "df_prot = import_protein_matrix(source_folder+'final_datasets_080420/Interim_E0022_P06_Peptide_Matrix_TR_fromDiffacto.tsv', 'ProNorM', 3, df_pept_TR)\n",
    "plt.show()"
   ]
  }
 ],
 "metadata": {
  "kernelspec": {
   "display_name": "Python 3",
   "language": "python",
   "name": "python3"
  },
  "language_info": {
   "codemirror_mode": {
    "name": "ipython",
    "version": 3
   },
   "file_extension": ".py",
   "mimetype": "text/x-python",
   "name": "python",
   "nbconvert_exporter": "python",
   "pygments_lexer": "ipython3",
   "version": "3.7.6"
  }
 },
 "nbformat": 4,
 "nbformat_minor": 2
}
