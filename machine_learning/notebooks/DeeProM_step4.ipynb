{
 "cells": [
  {
   "cell_type": "code",
   "execution_count": 77,
   "metadata": {
    "ExecuteTime": {
     "end_time": "2021-11-03T03:24:42.961282Z",
     "start_time": "2021-11-03T03:24:42.899797Z"
    }
   },
   "outputs": [],
   "source": [
    "import pandas as pd\n",
    "import numpy as np\n",
    "import seaborn as sns\n",
    "import matplotlib.pyplot as plt\n",
    "from scipy.stats import ttest_ind\n",
    "from sklearn.metrics import r2_score\n",
    "from scipy.stats import pearsonr, spearmanr\n",
    "import plotly.express as px\n",
    "import plotly.graph_objects as go\n",
    "import matplotlib.patches as mpatches\n",
    "from scipy.stats import ttest_ind, ttest_1samp, ttest_rel\n",
    "import matplotlib as mpl\n",
    "import umap\n",
    "from sklearn.decomposition import PCA\n",
    "from sklearn.manifold import TSNE\n",
    "from joblib import Parallel, delayed\n",
    "from tqdm.notebook import tqdm, trange\n",
    "import pickle\n",
    "import matplotlib.ticker as mtick\n",
    "import math\n",
    "from itertools import combinations\n",
    "import random\n",
    "from sklearn.linear_model import LinearRegression\n",
    "from qgrid import show_grid\n",
    "from statsmodels.stats.multitest import fdrcorrection, multipletests\n"
   ]
  },
  {
   "cell_type": "code",
   "execution_count": 78,
   "metadata": {
    "ExecuteTime": {
     "end_time": "2021-11-03T03:24:43.148941Z",
     "start_time": "2021-11-03T03:24:43.075406Z"
    }
   },
   "outputs": [],
   "source": [
    "plt.rcParams['font.family'] = 'Arial'\n",
    "# plt.rcParams[\"axes.labelweight\"] = \"bold\"\n",
    "# plt.rcParams['font.size'] = 18\n",
    "# plt.rcParams['axes.linewidth'] = 2\n",
    "plt.rcParams['figure.figsize'] = (10.0, 7.0)\n",
    "plt.rcParams['pdf.fonttype'] = 42\n",
    "plt.rcParams['ps.fonttype'] = 42\n",
    "sns.set_palette(\"Dark2\")\n",
    "plt.rcParams['figure.dpi'] = 200\n",
    "from crispy.CrispyPlot import CrispyPlot\n",
    "\n",
    "sns.set(\n",
    "    style=\"ticks\",\n",
    "    context=\"paper\",\n",
    "    font_scale=0.75,\n",
    "    font=\"Arial\",\n",
    "    rc=CrispyPlot.SNS_RC,\n",
    ")"
   ]
  },
  {
   "cell_type": "code",
   "execution_count": 79,
   "metadata": {
    "ExecuteTime": {
     "end_time": "2021-11-03T03:24:44.014669Z",
     "start_time": "2021-11-03T03:24:44.010651Z"
    }
   },
   "outputs": [],
   "source": [
    "seed = 42"
   ]
  },
  {
   "cell_type": "markdown",
   "metadata": {},
   "source": [
    "# load data"
   ]
  },
  {
   "cell_type": "code",
   "execution_count": 80,
   "metadata": {
    "ExecuteTime": {
     "end_time": "2021-11-03T03:24:49.100045Z",
     "start_time": "2021-11-03T03:24:46.420330Z"
    }
   },
   "outputs": [],
   "source": [
    "colour_list = pd.read_csv('../../data/colour_list.txt',header=None)[0].tolist()\n",
    "\n",
    "protein_ruv = pd.read_csv(\n",
    "    \"../../data/protein/e0022_diann_051021_working_matrix_averaged_processed.txt\",\n",
    "    sep='\\t').set_index('Cell_line')\n",
    "\n",
    "\n",
    "meta = pd.read_csv(\"../../data/e0022_diann_051021_sample_mapping_averaged.txt\",\n",
    "                   sep='\\t')\n",
    "\n",
    "cell_lines_no_blood = meta[meta['Tissue_type']!='Haematopoietic and Lymphoid'].index.values"
   ]
  },
  {
   "cell_type": "code",
   "execution_count": 81,
   "metadata": {
    "ExecuteTime": {
     "end_time": "2021-11-03T03:24:49.115332Z",
     "start_time": "2021-11-03T03:24:49.101913Z"
    }
   },
   "outputs": [],
   "source": [
    "tissue_type_map = meta.drop_duplicates(['Cell_line']).set_index(\n",
    "    ['Cell_line'])[['Tissue_type']].to_dict()['Tissue_type']\n",
    "cancer_type_map = meta.drop_duplicates(['Cell_line']).set_index(\n",
    "    ['Cell_line'])[['Cancer_type']].to_dict()['Cancer_type']"
   ]
  },
  {
   "cell_type": "code",
   "execution_count": 82,
   "metadata": {
    "ExecuteTime": {
     "end_time": "2021-11-03T03:24:49.130114Z",
     "start_time": "2021-11-03T03:24:49.117582Z"
    }
   },
   "outputs": [],
   "source": [
    "tissue_count = meta.drop_duplicates(['Cell_line', 'Tissue_type']).groupby('Tissue_type').size()\n",
    "major_tissues = tissue_count[tissue_count>30].index.values"
   ]
  },
  {
   "cell_type": "code",
   "execution_count": 83,
   "metadata": {
    "ExecuteTime": {
     "end_time": "2021-11-03T03:24:49.143517Z",
     "start_time": "2021-11-03T03:24:49.131760Z"
    },
    "code_folding": [
     0,
     50
    ]
   },
   "outputs": [],
   "source": [
    "cancer_colours = {\n",
    "    'Non-Small Cell Lung Carcinoma': '#007fff',\n",
    "    'Prostate Carcinoma': '#665d1e',\n",
    "    'Gastric Carcinoma': '#ffbf00',\n",
    "    'Glioblastoma': '#fbceb1',\n",
    "    'Melanoma': '#ff033e',\n",
    "    'Bladder Carcinoma': '#ab274f',\n",
    "    'B-Lymphoblastic Leukemia': '#d5e6f7',\n",
    "    'Kidney Carcinoma': '#7cb9e8',\n",
    "    'Thyroid Gland Carcinoma': '#efdecd',\n",
    "    'Rhabdomyosarcoma': '#8db600',\n",
    "    'Head and Neck Carcinoma': '#e9d66b',\n",
    "    'Ovarian Carcinoma': '#b284be',\n",
    "    \"B-Cell Non-Hodgkin's Lymphoma\": '#b2beb5',\n",
    "    'Other Solid Carcinomas': '#10b36f',\n",
    "    \"Ewing's Sarcoma\": '#6e7f80',\n",
    "    'T-Lymphoblastic Leukemia': '#ff7e00',\n",
    "    'Plasma Cell Myeloma': '#87a96b',\n",
    "    'Endometrial Carcinoma': '#c9ffe5',\n",
    "    'Non-Cancerous': '#9f2b68',\n",
    "    'Breast Carcinoma': '#00ffff',\n",
    "    'Pancreatic Carcinoma': '#008000',\n",
    "    'Neuroblastoma': '#cd9575',\n",
    "    \"Burkitt's Lymphoma\": '#72a0c1',\n",
    "    'Hairy Cell Leukemia': '#a32638',\n",
    "    'Chronic Myelogenous Leukemia': '#9966cc',\n",
    "    'Glioma': '#f19cbb',\n",
    "    'Cervical Carcinoma': '#e32636',\n",
    "    'Colorectal Carcinoma': '#3b7a57',\n",
    "    'Hepatocellular Carcinoma': '#faebd7',\n",
    "    'Vulvar carcinoma': '#fdee00',\n",
    "    'Osteosarcoma': '#00308f',\n",
    "    'Chondrosarcoma': '#7fffd4',\n",
    "    'Small Cell Lung Carcinoma': '#c46210',\n",
    "    'Esophageal Carcinoma': '#a8bb19',\n",
    "    'Uncertain': '#ff9966',\n",
    "    \"T-Cell Non-Hodgkin's Lymphoma\": '#a52a2a',\n",
    "    'Non-small Cell Lung Carcinoma': '#568203',\n",
    "    'Other Sarcomas': '#4b5320',\n",
    "    'Biliary Tract Carcinoma': '#5d8aa8',\n",
    "    'Acute Myeloid Leukemia': '#8f9779',\n",
    "    \"Hodgkin's Lymphoma\": '#915c83',\n",
    "    'Mesothelioma': '#841b2d',\n",
    "    'B-Lymphoblastic leukemia': '#a4c639',\n",
    "    'Other Blood Cancers': '#3b444b',\n",
    "    'Carcinoid Tumour': '#006600',\n",
    "    'Leiomyosarcoma': '#0000ff',\n",
    "    \"T-cell Non-Hodgkin's Lymphoma\": '#666699'\n",
    "}\n",
    "\n",
    "tissue_colours = {\n",
    "    'Lung': '#007fff',\n",
    "    'Prostate': '#665d1e',\n",
    "    'Stomach': '#ffbf00',\n",
    "    'Central Nervous System': '#fbceb1',\n",
    "    'Skin': '#ff033e',\n",
    "    'Bladder': '#ab274f',\n",
    "    'Haematopoietic and Lymphoid': '#d5e6f7',\n",
    "    'Kidney': '#7cb9e8',\n",
    "    'Thyroid': '#efdecd',\n",
    "    'Soft Tissue': '#8db600',\n",
    "    'Head and Neck': '#e9d66b',\n",
    "    'Ovary': '#b284be',\n",
    "    'Bone': '#b2beb5',\n",
    "    'Endometrium': '#10b36f',\n",
    "    'Breast': '#6e7f80',\n",
    "    'Pancreas': '#ff7e00',\n",
    "    'Peripheral Nervous System': '#87a96b',\n",
    "    'Cervix': '#c9ffe5',\n",
    "    'Large Intestine': '#9f2b68',\n",
    "    'Liver': '#00ffff',\n",
    "    'Vulva': '#008000',\n",
    "    'Esophagus': '#cd9575',\n",
    "    'Biliary Tract': '#72a0c1',\n",
    "    'Other tissue': '#a32638',\n",
    "    'Small Intestine': '#9966cc',\n",
    "    'Placenta': '#f19cbb',\n",
    "    'Testis': '#e32636',\n",
    "    'Adrenal Gland': '#3b7a57'\n",
    "}\n",
    "\n",
    "instrument_colours = {\n",
    "    'M01': '#66c2a5',\n",
    "    'M02': '#fc8d62',\n",
    "    'M03': '#8da0cb',\n",
    "    'M04': '#e78ac3',\n",
    "    'M05': '#a6d854',\n",
    "    'M06': '#ffd92f'\n",
    "}\n",
    "\n",
    "batch_colours = {\n",
    "    'P01': '#7fc97f',\n",
    "    'P02': '#beaed4',\n",
    "    'P03': '#fdc086',\n",
    "    'P04': '#386cb0',\n",
    "    'P05': '#f0027f',\n",
    "    'P06': '#bf5b17'\n",
    "}\n",
    "\n",
    "tissue_colours['Other'] = 'white'\n",
    "cancer_colours['Other'] = 'white'"
   ]
  },
  {
   "cell_type": "code",
   "execution_count": 84,
   "metadata": {
    "ExecuteTime": {
     "end_time": "2021-11-03T03:24:49.149531Z",
     "start_time": "2021-11-03T03:24:49.145607Z"
    }
   },
   "outputs": [],
   "source": [
    "meta_cell_lines = meta.drop_duplicates('Cell_line')"
   ]
  },
  {
   "cell_type": "code",
   "execution_count": 85,
   "metadata": {
    "ExecuteTime": {
     "end_time": "2021-11-03T03:24:49.421819Z",
     "start_time": "2021-11-03T03:24:49.151315Z"
    }
   },
   "outputs": [],
   "source": [
    "name_map_df = pd.read_csv(f\"../../data/misc/uniprot_human_idmap.tab.gz\",\n",
    "                       sep='\\t')\n",
    "name_map_dict = name_map_df.set_index(\"Entry name\").to_dict()['Gene names  (primary )']\n",
    "protein2rna_map = name_map_dict\n",
    "rna2protein_map = name_map_df.set_index(\"Gene names  (primary )\").to_dict()['Entry name']"
   ]
  },
  {
   "cell_type": "code",
   "execution_count": 86,
   "metadata": {
    "ExecuteTime": {
     "end_time": "2021-11-03T03:24:52.854960Z",
     "start_time": "2021-11-03T03:24:50.143701Z"
    }
   },
   "outputs": [],
   "source": [
    "rna_raw = pd.read_csv(\"../../data/rna/rnaseq_voom.csv\", index_col=0).T\n",
    "\n",
    "rna_raw.index.name = 'SIDM'\n",
    "\n",
    "rna_raw = rna_raw.reset_index()\n",
    "rna_sample = pd.merge(rna_raw,\n",
    "                      meta[['SIDM',\n",
    "                            'Cell_line']].drop_duplicates()).drop(['SIDM'],\n",
    "                                                                  axis=1)\n",
    "\n",
    "rna_sample = rna_sample.set_index(['Cell_line'])"
   ]
  },
  {
   "cell_type": "code",
   "execution_count": 87,
   "metadata": {
    "ExecuteTime": {
     "end_time": "2021-11-03T03:24:58.297450Z",
     "start_time": "2021-11-03T03:24:52.857086Z"
    }
   },
   "outputs": [],
   "source": [
    "drug_df = pd.read_csv('../../data/drug/drug_final_processed_eg_id.csv.gz', low_memory=False)"
   ]
  },
  {
   "cell_type": "code",
   "execution_count": 88,
   "metadata": {
    "ExecuteTime": {
     "end_time": "2021-11-03T03:24:58.877382Z",
     "start_time": "2021-11-03T03:24:58.299884Z"
    }
   },
   "outputs": [],
   "source": [
    "drug_df['max_screening_conc_ln'] = drug_df['max_screening_conc'].map(np.log)"
   ]
  },
  {
   "cell_type": "code",
   "execution_count": 89,
   "metadata": {
    "ExecuteTime": {
     "end_time": "2021-11-03T03:24:59.018801Z",
     "start_time": "2021-11-03T03:24:58.879203Z"
    }
   },
   "outputs": [],
   "source": [
    "max_conc_map = drug_df[[\n",
    "    'drug_id', 'max_screening_conc_ln'\n",
    "]].drop_duplicates().set_index('drug_id').to_dict()['max_screening_conc_ln']"
   ]
  },
  {
   "cell_type": "code",
   "execution_count": 90,
   "metadata": {
    "ExecuteTime": {
     "end_time": "2021-11-03T03:25:14.018997Z",
     "start_time": "2021-11-03T03:24:59.020517Z"
    }
   },
   "outputs": [],
   "source": [
    "lm_res = pd.read_csv(\"../../result_files/lm/lm_sklearn_degr_drug_annotated_diann_051021.csv.gz\")\n",
    "# lm_res = pd.read_csv(\"../../result_files/lm/lm_sklearn_degr_drug_annotated_old.csv.gz\")"
   ]
  },
  {
   "cell_type": "code",
   "execution_count": 44,
   "metadata": {
    "ExecuteTime": {
     "end_time": "2021-08-05T05:52:49.420146Z",
     "start_time": "2021-08-05T05:52:37.003847Z"
    }
   },
   "outputs": [],
   "source": [
    "lm_res_old = pd.read_csv(\"../../result_files/lm/lm_sklearn_degr_drug_annotated_DIANN.csv.gz\")"
   ]
  },
  {
   "cell_type": "code",
   "execution_count": 15,
   "metadata": {
    "ExecuteTime": {
     "end_time": "2021-10-13T23:57:25.818744Z",
     "start_time": "2021-10-13T23:57:25.768575Z"
    }
   },
   "outputs": [
    {
     "data": {
      "text/plain": [
       "(70248, 16)"
      ]
     },
     "execution_count": 15,
     "metadata": {},
     "output_type": "execute_result"
    }
   ],
   "source": [
    "lm_res[(lm_res['fdr']<0.1)|(lm_res['nc_fdr']<0.001)].shape"
   ]
  },
  {
   "cell_type": "code",
   "execution_count": 16,
   "metadata": {
    "ExecuteTime": {
     "end_time": "2021-10-13T23:57:27.302100Z",
     "start_time": "2021-10-13T23:57:27.185723Z"
    }
   },
   "outputs": [],
   "source": [
    "lm_res = lm_res[((lm_res['fdr'] < 0.1) | (lm_res['nc_fdr'] < 0.001))\n",
    "                & (lm_res['r2'] > 0.4) & (lm_res['skew'] < -1)]\n",
    "lm_res['x_protein'] = lm_res['x_id'].map(rna2protein_map)"
   ]
  },
  {
   "cell_type": "code",
   "execution_count": 17,
   "metadata": {
    "ExecuteTime": {
     "end_time": "2021-10-13T23:57:28.899461Z",
     "start_time": "2021-10-13T23:57:28.863878Z"
    }
   },
   "outputs": [
    {
     "data": {
      "text/html": [
       "<div>\n",
       "<style scoped>\n",
       "    .dataframe tbody tr th:only-of-type {\n",
       "        vertical-align: middle;\n",
       "    }\n",
       "\n",
       "    .dataframe tbody tr th {\n",
       "        vertical-align: top;\n",
       "    }\n",
       "\n",
       "    .dataframe thead th {\n",
       "        text-align: right;\n",
       "    }\n",
       "</style>\n",
       "<table border=\"1\" class=\"dataframe\">\n",
       "  <thead>\n",
       "    <tr style=\"text-align: right;\">\n",
       "      <th></th>\n",
       "      <th>y_id</th>\n",
       "      <th>x_id</th>\n",
       "      <th>n</th>\n",
       "      <th>beta</th>\n",
       "      <th>lr</th>\n",
       "      <th>covs</th>\n",
       "      <th>pval</th>\n",
       "      <th>fdr</th>\n",
       "      <th>nc_beta</th>\n",
       "      <th>nc_lr</th>\n",
       "      <th>nc_pval</th>\n",
       "      <th>nc_fdr</th>\n",
       "      <th>r2</th>\n",
       "      <th>target</th>\n",
       "      <th>ppi</th>\n",
       "      <th>skew</th>\n",
       "      <th>x_protein</th>\n",
       "    </tr>\n",
       "  </thead>\n",
       "  <tbody>\n",
       "    <tr>\n",
       "      <th>266124</th>\n",
       "      <td>1373;Dabrafenib;GDSC1</td>\n",
       "      <td>DBNL</td>\n",
       "      <td>782</td>\n",
       "      <td>-0.160988</td>\n",
       "      <td>7.414100</td>\n",
       "      <td>22</td>\n",
       "      <td>0.006471</td>\n",
       "      <td>0.427061</td>\n",
       "      <td>-0.253135</td>\n",
       "      <td>16.842463</td>\n",
       "      <td>0.000041</td>\n",
       "      <td>0.000503</td>\n",
       "      <td>0.495096</td>\n",
       "      <td>BRAF</td>\n",
       "      <td>2</td>\n",
       "      <td>-1.809261</td>\n",
       "      <td>DBNL_HUMAN</td>\n",
       "    </tr>\n",
       "    <tr>\n",
       "      <th>682045</th>\n",
       "      <td>1373;Dabrafenib;GDSC2</td>\n",
       "      <td>DBNL</td>\n",
       "      <td>876</td>\n",
       "      <td>-0.086523</td>\n",
       "      <td>2.269173</td>\n",
       "      <td>22</td>\n",
       "      <td>0.131970</td>\n",
       "      <td>0.642263</td>\n",
       "      <td>-0.242367</td>\n",
       "      <td>16.788143</td>\n",
       "      <td>0.000042</td>\n",
       "      <td>0.000625</td>\n",
       "      <td>0.591585</td>\n",
       "      <td>BRAF</td>\n",
       "      <td>2</td>\n",
       "      <td>-1.457743</td>\n",
       "      <td>DBNL_HUMAN</td>\n",
       "    </tr>\n",
       "  </tbody>\n",
       "</table>\n",
       "</div>"
      ],
      "text/plain": [
       "                         y_id  x_id    n      beta        lr  covs      pval  \\\n",
       "266124  1373;Dabrafenib;GDSC1  DBNL  782 -0.160988  7.414100    22  0.006471   \n",
       "682045  1373;Dabrafenib;GDSC2  DBNL  876 -0.086523  2.269173    22  0.131970   \n",
       "\n",
       "             fdr   nc_beta      nc_lr   nc_pval    nc_fdr        r2 target  \\\n",
       "266124  0.427061 -0.253135  16.842463  0.000041  0.000503  0.495096   BRAF   \n",
       "682045  0.642263 -0.242367  16.788143  0.000042  0.000625  0.591585   BRAF   \n",
       "\n",
       "       ppi      skew   x_protein  \n",
       "266124   2 -1.809261  DBNL_HUMAN  \n",
       "682045   2 -1.457743  DBNL_HUMAN  "
      ]
     },
     "execution_count": 17,
     "metadata": {},
     "output_type": "execute_result"
    }
   ],
   "source": [
    "lm_res[((lm_res['x_id'] == 'DBNL') &\n",
    "        (lm_res['y_id'].str.contains('Dabrafenib'))) |\n",
    "       ((lm_res['x_id'] == 'NOC2L') &\n",
    "        (lm_res['y_id'].str.contains('AZD5582'))) |\n",
    "       ((lm_res['x_id'] == 'TSNAX') &\n",
    "        (lm_res['y_id'].str.contains('Venetoclax')))]"
   ]
  },
  {
   "cell_type": "code",
   "execution_count": 18,
   "metadata": {
    "ExecuteTime": {
     "end_time": "2021-10-13T23:57:35.932208Z",
     "start_time": "2021-10-13T23:57:35.926722Z"
    }
   },
   "outputs": [],
   "source": [
    "lm_assoc_list = list(zip(lm_res['y_id'], lm_res['x_id'], lm_res['x_protein']))"
   ]
  },
  {
   "cell_type": "code",
   "execution_count": 19,
   "metadata": {
    "ExecuteTime": {
     "end_time": "2021-10-13T23:57:36.325423Z",
     "start_time": "2021-10-13T23:57:36.310909Z"
    }
   },
   "outputs": [
    {
     "data": {
      "text/html": [
       "<div>\n",
       "<style scoped>\n",
       "    .dataframe tbody tr th:only-of-type {\n",
       "        vertical-align: middle;\n",
       "    }\n",
       "\n",
       "    .dataframe tbody tr th {\n",
       "        vertical-align: top;\n",
       "    }\n",
       "\n",
       "    .dataframe thead th {\n",
       "        text-align: right;\n",
       "    }\n",
       "</style>\n",
       "<table border=\"1\" class=\"dataframe\">\n",
       "  <thead>\n",
       "    <tr style=\"text-align: right;\">\n",
       "      <th></th>\n",
       "      <th>y_id</th>\n",
       "      <th>x_id</th>\n",
       "      <th>n</th>\n",
       "      <th>beta</th>\n",
       "      <th>lr</th>\n",
       "      <th>covs</th>\n",
       "      <th>pval</th>\n",
       "      <th>fdr</th>\n",
       "      <th>nc_beta</th>\n",
       "      <th>nc_lr</th>\n",
       "      <th>nc_pval</th>\n",
       "      <th>nc_fdr</th>\n",
       "      <th>r2</th>\n",
       "      <th>target</th>\n",
       "      <th>ppi</th>\n",
       "      <th>skew</th>\n",
       "      <th>x_protein</th>\n",
       "    </tr>\n",
       "  </thead>\n",
       "  <tbody>\n",
       "    <tr>\n",
       "      <th>11</th>\n",
       "      <td>1403;AZD6094;GDSC1</td>\n",
       "      <td>CAPZA1</td>\n",
       "      <td>864</td>\n",
       "      <td>0.361678</td>\n",
       "      <td>37.166309</td>\n",
       "      <td>22</td>\n",
       "      <td>1.084717e-09</td>\n",
       "      <td>0.000006</td>\n",
       "      <td>0.203067</td>\n",
       "      <td>15.666215</td>\n",
       "      <td>7.556195e-05</td>\n",
       "      <td>2.862279e-02</td>\n",
       "      <td>0.430568</td>\n",
       "      <td>MET</td>\n",
       "      <td>3</td>\n",
       "      <td>-4.084074</td>\n",
       "      <td>CAZA1_HUMAN</td>\n",
       "    </tr>\n",
       "    <tr>\n",
       "      <th>53</th>\n",
       "      <td>1427;AZD5582;GDSC1</td>\n",
       "      <td>CD47</td>\n",
       "      <td>838</td>\n",
       "      <td>-0.526607</td>\n",
       "      <td>31.077573</td>\n",
       "      <td>22</td>\n",
       "      <td>2.479194e-08</td>\n",
       "      <td>0.000096</td>\n",
       "      <td>-0.419799</td>\n",
       "      <td>52.910872</td>\n",
       "      <td>3.490322e-13</td>\n",
       "      <td>4.766907e-10</td>\n",
       "      <td>0.579682</td>\n",
       "      <td>BIRC2;BIRC3;XIAP</td>\n",
       "      <td>-</td>\n",
       "      <td>-1.084352</td>\n",
       "      <td>CD47_HUMAN</td>\n",
       "    </tr>\n",
       "    <tr>\n",
       "      <th>54</th>\n",
       "      <td>1427;AZD5582;GDSC1</td>\n",
       "      <td>SSR4</td>\n",
       "      <td>855</td>\n",
       "      <td>-0.541242</td>\n",
       "      <td>30.400967</td>\n",
       "      <td>22</td>\n",
       "      <td>3.513529e-08</td>\n",
       "      <td>0.000096</td>\n",
       "      <td>-0.552433</td>\n",
       "      <td>40.906667</td>\n",
       "      <td>1.596755e-10</td>\n",
       "      <td>7.930064e-08</td>\n",
       "      <td>0.579682</td>\n",
       "      <td>BIRC2;BIRC3;XIAP</td>\n",
       "      <td>-</td>\n",
       "      <td>-1.084352</td>\n",
       "      <td>SSRD_HUMAN</td>\n",
       "    </tr>\n",
       "    <tr>\n",
       "      <th>65</th>\n",
       "      <td>1427;AZD5582;GDSC1</td>\n",
       "      <td>PRKCSH</td>\n",
       "      <td>853</td>\n",
       "      <td>-0.684837</td>\n",
       "      <td>28.556612</td>\n",
       "      <td>22</td>\n",
       "      <td>9.099856e-08</td>\n",
       "      <td>0.000166</td>\n",
       "      <td>-0.721808</td>\n",
       "      <td>42.776124</td>\n",
       "      <td>6.137673e-11</td>\n",
       "      <td>3.725567e-08</td>\n",
       "      <td>0.579682</td>\n",
       "      <td>BIRC2;BIRC3;XIAP</td>\n",
       "      <td>-</td>\n",
       "      <td>-1.084352</td>\n",
       "      <td>GLU2B_HUMAN</td>\n",
       "    </tr>\n",
       "    <tr>\n",
       "      <th>118</th>\n",
       "      <td>1936;Savolitinib;GDSC2</td>\n",
       "      <td>GNB1</td>\n",
       "      <td>904</td>\n",
       "      <td>0.298049</td>\n",
       "      <td>26.183206</td>\n",
       "      <td>22</td>\n",
       "      <td>3.105113e-07</td>\n",
       "      <td>0.000415</td>\n",
       "      <td>0.245486</td>\n",
       "      <td>26.499893</td>\n",
       "      <td>2.635527e-07</td>\n",
       "      <td>2.080561e-04</td>\n",
       "      <td>0.624177</td>\n",
       "      <td>MET</td>\n",
       "      <td>2</td>\n",
       "      <td>-1.306811</td>\n",
       "      <td>GBB1_HUMAN</td>\n",
       "    </tr>\n",
       "  </tbody>\n",
       "</table>\n",
       "</div>"
      ],
      "text/plain": [
       "                       y_id    x_id    n      beta         lr  covs  \\\n",
       "11       1403;AZD6094;GDSC1  CAPZA1  864  0.361678  37.166309    22   \n",
       "53       1427;AZD5582;GDSC1    CD47  838 -0.526607  31.077573    22   \n",
       "54       1427;AZD5582;GDSC1    SSR4  855 -0.541242  30.400967    22   \n",
       "65       1427;AZD5582;GDSC1  PRKCSH  853 -0.684837  28.556612    22   \n",
       "118  1936;Savolitinib;GDSC2    GNB1  904  0.298049  26.183206    22   \n",
       "\n",
       "             pval       fdr   nc_beta      nc_lr       nc_pval        nc_fdr  \\\n",
       "11   1.084717e-09  0.000006  0.203067  15.666215  7.556195e-05  2.862279e-02   \n",
       "53   2.479194e-08  0.000096 -0.419799  52.910872  3.490322e-13  4.766907e-10   \n",
       "54   3.513529e-08  0.000096 -0.552433  40.906667  1.596755e-10  7.930064e-08   \n",
       "65   9.099856e-08  0.000166 -0.721808  42.776124  6.137673e-11  3.725567e-08   \n",
       "118  3.105113e-07  0.000415  0.245486  26.499893  2.635527e-07  2.080561e-04   \n",
       "\n",
       "           r2            target ppi      skew    x_protein  \n",
       "11   0.430568               MET   3 -4.084074  CAZA1_HUMAN  \n",
       "53   0.579682  BIRC2;BIRC3;XIAP   - -1.084352   CD47_HUMAN  \n",
       "54   0.579682  BIRC2;BIRC3;XIAP   - -1.084352   SSRD_HUMAN  \n",
       "65   0.579682  BIRC2;BIRC3;XIAP   - -1.084352  GLU2B_HUMAN  \n",
       "118  0.624177               MET   2 -1.306811   GBB1_HUMAN  "
      ]
     },
     "execution_count": 19,
     "metadata": {},
     "output_type": "execute_result"
    }
   ],
   "source": [
    "lm_res.head()"
   ]
  },
  {
   "cell_type": "code",
   "execution_count": 20,
   "metadata": {
    "ExecuteTime": {
     "end_time": "2021-09-27T13:56:35.164677Z",
     "start_time": "2021-09-27T13:56:35.147609Z"
    }
   },
   "outputs": [
    {
     "data": {
      "text/html": [
       "<div>\n",
       "<style scoped>\n",
       "    .dataframe tbody tr th:only-of-type {\n",
       "        vertical-align: middle;\n",
       "    }\n",
       "\n",
       "    .dataframe tbody tr th {\n",
       "        vertical-align: top;\n",
       "    }\n",
       "\n",
       "    .dataframe thead th {\n",
       "        text-align: right;\n",
       "    }\n",
       "</style>\n",
       "<table border=\"1\" class=\"dataframe\">\n",
       "  <thead>\n",
       "    <tr style=\"text-align: right;\">\n",
       "      <th></th>\n",
       "      <th>y_id</th>\n",
       "      <th>x_id</th>\n",
       "      <th>n</th>\n",
       "      <th>beta</th>\n",
       "      <th>lr</th>\n",
       "      <th>covs</th>\n",
       "      <th>pval</th>\n",
       "      <th>fdr</th>\n",
       "      <th>nc_beta</th>\n",
       "      <th>nc_lr</th>\n",
       "      <th>nc_pval</th>\n",
       "      <th>nc_fdr</th>\n",
       "      <th>r2</th>\n",
       "      <th>target</th>\n",
       "      <th>ppi</th>\n",
       "      <th>skew</th>\n",
       "      <th>x_protein</th>\n",
       "    </tr>\n",
       "  </thead>\n",
       "  <tbody>\n",
       "    <tr>\n",
       "      <th>373</th>\n",
       "      <td>1936;Savolitinib;GDSC2</td>\n",
       "      <td>MET</td>\n",
       "      <td>423</td>\n",
       "      <td>-0.468669</td>\n",
       "      <td>28.601314</td>\n",
       "      <td>22</td>\n",
       "      <td>8.892182e-08</td>\n",
       "      <td>0.000130</td>\n",
       "      <td>-0.436943</td>\n",
       "      <td>45.093727</td>\n",
       "      <td>1.878261e-11</td>\n",
       "      <td>3.973461e-08</td>\n",
       "      <td>0.616297</td>\n",
       "      <td>MET</td>\n",
       "      <td>T</td>\n",
       "      <td>-1.306811</td>\n",
       "      <td>MET_HUMAN</td>\n",
       "    </tr>\n",
       "    <tr>\n",
       "      <th>16069</th>\n",
       "      <td>1403;AZD6094;GDSC1</td>\n",
       "      <td>MET</td>\n",
       "      <td>415</td>\n",
       "      <td>-0.327702</td>\n",
       "      <td>19.166517</td>\n",
       "      <td>22</td>\n",
       "      <td>1.197964e-05</td>\n",
       "      <td>0.025163</td>\n",
       "      <td>-0.431849</td>\n",
       "      <td>58.592743</td>\n",
       "      <td>1.939305e-14</td>\n",
       "      <td>8.147020e-11</td>\n",
       "      <td>0.444541</td>\n",
       "      <td>MET</td>\n",
       "      <td>T</td>\n",
       "      <td>-4.084074</td>\n",
       "      <td>MET_HUMAN</td>\n",
       "    </tr>\n",
       "    <tr>\n",
       "      <th>17076</th>\n",
       "      <td>1958;Merestinib;GDSC2</td>\n",
       "      <td>MET</td>\n",
       "      <td>337</td>\n",
       "      <td>-0.399230</td>\n",
       "      <td>15.575225</td>\n",
       "      <td>22</td>\n",
       "      <td>7.928670e-05</td>\n",
       "      <td>0.027103</td>\n",
       "      <td>-0.457380</td>\n",
       "      <td>39.269668</td>\n",
       "      <td>3.691313e-10</td>\n",
       "      <td>1.514177e-06</td>\n",
       "      <td>0.402407</td>\n",
       "      <td>MET;MST1R</td>\n",
       "      <td>T</td>\n",
       "      <td>-1.143132</td>\n",
       "      <td>MET_HUMAN</td>\n",
       "    </tr>\n",
       "    <tr>\n",
       "      <th>61129</th>\n",
       "      <td>2103;Capmatinib;GDSC2</td>\n",
       "      <td>MET</td>\n",
       "      <td>249</td>\n",
       "      <td>-0.194174</td>\n",
       "      <td>9.189750</td>\n",
       "      <td>22</td>\n",
       "      <td>2.433741e-03</td>\n",
       "      <td>0.106761</td>\n",
       "      <td>-0.258109</td>\n",
       "      <td>30.141646</td>\n",
       "      <td>4.016135e-08</td>\n",
       "      <td>1.602036e-04</td>\n",
       "      <td>0.730300</td>\n",
       "      <td>MET</td>\n",
       "      <td>T</td>\n",
       "      <td>-1.898467</td>\n",
       "      <td>MET_HUMAN</td>\n",
       "    </tr>\n",
       "  </tbody>\n",
       "</table>\n",
       "</div>"
      ],
      "text/plain": [
       "                         y_id x_id    n      beta         lr  covs  \\\n",
       "373    1936;Savolitinib;GDSC2  MET  423 -0.468669  28.601314    22   \n",
       "16069      1403;AZD6094;GDSC1  MET  415 -0.327702  19.166517    22   \n",
       "17076   1958;Merestinib;GDSC2  MET  337 -0.399230  15.575225    22   \n",
       "61129   2103;Capmatinib;GDSC2  MET  249 -0.194174   9.189750    22   \n",
       "\n",
       "               pval       fdr   nc_beta      nc_lr       nc_pval  \\\n",
       "373    8.892182e-08  0.000130 -0.436943  45.093727  1.878261e-11   \n",
       "16069  1.197964e-05  0.025163 -0.431849  58.592743  1.939305e-14   \n",
       "17076  7.928670e-05  0.027103 -0.457380  39.269668  3.691313e-10   \n",
       "61129  2.433741e-03  0.106761 -0.258109  30.141646  4.016135e-08   \n",
       "\n",
       "             nc_fdr        r2     target ppi      skew  x_protein  \n",
       "373    3.973461e-08  0.616297        MET   T -1.306811  MET_HUMAN  \n",
       "16069  8.147020e-11  0.444541        MET   T -4.084074  MET_HUMAN  \n",
       "17076  1.514177e-06  0.402407  MET;MST1R   T -1.143132  MET_HUMAN  \n",
       "61129  1.602036e-04  0.730300        MET   T -1.898467  MET_HUMAN  "
      ]
     },
     "execution_count": 20,
     "metadata": {},
     "output_type": "execute_result"
    }
   ],
   "source": [
    "lm_res[lm_res['x_id']=='MET']"
   ]
  },
  {
   "cell_type": "code",
   "execution_count": 20,
   "metadata": {
    "ExecuteTime": {
     "end_time": "2021-10-13T23:57:40.813875Z",
     "start_time": "2021-10-13T23:57:40.809682Z"
    }
   },
   "outputs": [],
   "source": [
    "cancer_genes = pd.read_csv(\"../../data/misc/cancer_genes_latest.csv\")"
   ]
  },
  {
   "cell_type": "code",
   "execution_count": 21,
   "metadata": {
    "ExecuteTime": {
     "end_time": "2021-10-13T23:57:41.298026Z",
     "start_time": "2021-10-13T23:57:41.181550Z"
    }
   },
   "outputs": [],
   "source": [
    "lm_res['cancer_gene'] = lm_res['x_id'].map(\n",
    "    lambda x: True if x in cancer_genes['gene_symbol'].values else False)"
   ]
  },
  {
   "cell_type": "code",
   "execution_count": 22,
   "metadata": {
    "ExecuteTime": {
     "end_time": "2021-10-13T23:57:42.088839Z",
     "start_time": "2021-10-13T23:57:42.061475Z"
    }
   },
   "outputs": [
    {
     "data": {
      "text/html": [
       "<div>\n",
       "<style scoped>\n",
       "    .dataframe tbody tr th:only-of-type {\n",
       "        vertical-align: middle;\n",
       "    }\n",
       "\n",
       "    .dataframe tbody tr th {\n",
       "        vertical-align: top;\n",
       "    }\n",
       "\n",
       "    .dataframe thead th {\n",
       "        text-align: right;\n",
       "    }\n",
       "</style>\n",
       "<table border=\"1\" class=\"dataframe\">\n",
       "  <thead>\n",
       "    <tr style=\"text-align: right;\">\n",
       "      <th></th>\n",
       "      <th>y_id</th>\n",
       "      <th>x_id</th>\n",
       "      <th>n</th>\n",
       "      <th>beta</th>\n",
       "      <th>lr</th>\n",
       "      <th>covs</th>\n",
       "      <th>pval</th>\n",
       "      <th>fdr</th>\n",
       "      <th>nc_beta</th>\n",
       "      <th>nc_lr</th>\n",
       "      <th>nc_pval</th>\n",
       "      <th>nc_fdr</th>\n",
       "      <th>r2</th>\n",
       "      <th>target</th>\n",
       "      <th>ppi</th>\n",
       "      <th>skew</th>\n",
       "      <th>x_protein</th>\n",
       "      <th>cancer_gene</th>\n",
       "    </tr>\n",
       "  </thead>\n",
       "  <tbody>\n",
       "    <tr>\n",
       "      <th>145</th>\n",
       "      <td>1936;Savolitinib;GDSC2</td>\n",
       "      <td>SMARCB1</td>\n",
       "      <td>877</td>\n",
       "      <td>0.335612</td>\n",
       "      <td>24.438985</td>\n",
       "      <td>22</td>\n",
       "      <td>7.670079e-07</td>\n",
       "      <td>0.000455</td>\n",
       "      <td>0.274298</td>\n",
       "      <td>20.763088</td>\n",
       "      <td>5.197514e-06</td>\n",
       "      <td>1.436073e-03</td>\n",
       "      <td>0.624177</td>\n",
       "      <td>MET</td>\n",
       "      <td>3</td>\n",
       "      <td>-1.306811</td>\n",
       "      <td>SNF5_HUMAN</td>\n",
       "      <td>True</td>\n",
       "    </tr>\n",
       "    <tr>\n",
       "      <th>173</th>\n",
       "      <td>1936;Savolitinib;GDSC2</td>\n",
       "      <td>DHX9</td>\n",
       "      <td>906</td>\n",
       "      <td>0.466176</td>\n",
       "      <td>23.398120</td>\n",
       "      <td>22</td>\n",
       "      <td>1.317072e-06</td>\n",
       "      <td>0.000582</td>\n",
       "      <td>0.457850</td>\n",
       "      <td>29.168574</td>\n",
       "      <td>6.634664e-08</td>\n",
       "      <td>7.332631e-05</td>\n",
       "      <td>0.624177</td>\n",
       "      <td>MET</td>\n",
       "      <td>3</td>\n",
       "      <td>-1.306811</td>\n",
       "      <td>DHX9_HUMAN</td>\n",
       "      <td>True</td>\n",
       "    </tr>\n",
       "    <tr>\n",
       "      <th>177</th>\n",
       "      <td>1078;Imatinib;GDSC2</td>\n",
       "      <td>ARFGEF2</td>\n",
       "      <td>75</td>\n",
       "      <td>-0.540562</td>\n",
       "      <td>28.139649</td>\n",
       "      <td>22</td>\n",
       "      <td>1.128697e-07</td>\n",
       "      <td>0.000586</td>\n",
       "      <td>-0.512654</td>\n",
       "      <td>22.721867</td>\n",
       "      <td>1.872251e-06</td>\n",
       "      <td>4.858491e-03</td>\n",
       "      <td>0.584781</td>\n",
       "      <td>ABL1;KIT;PDGFRA</td>\n",
       "      <td>-</td>\n",
       "      <td>-1.969494</td>\n",
       "      <td>BIG2_HUMAN</td>\n",
       "      <td>True</td>\n",
       "    </tr>\n",
       "    <tr>\n",
       "      <th>331</th>\n",
       "      <td>1936;Savolitinib;GDSC2</td>\n",
       "      <td>MET</td>\n",
       "      <td>421</td>\n",
       "      <td>-0.377551</td>\n",
       "      <td>20.535615</td>\n",
       "      <td>22</td>\n",
       "      <td>5.853199e-06</td>\n",
       "      <td>0.001294</td>\n",
       "      <td>-0.420304</td>\n",
       "      <td>42.936755</td>\n",
       "      <td>5.653838e-11</td>\n",
       "      <td>3.124311e-07</td>\n",
       "      <td>0.624177</td>\n",
       "      <td>MET</td>\n",
       "      <td>T</td>\n",
       "      <td>-1.306811</td>\n",
       "      <td>MET_HUMAN</td>\n",
       "      <td>True</td>\n",
       "    </tr>\n",
       "    <tr>\n",
       "      <th>549</th>\n",
       "      <td>2103;Capmatinib;GDSC2</td>\n",
       "      <td>PLXNA1</td>\n",
       "      <td>157</td>\n",
       "      <td>-0.263634</td>\n",
       "      <td>25.711817</td>\n",
       "      <td>22</td>\n",
       "      <td>3.963924e-07</td>\n",
       "      <td>0.002018</td>\n",
       "      <td>-0.136108</td>\n",
       "      <td>11.070910</td>\n",
       "      <td>8.769262e-04</td>\n",
       "      <td>2.349239e-01</td>\n",
       "      <td>0.663131</td>\n",
       "      <td>MET</td>\n",
       "      <td>2</td>\n",
       "      <td>-1.898467</td>\n",
       "      <td>PLXA1_HUMAN</td>\n",
       "      <td>True</td>\n",
       "    </tr>\n",
       "    <tr>\n",
       "      <th>...</th>\n",
       "      <td>...</td>\n",
       "      <td>...</td>\n",
       "      <td>...</td>\n",
       "      <td>...</td>\n",
       "      <td>...</td>\n",
       "      <td>...</td>\n",
       "      <td>...</td>\n",
       "      <td>...</td>\n",
       "      <td>...</td>\n",
       "      <td>...</td>\n",
       "      <td>...</td>\n",
       "      <td>...</td>\n",
       "      <td>...</td>\n",
       "      <td>...</td>\n",
       "      <td>...</td>\n",
       "      <td>...</td>\n",
       "      <td>...</td>\n",
       "      <td>...</td>\n",
       "    </tr>\n",
       "    <tr>\n",
       "      <th>3778359</th>\n",
       "      <td>1032;Afatinib;GDSC1</td>\n",
       "      <td>HSPA8</td>\n",
       "      <td>877</td>\n",
       "      <td>0.008806</td>\n",
       "      <td>0.011841</td>\n",
       "      <td>22</td>\n",
       "      <td>9.133496e-01</td>\n",
       "      <td>0.994546</td>\n",
       "      <td>0.488029</td>\n",
       "      <td>33.052960</td>\n",
       "      <td>8.968240e-09</td>\n",
       "      <td>1.502934e-07</td>\n",
       "      <td>0.564904</td>\n",
       "      <td>EGFR;ERBB2</td>\n",
       "      <td>-</td>\n",
       "      <td>-1.532923</td>\n",
       "      <td>HSP7C_HUMAN</td>\n",
       "      <td>True</td>\n",
       "    </tr>\n",
       "    <tr>\n",
       "      <th>3985168</th>\n",
       "      <td>1377;Afatinib;GDSC1</td>\n",
       "      <td>HSPA8</td>\n",
       "      <td>850</td>\n",
       "      <td>-0.001980</td>\n",
       "      <td>0.000456</td>\n",
       "      <td>22</td>\n",
       "      <td>9.829639e-01</td>\n",
       "      <td>0.998364</td>\n",
       "      <td>0.498356</td>\n",
       "      <td>27.863604</td>\n",
       "      <td>1.301756e-07</td>\n",
       "      <td>2.301875e-06</td>\n",
       "      <td>0.643926</td>\n",
       "      <td>EGFR;ERBB2</td>\n",
       "      <td>-</td>\n",
       "      <td>-1.662421</td>\n",
       "      <td>HSP7C_HUMAN</td>\n",
       "      <td>True</td>\n",
       "    </tr>\n",
       "    <tr>\n",
       "      <th>4103955</th>\n",
       "      <td>1909;Venetoclax;GDSC2</td>\n",
       "      <td>IDH2</td>\n",
       "      <td>903</td>\n",
       "      <td>-0.000608</td>\n",
       "      <td>0.000065</td>\n",
       "      <td>22</td>\n",
       "      <td>9.935682e-01</td>\n",
       "      <td>0.999277</td>\n",
       "      <td>-0.170214</td>\n",
       "      <td>18.692115</td>\n",
       "      <td>1.536164e-05</td>\n",
       "      <td>5.162383e-04</td>\n",
       "      <td>0.750149</td>\n",
       "      <td>BCL2</td>\n",
       "      <td>3</td>\n",
       "      <td>-1.562840</td>\n",
       "      <td>IDHP_HUMAN</td>\n",
       "      <td>True</td>\n",
       "    </tr>\n",
       "    <tr>\n",
       "      <th>4142493</th>\n",
       "      <td>1032;Afatinib;GDSC1</td>\n",
       "      <td>FN1</td>\n",
       "      <td>714</td>\n",
       "      <td>0.000162</td>\n",
       "      <td>0.000030</td>\n",
       "      <td>22</td>\n",
       "      <td>9.956592e-01</td>\n",
       "      <td>0.999489</td>\n",
       "      <td>0.117780</td>\n",
       "      <td>18.840232</td>\n",
       "      <td>1.421371e-05</td>\n",
       "      <td>1.011573e-04</td>\n",
       "      <td>0.564904</td>\n",
       "      <td>EGFR;ERBB2</td>\n",
       "      <td>-</td>\n",
       "      <td>-1.532923</td>\n",
       "      <td>FINC_HUMAN</td>\n",
       "      <td>True</td>\n",
       "    </tr>\n",
       "    <tr>\n",
       "      <th>4169319</th>\n",
       "      <td>1061;SB590885;GDSC2</td>\n",
       "      <td>AHNAK</td>\n",
       "      <td>900</td>\n",
       "      <td>-0.000236</td>\n",
       "      <td>0.000056</td>\n",
       "      <td>22</td>\n",
       "      <td>9.940126e-01</td>\n",
       "      <td>0.999689</td>\n",
       "      <td>0.117148</td>\n",
       "      <td>21.974936</td>\n",
       "      <td>2.762344e-06</td>\n",
       "      <td>8.882865e-05</td>\n",
       "      <td>0.592661</td>\n",
       "      <td>BRAF</td>\n",
       "      <td>3</td>\n",
       "      <td>-1.013673</td>\n",
       "      <td>AHNK_HUMAN</td>\n",
       "      <td>True</td>\n",
       "    </tr>\n",
       "  </tbody>\n",
       "</table>\n",
       "<p>238 rows × 18 columns</p>\n",
       "</div>"
      ],
      "text/plain": [
       "                           y_id     x_id    n      beta         lr  covs  \\\n",
       "145      1936;Savolitinib;GDSC2  SMARCB1  877  0.335612  24.438985    22   \n",
       "173      1936;Savolitinib;GDSC2     DHX9  906  0.466176  23.398120    22   \n",
       "177         1078;Imatinib;GDSC2  ARFGEF2   75 -0.540562  28.139649    22   \n",
       "331      1936;Savolitinib;GDSC2      MET  421 -0.377551  20.535615    22   \n",
       "549       2103;Capmatinib;GDSC2   PLXNA1  157 -0.263634  25.711817    22   \n",
       "...                         ...      ...  ...       ...        ...   ...   \n",
       "3778359     1032;Afatinib;GDSC1    HSPA8  877  0.008806   0.011841    22   \n",
       "3985168     1377;Afatinib;GDSC1    HSPA8  850 -0.001980   0.000456    22   \n",
       "4103955   1909;Venetoclax;GDSC2     IDH2  903 -0.000608   0.000065    22   \n",
       "4142493     1032;Afatinib;GDSC1      FN1  714  0.000162   0.000030    22   \n",
       "4169319     1061;SB590885;GDSC2    AHNAK  900 -0.000236   0.000056    22   \n",
       "\n",
       "                 pval       fdr   nc_beta      nc_lr       nc_pval  \\\n",
       "145      7.670079e-07  0.000455  0.274298  20.763088  5.197514e-06   \n",
       "173      1.317072e-06  0.000582  0.457850  29.168574  6.634664e-08   \n",
       "177      1.128697e-07  0.000586 -0.512654  22.721867  1.872251e-06   \n",
       "331      5.853199e-06  0.001294 -0.420304  42.936755  5.653838e-11   \n",
       "549      3.963924e-07  0.002018 -0.136108  11.070910  8.769262e-04   \n",
       "...               ...       ...       ...        ...           ...   \n",
       "3778359  9.133496e-01  0.994546  0.488029  33.052960  8.968240e-09   \n",
       "3985168  9.829639e-01  0.998364  0.498356  27.863604  1.301756e-07   \n",
       "4103955  9.935682e-01  0.999277 -0.170214  18.692115  1.536164e-05   \n",
       "4142493  9.956592e-01  0.999489  0.117780  18.840232  1.421371e-05   \n",
       "4169319  9.940126e-01  0.999689  0.117148  21.974936  2.762344e-06   \n",
       "\n",
       "               nc_fdr        r2           target ppi      skew    x_protein  \\\n",
       "145      1.436073e-03  0.624177              MET   3 -1.306811   SNF5_HUMAN   \n",
       "173      7.332631e-05  0.624177              MET   3 -1.306811   DHX9_HUMAN   \n",
       "177      4.858491e-03  0.584781  ABL1;KIT;PDGFRA   - -1.969494   BIG2_HUMAN   \n",
       "331      3.124311e-07  0.624177              MET   T -1.306811    MET_HUMAN   \n",
       "549      2.349239e-01  0.663131              MET   2 -1.898467  PLXA1_HUMAN   \n",
       "...               ...       ...              ...  ..       ...          ...   \n",
       "3778359  1.502934e-07  0.564904       EGFR;ERBB2   - -1.532923  HSP7C_HUMAN   \n",
       "3985168  2.301875e-06  0.643926       EGFR;ERBB2   - -1.662421  HSP7C_HUMAN   \n",
       "4103955  5.162383e-04  0.750149             BCL2   3 -1.562840   IDHP_HUMAN   \n",
       "4142493  1.011573e-04  0.564904       EGFR;ERBB2   - -1.532923   FINC_HUMAN   \n",
       "4169319  8.882865e-05  0.592661             BRAF   3 -1.013673   AHNK_HUMAN   \n",
       "\n",
       "         cancer_gene  \n",
       "145             True  \n",
       "173             True  \n",
       "177             True  \n",
       "331             True  \n",
       "549             True  \n",
       "...              ...  \n",
       "3778359         True  \n",
       "3985168         True  \n",
       "4103955         True  \n",
       "4142493         True  \n",
       "4169319         True  \n",
       "\n",
       "[238 rows x 18 columns]"
      ]
     },
     "execution_count": 22,
     "metadata": {},
     "output_type": "execute_result"
    }
   ],
   "source": [
    "lm_res.query('cancer_gene == True')"
   ]
  },
  {
   "cell_type": "code",
   "execution_count": 69,
   "metadata": {
    "ExecuteTime": {
     "end_time": "2021-10-18T01:52:42.234083Z",
     "start_time": "2021-10-18T01:52:42.181622Z"
    }
   },
   "outputs": [],
   "source": [
    "lm_res[[\"ID\", \"drug_name\", \"GDSC\"]] = lm_res[\"y_id\"].str.split(pat=\";\", expand=True)"
   ]
  },
  {
   "cell_type": "code",
   "execution_count": 70,
   "metadata": {
    "ExecuteTime": {
     "end_time": "2021-10-18T01:52:54.622657Z",
     "start_time": "2021-10-18T01:52:54.439679Z"
    },
    "code_folding": []
   },
   "outputs": [],
   "source": [
    "cols = [\n",
    "    'y_id', 'x_id', 'n', 'beta', 'pval', 'fdr', 'nc_beta', 'nc_pval', 'nc_fdr',\n",
    "    'r2', 'target', 'ppi', 'skew', 'cancer_gene'\n",
    "]\n",
    "lm_res[[\"ID\", \"drug_name\", \"GDSC\"] + cols].to_csv(\n",
    "    \"../../result_files/lm/drug_supptable_pancancer_051021.csv\", index=False)"
   ]
  },
  {
   "cell_type": "markdown",
   "metadata": {},
   "source": [
    "# calculate"
   ]
  },
  {
   "cell_type": "code",
   "execution_count": 24,
   "metadata": {
    "ExecuteTime": {
     "end_time": "2021-10-13T23:58:09.161401Z",
     "start_time": "2021-10-13T23:58:09.159054Z"
    }
   },
   "outputs": [],
   "source": [
    "protein_df = protein_ruv\n",
    "rna_df = rna_sample"
   ]
  },
  {
   "cell_type": "code",
   "execution_count": 25,
   "metadata": {
    "ExecuteTime": {
     "end_time": "2021-10-13T23:58:10.002833Z",
     "start_time": "2021-10-13T23:58:09.991151Z"
    },
    "code_folding": [
     0
    ]
   },
   "outputs": [],
   "source": [
    "def calc_box(step=0.2, tissues=[]):\n",
    "    res_df = []\n",
    "    for drug_id, rna_target, protein_target in tqdm(lm_assoc_list):\n",
    "        if protein_target not in protein_df.columns or rna_target not in rna_df.columns:\n",
    "            continue\n",
    "        ic50_map = drug_df[drug_df['drug_id'] == drug_id].set_index(\n",
    "            'cell_line_name').to_dict()['ln_IC50']\n",
    "        tmp_data_protein = protein_df[[protein_target]]\n",
    "        tmp_data_rna = rna_df[[rna_target]]\n",
    "        tmp_data = pd.merge(tmp_data_protein, tmp_data_rna, on='Cell_line')\n",
    "        tmp_data.loc[:, 'IC50'] = tmp_data.index.map(ic50_map).values\n",
    "        tmp_data.loc[:, 'tissue'] = tmp_data.index.map(tissue_type_map).values\n",
    "        tmp_data = tmp_data.dropna().reset_index(drop=True)\n",
    "\n",
    "        if len(tissues) == 0:\n",
    "            tissues = tmp_data['tissue'].unique()\n",
    "        for tissue in tissues:\n",
    "            tmp_data_tissue = tmp_data[tmp_data['tissue'] ==\n",
    "                                       tissue].reset_index(drop=True)\n",
    "            if tmp_data_tissue[protein_target].unique().size < int(\n",
    "                    1 / step) or tmp_data_tissue[rna_target].unique(\n",
    "                    ).size < int(1 / step):\n",
    "                continue\n",
    "            tmp_data_tissue.loc[:, 'protein_q'] = pd.qcut(\n",
    "                tmp_data_tissue[protein_target],\n",
    "                np.arange(0, 1.0001, step),\n",
    "                duplicates='drop')\n",
    "            tmp_data_tissue.loc[:, 'rna_q'] = pd.qcut(\n",
    "                tmp_data_tissue[rna_target],\n",
    "                np.arange(0, 1.0001, step),\n",
    "                duplicates='drop')\n",
    "\n",
    "            medians = tmp_data_tissue[[\n",
    "                'protein_q', 'IC50'\n",
    "            ]].groupby('protein_q').median()['IC50'].values\n",
    "            mono = (np.all(medians[1:] >= medians[:-1]-0.1)\n",
    "                    or np.all(medians[1:] <= medians[:-1]+0.1))\n",
    "\n",
    "            protein_last_q = tmp_data_tissue[[\n",
    "                'protein_q', 'IC50'\n",
    "            ]].groupby('protein_q').median()['IC50'].values[-1]\n",
    "\n",
    "            rna_last_q = tmp_data_tissue[[\n",
    "                'rna_q', 'IC50'\n",
    "            ]].groupby('rna_q').median()['IC50'].values[-1]\n",
    "            protein_first_q = tmp_data_tissue[[\n",
    "                'protein_q', 'IC50'\n",
    "            ]].groupby('protein_q').median()['IC50'].values[0]\n",
    "            protein_first_nq = tmp_data_tissue[[\n",
    "                'protein_q', 'IC50'\n",
    "            ]].groupby('protein_q').median()['IC50'].values[:-1]\n",
    "            rna_first_q = tmp_data_tissue[[\n",
    "                'rna_q', 'IC50'\n",
    "            ]].groupby('rna_q').median()['IC50'].values[0]\n",
    "            rna_first_nq = tmp_data_tissue[[\n",
    "                'rna_q', 'IC50'\n",
    "            ]].groupby('rna_q').median()['IC50'].values[:-1]\n",
    "            ic50_mean = tmp_data_tissue['IC50'].mean()\n",
    "            max_conc = max_conc_map[drug_id]\n",
    "            p_corr_protein, p_pval_protein = pearsonr(\n",
    "                tmp_data_tissue['IC50'], tmp_data_tissue[protein_target])\n",
    "            p_corr_rna, p_pval_rna = pearsonr(\n",
    "                tmp_data_tissue['IC50'], tmp_data_tissue[rna_target])\n",
    "            counts = tmp_data_tissue.shape[0]\n",
    "\n",
    "            tmp_dict = {\n",
    "                'drug_id': drug_id,\n",
    "                'protein': protein_target,\n",
    "                'tissue': tissue,\n",
    "                'protein_first_q': protein_first_q - ic50_mean,\n",
    "                'protein_last_q': protein_last_q - ic50_mean,\n",
    "                'rna_first_q': rna_first_q - ic50_mean,\n",
    "                'rna_last_q': rna_last_q - ic50_mean,\n",
    "                'protein_first_nq_std': np.std(protein_first_nq),\n",
    "                'rna_first_nq_std': np.std(rna_first_nq),\n",
    "                'IC50_mean': ic50_mean,\n",
    "                'max_conc': max_conc,\n",
    "                'mono': mono,\n",
    "                'p_corr_protein': p_corr_protein,\n",
    "                'p_pval_protein': p_pval_protein,\n",
    "                'p_corr_rna': p_corr_rna,\n",
    "                'p_pval_rna': p_pval_rna,\n",
    "                'counts': counts\n",
    "            }\n",
    "            res_df.append(tmp_dict)\n",
    "    res_df = pd.DataFrame(res_df)\n",
    "    return res_df"
   ]
  },
  {
   "cell_type": "code",
   "execution_count": 26,
   "metadata": {
    "ExecuteTime": {
     "end_time": "2021-10-14T00:43:08.184405Z",
     "start_time": "2021-10-13T23:58:16.515720Z"
    }
   },
   "outputs": [
    {
     "data": {
      "application/vnd.jupyter.widget-view+json": {
       "model_id": "29627edf356e4fc08f604b6898985640",
       "version_major": 2,
       "version_minor": 0
      },
      "text/plain": [
       "  0%|          | 0/7698 [00:00<?, ?it/s]"
      ]
     },
     "metadata": {},
     "output_type": "display_data"
    }
   ],
   "source": [
    "res_df = calc_box(step=0.2)\n",
    "\n",
    "res_df['last_q_delta'] = np.abs(\n",
    "    res_df['rna_last_q'] -\n",
    "    res_df['protein_last_q'])\n",
    "\n",
    "res_df.to_csv(\"../../result_files/lm_box/box_plot_drug_tissues_051021.csv\", index=False)"
   ]
  },
  {
   "cell_type": "markdown",
   "metadata": {
    "ExecuteTime": {
     "end_time": "2020-07-18T14:12:58.682798Z",
     "start_time": "2020-07-18T14:12:58.680824Z"
    }
   },
   "source": [
    "# analysis"
   ]
  },
  {
   "cell_type": "code",
   "execution_count": 27,
   "metadata": {
    "ExecuteTime": {
     "end_time": "2021-10-14T00:43:08.612318Z",
     "start_time": "2021-10-14T00:43:08.186587Z"
    }
   },
   "outputs": [],
   "source": [
    "res_df = pd.read_csv(\"../../result_files/lm_box/box_plot_drug_tissues_051021.csv\")"
   ]
  },
  {
   "cell_type": "code",
   "execution_count": 28,
   "metadata": {
    "ExecuteTime": {
     "end_time": "2021-10-14T00:43:08.690877Z",
     "start_time": "2021-10-14T00:43:08.614465Z"
    }
   },
   "outputs": [],
   "source": [
    "res_df = pd.merge(res_df,\n",
    "                  lm_res[[\n",
    "                      'y_id', 'x_protein', 'x_id', 'fdr', 'target', 'beta',\n",
    "                      'nc_fdr', 'nc_beta', 'skew', 'ppi', 'r2'\n",
    "                  ]],\n",
    "                  left_on=['drug_id', 'protein'],\n",
    "                  right_on=['y_id', 'x_protein'])"
   ]
  },
  {
   "cell_type": "code",
   "execution_count": 29,
   "metadata": {
    "ExecuteTime": {
     "end_time": "2021-10-14T00:43:08.700399Z",
     "start_time": "2021-10-14T00:43:08.692797Z"
    }
   },
   "outputs": [],
   "source": [
    "res_df['protein_last_q_minus_max_c'] = res_df['protein_last_q'] + res_df[\n",
    "    'IC50_mean'] - res_df['max_conc']\n",
    "res_df['rna_last_q_minus_max_c'] = res_df['rna_last_q'] + res_df[\n",
    "    'IC50_mean'] - res_df['max_conc']\n",
    "res_df['last_q_delta'] = res_df['protein_last_q_minus_max_c'] - res_df['rna_last_q_minus_max_c']\n",
    "res_df['corr_diff'] = res_df['p_corr_protein'].abs() - res_df['p_corr_rna'].abs()"
   ]
  },
  {
   "cell_type": "code",
   "execution_count": 30,
   "metadata": {
    "ExecuteTime": {
     "end_time": "2021-10-14T00:43:08.712515Z",
     "start_time": "2021-10-14T00:43:08.701769Z"
    }
   },
   "outputs": [],
   "source": [
    "corr_dict_merged = pd.read_csv(\"../../data/protein_rna_correlations.csv\")\n",
    "\n",
    "target_proteins = corr_dict_merged[corr_dict_merged['corr_diff'].abs(\n",
    ") < 0.2].sort_values('corr_avg').head(2000)['protein'].values"
   ]
  },
  {
   "cell_type": "code",
   "execution_count": 31,
   "metadata": {
    "ExecuteTime": {
     "end_time": "2021-10-14T00:43:08.717581Z",
     "start_time": "2021-10-14T00:43:08.714071Z"
    }
   },
   "outputs": [
    {
     "data": {
      "text/plain": [
       "(149397, 32)"
      ]
     },
     "execution_count": 31,
     "metadata": {},
     "output_type": "execute_result"
    }
   ],
   "source": [
    "res_df.shape"
   ]
  },
  {
   "cell_type": "code",
   "execution_count": 32,
   "metadata": {
    "ExecuteTime": {
     "end_time": "2021-10-14T00:43:08.770568Z",
     "start_time": "2021-10-14T00:43:08.719151Z"
    },
    "scrolled": false
   },
   "outputs": [],
   "source": [
    "drug_res_filtered = res_df[(res_df['protein'].isin(target_proteins))\n",
    "                           & (res_df['beta'] < 0) &\n",
    "                           (res_df['p_pval_protein'] < 0.1) &\n",
    "                           (res_df['counts'] > 20)\n",
    "                           & (res_df['mono'] == True) & (res_df['corr_diff'] > 0.15) &\n",
    "                           (res_df['protein_last_q_minus_max_c'] <\n",
    "                            0)].sort_values('corr_diff', ascending=False)[[\n",
    "                                'drug_id', 'protein', 'x_id', 'target', 'beta', 'fdr','nc_fdr', 'nc_beta',\n",
    "                                'ppi', 'r2', 'tissue', 'p_corr_protein',\n",
    "                                'p_pval_protein', 'corr_diff', 'counts', 'skew'\n",
    "                            ]]"
   ]
  },
  {
   "cell_type": "code",
   "execution_count": 33,
   "metadata": {
    "ExecuteTime": {
     "end_time": "2021-10-14T00:43:08.776401Z",
     "start_time": "2021-10-14T00:43:08.773314Z"
    },
    "scrolled": false
   },
   "outputs": [
    {
     "data": {
      "text/plain": [
       "(108, 16)"
      ]
     },
     "execution_count": 33,
     "metadata": {},
     "output_type": "execute_result"
    }
   ],
   "source": [
    "drug_res_filtered.shape"
   ]
  },
  {
   "cell_type": "code",
   "execution_count": 34,
   "metadata": {
    "ExecuteTime": {
     "end_time": "2021-10-14T00:43:08.801257Z",
     "start_time": "2021-10-14T00:43:08.778379Z"
    },
    "scrolled": false
   },
   "outputs": [
    {
     "data": {
      "application/vnd.jupyter.widget-view+json": {
       "model_id": "3e53d56cf0d244278a1ec988b9bb9670",
       "version_major": 2,
       "version_minor": 0
      },
      "text/plain": [
       "QgridWidget(grid_options={'fullWidthRows': True, 'syncColumnCellResize': True, 'forceFitColumns': True, 'defau…"
      ]
     },
     "metadata": {},
     "output_type": "display_data"
    }
   ],
   "source": [
    "show_grid(drug_res_filtered)"
   ]
  },
  {
   "cell_type": "code",
   "execution_count": 35,
   "metadata": {
    "ExecuteTime": {
     "end_time": "2021-10-14T00:43:08.807699Z",
     "start_time": "2021-10-14T00:43:08.802549Z"
    }
   },
   "outputs": [],
   "source": [
    "drug_res_filtered.to_csv(\n",
    "    \"../../result_files/drug_tissue/drug_tissue_sensitive_associations_filtered_diann_051021.csv\",\n",
    "    index=False)"
   ]
  },
  {
   "cell_type": "code",
   "execution_count": 43,
   "metadata": {
    "ExecuteTime": {
     "end_time": "2021-09-28T00:45:33.576914Z",
     "start_time": "2021-09-28T00:45:33.566375Z"
    }
   },
   "outputs": [],
   "source": [
    "drug_res_filtered = pd.read_csv(\n",
    "    \"../../result_files/drug_tissue/drug_tissue_sensitive_associations_filtered_diann_270821.csv\"\n",
    ")"
   ]
  },
  {
   "cell_type": "code",
   "execution_count": 36,
   "metadata": {
    "ExecuteTime": {
     "end_time": "2021-10-14T00:43:08.814263Z",
     "start_time": "2021-10-14T00:43:08.809295Z"
    }
   },
   "outputs": [],
   "source": [
    "drug_res_filtered['cancer_gene'] = drug_res_filtered['x_id'].map(\n",
    "    lambda x: True if x in cancer_genes['gene_symbol'].values else False)"
   ]
  },
  {
   "cell_type": "code",
   "execution_count": 37,
   "metadata": {
    "ExecuteTime": {
     "end_time": "2021-10-14T00:43:08.821698Z",
     "start_time": "2021-10-14T00:43:08.815741Z"
    }
   },
   "outputs": [],
   "source": [
    "cols = [\n",
    "    'drug_id', 'protein', 'x_id', 'target', 'beta', 'fdr', 'nc_fdr', 'nc_beta',\n",
    "    'ppi', 'r2', 'tissue', 'p_corr_protein', 'p_pval_protein', 'corr_diff',\n",
    "    'counts', 'skew', 'cancer_gene'\n",
    "]\n",
    "drug_res_filtered[cols].to_csv(\n",
    "    \"../../result_files/lm_box/drug_tissue_sensitive_associations_filtered_diann_supptable_051021.csv\",\n",
    "    index=False)"
   ]
  },
  {
   "cell_type": "code",
   "execution_count": 64,
   "metadata": {
    "ExecuteTime": {
     "end_time": "2021-10-18T01:50:48.192398Z",
     "start_time": "2021-10-18T01:50:48.185153Z"
    }
   },
   "outputs": [],
   "source": [
    "drug_res_filtered[[\"ID\", \"drug_name\", \"GDSC\"]] = drug_res_filtered[\"drug_id\"].str.split(pat=\";\", expand=True)"
   ]
  },
  {
   "cell_type": "code",
   "execution_count": 75,
   "metadata": {
    "ExecuteTime": {
     "end_time": "2021-10-18T01:54:28.156221Z",
     "start_time": "2021-10-18T01:54:28.150077Z"
    }
   },
   "outputs": [],
   "source": [
    "drug_res_filtered[[\"ID\", \"drug_name\", \"GDSC\"]+cols].to_csv(\n",
    "    \"../../result_files/lm_box/drug_tissue_sensitive_associations_filtered_diann_supptable_051021.csv\",\n",
    "    index=False)"
   ]
  },
  {
   "cell_type": "code",
   "execution_count": null,
   "metadata": {},
   "outputs": [],
   "source": []
  },
  {
   "cell_type": "code",
   "execution_count": 14,
   "metadata": {
    "ExecuteTime": {
     "end_time": "2021-02-25T03:51:40.741571Z",
     "start_time": "2021-02-25T03:51:40.736169Z"
    }
   },
   "outputs": [],
   "source": [
    "drug_res_filtered = pd.read_csv(\n",
    "    \"../../result_files/drug_tissue/drug_tissue_sensitive_associations_filtered_10pc.csv\")"
   ]
  },
  {
   "cell_type": "code",
   "execution_count": 53,
   "metadata": {
    "ExecuteTime": {
     "end_time": "2021-10-15T06:08:09.569349Z",
     "start_time": "2021-10-15T06:08:09.562184Z"
    }
   },
   "outputs": [
    {
     "data": {
      "text/plain": [
       "(20, 17)"
      ]
     },
     "execution_count": 53,
     "metadata": {},
     "output_type": "execute_result"
    }
   ],
   "source": [
    "drug_res_filtered.query(\n",
    "    \"(beta < -0.15 and counts >= 30 and corr_diff >= 0.3) or cancer_gene == True\"\n",
    ")[cols].shape"
   ]
  },
  {
   "cell_type": "code",
   "execution_count": 76,
   "metadata": {
    "ExecuteTime": {
     "end_time": "2021-10-18T01:57:03.348717Z",
     "start_time": "2021-10-18T01:57:03.336947Z"
    }
   },
   "outputs": [],
   "source": [
    "drug_res_filtered.query(\n",
    "    \"(beta < -0.15 and counts >= 30 and corr_diff >= 0.3) or cancer_gene == True\"\n",
    ")[[\"ID\", \"drug_name\", \"GDSC\"]+cols].to_csv(\n",
    "    \"../../result_files/lm_box/drug_tissue_sensitive_associations_filtered_diann_supptable_051021_top20.csv\",\n",
    "    index=False)"
   ]
  }
 ],
 "metadata": {
  "kernelspec": {
   "display_name": "Python 3 (ipykernel)",
   "language": "python",
   "name": "python3"
  },
  "language_info": {
   "codemirror_mode": {
    "name": "ipython",
    "version": 3
   },
   "file_extension": ".py",
   "mimetype": "text/x-python",
   "name": "python",
   "nbconvert_exporter": "python",
   "pygments_lexer": "ipython3",
   "version": "3.9.7"
  },
  "toc": {
   "base_numbering": 1,
   "nav_menu": {},
   "number_sections": true,
   "sideBar": true,
   "skip_h1_title": false,
   "title_cell": "Table of Contents",
   "title_sidebar": "Contents",
   "toc_cell": false,
   "toc_position": {
    "height": "calc(100% - 180px)",
    "left": "10px",
    "top": "150px",
    "width": "328.797px"
   },
   "toc_section_display": true,
   "toc_window_display": true
  }
 },
 "nbformat": 4,
 "nbformat_minor": 4
}
