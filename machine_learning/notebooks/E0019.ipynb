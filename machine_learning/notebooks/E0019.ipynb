{
 "cells": [
  {
   "cell_type": "code",
   "execution_count": 1,
   "metadata": {
    "ExecuteTime": {
     "end_time": "2020-09-07T06:38:36.079675Z",
     "start_time": "2020-09-07T06:38:35.767753Z"
    }
   },
   "outputs": [],
   "source": [
    "import pandas as pd\n",
    "from scipy.stats import pearsonr\n",
    "import numpy as np"
   ]
  },
  {
   "cell_type": "code",
   "execution_count": 43,
   "metadata": {
    "ExecuteTime": {
     "end_time": "2020-09-07T06:47:30.933136Z",
     "start_time": "2020-09-07T06:47:30.706860Z"
    }
   },
   "outputs": [],
   "source": [
    "df = pd.read_csv(\"../data/protein/E0019_BreastCan_ProteinMatrix_LoessNorm_byDiffacto.csv\")"
   ]
  },
  {
   "cell_type": "code",
   "execution_count": 44,
   "metadata": {
    "ExecuteTime": {
     "end_time": "2020-09-07T06:47:31.210709Z",
     "start_time": "2020-09-07T06:47:31.206956Z"
    }
   },
   "outputs": [],
   "source": [
    "df = df[(df['External Patient ID'] == 'HCC1143')\n",
    "        & (df['Parent Sample Description'].str.contains('1%'))].reset_index(\n",
    "            drop=True)"
   ]
  },
  {
   "cell_type": "code",
   "execution_count": 45,
   "metadata": {
    "ExecuteTime": {
     "end_time": "2020-09-07T06:47:51.413328Z",
     "start_time": "2020-09-07T06:47:51.408814Z"
    }
   },
   "outputs": [],
   "source": [
    "df = pd.DataFrame(df.iloc[:,13:].T.values, columns=df['Run'], index=df.iloc[:,13:].T.index)"
   ]
  },
  {
   "cell_type": "code",
   "execution_count": 50,
   "metadata": {
    "ExecuteTime": {
     "end_time": "2020-09-07T07:21:41.484160Z",
     "start_time": "2020-09-07T07:21:41.472437Z"
    }
   },
   "outputs": [],
   "source": [
    "tmp = df[['200623_b2-1-t4-1_00wuz_00yh3_m01_s_1','200623_b2-2-t4-1_00wv0_00yh4_m01_s_1']].dropna()"
   ]
  },
  {
   "cell_type": "code",
   "execution_count": 53,
   "metadata": {
    "ExecuteTime": {
     "end_time": "2020-09-07T07:21:53.718366Z",
     "start_time": "2020-09-07T07:21:53.711643Z"
    }
   },
   "outputs": [
    {
     "data": {
      "text/html": [
       "<div>\n",
       "<style scoped>\n",
       "    .dataframe tbody tr th:only-of-type {\n",
       "        vertical-align: middle;\n",
       "    }\n",
       "\n",
       "    .dataframe tbody tr th {\n",
       "        vertical-align: top;\n",
       "    }\n",
       "\n",
       "    .dataframe thead th {\n",
       "        text-align: right;\n",
       "    }\n",
       "</style>\n",
       "<table border=\"1\" class=\"dataframe\">\n",
       "  <thead>\n",
       "    <tr style=\"text-align: right;\">\n",
       "      <th>Run</th>\n",
       "      <th>200623_b2-1-t4-1_00wuz_00yh3_m01_s_1</th>\n",
       "      <th>200623_b2-2-t4-1_00wv0_00yh4_m01_s_1</th>\n",
       "    </tr>\n",
       "    <tr>\n",
       "      <th>Run</th>\n",
       "      <th></th>\n",
       "      <th></th>\n",
       "    </tr>\n",
       "  </thead>\n",
       "  <tbody>\n",
       "    <tr>\n",
       "      <th>200623_b2-1-t4-1_00wuz_00yh3_m01_s_1</th>\n",
       "      <td>1.000000</td>\n",
       "      <td>0.459433</td>\n",
       "    </tr>\n",
       "    <tr>\n",
       "      <th>200623_b2-2-t4-1_00wv0_00yh4_m01_s_1</th>\n",
       "      <td>0.459433</td>\n",
       "      <td>1.000000</td>\n",
       "    </tr>\n",
       "  </tbody>\n",
       "</table>\n",
       "</div>"
      ],
      "text/plain": [
       "Run                                   200623_b2-1-t4-1_00wuz_00yh3_m01_s_1  \\\n",
       "Run                                                                          \n",
       "200623_b2-1-t4-1_00wuz_00yh3_m01_s_1                              1.000000   \n",
       "200623_b2-2-t4-1_00wv0_00yh4_m01_s_1                              0.459433   \n",
       "\n",
       "Run                                   200623_b2-2-t4-1_00wv0_00yh4_m01_s_1  \n",
       "Run                                                                         \n",
       "200623_b2-1-t4-1_00wuz_00yh3_m01_s_1                              0.459433  \n",
       "200623_b2-2-t4-1_00wv0_00yh4_m01_s_1                              1.000000  "
      ]
     },
     "execution_count": 53,
     "metadata": {},
     "output_type": "execute_result"
    }
   ],
   "source": [
    "tmp.corr()"
   ]
  },
  {
   "cell_type": "code",
   "execution_count": 47,
   "metadata": {
    "ExecuteTime": {
     "end_time": "2020-09-07T06:47:54.340476Z",
     "start_time": "2020-09-07T06:47:54.337774Z"
    }
   },
   "outputs": [],
   "source": [
    "corr = df.corr()"
   ]
  },
  {
   "cell_type": "code",
   "execution_count": 48,
   "metadata": {
    "ExecuteTime": {
     "end_time": "2020-09-07T06:47:54.808969Z",
     "start_time": "2020-09-07T06:47:54.799819Z"
    }
   },
   "outputs": [
    {
     "data": {
      "text/html": [
       "<div>\n",
       "<style scoped>\n",
       "    .dataframe tbody tr th:only-of-type {\n",
       "        vertical-align: middle;\n",
       "    }\n",
       "\n",
       "    .dataframe tbody tr th {\n",
       "        vertical-align: top;\n",
       "    }\n",
       "\n",
       "    .dataframe thead th {\n",
       "        text-align: right;\n",
       "    }\n",
       "</style>\n",
       "<table border=\"1\" class=\"dataframe\">\n",
       "  <thead>\n",
       "    <tr style=\"text-align: right;\">\n",
       "      <th>Run</th>\n",
       "      <th>200623_b2-1-t4-1_00wuz_00yh3_m01_s_1</th>\n",
       "      <th>200623_b2-2-t4-1_00wv0_00yh4_m01_s_1</th>\n",
       "      <th>200623_b2-3-t4-1_00wv1_00yh5_m01_s_1</th>\n",
       "      <th>200627_b2-1-t5-1_00wuz_00yid_m03_s_1</th>\n",
       "      <th>200627_b2-2-t5-1_00wv0_00yie_m03_s_1</th>\n",
       "      <th>200627_b2-3-t5-1_00wv1_00yif_m03_s_1</th>\n",
       "    </tr>\n",
       "    <tr>\n",
       "      <th>Run</th>\n",
       "      <th></th>\n",
       "      <th></th>\n",
       "      <th></th>\n",
       "      <th></th>\n",
       "      <th></th>\n",
       "      <th></th>\n",
       "    </tr>\n",
       "  </thead>\n",
       "  <tbody>\n",
       "    <tr>\n",
       "      <th>200623_b2-1-t4-1_00wuz_00yh3_m01_s_1</th>\n",
       "      <td>1.000000</td>\n",
       "      <td>0.459433</td>\n",
       "      <td>0.508344</td>\n",
       "      <td>0.766854</td>\n",
       "      <td>0.395310</td>\n",
       "      <td>0.428439</td>\n",
       "    </tr>\n",
       "    <tr>\n",
       "      <th>200623_b2-2-t4-1_00wv0_00yh4_m01_s_1</th>\n",
       "      <td>0.459433</td>\n",
       "      <td>1.000000</td>\n",
       "      <td>0.900268</td>\n",
       "      <td>0.332566</td>\n",
       "      <td>0.861896</td>\n",
       "      <td>0.828123</td>\n",
       "    </tr>\n",
       "    <tr>\n",
       "      <th>200623_b2-3-t4-1_00wv1_00yh5_m01_s_1</th>\n",
       "      <td>0.508344</td>\n",
       "      <td>0.900268</td>\n",
       "      <td>1.000000</td>\n",
       "      <td>0.374165</td>\n",
       "      <td>0.852608</td>\n",
       "      <td>0.841428</td>\n",
       "    </tr>\n",
       "    <tr>\n",
       "      <th>200627_b2-1-t5-1_00wuz_00yid_m03_s_1</th>\n",
       "      <td>0.766854</td>\n",
       "      <td>0.332566</td>\n",
       "      <td>0.374165</td>\n",
       "      <td>1.000000</td>\n",
       "      <td>0.353533</td>\n",
       "      <td>0.407715</td>\n",
       "    </tr>\n",
       "    <tr>\n",
       "      <th>200627_b2-2-t5-1_00wv0_00yie_m03_s_1</th>\n",
       "      <td>0.395310</td>\n",
       "      <td>0.861896</td>\n",
       "      <td>0.852608</td>\n",
       "      <td>0.353533</td>\n",
       "      <td>1.000000</td>\n",
       "      <td>0.856185</td>\n",
       "    </tr>\n",
       "    <tr>\n",
       "      <th>200627_b2-3-t5-1_00wv1_00yif_m03_s_1</th>\n",
       "      <td>0.428439</td>\n",
       "      <td>0.828123</td>\n",
       "      <td>0.841428</td>\n",
       "      <td>0.407715</td>\n",
       "      <td>0.856185</td>\n",
       "      <td>1.000000</td>\n",
       "    </tr>\n",
       "  </tbody>\n",
       "</table>\n",
       "</div>"
      ],
      "text/plain": [
       "Run                                   200623_b2-1-t4-1_00wuz_00yh3_m01_s_1  \\\n",
       "Run                                                                          \n",
       "200623_b2-1-t4-1_00wuz_00yh3_m01_s_1                              1.000000   \n",
       "200623_b2-2-t4-1_00wv0_00yh4_m01_s_1                              0.459433   \n",
       "200623_b2-3-t4-1_00wv1_00yh5_m01_s_1                              0.508344   \n",
       "200627_b2-1-t5-1_00wuz_00yid_m03_s_1                              0.766854   \n",
       "200627_b2-2-t5-1_00wv0_00yie_m03_s_1                              0.395310   \n",
       "200627_b2-3-t5-1_00wv1_00yif_m03_s_1                              0.428439   \n",
       "\n",
       "Run                                   200623_b2-2-t4-1_00wv0_00yh4_m01_s_1  \\\n",
       "Run                                                                          \n",
       "200623_b2-1-t4-1_00wuz_00yh3_m01_s_1                              0.459433   \n",
       "200623_b2-2-t4-1_00wv0_00yh4_m01_s_1                              1.000000   \n",
       "200623_b2-3-t4-1_00wv1_00yh5_m01_s_1                              0.900268   \n",
       "200627_b2-1-t5-1_00wuz_00yid_m03_s_1                              0.332566   \n",
       "200627_b2-2-t5-1_00wv0_00yie_m03_s_1                              0.861896   \n",
       "200627_b2-3-t5-1_00wv1_00yif_m03_s_1                              0.828123   \n",
       "\n",
       "Run                                   200623_b2-3-t4-1_00wv1_00yh5_m01_s_1  \\\n",
       "Run                                                                          \n",
       "200623_b2-1-t4-1_00wuz_00yh3_m01_s_1                              0.508344   \n",
       "200623_b2-2-t4-1_00wv0_00yh4_m01_s_1                              0.900268   \n",
       "200623_b2-3-t4-1_00wv1_00yh5_m01_s_1                              1.000000   \n",
       "200627_b2-1-t5-1_00wuz_00yid_m03_s_1                              0.374165   \n",
       "200627_b2-2-t5-1_00wv0_00yie_m03_s_1                              0.852608   \n",
       "200627_b2-3-t5-1_00wv1_00yif_m03_s_1                              0.841428   \n",
       "\n",
       "Run                                   200627_b2-1-t5-1_00wuz_00yid_m03_s_1  \\\n",
       "Run                                                                          \n",
       "200623_b2-1-t4-1_00wuz_00yh3_m01_s_1                              0.766854   \n",
       "200623_b2-2-t4-1_00wv0_00yh4_m01_s_1                              0.332566   \n",
       "200623_b2-3-t4-1_00wv1_00yh5_m01_s_1                              0.374165   \n",
       "200627_b2-1-t5-1_00wuz_00yid_m03_s_1                              1.000000   \n",
       "200627_b2-2-t5-1_00wv0_00yie_m03_s_1                              0.353533   \n",
       "200627_b2-3-t5-1_00wv1_00yif_m03_s_1                              0.407715   \n",
       "\n",
       "Run                                   200627_b2-2-t5-1_00wv0_00yie_m03_s_1  \\\n",
       "Run                                                                          \n",
       "200623_b2-1-t4-1_00wuz_00yh3_m01_s_1                              0.395310   \n",
       "200623_b2-2-t4-1_00wv0_00yh4_m01_s_1                              0.861896   \n",
       "200623_b2-3-t4-1_00wv1_00yh5_m01_s_1                              0.852608   \n",
       "200627_b2-1-t5-1_00wuz_00yid_m03_s_1                              0.353533   \n",
       "200627_b2-2-t5-1_00wv0_00yie_m03_s_1                              1.000000   \n",
       "200627_b2-3-t5-1_00wv1_00yif_m03_s_1                              0.856185   \n",
       "\n",
       "Run                                   200627_b2-3-t5-1_00wv1_00yif_m03_s_1  \n",
       "Run                                                                         \n",
       "200623_b2-1-t4-1_00wuz_00yh3_m01_s_1                              0.428439  \n",
       "200623_b2-2-t4-1_00wv0_00yh4_m01_s_1                              0.828123  \n",
       "200623_b2-3-t4-1_00wv1_00yh5_m01_s_1                              0.841428  \n",
       "200627_b2-1-t5-1_00wuz_00yid_m03_s_1                              0.407715  \n",
       "200627_b2-2-t5-1_00wv0_00yie_m03_s_1                              0.856185  \n",
       "200627_b2-3-t5-1_00wv1_00yif_m03_s_1                              1.000000  "
      ]
     },
     "execution_count": 48,
     "metadata": {},
     "output_type": "execute_result"
    }
   ],
   "source": [
    "corr"
   ]
  },
  {
   "cell_type": "code",
   "execution_count": null,
   "metadata": {},
   "outputs": [],
   "source": []
  }
 ],
 "metadata": {
  "kernelspec": {
   "display_name": "Python 3",
   "language": "python",
   "name": "python3"
  },
  "language_info": {
   "codemirror_mode": {
    "name": "ipython",
    "version": 3
   },
   "file_extension": ".py",
   "mimetype": "text/x-python",
   "name": "python",
   "nbconvert_exporter": "python",
   "pygments_lexer": "ipython3",
   "version": "3.8.5"
  },
  "toc": {
   "base_numbering": 1,
   "nav_menu": {},
   "number_sections": true,
   "sideBar": true,
   "skip_h1_title": false,
   "title_cell": "Table of Contents",
   "title_sidebar": "Contents",
   "toc_cell": false,
   "toc_position": {},
   "toc_section_display": true,
   "toc_window_display": false
  }
 },
 "nbformat": 4,
 "nbformat_minor": 4
}
