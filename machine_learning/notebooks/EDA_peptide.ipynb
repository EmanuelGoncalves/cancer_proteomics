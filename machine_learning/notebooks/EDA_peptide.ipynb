{
 "cells": [
  {
   "cell_type": "code",
   "execution_count": 10,
   "metadata": {
    "ExecuteTime": {
     "end_time": "2020-03-13T09:44:30.300543Z",
     "start_time": "2020-03-13T09:44:29.489121Z"
    }
   },
   "outputs": [],
   "source": [
    "import pandas as pd\n",
    "\n",
    "import pickle\n",
    "\n",
    "import seaborn as sns"
   ]
  },
  {
   "cell_type": "code",
   "execution_count": 4,
   "metadata": {
    "ExecuteTime": {
     "end_time": "2020-03-13T09:39:34.068624Z",
     "start_time": "2020-03-13T09:39:29.360042Z"
    }
   },
   "outputs": [],
   "source": [
    "peptide_raw = pickle.load(open(\"../data/protein/E0022_P06_log_transformed_peptide.pkl\", \"rb\"))"
   ]
  },
  {
   "cell_type": "code",
   "execution_count": 5,
   "metadata": {
    "ExecuteTime": {
     "end_time": "2020-03-13T09:40:15.978303Z",
     "start_time": "2020-03-13T09:40:08.900055Z"
    }
   },
   "outputs": [],
   "source": [
    "col_na_count = pd.isna(peptide_raw).sum()\n",
    "col_na_count = col_na_count[1:]"
   ]
  },
  {
   "cell_type": "code",
   "execution_count": 12,
   "metadata": {
    "ExecuteTime": {
     "end_time": "2020-03-13T09:45:30.430194Z",
     "start_time": "2020-03-13T09:45:30.392090Z"
    }
   },
   "outputs": [],
   "source": [
    "col_na_count_per = col_na_count / peptide_raw.shape[0]"
   ]
  },
  {
   "cell_type": "code",
   "execution_count": 14,
   "metadata": {
    "ExecuteTime": {
     "end_time": "2020-03-13T10:33:16.796807Z",
     "start_time": "2020-03-13T10:33:16.591947Z"
    }
   },
   "outputs": [
    {
     "data": {
      "text/plain": [
       "<matplotlib.axes._subplots.AxesSubplot at 0x11fba9470>"
      ]
     },
     "execution_count": 14,
     "metadata": {},
     "output_type": "execute_result"
    },
    {
     "data": {
      "image/png": "[encoded data removed]",
      "text/plain": [
       "<Figure size 432x288 with 1 Axes>"
      ]
     },
     "metadata": {
      "needs_background": "light"
     },
     "output_type": "display_data"
    }
   ],
   "source": [
    "sns.distplot(col_na_count_per, kde=False)"
   ]
  },
  {
   "cell_type": "code",
   "execution_count": 15,
   "metadata": {
    "ExecuteTime": {
     "end_time": "2020-03-13T10:35:46.391538Z",
     "start_time": "2020-03-13T10:35:46.383560Z"
    }
   },
   "outputs": [
    {
     "data": {
      "text/plain": [
       "count    36856.000000\n",
       "mean         0.570303\n",
       "std          0.291702\n",
       "min          0.000000\n",
       "25%          0.338655\n",
       "50%          0.628501\n",
       "75%          0.819328\n",
       "max          0.999440\n",
       "dtype: float64"
      ]
     },
     "execution_count": 15,
     "metadata": {},
     "output_type": "execute_result"
    }
   ],
   "source": [
    "col_na_count_per.describe()"
   ]
  },
  {
   "cell_type": "code",
   "execution_count": 16,
   "metadata": {
    "ExecuteTime": {
     "end_time": "2020-03-13T10:41:55.425794Z",
     "start_time": "2020-03-13T10:41:55.420717Z"
    }
   },
   "outputs": [],
   "source": [
    "peptide_50 = col_na_count_per[col_na_count_per < 0.5]"
   ]
  },
  {
   "cell_type": "code",
   "execution_count": 25,
   "metadata": {
    "ExecuteTime": {
     "end_time": "2020-03-13T10:46:28.063530Z",
     "start_time": "2020-03-13T10:46:28.060151Z"
    }
   },
   "outputs": [],
   "source": [
    "peptide_50_name = ['Automatic_MS_filename']+list(peptide_50.index.values)"
   ]
  },
  {
   "cell_type": "code",
   "execution_count": 27,
   "metadata": {
    "ExecuteTime": {
     "end_time": "2020-03-13T10:46:43.766899Z",
     "start_time": "2020-03-13T10:46:43.078096Z"
    }
   },
   "outputs": [],
   "source": [
    "peptide_50 = peptide_raw[peptide_50_name]"
   ]
  },
  {
   "cell_type": "code",
   "execution_count": 30,
   "metadata": {
    "ExecuteTime": {
     "end_time": "2020-03-13T10:47:24.524449Z",
     "start_time": "2020-03-13T10:47:23.052169Z"
    }
   },
   "outputs": [],
   "source": [
    "pickle.dump(peptide_50, open(\"../data/protein/E0022_P06_log_transformed_peptide_50.pkl\", \"wb\"))"
   ]
  },
  {
   "cell_type": "code",
   "execution_count": null,
   "metadata": {},
   "outputs": [],
   "source": []
  }
 ],
 "metadata": {
  "kernelspec": {
   "display_name": "Python 3",
   "language": "python",
   "name": "python3"
  },
  "language_info": {
   "codemirror_mode": {
    "name": "ipython",
    "version": 3
   },
   "file_extension": ".py",
   "mimetype": "text/x-python",
   "name": "python",
   "nbconvert_exporter": "python",
   "pygments_lexer": "ipython3",
   "version": "3.7.3"
  },
  "toc": {
   "base_numbering": 1,
   "nav_menu": {},
   "number_sections": true,
   "sideBar": true,
   "skip_h1_title": false,
   "title_cell": "Table of Contents",
   "title_sidebar": "Contents",
   "toc_cell": false,
   "toc_position": {},
   "toc_section_display": true,
   "toc_window_display": false
  }
 },
 "nbformat": 4,
 "nbformat_minor": 2
}
