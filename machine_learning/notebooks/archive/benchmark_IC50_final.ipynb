{
 "cells": [
  {
   "cell_type": "code",
   "execution_count": 1,
   "metadata": {
    "ExecuteTime": {
     "end_time": "2020-04-07T23:22:23.926330Z",
     "start_time": "2020-04-07T23:22:21.839503Z"
    }
   },
   "outputs": [],
   "source": [
    "import pandas as pd\n",
    "import numpy as np\n",
    "import seaborn as sns\n",
    "import matplotlib.pyplot as plt\n",
    "from scipy.stats import ttest_ind\n",
    "from sklearn.metrics import r2_score\n",
    "from scipy.stats import pearsonr\n",
    "import plotly.express as px\n",
    "import plotly.graph_objects as go\n"
   ]
  },
  {
   "cell_type": "code",
   "execution_count": 2,
   "metadata": {
    "ExecuteTime": {
     "end_time": "2020-04-07T23:22:31.646170Z",
     "start_time": "2020-04-07T23:22:30.678510Z"
    }
   },
   "outputs": [],
   "source": [
    "ic50 = pd.read_csv(\"../data/drug/ic50_processed.csv\")"
   ]
  },
  {
   "cell_type": "code",
   "execution_count": 3,
   "metadata": {
    "ExecuteTime": {
     "end_time": "2020-04-07T23:22:31.653712Z",
     "start_time": "2020-04-07T23:22:31.648379Z"
    }
   },
   "outputs": [],
   "source": [
    "def plot_best_params(df):\n",
    "    fig, ax = plt.subplots((df.columns.size - 2) // 2 + 1,\n",
    "                           2,\n",
    "                           figsize=(15, 4 * ((df.columns.size - 2) // 2 + 1)))\n",
    "    count = 0\n",
    "    for col in df.columns:\n",
    "        if col != 'Drug Id':\n",
    "            if (df.columns.size - 1) <= 2:\n",
    "                sns.countplot(df[col], ax=ax[count])\n",
    "            else:\n",
    "                sns.countplot(df[col], ax=ax[count // 2, count % 2])\n",
    "            count += 1"
   ]
  },
  {
   "cell_type": "markdown",
   "metadata": {},
   "source": [
    "# RUV Zero"
   ]
  },
  {
   "cell_type": "markdown",
   "metadata": {},
   "source": [
    "## min 900"
   ]
  },
  {
   "cell_type": "code",
   "execution_count": 10,
   "metadata": {
    "ExecuteTime": {
     "end_time": "2020-04-08T04:54:02.144622Z",
     "start_time": "2020-04-08T04:54:02.072360Z"
    }
   },
   "outputs": [],
   "source": [
    "# scores_en_rna = pd.read_csv(\"../work_dirs/rna_norm/ElasticNet/scores_202004032156_rna_900.csv\")\n",
    "# scores_svm_rna = pd.read_csv(\"../work_dirs/rna_norm/SVM/scores_202004071606_rna_900.csv\")\n",
    "scores_rf_rna = pd.read_csv(\"../work_dirs/rna/RandomForest/scores_202004080205_rna_900.csv\")\n",
    "scores_rf_protein = pd.read_csv(\"../work_dirs/protein/RandomForest/scores_202004080954_ruv_zero_900.csv\")"
   ]
  },
  {
   "cell_type": "code",
   "execution_count": 11,
   "metadata": {
    "ExecuteTime": {
     "end_time": "2020-04-08T04:54:02.514217Z",
     "start_time": "2020-04-08T04:54:02.508379Z"
    }
   },
   "outputs": [
    {
     "name": "stdout",
     "output_type": "stream",
     "text": [
      "0.5172284895134749\n",
      "0.510053211240174\n"
     ]
    }
   ],
   "source": [
    "print(scores_rf_rna['test_corr'].median())\n",
    "print(scores_rf_protein['test_corr'].median())"
   ]
  },
  {
   "cell_type": "markdown",
   "metadata": {},
   "source": [
    "## min 300"
   ]
  },
  {
   "cell_type": "code",
   "execution_count": 12,
   "metadata": {
    "ExecuteTime": {
     "end_time": "2020-04-08T04:54:17.961600Z",
     "start_time": "2020-04-08T04:54:17.940442Z"
    }
   },
   "outputs": [],
   "source": [
    "scores_rf_rna = pd.read_csv(\"../work_dirs/rna/RandomForest/scores_202004080204_rna_300.csv\")\n",
    "scores_rf_protein = pd.read_csv(\"../work_dirs/protein/RandomForest/scores_202004080954_ruv_zero_300.csv\")"
   ]
  },
  {
   "cell_type": "code",
   "execution_count": 13,
   "metadata": {
    "ExecuteTime": {
     "end_time": "2020-04-08T04:54:21.389223Z",
     "start_time": "2020-04-08T04:54:21.385479Z"
    }
   },
   "outputs": [
    {
     "name": "stdout",
     "output_type": "stream",
     "text": [
      "0.5101394244345948\n",
      "0.49168261074334285\n"
     ]
    }
   ],
   "source": [
    "print(scores_rf_rna['test_corr'].median())\n",
    "print(scores_rf_protein['test_corr'].median())"
   ]
  },
  {
   "cell_type": "markdown",
   "metadata": {},
   "source": [
    "# RNA"
   ]
  },
  {
   "cell_type": "code",
   "execution_count": 6,
   "metadata": {
    "ExecuteTime": {
     "end_time": "2020-04-07T23:27:53.062716Z",
     "start_time": "2020-04-07T23:27:53.013739Z"
    }
   },
   "outputs": [
    {
     "name": "stdout",
     "output_type": "stream",
     "text": [
      "    epoch      corr\n",
      "74     75  0.509237\n"
     ]
    },
    {
     "data": {
      "text/plain": [
       "0.4825486729306343"
      ]
     },
     "execution_count": 6,
     "metadata": {},
     "output_type": "execute_result"
    }
   ],
   "source": [
    "scores_multi_rna = pd.read_csv(\n",
    "    \"../work_dirs/rna/MultiDrug/scores_202004080207_resx_900_14000_3500.csv\"\n",
    ")\n",
    "scores_multi_rna_norm_test = scores_multi_rna[\n",
    "    scores_multi_rna['run'] == 'test'].reset_index(drop=True)\n",
    "\n",
    "max_epoch = scores_multi_rna_norm_test.groupby(\n",
    "    ['epoch']).median()['corr'].reset_index()\n",
    "\n",
    "print(max_epoch[max_epoch['corr'] == max_epoch['corr'].max()])\n",
    "scores_multi_rna_norm_test[scores_multi_rna_norm_test['epoch'] ==\n",
    "                               149]['corr'].median()"
   ]
  },
  {
   "cell_type": "code",
   "execution_count": 7,
   "metadata": {
    "ExecuteTime": {
     "end_time": "2020-04-07T23:28:01.302673Z",
     "start_time": "2020-04-07T23:28:01.232257Z"
    }
   },
   "outputs": [
    {
     "name": "stdout",
     "output_type": "stream",
     "text": [
      "    epoch      corr\n",
      "99    100  0.501813\n"
     ]
    },
    {
     "data": {
      "text/plain": [
       "nan"
      ]
     },
     "execution_count": 7,
     "metadata": {},
     "output_type": "execute_result"
    }
   ],
   "source": [
    "scores_multi_rna = pd.read_csv(\n",
    "    \"../work_dirs/rna/MultiDrug/scores_202004080209_resx_300_14000_3500.csv\"\n",
    ")\n",
    "scores_multi_rna_norm_test = scores_multi_rna[\n",
    "    scores_multi_rna['run'] == 'test'].reset_index(drop=True)\n",
    "\n",
    "max_epoch = scores_multi_rna_norm_test.groupby(\n",
    "    ['epoch']).median()['corr'].reset_index()\n",
    "\n",
    "print(max_epoch[max_epoch['corr'] == max_epoch['corr'].max()])\n",
    "scores_multi_rna_norm_test[scores_multi_rna_norm_test['epoch'] ==\n",
    "                               200]['corr'].median()"
   ]
  },
  {
   "cell_type": "code",
   "execution_count": null,
   "metadata": {},
   "outputs": [],
   "source": []
  }
 ],
 "metadata": {
  "kernelspec": {
   "display_name": "Python 3",
   "language": "python",
   "name": "python3"
  },
  "language_info": {
   "codemirror_mode": {
    "name": "ipython",
    "version": 3
   },
   "file_extension": ".py",
   "mimetype": "text/x-python",
   "name": "python",
   "nbconvert_exporter": "python",
   "pygments_lexer": "ipython3",
   "version": "3.6.10"
  },
  "toc": {
   "base_numbering": 1,
   "nav_menu": {},
   "number_sections": true,
   "sideBar": true,
   "skip_h1_title": false,
   "title_cell": "Table of Contents",
   "title_sidebar": "Contents",
   "toc_cell": false,
   "toc_position": {},
   "toc_section_display": true,
   "toc_window_display": true
  }
 },
 "nbformat": 4,
 "nbformat_minor": 4
}
