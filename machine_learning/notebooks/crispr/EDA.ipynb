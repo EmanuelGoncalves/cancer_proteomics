{
 "cells": [
  {
   "cell_type": "code",
   "execution_count": 1,
   "metadata": {
    "ExecuteTime": {
     "end_time": "2020-09-13T04:22:19.994977Z",
     "start_time": "2020-09-13T04:22:18.579977Z"
    }
   },
   "outputs": [],
   "source": [
    "import pandas as pd\n",
    "import matplotlib as plt\n",
    "import seaborn as sns\n",
    "import numpy as np"
   ]
  },
  {
   "cell_type": "code",
   "execution_count": 2,
   "metadata": {
    "ExecuteTime": {
     "end_time": "2020-09-13T04:22:20.061469Z",
     "start_time": "2020-09-13T04:22:19.996598Z"
    }
   },
   "outputs": [],
   "source": [
    "meta = pd.read_csv(\"../../data/E0022_P06_final_sample_map_no_control.txt\", sep='\\t')"
   ]
  },
  {
   "cell_type": "code",
   "execution_count": 3,
   "metadata": {
    "ExecuteTime": {
     "end_time": "2020-09-13T04:22:20.950106Z",
     "start_time": "2020-09-13T04:22:20.063502Z"
    }
   },
   "outputs": [],
   "source": [
    "cell_lines_train = pd.read_csv(\n",
    "    \"../../data/protein/E0022_P06_Protein_Matrix_ProNorM_no_control_train.txt\",\n",
    "    sep='\\t')['Cell_line'].values\n",
    "cell_lines_test = pd.read_csv(\n",
    "    \"../../data/protein/E0022_P06_Protein_Matrix_ProNorM_no_control_test.txt\",\n",
    "    sep='\\t')['Cell_line'].values"
   ]
  },
  {
   "cell_type": "markdown",
   "metadata": {},
   "source": [
    "# CRISPR"
   ]
  },
  {
   "cell_type": "code",
   "execution_count": 4,
   "metadata": {
    "ExecuteTime": {
     "end_time": "2020-09-13T04:22:24.341845Z",
     "start_time": "2020-09-13T04:22:22.680037Z"
    }
   },
   "outputs": [],
   "source": [
    "crispr = pd.read_csv(\"../../data/crispr/final_crispr.csv.gz\")"
   ]
  },
  {
   "cell_type": "code",
   "execution_count": 5,
   "metadata": {
    "ExecuteTime": {
     "end_time": "2020-09-13T04:22:24.909495Z",
     "start_time": "2020-09-13T04:22:24.867820Z"
    }
   },
   "outputs": [],
   "source": [
    "crispr = crispr.set_index('Gene')"
   ]
  },
  {
   "cell_type": "code",
   "execution_count": 6,
   "metadata": {
    "ExecuteTime": {
     "end_time": "2020-08-07T01:43:22.319785Z",
     "start_time": "2020-08-07T01:43:22.287790Z"
    }
   },
   "outputs": [
    {
     "data": {
      "text/html": [
       "<div>\n",
       "<style scoped>\n",
       "    .dataframe tbody tr th:only-of-type {\n",
       "        vertical-align: middle;\n",
       "    }\n",
       "\n",
       "    .dataframe tbody tr th {\n",
       "        vertical-align: top;\n",
       "    }\n",
       "\n",
       "    .dataframe thead th {\n",
       "        text-align: right;\n",
       "    }\n",
       "</style>\n",
       "<table border=\"1\" class=\"dataframe\">\n",
       "  <thead>\n",
       "    <tr style=\"text-align: right;\">\n",
       "      <th></th>\n",
       "      <th>HEL</th>\n",
       "      <th>HCC-827</th>\n",
       "      <th>NCI-H1581</th>\n",
       "      <th>T24</th>\n",
       "      <th>NCI-H1693</th>\n",
       "      <th>U-118-MG</th>\n",
       "      <th>MV-4-11</th>\n",
       "      <th>GCIY</th>\n",
       "      <th>A673</th>\n",
       "      <th>KARPAS-299</th>\n",
       "      <th>...</th>\n",
       "      <th>PANC-10-05</th>\n",
       "      <th>PANC-04-03</th>\n",
       "      <th>PANC-02-03</th>\n",
       "      <th>OV-90</th>\n",
       "      <th>SNU-1</th>\n",
       "      <th>SW1088</th>\n",
       "      <th>SW1573</th>\n",
       "      <th>TOV-21G</th>\n",
       "      <th>T98G</th>\n",
       "      <th>C2BBe1</th>\n",
       "    </tr>\n",
       "    <tr>\n",
       "      <th>Gene</th>\n",
       "      <th></th>\n",
       "      <th></th>\n",
       "      <th></th>\n",
       "      <th></th>\n",
       "      <th></th>\n",
       "      <th></th>\n",
       "      <th></th>\n",
       "      <th></th>\n",
       "      <th></th>\n",
       "      <th></th>\n",
       "      <th></th>\n",
       "      <th></th>\n",
       "      <th></th>\n",
       "      <th></th>\n",
       "      <th></th>\n",
       "      <th></th>\n",
       "      <th></th>\n",
       "      <th></th>\n",
       "      <th></th>\n",
       "      <th></th>\n",
       "      <th></th>\n",
       "    </tr>\n",
       "  </thead>\n",
       "  <tbody>\n",
       "    <tr>\n",
       "      <th>A1BG</th>\n",
       "      <td>-0.12228</td>\n",
       "      <td>-0.14840</td>\n",
       "      <td>-0.22644</td>\n",
       "      <td>-0.19368</td>\n",
       "      <td>-0.07416</td>\n",
       "      <td>-0.13952</td>\n",
       "      <td>-0.06369</td>\n",
       "      <td>-0.17434</td>\n",
       "      <td>-0.11102</td>\n",
       "      <td>-0.00409</td>\n",
       "      <td>...</td>\n",
       "      <td>-0.00653</td>\n",
       "      <td>-0.05449</td>\n",
       "      <td>-0.03721</td>\n",
       "      <td>-0.05632</td>\n",
       "      <td>-0.18148</td>\n",
       "      <td>-0.00390</td>\n",
       "      <td>-0.11492</td>\n",
       "      <td>-0.25082</td>\n",
       "      <td>-0.14007</td>\n",
       "      <td>-0.02537</td>\n",
       "    </tr>\n",
       "    <tr>\n",
       "      <th>A1CF</th>\n",
       "      <td>-0.06676</td>\n",
       "      <td>0.04694</td>\n",
       "      <td>-0.12357</td>\n",
       "      <td>0.01646</td>\n",
       "      <td>-0.09219</td>\n",
       "      <td>-0.03626</td>\n",
       "      <td>0.20422</td>\n",
       "      <td>0.26587</td>\n",
       "      <td>-0.05866</td>\n",
       "      <td>-0.06290</td>\n",
       "      <td>...</td>\n",
       "      <td>0.06266</td>\n",
       "      <td>0.03846</td>\n",
       "      <td>0.01334</td>\n",
       "      <td>-0.03609</td>\n",
       "      <td>0.02550</td>\n",
       "      <td>-0.12350</td>\n",
       "      <td>-0.12449</td>\n",
       "      <td>-0.04704</td>\n",
       "      <td>-0.12794</td>\n",
       "      <td>-0.06395</td>\n",
       "    </tr>\n",
       "    <tr>\n",
       "      <th>A2M</th>\n",
       "      <td>-0.04738</td>\n",
       "      <td>0.01823</td>\n",
       "      <td>-0.11768</td>\n",
       "      <td>-0.32711</td>\n",
       "      <td>-0.02917</td>\n",
       "      <td>-0.18112</td>\n",
       "      <td>0.07463</td>\n",
       "      <td>-0.06795</td>\n",
       "      <td>0.13849</td>\n",
       "      <td>0.04201</td>\n",
       "      <td>...</td>\n",
       "      <td>-0.06771</td>\n",
       "      <td>-0.02770</td>\n",
       "      <td>0.05723</td>\n",
       "      <td>0.00379</td>\n",
       "      <td>0.10457</td>\n",
       "      <td>-0.09896</td>\n",
       "      <td>-0.09706</td>\n",
       "      <td>0.00788</td>\n",
       "      <td>-0.07976</td>\n",
       "      <td>0.00849</td>\n",
       "    </tr>\n",
       "    <tr>\n",
       "      <th>A2ML1</th>\n",
       "      <td>-0.11845</td>\n",
       "      <td>0.06269</td>\n",
       "      <td>0.00131</td>\n",
       "      <td>0.02931</td>\n",
       "      <td>-0.04180</td>\n",
       "      <td>-0.16396</td>\n",
       "      <td>0.06597</td>\n",
       "      <td>0.24764</td>\n",
       "      <td>0.06359</td>\n",
       "      <td>0.12368</td>\n",
       "      <td>...</td>\n",
       "      <td>0.00618</td>\n",
       "      <td>0.04353</td>\n",
       "      <td>0.05205</td>\n",
       "      <td>-0.02384</td>\n",
       "      <td>0.01318</td>\n",
       "      <td>0.01886</td>\n",
       "      <td>0.01083</td>\n",
       "      <td>0.05061</td>\n",
       "      <td>0.04051</td>\n",
       "      <td>0.15309</td>\n",
       "    </tr>\n",
       "    <tr>\n",
       "      <th>A3GALT2</th>\n",
       "      <td>0.00583</td>\n",
       "      <td>0.12556</td>\n",
       "      <td>0.00524</td>\n",
       "      <td>0.06642</td>\n",
       "      <td>-0.09509</td>\n",
       "      <td>-0.07408</td>\n",
       "      <td>0.06802</td>\n",
       "      <td>0.00595</td>\n",
       "      <td>0.04275</td>\n",
       "      <td>-0.11596</td>\n",
       "      <td>...</td>\n",
       "      <td>-0.17139</td>\n",
       "      <td>-0.00978</td>\n",
       "      <td>-0.05992</td>\n",
       "      <td>-0.06299</td>\n",
       "      <td>0.00317</td>\n",
       "      <td>-0.12989</td>\n",
       "      <td>-0.01678</td>\n",
       "      <td>0.06876</td>\n",
       "      <td>-0.05376</td>\n",
       "      <td>0.00758</td>\n",
       "    </tr>\n",
       "    <tr>\n",
       "      <th>...</th>\n",
       "      <td>...</td>\n",
       "      <td>...</td>\n",
       "      <td>...</td>\n",
       "      <td>...</td>\n",
       "      <td>...</td>\n",
       "      <td>...</td>\n",
       "      <td>...</td>\n",
       "      <td>...</td>\n",
       "      <td>...</td>\n",
       "      <td>...</td>\n",
       "      <td>...</td>\n",
       "      <td>...</td>\n",
       "      <td>...</td>\n",
       "      <td>...</td>\n",
       "      <td>...</td>\n",
       "      <td>...</td>\n",
       "      <td>...</td>\n",
       "      <td>...</td>\n",
       "      <td>...</td>\n",
       "      <td>...</td>\n",
       "      <td>...</td>\n",
       "    </tr>\n",
       "    <tr>\n",
       "      <th>ZYG11A</th>\n",
       "      <td>0.10325</td>\n",
       "      <td>0.15758</td>\n",
       "      <td>0.16004</td>\n",
       "      <td>0.04769</td>\n",
       "      <td>0.15507</td>\n",
       "      <td>-0.01552</td>\n",
       "      <td>0.03123</td>\n",
       "      <td>-0.07182</td>\n",
       "      <td>0.18367</td>\n",
       "      <td>0.02978</td>\n",
       "      <td>...</td>\n",
       "      <td>0.05653</td>\n",
       "      <td>0.04788</td>\n",
       "      <td>0.06872</td>\n",
       "      <td>0.01035</td>\n",
       "      <td>-0.01380</td>\n",
       "      <td>-0.10008</td>\n",
       "      <td>-0.03668</td>\n",
       "      <td>0.05730</td>\n",
       "      <td>-0.10141</td>\n",
       "      <td>-0.05757</td>\n",
       "    </tr>\n",
       "    <tr>\n",
       "      <th>ZYG11B</th>\n",
       "      <td>-0.39658</td>\n",
       "      <td>0.09681</td>\n",
       "      <td>0.02453</td>\n",
       "      <td>0.06738</td>\n",
       "      <td>-0.08462</td>\n",
       "      <td>-0.03160</td>\n",
       "      <td>-0.01174</td>\n",
       "      <td>-0.17678</td>\n",
       "      <td>-0.07997</td>\n",
       "      <td>-0.04185</td>\n",
       "      <td>...</td>\n",
       "      <td>-0.07663</td>\n",
       "      <td>-0.03972</td>\n",
       "      <td>-0.11032</td>\n",
       "      <td>-0.05196</td>\n",
       "      <td>-0.08886</td>\n",
       "      <td>-0.19547</td>\n",
       "      <td>-0.19423</td>\n",
       "      <td>-0.05156</td>\n",
       "      <td>-0.09143</td>\n",
       "      <td>-0.29212</td>\n",
       "    </tr>\n",
       "    <tr>\n",
       "      <th>ZYX</th>\n",
       "      <td>0.05185</td>\n",
       "      <td>-0.16453</td>\n",
       "      <td>-0.13886</td>\n",
       "      <td>-0.06939</td>\n",
       "      <td>-0.09017</td>\n",
       "      <td>0.02340</td>\n",
       "      <td>-0.01664</td>\n",
       "      <td>-0.27411</td>\n",
       "      <td>-0.35996</td>\n",
       "      <td>-0.08719</td>\n",
       "      <td>...</td>\n",
       "      <td>-0.14009</td>\n",
       "      <td>-0.01752</td>\n",
       "      <td>0.16002</td>\n",
       "      <td>-0.18843</td>\n",
       "      <td>0.02069</td>\n",
       "      <td>-0.07902</td>\n",
       "      <td>-0.12511</td>\n",
       "      <td>-0.14371</td>\n",
       "      <td>-0.04241</td>\n",
       "      <td>0.03677</td>\n",
       "    </tr>\n",
       "    <tr>\n",
       "      <th>ZZEF1</th>\n",
       "      <td>0.23740</td>\n",
       "      <td>-0.17023</td>\n",
       "      <td>-0.03636</td>\n",
       "      <td>-0.13332</td>\n",
       "      <td>-0.07950</td>\n",
       "      <td>-0.05942</td>\n",
       "      <td>-0.08565</td>\n",
       "      <td>-0.13216</td>\n",
       "      <td>-0.13838</td>\n",
       "      <td>-0.03687</td>\n",
       "      <td>...</td>\n",
       "      <td>-0.05965</td>\n",
       "      <td>-0.10340</td>\n",
       "      <td>0.02175</td>\n",
       "      <td>-0.17200</td>\n",
       "      <td>-0.04781</td>\n",
       "      <td>-0.13315</td>\n",
       "      <td>-0.14312</td>\n",
       "      <td>-0.13795</td>\n",
       "      <td>-0.01120</td>\n",
       "      <td>0.03502</td>\n",
       "    </tr>\n",
       "    <tr>\n",
       "      <th>ZZZ3</th>\n",
       "      <td>-0.06326</td>\n",
       "      <td>-0.21646</td>\n",
       "      <td>-0.21432</td>\n",
       "      <td>-0.10142</td>\n",
       "      <td>-0.21831</td>\n",
       "      <td>-0.19076</td>\n",
       "      <td>-0.43193</td>\n",
       "      <td>-0.44604</td>\n",
       "      <td>-0.31472</td>\n",
       "      <td>-0.03441</td>\n",
       "      <td>...</td>\n",
       "      <td>-0.21481</td>\n",
       "      <td>-0.32632</td>\n",
       "      <td>-0.20246</td>\n",
       "      <td>-0.40794</td>\n",
       "      <td>-0.34909</td>\n",
       "      <td>-0.31604</td>\n",
       "      <td>0.03170</td>\n",
       "      <td>-0.25038</td>\n",
       "      <td>-0.20288</td>\n",
       "      <td>-0.19290</td>\n",
       "    </tr>\n",
       "  </tbody>\n",
       "</table>\n",
       "<p>16827 rows × 514 columns</p>\n",
       "</div>"
      ],
      "text/plain": [
       "             HEL  HCC-827  NCI-H1581      T24  NCI-H1693  U-118-MG  MV-4-11  \\\n",
       "Gene                                                                          \n",
       "A1BG    -0.12228 -0.14840   -0.22644 -0.19368   -0.07416  -0.13952 -0.06369   \n",
       "A1CF    -0.06676  0.04694   -0.12357  0.01646   -0.09219  -0.03626  0.20422   \n",
       "A2M     -0.04738  0.01823   -0.11768 -0.32711   -0.02917  -0.18112  0.07463   \n",
       "A2ML1   -0.11845  0.06269    0.00131  0.02931   -0.04180  -0.16396  0.06597   \n",
       "A3GALT2  0.00583  0.12556    0.00524  0.06642   -0.09509  -0.07408  0.06802   \n",
       "...          ...      ...        ...      ...        ...       ...      ...   \n",
       "ZYG11A   0.10325  0.15758    0.16004  0.04769    0.15507  -0.01552  0.03123   \n",
       "ZYG11B  -0.39658  0.09681    0.02453  0.06738   -0.08462  -0.03160 -0.01174   \n",
       "ZYX      0.05185 -0.16453   -0.13886 -0.06939   -0.09017   0.02340 -0.01664   \n",
       "ZZEF1    0.23740 -0.17023   -0.03636 -0.13332   -0.07950  -0.05942 -0.08565   \n",
       "ZZZ3    -0.06326 -0.21646   -0.21432 -0.10142   -0.21831  -0.19076 -0.43193   \n",
       "\n",
       "            GCIY     A673  KARPAS-299  ...  PANC-10-05  PANC-04-03  \\\n",
       "Gene                                   ...                           \n",
       "A1BG    -0.17434 -0.11102    -0.00409  ...    -0.00653    -0.05449   \n",
       "A1CF     0.26587 -0.05866    -0.06290  ...     0.06266     0.03846   \n",
       "A2M     -0.06795  0.13849     0.04201  ...    -0.06771    -0.02770   \n",
       "A2ML1    0.24764  0.06359     0.12368  ...     0.00618     0.04353   \n",
       "A3GALT2  0.00595  0.04275    -0.11596  ...    -0.17139    -0.00978   \n",
       "...          ...      ...         ...  ...         ...         ...   \n",
       "ZYG11A  -0.07182  0.18367     0.02978  ...     0.05653     0.04788   \n",
       "ZYG11B  -0.17678 -0.07997    -0.04185  ...    -0.07663    -0.03972   \n",
       "ZYX     -0.27411 -0.35996    -0.08719  ...    -0.14009    -0.01752   \n",
       "ZZEF1   -0.13216 -0.13838    -0.03687  ...    -0.05965    -0.10340   \n",
       "ZZZ3    -0.44604 -0.31472    -0.03441  ...    -0.21481    -0.32632   \n",
       "\n",
       "         PANC-02-03    OV-90    SNU-1   SW1088   SW1573  TOV-21G     T98G  \\\n",
       "Gene                                                                        \n",
       "A1BG       -0.03721 -0.05632 -0.18148 -0.00390 -0.11492 -0.25082 -0.14007   \n",
       "A1CF        0.01334 -0.03609  0.02550 -0.12350 -0.12449 -0.04704 -0.12794   \n",
       "A2M         0.05723  0.00379  0.10457 -0.09896 -0.09706  0.00788 -0.07976   \n",
       "A2ML1       0.05205 -0.02384  0.01318  0.01886  0.01083  0.05061  0.04051   \n",
       "A3GALT2    -0.05992 -0.06299  0.00317 -0.12989 -0.01678  0.06876 -0.05376   \n",
       "...             ...      ...      ...      ...      ...      ...      ...   \n",
       "ZYG11A      0.06872  0.01035 -0.01380 -0.10008 -0.03668  0.05730 -0.10141   \n",
       "ZYG11B     -0.11032 -0.05196 -0.08886 -0.19547 -0.19423 -0.05156 -0.09143   \n",
       "ZYX         0.16002 -0.18843  0.02069 -0.07902 -0.12511 -0.14371 -0.04241   \n",
       "ZZEF1       0.02175 -0.17200 -0.04781 -0.13315 -0.14312 -0.13795 -0.01120   \n",
       "ZZZ3       -0.20246 -0.40794 -0.34909 -0.31604  0.03170 -0.25038 -0.20288   \n",
       "\n",
       "          C2BBe1  \n",
       "Gene              \n",
       "A1BG    -0.02537  \n",
       "A1CF    -0.06395  \n",
       "A2M      0.00849  \n",
       "A2ML1    0.15309  \n",
       "A3GALT2  0.00758  \n",
       "...          ...  \n",
       "ZYG11A  -0.05757  \n",
       "ZYG11B  -0.29212  \n",
       "ZYX      0.03677  \n",
       "ZZEF1    0.03502  \n",
       "ZZZ3    -0.19290  \n",
       "\n",
       "[16827 rows x 514 columns]"
      ]
     },
     "execution_count": 6,
     "metadata": {},
     "output_type": "execute_result"
    }
   ],
   "source": [
    "crispr"
   ]
  },
  {
   "cell_type": "code",
   "execution_count": 84,
   "metadata": {
    "ExecuteTime": {
     "end_time": "2020-05-26T13:41:31.785257Z",
     "start_time": "2020-05-26T13:41:31.765551Z"
    }
   },
   "outputs": [
    {
     "data": {
      "text/html": [
       "<div>\n",
       "<style scoped>\n",
       "    .dataframe tbody tr th:only-of-type {\n",
       "        vertical-align: middle;\n",
       "    }\n",
       "\n",
       "    .dataframe tbody tr th {\n",
       "        vertical-align: top;\n",
       "    }\n",
       "\n",
       "    .dataframe thead th {\n",
       "        text-align: right;\n",
       "    }\n",
       "</style>\n",
       "<table border=\"1\" class=\"dataframe\">\n",
       "  <thead>\n",
       "    <tr style=\"text-align: right;\">\n",
       "      <th></th>\n",
       "      <th>Gene</th>\n",
       "      <th>HEL</th>\n",
       "      <th>HCC-827</th>\n",
       "      <th>NCI-H1581</th>\n",
       "      <th>T24</th>\n",
       "      <th>NCI-H1693</th>\n",
       "      <th>U-118-MG</th>\n",
       "      <th>MV-4-11</th>\n",
       "      <th>GCIY</th>\n",
       "      <th>A673</th>\n",
       "      <th>...</th>\n",
       "      <th>PANC-10-05</th>\n",
       "      <th>PANC-04-03</th>\n",
       "      <th>PANC-02-03</th>\n",
       "      <th>OV-90</th>\n",
       "      <th>SNU-1</th>\n",
       "      <th>SW1088</th>\n",
       "      <th>SW1573</th>\n",
       "      <th>TOV-21G</th>\n",
       "      <th>T98G</th>\n",
       "      <th>C2BBe1</th>\n",
       "    </tr>\n",
       "  </thead>\n",
       "  <tbody>\n",
       "    <tr>\n",
       "      <th>0</th>\n",
       "      <td>A1BG</td>\n",
       "      <td>-0.12228</td>\n",
       "      <td>-0.1484</td>\n",
       "      <td>-0.22644</td>\n",
       "      <td>-0.19368</td>\n",
       "      <td>-0.07416</td>\n",
       "      <td>-0.13952</td>\n",
       "      <td>-0.06369</td>\n",
       "      <td>-0.17434</td>\n",
       "      <td>-0.11102</td>\n",
       "      <td>...</td>\n",
       "      <td>-0.00653</td>\n",
       "      <td>-0.05449</td>\n",
       "      <td>-0.03721</td>\n",
       "      <td>-0.05632</td>\n",
       "      <td>-0.18148</td>\n",
       "      <td>-0.0039</td>\n",
       "      <td>-0.11492</td>\n",
       "      <td>-0.25082</td>\n",
       "      <td>-0.14007</td>\n",
       "      <td>-0.02537</td>\n",
       "    </tr>\n",
       "  </tbody>\n",
       "</table>\n",
       "<p>1 rows × 515 columns</p>\n",
       "</div>"
      ],
      "text/plain": [
       "   Gene      HEL  HCC-827  NCI-H1581      T24  NCI-H1693  U-118-MG  MV-4-11  \\\n",
       "0  A1BG -0.12228  -0.1484   -0.22644 -0.19368   -0.07416  -0.13952 -0.06369   \n",
       "\n",
       "      GCIY     A673  ...  PANC-10-05  PANC-04-03  PANC-02-03    OV-90  \\\n",
       "0 -0.17434 -0.11102  ...    -0.00653    -0.05449    -0.03721 -0.05632   \n",
       "\n",
       "     SNU-1  SW1088   SW1573  TOV-21G     T98G   C2BBe1  \n",
       "0 -0.18148 -0.0039 -0.11492 -0.25082 -0.14007 -0.02537  \n",
       "\n",
       "[1 rows x 515 columns]"
      ]
     },
     "execution_count": 84,
     "metadata": {},
     "output_type": "execute_result"
    }
   ],
   "source": [
    "crispr[crispr['Gene']=='A1BG']"
   ]
  },
  {
   "cell_type": "code",
   "execution_count": 9,
   "metadata": {
    "ExecuteTime": {
     "end_time": "2020-09-13T04:26:18.203011Z",
     "start_time": "2020-09-13T04:26:18.197049Z"
    }
   },
   "outputs": [],
   "source": [
    "meta = meta.drop_duplicates(['Cell_line'])\n",
    "meta = meta[meta['Cell_line'].isin(crispr.columns)]"
   ]
  },
  {
   "cell_type": "code",
   "execution_count": 11,
   "metadata": {
    "ExecuteTime": {
     "end_time": "2020-09-13T04:26:35.447097Z",
     "start_time": "2020-09-13T04:26:35.441761Z"
    }
   },
   "outputs": [
    {
     "data": {
      "text/plain": [
       "Cancer_type\n",
       "Acute Myeloid Leukemia                12\n",
       "B-Cell Non-Hodgkin's Lymphoma         10\n",
       "B-Lymphoblastic Leukemia               3\n",
       "Biliary Tract Carcinoma                2\n",
       "Bladder Carcinoma                     13\n",
       "Breast Carcinoma                      32\n",
       "Burkitt's Lymphoma                     1\n",
       "Cervical Carcinoma                     4\n",
       "Chondrosarcoma                         1\n",
       "Chronic Myelogenous Leukemia           3\n",
       "Colorectal Carcinoma                  35\n",
       "Endometrial Carcinoma                  9\n",
       "Esophageal Carcinoma                   7\n",
       "Esophageal Squamous Cell Carcinoma    23\n",
       "Ewing's Sarcoma                       12\n",
       "Gastric Carcinoma                     18\n",
       "Glioblastoma                          27\n",
       "Glioma                                13\n",
       "Head and Neck Carcinoma               16\n",
       "Hepatocellular Carcinoma              14\n",
       "Hodgkin's Lymphoma                     2\n",
       "Kidney Carcinoma                      11\n",
       "Melanoma                              20\n",
       "Mesothelioma                           6\n",
       "Neuroblastoma                         21\n",
       "Non-Cancerous                          2\n",
       "Non-Small Cell Lung Carcinoma         51\n",
       "Oral Cavity Carcinoma                 20\n",
       "Osteosarcoma                           5\n",
       "Other Solid Carcinomas                19\n",
       "Ovarian Carcinoma                     33\n",
       "Pancreatic Carcinoma                  26\n",
       "Plasma Cell Myeloma                   10\n",
       "Prostate Carcinoma                     4\n",
       "Rhabdomyosarcoma                       1\n",
       "Small Cell Lung Carcinoma             10\n",
       "Squamous Cell Lung Carcinoma          12\n",
       "T-Cell Non-Hodgkin's Lymphoma          3\n",
       "T-Lymphoblastic Leukemia               2\n",
       "Thyroid Gland Carcinoma                1\n",
       "dtype: int64"
      ]
     },
     "execution_count": 11,
     "metadata": {},
     "output_type": "execute_result"
    }
   ],
   "source": [
    "meta.groupby('Cancer_type').size()"
   ]
  },
  {
   "cell_type": "code",
   "execution_count": 71,
   "metadata": {
    "ExecuteTime": {
     "end_time": "2020-05-26T12:51:28.315651Z",
     "start_time": "2020-05-26T12:51:24.896524Z"
    }
   },
   "outputs": [
    {
     "data": {
      "text/plain": [
       "<matplotlib.axes._subplots.AxesSubplot at 0x7fc5044c7bb0>"
      ]
     },
     "execution_count": 71,
     "metadata": {},
     "output_type": "execute_result"
    },
    {
     "data": {
      "image/png": "[encoded data removed]",
      "text/plain": [
       "<Figure size 432x288 with 1 Axes>"
      ]
     },
     "metadata": {
      "needs_background": "light"
     },
     "output_type": "display_data"
    }
   ],
   "source": [
    "sns.distplot(crispr.values)"
   ]
  },
  {
   "cell_type": "code",
   "execution_count": 7,
   "metadata": {
    "ExecuteTime": {
     "end_time": "2020-05-19T01:34:26.758020Z",
     "start_time": "2020-05-19T01:34:26.754901Z"
    }
   },
   "outputs": [
    {
     "data": {
      "text/plain": [
       "(17995, 324)"
      ]
     },
     "execution_count": 7,
     "metadata": {},
     "output_type": "execute_result"
    }
   ],
   "source": [
    "crispr.shape"
   ]
  },
  {
   "cell_type": "code",
   "execution_count": 75,
   "metadata": {
    "ExecuteTime": {
     "end_time": "2020-05-26T12:54:34.787667Z",
     "start_time": "2020-05-26T12:54:34.773454Z"
    }
   },
   "outputs": [],
   "source": [
    "crispr_train = [x for x in crispr.columns if x in cell_lines_train]"
   ]
  },
  {
   "cell_type": "code",
   "execution_count": 76,
   "metadata": {
    "ExecuteTime": {
     "end_time": "2020-05-26T12:54:49.477097Z",
     "start_time": "2020-05-26T12:54:49.469306Z"
    }
   },
   "outputs": [],
   "source": [
    "crispr_test = [x for x in crispr.columns if x in cell_lines_test]"
   ]
  },
  {
   "cell_type": "code",
   "execution_count": 80,
   "metadata": {
    "ExecuteTime": {
     "end_time": "2020-05-26T12:55:19.124904Z",
     "start_time": "2020-05-26T12:55:19.121588Z"
    }
   },
   "outputs": [
    {
     "data": {
      "text/plain": [
       "0.8249027237354085"
      ]
     },
     "execution_count": 80,
     "metadata": {},
     "output_type": "execute_result"
    }
   ],
   "source": [
    "len(crispr_train) / len(crispr.columns)"
   ]
  },
  {
   "cell_type": "code",
   "execution_count": 79,
   "metadata": {
    "ExecuteTime": {
     "end_time": "2020-05-26T12:55:06.427278Z",
     "start_time": "2020-05-26T12:55:06.423490Z"
    }
   },
   "outputs": [
    {
     "data": {
      "text/plain": [
       "90"
      ]
     },
     "execution_count": 79,
     "metadata": {},
     "output_type": "execute_result"
    }
   ],
   "source": [
    "len(crispr_test)"
   ]
  },
  {
   "cell_type": "markdown",
   "metadata": {},
   "source": [
    "# CRISPR MOFA"
   ]
  },
  {
   "cell_type": "code",
   "execution_count": 85,
   "metadata": {
    "ExecuteTime": {
     "end_time": "2020-05-29T01:41:50.906538Z",
     "start_time": "2020-05-29T01:41:50.850404Z"
    }
   },
   "outputs": [],
   "source": [
    "crispr_mofa = pd.read_csv(\"../../data/crispr/MultiOmics_Sanger&CMRI_factors_largek.csv\")"
   ]
  },
  {
   "cell_type": "code",
   "execution_count": 86,
   "metadata": {
    "ExecuteTime": {
     "end_time": "2020-05-29T01:41:54.831389Z",
     "start_time": "2020-05-29T01:41:54.806361Z"
    }
   },
   "outputs": [
    {
     "data": {
      "text/html": [
       "<div>\n",
       "<style scoped>\n",
       "    .dataframe tbody tr th:only-of-type {\n",
       "        vertical-align: middle;\n",
       "    }\n",
       "\n",
       "    .dataframe tbody tr th {\n",
       "        vertical-align: top;\n",
       "    }\n",
       "\n",
       "    .dataframe thead th {\n",
       "        text-align: right;\n",
       "    }\n",
       "</style>\n",
       "<table border=\"1\" class=\"dataframe\">\n",
       "  <thead>\n",
       "    <tr style=\"text-align: right;\">\n",
       "      <th></th>\n",
       "      <th>Unnamed: 0</th>\n",
       "      <th>F1</th>\n",
       "      <th>F2</th>\n",
       "      <th>F3</th>\n",
       "      <th>F4</th>\n",
       "      <th>F5</th>\n",
       "      <th>F6</th>\n",
       "      <th>F7</th>\n",
       "      <th>F8</th>\n",
       "      <th>F9</th>\n",
       "      <th>...</th>\n",
       "      <th>F91</th>\n",
       "      <th>F92</th>\n",
       "      <th>F93</th>\n",
       "      <th>F94</th>\n",
       "      <th>F95</th>\n",
       "      <th>F96</th>\n",
       "      <th>F97</th>\n",
       "      <th>F98</th>\n",
       "      <th>F99</th>\n",
       "      <th>F100</th>\n",
       "    </tr>\n",
       "  </thead>\n",
       "  <tbody>\n",
       "    <tr>\n",
       "      <th>0</th>\n",
       "      <td>SIDM00329</td>\n",
       "      <td>0.89247</td>\n",
       "      <td>-0.26164</td>\n",
       "      <td>2.55549</td>\n",
       "      <td>0.14061</td>\n",
       "      <td>-0.74181</td>\n",
       "      <td>-0.74522</td>\n",
       "      <td>-0.28605</td>\n",
       "      <td>-0.36416</td>\n",
       "      <td>-0.37284</td>\n",
       "      <td>...</td>\n",
       "      <td>-0.18919</td>\n",
       "      <td>0.09110</td>\n",
       "      <td>-0.03820</td>\n",
       "      <td>-0.14565</td>\n",
       "      <td>-0.00794</td>\n",
       "      <td>-0.01876</td>\n",
       "      <td>0.00683</td>\n",
       "      <td>-0.03198</td>\n",
       "      <td>0.09770</td>\n",
       "      <td>-0.10606</td>\n",
       "    </tr>\n",
       "    <tr>\n",
       "      <th>1</th>\n",
       "      <td>SIDM00327</td>\n",
       "      <td>0.05840</td>\n",
       "      <td>0.34984</td>\n",
       "      <td>1.06271</td>\n",
       "      <td>-0.27806</td>\n",
       "      <td>0.11983</td>\n",
       "      <td>-1.21187</td>\n",
       "      <td>0.04718</td>\n",
       "      <td>-1.15267</td>\n",
       "      <td>-0.38571</td>\n",
       "      <td>...</td>\n",
       "      <td>-0.13013</td>\n",
       "      <td>-0.05368</td>\n",
       "      <td>-0.11542</td>\n",
       "      <td>0.33053</td>\n",
       "      <td>0.02041</td>\n",
       "      <td>0.13066</td>\n",
       "      <td>0.26742</td>\n",
       "      <td>0.04307</td>\n",
       "      <td>0.02258</td>\n",
       "      <td>0.01738</td>\n",
       "    </tr>\n",
       "    <tr>\n",
       "      <th>2</th>\n",
       "      <td>SIDM00502</td>\n",
       "      <td>1.58031</td>\n",
       "      <td>-1.03620</td>\n",
       "      <td>2.74966</td>\n",
       "      <td>1.09904</td>\n",
       "      <td>-3.13525</td>\n",
       "      <td>0.15303</td>\n",
       "      <td>-0.50745</td>\n",
       "      <td>-0.65733</td>\n",
       "      <td>0.83371</td>\n",
       "      <td>...</td>\n",
       "      <td>0.03882</td>\n",
       "      <td>-0.16215</td>\n",
       "      <td>0.06456</td>\n",
       "      <td>-0.08688</td>\n",
       "      <td>-0.05886</td>\n",
       "      <td>0.12894</td>\n",
       "      <td>0.13046</td>\n",
       "      <td>-0.11970</td>\n",
       "      <td>0.09336</td>\n",
       "      <td>0.02341</td>\n",
       "    </tr>\n",
       "    <tr>\n",
       "      <th>3</th>\n",
       "      <td>SIDM00793</td>\n",
       "      <td>0.42227</td>\n",
       "      <td>1.19794</td>\n",
       "      <td>-1.04763</td>\n",
       "      <td>-0.19029</td>\n",
       "      <td>-0.43119</td>\n",
       "      <td>0.13643</td>\n",
       "      <td>0.28086</td>\n",
       "      <td>-1.18233</td>\n",
       "      <td>-0.94091</td>\n",
       "      <td>...</td>\n",
       "      <td>0.01572</td>\n",
       "      <td>-0.17971</td>\n",
       "      <td>0.06922</td>\n",
       "      <td>-0.07030</td>\n",
       "      <td>0.12325</td>\n",
       "      <td>0.23680</td>\n",
       "      <td>0.00668</td>\n",
       "      <td>0.00656</td>\n",
       "      <td>-0.04272</td>\n",
       "      <td>-0.00965</td>\n",
       "    </tr>\n",
       "    <tr>\n",
       "      <th>4</th>\n",
       "      <td>SIDM01251</td>\n",
       "      <td>-0.37296</td>\n",
       "      <td>0.02504</td>\n",
       "      <td>1.27587</td>\n",
       "      <td>-0.39218</td>\n",
       "      <td>-0.78175</td>\n",
       "      <td>-0.96252</td>\n",
       "      <td>-0.02489</td>\n",
       "      <td>0.54585</td>\n",
       "      <td>1.80955</td>\n",
       "      <td>...</td>\n",
       "      <td>0.09861</td>\n",
       "      <td>0.09448</td>\n",
       "      <td>-0.05634</td>\n",
       "      <td>-0.04757</td>\n",
       "      <td>0.08891</td>\n",
       "      <td>0.23964</td>\n",
       "      <td>0.09682</td>\n",
       "      <td>0.04677</td>\n",
       "      <td>-0.04439</td>\n",
       "      <td>-0.05803</td>\n",
       "    </tr>\n",
       "  </tbody>\n",
       "</table>\n",
       "<p>5 rows × 101 columns</p>\n",
       "</div>"
      ],
      "text/plain": [
       "  Unnamed: 0       F1       F2       F3       F4       F5       F6       F7  \\\n",
       "0  SIDM00329  0.89247 -0.26164  2.55549  0.14061 -0.74181 -0.74522 -0.28605   \n",
       "1  SIDM00327  0.05840  0.34984  1.06271 -0.27806  0.11983 -1.21187  0.04718   \n",
       "2  SIDM00502  1.58031 -1.03620  2.74966  1.09904 -3.13525  0.15303 -0.50745   \n",
       "3  SIDM00793  0.42227  1.19794 -1.04763 -0.19029 -0.43119  0.13643  0.28086   \n",
       "4  SIDM01251 -0.37296  0.02504  1.27587 -0.39218 -0.78175 -0.96252 -0.02489   \n",
       "\n",
       "        F8       F9  ...      F91      F92      F93      F94      F95  \\\n",
       "0 -0.36416 -0.37284  ... -0.18919  0.09110 -0.03820 -0.14565 -0.00794   \n",
       "1 -1.15267 -0.38571  ... -0.13013 -0.05368 -0.11542  0.33053  0.02041   \n",
       "2 -0.65733  0.83371  ...  0.03882 -0.16215  0.06456 -0.08688 -0.05886   \n",
       "3 -1.18233 -0.94091  ...  0.01572 -0.17971  0.06922 -0.07030  0.12325   \n",
       "4  0.54585  1.80955  ...  0.09861  0.09448 -0.05634 -0.04757  0.08891   \n",
       "\n",
       "       F96      F97      F98      F99     F100  \n",
       "0 -0.01876  0.00683 -0.03198  0.09770 -0.10606  \n",
       "1  0.13066  0.26742  0.04307  0.02258  0.01738  \n",
       "2  0.12894  0.13046 -0.11970  0.09336  0.02341  \n",
       "3  0.23680  0.00668  0.00656 -0.04272 -0.00965  \n",
       "4  0.23964  0.09682  0.04677 -0.04439 -0.05803  \n",
       "\n",
       "[5 rows x 101 columns]"
      ]
     },
     "execution_count": 86,
     "metadata": {},
     "output_type": "execute_result"
    }
   ],
   "source": [
    "crispr_mofa.head()"
   ]
  },
  {
   "cell_type": "code",
   "execution_count": null,
   "metadata": {},
   "outputs": [],
   "source": []
  }
 ],
 "metadata": {
  "kernelspec": {
   "display_name": "Python 3",
   "language": "python",
   "name": "python3"
  },
  "language_info": {
   "codemirror_mode": {
    "name": "ipython",
    "version": 3
   },
   "file_extension": ".py",
   "mimetype": "text/x-python",
   "name": "python",
   "nbconvert_exporter": "python",
   "pygments_lexer": "ipython3",
   "version": "3.8.5"
  },
  "toc": {
   "base_numbering": 1,
   "nav_menu": {},
   "number_sections": true,
   "sideBar": true,
   "skip_h1_title": false,
   "title_cell": "Table of Contents",
   "title_sidebar": "Contents",
   "toc_cell": false,
   "toc_position": {},
   "toc_section_display": true,
   "toc_window_display": true
  }
 },
 "nbformat": 4,
 "nbformat_minor": 4
}
