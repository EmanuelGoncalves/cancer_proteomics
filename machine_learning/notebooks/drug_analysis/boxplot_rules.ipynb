{
 "cells": [
  {
   "cell_type": "code",
   "execution_count": 2,
   "metadata": {
    "ExecuteTime": {
     "end_time": "2020-10-19T03:29:25.019125Z",
     "start_time": "2020-10-19T03:29:21.807417Z"
    }
   },
   "outputs": [],
   "source": [
    "import pandas as pd\n",
    "import numpy as np\n",
    "import seaborn as sns\n",
    "import matplotlib.pyplot as plt\n",
    "from scipy.stats import ttest_ind\n",
    "from sklearn.metrics import r2_score\n",
    "from scipy.stats import pearsonr, spearmanr\n",
    "import plotly.express as px\n",
    "import plotly.graph_objects as go\n",
    "import matplotlib.patches as mpatches\n",
    "from scipy.stats import ttest_ind, ttest_1samp, ttest_rel\n",
    "import matplotlib as mpl\n",
    "import umap\n",
    "from sklearn.decomposition import PCA\n",
    "from sklearn.manifold import TSNE\n",
    "from joblib import Parallel, delayed\n",
    "from tqdm.notebook import tqdm, trange\n",
    "import pickle\n",
    "import matplotlib.ticker as mtick\n",
    "import math\n",
    "from itertools import combinations\n",
    "import random\n",
    "from sklearn.linear_model import LinearRegression\n",
    "import qgrid"
   ]
  },
  {
   "cell_type": "code",
   "execution_count": 3,
   "metadata": {
    "ExecuteTime": {
     "end_time": "2020-10-19T03:29:25.024988Z",
     "start_time": "2020-10-19T03:29:25.020609Z"
    }
   },
   "outputs": [],
   "source": [
    "plt.rcParams['font.family'] = 'Helvetica'\n",
    "plt.rcParams[\"axes.labelweight\"] = \"bold\"\n",
    "plt.rcParams['font.size'] = 18\n",
    "plt.rcParams['axes.linewidth'] = 2\n",
    "plt.rcParams['figure.figsize'] = (10.0, 7.0)\n",
    "plt.rcParams['pdf.fonttype'] = 42\n",
    "plt.rcParams['ps.fonttype'] = 42\n",
    "sns.set_palette(\"Dark2\")"
   ]
  },
  {
   "cell_type": "code",
   "execution_count": 4,
   "metadata": {
    "ExecuteTime": {
     "end_time": "2020-10-19T03:29:25.028888Z",
     "start_time": "2020-10-19T03:29:25.027208Z"
    }
   },
   "outputs": [],
   "source": [
    "seed = 42"
   ]
  },
  {
   "cell_type": "markdown",
   "metadata": {},
   "source": [
    "# load data"
   ]
  },
  {
   "cell_type": "code",
   "execution_count": 5,
   "metadata": {
    "ExecuteTime": {
     "end_time": "2020-10-19T03:29:25.037628Z",
     "start_time": "2020-10-19T03:29:25.030719Z"
    }
   },
   "outputs": [],
   "source": [
    "colour_list = pd.read_csv('../../data/colour_list.txt',header=None)[0].tolist()"
   ]
  },
  {
   "cell_type": "code",
   "execution_count": 6,
   "metadata": {
    "ExecuteTime": {
     "end_time": "2020-10-19T03:29:25.933190Z",
     "start_time": "2020-10-19T03:29:25.038985Z"
    }
   },
   "outputs": [],
   "source": [
    "protein_ruv = pd.read_csv(\n",
    "    \"../../data/protein/E0022_P06_Protein_Matrix_ProNorM_no_control_update.txt\",\n",
    "    sep='\\t').set_index('Cell_line')\n",
    "\n",
    "meta = pd.read_csv('../../data/E0022_P06_final_sample_map_no_control.txt',\n",
    "                   sep='\\t')"
   ]
  },
  {
   "cell_type": "code",
   "execution_count": 7,
   "metadata": {
    "ExecuteTime": {
     "end_time": "2020-10-19T03:29:25.938846Z",
     "start_time": "2020-10-19T03:29:25.934584Z"
    }
   },
   "outputs": [],
   "source": [
    "cell_lines_no_blood = meta[meta['Tissue_type']!='Haematopoietic and Lymphoid'].index.values"
   ]
  },
  {
   "cell_type": "code",
   "execution_count": 8,
   "metadata": {
    "ExecuteTime": {
     "end_time": "2020-10-19T03:29:25.956897Z",
     "start_time": "2020-10-19T03:29:25.940288Z"
    }
   },
   "outputs": [],
   "source": [
    "tissue_type_map = meta.drop_duplicates(['Cell_line']).set_index(\n",
    "    ['Cell_line'])[['Tissue_type']].to_dict()['Tissue_type']\n",
    "cancer_type_map = meta.drop_duplicates(['Cell_line']).set_index(\n",
    "    ['Cell_line'])[['Cancer_type']].to_dict()['Cancer_type']\n",
    "batch_map = meta.drop_duplicates(['Cell_line']).set_index(\n",
    "    ['Cell_line'])[['Batch']].to_dict()['Batch']\n",
    "instrument_map = meta.drop_duplicates(['Cell_line']).set_index(\n",
    "    ['Cell_line'])[['Instrument']].to_dict()['Instrument']"
   ]
  },
  {
   "cell_type": "code",
   "execution_count": 9,
   "metadata": {
    "ExecuteTime": {
     "end_time": "2020-10-19T03:29:25.972630Z",
     "start_time": "2020-10-19T03:29:25.960052Z"
    }
   },
   "outputs": [],
   "source": [
    "tissue_count = meta.drop_duplicates(['Cell_line', 'Tissue_type']).groupby('Tissue_type').size()\n",
    "major_tissues = tissue_count[tissue_count>30].index.values"
   ]
  },
  {
   "cell_type": "code",
   "execution_count": 10,
   "metadata": {
    "ExecuteTime": {
     "end_time": "2020-10-19T03:29:25.980399Z",
     "start_time": "2020-10-19T03:29:25.974658Z"
    }
   },
   "outputs": [],
   "source": [
    "cancer_colours = dict(\n",
    "    zip(meta['Cancer_type'].unique(),\n",
    "        colour_list[:meta['Cancer_type'].unique().size]))\n",
    "\n",
    "tissue_colours = dict(\n",
    "    zip(meta['Tissue_type'].unique(),\n",
    "        colour_list[:meta['Tissue_type'].unique().size]))\n",
    "\n",
    "instrument_colours={\n",
    "    'M01':'#66c2a5', \n",
    "    'M02':'#fc8d62', \n",
    "    'M03':'#8da0cb', \n",
    "    'M04':'#e78ac3', \n",
    "    'M05':'#a6d854', \n",
    "    'M06':'#ffd92f'\n",
    "}\n",
    "\n",
    "batch_colours={\n",
    "    'P01':'#7fc97f', \n",
    "    'P02':'#beaed4', \n",
    "    'P03':'#fdc086', \n",
    "    'P04':'#386cb0', \n",
    "    'P05':'#f0027f', \n",
    "    'P06':'#bf5b17'\n",
    "}"
   ]
  },
  {
   "cell_type": "code",
   "execution_count": 11,
   "metadata": {
    "ExecuteTime": {
     "end_time": "2020-10-19T03:29:25.986057Z",
     "start_time": "2020-10-19T03:29:25.982060Z"
    }
   },
   "outputs": [],
   "source": [
    "meta = meta.reset_index()"
   ]
  },
  {
   "cell_type": "code",
   "execution_count": 12,
   "metadata": {
    "ExecuteTime": {
     "end_time": "2020-10-19T03:29:25.992920Z",
     "start_time": "2020-10-19T03:29:25.987633Z"
    }
   },
   "outputs": [],
   "source": [
    "meta_cell_lines = meta.drop_duplicates('Cell_line')"
   ]
  },
  {
   "cell_type": "code",
   "execution_count": 13,
   "metadata": {
    "ExecuteTime": {
     "end_time": "2020-10-19T03:29:26.753881Z",
     "start_time": "2020-10-19T03:29:25.994789Z"
    }
   },
   "outputs": [],
   "source": [
    "name_map = pd.read_csv(\"../../data/misc/HUMAN_9606_idmapping.gene_prot.dat\",\n",
    "                       sep='\\t',\n",
    "                       names=['ID', 'type', 'code'])\n",
    "name_map = name_map.drop_duplicates(['ID', 'type'])\n",
    "name_map = pd.pivot(name_map, index='ID', columns='type',\n",
    "                    values='code').dropna()\n",
    "\n",
    "protein2rna_map = dict(\n",
    "    zip(name_map['UniProtKB-ID'].values, name_map['Gene_Name'].values))\n",
    "rna2protein_map = {\n",
    "    protein2rna_map[protein]: protein\n",
    "    for protein in protein_ruv.columns if protein in protein2rna_map\n",
    "}"
   ]
  },
  {
   "cell_type": "code",
   "execution_count": 14,
   "metadata": {
    "ExecuteTime": {
     "end_time": "2020-10-19T03:29:29.201936Z",
     "start_time": "2020-10-19T03:29:26.755581Z"
    }
   },
   "outputs": [],
   "source": [
    "rna_raw = pd.read_csv(\"../../data/rna/rnaseq_voom.csv\", index_col=0).T\n",
    "\n",
    "rna_raw.index.name = 'SIDM'\n",
    "\n",
    "rna_raw = rna_raw.reset_index()\n",
    "rna_sample = pd.merge(rna_raw,\n",
    "                      meta[['SIDM',\n",
    "                            'Cell_line']].drop_duplicates()).drop(['SIDM'],\n",
    "                                                                  axis=1)\n",
    "\n",
    "rna_sample = rna_sample.set_index(['Cell_line'])"
   ]
  },
  {
   "cell_type": "code",
   "execution_count": 15,
   "metadata": {
    "ExecuteTime": {
     "end_time": "2020-10-19T03:29:34.233902Z",
     "start_time": "2020-10-19T03:29:29.203456Z"
    }
   },
   "outputs": [],
   "source": [
    "drug_df = pd.read_csv('../../data/drug/drug_final_processed_eg_id.csv.gz', low_memory=False)"
   ]
  },
  {
   "cell_type": "code",
   "execution_count": 16,
   "metadata": {
    "ExecuteTime": {
     "end_time": "2020-10-19T03:29:34.656354Z",
     "start_time": "2020-10-19T03:29:34.235501Z"
    }
   },
   "outputs": [],
   "source": [
    "drug_df['max_screening_conc_ln'] = drug_df['max_screening_conc'].map(np.log)"
   ]
  },
  {
   "cell_type": "code",
   "execution_count": 17,
   "metadata": {
    "ExecuteTime": {
     "end_time": "2020-10-19T03:29:34.786053Z",
     "start_time": "2020-10-19T03:29:34.659189Z"
    }
   },
   "outputs": [],
   "source": [
    "max_conc_map = drug_df[[\n",
    "    'drug_id', 'max_screening_conc_ln'\n",
    "]].drop_duplicates().set_index('drug_id').to_dict()['max_screening_conc_ln']"
   ]
  },
  {
   "cell_type": "code",
   "execution_count": 18,
   "metadata": {
    "ExecuteTime": {
     "end_time": "2020-10-19T03:29:41.127018Z",
     "start_time": "2020-10-19T03:29:34.787731Z"
    }
   },
   "outputs": [],
   "source": [
    "lm_res = pd.read_csv(\"../../result_files/lm/lm_sklearn_degr_drug_annotated.csv.gz\")"
   ]
  },
  {
   "cell_type": "code",
   "execution_count": 19,
   "metadata": {
    "ExecuteTime": {
     "end_time": "2020-10-19T03:29:41.130652Z",
     "start_time": "2020-10-19T03:29:41.128392Z"
    }
   },
   "outputs": [],
   "source": [
    "# lm_res_old = pd.read_csv(\"../../result_files/lm/lm_sklearn_degr_drug_annotated_old.csv.gz\")"
   ]
  },
  {
   "cell_type": "code",
   "execution_count": 21,
   "metadata": {
    "ExecuteTime": {
     "end_time": "2020-10-19T03:29:50.174939Z",
     "start_time": "2020-10-19T03:29:50.137104Z"
    }
   },
   "outputs": [
    {
     "data": {
      "text/plain": [
       "(105507, 16)"
      ]
     },
     "execution_count": 21,
     "metadata": {},
     "output_type": "execute_result"
    }
   ],
   "source": [
    "lm_res[(lm_res['fdr']<0.1)|(lm_res['nc_fdr']<0.001)].shape"
   ]
  },
  {
   "cell_type": "code",
   "execution_count": 23,
   "metadata": {
    "ExecuteTime": {
     "end_time": "2020-10-19T03:29:55.233171Z",
     "start_time": "2020-10-19T03:29:55.170901Z"
    }
   },
   "outputs": [],
   "source": [
    "lm_res = lm_res[((lm_res['fdr'] < 0.1) | (lm_res['nc_fdr'] < 0.001))\n",
    "                & (lm_res['r2'] > 0.4) & (lm_res['skew'] < -1)]\n",
    "lm_res['x_protein'] = lm_res['x_id'].map(rna2protein_map)"
   ]
  },
  {
   "cell_type": "code",
   "execution_count": 24,
   "metadata": {
    "ExecuteTime": {
     "end_time": "2020-10-19T03:29:56.628475Z",
     "start_time": "2020-10-19T03:29:56.623134Z"
    }
   },
   "outputs": [],
   "source": [
    "lm_assoc_list = list(zip(lm_res['y_id'], lm_res['x_id'], lm_res['x_protein']))"
   ]
  },
  {
   "cell_type": "markdown",
   "metadata": {},
   "source": [
    "# calculate"
   ]
  },
  {
   "cell_type": "code",
   "execution_count": 36,
   "metadata": {
    "ExecuteTime": {
     "end_time": "2020-09-11T01:13:23.778647Z",
     "start_time": "2020-09-11T01:13:23.775873Z"
    }
   },
   "outputs": [],
   "source": [
    "protein_df = protein_ruv\n",
    "rna_df = rna_sample"
   ]
  },
  {
   "cell_type": "code",
   "execution_count": 37,
   "metadata": {
    "ExecuteTime": {
     "end_time": "2020-09-11T01:13:24.029467Z",
     "start_time": "2020-09-11T01:13:24.018949Z"
    },
    "code_folding": []
   },
   "outputs": [],
   "source": [
    "def calc_box(step=0.2, tissues=[]):\n",
    "    res_df = []\n",
    "    for drug_id, rna_target, protein_target in tqdm(lm_assoc_list):\n",
    "        if protein_target not in protein_df.columns or rna_target not in rna_df.columns:\n",
    "            continue\n",
    "        ic50_map = drug_df[drug_df['drug_id'] == drug_id].set_index(\n",
    "            'cell_line_name').to_dict()['ln_IC50']\n",
    "        tmp_data_protein = protein_df[[protein_target]]\n",
    "        tmp_data_rna = rna_df[[rna_target]]\n",
    "        tmp_data = pd.merge(tmp_data_protein, tmp_data_rna, on='Cell_line')\n",
    "        tmp_data.loc[:, 'IC50'] = tmp_data.index.map(ic50_map).values\n",
    "        tmp_data.loc[:, 'tissue'] = tmp_data.index.map(tissue_type_map).values\n",
    "        tmp_data = tmp_data.dropna().reset_index(drop=True)\n",
    "\n",
    "        if len(tissues) == 0:\n",
    "            tissues = tmp_data['tissue'].unique()\n",
    "        for tissue in tissues:\n",
    "            tmp_data_tissue = tmp_data[tmp_data['tissue'] ==\n",
    "                                       tissue].reset_index(drop=True)\n",
    "            if tmp_data_tissue[protein_target].unique().size < int(\n",
    "                    1 / step) or tmp_data_tissue[rna_target].unique(\n",
    "                    ).size < int(1 / step):\n",
    "                continue\n",
    "            tmp_data_tissue.loc[:, 'protein_q'] = pd.qcut(\n",
    "                tmp_data_tissue[protein_target],\n",
    "                np.arange(0, 1.0001, step),\n",
    "                duplicates='drop')\n",
    "            tmp_data_tissue.loc[:, 'rna_q'] = pd.qcut(\n",
    "                tmp_data_tissue[rna_target],\n",
    "                np.arange(0, 1.0001, step),\n",
    "                duplicates='drop')\n",
    "\n",
    "            medians = tmp_data_tissue[[\n",
    "                'protein_q', 'IC50'\n",
    "            ]].groupby('protein_q').median()['IC50'].values\n",
    "            mono = (np.all(medians[1:] >= medians[:-1]-0.1)\n",
    "                    or np.all(medians[1:] <= medians[:-1]+0.1))\n",
    "\n",
    "            protein_last_q = tmp_data_tissue[[\n",
    "                'protein_q', 'IC50'\n",
    "            ]].groupby('protein_q').median()['IC50'].values[-1]\n",
    "\n",
    "            rna_last_q = tmp_data_tissue[[\n",
    "                'rna_q', 'IC50'\n",
    "            ]].groupby('rna_q').median()['IC50'].values[-1]\n",
    "            protein_first_q = tmp_data_tissue[[\n",
    "                'protein_q', 'IC50'\n",
    "            ]].groupby('protein_q').median()['IC50'].values[0]\n",
    "            protein_first_nq = tmp_data_tissue[[\n",
    "                'protein_q', 'IC50'\n",
    "            ]].groupby('protein_q').median()['IC50'].values[:-1]\n",
    "            rna_first_q = tmp_data_tissue[[\n",
    "                'rna_q', 'IC50'\n",
    "            ]].groupby('rna_q').median()['IC50'].values[0]\n",
    "            rna_first_nq = tmp_data_tissue[[\n",
    "                'rna_q', 'IC50'\n",
    "            ]].groupby('rna_q').median()['IC50'].values[:-1]\n",
    "            ic50_mean = tmp_data_tissue['IC50'].mean()\n",
    "            max_conc = max_conc_map[drug_id]\n",
    "            p_corr_protein, p_pval_protein = pearsonr(\n",
    "                tmp_data_tissue['IC50'], tmp_data_tissue[protein_target])\n",
    "            p_corr_rna, p_pval_rna = pearsonr(\n",
    "                tmp_data_tissue['IC50'], tmp_data_tissue[rna_target])\n",
    "            counts = tmp_data_tissue.shape[0]\n",
    "\n",
    "            tmp_dict = {\n",
    "                'drug_id': drug_id,\n",
    "                'protein': protein_target,\n",
    "                'tissue': tissue,\n",
    "                'protein_first_q': protein_first_q - ic50_mean,\n",
    "                'protein_last_q': protein_last_q - ic50_mean,\n",
    "                'rna_first_q': rna_first_q - ic50_mean,\n",
    "                'rna_last_q': rna_last_q - ic50_mean,\n",
    "                'protein_first_nq_std': np.std(protein_first_nq),\n",
    "                'rna_first_nq_std': np.std(rna_first_nq),\n",
    "                'IC50_mean': ic50_mean,\n",
    "                'max_conc': max_conc,\n",
    "                'mono': mono,\n",
    "                'p_corr_protein': p_corr_protein,\n",
    "                'p_pval_protein': p_pval_protein,\n",
    "                'p_corr_rna': p_corr_rna,\n",
    "                'p_pval_rna': p_pval_rna,\n",
    "                'counts': counts\n",
    "            }\n",
    "            res_df.append(tmp_dict)\n",
    "    res_df = pd.DataFrame(res_df)\n",
    "    return res_df"
   ]
  },
  {
   "cell_type": "code",
   "execution_count": 38,
   "metadata": {
    "ExecuteTime": {
     "end_time": "2020-09-11T02:08:13.069262Z",
     "start_time": "2020-09-11T01:14:10.124549Z"
    }
   },
   "outputs": [
    {
     "data": {
      "application/vnd.jupyter.widget-view+json": {
       "model_id": "8169cf52de4f4460a1d88ce4cf24a55d",
       "version_major": 2,
       "version_minor": 0
      },
      "text/plain": [
       "HBox(children=(FloatProgress(value=0.0, max=8692.0), HTML(value='')))"
      ]
     },
     "metadata": {},
     "output_type": "display_data"
    },
    {
     "name": "stdout",
     "output_type": "stream",
     "text": [
      "\n"
     ]
    }
   ],
   "source": [
    "res_df = calc_box(step=0.2)\n",
    "\n",
    "res_df['last_q_delta'] = np.abs(\n",
    "    res_df['rna_last_q'] -\n",
    "    res_df['protein_last_q'])\n",
    "\n",
    "res_df.to_csv(\"../../result_files/box_plot_drug_tissues_5q_10pc_nc.csv\", index=False)"
   ]
  },
  {
   "cell_type": "markdown",
   "metadata": {
    "ExecuteTime": {
     "end_time": "2020-07-18T14:12:58.682798Z",
     "start_time": "2020-07-18T14:12:58.680824Z"
    }
   },
   "source": [
    "# analysis"
   ]
  },
  {
   "cell_type": "markdown",
   "metadata": {
    "heading_collapsed": true
   },
   "source": [
    "## all sample level"
   ]
  },
  {
   "cell_type": "code",
   "execution_count": 294,
   "metadata": {
    "ExecuteTime": {
     "end_time": "2020-08-07T12:58:34.310833Z",
     "start_time": "2020-08-07T12:58:34.300738Z"
    },
    "hidden": true
   },
   "outputs": [],
   "source": [
    "res_df = pd.merge(res_df,\n",
    "                  lm_res[['y_id', 'x_protein', 'fdr', 'beta', 'skew', 'ppi', 'r2']],\n",
    "                  left_on=['drug_id', 'protein'],\n",
    "                  right_on=['y_id', 'x_protein'])"
   ]
  },
  {
   "cell_type": "code",
   "execution_count": 296,
   "metadata": {
    "ExecuteTime": {
     "end_time": "2020-08-07T12:58:40.779713Z",
     "start_time": "2020-08-07T12:58:40.774147Z"
    },
    "hidden": true
   },
   "outputs": [],
   "source": [
    "res_df['protein_last_q_minus_max_c'] = res_df['protein_last_q'] + res_df[\n",
    "    'IC50_mean'] - res_df['max_conc']\n",
    "res_df['rna_last_q_minus_max_c'] = res_df['rna_last_q'] + res_df[\n",
    "    'IC50_mean'] - res_df['max_conc']\n",
    "res_df['last_q_delta'] = res_df['protein_last_q_minus_max_c'] - res_df['rna_last_q_minus_max_c']"
   ]
  },
  {
   "cell_type": "code",
   "execution_count": 297,
   "metadata": {
    "ExecuteTime": {
     "end_time": "2020-08-07T12:58:41.442356Z",
     "start_time": "2020-08-07T12:58:41.421713Z"
    },
    "hidden": true
   },
   "outputs": [],
   "source": [
    "corr_dict_merged = pd.read_csv(\"../../data/protein_rna_correlations.csv\")\n",
    "\n",
    "target_proteins = corr_dict_merged[corr_dict_merged['corr_diff'].abs(\n",
    ") < 0.1].sort_values('corr_avg').head(1000)['protein'].values\n",
    "drug_meta = pd.read_csv(\"../../data/drug/drug_info.csv\")\n",
    "FDA_approved_id = drug_meta[drug_meta['FDA_Approved']=='Yes']['drug_id'].values"
   ]
  },
  {
   "cell_type": "code",
   "execution_count": 299,
   "metadata": {
    "ExecuteTime": {
     "end_time": "2020-08-07T12:58:53.836720Z",
     "start_time": "2020-08-07T12:58:53.807640Z"
    },
    "hidden": true,
    "scrolled": false
   },
   "outputs": [
    {
     "data": {
      "text/html": [
       "<div>\n",
       "<style scoped>\n",
       "    .dataframe tbody tr th:only-of-type {\n",
       "        vertical-align: middle;\n",
       "    }\n",
       "\n",
       "    .dataframe tbody tr th {\n",
       "        vertical-align: top;\n",
       "    }\n",
       "\n",
       "    .dataframe thead th {\n",
       "        text-align: right;\n",
       "    }\n",
       "</style>\n",
       "<table border=\"1\" class=\"dataframe\">\n",
       "  <thead>\n",
       "    <tr style=\"text-align: right;\">\n",
       "      <th></th>\n",
       "      <th>drug_id</th>\n",
       "      <th>protein</th>\n",
       "      <th>tissue</th>\n",
       "      <th>protein_first_q</th>\n",
       "      <th>protein_last_q</th>\n",
       "      <th>rna_first_q</th>\n",
       "      <th>rna_last_q</th>\n",
       "      <th>protein_first_nq_std</th>\n",
       "      <th>rna_first_nq_std</th>\n",
       "      <th>IC50_mean</th>\n",
       "      <th>...</th>\n",
       "      <th>last_q_delta</th>\n",
       "      <th>y_id</th>\n",
       "      <th>x_protein</th>\n",
       "      <th>fdr</th>\n",
       "      <th>beta</th>\n",
       "      <th>skew</th>\n",
       "      <th>ppi</th>\n",
       "      <th>r2</th>\n",
       "      <th>protein_last_q_minus_max_c</th>\n",
       "      <th>rna_last_q_minus_max_c</th>\n",
       "    </tr>\n",
       "  </thead>\n",
       "  <tbody>\n",
       "    <tr>\n",
       "      <th>9</th>\n",
       "      <td>1427;AZD5582;GDSC1</td>\n",
       "      <td>SSRD_HUMAN</td>\n",
       "      <td>All</td>\n",
       "      <td>0.361516</td>\n",
       "      <td>-0.292937</td>\n",
       "      <td>0.082657</td>\n",
       "      <td>0.305681</td>\n",
       "      <td>0.290107</td>\n",
       "      <td>0.211715</td>\n",
       "      <td>1.905607</td>\n",
       "      <td>...</td>\n",
       "      <td>-0.598619</td>\n",
       "      <td>1427;AZD5582;GDSC1</td>\n",
       "      <td>SSRD_HUMAN</td>\n",
       "      <td>0.000002</td>\n",
       "      <td>-0.687235</td>\n",
       "      <td>-1.084352</td>\n",
       "      <td>-</td>\n",
       "      <td>0.491294</td>\n",
       "      <td>-0.689916</td>\n",
       "      <td>-0.091297</td>\n",
       "    </tr>\n",
       "    <tr>\n",
       "      <th>134</th>\n",
       "      <td>1427;AZD5582;GDSC1</td>\n",
       "      <td>NU107_HUMAN</td>\n",
       "      <td>All</td>\n",
       "      <td>0.172533</td>\n",
       "      <td>-0.286115</td>\n",
       "      <td>0.184261</td>\n",
       "      <td>0.594989</td>\n",
       "      <td>0.178930</td>\n",
       "      <td>0.250032</td>\n",
       "      <td>1.905607</td>\n",
       "      <td>...</td>\n",
       "      <td>-0.881105</td>\n",
       "      <td>1427;AZD5582;GDSC1</td>\n",
       "      <td>NU107_HUMAN</td>\n",
       "      <td>0.002673</td>\n",
       "      <td>-0.891680</td>\n",
       "      <td>-1.084352</td>\n",
       "      <td>-</td>\n",
       "      <td>0.491294</td>\n",
       "      <td>-0.683094</td>\n",
       "      <td>0.198011</td>\n",
       "    </tr>\n",
       "    <tr>\n",
       "      <th>243</th>\n",
       "      <td>56;WH-4-023;GDSC1</td>\n",
       "      <td>NU153_HUMAN</td>\n",
       "      <td>All</td>\n",
       "      <td>1.506260</td>\n",
       "      <td>-1.239928</td>\n",
       "      <td>1.497610</td>\n",
       "      <td>0.691404</td>\n",
       "      <td>0.605191</td>\n",
       "      <td>0.624324</td>\n",
       "      <td>2.233004</td>\n",
       "      <td>...</td>\n",
       "      <td>-1.931332</td>\n",
       "      <td>56;WH-4-023;GDSC1</td>\n",
       "      <td>NU153_HUMAN</td>\n",
       "      <td>0.006510</td>\n",
       "      <td>-0.534229</td>\n",
       "      <td>-1.195720</td>\n",
       "      <td>-</td>\n",
       "      <td>0.497593</td>\n",
       "      <td>-0.640078</td>\n",
       "      <td>1.291254</td>\n",
       "    </tr>\n",
       "    <tr>\n",
       "      <th>819</th>\n",
       "      <td>1427;AZD5582;GDSC1</td>\n",
       "      <td>PININ_HUMAN</td>\n",
       "      <td>All</td>\n",
       "      <td>0.594989</td>\n",
       "      <td>-0.189145</td>\n",
       "      <td>0.487040</td>\n",
       "      <td>0.484406</td>\n",
       "      <td>0.219525</td>\n",
       "      <td>0.200446</td>\n",
       "      <td>1.905607</td>\n",
       "      <td>...</td>\n",
       "      <td>-0.673551</td>\n",
       "      <td>1427;AZD5582;GDSC1</td>\n",
       "      <td>PININ_HUMAN</td>\n",
       "      <td>0.022845</td>\n",
       "      <td>-0.728424</td>\n",
       "      <td>-1.084352</td>\n",
       "      <td>-</td>\n",
       "      <td>0.491294</td>\n",
       "      <td>-0.586123</td>\n",
       "      <td>0.087427</td>\n",
       "    </tr>\n",
       "    <tr>\n",
       "      <th>554</th>\n",
       "      <td>1427;AZD5582;GDSC1</td>\n",
       "      <td>U5S1_HUMAN</td>\n",
       "      <td>All</td>\n",
       "      <td>0.540358</td>\n",
       "      <td>-0.150783</td>\n",
       "      <td>0.050651</td>\n",
       "      <td>0.617828</td>\n",
       "      <td>0.216910</td>\n",
       "      <td>0.231041</td>\n",
       "      <td>1.905607</td>\n",
       "      <td>...</td>\n",
       "      <td>-0.768610</td>\n",
       "      <td>1427;AZD5582;GDSC1</td>\n",
       "      <td>U5S1_HUMAN</td>\n",
       "      <td>0.015326</td>\n",
       "      <td>-0.827293</td>\n",
       "      <td>-1.084352</td>\n",
       "      <td>-</td>\n",
       "      <td>0.491294</td>\n",
       "      <td>-0.547762</td>\n",
       "      <td>0.220849</td>\n",
       "    </tr>\n",
       "    <tr>\n",
       "      <th>242</th>\n",
       "      <td>56;WH-4-023;GDSC1</td>\n",
       "      <td>ZCHC8_HUMAN</td>\n",
       "      <td>All</td>\n",
       "      <td>0.522050</td>\n",
       "      <td>-0.927393</td>\n",
       "      <td>-0.770356</td>\n",
       "      <td>1.084439</td>\n",
       "      <td>0.457394</td>\n",
       "      <td>0.611787</td>\n",
       "      <td>2.172637</td>\n",
       "      <td>...</td>\n",
       "      <td>-2.011832</td>\n",
       "      <td>56;WH-4-023;GDSC1</td>\n",
       "      <td>ZCHC8_HUMAN</td>\n",
       "      <td>0.006510</td>\n",
       "      <td>-0.471293</td>\n",
       "      <td>-1.195720</td>\n",
       "      <td>-</td>\n",
       "      <td>0.497593</td>\n",
       "      <td>-0.387910</td>\n",
       "      <td>1.623922</td>\n",
       "    </tr>\n",
       "    <tr>\n",
       "      <th>2025</th>\n",
       "      <td>56;WH-4-023;GDSC1</td>\n",
       "      <td>NUP43_HUMAN</td>\n",
       "      <td>All</td>\n",
       "      <td>1.095905</td>\n",
       "      <td>-0.933639</td>\n",
       "      <td>0.230713</td>\n",
       "      <td>0.062176</td>\n",
       "      <td>0.504786</td>\n",
       "      <td>0.433101</td>\n",
       "      <td>2.178884</td>\n",
       "      <td>...</td>\n",
       "      <td>-0.995816</td>\n",
       "      <td>56;WH-4-023;GDSC1</td>\n",
       "      <td>NUP43_HUMAN</td>\n",
       "      <td>0.062852</td>\n",
       "      <td>-0.438227</td>\n",
       "      <td>-1.195720</td>\n",
       "      <td>-</td>\n",
       "      <td>0.497593</td>\n",
       "      <td>-0.387910</td>\n",
       "      <td>0.607906</td>\n",
       "    </tr>\n",
       "    <tr>\n",
       "      <th>1346</th>\n",
       "      <td>1909;Venetoclax;GDSC2</td>\n",
       "      <td>REQU_HUMAN</td>\n",
       "      <td>All</td>\n",
       "      <td>0.652684</td>\n",
       "      <td>-0.805769</td>\n",
       "      <td>-0.153585</td>\n",
       "      <td>0.023476</td>\n",
       "      <td>0.326409</td>\n",
       "      <td>0.195612</td>\n",
       "      <td>2.888981</td>\n",
       "      <td>...</td>\n",
       "      <td>-0.829246</td>\n",
       "      <td>1909;Venetoclax;GDSC2</td>\n",
       "      <td>REQU_HUMAN</td>\n",
       "      <td>0.041000</td>\n",
       "      <td>-0.406600</td>\n",
       "      <td>-1.562840</td>\n",
       "      <td>3</td>\n",
       "      <td>0.740261</td>\n",
       "      <td>-0.219374</td>\n",
       "      <td>0.609872</td>\n",
       "    </tr>\n",
       "  </tbody>\n",
       "</table>\n",
       "<p>8 rows × 21 columns</p>\n",
       "</div>"
      ],
      "text/plain": [
       "                    drug_id      protein tissue  protein_first_q  \\\n",
       "9        1427;AZD5582;GDSC1   SSRD_HUMAN    All         0.361516   \n",
       "134      1427;AZD5582;GDSC1  NU107_HUMAN    All         0.172533   \n",
       "243       56;WH-4-023;GDSC1  NU153_HUMAN    All         1.506260   \n",
       "819      1427;AZD5582;GDSC1  PININ_HUMAN    All         0.594989   \n",
       "554      1427;AZD5582;GDSC1   U5S1_HUMAN    All         0.540358   \n",
       "242       56;WH-4-023;GDSC1  ZCHC8_HUMAN    All         0.522050   \n",
       "2025      56;WH-4-023;GDSC1  NUP43_HUMAN    All         1.095905   \n",
       "1346  1909;Venetoclax;GDSC2   REQU_HUMAN    All         0.652684   \n",
       "\n",
       "      protein_last_q  rna_first_q  rna_last_q  protein_first_nq_std  \\\n",
       "9          -0.292937     0.082657    0.305681              0.290107   \n",
       "134        -0.286115     0.184261    0.594989              0.178930   \n",
       "243        -1.239928     1.497610    0.691404              0.605191   \n",
       "819        -0.189145     0.487040    0.484406              0.219525   \n",
       "554        -0.150783     0.050651    0.617828              0.216910   \n",
       "242        -0.927393    -0.770356    1.084439              0.457394   \n",
       "2025       -0.933639     0.230713    0.062176              0.504786   \n",
       "1346       -0.805769    -0.153585    0.023476              0.326409   \n",
       "\n",
       "      rna_first_nq_std  IC50_mean  ...  last_q_delta                   y_id  \\\n",
       "9             0.211715   1.905607  ...     -0.598619     1427;AZD5582;GDSC1   \n",
       "134           0.250032   1.905607  ...     -0.881105     1427;AZD5582;GDSC1   \n",
       "243           0.624324   2.233004  ...     -1.931332      56;WH-4-023;GDSC1   \n",
       "819           0.200446   1.905607  ...     -0.673551     1427;AZD5582;GDSC1   \n",
       "554           0.231041   1.905607  ...     -0.768610     1427;AZD5582;GDSC1   \n",
       "242           0.611787   2.172637  ...     -2.011832      56;WH-4-023;GDSC1   \n",
       "2025          0.433101   2.178884  ...     -0.995816      56;WH-4-023;GDSC1   \n",
       "1346          0.195612   2.888981  ...     -0.829246  1909;Venetoclax;GDSC2   \n",
       "\n",
       "        x_protein       fdr      beta      skew  ppi        r2  \\\n",
       "9      SSRD_HUMAN  0.000002 -0.687235 -1.084352    -  0.491294   \n",
       "134   NU107_HUMAN  0.002673 -0.891680 -1.084352    -  0.491294   \n",
       "243   NU153_HUMAN  0.006510 -0.534229 -1.195720    -  0.497593   \n",
       "819   PININ_HUMAN  0.022845 -0.728424 -1.084352    -  0.491294   \n",
       "554    U5S1_HUMAN  0.015326 -0.827293 -1.084352    -  0.491294   \n",
       "242   ZCHC8_HUMAN  0.006510 -0.471293 -1.195720    -  0.497593   \n",
       "2025  NUP43_HUMAN  0.062852 -0.438227 -1.195720    -  0.497593   \n",
       "1346   REQU_HUMAN  0.041000 -0.406600 -1.562840    3  0.740261   \n",
       "\n",
       "      protein_last_q_minus_max_c  rna_last_q_minus_max_c  \n",
       "9                      -0.689916               -0.091297  \n",
       "134                    -0.683094                0.198011  \n",
       "243                    -0.640078                1.291254  \n",
       "819                    -0.586123                0.087427  \n",
       "554                    -0.547762                0.220849  \n",
       "242                    -0.387910                1.623922  \n",
       "2025                   -0.387910                0.607906  \n",
       "1346                   -0.219374                0.609872  \n",
       "\n",
       "[8 rows x 21 columns]"
      ]
     },
     "execution_count": 299,
     "metadata": {},
     "output_type": "execute_result"
    }
   ],
   "source": [
    "res_df[(res_df['last_q_delta'] < -0.5) & (res_df['protein'].isin(target_proteins))\n",
    "       & (res_df['fdr'] < 0.1) & (res_df['beta'] < 0)\n",
    "       & (res_df['skew'] < -1) & (~pd.isna(res_df['protein_first_nq_std'])) &\n",
    "       (res_df['protein_first_nq_std'] < 1) &\n",
    "       (res_df['protein_last_q_minus_max_c'] < 0)].sort_values(\n",
    "           'protein_last_q_minus_max_c').head(50)"
   ]
  },
  {
   "cell_type": "code",
   "execution_count": null,
   "metadata": {
    "hidden": true
   },
   "outputs": [],
   "source": []
  },
  {
   "cell_type": "markdown",
   "metadata": {
    "heading_collapsed": true
   },
   "source": [
    "## major tissue"
   ]
  },
  {
   "cell_type": "code",
   "execution_count": 369,
   "metadata": {
    "ExecuteTime": {
     "end_time": "2020-08-07T14:50:20.360318Z",
     "start_time": "2020-08-07T14:50:20.268185Z"
    },
    "hidden": true
   },
   "outputs": [],
   "source": [
    "res_df = pd.read_csv(\"../../result_files/box_plot_major_tissues_5q.csv\")"
   ]
  },
  {
   "cell_type": "code",
   "execution_count": 370,
   "metadata": {
    "ExecuteTime": {
     "end_time": "2020-08-07T14:50:20.444297Z",
     "start_time": "2020-08-07T14:50:20.425276Z"
    },
    "hidden": true
   },
   "outputs": [],
   "source": [
    "res_df = pd.merge(res_df,\n",
    "                  lm_res[['y_id', 'x_protein', 'fdr', 'beta', 'skew', 'ppi', 'r2']],\n",
    "                  left_on=['drug_id', 'protein'],\n",
    "                  right_on=['y_id', 'x_protein'])"
   ]
  },
  {
   "cell_type": "code",
   "execution_count": 371,
   "metadata": {
    "ExecuteTime": {
     "end_time": "2020-08-07T14:50:20.642694Z",
     "start_time": "2020-08-07T14:50:20.635957Z"
    },
    "hidden": true
   },
   "outputs": [],
   "source": [
    "res_df['protein_last_q_minus_max_c'] = res_df['protein_last_q'] + res_df[\n",
    "    'IC50_mean'] - res_df['max_conc']\n",
    "res_df['rna_last_q_minus_max_c'] = res_df['rna_last_q'] + res_df[\n",
    "    'IC50_mean'] - res_df['max_conc']\n",
    "res_df['last_q_delta'] = res_df['protein_last_q_minus_max_c'] - res_df['rna_last_q_minus_max_c']"
   ]
  },
  {
   "cell_type": "code",
   "execution_count": 372,
   "metadata": {
    "ExecuteTime": {
     "end_time": "2020-08-07T14:50:20.775131Z",
     "start_time": "2020-08-07T14:50:20.755931Z"
    },
    "hidden": true
   },
   "outputs": [],
   "source": [
    "corr_dict_merged = pd.read_csv(\"../../data/protein_rna_correlations.csv\")\n",
    "\n",
    "target_proteins = corr_dict_merged[corr_dict_merged['corr_diff'].abs(\n",
    ") < 0.1].sort_values('corr_avg').head(1000)['protein'].values\n",
    "drug_meta = pd.read_csv(\"../../data/drug/drug_info.csv\")\n",
    "FDA_approved_id = drug_meta[drug_meta['FDA_Approved']=='Yes']['drug_id'].values"
   ]
  },
  {
   "cell_type": "code",
   "execution_count": 373,
   "metadata": {
    "ExecuteTime": {
     "end_time": "2020-08-07T14:50:20.977930Z",
     "start_time": "2020-08-07T14:50:20.946203Z"
    },
    "hidden": true
   },
   "outputs": [
    {
     "data": {
      "text/html": [
       "<div>\n",
       "<style scoped>\n",
       "    .dataframe tbody tr th:only-of-type {\n",
       "        vertical-align: middle;\n",
       "    }\n",
       "\n",
       "    .dataframe tbody tr th {\n",
       "        vertical-align: top;\n",
       "    }\n",
       "\n",
       "    .dataframe thead th {\n",
       "        text-align: right;\n",
       "    }\n",
       "</style>\n",
       "<table border=\"1\" class=\"dataframe\">\n",
       "  <thead>\n",
       "    <tr style=\"text-align: right;\">\n",
       "      <th></th>\n",
       "      <th>drug_id</th>\n",
       "      <th>protein</th>\n",
       "      <th>tissue</th>\n",
       "      <th>protein_first_q</th>\n",
       "      <th>protein_last_q</th>\n",
       "      <th>rna_first_q</th>\n",
       "      <th>rna_last_q</th>\n",
       "      <th>protein_first_nq_std</th>\n",
       "      <th>rna_first_nq_std</th>\n",
       "      <th>IC50_mean</th>\n",
       "      <th>...</th>\n",
       "      <th>last_q_delta</th>\n",
       "      <th>y_id</th>\n",
       "      <th>x_protein</th>\n",
       "      <th>fdr</th>\n",
       "      <th>beta</th>\n",
       "      <th>skew</th>\n",
       "      <th>ppi</th>\n",
       "      <th>r2</th>\n",
       "      <th>protein_last_q_minus_max_c</th>\n",
       "      <th>rna_last_q_minus_max_c</th>\n",
       "    </tr>\n",
       "  </thead>\n",
       "  <tbody>\n",
       "    <tr>\n",
       "      <th>16012</th>\n",
       "      <td>1909;Venetoclax;GDSC2</td>\n",
       "      <td>REQU_HUMAN</td>\n",
       "      <td>Haematopoietic and Lymphoid</td>\n",
       "      <td>1.595670</td>\n",
       "      <td>-0.108374</td>\n",
       "      <td>0.810358</td>\n",
       "      <td>1.271863</td>\n",
       "      <td>0.459915</td>\n",
       "      <td>0.085363</td>\n",
       "      <td>0.004994</td>\n",
       "      <td>...</td>\n",
       "      <td>-1.380237</td>\n",
       "      <td>1909;Venetoclax;GDSC2</td>\n",
       "      <td>REQU_HUMAN</td>\n",
       "      <td>0.041000</td>\n",
       "      <td>-0.406600</td>\n",
       "      <td>-1.56284</td>\n",
       "      <td>3</td>\n",
       "      <td>0.740261</td>\n",
       "      <td>-2.405966</td>\n",
       "      <td>-1.025729</td>\n",
       "    </tr>\n",
       "    <tr>\n",
       "      <th>27483</th>\n",
       "      <td>1909;Venetoclax;GDSC2</td>\n",
       "      <td>PRP31_HUMAN</td>\n",
       "      <td>Haematopoietic and Lymphoid</td>\n",
       "      <td>1.569503</td>\n",
       "      <td>-0.052101</td>\n",
       "      <td>0.377492</td>\n",
       "      <td>1.397314</td>\n",
       "      <td>0.365719</td>\n",
       "      <td>0.249423</td>\n",
       "      <td>-0.013506</td>\n",
       "      <td>...</td>\n",
       "      <td>-1.449415</td>\n",
       "      <td>1909;Venetoclax;GDSC2</td>\n",
       "      <td>PRP31_HUMAN</td>\n",
       "      <td>0.070741</td>\n",
       "      <td>-0.476276</td>\n",
       "      <td>-1.56284</td>\n",
       "      <td>3</td>\n",
       "      <td>0.740261</td>\n",
       "      <td>-2.368192</td>\n",
       "      <td>-0.918777</td>\n",
       "    </tr>\n",
       "  </tbody>\n",
       "</table>\n",
       "<p>2 rows × 22 columns</p>\n",
       "</div>"
      ],
      "text/plain": [
       "                     drug_id      protein                       tissue  \\\n",
       "16012  1909;Venetoclax;GDSC2   REQU_HUMAN  Haematopoietic and Lymphoid   \n",
       "27483  1909;Venetoclax;GDSC2  PRP31_HUMAN  Haematopoietic and Lymphoid   \n",
       "\n",
       "       protein_first_q  protein_last_q  rna_first_q  rna_last_q  \\\n",
       "16012         1.595670       -0.108374     0.810358    1.271863   \n",
       "27483         1.569503       -0.052101     0.377492    1.397314   \n",
       "\n",
       "       protein_first_nq_std  rna_first_nq_std  IC50_mean  ...  last_q_delta  \\\n",
       "16012              0.459915          0.085363   0.004994  ...     -1.380237   \n",
       "27483              0.365719          0.249423  -0.013506  ...     -1.449415   \n",
       "\n",
       "                        y_id    x_protein       fdr      beta     skew  ppi  \\\n",
       "16012  1909;Venetoclax;GDSC2   REQU_HUMAN  0.041000 -0.406600 -1.56284    3   \n",
       "27483  1909;Venetoclax;GDSC2  PRP31_HUMAN  0.070741 -0.476276 -1.56284    3   \n",
       "\n",
       "             r2 protein_last_q_minus_max_c  rna_last_q_minus_max_c  \n",
       "16012  0.740261                  -2.405966               -1.025729  \n",
       "27483  0.740261                  -2.368192               -0.918777  \n",
       "\n",
       "[2 rows x 22 columns]"
      ]
     },
     "execution_count": 373,
     "metadata": {},
     "output_type": "execute_result"
    }
   ],
   "source": [
    "res_df[(res_df['last_q_delta'] < -1) & (res_df['protein'].isin(target_proteins))\n",
    "       & (res_df['fdr'] < 0.1) & (res_df['beta'] < 0)\n",
    "       & (res_df['skew'] < 0) & (~pd.isna(res_df['protein_first_nq_std'])) &\n",
    "       (res_df['mono'] == True) &\n",
    "       (res_df['protein_last_q_minus_max_c'] < -2)].sort_values(\n",
    "           'protein_last_q_minus_max_c').head(50)"
   ]
  },
  {
   "cell_type": "code",
   "execution_count": 374,
   "metadata": {
    "ExecuteTime": {
     "end_time": "2020-08-07T14:50:23.754635Z",
     "start_time": "2020-08-07T14:50:23.721485Z"
    },
    "hidden": true,
    "scrolled": false
   },
   "outputs": [
    {
     "data": {
      "text/html": [
       "<div>\n",
       "<style scoped>\n",
       "    .dataframe tbody tr th:only-of-type {\n",
       "        vertical-align: middle;\n",
       "    }\n",
       "\n",
       "    .dataframe tbody tr th {\n",
       "        vertical-align: top;\n",
       "    }\n",
       "\n",
       "    .dataframe thead th {\n",
       "        text-align: right;\n",
       "    }\n",
       "</style>\n",
       "<table border=\"1\" class=\"dataframe\">\n",
       "  <thead>\n",
       "    <tr style=\"text-align: right;\">\n",
       "      <th></th>\n",
       "      <th>drug_id</th>\n",
       "      <th>protein</th>\n",
       "      <th>tissue</th>\n",
       "      <th>protein_first_q</th>\n",
       "      <th>protein_last_q</th>\n",
       "      <th>rna_first_q</th>\n",
       "      <th>rna_last_q</th>\n",
       "      <th>protein_first_nq_std</th>\n",
       "      <th>rna_first_nq_std</th>\n",
       "      <th>IC50_mean</th>\n",
       "      <th>...</th>\n",
       "      <th>last_q_delta</th>\n",
       "      <th>y_id</th>\n",
       "      <th>x_protein</th>\n",
       "      <th>fdr</th>\n",
       "      <th>beta</th>\n",
       "      <th>skew</th>\n",
       "      <th>ppi</th>\n",
       "      <th>r2</th>\n",
       "      <th>protein_last_q_minus_max_c</th>\n",
       "      <th>rna_last_q_minus_max_c</th>\n",
       "    </tr>\n",
       "  </thead>\n",
       "  <tbody>\n",
       "    <tr>\n",
       "      <th>24072</th>\n",
       "      <td>56;WH-4-023;GDSC1</td>\n",
       "      <td>NUP43_HUMAN</td>\n",
       "      <td>Kidney</td>\n",
       "      <td>-0.822703</td>\n",
       "      <td>-1.790369</td>\n",
       "      <td>-0.327392</td>\n",
       "      <td>0.321688</td>\n",
       "      <td>0.817078</td>\n",
       "      <td>1.106761</td>\n",
       "      <td>-1.411137</td>\n",
       "      <td>...</td>\n",
       "      <td>-2.112057</td>\n",
       "      <td>56;WH-4-023;GDSC1</td>\n",
       "      <td>NUP43_HUMAN</td>\n",
       "      <td>0.062852</td>\n",
       "      <td>-0.438227</td>\n",
       "      <td>-1.195720</td>\n",
       "      <td>-</td>\n",
       "      <td>0.497593</td>\n",
       "      <td>-4.834661</td>\n",
       "      <td>-2.722604</td>\n",
       "    </tr>\n",
       "    <tr>\n",
       "      <th>31968</th>\n",
       "      <td>1373;Dabrafenib;GDSC2</td>\n",
       "      <td>WDR61_HUMAN</td>\n",
       "      <td>Skin</td>\n",
       "      <td>0.198714</td>\n",
       "      <td>-3.115418</td>\n",
       "      <td>0.198714</td>\n",
       "      <td>-0.455355</td>\n",
       "      <td>0.521906</td>\n",
       "      <td>1.460067</td>\n",
       "      <td>1.118118</td>\n",
       "      <td>...</td>\n",
       "      <td>-2.660063</td>\n",
       "      <td>1373;Dabrafenib;GDSC2</td>\n",
       "      <td>WDR61_HUMAN</td>\n",
       "      <td>0.083944</td>\n",
       "      <td>-0.419553</td>\n",
       "      <td>-1.457743</td>\n",
       "      <td>3</td>\n",
       "      <td>0.565177</td>\n",
       "      <td>-4.299885</td>\n",
       "      <td>-1.639822</td>\n",
       "    </tr>\n",
       "    <tr>\n",
       "      <th>7946</th>\n",
       "      <td>1427;AZD5582;GDSC1</td>\n",
       "      <td>SMU1_HUMAN</td>\n",
       "      <td>Head and Neck</td>\n",
       "      <td>0.939817</td>\n",
       "      <td>-2.602008</td>\n",
       "      <td>0.573541</td>\n",
       "      <td>0.097327</td>\n",
       "      <td>0.287441</td>\n",
       "      <td>0.232159</td>\n",
       "      <td>0.813651</td>\n",
       "      <td>...</td>\n",
       "      <td>-2.699335</td>\n",
       "      <td>1427;AZD5582;GDSC1</td>\n",
       "      <td>SMU1_HUMAN</td>\n",
       "      <td>0.019117</td>\n",
       "      <td>-0.652085</td>\n",
       "      <td>-1.084352</td>\n",
       "      <td>-</td>\n",
       "      <td>0.491294</td>\n",
       "      <td>-4.090942</td>\n",
       "      <td>-1.391607</td>\n",
       "    </tr>\n",
       "    <tr>\n",
       "      <th>33580</th>\n",
       "      <td>1909;Venetoclax;GDSC2</td>\n",
       "      <td>PRKDC_HUMAN</td>\n",
       "      <td>Haematopoietic and Lymphoid</td>\n",
       "      <td>1.167053</td>\n",
       "      <td>-1.647553</td>\n",
       "      <td>1.167053</td>\n",
       "      <td>0.607057</td>\n",
       "      <td>0.475299</td>\n",
       "      <td>0.409638</td>\n",
       "      <td>-0.013506</td>\n",
       "      <td>...</td>\n",
       "      <td>-2.254610</td>\n",
       "      <td>1909;Venetoclax;GDSC2</td>\n",
       "      <td>PRKDC_HUMAN</td>\n",
       "      <td>0.087424</td>\n",
       "      <td>-0.364282</td>\n",
       "      <td>-1.562840</td>\n",
       "      <td>2</td>\n",
       "      <td>0.740261</td>\n",
       "      <td>-3.963644</td>\n",
       "      <td>-1.709034</td>\n",
       "    </tr>\n",
       "    <tr>\n",
       "      <th>5460</th>\n",
       "      <td>1427;AZD5582;GDSC1</td>\n",
       "      <td>MOGS_HUMAN</td>\n",
       "      <td>Head and Neck</td>\n",
       "      <td>1.188250</td>\n",
       "      <td>-2.339378</td>\n",
       "      <td>1.072576</td>\n",
       "      <td>0.405418</td>\n",
       "      <td>0.327793</td>\n",
       "      <td>1.193720</td>\n",
       "      <td>0.813651</td>\n",
       "      <td>...</td>\n",
       "      <td>-2.744796</td>\n",
       "      <td>1427;AZD5582;GDSC1</td>\n",
       "      <td>MOGS_HUMAN</td>\n",
       "      <td>0.012751</td>\n",
       "      <td>-0.342868</td>\n",
       "      <td>-1.084352</td>\n",
       "      <td>-</td>\n",
       "      <td>0.491294</td>\n",
       "      <td>-3.828312</td>\n",
       "      <td>-1.083516</td>\n",
       "    </tr>\n",
       "    <tr>\n",
       "      <th>2914</th>\n",
       "      <td>56;WH-4-023;GDSC1</td>\n",
       "      <td>NU153_HUMAN</td>\n",
       "      <td>Kidney</td>\n",
       "      <td>-0.484130</td>\n",
       "      <td>-1.262999</td>\n",
       "      <td>-2.382770</td>\n",
       "      <td>1.683433</td>\n",
       "      <td>0.975041</td>\n",
       "      <td>1.615141</td>\n",
       "      <td>-0.818737</td>\n",
       "      <td>...</td>\n",
       "      <td>-2.946432</td>\n",
       "      <td>56;WH-4-023;GDSC1</td>\n",
       "      <td>NU153_HUMAN</td>\n",
       "      <td>0.006510</td>\n",
       "      <td>-0.534229</td>\n",
       "      <td>-1.195720</td>\n",
       "      <td>-</td>\n",
       "      <td>0.497593</td>\n",
       "      <td>-3.714890</td>\n",
       "      <td>-0.768459</td>\n",
       "    </tr>\n",
       "    <tr>\n",
       "      <th>33557</th>\n",
       "      <td>1427;AZD5582;GDSC1</td>\n",
       "      <td>ZN326_HUMAN</td>\n",
       "      <td>Head and Neck</td>\n",
       "      <td>1.029336</td>\n",
       "      <td>-2.153934</td>\n",
       "      <td>1.064971</td>\n",
       "      <td>0.427741</td>\n",
       "      <td>0.061616</td>\n",
       "      <td>2.247581</td>\n",
       "      <td>0.813651</td>\n",
       "      <td>...</td>\n",
       "      <td>-2.581675</td>\n",
       "      <td>1427;AZD5582;GDSC1</td>\n",
       "      <td>ZN326_HUMAN</td>\n",
       "      <td>0.087420</td>\n",
       "      <td>-0.294768</td>\n",
       "      <td>-1.084352</td>\n",
       "      <td>-</td>\n",
       "      <td>0.491294</td>\n",
       "      <td>-3.642868</td>\n",
       "      <td>-1.061193</td>\n",
       "    </tr>\n",
       "    <tr>\n",
       "      <th>34526</th>\n",
       "      <td>1909;Venetoclax;GDSC2</td>\n",
       "      <td>TSN_HUMAN</td>\n",
       "      <td>Haematopoietic and Lymphoid</td>\n",
       "      <td>1.382253</td>\n",
       "      <td>-0.798560</td>\n",
       "      <td>0.961588</td>\n",
       "      <td>1.789528</td>\n",
       "      <td>0.582747</td>\n",
       "      <td>0.774942</td>\n",
       "      <td>-0.013506</td>\n",
       "      <td>...</td>\n",
       "      <td>-2.588087</td>\n",
       "      <td>1909;Venetoclax;GDSC2</td>\n",
       "      <td>TSN_HUMAN</td>\n",
       "      <td>0.089691</td>\n",
       "      <td>-0.289914</td>\n",
       "      <td>-1.562840</td>\n",
       "      <td>3</td>\n",
       "      <td>0.740261</td>\n",
       "      <td>-3.114651</td>\n",
       "      <td>-0.526564</td>\n",
       "    </tr>\n",
       "    <tr>\n",
       "      <th>22348</th>\n",
       "      <td>1909;Venetoclax;GDSC2</td>\n",
       "      <td>ARP3_HUMAN</td>\n",
       "      <td>Haematopoietic and Lymphoid</td>\n",
       "      <td>1.345169</td>\n",
       "      <td>-0.769688</td>\n",
       "      <td>0.982561</td>\n",
       "      <td>1.421581</td>\n",
       "      <td>0.397865</td>\n",
       "      <td>1.019035</td>\n",
       "      <td>-0.013506</td>\n",
       "      <td>...</td>\n",
       "      <td>-2.191269</td>\n",
       "      <td>1909;Venetoclax;GDSC2</td>\n",
       "      <td>ARP3_HUMAN</td>\n",
       "      <td>0.058225</td>\n",
       "      <td>-0.303654</td>\n",
       "      <td>-1.562840</td>\n",
       "      <td>3</td>\n",
       "      <td>0.740261</td>\n",
       "      <td>-3.085779</td>\n",
       "      <td>-0.894510</td>\n",
       "    </tr>\n",
       "    <tr>\n",
       "      <th>2903</th>\n",
       "      <td>56;WH-4-023;GDSC1</td>\n",
       "      <td>ZCHC8_HUMAN</td>\n",
       "      <td>Esophagus</td>\n",
       "      <td>-0.369260</td>\n",
       "      <td>-1.588171</td>\n",
       "      <td>-2.058427</td>\n",
       "      <td>1.957772</td>\n",
       "      <td>0.914774</td>\n",
       "      <td>1.424013</td>\n",
       "      <td>1.166396</td>\n",
       "      <td>...</td>\n",
       "      <td>-3.545944</td>\n",
       "      <td>56;WH-4-023;GDSC1</td>\n",
       "      <td>ZCHC8_HUMAN</td>\n",
       "      <td>0.006510</td>\n",
       "      <td>-0.471293</td>\n",
       "      <td>-1.195720</td>\n",
       "      <td>-</td>\n",
       "      <td>0.497593</td>\n",
       "      <td>-2.054929</td>\n",
       "      <td>1.491014</td>\n",
       "    </tr>\n",
       "  </tbody>\n",
       "</table>\n",
       "<p>10 rows × 22 columns</p>\n",
       "</div>"
      ],
      "text/plain": [
       "                     drug_id      protein                       tissue  \\\n",
       "24072      56;WH-4-023;GDSC1  NUP43_HUMAN                       Kidney   \n",
       "31968  1373;Dabrafenib;GDSC2  WDR61_HUMAN                         Skin   \n",
       "7946      1427;AZD5582;GDSC1   SMU1_HUMAN                Head and Neck   \n",
       "33580  1909;Venetoclax;GDSC2  PRKDC_HUMAN  Haematopoietic and Lymphoid   \n",
       "5460      1427;AZD5582;GDSC1   MOGS_HUMAN                Head and Neck   \n",
       "2914       56;WH-4-023;GDSC1  NU153_HUMAN                       Kidney   \n",
       "33557     1427;AZD5582;GDSC1  ZN326_HUMAN                Head and Neck   \n",
       "34526  1909;Venetoclax;GDSC2    TSN_HUMAN  Haematopoietic and Lymphoid   \n",
       "22348  1909;Venetoclax;GDSC2   ARP3_HUMAN  Haematopoietic and Lymphoid   \n",
       "2903       56;WH-4-023;GDSC1  ZCHC8_HUMAN                    Esophagus   \n",
       "\n",
       "       protein_first_q  protein_last_q  rna_first_q  rna_last_q  \\\n",
       "24072        -0.822703       -1.790369    -0.327392    0.321688   \n",
       "31968         0.198714       -3.115418     0.198714   -0.455355   \n",
       "7946          0.939817       -2.602008     0.573541    0.097327   \n",
       "33580         1.167053       -1.647553     1.167053    0.607057   \n",
       "5460          1.188250       -2.339378     1.072576    0.405418   \n",
       "2914         -0.484130       -1.262999    -2.382770    1.683433   \n",
       "33557         1.029336       -2.153934     1.064971    0.427741   \n",
       "34526         1.382253       -0.798560     0.961588    1.789528   \n",
       "22348         1.345169       -0.769688     0.982561    1.421581   \n",
       "2903         -0.369260       -1.588171    -2.058427    1.957772   \n",
       "\n",
       "       protein_first_nq_std  rna_first_nq_std  IC50_mean  ...  last_q_delta  \\\n",
       "24072              0.817078          1.106761  -1.411137  ...     -2.112057   \n",
       "31968              0.521906          1.460067   1.118118  ...     -2.660063   \n",
       "7946               0.287441          0.232159   0.813651  ...     -2.699335   \n",
       "33580              0.475299          0.409638  -0.013506  ...     -2.254610   \n",
       "5460               0.327793          1.193720   0.813651  ...     -2.744796   \n",
       "2914               0.975041          1.615141  -0.818737  ...     -2.946432   \n",
       "33557              0.061616          2.247581   0.813651  ...     -2.581675   \n",
       "34526              0.582747          0.774942  -0.013506  ...     -2.588087   \n",
       "22348              0.397865          1.019035  -0.013506  ...     -2.191269   \n",
       "2903               0.914774          1.424013   1.166396  ...     -3.545944   \n",
       "\n",
       "                        y_id    x_protein       fdr      beta      skew  ppi  \\\n",
       "24072      56;WH-4-023;GDSC1  NUP43_HUMAN  0.062852 -0.438227 -1.195720    -   \n",
       "31968  1373;Dabrafenib;GDSC2  WDR61_HUMAN  0.083944 -0.419553 -1.457743    3   \n",
       "7946      1427;AZD5582;GDSC1   SMU1_HUMAN  0.019117 -0.652085 -1.084352    -   \n",
       "33580  1909;Venetoclax;GDSC2  PRKDC_HUMAN  0.087424 -0.364282 -1.562840    2   \n",
       "5460      1427;AZD5582;GDSC1   MOGS_HUMAN  0.012751 -0.342868 -1.084352    -   \n",
       "2914       56;WH-4-023;GDSC1  NU153_HUMAN  0.006510 -0.534229 -1.195720    -   \n",
       "33557     1427;AZD5582;GDSC1  ZN326_HUMAN  0.087420 -0.294768 -1.084352    -   \n",
       "34526  1909;Venetoclax;GDSC2    TSN_HUMAN  0.089691 -0.289914 -1.562840    3   \n",
       "22348  1909;Venetoclax;GDSC2   ARP3_HUMAN  0.058225 -0.303654 -1.562840    3   \n",
       "2903       56;WH-4-023;GDSC1  ZCHC8_HUMAN  0.006510 -0.471293 -1.195720    -   \n",
       "\n",
       "             r2 protein_last_q_minus_max_c  rna_last_q_minus_max_c  \n",
       "24072  0.497593                  -4.834661               -2.722604  \n",
       "31968  0.565177                  -4.299885               -1.639822  \n",
       "7946   0.491294                  -4.090942               -1.391607  \n",
       "33580  0.740261                  -3.963644               -1.709034  \n",
       "5460   0.491294                  -3.828312               -1.083516  \n",
       "2914   0.497593                  -3.714890               -0.768459  \n",
       "33557  0.491294                  -3.642868               -1.061193  \n",
       "34526  0.740261                  -3.114651               -0.526564  \n",
       "22348  0.740261                  -3.085779               -0.894510  \n",
       "2903   0.497593                  -2.054929                1.491014  \n",
       "\n",
       "[10 rows x 22 columns]"
      ]
     },
     "execution_count": 374,
     "metadata": {},
     "output_type": "execute_result"
    }
   ],
   "source": [
    "res_df[(res_df['last_q_delta'] < -2) & (res_df['protein'].isin(target_proteins))\n",
    "       & (res_df['fdr'] < 0.1) & (res_df['beta'] < 0)\n",
    "       & (res_df['skew'] < 0) & (~pd.isna(res_df['protein_first_nq_std'])) &\n",
    "       (res_df['protein_first_nq_std'] < 1) &\n",
    "       (res_df['protein_last_q_minus_max_c'] < -2)].sort_values(\n",
    "           'protein_last_q_minus_max_c').head(50)"
   ]
  },
  {
   "cell_type": "code",
   "execution_count": null,
   "metadata": {
    "hidden": true
   },
   "outputs": [],
   "source": []
  },
  {
   "cell_type": "markdown",
   "metadata": {},
   "source": [
    "## tissue level"
   ]
  },
  {
   "cell_type": "code",
   "execution_count": 25,
   "metadata": {
    "ExecuteTime": {
     "end_time": "2020-10-19T03:30:24.299726Z",
     "start_time": "2020-10-19T03:30:24.281688Z"
    }
   },
   "outputs": [],
   "source": [
    "drug_crispr = pd.read_csv(\"../../result_files/drug_crispr_associations_10pcs_nc.csv\")"
   ]
  },
  {
   "cell_type": "code",
   "execution_count": 26,
   "metadata": {
    "ExecuteTime": {
     "end_time": "2020-10-19T03:30:26.004271Z",
     "start_time": "2020-10-19T03:30:25.573753Z"
    }
   },
   "outputs": [],
   "source": [
    "res_df = pd.read_csv(\"../../result_files/box_plot_drug_tissues_5q_10pc_nc.csv\")"
   ]
  },
  {
   "cell_type": "markdown",
   "metadata": {},
   "source": [
    "### sensitive"
   ]
  },
  {
   "cell_type": "code",
   "execution_count": 27,
   "metadata": {
    "ExecuteTime": {
     "end_time": "2020-10-19T03:30:27.078318Z",
     "start_time": "2020-10-19T03:30:26.981240Z"
    }
   },
   "outputs": [],
   "source": [
    "res_df = pd.merge(res_df,\n",
    "                  lm_res[['y_id', 'x_protein', 'x_id', 'fdr', 'target', 'beta', 'nc_fdr', 'nc_beta','skew', 'ppi', 'r2']],\n",
    "                  left_on=['drug_id', 'protein'],\n",
    "                  right_on=['y_id', 'x_protein'])"
   ]
  },
  {
   "cell_type": "code",
   "execution_count": 28,
   "metadata": {
    "ExecuteTime": {
     "end_time": "2020-10-19T03:30:27.446494Z",
     "start_time": "2020-10-19T03:30:27.437171Z"
    }
   },
   "outputs": [],
   "source": [
    "res_df['protein_last_q_minus_max_c'] = res_df['protein_last_q'] + res_df[\n",
    "    'IC50_mean'] - res_df['max_conc']\n",
    "res_df['rna_last_q_minus_max_c'] = res_df['rna_last_q'] + res_df[\n",
    "    'IC50_mean'] - res_df['max_conc']\n",
    "res_df['last_q_delta'] = res_df['protein_last_q_minus_max_c'] - res_df['rna_last_q_minus_max_c']\n",
    "res_df['corr_diff'] = res_df['p_corr_protein'].abs() - res_df['p_corr_rna'].abs()"
   ]
  },
  {
   "cell_type": "code",
   "execution_count": 29,
   "metadata": {
    "ExecuteTime": {
     "end_time": "2020-10-19T03:30:29.342701Z",
     "start_time": "2020-10-19T03:30:29.333609Z"
    }
   },
   "outputs": [],
   "source": [
    "corr_dict_merged = pd.read_csv(\"../../data/protein_rna_correlations.csv\")\n",
    "\n",
    "target_proteins = corr_dict_merged[corr_dict_merged['corr_diff'].abs(\n",
    ") < 0.2].sort_values('corr_avg').head(2000)['protein'].values"
   ]
  },
  {
   "cell_type": "code",
   "execution_count": 30,
   "metadata": {
    "ExecuteTime": {
     "end_time": "2020-10-19T03:30:30.077300Z",
     "start_time": "2020-10-19T03:30:30.074098Z"
    }
   },
   "outputs": [
    {
     "data": {
      "text/plain": [
       "(182543, 32)"
      ]
     },
     "execution_count": 30,
     "metadata": {},
     "output_type": "execute_result"
    }
   ],
   "source": [
    "res_df.shape"
   ]
  },
  {
   "cell_type": "code",
   "execution_count": 47,
   "metadata": {
    "ExecuteTime": {
     "end_time": "2020-10-19T03:34:55.016622Z",
     "start_time": "2020-10-19T03:34:55.002030Z"
    },
    "scrolled": false
   },
   "outputs": [],
   "source": [
    "drug_res_filtered = res_df[(res_df['protein'].isin(target_proteins))\n",
    "                           & (res_df['beta'] < 0) &\n",
    "                           (res_df['p_pval_protein'] < 0.1) &\n",
    "                           (res_df['counts'] > 20)\n",
    "                           & (res_df['skew'] < -0.5) & (res_df['mono'] == True) & (res_df['corr_diff'] > 0.15) &\n",
    "                           (res_df['protein_last_q_minus_max_c'] <\n",
    "                            0)].sort_values('corr_diff', ascending=False)[[\n",
    "                                'drug_id', 'protein', 'x_id', 'target', 'beta', 'fdr','nc_fdr', 'nc_beta',\n",
    "                                'ppi', 'r2', 'tissue', 'p_corr_protein',\n",
    "                                'p_pval_protein', 'corr_diff', 'counts', 'skew'\n",
    "                            ]]"
   ]
  },
  {
   "cell_type": "code",
   "execution_count": 48,
   "metadata": {
    "ExecuteTime": {
     "end_time": "2020-10-19T03:34:55.796000Z",
     "start_time": "2020-10-19T03:34:55.770099Z"
    }
   },
   "outputs": [
    {
     "data": {
      "text/html": [
       "<div>\n",
       "<style scoped>\n",
       "    .dataframe tbody tr th:only-of-type {\n",
       "        vertical-align: middle;\n",
       "    }\n",
       "\n",
       "    .dataframe tbody tr th {\n",
       "        vertical-align: top;\n",
       "    }\n",
       "\n",
       "    .dataframe thead th {\n",
       "        text-align: right;\n",
       "    }\n",
       "</style>\n",
       "<table border=\"1\" class=\"dataframe\">\n",
       "  <thead>\n",
       "    <tr style=\"text-align: right;\">\n",
       "      <th></th>\n",
       "      <th>drug_id</th>\n",
       "      <th>protein</th>\n",
       "      <th>x_id</th>\n",
       "      <th>target_x</th>\n",
       "      <th>beta</th>\n",
       "      <th>fdr</th>\n",
       "      <th>nc_fdr</th>\n",
       "      <th>nc_beta</th>\n",
       "      <th>ppi</th>\n",
       "      <th>r2</th>\n",
       "      <th>...</th>\n",
       "      <th>covs_crispr</th>\n",
       "      <th>pval_crispr</th>\n",
       "      <th>fdr_crispr</th>\n",
       "      <th>nc_beta_crispr</th>\n",
       "      <th>nc_lr_crispr</th>\n",
       "      <th>nc_pval_crispr</th>\n",
       "      <th>nc_fdr_crispr</th>\n",
       "      <th>r2_crispr</th>\n",
       "      <th>ppi_crispr</th>\n",
       "      <th>skew_crispr</th>\n",
       "    </tr>\n",
       "  </thead>\n",
       "  <tbody>\n",
       "    <tr>\n",
       "      <th>0</th>\n",
       "      <td>1377;Afatinib;GDSC1</td>\n",
       "      <td>RT22_HUMAN</td>\n",
       "      <td>MRPS22</td>\n",
       "      <td>EGFR;ERBB2</td>\n",
       "      <td>-0.207507</td>\n",
       "      <td>0.779830</td>\n",
       "      <td>9.927609e-09</td>\n",
       "      <td>-0.811231</td>\n",
       "      <td>-</td>\n",
       "      <td>0.617294</td>\n",
       "      <td>...</td>\n",
       "      <td>21</td>\n",
       "      <td>0.244293</td>\n",
       "      <td>0.892241</td>\n",
       "      <td>-0.365466</td>\n",
       "      <td>34.810174</td>\n",
       "      <td>3.634690e-09</td>\n",
       "      <td>0.000061</td>\n",
       "      <td>0.59332</td>\n",
       "      <td>3</td>\n",
       "      <td>-1.779083</td>\n",
       "    </tr>\n",
       "    <tr>\n",
       "      <th>1</th>\n",
       "      <td>2022;PF-06747775;GDSC2</td>\n",
       "      <td>ICT1_HUMAN</td>\n",
       "      <td>MRPL58</td>\n",
       "      <td>EGFR</td>\n",
       "      <td>-0.271471</td>\n",
       "      <td>0.370333</td>\n",
       "      <td>2.408008e-07</td>\n",
       "      <td>-0.845908</td>\n",
       "      <td>-</td>\n",
       "      <td>0.462193</td>\n",
       "      <td>...</td>\n",
       "      <td>21</td>\n",
       "      <td>0.162470</td>\n",
       "      <td>0.803743</td>\n",
       "      <td>-0.381459</td>\n",
       "      <td>29.845200</td>\n",
       "      <td>4.679539e-08</td>\n",
       "      <td>0.000087</td>\n",
       "      <td>0.59332</td>\n",
       "      <td>-</td>\n",
       "      <td>-1.779083</td>\n",
       "    </tr>\n",
       "    <tr>\n",
       "      <th>2</th>\n",
       "      <td>1032;Afatinib;GDSC1</td>\n",
       "      <td>ICT1_HUMAN</td>\n",
       "      <td>MRPL58</td>\n",
       "      <td>EGFR;ERBB2</td>\n",
       "      <td>-0.251152</td>\n",
       "      <td>0.664989</td>\n",
       "      <td>1.212406e-11</td>\n",
       "      <td>-0.938139</td>\n",
       "      <td>-</td>\n",
       "      <td>0.551671</td>\n",
       "      <td>...</td>\n",
       "      <td>21</td>\n",
       "      <td>0.162470</td>\n",
       "      <td>0.803743</td>\n",
       "      <td>-0.381459</td>\n",
       "      <td>29.845200</td>\n",
       "      <td>4.679539e-08</td>\n",
       "      <td>0.000087</td>\n",
       "      <td>0.59332</td>\n",
       "      <td>-</td>\n",
       "      <td>-1.779083</td>\n",
       "    </tr>\n",
       "  </tbody>\n",
       "</table>\n",
       "<p>3 rows × 46 columns</p>\n",
       "</div>"
      ],
      "text/plain": [
       "                  drug_id     protein    x_id    target_x      beta       fdr  \\\n",
       "0     1377;Afatinib;GDSC1  RT22_HUMAN  MRPS22  EGFR;ERBB2 -0.207507  0.779830   \n",
       "1  2022;PF-06747775;GDSC2  ICT1_HUMAN  MRPL58        EGFR -0.271471  0.370333   \n",
       "2     1032;Afatinib;GDSC1  ICT1_HUMAN  MRPL58  EGFR;ERBB2 -0.251152  0.664989   \n",
       "\n",
       "         nc_fdr   nc_beta ppi        r2  ... covs_crispr  pval_crispr  \\\n",
       "0  9.927609e-09 -0.811231   -  0.617294  ...          21     0.244293   \n",
       "1  2.408008e-07 -0.845908   -  0.462193  ...          21     0.162470   \n",
       "2  1.212406e-11 -0.938139   -  0.551671  ...          21     0.162470   \n",
       "\n",
       "   fdr_crispr  nc_beta_crispr  nc_lr_crispr  nc_pval_crispr nc_fdr_crispr  \\\n",
       "0    0.892241       -0.365466     34.810174    3.634690e-09      0.000061   \n",
       "1    0.803743       -0.381459     29.845200    4.679539e-08      0.000087   \n",
       "2    0.803743       -0.381459     29.845200    4.679539e-08      0.000087   \n",
       "\n",
       "   r2_crispr  ppi_crispr  skew_crispr  \n",
       "0    0.59332           3    -1.779083  \n",
       "1    0.59332           -    -1.779083  \n",
       "2    0.59332           -    -1.779083  \n",
       "\n",
       "[3 rows x 46 columns]"
      ]
     },
     "execution_count": 48,
     "metadata": {},
     "output_type": "execute_result"
    }
   ],
   "source": [
    "pd.merge(drug_res_filtered, drug_crispr, left_on=['drug_id', 'x_id'], right_on=['y_id_drug', 'x_id'])"
   ]
  },
  {
   "cell_type": "code",
   "execution_count": 45,
   "metadata": {
    "ExecuteTime": {
     "end_time": "2020-10-19T03:33:29.991903Z",
     "start_time": "2020-10-19T03:33:29.988829Z"
    },
    "scrolled": false
   },
   "outputs": [
    {
     "data": {
      "text/plain": [
       "(215, 16)"
      ]
     },
     "execution_count": 45,
     "metadata": {},
     "output_type": "execute_result"
    }
   ],
   "source": [
    "drug_res_filtered.shape"
   ]
  },
  {
   "cell_type": "code",
   "execution_count": 46,
   "metadata": {
    "ExecuteTime": {
     "end_time": "2020-10-19T03:33:31.226739Z",
     "start_time": "2020-10-19T03:33:31.205904Z"
    },
    "scrolled": false
   },
   "outputs": [
    {
     "data": {
      "application/vnd.jupyter.widget-view+json": {
       "model_id": "160d0e3e17a14c8dad12cbed94fef11c",
       "version_major": 2,
       "version_minor": 0
      },
      "text/plain": [
       "QgridWidget(grid_options={'fullWidthRows': True, 'syncColumnCellResize': True, 'forceFitColumns': True, 'defau…"
      ]
     },
     "metadata": {},
     "output_type": "display_data"
    }
   ],
   "source": [
    "qgrid.show_grid(drug_res_filtered)"
   ]
  },
  {
   "cell_type": "code",
   "execution_count": 72,
   "metadata": {
    "ExecuteTime": {
     "end_time": "2020-09-11T05:13:59.093406Z",
     "start_time": "2020-09-11T05:13:59.086649Z"
    }
   },
   "outputs": [],
   "source": [
    "drug_res_filtered.to_csv(\n",
    "    \"../../result_files/drug_tissue/drug_tissue_sensitive_associations_filtered_10pc_nc.csv\",\n",
    "    index=False)"
   ]
  },
  {
   "cell_type": "markdown",
   "metadata": {},
   "source": [
    "### resistant"
   ]
  },
  {
   "cell_type": "code",
   "execution_count": 209,
   "metadata": {
    "ExecuteTime": {
     "end_time": "2020-07-20T10:04:49.157016Z",
     "start_time": "2020-07-20T10:04:49.108778Z"
    }
   },
   "outputs": [],
   "source": [
    "res_df = pd.merge(res_df,\n",
    "                  lm_res[['y_id', 'x_protein', 'fdr', 'beta', 'skew', 'ppi', 'r2']],\n",
    "                  left_on=['drug_id', 'protein'],\n",
    "                  right_on=['y_id', 'x_protein'])"
   ]
  },
  {
   "cell_type": "code",
   "execution_count": 210,
   "metadata": {
    "ExecuteTime": {
     "end_time": "2020-07-20T10:04:49.662062Z",
     "start_time": "2020-07-20T10:04:49.654553Z"
    }
   },
   "outputs": [],
   "source": [
    "res_df['protein_last_q_minus_max_c'] = res_df['protein_last_q'] + res_df[\n",
    "    'IC50_mean'] - res_df['max_conc']\n",
    "res_df['protein_first_q_minus_max_c'] = res_df['protein_first_q'] + res_df[\n",
    "    'IC50_mean'] - res_df['max_conc']\n",
    "res_df['rna_last_q_minus_max_c'] = res_df['rna_last_q'] + res_df[\n",
    "    'IC50_mean'] - res_df['max_conc']\n",
    "res_df['last_q_delta'] = res_df['protein_last_q_minus_max_c'] - res_df['rna_last_q_minus_max_c']"
   ]
  },
  {
   "cell_type": "code",
   "execution_count": 212,
   "metadata": {
    "ExecuteTime": {
     "end_time": "2020-07-20T10:05:05.483891Z",
     "start_time": "2020-07-20T10:05:05.433364Z"
    }
   },
   "outputs": [],
   "source": [
    "corr_dict_merged = pd.read_csv(\"../../data/protein_rna_correlations.csv\")\n",
    "\n",
    "target_proteins = corr_dict_merged[corr_dict_merged['corr_diff'].abs(\n",
    ") < 0.1].sort_values('corr_avg').head(1000)['protein'].values\n",
    "drug_meta = pd.read_csv(\"../../data/drug/drug_info.csv\")\n",
    "FDA_approved_id = drug_meta[drug_meta['FDA_Approved']=='Yes']['drug_id'].values"
   ]
  },
  {
   "cell_type": "code",
   "execution_count": 214,
   "metadata": {
    "ExecuteTime": {
     "end_time": "2020-07-20T10:05:18.376440Z",
     "start_time": "2020-07-20T10:05:18.373051Z"
    }
   },
   "outputs": [],
   "source": [
    "res_df['product'] = res_df['protein_last_q_minus_max_c'] * res_df['protein_first_q_minus_max_c']"
   ]
  },
  {
   "cell_type": "code",
   "execution_count": 216,
   "metadata": {
    "ExecuteTime": {
     "end_time": "2020-07-20T10:05:50.956740Z",
     "start_time": "2020-07-20T10:05:50.933947Z"
    },
    "scrolled": false
   },
   "outputs": [
    {
     "data": {
      "text/html": [
       "<div>\n",
       "<style scoped>\n",
       "    .dataframe tbody tr th:only-of-type {\n",
       "        vertical-align: middle;\n",
       "    }\n",
       "\n",
       "    .dataframe tbody tr th {\n",
       "        vertical-align: top;\n",
       "    }\n",
       "\n",
       "    .dataframe thead th {\n",
       "        text-align: right;\n",
       "    }\n",
       "</style>\n",
       "<table border=\"1\" class=\"dataframe\">\n",
       "  <thead>\n",
       "    <tr style=\"text-align: right;\">\n",
       "      <th></th>\n",
       "      <th>drug_id</th>\n",
       "      <th>protein</th>\n",
       "      <th>tissue</th>\n",
       "      <th>protein_first_q</th>\n",
       "      <th>protein_last_q</th>\n",
       "      <th>rna_first_q</th>\n",
       "      <th>rna_last_q</th>\n",
       "      <th>protein_first_4q_std</th>\n",
       "      <th>rna_first_4q_std</th>\n",
       "      <th>IC50_mean</th>\n",
       "      <th>...</th>\n",
       "      <th>x_protein</th>\n",
       "      <th>fdr</th>\n",
       "      <th>beta</th>\n",
       "      <th>skew</th>\n",
       "      <th>ppi</th>\n",
       "      <th>r2</th>\n",
       "      <th>protein_last_q_minus_max_c</th>\n",
       "      <th>protein_first_q_minus_max_c</th>\n",
       "      <th>rna_last_q_minus_max_c</th>\n",
       "      <th>product</th>\n",
       "    </tr>\n",
       "  </thead>\n",
       "  <tbody>\n",
       "    <tr>\n",
       "      <th>649</th>\n",
       "      <td>2354;MCL1_8070;GDSC2</td>\n",
       "      <td>SRP14_HUMAN</td>\n",
       "      <td>Peripheral Nervous System</td>\n",
       "      <td>-1.234139</td>\n",
       "      <td>2.423353</td>\n",
       "      <td>1.371667</td>\n",
       "      <td>-0.724653</td>\n",
       "      <td>1.270121</td>\n",
       "      <td>1.258893</td>\n",
       "      <td>2.168161</td>\n",
       "      <td>...</td>\n",
       "      <td>SRP14_HUMAN</td>\n",
       "      <td>0.039105</td>\n",
       "      <td>0.557233</td>\n",
       "      <td>-1.014470</td>\n",
       "      <td>3</td>\n",
       "      <td>0.707725</td>\n",
       "      <td>2.288928</td>\n",
       "      <td>-1.368563</td>\n",
       "      <td>-0.859077</td>\n",
       "      <td>-3.132543</td>\n",
       "    </tr>\n",
       "    <tr>\n",
       "      <th>1078</th>\n",
       "      <td>2354;MCL1_8070;GDSC2</td>\n",
       "      <td>DNJC9_HUMAN</td>\n",
       "      <td>Peripheral Nervous System</td>\n",
       "      <td>-1.234139</td>\n",
       "      <td>2.359702</td>\n",
       "      <td>-1.234139</td>\n",
       "      <td>-0.724653</td>\n",
       "      <td>0.786090</td>\n",
       "      <td>1.277398</td>\n",
       "      <td>2.168161</td>\n",
       "      <td>...</td>\n",
       "      <td>DNJC9_HUMAN</td>\n",
       "      <td>0.067165</td>\n",
       "      <td>0.333336</td>\n",
       "      <td>-1.014470</td>\n",
       "      <td>-</td>\n",
       "      <td>0.707725</td>\n",
       "      <td>2.225277</td>\n",
       "      <td>-1.368563</td>\n",
       "      <td>-0.859077</td>\n",
       "      <td>-3.045433</td>\n",
       "    </tr>\n",
       "    <tr>\n",
       "      <th>603</th>\n",
       "      <td>1427;AZD5582;GDSC1</td>\n",
       "      <td>CSN4_HUMAN</td>\n",
       "      <td>Liver</td>\n",
       "      <td>-0.944097</td>\n",
       "      <td>1.171563</td>\n",
       "      <td>-0.944097</td>\n",
       "      <td>-0.871474</td>\n",
       "      <td>0.083337</td>\n",
       "      <td>1.073395</td>\n",
       "      <td>2.507706</td>\n",
       "      <td>...</td>\n",
       "      <td>CSN4_HUMAN</td>\n",
       "      <td>0.037248</td>\n",
       "      <td>0.369139</td>\n",
       "      <td>-1.084352</td>\n",
       "      <td>-</td>\n",
       "      <td>0.491294</td>\n",
       "      <td>1.376685</td>\n",
       "      <td>-0.738976</td>\n",
       "      <td>-0.666352</td>\n",
       "      <td>-1.017337</td>\n",
       "    </tr>\n",
       "  </tbody>\n",
       "</table>\n",
       "<p>3 rows × 23 columns</p>\n",
       "</div>"
      ],
      "text/plain": [
       "                   drug_id      protein                     tissue  \\\n",
       "649   2354;MCL1_8070;GDSC2  SRP14_HUMAN  Peripheral Nervous System   \n",
       "1078  2354;MCL1_8070;GDSC2  DNJC9_HUMAN  Peripheral Nervous System   \n",
       "603     1427;AZD5582;GDSC1   CSN4_HUMAN                      Liver   \n",
       "\n",
       "      protein_first_q  protein_last_q  rna_first_q  rna_last_q  \\\n",
       "649         -1.234139        2.423353     1.371667   -0.724653   \n",
       "1078        -1.234139        2.359702    -1.234139   -0.724653   \n",
       "603         -0.944097        1.171563    -0.944097   -0.871474   \n",
       "\n",
       "      protein_first_4q_std  rna_first_4q_std  IC50_mean  ...    x_protein  \\\n",
       "649               1.270121          1.258893   2.168161  ...  SRP14_HUMAN   \n",
       "1078              0.786090          1.277398   2.168161  ...  DNJC9_HUMAN   \n",
       "603               0.083337          1.073395   2.507706  ...   CSN4_HUMAN   \n",
       "\n",
       "           fdr      beta      skew  ppi        r2  protein_last_q_minus_max_c  \\\n",
       "649   0.039105  0.557233 -1.014470    3  0.707725                    2.288928   \n",
       "1078  0.067165  0.333336 -1.014470    -  0.707725                    2.225277   \n",
       "603   0.037248  0.369139 -1.084352    -  0.491294                    1.376685   \n",
       "\n",
       "     protein_first_q_minus_max_c  rna_last_q_minus_max_c   product  \n",
       "649                    -1.368563               -0.859077 -3.132543  \n",
       "1078                   -1.368563               -0.859077 -3.045433  \n",
       "603                    -0.738976               -0.666352 -1.017337  \n",
       "\n",
       "[3 rows x 23 columns]"
      ]
     },
     "execution_count": 216,
     "metadata": {},
     "output_type": "execute_result"
    }
   ],
   "source": [
    "res_df[(res_df['last_q_delta'] > 2) & (res_df['protein'].isin(target_proteins))\n",
    "       & (res_df['fdr'] < 0.1) & (res_df['beta'] > 0)\n",
    "       & (res_df['skew'] < -1) & (~pd.isna(res_df['protein_first_4q_std'])) &\n",
    "       (res_df['protein_first_4q_std'] < 1.5) &\n",
    "       (res_df['protein_last_q_minus_max_c'] > 0) &\n",
    "       (res_df['protein_first_q_minus_max_c'] < 0) &\n",
    "       (res_df['tissue'] != 'Haematopoietic and Lymphoid')].sort_values(\n",
    "           'product', ascending=True).head(50)"
   ]
  },
  {
   "cell_type": "markdown",
   "metadata": {},
   "source": [
    "# correlation analysis"
   ]
  },
  {
   "cell_type": "code",
   "execution_count": 27,
   "metadata": {
    "ExecuteTime": {
     "end_time": "2020-08-28T04:03:40.974254Z",
     "start_time": "2020-08-28T04:03:35.481376Z"
    }
   },
   "outputs": [],
   "source": [
    "res_tissue = pickle.load(open(\"../../data/correlation/res_tissue_level.pkl\", \"rb\"))"
   ]
  },
  {
   "cell_type": "code",
   "execution_count": 30,
   "metadata": {
    "ExecuteTime": {
     "end_time": "2020-08-28T04:06:08.246680Z",
     "start_time": "2020-08-28T04:06:03.145420Z"
    }
   },
   "outputs": [
    {
     "data": {
      "text/html": [
       "<div>\n",
       "<style scoped>\n",
       "    .dataframe tbody tr th:only-of-type {\n",
       "        vertical-align: middle;\n",
       "    }\n",
       "\n",
       "    .dataframe tbody tr th {\n",
       "        vertical-align: top;\n",
       "    }\n",
       "\n",
       "    .dataframe thead th {\n",
       "        text-align: right;\n",
       "    }\n",
       "</style>\n",
       "<table border=\"1\" class=\"dataframe\">\n",
       "  <thead>\n",
       "    <tr style=\"text-align: right;\">\n",
       "      <th></th>\n",
       "      <th>drug_id</th>\n",
       "      <th>gene</th>\n",
       "      <th>tissue</th>\n",
       "      <th>pearson_correlation</th>\n",
       "      <th>pearson_pval</th>\n",
       "      <th>spearman_correlation</th>\n",
       "      <th>spearman_pval</th>\n",
       "      <th>count</th>\n",
       "    </tr>\n",
       "  </thead>\n",
       "  <tbody>\n",
       "    <tr>\n",
       "      <th>6637</th>\n",
       "      <td>1909;Venetoclax;GDSC2</td>\n",
       "      <td>TSNAX</td>\n",
       "      <td>Lung</td>\n",
       "      <td>-0.302149</td>\n",
       "      <td>0.000022</td>\n",
       "      <td>-0.313771</td>\n",
       "      <td>0.000010</td>\n",
       "      <td>191</td>\n",
       "    </tr>\n",
       "    <tr>\n",
       "      <th>3212</th>\n",
       "      <td>1909;Venetoclax;GDSC2</td>\n",
       "      <td>TSNAX</td>\n",
       "      <td>Haematopoietic and Lymphoid</td>\n",
       "      <td>-0.195409</td>\n",
       "      <td>0.011635</td>\n",
       "      <td>-0.245228</td>\n",
       "      <td>0.001450</td>\n",
       "      <td>166</td>\n",
       "    </tr>\n",
       "    <tr>\n",
       "      <th>44312</th>\n",
       "      <td>1909;Venetoclax;GDSC2</td>\n",
       "      <td>TSNAX</td>\n",
       "      <td>Peripheral Nervous System</td>\n",
       "      <td>-0.420851</td>\n",
       "      <td>0.020565</td>\n",
       "      <td>-0.405562</td>\n",
       "      <td>0.026182</td>\n",
       "      <td>30</td>\n",
       "    </tr>\n",
       "    <tr>\n",
       "      <th>75137</th>\n",
       "      <td>1909;Venetoclax;GDSC2</td>\n",
       "      <td>TSNAX</td>\n",
       "      <td>Testis</td>\n",
       "      <td>0.999025</td>\n",
       "      <td>0.028121</td>\n",
       "      <td>1.000000</td>\n",
       "      <td>0.000000</td>\n",
       "      <td>3</td>\n",
       "    </tr>\n",
       "    <tr>\n",
       "      <th>16912</th>\n",
       "      <td>1909;Venetoclax;GDSC2</td>\n",
       "      <td>TSNAX</td>\n",
       "      <td>Bone</td>\n",
       "      <td>-0.327659</td>\n",
       "      <td>0.034154</td>\n",
       "      <td>-0.327099</td>\n",
       "      <td>0.034479</td>\n",
       "      <td>42</td>\n",
       "    </tr>\n",
       "    <tr>\n",
       "      <th>13487</th>\n",
       "      <td>1909;Venetoclax;GDSC2</td>\n",
       "      <td>TSNAX</td>\n",
       "      <td>Breast</td>\n",
       "      <td>-0.265103</td>\n",
       "      <td>0.060098</td>\n",
       "      <td>-0.154404</td>\n",
       "      <td>0.279327</td>\n",
       "      <td>51</td>\n",
       "    </tr>\n",
       "    <tr>\n",
       "      <th>61437</th>\n",
       "      <td>1909;Venetoclax;GDSC2</td>\n",
       "      <td>TSNAX</td>\n",
       "      <td>Soft Tissue</td>\n",
       "      <td>-0.365909</td>\n",
       "      <td>0.148619</td>\n",
       "      <td>-0.567750</td>\n",
       "      <td>0.017438</td>\n",
       "      <td>17</td>\n",
       "    </tr>\n",
       "    <tr>\n",
       "      <th>34037</th>\n",
       "      <td>1909;Venetoclax;GDSC2</td>\n",
       "      <td>TSNAX</td>\n",
       "      <td>Central Nervous System</td>\n",
       "      <td>0.173980</td>\n",
       "      <td>0.195557</td>\n",
       "      <td>0.211086</td>\n",
       "      <td>0.114986</td>\n",
       "      <td>57</td>\n",
       "    </tr>\n",
       "    <tr>\n",
       "      <th>10062</th>\n",
       "      <td>1909;Venetoclax;GDSC2</td>\n",
       "      <td>TSNAX</td>\n",
       "      <td>Stomach</td>\n",
       "      <td>-0.235414</td>\n",
       "      <td>0.227842</td>\n",
       "      <td>-0.169671</td>\n",
       "      <td>0.388048</td>\n",
       "      <td>28</td>\n",
       "    </tr>\n",
       "    <tr>\n",
       "      <th>64862</th>\n",
       "      <td>1909;Venetoclax;GDSC2</td>\n",
       "      <td>TSNAX</td>\n",
       "      <td>Biliary Tract</td>\n",
       "      <td>-0.581339</td>\n",
       "      <td>0.303928</td>\n",
       "      <td>-0.307794</td>\n",
       "      <td>0.614384</td>\n",
       "      <td>5</td>\n",
       "    </tr>\n",
       "    <tr>\n",
       "      <th>68287</th>\n",
       "      <td>1909;Venetoclax;GDSC2</td>\n",
       "      <td>TSNAX</td>\n",
       "      <td>Bladder</td>\n",
       "      <td>0.207143</td>\n",
       "      <td>0.394823</td>\n",
       "      <td>0.255196</td>\n",
       "      <td>0.291681</td>\n",
       "      <td>19</td>\n",
       "    </tr>\n",
       "    <tr>\n",
       "      <th>20337</th>\n",
       "      <td>1909;Venetoclax;GDSC2</td>\n",
       "      <td>TSNAX</td>\n",
       "      <td>Ovary</td>\n",
       "      <td>0.135388</td>\n",
       "      <td>0.398674</td>\n",
       "      <td>0.144255</td>\n",
       "      <td>0.368208</td>\n",
       "      <td>41</td>\n",
       "    </tr>\n",
       "    <tr>\n",
       "      <th>85412</th>\n",
       "      <td>1909;Venetoclax;GDSC2</td>\n",
       "      <td>TSNAX</td>\n",
       "      <td>Uterus</td>\n",
       "      <td>0.755373</td>\n",
       "      <td>0.454912</td>\n",
       "      <td>0.500000</td>\n",
       "      <td>0.666667</td>\n",
       "      <td>3</td>\n",
       "    </tr>\n",
       "    <tr>\n",
       "      <th>81987</th>\n",
       "      <td>1909;Venetoclax;GDSC2</td>\n",
       "      <td>TSNAX</td>\n",
       "      <td>Vulva</td>\n",
       "      <td>-0.511172</td>\n",
       "      <td>0.488828</td>\n",
       "      <td>-0.258199</td>\n",
       "      <td>0.741801</td>\n",
       "      <td>4</td>\n",
       "    </tr>\n",
       "    <tr>\n",
       "      <th>47737</th>\n",
       "      <td>1909;Venetoclax;GDSC2</td>\n",
       "      <td>TSNAX</td>\n",
       "      <td>Large Intestine</td>\n",
       "      <td>-0.097705</td>\n",
       "      <td>0.513522</td>\n",
       "      <td>-0.161540</td>\n",
       "      <td>0.278016</td>\n",
       "      <td>47</td>\n",
       "    </tr>\n",
       "    <tr>\n",
       "      <th>30612</th>\n",
       "      <td>1909;Venetoclax;GDSC2</td>\n",
       "      <td>TSNAX</td>\n",
       "      <td>Endometrium</td>\n",
       "      <td>0.218963</td>\n",
       "      <td>0.517716</td>\n",
       "      <td>0.192669</td>\n",
       "      <td>0.570320</td>\n",
       "      <td>11</td>\n",
       "    </tr>\n",
       "    <tr>\n",
       "      <th>40887</th>\n",
       "      <td>1909;Venetoclax;GDSC2</td>\n",
       "      <td>TSNAX</td>\n",
       "      <td>Prostate</td>\n",
       "      <td>-0.221458</td>\n",
       "      <td>0.598142</td>\n",
       "      <td>-0.095238</td>\n",
       "      <td>0.822505</td>\n",
       "      <td>8</td>\n",
       "    </tr>\n",
       "    <tr>\n",
       "      <th>71712</th>\n",
       "      <td>1909;Venetoclax;GDSC2</td>\n",
       "      <td>TSNAX</td>\n",
       "      <td>Esophagus</td>\n",
       "      <td>0.088154</td>\n",
       "      <td>0.620063</td>\n",
       "      <td>0.092160</td>\n",
       "      <td>0.604191</td>\n",
       "      <td>34</td>\n",
       "    </tr>\n",
       "    <tr>\n",
       "      <th>27187</th>\n",
       "      <td>1909;Venetoclax;GDSC2</td>\n",
       "      <td>TSNAX</td>\n",
       "      <td>Head and Neck</td>\n",
       "      <td>-0.075148</td>\n",
       "      <td>0.640527</td>\n",
       "      <td>-0.061679</td>\n",
       "      <td>0.701653</td>\n",
       "      <td>41</td>\n",
       "    </tr>\n",
       "    <tr>\n",
       "      <th>78562</th>\n",
       "      <td>1909;Venetoclax;GDSC2</td>\n",
       "      <td>TSNAX</td>\n",
       "      <td>Thyroid</td>\n",
       "      <td>-0.084337</td>\n",
       "      <td>0.756154</td>\n",
       "      <td>-0.031112</td>\n",
       "      <td>0.908937</td>\n",
       "      <td>16</td>\n",
       "    </tr>\n",
       "    <tr>\n",
       "      <th>54587</th>\n",
       "      <td>1909;Venetoclax;GDSC2</td>\n",
       "      <td>TSNAX</td>\n",
       "      <td>Kidney</td>\n",
       "      <td>0.031974</td>\n",
       "      <td>0.859790</td>\n",
       "      <td>0.095922</td>\n",
       "      <td>0.595410</td>\n",
       "      <td>33</td>\n",
       "    </tr>\n",
       "    <tr>\n",
       "      <th>37462</th>\n",
       "      <td>1909;Venetoclax;GDSC2</td>\n",
       "      <td>TSNAX</td>\n",
       "      <td>Pancreas</td>\n",
       "      <td>0.028433</td>\n",
       "      <td>0.879318</td>\n",
       "      <td>-0.032998</td>\n",
       "      <td>0.860118</td>\n",
       "      <td>31</td>\n",
       "    </tr>\n",
       "    <tr>\n",
       "      <th>58012</th>\n",
       "      <td>1909;Venetoclax;GDSC2</td>\n",
       "      <td>TSNAX</td>\n",
       "      <td>Liver</td>\n",
       "      <td>0.026926</td>\n",
       "      <td>0.921151</td>\n",
       "      <td>-0.085294</td>\n",
       "      <td>0.753465</td>\n",
       "      <td>16</td>\n",
       "    </tr>\n",
       "    <tr>\n",
       "      <th>23762</th>\n",
       "      <td>1909;Venetoclax;GDSC2</td>\n",
       "      <td>TSNAX</td>\n",
       "      <td>Skin</td>\n",
       "      <td>-0.004225</td>\n",
       "      <td>0.976045</td>\n",
       "      <td>0.023466</td>\n",
       "      <td>0.867541</td>\n",
       "      <td>53</td>\n",
       "    </tr>\n",
       "    <tr>\n",
       "      <th>51162</th>\n",
       "      <td>1909;Venetoclax;GDSC2</td>\n",
       "      <td>TSNAX</td>\n",
       "      <td>Cervix</td>\n",
       "      <td>-0.005555</td>\n",
       "      <td>0.984964</td>\n",
       "      <td>0.055006</td>\n",
       "      <td>0.851846</td>\n",
       "      <td>14</td>\n",
       "    </tr>\n",
       "  </tbody>\n",
       "</table>\n",
       "</div>"
      ],
      "text/plain": [
       "                     drug_id   gene                       tissue  \\\n",
       "6637   1909;Venetoclax;GDSC2  TSNAX                         Lung   \n",
       "3212   1909;Venetoclax;GDSC2  TSNAX  Haematopoietic and Lymphoid   \n",
       "44312  1909;Venetoclax;GDSC2  TSNAX    Peripheral Nervous System   \n",
       "75137  1909;Venetoclax;GDSC2  TSNAX                       Testis   \n",
       "16912  1909;Venetoclax;GDSC2  TSNAX                         Bone   \n",
       "13487  1909;Venetoclax;GDSC2  TSNAX                       Breast   \n",
       "61437  1909;Venetoclax;GDSC2  TSNAX                  Soft Tissue   \n",
       "34037  1909;Venetoclax;GDSC2  TSNAX       Central Nervous System   \n",
       "10062  1909;Venetoclax;GDSC2  TSNAX                      Stomach   \n",
       "64862  1909;Venetoclax;GDSC2  TSNAX                Biliary Tract   \n",
       "68287  1909;Venetoclax;GDSC2  TSNAX                      Bladder   \n",
       "20337  1909;Venetoclax;GDSC2  TSNAX                        Ovary   \n",
       "85412  1909;Venetoclax;GDSC2  TSNAX                       Uterus   \n",
       "81987  1909;Venetoclax;GDSC2  TSNAX                        Vulva   \n",
       "47737  1909;Venetoclax;GDSC2  TSNAX              Large Intestine   \n",
       "30612  1909;Venetoclax;GDSC2  TSNAX                  Endometrium   \n",
       "40887  1909;Venetoclax;GDSC2  TSNAX                     Prostate   \n",
       "71712  1909;Venetoclax;GDSC2  TSNAX                    Esophagus   \n",
       "27187  1909;Venetoclax;GDSC2  TSNAX                Head and Neck   \n",
       "78562  1909;Venetoclax;GDSC2  TSNAX                      Thyroid   \n",
       "54587  1909;Venetoclax;GDSC2  TSNAX                       Kidney   \n",
       "37462  1909;Venetoclax;GDSC2  TSNAX                     Pancreas   \n",
       "58012  1909;Venetoclax;GDSC2  TSNAX                        Liver   \n",
       "23762  1909;Venetoclax;GDSC2  TSNAX                         Skin   \n",
       "51162  1909;Venetoclax;GDSC2  TSNAX                       Cervix   \n",
       "\n",
       "       pearson_correlation  pearson_pval  spearman_correlation  spearman_pval  \\\n",
       "6637             -0.302149      0.000022             -0.313771       0.000010   \n",
       "3212             -0.195409      0.011635             -0.245228       0.001450   \n",
       "44312            -0.420851      0.020565             -0.405562       0.026182   \n",
       "75137             0.999025      0.028121              1.000000       0.000000   \n",
       "16912            -0.327659      0.034154             -0.327099       0.034479   \n",
       "13487            -0.265103      0.060098             -0.154404       0.279327   \n",
       "61437            -0.365909      0.148619             -0.567750       0.017438   \n",
       "34037             0.173980      0.195557              0.211086       0.114986   \n",
       "10062            -0.235414      0.227842             -0.169671       0.388048   \n",
       "64862            -0.581339      0.303928             -0.307794       0.614384   \n",
       "68287             0.207143      0.394823              0.255196       0.291681   \n",
       "20337             0.135388      0.398674              0.144255       0.368208   \n",
       "85412             0.755373      0.454912              0.500000       0.666667   \n",
       "81987            -0.511172      0.488828             -0.258199       0.741801   \n",
       "47737            -0.097705      0.513522             -0.161540       0.278016   \n",
       "30612             0.218963      0.517716              0.192669       0.570320   \n",
       "40887            -0.221458      0.598142             -0.095238       0.822505   \n",
       "71712             0.088154      0.620063              0.092160       0.604191   \n",
       "27187            -0.075148      0.640527             -0.061679       0.701653   \n",
       "78562            -0.084337      0.756154             -0.031112       0.908937   \n",
       "54587             0.031974      0.859790              0.095922       0.595410   \n",
       "37462             0.028433      0.879318             -0.032998       0.860118   \n",
       "58012             0.026926      0.921151             -0.085294       0.753465   \n",
       "23762            -0.004225      0.976045              0.023466       0.867541   \n",
       "51162            -0.005555      0.984964              0.055006       0.851846   \n",
       "\n",
       "       count  \n",
       "6637     191  \n",
       "3212     166  \n",
       "44312     30  \n",
       "75137      3  \n",
       "16912     42  \n",
       "13487     51  \n",
       "61437     17  \n",
       "34037     57  \n",
       "10062     28  \n",
       "64862      5  \n",
       "68287     19  \n",
       "20337     41  \n",
       "85412      3  \n",
       "81987      4  \n",
       "47737     47  \n",
       "30612     11  \n",
       "40887      8  \n",
       "71712     34  \n",
       "27187     41  \n",
       "78562     16  \n",
       "54587     33  \n",
       "37462     31  \n",
       "58012     16  \n",
       "23762     53  \n",
       "51162     14  "
      ]
     },
     "execution_count": 30,
     "metadata": {},
     "output_type": "execute_result"
    }
   ],
   "source": [
    "res_tissue[(res_tissue['drug_id']=='1909;Venetoclax;GDSC2') & (res_tissue['gene']=='TSNAX')]"
   ]
  }
 ],
 "metadata": {
  "kernelspec": {
   "display_name": "Python 3",
   "language": "python",
   "name": "python3"
  },
  "language_info": {
   "codemirror_mode": {
    "name": "ipython",
    "version": 3
   },
   "file_extension": ".py",
   "mimetype": "text/x-python",
   "name": "python",
   "nbconvert_exporter": "python",
   "pygments_lexer": "ipython3",
   "version": "3.8.5"
  },
  "toc": {
   "base_numbering": 1,
   "nav_menu": {},
   "number_sections": true,
   "sideBar": true,
   "skip_h1_title": false,
   "title_cell": "Table of Contents",
   "title_sidebar": "Contents",
   "toc_cell": false,
   "toc_position": {},
   "toc_section_display": true,
   "toc_window_display": true
  }
 },
 "nbformat": 4,
 "nbformat_minor": 4
}
