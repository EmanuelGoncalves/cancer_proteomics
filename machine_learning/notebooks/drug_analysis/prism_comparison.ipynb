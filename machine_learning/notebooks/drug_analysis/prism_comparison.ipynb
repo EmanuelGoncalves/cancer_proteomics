{
 "cells": [
  {
   "cell_type": "code",
   "execution_count": 27,
   "metadata": {
    "ExecuteTime": {
     "end_time": "2020-09-08T12:34:16.982856Z",
     "start_time": "2020-09-08T12:34:16.980492Z"
    }
   },
   "outputs": [],
   "source": [
    "import pandas as pd\n",
    "import numpy as np\n",
    "import seaborn as sns\n",
    "from scipy.stats import pearsonr"
   ]
  },
  {
   "cell_type": "code",
   "execution_count": 20,
   "metadata": {
    "ExecuteTime": {
     "end_time": "2020-09-08T12:32:06.556079Z",
     "start_time": "2020-09-08T12:32:01.373953Z"
    }
   },
   "outputs": [],
   "source": [
    "sanger = pd.read_csv(\"../../data/drug/drug_final_processed_eg_id.csv.gz\",low_memory=False)"
   ]
  },
  {
   "cell_type": "code",
   "execution_count": 22,
   "metadata": {
    "ExecuteTime": {
     "end_time": "2020-09-08T12:32:17.305925Z",
     "start_time": "2020-09-08T12:32:17.291399Z"
    }
   },
   "outputs": [],
   "source": [
    "sanger = sanger[['cell_line_name','drug_id','drug_name','ln_IC50']]"
   ]
  },
  {
   "cell_type": "code",
   "execution_count": 23,
   "metadata": {
    "ExecuteTime": {
     "end_time": "2020-09-08T12:32:17.754038Z",
     "start_time": "2020-09-08T12:32:17.598063Z"
    }
   },
   "outputs": [
    {
     "name": "stderr",
     "output_type": "stream",
     "text": [
      "<ipython-input-23-3bb793823d6b>:1: SettingWithCopyWarning: \n",
      "A value is trying to be set on a copy of a slice from a DataFrame.\n",
      "Try using .loc[row_indexer,col_indexer] = value instead\n",
      "\n",
      "See the caveats in the documentation: https://pandas.pydata.org/pandas-docs/stable/user_guide/indexing.html#returning-a-view-versus-a-copy\n",
      "  sanger['drug_name'] = sanger['drug_name'].str.lower()\n"
     ]
    }
   ],
   "source": [
    "sanger['drug_name'] = sanger['drug_name'].str.lower()"
   ]
  },
  {
   "cell_type": "code",
   "execution_count": 10,
   "metadata": {
    "ExecuteTime": {
     "end_time": "2020-09-08T12:29:41.725364Z",
     "start_time": "2020-09-08T12:29:41.587417Z"
    }
   },
   "outputs": [],
   "source": [
    "prism = pd.read_csv(\"../../data/ccle/drug_all_ccle_secondary_processed_auc.csv\")"
   ]
  },
  {
   "cell_type": "code",
   "execution_count": 41,
   "metadata": {
    "ExecuteTime": {
     "end_time": "2020-09-09T01:19:11.188365Z",
     "start_time": "2020-09-09T01:19:11.133476Z"
    }
   },
   "outputs": [],
   "source": [
    "prism_ic50 = pd.read_csv(\"../../data/ccle/drug_all_ccle_secondary_processed_ic50.csv\")"
   ]
  },
  {
   "cell_type": "markdown",
   "metadata": {},
   "source": [
    "## with AUC"
   ]
  },
  {
   "cell_type": "code",
   "execution_count": 49,
   "metadata": {
    "ExecuteTime": {
     "end_time": "2020-09-09T01:21:11.346948Z",
     "start_time": "2020-09-09T01:21:11.131179Z"
    }
   },
   "outputs": [],
   "source": [
    "combined = pd.merge(sanger,prism, on=['cell_line_name','drug_name'])"
   ]
  },
  {
   "cell_type": "code",
   "execution_count": 50,
   "metadata": {
    "ExecuteTime": {
     "end_time": "2020-09-09T01:21:11.833398Z",
     "start_time": "2020-09-09T01:21:11.474668Z"
    }
   },
   "outputs": [],
   "source": [
    "corrs = []\n",
    "for drug_id in combined['drug_id_x'].unique():\n",
    "    tmp = combined[combined['drug_id_x']==drug_id]\n",
    "    r,pval=pearsonr(tmp['ln_IC50'], tmp['auc'])\n",
    "    corrs.append(r)"
   ]
  },
  {
   "cell_type": "code",
   "execution_count": 51,
   "metadata": {
    "ExecuteTime": {
     "end_time": "2020-09-09T01:21:24.300930Z",
     "start_time": "2020-09-09T01:21:24.298416Z"
    }
   },
   "outputs": [
    {
     "name": "stdout",
     "output_type": "stream",
     "text": [
      "186\n"
     ]
    }
   ],
   "source": [
    "print(len(corrs))"
   ]
  },
  {
   "cell_type": "code",
   "execution_count": 32,
   "metadata": {
    "ExecuteTime": {
     "end_time": "2020-09-08T12:35:54.749039Z",
     "start_time": "2020-09-08T12:35:54.745651Z"
    }
   },
   "outputs": [
    {
     "data": {
      "text/plain": [
       "0.23817136509326342"
      ]
     },
     "execution_count": 32,
     "metadata": {},
     "output_type": "execute_result"
    }
   ],
   "source": [
    "np.median(corrs)"
   ]
  },
  {
   "cell_type": "code",
   "execution_count": 30,
   "metadata": {
    "ExecuteTime": {
     "end_time": "2020-09-08T12:35:19.540017Z",
     "start_time": "2020-09-08T12:35:19.404785Z"
    }
   },
   "outputs": [
    {
     "data": {
      "text/plain": [
       "<matplotlib.axes._subplots.AxesSubplot at 0x7fac2dabc670>"
      ]
     },
     "execution_count": 30,
     "metadata": {},
     "output_type": "execute_result"
    },
    {
     "data": {
      "image/png": "[encoded data removed]",
      "text/plain": [
       "<Figure size 432x288 with 1 Axes>"
      ]
     },
     "metadata": {
      "needs_background": "light"
     },
     "output_type": "display_data"
    }
   ],
   "source": [
    "sns.distplot(corrs)"
   ]
  },
  {
   "cell_type": "markdown",
   "metadata": {},
   "source": [
    "## with IC50"
   ]
  },
  {
   "cell_type": "code",
   "execution_count": 42,
   "metadata": {
    "ExecuteTime": {
     "end_time": "2020-09-09T01:19:14.949169Z",
     "start_time": "2020-09-09T01:19:14.692855Z"
    }
   },
   "outputs": [],
   "source": [
    "combined = pd.merge(sanger,prism_ic50, on=['cell_line_name','drug_name'])"
   ]
  },
  {
   "cell_type": "code",
   "execution_count": 45,
   "metadata": {
    "ExecuteTime": {
     "end_time": "2020-09-09T01:19:34.996682Z",
     "start_time": "2020-09-09T01:19:34.923361Z"
    }
   },
   "outputs": [],
   "source": [
    "corrs = []\n",
    "for drug_id in combined['drug_id_x'].unique():\n",
    "    tmp = combined[combined['drug_id_x']==drug_id]\n",
    "    r,pval=pearsonr(tmp['ln_IC50'], tmp['ic50'])\n",
    "    corrs.append(r)"
   ]
  },
  {
   "cell_type": "code",
   "execution_count": 46,
   "metadata": {
    "ExecuteTime": {
     "end_time": "2020-09-09T01:19:36.399838Z",
     "start_time": "2020-09-09T01:19:36.395054Z"
    }
   },
   "outputs": [
    {
     "data": {
      "text/plain": [
       "0.15474469779957836"
      ]
     },
     "execution_count": 46,
     "metadata": {},
     "output_type": "execute_result"
    }
   ],
   "source": [
    "np.median(corrs)"
   ]
  },
  {
   "cell_type": "code",
   "execution_count": 47,
   "metadata": {
    "ExecuteTime": {
     "end_time": "2020-09-09T01:19:44.790467Z",
     "start_time": "2020-09-09T01:19:44.787789Z"
    }
   },
   "outputs": [
    {
     "name": "stdout",
     "output_type": "stream",
     "text": [
      "65\n"
     ]
    }
   ],
   "source": [
    "print(len(corrs))"
   ]
  },
  {
   "cell_type": "code",
   "execution_count": 48,
   "metadata": {
    "ExecuteTime": {
     "end_time": "2020-09-09T01:19:51.213186Z",
     "start_time": "2020-09-09T01:19:51.082124Z"
    }
   },
   "outputs": [
    {
     "data": {
      "text/plain": [
       "<matplotlib.axes._subplots.AxesSubplot at 0x7fac2ce0a460>"
      ]
     },
     "execution_count": 48,
     "metadata": {},
     "output_type": "execute_result"
    },
    {
     "data": {
      "image/png": "[encoded data removed]",
      "text/plain": [
       "<Figure size 432x288 with 1 Axes>"
      ]
     },
     "metadata": {
      "needs_background": "light"
     },
     "output_type": "display_data"
    }
   ],
   "source": [
    "sns.distplot(corrs)"
   ]
  },
  {
   "cell_type": "code",
   "execution_count": null,
   "metadata": {},
   "outputs": [],
   "source": []
  }
 ],
 "metadata": {
  "kernelspec": {
   "display_name": "Python 3",
   "language": "python",
   "name": "python3"
  },
  "language_info": {
   "codemirror_mode": {
    "name": "ipython",
    "version": 3
   },
   "file_extension": ".py",
   "mimetype": "text/x-python",
   "name": "python",
   "nbconvert_exporter": "python",
   "pygments_lexer": "ipython3",
   "version": "3.8.5"
  },
  "toc": {
   "base_numbering": 1,
   "nav_menu": {},
   "number_sections": true,
   "sideBar": true,
   "skip_h1_title": false,
   "title_cell": "Table of Contents",
   "title_sidebar": "Contents",
   "toc_cell": false,
   "toc_position": {},
   "toc_section_display": true,
   "toc_window_display": false
  }
 },
 "nbformat": 4,
 "nbformat_minor": 4
}
