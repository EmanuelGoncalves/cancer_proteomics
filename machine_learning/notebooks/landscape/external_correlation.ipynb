{
 "cells": [
  {
   "cell_type": "code",
   "execution_count": 2,
   "metadata": {
    "ExecuteTime": {
     "end_time": "2020-08-13T03:25:39.589172Z",
     "start_time": "2020-08-13T03:25:36.043154Z"
    }
   },
   "outputs": [],
   "source": [
    "import pandas as pd\n",
    "import numpy as np\n",
    "import seaborn as sns\n",
    "import matplotlib.pyplot as plt\n",
    "from scipy.stats import ttest_ind\n",
    "from sklearn.metrics import r2_score\n",
    "from scipy.stats import pearsonr, spearmanr\n",
    "import plotly.express as px\n",
    "import plotly.graph_objects as go\n",
    "import matplotlib.patches as mpatches\n",
    "from scipy.stats import ttest_ind, ttest_1samp, ttest_rel\n",
    "import matplotlib as mpl\n",
    "import umap\n",
    "from sklearn.decomposition import PCA\n",
    "from sklearn.manifold import TSNE\n",
    "from joblib import Parallel, delayed\n",
    "from tqdm.notebook import tqdm\n",
    "import pickle\n",
    "import matplotlib.ticker as mtick\n",
    "import math\n",
    "from itertools import combinations\n",
    "import random\n",
    "from sklearn.linear_model import LinearRegression"
   ]
  },
  {
   "cell_type": "code",
   "execution_count": 3,
   "metadata": {
    "ExecuteTime": {
     "end_time": "2020-08-13T03:25:39.594744Z",
     "start_time": "2020-08-13T03:25:39.590865Z"
    }
   },
   "outputs": [],
   "source": [
    "plt.rcParams['font.family'] = 'Helvetica'\n",
    "plt.rcParams[\"axes.labelweight\"] = \"bold\"\n",
    "plt.rcParams['font.size'] = 18\n",
    "plt.rcParams['axes.linewidth'] = 2\n",
    "plt.rcParams['figure.figsize'] = (10.0, 7.0)\n",
    "plt.rcParams['pdf.fonttype'] = 42\n",
    "plt.rcParams['ps.fonttype'] = 42\n",
    "sns.set_palette(\"Dark2\")"
   ]
  },
  {
   "cell_type": "code",
   "execution_count": 4,
   "metadata": {
    "ExecuteTime": {
     "end_time": "2020-08-13T03:25:39.600493Z",
     "start_time": "2020-08-13T03:25:39.597955Z"
    }
   },
   "outputs": [],
   "source": [
    "seed = 42"
   ]
  },
  {
   "cell_type": "code",
   "execution_count": 5,
   "metadata": {
    "ExecuteTime": {
     "end_time": "2020-08-13T03:25:39.607053Z",
     "start_time": "2020-08-13T03:25:39.603391Z"
    }
   },
   "outputs": [],
   "source": [
    "def calc_cellline_correlation_aux(df1, df2, cell_line, data='protein'):\n",
    "    if cell_line not in df2.columns:\n",
    "        return None\n",
    "    df1_cellline = df1[[cell_line]].reset_index()\n",
    "    if data.lower() == 'rna':\n",
    "        df1_cellline['index'] = df1_cellline['index'].map(name_map_dict)\n",
    "    df2_cellline = df2[[cell_line]].reset_index()\n",
    "    tmp = pd.merge(df1_cellline, df2_cellline, on=['index'], suffixes=[\"_df1\", \"_df2\"]).dropna()\n",
    "    corr = pearsonr(tmp[f\"{cell_line}_df1\"], tmp[f\"{cell_line}_df2\"])[0]\n",
    "    return corr"
   ]
  },
  {
   "cell_type": "code",
   "execution_count": 6,
   "metadata": {
    "ExecuteTime": {
     "end_time": "2020-08-13T03:25:39.611778Z",
     "start_time": "2020-08-13T03:25:39.608970Z"
    }
   },
   "outputs": [],
   "source": [
    "def calc_cellline_correlation(df1, df2, data='protein'):\n",
    "    res = Parallel(n_jobs=14)(\n",
    "        delayed(calc_cellline_correlation_aux)(df1, df2, cell_line, data)\n",
    "        for cell_line in tqdm(df1.columns))\n",
    "    res = [x for x in res if x is not None]\n",
    "    return np.array(res)"
   ]
  },
  {
   "cell_type": "code",
   "execution_count": 30,
   "metadata": {
    "ExecuteTime": {
     "end_time": "2020-08-13T03:27:26.438486Z",
     "start_time": "2020-08-13T03:27:26.434123Z"
    }
   },
   "outputs": [],
   "source": [
    "def calc_protein_correlation_aux(df1, df2, protein, data='protein'):\n",
    "    if data.lower() == 'rna':\n",
    "        if protein not in name_map_dict:\n",
    "            return None\n",
    "        gene = name_map_dict[protein]\n",
    "        if gene not in df2.columns:\n",
    "            return None\n",
    "        df1_protein = df1[[protein]].reset_index()\n",
    "        df2_protein = df2[[gene]].reset_index()\n",
    "        df2_protein.columns = [\"Cell_line\", protein]\n",
    "    else:\n",
    "        if protein not in df2.columns:\n",
    "            return None\n",
    "        df1_protein = df1[[protein]].reset_index()\n",
    "        df2_protein = df2[[protein]].reset_index()\n",
    "\n",
    "    tmp = pd.merge(df1_protein, df2_protein, on=['Cell_line'], suffixes=[\"_df1\", \"_df2\"]).dropna()\n",
    "    if tmp.shape[0] < 3:\n",
    "        return None\n",
    "    corr = pearsonr(tmp[f\"{protein}_df1\"], tmp[f\"{protein}_df2\"])[0]\n",
    "    return corr"
   ]
  },
  {
   "cell_type": "code",
   "execution_count": 31,
   "metadata": {
    "ExecuteTime": {
     "end_time": "2020-08-13T03:27:26.750101Z",
     "start_time": "2020-08-13T03:27:26.747380Z"
    }
   },
   "outputs": [],
   "source": [
    "def calc_protein_correlation(df1, df2, data='protein'):\n",
    "    res = Parallel(n_jobs=14)(\n",
    "        delayed(calc_protein_correlation_aux)(df1, df2, protein, data)\n",
    "        for protein in tqdm(df1.columns))\n",
    "    res = [x for x in res if x is not None]\n",
    "    return np.array(res)"
   ]
  },
  {
   "cell_type": "markdown",
   "metadata": {
    "heading_collapsed": true
   },
   "source": [
    "# load data"
   ]
  },
  {
   "cell_type": "code",
   "execution_count": 9,
   "metadata": {
    "ExecuteTime": {
     "end_time": "2020-08-13T03:25:42.987110Z",
     "start_time": "2020-08-13T03:25:42.980979Z"
    },
    "hidden": true
   },
   "outputs": [],
   "source": [
    "colour_list = pd.read_csv('../../data/colour_list.txt',header=None)[0].tolist()"
   ]
  },
  {
   "cell_type": "code",
   "execution_count": 10,
   "metadata": {
    "ExecuteTime": {
     "end_time": "2020-08-13T03:25:43.970325Z",
     "start_time": "2020-08-13T03:25:43.148984Z"
    },
    "hidden": true
   },
   "outputs": [],
   "source": [
    "protein_ruv = pd.read_csv(\n",
    "    \"../../data/protein/E0022_P06_Protein_Matrix_ProNorM_no_control_update.txt\",\n",
    "    sep='\\t').set_index('Cell_line')\n",
    "\n",
    "meta = pd.read_csv('../../data/E0022_P06_final_sample_map_no_control.txt',\n",
    "                   sep='\\t').set_index('Cell_line')"
   ]
  },
  {
   "cell_type": "code",
   "execution_count": 11,
   "metadata": {
    "ExecuteTime": {
     "end_time": "2020-08-13T03:25:43.977225Z",
     "start_time": "2020-08-13T03:25:43.972004Z"
    },
    "hidden": true
   },
   "outputs": [],
   "source": [
    "cell_lines_no_blood = meta[meta['Tissue_type']!='Haematopoietic and Lymphoid'].index.values"
   ]
  },
  {
   "cell_type": "code",
   "execution_count": 12,
   "metadata": {
    "ExecuteTime": {
     "end_time": "2020-08-13T03:25:43.990379Z",
     "start_time": "2020-08-13T03:25:43.980822Z"
    },
    "hidden": true
   },
   "outputs": [],
   "source": [
    "tissue_type_map = meta[['Tissue_type']].to_dict()['Tissue_type']\n",
    "cancer_type_map = meta[['Cancer_type']].to_dict()['Cancer_type']\n",
    "batch_map = meta[['Batch']].to_dict()['Batch']\n",
    "instrument_map = meta[['Instrument']].to_dict()['Instrument']\n"
   ]
  },
  {
   "cell_type": "code",
   "execution_count": 13,
   "metadata": {
    "ExecuteTime": {
     "end_time": "2020-08-13T03:25:43.997063Z",
     "start_time": "2020-08-13T03:25:43.992073Z"
    },
    "hidden": true
   },
   "outputs": [],
   "source": [
    "cancer_colours = dict(\n",
    "    zip(meta['Cancer_type'].unique(),\n",
    "        colour_list[:meta['Cancer_type'].unique().size]))\n",
    "\n",
    "tissue_colours = dict(\n",
    "    zip(meta['Tissue_type'].unique(),\n",
    "        colour_list[:meta['Tissue_type'].unique().size]))\n",
    "\n",
    "instrument_colours={\n",
    "    'M01':'#66c2a5', \n",
    "    'M02':'#fc8d62', \n",
    "    'M03':'#8da0cb', \n",
    "    'M04':'#e78ac3', \n",
    "    'M05':'#a6d854', \n",
    "    'M06':'#ffd92f'\n",
    "}\n",
    "\n",
    "batch_colours={\n",
    "    'P01':'#7fc97f', \n",
    "    'P02':'#beaed4', \n",
    "    'P03':'#fdc086', \n",
    "    'P04':'#386cb0', \n",
    "    'P05':'#f0027f', \n",
    "    'P06':'#bf5b17'\n",
    "}"
   ]
  },
  {
   "cell_type": "code",
   "execution_count": 14,
   "metadata": {
    "ExecuteTime": {
     "end_time": "2020-08-13T03:25:44.002780Z",
     "start_time": "2020-08-13T03:25:43.998609Z"
    },
    "hidden": true
   },
   "outputs": [],
   "source": [
    "meta = meta.reset_index()"
   ]
  },
  {
   "cell_type": "code",
   "execution_count": 15,
   "metadata": {
    "ExecuteTime": {
     "end_time": "2020-08-13T03:25:44.199964Z",
     "start_time": "2020-08-13T03:25:44.194105Z"
    },
    "hidden": true
   },
   "outputs": [],
   "source": [
    "meta_cell_lines = meta.drop_duplicates('Cell_line')"
   ]
  },
  {
   "cell_type": "code",
   "execution_count": 16,
   "metadata": {
    "ExecuteTime": {
     "end_time": "2020-08-13T03:25:44.421680Z",
     "start_time": "2020-08-13T03:25:44.411269Z"
    },
    "hidden": true
   },
   "outputs": [],
   "source": [
    "drug = pd.read_csv(\"../../data/drug/drug_info.csv\")"
   ]
  },
  {
   "cell_type": "code",
   "execution_count": 17,
   "metadata": {
    "ExecuteTime": {
     "end_time": "2020-08-13T03:25:44.739718Z",
     "start_time": "2020-08-13T03:25:44.737149Z"
    },
    "hidden": true
   },
   "outputs": [],
   "source": [
    "drug_colours = dict(\n",
    "    zip(drug['target_pathway'].unique(),\n",
    "        colour_list[:drug['target_pathway'].unique().size]))"
   ]
  },
  {
   "cell_type": "markdown",
   "metadata": {},
   "source": [
    "# Kuster trypsin vs GluC"
   ]
  },
  {
   "cell_type": "markdown",
   "metadata": {},
   "source": [
    "## cell line correlation"
   ]
  },
  {
   "cell_type": "code",
   "execution_count": 70,
   "metadata": {
    "ExecuteTime": {
     "end_time": "2020-08-13T04:04:42.993914Z",
     "start_time": "2020-08-13T04:04:42.611376Z"
    }
   },
   "outputs": [],
   "source": [
    "nci_trypsin = pd.read_csv(\"../../data/Kuster/protein_nci_trypsin_processed.csv\").set_index('Cell_line').T"
   ]
  },
  {
   "cell_type": "code",
   "execution_count": 71,
   "metadata": {
    "ExecuteTime": {
     "end_time": "2020-08-13T04:04:43.260795Z",
     "start_time": "2020-08-13T04:04:42.996546Z"
    }
   },
   "outputs": [],
   "source": [
    "nci_gluc = pd.read_csv(\"../../data/Kuster/protein_nci_gluc_processed.csv\").set_index('Cell_line').T"
   ]
  },
  {
   "cell_type": "code",
   "execution_count": 75,
   "metadata": {
    "ExecuteTime": {
     "end_time": "2020-08-13T04:13:15.762236Z",
     "start_time": "2020-08-13T04:13:15.458428Z"
    }
   },
   "outputs": [
    {
     "data": {
      "application/vnd.jupyter.widget-view+json": {
       "model_id": "d85d6199646248a4a653d5ee73cc0211",
       "version_major": 2,
       "version_minor": 0
      },
      "text/plain": [
       "HBox(children=(FloatProgress(value=0.0, max=60.0), HTML(value='')))"
      ]
     },
     "metadata": {},
     "output_type": "display_data"
    },
    {
     "name": "stdout",
     "output_type": "stream",
     "text": [
      "\n"
     ]
    },
    {
     "data": {
      "text/plain": [
       "1.0"
      ]
     },
     "execution_count": 75,
     "metadata": {},
     "output_type": "execute_result"
    }
   ],
   "source": [
    "res = calc_cellline_correlation(nci_trypsin, nci_trypsin, data='protein')\n",
    "\n",
    "np.median(res)"
   ]
  },
  {
   "cell_type": "code",
   "execution_count": 74,
   "metadata": {
    "ExecuteTime": {
     "end_time": "2020-08-13T04:13:10.864235Z",
     "start_time": "2020-08-13T04:13:07.530267Z"
    }
   },
   "outputs": [
    {
     "data": {
      "application/vnd.jupyter.widget-view+json": {
       "model_id": "986d6f5b81fb47138d5343dc349d903d",
       "version_major": 2,
       "version_minor": 0
      },
      "text/plain": [
       "HBox(children=(FloatProgress(value=0.0, max=60.0), HTML(value='')))"
      ]
     },
     "metadata": {},
     "output_type": "display_data"
    },
    {
     "name": "stdout",
     "output_type": "stream",
     "text": [
      "\n"
     ]
    },
    {
     "data": {
      "text/plain": [
       "0.826517451755397"
      ]
     },
     "execution_count": 74,
     "metadata": {},
     "output_type": "execute_result"
    }
   ],
   "source": [
    "res = calc_cellline_correlation(nci_trypsin, nci_gluc, data='protein')\n",
    "\n",
    "np.median(res)"
   ]
  },
  {
   "cell_type": "code",
   "execution_count": null,
   "metadata": {},
   "outputs": [],
   "source": []
  },
  {
   "cell_type": "markdown",
   "metadata": {},
   "source": [
    "## protein correlation"
   ]
  },
  {
   "cell_type": "code",
   "execution_count": 77,
   "metadata": {
    "ExecuteTime": {
     "end_time": "2020-08-13T04:13:43.581624Z",
     "start_time": "2020-08-13T04:13:43.250297Z"
    }
   },
   "outputs": [],
   "source": [
    "nci_trypsin = pd.read_csv(\"../../data/Kuster/protein_nci_trypsin_processed.csv\").set_index('Cell_line')"
   ]
  },
  {
   "cell_type": "code",
   "execution_count": 78,
   "metadata": {
    "ExecuteTime": {
     "end_time": "2020-08-13T04:13:43.867167Z",
     "start_time": "2020-08-13T04:13:43.635441Z"
    }
   },
   "outputs": [],
   "source": [
    "nci_gluc = pd.read_csv(\"../../data/Kuster/protein_nci_gluc_processed.csv\").set_index('Cell_line')"
   ]
  },
  {
   "cell_type": "code",
   "execution_count": 79,
   "metadata": {
    "ExecuteTime": {
     "end_time": "2020-08-13T04:13:45.913182Z",
     "start_time": "2020-08-13T04:13:45.908662Z"
    }
   },
   "outputs": [],
   "source": [
    "overlap = list(set(nci_trypsin.columns).intersection(nci_gluc.columns))"
   ]
  },
  {
   "cell_type": "code",
   "execution_count": 80,
   "metadata": {
    "ExecuteTime": {
     "end_time": "2020-08-13T04:13:54.050836Z",
     "start_time": "2020-08-13T04:13:46.793067Z"
    }
   },
   "outputs": [
    {
     "data": {
      "application/vnd.jupyter.widget-view+json": {
       "model_id": "c0b8b92adac1443dbb92d49eb1475d8a",
       "version_major": 2,
       "version_minor": 0
      },
      "text/plain": [
       "HBox(children=(FloatProgress(value=0.0, max=7548.0), HTML(value='')))"
      ]
     },
     "metadata": {},
     "output_type": "display_data"
    },
    {
     "name": "stdout",
     "output_type": "stream",
     "text": [
      "\n"
     ]
    },
    {
     "data": {
      "text/plain": [
       "1.0"
      ]
     },
     "execution_count": 80,
     "metadata": {},
     "output_type": "execute_result"
    }
   ],
   "source": [
    "res = calc_protein_correlation(nci_trypsin, nci_trypsin, data='protein')\n",
    "np.median(res)"
   ]
  },
  {
   "cell_type": "code",
   "execution_count": 57,
   "metadata": {
    "ExecuteTime": {
     "end_time": "2020-08-13T03:51:50.613962Z",
     "start_time": "2020-08-13T03:51:50.610596Z"
    }
   },
   "outputs": [
    {
     "data": {
      "text/plain": [
       "0.600296964824828"
      ]
     },
     "execution_count": 57,
     "metadata": {},
     "output_type": "execute_result"
    }
   ],
   "source": [
    "res = calc_protein_correlation(nci_trypsin, nci_gluc, data='protein')\n",
    "np.median(res)"
   ]
  },
  {
   "cell_type": "code",
   "execution_count": null,
   "metadata": {},
   "outputs": [],
   "source": []
  },
  {
   "cell_type": "markdown",
   "metadata": {
    "heading_collapsed": true
   },
   "source": [
    "# Kuster vs Sanger"
   ]
  },
  {
   "cell_type": "code",
   "execution_count": 58,
   "metadata": {
    "ExecuteTime": {
     "end_time": "2020-08-13T03:52:14.967666Z",
     "start_time": "2020-08-13T03:52:11.744182Z"
    },
    "hidden": true
   },
   "outputs": [],
   "source": [
    "protein_raw = pd.read_csv(\n",
    "    \"../../data/protein/E0022_P06_Protein_Matrix_Raw_no_control_update.txt\",\n",
    "    sep='\\t').set_index('Cell_line')\n",
    "protein_median = pd.read_csv(\n",
    "    \"../../data/protein/E0022_P06_Protein_Matrix_Median_no_control_update.txt\",\n",
    "    sep='\\t').set_index('Cell_line')\n",
    "protein_ruv = pd.read_csv(\n",
    "    \"../../data/protein/E0022_P06_Protein_Matrix_ProNorM_no_control_update.txt\",\n",
    "    sep='\\t').set_index('Cell_line')\n",
    "\n",
    "nci_trypsin = pd.read_csv(\"../../data/Kuster/protein_nci_trypsin_common_processed.csv\").set_index('Cell_line')\n",
    "nci_gluc = pd.read_csv(\"../../data/Kuster/protein_nci_gluc_common_processed.csv\").set_index('Cell_line')\n",
    "crc = pd.read_csv(\"../../data/Kuster/protein_crc_trypsin_common_processed.csv\").set_index('Cell_line')"
   ]
  },
  {
   "cell_type": "code",
   "execution_count": 59,
   "metadata": {
    "ExecuteTime": {
     "end_time": "2020-08-13T03:52:15.279734Z",
     "start_time": "2020-08-13T03:52:14.969270Z"
    },
    "hidden": true
   },
   "outputs": [],
   "source": [
    "kuster_trypsin = pd.concat([nci_trypsin, crc])"
   ]
  },
  {
   "cell_type": "code",
   "execution_count": 60,
   "metadata": {
    "ExecuteTime": {
     "end_time": "2020-08-13T03:52:15.435646Z",
     "start_time": "2020-08-13T03:52:15.281627Z"
    },
    "hidden": true
   },
   "outputs": [],
   "source": [
    "kuster_gluc = pd.concat([nci_gluc, crc])"
   ]
  },
  {
   "cell_type": "code",
   "execution_count": 61,
   "metadata": {
    "ExecuteTime": {
     "end_time": "2020-08-13T03:52:16.258135Z",
     "start_time": "2020-08-13T03:52:15.437685Z"
    },
    "hidden": true
   },
   "outputs": [],
   "source": [
    "kuster_trypsin.to_csv(\"../../data/Kuster/protein_combined_common_processed.csv\")"
   ]
  },
  {
   "cell_type": "code",
   "execution_count": 62,
   "metadata": {
    "ExecuteTime": {
     "end_time": "2020-08-13T03:56:44.062763Z",
     "start_time": "2020-08-13T03:52:17.520169Z"
    },
    "hidden": true
   },
   "outputs": [
    {
     "data": {
      "application/vnd.jupyter.widget-view+json": {
       "model_id": "ff735fccc1ad4b95ab7a913f3ca28e12",
       "version_major": 2,
       "version_minor": 0
      },
      "text/plain": [
       "HBox(children=(FloatProgress(value=0.0, max=3425.0), HTML(value='')))"
      ]
     },
     "metadata": {},
     "output_type": "display_data"
    },
    {
     "name": "stdout",
     "output_type": "stream",
     "text": [
      "\n"
     ]
    }
   ],
   "source": [
    "res_trypsin = calc_protein_correlation(protein_ruv, kuster_trypsin, data='protein')"
   ]
  },
  {
   "cell_type": "code",
   "execution_count": 63,
   "metadata": {
    "ExecuteTime": {
     "end_time": "2020-08-13T03:56:49.552765Z",
     "start_time": "2020-08-13T03:56:49.549409Z"
    },
    "hidden": true
   },
   "outputs": [
    {
     "data": {
      "text/plain": [
       "0.35066125391451675"
      ]
     },
     "execution_count": 63,
     "metadata": {},
     "output_type": "execute_result"
    }
   ],
   "source": [
    "np.median(res_trypsin)"
   ]
  },
  {
   "cell_type": "code",
   "execution_count": 64,
   "metadata": {
    "ExecuteTime": {
     "end_time": "2020-08-13T03:58:27.891561Z",
     "start_time": "2020-08-13T03:56:52.235577Z"
    },
    "hidden": true
   },
   "outputs": [
    {
     "data": {
      "application/vnd.jupyter.widget-view+json": {
       "model_id": "ce2d21e5731d4d47aca3e28b1f0cb837",
       "version_major": 2,
       "version_minor": 0
      },
      "text/plain": [
       "HBox(children=(FloatProgress(value=0.0, max=3425.0), HTML(value='')))"
      ]
     },
     "metadata": {},
     "output_type": "display_data"
    },
    {
     "name": "stdout",
     "output_type": "stream",
     "text": [
      "\n"
     ]
    }
   ],
   "source": [
    "res_gluc = calc_protein_correlation(protein_ruv, kuster_gluc, data='protein')"
   ]
  },
  {
   "cell_type": "code",
   "execution_count": 65,
   "metadata": {
    "ExecuteTime": {
     "end_time": "2020-08-13T03:58:52.280101Z",
     "start_time": "2020-08-13T03:58:52.274658Z"
    },
    "hidden": true
   },
   "outputs": [
    {
     "data": {
      "text/plain": [
       "0.30565343240783266"
      ]
     },
     "execution_count": 65,
     "metadata": {},
     "output_type": "execute_result"
    }
   ],
   "source": [
    "np.median(res_gluc)"
   ]
  },
  {
   "cell_type": "code",
   "execution_count": null,
   "metadata": {
    "hidden": true
   },
   "outputs": [],
   "source": []
  }
 ],
 "metadata": {
  "kernelspec": {
   "display_name": "Python 3",
   "language": "python",
   "name": "python3"
  },
  "language_info": {
   "codemirror_mode": {
    "name": "ipython",
    "version": 3
   },
   "file_extension": ".py",
   "mimetype": "text/x-python",
   "name": "python",
   "nbconvert_exporter": "python",
   "pygments_lexer": "ipython3",
   "version": "3.8.5"
  },
  "toc": {
   "base_numbering": 1,
   "nav_menu": {},
   "number_sections": true,
   "sideBar": true,
   "skip_h1_title": false,
   "title_cell": "Table of Contents",
   "title_sidebar": "Contents",
   "toc_cell": false,
   "toc_position": {},
   "toc_section_display": true,
   "toc_window_display": false
  }
 },
 "nbformat": 4,
 "nbformat_minor": 4
}
