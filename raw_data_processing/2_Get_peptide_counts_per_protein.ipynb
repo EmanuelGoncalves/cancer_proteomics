{
 "cells": [
  {
   "cell_type": "markdown",
   "metadata": {},
   "source": [
    "# 2 | Get Peptide Counts per Protein"
   ]
  },
  {
   "cell_type": "markdown",
   "metadata": {},
   "source": [
    "This notebook documents the calculation of the number of peptides recorded in each MS run for each protein. This information is used for filtering the final protein matrix. This code is written in Python. "
   ]
  },
  {
   "cell_type": "markdown",
   "metadata": {},
   "source": [
    "##### Import packages"
   ]
  },
  {
   "cell_type": "code",
   "execution_count": 1,
   "metadata": {},
   "outputs": [],
   "source": [
    "import numpy as np\n",
    "import pandas as pd"
   ]
  },
  {
   "cell_type": "markdown",
   "metadata": {},
   "source": [
    "##### Read in master dataframe"
   ]
  },
  {
   "cell_type": "code",
   "execution_count": 2,
   "metadata": {},
   "outputs": [
    {
     "data": {
      "text/plain": [
       "(210893182, 58)"
      ]
     },
     "execution_count": 2,
     "metadata": {},
     "output_type": "execute_result"
    }
   ],
   "source": [
    "master_df = pd.read_csv('/mnt/scratch/dia/Sanger28Jul21-search-srl-quant.tsv', sep='\\t')\n",
    "master_df.shape"
   ]
  },
  {
   "cell_type": "markdown",
   "metadata": {},
   "source": [
    "##### Filter for proteotypic and global Q value"
   ]
  },
  {
   "cell_type": "code",
   "execution_count": 3,
   "metadata": {},
   "outputs": [
    {
     "data": {
      "text/plain": [
       "(188579050, 58)"
      ]
     },
     "execution_count": 3,
     "metadata": {},
     "output_type": "execute_result"
    }
   ],
   "source": [
    "filter_df = master_df[lambda x: (x['Global.Q.Value'] <= 0.01) & (x['Proteotypic'] == 1)]\n",
    "filter_df.shape"
   ]
  },
  {
   "cell_type": "markdown",
   "metadata": {},
   "source": [
    "##### Create dataframe for peptide counts"
   ]
  },
  {
   "cell_type": "code",
   "execution_count": 4,
   "metadata": {},
   "outputs": [],
   "source": [
    "df = filter_df[['Run','Protein.Ids','Modified.Sequence']].drop_duplicates()"
   ]
  },
  {
   "cell_type": "markdown",
   "metadata": {},
   "source": [
    "##### Get sample-wise peptide counts"
   ]
  },
  {
   "cell_type": "code",
   "execution_count": 5,
   "metadata": {},
   "outputs": [],
   "source": [
    "df_count = df.groupby(['Run','Protein.Ids']).count().reset_index()\n",
    "df_count.to_csv('matrix_diann_normalised_051021/e0022_diann_peptide_counts_samplewise.txt', sep='\\t', index=False)"
   ]
  },
  {
   "cell_type": "markdown",
   "metadata": {},
   "source": [
    "##### Get cohort-wise peptide counts"
   ]
  },
  {
   "cell_type": "code",
   "execution_count": 6,
   "metadata": {},
   "outputs": [],
   "source": [
    "df_hits = df[['Protein.Ids','Modified.Sequence']].drop_duplicates().groupby('Protein.Ids').count().rename(columns={'Modified.Sequence':'Peptides'})\n",
    "df_hits.to_csv('matrix_diann_normalised_051021/e0022_diann_peptide_counts_cohortwise.txt', sep='\\t')"
   ]
  },
  {
   "cell_type": "markdown",
   "metadata": {},
   "source": [
    "##### Get peptide and sample counts for paper"
   ]
  },
  {
   "cell_type": "code",
   "execution_count": 7,
   "metadata": {},
   "outputs": [
    {
     "name": "stdout",
     "output_type": "stream",
     "text": [
      "Total number of modified peptides: 80150\n",
      "Total number of proteins: 8501\n"
     ]
    }
   ],
   "source": [
    "print('Total number of modified peptides:',len(df['Modified.Sequence'].unique().tolist()))\n",
    "print('Total number of proteins:',len(df['Protein.Ids'].unique().tolist()))"
   ]
  },
  {
   "cell_type": "code",
   "execution_count": 8,
   "metadata": {},
   "outputs": [
    {
     "name": "stdout",
     "output_type": "stream",
     "text": [
      "Total number of non-iRT peptides: 80085\n",
      "Total number of iRT peptides: 65\n",
      "Total number of iRT proteins: 3\n"
     ]
    }
   ],
   "source": [
    "print('Total number of non-iRT peptides:',len(df[lambda x: ~x['Protein.Ids'].isin(['ProCal','RMISv2','RT-Kit-WR'])]['Modified.Sequence'].unique().tolist()))\n",
    "print('Total number of iRT peptides:',len(df[lambda x: x['Protein.Ids'].isin(['ProCal','RMISv2','RT-Kit-WR'])]['Modified.Sequence'].unique().tolist()))\n",
    "print('Total number of iRT proteins:',len(df[lambda x: x['Protein.Ids'].isin(['ProCal','RMISv2','RT-Kit-WR'])]['Protein.Ids'].unique().tolist()))"
   ]
  },
  {
   "cell_type": "code",
   "execution_count": 9,
   "metadata": {},
   "outputs": [
    {
     "name": "stdout",
     "output_type": "stream",
     "text": [
      "Total number of samples: 6980\n"
     ]
    }
   ],
   "source": [
    "print('Total number of samples:',len(df['Run'].unique().tolist()))"
   ]
  },
  {
   "cell_type": "code",
   "execution_count": 10,
   "metadata": {},
   "outputs": [
    {
     "name": "stdout",
     "output_type": "stream",
     "text": [
      "Total number of stripped peptides: 80150\n"
     ]
    }
   ],
   "source": [
    "print('Total number of stripped peptides:',len(filter_df['Stripped.Sequence'].unique().tolist()))"
   ]
  }
 ],
 "metadata": {
  "kernelspec": {
   "display_name": "Python 3",
   "language": "python",
   "name": "python3"
  },
  "language_info": {
   "codemirror_mode": {
    "name": "ipython",
    "version": 3
   },
   "file_extension": ".py",
   "mimetype": "text/x-python",
   "name": "python",
   "nbconvert_exporter": "python",
   "pygments_lexer": "ipython3",
   "version": "3.6.8"
  }
 },
 "nbformat": 4,
 "nbformat_minor": 5
}
