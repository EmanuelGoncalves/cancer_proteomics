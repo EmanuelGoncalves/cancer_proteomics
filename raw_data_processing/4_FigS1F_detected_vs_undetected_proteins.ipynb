{
 "cells": [
  {
   "cell_type": "markdown",
   "metadata": {},
   "source": [
    "# 4 | FigS1F Detected vs Undetected Proteins"
   ]
  },
  {
   "cell_type": "markdown",
   "metadata": {},
   "source": [
    "This notebook documents the analysis of RNA-seq expression of detected versus undetected proteins, shown in Fig S1F. "
   ]
  },
  {
   "cell_type": "markdown",
   "metadata": {},
   "source": [
    "##### Import packages"
   ]
  },
  {
   "cell_type": "code",
   "execution_count": 39,
   "metadata": {},
   "outputs": [],
   "source": [
    "import pandas as pd\n",
    "import seaborn as sns\n",
    "import numpy as np\n",
    "import matplotlib.pyplot as plt\n",
    "import scipy.stats\n",
    "import matplotlib\n",
    "from matplotlib.patches import Patch\n",
    "import matplotlib.backends.backend_pdf\n",
    "from matplotlib.patches import Patch\n",
    "import fastcluster\n",
    "from adjustText import adjust_text\n",
    "import matplotlib.font_manager"
   ]
  },
  {
   "cell_type": "code",
   "execution_count": 40,
   "metadata": {},
   "outputs": [],
   "source": [
    "import matplotlib.font_manager\n",
    "plt.rcParams['pdf.fonttype'] = 42\n",
    "plt.rcParams['ps.fonttype'] = 42\n",
    "# plt.rcParams['font.family'] = 'Arial'"
   ]
  },
  {
   "cell_type": "markdown",
   "metadata": {},
   "source": [
    "##### Import datasets"
   ]
  },
  {
   "cell_type": "code",
   "execution_count": 8,
   "metadata": {},
   "outputs": [
    {
     "name": "stdout",
     "output_type": "stream",
     "text": [
      "Protein matrix shape: (949, 6692)\n",
      "Frozen protein matrix shape: (949, 8498)\n",
      "Master mapping file shape: (6864, 12)\n",
      "Mapping file shape: (949, 5)\n"
     ]
    }
   ],
   "source": [
    "df = pd.read_csv('matrix_diann_normalised_051021/e0022_diann_051021_working_matrix_averaged.txt', sep='\\t').set_index('Project_Identifier')\n",
    "df_frozen = pd.read_csv('matrix_diann_normalised_051021/e0022_diann_051021_frozen_matrix_averaged.txt', sep='\\t').set_index('Project_Identifier')\n",
    "df_sample_map = pd.read_csv('matrix_diann_normalised_051021/e0022_diann_051021_sample_mapping_replicates.txt', sep='\\t').set_index('Automatic_MS_filename')\n",
    "df_sample_map['Tissue_type'] = df_sample_map['Tissue_type'].str.replace('Haematopoietic','Hematopoietic')\n",
    "df_map = pd.read_csv('matrix_diann_normalised_051021/e0022_diann_051021_sample_mapping_averaged.txt', sep='\\t').set_index('Project_Identifier')\n",
    "df_map['Tissue_type'] = df_map['Tissue_type'].str.replace('Haematopoietic','Hematopoietic')\n",
    "print('Protein matrix shape:',df.shape)\n",
    "print('Frozen protein matrix shape:',df_frozen.shape)\n",
    "print('Master mapping file shape:', df_sample_map.shape)\n",
    "print('Mapping file shape:',df_map.shape)"
   ]
  },
  {
   "cell_type": "code",
   "execution_count": 9,
   "metadata": {},
   "outputs": [
    {
     "name": "stdout",
     "output_type": "stream",
     "text": [
      "Proteins in mapping: 8498\n"
     ]
    }
   ],
   "source": [
    "prot_gene_df = pd.read_csv('matrix_diann_normalised_051021/uniprot-yourlist_M20211011A084FC58F6BBA219896F365D15F2EB442254481.tab', sep='\\t')\n",
    "print('Proteins in mapping:',len(prot_gene_df))\n",
    "prot_gene_df = prot_gene_df.rename(columns={'Gene names  (primary )':'Gene'}).dropna()[lambda x: x['Entry name'].str.contains('_HUMAN')]\n",
    "prot_gene_df['ID'] = prot_gene_df['Entry']+';'+prot_gene_df['Entry name']\n",
    "prot_gene_dict = prot_gene_df.set_index('ID').to_dict()['Gene']\n",
    "gene_prot_dict = prot_gene_df.set_index('Gene').to_dict()['ID']"
   ]
  },
  {
   "cell_type": "markdown",
   "metadata": {},
   "source": [
    "##### Get median proteins per cell line"
   ]
  },
  {
   "cell_type": "code",
   "execution_count": 10,
   "metadata": {},
   "outputs": [
    {
     "name": "stdout",
     "output_type": "stream",
     "text": [
      "Median proteins per cell line: 5237.0\n",
      "Minimum proteins per cell line: 2523\n",
      "Maximum proteins per cell line: 6251\n"
     ]
    }
   ],
   "source": [
    "print('Median proteins per cell line:',str(df_frozen.count(axis=1).median()))\n",
    "print('Minimum proteins per cell line:',str(df_frozen.count(axis=1).min()))\n",
    "print('Maximum proteins per cell line:',str(df_frozen.count(axis=1).max()))"
   ]
  },
  {
   "cell_type": "markdown",
   "metadata": {},
   "source": [
    "##### Compare RNA abundance of observed vs missing proteins"
   ]
  },
  {
   "cell_type": "code",
   "execution_count": 35,
   "metadata": {},
   "outputs": [
    {
     "name": "stdout",
     "output_type": "stream",
     "text": [
      "MannwhitneyuResult(statistic=14987485.5, pvalue=0.0)\n"
     ]
    },
    {
     "data": {
      "image/png": "[encoded data removed]",
      "text/plain": [
       "<Figure size 360x360 with 1 Axes>"
      ]
     },
     "metadata": {
      "needs_background": "light"
     },
     "output_type": "display_data"
    }
   ],
   "source": [
    "# Import RNA-seq data\n",
    "df_rna = pd.read_csv('../files_e0022_cell_lines_diann_reanalysis/rnaseq_voom.csv.gz').rename(columns={'Unnamed: 0':'index'}).set_index('index')\n",
    "df_rna = df_rna[[x for x in df_rna.columns.tolist() if x in df_map['SIDM'].unique().tolist()]]\n",
    "df_rna = df_rna.rename(columns=df_map.reset_index().set_index('SIDM').to_dict()['Project_Identifier'])\n",
    "\n",
    "# Define detected and undetected genes\n",
    "detected_genes = [x for x in df_rna.index.tolist() if x in list(gene_prot_dict.keys())]\n",
    "undetected_genes =[x for x in df_rna.index.tolist() if x not in list(gene_prot_dict.keys())]\n",
    "\n",
    "# Compare means\n",
    "detected_genes_mean = df_rna.loc[detected_genes].mean(axis=1)\n",
    "undetected_genes_mean = df_rna.loc[undetected_genes].mean(axis=1)\n",
    "print(scipy.stats.mannwhitneyu(undetected_genes_mean, detected_genes_mean))\n",
    "\n",
    "# Generate plot\n",
    "fig = plt.figure(figsize=[5,5])\n",
    "plot = sns.distplot(detected_genes_mean, label='Detected', hist=False)\n",
    "plot = sns.distplot(undetected_genes_mean, label='Undetected', hist=False)\n",
    "plot.set_xlabel('Mean RNA expression', weight='bold')\n",
    "plot.set_ylabel('Frequency', weight='bold')\n",
    "plot.text(0.65,0.8, 'P < 0.0001', transform = plot.transAxes)\n",
    "plt.legend(frameon=False)\n",
    "plt.savefig('Revisions/distribution_mean_rna_exp.pdf', dpi=500, bbox_inches='tight')\n",
    "plt.savefig('Revisions/distribution_mean_rna_exp.png', dpi=500, bbox_inches='tight')\n",
    "plt.show()"
   ]
  }
 ],
 "metadata": {
  "kernelspec": {
   "display_name": "Python 3",
   "language": "python",
   "name": "python3"
  },
  "language_info": {
   "codemirror_mode": {
    "name": "ipython",
    "version": 3
   },
   "file_extension": ".py",
   "mimetype": "text/x-python",
   "name": "python",
   "nbconvert_exporter": "python",
   "pygments_lexer": "ipython3",
   "version": "3.6.8"
  }
 },
 "nbformat": 4,
 "nbformat_minor": 5
}
